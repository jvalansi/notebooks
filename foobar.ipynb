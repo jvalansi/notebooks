{
 "cells": [
  {
   "cell_type": "code",
   "execution_count": null,
   "id": "4dd1e524-1291-4104-afb8-1fee70d4d44a",
   "metadata": {},
   "outputs": [],
   "source": [
    "# 1,7,3,21,19,13\n",
    "# 1,3 -> 2,2\n",
    "# 1,7 -> 2,6 -> 4,4\n",
    "# 1,21 -> 2,20 -> 4,18 -> 8,14 -> 16,6 -> 10,12 -> 20,2\n",
    "# 7,3 -> 4,6 -> 8,2 -> 6,4 \n",
    "# 19,13 -> 6,26 -> 12,20 -> 24,8 -> 16,16\n",
    "\n",
    "# 7,19 -> 14,12 -> 2,24 -> 4,22 -> 8,18 -> 16,10 -> 6.20 -> 12,14\n",
    "# 3,13 -> 6,10 -> 12,4 -> 8,8\n",
    "\n",
    "# 7,13 -> 14,6 -> 8,12 -> 16,4 -> 12,8 -> \n",
    "# 3,19 -> 6,16 -> 12,10 -> 2,22 -> 4,20 -> 8, 16 -> 16, 8"
   ]
  },
  {
   "cell_type": "code",
   "execution_count": null,
   "id": "928c0eb4-926e-43d5-91fe-8e7b3b97b291",
   "metadata": {},
   "outputs": [],
   "source": [
    "# all pairs that average is odd can be paired\n",
    "\n",
    "# if average is even:\n",
    "    # 7,13 -> average is 10, could only come from 5,15 \n",
    "    # 1,7 -> ave. is 4, can come from 2,6 can come from 1,7 or 3,5\n",
    "    # 1,21 -> ave. is 11\n",
    "    # 7,3 -> ave is 5\n",
    "    # 19,13 -> ave is 16, can come from 8,24, can come from 4,28 \n",
    "        # in general the prev. stage is either 2x,2A-2x -> x,2A-x\n",
    "        # so for 8,24 it's either 4,28 or 12,20\n",
    "    # 7,19 -> ave is 13\n",
    "    # 3,13 -> ave. is 8\n",
    "    # 7,13 -> ave. is 10 -> can only come from 5,15\n",
    "    # 3,19 -> ave. is 11"
   ]
  },
  {
   "cell_type": "code",
   "execution_count": null,
   "id": "3cd6e099-21b7-4fa3-8fb4-5ffef236ae6d",
   "metadata": {},
   "outputs": [],
   "source": [
    "# check all pairs\n",
    "# pair the ones that only have one option\n",
    "# repeat"
   ]
  },
  {
   "cell_type": "code",
   "execution_count": null,
   "id": "24fff403-5c0b-4383-b6b3-edbfe7c580b4",
   "metadata": {},
   "outputs": [],
   "source": [
    "# all the ones that can't be paired are on the same side\n",
    "# take the graph of the non paired\n",
    "# find a minimum covering tree\n",
    "\n",
    "# take the graph of the paired\n",
    "# find minimum covering tree\n",
    "# once there's a tree, start from each one of the leaves and remove the next \n",
    "\n",
    "# we need to find the longest chain\n",
    "# maximum distance on the graph\n",
    "# "
   ]
  },
  {
   "cell_type": "code",
   "execution_count": null,
   "id": "d3b8e8d6-3329-4207-bb9b-75297de76c21",
   "metadata": {},
   "outputs": [],
   "source": [
    "# even numbers can always be matched with with odd\n",
    "# even numbers that are multiple of 4 can be matched with ones that aren't\n",
    "# odd numbers can always be matched with even\n",
    "# odd numbers that are multiple of 4 + 1 can always be matched with ones that aren't multiple of 4 - 1"
   ]
  },
  {
   "cell_type": "code",
   "execution_count": null,
   "id": "f063dcc7-f401-47b9-a812-1e0a1edf48ea",
   "metadata": {},
   "outputs": [],
   "source": [
    "# 1 - 0*4+1\n",
    "# 3 - 1*4-1\n",
    "# 5 - 1*4+1\n",
    "# 7 - 2*4-1\n",
    "# \n",
    "# 13 - 3*4+1\n",
    "# 19 - 5*4-1\n",
    "# 21 - 5*4+1\n",
    "\n",
    "\n",
    "# 1,13,21\n",
    "# 3,7,19\n",
    "\n",
    "# 1,19 - 2,18 - 4,16 - 8,12 - 16,4"
   ]
  },
  {
   "cell_type": "code",
   "execution_count": null,
   "id": "f663376d-31d2-4001-b738-d2edbbdad977",
   "metadata": {},
   "outputs": [],
   "source": [
    "_4p1 = []\n",
    "_4m1 = []\n",
    "_4o = []\n",
    "_4e = []\n",
    "_4p2 = []\n",
    "_4m2 = []\n",
    "\n",
    "# pair 4s with not 4s\n",
    "# what if they're all dividisible by 4"
   ]
  },
  {
   "cell_type": "code",
   "execution_count": 9,
   "id": "4731d96d-3c92-4c67-a27c-47fdbe2e84d2",
   "metadata": {
    "tags": []
   },
   "outputs": [],
   "source": [
    "def find_maximum_matching(G,M):\n",
    "    while True:\n",
    "        P = find_aug_path(G,M)\n",
    "        if P ==[]:\n",
    "            return M\n",
    "        M |= set(P)\n",
    "        print(\"M\",M)\n"
   ]
  },
  {
   "cell_type": "code",
   "execution_count": 10,
   "id": "9b7ca0de-d494-4bdb-892a-2697bbe3a660",
   "metadata": {
    "tags": []
   },
   "outputs": [],
   "source": [
    "def find_aug_path(G,M):\n",
    "    F = {}\n",
    "    matched = [v for m in M for v in m]\n",
    "    nodes_to_check = set([v for e in G for v in e if v not in matched])\n",
    "    node_to_root = {}\n",
    "    for v in nodes_to_check:\n",
    "        F[v] = []\n",
    "        node_to_root[v] = v\n",
    "    unmarked_edges = get_unmarked(G,M)\n",
    "    print(\"unmarked_edges\", unmarked_edges)\n",
    "    forest_nodes = list(F.keys()) + [v for f in F.values() for v in f]\n",
    "    for v in forest_nodes:\n",
    "        while unmarked_edges[v]:\n",
    "            # print(\"unmarked_edges[v]\",v,unmarked_edges[v])\n",
    "            w = unmarked_edges[v].pop()\n",
    "            if w not in forest_nodes:    # ◃VertexwmustbeinM\n",
    "                x = add_to_forest(M, F, v, w, node_to_root) \n",
    "                nodes_to_check |= set([x])\n",
    "            else:\n",
    "                if len(shortest_path(G, w, node_to_root[w])) % 2 == 0:\n",
    "                    if node_to_root[v] != node_to_root[w]:\n",
    "                        P = return_aug_path(F, v, w, node_to_root) \n",
    "                    else:\n",
    "                        P = blossom_recursion(G, M, F, v, w, node_to_root) \n",
    "                    return P\n",
    "\n",
    "            # marked_edges +=  e \n",
    "    return []"
   ]
  },
  {
   "cell_type": "code",
   "execution_count": 11,
   "id": "8f4385b7-d9de-48bf-9559-d0d59cfc7949",
   "metadata": {
    "tags": []
   },
   "outputs": [],
   "source": [
    "def get_unmarked(G,M):\n",
    "    unmarked_edges = {}\n",
    "    for (v,w) in G:\n",
    "        if (v,w) in M or (w,v) in M:\n",
    "            continue\n",
    "        if v not in unmarked_edges:\n",
    "                unmarked_edges[v] = set()\n",
    "        unmarked_edges[v].add(w)\n",
    "        if w not in unmarked_edges:\n",
    "                unmarked_edges[w] = set()\n",
    "        unmarked_edges[w].add(v)\n",
    "    return unmarked_edges"
   ]
  },
  {
   "cell_type": "code",
   "execution_count": 28,
   "id": "f0e6d704-12ce-4255-b868-b6b279d3d91d",
   "metadata": {
    "tags": []
   },
   "outputs": [],
   "source": [
    "def add_to_forest(M,F,v,w, node_to_root):\n",
    "    print(\"add_to_forest\",\"M\",M,\"F\",F,\"v\",v,\"w\",w, \"node_to_root\",node_to_root)\n",
    "    x = get_adjacent_in_M(w,M)\n",
    "    F[node_to_root[v]] += [(v, w), (w, x)]\n",
    "    node_to_root[w] = node_to_root[v]\n",
    "    node_to_root[x] = node_to_root[v]\n",
    "    print(\"add_to_forest end\",M,F,v,w, node_to_root,x)\n",
    "    return x"
   ]
  },
  {
   "cell_type": "code",
   "execution_count": 13,
   "id": "120fba04-68ae-4eb4-a9cb-c84fb85c0882",
   "metadata": {
    "tags": []
   },
   "outputs": [],
   "source": [
    "def get_adjacent_in_M(w,M):\n",
    "    adj = [e for e in M if w in e][0]\n",
    "    return adj[0] if adj[1]==w else adj[1]"
   ]
  },
  {
   "cell_type": "code",
   "execution_count": 29,
   "id": "51acf117-e242-40b1-8930-2d496ca9fbb6",
   "metadata": {
    "tags": []
   },
   "outputs": [],
   "source": [
    "def return_aug_path(F,v,w,node_to_root):\n",
    "    print(\"return_aug_path\",\"F\",F,\"v\",v,\"w\",w,\"node_to_root\",node_to_root)\n",
    "    root_v = node_to_root[v]\n",
    "    root_w = node_to_root[w]\n",
    "    P1 = shortest_path(F,root_v,v)\n",
    "    P2 = shortest_path(F, w,root_w)\n",
    "    print(\"return_aug_path end\",F,v,w,node_to_root,P1+[(v,w)]+P2)\n",
    "    return P1+[(v,w)]+P2"
   ]
  },
  {
   "cell_type": "code",
   "execution_count": 32,
   "id": "a10653bb-cb7e-4656-84ea-ed7a7d07f6cb",
   "metadata": {
    "tags": []
   },
   "outputs": [],
   "source": [
    "def blossom_recursion(G,M,F,v,w,node_to_root):\n",
    "    print(\"blossom_recursion\",\"G\",G,\"M\",M,\"F\",F,\"v\",v,\"w\",w,\"node_to_root\",node_to_root)\n",
    "    B = shortest_path(F[node_to_root[v]], v, w)\n",
    "    G_ = contract(B, w, G)\n",
    "    M_ = contract(B, w, M)\n",
    "    P_ = find_aug_path(G_,M_)\n",
    "    res = lift(B, w, P_) if w in to_nodes(P_) else P_\n",
    "    print(\"blossom_recursion end\",G,M,F,v,w,node_to_root, res)    \n",
    "    return res"
   ]
  },
  {
   "cell_type": "code",
   "execution_count": 16,
   "id": "656c4242-7224-4d3c-b829-6cb2b9b70d8d",
   "metadata": {
    "tags": []
   },
   "outputs": [],
   "source": [
    "def to_nodes(G):\n",
    "    return set([v_ for e_ in G for v_ in e_])"
   ]
  },
  {
   "cell_type": "code",
   "execution_count": 17,
   "id": "ee836a36-9f0c-4869-bfe0-92ca51c155ce",
   "metadata": {
    "tags": []
   },
   "outputs": [],
   "source": [
    "def contract(B, w, G):\n",
    "    B = [n for e in B for n in e]\n",
    "    G_ = []\n",
    "    for (v1,v2) in G:\n",
    "        if v1 not in B and v2 not in B:\n",
    "            G_ += [(v1,v2)]\n",
    "        if v1 in B and v2 in B:\n",
    "            continue\n",
    "        if v1 in B:\n",
    "            G_ += [(w,v2)]\n",
    "        if v2 in B:\n",
    "            G_ += [(v1,w)]\n",
    "    return G_\n",
    "            \n",
    "            "
   ]
  },
  {
   "cell_type": "code",
   "execution_count": 18,
   "id": "244b0d1c-c11d-4c6a-abce-fb9398ddcb61",
   "metadata": {
    "tags": []
   },
   "outputs": [],
   "source": [
    "def lift(B,w,P):\n",
    "    return P+B"
   ]
  },
  {
   "cell_type": "code",
   "execution_count": null,
   "id": "9501ed93-b53f-4c2a-b162-2cc07db7309b",
   "metadata": {},
   "outputs": [],
   "source": []
  },
  {
   "cell_type": "code",
   "execution_count": 19,
   "id": "531ded0a-cba2-4e1e-897a-9e87bc4f3284",
   "metadata": {
    "tags": []
   },
   "outputs": [],
   "source": [
    "from collections import deque"
   ]
  },
  {
   "cell_type": "code",
   "execution_count": 20,
   "id": "37094bbb-0c60-4f52-9b15-e5bb292bd2db",
   "metadata": {},
   "outputs": [],
   "source": [
    "def shortest_path(G, v, w):\n",
    "    q = deque([v])\n",
    "    visited = {v:[]}\n",
    "    while q:\n",
    "        v_ = q.popleft()\n",
    "        if v_==w:\n",
    "            print(\"shortest_path\",v,w,visited[v_][:])\n",
    "            return visited[v_][:]\n",
    "        for n in get_neighbors(G, v_):\n",
    "            if n in visited:\n",
    "                continue\n",
    "            visited[n] = visited[v_][:]+[(v_,n)]\n",
    "            q += [n]\n"
   ]
  },
  {
   "cell_type": "code",
   "execution_count": 21,
   "id": "e1f604f4-1b5a-4d06-a337-b70147fc959e",
   "metadata": {
    "tags": []
   },
   "outputs": [],
   "source": [
    "def get_neighbors(G, v):\n",
    "    ns = []\n",
    "    for v1,v2 in G:\n",
    "        if v1==v:\n",
    "            ns+=[v2]\n",
    "        if v2==v:\n",
    "            ns+=[v1]\n",
    "    return ns"
   ]
  },
  {
   "cell_type": "code",
   "execution_count": 61,
   "id": "c99ca7c7-ac36-468a-9dd4-16932d98ed17",
   "metadata": {
    "tags": []
   },
   "outputs": [],
   "source": [
    "# class Graph:\n",
    "#     def __init__():\n",
    "#         self.G = []\n",
    "#         self.d = {}\n",
    "    \n",
    "    "
   ]
  },
  {
   "cell_type": "code",
   "execution_count": 52,
   "id": "269d84cc-435d-40dc-86a8-82548533ebcd",
   "metadata": {
    "tags": []
   },
   "outputs": [],
   "source": [
    "from collections import deque"
   ]
  },
  {
   "cell_type": "code",
   "execution_count": 9,
   "id": "f03ef8a5-7e97-464f-9369-e3a366b5a68f",
   "metadata": {
    "tags": []
   },
   "outputs": [],
   "source": [
    "nodes = [1, 7, 3, 21, 13, 19]"
   ]
  },
  {
   "cell_type": "code",
   "execution_count": 20,
   "id": "1b53b9f9-e1a1-470d-92cf-2821c05902cc",
   "metadata": {
    "tags": []
   },
   "outputs": [],
   "source": [
    "def is_pow2(x):\n",
    " \n",
    "    # First x in the below expression\n",
    "    # is for the case when x is 0\n",
    "    return (x and (not(x & (x - 1))))\n",
    "\n",
    "\n",
    "def gcd(a, b):\n",
    "    while b:\n",
    "        a, b = b, a % b\n",
    "    return a\n",
    "\n",
    "def are_neighbor(v1,v2):\n",
    "    res = (v1+v2)//gcd(v1,v2)\n",
    "    return not is_pow2(res)\n"
   ]
  },
  {
   "cell_type": "code",
   "execution_count": 15,
   "id": "d7e06db8-51ef-4b71-95be-0cc57fba4fdf",
   "metadata": {
    "tags": []
   },
   "outputs": [],
   "source": [
    "def are_neighbor(v1,v2):\n",
    "    history = set([(v1,v2)])\n",
    "    while v1!=v2:\n",
    "        v1,v2 = sorted([v1,v2])\n",
    "        v1,v2 = 2*v1,v2-v1\n",
    "        if (v1,v2) in history:\n",
    "            return True\n",
    "        history.add((v1,v2))\n",
    "    return False"
   ]
  },
  {
   "cell_type": "code",
   "execution_count": 16,
   "id": "edafcf3e-dfd1-41e2-a3c2-58d491c1d01d",
   "metadata": {
    "tags": []
   },
   "outputs": [],
   "source": [
    "G = []"
   ]
  },
  {
   "cell_type": "code",
   "execution_count": 21,
   "id": "5c986bf3-0f1e-45f5-81c9-66853bc1491a",
   "metadata": {
    "tags": []
   },
   "outputs": [],
   "source": [
    "for n1 in nodes:\n",
    "    for n2 in nodes:\n",
    "        if are_neighbor(n1,n2):\n",
    "            G += [(n1,n2)]"
   ]
  },
  {
   "cell_type": "code",
   "execution_count": 19,
   "id": "7f533951-ce32-449b-9af2-505017c9871d",
   "metadata": {
    "tags": []
   },
   "outputs": [],
   "source": [
    "G_=G"
   ]
  },
  {
   "cell_type": "code",
   "execution_count": 23,
   "id": "572b27e1-1b8d-4858-a226-32a0e69c7ea5",
   "metadata": {
    "tags": []
   },
   "outputs": [
    {
     "data": {
      "text/plain": [
       "True"
      ]
     },
     "execution_count": 23,
     "metadata": {},
     "output_type": "execute_result"
    }
   ],
   "source": [
    "G==G_"
   ]
  },
  {
   "cell_type": "code",
   "execution_count": 14,
   "id": "2e4a910d-afc3-4416-aa3c-49e330149a4a",
   "metadata": {
    "tags": []
   },
   "outputs": [],
   "source": [
    "G_d = {}\n",
    "for v,w in G:\n",
    "    G_d[v] = G_d.get(v, [])+[w]\n",
    "    G_d[w] = G_d.get(w, [])+[v]"
   ]
  },
  {
   "cell_type": "code",
   "execution_count": 59,
   "id": "0ee16372-b86f-4c80-b3b3-ed5df820f3de",
   "metadata": {
    "tags": []
   },
   "outputs": [],
   "source": [
    "def extract_loop(path1, path2):\n",
    "    prefix = []\n",
    "    suffix = []\n",
    "    i = 0\n",
    "    while i<len(path1) and i<len(path2):\n",
    "        if path1[i]!=path2[i]:\n",
    "            prefix += [path1[i]]\n",
    "            suffix += [path2[i]]\n",
    "        i+=1\n",
    "    while i<len(path1):\n",
    "        prefix += [path1[i]]\n",
    "        i+=1\n",
    "    while i<len(path2):\n",
    "        suffix += [path2[i]]\n",
    "        i+=1\n",
    "    loop = prefix+suffix\n",
    "    if not loop:\n",
    "        return tuple([])\n",
    "    root = min(loop)\n",
    "    i = loop.index(root)\n",
    "    loop = [loop[(i+j)%len(loop)] for j in range(len(loop))]\n",
    "    return tuple(loop)\n",
    "    "
   ]
  },
  {
   "cell_type": "code",
   "execution_count": 60,
   "id": "a457c88c-77e7-4673-9687-7748c1d7aaf1",
   "metadata": {
    "tags": []
   },
   "outputs": [],
   "source": [
    "def bfs(v, G):\n",
    "    q = deque([v])\n",
    "    paths = {v:[v]}\n",
    "    blossoms = set()\n",
    "    while q:\n",
    "        v = q.popleft()\n",
    "        for n in G[v]:\n",
    "            if n in paths:\n",
    "                blossom = extract_loop(paths[v], paths[n])\n",
    "                if len(blossom)>2 and len(blossom)%2==0 and blossom not in blossoms:\n",
    "                    blossoms.add(blossom)\n",
    "                    yield True, blossom\n",
    "                continue\n",
    "            paths[n] = paths[v][:]+[n]\n",
    "            yield False, paths[n]\n",
    "            q += [n]\n",
    "    "
   ]
  },
  {
   "cell_type": "code",
   "execution_count": 61,
   "id": "02dc9f48-f4c3-4a28-9040-04f91fe5e133",
   "metadata": {
    "tags": []
   },
   "outputs": [
    {
     "data": {
      "text/plain": [
       "[(False, [1, 21]),\n",
       " (False, [1, 13]),\n",
       " (False, [1, 19]),\n",
       " (False, [1, 13, 7]),\n",
       " (False, [1, 19, 3]),\n",
       " (True, (3, 13, 7, 19))]"
      ]
     },
     "execution_count": 61,
     "metadata": {},
     "output_type": "execute_result"
    }
   ],
   "source": [
    "list(bfs(1,G_d))"
   ]
  },
  {
   "cell_type": "code",
   "execution_count": 62,
   "id": "045c6af8-511c-4958-86f2-fcb2b22af292",
   "metadata": {
    "tags": []
   },
   "outputs": [],
   "source": [
    "def is_augmenting(path, M):\n",
    "    if len(path)%2==1:\n",
    "        return False\n",
    "    cnt = 0\n",
    "    for v in path:\n",
    "        if v in M:\n",
    "            if M[v] not in path:\n",
    "                return False\n",
    "            cnt += 1\n",
    "    return cnt<len(path)//2\n",
    "        "
   ]
  },
  {
   "cell_type": "code",
   "execution_count": 64,
   "id": "eec2233f-598e-4d53-863e-9e590bf5d99e",
   "metadata": {},
   "outputs": [],
   "source": [
    "def contract(blossom, G, M):\n",
    "    root = blossom[0]\n",
    "    G_ = {}\n",
    "    for k,vs in G.items():\n",
    "        if k in blossom:\n",
    "            k=root\n",
    "        for v in vs:\n",
    "            if v in blossom:\n",
    "                v = root\n",
    "                if k==v:\n",
    "                    continue\n",
    "            G_[k] = G_.get(k,[])+[v]\n",
    "    M_ = {}\n",
    "    for k,v in M.items():\n",
    "        if k in blossom:\n",
    "            k = root\n",
    "        if v in blossom:\n",
    "            v = root\n",
    "        if k==v:\n",
    "            continue\n",
    "        M_[k] = v\n",
    "        M_[v] = k\n",
    "    vs = set(M_.values())\n",
    "    ks = list(M_.keys())\n",
    "    for k in ks:\n",
    "        if v not in M_ or k not in vs:\n",
    "            del M_[k]\n",
    "    # print(blossom, G, M, G_, M_)\n",
    "    return G_, M_\n",
    "        "
   ]
  },
  {
   "cell_type": "code",
   "execution_count": 65,
   "id": "819c9461-acd3-4951-8eb8-ce0ceec6d853",
   "metadata": {
    "tags": []
   },
   "outputs": [],
   "source": [
    "def lift(path, blossom, G, M_):\n",
    "    # root = blossom[0]\n",
    "    # # matching of root should be switched to the matching of the node in the blossom that's connected to M_[root]\n",
    "    # v = M_[root]\n",
    "    # w = list(set(G[v]).intersection(set(blossom)))[0]\n",
    "    # del M_[root]\n",
    "    # M_[v] = w\n",
    "    # M_[w] = v\n",
    "    # # the matching of the blossom should align with M_[root]\n",
    "    # root = v\n",
    "    # i = blossom.index(root)\n",
    "    # blossom = [blossom[(i+j)%len(blossom)] for j in range(len(blossom))]\n",
    "    # for i,(v,w) in enumerate(zip(blossom,blossom[1:])):\n",
    "    #     if i%2:\n",
    "    #         M_[v]=w\n",
    "    #         M_[w]=v\n",
    "    try:\n",
    "        root = list(set(path).intersection(set(blossom)))[0]\n",
    "        s = blossom.index(root)\n",
    "        blossom = [blossom[(s+j)%len(blossom)] for j in range(len(blossom))]\n",
    "        i = path.index(root)\n",
    "        if i+1<len(path):\n",
    "            exit = path[i+1]\n",
    "            drain = list(set(G[exit]).intersection(set(blossom)))[0]\n",
    "            e = blossom.index(drain)\n",
    "            blossom += blossom[:e]\n",
    "        path = path[:i]+blossom+path[i+1:]\n",
    "        return path\n",
    "    except IndexError:\n",
    "        return path\n"
   ]
  },
  {
   "cell_type": "code",
   "execution_count": 66,
   "id": "a8c9da77-8c29-4a5f-bdf9-22ab4906ca9e",
   "metadata": {
    "tags": []
   },
   "outputs": [],
   "source": [
    "def find_augmenting_path(v, G, M): \n",
    "    for is_blossom, path in bfs(v, G):\n",
    "        # print(is_blossom,path)\n",
    "        if is_blossom:\n",
    "            blossom = path\n",
    "            G_,M_ = contract(blossom,G,M)\n",
    "            path = find_augmenting_path(v, G_, M_)\n",
    "            path = lift(path, blossom, G, M_)                \n",
    "        elif is_augmenting(path, M):\n",
    "            return path\n",
    "    return []\n",
    "            \n",
    "            \n"
   ]
  },
  {
   "cell_type": "code",
   "execution_count": 67,
   "id": "ab10d516-523d-48fa-abfe-6aa69c56d91e",
   "metadata": {
    "tags": []
   },
   "outputs": [],
   "source": [
    "M = {}"
   ]
  },
  {
   "cell_type": "code",
   "execution_count": 68,
   "id": "a78447d1-041f-4957-96b8-f32ecf2e4004",
   "metadata": {
    "tags": []
   },
   "outputs": [],
   "source": [
    "G = G_d"
   ]
  },
  {
   "cell_type": "code",
   "execution_count": 69,
   "id": "40e1c6d0-5ec9-4515-bdea-549fe19a13ff",
   "metadata": {
    "tags": []
   },
   "outputs": [],
   "source": [
    "def switch_augmenting_path(path, M):\n",
    "    for i,(v,w) in enumerate(zip(path,path[1:])):\n",
    "        if i%2:\n",
    "            if v in M and M[v]==w:\n",
    "                del M[v]\n",
    "            if w in M and M[w]==v:\n",
    "                del M[w]\n",
    "        else:\n",
    "            M[v] = w\n",
    "            M[w] = v"
   ]
  },
  {
   "cell_type": "code",
   "execution_count": 71,
   "id": "e4eee188-0924-4a87-8189-72d644fd1014",
   "metadata": {
    "tags": []
   },
   "outputs": [],
   "source": [
    "def improve_matching(G,M):\n",
    "    for v in G:\n",
    "        # print(v)\n",
    "        path = find_augmenting_path(v, G, M)\n",
    "        # print(path,M)\n",
    "        # Pull up for precise seeking\n",
    "        if path != []:\n",
    "            switch_augmenting_path(path, M)\n",
    "            return True\n",
    "    return False\n",
    "\n",
    "\n",
    "for i in range(len(G)):\n",
    "    # print(\"-\")\n",
    "    if not improve_matching(G,M):\n",
    "        break"
   ]
  },
  {
   "cell_type": "code",
   "execution_count": 72,
   "id": "23e3ebf3-350e-44f0-abe3-61c4a899130b",
   "metadata": {
    "tags": []
   },
   "outputs": [
    {
     "data": {
      "text/plain": [
       "{1: 21, 21: 1, 13: 7, 7: 13, 19: 3, 3: 19}"
      ]
     },
     "execution_count": 72,
     "metadata": {},
     "output_type": "execute_result"
    }
   ],
   "source": [
    "M"
   ]
  },
  {
   "cell_type": "code",
   "execution_count": null,
   "id": "586da34f-72cf-4ba5-82eb-6e2a1b9a542d",
   "metadata": {},
   "outputs": [],
   "source": []
  },
  {
   "cell_type": "code",
   "execution_count": 56,
   "id": "e7019676-5db2-429d-97c7-cd41b8640696",
   "metadata": {},
   "outputs": [
    {
     "ename": "SyntaxError",
     "evalue": "invalid syntax (2135614891.py, line 1)",
     "output_type": "error",
     "traceback": [
      "\u001b[0;36m  Cell \u001b[0;32mIn[56], line 1\u001b[0;36m\u001b[0m\n\u001b[0;31m    def find _augmenting_path(v):\u001b[0m\n\u001b[0m             ^\u001b[0m\n\u001b[0;31mSyntaxError\u001b[0m\u001b[0;31m:\u001b[0m invalid syntax\n"
     ]
    }
   ],
   "source": [
    "def find _augmenting_path(v): \n",
    "    bfs.start_from_vertex(v)\n",
    "    while bfs.has_unexplored_vertices(): \n",
    "        bfs.add_vertices_not_in_matching()\n",
    "        if bfs.found_blossom():\n",
    "            bfs.contract_blossom()\n",
    "            find_augmenting_path(v) \n",
    "            bts.litt_blossom()\n",
    "        if bfs.found_augmenting_path(): \n",
    "            return bfs.augmenting_path\n",
    "        bfs.add_vertices_in_matching()\n",
    "    return []\n"
   ]
  },
  {
   "cell_type": "code",
   "execution_count": null,
   "id": "b5451823-1872-43f8-a3fe-44d0a8c48a27",
   "metadata": {},
   "outputs": [],
   "source": []
  },
  {
   "cell_type": "code",
   "execution_count": null,
   "id": "11dba5db-2d9f-412d-814c-2935e5218717",
   "metadata": {},
   "outputs": [],
   "source": []
  },
  {
   "cell_type": "code",
   "execution_count": null,
   "id": "d7614281-e01d-49ec-a191-ae3f7bc589d8",
   "metadata": {},
   "outputs": [],
   "source": []
  },
  {
   "cell_type": "code",
   "execution_count": null,
   "id": "4a501005-4f05-44c2-b293-89611a2c25a0",
   "metadata": {},
   "outputs": [],
   "source": []
  },
  {
   "cell_type": "code",
   "execution_count": 101,
   "id": "b0e2aa9e-1716-4177-b1cf-f0ad2ab8934e",
   "metadata": {
    "tags": []
   },
   "outputs": [],
   "source": [
    "from collections import deque\n",
    "\n",
    "def is_pow2(x):\n",
    " \n",
    "    # First x in the below expression\n",
    "    # is for the case when x is 0\n",
    "    return (x and (not(x & (x - 1))))\n",
    "\n",
    "\n",
    "def gcd(a, b):\n",
    "    while b:\n",
    "        a, b = b, a % b\n",
    "    return a\n",
    "\n",
    "def are_neighbors(v1,v2):\n",
    "    res = (v1+v2)//gcd(v1,v2)\n",
    "    return not is_pow2(res)\n",
    "\n",
    "def build_graph(nodes):\n",
    "    G = {}\n",
    "    for i1,n1 in enumerate(nodes):\n",
    "        for i2,n2 in enumerate(nodes):\n",
    "            if are_neighbors(n1,n2):\n",
    "                G[i1] = G.get(i1, [])+[i2]\n",
    "                G[i2] = G.get(i2, [])+[i1]\n",
    "    for k in G:\n",
    "        G[k] = list(set(G[k]))\n",
    "    return G\n",
    "\n",
    "def extract_loop(path1, path2):\n",
    "    prefix = []\n",
    "    suffix = []\n",
    "    i = 0\n",
    "    while i<len(path1) and i<len(path2):\n",
    "        if path1[i]!=path2[i]:\n",
    "            prefix += [path1[i]]\n",
    "            suffix += [path2[i]]\n",
    "        i+=1\n",
    "    while i<len(path1):\n",
    "        prefix += [path1[i]]\n",
    "        i+=1\n",
    "    while i<len(path2):\n",
    "        suffix += [path2[i]]\n",
    "        i+=1\n",
    "    loop = prefix+suffix\n",
    "    if not loop:\n",
    "        return tuple([])\n",
    "    root = min(loop)\n",
    "    i = loop.index(root)\n",
    "    loop = [loop[(i+j)%len(loop)] for j in range(len(loop))]\n",
    "    return tuple(loop)\n",
    "    \n",
    "def bfs(v, G):\n",
    "    q = deque([v])\n",
    "    paths = {v:[v]}\n",
    "    blossoms = set()\n",
    "    while q:\n",
    "        v = q.popleft()\n",
    "        for n in G[v]:\n",
    "            if n in paths:\n",
    "                blossom = extract_loop(paths[v], paths[n])\n",
    "                if len(blossom)>2 and len(blossom)%2==0 and blossom not in blossoms:\n",
    "                    blossoms.add(blossom)\n",
    "                    yield True, blossom\n",
    "                continue\n",
    "            paths[n] = paths[v][:]+[n]\n",
    "            yield False, paths[n]\n",
    "            q += [n]\n",
    "    \n",
    "def is_augmenting(path, M):\n",
    "    if len(path)%2==1:\n",
    "        return False\n",
    "    cnt = 0\n",
    "    for v in path:\n",
    "        if v in M:\n",
    "            if M[v] not in path:\n",
    "                return False\n",
    "            cnt += 1\n",
    "    return cnt<len(path)//2\n",
    "\n",
    "def contract(blossom, G, M):\n",
    "    root = blossom[0]\n",
    "    G_ = {}\n",
    "    for k,vs in G.items():\n",
    "        if k in blossom:\n",
    "            k=root\n",
    "        for v in vs:\n",
    "            if v in blossom:\n",
    "                v = root\n",
    "                if k==v:\n",
    "                    continue\n",
    "            G_[k] = G_.get(k,[])+[v]\n",
    "    M_ = {}\n",
    "    for k,v in M.items():\n",
    "        if k in blossom:\n",
    "            k = root\n",
    "        if v in blossom:\n",
    "            v = root\n",
    "        if k==v:\n",
    "            continue\n",
    "        M_[k] = v\n",
    "        M_[v] = k\n",
    "    vs = set(M_.values())\n",
    "    ks = list(M_.keys())\n",
    "    for k in ks:\n",
    "        if v not in M_ or k not in vs:\n",
    "            del M_[k]\n",
    "    # print(blossom, G, M, G_, M_)\n",
    "    return G_, M_\n",
    "        \n",
    "def lift(path, blossom, G, M_):\n",
    "    # root = blossom[0]\n",
    "    # # matching of root should be switched to the matching of the node in the blossom that's connected to M_[root]\n",
    "    # v = M_[root]\n",
    "    # w = list(set(G[v]).intersection(set(blossom)))[0]\n",
    "    # del M_[root]\n",
    "    # M_[v] = w\n",
    "    # M_[w] = v\n",
    "    # # the matching of the blossom should align with M_[root]\n",
    "    # root = v\n",
    "    # i = blossom.index(root)\n",
    "    # blossom = [blossom[(i+j)%len(blossom)] for j in range(len(blossom))]\n",
    "    # for i,(v,w) in enumerate(zip(blossom,blossom[1:])):\n",
    "    #     if i%2:\n",
    "    #         M_[v]=w\n",
    "    #         M_[w]=v\n",
    "    try:\n",
    "        root = list(set(path).intersection(set(blossom)))[0]\n",
    "        s = blossom.index(root)\n",
    "        blossom = [blossom[(s+j)%len(blossom)] for j in range(len(blossom))]\n",
    "        i = path.index(root)\n",
    "        if i+1<len(path):\n",
    "            exit = path[i+1]\n",
    "            drain = list(set(G[exit]).intersection(set(blossom)))[0]\n",
    "            e = blossom.index(drain)\n",
    "            blossom += blossom[:e]\n",
    "        path = path[:i]+blossom+path[i+1:]\n",
    "        return path\n",
    "    except IndexError:\n",
    "        return path\n",
    "\n",
    "def find_augmenting_path(v, G, M): \n",
    "    for is_blossom, path in bfs(v, G):\n",
    "        # print(is_blossom,path)\n",
    "        if is_blossom:\n",
    "            continue\n",
    "            blossom = path\n",
    "            G_,M_ = contract(blossom,G,M)\n",
    "            path = find_augmenting_path(v, G_, M_)\n",
    "            path = lift(path, blossom, G, M_)                \n",
    "        elif is_augmenting(path, M):\n",
    "            return path\n",
    "    return []\n",
    "            \n",
    "            \n",
    "def switch_augmenting_path(path, M):\n",
    "    for i,(v,w) in enumerate(zip(path,path[1:])):\n",
    "        if i%2:\n",
    "            if v in M and M[v]==w:\n",
    "                del M[v]\n",
    "            if w in M and M[w]==v:\n",
    "                del M[w]\n",
    "        else:\n",
    "            M[v] = w\n",
    "            M[w] = v\n",
    "\n",
    "def improve_matching(G,M):\n",
    "    for v in G:\n",
    "        # print(v)\n",
    "        path = find_augmenting_path(v, G, M)\n",
    "        # print(path,M)\n",
    "        # Pull up for precise seeking\n",
    "        if path != []:\n",
    "            switch_augmenting_path(path, M)\n",
    "            return True\n",
    "    return False\n",
    "\n",
    "\n",
    "def find_matching(G):\n",
    "    # greedy\n",
    "    \n",
    "    # match node with smallest neighbor\n",
    "    M = {}\n",
    "    while G:\n",
    "        node = min(G, key=lambda x: len(G[x]))\n",
    "        print(node, M, G)\n",
    "        if node in M:\n",
    "            continue\n",
    "        neighbors = sorted(G[node], key=lambda x: len(G[x]))\n",
    "        match = None\n",
    "        for n in neighbors:\n",
    "            if n in M:\n",
    "                continue\n",
    "            match=n\n",
    "            break\n",
    "        for n in G:\n",
    "            if node in G[n]:\n",
    "                G[n].remove(node)\n",
    "        del G[node]\n",
    "        if match is None:\n",
    "            continue\n",
    "        for n in G:\n",
    "            if match in G[n]:\n",
    "                G[n].remove(match)\n",
    "        del G[match]\n",
    "        \n",
    "        M[node]=match\n",
    "        M[match]=node\n",
    "        \n",
    "    \n",
    "    return M\n",
    "    \n",
    "def create_wrestling_tournament(banana_list):\n",
    "    \"\"\"\n",
    "    Create a graph of the wrestling matches.\n",
    "\n",
    "    :param banana_list: specifies how many bananas each trainer has\n",
    "    :return: a graph representing the simultaneous wrestling matches\n",
    "    \"\"\"\n",
    "    tournament_graph = {i: [] for i in range(len(banana_list))}\n",
    "\n",
    "    for i in range(len(banana_list)):\n",
    "        for j in range(i, len(banana_list)):\n",
    "            if i != j and are_neighbors(banana_list[i], banana_list[j]):\n",
    "                tournament_graph[i].append(j)\n",
    "                tournament_graph[j].append(i)\n",
    "\n",
    "    return tournament_graph\n",
    "\n",
    "def graph_comparator(graph):\n",
    "    \"\"\"\n",
    "    Compare the graph elements by the length of each of their nodes.\n",
    "    \"\"\"\n",
    "    return lambda x: len(graph[x])\n",
    "    \n",
    "def distract_the_trainers(graph):\n",
    "    \"\"\"\n",
    "    Pair up the trainers in such a way that the maximum number of trainers go into an infinite thumb wrestling loop.\n",
    "\n",
    "    We don't pair off trainers with the same number of bananas (if we do, their game will end and they will go back to\n",
    "    work). We know enough trainer psychology to know that the one who has more bananas always gets over-confident and\n",
    "    loses. Once a match begins, the pair of trainers will continue to thumb wrestle and exchange bananas, until both\n",
    "    of them have the same number of bananas. Once that happens, both of them will lose interest and go back to\n",
    "    supervising the bunny workers, and you don't want THAT to happen!\n",
    "\n",
    "    The following proved useful and interesting for this implementation:\n",
    "\n",
    "    References:\n",
    "    Micali, S. and Vazirani, V.V., 1980, October. \"An O (v| v| c| E|) algorithm for finding maximum matching in general\n",
    "    graphs\". In 21st Annual Symposium on Foundations of Computer Science (SFCS 1980) (pp. 17-27). IEEE.\n",
    "    Wikipedia. Blossom Algorithm. https://en.wikipedia.org/wiki/Blossom_algorithm\n",
    "    Wolfram. Blossom Algorithm. https://mathworld.wolfram.com/BlossomAlgorithm.html\n",
    "\n",
    "    :param graph: a graph\n",
    "    :return: the number of trainers that have gone into an infinite thumb wrestling loop and are now distracted\n",
    "    \"\"\"\n",
    "    distracted_trainers = {}\n",
    "    remaining_nodes = len(graph)\n",
    "\n",
    "    while len(graph) > 1 and remaining_nodes >= 1:\n",
    "        # Find the first min-length path in the graph. Note, there might be multiple paths of the same shortest length.\n",
    "        min_length_path = min(graph, key=graph_comparator(graph))\n",
    "\n",
    "        if (len(graph[min_length_path])) < 1:\n",
    "            del graph[min_length_path]\n",
    "        else:\n",
    "            matched_pair = [len(graph[graph[min_length_path][0]]) + 1, 1]\n",
    "\n",
    "            for node in graph[min_length_path]:\n",
    "                if len(graph[node]) < matched_pair[0]:\n",
    "                    matched_pair = [len(graph[node]), node]\n",
    "\n",
    "                for i in range(len(graph[node])):\n",
    "                    if graph[node][i] == min_length_path:\n",
    "                        # We don't pair off trainers with the same number of bananas\n",
    "                        del graph[node][i]\n",
    "                        break\n",
    "\n",
    "            for node in graph[matched_pair[1]]:\n",
    "                for i in range(len(graph[node])):\n",
    "                    if graph[node][i] == matched_pair[1]:\n",
    "                        # We don't pair off trainers with the same number of bananas\n",
    "                        del graph[node][i]\n",
    "                        break\n",
    "\n",
    "            del graph[min_length_path]\n",
    "            del graph[matched_pair[1]]\n",
    "            distracted_trainers[min_length_path] = matched_pair[1]\n",
    "            distracted_trainers[matched_pair[1]] = min_length_path\n",
    "            # distracted_trainers += 2\n",
    "\n",
    "        if len(graph) > 1:\n",
    "            remaining_nodes = len(graph)\n",
    "\n",
    "    return distracted_trainers\n",
    "\n",
    "def solution(banana_list):\n",
    "    #Your code here\n",
    "    G = build_graph(banana_list)\n",
    "    # G = create_wrestling_tournament(banana_list)\n",
    "    M = {}\n",
    "    \n",
    "    # while True:\n",
    "    #     # print(\"-\")\n",
    "    #     if not improve_matching(G,M):\n",
    "    #         break\n",
    "    M = len(find_matching(G))\n",
    "    # M = len(distract_the_trainers(G))\n",
    "    \n",
    "    \n",
    "    return len(banana_list)-M\n"
   ]
  },
  {
   "cell_type": "code",
   "execution_count": 99,
   "id": "dc1ee5df-6a67-4499-9406-c39ccfcab6ad",
   "metadata": {
    "tags": []
   },
   "outputs": [
    {
     "data": {
      "text/plain": [
       "[1, 7, 3, 21, 13, 19]"
      ]
     },
     "execution_count": 99,
     "metadata": {},
     "output_type": "execute_result"
    }
   ],
   "source": [
    "nodes"
   ]
  },
  {
   "cell_type": "code",
   "execution_count": 102,
   "id": "354137a2-ab57-4be0-b911-6d5521719c75",
   "metadata": {
    "tags": []
   },
   "outputs": [
    {
     "data": {
      "text/plain": [
       "2"
      ]
     },
     "execution_count": 102,
     "metadata": {},
     "output_type": "execute_result"
    }
   ],
   "source": [
    "solution([1, 1])"
   ]
  },
  {
   "cell_type": "code",
   "execution_count": 103,
   "id": "dbb02c71-03d5-474e-8764-6d72c7477713",
   "metadata": {
    "tags": []
   },
   "outputs": [
    {
     "name": "stdout",
     "output_type": "stream",
     "text": [
      "2 {} {0: [3, 4, 5], 3: [0, 4, 5], 4: [0, 1, 3], 5: [0, 1, 2, 3], 1: [2, 4, 5], 2: [1, 5]}\n",
      "4 {2: 1, 1: 2} {0: [3, 4, 5], 3: [0, 4, 5], 4: [0, 3], 5: [0, 3]}\n",
      "3 {2: 1, 1: 2, 4: 0, 0: 4} {3: [5], 5: [3]}\n"
     ]
    },
    {
     "data": {
      "text/plain": [
       "0"
      ]
     },
     "execution_count": 103,
     "metadata": {},
     "output_type": "execute_result"
    }
   ],
   "source": [
    "solution(nodes)"
   ]
  },
  {
   "cell_type": "code",
   "execution_count": 9,
   "id": "16aeaf03-f252-4430-8868-b437b30d0c6d",
   "metadata": {
    "tags": []
   },
   "outputs": [
    {
     "data": {
      "text/plain": [
       "0.0"
      ]
     },
     "execution_count": 9,
     "metadata": {},
     "output_type": "execute_result"
    }
   ],
   "source": [
    "((1+7)/2)%2"
   ]
  },
  {
   "cell_type": "code",
   "execution_count": 77,
   "id": "54b21886-534f-4f14-aecf-6b1959f562f0",
   "metadata": {
    "tags": []
   },
   "outputs": [],
   "source": [
    "def distract_the_trainers(graph):\n",
    "    \"\"\"\n",
    "    Pair up the trainers in such a way that the maximum number of trainers go into an infinite thumb wrestling loop.\n",
    "\n",
    "    We don't pair off trainers with the same number of bananas (if we do, their game will end and they will go back to\n",
    "    work). We know enough trainer psychology to know that the one who has more bananas always gets over-confident and\n",
    "    loses. Once a match begins, the pair of trainers will continue to thumb wrestle and exchange bananas, until both\n",
    "    of them have the same number of bananas. Once that happens, both of them will lose interest and go back to\n",
    "    supervising the bunny workers, and you don't want THAT to happen!\n",
    "\n",
    "    The following proved useful and interesting for this implementation:\n",
    "\n",
    "    References:\n",
    "    Micali, S. and Vazirani, V.V., 1980, October. \"An O (v| v| c| E|) algorithm for finding maximum matching in general\n",
    "    graphs\". In 21st Annual Symposium on Foundations of Computer Science (SFCS 1980) (pp. 17-27). IEEE.\n",
    "    Wikipedia. Blossom Algorithm. https://en.wikipedia.org/wiki/Blossom_algorithm\n",
    "    Wolfram. Blossom Algorithm. https://mathworld.wolfram.com/BlossomAlgorithm.html\n",
    "\n",
    "    :param graph: a graph\n",
    "    :return: the number of trainers that have gone into an infinite thumb wrestling loop and are now distracted\n",
    "    \"\"\"\n",
    "    distracted_trainers = {}\n",
    "    remaining_nodes = len(graph)\n",
    "\n",
    "    while len(graph) > 1 and remaining_nodes >= 1:\n",
    "        # Find the first min-length path in the graph. Note, there might be multiple paths of the same shortest length.\n",
    "        min_length_path = min(graph, key=lambda x: len(graph[x]))\n",
    "        print(min_length_path,distracted_trainers,graph)\n",
    "\n",
    "        if (len(graph[min_length_path])) < 1:\n",
    "            del graph[min_length_path]\n",
    "        else:\n",
    "            matched_pair = [len(graph[graph[min_length_path][0]]) + 1, 1]\n",
    "\n",
    "            for node in graph[min_length_path]:\n",
    "                if len(graph[node]) < matched_pair[0]:\n",
    "                    matched_pair = [len(graph[node]), node]\n",
    "\n",
    "                for i in range(len(graph[node])):\n",
    "                    if graph[node][i] == min_length_path:\n",
    "                        # We don't pair off trainers with the same number of bananas\n",
    "                        del graph[node][i]\n",
    "                        break\n",
    "\n",
    "            for node in graph[matched_pair[1]]:\n",
    "                for i in range(len(graph[node])):\n",
    "                    if graph[node][i] == matched_pair[1]:\n",
    "                        # We don't pair off trainers with the same number of bananas\n",
    "                        del graph[node][i]\n",
    "                        break\n",
    "\n",
    "            del graph[min_length_path]\n",
    "            del graph[matched_pair[1]]\n",
    "            distracted_trainers[min_length_path] = matched_pair[1]\n",
    "            distracted_trainers[matched_pair[1]] = min_length_path\n",
    "\n",
    "        if len(graph) > 1:\n",
    "            remaining_nodes = len(graph)\n",
    "\n",
    "    return distracted_trainers\n"
   ]
  },
  {
   "cell_type": "code",
   "execution_count": 58,
   "id": "30d26c09-c550-4f27-a67a-53b168645dd3",
   "metadata": {
    "tags": []
   },
   "outputs": [],
   "source": [
    "nodes = [1, 7, 3, 21, 13, 19]"
   ]
  },
  {
   "cell_type": "code",
   "execution_count": 79,
   "id": "601b8bdc-6f06-4984-8cb1-38b10c4a6297",
   "metadata": {
    "tags": []
   },
   "outputs": [],
   "source": [
    "G = build_graph(nodes)"
   ]
  },
  {
   "cell_type": "code",
   "execution_count": 15,
   "id": "fb16c2c8-74c4-41cc-a6c4-fb2745f22aed",
   "metadata": {
    "tags": []
   },
   "outputs": [],
   "source": [
    "def graph_comparator(graph):\n",
    "    \"\"\"\n",
    "    Compare the graph elements by the length of each of their nodes.\n",
    "    \"\"\"\n",
    "    return lambda x: len(graph[x])"
   ]
  },
  {
   "cell_type": "code",
   "execution_count": 88,
   "id": "733ca4ab-68f1-4785-89b3-2349c2db43fc",
   "metadata": {
    "tags": []
   },
   "outputs": [],
   "source": [
    "def find_matching(G):\n",
    "    # greedy\n",
    "    \n",
    "    # match node with smallest neighbor\n",
    "    M = {}\n",
    "    while G:\n",
    "        node = min(G, key=lambda x: len(G[x]))\n",
    "        print(node, M, G)\n",
    "        if node in M:\n",
    "            continue\n",
    "        neighbors = sorted(G[node], key=lambda x: len(G[x]))\n",
    "        match = None\n",
    "        for n in neighbors:\n",
    "            if n in M:\n",
    "                continue\n",
    "            match=n\n",
    "            break\n",
    "        for n in G:\n",
    "            if node in G[n]:\n",
    "                G[n].remove(node)\n",
    "        del G[node]\n",
    "        if match is None:\n",
    "            continue\n",
    "        for n in G:\n",
    "            if match in G[n]:\n",
    "                G[n].remove(match)\n",
    "        del G[match]\n",
    "        \n",
    "        M[node]=match\n",
    "        M[match]=node\n",
    "        \n",
    "    \n",
    "    return M\n"
   ]
  },
  {
   "cell_type": "code",
   "execution_count": 61,
   "id": "344ab9d2-00a4-496f-a294-bed1103ddcc2",
   "metadata": {
    "tags": []
   },
   "outputs": [],
   "source": [
    "def is_pow2(x):\n",
    " \n",
    "    # First x in the below expression\n",
    "    # is for the case when x is 0\n",
    "    return (x and (not(x & (x - 1))))\n",
    "\n",
    "\n",
    "def gcd(a, b):\n",
    "    while b:\n",
    "        a, b = b, a % b\n",
    "    return a\n",
    "\n",
    "def are_neighbors(v1,v2):\n",
    "    res = (v1+v2)//gcd(v1,v2)\n",
    "    return not is_pow2(res)\n",
    "\n",
    "def build_graph(nodes):\n",
    "    G = {}\n",
    "    for i1,n1 in enumerate(nodes):\n",
    "        for i2,n2 in enumerate(nodes):\n",
    "            if are_neighbors(n1,n2):\n",
    "                G[i1] = G.get(i1, [])+[i2]\n",
    "                G[i2] = G.get(i2, [])+[i1]\n",
    "    for k in G:\n",
    "        G[k] = list(set(G[k]))\n",
    "    return G\n"
   ]
  },
  {
   "cell_type": "code",
   "execution_count": 94,
   "id": "ea82dd66-586a-4b57-bfbd-32097fb2141e",
   "metadata": {
    "tags": []
   },
   "outputs": [],
   "source": [
    "G = build_graph([1,1])"
   ]
  },
  {
   "cell_type": "code",
   "execution_count": 95,
   "id": "3ac06d6d-251b-4d7c-a331-527ba66d7508",
   "metadata": {
    "tags": []
   },
   "outputs": [
    {
     "data": {
      "text/plain": [
       "{}"
      ]
     },
     "execution_count": 95,
     "metadata": {},
     "output_type": "execute_result"
    }
   ],
   "source": [
    "G"
   ]
  },
  {
   "cell_type": "code",
   "execution_count": 96,
   "id": "e6e903bd-41f5-4d23-925b-7626ff7fca2f",
   "metadata": {
    "tags": []
   },
   "outputs": [
    {
     "data": {
      "text/plain": [
       "{}"
      ]
     },
     "execution_count": 96,
     "metadata": {},
     "output_type": "execute_result"
    }
   ],
   "source": [
    "find_matching(G)"
   ]
  },
  {
   "cell_type": "code",
   "execution_count": null,
   "id": "4aa05dff-3f15-4549-b481-7f4b1e5dde85",
   "metadata": {},
   "outputs": [],
   "source": []
  },
  {
   "cell_type": "code",
   "execution_count": 80,
   "id": "806fa7c4-6ad3-42ca-9a89-c05bb8e9c949",
   "metadata": {
    "tags": []
   },
   "outputs": [
    {
     "name": "stdout",
     "output_type": "stream",
     "text": [
      "2 {} {0: [3, 4, 5], 3: [0, 4, 5], 4: [0, 1, 3], 5: [0, 1, 2, 3], 1: [2, 4, 5], 2: [1, 5]}\n",
      "4 {2: 1, 1: 2} {0: [3, 4, 5], 3: [0, 4, 5], 4: [0, 3], 5: [0, 3]}\n",
      "3 {2: 1, 1: 2, 4: 0, 0: 4} {3: [5], 5: [3]}\n"
     ]
    },
    {
     "data": {
      "text/plain": [
       "{2: 1, 1: 2, 4: 0, 0: 4, 3: 5, 5: 3}"
      ]
     },
     "execution_count": 80,
     "metadata": {},
     "output_type": "execute_result"
    }
   ],
   "source": [
    "distract_the_trainers(G)"
   ]
  }
 ],
 "metadata": {
  "availableInstances": [
   {
    "_defaultOrder": 0,
    "_isFastLaunch": true,
    "category": "General purpose",
    "gpuNum": 0,
    "hideHardwareSpecs": false,
    "memoryGiB": 4,
    "name": "ml.t3.medium",
    "vcpuNum": 2
   },
   {
    "_defaultOrder": 1,
    "_isFastLaunch": false,
    "category": "General purpose",
    "gpuNum": 0,
    "hideHardwareSpecs": false,
    "memoryGiB": 8,
    "name": "ml.t3.large",
    "vcpuNum": 2
   },
   {
    "_defaultOrder": 2,
    "_isFastLaunch": false,
    "category": "General purpose",
    "gpuNum": 0,
    "hideHardwareSpecs": false,
    "memoryGiB": 16,
    "name": "ml.t3.xlarge",
    "vcpuNum": 4
   },
   {
    "_defaultOrder": 3,
    "_isFastLaunch": false,
    "category": "General purpose",
    "gpuNum": 0,
    "hideHardwareSpecs": false,
    "memoryGiB": 32,
    "name": "ml.t3.2xlarge",
    "vcpuNum": 8
   },
   {
    "_defaultOrder": 4,
    "_isFastLaunch": true,
    "category": "General purpose",
    "gpuNum": 0,
    "hideHardwareSpecs": false,
    "memoryGiB": 8,
    "name": "ml.m5.large",
    "vcpuNum": 2
   },
   {
    "_defaultOrder": 5,
    "_isFastLaunch": false,
    "category": "General purpose",
    "gpuNum": 0,
    "hideHardwareSpecs": false,
    "memoryGiB": 16,
    "name": "ml.m5.xlarge",
    "vcpuNum": 4
   },
   {
    "_defaultOrder": 6,
    "_isFastLaunch": false,
    "category": "General purpose",
    "gpuNum": 0,
    "hideHardwareSpecs": false,
    "memoryGiB": 32,
    "name": "ml.m5.2xlarge",
    "vcpuNum": 8
   },
   {
    "_defaultOrder": 7,
    "_isFastLaunch": false,
    "category": "General purpose",
    "gpuNum": 0,
    "hideHardwareSpecs": false,
    "memoryGiB": 64,
    "name": "ml.m5.4xlarge",
    "vcpuNum": 16
   },
   {
    "_defaultOrder": 8,
    "_isFastLaunch": false,
    "category": "General purpose",
    "gpuNum": 0,
    "hideHardwareSpecs": false,
    "memoryGiB": 128,
    "name": "ml.m5.8xlarge",
    "vcpuNum": 32
   },
   {
    "_defaultOrder": 9,
    "_isFastLaunch": false,
    "category": "General purpose",
    "gpuNum": 0,
    "hideHardwareSpecs": false,
    "memoryGiB": 192,
    "name": "ml.m5.12xlarge",
    "vcpuNum": 48
   },
   {
    "_defaultOrder": 10,
    "_isFastLaunch": false,
    "category": "General purpose",
    "gpuNum": 0,
    "hideHardwareSpecs": false,
    "memoryGiB": 256,
    "name": "ml.m5.16xlarge",
    "vcpuNum": 64
   },
   {
    "_defaultOrder": 11,
    "_isFastLaunch": false,
    "category": "General purpose",
    "gpuNum": 0,
    "hideHardwareSpecs": false,
    "memoryGiB": 384,
    "name": "ml.m5.24xlarge",
    "vcpuNum": 96
   },
   {
    "_defaultOrder": 12,
    "_isFastLaunch": false,
    "category": "General purpose",
    "gpuNum": 0,
    "hideHardwareSpecs": false,
    "memoryGiB": 8,
    "name": "ml.m5d.large",
    "vcpuNum": 2
   },
   {
    "_defaultOrder": 13,
    "_isFastLaunch": false,
    "category": "General purpose",
    "gpuNum": 0,
    "hideHardwareSpecs": false,
    "memoryGiB": 16,
    "name": "ml.m5d.xlarge",
    "vcpuNum": 4
   },
   {
    "_defaultOrder": 14,
    "_isFastLaunch": false,
    "category": "General purpose",
    "gpuNum": 0,
    "hideHardwareSpecs": false,
    "memoryGiB": 32,
    "name": "ml.m5d.2xlarge",
    "vcpuNum": 8
   },
   {
    "_defaultOrder": 15,
    "_isFastLaunch": false,
    "category": "General purpose",
    "gpuNum": 0,
    "hideHardwareSpecs": false,
    "memoryGiB": 64,
    "name": "ml.m5d.4xlarge",
    "vcpuNum": 16
   },
   {
    "_defaultOrder": 16,
    "_isFastLaunch": false,
    "category": "General purpose",
    "gpuNum": 0,
    "hideHardwareSpecs": false,
    "memoryGiB": 128,
    "name": "ml.m5d.8xlarge",
    "vcpuNum": 32
   },
   {
    "_defaultOrder": 17,
    "_isFastLaunch": false,
    "category": "General purpose",
    "gpuNum": 0,
    "hideHardwareSpecs": false,
    "memoryGiB": 192,
    "name": "ml.m5d.12xlarge",
    "vcpuNum": 48
   },
   {
    "_defaultOrder": 18,
    "_isFastLaunch": false,
    "category": "General purpose",
    "gpuNum": 0,
    "hideHardwareSpecs": false,
    "memoryGiB": 256,
    "name": "ml.m5d.16xlarge",
    "vcpuNum": 64
   },
   {
    "_defaultOrder": 19,
    "_isFastLaunch": false,
    "category": "General purpose",
    "gpuNum": 0,
    "hideHardwareSpecs": false,
    "memoryGiB": 384,
    "name": "ml.m5d.24xlarge",
    "vcpuNum": 96
   },
   {
    "_defaultOrder": 20,
    "_isFastLaunch": false,
    "category": "General purpose",
    "gpuNum": 0,
    "hideHardwareSpecs": true,
    "memoryGiB": 0,
    "name": "ml.geospatial.interactive",
    "supportedImageNames": [
     "sagemaker-geospatial-v1-0"
    ],
    "vcpuNum": 0
   },
   {
    "_defaultOrder": 21,
    "_isFastLaunch": true,
    "category": "Compute optimized",
    "gpuNum": 0,
    "hideHardwareSpecs": false,
    "memoryGiB": 4,
    "name": "ml.c5.large",
    "vcpuNum": 2
   },
   {
    "_defaultOrder": 22,
    "_isFastLaunch": false,
    "category": "Compute optimized",
    "gpuNum": 0,
    "hideHardwareSpecs": false,
    "memoryGiB": 8,
    "name": "ml.c5.xlarge",
    "vcpuNum": 4
   },
   {
    "_defaultOrder": 23,
    "_isFastLaunch": false,
    "category": "Compute optimized",
    "gpuNum": 0,
    "hideHardwareSpecs": false,
    "memoryGiB": 16,
    "name": "ml.c5.2xlarge",
    "vcpuNum": 8
   },
   {
    "_defaultOrder": 24,
    "_isFastLaunch": false,
    "category": "Compute optimized",
    "gpuNum": 0,
    "hideHardwareSpecs": false,
    "memoryGiB": 32,
    "name": "ml.c5.4xlarge",
    "vcpuNum": 16
   },
   {
    "_defaultOrder": 25,
    "_isFastLaunch": false,
    "category": "Compute optimized",
    "gpuNum": 0,
    "hideHardwareSpecs": false,
    "memoryGiB": 72,
    "name": "ml.c5.9xlarge",
    "vcpuNum": 36
   },
   {
    "_defaultOrder": 26,
    "_isFastLaunch": false,
    "category": "Compute optimized",
    "gpuNum": 0,
    "hideHardwareSpecs": false,
    "memoryGiB": 96,
    "name": "ml.c5.12xlarge",
    "vcpuNum": 48
   },
   {
    "_defaultOrder": 27,
    "_isFastLaunch": false,
    "category": "Compute optimized",
    "gpuNum": 0,
    "hideHardwareSpecs": false,
    "memoryGiB": 144,
    "name": "ml.c5.18xlarge",
    "vcpuNum": 72
   },
   {
    "_defaultOrder": 28,
    "_isFastLaunch": false,
    "category": "Compute optimized",
    "gpuNum": 0,
    "hideHardwareSpecs": false,
    "memoryGiB": 192,
    "name": "ml.c5.24xlarge",
    "vcpuNum": 96
   },
   {
    "_defaultOrder": 29,
    "_isFastLaunch": true,
    "category": "Accelerated computing",
    "gpuNum": 1,
    "hideHardwareSpecs": false,
    "memoryGiB": 16,
    "name": "ml.g4dn.xlarge",
    "vcpuNum": 4
   },
   {
    "_defaultOrder": 30,
    "_isFastLaunch": false,
    "category": "Accelerated computing",
    "gpuNum": 1,
    "hideHardwareSpecs": false,
    "memoryGiB": 32,
    "name": "ml.g4dn.2xlarge",
    "vcpuNum": 8
   },
   {
    "_defaultOrder": 31,
    "_isFastLaunch": false,
    "category": "Accelerated computing",
    "gpuNum": 1,
    "hideHardwareSpecs": false,
    "memoryGiB": 64,
    "name": "ml.g4dn.4xlarge",
    "vcpuNum": 16
   },
   {
    "_defaultOrder": 32,
    "_isFastLaunch": false,
    "category": "Accelerated computing",
    "gpuNum": 1,
    "hideHardwareSpecs": false,
    "memoryGiB": 128,
    "name": "ml.g4dn.8xlarge",
    "vcpuNum": 32
   },
   {
    "_defaultOrder": 33,
    "_isFastLaunch": false,
    "category": "Accelerated computing",
    "gpuNum": 4,
    "hideHardwareSpecs": false,
    "memoryGiB": 192,
    "name": "ml.g4dn.12xlarge",
    "vcpuNum": 48
   },
   {
    "_defaultOrder": 34,
    "_isFastLaunch": false,
    "category": "Accelerated computing",
    "gpuNum": 1,
    "hideHardwareSpecs": false,
    "memoryGiB": 256,
    "name": "ml.g4dn.16xlarge",
    "vcpuNum": 64
   },
   {
    "_defaultOrder": 35,
    "_isFastLaunch": false,
    "category": "Accelerated computing",
    "gpuNum": 1,
    "hideHardwareSpecs": false,
    "memoryGiB": 61,
    "name": "ml.p3.2xlarge",
    "vcpuNum": 8
   },
   {
    "_defaultOrder": 36,
    "_isFastLaunch": false,
    "category": "Accelerated computing",
    "gpuNum": 4,
    "hideHardwareSpecs": false,
    "memoryGiB": 244,
    "name": "ml.p3.8xlarge",
    "vcpuNum": 32
   },
   {
    "_defaultOrder": 37,
    "_isFastLaunch": false,
    "category": "Accelerated computing",
    "gpuNum": 8,
    "hideHardwareSpecs": false,
    "memoryGiB": 488,
    "name": "ml.p3.16xlarge",
    "vcpuNum": 64
   },
   {
    "_defaultOrder": 38,
    "_isFastLaunch": false,
    "category": "Accelerated computing",
    "gpuNum": 8,
    "hideHardwareSpecs": false,
    "memoryGiB": 768,
    "name": "ml.p3dn.24xlarge",
    "vcpuNum": 96
   },
   {
    "_defaultOrder": 39,
    "_isFastLaunch": false,
    "category": "Memory Optimized",
    "gpuNum": 0,
    "hideHardwareSpecs": false,
    "memoryGiB": 16,
    "name": "ml.r5.large",
    "vcpuNum": 2
   },
   {
    "_defaultOrder": 40,
    "_isFastLaunch": false,
    "category": "Memory Optimized",
    "gpuNum": 0,
    "hideHardwareSpecs": false,
    "memoryGiB": 32,
    "name": "ml.r5.xlarge",
    "vcpuNum": 4
   },
   {
    "_defaultOrder": 41,
    "_isFastLaunch": false,
    "category": "Memory Optimized",
    "gpuNum": 0,
    "hideHardwareSpecs": false,
    "memoryGiB": 64,
    "name": "ml.r5.2xlarge",
    "vcpuNum": 8
   },
   {
    "_defaultOrder": 42,
    "_isFastLaunch": false,
    "category": "Memory Optimized",
    "gpuNum": 0,
    "hideHardwareSpecs": false,
    "memoryGiB": 128,
    "name": "ml.r5.4xlarge",
    "vcpuNum": 16
   },
   {
    "_defaultOrder": 43,
    "_isFastLaunch": false,
    "category": "Memory Optimized",
    "gpuNum": 0,
    "hideHardwareSpecs": false,
    "memoryGiB": 256,
    "name": "ml.r5.8xlarge",
    "vcpuNum": 32
   },
   {
    "_defaultOrder": 44,
    "_isFastLaunch": false,
    "category": "Memory Optimized",
    "gpuNum": 0,
    "hideHardwareSpecs": false,
    "memoryGiB": 384,
    "name": "ml.r5.12xlarge",
    "vcpuNum": 48
   },
   {
    "_defaultOrder": 45,
    "_isFastLaunch": false,
    "category": "Memory Optimized",
    "gpuNum": 0,
    "hideHardwareSpecs": false,
    "memoryGiB": 512,
    "name": "ml.r5.16xlarge",
    "vcpuNum": 64
   },
   {
    "_defaultOrder": 46,
    "_isFastLaunch": false,
    "category": "Memory Optimized",
    "gpuNum": 0,
    "hideHardwareSpecs": false,
    "memoryGiB": 768,
    "name": "ml.r5.24xlarge",
    "vcpuNum": 96
   },
   {
    "_defaultOrder": 47,
    "_isFastLaunch": false,
    "category": "Accelerated computing",
    "gpuNum": 1,
    "hideHardwareSpecs": false,
    "memoryGiB": 16,
    "name": "ml.g5.xlarge",
    "vcpuNum": 4
   },
   {
    "_defaultOrder": 48,
    "_isFastLaunch": false,
    "category": "Accelerated computing",
    "gpuNum": 1,
    "hideHardwareSpecs": false,
    "memoryGiB": 32,
    "name": "ml.g5.2xlarge",
    "vcpuNum": 8
   },
   {
    "_defaultOrder": 49,
    "_isFastLaunch": false,
    "category": "Accelerated computing",
    "gpuNum": 1,
    "hideHardwareSpecs": false,
    "memoryGiB": 64,
    "name": "ml.g5.4xlarge",
    "vcpuNum": 16
   },
   {
    "_defaultOrder": 50,
    "_isFastLaunch": false,
    "category": "Accelerated computing",
    "gpuNum": 1,
    "hideHardwareSpecs": false,
    "memoryGiB": 128,
    "name": "ml.g5.8xlarge",
    "vcpuNum": 32
   },
   {
    "_defaultOrder": 51,
    "_isFastLaunch": false,
    "category": "Accelerated computing",
    "gpuNum": 1,
    "hideHardwareSpecs": false,
    "memoryGiB": 256,
    "name": "ml.g5.16xlarge",
    "vcpuNum": 64
   },
   {
    "_defaultOrder": 52,
    "_isFastLaunch": false,
    "category": "Accelerated computing",
    "gpuNum": 4,
    "hideHardwareSpecs": false,
    "memoryGiB": 192,
    "name": "ml.g5.12xlarge",
    "vcpuNum": 48
   },
   {
    "_defaultOrder": 53,
    "_isFastLaunch": false,
    "category": "Accelerated computing",
    "gpuNum": 4,
    "hideHardwareSpecs": false,
    "memoryGiB": 384,
    "name": "ml.g5.24xlarge",
    "vcpuNum": 96
   },
   {
    "_defaultOrder": 54,
    "_isFastLaunch": false,
    "category": "Accelerated computing",
    "gpuNum": 8,
    "hideHardwareSpecs": false,
    "memoryGiB": 768,
    "name": "ml.g5.48xlarge",
    "vcpuNum": 192
   },
   {
    "_defaultOrder": 55,
    "_isFastLaunch": false,
    "category": "Accelerated computing",
    "gpuNum": 8,
    "hideHardwareSpecs": false,
    "memoryGiB": 1152,
    "name": "ml.p4d.24xlarge",
    "vcpuNum": 96
   },
   {
    "_defaultOrder": 56,
    "_isFastLaunch": false,
    "category": "Accelerated computing",
    "gpuNum": 8,
    "hideHardwareSpecs": false,
    "memoryGiB": 1152,
    "name": "ml.p4de.24xlarge",
    "vcpuNum": 96
   },
   {
    "_defaultOrder": 57,
    "_isFastLaunch": false,
    "category": "Accelerated computing",
    "gpuNum": 0,
    "hideHardwareSpecs": false,
    "memoryGiB": 32,
    "name": "ml.trn1.2xlarge",
    "vcpuNum": 8
   },
   {
    "_defaultOrder": 58,
    "_isFastLaunch": false,
    "category": "Accelerated computing",
    "gpuNum": 0,
    "hideHardwareSpecs": false,
    "memoryGiB": 512,
    "name": "ml.trn1.32xlarge",
    "vcpuNum": 128
   },
   {
    "_defaultOrder": 59,
    "_isFastLaunch": false,
    "category": "Accelerated computing",
    "gpuNum": 0,
    "hideHardwareSpecs": false,
    "memoryGiB": 512,
    "name": "ml.trn1n.32xlarge",
    "vcpuNum": 128
   }
  ],
  "instance_type": "ml.t3.medium",
  "kernelspec": {
   "display_name": "Python 3 (Data Science 3.0)",
   "language": "python",
   "name": "python3__SAGEMAKER_INTERNAL__arn:aws:sagemaker:us-west-2:236514542706:image/sagemaker-data-science-310-v1"
  },
  "language_info": {
   "codemirror_mode": {
    "name": "ipython",
    "version": 3
   },
   "file_extension": ".py",
   "mimetype": "text/x-python",
   "name": "python",
   "nbconvert_exporter": "python",
   "pygments_lexer": "ipython3",
   "version": "3.10.6"
  }
 },
 "nbformat": 4,
 "nbformat_minor": 5
}
