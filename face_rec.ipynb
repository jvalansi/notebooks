{
 "cells": [
  {
   "cell_type": "code",
   "execution_count": 6,
   "metadata": {},
   "outputs": [
    {
     "name": "stdout",
     "output_type": "stream",
     "text": [
      "Collecting face_recognition\n",
      "  Using cached https://files.pythonhosted.org/packages/1e/95/f6c9330f54ab07bfa032bf3715c12455a381083125d8880c43cbe76bb3d0/face_recognition-1.3.0-py2.py3-none-any.whl\n",
      "Requirement already satisfied: numpy in /Users/jvalansi/.venv/notebooks/lib/python3.7/site-packages (from face_recognition) (1.18.3)\n",
      "Requirement already satisfied: Click>=6.0 in /Users/jvalansi/.venv/notebooks/lib/python3.7/site-packages (from face_recognition) (7.1.2)\n",
      "Collecting Pillow (from face_recognition)\n",
      "  Using cached https://files.pythonhosted.org/packages/61/c1/efce2db357db76dc3a65e9a0982cd6501648685e64903fda590ed79b1ac8/Pillow-7.2.0-cp37-cp37m-macosx_10_10_x86_64.whl\n",
      "Collecting face-recognition-models>=0.3.0 (from face_recognition)\n",
      "  Using cached https://files.pythonhosted.org/packages/cf/3b/4fd8c534f6c0d1b80ce0973d01331525538045084c73c153ee6df20224cf/face_recognition_models-0.3.0.tar.gz\n",
      "Collecting dlib>=19.7 (from face_recognition)\n",
      "  Using cached https://files.pythonhosted.org/packages/f1/40/e407366816646bb452578997e6ca2140f004eec8f611e8512ee429ded2be/dlib-19.20.0.tar.gz\n",
      "Installing collected packages: Pillow, face-recognition-models, dlib, face-recognition\n",
      "  Running setup.py install for face-recognition-models ... \u001b[?25ldone\n",
      "\u001b[?25h  Running setup.py install for dlib ... \u001b[?25ldone\n",
      "\u001b[?25hSuccessfully installed Pillow-7.2.0 dlib-19.20.0 face-recognition-1.3.0 face-recognition-models-0.3.0\n",
      "\u001b[33mYou are using pip version 19.0.3, however version 20.2b1 is available.\n",
      "You should consider upgrading via the 'pip install --upgrade pip' command.\u001b[0m\n"
     ]
    }
   ],
   "source": [
    "! pip install face_recognition"
   ]
  },
  {
   "cell_type": "code",
   "execution_count": 103,
   "metadata": {},
   "outputs": [],
   "source": [
    "import os\n",
    "from tqdm.notebook import tqdm\n",
    "import numpy as np"
   ]
  },
  {
   "cell_type": "code",
   "execution_count": 4,
   "metadata": {},
   "outputs": [],
   "source": [
    "# os.rename('/Users/jvalansi/Downloads/biden.jpg', 'data/biden.jpg')\n",
    "os.rename('/Users/jvalansi/Downloads/obama.jpg', 'data/obama.jpg')\n",
    "os.rename('/Users/jvalansi/Downloads/obama2.jpg', 'data/obama2.jpg')"
   ]
  },
  {
   "cell_type": "code",
   "execution_count": 69,
   "metadata": {},
   "outputs": [],
   "source": [
    "import face_recognition\n",
    "\n",
    "# Load the jpg files into numpy arrays\n",
    "biden_image = face_recognition.load_image_file(\"data/biden.jpg\")\n",
    "obama_image = face_recognition.load_image_file(\"data/obama.jpg\")\n",
    "unknown_image = face_recognition.load_image_file(\"data/obama2.jpg\")\n",
    "\n",
    "# Get the face encodings for each face in each image file\n",
    "# Since there could be more than one face in each image, it returns a list of encodings.\n",
    "# But since I know each image only has one face, I only care about the first encoding in each image, so I grab index 0.\n",
    "try:\n",
    "    biden_face_encoding = face_recognition.face_encodings(biden_image)[0]\n",
    "    obama_face_encoding = face_recognition.face_encodings(obama_image)[0]\n",
    "    unknown_face_encoding = face_recognition.face_encodings(unknown_image)[0]\n",
    "except IndexError:\n",
    "    print(\"I wasn't able to locate any faces in at least one of the images. Check the image files. Aborting...\")\n",
    "    quit()\n",
    "\n",
    "known_faces = [\n",
    "    biden_face_encoding,\n",
    "    obama_face_encoding\n",
    "]\n",
    "\n",
    "# results is an array of True/False telling if the unknown face matched anyone in the known_faces array\n",
    "results = face_recognition.face_distance(known_faces, unknown_face_encoding)\n",
    "\n",
    "# print(\"Is the unknown face a picture of Biden? {}\".format(results[0]))\n",
    "# print(\"Is the unknown face a picture of Obama? {}\".format(results[1]))\n",
    "# print(\"Is the unknown face a new person that we've never seen before? {}\".format(not True in results))"
   ]
  },
  {
   "cell_type": "code",
   "execution_count": 70,
   "metadata": {},
   "outputs": [
    {
     "data": {
      "text/plain": [
       "array([0.81584035, 0.34573492])"
      ]
     },
     "execution_count": 70,
     "metadata": {},
     "output_type": "execute_result"
    }
   ],
   "source": [
    "results"
   ]
  },
  {
   "cell_type": "code",
   "execution_count": 45,
   "metadata": {},
   "outputs": [],
   "source": [
    "ext = re.search(r'/([^/]+[.](jpg|gif|png))\\??.*$', url)"
   ]
  },
  {
   "cell_type": "code",
   "execution_count": 59,
   "metadata": {},
   "outputs": [
    {
     "data": {
      "text/plain": [
       "'jpg'"
      ]
     },
     "execution_count": 59,
     "metadata": {},
     "output_type": "execute_result"
    }
   ],
   "source": [
    "ext.groups(0)[0]"
   ]
  },
  {
   "cell_type": "code",
   "execution_count": 74,
   "metadata": {},
   "outputs": [],
   "source": [
    "import re\n",
    "import requests\n",
    "from bs4 import BeautifulSoup\n",
    "\n",
    "def get_images(site):\n",
    "    response = requests.get(site)\n",
    "\n",
    "    soup = BeautifulSoup(response.text, 'html.parser')\n",
    "    img_tags = soup.find_all('img')\n",
    "\n",
    "    urls = {img['alt']: img['data-thumb_url'] for img in img_tags if img.has_attr('alt') and img.has_attr('data-thumb_url')}\n",
    "\n",
    "\n",
    "    for filename, url in urls.items():\n",
    "        ext = re.search(r'/[^/]+[.](jpg|gif|png)\\??.*$', url)\n",
    "#         print(filename)\n",
    "        if not ext:\n",
    "             print(\"Regex didn't match with the url: {}\".format(url))\n",
    "             continue\n",
    "        with open('data/face_rec/'+filename+'.'+ext.group(1), 'wb') as f:\n",
    "            if 'http' not in url:\n",
    "                # sometimes an image source can be relative \n",
    "                # if it is provide the base url which also happens \n",
    "                # to be the site variable atm. \n",
    "                url = '{}{}'.format(site, url)\n",
    "            response = requests.get(url)\n",
    "            f.write(response.content)\n"
   ]
  },
  {
   "cell_type": "code",
   "execution_count": 72,
   "metadata": {},
   "outputs": [],
   "source": [
    "site = 'https://www.pornhub.com/pornstars'"
   ]
  },
  {
   "cell_type": "code",
   "execution_count": 75,
   "metadata": {},
   "outputs": [],
   "source": [
    "get_images(site)"
   ]
  },
  {
   "cell_type": "code",
   "execution_count": 93,
   "metadata": {},
   "outputs": [],
   "source": [
    "known_faces = {}"
   ]
  },
  {
   "cell_type": "code",
   "execution_count": 107,
   "metadata": {},
   "outputs": [
    {
     "data": {
      "application/vnd.jupyter.widget-view+json": {
       "model_id": "c03e6ae1e4e64547a513e4d7bbb74eb6",
       "version_major": 2,
       "version_minor": 0
      },
      "text/plain": [
       "HBox(children=(FloatProgress(value=0.0, max=63.0), HTML(value='')))"
      ]
     },
     "metadata": {},
     "output_type": "display_data"
    },
    {
     "name": "stdout",
     "output_type": "stream",
     "text": [
      "I wasn't able to locate any faces in at least one of the images. Check the image files. Aborting...\n",
      "I wasn't able to locate any faces in at least one of the images. Check the image files. Aborting...\n",
      "I wasn't able to locate any faces in at least one of the images. Check the image files. Aborting...\n",
      "I wasn't able to locate any faces in at least one of the images. Check the image files. Aborting...\n",
      "I wasn't able to locate any faces in at least one of the images. Check the image files. Aborting...\n",
      "I wasn't able to locate any faces in at least one of the images. Check the image files. Aborting...\n",
      "I wasn't able to locate any faces in at least one of the images. Check the image files. Aborting...\n",
      "I wasn't able to locate any faces in at least one of the images. Check the image files. Aborting...\n",
      "I wasn't able to locate any faces in at least one of the images. Check the image files. Aborting...\n",
      "I wasn't able to locate any faces in at least one of the images. Check the image files. Aborting...\n",
      "I wasn't able to locate any faces in at least one of the images. Check the image files. Aborting...\n",
      "I wasn't able to locate any faces in at least one of the images. Check the image files. Aborting...\n",
      "I wasn't able to locate any faces in at least one of the images. Check the image files. Aborting...\n",
      "I wasn't able to locate any faces in at least one of the images. Check the image files. Aborting...\n",
      "I wasn't able to locate any faces in at least one of the images. Check the image files. Aborting...\n",
      "I wasn't able to locate any faces in at least one of the images. Check the image files. Aborting...\n",
      "I wasn't able to locate any faces in at least one of the images. Check the image files. Aborting...\n",
      "I wasn't able to locate any faces in at least one of the images. Check the image files. Aborting...\n",
      "I wasn't able to locate any faces in at least one of the images. Check the image files. Aborting...\n",
      "I wasn't able to locate any faces in at least one of the images. Check the image files. Aborting...\n",
      "\n"
     ]
    }
   ],
   "source": [
    "dirname = 'data/face_rec/'\n",
    "for fname in tqdm(os.listdir(dirname)):\n",
    "#     print(fname)\n",
    "    image = face_recognition.load_image_file(os.path.join(dirname,fname))\n",
    "    try:\n",
    "        face_encoding = face_recognition.face_encodings(image)[0]\n",
    "    except IndexError:\n",
    "        print(\"I wasn't able to locate any faces in at least one of the images. Check the image files. Aborting...\")\n",
    "        continue\n",
    "    known_faces[fname] = face_encoding\n",
    "\n",
    "    "
   ]
  },
  {
   "cell_type": "code",
   "execution_count": 108,
   "metadata": {},
   "outputs": [
    {
     "data": {
      "text/plain": [
       "44"
      ]
     },
     "execution_count": 108,
     "metadata": {},
     "output_type": "execute_result"
    }
   ],
   "source": [
    "len(known_faces)"
   ]
  },
  {
   "cell_type": "code",
   "execution_count": 110,
   "metadata": {},
   "outputs": [],
   "source": [
    "image = face_recognition.load_image_file('/Users/jvalansi/Downloads/IMG_00C1E8E02619-1.jpeg')"
   ]
  },
  {
   "cell_type": "code",
   "execution_count": 111,
   "metadata": {},
   "outputs": [],
   "source": [
    "unknown_face_encoding = face_recognition.face_encodings(image)[0]"
   ]
  },
  {
   "cell_type": "code",
   "execution_count": 112,
   "metadata": {},
   "outputs": [],
   "source": [
    "results = face_recognition.face_distance(list(known_faces.values()), unknown_face_encoding)"
   ]
  },
  {
   "cell_type": "code",
   "execution_count": 113,
   "metadata": {},
   "outputs": [
    {
     "data": {
      "text/plain": [
       "array([0.7329006 , 0.78051243, 0.7704246 , 0.80992823, 0.82056574,\n",
       "       0.75635702, 0.89155399, 0.70633374, 0.86644081, 0.81598228,\n",
       "       0.78698415, 0.78838652, 0.83173204, 0.75701957, 0.62847045,\n",
       "       0.73191333, 0.78739147, 0.89887401, 0.66960362, 0.81373333,\n",
       "       0.78295062, 0.75374583, 0.79646967, 0.74456565, 0.73265231,\n",
       "       0.72892134, 0.80040583, 0.90329558, 0.72205076, 0.79800256,\n",
       "       0.63317995, 0.7322482 , 0.7460117 , 0.72478281, 0.84995312,\n",
       "       0.94153576, 0.66244328, 0.77443383, 0.76468085, 0.81368441,\n",
       "       0.68189754, 0.86581532, 0.7329006 , 0.75274704])"
      ]
     },
     "execution_count": 113,
     "metadata": {},
     "output_type": "execute_result"
    }
   ],
   "source": [
    "results"
   ]
  },
  {
   "cell_type": "code",
   "execution_count": 114,
   "metadata": {},
   "outputs": [
    {
     "data": {
      "text/plain": [
       "dict_keys(['fname', 'yinyleon.jpg', '\"You Can Stay But Don\\'t Tell Mom And Dad\" Caught Step Sisters Masturbating.jpg', 'Mia Khalifa.jpg', 'Kendra Lust.jpg', 'Mia Malkova.jpg', 'Kimmy Granger.jpg', 'Valentina Nappi.jpg', 'Jordi El Nino Polla.jpg', 'Angela White.jpg', 'Gabbie Carter.jpg', 'Eva Elfie.jpg', 'Adriana Chechik.jpg', 'Sasha Grey.jpg', 'Eva Lovia.jpg', 'Skylar Vox.jpg', 'Sarah Banks.jpg', 'Piper Perri.jpg', 'Autumn Falls.jpg', 'Lena Paul.jpg', 'Nicole Aniston.jpg', 'Lana Rhoades.jpg', 'Reislin.jpg', 'Alina Lopez.jpg', 'Riley Reid.jpg', 'Huge Mexican titty’s and best fuck ever!.jpg', 'Peta Jensen.jpg', 'Abella Danger.jpg', 'Lela Star.jpg', 'Elsa Jean.jpg', 'Rae Lil Black.jpg', 'Lexi Lore.jpg', 'Lisa Ann.jpg', 'Solazola.jpg', 'Sara Jay.jpg', 'Cory Chase.jpg', 'Kim Kardashian.jpg', 'PervMom - Big Ass Step Mom Cheats With Her Huge Cock Stepson.jpg', 'Dani Daniels.jpg', 'Jessa Rhodes.jpg', 'Alexis Texas.jpg', 'LaSirena69.jpg', 'Emily Willis.jpg', 'asa.jpg'])"
      ]
     },
     "execution_count": 114,
     "metadata": {},
     "output_type": "execute_result"
    }
   ],
   "source": [
    "known_faces.keys()"
   ]
  },
  {
   "cell_type": "code",
   "execution_count": 117,
   "metadata": {},
   "outputs": [
    {
     "data": {
      "text/plain": [
       "'Cory Chase.jpg'"
      ]
     },
     "execution_count": 117,
     "metadata": {},
     "output_type": "execute_result"
    }
   ],
   "source": [
    "list(known_faces.keys())[np.argmax(results)]"
   ]
  },
  {
   "cell_type": "code",
   "execution_count": null,
   "metadata": {},
   "outputs": [],
   "source": []
  },
  {
   "cell_type": "code",
   "execution_count": 120,
   "metadata": {},
   "outputs": [
    {
     "name": "stdout",
     "output_type": "stream",
     "text": [
      "{\"objects\":[{\"rectangle\":{\"x\":42,\"y\":27,\"w\":491,\"h\":665},\"object\":\"person\",\"confidence\":0.54}],\"requestId\":\"97e36227-fd0f-4fd6-84fb-f2fe5572f20d\",\"metadata\":{\"width\":548,\"height\":1080,\"format\":\"Jpeg\"}}\n"
     ]
    }
   ],
   "source": [
    "import requests\n",
    "\n",
    "url = \"https://microsoft-computer-vision3.p.rapidapi.com/detect\"\n",
    "\n",
    "payload = \"{ \\\"url\\\": \\\"https://ci.phncdn.com/pics/albums/025/605/502/319915402/(m=e-yaaGqaa)(mh=DvoyNn6Pt-KTDTQJ)original_319915402.jpg\\\"}\"\n",
    "headers = {\n",
    "    'x-rapidapi-host': \"microsoft-computer-vision3.p.rapidapi.com\",\n",
    "    'x-rapidapi-key': \"9DB9YNpoeXmshW67I75iCA0yRGfvp1EqVpEjsnVg2vPv5ez9mp\",\n",
    "    'content-type': \"application/json\",\n",
    "    'accept': \"application/json\"\n",
    "    }\n",
    "\n",
    "response = requests.request(\"POST\", url, data=payload, headers=headers)\n",
    "\n",
    "{print(response.text)"
   ]
  },
  {
   "cell_type": "code",
   "execution_count": null,
   "metadata": {},
   "outputs": [],
   "source": []
  },
  {
   "cell_type": "code",
   "execution_count": null,
   "metadata": {},
   "outputs": [],
   "source": []
  }
 ],
 "metadata": {
  "kernelspec": {
   "display_name": "Python 3",
   "language": "python",
   "name": "python3"
  },
  "language_info": {
   "codemirror_mode": {
    "name": "ipython",
    "version": 3
   },
   "file_extension": ".py",
   "mimetype": "text/x-python",
   "name": "python",
   "nbconvert_exporter": "python",
   "pygments_lexer": "ipython3",
   "version": "3.7.7"
  }
 },
 "nbformat": 4,
 "nbformat_minor": 4
}
