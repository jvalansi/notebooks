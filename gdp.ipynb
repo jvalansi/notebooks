{
 "cells": [
  {
   "cell_type": "code",
   "execution_count": null,
   "metadata": {},
   "outputs": [],
   "source": [
    "# chimp\n",
    "# homo eractus - walking hunting\n",
    "# cooking\n",
    "# clothing\n",
    "# homo sapiens - speaking?\n",
    "# stone age - agriculture, domestication\n",
    "# bronze age - trade and war\n",
    "# iron age - empires\n",
    "# spices\n",
    "# age of exploration\n",
    "# industrial revolution\n",
    "# "
   ]
  },
  {
   "cell_type": "code",
   "execution_count": 3,
   "metadata": {},
   "outputs": [
    {
     "name": "stdout",
     "output_type": "stream",
     "text": [
      "Collecting xlrd\n",
      "  Using cached https://files.pythonhosted.org/packages/b0/16/63576a1a001752e34bf8ea62e367997530dc553b689356b9879339cf45a4/xlrd-1.2.0-py2.py3-none-any.whl\n",
      "Installing collected packages: xlrd\n",
      "Successfully installed xlrd-1.2.0\n",
      "\u001b[33mYou are using pip version 19.0.3, however version 19.2.1 is available.\n",
      "You should consider upgrading via the 'pip install --upgrade pip' command.\u001b[0m\n"
     ]
    }
   ],
   "source": [
    "! pip install xlrd"
   ]
  },
  {
   "cell_type": "code",
   "execution_count": 335,
   "metadata": {},
   "outputs": [
    {
     "name": "stderr",
     "output_type": "stream",
     "text": [
      "/opt/conda/lib/python3.7/site-packages/tqdm/std.py:658: FutureWarning: The Panel class is removed from pandas. Accessing it from the top-level namespace will also be removed in the next version\n",
      "  from pandas import Panel\n"
     ]
    }
   ],
   "source": [
    "import pandas as pd\n",
    "import numpy as np\n",
    "from tqdm.auto import tqdm\n",
    "tqdm.pandas()"
   ]
  },
  {
   "cell_type": "code",
   "execution_count": 4,
   "metadata": {},
   "outputs": [],
   "source": [
    "# can see gdp growth just by looking at jobs\n",
    "# farmer income\n",
    "# service employee income\n",
    "# industry employee income\n",
    "# what about trade?\n",
    "# you have trader income - but then you also have companies\n",
    "# \n",
    "df = pd.read_excel('data/employment/national_M2018_dl.xlsx')"
   ]
  },
  {
   "cell_type": "code",
   "execution_count": 7,
   "metadata": {},
   "outputs": [],
   "source": [
    "major_df = df[df.OCC_GROUP=='major']"
   ]
  },
  {
   "cell_type": "code",
   "execution_count": 19,
   "metadata": {},
   "outputs": [
    {
     "name": "stderr",
     "output_type": "stream",
     "text": [
      "/Users/jordanvalansi/.virtualenv/notebooks/lib/python3.6/site-packages/ipykernel_launcher.py:1: SettingWithCopyWarning: \n",
      "A value is trying to be set on a copy of a slice from a DataFrame.\n",
      "Try using .loc[row_indexer,col_indexer] = value instead\n",
      "\n",
      "See the caveats in the documentation: http://pandas.pydata.org/pandas-docs/stable/indexing.html#indexing-view-versus-copy\n",
      "  \"\"\"Entry point for launching an IPython kernel.\n"
     ]
    }
   ],
   "source": [
    "major_df['deviation'] = major_df['A_MEAN']/major_df['A_MEDIAN']"
   ]
  },
  {
   "cell_type": "code",
   "execution_count": 114,
   "metadata": {},
   "outputs": [
    {
     "data": {
      "text/html": [
       "<div>\n",
       "<style scoped>\n",
       "    .dataframe tbody tr th:only-of-type {\n",
       "        vertical-align: middle;\n",
       "    }\n",
       "\n",
       "    .dataframe tbody tr th {\n",
       "        vertical-align: top;\n",
       "    }\n",
       "\n",
       "    .dataframe thead th {\n",
       "        text-align: right;\n",
       "    }\n",
       "</style>\n",
       "<table border=\"1\" class=\"dataframe\">\n",
       "  <thead>\n",
       "    <tr style=\"text-align: right;\">\n",
       "      <th></th>\n",
       "      <th>OCC_CODE</th>\n",
       "      <th>OCC_TITLE</th>\n",
       "      <th>OCC_GROUP</th>\n",
       "      <th>TOT_EMP</th>\n",
       "      <th>EMP_PRSE</th>\n",
       "      <th>H_MEAN</th>\n",
       "      <th>A_MEAN</th>\n",
       "      <th>MEAN_PRSE</th>\n",
       "      <th>H_PCT10</th>\n",
       "      <th>H_PCT25</th>\n",
       "      <th>...</th>\n",
       "      <th>H_PCT75</th>\n",
       "      <th>H_PCT90</th>\n",
       "      <th>A_PCT10</th>\n",
       "      <th>A_PCT25</th>\n",
       "      <th>A_MEDIAN</th>\n",
       "      <th>A_PCT75</th>\n",
       "      <th>A_PCT90</th>\n",
       "      <th>ANNUAL</th>\n",
       "      <th>HOURLY</th>\n",
       "      <th>deviation</th>\n",
       "    </tr>\n",
       "  </thead>\n",
       "  <tbody>\n",
       "    <tr>\n",
       "      <th>1</th>\n",
       "      <td>11-0000</td>\n",
       "      <td>Management Occupations</td>\n",
       "      <td>major</td>\n",
       "      <td>7616650</td>\n",
       "      <td>0.2</td>\n",
       "      <td>58.44</td>\n",
       "      <td>121560</td>\n",
       "      <td>0.1</td>\n",
       "      <td>23.68</td>\n",
       "      <td>34.08</td>\n",
       "      <td>...</td>\n",
       "      <td>72.93</td>\n",
       "      <td>#</td>\n",
       "      <td>49260</td>\n",
       "      <td>70880</td>\n",
       "      <td>104240</td>\n",
       "      <td>151700</td>\n",
       "      <td>#</td>\n",
       "      <td>NaN</td>\n",
       "      <td>NaN</td>\n",
       "      <td>1.16616</td>\n",
       "    </tr>\n",
       "    <tr>\n",
       "      <th>70</th>\n",
       "      <td>13-0000</td>\n",
       "      <td>Business and Financial Operations Occupations</td>\n",
       "      <td>major</td>\n",
       "      <td>7721300</td>\n",
       "      <td>0.3</td>\n",
       "      <td>36.98</td>\n",
       "      <td>76910</td>\n",
       "      <td>0.2</td>\n",
       "      <td>18.33</td>\n",
       "      <td>24.53</td>\n",
       "      <td>...</td>\n",
       "      <td>44.65</td>\n",
       "      <td>59.44</td>\n",
       "      <td>38130</td>\n",
       "      <td>51020</td>\n",
       "      <td>68350</td>\n",
       "      <td>92870</td>\n",
       "      <td>123640</td>\n",
       "      <td>NaN</td>\n",
       "      <td>NaN</td>\n",
       "      <td>1.12524</td>\n",
       "    </tr>\n",
       "    <tr>\n",
       "      <th>126</th>\n",
       "      <td>15-0000</td>\n",
       "      <td>Computer and Mathematical Occupations</td>\n",
       "      <td>major</td>\n",
       "      <td>4384300</td>\n",
       "      <td>0.5</td>\n",
       "      <td>44.01</td>\n",
       "      <td>91530</td>\n",
       "      <td>0.4</td>\n",
       "      <td>21.41</td>\n",
       "      <td>29.64</td>\n",
       "      <td>...</td>\n",
       "      <td>55.98</td>\n",
       "      <td>71.12</td>\n",
       "      <td>44530</td>\n",
       "      <td>61640</td>\n",
       "      <td>86340</td>\n",
       "      <td>116440</td>\n",
       "      <td>147920</td>\n",
       "      <td>NaN</td>\n",
       "      <td>NaN</td>\n",
       "      <td>1.06011</td>\n",
       "    </tr>\n",
       "    <tr>\n",
       "      <th>158</th>\n",
       "      <td>17-0000</td>\n",
       "      <td>Architecture and Engineering Occupations</td>\n",
       "      <td>major</td>\n",
       "      <td>2556220</td>\n",
       "      <td>0.5</td>\n",
       "      <td>42.01</td>\n",
       "      <td>87370</td>\n",
       "      <td>0.3</td>\n",
       "      <td>21.33</td>\n",
       "      <td>28.72</td>\n",
       "      <td>...</td>\n",
       "      <td>51.81</td>\n",
       "      <td>66.98</td>\n",
       "      <td>44360</td>\n",
       "      <td>59750</td>\n",
       "      <td>80170</td>\n",
       "      <td>107760</td>\n",
       "      <td>139320</td>\n",
       "      <td>NaN</td>\n",
       "      <td>NaN</td>\n",
       "      <td>1.08981</td>\n",
       "    </tr>\n",
       "    <tr>\n",
       "      <th>218</th>\n",
       "      <td>19-0000</td>\n",
       "      <td>Life, Physical, and Social Science Occupations</td>\n",
       "      <td>major</td>\n",
       "      <td>1171910</td>\n",
       "      <td>0.7</td>\n",
       "      <td>36.62</td>\n",
       "      <td>76160</td>\n",
       "      <td>0.4</td>\n",
       "      <td>16.85</td>\n",
       "      <td>22.74</td>\n",
       "      <td>...</td>\n",
       "      <td>45.77</td>\n",
       "      <td>61.22</td>\n",
       "      <td>35050</td>\n",
       "      <td>47310</td>\n",
       "      <td>66070</td>\n",
       "      <td>95210</td>\n",
       "      <td>127340</td>\n",
       "      <td>NaN</td>\n",
       "      <td>NaN</td>\n",
       "      <td>1.15272</td>\n",
       "    </tr>\n",
       "  </tbody>\n",
       "</table>\n",
       "<p>5 rows × 21 columns</p>\n",
       "</div>"
      ],
      "text/plain": [
       "    OCC_CODE                                       OCC_TITLE OCC_GROUP  \\\n",
       "1    11-0000                          Management Occupations     major   \n",
       "70   13-0000   Business and Financial Operations Occupations     major   \n",
       "126  15-0000           Computer and Mathematical Occupations     major   \n",
       "158  17-0000        Architecture and Engineering Occupations     major   \n",
       "218  19-0000  Life, Physical, and Social Science Occupations     major   \n",
       "\n",
       "     TOT_EMP  EMP_PRSE H_MEAN  A_MEAN  MEAN_PRSE H_PCT10 H_PCT25  ... H_PCT75  \\\n",
       "1    7616650       0.2  58.44  121560        0.1   23.68   34.08  ...   72.93   \n",
       "70   7721300       0.3  36.98   76910        0.2   18.33   24.53  ...   44.65   \n",
       "126  4384300       0.5  44.01   91530        0.4   21.41   29.64  ...   55.98   \n",
       "158  2556220       0.5  42.01   87370        0.3   21.33   28.72  ...   51.81   \n",
       "218  1171910       0.7  36.62   76160        0.4   16.85   22.74  ...   45.77   \n",
       "\n",
       "    H_PCT90 A_PCT10 A_PCT25 A_MEDIAN A_PCT75 A_PCT90 ANNUAL HOURLY deviation  \n",
       "1         #   49260   70880   104240  151700       #    NaN    NaN   1.16616  \n",
       "70    59.44   38130   51020    68350   92870  123640    NaN    NaN   1.12524  \n",
       "126   71.12   44530   61640    86340  116440  147920    NaN    NaN   1.06011  \n",
       "158   66.98   44360   59750    80170  107760  139320    NaN    NaN   1.08981  \n",
       "218   61.22   35050   47310    66070   95210  127340    NaN    NaN   1.15272  \n",
       "\n",
       "[5 rows x 21 columns]"
      ]
     },
     "execution_count": 114,
     "metadata": {},
     "output_type": "execute_result"
    }
   ],
   "source": [
    "major_df.head()"
   ]
  },
  {
   "cell_type": "code",
   "execution_count": 117,
   "metadata": {},
   "outputs": [
    {
     "name": "stderr",
     "output_type": "stream",
     "text": [
      "/Users/jordanvalansi/.virtualenv/notebooks/lib/python3.6/site-packages/ipykernel_launcher.py:1: SettingWithCopyWarning: \n",
      "A value is trying to be set on a copy of a slice from a DataFrame.\n",
      "Try using .loc[row_indexer,col_indexer] = value instead\n",
      "\n",
      "See the caveats in the documentation: http://pandas.pydata.org/pandas-docs/stable/indexing.html#indexing-view-versus-copy\n",
      "  \"\"\"Entry point for launching an IPython kernel.\n"
     ]
    }
   ],
   "source": [
    "major_df['Total'] = major_df['TOT_EMP']*major_df['A_MEAN']"
   ]
  },
  {
   "cell_type": "code",
   "execution_count": 124,
   "metadata": {},
   "outputs": [
    {
     "data": {
      "text/html": [
       "<div>\n",
       "<style scoped>\n",
       "    .dataframe tbody tr th:only-of-type {\n",
       "        vertical-align: middle;\n",
       "    }\n",
       "\n",
       "    .dataframe tbody tr th {\n",
       "        vertical-align: top;\n",
       "    }\n",
       "\n",
       "    .dataframe thead th {\n",
       "        text-align: right;\n",
       "    }\n",
       "</style>\n",
       "<table border=\"1\" class=\"dataframe\">\n",
       "  <thead>\n",
       "    <tr style=\"text-align: right;\">\n",
       "      <th></th>\n",
       "      <th>OCC_TITLE</th>\n",
       "      <th>TOT_EMP</th>\n",
       "      <th>A_MEAN</th>\n",
       "      <th>deviation</th>\n",
       "      <th>Total</th>\n",
       "    </tr>\n",
       "  </thead>\n",
       "  <tbody>\n",
       "    <tr>\n",
       "      <th>1</th>\n",
       "      <td>Management Occupations</td>\n",
       "      <td>7616650</td>\n",
       "      <td>121560</td>\n",
       "      <td>1.16616</td>\n",
       "      <td>925879974000</td>\n",
       "    </tr>\n",
       "    <tr>\n",
       "      <th>802</th>\n",
       "      <td>Office and Administrative Support Occupations</td>\n",
       "      <td>21828990</td>\n",
       "      <td>38990</td>\n",
       "      <td>1.09032</td>\n",
       "      <td>851112320100</td>\n",
       "    </tr>\n",
       "    <tr>\n",
       "      <th>489</th>\n",
       "      <td>Healthcare Practitioners and Technical Occupat...</td>\n",
       "      <td>8646730</td>\n",
       "      <td>82000</td>\n",
       "      <td>1.2342</td>\n",
       "      <td>709031860000</td>\n",
       "    </tr>\n",
       "    <tr>\n",
       "      <th>759</th>\n",
       "      <td>Sales and Related Occupations</td>\n",
       "      <td>14542290</td>\n",
       "      <td>41790</td>\n",
       "      <td>1.48297</td>\n",
       "      <td>607722299100</td>\n",
       "    </tr>\n",
       "    <tr>\n",
       "      <th>70</th>\n",
       "      <td>Business and Financial Operations Occupations</td>\n",
       "      <td>7721300</td>\n",
       "      <td>76910</td>\n",
       "      <td>1.12524</td>\n",
       "      <td>593845183000</td>\n",
       "    </tr>\n",
       "    <tr>\n",
       "      <th>331</th>\n",
       "      <td>Education, Training, and Library Occupations</td>\n",
       "      <td>8779780</td>\n",
       "      <td>56620</td>\n",
       "      <td>1.13924</td>\n",
       "      <td>497111143600</td>\n",
       "    </tr>\n",
       "    <tr>\n",
       "      <th>126</th>\n",
       "      <td>Computer and Mathematical Occupations</td>\n",
       "      <td>4384300</td>\n",
       "      <td>91530</td>\n",
       "      <td>1.06011</td>\n",
       "      <td>401294979000</td>\n",
       "    </tr>\n",
       "    <tr>\n",
       "      <th>1284</th>\n",
       "      <td>Transportation and Material Moving Occupations</td>\n",
       "      <td>10244260</td>\n",
       "      <td>38290</td>\n",
       "      <td>1.16987</td>\n",
       "      <td>392252715400</td>\n",
       "    </tr>\n",
       "    <tr>\n",
       "      <th>1118</th>\n",
       "      <td>Production Occupations</td>\n",
       "      <td>9115530</td>\n",
       "      <td>39190</td>\n",
       "      <td>1.11748</td>\n",
       "      <td>357237620700</td>\n",
       "    </tr>\n",
       "    <tr>\n",
       "      <th>647</th>\n",
       "      <td>Food Preparation and Serving Related Occupations</td>\n",
       "      <td>13374620</td>\n",
       "      <td>25580</td>\n",
       "      <td>1.1088</td>\n",
       "      <td>342122779600</td>\n",
       "    </tr>\n",
       "    <tr>\n",
       "      <th>939</th>\n",
       "      <td>Construction and Extraction Occupations</td>\n",
       "      <td>5962640</td>\n",
       "      <td>51220</td>\n",
       "      <td>1.11324</td>\n",
       "      <td>305406420800</td>\n",
       "    </tr>\n",
       "    <tr>\n",
       "      <th>1042</th>\n",
       "      <td>Installation, Maintenance, and Repair Occupations</td>\n",
       "      <td>5628880</td>\n",
       "      <td>48960</td>\n",
       "      <td>1.0751</td>\n",
       "      <td>275589964800</td>\n",
       "    </tr>\n",
       "    <tr>\n",
       "      <th>158</th>\n",
       "      <td>Architecture and Engineering Occupations</td>\n",
       "      <td>2556220</td>\n",
       "      <td>87370</td>\n",
       "      <td>1.08981</td>\n",
       "      <td>223336941400</td>\n",
       "    </tr>\n",
       "    <tr>\n",
       "      <th>606</th>\n",
       "      <td>Protective Service Occupations</td>\n",
       "      <td>3437410</td>\n",
       "      <td>48580</td>\n",
       "      <td>1.19537</td>\n",
       "      <td>166989377800</td>\n",
       "    </tr>\n",
       "    <tr>\n",
       "      <th>699</th>\n",
       "      <td>Personal Care and Service Occupations</td>\n",
       "      <td>5451330</td>\n",
       "      <td>28090</td>\n",
       "      <td>1.15029</td>\n",
       "      <td>153127859700</td>\n",
       "    </tr>\n",
       "    <tr>\n",
       "      <th>580</th>\n",
       "      <td>Healthcare Support Occupations</td>\n",
       "      <td>4117450</td>\n",
       "      <td>32380</td>\n",
       "      <td>1.08877</td>\n",
       "      <td>133323031000</td>\n",
       "    </tr>\n",
       "    <tr>\n",
       "      <th>681</th>\n",
       "      <td>Building and Grounds Cleaning and Maintenance ...</td>\n",
       "      <td>4421980</td>\n",
       "      <td>30020</td>\n",
       "      <td>1.11848</td>\n",
       "      <td>132747839600</td>\n",
       "    </tr>\n",
       "    <tr>\n",
       "      <th>315</th>\n",
       "      <td>Legal Occupations</td>\n",
       "      <td>1127900</td>\n",
       "      <td>108690</td>\n",
       "      <td>1.34501</td>\n",
       "      <td>122591451000</td>\n",
       "    </tr>\n",
       "    <tr>\n",
       "      <th>427</th>\n",
       "      <td>Arts, Design, Entertainment, Sports, and Media...</td>\n",
       "      <td>1951170</td>\n",
       "      <td>59780</td>\n",
       "      <td>1.21282</td>\n",
       "      <td>116640942600</td>\n",
       "    </tr>\n",
       "    <tr>\n",
       "      <th>289</th>\n",
       "      <td>Community and Social Service Occupations</td>\n",
       "      <td>2171820</td>\n",
       "      <td>49280</td>\n",
       "      <td>1.09609</td>\n",
       "      <td>107027289600</td>\n",
       "    </tr>\n",
       "    <tr>\n",
       "      <th>218</th>\n",
       "      <td>Life, Physical, and Social Science Occupations</td>\n",
       "      <td>1171910</td>\n",
       "      <td>76160</td>\n",
       "      <td>1.15272</td>\n",
       "      <td>89252665600</td>\n",
       "    </tr>\n",
       "    <tr>\n",
       "      <th>915</th>\n",
       "      <td>Farming, Fishing, and Forestry Occupations</td>\n",
       "      <td>480130</td>\n",
       "      <td>30140</td>\n",
       "      <td>1.18755</td>\n",
       "      <td>14471118200</td>\n",
       "    </tr>\n",
       "  </tbody>\n",
       "</table>\n",
       "</div>"
      ],
      "text/plain": [
       "                                              OCC_TITLE   TOT_EMP  A_MEAN  \\\n",
       "1                                Management Occupations   7616650  121560   \n",
       "802       Office and Administrative Support Occupations  21828990   38990   \n",
       "489   Healthcare Practitioners and Technical Occupat...   8646730   82000   \n",
       "759                       Sales and Related Occupations  14542290   41790   \n",
       "70        Business and Financial Operations Occupations   7721300   76910   \n",
       "331        Education, Training, and Library Occupations   8779780   56620   \n",
       "126               Computer and Mathematical Occupations   4384300   91530   \n",
       "1284     Transportation and Material Moving Occupations  10244260   38290   \n",
       "1118                             Production Occupations   9115530   39190   \n",
       "647    Food Preparation and Serving Related Occupations  13374620   25580   \n",
       "939             Construction and Extraction Occupations   5962640   51220   \n",
       "1042  Installation, Maintenance, and Repair Occupations   5628880   48960   \n",
       "158            Architecture and Engineering Occupations   2556220   87370   \n",
       "606                      Protective Service Occupations   3437410   48580   \n",
       "699               Personal Care and Service Occupations   5451330   28090   \n",
       "580                      Healthcare Support Occupations   4117450   32380   \n",
       "681   Building and Grounds Cleaning and Maintenance ...   4421980   30020   \n",
       "315                                   Legal Occupations   1127900  108690   \n",
       "427   Arts, Design, Entertainment, Sports, and Media...   1951170   59780   \n",
       "289            Community and Social Service Occupations   2171820   49280   \n",
       "218      Life, Physical, and Social Science Occupations   1171910   76160   \n",
       "915          Farming, Fishing, and Forestry Occupations    480130   30140   \n",
       "\n",
       "     deviation         Total  \n",
       "1      1.16616  925879974000  \n",
       "802    1.09032  851112320100  \n",
       "489     1.2342  709031860000  \n",
       "759    1.48297  607722299100  \n",
       "70     1.12524  593845183000  \n",
       "331    1.13924  497111143600  \n",
       "126    1.06011  401294979000  \n",
       "1284   1.16987  392252715400  \n",
       "1118   1.11748  357237620700  \n",
       "647     1.1088  342122779600  \n",
       "939    1.11324  305406420800  \n",
       "1042    1.0751  275589964800  \n",
       "158    1.08981  223336941400  \n",
       "606    1.19537  166989377800  \n",
       "699    1.15029  153127859700  \n",
       "580    1.08877  133323031000  \n",
       "681    1.11848  132747839600  \n",
       "315    1.34501  122591451000  \n",
       "427    1.21282  116640942600  \n",
       "289    1.09609  107027289600  \n",
       "218    1.15272   89252665600  \n",
       "915    1.18755   14471118200  "
      ]
     },
     "execution_count": 124,
     "metadata": {},
     "output_type": "execute_result"
    }
   ],
   "source": [
    "major_df[['OCC_TITLE', 'TOT_EMP', 'A_MEAN', 'deviation', 'Total']].sort_values(by='Total', ascending=False)"
   ]
  },
  {
   "cell_type": "code",
   "execution_count": 125,
   "metadata": {},
   "outputs": [
    {
     "data": {
      "text/plain": [
       "51944.62018102401"
      ]
     },
     "execution_count": 125,
     "metadata": {},
     "output_type": "execute_result"
    }
   ],
   "source": [
    "major_df['Total'].sum() / major_df['TOT_EMP'].sum() "
   ]
  },
  {
   "cell_type": "code",
   "execution_count": 135,
   "metadata": {},
   "outputs": [],
   "source": [
    "import matplotlib.pyplot as plt\n",
    "import numpy as np"
   ]
  },
  {
   "cell_type": "code",
   "execution_count": 150,
   "metadata": {},
   "outputs": [],
   "source": [
    "y, x = np.histogram(major_df['A_MEAN'], bins=5)"
   ]
  },
  {
   "cell_type": "code",
   "execution_count": 151,
   "metadata": {},
   "outputs": [
    {
     "data": {
      "text/plain": [
       "array([25580.0, 44776.0, 63972.0, 83168.0, 102364.0, 121560.0],\n",
       "      dtype=object)"
      ]
     },
     "execution_count": 151,
     "metadata": {},
     "output_type": "execute_result"
    }
   ],
   "source": [
    "x"
   ]
  },
  {
   "cell_type": "code",
   "execution_count": 152,
   "metadata": {},
   "outputs": [
    {
     "data": {
      "text/plain": [
       "array([9, 6, 3, 2, 2])"
      ]
     },
     "execution_count": 152,
     "metadata": {},
     "output_type": "execute_result"
    }
   ],
   "source": [
    "y"
   ]
  },
  {
   "cell_type": "code",
   "execution_count": 155,
   "metadata": {},
   "outputs": [
    {
     "data": {
      "text/plain": [
       "[<matplotlib.lines.Line2D at 0x132441828>]"
      ]
     },
     "execution_count": 155,
     "metadata": {},
     "output_type": "execute_result"
    },
    {
     "data": {
      "image/png": "[encoded data removed]",
      "text/plain": [
       "<Figure size 432x288 with 1 Axes>"
      ]
     },
     "metadata": {
      "needs_background": "light"
     },
     "output_type": "display_data"
    }
   ],
   "source": [
    "plt.plot(x[:-1],y)"
   ]
  },
  {
   "cell_type": "code",
   "execution_count": 134,
   "metadata": {},
   "outputs": [
    {
     "data": {
      "text/plain": [
       "<matplotlib.axes._subplots.AxesSubplot at 0x13171eba8>"
      ]
     },
     "execution_count": 134,
     "metadata": {},
     "output_type": "execute_result"
    },
    {
     "data": {
      "image/png": "[encoded data removed]",
      "text/plain": [
       "<Figure size 432x288 with 1 Axes>"
      ]
     },
     "metadata": {
      "needs_background": "light"
     },
     "output_type": "display_data"
    }
   ],
   "source": [
    "major_df['A_MEAN'].hist(bins=[20000, 40000, 60000, 80000, 100000, 120000])"
   ]
  },
  {
   "cell_type": "code",
   "execution_count": null,
   "metadata": {},
   "outputs": [],
   "source": [
    "# GDP is:\n",
    "# salaries\n",
    "# company revenue - or private expenditure (spending)\n",
    "# goverment income - or tax"
   ]
  },
  {
   "cell_type": "code",
   "execution_count": 32,
   "metadata": {},
   "outputs": [],
   "source": [
    "expenditure_df = pd.read_csv('data/expenditure.csv', skiprows=list(range(4))+[5])"
   ]
  },
  {
   "cell_type": "code",
   "execution_count": 33,
   "metadata": {},
   "outputs": [
    {
     "data": {
      "text/html": [
       "<div>\n",
       "<style scoped>\n",
       "    .dataframe tbody tr th:only-of-type {\n",
       "        vertical-align: middle;\n",
       "    }\n",
       "\n",
       "    .dataframe tbody tr th {\n",
       "        vertical-align: top;\n",
       "    }\n",
       "\n",
       "    .dataframe thead th {\n",
       "        text-align: right;\n",
       "    }\n",
       "</style>\n",
       "<table border=\"1\" class=\"dataframe\">\n",
       "  <thead>\n",
       "    <tr style=\"text-align: right;\">\n",
       "      <th></th>\n",
       "      <th>Line</th>\n",
       "      <th>Unnamed: 1</th>\n",
       "      <th>2011</th>\n",
       "      <th>2012</th>\n",
       "      <th>2013</th>\n",
       "      <th>2014</th>\n",
       "      <th>2015</th>\n",
       "      <th>2016</th>\n",
       "      <th>2017</th>\n",
       "      <th>2018</th>\n",
       "    </tr>\n",
       "  </thead>\n",
       "  <tbody>\n",
       "    <tr>\n",
       "      <th>0</th>\n",
       "      <td>1</td>\n",
       "      <td>Personal consumption expenditures</td>\n",
       "      <td>98.519</td>\n",
       "      <td>100.000</td>\n",
       "      <td>101.454</td>\n",
       "      <td>104.457</td>\n",
       "      <td>108.308</td>\n",
       "      <td>111.272</td>\n",
       "      <td>114.174</td>\n",
       "      <td>117.605</td>\n",
       "    </tr>\n",
       "    <tr>\n",
       "      <th>1</th>\n",
       "      <td>2</td>\n",
       "      <td>Goods</td>\n",
       "      <td>97.913</td>\n",
       "      <td>100.000</td>\n",
       "      <td>103.147</td>\n",
       "      <td>107.351</td>\n",
       "      <td>112.393</td>\n",
       "      <td>116.464</td>\n",
       "      <td>121.048</td>\n",
       "      <td>125.993</td>\n",
       "    </tr>\n",
       "    <tr>\n",
       "      <th>2</th>\n",
       "      <td>3</td>\n",
       "      <td>Durable goods</td>\n",
       "      <td>94.359</td>\n",
       "      <td>100.000</td>\n",
       "      <td>106.106</td>\n",
       "      <td>113.751</td>\n",
       "      <td>122.248</td>\n",
       "      <td>129.713</td>\n",
       "      <td>138.648</td>\n",
       "      <td>147.326</td>\n",
       "    </tr>\n",
       "    <tr>\n",
       "      <th>3</th>\n",
       "      <td>4</td>\n",
       "      <td>Motor vehicles and parts</td>\n",
       "      <td>93.326</td>\n",
       "      <td>100.000</td>\n",
       "      <td>104.707</td>\n",
       "      <td>110.794</td>\n",
       "      <td>118.933</td>\n",
       "      <td>122.615</td>\n",
       "      <td>128.878</td>\n",
       "      <td>134.403</td>\n",
       "    </tr>\n",
       "    <tr>\n",
       "      <th>4</th>\n",
       "      <td>5</td>\n",
       "      <td>New motor vehicles (55)</td>\n",
       "      <td>89.237</td>\n",
       "      <td>100.000</td>\n",
       "      <td>104.155</td>\n",
       "      <td>109.603</td>\n",
       "      <td>113.869</td>\n",
       "      <td>112.741</td>\n",
       "      <td>115.803</td>\n",
       "      <td>119.356</td>\n",
       "    </tr>\n",
       "  </tbody>\n",
       "</table>\n",
       "</div>"
      ],
      "text/plain": [
       "  Line                                     Unnamed: 1    2011     2012  \\\n",
       "0    1              Personal consumption expenditures  98.519  100.000   \n",
       "1    2                                          Goods  97.913  100.000   \n",
       "2    3                                  Durable goods  94.359  100.000   \n",
       "3    4                       Motor vehicles and parts  93.326  100.000   \n",
       "4    5                        New motor vehicles (55)  89.237  100.000   \n",
       "\n",
       "      2013     2014     2015     2016     2017     2018  \n",
       "0  101.454  104.457  108.308  111.272  114.174  117.605  \n",
       "1  103.147  107.351  112.393  116.464  121.048  125.993  \n",
       "2  106.106  113.751  122.248  129.713  138.648  147.326  \n",
       "3  104.707  110.794  118.933  122.615  128.878  134.403  \n",
       "4  104.155  109.603  113.869  112.741  115.803  119.356  "
      ]
     },
     "execution_count": 33,
     "metadata": {},
     "output_type": "execute_result"
    }
   ],
   "source": [
    "expenditure_df.head()"
   ]
  },
  {
   "cell_type": "code",
   "execution_count": null,
   "metadata": {},
   "outputs": [],
   "source": [
    "expenditure_df"
   ]
  },
  {
   "cell_type": "code",
   "execution_count": null,
   "metadata": {},
   "outputs": [],
   "source": [
    "expenditure_df[.iloc[0]"
   ]
  },
  {
   "cell_type": "code",
   "execution_count": 46,
   "metadata": {},
   "outputs": [],
   "source": [
    "expenditure_df_ = pd.read_csv('data/SNA_TABLE5_11082019194329427.csv')"
   ]
  },
  {
   "cell_type": "code",
   "execution_count": 53,
   "metadata": {},
   "outputs": [],
   "source": [
    "us_expenditure_df = expenditure_df_[(expenditure_df_.LOCATION=='USA') & (expenditure_df_.TIME==2017) & (expenditure_df_.MEASURE=='C')]"
   ]
  },
  {
   "cell_type": "code",
   "execution_count": 62,
   "metadata": {},
   "outputs": [],
   "source": [
    "us_expenditure_df = us_expenditure_df.dropna(axis=1)"
   ]
  },
  {
   "cell_type": "code",
   "execution_count": 67,
   "metadata": {},
   "outputs": [],
   "source": [
    "num_of_households = 127.59"
   ]
  },
  {
   "cell_type": "code",
   "execution_count": 70,
   "metadata": {},
   "outputs": [],
   "source": [
    "us_expenditure_df['per household'] = us_expenditure_df['Value']//num_of_households"
   ]
  },
  {
   "cell_type": "code",
   "execution_count": 72,
   "metadata": {},
   "outputs": [],
   "source": [
    "us_expenditure_df['per month'] = us_expenditure_df['per household']//12"
   ]
  },
  {
   "cell_type": "code",
   "execution_count": 78,
   "metadata": {},
   "outputs": [],
   "source": [
    "top_level_expenditure = us_expenditure_df[us_expenditure_df['TRANSACT'].apply(lambda x: x.endswith('0'))]"
   ]
  },
  {
   "cell_type": "code",
   "execution_count": 81,
   "metadata": {},
   "outputs": [
    {
     "data": {
      "text/plain": [
       "8458.0"
      ]
     },
     "execution_count": 81,
     "metadata": {},
     "output_type": "execute_result"
    }
   ],
   "source": [
    "top_level_expenditure['per month'].sum()"
   ]
  },
  {
   "cell_type": "code",
   "execution_count": 113,
   "metadata": {},
   "outputs": [
    {
     "data": {
      "text/html": [
       "<div>\n",
       "<style scoped>\n",
       "    .dataframe tbody tr th:only-of-type {\n",
       "        vertical-align: middle;\n",
       "    }\n",
       "\n",
       "    .dataframe tbody tr th {\n",
       "        vertical-align: top;\n",
       "    }\n",
       "\n",
       "    .dataframe thead th {\n",
       "        text-align: right;\n",
       "    }\n",
       "</style>\n",
       "<table border=\"1\" class=\"dataframe\">\n",
       "  <thead>\n",
       "    <tr style=\"text-align: right;\">\n",
       "      <th></th>\n",
       "      <th>TRANSACT</th>\n",
       "      <th>Transaction</th>\n",
       "      <th>Value</th>\n",
       "      <th>per household</th>\n",
       "      <th>per month</th>\n",
       "    </tr>\n",
       "  </thead>\n",
       "  <tbody>\n",
       "    <tr>\n",
       "      <th>59994</th>\n",
       "      <td>P31CP060</td>\n",
       "      <td>Health</td>\n",
       "      <td>2829094.0</td>\n",
       "      <td>22173.0</td>\n",
       "      <td>1847.0</td>\n",
       "    </tr>\n",
       "    <tr>\n",
       "      <th>59894</th>\n",
       "      <td>P31CP040</td>\n",
       "      <td>Housing, water, electricity, gas and other fuels</td>\n",
       "      <td>2464848.0</td>\n",
       "      <td>19318.0</td>\n",
       "      <td>1609.0</td>\n",
       "    </tr>\n",
       "    <tr>\n",
       "      <th>60074</th>\n",
       "      <td>P31CP120</td>\n",
       "      <td>Miscellaneous goods and services</td>\n",
       "      <td>1828664.0</td>\n",
       "      <td>14332.0</td>\n",
       "      <td>1194.0</td>\n",
       "    </tr>\n",
       "    <tr>\n",
       "      <th>60004</th>\n",
       "      <td>P31CP070</td>\n",
       "      <td>Transport</td>\n",
       "      <td>1225238.0</td>\n",
       "      <td>9602.0</td>\n",
       "      <td>800.0</td>\n",
       "    </tr>\n",
       "    <tr>\n",
       "      <th>60044</th>\n",
       "      <td>P31CP090</td>\n",
       "      <td>Recreation and culture</td>\n",
       "      <td>1171381.0</td>\n",
       "      <td>9180.0</td>\n",
       "      <td>765.0</td>\n",
       "    </tr>\n",
       "    <tr>\n",
       "      <th>60064</th>\n",
       "      <td>P31CP110</td>\n",
       "      <td>Restaurants and hotels</td>\n",
       "      <td>897294.0</td>\n",
       "      <td>7032.0</td>\n",
       "      <td>586.0</td>\n",
       "    </tr>\n",
       "    <tr>\n",
       "      <th>59493</th>\n",
       "      <td>P31CP010</td>\n",
       "      <td>Food and non-alcoholic beverages</td>\n",
       "      <td>830017.0</td>\n",
       "      <td>6505.0</td>\n",
       "      <td>542.0</td>\n",
       "    </tr>\n",
       "    <tr>\n",
       "      <th>59904</th>\n",
       "      <td>P31CP050</td>\n",
       "      <td>Furnishings, households equipment and routine ...</td>\n",
       "      <td>531548.0</td>\n",
       "      <td>4166.0</td>\n",
       "      <td>347.0</td>\n",
       "    </tr>\n",
       "    <tr>\n",
       "      <th>59774</th>\n",
       "      <td>P31CP030</td>\n",
       "      <td>Clothing and footwear</td>\n",
       "      <td>395731.0</td>\n",
       "      <td>3101.0</td>\n",
       "      <td>258.0</td>\n",
       "    </tr>\n",
       "    <tr>\n",
       "      <th>60054</th>\n",
       "      <td>P31CP100</td>\n",
       "      <td>Education</td>\n",
       "      <td>280837.0</td>\n",
       "      <td>2201.0</td>\n",
       "      <td>183.0</td>\n",
       "    </tr>\n",
       "    <tr>\n",
       "      <th>60034</th>\n",
       "      <td>P31CP080</td>\n",
       "      <td>Communications</td>\n",
       "      <td>274629.0</td>\n",
       "      <td>2152.0</td>\n",
       "      <td>179.0</td>\n",
       "    </tr>\n",
       "    <tr>\n",
       "      <th>59744</th>\n",
       "      <td>P31CP020</td>\n",
       "      <td>Alcoholic beverages, tobacco and narcotics</td>\n",
       "      <td>227846.0</td>\n",
       "      <td>1785.0</td>\n",
       "      <td>148.0</td>\n",
       "    </tr>\n",
       "  </tbody>\n",
       "</table>\n",
       "</div>"
      ],
      "text/plain": [
       "       TRANSACT                                        Transaction      Value  \\\n",
       "59994  P31CP060                                             Health  2829094.0   \n",
       "59894  P31CP040   Housing, water, electricity, gas and other fuels  2464848.0   \n",
       "60074  P31CP120                   Miscellaneous goods and services  1828664.0   \n",
       "60004  P31CP070                                          Transport  1225238.0   \n",
       "60044  P31CP090                             Recreation and culture  1171381.0   \n",
       "60064  P31CP110                             Restaurants and hotels   897294.0   \n",
       "59493  P31CP010                   Food and non-alcoholic beverages   830017.0   \n",
       "59904  P31CP050  Furnishings, households equipment and routine ...   531548.0   \n",
       "59774  P31CP030                              Clothing and footwear   395731.0   \n",
       "60054  P31CP100                                          Education   280837.0   \n",
       "60034  P31CP080                                     Communications   274629.0   \n",
       "59744  P31CP020         Alcoholic beverages, tobacco and narcotics   227846.0   \n",
       "\n",
       "       per household  per month  \n",
       "59994        22173.0     1847.0  \n",
       "59894        19318.0     1609.0  \n",
       "60074        14332.0     1194.0  \n",
       "60004         9602.0      800.0  \n",
       "60044         9180.0      765.0  \n",
       "60064         7032.0      586.0  \n",
       "59493         6505.0      542.0  \n",
       "59904         4166.0      347.0  \n",
       "59774         3101.0      258.0  \n",
       "60054         2201.0      183.0  \n",
       "60034         2152.0      179.0  \n",
       "59744         1785.0      148.0  "
      ]
     },
     "execution_count": 113,
     "metadata": {},
     "output_type": "execute_result"
    }
   ],
   "source": [
    "drop_constants(top_level_expenditure).sort_values('Value', ascending=False)"
   ]
  },
  {
   "cell_type": "code",
   "execution_count": 84,
   "metadata": {},
   "outputs": [],
   "source": [
    "import re"
   ]
  },
  {
   "cell_type": "code",
   "execution_count": 103,
   "metadata": {},
   "outputs": [],
   "source": [
    "detailed_expenditure = us_expenditure_df[us_expenditure_df['TRANSACT'].apply(lambda x: bool(re.match('^P31CP\\d\\d[1-9]$', x)))]"
   ]
  },
  {
   "cell_type": "code",
   "execution_count": 104,
   "metadata": {},
   "outputs": [
    {
     "data": {
      "text/plain": [
       "False"
      ]
     },
     "execution_count": 104,
     "metadata": {},
     "output_type": "execute_result"
    }
   ],
   "source": [
    "bool(re.match('P31CP\\d$',us_expenditure_df['TRANSACT'].loc[60024]))"
   ]
  },
  {
   "cell_type": "code",
   "execution_count": 110,
   "metadata": {},
   "outputs": [],
   "source": [
    "def drop_constants(df):\n",
    "    nunique = df.apply(pd.Series.nunique)\n",
    "    cols_to_drop = nunique[nunique == 1].index\n",
    "    return df.drop(cols_to_drop, axis=1)\n",
    "\n"
   ]
  },
  {
   "cell_type": "code",
   "execution_count": 111,
   "metadata": {},
   "outputs": [
    {
     "data": {
      "text/html": [
       "<div>\n",
       "<style scoped>\n",
       "    .dataframe tbody tr th:only-of-type {\n",
       "        vertical-align: middle;\n",
       "    }\n",
       "\n",
       "    .dataframe tbody tr th {\n",
       "        vertical-align: top;\n",
       "    }\n",
       "\n",
       "    .dataframe thead th {\n",
       "        text-align: right;\n",
       "    }\n",
       "</style>\n",
       "<table border=\"1\" class=\"dataframe\">\n",
       "  <thead>\n",
       "    <tr style=\"text-align: right;\">\n",
       "      <th></th>\n",
       "      <th>TRANSACT</th>\n",
       "      <th>Transaction</th>\n",
       "      <th>Value</th>\n",
       "      <th>per household</th>\n",
       "      <th>per month</th>\n",
       "    </tr>\n",
       "  </thead>\n",
       "  <tbody>\n",
       "    <tr>\n",
       "      <th>59714</th>\n",
       "      <td>P31CP042</td>\n",
       "      <td>Imputed rentals for housing</td>\n",
       "      <td>1558667.0</td>\n",
       "      <td>12216.0</td>\n",
       "      <td>1018.0</td>\n",
       "    </tr>\n",
       "    <tr>\n",
       "      <th>59794</th>\n",
       "      <td>P31CP063</td>\n",
       "      <td>Hospital services</td>\n",
       "      <td>1241966.0</td>\n",
       "      <td>9734.0</td>\n",
       "      <td>811.0</td>\n",
       "    </tr>\n",
       "    <tr>\n",
       "      <th>59684</th>\n",
       "      <td>P31CP062</td>\n",
       "      <td>Out-patient services</td>\n",
       "      <td>1029204.0</td>\n",
       "      <td>8066.0</td>\n",
       "      <td>672.0</td>\n",
       "    </tr>\n",
       "    <tr>\n",
       "      <th>59613</th>\n",
       "      <td>P31CP111</td>\n",
       "      <td>Catering services</td>\n",
       "      <td>752962.0</td>\n",
       "      <td>5901.0</td>\n",
       "      <td>491.0</td>\n",
       "    </tr>\n",
       "    <tr>\n",
       "      <th>59503</th>\n",
       "      <td>P31CP011</td>\n",
       "      <td>Food</td>\n",
       "      <td>737407.0</td>\n",
       "      <td>5779.0</td>\n",
       "      <td>481.0</td>\n",
       "    </tr>\n",
       "    <tr>\n",
       "      <th>59964</th>\n",
       "      <td>P31CP126</td>\n",
       "      <td>Financial services n. e. c.</td>\n",
       "      <td>679654.0</td>\n",
       "      <td>5326.0</td>\n",
       "      <td>443.0</td>\n",
       "    </tr>\n",
       "    <tr>\n",
       "      <th>59674</th>\n",
       "      <td>P31CP072</td>\n",
       "      <td>Operation of personal transport equipment</td>\n",
       "      <td>650451.0</td>\n",
       "      <td>5097.0</td>\n",
       "      <td>424.0</td>\n",
       "    </tr>\n",
       "    <tr>\n",
       "      <th>59523</th>\n",
       "      <td>P31CP041</td>\n",
       "      <td>Actual rentals for housing</td>\n",
       "      <td>565182.0</td>\n",
       "      <td>4429.0</td>\n",
       "      <td>369.0</td>\n",
       "    </tr>\n",
       "    <tr>\n",
       "      <th>59553</th>\n",
       "      <td>P31CP061</td>\n",
       "      <td>Medical products, appliances and equipment</td>\n",
       "      <td>557924.0</td>\n",
       "      <td>4372.0</td>\n",
       "      <td>364.0</td>\n",
       "    </tr>\n",
       "    <tr>\n",
       "      <th>59563</th>\n",
       "      <td>P31CP071</td>\n",
       "      <td>Purchase of vehicles</td>\n",
       "      <td>425369.0</td>\n",
       "      <td>3333.0</td>\n",
       "      <td>277.0</td>\n",
       "    </tr>\n",
       "    <tr>\n",
       "      <th>59954</th>\n",
       "      <td>P31CP125</td>\n",
       "      <td>Insurance</td>\n",
       "      <td>380700.0</td>\n",
       "      <td>2983.0</td>\n",
       "      <td>248.0</td>\n",
       "    </tr>\n",
       "    <tr>\n",
       "      <th>59583</th>\n",
       "      <td>P31CP091</td>\n",
       "      <td>Audio-visual, photographic and information pro...</td>\n",
       "      <td>350919.0</td>\n",
       "      <td>2750.0</td>\n",
       "      <td>229.0</td>\n",
       "    </tr>\n",
       "    <tr>\n",
       "      <th>59864</th>\n",
       "      <td>P31CP094</td>\n",
       "      <td>Recreational and cultural services</td>\n",
       "      <td>347079.0</td>\n",
       "      <td>2720.0</td>\n",
       "      <td>226.0</td>\n",
       "    </tr>\n",
       "    <tr>\n",
       "      <th>59543</th>\n",
       "      <td>P31CP031</td>\n",
       "      <td>Clothing</td>\n",
       "      <td>315743.0</td>\n",
       "      <td>2474.0</td>\n",
       "      <td>206.0</td>\n",
       "    </tr>\n",
       "    <tr>\n",
       "      <th>59824</th>\n",
       "      <td>P31CP093</td>\n",
       "      <td>Other recreational items and equipment, garden...</td>\n",
       "      <td>287740.0</td>\n",
       "      <td>2255.0</td>\n",
       "      <td>187.0</td>\n",
       "    </tr>\n",
       "    <tr>\n",
       "      <th>59603</th>\n",
       "      <td>P31CP121</td>\n",
       "      <td>Personal care</td>\n",
       "      <td>273087.0</td>\n",
       "      <td>2140.0</td>\n",
       "      <td>178.0</td>\n",
       "    </tr>\n",
       "    <tr>\n",
       "      <th>59914</th>\n",
       "      <td>P31CP045</td>\n",
       "      <td>Electricity, gas and other fuels</td>\n",
       "      <td>243587.0</td>\n",
       "      <td>1909.0</td>\n",
       "      <td>159.0</td>\n",
       "    </tr>\n",
       "    <tr>\n",
       "      <th>59814</th>\n",
       "      <td>P31CP083</td>\n",
       "      <td>Telephone and telefax services</td>\n",
       "      <td>233409.0</td>\n",
       "      <td>1829.0</td>\n",
       "      <td>152.0</td>\n",
       "    </tr>\n",
       "    <tr>\n",
       "      <th>59854</th>\n",
       "      <td>P31CP124</td>\n",
       "      <td>Social protection</td>\n",
       "      <td>194825.0</td>\n",
       "      <td>1526.0</td>\n",
       "      <td>127.0</td>\n",
       "    </tr>\n",
       "    <tr>\n",
       "      <th>60014</th>\n",
       "      <td>P31CP127</td>\n",
       "      <td>Other services n. e. c.</td>\n",
       "      <td>193879.0</td>\n",
       "      <td>1519.0</td>\n",
       "      <td>126.0</td>\n",
       "    </tr>\n",
       "    <tr>\n",
       "      <th>59834</th>\n",
       "      <td>P31CP103</td>\n",
       "      <td>Post-secondary non-tertiary education</td>\n",
       "      <td>181486.0</td>\n",
       "      <td>1422.0</td>\n",
       "      <td>118.0</td>\n",
       "    </tr>\n",
       "    <tr>\n",
       "      <th>59533</th>\n",
       "      <td>P31CP051</td>\n",
       "      <td>Furniture and furnishings, carpets and other f...</td>\n",
       "      <td>169460.0</td>\n",
       "      <td>1328.0</td>\n",
       "      <td>110.0</td>\n",
       "    </tr>\n",
       "    <tr>\n",
       "      <th>59984</th>\n",
       "      <td>P31CP056</td>\n",
       "      <td>Goods and services for routine household maint...</td>\n",
       "      <td>166247.0</td>\n",
       "      <td>1302.0</td>\n",
       "      <td>108.0</td>\n",
       "    </tr>\n",
       "    <tr>\n",
       "      <th>59804</th>\n",
       "      <td>P31CP073</td>\n",
       "      <td>Transport services</td>\n",
       "      <td>149418.0</td>\n",
       "      <td>1171.0</td>\n",
       "      <td>97.0</td>\n",
       "    </tr>\n",
       "    <tr>\n",
       "      <th>59623</th>\n",
       "      <td>P31CP112</td>\n",
       "      <td>Accommodation services</td>\n",
       "      <td>144332.0</td>\n",
       "      <td>1131.0</td>\n",
       "      <td>94.0</td>\n",
       "    </tr>\n",
       "    <tr>\n",
       "      <th>59513</th>\n",
       "      <td>P31CP021</td>\n",
       "      <td>Alcoholic beverages</td>\n",
       "      <td>135757.0</td>\n",
       "      <td>1064.0</td>\n",
       "      <td>88.0</td>\n",
       "    </tr>\n",
       "    <tr>\n",
       "      <th>59844</th>\n",
       "      <td>P31CP123</td>\n",
       "      <td>Personal effects n. e. c.</td>\n",
       "      <td>106518.0</td>\n",
       "      <td>834.0</td>\n",
       "      <td>69.0</td>\n",
       "    </tr>\n",
       "    <tr>\n",
       "      <th>59934</th>\n",
       "      <td>P31CP095</td>\n",
       "      <td>Newspapers, books and stationery</td>\n",
       "      <td>103029.0</td>\n",
       "      <td>807.0</td>\n",
       "      <td>67.0</td>\n",
       "    </tr>\n",
       "    <tr>\n",
       "      <th>59884</th>\n",
       "      <td>P31CP044</td>\n",
       "      <td>Water supply and miscellaneous services relati...</td>\n",
       "      <td>97412.0</td>\n",
       "      <td>763.0</td>\n",
       "      <td>63.0</td>\n",
       "    </tr>\n",
       "    <tr>\n",
       "      <th>59734</th>\n",
       "      <td>P31CP012</td>\n",
       "      <td>Non-alcoholic beverages</td>\n",
       "      <td>92610.0</td>\n",
       "      <td>725.0</td>\n",
       "      <td>60.0</td>\n",
       "    </tr>\n",
       "    <tr>\n",
       "      <th>59724</th>\n",
       "      <td>P31CP022</td>\n",
       "      <td>Tobacco</td>\n",
       "      <td>92090.0</td>\n",
       "      <td>721.0</td>\n",
       "      <td>60.0</td>\n",
       "    </tr>\n",
       "    <tr>\n",
       "      <th>59694</th>\n",
       "      <td>P31CP032</td>\n",
       "      <td>Footwear</td>\n",
       "      <td>79988.0</td>\n",
       "      <td>626.0</td>\n",
       "      <td>52.0</td>\n",
       "    </tr>\n",
       "    <tr>\n",
       "      <th>59654</th>\n",
       "      <td>P31CP092</td>\n",
       "      <td>Other major durables for recreation and culture</td>\n",
       "      <td>70761.0</td>\n",
       "      <td>554.0</td>\n",
       "      <td>46.0</td>\n",
       "    </tr>\n",
       "    <tr>\n",
       "      <th>59704</th>\n",
       "      <td>P31CP052</td>\n",
       "      <td>Household textiles</td>\n",
       "      <td>62726.0</td>\n",
       "      <td>491.0</td>\n",
       "      <td>40.0</td>\n",
       "    </tr>\n",
       "    <tr>\n",
       "      <th>59784</th>\n",
       "      <td>P31CP053</td>\n",
       "      <td>Household appliances</td>\n",
       "      <td>62585.0</td>\n",
       "      <td>490.0</td>\n",
       "      <td>40.0</td>\n",
       "    </tr>\n",
       "    <tr>\n",
       "      <th>59944</th>\n",
       "      <td>P31CP105</td>\n",
       "      <td>Education not defined by level</td>\n",
       "      <td>51643.0</td>\n",
       "      <td>404.0</td>\n",
       "      <td>33.0</td>\n",
       "    </tr>\n",
       "    <tr>\n",
       "      <th>59874</th>\n",
       "      <td>P31CP054</td>\n",
       "      <td>Glassware, tableware and household utensils</td>\n",
       "      <td>39833.0</td>\n",
       "      <td>312.0</td>\n",
       "      <td>26.0</td>\n",
       "    </tr>\n",
       "    <tr>\n",
       "      <th>59644</th>\n",
       "      <td>P31CP102</td>\n",
       "      <td>Secondary education</td>\n",
       "      <td>33989.0</td>\n",
       "      <td>266.0</td>\n",
       "      <td>22.0</td>\n",
       "    </tr>\n",
       "    <tr>\n",
       "      <th>59924</th>\n",
       "      <td>P31CP055</td>\n",
       "      <td>Tools and equipment for house and garden</td>\n",
       "      <td>30698.0</td>\n",
       "      <td>240.0</td>\n",
       "      <td>20.0</td>\n",
       "    </tr>\n",
       "    <tr>\n",
       "      <th>59664</th>\n",
       "      <td>P31CP082</td>\n",
       "      <td>Telephone and telefax equipment</td>\n",
       "      <td>28507.0</td>\n",
       "      <td>223.0</td>\n",
       "      <td>18.0</td>\n",
       "    </tr>\n",
       "    <tr>\n",
       "      <th>59593</th>\n",
       "      <td>P31CP101</td>\n",
       "      <td>Pre-primary and primary education</td>\n",
       "      <td>13719.0</td>\n",
       "      <td>107.0</td>\n",
       "      <td>8.0</td>\n",
       "    </tr>\n",
       "    <tr>\n",
       "      <th>59573</th>\n",
       "      <td>P31CP081</td>\n",
       "      <td>Postal services</td>\n",
       "      <td>12713.0</td>\n",
       "      <td>99.0</td>\n",
       "      <td>8.0</td>\n",
       "    </tr>\n",
       "    <tr>\n",
       "      <th>59974</th>\n",
       "      <td>P31CP096</td>\n",
       "      <td>Package holidays</td>\n",
       "      <td>11853.0</td>\n",
       "      <td>92.0</td>\n",
       "      <td>7.0</td>\n",
       "    </tr>\n",
       "    <tr>\n",
       "      <th>83524</th>\n",
       "      <td>P31CP122</td>\n",
       "      <td>Prostitution</td>\n",
       "      <td>0.0</td>\n",
       "      <td>0.0</td>\n",
       "      <td>0.0</td>\n",
       "    </tr>\n",
       "    <tr>\n",
       "      <th>83534</th>\n",
       "      <td>P31CP023</td>\n",
       "      <td>Narcotics</td>\n",
       "      <td>0.0</td>\n",
       "      <td>0.0</td>\n",
       "      <td>0.0</td>\n",
       "    </tr>\n",
       "    <tr>\n",
       "      <th>83544</th>\n",
       "      <td>P31CP043</td>\n",
       "      <td>Maintenance and repair of the dwelling</td>\n",
       "      <td>0.0</td>\n",
       "      <td>0.0</td>\n",
       "      <td>0.0</td>\n",
       "    </tr>\n",
       "    <tr>\n",
       "      <th>83554</th>\n",
       "      <td>P31CP104</td>\n",
       "      <td>Tertiary education</td>\n",
       "      <td>0.0</td>\n",
       "      <td>0.0</td>\n",
       "      <td>0.0</td>\n",
       "    </tr>\n",
       "  </tbody>\n",
       "</table>\n",
       "</div>"
      ],
      "text/plain": [
       "       TRANSACT                                        Transaction      Value  \\\n",
       "59714  P31CP042                        Imputed rentals for housing  1558667.0   \n",
       "59794  P31CP063                                  Hospital services  1241966.0   \n",
       "59684  P31CP062                               Out-patient services  1029204.0   \n",
       "59613  P31CP111                                  Catering services   752962.0   \n",
       "59503  P31CP011                                               Food   737407.0   \n",
       "59964  P31CP126                        Financial services n. e. c.   679654.0   \n",
       "59674  P31CP072          Operation of personal transport equipment   650451.0   \n",
       "59523  P31CP041                         Actual rentals for housing   565182.0   \n",
       "59553  P31CP061         Medical products, appliances and equipment   557924.0   \n",
       "59563  P31CP071                               Purchase of vehicles   425369.0   \n",
       "59954  P31CP125                                          Insurance   380700.0   \n",
       "59583  P31CP091  Audio-visual, photographic and information pro...   350919.0   \n",
       "59864  P31CP094                 Recreational and cultural services   347079.0   \n",
       "59543  P31CP031                                           Clothing   315743.0   \n",
       "59824  P31CP093  Other recreational items and equipment, garden...   287740.0   \n",
       "59603  P31CP121                                      Personal care   273087.0   \n",
       "59914  P31CP045                   Electricity, gas and other fuels   243587.0   \n",
       "59814  P31CP083                     Telephone and telefax services   233409.0   \n",
       "59854  P31CP124                                  Social protection   194825.0   \n",
       "60014  P31CP127                            Other services n. e. c.   193879.0   \n",
       "59834  P31CP103              Post-secondary non-tertiary education   181486.0   \n",
       "59533  P31CP051  Furniture and furnishings, carpets and other f...   169460.0   \n",
       "59984  P31CP056  Goods and services for routine household maint...   166247.0   \n",
       "59804  P31CP073                                 Transport services   149418.0   \n",
       "59623  P31CP112                             Accommodation services   144332.0   \n",
       "59513  P31CP021                                Alcoholic beverages   135757.0   \n",
       "59844  P31CP123                          Personal effects n. e. c.   106518.0   \n",
       "59934  P31CP095                   Newspapers, books and stationery   103029.0   \n",
       "59884  P31CP044  Water supply and miscellaneous services relati...    97412.0   \n",
       "59734  P31CP012                            Non-alcoholic beverages    92610.0   \n",
       "59724  P31CP022                                            Tobacco    92090.0   \n",
       "59694  P31CP032                                           Footwear    79988.0   \n",
       "59654  P31CP092    Other major durables for recreation and culture    70761.0   \n",
       "59704  P31CP052                                 Household textiles    62726.0   \n",
       "59784  P31CP053                               Household appliances    62585.0   \n",
       "59944  P31CP105                     Education not defined by level    51643.0   \n",
       "59874  P31CP054        Glassware, tableware and household utensils    39833.0   \n",
       "59644  P31CP102                                Secondary education    33989.0   \n",
       "59924  P31CP055           Tools and equipment for house and garden    30698.0   \n",
       "59664  P31CP082                    Telephone and telefax equipment    28507.0   \n",
       "59593  P31CP101                  Pre-primary and primary education    13719.0   \n",
       "59573  P31CP081                                    Postal services    12713.0   \n",
       "59974  P31CP096                                   Package holidays    11853.0   \n",
       "83524  P31CP122                                       Prostitution        0.0   \n",
       "83534  P31CP023                                          Narcotics        0.0   \n",
       "83544  P31CP043             Maintenance and repair of the dwelling        0.0   \n",
       "83554  P31CP104                                 Tertiary education        0.0   \n",
       "\n",
       "       per household  per month  \n",
       "59714        12216.0     1018.0  \n",
       "59794         9734.0      811.0  \n",
       "59684         8066.0      672.0  \n",
       "59613         5901.0      491.0  \n",
       "59503         5779.0      481.0  \n",
       "59964         5326.0      443.0  \n",
       "59674         5097.0      424.0  \n",
       "59523         4429.0      369.0  \n",
       "59553         4372.0      364.0  \n",
       "59563         3333.0      277.0  \n",
       "59954         2983.0      248.0  \n",
       "59583         2750.0      229.0  \n",
       "59864         2720.0      226.0  \n",
       "59543         2474.0      206.0  \n",
       "59824         2255.0      187.0  \n",
       "59603         2140.0      178.0  \n",
       "59914         1909.0      159.0  \n",
       "59814         1829.0      152.0  \n",
       "59854         1526.0      127.0  \n",
       "60014         1519.0      126.0  \n",
       "59834         1422.0      118.0  \n",
       "59533         1328.0      110.0  \n",
       "59984         1302.0      108.0  \n",
       "59804         1171.0       97.0  \n",
       "59623         1131.0       94.0  \n",
       "59513         1064.0       88.0  \n",
       "59844          834.0       69.0  \n",
       "59934          807.0       67.0  \n",
       "59884          763.0       63.0  \n",
       "59734          725.0       60.0  \n",
       "59724          721.0       60.0  \n",
       "59694          626.0       52.0  \n",
       "59654          554.0       46.0  \n",
       "59704          491.0       40.0  \n",
       "59784          490.0       40.0  \n",
       "59944          404.0       33.0  \n",
       "59874          312.0       26.0  \n",
       "59644          266.0       22.0  \n",
       "59924          240.0       20.0  \n",
       "59664          223.0       18.0  \n",
       "59593          107.0        8.0  \n",
       "59573           99.0        8.0  \n",
       "59974           92.0        7.0  \n",
       "83524            0.0        0.0  \n",
       "83534            0.0        0.0  \n",
       "83544            0.0        0.0  \n",
       "83554            0.0        0.0  "
      ]
     },
     "execution_count": 111,
     "metadata": {},
     "output_type": "execute_result"
    }
   ],
   "source": [
    "drop_constants(detailed_expenditure).sort_values('Value', ascending=False)"
   ]
  },
  {
   "cell_type": "code",
   "execution_count": 109,
   "metadata": {},
   "outputs": [
    {
     "data": {
      "text/plain": [
       "8442.0"
      ]
     },
     "execution_count": 109,
     "metadata": {},
     "output_type": "execute_result"
    }
   ],
   "source": [
    "detailed_expenditure['per month'].sum()"
   ]
  },
  {
   "cell_type": "markdown",
   "metadata": {},
   "source": [
    "# From BEA"
   ]
  },
  {
   "cell_type": "code",
   "execution_count": 91,
   "metadata": {},
   "outputs": [],
   "source": [
    "import pybea"
   ]
  },
  {
   "cell_type": "code",
   "execution_count": 25,
   "metadata": {},
   "outputs": [],
   "source": [
    "from pybea import api"
   ]
  },
  {
   "cell_type": "code",
   "execution_count": 55,
   "metadata": {},
   "outputs": [],
   "source": [
    "import requests"
   ]
  },
  {
   "cell_type": "code",
   "execution_count": 312,
   "metadata": {},
   "outputs": [],
   "source": [
    "from slugify import slugify"
   ]
  },
  {
   "cell_type": "code",
   "execution_count": 59,
   "metadata": {},
   "outputs": [],
   "source": [
    "base_url = \"https://apps.bea.gov/api/data\""
   ]
  },
  {
   "cell_type": "code",
   "execution_count": 87,
   "metadata": {},
   "outputs": [],
   "source": [
    "pybea.api.Request.base_url = base_url"
   ]
  },
  {
   "cell_type": "code",
   "execution_count": 40,
   "metadata": {},
   "outputs": [],
   "source": [
    "USER_ID = \"9ACF113E-22D9-43B6-B56E-162BD6BD55BA\""
   ]
  },
  {
   "cell_type": "code",
   "execution_count": 96,
   "metadata": {},
   "outputs": [],
   "source": [
    "data = pybea.get_data(USER_ID,\n",
    "                      DataSetName='NIPA',\n",
    "                      TableName='T20405',\n",
    "                      Frequency=['A'],\n",
    "                      Year='2020',\n",
    "                      ResultFormat=\"XML\"\n",
    "                      )"
   ]
  },
  {
   "cell_type": "code",
   "execution_count": 305,
   "metadata": {},
   "outputs": [
    {
     "data": {
      "text/html": [
       "<div>\n",
       "<style scoped>\n",
       "    .dataframe tbody tr th:only-of-type {\n",
       "        vertical-align: middle;\n",
       "    }\n",
       "\n",
       "    .dataframe tbody tr th {\n",
       "        vertical-align: top;\n",
       "    }\n",
       "\n",
       "    .dataframe thead th {\n",
       "        text-align: right;\n",
       "    }\n",
       "</style>\n",
       "<table border=\"1\" class=\"dataframe\">\n",
       "  <thead>\n",
       "    <tr style=\"text-align: right;\">\n",
       "      <th></th>\n",
       "      <th>TableName</th>\n",
       "      <th>SeriesCode</th>\n",
       "      <th>LineNumber</th>\n",
       "      <th>LineDescription</th>\n",
       "      <th>TimePeriod</th>\n",
       "      <th>CL_UNIT</th>\n",
       "      <th>UNIT_MULT</th>\n",
       "      <th>METRIC_NAME</th>\n",
       "      <th>DataValue</th>\n",
       "    </tr>\n",
       "  </thead>\n",
       "  <tbody>\n",
       "    <tr>\n",
       "      <th>0</th>\n",
       "      <td>T20405</td>\n",
       "      <td>DPCERC</td>\n",
       "      <td>1</td>\n",
       "      <td>Personal consumption expenditures</td>\n",
       "      <td>2020</td>\n",
       "      <td>Level</td>\n",
       "      <td>6</td>\n",
       "      <td>Current Dollars</td>\n",
       "      <td>14047565.0</td>\n",
       "    </tr>\n",
       "    <tr>\n",
       "      <th>1</th>\n",
       "      <td>T20405</td>\n",
       "      <td>DGDSRC</td>\n",
       "      <td>2</td>\n",
       "      <td>Goods</td>\n",
       "      <td>2020</td>\n",
       "      <td>Level</td>\n",
       "      <td>6</td>\n",
       "      <td>Current Dollars</td>\n",
       "      <td>4653822.0</td>\n",
       "    </tr>\n",
       "    <tr>\n",
       "      <th>2</th>\n",
       "      <td>T20405</td>\n",
       "      <td>DDURRC</td>\n",
       "      <td>3</td>\n",
       "      <td>Durable goods</td>\n",
       "      <td>2020</td>\n",
       "      <td>Level</td>\n",
       "      <td>6</td>\n",
       "      <td>Current Dollars</td>\n",
       "      <td>1616408.0</td>\n",
       "    </tr>\n",
       "    <tr>\n",
       "      <th>3</th>\n",
       "      <td>T20405</td>\n",
       "      <td>DMOTRC</td>\n",
       "      <td>4</td>\n",
       "      <td>Motor vehicles and parts</td>\n",
       "      <td>2020</td>\n",
       "      <td>Level</td>\n",
       "      <td>6</td>\n",
       "      <td>Current Dollars</td>\n",
       "      <td>541265.0</td>\n",
       "    </tr>\n",
       "    <tr>\n",
       "      <th>4</th>\n",
       "      <td>T20405</td>\n",
       "      <td>DNMVRC</td>\n",
       "      <td>5</td>\n",
       "      <td>New motor vehicles (55)</td>\n",
       "      <td>2020</td>\n",
       "      <td>Level</td>\n",
       "      <td>6</td>\n",
       "      <td>Current Dollars</td>\n",
       "      <td>292908.0</td>\n",
       "    </tr>\n",
       "  </tbody>\n",
       "</table>\n",
       "</div>"
      ],
      "text/plain": [
       "  TableName SeriesCode  LineNumber                    LineDescription  \\\n",
       "0    T20405     DPCERC           1  Personal consumption expenditures   \n",
       "1    T20405     DGDSRC           2                              Goods   \n",
       "2    T20405     DDURRC           3                      Durable goods   \n",
       "3    T20405     DMOTRC           4           Motor vehicles and parts   \n",
       "4    T20405     DNMVRC           5            New motor vehicles (55)   \n",
       "\n",
       "  TimePeriod CL_UNIT  UNIT_MULT      METRIC_NAME   DataValue  \n",
       "0       2020   Level          6  Current Dollars  14047565.0  \n",
       "1       2020   Level          6  Current Dollars   4653822.0  \n",
       "2       2020   Level          6  Current Dollars   1616408.0  \n",
       "3       2020   Level          6  Current Dollars    541265.0  \n",
       "4       2020   Level          6  Current Dollars    292908.0  "
      ]
     },
     "execution_count": 305,
     "metadata": {},
     "output_type": "execute_result"
    }
   ],
   "source": [
    "data.head()"
   ]
  },
  {
   "cell_type": "code",
   "execution_count": 174,
   "metadata": {},
   "outputs": [],
   "source": [
    "df = pd.read_csv('data/bea_t20405.csv', skiprows=4, index_col=0)"
   ]
  },
  {
   "cell_type": "code",
   "execution_count": 176,
   "metadata": {},
   "outputs": [],
   "source": [
    "df['indent'] = df['Unnamed: 1'].apply(lambda x: (len(x)-len(x.lstrip()))//4 if type(x)==str else 0)"
   ]
  },
  {
   "cell_type": "code",
   "execution_count": 142,
   "metadata": {},
   "outputs": [],
   "source": [
    "df = df.dropna()"
   ]
  },
  {
   "cell_type": "code",
   "execution_count": 178,
   "metadata": {},
   "outputs": [],
   "source": [
    "ind = df.reset_index()[df.reset_index()['Unnamed: 1']==\"Additional aggregates:\"].index[0]"
   ]
  },
  {
   "cell_type": "code",
   "execution_count": 184,
   "metadata": {},
   "outputs": [],
   "source": [
    "df = df.iloc[1:ind,:]"
   ]
  },
  {
   "cell_type": "code",
   "execution_count": 307,
   "metadata": {},
   "outputs": [],
   "source": [
    "# df[df['indent']==7].head()"
   ]
  },
  {
   "cell_type": "code",
   "execution_count": 197,
   "metadata": {},
   "outputs": [],
   "source": [
    "df = pd.read_csv('data/bea_20305.xls', skiprows=4, index_col=0)"
   ]
  },
  {
   "cell_type": "code",
   "execution_count": 199,
   "metadata": {},
   "outputs": [],
   "source": [
    "ind = df.reset_index()[df.reset_index()['Unnamed: 1']==\"Addenda:\"].index[0]"
   ]
  },
  {
   "cell_type": "code",
   "execution_count": 201,
   "metadata": {},
   "outputs": [],
   "source": [
    "df = df.iloc[1:ind,:]"
   ]
  },
  {
   "cell_type": "code",
   "execution_count": 203,
   "metadata": {},
   "outputs": [
    {
     "name": "stderr",
     "output_type": "stream",
     "text": [
      "/opt/conda/lib/python3.7/site-packages/ipykernel_launcher.py:1: SettingWithCopyWarning: \n",
      "A value is trying to be set on a copy of a slice from a DataFrame.\n",
      "Try using .loc[row_indexer,col_indexer] = value instead\n",
      "\n",
      "See the caveats in the documentation: https://pandas.pydata.org/pandas-docs/stable/user_guide/indexing.html#returning-a-view-versus-a-copy\n",
      "  \"\"\"Entry point for launching an IPython kernel.\n"
     ]
    }
   ],
   "source": [
    "df['indent'] = df['Unnamed: 1'].apply(lambda x: (len(x)-len(x.lstrip()))//4 if type(x)==str else 0)"
   ]
  },
  {
   "cell_type": "code",
   "execution_count": 212,
   "metadata": {},
   "outputs": [],
   "source": [
    "num_of_consumers = 330"
   ]
  },
  {
   "cell_type": "code",
   "execution_count": 213,
   "metadata": {},
   "outputs": [
    {
     "name": "stderr",
     "output_type": "stream",
     "text": [
      "/opt/conda/lib/python3.7/site-packages/ipykernel_launcher.py:1: SettingWithCopyWarning: \n",
      "A value is trying to be set on a copy of a slice from a DataFrame.\n",
      "Try using .loc[row_indexer,col_indexer] = value instead\n",
      "\n",
      "See the caveats in the documentation: https://pandas.pydata.org/pandas-docs/stable/user_guide/indexing.html#returning-a-view-versus-a-copy\n",
      "  \"\"\"Entry point for launching an IPython kernel.\n"
     ]
    }
   ],
   "source": [
    "df['per unit'] = df['2020']/num_of_consumers"
   ]
  },
  {
   "cell_type": "code",
   "execution_count": 221,
   "metadata": {},
   "outputs": [],
   "source": [
    "base_url = \"https://stats.oecd.org/SDMX-JSON/data/SNA_TABLE5\""
   ]
  },
  {
   "cell_type": "code",
   "execution_count": 274,
   "metadata": {},
   "outputs": [],
   "source": [
    "countries = \"+\".join([\"USA\"])\n",
    "dims = \"P31NC+P31DC+P31CP010+P31CP011+P31CP012+P31CP020+P31CP021+P31CP022+P31CP023+P31CP030+P31CP031+P31CP032+P31CP040+P31CP041+P31CP042+P31CP043+P31CP044+P31CP045+P31CP050+P31CP051+P31CP052+P31CP053+P31CP054+P31CP055+P31CP056+P31CP060+P31CP061+P31CP062+P31CP063+P31CP070+P31CP071+P31CP072+P31CP073+P31CP080+P31CP081+P31CP082+P31CP083+P31CP090+P31CP091+P31CP092+P31CP093+P31CP094+P31CP095+P31CP096+P31CP100+P31CP101+P31CP102+P31CP103+P31CP104+P31CP105+P31CP110+P31CP111+P31CP112+P31CP120+P31CP121+P31CP122+P31CP123+P31CP124+P31CP125+P31CP126+P31CP127+P31CP122_127+P311+P312+P313+P311B+P312B+P313B+P314B+P33+P34+B1_GE\"\n",
    "measure = \"C\" #+V+VP+VOB+VPVOB\"\n",
    "q = \"all\""
   ]
  },
  {
   "cell_type": "code",
   "execution_count": 264,
   "metadata": {},
   "outputs": [],
   "source": [
    "params = {\"startTime\":\"2008\", \"endTime\":\"2020\", \"dimensionAtObservation\":\"allDimensions\"}"
   ]
  },
  {
   "cell_type": "code",
   "execution_count": 265,
   "metadata": {},
   "outputs": [],
   "source": [
    "params = {\"startTime\":\"2019\", \"endTime\":\"2020\"}"
   ]
  },
  {
   "cell_type": "code",
   "execution_count": 275,
   "metadata": {},
   "outputs": [],
   "source": [
    "req = requests.Request(\"GET\",base_url+'/'+countries+'.'+dims+'.'+measure+'/'+q, params=params)"
   ]
  },
  {
   "cell_type": "code",
   "execution_count": 267,
   "metadata": {},
   "outputs": [],
   "source": [
    "prep = req.prepare()"
   ]
  },
  {
   "cell_type": "code",
   "execution_count": 268,
   "metadata": {},
   "outputs": [],
   "source": [
    "def pretty_print_POST(req):\n",
    "    \"\"\"\n",
    "    At this point it is completely built and ready\n",
    "    to be fired; it is \"prepared\".\n",
    "\n",
    "    However pay attention at the formatting used in \n",
    "    this function because it is programmed to be pretty \n",
    "    printed and may differ from the actual request.\n",
    "    \"\"\"\n",
    "    print('{}\\n{}\\r\\n{}\\r\\n\\r\\n{}'.format(\n",
    "        '-----------START-----------',\n",
    "        req.method + ' ' + req.url,\n",
    "        '\\r\\n'.join('{}: {}'.format(k, v) for k, v in req.headers.items()),\n",
    "        req.body,\n",
    "    ))"
   ]
  },
  {
   "cell_type": "code",
   "execution_count": 269,
   "metadata": {},
   "outputs": [
    {
     "name": "stdout",
     "output_type": "stream",
     "text": [
      "-----------START-----------\n",
      "GET https://stats.oecd.org/SDMX-JSON/data/SNA_TABLE5/USA.P31NC+P31DC+P31CP010+P31CP011+P31CP012+P31CP020+P31CP021+P31CP022+P31CP023+P31CP030+P31CP031+P31CP032+P31CP040+P31CP041+P31CP042+P31CP043+P31CP044+P31CP045+P31CP050+P31CP051+P31CP052+P31CP053+P31CP054+P31CP055+P31CP056+P31CP060+P31CP061+P31CP062+P31CP063+P31CP070+P31CP071+P31CP072+P31CP073+P31CP080+P31CP081+P31CP082+P31CP083+P31CP090+P31CP091+P31CP092+P31CP093+P31CP094+P31CP095+P31CP096+P31CP100+P31CP101+P31CP102+P31CP103+P31CP104+P31CP105+P31CP110+P31CP111+P31CP112+P31CP120+P31CP121+P31CP122+P31CP123+P31CP124+P31CP125+P31CP126+P31CP127+P31CP122_127+P311+P312+P313+P311B+P312B+P313B+P314B+P33+P34+B1_GE.C/all?startTime=2019&endTime=2020\n",
      "\n",
      "\n",
      "None\n"
     ]
    }
   ],
   "source": [
    "pretty_print_POST(prep)"
   ]
  },
  {
   "cell_type": "code",
   "execution_count": 270,
   "metadata": {},
   "outputs": [],
   "source": [
    "sess = requests.Session()"
   ]
  },
  {
   "cell_type": "code",
   "execution_count": 271,
   "metadata": {},
   "outputs": [],
   "source": [
    "res = sess.send(prep)"
   ]
  },
  {
   "cell_type": "code",
   "execution_count": 272,
   "metadata": {},
   "outputs": [],
   "source": [
    "j = res.json()"
   ]
  },
  {
   "cell_type": "code",
   "execution_count": 280,
   "metadata": {},
   "outputs": [],
   "source": [
    "# from https://data.oecd.org/searchresults/?hf=20&b=0&r=f%2Ftype%2Fdatasets%2Fapi+access&r=%2Bf%2Ftopics_en%2Feconomy&s=desc(document_publicationdate)&l=en"
   ]
  },
  {
   "cell_type": "code",
   "execution_count": 278,
   "metadata": {},
   "outputs": [],
   "source": [
    "df = pd.read_csv('data/SNA_TABLE5_15122021034126906.csv')"
   ]
  },
  {
   "cell_type": "code",
   "execution_count": 282,
   "metadata": {},
   "outputs": [],
   "source": [
    "df = df.sort_values('TRANSACT')"
   ]
  },
  {
   "cell_type": "code",
   "execution_count": 308,
   "metadata": {},
   "outputs": [
    {
     "data": {
      "text/html": [
       "<div>\n",
       "<style scoped>\n",
       "    .dataframe tbody tr th:only-of-type {\n",
       "        vertical-align: middle;\n",
       "    }\n",
       "\n",
       "    .dataframe tbody tr th {\n",
       "        vertical-align: top;\n",
       "    }\n",
       "\n",
       "    .dataframe thead th {\n",
       "        text-align: right;\n",
       "    }\n",
       "</style>\n",
       "<table border=\"1\" class=\"dataframe\">\n",
       "  <thead>\n",
       "    <tr style=\"text-align: right;\">\n",
       "      <th></th>\n",
       "      <th>LOCATION</th>\n",
       "      <th>Country</th>\n",
       "      <th>TRANSACT</th>\n",
       "      <th>Transaction</th>\n",
       "      <th>MEASURE</th>\n",
       "      <th>Measure</th>\n",
       "      <th>TIME</th>\n",
       "      <th>Year</th>\n",
       "      <th>Unit Code</th>\n",
       "      <th>Unit</th>\n",
       "      <th>PowerCode Code</th>\n",
       "      <th>PowerCode</th>\n",
       "      <th>Reference Period Code</th>\n",
       "      <th>Reference Period</th>\n",
       "      <th>Value</th>\n",
       "      <th>Flag Codes</th>\n",
       "      <th>Flags</th>\n",
       "    </tr>\n",
       "  </thead>\n",
       "  <tbody>\n",
       "    <tr>\n",
       "      <th>16</th>\n",
       "      <td>USA</td>\n",
       "      <td>United States</td>\n",
       "      <td>B1_GE</td>\n",
       "      <td>Gross domestic product (expenditure approach)</td>\n",
       "      <td>C</td>\n",
       "      <td>Current prices</td>\n",
       "      <td>2020</td>\n",
       "      <td>2020</td>\n",
       "      <td>USD</td>\n",
       "      <td>US Dollar</td>\n",
       "      <td>6</td>\n",
       "      <td>Millions</td>\n",
       "      <td>NaN</td>\n",
       "      <td>NaN</td>\n",
       "      <td>20893746</td>\n",
       "      <td>NaN</td>\n",
       "      <td>NaN</td>\n",
       "    </tr>\n",
       "    <tr>\n",
       "      <th>60</th>\n",
       "      <td>USA</td>\n",
       "      <td>United States</td>\n",
       "      <td>P311B</td>\n",
       "      <td>Durable goods</td>\n",
       "      <td>C</td>\n",
       "      <td>Current prices</td>\n",
       "      <td>2020</td>\n",
       "      <td>2020</td>\n",
       "      <td>USD</td>\n",
       "      <td>US Dollar</td>\n",
       "      <td>6</td>\n",
       "      <td>Millions</td>\n",
       "      <td>NaN</td>\n",
       "      <td>NaN</td>\n",
       "      <td>1289681</td>\n",
       "      <td>NaN</td>\n",
       "      <td>NaN</td>\n",
       "    </tr>\n",
       "    <tr>\n",
       "      <th>61</th>\n",
       "      <td>USA</td>\n",
       "      <td>United States</td>\n",
       "      <td>P312B</td>\n",
       "      <td>Semi-durable goods</td>\n",
       "      <td>C</td>\n",
       "      <td>Current prices</td>\n",
       "      <td>2020</td>\n",
       "      <td>2020</td>\n",
       "      <td>USD</td>\n",
       "      <td>US Dollar</td>\n",
       "      <td>6</td>\n",
       "      <td>Millions</td>\n",
       "      <td>NaN</td>\n",
       "      <td>NaN</td>\n",
       "      <td>820380</td>\n",
       "      <td>NaN</td>\n",
       "      <td>NaN</td>\n",
       "    </tr>\n",
       "    <tr>\n",
       "      <th>62</th>\n",
       "      <td>USA</td>\n",
       "      <td>United States</td>\n",
       "      <td>P313B</td>\n",
       "      <td>Non-durable goods</td>\n",
       "      <td>C</td>\n",
       "      <td>Current prices</td>\n",
       "      <td>2020</td>\n",
       "      <td>2020</td>\n",
       "      <td>USD</td>\n",
       "      <td>US Dollar</td>\n",
       "      <td>6</td>\n",
       "      <td>Millions</td>\n",
       "      <td>NaN</td>\n",
       "      <td>NaN</td>\n",
       "      <td>2532650</td>\n",
       "      <td>NaN</td>\n",
       "      <td>NaN</td>\n",
       "    </tr>\n",
       "    <tr>\n",
       "      <th>63</th>\n",
       "      <td>USA</td>\n",
       "      <td>United States</td>\n",
       "      <td>P314B</td>\n",
       "      <td>Services</td>\n",
       "      <td>C</td>\n",
       "      <td>Current prices</td>\n",
       "      <td>2020</td>\n",
       "      <td>2020</td>\n",
       "      <td>USD</td>\n",
       "      <td>US Dollar</td>\n",
       "      <td>6</td>\n",
       "      <td>Millions</td>\n",
       "      <td>NaN</td>\n",
       "      <td>NaN</td>\n",
       "      <td>8893484</td>\n",
       "      <td>NaN</td>\n",
       "      <td>NaN</td>\n",
       "    </tr>\n",
       "  </tbody>\n",
       "</table>\n",
       "</div>"
      ],
      "text/plain": [
       "   LOCATION        Country TRANSACT  \\\n",
       "16      USA  United States    B1_GE   \n",
       "60      USA  United States    P311B   \n",
       "61      USA  United States    P312B   \n",
       "62      USA  United States    P313B   \n",
       "63      USA  United States    P314B   \n",
       "\n",
       "                                      Transaction MEASURE         Measure  \\\n",
       "16  Gross domestic product (expenditure approach)       C  Current prices   \n",
       "60                                  Durable goods       C  Current prices   \n",
       "61                             Semi-durable goods       C  Current prices   \n",
       "62                              Non-durable goods       C  Current prices   \n",
       "63                                       Services       C  Current prices   \n",
       "\n",
       "    TIME  Year Unit Code       Unit  PowerCode Code PowerCode  \\\n",
       "16  2020  2020       USD  US Dollar               6  Millions   \n",
       "60  2020  2020       USD  US Dollar               6  Millions   \n",
       "61  2020  2020       USD  US Dollar               6  Millions   \n",
       "62  2020  2020       USD  US Dollar               6  Millions   \n",
       "63  2020  2020       USD  US Dollar               6  Millions   \n",
       "\n",
       "    Reference Period Code  Reference Period     Value  Flag Codes  Flags  \n",
       "16                    NaN               NaN  20893746         NaN    NaN  \n",
       "60                    NaN               NaN   1289681         NaN    NaN  \n",
       "61                    NaN               NaN    820380         NaN    NaN  \n",
       "62                    NaN               NaN   2532650         NaN    NaN  \n",
       "63                    NaN               NaN   8893484         NaN    NaN  "
      ]
     },
     "execution_count": 308,
     "metadata": {},
     "output_type": "execute_result"
    }
   ],
   "source": [
    "df.head()"
   ]
  },
  {
   "cell_type": "code",
   "execution_count": 284,
   "metadata": {},
   "outputs": [],
   "source": [
    "stock_dfs = pd.read_html('https://www.tradingview.com/markets/stocks-usa/sectorandindustry-industry/')"
   ]
  },
  {
   "cell_type": "code",
   "execution_count": 286,
   "metadata": {},
   "outputs": [],
   "source": [
    "stock_df = stock_dfs[0]"
   ]
  },
  {
   "cell_type": "code",
   "execution_count": 291,
   "metadata": {},
   "outputs": [],
   "source": [
    "stock_df.columns = ['industry', 'market cap', 'div', 'change', 'volume', 'sector', 'stocks', 'NA1', 'NA2']"
   ]
  },
  {
   "cell_type": "code",
   "execution_count": 289,
   "metadata": {},
   "outputs": [],
   "source": [
    "num_d = {\"M\":10**6, \"B\":10**9, \"T\":10**12}"
   ]
  },
  {
   "cell_type": "code",
   "execution_count": 372,
   "metadata": {},
   "outputs": [],
   "source": [
    "def to_num(x):\n",
    "        try:\n",
    "            return float(x[:-1])*num_d[x[-1]]\n",
    "        except:\n",
    "            return None"
   ]
  },
  {
   "cell_type": "code",
   "execution_count": 299,
   "metadata": {},
   "outputs": [],
   "source": [
    "stock_df['market cap num'] = stock_df['market cap'].apply(lambda x: )"
   ]
  },
  {
   "cell_type": "code",
   "execution_count": 309,
   "metadata": {},
   "outputs": [],
   "source": [
    "stock_df = stock_df.sort_values('market cap num')"
   ]
  },
  {
   "cell_type": "code",
   "execution_count": 313,
   "metadata": {},
   "outputs": [],
   "source": [
    "stock_df['industry slug'] = stock_df['industry'].apply(slugify)"
   ]
  },
  {
   "cell_type": "code",
   "execution_count": 314,
   "metadata": {},
   "outputs": [
    {
     "data": {
      "text/html": [
       "<div>\n",
       "<style scoped>\n",
       "    .dataframe tbody tr th:only-of-type {\n",
       "        vertical-align: middle;\n",
       "    }\n",
       "\n",
       "    .dataframe tbody tr th {\n",
       "        vertical-align: top;\n",
       "    }\n",
       "\n",
       "    .dataframe thead th {\n",
       "        text-align: right;\n",
       "    }\n",
       "</style>\n",
       "<table border=\"1\" class=\"dataframe\">\n",
       "  <thead>\n",
       "    <tr style=\"text-align: right;\">\n",
       "      <th></th>\n",
       "      <th>industry</th>\n",
       "      <th>market cap</th>\n",
       "      <th>div</th>\n",
       "      <th>change</th>\n",
       "      <th>volume</th>\n",
       "      <th>sector</th>\n",
       "      <th>stocks</th>\n",
       "      <th>NA1</th>\n",
       "      <th>NA2</th>\n",
       "      <th>market cap num</th>\n",
       "      <th>industry slug</th>\n",
       "    </tr>\n",
       "  </thead>\n",
       "  <tbody>\n",
       "    <tr>\n",
       "      <th>18</th>\n",
       "      <td>Catalog/Specialty Distribution</td>\n",
       "      <td>162.904M</td>\n",
       "      <td>—</td>\n",
       "      <td>-2.75%</td>\n",
       "      <td>240.430K</td>\n",
       "      <td>Retail Trade</td>\n",
       "      <td>2</td>\n",
       "      <td>NaN</td>\n",
       "      <td>NaN</td>\n",
       "      <td>1.629040e+08</td>\n",
       "      <td>catalog-specialty-distribution</td>\n",
       "    </tr>\n",
       "    <tr>\n",
       "      <th>82</th>\n",
       "      <td>Miscellaneous</td>\n",
       "      <td>2.426B</td>\n",
       "      <td>—</td>\n",
       "      <td>1.88%</td>\n",
       "      <td>2.721M</td>\n",
       "      <td>Miscellaneous</td>\n",
       "      <td>13</td>\n",
       "      <td>NaN</td>\n",
       "      <td>NaN</td>\n",
       "      <td>2.426000e+09</td>\n",
       "      <td>miscellaneous</td>\n",
       "    </tr>\n",
       "    <tr>\n",
       "      <th>121</th>\n",
       "      <td>Textiles</td>\n",
       "      <td>3.868B</td>\n",
       "      <td>—</td>\n",
       "      <td>0.95%</td>\n",
       "      <td>214.951K</td>\n",
       "      <td>Process Industries</td>\n",
       "      <td>4</td>\n",
       "      <td>NaN</td>\n",
       "      <td>NaN</td>\n",
       "      <td>3.868000e+09</td>\n",
       "      <td>textiles</td>\n",
       "    </tr>\n",
       "    <tr>\n",
       "      <th>28</th>\n",
       "      <td>Consumer Sundries</td>\n",
       "      <td>5.262B</td>\n",
       "      <td>—</td>\n",
       "      <td>0.59%</td>\n",
       "      <td>195.396K</td>\n",
       "      <td>Consumer Non-Durables</td>\n",
       "      <td>4</td>\n",
       "      <td>NaN</td>\n",
       "      <td>NaN</td>\n",
       "      <td>5.262000e+09</td>\n",
       "      <td>consumer-sundries</td>\n",
       "    </tr>\n",
       "    <tr>\n",
       "      <th>94</th>\n",
       "      <td>Other Consumer Specialties</td>\n",
       "      <td>7.600B</td>\n",
       "      <td>—</td>\n",
       "      <td>-0.39%</td>\n",
       "      <td>180.709K</td>\n",
       "      <td>Consumer Durables</td>\n",
       "      <td>7</td>\n",
       "      <td>NaN</td>\n",
       "      <td>NaN</td>\n",
       "      <td>7.600000e+09</td>\n",
       "      <td>other-consumer-specialties</td>\n",
       "    </tr>\n",
       "  </tbody>\n",
       "</table>\n",
       "</div>"
      ],
      "text/plain": [
       "                           industry market cap div  change    volume  \\\n",
       "18   Catalog/Specialty Distribution   162.904M   —  -2.75%  240.430K   \n",
       "82                    Miscellaneous     2.426B   —   1.88%    2.721M   \n",
       "121                        Textiles     3.868B   —   0.95%  214.951K   \n",
       "28                Consumer Sundries     5.262B   —   0.59%  195.396K   \n",
       "94       Other Consumer Specialties     7.600B   —  -0.39%  180.709K   \n",
       "\n",
       "                    sector  stocks  NA1  NA2  market cap num  \\\n",
       "18            Retail Trade       2  NaN  NaN    1.629040e+08   \n",
       "82           Miscellaneous      13  NaN  NaN    2.426000e+09   \n",
       "121     Process Industries       4  NaN  NaN    3.868000e+09   \n",
       "28   Consumer Non-Durables       4  NaN  NaN    5.262000e+09   \n",
       "94       Consumer Durables       7  NaN  NaN    7.600000e+09   \n",
       "\n",
       "                      industry slug  \n",
       "18   catalog-specialty-distribution  \n",
       "82                    miscellaneous  \n",
       "121                        textiles  \n",
       "28                consumer-sundries  \n",
       "94       other-consumer-specialties  "
      ]
     },
     "execution_count": 314,
     "metadata": {},
     "output_type": "execute_result"
    }
   ],
   "source": [
    "stock_df.head()"
   ]
  },
  {
   "cell_type": "code",
   "execution_count": 322,
   "metadata": {},
   "outputs": [],
   "source": [
    "slug = stock_df.loc[2, 'industry slug']"
   ]
  },
  {
   "cell_type": "code",
   "execution_count": 323,
   "metadata": {},
   "outputs": [
    {
     "data": {
      "text/plain": [
       "'agricultural-commodities-milling'"
      ]
     },
     "execution_count": 323,
     "metadata": {},
     "output_type": "execute_result"
    }
   ],
   "source": [
    "slug"
   ]
  },
  {
   "cell_type": "code",
   "execution_count": 367,
   "metadata": {
    "jupyter": {
     "source_hidden": true
    }
   },
   "outputs": [],
   "source": [
    "def get_mean_pe(slug):\n",
    "    slug_dfs = pd.read_html('https://www.tradingview.com/markets/stocks-usa/sectorandindustry-industry/'+slug)\n",
    "\n",
    "    slug_df = slug_dfs[0]\n",
    "\n",
    "    pes = pd.to_numeric(slug_df['Unnamed: 8'], errors='coerce')\n",
    "    mcs = slug_df['Unnamed: 7'].apply(to_num)\n",
    "    return (pes*mcs).sum()/mcs.sum()\n",
    "\n",
    "    "
   ]
  },
  {
   "cell_type": "code",
   "execution_count": 373,
   "metadata": {},
   "outputs": [
    {
     "data": {
      "application/vnd.jupyter.widget-view+json": {
       "model_id": "be03c546bcc14e9e920cebd65c9c8439",
       "version_major": 2,
       "version_minor": 0
      },
      "text/plain": [
       "HBox(children=(FloatProgress(value=0.0, max=129.0), HTML(value='')))"
      ]
     },
     "metadata": {},
     "output_type": "display_data"
    },
    {
     "name": "stdout",
     "output_type": "stream",
     "text": [
      "\n"
     ]
    }
   ],
   "source": [
    "stock_df['mean pe'] = stock_df['industry slug'].progress_apply(get_mean_pe)"
   ]
  },
  {
   "cell_type": "code",
   "execution_count": 374,
   "metadata": {},
   "outputs": [],
   "source": [
    "stock_df['earnings'] = stock_df['market cap num']/stock_df['mean pe']"
   ]
  },
  {
   "cell_type": "code",
   "execution_count": 379,
   "metadata": {},
   "outputs": [
    {
     "data": {
      "text/plain": [
       "2.5834953722982466"
      ]
     },
     "execution_count": 379,
     "metadata": {},
     "output_type": "execute_result"
    }
   ],
   "source": [
    "stock_df['earnings'].replace([np.inf, -np.inf], np.nan).sum()/10**12"
   ]
  },
  {
   "cell_type": "code",
   "execution_count": 375,
   "metadata": {},
   "outputs": [
    {
     "data": {
      "text/html": [
       "<div>\n",
       "<style scoped>\n",
       "    .dataframe tbody tr th:only-of-type {\n",
       "        vertical-align: middle;\n",
       "    }\n",
       "\n",
       "    .dataframe tbody tr th {\n",
       "        vertical-align: top;\n",
       "    }\n",
       "\n",
       "    .dataframe thead th {\n",
       "        text-align: right;\n",
       "    }\n",
       "</style>\n",
       "<table border=\"1\" class=\"dataframe\">\n",
       "  <thead>\n",
       "    <tr style=\"text-align: right;\">\n",
       "      <th></th>\n",
       "      <th>industry</th>\n",
       "      <th>market cap</th>\n",
       "      <th>div</th>\n",
       "      <th>change</th>\n",
       "      <th>volume</th>\n",
       "      <th>sector</th>\n",
       "      <th>stocks</th>\n",
       "      <th>NA1</th>\n",
       "      <th>NA2</th>\n",
       "      <th>market cap num</th>\n",
       "      <th>industry slug</th>\n",
       "      <th>mean pe</th>\n",
       "      <th>earnings</th>\n",
       "    </tr>\n",
       "  </thead>\n",
       "  <tbody>\n",
       "    <tr>\n",
       "      <th>18</th>\n",
       "      <td>Catalog/Specialty Distribution</td>\n",
       "      <td>162.904M</td>\n",
       "      <td>—</td>\n",
       "      <td>-2.75%</td>\n",
       "      <td>240.430K</td>\n",
       "      <td>Retail Trade</td>\n",
       "      <td>2</td>\n",
       "      <td>NaN</td>\n",
       "      <td>NaN</td>\n",
       "      <td>1.629040e+08</td>\n",
       "      <td>catalog-specialty-distribution</td>\n",
       "      <td>0.000000</td>\n",
       "      <td>inf</td>\n",
       "    </tr>\n",
       "    <tr>\n",
       "      <th>77</th>\n",
       "      <td>Media Conglomerates</td>\n",
       "      <td>22.990B</td>\n",
       "      <td>—</td>\n",
       "      <td>0.71%</td>\n",
       "      <td>4.650M</td>\n",
       "      <td>Consumer Services</td>\n",
       "      <td>3</td>\n",
       "      <td>NaN</td>\n",
       "      <td>NaN</td>\n",
       "      <td>2.299000e+10</td>\n",
       "      <td>media-conglomerates</td>\n",
       "      <td>0.000000</td>\n",
       "      <td>inf</td>\n",
       "    </tr>\n",
       "    <tr>\n",
       "      <th>73</th>\n",
       "      <td>Major Banks</td>\n",
       "      <td>2677.564B</td>\n",
       "      <td>—</td>\n",
       "      <td>0.01%</td>\n",
       "      <td>15.316M</td>\n",
       "      <td>Finance</td>\n",
       "      <td>65</td>\n",
       "      <td>NaN</td>\n",
       "      <td>NaN</td>\n",
       "      <td>2.677564e+12</td>\n",
       "      <td>major-banks</td>\n",
       "      <td>13.244874</td>\n",
       "      <td>2.021585e+11</td>\n",
       "    </tr>\n",
       "    <tr>\n",
       "      <th>87</th>\n",
       "      <td>Multi-Line Insurance</td>\n",
       "      <td>1592.260B</td>\n",
       "      <td>—</td>\n",
       "      <td>-0.23%</td>\n",
       "      <td>2.590M</td>\n",
       "      <td>Finance</td>\n",
       "      <td>29</td>\n",
       "      <td>NaN</td>\n",
       "      <td>NaN</td>\n",
       "      <td>1.592260e+12</td>\n",
       "      <td>multi-line-insurance</td>\n",
       "      <td>8.144100</td>\n",
       "      <td>1.955109e+11</td>\n",
       "    </tr>\n",
       "    <tr>\n",
       "      <th>68</th>\n",
       "      <td>Internet Software/Services</td>\n",
       "      <td>5946.864B</td>\n",
       "      <td>—</td>\n",
       "      <td>1.63%</td>\n",
       "      <td>5.900M</td>\n",
       "      <td>Technology Services</td>\n",
       "      <td>149</td>\n",
       "      <td>NaN</td>\n",
       "      <td>NaN</td>\n",
       "      <td>5.946864e+12</td>\n",
       "      <td>internet-software-services</td>\n",
       "      <td>32.653586</td>\n",
       "      <td>1.821198e+11</td>\n",
       "    </tr>\n",
       "    <tr>\n",
       "      <th>71</th>\n",
       "      <td>Investment Trusts/Mutual Funds</td>\n",
       "      <td>269.874B</td>\n",
       "      <td>—</td>\n",
       "      <td>0.38%</td>\n",
       "      <td>2.846M</td>\n",
       "      <td>Miscellaneous</td>\n",
       "      <td>3210</td>\n",
       "      <td>NaN</td>\n",
       "      <td>NaN</td>\n",
       "      <td>2.698740e+11</td>\n",
       "      <td>investment-trusts-mutual-funds</td>\n",
       "      <td>1.614446</td>\n",
       "      <td>1.671620e+11</td>\n",
       "    </tr>\n",
       "    <tr>\n",
       "      <th>97</th>\n",
       "      <td>Packaged Software</td>\n",
       "      <td>5940.530B</td>\n",
       "      <td>—</td>\n",
       "      <td>2.02%</td>\n",
       "      <td>18.058M</td>\n",
       "      <td>Technology Services</td>\n",
       "      <td>312</td>\n",
       "      <td>NaN</td>\n",
       "      <td>NaN</td>\n",
       "      <td>5.940530e+12</td>\n",
       "      <td>packaged-software</td>\n",
       "      <td>51.821679</td>\n",
       "      <td>1.146341e+11</td>\n",
       "    </tr>\n",
       "    <tr>\n",
       "      <th>120</th>\n",
       "      <td>Telecommunications Equipment</td>\n",
       "      <td>3212.698B</td>\n",
       "      <td>—</td>\n",
       "      <td>2.90%</td>\n",
       "      <td>117.075M</td>\n",
       "      <td>Electronic Technology</td>\n",
       "      <td>46</td>\n",
       "      <td>NaN</td>\n",
       "      <td>NaN</td>\n",
       "      <td>3.212698e+12</td>\n",
       "      <td>telecommunications-equipment</td>\n",
       "      <td>30.302894</td>\n",
       "      <td>1.060195e+11</td>\n",
       "    </tr>\n",
       "    <tr>\n",
       "      <th>66</th>\n",
       "      <td>Integrated Oil</td>\n",
       "      <td>1683.977B</td>\n",
       "      <td>—</td>\n",
       "      <td>0.20%</td>\n",
       "      <td>8.037M</td>\n",
       "      <td>Energy Minerals</td>\n",
       "      <td>37</td>\n",
       "      <td>NaN</td>\n",
       "      <td>NaN</td>\n",
       "      <td>1.683977e+12</td>\n",
       "      <td>integrated-oil</td>\n",
       "      <td>16.825063</td>\n",
       "      <td>1.000874e+11</td>\n",
       "    </tr>\n",
       "    <tr>\n",
       "      <th>100</th>\n",
       "      <td>Pharmaceuticals: Major</td>\n",
       "      <td>2630.378B</td>\n",
       "      <td>—</td>\n",
       "      <td>3.01%</td>\n",
       "      <td>15.154M</td>\n",
       "      <td>Health Technology</td>\n",
       "      <td>258</td>\n",
       "      <td>NaN</td>\n",
       "      <td>NaN</td>\n",
       "      <td>2.630378e+12</td>\n",
       "      <td>pharmaceuticals-major</td>\n",
       "      <td>30.915924</td>\n",
       "      <td>8.508166e+10</td>\n",
       "    </tr>\n",
       "  </tbody>\n",
       "</table>\n",
       "</div>"
      ],
      "text/plain": [
       "                           industry market cap div  change    volume  \\\n",
       "18   Catalog/Specialty Distribution   162.904M   —  -2.75%  240.430K   \n",
       "77              Media Conglomerates    22.990B   —   0.71%    4.650M   \n",
       "73                      Major Banks  2677.564B   —   0.01%   15.316M   \n",
       "87             Multi-Line Insurance  1592.260B   —  -0.23%    2.590M   \n",
       "68       Internet Software/Services  5946.864B   —   1.63%    5.900M   \n",
       "71   Investment Trusts/Mutual Funds   269.874B   —   0.38%    2.846M   \n",
       "97                Packaged Software  5940.530B   —   2.02%   18.058M   \n",
       "120    Telecommunications Equipment  3212.698B   —   2.90%  117.075M   \n",
       "66                   Integrated Oil  1683.977B   —   0.20%    8.037M   \n",
       "100          Pharmaceuticals: Major  2630.378B   —   3.01%   15.154M   \n",
       "\n",
       "                    sector  stocks  NA1  NA2  market cap num  \\\n",
       "18            Retail Trade       2  NaN  NaN    1.629040e+08   \n",
       "77       Consumer Services       3  NaN  NaN    2.299000e+10   \n",
       "73                 Finance      65  NaN  NaN    2.677564e+12   \n",
       "87                 Finance      29  NaN  NaN    1.592260e+12   \n",
       "68     Technology Services     149  NaN  NaN    5.946864e+12   \n",
       "71           Miscellaneous    3210  NaN  NaN    2.698740e+11   \n",
       "97     Technology Services     312  NaN  NaN    5.940530e+12   \n",
       "120  Electronic Technology      46  NaN  NaN    3.212698e+12   \n",
       "66         Energy Minerals      37  NaN  NaN    1.683977e+12   \n",
       "100      Health Technology     258  NaN  NaN    2.630378e+12   \n",
       "\n",
       "                      industry slug    mean pe      earnings  \n",
       "18   catalog-specialty-distribution   0.000000           inf  \n",
       "77              media-conglomerates   0.000000           inf  \n",
       "73                      major-banks  13.244874  2.021585e+11  \n",
       "87             multi-line-insurance   8.144100  1.955109e+11  \n",
       "68       internet-software-services  32.653586  1.821198e+11  \n",
       "71   investment-trusts-mutual-funds   1.614446  1.671620e+11  \n",
       "97                packaged-software  51.821679  1.146341e+11  \n",
       "120    telecommunications-equipment  30.302894  1.060195e+11  \n",
       "66                   integrated-oil  16.825063  1.000874e+11  \n",
       "100           pharmaceuticals-major  30.915924  8.508166e+10  "
      ]
     },
     "execution_count": 375,
     "metadata": {},
     "output_type": "execute_result"
    }
   ],
   "source": [
    "stock_df.sort_values('earnings', ascending=False).iloc[:10]"
   ]
  },
  {
   "cell_type": "markdown",
   "metadata": {},
   "source": [
    "Can't align stock earnings with consumption or GDP, "
   ]
  }
 ],
 "metadata": {
  "instance_type": "ml.t3.medium",
  "kernelspec": {
   "display_name": "Python 3 (Data Science)",
   "language": "python",
   "name": "python3__SAGEMAKER_INTERNAL__arn:aws:sagemaker:us-west-2:236514542706:image/datascience-1.0"
  },
  "language_info": {
   "codemirror_mode": {
    "name": "ipython",
    "version": 3
   },
   "file_extension": ".py",
   "mimetype": "text/x-python",
   "name": "python",
   "nbconvert_exporter": "python",
   "pygments_lexer": "ipython3",
   "version": "3.7.10"
  }
 },
 "nbformat": 4,
 "nbformat_minor": 4
}
