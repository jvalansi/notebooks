{
 "cells": [
  {
   "cell_type": "markdown",
   "metadata": {},
   "source": [
    "I can use Oja rule (a generalization of fire together wire together for learning)\n",
    "Like uber's research paper from 2018: https://eng.uber.com/differentiable-plasticity/\n",
    "But it's already being researched, so how am I helping?\n",
    "I don't know...\n",
    "I just providing my small part...\n",
    "I'm just increasing the cpu's speed by .5%...\n",
    "It will happen without me\n",
    "So how can I contribute the most?\n",
    "Why do I want to contribute the most?\n",
    "Maybe I should just do what I enjoy...\n",
    "What do I enjoy?\n",
    "Hookers and cocaine?\n",
    "Maybe that changes when you have children...\n",
    "Then children become the priority\n"
   ]
  },
  {
   "cell_type": "markdown",
   "metadata": {},
   "source": [
    "How do I retire by 40?\n",
    "I need to be a millionaire by 40\n",
    "right now with ~200k, and with 5.3 years to go\n",
    "It doesn't seem very reasonable\n",
    "I need to save over 100k every year\n",
    "A lot more that 100k\n",
    "more like 150k\n"
   ]
  },
  {
   "cell_type": "code",
   "execution_count": 1,
   "metadata": {},
   "outputs": [
    {
     "data": {
      "text/plain": [
       "160.0"
      ]
     },
     "execution_count": 1,
     "metadata": {},
     "output_type": "execute_result"
    }
   ],
   "source": [
    "800/5"
   ]
  },
  {
   "cell_type": "markdown",
   "metadata": {},
   "source": [
    "160k\n",
    "On average\n",
    "So if i can do 10% on that (which I'm not sure I can)\n",
    "On a 1m I'd make 100k + my savings\n",
    "My savings at the end + my savings now divided by 2 needs to be 160k\n",
    "Say my savings base is S then\n",
    "S+100k + S+20k/2 = 160k\n",
    "S=100k\n",
    "I need to save 100k every year\n",
    "I don't think I can do that.\n",
    "Right now I'm saving:\n",
    "\n"
   ]
  },
  {
   "cell_type": "code",
   "execution_count": 6,
   "metadata": {},
   "outputs": [
    {
     "data": {
      "text/plain": [
       "54816.49999999999"
      ]
     },
     "execution_count": 6,
     "metadata": {},
     "output_type": "execute_result"
    }
   ],
   "source": [
    "k = 1000\n",
    "salary = 130*k\n",
    "tax = .33\n",
    "ESPP = 0.1*salary*1.15*(1-tax)\n",
    "RSUs = 40*k*(1-tax)\n",
    "k401 = 18*k\n",
    "\n",
    "ESPP+RSUs+k401"
   ]
  },
  {
   "cell_type": "markdown",
   "metadata": {},
   "source": [
    "According to tax returns, last year I earned 150k\n",
    "And I owed 7829 to the state, and 19,400 to federal.\n",
    "So I owed only 27k so I had 123k disposible income\n",
    "And I spent 65k according to mint.\n",
    "Meaning I could save 60k.\n",
    "But this year I should get 20k more.\n",
    "Third of which will probably go to taxes.\n",
    "So I can save 73k.\n",
    "Meaning my average saving rate will be around 70+20+70+100/2=130k\n",
    "Meaning I'd need 800/130"
   ]
  },
  {
   "cell_type": "code",
   "execution_count": 2,
   "metadata": {},
   "outputs": [
    {
     "data": {
      "text/plain": [
       "6.153846153846154"
      ]
     },
     "execution_count": 2,
     "metadata": {},
     "output_type": "execute_result"
    }
   ],
   "source": [
    "800/130"
   ]
  },
  {
   "cell_type": "markdown",
   "metadata": {},
   "source": [
    "6.1 years to retire...\n",
    "So I'll retire at 41.\n",
    "I mean it's fine.\n",
    "I'll be really well of at 40 as well.\n"
   ]
  },
  {
   "cell_type": "markdown",
   "metadata": {},
   "source": [
    "So this year I should make 90k - 290k\n",
    "Next year 70+30=100k - 390k\n",
    "After that 70+40=110k - 500k\n",
    "Then 70+50=120k - 620k\n",
    "70+60=130k - 750k\n",
    "70+75=145k - 900k\n",
    "Then in ~half a year I should be at 1m"
   ]
  },
  {
   "cell_type": "raw",
   "metadata": {},
   "source": [
    "According to my spreadsheet I actually got from 127k to 209k - so 80k\n",
    "So if I saved 60k, I made 20k on 127k, which is way more than 10%.\n",
    "I was probably luck ,and not all years will look like that.\n",
    "I was expecting 13k.\n"
   ]
  },
  {
   "cell_type": "markdown",
   "metadata": {},
   "source": [
    "6 years.\n",
    "That's like preschool, or highschool.\n",
    "It's a lot\n",
    "I should be fine in 4 years.\n",
    "Maybe I'll take some vacation at that point, think about next steps.\n"
   ]
  },
  {
   "cell_type": "markdown",
   "metadata": {},
   "source": [
    "What do I do after retirement?\n"
   ]
  },
  {
   "cell_type": "markdown",
   "metadata": {},
   "source": [
    "If I save 60, I have 60+20+60+100/2=120k\n",
    "That means 800/120"
   ]
  },
  {
   "cell_type": "code",
   "execution_count": 7,
   "metadata": {},
   "outputs": [
    {
     "data": {
      "text/plain": [
       "6.666666666666667"
      ]
     },
     "execution_count": 7,
     "metadata": {},
     "output_type": "execute_result"
    }
   ],
   "source": [
    "800/120"
   ]
  },
  {
   "cell_type": "markdown",
   "metadata": {},
   "source": [
    "6.5 years\n",
    "This year 60+20=80 - 280\n",
    "Next year 60+30=90 - 370\n",
    "After that 60+40=100 - 470\n",
    "Then 60+50=110 - 580\n",
    "Then 60+60=120 - 700\n",
    "Then 60+70=130 - 830\n",
    "Then 60+80=140 - 970"
   ]
  },
  {
   "cell_type": "markdown",
   "metadata": {},
   "source": [
    "This is if I do 10%\n",
    "Right now I know the average for the s&p is ~7\n",
    "The average for apple is higher but is not guaranteed"
   ]
  },
  {
   "cell_type": "markdown",
   "metadata": {},
   "source": []
  }
 ],
 "metadata": {
  "kernelspec": {
   "display_name": "Python 3",
   "language": "python",
   "name": "python3"
  },
  "language_info": {
   "codemirror_mode": {
    "name": "ipython",
    "version": 3
   },
   "file_extension": ".py",
   "mimetype": "text/x-python",
   "name": "python",
   "nbconvert_exporter": "python",
   "pygments_lexer": "ipython3",
   "version": "3.6.0"
  }
 },
 "nbformat": 4,
 "nbformat_minor": 2
}
