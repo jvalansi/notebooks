{
 "cells": [
  {
   "cell_type": "code",
   "execution_count": 531,
   "metadata": {},
   "outputs": [],
   "source": [
    "import numpy as np\n",
    "import pandas as pd\n",
    "from keras.models import Sequential\n",
    "from keras.layers import Dense\n",
    "from keras.wrappers.scikit_learn import KerasRegressor\n",
    "from sklearn.model_selection import cross_val_score\n",
    "from sklearn.model_selection import KFold\n",
    "from sklearn.preprocessing import StandardScaler\n",
    "from sklearn.pipeline import Pipeline\n",
    "\n",
    "import matplotlib.pyplot as plt\n",
    "\n",
    "from operator import add, sub, mul, truediv, __pow__\n",
    "from math import log\n"
   ]
  },
  {
   "cell_type": "code",
   "execution_count": 95,
   "metadata": {},
   "outputs": [],
   "source": [
    "def normalize(x):\n",
    "    return (x - np.percentile(x, 50))/(np.percentile(x, 99.9)-np.percentile(x, 0.1))"
   ]
  },
  {
   "cell_type": "code",
   "execution_count": null,
   "metadata": {},
   "outputs": [],
   "source": [
    "def gen_func(x):\n",
    "    funcs = [add, mul, pow]"
   ]
  },
  {
   "cell_type": "code",
   "execution_count": 613,
   "metadata": {},
   "outputs": [],
   "source": [
    "# Generate dummy data\n",
    "size = 10000\n",
    "data = np.random.normal(size=(size, 100))\n",
    "\n",
    "# col = -1*data[:,1]\n",
    "# col = np.log(data[:,2])\n",
    "# col = np.exp(data[:,2])\n",
    "# col = normalize(col)\n",
    "# data[:,99] = col\n",
    "\n",
    "train_size = int(0.9*size)\n",
    "x_train = data[:train_size]\n",
    "x_valid = data[train_size:]\n",
    "\n",
    "noise = 0.1*np.random.normal(size=(size))\n",
    "# labels = (data[:,1])# V\n",
    "# labels = (add(data[:,1], data[:,2]))# V\n",
    "# labels = (sub(data[:,1], data[:,2]))# V\n",
    "# labels = (mul(data[:,1],data[:,2]))# V\n",
    "# labels = (truediv(data[:,1], data[:,2]))# X\n",
    "# labels = sub(np.log(abs(data[:,1])), np.log(abs(data[:,2])))# V\n",
    "# labels = (pow(data[:,1],2))# V\n",
    "# labels = (np.exp(data[:,1]))# V\n",
    "# labels = np.power(abs(data[:,1]), data[:,2])# X\n",
    "# labels = mul(data[:,2], np.log(abs(data[:,1])))# V\n",
    "# labels = (np.log(abs(data[:,1])))# V\n",
    "# labels = np.log(abs(data[:,1]), data[:,2])# V\n",
    "# labels = (data[:,1])+noise# V\n",
    "# labels = np.add(np.subtract(np.log(abs(data[:,1]), data[:,2]), data[:,3]), noise)# V\n",
    "# labels = \n",
    "# labels = \n",
    "# labels = noise\n",
    "# labels = normalize(labels)\n",
    "y_train = labels[:train_size]\n",
    "y_valid = labels[train_size:]"
   ]
  },
  {
   "cell_type": "code",
   "execution_count": 614,
   "metadata": {},
   "outputs": [
    {
     "name": "stdout",
     "output_type": "stream",
     "text": [
      "9.724886064359449\n",
      "-10.77236364995821\n"
     ]
    },
    {
     "data": {
      "image/png": "[encoded data removed]",
      "text/plain": [
       "<matplotlib.figure.Figure at 0x179945b38>"
      ]
     },
     "metadata": {},
     "output_type": "display_data"
    }
   ],
   "source": [
    "col = labels\n",
    "df = pd.DataFrame(data=col)\n",
    "df.plot.hist()\n",
    "print(max(col))\n",
    "print(min(col))"
   ]
  },
  {
   "cell_type": "code",
   "execution_count": 615,
   "metadata": {},
   "outputs": [
    {
     "name": "stdout",
     "output_type": "stream",
     "text": [
      "Epoch 1/7\n",
      "9000/9000 [==============================] - 4s 499us/step - loss: 2.5838\n",
      "Epoch 2/7\n",
      "9000/9000 [==============================] - 1s 100us/step - loss: 2.0612\n",
      "Epoch 3/7\n",
      "9000/9000 [==============================] - 1s 101us/step - loss: 1.2880\n",
      "Epoch 4/7\n",
      "9000/9000 [==============================] - 1s 102us/step - loss: 1.0262\n",
      "Epoch 5/7\n",
      "9000/9000 [==============================] - 1s 122us/step - loss: 0.8713\n",
      "Epoch 6/7\n",
      "9000/9000 [==============================] - 1s 121us/step - loss: 0.7426\n",
      "Epoch 7/7\n",
      "9000/9000 [==============================] - 1s 96us/step - loss: 0.6348\n"
     ]
    },
    {
     "data": {
      "text/plain": [
       "<keras.callbacks.History at 0x16fd6c198>"
      ]
     },
     "execution_count": 615,
     "metadata": {},
     "output_type": "execute_result"
    }
   ],
   "source": [
    "# For a single-input model with 2 classes (binary classification):\n",
    "\n",
    "model = Sequential()\n",
    "model.add(Dense(100, activation='relu', input_dim=100))\n",
    "model.add(Dense(100, activation='relu', input_dim=100))\n",
    "model.add(Dense(1, activation='linear'))\n",
    "model.compile(optimizer='rmsprop',\n",
    "              loss='mse')\n",
    "\n",
    "# Train the model, iterating on the data in batches of 32 samples\n",
    "model.fit(x_train, y_train, epochs=7, batch_size=32)\n",
    "\n"
   ]
  },
  {
   "cell_type": "code",
   "execution_count": 606,
   "metadata": {},
   "outputs": [],
   "source": [
    "def check_pred(model, x_valid, y_valid, y_train):\n",
    "    predictions = [x for l in model.predict(x_valid).tolist() for x in l]\n",
    "    loss = np.mean(np.power(predictions-y_valid, 2))\n",
    "    naive = np.mean(np.power(y_valid-np.mean(y_train), 2))\n",
    "    print(loss)\n",
    "    print(naive)\n",
    "    print(np.log(naive/loss))"
   ]
  },
  {
   "cell_type": "code",
   "execution_count": 610,
   "metadata": {},
   "outputs": [
    {
     "name": "stdout",
     "output_type": "stream",
     "text": [
      "0.002607953055099813\n",
      "0.002173088837499211\n",
      "-0.1824160606983517\n"
     ]
    }
   ],
   "source": [
    "check_pred(model, x_valid, y_valid, y_train)"
   ]
  },
  {
   "cell_type": "code",
   "execution_count": 440,
   "metadata": {},
   "outputs": [],
   "source": [
    "# define base model\n",
    "def baseline_model():\n",
    "\t# create model\n",
    "\tmodel = Sequential()\n",
    "\tmodel.add(Dense(13, input_dim=100, kernel_initializer='normal', activation='relu'))\n",
    "\tmodel.add(Dense(1, kernel_initializer='normal'))\n",
    "\t# Compile model\n",
    "\tmodel.compile(loss='mean_squared_error', optimizer='adam')\n",
    "\treturn model"
   ]
  },
  {
   "cell_type": "code",
   "execution_count": 447,
   "metadata": {
    "scrolled": true
   },
   "outputs": [
    {
     "name": "stdout",
     "output_type": "stream",
     "text": [
      "Epoch 1/7\n",
      "9000/9000 [==============================] - 4s 409us/step - loss: 1.0144\n",
      "Epoch 2/7\n",
      "9000/9000 [==============================] - 1s 81us/step - loss: 1.0092\n",
      "Epoch 3/7\n",
      "9000/9000 [==============================] - 1s 84us/step - loss: 1.0017\n",
      "Epoch 4/7\n",
      "9000/9000 [==============================] - 1s 84us/step - loss: 0.9923\n",
      "Epoch 5/7\n",
      "9000/9000 [==============================] - 1s 85us/step - loss: 0.9811\n",
      "Epoch 6/7\n",
      "9000/9000 [==============================] - 1s 83us/step - loss: 0.9704\n",
      "Epoch 7/7\n",
      "9000/9000 [==============================] - 1s 86us/step - loss: 0.9565\n"
     ]
    },
    {
     "data": {
      "text/plain": [
       "<keras.callbacks.History at 0x16b898a58>"
      ]
     },
     "execution_count": 447,
     "metadata": {},
     "output_type": "execute_result"
    }
   ],
   "source": [
    "model = baseline_model()\n",
    "model.fit(x_train, y_train, epochs=7, batch_size=32)"
   ]
  },
  {
   "cell_type": "code",
   "execution_count": 448,
   "metadata": {},
   "outputs": [
    {
     "name": "stdout",
     "output_type": "stream",
     "text": [
      "1.0167685932670834\n",
      "0.9996863044091999\n",
      "-0.01694329740204162\n"
     ]
    }
   ],
   "source": [
    "check_pred(model, x_valid, y_valid, y_train)"
   ]
  },
  {
   "cell_type": "code",
   "execution_count": 442,
   "metadata": {},
   "outputs": [],
   "source": [
    "# fix random seed for reproducibility\n",
    "seed = 7\n",
    "numpy.random.seed(seed)\n",
    "# evaluate model with standardized dataset\n",
    "estimator = KerasRegressor(build_fn=baseline_model, epochs=7, batch_size=5, verbose=1)"
   ]
  },
  {
   "cell_type": "code",
   "execution_count": 99,
   "metadata": {},
   "outputs": [
    {
     "name": "stdout",
     "output_type": "stream",
     "text": [
      "Epoch 1/7\n",
      "6666/6666 [==============================] - 3s 506us/step - loss: 0.0207\n",
      "Epoch 2/7\n",
      "6666/6666 [==============================] - 2s 339us/step - loss: 0.0167\n",
      "Epoch 3/7\n",
      "6666/6666 [==============================] - 3s 382us/step - loss: 0.0165\n",
      "Epoch 4/7\n",
      "6666/6666 [==============================] - 2s 345us/step - loss: 0.0164\n",
      "Epoch 5/7\n",
      "6666/6666 [==============================] - 3s 483us/step - loss: 0.0162\n",
      "Epoch 6/7\n",
      "6666/6666 [==============================] - 3s 445us/step - loss: 0.0163\n",
      "Epoch 7/7\n",
      "6666/6666 [==============================] - 2s 339us/step - loss: 0.0162\n",
      "3334/3334 [==============================] - 1s 414us/step\n",
      "Epoch 1/7\n",
      "6667/6667 [==============================] - 3s 484us/step - loss: 0.0201\n",
      "Epoch 2/7\n",
      "6667/6667 [==============================] - 2s 338us/step - loss: 0.0165\n",
      "Epoch 3/7\n",
      "6667/6667 [==============================] - 3s 512us/step - loss: 0.0163\n",
      "Epoch 4/7\n",
      "6667/6667 [==============================] - 4s 610us/step - loss: 0.0161\n",
      "Epoch 5/7\n",
      "6667/6667 [==============================] - 3s 427us/step - loss: 0.0160\n",
      "Epoch 6/7\n",
      "6667/6667 [==============================] - 3s 426us/step - loss: 0.0157\n",
      "Epoch 7/7\n",
      "6667/6667 [==============================] - 3s 376us/step - loss: 0.0157\n",
      "3333/3333 [==============================] - 1s 346us/step\n",
      "Epoch 1/7\n",
      "6667/6667 [==============================] - 3s 508us/step - loss: 0.0225\n",
      "Epoch 2/7\n",
      "6667/6667 [==============================] - 2s 335us/step - loss: 0.0168\n",
      "Epoch 3/7\n",
      "6667/6667 [==============================] - 3s 424us/step - loss: 0.0166\n",
      "Epoch 4/7\n",
      "6667/6667 [==============================] - 2s 359us/step - loss: 0.0164\n",
      "Epoch 5/7\n",
      "6667/6667 [==============================] - 2s 341us/step - loss: 0.0163\n",
      "Epoch 6/7\n",
      "6667/6667 [==============================] - 3s 400us/step - loss: 0.0162\n",
      "Epoch 7/7\n",
      "6667/6667 [==============================] - 2s 348us/step - loss: 0.0162\n",
      "3333/3333 [==============================] - 1s 340us/step\n",
      "Results: -0.02 (0.00) MSE\n"
     ]
    }
   ],
   "source": [
    "kfold = KFold(n_splits=3, random_state=seed)\n",
    "results = cross_val_score(estimator, data, labels, cv=kfold)\n",
    "print(\"Results: %.2f (%.2f) MSE\" % (results.mean(), results.std()))"
   ]
  },
  {
   "cell_type": "code",
   "execution_count": null,
   "metadata": {},
   "outputs": [],
   "source": []
  }
 ],
 "metadata": {
  "kernelspec": {
   "display_name": "Python 3",
   "language": "python",
   "name": "python3"
  },
  "language_info": {
   "codemirror_mode": {
    "name": "ipython",
    "version": 3
   },
   "file_extension": ".py",
   "mimetype": "text/x-python",
   "name": "python",
   "nbconvert_exporter": "python",
   "pygments_lexer": "ipython3",
   "version": "3.6.0"
  }
 },
 "nbformat": 4,
 "nbformat_minor": 2
}
