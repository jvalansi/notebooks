{
 "cells": [
  {
   "cell_type": "code",
   "execution_count": 1,
   "metadata": {},
   "outputs": [],
   "source": [
    "%load_ext autoreload\n",
    "%autoreload 2\n",
    "from doclassifier import *"
   ]
  },
  {
   "cell_type": "code",
   "execution_count": 2,
   "metadata": {},
   "outputs": [
    {
     "name": "stdout",
     "output_type": "stream",
     "text": [
      "/Users/jordanvalansi/Downloads/Thoughts/.DS_Store Not added\n",
      "/Users/jordanvalansi/Downloads/Thoughts/logical fallacies.xlsx Not added\n",
      "/Users/jordanvalansi/Downloads/Thoughts/Untitled drawing(2).jpg Not added\n",
      "/Users/jordanvalansi/Downloads/Thoughts/Untitled drawing(1).jpg Not added\n",
      "/Users/jordanvalansi/Downloads/Thoughts/Untitled spreadsheet.xlsx Not added\n",
      "/Users/jordanvalansi/Downloads/Thoughts/Untitled drawing.jpg Not added\n",
      "/Users/jordanvalansi/Downloads/Thoughts/Letter Origin.jpg Not added\n"
     ]
    }
   ],
   "source": [
    "path_name = '/Users/jordanvalansi/Downloads/Thoughts' \n",
    "sents_df = pd.DataFrame(get_texts(path_name))"
   ]
  },
  {
   "cell_type": "code",
   "execution_count": 3,
   "metadata": {},
   "outputs": [],
   "source": [
    "sents_df.index.name = 'fname'\n",
    "sents_df.columns = ['he_sents']"
   ]
  },
  {
   "cell_type": "code",
   "execution_count": 4,
   "metadata": {},
   "outputs": [
    {
     "data": {
      "text/html": [
       "<div>\n",
       "<table border=\"1\" class=\"dataframe\">\n",
       "  <thead>\n",
       "    <tr style=\"text-align: right;\">\n",
       "      <th></th>\n",
       "      <th>he_sents</th>\n",
       "    </tr>\n",
       "    <tr>\n",
       "      <th>fname</th>\n",
       "      <th></th>\n",
       "    </tr>\n",
       "  </thead>\n",
       "  <tbody>\n",
       "    <tr>\n",
       "      <th>איך ללמוד.docx</th>\n",
       "      <td>מושגים</td>\n",
       "    </tr>\n",
       "    <tr>\n",
       "      <th>איך ללמוד.docx</th>\n",
       "      <td>קשרים בין מושגים</td>\n",
       "    </tr>\n",
       "    <tr>\n",
       "      <th>טענה_.docx</th>\n",
       "      <td>טענה:</td>\n",
       "    </tr>\n",
       "    <tr>\n",
       "      <th>טענה_.docx</th>\n",
       "      <td>או שאפשר לחשוב על זה כמו באפט</td>\n",
       "    </tr>\n",
       "    <tr>\n",
       "      <th>טענה_.docx</th>\n",
       "      <td>או שאפשר לעשות כל סטארט אפ</td>\n",
       "    </tr>\n",
       "  </tbody>\n",
       "</table>\n",
       "</div>"
      ],
      "text/plain": [
       "                                     he_sents\n",
       "fname                                        \n",
       "איך ללמוד.docx                         מושגים\n",
       "איך ללמוד.docx               קשרים בין מושגים\n",
       "טענה_.docx                              טענה:\n",
       "טענה_.docx      או שאפשר לחשוב על זה כמו באפט\n",
       "טענה_.docx         או שאפשר לעשות כל סטארט אפ"
      ]
     },
     "execution_count": 4,
     "metadata": {},
     "output_type": "execute_result"
    }
   ],
   "source": [
    "sents_df.head()"
   ]
  },
  {
   "cell_type": "code",
   "execution_count": 87,
   "metadata": {},
   "outputs": [
    {
     "data": {
      "text/plain": [
       "5084"
      ]
     },
     "execution_count": 87,
     "metadata": {},
     "output_type": "execute_result"
    }
   ],
   "source": [
    "len(sents_df)"
   ]
  },
  {
   "cell_type": "code",
   "execution_count": 65,
   "metadata": {},
   "outputs": [],
   "source": [
    "sents_dict = sents_df.reset_index().groupby('fname')['he_sents'].apply(lambda x: [i for i in x]).to_dict()"
   ]
  },
  {
   "cell_type": "code",
   "execution_count": 11,
   "metadata": {},
   "outputs": [],
   "source": [
    "he_texts = pd.DataFrame(sents_df.groupby(level=0)['he_sents'].apply(lambda x: '\\n'.join(x)))"
   ]
  },
  {
   "cell_type": "code",
   "execution_count": 9,
   "metadata": {},
   "outputs": [],
   "source": [
    "en_texts_df = pd.read_csv('data/en_sents_textblob.csv', names=['fname', 'en_sents'])"
   ]
  },
  {
   "cell_type": "code",
   "execution_count": 12,
   "metadata": {},
   "outputs": [],
   "source": [
    "en_texts_df = en_texts_df.set_index('fname')"
   ]
  },
  {
   "cell_type": "code",
   "execution_count": 13,
   "metadata": {},
   "outputs": [],
   "source": [
    "en_texts_df['he_texts'] = he_texts"
   ]
  },
  {
   "cell_type": "code",
   "execution_count": 21,
   "metadata": {},
   "outputs": [],
   "source": [
    "en_texts_df = en_texts_df.dropna()"
   ]
  },
  {
   "cell_type": "code",
   "execution_count": 23,
   "metadata": {},
   "outputs": [
    {
     "name": "stderr",
     "output_type": "stream",
     "text": [
      "/Library/Frameworks/Python.framework/Versions/3.6/lib/python3.6/site-packages/ipykernel_launcher.py:11: FutureWarning: sort(columns=....) is deprecated, use sort_values(by=.....)\n",
      "  # This is added back by InteractiveShellApp.init_path()\n"
     ]
    }
   ],
   "source": [
    "\n",
    "def split_sents(x):\n",
    "    try:\n",
    "        en_sents = list(filter(None, re.split('\\n+', x['en_sents'])))\n",
    "        he_sents = list(filter(None, re.split('\\n+', x['he_texts'])))\n",
    "        return pd.Series(list(zip(en_sents,he_sents)))\n",
    "    except:\n",
    "        return None\n",
    "\n",
    "\n",
    "sent_df = pd.melt(en_texts_df.apply(split_sents , axis=1).reset_index(), id_vars='fname').sort(['fname', 'variable']).dropna().set_index('fname')"
   ]
  },
  {
   "cell_type": "code",
   "execution_count": 25,
   "metadata": {},
   "outputs": [],
   "source": [
    "sent_df = sent_df.apply(lambda x: pd.Series([x['value'][0],x['value'][1]], index=['en', 'he']), axis=1)"
   ]
  },
  {
   "cell_type": "code",
   "execution_count": 206,
   "metadata": {},
   "outputs": [],
   "source": [
    "sent_df.to_csv('data/sents_textblob.csv')"
   ]
  },
  {
   "cell_type": "code",
   "execution_count": 51,
   "metadata": {},
   "outputs": [],
   "source": [
    "sent_df ['topic'] = sent_df.apply(lambda x: get_top_words(tokenize(x['en'], 'en'))[0], axis=1)"
   ]
  },
  {
   "cell_type": "code",
   "execution_count": 60,
   "metadata": {},
   "outputs": [
    {
     "data": {
      "text/html": [
       "<div>\n",
       "<table border=\"1\" class=\"dataframe\">\n",
       "  <thead>\n",
       "    <tr style=\"text-align: right;\">\n",
       "      <th></th>\n",
       "      <th>en</th>\n",
       "      <th>he</th>\n",
       "      <th>topic</th>\n",
       "      <th>nn</th>\n",
       "    </tr>\n",
       "    <tr>\n",
       "      <th>fname</th>\n",
       "      <th></th>\n",
       "      <th></th>\n",
       "      <th></th>\n",
       "      <th></th>\n",
       "    </tr>\n",
       "  </thead>\n",
       "  <tbody>\n",
       "    <tr>\n",
       "      <th>2nd law.docx</th>\n",
       "      <td>Assumptions:</td>\n",
       "      <td>Assumptions:</td>\n",
       "      <td>assumptions</td>\n",
       "      <td>assumption</td>\n",
       "    </tr>\n",
       "    <tr>\n",
       "      <th>2nd law.docx</th>\n",
       "      <td>The particle fits through the doorway with eps...</td>\n",
       "      <td>The particle fits through the doorway with eps...</td>\n",
       "      <td>epsilon</td>\n",
       "      <td>epsilon</td>\n",
       "    </tr>\n",
       "    <tr>\n",
       "      <th>2nd law.docx</th>\n",
       "      <td>This means that the probability that a particl...</td>\n",
       "      <td>This means that the probability that a particl...</td>\n",
       "      <td>epsilon</td>\n",
       "      <td>epsilon</td>\n",
       "    </tr>\n",
       "    <tr>\n",
       "      <th>2nd law.docx</th>\n",
       "      <td>The door opens up to 90 degrees to one side only.</td>\n",
       "      <td>The door opens up to 90 degrees to one side only.</td>\n",
       "      <td>opens</td>\n",
       "      <td>closes</td>\n",
       "    </tr>\n",
       "    <tr>\n",
       "      <th>2nd law.docx</th>\n",
       "      <td>The door’s mass is negligible (does not change...</td>\n",
       "      <td>The door’s mass is negligible (does not change...</td>\n",
       "      <td>negligible</td>\n",
       "      <td>effect</td>\n",
       "    </tr>\n",
       "  </tbody>\n",
       "</table>\n",
       "</div>"
      ],
      "text/plain": [
       "                                                             en  \\\n",
       "fname                                                             \n",
       "2nd law.docx                                       Assumptions:   \n",
       "2nd law.docx  The particle fits through the doorway with eps...   \n",
       "2nd law.docx  This means that the probability that a particl...   \n",
       "2nd law.docx  The door opens up to 90 degrees to one side only.   \n",
       "2nd law.docx  The door’s mass is negligible (does not change...   \n",
       "\n",
       "                                                             he        topic  \\\n",
       "fname                                                                          \n",
       "2nd law.docx                                       Assumptions:  assumptions   \n",
       "2nd law.docx  The particle fits through the doorway with eps...      epsilon   \n",
       "2nd law.docx  This means that the probability that a particl...      epsilon   \n",
       "2nd law.docx  The door opens up to 90 degrees to one side only.        opens   \n",
       "2nd law.docx  The door’s mass is negligible (does not change...   negligible   \n",
       "\n",
       "                      nn  \n",
       "fname                     \n",
       "2nd law.docx  assumption  \n",
       "2nd law.docx     epsilon  \n",
       "2nd law.docx     epsilon  \n",
       "2nd law.docx      closes  \n",
       "2nd law.docx      effect  "
      ]
     },
     "execution_count": 60,
     "metadata": {},
     "output_type": "execute_result"
    }
   ],
   "source": [
    "sent_df.head()"
   ]
  },
  {
   "cell_type": "code",
   "execution_count": 55,
   "metadata": {},
   "outputs": [
    {
     "data": {
      "text/plain": [
       "2518"
      ]
     },
     "execution_count": 55,
     "metadata": {},
     "output_type": "execute_result"
    }
   ],
   "source": [
    "len(sent_df['topic'].unique())"
   ]
  },
  {
   "cell_type": "code",
   "execution_count": 26,
   "metadata": {},
   "outputs": [],
   "source": [
    "words = [word for text in sent_df['en'] for word in tokenize(text, 'en')]"
   ]
  },
  {
   "cell_type": "code",
   "execution_count": 27,
   "metadata": {},
   "outputs": [
    {
     "name": "stderr",
     "output_type": "stream",
     "text": [
      "/Users/jordanvalansi/projects/notebooks/doclassifier.py:286: FutureWarning: sort(columns=....) is deprecated, use sort_values(by=.....)\n",
      "  count_df= count_df.sort('tfidf', ascending=False)\n"
     ]
    }
   ],
   "source": [
    "count_df = get_tfidf(words)"
   ]
  },
  {
   "cell_type": "code",
   "execution_count": 29,
   "metadata": {},
   "outputs": [],
   "source": [
    "import gensim.downloader as api"
   ]
  },
  {
   "cell_type": "code",
   "execution_count": 30,
   "metadata": {},
   "outputs": [],
   "source": [
    "model = api.load(\"fasttext-wiki-news-subwords-300\")"
   ]
  },
  {
   "cell_type": "code",
   "execution_count": 31,
   "metadata": {},
   "outputs": [],
   "source": [
    "count_df = count_df[count_df['count']>=3]"
   ]
  },
  {
   "cell_type": "code",
   "execution_count": 33,
   "metadata": {},
   "outputs": [
    {
     "name": "stderr",
     "output_type": "stream",
     "text": [
      "/Library/Frameworks/Python.framework/Versions/3.6/lib/python3.6/site-packages/ipykernel_launcher.py:1: DeprecationWarning: Call to deprecated `wv` (Attribute will be removed in 4.0.0, use self instead).\n",
      "  \"\"\"Entry point for launching an IPython kernel.\n"
     ]
    }
   ],
   "source": [
    "words_vecs = pd.Series(count_df.index).apply(lambda x: pd.Series(model.wv[x]) if x in model.wv else pd.Series(model.wv['.']))\n",
    "words_vecs.index = count_df.index"
   ]
  },
  {
   "cell_type": "code",
   "execution_count": 340,
   "metadata": {},
   "outputs": [
    {
     "name": "stderr",
     "output_type": "stream",
     "text": [
      "/Library/Frameworks/Python.framework/Versions/3.6/lib/python3.6/site-packages/ipykernel_launcher.py:1: SettingWithCopyWarning: \n",
      "A value is trying to be set on a copy of a slice from a DataFrame.\n",
      "Try using .loc[row_indexer,col_indexer] = value instead\n",
      "\n",
      "See the caveats in the documentation: http://pandas.pydata.org/pandas-docs/stable/indexing.html#indexing-view-versus-copy\n",
      "  \"\"\"Entry point for launching an IPython kernel.\n"
     ]
    }
   ],
   "source": [
    "count_df['nn'] = get_nns(words_vecs)"
   ]
  },
  {
   "cell_type": "code",
   "execution_count": 357,
   "metadata": {},
   "outputs": [],
   "source": [
    "topics = [k for k,v in collections.Counter(count_df['nn']).items() if v>=3]"
   ]
  },
  {
   "cell_type": "code",
   "execution_count": 72,
   "metadata": {},
   "outputs": [
    {
     "name": "stderr",
     "output_type": "stream",
     "text": [
      "/Library/Frameworks/Python.framework/Versions/3.6/lib/python3.6/site-packages/ipykernel_launcher.py:1: DeprecationWarning: Call to deprecated `wv` (Attribute will be removed in 4.0.0, use self instead).\n",
      "  \"\"\"Entry point for launching an IPython kernel.\n"
     ]
    }
   ],
   "source": [
    "topic_vecs = sent_df['nn'].apply(lambda x: pd.Series(model.wv[x]) if x in model.wv else pd.Series(model.wv['.']))\n",
    "topic_vecs.index = sent_df['nn']\n"
   ]
  },
  {
   "cell_type": "code",
   "execution_count": 73,
   "metadata": {},
   "outputs": [],
   "source": [
    "sent_df['nn'] = get_nns(topic_vecs)\n"
   ]
  },
  {
   "cell_type": "code",
   "execution_count": 74,
   "metadata": {},
   "outputs": [
    {
     "data": {
      "text/plain": [
       "1274"
      ]
     },
     "execution_count": 74,
     "metadata": {},
     "output_type": "execute_result"
    }
   ],
   "source": [
    "len(sent_df['nn'].unique())"
   ]
  },
  {
   "cell_type": "code",
   "execution_count": 79,
   "metadata": {},
   "outputs": [],
   "source": [
    "# pd.DataFrame(list(model.vocab.values()), index=list(model.vocab.keys()), columns=['vocab'])"
   ]
  },
  {
   "cell_type": "code",
   "execution_count": 47,
   "metadata": {},
   "outputs": [
    {
     "name": "stderr",
     "output_type": "stream",
     "text": [
      "/Library/Frameworks/Python.framework/Versions/3.6/lib/python3.6/site-packages/gensim/matutils.py:737: FutureWarning: Conversion of the second argument of issubdtype from `int` to `np.signedinteger` is deprecated. In future, it will be treated as `np.int64 == np.dtype(int).type`.\n",
      "  if np.issubdtype(vec.dtype, np.int):\n"
     ]
    },
    {
     "data": {
      "text/plain": [
       "[('mails', 0.8362846970558167),\n",
       " ('mail-', 0.795038640499115),\n",
       " ('mailing', 0.7847987413406372),\n",
       " ('-mail', 0.7756238579750061),\n",
       " ('mail-box', 0.77336186170578),\n",
       " ('V-mail', 0.7717906832695007),\n",
       " ('mailer', 0.7670629620552063),\n",
       " ('mass-mail', 0.7626809477806091),\n",
       " ('junk-mail', 0.7585399150848389),\n",
       " ('mail.', 0.7544159889221191)]"
      ]
     },
     "execution_count": 47,
     "metadata": {},
     "output_type": "execute_result"
    }
   ],
   "source": [
    "model.most_similar('mail')"
   ]
  },
  {
   "cell_type": "code",
   "execution_count": null,
   "metadata": {},
   "outputs": [],
   "source": []
  }
 ],
 "metadata": {
  "kernelspec": {
   "display_name": "Python 3",
   "language": "python",
   "name": "python3"
  },
  "language_info": {
   "codemirror_mode": {
    "name": "ipython",
    "version": 3
   },
   "file_extension": ".py",
   "mimetype": "text/x-python",
   "name": "python",
   "nbconvert_exporter": "python",
   "pygments_lexer": "ipython3",
   "version": "3.6.0"
  }
 },
 "nbformat": 4,
 "nbformat_minor": 2
}
