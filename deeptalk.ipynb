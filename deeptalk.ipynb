{
 "cells": [
  {
   "cell_type": "code",
   "execution_count": 1,
   "metadata": {},
   "outputs": [],
   "source": [
    "# TODO:\n",
    "# Find a good implementation\n",
    "#    open source\n",
    "#    TF/pytorch\n",
    "#    stars\n",
    "#    state of the art\n",
    "\n",
    "# https://github.com/julianser/hed-dlg-truncated | dialog | Theano | 272 | F1: 11.43\n",
    "# https://github.com/RasaHQ/rasa_nlu | framework | | 4,900\n",
    "# https://github.com/YanWenqiang/HBLSTM-CRF | dialog | TF | 9\n",
    "# https://github.com/baidu/Dialogue | dialog | TF | 165 | R2: 93.8\n",
    "# https://github.com/MarkWuNLP/MultiTurnResponseSelection | dialog | Theano | 350\n",
    "# https://github.com/salesforce/glad | state tracker | torch | 111\n",
    "# https://github.com/tensorlayer/seq2seq-chatbot | chatbot | TF | 557\n",
    "# https://github.com/gunthercox/ChatterBot | engine | | 8000\n",
    "# https://github.com/oswaldoludwig/Seq2seq-Chatbot-for-Keras | chatbot | keras | 260 | paper\n",
    "# https://github.com/dialogflow/dialogflow-python-client | api | tf | 206\n",
    "# https://github.com/botpress/botpress | platform | | 7100\n",
    "# https://github.com/deepmipt/DeepPavlov | library | keras | 2915\n",
    "# https://github.com/Maluuba/nlg-eval | evaluation | | paper\n",
    "# https://github.com/lukalabs/cakechat | chatbot | theano | 894\n",
    "# https://github.com/HLTCHKUST/Mem2Seq | chatbot | torch | 203\n",
    "# https://github.com/snakeztc/NeuralDialog-CVAE | generation | TF | 190 | paper\n",
    "# https://github.com/liuyuemaicha/Adversarial-Learning-for-Neural-Dialogue-Generation-in-Tensorflow | generation | TF | 158 | paper\n",
    "# https://github.com/lancopku/AMM | generation | TF | 31 | SOTA\n",
    "# https://github.com/MarkWuNLP/MultiTurnResponseSelection | chatbot | theano/TF | 350 | R2: 92.3\n",
    "\n",
    "# state of the art:\n",
    "# https://paperswithcode.com/paper/multiresolution-recurrent-neural-networks-an\n",
    "# https://github.com/sebastianruder/NLP-progress/blob/master/english/dialogue.md"
   ]
  },
  {
   "cell_type": "code",
   "execution_count": null,
   "metadata": {},
   "outputs": [],
   "source": []
  }
 ],
 "metadata": {
  "kernelspec": {
   "display_name": "Python 3",
   "language": "python",
   "name": "python3"
  },
  "language_info": {
   "codemirror_mode": {
    "name": "ipython",
    "version": 3
   },
   "file_extension": ".py",
   "mimetype": "text/x-python",
   "name": "python",
   "nbconvert_exporter": "python",
   "pygments_lexer": "ipython3",
   "version": "3.6.0"
  }
 },
 "nbformat": 4,
 "nbformat_minor": 2
}
