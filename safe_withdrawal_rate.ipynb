{
 "cells": [
  {
   "cell_type": "code",
   "execution_count": 5,
   "id": "9bd0c22a-0ac8-4952-8146-f3c8c3eecd08",
   "metadata": {},
   "outputs": [],
   "source": [
    "import numpy as np"
   ]
  },
  {
   "cell_type": "code",
   "execution_count": 7,
   "id": "97acd204-044b-4e26-bcc9-0d88b3618ac4",
   "metadata": {},
   "outputs": [],
   "source": [
    "mu = 0.07\n",
    "sigma = 0.15"
   ]
  },
  {
   "cell_type": "code",
   "execution_count": 32,
   "id": "28427165-7b50-42a8-be2d-27b37cac5c34",
   "metadata": {},
   "outputs": [],
   "source": [
    "N = 1000"
   ]
  },
  {
   "cell_type": "code",
   "execution_count": 58,
   "id": "792113f5-1786-4c0a-8c92-8dd4346ac53e",
   "metadata": {},
   "outputs": [],
   "source": [
    "y = 60"
   ]
  },
  {
   "cell_type": "code",
   "execution_count": 59,
   "id": "75b0fe1d-6bd4-4f59-bc25-8141347a685b",
   "metadata": {},
   "outputs": [],
   "source": [
    "x = 1"
   ]
  },
  {
   "cell_type": "code",
   "execution_count": 68,
   "id": "c6c5a4da-a451-4581-b3d4-93bd5241cd4a",
   "metadata": {},
   "outputs": [],
   "source": [
    "wr = 0.04"
   ]
  },
  {
   "cell_type": "code",
   "execution_count": 69,
   "id": "72d6aec0-a652-4efb-acb5-65781adb78a3",
   "metadata": {},
   "outputs": [],
   "source": [
    "def success(x):\n",
    "    for i in np.random.normal(mu, sigma, y):\n",
    "        x=(x-wr)*np.exp(i)\n",
    "        #print(x)\n",
    "        if x<0:\n",
    "            return False\n",
    "    return True"
   ]
  },
  {
   "cell_type": "code",
   "execution_count": 70,
   "id": "72a3c7db-5578-44e7-8ce3-e01573826c4b",
   "metadata": {},
   "outputs": [],
   "source": [
    "success_rate = sum([success(x) for _ in range(N)])/N"
   ]
  },
  {
   "cell_type": "code",
   "execution_count": 71,
   "id": "c9ecdb0d-bc49-4845-9ec8-6412fcf83351",
   "metadata": {},
   "outputs": [
    {
     "data": {
      "text/plain": [
       "0.868"
      ]
     },
     "execution_count": 71,
     "metadata": {},
     "output_type": "execute_result"
    }
   ],
   "source": [
    "success_rate"
   ]
  },
  {
   "cell_type": "code",
   "execution_count": null,
   "id": "cf702d86-3e0c-4932-9e11-e98c729585e5",
   "metadata": {},
   "outputs": [],
   "source": []
  }
 ],
 "metadata": {
  "kernelspec": {
   "display_name": "Python 3 (ipykernel)",
   "language": "python",
   "name": "python3"
  },
  "language_info": {
   "codemirror_mode": {
    "name": "ipython",
    "version": 3
   },
   "file_extension": ".py",
   "mimetype": "text/x-python",
   "name": "python",
   "nbconvert_exporter": "python",
   "pygments_lexer": "ipython3",
   "version": "3.10.13"
  }
 },
 "nbformat": 4,
 "nbformat_minor": 5
}
