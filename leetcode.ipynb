{
 "cells": [
  {
   "cell_type": "code",
   "execution_count": 1,
   "metadata": {},
   "outputs": [],
   "source": [
    "with open('/Users/jvalansi/Downloads/google_last_2_years.txt.txt') as f:\n",
    "    data = f.read()"
   ]
  },
  {
   "cell_type": "code",
   "execution_count": 2,
   "metadata": {},
   "outputs": [],
   "source": [
    "lines = data.split('\\n')"
   ]
  },
  {
   "cell_type": "code",
   "execution_count": 5,
   "metadata": {},
   "outputs": [
    {
     "data": {
      "text/plain": [
       "'683 KEmptySlots =f 33.7% q@ =D'"
      ]
     },
     "execution_count": 5,
     "metadata": {},
     "output_type": "execute_result"
    }
   ],
   "source": [
    "lines[20]"
   ]
  },
  {
   "cell_type": "code",
   "execution_count": null,
   "metadata": {},
   "outputs": [],
   "source": [
    "# \\d+ name lock? pass_rate difficulty"
   ]
  },
  {
   "cell_type": "code",
   "execution_count": 6,
   "metadata": {},
   "outputs": [],
   "source": [
    "import re"
   ]
  },
  {
   "cell_type": "code",
   "execution_count": 21,
   "metadata": {},
   "outputs": [],
   "source": [
    "names = []\n",
    "difficulties = []\n",
    "for line in lines:\n",
    "    try:\n",
    "        m = re.search('(\\d+)\\s(?P<name>.+)\\s(\\d+\\.?\\d*%)\\s(?P<difficulty>.+)', line)\n",
    "        d = m.groupdict()\n",
    "        names.append(d['name'])\n",
    "        difficulties.append(d['difficulty'])\n",
    "    except AttributeError:\n",
    "        continue\n",
    "        "
   ]
  },
  {
   "cell_type": "code",
   "execution_count": 27,
   "metadata": {},
   "outputs": [
    {
     "data": {
      "text/plain": [
       "{'=.',\n",
       " '@ Le',\n",
       " '@ a',\n",
       " '@ aa',\n",
       " '@ as',\n",
       " '@ au',\n",
       " '@ be',\n",
       " '@ bl',\n",
       " '@ mm”',\n",
       " 'Crm a',\n",
       " 'Sp a',\n",
       " 'Sp aa',\n",
       " 'Sp c',\n",
       " 'Sp q',\n",
       " 'ap a',\n",
       " 'ap «',\n",
       " 'cD',\n",
       " 'cD =',\n",
       " 'cD =a',\n",
       " 'cD Es',\n",
       " 'cD a',\n",
       " 'cD a=',\n",
       " 'cD am',\n",
       " 'cD an',\n",
       " 'cD be',\n",
       " 'cD nm',\n",
       " 'cD q',\n",
       " 'cD «',\n",
       " 'eg am',\n",
       " 'q@ =',\n",
       " 'q@ =D',\n",
       " 'q@ a',\n",
       " 'q@ a=',\n",
       " 'q@ aa',\n",
       " 'q@ am',\n",
       " 'q@ an',\n",
       " 'q@ anu',\n",
       " 'q@ au',\n",
       " 'q@ mmm',\n",
       " 'q@ mm”',\n",
       " '{ Medium ) a',\n",
       " '{ Medium ) a=',\n",
       " '{ Medium ) q',\n",
       " '{ Medium ) «',\n",
       " '{ Medium } a',\n",
       " '{ Medium } aa',\n",
       " '{ Medium } «'}"
      ]
     },
     "execution_count": 27,
     "metadata": {},
     "output_type": "execute_result"
    }
   ],
   "source": [
    "set(difficulties)\n",
    "# q@, eg hard\n",
    "# cD, Crm, \\{ medium\n",
    "# @, Sp, ap, =. easy\n",
    "#  hard"
   ]
  },
  {
   "cell_type": "code",
   "execution_count": 28,
   "metadata": {},
   "outputs": [
    {
     "data": {
      "text/plain": [
       "229"
      ]
     },
     "execution_count": 28,
     "metadata": {},
     "output_type": "execute_result"
    }
   ],
   "source": [
    "len(names)"
   ]
  },
  {
   "cell_type": "code",
   "execution_count": 31,
   "metadata": {},
   "outputs": [],
   "source": [
    "norm_difs = []\n",
    "for difficulty in difficulties:\n",
    "    difficulty = difficulty.split()\n",
    "    \n",
    "    if difficulty[0] in ['q@', 'eg']:\n",
    "        norm_difs.append('Hard')\n",
    "    elif difficulty[0] in ['cD', 'Crm', '{']:\n",
    "        norm_difs.append('Medium')\n",
    "    else:\n",
    "        norm_difs.append('Easy')"
   ]
  },
  {
   "cell_type": "code",
   "execution_count": 33,
   "metadata": {},
   "outputs": [],
   "source": [
    "locks = [name.split()[-1] for name in names]"
   ]
  },
  {
   "cell_type": "code",
   "execution_count": null,
   "metadata": {},
   "outputs": [],
   "source": [
    "from "
   ]
  },
  {
   "cell_type": "code",
   "execution_count": 35,
   "metadata": {},
   "outputs": [],
   "source": [
    "locks = [len(lock)==2 and lock[-1]=='f' for lock in locks]"
   ]
  },
  {
   "cell_type": "code",
   "execution_count": 37,
   "metadata": {},
   "outputs": [
    {
     "data": {
      "text/plain": [
       "229"
      ]
     },
     "execution_count": 37,
     "metadata": {},
     "output_type": "execute_result"
    }
   ],
   "source": [
    "len(locks)"
   ]
  },
  {
   "cell_type": "code",
   "execution_count": 39,
   "metadata": {},
   "outputs": [],
   "source": [
    "import pandas as pd\n",
    "import numpy as np"
   ]
  },
  {
   "cell_type": "code",
   "execution_count": 44,
   "metadata": {},
   "outputs": [],
   "source": [
    "df = pd.DataFrame(zip(names, locks, norm_difs), columns=['Name', 'Locked', 'Difficulty'])"
   ]
  },
  {
   "cell_type": "code",
   "execution_count": 93,
   "metadata": {},
   "outputs": [],
   "source": [
    "medium = df[df.apply(lambda x: not x['Locked'] and x['Difficulty']=='Medium', axis=1)]"
   ]
  },
  {
   "cell_type": "code",
   "execution_count": 102,
   "metadata": {},
   "outputs": [
    {
     "data": {
      "text/plain": [
       "98"
      ]
     },
     "execution_count": 102,
     "metadata": {},
     "output_type": "execute_result"
    }
   ],
   "source": [
    "len(medium.reset_index()['Name'])"
   ]
  },
  {
   "cell_type": "code",
   "execution_count": 101,
   "metadata": {},
   "outputs": [
    {
     "data": {
      "text/plain": [
       "10"
      ]
     },
     "execution_count": 101,
     "metadata": {},
     "output_type": "execute_result"
    }
   ],
   "source": [
    "list(medium.reset_index()['Name']).index(name)"
   ]
  },
  {
   "cell_type": "code",
   "execution_count": 90,
   "metadata": {},
   "outputs": [],
   "source": [
    "name = [name for name in df['Name'] if 'Swap' in name][0]"
   ]
  },
  {
   "cell_type": "code",
   "execution_count": 91,
   "metadata": {},
   "outputs": [
    {
     "data": {
      "text/plain": [
       "'— Swap Adjacent in LR String'"
      ]
     },
     "execution_count": 91,
     "metadata": {},
     "output_type": "execute_result"
    }
   ],
   "source": []
  },
  {
   "cell_type": "code",
   "execution_count": null,
   "metadata": {},
   "outputs": [],
   "source": []
  }
 ],
 "metadata": {
  "kernelspec": {
   "display_name": "Python 3",
   "language": "python",
   "name": "python3"
  },
  "language_info": {
   "codemirror_mode": {
    "name": "ipython",
    "version": 3
   },
   "file_extension": ".py",
   "mimetype": "text/x-python",
   "name": "python",
   "nbconvert_exporter": "python",
   "pygments_lexer": "ipython3",
   "version": "3.7.3"
  }
 },
 "nbformat": 4,
 "nbformat_minor": 4
}
