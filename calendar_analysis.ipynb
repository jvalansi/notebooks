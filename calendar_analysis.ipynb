{
 "cells": [
  {
   "cell_type": "markdown",
   "metadata": {},
   "source": [
    "# pyicloud"
   ]
  },
  {
   "cell_type": "code",
   "execution_count": 24,
   "metadata": {},
   "outputs": [],
   "source": [
    "from pyicloud import PyiCloudService"
   ]
  },
  {
   "cell_type": "code",
   "execution_count": 25,
   "metadata": {},
   "outputs": [],
   "source": [
    "api = PyiCloudService('jvalansi@gmail.com', '4p^2L1dNTf1K710n')"
   ]
  },
  {
   "cell_type": "code",
   "execution_count": 31,
   "metadata": {},
   "outputs": [],
   "source": [
    "api.authenticate()"
   ]
  },
  {
   "cell_type": "code",
   "execution_count": 38,
   "metadata": {},
   "outputs": [],
   "source": [
    "events = api.calendar.events()"
   ]
  },
  {
   "cell_type": "code",
   "execution_count": 27,
   "metadata": {},
   "outputs": [
    {
     "data": {
      "text/plain": [
       "{'deviceType': 'SMS',\n",
       " 'areaCode': '',\n",
       " 'phoneNumber': '********27',\n",
       " 'deviceId': '4',\n",
       " 'verificationCode': '597513',\n",
       " 'trustBrowser': True}"
      ]
     },
     "execution_count": 27,
     "metadata": {},
     "output_type": "execute_result"
    }
   ],
   "source": [
    "devices[1]"
   ]
  },
  {
   "cell_type": "code",
   "execution_count": 15,
   "metadata": {},
   "outputs": [
    {
     "data": {
      "text/plain": [
       "True"
      ]
     },
     "execution_count": 15,
     "metadata": {},
     "output_type": "execute_result"
    }
   ],
   "source": [
    "api.validate_verification_code(devices[1], '597513')"
   ]
  },
  {
   "cell_type": "code",
   "execution_count": 17,
   "metadata": {},
   "outputs": [],
   "source": [
    "import pandas as pd"
   ]
  },
  {
   "cell_type": "code",
   "execution_count": 42,
   "metadata": {},
   "outputs": [],
   "source": [
    "df = pd.DataFrame(events)"
   ]
  },
  {
   "cell_type": "code",
   "execution_count": 46,
   "metadata": {},
   "outputs": [],
   "source": [
    "from datetime import datetime"
   ]
  },
  {
   "cell_type": "code",
   "execution_count": 48,
   "metadata": {},
   "outputs": [],
   "source": [
    "from_dt = datetime(2018, 1, 1)\n",
    "to_dt = datetime(2019,1,1)"
   ]
  },
  {
   "cell_type": "code",
   "execution_count": 50,
   "metadata": {},
   "outputs": [],
   "source": [
    "events = api.calendar.events(from_dt, to_dt)"
   ]
  },
  {
   "cell_type": "code",
   "execution_count": 52,
   "metadata": {},
   "outputs": [],
   "source": [
    "df = pd.DataFrame(events)"
   ]
  },
  {
   "cell_type": "code",
   "execution_count": 109,
   "metadata": {},
   "outputs": [
    {
     "data": {
      "text/plain": [
       "STATUS                                                                           CONFIRMED\n",
       "CREATED                                   <icalendar.prop.vDDDTypes object at 0x11bbcf320>\n",
       "UID                                                   02B7B601-EB8D-434B-8AF1-ADE9ABBF8B0A\n",
       "DTEND                                     <icalendar.prop.vDDDTypes object at 0x11bbd3da0>\n",
       "TRANSP                                                                              OPAQUE\n",
       "X-APPLE-TRAVEL-ADVISORY-BEHAVIOR                                                 AUTOMATIC\n",
       "SUMMARY                                                                   לוגו + אתר נחיתה\n",
       "DTSTART                                   <icalendar.prop.vDDDTypes object at 0x11bbcf438>\n",
       "DTSTAMP                                   <icalendar.prop.vDDDTypes object at 0x11bbcf278>\n",
       "SEQUENCE                                                                                 0\n",
       "DESCRIPTION                                                                               \n",
       "LAST-MODIFIED                                                                          NaN\n",
       "LOCATION                                                                               NaN\n",
       "URL                                                                                    NaN\n",
       "CLASS                                                                                  NaN\n",
       "X-APPLE-STRUCTURED-LOCATION                                                            NaN\n",
       "X-APPLE-SUGGESTION-INFO-OPAQUE-KEY                                                     NaN\n",
       "X-APPLE-SUGGESTION-INFO-UNIQUE-KEY                                                     NaN\n",
       "X-APPLE-SUGGESTION-INFO-CHANGED-FIELDS                                                 NaN\n",
       "ORGANIZER                                                                              NaN\n",
       "ATTENDEE                                                                               NaN\n",
       "RRULE                                                                                  NaN\n",
       "RECURRENCE-ID                                                                          NaN\n",
       "X-APPLE-SUGGESTION-INFO-TIMESTAMP                                                      NaN\n",
       "Duration                                                                   0 days 04:00:00\n",
       "activity                                                                  לוגו + אתר נחיתה\n",
       "subactivity                                                                           None\n",
       "subsubactivity                                                                        None\n",
       "Name: 0, dtype: object"
      ]
     },
     "execution_count": 109,
     "metadata": {},
     "output_type": "execute_result"
    }
   ],
   "source": [
    "df.iloc[0]"
   ]
  },
  {
   "cell_type": "code",
   "execution_count": null,
   "metadata": {},
   "outputs": [],
   "source": []
  },
  {
   "cell_type": "markdown",
   "metadata": {},
   "source": [
    "# icalendar"
   ]
  },
  {
   "cell_type": "code",
   "execution_count": 54,
   "metadata": {},
   "outputs": [
    {
     "name": "stdout",
     "output_type": "stream",
     "text": [
      "Collecting icalendar\n",
      "\u001b[?25l  Downloading https://files.pythonhosted.org/packages/05/00/af65fe57330c5b087ee497d3e412b03432a1823a46bac6900f956b9393a1/icalendar-4.0.3-py2.py3-none-any.whl (73kB)\n",
      "\u001b[K    100% |████████████████████████████████| 81kB 5.0MB/s ta 0:00:011\n",
      "\u001b[?25hRequirement already satisfied: python-dateutil in ./notebooks/lib/python3.6/site-packages (from icalendar) (2.7.5)\n",
      "Requirement already satisfied: pytz in ./notebooks/lib/python3.6/site-packages (from icalendar) (2018.7)\n",
      "Requirement already satisfied: six>=1.5 in ./notebooks/lib/python3.6/site-packages (from python-dateutil->icalendar) (1.11.0)\n",
      "Installing collected packages: icalendar\n",
      "Successfully installed icalendar-4.0.3\n",
      "\u001b[33mYou are using pip version 18.1, however version 19.0.2 is available.\n",
      "You should consider upgrading via the 'pip install --upgrade pip' command.\u001b[0m\n"
     ]
    }
   ],
   "source": [
    "! pip install  icalendar"
   ]
  },
  {
   "cell_type": "code",
   "execution_count": 55,
   "metadata": {},
   "outputs": [],
   "source": [
    "import icalendar"
   ]
  },
  {
   "cell_type": "code",
   "execution_count": 56,
   "metadata": {},
   "outputs": [],
   "source": [
    "with open('data/Execute.ics', 'rb') as fp:\n",
    "            data = fp.read()"
   ]
  },
  {
   "cell_type": "code",
   "execution_count": 59,
   "metadata": {},
   "outputs": [],
   "source": [
    "cal = icalendar.Calendar.from_ical(data)"
   ]
  },
  {
   "cell_type": "code",
   "execution_count": 61,
   "metadata": {},
   "outputs": [
    {
     "data": {
      "text/plain": [
       "icalendar.cal.Calendar"
      ]
     },
     "execution_count": 61,
     "metadata": {},
     "output_type": "execute_result"
    }
   ],
   "source": [
    "type(cal)"
   ]
  },
  {
   "cell_type": "code",
   "execution_count": 1,
   "metadata": {},
   "outputs": [],
   "source": [
    "# i = 0\n",
    "# for event in cal.walk('vevent'):\n",
    "#     print(event.)\n",
    "#     i+=1"
   ]
  },
  {
   "cell_type": "code",
   "execution_count": 72,
   "metadata": {},
   "outputs": [
    {
     "data": {
      "text/plain": [
       "VEVENT({'STATUS': vText('b'CONFIRMED''), 'CREATED': <icalendar.prop.vDDDTypes object at 0x11bbcf320>, 'UID': vText('b'02B7B601-EB8D-434B-8AF1-ADE9ABBF8B0A''), 'DTEND': <icalendar.prop.vDDDTypes object at 0x11bbd3da0>, 'TRANSP': vText('b'OPAQUE''), 'X-APPLE-TRAVEL-ADVISORY-BEHAVIOR': vText('b'AUTOMATIC''), 'SUMMARY': vText('b'\\xd7\\x9c\\xd7\\x95\\xd7\\x92\\xd7\\x95 + \\xd7\\x90\\xd7\\xaa\\xd7\\xa8 \\xd7\\xa0\\xd7\\x97\\xd7\\x99\\xd7\\xaa\\xd7\\x94''), 'DTSTART': <icalendar.prop.vDDDTypes object at 0x11bbcf438>, 'DTSTAMP': <icalendar.prop.vDDDTypes object at 0x11bbcf278>, 'SEQUENCE': 0, 'DESCRIPTION': vText('b''')}, VALARM({'X-WR-ALARMUID': vText('b'CBB50E34-92D8-4ED1-A4BE-254DA07365C3''), 'UID': vText('b'CBB50E34-92D8-4ED1-A4BE-254DA07365C3''), 'TRIGGER': <icalendar.prop.vDDDTypes object at 0x11bbcf3c8>, 'DESCRIPTION': vText('b'This is an event reminder''), 'ACTION': vText('b'DISPLAY'')}))"
      ]
     },
     "execution_count": 72,
     "metadata": {},
     "output_type": "execute_result"
    }
   ],
   "source": [
    "cal.walk('vevent')[0]"
   ]
  },
  {
   "cell_type": "code",
   "execution_count": 75,
   "metadata": {},
   "outputs": [],
   "source": [
    "df = pd.DataFrame(cal.walk('vevent'))"
   ]
  },
  {
   "cell_type": "code",
   "execution_count": 76,
   "metadata": {},
   "outputs": [
    {
     "data": {
      "text/html": [
       "<div>\n",
       "<style scoped>\n",
       "    .dataframe tbody tr th:only-of-type {\n",
       "        vertical-align: middle;\n",
       "    }\n",
       "\n",
       "    .dataframe tbody tr th {\n",
       "        vertical-align: top;\n",
       "    }\n",
       "\n",
       "    .dataframe thead th {\n",
       "        text-align: right;\n",
       "    }\n",
       "</style>\n",
       "<table border=\"1\" class=\"dataframe\">\n",
       "  <thead>\n",
       "    <tr style=\"text-align: right;\">\n",
       "      <th></th>\n",
       "      <th>STATUS</th>\n",
       "      <th>CREATED</th>\n",
       "      <th>UID</th>\n",
       "      <th>DTEND</th>\n",
       "      <th>TRANSP</th>\n",
       "      <th>X-APPLE-TRAVEL-ADVISORY-BEHAVIOR</th>\n",
       "      <th>SUMMARY</th>\n",
       "      <th>DTSTART</th>\n",
       "      <th>DTSTAMP</th>\n",
       "      <th>SEQUENCE</th>\n",
       "      <th>...</th>\n",
       "      <th>CLASS</th>\n",
       "      <th>X-APPLE-STRUCTURED-LOCATION</th>\n",
       "      <th>X-APPLE-SUGGESTION-INFO-OPAQUE-KEY</th>\n",
       "      <th>X-APPLE-SUGGESTION-INFO-UNIQUE-KEY</th>\n",
       "      <th>X-APPLE-SUGGESTION-INFO-CHANGED-FIELDS</th>\n",
       "      <th>ORGANIZER</th>\n",
       "      <th>ATTENDEE</th>\n",
       "      <th>RRULE</th>\n",
       "      <th>RECURRENCE-ID</th>\n",
       "      <th>X-APPLE-SUGGESTION-INFO-TIMESTAMP</th>\n",
       "    </tr>\n",
       "  </thead>\n",
       "  <tbody>\n",
       "    <tr>\n",
       "      <th>0</th>\n",
       "      <td>CONFIRMED</td>\n",
       "      <td>&lt;icalendar.prop.vDDDTypes object at 0x11bbcf320&gt;</td>\n",
       "      <td>02B7B601-EB8D-434B-8AF1-ADE9ABBF8B0A</td>\n",
       "      <td>&lt;icalendar.prop.vDDDTypes object at 0x11bbd3da0&gt;</td>\n",
       "      <td>OPAQUE</td>\n",
       "      <td>AUTOMATIC</td>\n",
       "      <td>לוגו + אתר נחיתה</td>\n",
       "      <td>&lt;icalendar.prop.vDDDTypes object at 0x11bbcf438&gt;</td>\n",
       "      <td>&lt;icalendar.prop.vDDDTypes object at 0x11bbcf278&gt;</td>\n",
       "      <td>0</td>\n",
       "      <td>...</td>\n",
       "      <td>NaN</td>\n",
       "      <td>NaN</td>\n",
       "      <td>NaN</td>\n",
       "      <td>NaN</td>\n",
       "      <td>NaN</td>\n",
       "      <td>NaN</td>\n",
       "      <td>NaN</td>\n",
       "      <td>NaN</td>\n",
       "      <td>NaN</td>\n",
       "      <td>NaN</td>\n",
       "    </tr>\n",
       "    <tr>\n",
       "      <th>1</th>\n",
       "      <td>CONFIRMED</td>\n",
       "      <td>&lt;icalendar.prop.vDDDTypes object at 0x11bbcfe10&gt;</td>\n",
       "      <td>13F8D5CE-E988-4A26-8A05-1F323B775A5A</td>\n",
       "      <td>&lt;icalendar.prop.vDDDTypes object at 0x11bbcfa58&gt;</td>\n",
       "      <td>OPAQUE</td>\n",
       "      <td>AUTOMATIC</td>\n",
       "      <td>לוגו + אתר נחיתה</td>\n",
       "      <td>&lt;icalendar.prop.vDDDTypes object at 0x11bbcfb38&gt;</td>\n",
       "      <td>&lt;icalendar.prop.vDDDTypes object at 0x11bbcf668&gt;</td>\n",
       "      <td>0</td>\n",
       "      <td>...</td>\n",
       "      <td>NaN</td>\n",
       "      <td>NaN</td>\n",
       "      <td>NaN</td>\n",
       "      <td>NaN</td>\n",
       "      <td>NaN</td>\n",
       "      <td>NaN</td>\n",
       "      <td>NaN</td>\n",
       "      <td>NaN</td>\n",
       "      <td>NaN</td>\n",
       "      <td>NaN</td>\n",
       "    </tr>\n",
       "    <tr>\n",
       "      <th>2</th>\n",
       "      <td>CONFIRMED</td>\n",
       "      <td>&lt;icalendar.prop.vDDDTypes object at 0x11bbcfe48&gt;</td>\n",
       "      <td>51C5FB56-F6D6-4AA2-86A8-10872441FEFA</td>\n",
       "      <td>&lt;icalendar.prop.vDDDTypes object at 0x11bbc6550&gt;</td>\n",
       "      <td>OPAQUE</td>\n",
       "      <td>AUTOMATIC</td>\n",
       "      <td>לוגו + אתר נחיתה</td>\n",
       "      <td>&lt;icalendar.prop.vDDDTypes object at 0x11bbc6710&gt;</td>\n",
       "      <td>&lt;icalendar.prop.vDDDTypes object at 0x11bbc62b0&gt;</td>\n",
       "      <td>0</td>\n",
       "      <td>...</td>\n",
       "      <td>NaN</td>\n",
       "      <td>NaN</td>\n",
       "      <td>NaN</td>\n",
       "      <td>NaN</td>\n",
       "      <td>NaN</td>\n",
       "      <td>NaN</td>\n",
       "      <td>NaN</td>\n",
       "      <td>NaN</td>\n",
       "      <td>NaN</td>\n",
       "      <td>NaN</td>\n",
       "    </tr>\n",
       "    <tr>\n",
       "      <th>3</th>\n",
       "      <td>CONFIRMED</td>\n",
       "      <td>&lt;icalendar.prop.vDDDTypes object at 0x11bbcfcf8&gt;</td>\n",
       "      <td>613E017B-0F48-4476-A6F0-6048E9E2326B</td>\n",
       "      <td>&lt;icalendar.prop.vDDDTypes object at 0x11bbc60b8&gt;</td>\n",
       "      <td>OPAQUE</td>\n",
       "      <td>AUTOMATIC</td>\n",
       "      <td>לוגו + אתר נחיתה</td>\n",
       "      <td>&lt;icalendar.prop.vDDDTypes object at 0x11bbc6198&gt;</td>\n",
       "      <td>&lt;icalendar.prop.vDDDTypes object at 0x11bbc6d30&gt;</td>\n",
       "      <td>0</td>\n",
       "      <td>...</td>\n",
       "      <td>NaN</td>\n",
       "      <td>NaN</td>\n",
       "      <td>NaN</td>\n",
       "      <td>NaN</td>\n",
       "      <td>NaN</td>\n",
       "      <td>NaN</td>\n",
       "      <td>NaN</td>\n",
       "      <td>NaN</td>\n",
       "      <td>NaN</td>\n",
       "      <td>NaN</td>\n",
       "    </tr>\n",
       "    <tr>\n",
       "      <th>4</th>\n",
       "      <td>CONFIRMED</td>\n",
       "      <td>&lt;icalendar.prop.vDDDTypes object at 0x11bbc6358&gt;</td>\n",
       "      <td>35342D92-4536-4E0E-B3DD-EE6C54FF81EE</td>\n",
       "      <td>&lt;icalendar.prop.vDDDTypes object at 0x11bbc6898&gt;</td>\n",
       "      <td>OPAQUE</td>\n",
       "      <td>AUTOMATIC</td>\n",
       "      <td>לוגו + אתר נחיתה</td>\n",
       "      <td>&lt;icalendar.prop.vDDDTypes object at 0x11bbc6978&gt;</td>\n",
       "      <td>&lt;icalendar.prop.vDDDTypes object at 0x11bbc64a8&gt;</td>\n",
       "      <td>0</td>\n",
       "      <td>...</td>\n",
       "      <td>NaN</td>\n",
       "      <td>NaN</td>\n",
       "      <td>NaN</td>\n",
       "      <td>NaN</td>\n",
       "      <td>NaN</td>\n",
       "      <td>NaN</td>\n",
       "      <td>NaN</td>\n",
       "      <td>NaN</td>\n",
       "      <td>NaN</td>\n",
       "      <td>NaN</td>\n",
       "    </tr>\n",
       "  </tbody>\n",
       "</table>\n",
       "<p>5 rows × 24 columns</p>\n",
       "</div>"
      ],
      "text/plain": [
       "      STATUS                                           CREATED  \\\n",
       "0  CONFIRMED  <icalendar.prop.vDDDTypes object at 0x11bbcf320>   \n",
       "1  CONFIRMED  <icalendar.prop.vDDDTypes object at 0x11bbcfe10>   \n",
       "2  CONFIRMED  <icalendar.prop.vDDDTypes object at 0x11bbcfe48>   \n",
       "3  CONFIRMED  <icalendar.prop.vDDDTypes object at 0x11bbcfcf8>   \n",
       "4  CONFIRMED  <icalendar.prop.vDDDTypes object at 0x11bbc6358>   \n",
       "\n",
       "                                    UID  \\\n",
       "0  02B7B601-EB8D-434B-8AF1-ADE9ABBF8B0A   \n",
       "1  13F8D5CE-E988-4A26-8A05-1F323B775A5A   \n",
       "2  51C5FB56-F6D6-4AA2-86A8-10872441FEFA   \n",
       "3  613E017B-0F48-4476-A6F0-6048E9E2326B   \n",
       "4  35342D92-4536-4E0E-B3DD-EE6C54FF81EE   \n",
       "\n",
       "                                              DTEND  TRANSP  \\\n",
       "0  <icalendar.prop.vDDDTypes object at 0x11bbd3da0>  OPAQUE   \n",
       "1  <icalendar.prop.vDDDTypes object at 0x11bbcfa58>  OPAQUE   \n",
       "2  <icalendar.prop.vDDDTypes object at 0x11bbc6550>  OPAQUE   \n",
       "3  <icalendar.prop.vDDDTypes object at 0x11bbc60b8>  OPAQUE   \n",
       "4  <icalendar.prop.vDDDTypes object at 0x11bbc6898>  OPAQUE   \n",
       "\n",
       "  X-APPLE-TRAVEL-ADVISORY-BEHAVIOR           SUMMARY  \\\n",
       "0                        AUTOMATIC  לוגו + אתר נחיתה   \n",
       "1                        AUTOMATIC  לוגו + אתר נחיתה   \n",
       "2                        AUTOMATIC  לוגו + אתר נחיתה   \n",
       "3                        AUTOMATIC  לוגו + אתר נחיתה   \n",
       "4                        AUTOMATIC  לוגו + אתר נחיתה   \n",
       "\n",
       "                                            DTSTART  \\\n",
       "0  <icalendar.prop.vDDDTypes object at 0x11bbcf438>   \n",
       "1  <icalendar.prop.vDDDTypes object at 0x11bbcfb38>   \n",
       "2  <icalendar.prop.vDDDTypes object at 0x11bbc6710>   \n",
       "3  <icalendar.prop.vDDDTypes object at 0x11bbc6198>   \n",
       "4  <icalendar.prop.vDDDTypes object at 0x11bbc6978>   \n",
       "\n",
       "                                            DTSTAMP  SEQUENCE  \\\n",
       "0  <icalendar.prop.vDDDTypes object at 0x11bbcf278>         0   \n",
       "1  <icalendar.prop.vDDDTypes object at 0x11bbcf668>         0   \n",
       "2  <icalendar.prop.vDDDTypes object at 0x11bbc62b0>         0   \n",
       "3  <icalendar.prop.vDDDTypes object at 0x11bbc6d30>         0   \n",
       "4  <icalendar.prop.vDDDTypes object at 0x11bbc64a8>         0   \n",
       "\n",
       "                 ...                CLASS X-APPLE-STRUCTURED-LOCATION  \\\n",
       "0                ...                  NaN                         NaN   \n",
       "1                ...                  NaN                         NaN   \n",
       "2                ...                  NaN                         NaN   \n",
       "3                ...                  NaN                         NaN   \n",
       "4                ...                  NaN                         NaN   \n",
       "\n",
       "  X-APPLE-SUGGESTION-INFO-OPAQUE-KEY X-APPLE-SUGGESTION-INFO-UNIQUE-KEY  \\\n",
       "0                                NaN                                NaN   \n",
       "1                                NaN                                NaN   \n",
       "2                                NaN                                NaN   \n",
       "3                                NaN                                NaN   \n",
       "4                                NaN                                NaN   \n",
       "\n",
       "  X-APPLE-SUGGESTION-INFO-CHANGED-FIELDS ORGANIZER ATTENDEE RRULE  \\\n",
       "0                                    NaN       NaN      NaN   NaN   \n",
       "1                                    NaN       NaN      NaN   NaN   \n",
       "2                                    NaN       NaN      NaN   NaN   \n",
       "3                                    NaN       NaN      NaN   NaN   \n",
       "4                                    NaN       NaN      NaN   NaN   \n",
       "\n",
       "  RECURRENCE-ID X-APPLE-SUGGESTION-INFO-TIMESTAMP  \n",
       "0           NaN                               NaN  \n",
       "1           NaN                               NaN  \n",
       "2           NaN                               NaN  \n",
       "3           NaN                               NaN  \n",
       "4           NaN                               NaN  \n",
       "\n",
       "[5 rows x 24 columns]"
      ]
     },
     "execution_count": 76,
     "metadata": {},
     "output_type": "execute_result"
    }
   ],
   "source": [
    "df.head()"
   ]
  },
  {
   "cell_type": "code",
   "execution_count": 83,
   "metadata": {},
   "outputs": [],
   "source": [
    "\n",
    "created_0 = df['CREATED'][0]"
   ]
  },
  {
   "cell_type": "code",
   "execution_count": 90,
   "metadata": {},
   "outputs": [
    {
     "data": {
      "text/plain": [
       "datetime.datetime(2017, 8, 9, 15, 5, 6, tzinfo=<UTC>)"
      ]
     },
     "execution_count": 90,
     "metadata": {},
     "output_type": "execute_result"
    }
   ],
   "source": [
    "created_0.dt"
   ]
  },
  {
   "cell_type": "code",
   "execution_count": 92,
   "metadata": {},
   "outputs": [],
   "source": [
    "df['Duration'] = df.apply(lambda x: x['DTEND'].dt - x['DTSTART'].dt, axis=1)"
   ]
  },
  {
   "cell_type": "code",
   "execution_count": 101,
   "metadata": {
    "scrolled": true
   },
   "outputs": [],
   "source": [
    "df[['activity','subactivity','subsubactivity']] = df['SUMMARY'].str.split('-', 2, expand=True)"
   ]
  },
  {
   "cell_type": "code",
   "execution_count": 105,
   "metadata": {},
   "outputs": [
    {
     "data": {
      "text/plain": [
       "ML                                                                     41\n",
       "Deep Learning                                                          28\n",
       "Social                                                                 24\n",
       "Investment                                                             22\n",
       "Real Estate                                                            20\n",
       "Cleanup                                                                14\n",
       "Haircut                                                                10\n",
       "Shiran                                                                 10\n",
       "Check account                                                           9\n",
       "Kaggle                                                                  9\n",
       "Read Real Estate book                                                   8\n",
       "Coursera                                                                7\n",
       "Doclassifier                                                            7\n",
       "Interview                                                               7\n",
       "לוגו + אתר נחיתה                                                        6\n",
       "Doclassifier                                                            6\n",
       "לבדוק חשבון                                                             6\n",
       "Deepmoney                                                               5\n",
       "What to do                                                              5\n",
       "Taxes                                                                   5\n",
       "Learn                                                                   5\n",
       "2nd law                                                                 5\n",
       "Hackerrank                                                              4\n",
       "Read                                                                    4\n",
       "NLP                                                                     4\n",
       "Analyze deal                                                            3\n",
       "Find company guidance source                                            3\n",
       "Deep Money                                                              3\n",
       "Solve interview questions                                               3\n",
       "ארוחת ערב משפחתית                                                       3\n",
       "                                                                       ..\n",
       "Clean                                                                   1\n",
       "Thor                                                                    1\n",
       "Move gen_cc_data to python utils                                        1\n",
       "Pessaj                                                                  1\n",
       "Boomerang application                                                   1\n",
       "Clean up                                                                1\n",
       "SF Decompression 2018: Black Top City!                                  1\n",
       "Watch                                                                   1\n",
       "הדפסת קודים                                                             1\n",
       "How to approach a Kaggle NLP problem                                    1\n",
       "Stas                                                                    1\n",
       "Analyze deals on loopnet                                                1\n",
       "Building chatbots that scale using machine learning and open source     1\n",
       "Beer                                                                    1\n",
       "Sign closing                                                            1\n",
       "Abstract                                                                1\n",
       "Bookmark solution                                                       1\n",
       "Boomerang                                                               1\n",
       "Anniversary                                                             1\n",
       "Facebook marketing                                                      1\n",
       "Voiceover                                                               1\n",
       "OPEN HOUSE SATURDAY (1                                                  1\n",
       "Shiran's friend visit                                                   1\n",
       "Macroeconomics                                                          1\n",
       "Liad                                                                    1\n",
       "Automobile market                                                       1\n",
       "Analyze deals                                                           1\n",
       "Synagogue                                                               1\n",
       "CPA Investigation                                                       1\n",
       "תל אביב                                                                 1\n",
       "Name: activity, Length: 252, dtype: int64"
      ]
     },
     "execution_count": 105,
     "metadata": {},
     "output_type": "execute_result"
    }
   ],
   "source": [
    "df['activity'].value_counts()"
   ]
  },
  {
   "cell_type": "markdown",
   "metadata": {
    "toc-hr-collapsed": true,
    "toc-nb-collapsed": true
   },
   "source": [
    "# Google Calendar"
   ]
  },
  {
   "cell_type": "code",
   "execution_count": 1,
   "metadata": {},
   "outputs": [],
   "source": [
    "# !pip install --upgrade google-api-python-client google-auth-httplib2 google-auth-oauthlib matplotlib"
   ]
  },
  {
   "cell_type": "code",
   "execution_count": 77,
   "metadata": {},
   "outputs": [],
   "source": [
    "from __future__ import print_function\n",
    "import matplotlib\n",
    "import datetime\n",
    "import pickle\n",
    "import os.path\n",
    "from googleapiclient.discovery import build\n",
    "from google_auth_oauthlib.flow import InstalledAppFlow\n",
    "from google.auth.transport.requests import Request\n",
    "import pandas as pd\n",
    "import json\n",
    "import dateutil.parser\n",
    "# If modifying these scopes, delete the file token.pickle.\n",
    "SCOPES = ['https://www.googleapis.com/auth/calendar']"
   ]
  },
  {
   "cell_type": "code",
   "execution_count": null,
   "metadata": {},
   "outputs": [],
   "source": [
    "os.remove('token.pickle')"
   ]
  },
  {
   "cell_type": "code",
   "execution_count": null,
   "metadata": {},
   "outputs": [],
   "source": [
    "def get_calendar_service():\n",
    "    \"\"\"Shows basic usage of the Google Calendar API.\n",
    "    Prints the start and name of the next 10 events on the user's calendar.\n",
    "    \"\"\"\n",
    "    creds = None\n",
    "    # The file token.pickle stores the user's access and refresh tokens, and is\n",
    "    # created automatically when the authorization flow completes for the first\n",
    "    # time.\n",
    "    if os.path.exists('token.pickle'):\n",
    "        with open('token.pickle', 'rb') as token:\n",
    "            creds = pickle.load(token)\n",
    "    # If there are no (valid) credentials available, let the user log in.\n",
    "    if not creds or not creds.valid:\n",
    "        if creds and creds.expired and creds.refresh_token:\n",
    "            creds.refresh(Request())\n",
    "        else:\n",
    "            flow = InstalledAppFlow.from_client_secrets_file(\n",
    "                'credentials.json', SCOPES)\n",
    "            creds = flow.run_local_server()\n",
    "        # Save the credentials for the next run\n",
    "        with open('token.pickle', 'wb') as token:\n",
    "            pickle.dump(creds, token)\n",
    "\n",
    "    service = build('calendar', 'v3', credentials=creds)\n",
    "    return service\n",
    "\n"
   ]
  },
  {
   "cell_type": "code",
   "execution_count": 95,
   "metadata": {},
   "outputs": [],
   "source": [
    "if not events:\n",
    "    print('No upcoming events found.')\n",
    "for event in events[600:800]:\n",
    "    start = event['start'].get('dateTime', event['start'].get('date'))\n",
    "    summary = event['summary']\n",
    "    new_summary = df.loc[event['id']]['summary']\n",
    "    if summary==new_summary:\n",
    "        continue\n",
    "    print(start, summary, '=>', new_summary)\n",
    "    event['summary'] = new_summary\n",
    "    updated_event = service.events().update(calendarId=calendar_id, eventId=event['id'], body=event).execute()\n",
    "\n"
   ]
  },
  {
   "cell_type": "code",
   "execution_count": null,
   "metadata": {},
   "outputs": [],
   "source": [
    "service = get_calendar_service()"
   ]
  },
  {
   "cell_type": "code",
   "execution_count": null,
   "metadata": {},
   "outputs": [],
   "source": [
    "calendars = service.calendarList().list(pageToken=None).execute()"
   ]
  },
  {
   "cell_type": "code",
   "execution_count": 12,
   "metadata": {},
   "outputs": [
    {
     "data": {
      "text/plain": [
       "['לוח שנה אקדמית-סטודנטים',\n",
       " 'jvalansi.weizmann@gmail.com',\n",
       " 'Songs',\n",
       " 'Family',\n",
       " 'Habit',\n",
       " 'Jordan Valansi',\n",
       " 'Execute',\n",
       " 'Cyclic (via Asana)',\n",
       " 'Plan',\n",
       " 'Contacts',\n",
       " 'Holidays in Israel']"
      ]
     },
     "execution_count": 12,
     "metadata": {},
     "output_type": "execute_result"
    }
   ],
   "source": [
    "[x['summary'] for x in calendars['items']]"
   ]
  },
  {
   "cell_type": "code",
   "execution_count": 81,
   "metadata": {},
   "outputs": [],
   "source": [
    "calendar_name = 'Execute'"
   ]
  },
  {
   "cell_type": "code",
   "execution_count": 19,
   "metadata": {},
   "outputs": [],
   "source": [
    "def get_id(calendar_name):\n",
    "    return pd.DataFrame(calendars['items']).set_index('summary').loc[calendar_name]['id']"
   ]
  },
  {
   "cell_type": "code",
   "execution_count": null,
   "metadata": {},
   "outputs": [],
   "source": [
    "calendar_id = get_id(calendar_name)"
   ]
  },
  {
   "cell_type": "code",
   "execution_count": 14,
   "metadata": {},
   "outputs": [],
   "source": [
    "def get_events(calendar_id, year):\n",
    "    # Call the Calendar API\n",
    "#     now = datetime.datetime.utcnow().isoformat() + 'Z' # 'Z' indicates UTC time\n",
    "    print('Getting the upcoming 1000 events')\n",
    "    events_result = service.events().list(calendarId=calendar_id, \n",
    "                                          timeMin=datetime.datetime(year,1,1).isoformat() + 'Z',\n",
    "                                        maxResults=1000, singleEvents=True, timeMax=datetime.datetime(year+1,1,1).isoformat() + 'Z',\n",
    "                                        orderBy='startTime').execute()\n",
    "    events = events_result.get('items', [])\n",
    "    return events\n",
    "\n"
   ]
  },
  {
   "cell_type": "code",
   "execution_count": 95,
   "metadata": {},
   "outputs": [],
   "source": [
    "def get_datetime(x, part=None):\n",
    "#     print(x)\n",
    "    x = eval(str(x))\n",
    "#     x = json.loads(x)\n",
    "    x = x['dateTime'] if 'dateTime' in x else x['date']\n",
    "    datetime = dateutil.parser.parse(x)\n",
    "    return datetime.date() if part=='date' \\\n",
    "            else datetime.time() if part=='time' \\\n",
    "            else datetime.isocalendar()[1] if part=='week' \\\n",
    "            else datetime"
   ]
  },
  {
   "cell_type": "code",
   "execution_count": 29,
   "metadata": {},
   "outputs": [],
   "source": [
    "def get_duration(x):\n",
    "#     print(x)\n",
    "    start = get_datetime(x['start'])\n",
    "    end = get_datetime(x['end'])\n",
    "    return (end-start).seconds/3600\n"
   ]
  },
  {
   "cell_type": "code",
   "execution_count": 47,
   "metadata": {},
   "outputs": [],
   "source": [
    "df = pd.DataFrame(events)"
   ]
  },
  {
   "cell_type": "code",
   "execution_count": 48,
   "metadata": {},
   "outputs": [
    {
     "data": {
      "text/plain": [
       "(297, 20)"
      ]
     },
     "execution_count": 48,
     "metadata": {},
     "output_type": "execute_result"
    }
   ],
   "source": [
    "df.shape"
   ]
  },
  {
   "cell_type": "code",
   "execution_count": 49,
   "metadata": {},
   "outputs": [],
   "source": [
    "df.to_csv('data/google_calendar_'+calendar_name+'_2019.csv')"
   ]
  },
  {
   "cell_type": "markdown",
   "metadata": {},
   "source": [
    "# ICS"
   ]
  },
  {
   "cell_type": "code",
   "execution_count": null,
   "metadata": {},
   "outputs": [],
   "source": [
    "! pip install ics"
   ]
  },
  {
   "cell_type": "code",
   "execution_count": 18,
   "metadata": {},
   "outputs": [],
   "source": [
    "from ics import Calendar"
   ]
  },
  {
   "cell_type": "code",
   "execution_count": 42,
   "metadata": {},
   "outputs": [],
   "source": [
    "calendar_name = 'Execute'"
   ]
  },
  {
   "cell_type": "code",
   "execution_count": 53,
   "metadata": {},
   "outputs": [],
   "source": [
    "with open(f'data/calendar/2020/Execute_rl00t4hdauq0fssskjbf5mpmok@group.calendar.google.com.ics') as f:\n",
    "    cal = Calendar(f.read())"
   ]
  },
  {
   "cell_type": "code",
   "execution_count": 54,
   "metadata": {},
   "outputs": [],
   "source": [
    "event = next(iter(cal.events))"
   ]
  },
  {
   "cell_type": "code",
   "execution_count": 55,
   "metadata": {},
   "outputs": [
    {
     "data": {
      "text/plain": [
       "<Arrow [2020-07-04T05:00:00+00:00]>"
      ]
     },
     "execution_count": 55,
     "metadata": {},
     "output_type": "execute_result"
    }
   ],
   "source": [
    "event.begin"
   ]
  },
  {
   "cell_type": "code",
   "execution_count": 44,
   "metadata": {},
   "outputs": [],
   "source": [
    "year = 2020"
   ]
  },
  {
   "cell_type": "code",
   "execution_count": 57,
   "metadata": {},
   "outputs": [],
   "source": [
    "events = [{'summary':event.name, 'duration': event.duration, 'start': event.begin} for event in cal.events if event.begin.year == year]"
   ]
  },
  {
   "cell_type": "code",
   "execution_count": 58,
   "metadata": {},
   "outputs": [],
   "source": [
    "df = pd.DataFrame(events)"
   ]
  },
  {
   "cell_type": "code",
   "execution_count": 59,
   "metadata": {},
   "outputs": [
    {
     "data": {
      "text/html": [
       "<div>\n",
       "<style scoped>\n",
       "    .dataframe tbody tr th:only-of-type {\n",
       "        vertical-align: middle;\n",
       "    }\n",
       "\n",
       "    .dataframe tbody tr th {\n",
       "        vertical-align: top;\n",
       "    }\n",
       "\n",
       "    .dataframe thead th {\n",
       "        text-align: right;\n",
       "    }\n",
       "</style>\n",
       "<table border=\"1\" class=\"dataframe\">\n",
       "  <thead>\n",
       "    <tr style=\"text-align: right;\">\n",
       "      <th></th>\n",
       "      <th>summary</th>\n",
       "      <th>duration</th>\n",
       "      <th>start</th>\n",
       "    </tr>\n",
       "  </thead>\n",
       "  <tbody>\n",
       "    <tr>\n",
       "      <th>0</th>\n",
       "      <td>Haircut</td>\n",
       "      <td>01:00:00</td>\n",
       "      <td>2020-07-04T05:00:00+00:00</td>\n",
       "    </tr>\n",
       "    <tr>\n",
       "      <th>1</th>\n",
       "      <td>Social - Tal Abib</td>\n",
       "      <td>02:00:00</td>\n",
       "      <td>2020-01-13T02:00:00+00:00</td>\n",
       "    </tr>\n",
       "    <tr>\n",
       "      <th>2</th>\n",
       "      <td>Learn - Power and Politics</td>\n",
       "      <td>01:00:00</td>\n",
       "      <td>2020-10-02T05:00:00+00:00</td>\n",
       "    </tr>\n",
       "    <tr>\n",
       "      <th>3</th>\n",
       "      <td>Shiran - Lunch @ Park + Coffee</td>\n",
       "      <td>04:00:00</td>\n",
       "      <td>2020-02-17T00:00:00+00:00</td>\n",
       "    </tr>\n",
       "    <tr>\n",
       "      <th>4</th>\n",
       "      <td>Social - Mati - Hike</td>\n",
       "      <td>05:00:00</td>\n",
       "      <td>2020-03-29T20:00:00+00:00</td>\n",
       "    </tr>\n",
       "  </tbody>\n",
       "</table>\n",
       "</div>"
      ],
      "text/plain": [
       "                          summary duration                      start\n",
       "0                         Haircut 01:00:00  2020-07-04T05:00:00+00:00\n",
       "1               Social - Tal Abib 02:00:00  2020-01-13T02:00:00+00:00\n",
       "2      Learn - Power and Politics 01:00:00  2020-10-02T05:00:00+00:00\n",
       "3  Shiran - Lunch @ Park + Coffee 04:00:00  2020-02-17T00:00:00+00:00\n",
       "4            Social - Mati - Hike 05:00:00  2020-03-29T20:00:00+00:00"
      ]
     },
     "execution_count": 59,
     "metadata": {},
     "output_type": "execute_result"
    }
   ],
   "source": [
    "df.head()"
   ]
  },
  {
   "cell_type": "code",
   "execution_count": 60,
   "metadata": {},
   "outputs": [],
   "source": [
    "df.to_csv('data/google_calendar_'+calendar_name+'_2020.csv')"
   ]
  },
  {
   "cell_type": "markdown",
   "metadata": {},
   "source": [
    "# CSV"
   ]
  },
  {
   "cell_type": "code",
   "execution_count": 111,
   "metadata": {},
   "outputs": [],
   "source": [
    "df = pd.read_csv('data/google_calendar_execute_2019_edited.csv', index_col='id')"
   ]
  },
  {
   "cell_type": "code",
   "execution_count": 61,
   "metadata": {},
   "outputs": [
    {
     "data": {
      "text/html": [
       "<div>\n",
       "<style scoped>\n",
       "    .dataframe tbody tr th:only-of-type {\n",
       "        vertical-align: middle;\n",
       "    }\n",
       "\n",
       "    .dataframe tbody tr th {\n",
       "        vertical-align: top;\n",
       "    }\n",
       "\n",
       "    .dataframe thead th {\n",
       "        text-align: right;\n",
       "    }\n",
       "</style>\n",
       "<table border=\"1\" class=\"dataframe\">\n",
       "  <thead>\n",
       "    <tr style=\"text-align: right;\">\n",
       "      <th></th>\n",
       "      <th>summary</th>\n",
       "      <th>duration</th>\n",
       "      <th>start</th>\n",
       "    </tr>\n",
       "  </thead>\n",
       "  <tbody>\n",
       "    <tr>\n",
       "      <th>0</th>\n",
       "      <td>Haircut</td>\n",
       "      <td>01:00:00</td>\n",
       "      <td>2020-07-04T05:00:00+00:00</td>\n",
       "    </tr>\n",
       "    <tr>\n",
       "      <th>1</th>\n",
       "      <td>Social - Tal Abib</td>\n",
       "      <td>02:00:00</td>\n",
       "      <td>2020-01-13T02:00:00+00:00</td>\n",
       "    </tr>\n",
       "    <tr>\n",
       "      <th>2</th>\n",
       "      <td>Learn - Power and Politics</td>\n",
       "      <td>01:00:00</td>\n",
       "      <td>2020-10-02T05:00:00+00:00</td>\n",
       "    </tr>\n",
       "    <tr>\n",
       "      <th>3</th>\n",
       "      <td>Shiran - Lunch @ Park + Coffee</td>\n",
       "      <td>04:00:00</td>\n",
       "      <td>2020-02-17T00:00:00+00:00</td>\n",
       "    </tr>\n",
       "    <tr>\n",
       "      <th>4</th>\n",
       "      <td>Social - Mati - Hike</td>\n",
       "      <td>05:00:00</td>\n",
       "      <td>2020-03-29T20:00:00+00:00</td>\n",
       "    </tr>\n",
       "  </tbody>\n",
       "</table>\n",
       "</div>"
      ],
      "text/plain": [
       "                          summary duration                      start\n",
       "0                         Haircut 01:00:00  2020-07-04T05:00:00+00:00\n",
       "1               Social - Tal Abib 02:00:00  2020-01-13T02:00:00+00:00\n",
       "2      Learn - Power and Politics 01:00:00  2020-10-02T05:00:00+00:00\n",
       "3  Shiran - Lunch @ Park + Coffee 04:00:00  2020-02-17T00:00:00+00:00\n",
       "4            Social - Mati - Hike 05:00:00  2020-03-29T20:00:00+00:00"
      ]
     },
     "execution_count": 61,
     "metadata": {},
     "output_type": "execute_result"
    }
   ],
   "source": [
    "df.head()"
   ]
  },
  {
   "cell_type": "code",
   "execution_count": 51,
   "metadata": {},
   "outputs": [],
   "source": [
    "df = df.set_index('id')"
   ]
  },
  {
   "cell_type": "code",
   "execution_count": 62,
   "metadata": {},
   "outputs": [
    {
     "data": {
      "text/html": [
       "<div>\n",
       "<style scoped>\n",
       "    .dataframe tbody tr th:only-of-type {\n",
       "        vertical-align: middle;\n",
       "    }\n",
       "\n",
       "    .dataframe tbody tr th {\n",
       "        vertical-align: top;\n",
       "    }\n",
       "\n",
       "    .dataframe thead th {\n",
       "        text-align: right;\n",
       "    }\n",
       "</style>\n",
       "<table border=\"1\" class=\"dataframe\">\n",
       "  <thead>\n",
       "    <tr style=\"text-align: right;\">\n",
       "      <th></th>\n",
       "      <th>summary</th>\n",
       "      <th>duration</th>\n",
       "      <th>start</th>\n",
       "    </tr>\n",
       "  </thead>\n",
       "  <tbody>\n",
       "    <tr>\n",
       "      <th>0</th>\n",
       "      <td>Haircut</td>\n",
       "      <td>01:00:00</td>\n",
       "      <td>2020-07-04T05:00:00+00:00</td>\n",
       "    </tr>\n",
       "    <tr>\n",
       "      <th>1</th>\n",
       "      <td>Social - Tal Abib</td>\n",
       "      <td>02:00:00</td>\n",
       "      <td>2020-01-13T02:00:00+00:00</td>\n",
       "    </tr>\n",
       "    <tr>\n",
       "      <th>2</th>\n",
       "      <td>Learn - Power and Politics</td>\n",
       "      <td>01:00:00</td>\n",
       "      <td>2020-10-02T05:00:00+00:00</td>\n",
       "    </tr>\n",
       "    <tr>\n",
       "      <th>3</th>\n",
       "      <td>Shiran - Lunch @ Park + Coffee</td>\n",
       "      <td>04:00:00</td>\n",
       "      <td>2020-02-17T00:00:00+00:00</td>\n",
       "    </tr>\n",
       "    <tr>\n",
       "      <th>4</th>\n",
       "      <td>Social - Mati - Hike</td>\n",
       "      <td>05:00:00</td>\n",
       "      <td>2020-03-29T20:00:00+00:00</td>\n",
       "    </tr>\n",
       "  </tbody>\n",
       "</table>\n",
       "</div>"
      ],
      "text/plain": [
       "                          summary duration                      start\n",
       "0                         Haircut 01:00:00  2020-07-04T05:00:00+00:00\n",
       "1               Social - Tal Abib 02:00:00  2020-01-13T02:00:00+00:00\n",
       "2      Learn - Power and Politics 01:00:00  2020-10-02T05:00:00+00:00\n",
       "3  Shiran - Lunch @ Park + Coffee 04:00:00  2020-02-17T00:00:00+00:00\n",
       "4            Social - Mati - Hike 05:00:00  2020-03-29T20:00:00+00:00"
      ]
     },
     "execution_count": 62,
     "metadata": {},
     "output_type": "execute_result"
    }
   ],
   "source": [
    "df.head()"
   ]
  },
  {
   "cell_type": "code",
   "execution_count": 65,
   "metadata": {},
   "outputs": [
    {
     "data": {
      "text/plain": [
       "'Haircut'"
      ]
     },
     "execution_count": 65,
     "metadata": {},
     "output_type": "execute_result"
    }
   ],
   "source": [
    "# df.loc['_71246cq268p3ib9h6114ab9k6os4cba18l2jiba564qk8ga371234d9k6o']['summary']\n",
    "df.loc[0]['summary']"
   ]
  },
  {
   "cell_type": "code",
   "execution_count": 63,
   "metadata": {},
   "outputs": [
    {
     "data": {
      "text/plain": [
       "Index(['summary', 'duration', 'start'], dtype='object')"
      ]
     },
     "execution_count": 63,
     "metadata": {},
     "output_type": "execute_result"
    }
   ],
   "source": [
    "df.columns"
   ]
  },
  {
   "cell_type": "code",
   "execution_count": 66,
   "metadata": {},
   "outputs": [],
   "source": [
    "df = df.join(df['summary'].str.lower().str.split('-', n=3, expand=True))#, lsuffix='_l')"
   ]
  },
  {
   "cell_type": "code",
   "execution_count": 67,
   "metadata": {},
   "outputs": [],
   "source": [
    "df[0] = df[0].str.strip().str.lower()\n",
    "df[1] = df[1].str.strip().str.lower()\n",
    "df[2] = df[2].str.strip().str.lower()\n",
    "df[3] = df[3].str.strip().str.lower()"
   ]
  },
  {
   "cell_type": "code",
   "execution_count": 68,
   "metadata": {},
   "outputs": [
    {
     "data": {
      "text/html": [
       "<div>\n",
       "<style scoped>\n",
       "    .dataframe tbody tr th:only-of-type {\n",
       "        vertical-align: middle;\n",
       "    }\n",
       "\n",
       "    .dataframe tbody tr th {\n",
       "        vertical-align: top;\n",
       "    }\n",
       "\n",
       "    .dataframe thead th {\n",
       "        text-align: right;\n",
       "    }\n",
       "</style>\n",
       "<table border=\"1\" class=\"dataframe\">\n",
       "  <thead>\n",
       "    <tr style=\"text-align: right;\">\n",
       "      <th></th>\n",
       "      <th>summary</th>\n",
       "      <th>duration</th>\n",
       "      <th>start</th>\n",
       "      <th>0</th>\n",
       "      <th>1</th>\n",
       "      <th>2</th>\n",
       "      <th>3</th>\n",
       "    </tr>\n",
       "  </thead>\n",
       "  <tbody>\n",
       "    <tr>\n",
       "      <th>0</th>\n",
       "      <td>Haircut</td>\n",
       "      <td>01:00:00</td>\n",
       "      <td>2020-07-04T05:00:00+00:00</td>\n",
       "      <td>haircut</td>\n",
       "      <td>None</td>\n",
       "      <td>None</td>\n",
       "      <td>None</td>\n",
       "    </tr>\n",
       "    <tr>\n",
       "      <th>1</th>\n",
       "      <td>Social - Tal Abib</td>\n",
       "      <td>02:00:00</td>\n",
       "      <td>2020-01-13T02:00:00+00:00</td>\n",
       "      <td>social</td>\n",
       "      <td>tal abib</td>\n",
       "      <td>None</td>\n",
       "      <td>None</td>\n",
       "    </tr>\n",
       "    <tr>\n",
       "      <th>2</th>\n",
       "      <td>Learn - Power and Politics</td>\n",
       "      <td>01:00:00</td>\n",
       "      <td>2020-10-02T05:00:00+00:00</td>\n",
       "      <td>learn</td>\n",
       "      <td>power and politics</td>\n",
       "      <td>None</td>\n",
       "      <td>None</td>\n",
       "    </tr>\n",
       "    <tr>\n",
       "      <th>3</th>\n",
       "      <td>Shiran - Lunch @ Park + Coffee</td>\n",
       "      <td>04:00:00</td>\n",
       "      <td>2020-02-17T00:00:00+00:00</td>\n",
       "      <td>shiran</td>\n",
       "      <td>lunch @ park + coffee</td>\n",
       "      <td>None</td>\n",
       "      <td>None</td>\n",
       "    </tr>\n",
       "    <tr>\n",
       "      <th>4</th>\n",
       "      <td>Social - Mati - Hike</td>\n",
       "      <td>05:00:00</td>\n",
       "      <td>2020-03-29T20:00:00+00:00</td>\n",
       "      <td>social</td>\n",
       "      <td>mati</td>\n",
       "      <td>hike</td>\n",
       "      <td>None</td>\n",
       "    </tr>\n",
       "  </tbody>\n",
       "</table>\n",
       "</div>"
      ],
      "text/plain": [
       "                          summary duration                      start  \\\n",
       "0                         Haircut 01:00:00  2020-07-04T05:00:00+00:00   \n",
       "1               Social - Tal Abib 02:00:00  2020-01-13T02:00:00+00:00   \n",
       "2      Learn - Power and Politics 01:00:00  2020-10-02T05:00:00+00:00   \n",
       "3  Shiran - Lunch @ Park + Coffee 04:00:00  2020-02-17T00:00:00+00:00   \n",
       "4            Social - Mati - Hike 05:00:00  2020-03-29T20:00:00+00:00   \n",
       "\n",
       "         0                      1     2     3  \n",
       "0  haircut                   None  None  None  \n",
       "1   social               tal abib  None  None  \n",
       "2    learn     power and politics  None  None  \n",
       "3   shiran  lunch @ park + coffee  None  None  \n",
       "4   social                   mati  hike  None  "
      ]
     },
     "execution_count": 68,
     "metadata": {},
     "output_type": "execute_result"
    }
   ],
   "source": [
    "df.head()"
   ]
  },
  {
   "cell_type": "code",
   "execution_count": 70,
   "metadata": {},
   "outputs": [
    {
     "data": {
      "text/plain": [
       "<Arrow [2020-07-04T05:00:00+00:00]>"
      ]
     },
     "execution_count": 70,
     "metadata": {},
     "output_type": "execute_result"
    }
   ],
   "source": [
    "# eval(df.iloc[0]['start'])\n",
    "df.iloc[0]['start']"
   ]
  },
  {
   "cell_type": "code",
   "execution_count": 71,
   "metadata": {},
   "outputs": [],
   "source": [
    "# df['duration'] = df.apply(get_duration, axis=1)"
   ]
  },
  {
   "cell_type": "code",
   "execution_count": 72,
   "metadata": {},
   "outputs": [],
   "source": [
    "# df = df[df['start'].apply(lambda x: get_datetime(x).year==2019)]"
   ]
  },
  {
   "cell_type": "code",
   "execution_count": 73,
   "metadata": {},
   "outputs": [],
   "source": [
    "df[[0,1,2,3,'duration']].to_csv(f'data/google_calendar_execute_categories_{year}.csv')"
   ]
  },
  {
   "cell_type": "code",
   "execution_count": 71,
   "metadata": {},
   "outputs": [
    {
     "data": {
      "text/plain": [
       "id\n",
       "_6h344d9m6934cb9g8h2jeb9k6l2kaba26l1k6b9n751jgh1o64rj0gpm88                      Find apartment - Apartment hunt\n",
       "_6p23ccq260q3gb9k8csjab9k6133gba16cpjib9g8osk4gq270p36da16k                                   Academy of science\n",
       "_70o3aea4611j6b9m8ook4b9k8co30ba2651jeb9g6kp4ccpj85248gq18o                           Work - AL - Poster - image\n",
       "_68s3ec1g88sjeba168q44b9k6l33gba26p1k2b9h7123ecpg8d0jedhm68    ML - Meetup - An AI Paper and A Drink— Large S...\n",
       "_8osj0h248p1k4b9g60rj0b9k750j4b9p65236ba38go42ca4712j6d1p64                       Analyse - presidents vs growth\n",
       "Name: summary, dtype: object"
      ]
     },
     "execution_count": 71,
     "metadata": {},
     "output_type": "execute_result"
    }
   ],
   "source": [
    "df['summary'].head()"
   ]
  },
  {
   "cell_type": "code",
   "execution_count": 74,
   "metadata": {},
   "outputs": [],
   "source": [
    "durations = df.groupby('summary')['duration'].sum()"
   ]
  },
  {
   "cell_type": "code",
   "execution_count": 75,
   "metadata": {},
   "outputs": [],
   "source": [
    "durations = pd.DataFrame(durations)"
   ]
  },
  {
   "cell_type": "code",
   "execution_count": 76,
   "metadata": {},
   "outputs": [],
   "source": [
    "durations['count'] = df.groupby('summary')['duration'].count()"
   ]
  },
  {
   "cell_type": "code",
   "execution_count": 77,
   "metadata": {},
   "outputs": [
    {
     "data": {
      "text/html": [
       "<div>\n",
       "<style scoped>\n",
       "    .dataframe tbody tr th:only-of-type {\n",
       "        vertical-align: middle;\n",
       "    }\n",
       "\n",
       "    .dataframe tbody tr th {\n",
       "        vertical-align: top;\n",
       "    }\n",
       "\n",
       "    .dataframe thead th {\n",
       "        text-align: right;\n",
       "    }\n",
       "</style>\n",
       "<table border=\"1\" class=\"dataframe\">\n",
       "  <thead>\n",
       "    <tr style=\"text-align: right;\">\n",
       "      <th></th>\n",
       "      <th>duration</th>\n",
       "      <th>count</th>\n",
       "    </tr>\n",
       "    <tr>\n",
       "      <th>summary</th>\n",
       "      <th></th>\n",
       "      <th></th>\n",
       "    </tr>\n",
       "  </thead>\n",
       "  <tbody>\n",
       "    <tr>\n",
       "      <th>Day off</th>\n",
       "      <td>3 days</td>\n",
       "      <td>3</td>\n",
       "    </tr>\n",
       "    <tr>\n",
       "      <th>Social - Mati - Shasta Lake</th>\n",
       "      <td>2 days</td>\n",
       "      <td>1</td>\n",
       "    </tr>\n",
       "    <tr>\n",
       "      <th>Cancun - Tulum</th>\n",
       "      <td>2 days</td>\n",
       "      <td>1</td>\n",
       "    </tr>\n",
       "    <tr>\n",
       "      <th>Cancun - Isla Mujeres</th>\n",
       "      <td>2 days</td>\n",
       "      <td>1</td>\n",
       "    </tr>\n",
       "    <tr>\n",
       "      <th>Cancun - Beach</th>\n",
       "      <td>2 days</td>\n",
       "      <td>1</td>\n",
       "    </tr>\n",
       "  </tbody>\n",
       "</table>\n",
       "</div>"
      ],
      "text/plain": [
       "                            duration  count\n",
       "summary                                    \n",
       "Day off                       3 days      3\n",
       "Social - Mati - Shasta Lake   2 days      1\n",
       "Cancun - Tulum                2 days      1\n",
       "Cancun - Isla Mujeres         2 days      1\n",
       "Cancun - Beach                2 days      1"
      ]
     },
     "execution_count": 77,
     "metadata": {},
     "output_type": "execute_result"
    }
   ],
   "source": [
    "durations.sort_values('duration', ascending=False).head()"
   ]
  },
  {
   "cell_type": "code",
   "execution_count": 139,
   "metadata": {},
   "outputs": [
    {
     "data": {
      "text/plain": [
       "Timedelta('48 days 19:40:00')"
      ]
     },
     "execution_count": 139,
     "metadata": {},
     "output_type": "execute_result"
    }
   ],
   "source": [
    "df['duration'].sum()"
   ]
  },
  {
   "cell_type": "code",
   "execution_count": 78,
   "metadata": {},
   "outputs": [],
   "source": [
    "durations.sort_values('duration', ascending=False).to_csv(f'data/google_calendar_execute_{year}_durations.csv')"
   ]
  },
  {
   "cell_type": "code",
   "execution_count": 79,
   "metadata": {},
   "outputs": [],
   "source": [
    "# d = pd.read_csv('data/google_calendar_execute_durations_editted.csv', header=None, usecols=[0,3], index_col=0).dropna().to_dict()"
   ]
  },
  {
   "cell_type": "code",
   "execution_count": 80,
   "metadata": {},
   "outputs": [],
   "source": [
    "# d[3]"
   ]
  },
  {
   "cell_type": "code",
   "execution_count": 81,
   "metadata": {},
   "outputs": [],
   "source": [
    "# df[0] = df[0].replace(d[3])"
   ]
  },
  {
   "cell_type": "markdown",
   "metadata": {},
   "source": [
    "# New summary"
   ]
  },
  {
   "cell_type": "code",
   "execution_count": 82,
   "metadata": {},
   "outputs": [],
   "source": [
    "df['new_summary'] = df[[0,1,2,3]].apply(lambda x: ' - '.join(filter(None,x)), axis=1)"
   ]
  },
  {
   "cell_type": "code",
   "execution_count": 83,
   "metadata": {},
   "outputs": [
    {
     "data": {
      "text/plain": [
       "0                           haircut\n",
       "1                 social - tal abib\n",
       "2        learn - power and politics\n",
       "3    shiran - lunch @ park + coffee\n",
       "4              social - mati - hike\n",
       "Name: new_summary, dtype: object"
      ]
     },
     "execution_count": 83,
     "metadata": {},
     "output_type": "execute_result"
    }
   ],
   "source": [
    "df['new_summary'].head()"
   ]
  },
  {
   "cell_type": "code",
   "execution_count": 474,
   "metadata": {},
   "outputs": [],
   "source": [
    "new_summary = pd.read_csv('data/google_calendar_execute_categories_editted.csv', index_col=0)"
   ]
  },
  {
   "cell_type": "code",
   "execution_count": 476,
   "metadata": {},
   "outputs": [
    {
     "data": {
      "text/html": [
       "<div>\n",
       "<style scoped>\n",
       "    .dataframe tbody tr th:only-of-type {\n",
       "        vertical-align: middle;\n",
       "    }\n",
       "\n",
       "    .dataframe tbody tr th {\n",
       "        vertical-align: top;\n",
       "    }\n",
       "\n",
       "    .dataframe thead th {\n",
       "        text-align: right;\n",
       "    }\n",
       "</style>\n",
       "<table border=\"1\" class=\"dataframe\">\n",
       "  <thead>\n",
       "    <tr style=\"text-align: right;\">\n",
       "      <th></th>\n",
       "      <th>0</th>\n",
       "      <th>1</th>\n",
       "      <th>2</th>\n",
       "      <th>3</th>\n",
       "      <th>duration</th>\n",
       "    </tr>\n",
       "    <tr>\n",
       "      <th>id</th>\n",
       "      <th></th>\n",
       "      <th></th>\n",
       "      <th></th>\n",
       "      <th></th>\n",
       "      <th></th>\n",
       "    </tr>\n",
       "  </thead>\n",
       "  <tbody>\n",
       "    <tr>\n",
       "      <th>_88s3ichj70s3cb9h6gq42b9k8kojab9p8h2j0ba58l2k6h1l68o4ac2364</th>\n",
       "      <td>billie jean</td>\n",
       "      <td>NaN</td>\n",
       "      <td>NaN</td>\n",
       "      <td>NaN</td>\n",
       "      <td>1.5</td>\n",
       "    </tr>\n",
       "    <tr>\n",
       "      <th>_68r44cpl6spjeba16kpk4b9k6co4cb9p8ks3aba689246ca664s3gdpo64</th>\n",
       "      <td>biology</td>\n",
       "      <td>energy + transport</td>\n",
       "      <td>NaN</td>\n",
       "      <td>NaN</td>\n",
       "      <td>3.0</td>\n",
       "    </tr>\n",
       "    <tr>\n",
       "      <th>_8923ica288qjcb9m6gojgb9k6gsj6ba264o3ab9n8513ah9g8l0jig9l6k</th>\n",
       "      <td>biology</td>\n",
       "      <td>macro molecules</td>\n",
       "      <td>NaN</td>\n",
       "      <td>NaN</td>\n",
       "      <td>1.0</td>\n",
       "    </tr>\n",
       "    <tr>\n",
       "      <th>_8h248d1k60pjcb9i8op4ab9k8l136b9o690k4ba688qk8ghh8cs3ae2468</th>\n",
       "      <td>biology</td>\n",
       "      <td>origin of life</td>\n",
       "      <td>NaN</td>\n",
       "      <td>NaN</td>\n",
       "      <td>2.0</td>\n",
       "    </tr>\n",
       "    <tr>\n",
       "      <th>_8gojch1l74q44ba36h0jeb9k712j6ba1612kcb9k8cq3cgi38p0jic1m70</th>\n",
       "      <td>biology</td>\n",
       "      <td>origin of life investigation</td>\n",
       "      <td>NaN</td>\n",
       "      <td>NaN</td>\n",
       "      <td>1.0</td>\n",
       "    </tr>\n",
       "  </tbody>\n",
       "</table>\n",
       "</div>"
      ],
      "text/plain": [
       "                                                              0  \\\n",
       "id                                                                \n",
       "_88s3ichj70s3cb9h6gq42b9k8kojab9p8h2j0ba58l2k6h...  billie jean   \n",
       "_68r44cpl6spjeba16kpk4b9k6co4cb9p8ks3aba689246c...      biology   \n",
       "_8923ica288qjcb9m6gojgb9k6gsj6ba264o3ab9n8513ah...      biology   \n",
       "_8h248d1k60pjcb9i8op4ab9k8l136b9o690k4ba688qk8g...      biology   \n",
       "_8gojch1l74q44ba36h0jeb9k712j6ba1612kcb9k8cq3cg...      biology   \n",
       "\n",
       "                                                                               1  \\\n",
       "id                                                                                 \n",
       "_88s3ichj70s3cb9h6gq42b9k8kojab9p8h2j0ba58l2k6h...                           NaN   \n",
       "_68r44cpl6spjeba16kpk4b9k6co4cb9p8ks3aba689246c...            energy + transport   \n",
       "_8923ica288qjcb9m6gojgb9k6gsj6ba264o3ab9n8513ah...               macro molecules   \n",
       "_8h248d1k60pjcb9i8op4ab9k8l136b9o690k4ba688qk8g...                origin of life   \n",
       "_8gojch1l74q44ba36h0jeb9k712j6ba1612kcb9k8cq3cg...  origin of life investigation   \n",
       "\n",
       "                                                      2    3  duration  \n",
       "id                                                                      \n",
       "_88s3ichj70s3cb9h6gq42b9k8kojab9p8h2j0ba58l2k6h...  NaN  NaN       1.5  \n",
       "_68r44cpl6spjeba16kpk4b9k6co4cb9p8ks3aba689246c...  NaN  NaN       3.0  \n",
       "_8923ica288qjcb9m6gojgb9k6gsj6ba264o3ab9n8513ah...  NaN  NaN       1.0  \n",
       "_8h248d1k60pjcb9i8op4ab9k8l136b9o690k4ba688qk8g...  NaN  NaN       2.0  \n",
       "_8gojch1l74q44ba36h0jeb9k712j6ba1612kcb9k8cq3cg...  NaN  NaN       1.0  "
      ]
     },
     "execution_count": 476,
     "metadata": {},
     "output_type": "execute_result"
    }
   ],
   "source": [
    "new_summary.head()"
   ]
  },
  {
   "cell_type": "code",
   "execution_count": 486,
   "metadata": {},
   "outputs": [
    {
     "data": {
      "text/plain": [
       "0           billie jean\n",
       "1                   NaN\n",
       "2                   NaN\n",
       "3                   NaN\n",
       "duration            1.5\n",
       "Name: _88s3ichj70s3cb9h6gq42b9k8kojab9p8h2j0ba58l2k6h1l68o4ac2364, dtype: object"
      ]
     },
     "execution_count": 486,
     "metadata": {},
     "output_type": "execute_result"
    }
   ],
   "source": [
    "new_summary.loc['_88s3ichj70s3cb9h6gq42b9k8kojab9p8h2j0ba58l2k6h1l68o4ac2364']"
   ]
  },
  {
   "cell_type": "code",
   "execution_count": null,
   "metadata": {},
   "outputs": [],
   "source": [
    "new_summary[['0','1','2','3']].apply(lambda x: ' - '.join(x.dropna()), axis=1)"
   ]
  },
  {
   "cell_type": "code",
   "execution_count": 489,
   "metadata": {},
   "outputs": [],
   "source": [
    "df['new_summary'] = new_summary[['0','1','2','3']].apply(lambda x: ' - '.join(x.dropna()), axis=1)"
   ]
  },
  {
   "cell_type": "code",
   "execution_count": 490,
   "metadata": {},
   "outputs": [
    {
     "data": {
      "text/plain": [
       "id\n",
       "_6srkcdq574qk6b9l8kqj0b9k6orkab9p60qkcb9m8kpj4e9g6p1jaga188                                money - check account\n",
       "_64rk2c1l74o3gb9i8cq3gb9k8cp4ab9o88o36b9m8cr3agpi64p32cpp6o                                money - check account\n",
       "_711k6dhg8p0k6b9m74ok8b9k8cskcb9o6kpk8b9n70sk4d9i6d23ge1g88                          real estate - analyze deals\n",
       "_8d1k4hi260s44b9i85246b9k8coj6ba16oo3ib9n8gp3ee22751jgh236o    real estate - verify vacancy rate from propert...\n",
       "_6kqj8e9l74oj4b9p710kab9k611kab9o64sj0b9k60p3cdhn6gqk2d2688    shiran - find resources for coding interviews ...\n",
       "Name: new_summary, dtype: object"
      ]
     },
     "execution_count": 490,
     "metadata": {},
     "output_type": "execute_result"
    }
   ],
   "source": [
    "df['new_summary'].head()"
   ]
  },
  {
   "cell_type": "code",
   "execution_count": null,
   "metadata": {},
   "outputs": [],
   "source": [
    "# how to structure the tags\n",
    "    # tree\n",
    "    # tags\n",
    "# \"investment\" can be under \"ml\" or \"money\" or top level\n",
    "# "
   ]
  },
  {
   "cell_type": "markdown",
   "metadata": {},
   "source": [
    "# Split tags"
   ]
  },
  {
   "cell_type": "code",
   "execution_count": 89,
   "metadata": {},
   "outputs": [
    {
     "data": {
      "text/plain": [
       "0   01:00:00\n",
       "1   02:00:00\n",
       "2   01:00:00\n",
       "3   04:00:00\n",
       "4   05:00:00\n",
       "Name: duration, dtype: timedelta64[ns]"
      ]
     },
     "execution_count": 89,
     "metadata": {},
     "output_type": "execute_result"
    }
   ],
   "source": [
    "df['duration'].head()"
   ]
  },
  {
   "cell_type": "code",
   "execution_count": 123,
   "metadata": {},
   "outputs": [],
   "source": [
    "tags = df['summary'].str.split('-', n=5, expand=True)"
   ]
  },
  {
   "cell_type": "code",
   "execution_count": 124,
   "metadata": {},
   "outputs": [],
   "source": [
    "tags = pd.DataFrame(tags.stack()).reset_index()"
   ]
  },
  {
   "cell_type": "code",
   "execution_count": 125,
   "metadata": {},
   "outputs": [
    {
     "data": {
      "text/html": [
       "<div>\n",
       "<style scoped>\n",
       "    .dataframe tbody tr th:only-of-type {\n",
       "        vertical-align: middle;\n",
       "    }\n",
       "\n",
       "    .dataframe tbody tr th {\n",
       "        vertical-align: top;\n",
       "    }\n",
       "\n",
       "    .dataframe thead th {\n",
       "        text-align: right;\n",
       "    }\n",
       "</style>\n",
       "<table border=\"1\" class=\"dataframe\">\n",
       "  <thead>\n",
       "    <tr style=\"text-align: right;\">\n",
       "      <th></th>\n",
       "      <th>level_0</th>\n",
       "      <th>level_1</th>\n",
       "      <th>0</th>\n",
       "    </tr>\n",
       "  </thead>\n",
       "  <tbody>\n",
       "    <tr>\n",
       "      <th>0</th>\n",
       "      <td>0</td>\n",
       "      <td>0</td>\n",
       "      <td>Haircut</td>\n",
       "    </tr>\n",
       "    <tr>\n",
       "      <th>1</th>\n",
       "      <td>1</td>\n",
       "      <td>0</td>\n",
       "      <td>Social</td>\n",
       "    </tr>\n",
       "    <tr>\n",
       "      <th>2</th>\n",
       "      <td>1</td>\n",
       "      <td>1</td>\n",
       "      <td>Tal Abib</td>\n",
       "    </tr>\n",
       "    <tr>\n",
       "      <th>3</th>\n",
       "      <td>2</td>\n",
       "      <td>0</td>\n",
       "      <td>Learn</td>\n",
       "    </tr>\n",
       "    <tr>\n",
       "      <th>4</th>\n",
       "      <td>2</td>\n",
       "      <td>1</td>\n",
       "      <td>Power and Politics</td>\n",
       "    </tr>\n",
       "  </tbody>\n",
       "</table>\n",
       "</div>"
      ],
      "text/plain": [
       "   level_0  level_1                    0\n",
       "0        0        0              Haircut\n",
       "1        1        0              Social \n",
       "2        1        1             Tal Abib\n",
       "3        2        0               Learn \n",
       "4        2        1   Power and Politics"
      ]
     },
     "execution_count": 125,
     "metadata": {},
     "output_type": "execute_result"
    }
   ],
   "source": [
    "tags.head()"
   ]
  },
  {
   "cell_type": "code",
   "execution_count": 127,
   "metadata": {},
   "outputs": [],
   "source": [
    "tags = tags.merge(df['duration'], left_on='level_0', right_index=True)"
   ]
  },
  {
   "cell_type": "code",
   "execution_count": 146,
   "metadata": {},
   "outputs": [],
   "source": [
    "tags = tags.merge(df['start'], left_on='level_0', right_index=True)"
   ]
  },
  {
   "cell_type": "code",
   "execution_count": 147,
   "metadata": {},
   "outputs": [
    {
     "data": {
      "text/html": [
       "<div>\n",
       "<style scoped>\n",
       "    .dataframe tbody tr th:only-of-type {\n",
       "        vertical-align: middle;\n",
       "    }\n",
       "\n",
       "    .dataframe tbody tr th {\n",
       "        vertical-align: top;\n",
       "    }\n",
       "\n",
       "    .dataframe thead th {\n",
       "        text-align: right;\n",
       "    }\n",
       "</style>\n",
       "<table border=\"1\" class=\"dataframe\">\n",
       "  <thead>\n",
       "    <tr style=\"text-align: right;\">\n",
       "      <th></th>\n",
       "      <th>level_0</th>\n",
       "      <th>level_1</th>\n",
       "      <th>0</th>\n",
       "      <th>duration</th>\n",
       "      <th>start</th>\n",
       "    </tr>\n",
       "  </thead>\n",
       "  <tbody>\n",
       "    <tr>\n",
       "      <th>0</th>\n",
       "      <td>0</td>\n",
       "      <td>0</td>\n",
       "      <td>Haircut</td>\n",
       "      <td>01:00:00</td>\n",
       "      <td>2020-07-04T05:00:00+00:00</td>\n",
       "    </tr>\n",
       "    <tr>\n",
       "      <th>1</th>\n",
       "      <td>1</td>\n",
       "      <td>0</td>\n",
       "      <td>Social</td>\n",
       "      <td>02:00:00</td>\n",
       "      <td>2020-01-13T02:00:00+00:00</td>\n",
       "    </tr>\n",
       "    <tr>\n",
       "      <th>2</th>\n",
       "      <td>1</td>\n",
       "      <td>1</td>\n",
       "      <td>Tal Abib</td>\n",
       "      <td>02:00:00</td>\n",
       "      <td>2020-01-13T02:00:00+00:00</td>\n",
       "    </tr>\n",
       "    <tr>\n",
       "      <th>3</th>\n",
       "      <td>2</td>\n",
       "      <td>0</td>\n",
       "      <td>Learn</td>\n",
       "      <td>01:00:00</td>\n",
       "      <td>2020-10-02T05:00:00+00:00</td>\n",
       "    </tr>\n",
       "    <tr>\n",
       "      <th>4</th>\n",
       "      <td>2</td>\n",
       "      <td>1</td>\n",
       "      <td>Power and Politics</td>\n",
       "      <td>01:00:00</td>\n",
       "      <td>2020-10-02T05:00:00+00:00</td>\n",
       "    </tr>\n",
       "  </tbody>\n",
       "</table>\n",
       "</div>"
      ],
      "text/plain": [
       "   level_0  level_1                    0 duration                      start\n",
       "0        0        0              Haircut 01:00:00  2020-07-04T05:00:00+00:00\n",
       "1        1        0              Social  02:00:00  2020-01-13T02:00:00+00:00\n",
       "2        1        1             Tal Abib 02:00:00  2020-01-13T02:00:00+00:00\n",
       "3        2        0               Learn  01:00:00  2020-10-02T05:00:00+00:00\n",
       "4        2        1   Power and Politics 01:00:00  2020-10-02T05:00:00+00:00"
      ]
     },
     "execution_count": 147,
     "metadata": {},
     "output_type": "execute_result"
    }
   ],
   "source": [
    "tags.head()"
   ]
  },
  {
   "cell_type": "code",
   "execution_count": 152,
   "metadata": {},
   "outputs": [],
   "source": [
    "def get_range(t, df):\n",
    "    t_df = df[df[0].str.contains(t)]\n",
    "    return min(t_df['start']), max(t_df['start'])\n",
    "    "
   ]
  },
  {
   "cell_type": "code",
   "execution_count": 153,
   "metadata": {},
   "outputs": [
    {
     "data": {
      "text/plain": [
       "(<Arrow [2020-05-27T04:00:00+00:00]>, <Arrow [2020-07-03T17:00:00+00:00]>)"
      ]
     },
     "execution_count": 153,
     "metadata": {},
     "output_type": "execute_result"
    }
   ],
   "source": [
    "get_range('Text2Vid', tags)"
   ]
  },
  {
   "cell_type": "code",
   "execution_count": 154,
   "metadata": {},
   "outputs": [
    {
     "data": {
      "text/plain": [
       "(<Arrow [2020-09-22T04:00:00+00:00]>, <Arrow [2020-10-16T00:00:00+00:00]>)"
      ]
     },
     "execution_count": 154,
     "metadata": {},
     "output_type": "execute_result"
    }
   ],
   "source": [
    "get_range('Power and Politics', tags)"
   ]
  },
  {
   "cell_type": "code",
   "execution_count": 129,
   "metadata": {},
   "outputs": [],
   "source": [
    "tags_durations = tags.groupby(0)['duration'].sum()"
   ]
  },
  {
   "cell_type": "code",
   "execution_count": 130,
   "metadata": {},
   "outputs": [],
   "source": [
    "tags_durations = pd.DataFrame(tags_durations)"
   ]
  },
  {
   "cell_type": "code",
   "execution_count": 131,
   "metadata": {},
   "outputs": [],
   "source": [
    "tags_durations['count'] = tags.groupby(0)['duration'].count()"
   ]
  },
  {
   "cell_type": "code",
   "execution_count": 134,
   "metadata": {},
   "outputs": [],
   "source": [
    "tags_durations['duration/count'] = tags_durations['duration']/tags_durations['count']"
   ]
  },
  {
   "cell_type": "code",
   "execution_count": 135,
   "metadata": {},
   "outputs": [
    {
     "data": {
      "text/html": [
       "<div>\n",
       "<style scoped>\n",
       "    .dataframe tbody tr th:only-of-type {\n",
       "        vertical-align: middle;\n",
       "    }\n",
       "\n",
       "    .dataframe tbody tr th {\n",
       "        vertical-align: top;\n",
       "    }\n",
       "\n",
       "    .dataframe thead th {\n",
       "        text-align: right;\n",
       "    }\n",
       "</style>\n",
       "<table border=\"1\" class=\"dataframe\">\n",
       "  <thead>\n",
       "    <tr style=\"text-align: right;\">\n",
       "      <th></th>\n",
       "      <th>duration</th>\n",
       "      <th>count</th>\n",
       "      <th>duration/count</th>\n",
       "    </tr>\n",
       "    <tr>\n",
       "      <th>0</th>\n",
       "      <th></th>\n",
       "      <th></th>\n",
       "      <th></th>\n",
       "    </tr>\n",
       "  </thead>\n",
       "  <tbody>\n",
       "    <tr>\n",
       "      <th>Social</th>\n",
       "      <td>13 days 18:45:00</td>\n",
       "      <td>81</td>\n",
       "      <td>0 days 04:05:00</td>\n",
       "    </tr>\n",
       "    <tr>\n",
       "      <th>Cancun</th>\n",
       "      <td>6 days 00:00:00</td>\n",
       "      <td>3</td>\n",
       "      <td>2 days 00:00:00</td>\n",
       "    </tr>\n",
       "    <tr>\n",
       "      <th>Code</th>\n",
       "      <td>5 days 03:00:00</td>\n",
       "      <td>71</td>\n",
       "      <td>0 days 01:43:56.619718</td>\n",
       "    </tr>\n",
       "    <tr>\n",
       "      <th>Mati</th>\n",
       "      <td>3 days 20:30:00</td>\n",
       "      <td>12</td>\n",
       "      <td>0 days 07:42:30</td>\n",
       "    </tr>\n",
       "    <tr>\n",
       "      <th>Day off</th>\n",
       "      <td>3 days 00:00:00</td>\n",
       "      <td>3</td>\n",
       "      <td>1 days 00:00:00</td>\n",
       "    </tr>\n",
       "    <tr>\n",
       "      <th>Beach</th>\n",
       "      <td>2 days 21:00:00</td>\n",
       "      <td>7</td>\n",
       "      <td>0 days 09:51:25.714285</td>\n",
       "    </tr>\n",
       "    <tr>\n",
       "      <th>Cleanup</th>\n",
       "      <td>2 days 02:30:00</td>\n",
       "      <td>42</td>\n",
       "      <td>0 days 01:12:08.571428</td>\n",
       "    </tr>\n",
       "    <tr>\n",
       "      <th>Shiran</th>\n",
       "      <td>2 days 02:00:00</td>\n",
       "      <td>15</td>\n",
       "      <td>0 days 03:20:00</td>\n",
       "    </tr>\n",
       "    <tr>\n",
       "      <th>Isla Mujeres</th>\n",
       "      <td>2 days 00:00:00</td>\n",
       "      <td>1</td>\n",
       "      <td>2 days 00:00:00</td>\n",
       "    </tr>\n",
       "    <tr>\n",
       "      <th>Fundemica</th>\n",
       "      <td>2 days 00:00:00</td>\n",
       "      <td>1</td>\n",
       "      <td>2 days 00:00:00</td>\n",
       "    </tr>\n",
       "    <tr>\n",
       "      <th>Jonathan</th>\n",
       "      <td>2 days 00:00:00</td>\n",
       "      <td>1</td>\n",
       "      <td>2 days 00:00:00</td>\n",
       "    </tr>\n",
       "    <tr>\n",
       "      <th>Shasta Lake</th>\n",
       "      <td>2 days 00:00:00</td>\n",
       "      <td>1</td>\n",
       "      <td>2 days 00:00:00</td>\n",
       "    </tr>\n",
       "    <tr>\n",
       "      <th>Social</th>\n",
       "      <td>2 days 00:00:00</td>\n",
       "      <td>1</td>\n",
       "      <td>2 days 00:00:00</td>\n",
       "    </tr>\n",
       "    <tr>\n",
       "      <th>Tulum</th>\n",
       "      <td>2 days 00:00:00</td>\n",
       "      <td>1</td>\n",
       "      <td>2 days 00:00:00</td>\n",
       "    </tr>\n",
       "    <tr>\n",
       "      <th>Analyze</th>\n",
       "      <td>1 days 22:00:00</td>\n",
       "      <td>21</td>\n",
       "      <td>0 days 02:11:25.714285</td>\n",
       "    </tr>\n",
       "    <tr>\n",
       "      <th>email</th>\n",
       "      <td>1 days 18:30:00</td>\n",
       "      <td>34</td>\n",
       "      <td>0 days 01:15:00</td>\n",
       "    </tr>\n",
       "    <tr>\n",
       "      <th>Text2Vid</th>\n",
       "      <td>1 days 14:30:00</td>\n",
       "      <td>18</td>\n",
       "      <td>0 days 02:08:20</td>\n",
       "    </tr>\n",
       "    <tr>\n",
       "      <th>Problem Solving</th>\n",
       "      <td>1 days 13:30:00</td>\n",
       "      <td>30</td>\n",
       "      <td>0 days 01:15:00</td>\n",
       "    </tr>\n",
       "    <tr>\n",
       "      <th>Mati</th>\n",
       "      <td>1 days 11:00:00</td>\n",
       "      <td>10</td>\n",
       "      <td>0 days 03:30:00</td>\n",
       "    </tr>\n",
       "    <tr>\n",
       "      <th>Interview</th>\n",
       "      <td>1 days 06:00:00</td>\n",
       "      <td>14</td>\n",
       "      <td>0 days 02:08:34.285714</td>\n",
       "    </tr>\n",
       "    <tr>\n",
       "      <th>Learn</th>\n",
       "      <td>1 days 03:00:00</td>\n",
       "      <td>16</td>\n",
       "      <td>0 days 01:41:15</td>\n",
       "    </tr>\n",
       "    <tr>\n",
       "      <th>ML</th>\n",
       "      <td>1 days 02:00:00</td>\n",
       "      <td>12</td>\n",
       "      <td>0 days 02:10:00</td>\n",
       "    </tr>\n",
       "    <tr>\n",
       "      <th>.</th>\n",
       "      <td>1 days 00:00:00</td>\n",
       "      <td>1</td>\n",
       "      <td>1 days 00:00:00</td>\n",
       "    </tr>\n",
       "    <tr>\n",
       "      <th>Power and Politics</th>\n",
       "      <td>1 days 00:00:00</td>\n",
       "      <td>15</td>\n",
       "      <td>0 days 01:36:00</td>\n",
       "    </tr>\n",
       "    <tr>\n",
       "      <th>יום חופש</th>\n",
       "      <td>1 days 00:00:00</td>\n",
       "      <td>1</td>\n",
       "      <td>1 days 00:00:00</td>\n",
       "    </tr>\n",
       "    <tr>\n",
       "      <th>System Design</th>\n",
       "      <td>0 days 18:30:00</td>\n",
       "      <td>9</td>\n",
       "      <td>0 days 02:03:20</td>\n",
       "    </tr>\n",
       "    <tr>\n",
       "      <th>Mushroom ceremony</th>\n",
       "      <td>0 days 17:00:00</td>\n",
       "      <td>1</td>\n",
       "      <td>0 days 17:00:00</td>\n",
       "    </tr>\n",
       "    <tr>\n",
       "      <th>Socail</th>\n",
       "      <td>0 days 17:00:00</td>\n",
       "      <td>1</td>\n",
       "      <td>0 days 17:00:00</td>\n",
       "    </tr>\n",
       "    <tr>\n",
       "      <th>Riccardo</th>\n",
       "      <td>0 days 17:00:00</td>\n",
       "      <td>1</td>\n",
       "      <td>0 days 17:00:00</td>\n",
       "    </tr>\n",
       "    <tr>\n",
       "      <th>Plan</th>\n",
       "      <td>0 days 16:30:00</td>\n",
       "      <td>13</td>\n",
       "      <td>0 days 01:16:09.230769</td>\n",
       "    </tr>\n",
       "    <tr>\n",
       "      <th>Real Estate</th>\n",
       "      <td>0 days 16:15:00</td>\n",
       "      <td>9</td>\n",
       "      <td>0 days 01:48:20</td>\n",
       "    </tr>\n",
       "    <tr>\n",
       "      <th>Preparation</th>\n",
       "      <td>0 days 16:00:00</td>\n",
       "      <td>8</td>\n",
       "      <td>0 days 02:00:00</td>\n",
       "    </tr>\n",
       "    <tr>\n",
       "      <th>Flight  UA955 TLV to SFO</th>\n",
       "      <td>0 days 15:05:00</td>\n",
       "      <td>1</td>\n",
       "      <td>0 days 15:05:00</td>\n",
       "    </tr>\n",
       "    <tr>\n",
       "      <th>Park</th>\n",
       "      <td>0 days 15:00:00</td>\n",
       "      <td>3</td>\n",
       "      <td>0 days 05:00:00</td>\n",
       "    </tr>\n",
       "    <tr>\n",
       "      <th>Flight  UA954 SFO to TLV</th>\n",
       "      <td>0 days 13:55:00</td>\n",
       "      <td>1</td>\n",
       "      <td>0 days 13:55:00</td>\n",
       "    </tr>\n",
       "    <tr>\n",
       "      <th>Monica</th>\n",
       "      <td>0 days 13:00:00</td>\n",
       "      <td>4</td>\n",
       "      <td>0 days 03:15:00</td>\n",
       "    </tr>\n",
       "    <tr>\n",
       "      <th>Flight to San Francisco (DL 4362)</th>\n",
       "      <td>0 days 11:05:00</td>\n",
       "      <td>1</td>\n",
       "      <td>0 days 11:05:00</td>\n",
       "    </tr>\n",
       "    <tr>\n",
       "      <th>Sella</th>\n",
       "      <td>0 days 11:00:00</td>\n",
       "      <td>4</td>\n",
       "      <td>0 days 02:45:00</td>\n",
       "    </tr>\n",
       "    <tr>\n",
       "      <th>Movie night</th>\n",
       "      <td>0 days 11:00:00</td>\n",
       "      <td>3</td>\n",
       "      <td>0 days 03:40:00</td>\n",
       "    </tr>\n",
       "    <tr>\n",
       "      <th>Week</th>\n",
       "      <td>0 days 10:00:00</td>\n",
       "      <td>10</td>\n",
       "      <td>0 days 01:00:00</td>\n",
       "    </tr>\n",
       "  </tbody>\n",
       "</table>\n",
       "</div>"
      ],
      "text/plain": [
       "                                          duration  count  \\\n",
       "0                                                           \n",
       "Social                            13 days 18:45:00     81   \n",
       "Cancun                             6 days 00:00:00      3   \n",
       "Code                               5 days 03:00:00     71   \n",
       " Mati                              3 days 20:30:00     12   \n",
       "Day off                            3 days 00:00:00      3   \n",
       " Beach                             2 days 21:00:00      7   \n",
       "Cleanup                            2 days 02:30:00     42   \n",
       "Shiran                             2 days 02:00:00     15   \n",
       " Isla Mujeres                      2 days 00:00:00      1   \n",
       " Fundemica                         2 days 00:00:00      1   \n",
       " Jonathan                          2 days 00:00:00      1   \n",
       " Shasta Lake                       2 days 00:00:00      1   \n",
       " Social                            2 days 00:00:00      1   \n",
       " Tulum                             2 days 00:00:00      1   \n",
       "Analyze                            1 days 22:00:00     21   \n",
       " email                             1 days 18:30:00     34   \n",
       " Text2Vid                          1 days 14:30:00     18   \n",
       " Problem Solving                   1 days 13:30:00     30   \n",
       " Mati                              1 days 11:00:00     10   \n",
       " Interview                         1 days 06:00:00     14   \n",
       "Learn                              1 days 03:00:00     16   \n",
       "ML                                 1 days 02:00:00     12   \n",
       ".                                  1 days 00:00:00      1   \n",
       " Power and Politics                1 days 00:00:00     15   \n",
       "יום חופש                           1 days 00:00:00      1   \n",
       " System Design                     0 days 18:30:00      9   \n",
       " Mushroom ceremony                 0 days 17:00:00      1   \n",
       "Socail                             0 days 17:00:00      1   \n",
       " Riccardo                          0 days 17:00:00      1   \n",
       "Plan                               0 days 16:30:00     13   \n",
       "Real Estate                        0 days 16:15:00      9   \n",
       " Preparation                       0 days 16:00:00      8   \n",
       "Flight  UA955 TLV to SFO           0 days 15:05:00      1   \n",
       " Park                              0 days 15:00:00      3   \n",
       "Flight  UA954 SFO to TLV           0 days 13:55:00      1   \n",
       " Monica                            0 days 13:00:00      4   \n",
       "Flight to San Francisco (DL 4362)  0 days 11:05:00      1   \n",
       " Sella                             0 days 11:00:00      4   \n",
       " Movie night                       0 days 11:00:00      3   \n",
       " Week                              0 days 10:00:00     10   \n",
       "\n",
       "                                          duration/count  \n",
       "0                                                         \n",
       "Social                                   0 days 04:05:00  \n",
       "Cancun                                   2 days 00:00:00  \n",
       "Code                              0 days 01:43:56.619718  \n",
       " Mati                                    0 days 07:42:30  \n",
       "Day off                                  1 days 00:00:00  \n",
       " Beach                            0 days 09:51:25.714285  \n",
       "Cleanup                           0 days 01:12:08.571428  \n",
       "Shiran                                   0 days 03:20:00  \n",
       " Isla Mujeres                            2 days 00:00:00  \n",
       " Fundemica                               2 days 00:00:00  \n",
       " Jonathan                                2 days 00:00:00  \n",
       " Shasta Lake                             2 days 00:00:00  \n",
       " Social                                  2 days 00:00:00  \n",
       " Tulum                                   2 days 00:00:00  \n",
       "Analyze                           0 days 02:11:25.714285  \n",
       " email                                   0 days 01:15:00  \n",
       " Text2Vid                                0 days 02:08:20  \n",
       " Problem Solving                         0 days 01:15:00  \n",
       " Mati                                    0 days 03:30:00  \n",
       " Interview                        0 days 02:08:34.285714  \n",
       "Learn                                    0 days 01:41:15  \n",
       "ML                                       0 days 02:10:00  \n",
       ".                                        1 days 00:00:00  \n",
       " Power and Politics                      0 days 01:36:00  \n",
       "יום חופש                                 1 days 00:00:00  \n",
       " System Design                           0 days 02:03:20  \n",
       " Mushroom ceremony                       0 days 17:00:00  \n",
       "Socail                                   0 days 17:00:00  \n",
       " Riccardo                                0 days 17:00:00  \n",
       "Plan                              0 days 01:16:09.230769  \n",
       "Real Estate                              0 days 01:48:20  \n",
       " Preparation                             0 days 02:00:00  \n",
       "Flight  UA955 TLV to SFO                 0 days 15:05:00  \n",
       " Park                                    0 days 05:00:00  \n",
       "Flight  UA954 SFO to TLV                 0 days 13:55:00  \n",
       " Monica                                  0 days 03:15:00  \n",
       "Flight to San Francisco (DL 4362)        0 days 11:05:00  \n",
       " Sella                                   0 days 02:45:00  \n",
       " Movie night                             0 days 03:40:00  \n",
       " Week                                    0 days 01:00:00  "
      ]
     },
     "execution_count": 135,
     "metadata": {},
     "output_type": "execute_result"
    }
   ],
   "source": [
    "tags_durations.sort_values('duration', ascending=False).head(40)"
   ]
  },
  {
   "cell_type": "code",
   "execution_count": 137,
   "metadata": {},
   "outputs": [],
   "source": [
    "tags_durations.sort_values('duration', ascending=False).to_csv(f'data/google_calendar_execute_{year}_durations_tags.csv')"
   ]
  },
  {
   "cell_type": "code",
   "execution_count": 142,
   "metadata": {},
   "outputs": [
    {
     "data": {
      "text/plain": [
       "Index([' Advents', ' Analyze', ' Analyze syndications', ' Anniversary', ' App',\n",
       "       ' Application', ' Arie Eldad', ' BBQ', ' Bbq', ' Beach',\n",
       "       ...\n",
       "       'Trip ', 'Twitch Music Presents...', 'Umbrella insurance ',\n",
       "       'What course', 'What to do', 'Who to donate to', 'ברכה לדניאל ויונית',\n",
       "       'הסכם ממון', 'יום חופש', 'לשלוח דואר לשכנה '],\n",
       "      dtype='object', name=0, length=220)"
      ]
     },
     "execution_count": 142,
     "metadata": {},
     "output_type": "execute_result"
    }
   ],
   "source": [
    "tags_durations.index"
   ]
  },
  {
   "cell_type": "markdown",
   "metadata": {},
   "source": [
    "# Compare plan vs execute"
   ]
  },
  {
   "cell_type": "code",
   "execution_count": null,
   "metadata": {},
   "outputs": [],
   "source": [
    "# how many hours were planned but not executed\n",
    "# how many hours were planned and nothing was executed the same day\n",
    "# "
   ]
  },
  {
   "cell_type": "code",
   "execution_count": 13,
   "metadata": {},
   "outputs": [],
   "source": [
    "service = get_calendar_service()"
   ]
  },
  {
   "cell_type": "code",
   "execution_count": 21,
   "metadata": {},
   "outputs": [],
   "source": [
    "plan_id = get_id('Plan')"
   ]
  },
  {
   "cell_type": "code",
   "execution_count": 18,
   "metadata": {},
   "outputs": [
    {
     "name": "stdout",
     "output_type": "stream",
     "text": [
      "Getting the upcoming 1000 events\n"
     ]
    }
   ],
   "source": [
    "plan_events = get_events(plan_id, 2019)"
   ]
  },
  {
   "cell_type": "code",
   "execution_count": 20,
   "metadata": {},
   "outputs": [],
   "source": [
    "execute_id = get_id('Execute')"
   ]
  },
  {
   "cell_type": "code",
   "execution_count": 24,
   "metadata": {},
   "outputs": [
    {
     "name": "stdout",
     "output_type": "stream",
     "text": [
      "Getting the upcoming 1000 events\n"
     ]
    }
   ],
   "source": [
    "execute_events = get_events(calendar_id, 2019)"
   ]
  },
  {
   "cell_type": "code",
   "execution_count": 23,
   "metadata": {},
   "outputs": [],
   "source": [
    "plan_df = pd.DataFrame(plan_events)"
   ]
  },
  {
   "cell_type": "code",
   "execution_count": 25,
   "metadata": {},
   "outputs": [],
   "source": [
    "execute_df = pd.DataFrame(execute_events)"
   ]
  },
  {
   "cell_type": "code",
   "execution_count": 27,
   "metadata": {},
   "outputs": [
    {
     "data": {
      "text/plain": [
       "(298, 20)"
      ]
     },
     "execution_count": 27,
     "metadata": {},
     "output_type": "execute_result"
    }
   ],
   "source": [
    "plan_df.shape"
   ]
  },
  {
   "cell_type": "code",
   "execution_count": 26,
   "metadata": {},
   "outputs": [
    {
     "data": {
      "text/html": [
       "<div>\n",
       "<style scoped>\n",
       "    .dataframe tbody tr th:only-of-type {\n",
       "        vertical-align: middle;\n",
       "    }\n",
       "\n",
       "    .dataframe tbody tr th {\n",
       "        vertical-align: top;\n",
       "    }\n",
       "\n",
       "    .dataframe thead th {\n",
       "        text-align: right;\n",
       "    }\n",
       "</style>\n",
       "<table border=\"1\" class=\"dataframe\">\n",
       "  <thead>\n",
       "    <tr style=\"text-align: right;\">\n",
       "      <th></th>\n",
       "      <th>kind</th>\n",
       "      <th>etag</th>\n",
       "      <th>id</th>\n",
       "      <th>status</th>\n",
       "      <th>htmlLink</th>\n",
       "      <th>created</th>\n",
       "      <th>updated</th>\n",
       "      <th>summary</th>\n",
       "      <th>creator</th>\n",
       "      <th>organizer</th>\n",
       "      <th>start</th>\n",
       "      <th>end</th>\n",
       "      <th>recurringEventId</th>\n",
       "      <th>originalStartTime</th>\n",
       "      <th>iCalUID</th>\n",
       "      <th>sequence</th>\n",
       "      <th>reminders</th>\n",
       "      <th>location</th>\n",
       "      <th>description</th>\n",
       "      <th>visibility</th>\n",
       "    </tr>\n",
       "  </thead>\n",
       "  <tbody>\n",
       "    <tr>\n",
       "      <th>0</th>\n",
       "      <td>calendar#event</td>\n",
       "      <td>\"3116074901948000\"</td>\n",
       "      <td>_6gok6d1g6h34cba188pj8b9k6ks3eba18kp3eba288sja...</td>\n",
       "      <td>confirmed</td>\n",
       "      <td>https://www.google.com/calendar/event?eid=XzZn...</td>\n",
       "      <td>2018-11-02T05:11:17.000Z</td>\n",
       "      <td>2019-06-03T14:40:25.407Z</td>\n",
       "      <td>Check account</td>\n",
       "      <td>{'email': 'jvalansi@gmail.com', 'displayName':...</td>\n",
       "      <td>{'email': 'hjc80sh8g60i524pegb7pii6qc@group.ca...</td>\n",
       "      <td>{'dateTime': '2019-01-02T05:00:00+01:00', 'tim...</td>\n",
       "      <td>{'dateTime': '2019-01-02T06:00:00+01:00', 'tim...</td>\n",
       "      <td>_6gok6d1g6h34cba188pj8b9k6ks3eba18kp3eba288sja...</td>\n",
       "      <td>{'dateTime': '2019-01-02T05:00:00+01:00', 'tim...</td>\n",
       "      <td>41C404FF-AB34-4587-AE27-BB95D074FD95</td>\n",
       "      <td>8</td>\n",
       "      <td>{'useDefault': True}</td>\n",
       "      <td>NaN</td>\n",
       "      <td>NaN</td>\n",
       "      <td>NaN</td>\n",
       "    </tr>\n",
       "    <tr>\n",
       "      <th>1</th>\n",
       "      <td>calendar#event</td>\n",
       "      <td>\"3098071321561000\"</td>\n",
       "      <td>_8kpk8dq5692j6b9o6cq3eb9k6t244ba2652j0ba384s3g...</td>\n",
       "      <td>confirmed</td>\n",
       "      <td>https://www.google.com/calendar/event?eid=Xzhr...</td>\n",
       "      <td>2018-11-02T05:11:45.000Z</td>\n",
       "      <td>2019-04-02T15:12:40.698Z</td>\n",
       "      <td>Cleanup - kitchen</td>\n",
       "      <td>{'email': 'jvalansi@gmail.com', 'displayName':...</td>\n",
       "      <td>{'email': 'hjc80sh8g60i524pegb7pii6qc@group.ca...</td>\n",
       "      <td>{'dateTime': '2019-01-02T06:00:00+01:00', 'tim...</td>\n",
       "      <td>{'dateTime': '2019-01-02T07:00:00+01:00', 'tim...</td>\n",
       "      <td>_8kpk8dq5692j6b9o6cq3eb9k6t244ba2652j0ba384s3g...</td>\n",
       "      <td>{'dateTime': '2019-01-02T06:00:00+01:00', 'tim...</td>\n",
       "      <td>E3D7E2E3-8347-47DB-B1E0-CA887568C857</td>\n",
       "      <td>2</td>\n",
       "      <td>{'useDefault': False}</td>\n",
       "      <td>NaN</td>\n",
       "      <td>NaN</td>\n",
       "      <td>NaN</td>\n",
       "    </tr>\n",
       "    <tr>\n",
       "      <th>2</th>\n",
       "      <td>calendar#event</td>\n",
       "      <td>\"3093797855321000\"</td>\n",
       "      <td>_68q30h248h1jib9j8p1j6b9k6oqjeba16kqk4b9h8orj2...</td>\n",
       "      <td>confirmed</td>\n",
       "      <td>https://www.google.com/calendar/event?eid=XzY4...</td>\n",
       "      <td>2019-01-06T01:33:58.000Z</td>\n",
       "      <td>2019-01-09T18:43:36.901Z</td>\n",
       "      <td>Fingerprints</td>\n",
       "      <td>{'email': 'jvalansi@gmail.com', 'displayName':...</td>\n",
       "      <td>{'email': 'hjc80sh8g60i524pegb7pii6qc@group.ca...</td>\n",
       "      <td>{'dateTime': '2019-01-09T19:00:00+01:00', 'tim...</td>\n",
       "      <td>{'dateTime': '2019-01-09T20:00:00+01:00', 'tim...</td>\n",
       "      <td>NaN</td>\n",
       "      <td>NaN</td>\n",
       "      <td>240DDDC9-3FC3-4657-A55B-1F71358AA787</td>\n",
       "      <td>0</td>\n",
       "      <td>{'useDefault': False, 'overrides': [{'method':...</td>\n",
       "      <td>250 Broadway\\nSan Francisco, CA, ארצות הברית</td>\n",
       "      <td>NaN</td>\n",
       "      <td>NaN</td>\n",
       "    </tr>\n",
       "    <tr>\n",
       "      <th>3</th>\n",
       "      <td>calendar#event</td>\n",
       "      <td>\"3095208873760000\"</td>\n",
       "      <td>_clr6arjkbsp3adhg64ojee1m81mmapbkelo2sorfdk</td>\n",
       "      <td>confirmed</td>\n",
       "      <td>https://www.google.com/calendar/event?eid=X2Ns...</td>\n",
       "      <td>2019-01-16T02:07:16.000Z</td>\n",
       "      <td>2019-01-16T02:07:16.880Z</td>\n",
       "      <td>How To Build Passive Wealth through Notes &amp; Se...</td>\n",
       "      <td>{'email': 'jvalansi@gmail.com', 'displayName':...</td>\n",
       "      <td>{'email': 'hjc80sh8g60i524pegb7pii6qc@group.ca...</td>\n",
       "      <td>{'dateTime': '2019-01-16T03:00:00+01:00', 'tim...</td>\n",
       "      <td>{'dateTime': '2019-01-16T06:00:00+01:00', 'tim...</td>\n",
       "      <td>NaN</td>\n",
       "      <td>NaN</td>\n",
       "      <td>event_256011786@meetup.com</td>\n",
       "      <td>0</td>\n",
       "      <td>{'useDefault': True}</td>\n",
       "      <td>NY Life (425 Market Street, 9th Flooor, San Fr...</td>\n",
       "      <td>Bay Area Real Estate Moguls\\nTuesday, January ...</td>\n",
       "      <td>public</td>\n",
       "    </tr>\n",
       "    <tr>\n",
       "      <th>4</th>\n",
       "      <td>calendar#event</td>\n",
       "      <td>\"3095294201743000\"</td>\n",
       "      <td>_68o32e9g64ojcl1g68o32cpgb8mjidpm6krjedpi6506c...</td>\n",
       "      <td>confirmed</td>\n",
       "      <td>https://www.google.com/calendar/event?eid=XzY4...</td>\n",
       "      <td>2019-01-16T02:01:40.000Z</td>\n",
       "      <td>2019-01-17T01:55:00.969Z</td>\n",
       "      <td>2019 Real Estate Trends</td>\n",
       "      <td>{'email': 'jvalansi@gmail.com', 'displayName':...</td>\n",
       "      <td>{'email': 'hjc80sh8g60i524pegb7pii6qc@group.ca...</td>\n",
       "      <td>{'dateTime': '2019-01-17T03:00:00+01:00', 'tim...</td>\n",
       "      <td>{'dateTime': '2019-01-17T04:00:00+01:00', 'tim...</td>\n",
       "      <td>NaN</td>\n",
       "      <td>NaN</td>\n",
       "      <td>20190116T020130Z-976577721@fe80:0:0:0:886:47ff...</td>\n",
       "      <td>0</td>\n",
       "      <td>{'useDefault': False, 'overrides': [{'method':...</td>\n",
       "      <td>https://zoom.us/w/976577721?tk=ZUNIJf1Yfx7KPkX...</td>\n",
       "      <td>Join from a PC, Mac, iPad, iPhone or Android d...</td>\n",
       "      <td>NaN</td>\n",
       "    </tr>\n",
       "  </tbody>\n",
       "</table>\n",
       "</div>"
      ],
      "text/plain": [
       "             kind                etag  \\\n",
       "0  calendar#event  \"3116074901948000\"   \n",
       "1  calendar#event  \"3098071321561000\"   \n",
       "2  calendar#event  \"3093797855321000\"   \n",
       "3  calendar#event  \"3095208873760000\"   \n",
       "4  calendar#event  \"3095294201743000\"   \n",
       "\n",
       "                                                  id     status  \\\n",
       "0  _6gok6d1g6h34cba188pj8b9k6ks3eba18kp3eba288sja...  confirmed   \n",
       "1  _8kpk8dq5692j6b9o6cq3eb9k6t244ba2652j0ba384s3g...  confirmed   \n",
       "2  _68q30h248h1jib9j8p1j6b9k6oqjeba16kqk4b9h8orj2...  confirmed   \n",
       "3        _clr6arjkbsp3adhg64ojee1m81mmapbkelo2sorfdk  confirmed   \n",
       "4  _68o32e9g64ojcl1g68o32cpgb8mjidpm6krjedpi6506c...  confirmed   \n",
       "\n",
       "                                            htmlLink  \\\n",
       "0  https://www.google.com/calendar/event?eid=XzZn...   \n",
       "1  https://www.google.com/calendar/event?eid=Xzhr...   \n",
       "2  https://www.google.com/calendar/event?eid=XzY4...   \n",
       "3  https://www.google.com/calendar/event?eid=X2Ns...   \n",
       "4  https://www.google.com/calendar/event?eid=XzY4...   \n",
       "\n",
       "                    created                   updated  \\\n",
       "0  2018-11-02T05:11:17.000Z  2019-06-03T14:40:25.407Z   \n",
       "1  2018-11-02T05:11:45.000Z  2019-04-02T15:12:40.698Z   \n",
       "2  2019-01-06T01:33:58.000Z  2019-01-09T18:43:36.901Z   \n",
       "3  2019-01-16T02:07:16.000Z  2019-01-16T02:07:16.880Z   \n",
       "4  2019-01-16T02:01:40.000Z  2019-01-17T01:55:00.969Z   \n",
       "\n",
       "                                             summary  \\\n",
       "0                                      Check account   \n",
       "1                                  Cleanup - kitchen   \n",
       "2                                      Fingerprints    \n",
       "3  How To Build Passive Wealth through Notes & Se...   \n",
       "4                            2019 Real Estate Trends   \n",
       "\n",
       "                                             creator  \\\n",
       "0  {'email': 'jvalansi@gmail.com', 'displayName':...   \n",
       "1  {'email': 'jvalansi@gmail.com', 'displayName':...   \n",
       "2  {'email': 'jvalansi@gmail.com', 'displayName':...   \n",
       "3  {'email': 'jvalansi@gmail.com', 'displayName':...   \n",
       "4  {'email': 'jvalansi@gmail.com', 'displayName':...   \n",
       "\n",
       "                                           organizer  \\\n",
       "0  {'email': 'hjc80sh8g60i524pegb7pii6qc@group.ca...   \n",
       "1  {'email': 'hjc80sh8g60i524pegb7pii6qc@group.ca...   \n",
       "2  {'email': 'hjc80sh8g60i524pegb7pii6qc@group.ca...   \n",
       "3  {'email': 'hjc80sh8g60i524pegb7pii6qc@group.ca...   \n",
       "4  {'email': 'hjc80sh8g60i524pegb7pii6qc@group.ca...   \n",
       "\n",
       "                                               start  \\\n",
       "0  {'dateTime': '2019-01-02T05:00:00+01:00', 'tim...   \n",
       "1  {'dateTime': '2019-01-02T06:00:00+01:00', 'tim...   \n",
       "2  {'dateTime': '2019-01-09T19:00:00+01:00', 'tim...   \n",
       "3  {'dateTime': '2019-01-16T03:00:00+01:00', 'tim...   \n",
       "4  {'dateTime': '2019-01-17T03:00:00+01:00', 'tim...   \n",
       "\n",
       "                                                 end  \\\n",
       "0  {'dateTime': '2019-01-02T06:00:00+01:00', 'tim...   \n",
       "1  {'dateTime': '2019-01-02T07:00:00+01:00', 'tim...   \n",
       "2  {'dateTime': '2019-01-09T20:00:00+01:00', 'tim...   \n",
       "3  {'dateTime': '2019-01-16T06:00:00+01:00', 'tim...   \n",
       "4  {'dateTime': '2019-01-17T04:00:00+01:00', 'tim...   \n",
       "\n",
       "                                    recurringEventId  \\\n",
       "0  _6gok6d1g6h34cba188pj8b9k6ks3eba18kp3eba288sja...   \n",
       "1  _8kpk8dq5692j6b9o6cq3eb9k6t244ba2652j0ba384s3g...   \n",
       "2                                                NaN   \n",
       "3                                                NaN   \n",
       "4                                                NaN   \n",
       "\n",
       "                                   originalStartTime  \\\n",
       "0  {'dateTime': '2019-01-02T05:00:00+01:00', 'tim...   \n",
       "1  {'dateTime': '2019-01-02T06:00:00+01:00', 'tim...   \n",
       "2                                                NaN   \n",
       "3                                                NaN   \n",
       "4                                                NaN   \n",
       "\n",
       "                                             iCalUID  sequence  \\\n",
       "0               41C404FF-AB34-4587-AE27-BB95D074FD95         8   \n",
       "1               E3D7E2E3-8347-47DB-B1E0-CA887568C857         2   \n",
       "2               240DDDC9-3FC3-4657-A55B-1F71358AA787         0   \n",
       "3                         event_256011786@meetup.com         0   \n",
       "4  20190116T020130Z-976577721@fe80:0:0:0:886:47ff...         0   \n",
       "\n",
       "                                           reminders  \\\n",
       "0                               {'useDefault': True}   \n",
       "1                              {'useDefault': False}   \n",
       "2  {'useDefault': False, 'overrides': [{'method':...   \n",
       "3                               {'useDefault': True}   \n",
       "4  {'useDefault': False, 'overrides': [{'method':...   \n",
       "\n",
       "                                            location  \\\n",
       "0                                                NaN   \n",
       "1                                                NaN   \n",
       "2       250 Broadway\\nSan Francisco, CA, ארצות הברית   \n",
       "3  NY Life (425 Market Street, 9th Flooor, San Fr...   \n",
       "4  https://zoom.us/w/976577721?tk=ZUNIJf1Yfx7KPkX...   \n",
       "\n",
       "                                         description visibility  \n",
       "0                                                NaN        NaN  \n",
       "1                                                NaN        NaN  \n",
       "2                                                NaN        NaN  \n",
       "3  Bay Area Real Estate Moguls\\nTuesday, January ...     public  \n",
       "4  Join from a PC, Mac, iPad, iPhone or Android d...        NaN  "
      ]
     },
     "execution_count": 26,
     "metadata": {},
     "output_type": "execute_result"
    }
   ],
   "source": [
    "plan_df.head()"
   ]
  },
  {
   "cell_type": "code",
   "execution_count": 45,
   "metadata": {},
   "outputs": [],
   "source": [
    "plan_df['datetime'] = plan_df['start'].apply(lambda x: get_datetime(x, part='date'))"
   ]
  },
  {
   "cell_type": "code",
   "execution_count": 47,
   "metadata": {},
   "outputs": [],
   "source": [
    "plan_df['duration'] = plan_df.apply(get_duration, axis=1)"
   ]
  },
  {
   "cell_type": "code",
   "execution_count": 49,
   "metadata": {},
   "outputs": [],
   "source": [
    "plan_durations = plan_df.groupby('datetime').sum()"
   ]
  },
  {
   "cell_type": "code",
   "execution_count": 50,
   "metadata": {},
   "outputs": [],
   "source": [
    "execute_df['datetime'] = execute_df['start'].apply(lambda x: get_datetime(x, part='date'))"
   ]
  },
  {
   "cell_type": "code",
   "execution_count": 51,
   "metadata": {},
   "outputs": [],
   "source": [
    "execute_df['duration'] = execute_df.apply(get_duration, axis=1)"
   ]
  },
  {
   "cell_type": "code",
   "execution_count": 52,
   "metadata": {},
   "outputs": [],
   "source": [
    "execute_durations = execute_df.groupby('datetime').sum()"
   ]
  },
  {
   "cell_type": "code",
   "execution_count": 54,
   "metadata": {},
   "outputs": [
    {
     "data": {
      "text/html": [
       "<div>\n",
       "<style scoped>\n",
       "    .dataframe tbody tr th:only-of-type {\n",
       "        vertical-align: middle;\n",
       "    }\n",
       "\n",
       "    .dataframe tbody tr th {\n",
       "        vertical-align: top;\n",
       "    }\n",
       "\n",
       "    .dataframe thead th {\n",
       "        text-align: right;\n",
       "    }\n",
       "</style>\n",
       "<table border=\"1\" class=\"dataframe\">\n",
       "  <thead>\n",
       "    <tr style=\"text-align: right;\">\n",
       "      <th></th>\n",
       "      <th>sequence</th>\n",
       "      <th>duration</th>\n",
       "    </tr>\n",
       "    <tr>\n",
       "      <th>datetime</th>\n",
       "      <th></th>\n",
       "      <th></th>\n",
       "    </tr>\n",
       "  </thead>\n",
       "  <tbody>\n",
       "    <tr>\n",
       "      <th>2019-01-02</th>\n",
       "      <td>10</td>\n",
       "      <td>2.0</td>\n",
       "    </tr>\n",
       "    <tr>\n",
       "      <th>2019-01-09</th>\n",
       "      <td>0</td>\n",
       "      <td>1.0</td>\n",
       "    </tr>\n",
       "    <tr>\n",
       "      <th>2019-01-16</th>\n",
       "      <td>0</td>\n",
       "      <td>3.0</td>\n",
       "    </tr>\n",
       "    <tr>\n",
       "      <th>2019-01-17</th>\n",
       "      <td>0</td>\n",
       "      <td>1.0</td>\n",
       "    </tr>\n",
       "    <tr>\n",
       "      <th>2019-01-26</th>\n",
       "      <td>0</td>\n",
       "      <td>1.0</td>\n",
       "    </tr>\n",
       "  </tbody>\n",
       "</table>\n",
       "</div>"
      ],
      "text/plain": [
       "            sequence  duration\n",
       "datetime                      \n",
       "2019-01-02        10       2.0\n",
       "2019-01-09         0       1.0\n",
       "2019-01-16         0       3.0\n",
       "2019-01-17         0       1.0\n",
       "2019-01-26         0       1.0"
      ]
     },
     "execution_count": 54,
     "metadata": {},
     "output_type": "execute_result"
    }
   ],
   "source": [
    "\n",
    "plan_durations.head()"
   ]
  },
  {
   "cell_type": "code",
   "execution_count": 55,
   "metadata": {},
   "outputs": [],
   "source": [
    "durations = plan_durations"
   ]
  },
  {
   "cell_type": "code",
   "execution_count": 57,
   "metadata": {},
   "outputs": [],
   "source": [
    "durations['execute'] = execute_durations['duration']"
   ]
  },
  {
   "cell_type": "code",
   "execution_count": 59,
   "metadata": {},
   "outputs": [],
   "source": [
    "durations['diff'] = durations['duration'] - durations['execute']"
   ]
  },
  {
   "cell_type": "code",
   "execution_count": 61,
   "metadata": {},
   "outputs": [
    {
     "data": {
      "text/html": [
       "<div>\n",
       "<style scoped>\n",
       "    .dataframe tbody tr th:only-of-type {\n",
       "        vertical-align: middle;\n",
       "    }\n",
       "\n",
       "    .dataframe tbody tr th {\n",
       "        vertical-align: top;\n",
       "    }\n",
       "\n",
       "    .dataframe thead th {\n",
       "        text-align: right;\n",
       "    }\n",
       "</style>\n",
       "<table border=\"1\" class=\"dataframe\">\n",
       "  <thead>\n",
       "    <tr style=\"text-align: right;\">\n",
       "      <th></th>\n",
       "      <th>sequence</th>\n",
       "      <th>duration</th>\n",
       "      <th>execute</th>\n",
       "      <th>diff</th>\n",
       "    </tr>\n",
       "    <tr>\n",
       "      <th>datetime</th>\n",
       "      <th></th>\n",
       "      <th></th>\n",
       "      <th></th>\n",
       "      <th></th>\n",
       "    </tr>\n",
       "  </thead>\n",
       "  <tbody>\n",
       "  </tbody>\n",
       "</table>\n",
       "</div>"
      ],
      "text/plain": [
       "Empty DataFrame\n",
       "Columns: [sequence, duration, execute, diff]\n",
       "Index: []"
      ]
     },
     "execution_count": 61,
     "metadata": {},
     "output_type": "execute_result"
    }
   ],
   "source": [
    "durations[durations['diff']>0]"
   ]
  },
  {
   "cell_type": "markdown",
   "metadata": {},
   "source": [
    "# Habit"
   ]
  },
  {
   "cell_type": "code",
   "execution_count": 62,
   "metadata": {},
   "outputs": [],
   "source": [
    "habit_id = get_id('Habit')"
   ]
  },
  {
   "cell_type": "code",
   "execution_count": 63,
   "metadata": {},
   "outputs": [
    {
     "name": "stdout",
     "output_type": "stream",
     "text": [
      "Getting the upcoming 1000 events\n"
     ]
    }
   ],
   "source": [
    "habit_events = get_events(habit_id, 2019)"
   ]
  },
  {
   "cell_type": "code",
   "execution_count": 64,
   "metadata": {},
   "outputs": [],
   "source": [
    "habit_df = pd.DataFrame(habit_events)"
   ]
  },
  {
   "cell_type": "code",
   "execution_count": 66,
   "metadata": {},
   "outputs": [],
   "source": [
    "habit_df['datetime'] = habit_df['start'].apply(lambda x: get_datetime(x, just_date=True))"
   ]
  },
  {
   "cell_type": "code",
   "execution_count": 71,
   "metadata": {},
   "outputs": [],
   "source": [
    "s = habit_df.groupby('datetime').count()['id']"
   ]
  },
  {
   "cell_type": "code",
   "execution_count": 72,
   "metadata": {},
   "outputs": [],
   "source": [
    "idx = pd.date_range('01-01-2019', '01-01-2020')\n",
    "\n",
    "s.index = pd.DatetimeIndex(s.index)\n",
    "\n",
    "s = s.reindex(idx, fill_value=0)\n"
   ]
  },
  {
   "cell_type": "code",
   "execution_count": 78,
   "metadata": {},
   "outputs": [
    {
     "data": {
      "text/plain": [
       "<matplotlib.axes._subplots.AxesSubplot at 0x1208397b8>"
      ]
     },
     "execution_count": 78,
     "metadata": {},
     "output_type": "execute_result"
    },
    {
     "data": {
      "image/png": "[encoded data removed]",
      "text/plain": [
       "<Figure size 432x288 with 1 Axes>"
      ]
     },
     "metadata": {
      "needs_background": "light"
     },
     "output_type": "display_data"
    }
   ],
   "source": [
    "s.plot()\n"
   ]
  },
  {
   "cell_type": "code",
   "execution_count": 101,
   "metadata": {},
   "outputs": [],
   "source": [
    "habit_df['week'] = habit_df['start'].apply(lambda x: get_datetime(x, part='week'))"
   ]
  },
  {
   "cell_type": "code",
   "execution_count": 109,
   "metadata": {},
   "outputs": [],
   "source": [
    "s = habit_df.groupby('week').count()['id']"
   ]
  },
  {
   "cell_type": "code",
   "execution_count": 118,
   "metadata": {},
   "outputs": [],
   "source": [
    "# s.index = pd.DatetimeIndex(s.index)\n",
    "\n",
    "s = s.reindex(range(29,52), fill_value=0)\n",
    "\n"
   ]
  },
  {
   "cell_type": "code",
   "execution_count": 119,
   "metadata": {},
   "outputs": [
    {
     "data": {
      "text/plain": [
       "<matplotlib.collections.PathCollection at 0x1280d3400>"
      ]
     },
     "execution_count": 119,
     "metadata": {},
     "output_type": "execute_result"
    },
    {
     "data": {
      "image/png": "[encoded data removed]",
      "text/plain": [
       "<Figure size 432x288 with 1 Axes>"
      ]
     },
     "metadata": {
      "needs_background": "light"
     },
     "output_type": "display_data"
    }
   ],
   "source": [
    "matplotlib.pyplot.scatter(s.index, s)\n"
   ]
  },
  {
   "cell_type": "code",
   "execution_count": 120,
   "metadata": {},
   "outputs": [],
   "source": [
    "from numpy.polynomial.polynomial import polyfit\n"
   ]
  },
  {
   "cell_type": "code",
   "execution_count": 121,
   "metadata": {},
   "outputs": [],
   "source": [
    "b, m = polyfit(s.index, s, 1)\n"
   ]
  },
  {
   "cell_type": "code",
   "execution_count": 123,
   "metadata": {},
   "outputs": [
    {
     "data": {
      "image/png": "[encoded data removed]",
      "text/plain": [
       "<Figure size 432x288 with 1 Axes>"
      ]
     },
     "metadata": {
      "needs_background": "light"
     },
     "output_type": "display_data"
    }
   ],
   "source": [
    "matplotlib.pyplot.plot(s.index, s, '.')\n",
    "matplotlib.pyplot.plot(s.index, b + m * s.index, '-')\n",
    "matplotlib.pyplot.show()\n"
   ]
  },
  {
   "cell_type": "code",
   "execution_count": null,
   "metadata": {},
   "outputs": [],
   "source": []
  }
 ],
 "metadata": {
  "kernelspec": {
   "display_name": "conda_python3",
   "language": "python",
   "name": "conda_python3"
  },
  "language_info": {
   "codemirror_mode": {
    "name": "ipython",
    "version": 3
   },
   "file_extension": ".py",
   "mimetype": "text/x-python",
   "name": "python",
   "nbconvert_exporter": "python",
   "pygments_lexer": "ipython3",
   "version": "3.6.10"
  }
 },
 "nbformat": 4,
 "nbformat_minor": 4
}
