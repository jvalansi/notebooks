{
 "cells": [
  {
   "cell_type": "code",
   "execution_count": 7,
   "id": "ae4bc5d8-32fa-4083-a87f-754d12ff7afe",
   "metadata": {
    "tags": []
   },
   "outputs": [],
   "source": [
    "# ==1.2.2"
   ]
  },
  {
   "cell_type": "code",
   "execution_count": 4,
   "id": "865d2bb2-7c3a-4569-9e0d-231dfb0097a5",
   "metadata": {
    "tags": []
   },
   "outputs": [],
   "source": [
    " # %pip install robin_stocks openai==1.2.2 yfinance requests_oauthlib twilio boto3 --upgrade "
   ]
  },
  {
   "cell_type": "code",
   "execution_count": 5,
   "id": "1b2c1370-fa15-4e35-b3df-af7a758a6ea5",
   "metadata": {
    "tags": []
   },
   "outputs": [
    {
     "name": "stderr",
     "output_type": "stream",
     "text": [
      "/opt/conda/lib/python3.10/site-packages/pandas/core/computation/expressions.py:21: UserWarning: Pandas requires version '2.8.4' or newer of 'numexpr' (version '2.8.3' currently installed).\n",
      "  from pandas.core.computation.check import NUMEXPR_INSTALLED\n",
      "/opt/conda/lib/python3.10/site-packages/pandas/core/arrays/masked.py:60: UserWarning: Pandas requires version '1.3.6' or newer of 'bottleneck' (version '1.3.5' currently installed).\n",
      "  from pandas.core import (\n"
     ]
    }
   ],
   "source": [
    "import robin_stocks.robinhood as r\n",
    "import requests\n",
    "import json\n",
    "import pandas as pd\n",
    "import datetime\n",
    "from dateutil import parser\n",
    "from dateutil.relativedelta import relativedelta\n",
    "from dateutil.tz import tzlocal\n",
    "from datetime import timedelta\n",
    "import pytz\n",
    "import boto3\n",
    "from tqdm.auto import tqdm\n",
    "from io import StringIO, BytesIO"
   ]
  },
  {
   "cell_type": "code",
   "execution_count": 6,
   "id": "597e9e3f-bd0f-4e77-89f5-c058c00650e7",
   "metadata": {
    "tags": []
   },
   "outputs": [],
   "source": [
    "from news2roi import News2ROI"
   ]
  },
  {
   "cell_type": "code",
   "execution_count": 7,
   "id": "f21534e0-2b5f-40f5-b103-daa33e4515c5",
   "metadata": {},
   "outputs": [],
   "source": [
    "s3 = boto3.client('s3')"
   ]
  },
  {
   "cell_type": "code",
   "execution_count": 8,
   "id": "ceccf3c8-dad2-4d2a-845f-e00fd4142224",
   "metadata": {
    "tags": []
   },
   "outputs": [],
   "source": [
    "bucket_name = 'jvalansi-notebooks-data'"
   ]
  },
  {
   "cell_type": "code",
   "execution_count": 6,
   "id": "0f6c8937-dd74-454c-9ec7-b80845f9befb",
   "metadata": {
    "tags": []
   },
   "outputs": [],
   "source": [
    "# s3.upload_file(\"/root/.aws/secrets.json\", bucket_name, \".aws.json\")"
   ]
  },
  {
   "cell_type": "code",
   "execution_count": 7,
   "id": "8dc232b9-0006-4d2d-bf2c-9f9d41d28159",
   "metadata": {
    "tags": []
   },
   "outputs": [],
   "source": [
    "# s3.upload_file(\"/root/.rapidapi.json\", bucket_name, \".rapidapi.json\")"
   ]
  },
  {
   "cell_type": "code",
   "execution_count": 8,
   "id": "0b5d46b5-a228-4b34-8876-38609915c99e",
   "metadata": {
    "tags": []
   },
   "outputs": [],
   "source": [
    "# s3.upload_file(\"/root/.newsapi.json\", bucket_name, \".newsapi.json\")"
   ]
  },
  {
   "cell_type": "code",
   "execution_count": 9,
   "id": "551f96bf-40a8-49c3-856a-78400aadb4e5",
   "metadata": {
    "tags": []
   },
   "outputs": [],
   "source": [
    "data = s3.get_object(Bucket=bucket_name, Key=\".aws.json\")\n",
    "j = json.loads(data['Body'].read().decode('utf8'))\n",
    "openai_key = j['OPENAI_KEY']\n",
    "data = s3.get_object(Bucket=bucket_name, Key=\".rapidapi.json\")\n",
    "# data = s3.get_object(Bucket=bucket_name, Key=\".newsapi.json\")\n",
    "j = json.loads(data['Body'].read().decode('utf8'))\n",
    "news_key = j[\"key\"]\n"
   ]
  },
  {
   "cell_type": "code",
   "execution_count": 9,
   "id": "efe58e42-f9f2-4941-a71b-c542d2d7e9d3",
   "metadata": {
    "tags": []
   },
   "outputs": [],
   "source": [
    "# s3.upload_file(\"/root/.robinhood.json\", bucket_name, \".robinhood.json\")"
   ]
  },
  {
   "cell_type": "code",
   "execution_count": 10,
   "id": "686902fb-7825-4638-9cf6-451ae2779f3f",
   "metadata": {
    "tags": []
   },
   "outputs": [],
   "source": [
    "data = s3.get_object(Bucket=bucket_name, Key=\".robinhood.json\")\n",
    "trade_cred = json.loads(data['Body'].read().decode('utf8'))"
   ]
  },
  {
   "cell_type": "code",
   "execution_count": 11,
   "id": "c88aed7f-2e1e-4c4a-9ab4-526c805a4b80",
   "metadata": {
    "tags": []
   },
   "outputs": [],
   "source": [
    "data = s3.get_object(Bucket=bucket_name, Key=\".twilio.json\")\n",
    "notify_cred = json.loads(data['Body'].read().decode('utf8'))"
   ]
  },
  {
   "cell_type": "code",
   "execution_count": 12,
   "id": "6a16ed4a-1646-451e-ae4f-844996068265",
   "metadata": {
    "tags": []
   },
   "outputs": [],
   "source": [
    "n2r = News2ROI(openai_key, news_key, trade_cred, notify_cred)"
   ]
  },
  {
   "cell_type": "code",
   "execution_count": 13,
   "id": "b0ffa646-e78e-4c47-9836-207fc80b974e",
   "metadata": {
    "tags": []
   },
   "outputs": [],
   "source": [
    "date = datetime.datetime.today().strftime('%Y-%m-%d')"
   ]
  },
  {
   "cell_type": "code",
   "execution_count": null,
   "id": "c73482ef-7b73-4ee3-a8fd-bbc4d6d6fd22",
   "metadata": {
    "tags": []
   },
   "outputs": [],
   "source": [
    "# date = \"2024-01-26\""
   ]
  },
  {
   "cell_type": "code",
   "execution_count": null,
   "id": "b28f51e8-d266-4453-8249-2bb9c1e04d59",
   "metadata": {
    "tags": []
   },
   "outputs": [],
   "source": [
    "# date = \"2024-01-16\""
   ]
  },
  {
   "cell_type": "code",
   "execution_count": 14,
   "id": "8b47fcd3-77b7-43b1-aa41-b4b096cfde00",
   "metadata": {
    "tags": []
   },
   "outputs": [],
   "source": [
    "# get new news articles\n",
    "news = n2r.get_news(date=date)"
   ]
  },
  {
   "cell_type": "code",
   "execution_count": 15,
   "id": "fa517f57-a6c8-40ca-ae16-e19ab49af914",
   "metadata": {
    "tags": []
   },
   "outputs": [
    {
     "data": {
      "text/plain": [
       "20"
      ]
     },
     "execution_count": 15,
     "metadata": {},
     "output_type": "execute_result"
    }
   ],
   "source": [
    "len(news)"
   ]
  },
  {
   "cell_type": "code",
   "execution_count": 16,
   "id": "f0a9d0e3-3aa3-45a4-92f4-c1c8f6cc2c8a",
   "metadata": {
    "tags": []
   },
   "outputs": [],
   "source": [
    "articles = news #['articles']"
   ]
  },
  {
   "cell_type": "code",
   "execution_count": 17,
   "id": "13a47af4-7bb7-401c-8c0c-99beebc30d76",
   "metadata": {
    "tags": []
   },
   "outputs": [],
   "source": [
    "articles = [article for article in articles if News2ROI.contains_words(article, words={'United States',\"US\"})]"
   ]
  },
  {
   "cell_type": "code",
   "execution_count": 18,
   "id": "4cf93224-ee4b-41c2-af45-4439e64ca7b0",
   "metadata": {},
   "outputs": [
    {
     "data": {
      "text/plain": [
       "9"
      ]
     },
     "execution_count": 18,
     "metadata": {},
     "output_type": "execute_result"
    }
   ],
   "source": [
    "len(articles)"
   ]
  },
  {
   "cell_type": "code",
   "execution_count": 19,
   "id": "2eb2ae2d-9b78-4ccd-85ea-881de89b3385",
   "metadata": {
    "tags": []
   },
   "outputs": [
    {
     "data": {
      "text/plain": [
       "['2024-02-07 00:01:32.000000',\n",
       " '2024-02-07 00:02:04.000000',\n",
       " '2024-02-07 00:17:25.000000',\n",
       " '2024-02-07 00:28:26.000000',\n",
       " '2024-02-07 00:31:56.000000',\n",
       " '2024-02-07 00:48:04.000000',\n",
       " '2024-02-07 00:49:42.000000',\n",
       " '2024-02-07 03:00:33.000000',\n",
       " '2024-02-07 03:11:47.000000']"
      ]
     },
     "execution_count": 19,
     "metadata": {},
     "output_type": "execute_result"
    }
   ],
   "source": [
    "sorted([article['publishedAt']['date'] for article in articles])"
   ]
  },
  {
   "cell_type": "code",
   "execution_count": 20,
   "id": "e2d9f5e1-5260-4a0a-84e3-0be9640b0923",
   "metadata": {
    "tags": []
   },
   "outputs": [],
   "source": [
    "articles_ = [article for article in articles if n2r.is_recent(article['publishedAt']['date'], delta=datetime.timedelta(hours=10))]"
   ]
  },
  {
   "cell_type": "code",
   "execution_count": 21,
   "id": "85884593-c133-4b08-9b6e-1ba5ecadcc5c",
   "metadata": {
    "tags": []
   },
   "outputs": [
    {
     "data": {
      "text/plain": [
       "9"
      ]
     },
     "execution_count": 21,
     "metadata": {},
     "output_type": "execute_result"
    }
   ],
   "source": [
    "len(articles_)"
   ]
  },
  {
   "cell_type": "code",
   "execution_count": 23,
   "id": "8b1fa765-645b-4dae-801e-cc04d194b5c7",
   "metadata": {
    "tags": []
   },
   "outputs": [],
   "source": [
    "# get sentiment\n",
    "res = []\n"
   ]
  },
  {
   "cell_type": "code",
   "execution_count": 24,
   "id": "e1814f08-b711-4df1-9389-da5d31b38e77",
   "metadata": {
    "tags": []
   },
   "outputs": [
    {
     "data": {
      "application/vnd.jupyter.widget-view+json": {
       "model_id": "de87cca12a82483ca7c191b3ea657ec3",
       "version_major": 2,
       "version_minor": 0
      },
      "text/plain": [
       "  0%|          | 0/9 [00:00<?, ?it/s]"
      ]
     },
     "metadata": {},
     "output_type": "display_data"
    }
   ],
   "source": [
    "for article in tqdm(articles):\n",
    "    res += [n2r.analyse_article(article)]\n",
    "    "
   ]
  },
  {
   "cell_type": "code",
   "execution_count": 28,
   "id": "e8ee76ed-8ec6-4b7e-8905-5cf5618e9a20",
   "metadata": {
    "tags": []
   },
   "outputs": [],
   "source": [
    "candidates = News2ROI.get_candidates(res, threshold=4)"
   ]
  },
  {
   "cell_type": "code",
   "execution_count": 29,
   "id": "15760ad4-d3f9-422b-8aa9-0f36017413f4",
   "metadata": {
    "tags": []
   },
   "outputs": [
    {
     "data": {
      "text/html": [
       "<div>\n",
       "<style scoped>\n",
       "    .dataframe tbody tr th:only-of-type {\n",
       "        vertical-align: middle;\n",
       "    }\n",
       "\n",
       "    .dataframe tbody tr th {\n",
       "        vertical-align: top;\n",
       "    }\n",
       "\n",
       "    .dataframe thead th {\n",
       "        text-align: right;\n",
       "    }\n",
       "</style>\n",
       "<table border=\"1\" class=\"dataframe\">\n",
       "  <thead>\n",
       "    <tr style=\"text-align: right;\">\n",
       "      <th></th>\n",
       "      <th>stock</th>\n",
       "      <th>ticker</th>\n",
       "      <th>exchange</th>\n",
       "      <th>reasoning</th>\n",
       "      <th>action</th>\n",
       "      <th>date</th>\n",
       "      <th>data</th>\n",
       "    </tr>\n",
       "  </thead>\n",
       "  <tbody>\n",
       "    <tr>\n",
       "      <th>6</th>\n",
       "      <td>Colgate-Palmolive Company</td>\n",
       "      <td>CL</td>\n",
       "      <td>New York Stock Exchange</td>\n",
       "      <td>The lawsuit regarding misleading recyclability...</td>\n",
       "      <td>4</td>\n",
       "      <td>2024-02-07 00:28:26.000000</td>\n",
       "      <td>Colgate-Palmolive must face lawsuit over tooth...</td>\n",
       "    </tr>\n",
       "  </tbody>\n",
       "</table>\n",
       "</div>"
      ],
      "text/plain": [
       "                       stock ticker                 exchange  \\\n",
       "6  Colgate-Palmolive Company     CL  New York Stock Exchange   \n",
       "\n",
       "                                           reasoning  action  \\\n",
       "6  The lawsuit regarding misleading recyclability...       4   \n",
       "\n",
       "                         date  \\\n",
       "6  2024-02-07 00:28:26.000000   \n",
       "\n",
       "                                                data  \n",
       "6  Colgate-Palmolive must face lawsuit over tooth...  "
      ]
     },
     "execution_count": 29,
     "metadata": {},
     "output_type": "execute_result"
    }
   ],
   "source": [
    "candidates"
   ]
  },
  {
   "cell_type": "code",
   "execution_count": 36,
   "id": "f9962557-0ee4-4527-9cf1-634ca6e97ac9",
   "metadata": {
    "tags": []
   },
   "outputs": [],
   "source": [
    "# ticker = low_sentiment.iloc[0]['ticker']"
   ]
  },
  {
   "cell_type": "code",
   "execution_count": 30,
   "id": "e057bdaa-7242-4f30-9174-390642bfbc20",
   "metadata": {
    "tags": []
   },
   "outputs": [],
   "source": [
    "candidate = candidates.iloc[0].copy(deep=True)"
   ]
  },
  {
   "cell_type": "code",
   "execution_count": 31,
   "id": "fe09c20e-a0ac-45ee-b8c0-ba2e4832aa8a",
   "metadata": {
    "tags": []
   },
   "outputs": [],
   "source": [
    "ticker = candidate['ticker']"
   ]
  },
  {
   "cell_type": "code",
   "execution_count": 14,
   "id": "d5899e28-272f-48f7-b485-c551230e9f58",
   "metadata": {
    "tags": []
   },
   "outputs": [],
   "source": [
    "ticker = 'aapl'"
   ]
  },
  {
   "cell_type": "code",
   "execution_count": 15,
   "id": "cf07726b-28b8-4458-8310-c9188df133e9",
   "metadata": {
    "tags": []
   },
   "outputs": [],
   "source": [
    "# get options\n"
   ]
  },
  {
   "cell_type": "code",
   "execution_count": 16,
   "id": "ce72a1b3-f5df-4143-9037-e2c5e42b6acf",
   "metadata": {
    "tags": []
   },
   "outputs": [],
   "source": [
    "# expirationDate = the next friday"
   ]
  },
  {
   "cell_type": "code",
   "execution_count": 32,
   "id": "415ea2ab-4576-4e35-b28f-caadb9291d91",
   "metadata": {
    "tags": []
   },
   "outputs": [
    {
     "name": "stdout",
     "output_type": "stream",
     "text": [
      "ERROR: There was an issue loading pickle file. Authentication may be expired - logging in normally.\n",
      "Loading Market Data Loading Market Data Loading Market Data Loading Market Data Loading Market Data Loading Market Data Loading Market Data Loading Market Data Loading Market Data Loading Market Data Loading Market Data Loading Market Data Loading Market Data Loading Market Data Loading Market Data Loading Market Data Loading Market Data Loading Market Data Loading Market Data Loading Market Data Loading Market Data Loading Market Data Loading Market Data Loading Market Data Loading Market Data Loading Market Data Loading Market Data Loading Market Data Loading Market Data Loading Market Data Loading Market Data Loading Market Data Loading Market Data Loading Market Data Loading Market Data Loading Market Data Loading Market Data Loading Market Data Loading Market Data "
     ]
    }
   ],
   "source": [
    "option_data = n2r.get_option_data(ticker)"
   ]
  },
  {
   "cell_type": "code",
   "execution_count": 33,
   "id": "48cd1ead-2aec-4812-bb03-99c8f878f280",
   "metadata": {
    "tags": []
   },
   "outputs": [
    {
     "data": {
      "text/plain": [
       "39"
      ]
     },
     "execution_count": 33,
     "metadata": {},
     "output_type": "execute_result"
    }
   ],
   "source": [
    "len(option_data)"
   ]
  },
  {
   "cell_type": "code",
   "execution_count": 34,
   "id": "9a63e278-b4d1-4c8d-ab1e-52f44baf12c6",
   "metadata": {
    "tags": []
   },
   "outputs": [],
   "source": [
    "option_df = News2ROI.parse_option_data(option_data)"
   ]
  },
  {
   "cell_type": "code",
   "execution_count": 125,
   "id": "9566c289-8a78-4965-820d-307f9dbea0d2",
   "metadata": {
    "tags": []
   },
   "outputs": [],
   "source": [
    "# option_df.plot(x='strike_price', y='adjusted_mark_price')"
   ]
  },
  {
   "cell_type": "code",
   "execution_count": 124,
   "id": "5e708eae-9624-419f-81fc-ba9187282eb5",
   "metadata": {
    "tags": []
   },
   "outputs": [],
   "source": [
    "# option_df.plot(x='strike_price', y='break_even_price')"
   ]
  },
  {
   "cell_type": "code",
   "execution_count": 122,
   "id": "773d6f00-bc97-47dd-8f30-a07f2e814f4e",
   "metadata": {},
   "outputs": [],
   "source": [
    "# find lowest option price with highest break even price\n",
    "# usually the current stock price\n",
    "# example stock costs 100\n",
    "# option to put (sell) in a week for 100 costs 1$\n",
    "# if the stock costs 99 in a week, I break even, anything below I earn\n",
    "# e.g if the stock costs 98 in a week, I sell at 100, I get 2$, but it cost 1$, I made 1$\n",
    "\n",
    "# if I buy the option to sell in 150, it costs 49.85\n",
    "# if the stock costs 100 in a week, I sell at 150, I made 50, but it cost me 49.85, I made 0.15$\n",
    "\n",
    "# if I buy the option to sell in 90, it costs 0.02\n",
    "# if the stock costs 100 in a week, I sell in 90, I lost 10$\n",
    "\n",
    "# options are at a multiples of 100s\n",
    "# so if the stock costs 100\n",
    "# and costs 4 to sell at 104\n",
    "# if the stock goes to 101, it'll cost 3, so I could sell at 3$ and lose 100\n",
    "# I could lose everythin\n",
    "# If it goes to 99, it'll cost 5, and I could sell at 5, and gain 100\n",
    "# I could "
   ]
  },
  {
   "cell_type": "code",
   "execution_count": 74,
   "id": "cc39b422-d987-4d40-821a-f212350c8d02",
   "metadata": {
    "tags": []
   },
   "outputs": [],
   "source": [
    "# I want to maximize ROI\n",
    "# I need to check which one maximizes for the expected value of 0.2% drop"
   ]
  },
  {
   "cell_type": "code",
   "execution_count": 35,
   "id": "100987c1-3063-413d-a3f4-9b96a673a0b9",
   "metadata": {
    "tags": []
   },
   "outputs": [],
   "source": [
    "row = option_df[option_df['normalized_gain']==option_df['normalized_gain'].max()].iloc[0].to_dict()"
   ]
  },
  {
   "cell_type": "code",
   "execution_count": 42,
   "id": "39d20827-ce42-4577-9cef-c79616c00175",
   "metadata": {
    "tags": []
   },
   "outputs": [],
   "source": [
    "# candidate = pd.Series()"
   ]
  },
  {
   "cell_type": "code",
   "execution_count": 109,
   "id": "150834c1-fae9-48e6-a5fd-4c1505a1f0c3",
   "metadata": {
    "tags": []
   },
   "outputs": [],
   "source": [
    "candidate['strike_price'] = row['strike_price']\n",
    "\n",
    "candidate['buy_price'] = row['bid_price']\n",
    "\n",
    "candidate['stock_buy_price'] = row['current_price']"
   ]
  },
  {
   "cell_type": "code",
   "execution_count": 28,
   "id": "f4f26c6e-c3ad-47a9-93bf-ea7c88edd9be",
   "metadata": {},
   "outputs": [],
   "source": [
    "# when the target price hits, the option prices should shift with the target price\n",
    "# say current price is 100"
   ]
  },
  {
   "cell_type": "code",
   "execution_count": null,
   "id": "9e14f4b0-ada8-468c-89fe-09c0fe1b608b",
   "metadata": {},
   "outputs": [],
   "source": [
    "# maybe easier to calculate - each price shifts one up"
   ]
  },
  {
   "cell_type": "code",
   "execution_count": null,
   "id": "a0eab5ba-9529-4eef-9e78-19eee863816f",
   "metadata": {},
   "outputs": [],
   "source": [
    "# place option for the day\n",
    "# r.order_buy_option_limit"
   ]
  },
  {
   "cell_type": "code",
   "execution_count": null,
   "id": "ccb322c0-2056-4106-a030-486103b35b06",
   "metadata": {},
   "outputs": [],
   "source": [
    "# place reminder to sell tomorrow\n"
   ]
  },
  {
   "cell_type": "code",
   "execution_count": null,
   "id": "81f51ce1-bb0d-4b60-824a-34bce359aa47",
   "metadata": {},
   "outputs": [],
   "source": [
    "# sell previous reminders\n"
   ]
  },
  {
   "cell_type": "code",
   "execution_count": 139,
   "id": "3f83dee5-7e2a-44ef-aa5e-abe5d45854e8",
   "metadata": {
    "tags": []
   },
   "outputs": [],
   "source": [
    "# df = pd.DataFrame(candidate).T"
   ]
  },
  {
   "cell_type": "code",
   "execution_count": 39,
   "id": "52903fab-2b6a-4ee4-99d7-973d0d25e4ad",
   "metadata": {
    "tags": []
   },
   "outputs": [],
   "source": [
    "def load_candidates(bucket_name):\n",
    "    s3 = boto3.client('s3')\n",
    "    data = s3.get_object(Bucket=bucket_name, Key=\"candidates.tsv\")\n",
    "    data = data['Body'].read().decode('utf8')\n",
    "    df = pd.read_csv(StringIO(data), sep='\\t', index_col=0)\n",
    "    return df"
   ]
  },
  {
   "cell_type": "code",
   "execution_count": null,
   "id": "4c9052c7-367d-443a-85d9-3f8336372de0",
   "metadata": {},
   "outputs": [],
   "source": []
  },
  {
   "cell_type": "code",
   "execution_count": 153,
   "id": "39badd81-5ee4-4e4a-b60c-62f17cdc2a5d",
   "metadata": {},
   "outputs": [],
   "source": [
    "df = load_candidates(bucket_name)"
   ]
  },
  {
   "cell_type": "code",
   "execution_count": 154,
   "id": "9824f40e-cf36-4621-8c00-b4b62046889f",
   "metadata": {
    "tags": []
   },
   "outputs": [
    {
     "data": {
      "text/html": [
       "<div>\n",
       "<style scoped>\n",
       "    .dataframe tbody tr th:only-of-type {\n",
       "        vertical-align: middle;\n",
       "    }\n",
       "\n",
       "    .dataframe tbody tr th {\n",
       "        vertical-align: top;\n",
       "    }\n",
       "\n",
       "    .dataframe thead th {\n",
       "        text-align: right;\n",
       "    }\n",
       "</style>\n",
       "<table border=\"1\" class=\"dataframe\">\n",
       "  <thead>\n",
       "    <tr style=\"text-align: right;\">\n",
       "      <th></th>\n",
       "      <th>stock</th>\n",
       "      <th>ticker</th>\n",
       "      <th>exchange</th>\n",
       "      <th>reasoning</th>\n",
       "      <th>action</th>\n",
       "      <th>date</th>\n",
       "      <th>data</th>\n",
       "      <th>strike_price</th>\n",
       "      <th>buy_price</th>\n",
       "      <th>stock_buy_price</th>\n",
       "      <th>sell_price</th>\n",
       "      <th>stock_sell_price</th>\n",
       "      <th>roi</th>\n",
       "    </tr>\n",
       "  </thead>\n",
       "  <tbody>\n",
       "    <tr>\n",
       "      <th>0</th>\n",
       "      <td>Vista Outdoor Inc.</td>\n",
       "      <td>VSTO</td>\n",
       "      <td>NYSE</td>\n",
       "      <td>The news about California's ammunition backgro...</td>\n",
       "      <td>5.0</td>\n",
       "      <td>2024-02-06 03:08:50</td>\n",
       "      <td>California ammunition background check law can...</td>\n",
       "      <td>27.5</td>\n",
       "      <td>0.05</td>\n",
       "      <td>29.95</td>\n",
       "      <td>NaN</td>\n",
       "      <td>NaN</td>\n",
       "      <td>NaN</td>\n",
       "    </tr>\n",
       "    <tr>\n",
       "      <th>1</th>\n",
       "      <td>Vista Outdoor Inc.</td>\n",
       "      <td>VSTO</td>\n",
       "      <td>NYSE</td>\n",
       "      <td>As a manufacturer and seller of ammunition and...</td>\n",
       "      <td>5.0</td>\n",
       "      <td>2024-02-06 03:08:50</td>\n",
       "      <td>California ammunition background check law can...</td>\n",
       "      <td>27.5</td>\n",
       "      <td>0.05</td>\n",
       "      <td>29.95</td>\n",
       "      <td>NaN</td>\n",
       "      <td>NaN</td>\n",
       "      <td>NaN</td>\n",
       "    </tr>\n",
       "    <tr>\n",
       "      <th>2</th>\n",
       "      <td>Vista Outdoor Inc.</td>\n",
       "      <td>VSTO</td>\n",
       "      <td>NYSE</td>\n",
       "      <td>The news about California's ammunition backgro...</td>\n",
       "      <td>5.0</td>\n",
       "      <td>2024-02-06 03:08:50</td>\n",
       "      <td>California ammunition background check law can...</td>\n",
       "      <td>27.5</td>\n",
       "      <td>0.05</td>\n",
       "      <td>29.95</td>\n",
       "      <td>NaN</td>\n",
       "      <td>NaN</td>\n",
       "      <td>NaN</td>\n",
       "    </tr>\n",
       "    <tr>\n",
       "      <th>3</th>\n",
       "      <td>Colgate-Palmolive Company</td>\n",
       "      <td>CL</td>\n",
       "      <td>NYSE</td>\n",
       "      <td>The news of Colgate-Palmolive facing a lawsuit...</td>\n",
       "      <td>3.0</td>\n",
       "      <td>2024-02-07 00:28:26</td>\n",
       "      <td>Colgate-Palmolive must face lawsuit over tooth...</td>\n",
       "      <td>83.0</td>\n",
       "      <td>0.15</td>\n",
       "      <td>84.35</td>\n",
       "      <td>0.25</td>\n",
       "      <td>84.35</td>\n",
       "      <td>1.666667</td>\n",
       "    </tr>\n",
       "    <tr>\n",
       "      <th>4</th>\n",
       "      <td>Colgate-Palmolive Company</td>\n",
       "      <td>CL</td>\n",
       "      <td>New York Stock Exchange (NYSE)</td>\n",
       "      <td>The lawsuit against Colgate-Palmolive may have...</td>\n",
       "      <td>3.0</td>\n",
       "      <td>2024-02-07 00:28:26</td>\n",
       "      <td>Colgate-Palmolive must face lawsuit over tooth...</td>\n",
       "      <td>83.0</td>\n",
       "      <td>0.15</td>\n",
       "      <td>84.35</td>\n",
       "      <td>NaN</td>\n",
       "      <td>NaN</td>\n",
       "      <td>NaN</td>\n",
       "    </tr>\n",
       "    <tr>\n",
       "      <th>-1</th>\n",
       "      <td>Colgate-Palmolive Company</td>\n",
       "      <td>CL</td>\n",
       "      <td>New York Stock Exchange</td>\n",
       "      <td>The lawsuit regarding misleading recyclability...</td>\n",
       "      <td>4.0</td>\n",
       "      <td>2024-02-07 00:28:26</td>\n",
       "      <td>Colgate-Palmolive must face lawsuit over tooth...</td>\n",
       "      <td>83.0</td>\n",
       "      <td>0.15</td>\n",
       "      <td>84.35</td>\n",
       "      <td>NaN</td>\n",
       "      <td>NaN</td>\n",
       "      <td>NaN</td>\n",
       "    </tr>\n",
       "  </tbody>\n",
       "</table>\n",
       "</div>"
      ],
      "text/plain": [
       "                        stock ticker                        exchange  \\\n",
       " 0         Vista Outdoor Inc.   VSTO                            NYSE   \n",
       " 1         Vista Outdoor Inc.   VSTO                            NYSE   \n",
       " 2         Vista Outdoor Inc.   VSTO                            NYSE   \n",
       " 3  Colgate-Palmolive Company     CL                            NYSE   \n",
       " 4  Colgate-Palmolive Company     CL  New York Stock Exchange (NYSE)   \n",
       "-1  Colgate-Palmolive Company     CL         New York Stock Exchange   \n",
       "\n",
       "                                            reasoning  action  \\\n",
       " 0  The news about California's ammunition backgro...     5.0   \n",
       " 1  As a manufacturer and seller of ammunition and...     5.0   \n",
       " 2  The news about California's ammunition backgro...     5.0   \n",
       " 3  The news of Colgate-Palmolive facing a lawsuit...     3.0   \n",
       " 4  The lawsuit against Colgate-Palmolive may have...     3.0   \n",
       "-1  The lawsuit regarding misleading recyclability...     4.0   \n",
       "\n",
       "                   date                                               data  \\\n",
       " 0  2024-02-06 03:08:50  California ammunition background check law can...   \n",
       " 1  2024-02-06 03:08:50  California ammunition background check law can...   \n",
       " 2  2024-02-06 03:08:50  California ammunition background check law can...   \n",
       " 3  2024-02-07 00:28:26  Colgate-Palmolive must face lawsuit over tooth...   \n",
       " 4  2024-02-07 00:28:26  Colgate-Palmolive must face lawsuit over tooth...   \n",
       "-1  2024-02-07 00:28:26  Colgate-Palmolive must face lawsuit over tooth...   \n",
       "\n",
       "    strike_price  buy_price  stock_buy_price  sell_price  stock_sell_price  \\\n",
       " 0          27.5       0.05            29.95         NaN               NaN   \n",
       " 1          27.5       0.05            29.95         NaN               NaN   \n",
       " 2          27.5       0.05            29.95         NaN               NaN   \n",
       " 3          83.0       0.15            84.35        0.25             84.35   \n",
       " 4          83.0       0.15            84.35         NaN               NaN   \n",
       "-1          83.0       0.15            84.35         NaN               NaN   \n",
       "\n",
       "         roi  \n",
       " 0       NaN  \n",
       " 1       NaN  \n",
       " 2       NaN  \n",
       " 3  1.666667  \n",
       " 4       NaN  \n",
       "-1       NaN  "
      ]
     },
     "execution_count": 154,
     "metadata": {},
     "output_type": "execute_result"
    }
   ],
   "source": [
    "df"
   ]
  },
  {
   "cell_type": "code",
   "execution_count": 160,
   "id": "7da43100-a7fb-42a8-8d49-6fd4ce85737c",
   "metadata": {
    "tags": []
   },
   "outputs": [],
   "source": [
    "df['date'] = pd.to_datetime(df['date'])"
   ]
  },
  {
   "cell_type": "code",
   "execution_count": 81,
   "id": "e9edee28-d063-4ffe-881a-580b32428e92",
   "metadata": {
    "tags": []
   },
   "outputs": [],
   "source": [
    "now = datetime.datetime.now()"
   ]
  },
  {
   "cell_type": "code",
   "execution_count": 137,
   "id": "7686460f-4ad6-43bd-a985-bc452ae7a4cd",
   "metadata": {},
   "outputs": [],
   "source": [
    "to_sell = df[(now - datetime.timedelta(hours=24) < df['date']) & (df['date'] < now - datetime.timedelta(hours=5))].iloc[0]"
   ]
  },
  {
   "cell_type": "code",
   "execution_count": 138,
   "id": "6481d1e5-1c96-4b9d-8d36-85fc12f210e0",
   "metadata": {
    "tags": []
   },
   "outputs": [
    {
     "data": {
      "text/plain": [
       "stock                                       Colgate-Palmolive Company\n",
       "ticker                                                             CL\n",
       "exchange                                                         NYSE\n",
       "reasoning           The news of Colgate-Palmolive facing a lawsuit...\n",
       "action                                                            3.0\n",
       "date                                              2024-02-07 00:28:26\n",
       "data                Colgate-Palmolive must face lawsuit over tooth...\n",
       "strike_price                                                     83.0\n",
       "buy_price                                                        0.15\n",
       "stock_buy_price                                                 84.35\n",
       "sell_price                                                       0.25\n",
       "stock_sell_price                                                84.35\n",
       "Name: 3, dtype: object"
      ]
     },
     "execution_count": 138,
     "metadata": {},
     "output_type": "execute_result"
    }
   ],
   "source": [
    "to_sell"
   ]
  },
  {
   "cell_type": "code",
   "execution_count": 103,
   "id": "951b1904-5f34-4c8e-96f1-155ada4dfd6c",
   "metadata": {},
   "outputs": [
    {
     "name": "stdout",
     "output_type": "stream",
     "text": [
      "Loading Market Data Loading Market Data Loading Market Data Loading Market Data Loading Market Data Loading Market Data Loading Market Data Loading Market Data Loading Market Data Loading Market Data Loading Market Data Loading Market Data Loading Market Data Loading Market Data Loading Market Data Loading Market Data Loading Market Data Loading Market Data Loading Market Data Loading Market Data Loading Market Data Loading Market Data Loading Market Data Loading Market Data Loading Market Data Loading Market Data Loading Market Data Loading Market Data Loading Market Data Loading Market Data Loading Market Data Loading Market Data Loading Market Data Loading Market Data Loading Market Data Loading Market Data Loading Market Data Loading Market Data Loading Market Data "
     ]
    }
   ],
   "source": [
    "sell_options = n2r.get_option_data(to_sell['ticker'])"
   ]
  },
  {
   "cell_type": "code",
   "execution_count": 105,
   "id": "41e1622b-e4aa-4f11-9985-78bea773cc76",
   "metadata": {
    "tags": []
   },
   "outputs": [],
   "source": [
    "sell_options = News2ROI.parse_option_data(sell_options)"
   ]
  },
  {
   "cell_type": "code",
   "execution_count": 111,
   "id": "3b0d7f72-fca9-4e99-9eb7-cbba695fa7c4",
   "metadata": {
    "tags": []
   },
   "outputs": [],
   "source": [
    "row = sell_options.set_index('strike_price').loc[to_sell['strike_price']]"
   ]
  },
  {
   "cell_type": "code",
   "execution_count": 133,
   "id": "cccc31c3-3459-4153-b4c8-9dbe3046efef",
   "metadata": {
    "tags": []
   },
   "outputs": [],
   "source": [
    "df = df.rename({\"bid_price\": \"buy_price\"}, axis=1)"
   ]
  },
  {
   "cell_type": "code",
   "execution_count": 135,
   "id": "196ad7b1-3194-40c3-9e15-b04a3c192e09",
   "metadata": {
    "tags": []
   },
   "outputs": [],
   "source": [
    "df = df.rename({\"current_price\": \"stock_buy_price\"}, axis=1)"
   ]
  },
  {
   "cell_type": "code",
   "execution_count": 141,
   "id": "c8fe064e-9516-48eb-9791-1faf5b5329c2",
   "metadata": {
    "tags": []
   },
   "outputs": [],
   "source": [
    "df.loc[to_sell.name, 'sell_price'] = row['ask_price']\n",
    "\n",
    "df.loc[to_sell.name, 'stock_sell_price'] = row['current_price']\n",
    "\n",
    "df.loc[to_sell.name, 'roi'] = row['ask_price']/to_sell['buy_price']"
   ]
  },
  {
   "cell_type": "code",
   "execution_count": 142,
   "id": "48120095-9329-4764-8c49-91507db2fb35",
   "metadata": {
    "tags": []
   },
   "outputs": [
    {
     "data": {
      "text/html": [
       "<div>\n",
       "<style scoped>\n",
       "    .dataframe tbody tr th:only-of-type {\n",
       "        vertical-align: middle;\n",
       "    }\n",
       "\n",
       "    .dataframe tbody tr th {\n",
       "        vertical-align: top;\n",
       "    }\n",
       "\n",
       "    .dataframe thead th {\n",
       "        text-align: right;\n",
       "    }\n",
       "</style>\n",
       "<table border=\"1\" class=\"dataframe\">\n",
       "  <thead>\n",
       "    <tr style=\"text-align: right;\">\n",
       "      <th></th>\n",
       "      <th>stock</th>\n",
       "      <th>ticker</th>\n",
       "      <th>exchange</th>\n",
       "      <th>reasoning</th>\n",
       "      <th>action</th>\n",
       "      <th>date</th>\n",
       "      <th>data</th>\n",
       "      <th>strike_price</th>\n",
       "      <th>buy_price</th>\n",
       "      <th>stock_buy_price</th>\n",
       "      <th>sell_price</th>\n",
       "      <th>stock_sell_price</th>\n",
       "      <th>roi</th>\n",
       "    </tr>\n",
       "  </thead>\n",
       "  <tbody>\n",
       "    <tr>\n",
       "      <th>0</th>\n",
       "      <td>Vista Outdoor Inc.</td>\n",
       "      <td>VSTO</td>\n",
       "      <td>NYSE</td>\n",
       "      <td>The news about California's ammunition backgro...</td>\n",
       "      <td>5.0</td>\n",
       "      <td>2024-02-06 03:08:50</td>\n",
       "      <td>California ammunition background check law can...</td>\n",
       "      <td>27.5</td>\n",
       "      <td>0.05</td>\n",
       "      <td>29.95</td>\n",
       "      <td>NaN</td>\n",
       "      <td>NaN</td>\n",
       "      <td>NaN</td>\n",
       "    </tr>\n",
       "    <tr>\n",
       "      <th>1</th>\n",
       "      <td>Vista Outdoor Inc.</td>\n",
       "      <td>VSTO</td>\n",
       "      <td>NYSE</td>\n",
       "      <td>As a manufacturer and seller of ammunition and...</td>\n",
       "      <td>5.0</td>\n",
       "      <td>2024-02-06 03:08:50</td>\n",
       "      <td>California ammunition background check law can...</td>\n",
       "      <td>27.5</td>\n",
       "      <td>0.05</td>\n",
       "      <td>29.95</td>\n",
       "      <td>NaN</td>\n",
       "      <td>NaN</td>\n",
       "      <td>NaN</td>\n",
       "    </tr>\n",
       "    <tr>\n",
       "      <th>2</th>\n",
       "      <td>Vista Outdoor Inc.</td>\n",
       "      <td>VSTO</td>\n",
       "      <td>NYSE</td>\n",
       "      <td>The news about California's ammunition backgro...</td>\n",
       "      <td>5.0</td>\n",
       "      <td>2024-02-06 03:08:50</td>\n",
       "      <td>California ammunition background check law can...</td>\n",
       "      <td>27.5</td>\n",
       "      <td>0.05</td>\n",
       "      <td>29.95</td>\n",
       "      <td>NaN</td>\n",
       "      <td>NaN</td>\n",
       "      <td>NaN</td>\n",
       "    </tr>\n",
       "    <tr>\n",
       "      <th>3</th>\n",
       "      <td>Colgate-Palmolive Company</td>\n",
       "      <td>CL</td>\n",
       "      <td>NYSE</td>\n",
       "      <td>The news of Colgate-Palmolive facing a lawsuit...</td>\n",
       "      <td>3.0</td>\n",
       "      <td>2024-02-07 00:28:26</td>\n",
       "      <td>Colgate-Palmolive must face lawsuit over tooth...</td>\n",
       "      <td>83.0</td>\n",
       "      <td>0.15</td>\n",
       "      <td>84.35</td>\n",
       "      <td>0.25</td>\n",
       "      <td>84.35</td>\n",
       "      <td>1.666667</td>\n",
       "    </tr>\n",
       "    <tr>\n",
       "      <th>4</th>\n",
       "      <td>Colgate-Palmolive Company</td>\n",
       "      <td>CL</td>\n",
       "      <td>New York Stock Exchange (NYSE)</td>\n",
       "      <td>The lawsuit against Colgate-Palmolive may have...</td>\n",
       "      <td>3.0</td>\n",
       "      <td>2024-02-07 00:28:26</td>\n",
       "      <td>Colgate-Palmolive must face lawsuit over tooth...</td>\n",
       "      <td>83.0</td>\n",
       "      <td>0.15</td>\n",
       "      <td>84.35</td>\n",
       "      <td>NaN</td>\n",
       "      <td>NaN</td>\n",
       "      <td>NaN</td>\n",
       "    </tr>\n",
       "    <tr>\n",
       "      <th>-1</th>\n",
       "      <td>Colgate-Palmolive Company</td>\n",
       "      <td>CL</td>\n",
       "      <td>New York Stock Exchange</td>\n",
       "      <td>The lawsuit regarding misleading recyclability...</td>\n",
       "      <td>4.0</td>\n",
       "      <td>2024-02-07 00:28:26</td>\n",
       "      <td>Colgate-Palmolive must face lawsuit over tooth...</td>\n",
       "      <td>83.0</td>\n",
       "      <td>0.15</td>\n",
       "      <td>84.35</td>\n",
       "      <td>NaN</td>\n",
       "      <td>NaN</td>\n",
       "      <td>NaN</td>\n",
       "    </tr>\n",
       "  </tbody>\n",
       "</table>\n",
       "</div>"
      ],
      "text/plain": [
       "                        stock ticker                        exchange  \\\n",
       " 0         Vista Outdoor Inc.   VSTO                            NYSE   \n",
       " 1         Vista Outdoor Inc.   VSTO                            NYSE   \n",
       " 2         Vista Outdoor Inc.   VSTO                            NYSE   \n",
       " 3  Colgate-Palmolive Company     CL                            NYSE   \n",
       " 4  Colgate-Palmolive Company     CL  New York Stock Exchange (NYSE)   \n",
       "-1  Colgate-Palmolive Company     CL         New York Stock Exchange   \n",
       "\n",
       "                                            reasoning  action  \\\n",
       " 0  The news about California's ammunition backgro...     5.0   \n",
       " 1  As a manufacturer and seller of ammunition and...     5.0   \n",
       " 2  The news about California's ammunition backgro...     5.0   \n",
       " 3  The news of Colgate-Palmolive facing a lawsuit...     3.0   \n",
       " 4  The lawsuit against Colgate-Palmolive may have...     3.0   \n",
       "-1  The lawsuit regarding misleading recyclability...     4.0   \n",
       "\n",
       "                  date                                               data  \\\n",
       " 0 2024-02-06 03:08:50  California ammunition background check law can...   \n",
       " 1 2024-02-06 03:08:50  California ammunition background check law can...   \n",
       " 2 2024-02-06 03:08:50  California ammunition background check law can...   \n",
       " 3 2024-02-07 00:28:26  Colgate-Palmolive must face lawsuit over tooth...   \n",
       " 4 2024-02-07 00:28:26  Colgate-Palmolive must face lawsuit over tooth...   \n",
       "-1 2024-02-07 00:28:26  Colgate-Palmolive must face lawsuit over tooth...   \n",
       "\n",
       "    strike_price  buy_price  stock_buy_price  sell_price  stock_sell_price  \\\n",
       " 0          27.5       0.05            29.95         NaN               NaN   \n",
       " 1          27.5       0.05            29.95         NaN               NaN   \n",
       " 2          27.5       0.05            29.95         NaN               NaN   \n",
       " 3          83.0       0.15            84.35        0.25             84.35   \n",
       " 4          83.0       0.15            84.35         NaN               NaN   \n",
       "-1          83.0       0.15            84.35         NaN               NaN   \n",
       "\n",
       "         roi  \n",
       " 0       NaN  \n",
       " 1       NaN  \n",
       " 2       NaN  \n",
       " 3  1.666667  \n",
       " 4       NaN  \n",
       "-1       NaN  "
      ]
     },
     "execution_count": 142,
     "metadata": {},
     "output_type": "execute_result"
    }
   ],
   "source": [
    "df"
   ]
  },
  {
   "cell_type": "code",
   "execution_count": null,
   "id": "43ad987d-885b-4703-97d1-e77eb0ae5651",
   "metadata": {},
   "outputs": [],
   "source": [
    "store_candidate("
   ]
  },
  {
   "cell_type": "code",
   "execution_count": 113,
   "id": "45668fa6-0aff-482e-818f-217eb8caec51",
   "metadata": {
    "tags": []
   },
   "outputs": [
    {
     "data": {
      "text/plain": [
       "stock                                       Colgate-Palmolive Company\n",
       "ticker                                                             CL\n",
       "exchange                                                         NYSE\n",
       "reasoning           The news of Colgate-Palmolive facing a lawsuit...\n",
       "action                                                            3.0\n",
       "date                                              2024-02-07 00:28:26\n",
       "data                Colgate-Palmolive must face lawsuit over tooth...\n",
       "strike_price                                                     83.0\n",
       "bid_price                                                        0.15\n",
       "current_price                                                   84.35\n",
       "sell_price                                                       0.25\n",
       "stock_sell_price                                                84.35\n",
       "Name: 3, dtype: object"
      ]
     },
     "execution_count": 113,
     "metadata": {},
     "output_type": "execute_result"
    }
   ],
   "source": [
    "to_sell"
   ]
  },
  {
   "cell_type": "code",
   "execution_count": null,
   "id": "c3b01ecb-df6e-44c1-afa2-b51bc17c867d",
   "metadata": {},
   "outputs": [],
   "source": [
    "df.loc[-1] = candidate\n",
    "df = df.reset_index(drop=True)\n"
   ]
  },
  {
   "cell_type": "code",
   "execution_count": 151,
   "id": "51c54641-0dc7-4b75-b93d-fe0091dac16e",
   "metadata": {
    "tags": []
   },
   "outputs": [],
   "source": [
    "def store_candidates(bucket_name, df):\n",
    "    df['date'] = df['date'].dt.strftime('%Y-%m-%d %H:%M:%S')\n",
    "    s_buf = BytesIO()\n",
    "    df.to_csv(s_buf, sep='\\t')\n",
    "    s_buf.seek(0)\n",
    "    s3.upload_fileobj(s_buf, bucket_name, \"candidates.tsv\")\n"
   ]
  },
  {
   "cell_type": "code",
   "execution_count": 161,
   "id": "8e827e62-f351-4293-8912-92d678bcb5b1",
   "metadata": {},
   "outputs": [],
   "source": [
    "store_candidates(bucket_name, df)"
   ]
  },
  {
   "cell_type": "code",
   "execution_count": 45,
   "id": "c7f466bc-ccc7-4847-82ec-d540231bda7a",
   "metadata": {
    "tags": []
   },
   "outputs": [
    {
     "name": "stdout",
     "output_type": "stream",
     "text": [
      "{\n",
      "  \"stock\":\"Colgate-Palmolive Company\",\n",
      "  \"ticker\":\"CL\",\n",
      "  \"exchange\":\"New York Stock Exchange\",\n",
      "  \"reasoning\":\"The lawsuit regarding misleading recyclability claims may negatively impact Colgate-Palmolive's brand image and consumer trust. It could also lead to financial penalties or to increased costs if the company is required to adjust its packaging to be more environmentally friendly. There could be a short-term drop in stock price due to these factors, as investors react to potential legal fees, settlements, and the potential cost of rebranding or repackaging products. Additionally, ESG (environmental, social, and governance) considerations are increasingly important to investors, and negative news in this arena might affect investment decisions.\",\n",
      "  \"action\":4,\n",
      "  \"date\":\"2024-02-07 00:28:26.000000\",\n",
      "  \"data\":\"Colgate-Palmolive must face lawsuit over toothpaste tube recycling claims - Colgate-Palmolive must face a lawsuit alleging it misleads consumers by claiming its plastic toothpaste tubes are recyclable even though most U.S. recycling facilities do not accept them, a U.S. judge ruled Tuesday.\",\n",
      "  \"strike_price\":83.0,\n",
      "  \"bid_price\":0.15,\n",
      "  \"current_price\":84.35\n",
      "}\n"
     ]
    }
   ],
   "source": [
    "print(candidate.to_json(indent=2))"
   ]
  },
  {
   "cell_type": "code",
   "execution_count": 146,
   "id": "a5721a1d-f4a8-4b26-918b-4ed3996174ee",
   "metadata": {
    "tags": []
   },
   "outputs": [],
   "source": [
    "# j = {'account_sid': 'AC417be496c2958add9742abcc83840cb7',\n",
    "#      'auth_token': '32e6cee11411c6037525b250c973eb2f',\n",
    "#      'from': '+18662593587',\n",
    "#      'to': '+14159002444'}\n"
   ]
  },
  {
   "cell_type": "code",
   "execution_count": 110,
   "id": "727e0827-3d52-40aa-a751-f1be97af316b",
   "metadata": {
    "tags": []
   },
   "outputs": [],
   "source": [
    "# with open('/root/.twilio.json', 'w') as f:\n",
    "#     f.write(json.dumps(j))"
   ]
  },
  {
   "cell_type": "code",
   "execution_count": 111,
   "id": "9a6413e8-a416-4451-86ec-22d9cf3d17c2",
   "metadata": {
    "tags": []
   },
   "outputs": [],
   "source": [
    "# s3.upload_file(\"/root/.twilio.json\", bucket_name, \".twilio.json\")"
   ]
  },
  {
   "cell_type": "code",
   "execution_count": 46,
   "id": "79dc890e-a89a-4381-b635-7abf3f989a52",
   "metadata": {
    "tags": []
   },
   "outputs": [
    {
     "data": {
      "text/plain": [
       "'SMd2edc028d742480b4ec41eed8b151b26'"
      ]
     },
     "execution_count": 46,
     "metadata": {},
     "output_type": "execute_result"
    }
   ],
   "source": [
    "n2r.notify(candidate)"
   ]
  },
  {
   "cell_type": "code",
   "execution_count": null,
   "id": "fc546b51-88f9-41ae-9563-6adbc5b95721",
   "metadata": {},
   "outputs": [],
   "source": []
  },
  {
   "cell_type": "code",
   "execution_count": null,
   "id": "48ee7fbb-9c2a-4a01-a259-63724f83bfdd",
   "metadata": {},
   "outputs": [],
   "source": []
  }
 ],
 "metadata": {
  "availableInstances": [
   {
    "_defaultOrder": 0,
    "_isFastLaunch": true,
    "category": "General purpose",
    "gpuNum": 0,
    "hideHardwareSpecs": false,
    "memoryGiB": 4,
    "name": "ml.t3.medium",
    "vcpuNum": 2
   },
   {
    "_defaultOrder": 1,
    "_isFastLaunch": false,
    "category": "General purpose",
    "gpuNum": 0,
    "hideHardwareSpecs": false,
    "memoryGiB": 8,
    "name": "ml.t3.large",
    "vcpuNum": 2
   },
   {
    "_defaultOrder": 2,
    "_isFastLaunch": false,
    "category": "General purpose",
    "gpuNum": 0,
    "hideHardwareSpecs": false,
    "memoryGiB": 16,
    "name": "ml.t3.xlarge",
    "vcpuNum": 4
   },
   {
    "_defaultOrder": 3,
    "_isFastLaunch": false,
    "category": "General purpose",
    "gpuNum": 0,
    "hideHardwareSpecs": false,
    "memoryGiB": 32,
    "name": "ml.t3.2xlarge",
    "vcpuNum": 8
   },
   {
    "_defaultOrder": 4,
    "_isFastLaunch": true,
    "category": "General purpose",
    "gpuNum": 0,
    "hideHardwareSpecs": false,
    "memoryGiB": 8,
    "name": "ml.m5.large",
    "vcpuNum": 2
   },
   {
    "_defaultOrder": 5,
    "_isFastLaunch": false,
    "category": "General purpose",
    "gpuNum": 0,
    "hideHardwareSpecs": false,
    "memoryGiB": 16,
    "name": "ml.m5.xlarge",
    "vcpuNum": 4
   },
   {
    "_defaultOrder": 6,
    "_isFastLaunch": false,
    "category": "General purpose",
    "gpuNum": 0,
    "hideHardwareSpecs": false,
    "memoryGiB": 32,
    "name": "ml.m5.2xlarge",
    "vcpuNum": 8
   },
   {
    "_defaultOrder": 7,
    "_isFastLaunch": false,
    "category": "General purpose",
    "gpuNum": 0,
    "hideHardwareSpecs": false,
    "memoryGiB": 64,
    "name": "ml.m5.4xlarge",
    "vcpuNum": 16
   },
   {
    "_defaultOrder": 8,
    "_isFastLaunch": false,
    "category": "General purpose",
    "gpuNum": 0,
    "hideHardwareSpecs": false,
    "memoryGiB": 128,
    "name": "ml.m5.8xlarge",
    "vcpuNum": 32
   },
   {
    "_defaultOrder": 9,
    "_isFastLaunch": false,
    "category": "General purpose",
    "gpuNum": 0,
    "hideHardwareSpecs": false,
    "memoryGiB": 192,
    "name": "ml.m5.12xlarge",
    "vcpuNum": 48
   },
   {
    "_defaultOrder": 10,
    "_isFastLaunch": false,
    "category": "General purpose",
    "gpuNum": 0,
    "hideHardwareSpecs": false,
    "memoryGiB": 256,
    "name": "ml.m5.16xlarge",
    "vcpuNum": 64
   },
   {
    "_defaultOrder": 11,
    "_isFastLaunch": false,
    "category": "General purpose",
    "gpuNum": 0,
    "hideHardwareSpecs": false,
    "memoryGiB": 384,
    "name": "ml.m5.24xlarge",
    "vcpuNum": 96
   },
   {
    "_defaultOrder": 12,
    "_isFastLaunch": false,
    "category": "General purpose",
    "gpuNum": 0,
    "hideHardwareSpecs": false,
    "memoryGiB": 8,
    "name": "ml.m5d.large",
    "vcpuNum": 2
   },
   {
    "_defaultOrder": 13,
    "_isFastLaunch": false,
    "category": "General purpose",
    "gpuNum": 0,
    "hideHardwareSpecs": false,
    "memoryGiB": 16,
    "name": "ml.m5d.xlarge",
    "vcpuNum": 4
   },
   {
    "_defaultOrder": 14,
    "_isFastLaunch": false,
    "category": "General purpose",
    "gpuNum": 0,
    "hideHardwareSpecs": false,
    "memoryGiB": 32,
    "name": "ml.m5d.2xlarge",
    "vcpuNum": 8
   },
   {
    "_defaultOrder": 15,
    "_isFastLaunch": false,
    "category": "General purpose",
    "gpuNum": 0,
    "hideHardwareSpecs": false,
    "memoryGiB": 64,
    "name": "ml.m5d.4xlarge",
    "vcpuNum": 16
   },
   {
    "_defaultOrder": 16,
    "_isFastLaunch": false,
    "category": "General purpose",
    "gpuNum": 0,
    "hideHardwareSpecs": false,
    "memoryGiB": 128,
    "name": "ml.m5d.8xlarge",
    "vcpuNum": 32
   },
   {
    "_defaultOrder": 17,
    "_isFastLaunch": false,
    "category": "General purpose",
    "gpuNum": 0,
    "hideHardwareSpecs": false,
    "memoryGiB": 192,
    "name": "ml.m5d.12xlarge",
    "vcpuNum": 48
   },
   {
    "_defaultOrder": 18,
    "_isFastLaunch": false,
    "category": "General purpose",
    "gpuNum": 0,
    "hideHardwareSpecs": false,
    "memoryGiB": 256,
    "name": "ml.m5d.16xlarge",
    "vcpuNum": 64
   },
   {
    "_defaultOrder": 19,
    "_isFastLaunch": false,
    "category": "General purpose",
    "gpuNum": 0,
    "hideHardwareSpecs": false,
    "memoryGiB": 384,
    "name": "ml.m5d.24xlarge",
    "vcpuNum": 96
   },
   {
    "_defaultOrder": 20,
    "_isFastLaunch": false,
    "category": "General purpose",
    "gpuNum": 0,
    "hideHardwareSpecs": true,
    "memoryGiB": 0,
    "name": "ml.geospatial.interactive",
    "supportedImageNames": [
     "sagemaker-geospatial-v1-0"
    ],
    "vcpuNum": 0
   },
   {
    "_defaultOrder": 21,
    "_isFastLaunch": true,
    "category": "Compute optimized",
    "gpuNum": 0,
    "hideHardwareSpecs": false,
    "memoryGiB": 4,
    "name": "ml.c5.large",
    "vcpuNum": 2
   },
   {
    "_defaultOrder": 22,
    "_isFastLaunch": false,
    "category": "Compute optimized",
    "gpuNum": 0,
    "hideHardwareSpecs": false,
    "memoryGiB": 8,
    "name": "ml.c5.xlarge",
    "vcpuNum": 4
   },
   {
    "_defaultOrder": 23,
    "_isFastLaunch": false,
    "category": "Compute optimized",
    "gpuNum": 0,
    "hideHardwareSpecs": false,
    "memoryGiB": 16,
    "name": "ml.c5.2xlarge",
    "vcpuNum": 8
   },
   {
    "_defaultOrder": 24,
    "_isFastLaunch": false,
    "category": "Compute optimized",
    "gpuNum": 0,
    "hideHardwareSpecs": false,
    "memoryGiB": 32,
    "name": "ml.c5.4xlarge",
    "vcpuNum": 16
   },
   {
    "_defaultOrder": 25,
    "_isFastLaunch": false,
    "category": "Compute optimized",
    "gpuNum": 0,
    "hideHardwareSpecs": false,
    "memoryGiB": 72,
    "name": "ml.c5.9xlarge",
    "vcpuNum": 36
   },
   {
    "_defaultOrder": 26,
    "_isFastLaunch": false,
    "category": "Compute optimized",
    "gpuNum": 0,
    "hideHardwareSpecs": false,
    "memoryGiB": 96,
    "name": "ml.c5.12xlarge",
    "vcpuNum": 48
   },
   {
    "_defaultOrder": 27,
    "_isFastLaunch": false,
    "category": "Compute optimized",
    "gpuNum": 0,
    "hideHardwareSpecs": false,
    "memoryGiB": 144,
    "name": "ml.c5.18xlarge",
    "vcpuNum": 72
   },
   {
    "_defaultOrder": 28,
    "_isFastLaunch": false,
    "category": "Compute optimized",
    "gpuNum": 0,
    "hideHardwareSpecs": false,
    "memoryGiB": 192,
    "name": "ml.c5.24xlarge",
    "vcpuNum": 96
   },
   {
    "_defaultOrder": 29,
    "_isFastLaunch": true,
    "category": "Accelerated computing",
    "gpuNum": 1,
    "hideHardwareSpecs": false,
    "memoryGiB": 16,
    "name": "ml.g4dn.xlarge",
    "vcpuNum": 4
   },
   {
    "_defaultOrder": 30,
    "_isFastLaunch": false,
    "category": "Accelerated computing",
    "gpuNum": 1,
    "hideHardwareSpecs": false,
    "memoryGiB": 32,
    "name": "ml.g4dn.2xlarge",
    "vcpuNum": 8
   },
   {
    "_defaultOrder": 31,
    "_isFastLaunch": false,
    "category": "Accelerated computing",
    "gpuNum": 1,
    "hideHardwareSpecs": false,
    "memoryGiB": 64,
    "name": "ml.g4dn.4xlarge",
    "vcpuNum": 16
   },
   {
    "_defaultOrder": 32,
    "_isFastLaunch": false,
    "category": "Accelerated computing",
    "gpuNum": 1,
    "hideHardwareSpecs": false,
    "memoryGiB": 128,
    "name": "ml.g4dn.8xlarge",
    "vcpuNum": 32
   },
   {
    "_defaultOrder": 33,
    "_isFastLaunch": false,
    "category": "Accelerated computing",
    "gpuNum": 4,
    "hideHardwareSpecs": false,
    "memoryGiB": 192,
    "name": "ml.g4dn.12xlarge",
    "vcpuNum": 48
   },
   {
    "_defaultOrder": 34,
    "_isFastLaunch": false,
    "category": "Accelerated computing",
    "gpuNum": 1,
    "hideHardwareSpecs": false,
    "memoryGiB": 256,
    "name": "ml.g4dn.16xlarge",
    "vcpuNum": 64
   },
   {
    "_defaultOrder": 35,
    "_isFastLaunch": false,
    "category": "Accelerated computing",
    "gpuNum": 1,
    "hideHardwareSpecs": false,
    "memoryGiB": 61,
    "name": "ml.p3.2xlarge",
    "vcpuNum": 8
   },
   {
    "_defaultOrder": 36,
    "_isFastLaunch": false,
    "category": "Accelerated computing",
    "gpuNum": 4,
    "hideHardwareSpecs": false,
    "memoryGiB": 244,
    "name": "ml.p3.8xlarge",
    "vcpuNum": 32
   },
   {
    "_defaultOrder": 37,
    "_isFastLaunch": false,
    "category": "Accelerated computing",
    "gpuNum": 8,
    "hideHardwareSpecs": false,
    "memoryGiB": 488,
    "name": "ml.p3.16xlarge",
    "vcpuNum": 64
   },
   {
    "_defaultOrder": 38,
    "_isFastLaunch": false,
    "category": "Accelerated computing",
    "gpuNum": 8,
    "hideHardwareSpecs": false,
    "memoryGiB": 768,
    "name": "ml.p3dn.24xlarge",
    "vcpuNum": 96
   },
   {
    "_defaultOrder": 39,
    "_isFastLaunch": false,
    "category": "Memory Optimized",
    "gpuNum": 0,
    "hideHardwareSpecs": false,
    "memoryGiB": 16,
    "name": "ml.r5.large",
    "vcpuNum": 2
   },
   {
    "_defaultOrder": 40,
    "_isFastLaunch": false,
    "category": "Memory Optimized",
    "gpuNum": 0,
    "hideHardwareSpecs": false,
    "memoryGiB": 32,
    "name": "ml.r5.xlarge",
    "vcpuNum": 4
   },
   {
    "_defaultOrder": 41,
    "_isFastLaunch": false,
    "category": "Memory Optimized",
    "gpuNum": 0,
    "hideHardwareSpecs": false,
    "memoryGiB": 64,
    "name": "ml.r5.2xlarge",
    "vcpuNum": 8
   },
   {
    "_defaultOrder": 42,
    "_isFastLaunch": false,
    "category": "Memory Optimized",
    "gpuNum": 0,
    "hideHardwareSpecs": false,
    "memoryGiB": 128,
    "name": "ml.r5.4xlarge",
    "vcpuNum": 16
   },
   {
    "_defaultOrder": 43,
    "_isFastLaunch": false,
    "category": "Memory Optimized",
    "gpuNum": 0,
    "hideHardwareSpecs": false,
    "memoryGiB": 256,
    "name": "ml.r5.8xlarge",
    "vcpuNum": 32
   },
   {
    "_defaultOrder": 44,
    "_isFastLaunch": false,
    "category": "Memory Optimized",
    "gpuNum": 0,
    "hideHardwareSpecs": false,
    "memoryGiB": 384,
    "name": "ml.r5.12xlarge",
    "vcpuNum": 48
   },
   {
    "_defaultOrder": 45,
    "_isFastLaunch": false,
    "category": "Memory Optimized",
    "gpuNum": 0,
    "hideHardwareSpecs": false,
    "memoryGiB": 512,
    "name": "ml.r5.16xlarge",
    "vcpuNum": 64
   },
   {
    "_defaultOrder": 46,
    "_isFastLaunch": false,
    "category": "Memory Optimized",
    "gpuNum": 0,
    "hideHardwareSpecs": false,
    "memoryGiB": 768,
    "name": "ml.r5.24xlarge",
    "vcpuNum": 96
   },
   {
    "_defaultOrder": 47,
    "_isFastLaunch": false,
    "category": "Accelerated computing",
    "gpuNum": 1,
    "hideHardwareSpecs": false,
    "memoryGiB": 16,
    "name": "ml.g5.xlarge",
    "vcpuNum": 4
   },
   {
    "_defaultOrder": 48,
    "_isFastLaunch": false,
    "category": "Accelerated computing",
    "gpuNum": 1,
    "hideHardwareSpecs": false,
    "memoryGiB": 32,
    "name": "ml.g5.2xlarge",
    "vcpuNum": 8
   },
   {
    "_defaultOrder": 49,
    "_isFastLaunch": false,
    "category": "Accelerated computing",
    "gpuNum": 1,
    "hideHardwareSpecs": false,
    "memoryGiB": 64,
    "name": "ml.g5.4xlarge",
    "vcpuNum": 16
   },
   {
    "_defaultOrder": 50,
    "_isFastLaunch": false,
    "category": "Accelerated computing",
    "gpuNum": 1,
    "hideHardwareSpecs": false,
    "memoryGiB": 128,
    "name": "ml.g5.8xlarge",
    "vcpuNum": 32
   },
   {
    "_defaultOrder": 51,
    "_isFastLaunch": false,
    "category": "Accelerated computing",
    "gpuNum": 1,
    "hideHardwareSpecs": false,
    "memoryGiB": 256,
    "name": "ml.g5.16xlarge",
    "vcpuNum": 64
   },
   {
    "_defaultOrder": 52,
    "_isFastLaunch": false,
    "category": "Accelerated computing",
    "gpuNum": 4,
    "hideHardwareSpecs": false,
    "memoryGiB": 192,
    "name": "ml.g5.12xlarge",
    "vcpuNum": 48
   },
   {
    "_defaultOrder": 53,
    "_isFastLaunch": false,
    "category": "Accelerated computing",
    "gpuNum": 4,
    "hideHardwareSpecs": false,
    "memoryGiB": 384,
    "name": "ml.g5.24xlarge",
    "vcpuNum": 96
   },
   {
    "_defaultOrder": 54,
    "_isFastLaunch": false,
    "category": "Accelerated computing",
    "gpuNum": 8,
    "hideHardwareSpecs": false,
    "memoryGiB": 768,
    "name": "ml.g5.48xlarge",
    "vcpuNum": 192
   },
   {
    "_defaultOrder": 55,
    "_isFastLaunch": false,
    "category": "Accelerated computing",
    "gpuNum": 8,
    "hideHardwareSpecs": false,
    "memoryGiB": 1152,
    "name": "ml.p4d.24xlarge",
    "vcpuNum": 96
   },
   {
    "_defaultOrder": 56,
    "_isFastLaunch": false,
    "category": "Accelerated computing",
    "gpuNum": 8,
    "hideHardwareSpecs": false,
    "memoryGiB": 1152,
    "name": "ml.p4de.24xlarge",
    "vcpuNum": 96
   },
   {
    "_defaultOrder": 57,
    "_isFastLaunch": false,
    "category": "Accelerated computing",
    "gpuNum": 0,
    "hideHardwareSpecs": false,
    "memoryGiB": 32,
    "name": "ml.trn1.2xlarge",
    "vcpuNum": 8
   },
   {
    "_defaultOrder": 58,
    "_isFastLaunch": false,
    "category": "Accelerated computing",
    "gpuNum": 0,
    "hideHardwareSpecs": false,
    "memoryGiB": 512,
    "name": "ml.trn1.32xlarge",
    "vcpuNum": 128
   },
   {
    "_defaultOrder": 59,
    "_isFastLaunch": false,
    "category": "Accelerated computing",
    "gpuNum": 0,
    "hideHardwareSpecs": false,
    "memoryGiB": 512,
    "name": "ml.trn1n.32xlarge",
    "vcpuNum": 128
   }
  ],
  "instance_type": "ml.t3.medium",
  "kernelspec": {
   "display_name": "Python 3 (Data Science 3.0)",
   "language": "python",
   "name": "python3__SAGEMAKER_INTERNAL__arn:aws:sagemaker:us-west-2:236514542706:image/sagemaker-data-science-310-v1"
  },
  "language_info": {
   "codemirror_mode": {
    "name": "ipython",
    "version": 3
   },
   "file_extension": ".py",
   "mimetype": "text/x-python",
   "name": "python",
   "nbconvert_exporter": "python",
   "pygments_lexer": "ipython3",
   "version": "3.10.6"
  }
 },
 "nbformat": 4,
 "nbformat_minor": 5
}
