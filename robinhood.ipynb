{
 "cells": [
  {
   "cell_type": "code",
   "execution_count": 5,
   "id": "865d2bb2-7c3a-4569-9e0d-231dfb0097a5",
   "metadata": {
    "tags": []
   },
   "outputs": [],
   "source": [
    " # %pip install robin_stocks openai==1.2.2 yfinance requests_oauthlib twilio boto3 --upgrade "
   ]
  },
  {
   "cell_type": "code",
   "execution_count": 2,
   "id": "1b2c1370-fa15-4e35-b3df-af7a758a6ea5",
   "metadata": {
    "tags": []
   },
   "outputs": [],
   "source": [
    "import robin_stocks.robinhood as r\n",
    "import requests\n",
    "import json\n",
    "import pandas as pd\n",
    "import datetime\n",
    "from dateutil import parser\n",
    "from dateutil.relativedelta import relativedelta\n",
    "from datetime import timedelta\n",
    "import boto3\n",
    "from tqdm.auto import tqdm"
   ]
  },
  {
   "cell_type": "code",
   "execution_count": 3,
   "id": "2958c096-15ae-4691-a018-e341e051a2d6",
   "metadata": {
    "tags": []
   },
   "outputs": [],
   "source": [
    "from twilio.rest import Client"
   ]
  },
  {
   "cell_type": "code",
   "execution_count": 4,
   "id": "597e9e3f-bd0f-4e77-89f5-c058c00650e7",
   "metadata": {
    "tags": []
   },
   "outputs": [],
   "source": [
    "from news2roi import News2ROI"
   ]
  },
  {
   "cell_type": "code",
   "execution_count": 5,
   "id": "f21534e0-2b5f-40f5-b103-daa33e4515c5",
   "metadata": {},
   "outputs": [],
   "source": [
    "s3 = boto3.client('s3')"
   ]
  },
  {
   "cell_type": "code",
   "execution_count": 6,
   "id": "ceccf3c8-dad2-4d2a-845f-e00fd4142224",
   "metadata": {
    "tags": []
   },
   "outputs": [],
   "source": [
    "bucket_name = 'jvalansi-notebooks-data'"
   ]
  },
  {
   "cell_type": "code",
   "execution_count": 11,
   "id": "5d740d78-7292-4758-ae1d-cf29f31ba104",
   "metadata": {
    "tags": []
   },
   "outputs": [],
   "source": [
    "# j = json.load(open(\"/root/.aws/secrets.json\"))"
   ]
  },
  {
   "cell_type": "code",
   "execution_count": 12,
   "id": "0f6c8937-dd74-454c-9ec7-b80845f9befb",
   "metadata": {
    "tags": []
   },
   "outputs": [],
   "source": [
    "# s3.upload_file(\"/root/.aws/secrets.json\", bucket_name, \".aws.json\")"
   ]
  },
  {
   "cell_type": "code",
   "execution_count": 13,
   "id": "8dc232b9-0006-4d2d-bf2c-9f9d41d28159",
   "metadata": {
    "tags": []
   },
   "outputs": [],
   "source": [
    "# s3.upload_file(\"/root/.rapidapi.json\", bucket_name, \".rapidapi.json\")"
   ]
  },
  {
   "cell_type": "code",
   "execution_count": 7,
   "id": "551f96bf-40a8-49c3-856a-78400aadb4e5",
   "metadata": {
    "tags": []
   },
   "outputs": [],
   "source": [
    "data = s3.get_object(Bucket=bucket_name, Key=\".aws.json\")\n",
    "j = json.loads(data['Body'].read().decode('utf8'))\n",
    "openai_key = j['OPENAI_KEY']\n",
    "data = s3.get_object(Bucket=bucket_name, Key=\".rapidapi.json\")\n",
    "j = json.loads(data['Body'].read().decode('utf8'))\n",
    "rapidapi_key = j[\"key\"]\n"
   ]
  },
  {
   "cell_type": "code",
   "execution_count": 8,
   "id": "6a16ed4a-1646-451e-ae4f-844996068265",
   "metadata": {
    "tags": []
   },
   "outputs": [],
   "source": [
    "n2r = News2ROI(openai_key, rapidapi_key)"
   ]
  },
  {
   "cell_type": "code",
   "execution_count": 9,
   "id": "efe58e42-f9f2-4941-a71b-c542d2d7e9d3",
   "metadata": {
    "tags": []
   },
   "outputs": [],
   "source": [
    "# s3.upload_file(\"/root/.robinhood.json\", bucket_name, \".robinhood.json\")"
   ]
  },
  {
   "cell_type": "code",
   "execution_count": 10,
   "id": "ed5a4a26-3a39-4dfa-aceb-ced0f3b30987",
   "metadata": {
    "tags": []
   },
   "outputs": [],
   "source": [
    "data = s3.get_object(Bucket=bucket_name, Key=\".robinhood.json\")"
   ]
  },
  {
   "cell_type": "code",
   "execution_count": 11,
   "id": "a1c67207-ddb4-4c4b-9ed1-d8b009c2bb07",
   "metadata": {
    "tags": []
   },
   "outputs": [],
   "source": [
    "j = json.loads(data['Body'].read().decode('utf8'))\n",
    "login = r.login(j[\"user\"],j[\"pass\"])"
   ]
  },
  {
   "cell_type": "code",
   "execution_count": 12,
   "id": "6050ae01-df8b-442b-bf0b-23b7645357d4",
   "metadata": {
    "tags": []
   },
   "outputs": [],
   "source": [
    "my_stocks = r.build_holdings()"
   ]
  },
  {
   "cell_type": "code",
   "execution_count": 47,
   "id": "6935bc57-ba14-414a-acff-54b3b739661f",
   "metadata": {
    "tags": []
   },
   "outputs": [
    {
     "name": "stdout",
     "output_type": "stream",
     "text": [
      "VT {'price': '102.460000', 'quantity': '600.00000000', 'average_buy_price': '100.2850', 'equity': '61476.00', 'percent_change': '2.17', 'intraday_percent_change': '0.00', 'equity_change': '1305.000000', 'type': 'etp', 'name': 'Vanguard Total World Stock ETF', 'id': '0a5a879a-d527-45f7-94f6-be3370f22e77', 'pe_ratio': '16.829790', 'percentage': '44.04'}\n",
      "BRK.B {'price': '363.000000', 'quantity': '50.00000000', 'average_buy_price': '205.0000', 'equity': '18150.00', 'percent_change': '77.07', 'intraday_percent_change': '0.00', 'equity_change': '7900.000000', 'type': 'stock', 'name': 'Berkshire Hathaway', 'id': 'a4f0cca4-79dc-4297-9c02-5bce1909cd4b', 'pe_ratio': '10.341900', 'percentage': '13.00'}\n",
      "BEAM {'price': '25.440000', 'quantity': '26.00000000', 'average_buy_price': '27.8500', 'equity': '661.44', 'percent_change': '-8.65', 'intraday_percent_change': '0.00', 'equity_change': '-62.660000', 'type': 'stock', 'name': 'Beam Therapeutics', 'id': '267a182c-f42b-493a-8e3d-4019685fe400', 'pe_ratio': '-6.130000', 'percentage': '0.47'}\n",
      "VTI {'price': '236.750100', 'quantity': '250.00000000', 'average_buy_price': '125.0699', 'equity': '59187.53', 'percent_change': '89.29', 'intraday_percent_change': '0.00', 'equity_change': '27920.050000', 'type': 'etp', 'name': 'Vanguard Total Stock Market ETF', 'id': '18226051-6bfa-4c56-bd9a-d7575f0245c1', 'pe_ratio': '24.049164', 'percentage': '42.40'}\n"
     ]
    }
   ],
   "source": [
    "for key,value in my_stocks.items():\n",
    "    print(key,value)"
   ]
  },
  {
   "cell_type": "code",
   "execution_count": 73,
   "id": "aa67edca-37cc-4ae1-9b63-7e86058a77a5",
   "metadata": {
    "tags": []
   },
   "outputs": [],
   "source": [
    "# os.mkdir('data/reuters')"
   ]
  },
  {
   "cell_type": "code",
   "execution_count": null,
   "id": "054dad79-7bd3-4b56-bd5a-f33fa4e6797e",
   "metadata": {},
   "outputs": [],
   "source": [
    "# every half an hour:\n"
   ]
  },
  {
   "cell_type": "code",
   "execution_count": 13,
   "id": "d7786557-27e0-4dd7-85a3-788b8f5926b8",
   "metadata": {
    "tags": []
   },
   "outputs": [],
   "source": [
    "r = requests.get(\"https://newsapi.org/v2/top-headlines?country=us&apiKey=f00a072ea8894dacaf9c1cc1dff332ab\")"
   ]
  },
  {
   "cell_type": "code",
   "execution_count": 14,
   "id": "4d882ec9-e728-41c8-b75c-710b3ea14bd4",
   "metadata": {
    "tags": []
   },
   "outputs": [],
   "source": [
    "j = r.json()"
   ]
  },
  {
   "cell_type": "code",
   "execution_count": 20,
   "id": "ab2d3e0a-bede-4870-af91-d8058f9a7a6a",
   "metadata": {
    "tags": []
   },
   "outputs": [
    {
     "data": {
      "text/plain": [
       "[{'source': {'id': None, 'name': 'CNBC'},\n",
       "  'author': 'Brian Evans',\n",
       "  'title': 'Stock futures climb as Wall Street looks for S&P 500 to build on fresh all-time high: Live updates - CNBC',\n",
       "  'description': 'Stocks officially entered bull market territory on Friday.',\n",
       "  'url': 'https://www.cnbc.com/2024/01/21/stock-futures-tk-wall-street-looks-to-extend-bull-market-run.html',\n",
       "  'urlToImage': 'https://image.cnbcfm.com/api/v1/image/107140651-1666731621929-NYSE-Traders-OB-20221025-CC-PRESS-3.jpg?v=1669836338&w=1920&h=1080',\n",
       "  'publishedAt': '2024-01-22T05:52:00Z',\n",
       "  'content': \"Stock futures rose on Sunday evening, with investors looking to build on the S&amp;P 500's fresh all-time high from Friday.\\r\\nFutures tied to the benchmark S&amp;P 500 added 0.21%, while Nasdaq 100 fu… [+1564 chars]\"},\n",
       " {'source': {'id': None, 'name': 'Sports Illustrated'},\n",
       "  'author': 'Karl Rasmussen',\n",
       "  'title': \"Chiefs Lineman Claims Bills Shut Off Hot Water in Kansas City's Locker Room After Playoff Clash - Sports Illustrated\",\n",
       "  'description': 'Donovan Smith said the Bills shut off the hot water in the Chiefs’ locker room after the divisional round game.',\n",
       "  'url': 'https://www.si.com/nfl/2024/01/22/chiefs-lineman-claims-bills-shut-off-hot-water-locker-room-after-playoff-clash',\n",
       "  'urlToImage': 'https://www.si.com/.image/ar_1.91%2Cc_fill%2Ccs_srgb%2Cfl_progressive%2Cg_faces:center%2Cq_auto:good%2Cw_1200/MjAzODAwMDc4NDI5NzI2MjY4/donovansmith.jpg',\n",
       "  'publishedAt': '2024-01-22T04:59:37Z',\n",
       "  'content': 'The\\xa0Kansas City Chiefs\\xa0may have had some difficulty warming back up after their frigid divisional round\\xa0victory over the\\xa0Buffalo Bills\\xa0on Sunday night.\\xa0\\r\\nAfter the Chiefs knocked the Bills out of the… [+922 chars]'},\n",
       " {'source': {'id': 'al-jazeera-english', 'name': 'Al Jazeera English'},\n",
       "  'author': 'Al Jazeera',\n",
       "  'title': 'Ron DeSantis drops out of US presidential race, endorses Trump - Al Jazeera English',\n",
       "  'description': 'DeSantis struggled to connect with voters on a personal level and lost heavily in the Iowa caucuses.',\n",
       "  'url': 'https://www.aljazeera.com/news/2024/1/21/ron-desantis-drops-out-of-us-presidential-race-endorses-trump',\n",
       "  'urlToImage': 'https://www.aljazeera.com/wp-content/uploads/2024/01/2024-01-21T204051Z_521780838_RC2RL3A2LWJJ_RTRMADP_3_USA-ELECTION-DESANTIS-1705892229.jpg?resize=1920%2C1440',\n",
       "  'publishedAt': '2024-01-22T04:41:15Z',\n",
       "  'content': 'Florida Governor Ron DeSantis has ended his Republican United States presidential campaign just before the New Hampshire primary and endorsed Donald Trump, after failing to emerge as a serious challe… [+4513 chars]'},\n",
       " {'source': {'id': None, 'name': 'SamMobile'},\n",
       "  'author': 'SamMobile, Mihai Matei',\n",
       "  'title': 'Galaxy S22/S22+ vs Galaxy S24/S24+: Faster, brighter, now with AI - SamMobile - Samsung news',\n",
       "  'description': \"Samsung's new Galaxy S24 series is official. Unsurprisingly, the lineup consists of three variants, i.e., the base S24, the Plus, ...\",\n",
       "  'url': 'https://www.sammobile.com/news/samsung-galaxy-s22-plus-s24-plus-specs-features/',\n",
       "  'urlToImage': 'https://www.sammobile.com/wp-content/uploads/2024/01/S22-vs-S23-vs-S24-720x405.jpg',\n",
       "  'publishedAt': '2024-01-22T04:08:00Z',\n",
       "  'content': \"Samsung's new Galaxy S24 series is official. Unsurprisingly, the lineup consists of three variants, i.e., the base S24, the Plus, and the Ultra, and they're all available for pre-order. As usual, Sam… [+5403 chars]\"},\n",
       " {'source': {'id': None, 'name': 'Yahoo Entertainment'},\n",
       "  'author': None,\n",
       "  'title': 'Did Travis Kelce send a heart hands celebration to Taylor Swift after TD? - Yahoo Sports',\n",
       "  'description': None,\n",
       "  'url': 'https://sports.yahoo.com/did-travis-kelce-send-a-heart-hands-celebration-to-taylor-swift-after-td-005620355.html',\n",
       "  'urlToImage': None,\n",
       "  'publishedAt': '2024-01-22T04:03:00Z',\n",
       "  'content': 'Si vous cliquez sur «\\xa0Tout accepter\\xa0», nos partenaires (y compris 244 qui font partie du Cadre de transparence et de consentement dIAB) et nous utiliserons également des témoins et vos données person… [+982 chars]'},\n",
       " {'source': {'id': None, 'name': 'DW (English)'},\n",
       "  'author': 'Deutsche Welle',\n",
       "  'title': 'Germany sees second day of large protests against far right - DW (English)',\n",
       "  'description': 'The weekend of protests against right-wing extremism continued in Germany, as tens of thousands took to the streets in Berlin, Cologne and Munich.',\n",
       "  'url': 'https://www.dw.com/en/germany-second-day-of-anti-far-right-protests-sweeps-major-cities/a-68045396',\n",
       "  'urlToImage': 'https://static.dw.com/image/68048254_6.jpg',\n",
       "  'publishedAt': '2024-01-22T03:56:49Z',\n",
       "  'content': 'An estimated 1.4 million people in Germany demonstrated against the far-right Alternative for Germany party (AfD) from Friday to Sunday, according to the organizers of the events.\\r\\nFrom Friday throug… [+3690 chars]'},\n",
       " {'source': {'id': None, 'name': 'KMBC Kansas City'},\n",
       "  'author': 'Pete Grigsby',\n",
       "  'title': 'Kansas City to see sleet, freezing rain into Monday morning - KMBC Kansas City',\n",
       "  'description': 'A Winter Weather Advisory has been issued for portions of the area.',\n",
       "  'url': 'https://www.kmbc.com/article/kansas-city-weather-forecast-sleet-freezing-rain/46480390',\n",
       "  'urlToImage': 'https://kubrick.htvapps.com/vidthumb/c627c217-fe0c-46e1-acc8-6db4842e0850/79ce0d06-236d-4ea9-9255-6333c0e1c38d.jpg?crop=1.00xw:1.00xh;0,0&resize=1200:*',\n",
       "  'publishedAt': '2024-01-22T03:51:00Z',\n",
       "  'content': \"KANSAS CITY, Mo. —The Kansas City area's Monday morning commute has the potential to be slick.\\r\\nFreezing rain and sleet are expected to move into the area late Sunday night, lasting into Monday morni… [+713 chars]\"},\n",
       " {'source': {'id': 'associated-press', 'name': 'Associated Press'},\n",
       "  'author': 'BISWAJEET BANERJEE, VINEETA DEEPAK',\n",
       "  'title': 'Ayodhya: Here is everything you need to know about Ram temple inauguration - The Associated Press',\n",
       "  'description': 'India’s top politicians, religious leaders and celebrities are gathering in the holy city of Ayodhya for the partial opening of a grand temple for one of Hinduism’s most revered deities, Lord Ram. Ahead of a general election, Modi’s Hindu nationalist party is…',\n",
       "  'url': 'https://apnews.com/article/ayodhya-ram-mandir-temple-hindu-nationalists-modi-hinduism-e6765dd13edb57a1644e961471939c30',\n",
       "  'urlToImage': 'https://dims.apnews.com/dims4/default/3a1aaa2/2147483647/strip/true/crop/7582x4265+0+395/resize/1440x810!/quality/90/?url=https%3A%2F%2Fassets.apnews.com%2F8c%2Fad%2Fa087e7eba4940cbc9cd6e439b9ad%2Fca0758940c064f29abf1622babb2b92b',\n",
       "  'publishedAt': '2024-01-22T03:48:25Z',\n",
       "  'content': 'AYODHYA, India (AP) About 80 chartered flights have landed at the new international airport of Indias holy city of Ayodhya for Mondays partial opening of the controversial grand temple for one of Hin… [+5149 chars]'},\n",
       " {'source': {'id': None, 'name': 'The Desert Sun'},\n",
       "  'author': 'Larry Bohannan',\n",
       "  'title': \"AMATEUR'S HOUR: Nick Dunlap becomes first amateur winner on PGA Tour in 33 years at American Express - Desert Sun\",\n",
       "  'description': 'Nick Dunlap shot a 2-under 70 on Sunday to win the American Express by one shot over Christiaan Bezuidenhout.',\n",
       "  'url': 'https://www.desertsun.com/story/sports/golf/american-express-pga/2024/01/21/nick-dunlap-becomes-first-amateur-to-win-pga-tour-event-in-33-years-at-american-express/72301086007/',\n",
       "  'urlToImage': 'https://www.desertsun.com/gcdn/authoring/authoring-images/2024/01/22/PPAS/72306823007-20240121-amex-sunday-046.jpg?crop=2206,1241,x432,y0&width=2206&height=1241&format=pjpg&auto=webp',\n",
       "  'publishedAt': '2024-01-22T03:33:45Z',\n",
       "  'content': \"From Arnold Palmer's five tournament wins to David Duval's iconic final-round 59 to come from behind and win the 1999 event, The American Express has seen history time and time again.\\r\\nNow next to Pa… [+5376 chars]\"},\n",
       " {'source': {'id': None, 'name': 'The A.V. Club'},\n",
       "  'author': 'Christina Izzo',\n",
       "  'title': 'True Detective recap: season 4, episode 2, \"Part 2\" - The A.V. Club',\n",
       "  'description': '“Part 2” chips away at the blood-chilling Corpsicle mystery, both literally and figuratively',\n",
       "  'url': 'https://www.avclub.com/true-detective-review-season-4-episode-2-part-2-1851176370',\n",
       "  'urlToImage': 'https://i.kinja-img.com/image/upload/c_fill,h_675,pg_1,q_80,w_1200/1678c14264c6ef98b1f6f19acb5bd2e4.jpg',\n",
       "  'publishedAt': '2024-01-22T03:00:00Z',\n",
       "  'content': 'Frostbitten corneas, ruptured eardrums, chewed-off limbsits clear that the frozen scientists at the center of True Detective: Night Countrys main mystery were already going through it well before the… [+6284 chars]'},\n",
       " {'source': {'id': 'espn', 'name': 'ESPN'},\n",
       "  'author': 'Stephen Holder, Seth Walder',\n",
       "  'title': 'NFL playoffs: NFC, AFC championship preview, schedule, odds - ESPN',\n",
       "  'description': \"Let's take an early look at the NFL's two conference championship games. Here's what to know for Lions-49ers and Chiefs-Ravens.\",\n",
       "  'url': 'https://www.espn.com/nfl/story/_/id/39356758/nfl-playoffs-bracket-conference-championship-schedule-nfc-afc',\n",
       "  'urlToImage': 'https://a3.espncdn.com/combiner/i?img=%2Fphoto%2F2024%2F0121%2Fr1280492_1296x729_16%2D9.jpg',\n",
       "  'publishedAt': '2024-01-22T03:00:00Z',\n",
       "  'content': \"Jan 21, 2024, 10:00 PM ET\\r\\nAll four divisional round games are in the books as the NFL playoffs keep rolling along, and next weekend's conference championship game matchups are set. In the NFC Champi… [+8865 chars]\"},\n",
       " {'source': {'id': None, 'name': 'Hindustan Times'},\n",
       "  'author': 'HT Entertainment Desk',\n",
       "  'title': 'Alia Bhatt stuns in saree, Ranbir Kapoor wears dhoti-kurta for Ayodhya Ram Mandir consecration - Hindustan Times',\n",
       "  'description': 'Besides Alia Bhatt and Ranbir Kapoor, Katrina Kaif and Vicky Kaushal were snapped arriving at the airport. Madhuri Dixit was also among them. | Bollywood',\n",
       "  'url': 'https://www.hindustantimes.com/entertainment/bollywood/alia-bhatt-saree-ranbir-kapoor-dhoti-kurta-for-ayodhya-ram-mandir-consecration-101705888077874.html',\n",
       "  'urlToImage': 'https://www.hindustantimes.com/ht-img/img/2024/01/22/1600x900/ranbir_alia_1705890694925_1705890695335.jpg',\n",
       "  'publishedAt': '2024-01-22T02:34:10Z',\n",
       "  'content': \"Bollywood celebrities are on their way to Ayodhya to attend the Pran Pratishtha ceremony of Ram Lalla. At Mumbai's private airport, Ranbir Kapoor and Alia Bhatt arrived the early morning. Rohit Shett… [+2351 chars]\"},\n",
       " {'source': {'id': None, 'name': 'The Times of Israel'},\n",
       "  'author': 'The Times of Israel',\n",
       "  'title': 'Military ends search for Navy SEALs lost in maritime raid on ship with Iranian arms - The Times of Israel',\n",
       "  'description': None,\n",
       "  'url': 'https://www.timesofisrael.com/military-ends-search-for-navy-seals-lost-in-maritime-raid-on-ship-with-iranian-arms/',\n",
       "  'urlToImage': None,\n",
       "  'publishedAt': '2024-01-22T02:23:47Z',\n",
       "  'content': None},\n",
       " {'source': {'id': 'associated-press', 'name': 'Associated Press'},\n",
       "  'author': 'JANIE McCAULEY',\n",
       "  'title': 'Tara VanDerveer becomes winningest coach in college basketball - The Associated Press',\n",
       "  'description': 'Tara VanDerveer became the all-time winningest coach in major college basketball history, passing former Duke and Army coach Mike Krzyzewski with her 1,203rd career victory when No. 8 Stanford beat Oregon State 65-56. At 70 years old and a head coach since ag…',\n",
       "  'url': 'https://apnews.com/article/vanderveer-record-stanford-oregon-state-score-2f42bcb6be37f805f341bbc61622c43b',\n",
       "  'urlToImage': 'https://dims.apnews.com/dims4/default/0bd83f9/2147483647/strip/true/crop/5847x3289+0+305/resize/1440x810!/quality/90/?url=https%3A%2F%2Fassets.apnews.com%2F28%2F3b%2F7fdf8281d1e3bf6ee43cff2d98a5%2F9c5cd01a9d3e4675b57f789054618266',\n",
       "  'publishedAt': '2024-01-22T02:15:00Z',\n",
       "  'content': 'STANFORD, Calif. (AP) Only Her. \\r\\nTara VanDerveers face shined in every corner of Maples Pavilion with that very message. Yes, the Stanford Hall of Famer now stands atop major college basketball as t… [+5893 chars]'},\n",
       " {'source': {'id': 'reuters', 'name': 'Reuters'},\n",
       "  'author': 'Sabrina Valle',\n",
       "  'title': \"Exxon files lawsuit against investors' climate proposal - Reuters.com\",\n",
       "  'description': 'Exxon Mobil Corp <a href=\"https://www.reuters.com/markets/companies/XOM.N\" target=\"_blank\">(XOM.N)</a> on Sunday filed a complaint in a Texas court seeking to prevent a climate proposal by activist investors from going to a vote during the company\\'s sharehold…',\n",
       "  'url': 'https://www.reuters.com/legal/exxon-files-lawsuit-against-investors-climate-proposal-2024-01-21/',\n",
       "  'urlToImage': 'https://www.reuters.com/resizer/qNFc9YGRt5BGPJcuD7Mkt7itLD0=/1920x1005/smart/filters:quality(80)/cloudfront-us-east-2.images.arcpublishing.com/reuters/VLBX7PSYM5P6TF4BO2H4V4AF7Q.jpg',\n",
       "  'publishedAt': '2024-01-22T01:44:00Z',\n",
       "  'content': None},\n",
       " {'source': {'id': None, 'name': 'KTLA Los Angeles'},\n",
       "  'author': 'Josh DuBose',\n",
       "  'title': '‘Beverly Hills 90210,’ ‘Port Charles’ actor David Gail dead at 58 - KTLA Los Angeles',\n",
       "  'description': 'Actor David Gail, who starred in several episodes of “Beverly Hills 90210” as Shannon Doherty’s fiancé but is possibly better known for his run as Dr. Joe Scanlon on “Port Charles,” a spinoff of the popular soap opera “General Hospital,” has died at the age o…',\n",
       "  'url': 'https://ktla.com/news/local-news/beverly-hills-90210-port-charles-actor-david-gail-dead-at-58/',\n",
       "  'urlToImage': 'https://ktla.com/wp-content/uploads/sites/4/2024/01/Actor-David-Gail.jpeg?w=1280',\n",
       "  'publishedAt': '2024-01-22T01:14:28Z',\n",
       "  'content': 'Actor David Gail, who starred in several episodes of Beverly Hills 90210 as Shannon Dohertys fiancé but is possibly better known for his run as Dr. Joe Scanlon on Port Charles, a spinoff of the popul… [+1001 chars]'},\n",
       " {'source': {'id': None, 'name': 'Universe Today'},\n",
       "  'author': 'Mark Thompson',\n",
       "  'title': 'Private Axiom Mission 3 is Off to the Space Station - Universe Today',\n",
       "  'description': 'A few decades ago, the idea of private individuals travelling to the International Space Station was as much science fiction as a time travelling police box.\\xa0 Yet here we are, in 2024 and a crew of four private astronauts are on board the ISS. The team will s…',\n",
       "  'url': 'https://www.universetoday.com/165355/private-axiom-mission-3-is-off-to-the-space-station/',\n",
       "  'urlToImage': 'https://www.universetoday.com/wp-content/uploads/2024/01/Axiom-3.jpeg',\n",
       "  'publishedAt': '2024-01-22T01:12:11Z',\n",
       "  'content': 'A few decades ago, the idea of private individuals travelling to the International Space Station was as much science fiction as a time travelling police box.\\xa0 Yet here we are, in 2024 and a crew of f… [+2296 chars]'},\n",
       " {'source': {'id': None, 'name': 'Foxweather.com'},\n",
       "  'author': 'Emilee Speck',\n",
       "  'title': 'Warmup brings relief from bitter cold with above-average temperatures coming by midweek - Fox Weather ',\n",
       "  'description': 'Winter will loosen its cold grasp on much of America this week as a pattern change brings above-average temperatures for millions and needed relief from the arctic air invasion.',\n",
       "  'url': 'https://www.foxweather.com/weather-news/warm-average-temperatures-late-january',\n",
       "  'urlToImage': 'https://images.foxweather.com/static.foxweather.com/www.foxweather.com/content/uploads/2023/04/1024/512/Central-Park.png?ve=1&tl=1',\n",
       "  'publishedAt': '2024-01-22T00:21:00Z',\n",
       "  'content': 'Winter will loosen its cold grasp on much of America this week as a pattern change brings above-average temperatures for millions and needed relief from the arctic air invasion.\\r\\nAccording to the FOX… [+2252 chars]'},\n",
       " {'source': {'id': 'cnn', 'name': 'CNN'},\n",
       "  'author': 'Jack Guy',\n",
       "  'title': 'Megalodons were skinnier than we previously thought, new study suggests - CNN',\n",
       "  'description': 'Megalodons, the huge prehistoric sharks depicted in movies such as “The Meg,” had more slender bodies than was previously thought, according to a new study.',\n",
       "  'url': 'https://www.cnn.com/2024/01/22/world/megalodon-body-shape-study-scli-intl-scn/index.html',\n",
       "  'urlToImage': 'https://media.cnn.com/api/v1/images/stellar/prod/240118102335-megalodon-illustration.jpg?c=16x9&q=w_800,c_fill',\n",
       "  'publishedAt': '2024-01-22T00:00:00Z',\n",
       "  'content': 'Sign up for CNNs Wonder Theory science newsletter.\\xa0Explore the universe with news on fascinating discoveries, scientific advancements and more.\\r\\nMegalodons, the huge prehistoric sharks depicted in mo… [+4032 chars]'},\n",
       " {'source': {'id': 'the-washington-post', 'name': 'The Washington Post'},\n",
       "  'author': 'Mary Ilyushina',\n",
       "  'title': 'Shelling in Ukraine’s Donetsk kills 27, Russian-backed officials say - The Washington Post',\n",
       "  'description': 'Officials in the city of Donetsk said the shells landed in a busy shopping area and blamed the strikes on Ukraine’s military.',\n",
       "  'url': 'https://www.washingtonpost.com/world/2024/01/21/donetsk-ukraine-pushilin-russia/',\n",
       "  'urlToImage': 'https://www.washingtonpost.com/wp-apps/imrs.php?src=https://d1i4t8bqe7zgj6.cloudfront.net/01-22-2024/t_8eb710da93dc465f94a8c5d3d178ada4_name_donetsk.jpg&w=1440',\n",
       "  'publishedAt': '2024-01-21T23:12:00Z',\n",
       "  'content': 'Comment on this story\\r\\nComment\\r\\nAdd to your saved stories\\r\\nSave\\r\\nAt least 27 people were killed Sunday when shells slammed into a Russian-controlled region of eastern Ukraine, local officials and Rus… [+2724 chars]'}]"
      ]
     },
     "execution_count": 20,
     "metadata": {},
     "output_type": "execute_result"
    }
   ],
   "source": [
    "j['articles']"
   ]
  },
  {
   "cell_type": "code",
   "execution_count": 13,
   "id": "b0ffa646-e78e-4c47-9836-207fc80b974e",
   "metadata": {
    "tags": []
   },
   "outputs": [],
   "source": [
    "date = datetime.datetime.today().strftime('%Y-%m-%d')"
   ]
  },
  {
   "cell_type": "code",
   "execution_count": 11,
   "id": "b28f51e8-d266-4453-8249-2bb9c1e04d59",
   "metadata": {
    "tags": []
   },
   "outputs": [],
   "source": [
    "date = \"2024-01-16\""
   ]
  },
  {
   "cell_type": "code",
   "execution_count": 14,
   "id": "8b47fcd3-77b7-43b1-aa41-b4b096cfde00",
   "metadata": {
    "tags": []
   },
   "outputs": [],
   "source": [
    "# get new news articles\n",
    "news = n2r.get_news(date)"
   ]
  },
  {
   "cell_type": "code",
   "execution_count": 15,
   "id": "f9df1061-8d83-4ba0-82f4-dd2ba2428769",
   "metadata": {
    "tags": []
   },
   "outputs": [
    {
     "data": {
      "text/plain": [
       "1"
      ]
     },
     "execution_count": 15,
     "metadata": {},
     "output_type": "execute_result"
    }
   ],
   "source": [
    "len(news)"
   ]
  },
  {
   "cell_type": "code",
   "execution_count": 38,
   "id": "13a47af4-7bb7-401c-8c0c-99beebc30d76",
   "metadata": {
    "tags": []
   },
   "outputs": [],
   "source": [
    "news = [article for article in news if News2ROI.contains_words(article, words={'United States',\"US\"})]"
   ]
  },
  {
   "cell_type": "code",
   "execution_count": 70,
   "id": "e2d9f5e1-5260-4a0a-84e3-0be9640b0923",
   "metadata": {
    "tags": []
   },
   "outputs": [],
   "source": [
    "news = [article for article in news if News2ROI.is_recent(article['publishedAt']['date'], delta=datetime.timedelta(days=5, hours=1))]"
   ]
  },
  {
   "cell_type": "code",
   "execution_count": 71,
   "id": "85884593-c133-4b08-9b6e-1ba5ecadcc5c",
   "metadata": {
    "tags": []
   },
   "outputs": [
    {
     "data": {
      "text/plain": [
       "34"
      ]
     },
     "execution_count": 71,
     "metadata": {},
     "output_type": "execute_result"
    }
   ],
   "source": [
    "len(news_)"
   ]
  },
  {
   "cell_type": "code",
   "execution_count": 72,
   "id": "8b1fa765-645b-4dae-801e-cc04d194b5c7",
   "metadata": {
    "tags": []
   },
   "outputs": [],
   "source": [
    "# get sentiment\n",
    "res = []\n"
   ]
  },
  {
   "cell_type": "code",
   "execution_count": null,
   "id": "e1814f08-b711-4df1-9389-da5d31b38e77",
   "metadata": {
    "tags": []
   },
   "outputs": [
    {
     "data": {
      "application/vnd.jupyter.widget-view+json": {
       "model_id": "6495049901894cd88143c68d01c1b700",
       "version_major": 2,
       "version_minor": 0
      },
      "text/plain": [
       "  0%|          | 0/44 [00:00<?, ?it/s]"
      ]
     },
     "metadata": {},
     "output_type": "display_data"
    }
   ],
   "source": [
    "for article in tqdm(us_news):\n",
    "    res += [n2r.analyse_article(article, date)]\n",
    "    "
   ]
  },
  {
   "cell_type": "code",
   "execution_count": 75,
   "id": "391f5a84-e951-4a57-8dab-8c8bf8dc7074",
   "metadata": {
    "tags": []
   },
   "outputs": [],
   "source": [
    "res = list(filter(None,res))"
   ]
  },
  {
   "cell_type": "code",
   "execution_count": 76,
   "id": "2f4c8f2d-d8c6-42d7-9eaf-967d54557bc4",
   "metadata": {
    "tags": []
   },
   "outputs": [],
   "source": [
    "# for low sentiment articles\n",
    "df = pd.DataFrame(res)\n"
   ]
  },
  {
   "cell_type": "code",
   "execution_count": 77,
   "id": "619c607d-7786-4db3-b7c4-4b8778dd301c",
   "metadata": {
    "tags": []
   },
   "outputs": [],
   "source": [
    "df.to_csv(f\"data/reuters/{date}.tsv\", sep='\\t')"
   ]
  },
  {
   "cell_type": "code",
   "execution_count": 78,
   "id": "3d2cc293-5412-43b0-a872-bc053d3f334c",
   "metadata": {},
   "outputs": [],
   "source": [
    "df = pd.read_csv(f\"data/reuters/{date}.tsv\", sep='\\t',index_col=0)"
   ]
  },
  {
   "cell_type": "code",
   "execution_count": 79,
   "id": "f29da370-fb2c-4f2f-8493-d72edf82d066",
   "metadata": {
    "tags": []
   },
   "outputs": [],
   "source": [
    "df['action'] = pd.to_numeric(df['action'], errors='coerce')"
   ]
  },
  {
   "cell_type": "code",
   "execution_count": 80,
   "id": "269a723f-63c8-4d94-900a-2735a7668cf9",
   "metadata": {
    "tags": []
   },
   "outputs": [],
   "source": [
    "low = df[df['action']<=3]"
   ]
  },
  {
   "cell_type": "code",
   "execution_count": 81,
   "id": "15760ad4-d3f9-422b-8aa9-0f36017413f4",
   "metadata": {
    "tags": []
   },
   "outputs": [
    {
     "data": {
      "text/html": [
       "<div>\n",
       "<style scoped>\n",
       "    .dataframe tbody tr th:only-of-type {\n",
       "        vertical-align: middle;\n",
       "    }\n",
       "\n",
       "    .dataframe tbody tr th {\n",
       "        vertical-align: top;\n",
       "    }\n",
       "\n",
       "    .dataframe thead th {\n",
       "        text-align: right;\n",
       "    }\n",
       "</style>\n",
       "<table border=\"1\" class=\"dataframe\">\n",
       "  <thead>\n",
       "    <tr style=\"text-align: right;\">\n",
       "      <th></th>\n",
       "      <th>stock</th>\n",
       "      <th>ticker</th>\n",
       "      <th>reasoning</th>\n",
       "      <th>action</th>\n",
       "      <th>date</th>\n",
       "      <th>data</th>\n",
       "    </tr>\n",
       "  </thead>\n",
       "  <tbody>\n",
       "    <tr>\n",
       "      <th>2</th>\n",
       "      <td>Futures Index ETF</td>\n",
       "      <td>SPY</td>\n",
       "      <td>The hawkish remarks from central bankers sugge...</td>\n",
       "      <td>3</td>\n",
       "      <td>2024-01-16</td>\n",
       "      <td>Stocks slide, dollar gains on rates outlook ji...</td>\n",
       "    </tr>\n",
       "    <tr>\n",
       "      <th>9</th>\n",
       "      <td>Sony Group Corporation</td>\n",
       "      <td>SONY</td>\n",
       "      <td>Despite the Tokyo Stock Exchange's initiative ...</td>\n",
       "      <td>3</td>\n",
       "      <td>2024-01-16</td>\n",
       "      <td>Japan Inc&amp;#8217;s value boost plan lacks key e...</td>\n",
       "    </tr>\n",
       "    <tr>\n",
       "      <th>16</th>\n",
       "      <td>Invesco CurrencyShares British Pound Sterling ...</td>\n",
       "      <td>FXB</td>\n",
       "      <td>The Invesco CurrencyShares British Pound Sterl...</td>\n",
       "      <td>3</td>\n",
       "      <td>2024-01-16</td>\n",
       "      <td>Sterling slips after UK wage growth slows shar...</td>\n",
       "    </tr>\n",
       "    <tr>\n",
       "      <th>32</th>\n",
       "      <td>Newmont Corporation</td>\n",
       "      <td>NEM</td>\n",
       "      <td>As the largest gold mining company, Newmont Co...</td>\n",
       "      <td>3</td>\n",
       "      <td>2024-01-16</td>\n",
       "      <td>Gold retreats as US dollar, yields climb; Fed ...</td>\n",
       "    </tr>\n",
       "  </tbody>\n",
       "</table>\n",
       "</div>"
      ],
      "text/plain": [
       "                                                stock ticker  \\\n",
       "2                                   Futures Index ETF    SPY   \n",
       "9                              Sony Group Corporation   SONY   \n",
       "16  Invesco CurrencyShares British Pound Sterling ...    FXB   \n",
       "32                                Newmont Corporation    NEM   \n",
       "\n",
       "                                            reasoning  action        date  \\\n",
       "2   The hawkish remarks from central bankers sugge...       3  2024-01-16   \n",
       "9   Despite the Tokyo Stock Exchange's initiative ...       3  2024-01-16   \n",
       "16  The Invesco CurrencyShares British Pound Sterl...       3  2024-01-16   \n",
       "32  As the largest gold mining company, Newmont Co...       3  2024-01-16   \n",
       "\n",
       "                                                 data  \n",
       "2   Stocks slide, dollar gains on rates outlook ji...  \n",
       "9   Japan Inc&#8217;s value boost plan lacks key e...  \n",
       "16  Sterling slips after UK wage growth slows shar...  \n",
       "32  Gold retreats as US dollar, yields climb; Fed ...  "
      ]
     },
     "execution_count": 81,
     "metadata": {},
     "output_type": "execute_result"
    }
   ],
   "source": [
    "low"
   ]
  },
  {
   "cell_type": "code",
   "execution_count": 44,
   "id": "f9962557-0ee4-4527-9cf1-634ca6e97ac9",
   "metadata": {
    "tags": []
   },
   "outputs": [],
   "source": [
    "# ticker = low_sentiment.iloc[0]['ticker']"
   ]
  },
  {
   "cell_type": "code",
   "execution_count": 82,
   "id": "e057bdaa-7242-4f30-9174-390642bfbc20",
   "metadata": {
    "tags": []
   },
   "outputs": [],
   "source": [
    "ticker = df.sort_values('action').iloc[0]['ticker']"
   ]
  },
  {
   "cell_type": "code",
   "execution_count": 83,
   "id": "fe09c20e-a0ac-45ee-b8c0-ba2e4832aa8a",
   "metadata": {
    "tags": []
   },
   "outputs": [
    {
     "data": {
      "text/plain": [
       "'SPY'"
      ]
     },
     "execution_count": 83,
     "metadata": {},
     "output_type": "execute_result"
    }
   ],
   "source": [
    "ticker"
   ]
  },
  {
   "cell_type": "code",
   "execution_count": null,
   "id": "cf07726b-28b8-4458-8310-c9188df133e9",
   "metadata": {
    "tags": []
   },
   "outputs": [],
   "source": [
    "# get options\n"
   ]
  },
  {
   "cell_type": "code",
   "execution_count": null,
   "id": "ce72a1b3-f5df-4143-9037-e2c5e42b6acf",
   "metadata": {
    "tags": []
   },
   "outputs": [],
   "source": [
    "# expirationDate = the next friday"
   ]
  },
  {
   "cell_type": "code",
   "execution_count": 48,
   "id": "d222d97c-120c-444d-9d61-ec3781ebbf50",
   "metadata": {
    "tags": []
   },
   "outputs": [],
   "source": [
    "today = datetime.date.today()"
   ]
  },
  {
   "cell_type": "code",
   "execution_count": 49,
   "id": "70b00495-f269-44dc-903d-31bf0234e606",
   "metadata": {
    "tags": []
   },
   "outputs": [],
   "source": [
    "days_till_next_friday = (4-today.weekday()) % 7\n",
    "if not days_till_next_friday:\n",
    "    days_till_next_friday = 7"
   ]
  },
  {
   "cell_type": "code",
   "execution_count": 50,
   "id": "6cd41170-1f95-4830-b2c8-2e6d349a2322",
   "metadata": {
    "tags": []
   },
   "outputs": [],
   "source": [
    "friday = today + datetime.timedelta( days_till_next_friday )\n"
   ]
  },
  {
   "cell_type": "code",
   "execution_count": 51,
   "id": "45218193-5b8b-4bb1-b3e1-c008a0df0525",
   "metadata": {
    "tags": []
   },
   "outputs": [],
   "source": [
    "friday_s = friday.strftime(\"%Y-%m-%d\")"
   ]
  },
  {
   "cell_type": "code",
   "execution_count": 52,
   "id": "bb634f7b-a67c-41ac-ac05-ea23fe47088c",
   "metadata": {
    "tags": []
   },
   "outputs": [
    {
     "name": "stdout",
     "output_type": "stream",
     "text": [
      "Loading Market Data Loading Market Data Loading Market Data Loading Market Data Loading Market Data Loading Market Data Loading Market Data Loading Market Data Loading Market Data Loading Market Data Loading Market Data Loading Market Data Loading Market Data Loading Market Data Loading Market Data Loading Market Data Loading Market Data Loading Market Data Loading Market Data Loading Market Data Loading Market Data Loading Market Data Loading Market Data Loading Market Data Loading Market Data Loading Market Data Loading Market Data Loading Market Data Loading Market Data Loading Market Data Loading Market Data Loading Market Data Loading Market Data Loading Market Data Loading Market Data Loading Market Data Loading Market Data Loading Market Data Loading Market Data Loading Market Data Loading Market Data Loading Market Data Loading Market Data Loading Market Data Loading Market Data Loading Market Data Loading Market Data Loading Market Data Loading Market Data Loading Market Data Loading Market Data Loading Market Data Loading Market Data Loading Market Data Loading Market Data Loading Market Data Loading Market Data Loading Market Data Loading Market Data Loading Market Data Loading Market Data Loading Market Data Loading Market Data Loading Market Data Loading Market Data Loading Market Data Loading Market Data Loading Market Data Loading Market Data Loading Market Data Loading Market Data Loading Market Data Loading Market Data Loading Market Data Loading Market Data Loading Market Data Loading Market Data Loading Market Data Loading Market Data Loading Market Data Loading Market Data Loading Market Data Loading Market Data Loading Market Data Loading Market Data Loading Market Data Loading Market Data Loading Market Data Loading Market Data Loading Market Data Loading Market Data Loading Market Data Loading Market Data Loading Market Data Loading Market Data Loading Market Data "
     ]
    }
   ],
   "source": [
    "optionData = r.find_options_by_expiration([ticker], expirationDate=friday_s,optionType='put')"
   ]
  },
  {
   "cell_type": "code",
   "execution_count": 53,
   "id": "48cd1ead-2aec-4812-bb03-99c8f878f280",
   "metadata": {
    "tags": []
   },
   "outputs": [
    {
     "data": {
      "text/plain": [
       "96"
      ]
     },
     "execution_count": 53,
     "metadata": {},
     "output_type": "execute_result"
    }
   ],
   "source": [
    "len(optionData)"
   ]
  },
  {
   "cell_type": "code",
   "execution_count": 79,
   "id": "1e034857-aa2b-4470-9757-249cf50d592b",
   "metadata": {
    "tags": []
   },
   "outputs": [],
   "source": [
    "option_df = pd.DataFrame(optionData)"
   ]
  },
  {
   "cell_type": "code",
   "execution_count": 55,
   "id": "753eaed1-10f5-43bc-8a58-5d51822981d1",
   "metadata": {
    "tags": []
   },
   "outputs": [
    {
     "data": {
      "text/plain": [
       "Index(['chain_id', 'chain_symbol', 'created_at', 'expiration_date', 'id',\n",
       "       'issue_date', 'min_ticks', 'rhs_tradability', 'state', 'strike_price',\n",
       "       'tradability', 'type', 'updated_at', 'url', 'sellout_datetime',\n",
       "       'long_strategy_code', 'short_strategy_code', 'adjusted_mark_price',\n",
       "       'adjusted_mark_price_round_down', 'ask_price', 'ask_size', 'bid_price',\n",
       "       'bid_size', 'break_even_price', 'high_price', 'instrument',\n",
       "       'instrument_id', 'last_trade_price', 'last_trade_size', 'low_price',\n",
       "       'mark_price', 'open_interest', 'previous_close_date',\n",
       "       'previous_close_price', 'volume', 'symbol', 'occ_symbol',\n",
       "       'chance_of_profit_long', 'chance_of_profit_short', 'delta', 'gamma',\n",
       "       'implied_volatility', 'rho', 'theta', 'vega', 'pricing_model',\n",
       "       'high_fill_rate_buy_price', 'high_fill_rate_sell_price',\n",
       "       'low_fill_rate_buy_price', 'low_fill_rate_sell_price'],\n",
       "      dtype='object')"
      ]
     },
     "execution_count": 55,
     "metadata": {},
     "output_type": "execute_result"
    }
   ],
   "source": [
    "option_df.columns"
   ]
  },
  {
   "cell_type": "code",
   "execution_count": 80,
   "id": "5e13be5b-2c40-435a-8eab-93e0888e24fb",
   "metadata": {
    "tags": []
   },
   "outputs": [],
   "source": [
    "option_df['strike_price'] = pd.to_numeric(option_df['strike_price'])"
   ]
  },
  {
   "cell_type": "code",
   "execution_count": 81,
   "id": "c5fc1296-58d5-4681-84ff-1ce6f41f25c0",
   "metadata": {
    "tags": []
   },
   "outputs": [],
   "source": [
    "option_df['adjusted_mark_price'] = pd.to_numeric(option_df['adjusted_mark_price'])"
   ]
  },
  {
   "cell_type": "code",
   "execution_count": 82,
   "id": "81d66873-45b8-41a8-a45a-4051647c4a84",
   "metadata": {
    "tags": []
   },
   "outputs": [],
   "source": [
    "option_df['break_even_price'] = pd.to_numeric(option_df['break_even_price'])"
   ]
  },
  {
   "cell_type": "code",
   "execution_count": 83,
   "id": "f6b10a30-a4b7-4fa9-9931-c2419d7dc537",
   "metadata": {
    "tags": []
   },
   "outputs": [],
   "source": [
    "option_df = option_df.sort_values('strike_price')"
   ]
  },
  {
   "cell_type": "code",
   "execution_count": 84,
   "id": "a1761482-7052-4ce3-96b6-83b9de9b3e37",
   "metadata": {
    "tags": []
   },
   "outputs": [],
   "source": [
    "# option_df = option_df[option_df['volume']>0]"
   ]
  },
  {
   "cell_type": "code",
   "execution_count": 96,
   "id": "8f9ed0b9-29a5-46f2-9cc8-cbcb82d5f23e",
   "metadata": {
    "tags": []
   },
   "outputs": [],
   "source": [
    "option_df = option_df[option_df['strike_price']>220]"
   ]
  },
  {
   "cell_type": "code",
   "execution_count": 86,
   "id": "0395bbf2-515b-457b-90e8-30be47302956",
   "metadata": {
    "tags": []
   },
   "outputs": [],
   "source": [
    "option_df = option_df[option_df['strike_price']<300]"
   ]
  },
  {
   "cell_type": "code",
   "execution_count": 87,
   "id": "f2e7813e-c331-4bd1-b439-c6f382496ade",
   "metadata": {
    "tags": []
   },
   "outputs": [],
   "source": [
    "current_price = max(option_df['break_even_price'])"
   ]
  },
  {
   "cell_type": "code",
   "execution_count": 88,
   "id": "44ca75bc-999f-40e1-ab39-52570db8e100",
   "metadata": {
    "tags": []
   },
   "outputs": [
    {
     "data": {
      "text/plain": [
       "248.52"
      ]
     },
     "execution_count": 88,
     "metadata": {},
     "output_type": "execute_result"
    }
   ],
   "source": [
    "current_price"
   ]
  },
  {
   "cell_type": "code",
   "execution_count": 98,
   "id": "012dd277-62b8-4789-a8dd-7c2092101a4b",
   "metadata": {
    "tags": []
   },
   "outputs": [
    {
     "data": {
      "text/html": [
       "<div>\n",
       "<style scoped>\n",
       "    .dataframe tbody tr th:only-of-type {\n",
       "        vertical-align: middle;\n",
       "    }\n",
       "\n",
       "    .dataframe tbody tr th {\n",
       "        vertical-align: top;\n",
       "    }\n",
       "\n",
       "    .dataframe thead th {\n",
       "        text-align: right;\n",
       "    }\n",
       "</style>\n",
       "<table border=\"1\" class=\"dataframe\">\n",
       "  <thead>\n",
       "    <tr style=\"text-align: right;\">\n",
       "      <th></th>\n",
       "      <th>type</th>\n",
       "      <th>strike_price</th>\n",
       "      <th>adjusted_mark_price</th>\n",
       "      <th>break_even_price</th>\n",
       "      <th>volume</th>\n",
       "      <th>chance_of_profit_long</th>\n",
       "    </tr>\n",
       "  </thead>\n",
       "  <tbody>\n",
       "    <tr>\n",
       "      <th>41</th>\n",
       "      <td>put</td>\n",
       "      <td>222.5</td>\n",
       "      <td>0.36</td>\n",
       "      <td>222.14</td>\n",
       "      <td>2334</td>\n",
       "      <td>0.054069</td>\n",
       "    </tr>\n",
       "    <tr>\n",
       "      <th>83</th>\n",
       "      <td>put</td>\n",
       "      <td>225.0</td>\n",
       "      <td>0.49</td>\n",
       "      <td>224.51</td>\n",
       "      <td>9282</td>\n",
       "      <td>0.069726</td>\n",
       "    </tr>\n",
       "    <tr>\n",
       "      <th>81</th>\n",
       "      <td>put</td>\n",
       "      <td>227.5</td>\n",
       "      <td>0.67</td>\n",
       "      <td>226.83</td>\n",
       "      <td>6601</td>\n",
       "      <td>0.089308</td>\n",
       "    </tr>\n",
       "    <tr>\n",
       "      <th>55</th>\n",
       "      <td>put</td>\n",
       "      <td>230.0</td>\n",
       "      <td>0.91</td>\n",
       "      <td>229.09</td>\n",
       "      <td>17359</td>\n",
       "      <td>0.112767</td>\n",
       "    </tr>\n",
       "    <tr>\n",
       "      <th>86</th>\n",
       "      <td>put</td>\n",
       "      <td>232.5</td>\n",
       "      <td>1.22</td>\n",
       "      <td>231.28</td>\n",
       "      <td>5755</td>\n",
       "      <td>0.139704</td>\n",
       "    </tr>\n",
       "    <tr>\n",
       "      <th>58</th>\n",
       "      <td>put</td>\n",
       "      <td>235.0</td>\n",
       "      <td>1.63</td>\n",
       "      <td>233.37</td>\n",
       "      <td>12739</td>\n",
       "      <td>0.170499</td>\n",
       "    </tr>\n",
       "    <tr>\n",
       "      <th>60</th>\n",
       "      <td>put</td>\n",
       "      <td>237.5</td>\n",
       "      <td>2.17</td>\n",
       "      <td>235.33</td>\n",
       "      <td>8908</td>\n",
       "      <td>0.204508</td>\n",
       "    </tr>\n",
       "    <tr>\n",
       "      <th>43</th>\n",
       "      <td>put</td>\n",
       "      <td>240.0</td>\n",
       "      <td>2.82</td>\n",
       "      <td>237.18</td>\n",
       "      <td>27019</td>\n",
       "      <td>0.239272</td>\n",
       "    </tr>\n",
       "    <tr>\n",
       "      <th>49</th>\n",
       "      <td>put</td>\n",
       "      <td>242.5</td>\n",
       "      <td>3.63</td>\n",
       "      <td>238.87</td>\n",
       "      <td>9097</td>\n",
       "      <td>0.274667</td>\n",
       "    </tr>\n",
       "    <tr>\n",
       "      <th>61</th>\n",
       "      <td>put</td>\n",
       "      <td>245.0</td>\n",
       "      <td>4.60</td>\n",
       "      <td>240.40</td>\n",
       "      <td>19297</td>\n",
       "      <td>0.309001</td>\n",
       "    </tr>\n",
       "    <tr>\n",
       "      <th>9</th>\n",
       "      <td>put</td>\n",
       "      <td>247.5</td>\n",
       "      <td>5.73</td>\n",
       "      <td>241.77</td>\n",
       "      <td>16346</td>\n",
       "      <td>0.341204</td>\n",
       "    </tr>\n",
       "    <tr>\n",
       "      <th>21</th>\n",
       "      <td>put</td>\n",
       "      <td>250.0</td>\n",
       "      <td>7.03</td>\n",
       "      <td>242.97</td>\n",
       "      <td>31021</td>\n",
       "      <td>0.370495</td>\n",
       "    </tr>\n",
       "    <tr>\n",
       "      <th>18</th>\n",
       "      <td>put</td>\n",
       "      <td>252.5</td>\n",
       "      <td>8.50</td>\n",
       "      <td>244.00</td>\n",
       "      <td>10366</td>\n",
       "      <td>0.396391</td>\n",
       "    </tr>\n",
       "    <tr>\n",
       "      <th>71</th>\n",
       "      <td>put</td>\n",
       "      <td>255.0</td>\n",
       "      <td>10.03</td>\n",
       "      <td>244.97</td>\n",
       "      <td>12246</td>\n",
       "      <td>0.419393</td>\n",
       "    </tr>\n",
       "    <tr>\n",
       "      <th>93</th>\n",
       "      <td>put</td>\n",
       "      <td>257.5</td>\n",
       "      <td>11.80</td>\n",
       "      <td>245.70</td>\n",
       "      <td>2903</td>\n",
       "      <td>0.438399</td>\n",
       "    </tr>\n",
       "    <tr>\n",
       "      <th>50</th>\n",
       "      <td>put</td>\n",
       "      <td>260.0</td>\n",
       "      <td>13.68</td>\n",
       "      <td>246.32</td>\n",
       "      <td>6448</td>\n",
       "      <td>0.454312</td>\n",
       "    </tr>\n",
       "    <tr>\n",
       "      <th>28</th>\n",
       "      <td>put</td>\n",
       "      <td>262.5</td>\n",
       "      <td>15.65</td>\n",
       "      <td>246.85</td>\n",
       "      <td>388</td>\n",
       "      <td>0.467597</td>\n",
       "    </tr>\n",
       "    <tr>\n",
       "      <th>57</th>\n",
       "      <td>put</td>\n",
       "      <td>265.0</td>\n",
       "      <td>17.78</td>\n",
       "      <td>247.22</td>\n",
       "      <td>994</td>\n",
       "      <td>0.477591</td>\n",
       "    </tr>\n",
       "    <tr>\n",
       "      <th>40</th>\n",
       "      <td>put</td>\n",
       "      <td>267.5</td>\n",
       "      <td>19.95</td>\n",
       "      <td>247.55</td>\n",
       "      <td>1153</td>\n",
       "      <td>0.485992</td>\n",
       "    </tr>\n",
       "    <tr>\n",
       "      <th>79</th>\n",
       "      <td>put</td>\n",
       "      <td>270.0</td>\n",
       "      <td>22.23</td>\n",
       "      <td>247.77</td>\n",
       "      <td>1295</td>\n",
       "      <td>0.492094</td>\n",
       "    </tr>\n",
       "    <tr>\n",
       "      <th>70</th>\n",
       "      <td>put</td>\n",
       "      <td>272.5</td>\n",
       "      <td>24.53</td>\n",
       "      <td>247.97</td>\n",
       "      <td>80</td>\n",
       "      <td>0.497277</td>\n",
       "    </tr>\n",
       "    <tr>\n",
       "      <th>29</th>\n",
       "      <td>put</td>\n",
       "      <td>275.0</td>\n",
       "      <td>26.90</td>\n",
       "      <td>248.10</td>\n",
       "      <td>108</td>\n",
       "      <td>0.501048</td>\n",
       "    </tr>\n",
       "    <tr>\n",
       "      <th>48</th>\n",
       "      <td>put</td>\n",
       "      <td>277.5</td>\n",
       "      <td>29.30</td>\n",
       "      <td>248.20</td>\n",
       "      <td>38</td>\n",
       "      <td>0.504096</td>\n",
       "    </tr>\n",
       "    <tr>\n",
       "      <th>72</th>\n",
       "      <td>put</td>\n",
       "      <td>280.0</td>\n",
       "      <td>31.70</td>\n",
       "      <td>248.30</td>\n",
       "      <td>45</td>\n",
       "      <td>0.506890</td>\n",
       "    </tr>\n",
       "    <tr>\n",
       "      <th>27</th>\n",
       "      <td>put</td>\n",
       "      <td>282.5</td>\n",
       "      <td>34.15</td>\n",
       "      <td>248.35</td>\n",
       "      <td>96</td>\n",
       "      <td>0.508911</td>\n",
       "    </tr>\n",
       "    <tr>\n",
       "      <th>31</th>\n",
       "      <td>put</td>\n",
       "      <td>285.0</td>\n",
       "      <td>36.60</td>\n",
       "      <td>248.40</td>\n",
       "      <td>133</td>\n",
       "      <td>0.510807</td>\n",
       "    </tr>\n",
       "    <tr>\n",
       "      <th>82</th>\n",
       "      <td>put</td>\n",
       "      <td>287.5</td>\n",
       "      <td>38.98</td>\n",
       "      <td>248.52</td>\n",
       "      <td>43</td>\n",
       "      <td>0.000000</td>\n",
       "    </tr>\n",
       "    <tr>\n",
       "      <th>76</th>\n",
       "      <td>put</td>\n",
       "      <td>290.0</td>\n",
       "      <td>41.55</td>\n",
       "      <td>248.45</td>\n",
       "      <td>12</td>\n",
       "      <td>0.513812</td>\n",
       "    </tr>\n",
       "    <tr>\n",
       "      <th>69</th>\n",
       "      <td>put</td>\n",
       "      <td>292.5</td>\n",
       "      <td>44.03</td>\n",
       "      <td>248.47</td>\n",
       "      <td>2</td>\n",
       "      <td>0.515181</td>\n",
       "    </tr>\n",
       "    <tr>\n",
       "      <th>12</th>\n",
       "      <td>put</td>\n",
       "      <td>295.0</td>\n",
       "      <td>46.50</td>\n",
       "      <td>248.50</td>\n",
       "      <td>9</td>\n",
       "      <td>0.000000</td>\n",
       "    </tr>\n",
       "    <tr>\n",
       "      <th>11</th>\n",
       "      <td>put</td>\n",
       "      <td>297.5</td>\n",
       "      <td>49.00</td>\n",
       "      <td>248.50</td>\n",
       "      <td>4</td>\n",
       "      <td>0.000000</td>\n",
       "    </tr>\n",
       "  </tbody>\n",
       "</table>\n",
       "</div>"
      ],
      "text/plain": [
       "   type  strike_price  adjusted_mark_price  break_even_price  volume  \\\n",
       "41  put         222.5                 0.36            222.14    2334   \n",
       "83  put         225.0                 0.49            224.51    9282   \n",
       "81  put         227.5                 0.67            226.83    6601   \n",
       "55  put         230.0                 0.91            229.09   17359   \n",
       "86  put         232.5                 1.22            231.28    5755   \n",
       "58  put         235.0                 1.63            233.37   12739   \n",
       "60  put         237.5                 2.17            235.33    8908   \n",
       "43  put         240.0                 2.82            237.18   27019   \n",
       "49  put         242.5                 3.63            238.87    9097   \n",
       "61  put         245.0                 4.60            240.40   19297   \n",
       "9   put         247.5                 5.73            241.77   16346   \n",
       "21  put         250.0                 7.03            242.97   31021   \n",
       "18  put         252.5                 8.50            244.00   10366   \n",
       "71  put         255.0                10.03            244.97   12246   \n",
       "93  put         257.5                11.80            245.70    2903   \n",
       "50  put         260.0                13.68            246.32    6448   \n",
       "28  put         262.5                15.65            246.85     388   \n",
       "57  put         265.0                17.78            247.22     994   \n",
       "40  put         267.5                19.95            247.55    1153   \n",
       "79  put         270.0                22.23            247.77    1295   \n",
       "70  put         272.5                24.53            247.97      80   \n",
       "29  put         275.0                26.90            248.10     108   \n",
       "48  put         277.5                29.30            248.20      38   \n",
       "72  put         280.0                31.70            248.30      45   \n",
       "27  put         282.5                34.15            248.35      96   \n",
       "31  put         285.0                36.60            248.40     133   \n",
       "82  put         287.5                38.98            248.52      43   \n",
       "76  put         290.0                41.55            248.45      12   \n",
       "69  put         292.5                44.03            248.47       2   \n",
       "12  put         295.0                46.50            248.50       9   \n",
       "11  put         297.5                49.00            248.50       4   \n",
       "\n",
       "   chance_of_profit_long  \n",
       "41              0.054069  \n",
       "83              0.069726  \n",
       "81              0.089308  \n",
       "55              0.112767  \n",
       "86              0.139704  \n",
       "58              0.170499  \n",
       "60              0.204508  \n",
       "43              0.239272  \n",
       "49              0.274667  \n",
       "61              0.309001  \n",
       "9               0.341204  \n",
       "21              0.370495  \n",
       "18              0.396391  \n",
       "71              0.419393  \n",
       "93              0.438399  \n",
       "50              0.454312  \n",
       "28              0.467597  \n",
       "57              0.477591  \n",
       "40              0.485992  \n",
       "79              0.492094  \n",
       "70              0.497277  \n",
       "29              0.501048  \n",
       "48              0.504096  \n",
       "72              0.506890  \n",
       "27              0.508911  \n",
       "31              0.510807  \n",
       "82              0.000000  \n",
       "76              0.513812  \n",
       "69              0.515181  \n",
       "12              0.000000  \n",
       "11              0.000000  "
      ]
     },
     "execution_count": 98,
     "metadata": {},
     "output_type": "execute_result"
    }
   ],
   "source": [
    "option_df[['type','strike_price','adjusted_mark_price','break_even_price', 'volume', 'chance_of_profit_long']].sort_values('strike_price')"
   ]
  },
  {
   "cell_type": "code",
   "execution_count": null,
   "id": "fee74a19-ee39-44ab-9c50-332865d021bf",
   "metadata": {},
   "outputs": [],
   "source": []
  },
  {
   "cell_type": "code",
   "execution_count": 90,
   "id": "9566c289-8a78-4965-820d-307f9dbea0d2",
   "metadata": {
    "tags": []
   },
   "outputs": [
    {
     "data": {
      "text/plain": [
       "<AxesSubplot:xlabel='strike_price'>"
      ]
     },
     "execution_count": 90,
     "metadata": {},
     "output_type": "execute_result"
    },
    {
     "data": {
      "image/png": "[encoded data removed]",
      "text/plain": [
       "<Figure size 640x480 with 1 Axes>"
      ]
     },
     "metadata": {},
     "output_type": "display_data"
    }
   ],
   "source": [
    "option_df.plot(x='strike_price', y='adjusted_mark_price')"
   ]
  },
  {
   "cell_type": "code",
   "execution_count": 91,
   "id": "5e708eae-9624-419f-81fc-ba9187282eb5",
   "metadata": {
    "tags": []
   },
   "outputs": [
    {
     "data": {
      "text/plain": [
       "<AxesSubplot:xlabel='strike_price'>"
      ]
     },
     "execution_count": 91,
     "metadata": {},
     "output_type": "execute_result"
    },
    {
     "data": {
      "image/png": "[encoded data removed]",
      "text/plain": [
       "<Figure size 640x480 with 1 Axes>"
      ]
     },
     "metadata": {},
     "output_type": "display_data"
    }
   ],
   "source": [
    "option_df.plot(x='strike_price', y='break_even_price')"
   ]
  },
  {
   "cell_type": "code",
   "execution_count": null,
   "id": "773d6f00-bc97-47dd-8f30-a07f2e814f4e",
   "metadata": {},
   "outputs": [],
   "source": [
    "# find lowest option price with highest break even price\n",
    "# usually the current stock price\n",
    "# example stock costs 100\n",
    "# option to put (sell) in a week for 100 costs 1$\n",
    "# if the stock costs 99 in a week, I break even, anything below I earn\n",
    "# e.g if the stock costs 98 in a week, I sell at 100, I get 2$, but it cost 1$, I made 1$\n",
    "\n",
    "# if I buy the option to sell in 150, it costs 49.85\n",
    "# if the stock costs 100 in a week, I sell at 150, I made 50, but it cost me 49.85, I made 0.15$\n",
    "\n",
    "# if I buy the option to sell in 90, it costs 0.02\n",
    "# if the stock costs 100 in a week, I sell in 90, I lost 10$\n",
    "\n",
    "# options are at a multiples of 100s\n",
    "# so if the stock costs 100\n",
    "# and costs 4 to sell at 104\n",
    "# if the stock goes to 101, it'll cost 3, so I could sell at 3$ and lose 100\n",
    "# I could lose everythin\n",
    "# If it goes to 99, it'll cost 5, and I could sell at 5, and gain 100\n",
    "# I could "
   ]
  },
  {
   "cell_type": "code",
   "execution_count": 74,
   "id": "cc39b422-d987-4d40-821a-f212350c8d02",
   "metadata": {
    "tags": []
   },
   "outputs": [],
   "source": [
    "# I want to maximize ROI\n",
    "# I need to check which one maximizes for the expected value of 0.2% drop"
   ]
  },
  {
   "cell_type": "code",
   "execution_count": 77,
   "id": "06cc9fb9-f99a-4ac6-98cc-881fdfc5be69",
   "metadata": {
    "tags": []
   },
   "outputs": [],
   "source": [
    "target_price = current_price*(1-0.02)"
   ]
  },
  {
   "cell_type": "code",
   "execution_count": null,
   "id": "f4f26c6e-c3ad-47a9-93bf-ea7c88edd9be",
   "metadata": {},
   "outputs": [],
   "source": [
    "# when the target price hits, the option prices should shift with the target price\n",
    "# say current price is 100"
   ]
  },
  {
   "cell_type": "code",
   "execution_count": null,
   "id": "9e14f4b0-ada8-468c-89fe-09c0fe1b608b",
   "metadata": {},
   "outputs": [],
   "source": [
    "# maybe easier to calculate - each price shifts one up"
   ]
  },
  {
   "cell_type": "code",
   "execution_count": 97,
   "id": "1fab9000-d9e7-4ae1-8a6d-9fc0c7f421a3",
   "metadata": {
    "tags": []
   },
   "outputs": [
    {
     "data": {
      "text/plain": [
       "41         NaN\n",
       "83    0.265306\n",
       "81    0.268657\n",
       "55    0.263736\n",
       "86    0.254098\n",
       "58    0.251534\n",
       "60    0.248848\n",
       "43    0.230496\n",
       "49    0.223140\n",
       "61    0.210870\n",
       "9     0.197208\n",
       "21    0.184922\n",
       "18    0.172941\n",
       "71    0.152542\n",
       "93    0.150000\n",
       "50    0.137427\n",
       "28    0.125879\n",
       "57    0.119798\n",
       "40    0.108772\n",
       "79    0.102564\n",
       "70    0.093763\n",
       "29    0.088104\n",
       "48    0.081911\n",
       "72    0.075710\n",
       "27    0.071742\n",
       "31    0.066940\n",
       "82    0.061057\n",
       "76    0.061853\n",
       "69    0.056325\n",
       "12    0.053118\n",
       "11    0.051020\n",
       "Name: adjusted_mark_price, dtype: float64"
      ]
     },
     "execution_count": 97,
     "metadata": {},
     "output_type": "execute_result"
    }
   ],
   "source": [
    "option_df['adjusted_mark_price'].diff()/option_df['adjusted_mark_price']"
   ]
  },
  {
   "cell_type": "code",
   "execution_count": null,
   "id": "a0eab5ba-9529-4eef-9e78-19eee863816f",
   "metadata": {},
   "outputs": [],
   "source": [
    "# place option for the day\n",
    "r.order_buy_option_limit"
   ]
  },
  {
   "cell_type": "code",
   "execution_count": null,
   "id": "ccb322c0-2056-4106-a030-486103b35b06",
   "metadata": {},
   "outputs": [],
   "source": [
    "# place reminder to sell tomorrow\n"
   ]
  },
  {
   "cell_type": "code",
   "execution_count": null,
   "id": "81f51ce1-bb0d-4b60-824a-34bce359aa47",
   "metadata": {},
   "outputs": [],
   "source": [
    "# sell previous reminders\n"
   ]
  },
  {
   "cell_type": "code",
   "execution_count": 141,
   "id": "c7f466bc-ccc7-4847-82ec-d540231bda7a",
   "metadata": {
    "tags": []
   },
   "outputs": [
    {
     "name": "stdout",
     "output_type": "stream",
     "text": [
      "{\n",
      "  \"stock\":\"Astellas Pharma Inc.\",\n",
      "  \"ticker\":\"ALPMY\",\n",
      "  \"reasoning\":\"The FDA's decision not to approve Astellas Pharma's experimental gastric cancer drug represents a significant setback for the company, as the U.S. market is substantial for pharmaceutical companies. This will likely result in delays to any potential revenue from this drug as the issues cited require resolution and potentially a resubmission for approval. Investors often react negatively to such news, and the stock could face short-term pressure due to the uncertainty and potential impact on future revenue streams.\",\n",
      "  \"action\":3,\n",
      "  \"date\":\"2024-01-09\",\n",
      "  \"data\":\"US FDA declines to approve Astellas' gastric cancer drug - Japan's Astellas Pharma said on Monday the U.S. Food and Drug Administration (FDA) has declined to approve its experimental drug to treat a type of gastric cancer, citing issues related to a third-party manufacturer.\"\n",
      "}\n"
     ]
    }
   ],
   "source": [
    "print(low.iloc[0].to_json(indent=2))"
   ]
  },
  {
   "cell_type": "code",
   "execution_count": null,
   "id": "d0731e2e-8147-4d3c-a2d0-45711648decf",
   "metadata": {},
   "outputs": [],
   "source": []
  },
  {
   "cell_type": "code",
   "execution_count": 15,
   "id": "a5721a1d-f4a8-4b26-918b-4ed3996174ee",
   "metadata": {
    "tags": []
   },
   "outputs": [],
   "source": [
    "j = {'account_sid': 'AC417be496c2958add9742abcc83840cb7',\n",
    "     'auth_token': '32e6cee11411c6037525b250c973eb2f',\n",
    "     'from': 'whatsapp:+14155238886',\n",
    "     'to': 'whatsapp:+14083862927'}\n"
   ]
  },
  {
   "cell_type": "code",
   "execution_count": 43,
   "id": "727e0827-3d52-40aa-a751-f1be97af316b",
   "metadata": {
    "tags": []
   },
   "outputs": [],
   "source": [
    "# with open('/root/.twilio.json', 'w') as f:\n",
    "#     f.write(json.dumps(j))"
   ]
  },
  {
   "cell_type": "code",
   "execution_count": 44,
   "id": "9a6413e8-a416-4451-86ec-22d9cf3d17c2",
   "metadata": {
    "tags": []
   },
   "outputs": [],
   "source": [
    "# s3.upload_file(\"/root/.twilio.json\", bucket_name, \".twilio.json\")"
   ]
  },
  {
   "cell_type": "code",
   "execution_count": 45,
   "id": "23198d3d-258d-4263-9c81-0a93d90c4ee3",
   "metadata": {
    "tags": []
   },
   "outputs": [],
   "source": [
    "data = s3.get_object(Bucket=bucket_name, Key=\".twilio.json\")"
   ]
  },
  {
   "cell_type": "code",
   "execution_count": 46,
   "id": "0dc3eb8c-a5ff-4b28-80e7-6b8f7b309a46",
   "metadata": {
    "tags": []
   },
   "outputs": [],
   "source": [
    "j = json.loads(data['Body'].read().decode('utf8'))"
   ]
  },
  {
   "cell_type": "code",
   "execution_count": 38,
   "id": "df64b43d-bd85-4529-8749-1bbc4447013a",
   "metadata": {},
   "outputs": [
    {
     "name": "stdout",
     "output_type": "stream",
     "text": [
      "SMbc1e47ef100d8a8d8f0e31bcbaae0310\n"
     ]
    }
   ],
   "source": [
    "account_sid = j['account_sid']\n",
    "auth_token = j['auth_token']\n",
    "client = Client(account_sid, auth_token)\n",
    "\n",
    "message = client.messages.create(\n",
    "  from_=j['from'],\n",
    "  body=low.iloc[0].to_json(indent=2),\n",
    "  to=j['to']\n",
    ")\n",
    "\n",
    "print(message.sid)"
   ]
  },
  {
   "cell_type": "code",
   "execution_count": null,
   "id": "fc546b51-88f9-41ae-9563-6adbc5b95721",
   "metadata": {},
   "outputs": [],
   "source": []
  },
  {
   "cell_type": "code",
   "execution_count": null,
   "id": "48ee7fbb-9c2a-4a01-a259-63724f83bfdd",
   "metadata": {},
   "outputs": [],
   "source": []
  }
 ],
 "metadata": {
  "availableInstances": [
   {
    "_defaultOrder": 0,
    "_isFastLaunch": true,
    "category": "General purpose",
    "gpuNum": 0,
    "hideHardwareSpecs": false,
    "memoryGiB": 4,
    "name": "ml.t3.medium",
    "vcpuNum": 2
   },
   {
    "_defaultOrder": 1,
    "_isFastLaunch": false,
    "category": "General purpose",
    "gpuNum": 0,
    "hideHardwareSpecs": false,
    "memoryGiB": 8,
    "name": "ml.t3.large",
    "vcpuNum": 2
   },
   {
    "_defaultOrder": 2,
    "_isFastLaunch": false,
    "category": "General purpose",
    "gpuNum": 0,
    "hideHardwareSpecs": false,
    "memoryGiB": 16,
    "name": "ml.t3.xlarge",
    "vcpuNum": 4
   },
   {
    "_defaultOrder": 3,
    "_isFastLaunch": false,
    "category": "General purpose",
    "gpuNum": 0,
    "hideHardwareSpecs": false,
    "memoryGiB": 32,
    "name": "ml.t3.2xlarge",
    "vcpuNum": 8
   },
   {
    "_defaultOrder": 4,
    "_isFastLaunch": true,
    "category": "General purpose",
    "gpuNum": 0,
    "hideHardwareSpecs": false,
    "memoryGiB": 8,
    "name": "ml.m5.large",
    "vcpuNum": 2
   },
   {
    "_defaultOrder": 5,
    "_isFastLaunch": false,
    "category": "General purpose",
    "gpuNum": 0,
    "hideHardwareSpecs": false,
    "memoryGiB": 16,
    "name": "ml.m5.xlarge",
    "vcpuNum": 4
   },
   {
    "_defaultOrder": 6,
    "_isFastLaunch": false,
    "category": "General purpose",
    "gpuNum": 0,
    "hideHardwareSpecs": false,
    "memoryGiB": 32,
    "name": "ml.m5.2xlarge",
    "vcpuNum": 8
   },
   {
    "_defaultOrder": 7,
    "_isFastLaunch": false,
    "category": "General purpose",
    "gpuNum": 0,
    "hideHardwareSpecs": false,
    "memoryGiB": 64,
    "name": "ml.m5.4xlarge",
    "vcpuNum": 16
   },
   {
    "_defaultOrder": 8,
    "_isFastLaunch": false,
    "category": "General purpose",
    "gpuNum": 0,
    "hideHardwareSpecs": false,
    "memoryGiB": 128,
    "name": "ml.m5.8xlarge",
    "vcpuNum": 32
   },
   {
    "_defaultOrder": 9,
    "_isFastLaunch": false,
    "category": "General purpose",
    "gpuNum": 0,
    "hideHardwareSpecs": false,
    "memoryGiB": 192,
    "name": "ml.m5.12xlarge",
    "vcpuNum": 48
   },
   {
    "_defaultOrder": 10,
    "_isFastLaunch": false,
    "category": "General purpose",
    "gpuNum": 0,
    "hideHardwareSpecs": false,
    "memoryGiB": 256,
    "name": "ml.m5.16xlarge",
    "vcpuNum": 64
   },
   {
    "_defaultOrder": 11,
    "_isFastLaunch": false,
    "category": "General purpose",
    "gpuNum": 0,
    "hideHardwareSpecs": false,
    "memoryGiB": 384,
    "name": "ml.m5.24xlarge",
    "vcpuNum": 96
   },
   {
    "_defaultOrder": 12,
    "_isFastLaunch": false,
    "category": "General purpose",
    "gpuNum": 0,
    "hideHardwareSpecs": false,
    "memoryGiB": 8,
    "name": "ml.m5d.large",
    "vcpuNum": 2
   },
   {
    "_defaultOrder": 13,
    "_isFastLaunch": false,
    "category": "General purpose",
    "gpuNum": 0,
    "hideHardwareSpecs": false,
    "memoryGiB": 16,
    "name": "ml.m5d.xlarge",
    "vcpuNum": 4
   },
   {
    "_defaultOrder": 14,
    "_isFastLaunch": false,
    "category": "General purpose",
    "gpuNum": 0,
    "hideHardwareSpecs": false,
    "memoryGiB": 32,
    "name": "ml.m5d.2xlarge",
    "vcpuNum": 8
   },
   {
    "_defaultOrder": 15,
    "_isFastLaunch": false,
    "category": "General purpose",
    "gpuNum": 0,
    "hideHardwareSpecs": false,
    "memoryGiB": 64,
    "name": "ml.m5d.4xlarge",
    "vcpuNum": 16
   },
   {
    "_defaultOrder": 16,
    "_isFastLaunch": false,
    "category": "General purpose",
    "gpuNum": 0,
    "hideHardwareSpecs": false,
    "memoryGiB": 128,
    "name": "ml.m5d.8xlarge",
    "vcpuNum": 32
   },
   {
    "_defaultOrder": 17,
    "_isFastLaunch": false,
    "category": "General purpose",
    "gpuNum": 0,
    "hideHardwareSpecs": false,
    "memoryGiB": 192,
    "name": "ml.m5d.12xlarge",
    "vcpuNum": 48
   },
   {
    "_defaultOrder": 18,
    "_isFastLaunch": false,
    "category": "General purpose",
    "gpuNum": 0,
    "hideHardwareSpecs": false,
    "memoryGiB": 256,
    "name": "ml.m5d.16xlarge",
    "vcpuNum": 64
   },
   {
    "_defaultOrder": 19,
    "_isFastLaunch": false,
    "category": "General purpose",
    "gpuNum": 0,
    "hideHardwareSpecs": false,
    "memoryGiB": 384,
    "name": "ml.m5d.24xlarge",
    "vcpuNum": 96
   },
   {
    "_defaultOrder": 20,
    "_isFastLaunch": false,
    "category": "General purpose",
    "gpuNum": 0,
    "hideHardwareSpecs": true,
    "memoryGiB": 0,
    "name": "ml.geospatial.interactive",
    "supportedImageNames": [
     "sagemaker-geospatial-v1-0"
    ],
    "vcpuNum": 0
   },
   {
    "_defaultOrder": 21,
    "_isFastLaunch": true,
    "category": "Compute optimized",
    "gpuNum": 0,
    "hideHardwareSpecs": false,
    "memoryGiB": 4,
    "name": "ml.c5.large",
    "vcpuNum": 2
   },
   {
    "_defaultOrder": 22,
    "_isFastLaunch": false,
    "category": "Compute optimized",
    "gpuNum": 0,
    "hideHardwareSpecs": false,
    "memoryGiB": 8,
    "name": "ml.c5.xlarge",
    "vcpuNum": 4
   },
   {
    "_defaultOrder": 23,
    "_isFastLaunch": false,
    "category": "Compute optimized",
    "gpuNum": 0,
    "hideHardwareSpecs": false,
    "memoryGiB": 16,
    "name": "ml.c5.2xlarge",
    "vcpuNum": 8
   },
   {
    "_defaultOrder": 24,
    "_isFastLaunch": false,
    "category": "Compute optimized",
    "gpuNum": 0,
    "hideHardwareSpecs": false,
    "memoryGiB": 32,
    "name": "ml.c5.4xlarge",
    "vcpuNum": 16
   },
   {
    "_defaultOrder": 25,
    "_isFastLaunch": false,
    "category": "Compute optimized",
    "gpuNum": 0,
    "hideHardwareSpecs": false,
    "memoryGiB": 72,
    "name": "ml.c5.9xlarge",
    "vcpuNum": 36
   },
   {
    "_defaultOrder": 26,
    "_isFastLaunch": false,
    "category": "Compute optimized",
    "gpuNum": 0,
    "hideHardwareSpecs": false,
    "memoryGiB": 96,
    "name": "ml.c5.12xlarge",
    "vcpuNum": 48
   },
   {
    "_defaultOrder": 27,
    "_isFastLaunch": false,
    "category": "Compute optimized",
    "gpuNum": 0,
    "hideHardwareSpecs": false,
    "memoryGiB": 144,
    "name": "ml.c5.18xlarge",
    "vcpuNum": 72
   },
   {
    "_defaultOrder": 28,
    "_isFastLaunch": false,
    "category": "Compute optimized",
    "gpuNum": 0,
    "hideHardwareSpecs": false,
    "memoryGiB": 192,
    "name": "ml.c5.24xlarge",
    "vcpuNum": 96
   },
   {
    "_defaultOrder": 29,
    "_isFastLaunch": true,
    "category": "Accelerated computing",
    "gpuNum": 1,
    "hideHardwareSpecs": false,
    "memoryGiB": 16,
    "name": "ml.g4dn.xlarge",
    "vcpuNum": 4
   },
   {
    "_defaultOrder": 30,
    "_isFastLaunch": false,
    "category": "Accelerated computing",
    "gpuNum": 1,
    "hideHardwareSpecs": false,
    "memoryGiB": 32,
    "name": "ml.g4dn.2xlarge",
    "vcpuNum": 8
   },
   {
    "_defaultOrder": 31,
    "_isFastLaunch": false,
    "category": "Accelerated computing",
    "gpuNum": 1,
    "hideHardwareSpecs": false,
    "memoryGiB": 64,
    "name": "ml.g4dn.4xlarge",
    "vcpuNum": 16
   },
   {
    "_defaultOrder": 32,
    "_isFastLaunch": false,
    "category": "Accelerated computing",
    "gpuNum": 1,
    "hideHardwareSpecs": false,
    "memoryGiB": 128,
    "name": "ml.g4dn.8xlarge",
    "vcpuNum": 32
   },
   {
    "_defaultOrder": 33,
    "_isFastLaunch": false,
    "category": "Accelerated computing",
    "gpuNum": 4,
    "hideHardwareSpecs": false,
    "memoryGiB": 192,
    "name": "ml.g4dn.12xlarge",
    "vcpuNum": 48
   },
   {
    "_defaultOrder": 34,
    "_isFastLaunch": false,
    "category": "Accelerated computing",
    "gpuNum": 1,
    "hideHardwareSpecs": false,
    "memoryGiB": 256,
    "name": "ml.g4dn.16xlarge",
    "vcpuNum": 64
   },
   {
    "_defaultOrder": 35,
    "_isFastLaunch": false,
    "category": "Accelerated computing",
    "gpuNum": 1,
    "hideHardwareSpecs": false,
    "memoryGiB": 61,
    "name": "ml.p3.2xlarge",
    "vcpuNum": 8
   },
   {
    "_defaultOrder": 36,
    "_isFastLaunch": false,
    "category": "Accelerated computing",
    "gpuNum": 4,
    "hideHardwareSpecs": false,
    "memoryGiB": 244,
    "name": "ml.p3.8xlarge",
    "vcpuNum": 32
   },
   {
    "_defaultOrder": 37,
    "_isFastLaunch": false,
    "category": "Accelerated computing",
    "gpuNum": 8,
    "hideHardwareSpecs": false,
    "memoryGiB": 488,
    "name": "ml.p3.16xlarge",
    "vcpuNum": 64
   },
   {
    "_defaultOrder": 38,
    "_isFastLaunch": false,
    "category": "Accelerated computing",
    "gpuNum": 8,
    "hideHardwareSpecs": false,
    "memoryGiB": 768,
    "name": "ml.p3dn.24xlarge",
    "vcpuNum": 96
   },
   {
    "_defaultOrder": 39,
    "_isFastLaunch": false,
    "category": "Memory Optimized",
    "gpuNum": 0,
    "hideHardwareSpecs": false,
    "memoryGiB": 16,
    "name": "ml.r5.large",
    "vcpuNum": 2
   },
   {
    "_defaultOrder": 40,
    "_isFastLaunch": false,
    "category": "Memory Optimized",
    "gpuNum": 0,
    "hideHardwareSpecs": false,
    "memoryGiB": 32,
    "name": "ml.r5.xlarge",
    "vcpuNum": 4
   },
   {
    "_defaultOrder": 41,
    "_isFastLaunch": false,
    "category": "Memory Optimized",
    "gpuNum": 0,
    "hideHardwareSpecs": false,
    "memoryGiB": 64,
    "name": "ml.r5.2xlarge",
    "vcpuNum": 8
   },
   {
    "_defaultOrder": 42,
    "_isFastLaunch": false,
    "category": "Memory Optimized",
    "gpuNum": 0,
    "hideHardwareSpecs": false,
    "memoryGiB": 128,
    "name": "ml.r5.4xlarge",
    "vcpuNum": 16
   },
   {
    "_defaultOrder": 43,
    "_isFastLaunch": false,
    "category": "Memory Optimized",
    "gpuNum": 0,
    "hideHardwareSpecs": false,
    "memoryGiB": 256,
    "name": "ml.r5.8xlarge",
    "vcpuNum": 32
   },
   {
    "_defaultOrder": 44,
    "_isFastLaunch": false,
    "category": "Memory Optimized",
    "gpuNum": 0,
    "hideHardwareSpecs": false,
    "memoryGiB": 384,
    "name": "ml.r5.12xlarge",
    "vcpuNum": 48
   },
   {
    "_defaultOrder": 45,
    "_isFastLaunch": false,
    "category": "Memory Optimized",
    "gpuNum": 0,
    "hideHardwareSpecs": false,
    "memoryGiB": 512,
    "name": "ml.r5.16xlarge",
    "vcpuNum": 64
   },
   {
    "_defaultOrder": 46,
    "_isFastLaunch": false,
    "category": "Memory Optimized",
    "gpuNum": 0,
    "hideHardwareSpecs": false,
    "memoryGiB": 768,
    "name": "ml.r5.24xlarge",
    "vcpuNum": 96
   },
   {
    "_defaultOrder": 47,
    "_isFastLaunch": false,
    "category": "Accelerated computing",
    "gpuNum": 1,
    "hideHardwareSpecs": false,
    "memoryGiB": 16,
    "name": "ml.g5.xlarge",
    "vcpuNum": 4
   },
   {
    "_defaultOrder": 48,
    "_isFastLaunch": false,
    "category": "Accelerated computing",
    "gpuNum": 1,
    "hideHardwareSpecs": false,
    "memoryGiB": 32,
    "name": "ml.g5.2xlarge",
    "vcpuNum": 8
   },
   {
    "_defaultOrder": 49,
    "_isFastLaunch": false,
    "category": "Accelerated computing",
    "gpuNum": 1,
    "hideHardwareSpecs": false,
    "memoryGiB": 64,
    "name": "ml.g5.4xlarge",
    "vcpuNum": 16
   },
   {
    "_defaultOrder": 50,
    "_isFastLaunch": false,
    "category": "Accelerated computing",
    "gpuNum": 1,
    "hideHardwareSpecs": false,
    "memoryGiB": 128,
    "name": "ml.g5.8xlarge",
    "vcpuNum": 32
   },
   {
    "_defaultOrder": 51,
    "_isFastLaunch": false,
    "category": "Accelerated computing",
    "gpuNum": 1,
    "hideHardwareSpecs": false,
    "memoryGiB": 256,
    "name": "ml.g5.16xlarge",
    "vcpuNum": 64
   },
   {
    "_defaultOrder": 52,
    "_isFastLaunch": false,
    "category": "Accelerated computing",
    "gpuNum": 4,
    "hideHardwareSpecs": false,
    "memoryGiB": 192,
    "name": "ml.g5.12xlarge",
    "vcpuNum": 48
   },
   {
    "_defaultOrder": 53,
    "_isFastLaunch": false,
    "category": "Accelerated computing",
    "gpuNum": 4,
    "hideHardwareSpecs": false,
    "memoryGiB": 384,
    "name": "ml.g5.24xlarge",
    "vcpuNum": 96
   },
   {
    "_defaultOrder": 54,
    "_isFastLaunch": false,
    "category": "Accelerated computing",
    "gpuNum": 8,
    "hideHardwareSpecs": false,
    "memoryGiB": 768,
    "name": "ml.g5.48xlarge",
    "vcpuNum": 192
   },
   {
    "_defaultOrder": 55,
    "_isFastLaunch": false,
    "category": "Accelerated computing",
    "gpuNum": 8,
    "hideHardwareSpecs": false,
    "memoryGiB": 1152,
    "name": "ml.p4d.24xlarge",
    "vcpuNum": 96
   },
   {
    "_defaultOrder": 56,
    "_isFastLaunch": false,
    "category": "Accelerated computing",
    "gpuNum": 8,
    "hideHardwareSpecs": false,
    "memoryGiB": 1152,
    "name": "ml.p4de.24xlarge",
    "vcpuNum": 96
   },
   {
    "_defaultOrder": 57,
    "_isFastLaunch": false,
    "category": "Accelerated computing",
    "gpuNum": 0,
    "hideHardwareSpecs": false,
    "memoryGiB": 32,
    "name": "ml.trn1.2xlarge",
    "vcpuNum": 8
   },
   {
    "_defaultOrder": 58,
    "_isFastLaunch": false,
    "category": "Accelerated computing",
    "gpuNum": 0,
    "hideHardwareSpecs": false,
    "memoryGiB": 512,
    "name": "ml.trn1.32xlarge",
    "vcpuNum": 128
   },
   {
    "_defaultOrder": 59,
    "_isFastLaunch": false,
    "category": "Accelerated computing",
    "gpuNum": 0,
    "hideHardwareSpecs": false,
    "memoryGiB": 512,
    "name": "ml.trn1n.32xlarge",
    "vcpuNum": 128
   }
  ],
  "instance_type": "ml.t3.medium",
  "kernelspec": {
   "display_name": "Python 3 (Data Science 3.0)",
   "language": "python",
   "name": "python3__SAGEMAKER_INTERNAL__arn:aws:sagemaker:us-west-2:236514542706:image/sagemaker-data-science-310-v1"
  },
  "language_info": {
   "codemirror_mode": {
    "name": "ipython",
    "version": 3
   },
   "file_extension": ".py",
   "mimetype": "text/x-python",
   "name": "python",
   "nbconvert_exporter": "python",
   "pygments_lexer": "ipython3",
   "version": "3.10.6"
  }
 },
 "nbformat": 4,
 "nbformat_minor": 5
}
