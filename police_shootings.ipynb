{
 "cells": [
  {
   "cell_type": "code",
   "execution_count": 26,
   "metadata": {},
   "outputs": [],
   "source": [
    "import os\n",
    "import pandas as pd\n",
    "import numpy as np\n",
    "import re"
   ]
  },
  {
   "cell_type": "code",
   "execution_count": 3,
   "metadata": {},
   "outputs": [],
   "source": [
    "police_shootings = pd.read_csv('data/U.S. Police Shootings Data (Responses) - Responses.csv')"
   ]
  },
  {
   "cell_type": "code",
   "execution_count": 5,
   "metadata": {},
   "outputs": [
    {
     "data": {
      "text/html": [
       "<div>\n",
       "<style scoped>\n",
       "    .dataframe tbody tr th:only-of-type {\n",
       "        vertical-align: middle;\n",
       "    }\n",
       "\n",
       "    .dataframe tbody tr th {\n",
       "        vertical-align: top;\n",
       "    }\n",
       "\n",
       "    .dataframe thead th {\n",
       "        text-align: right;\n",
       "    }\n",
       "</style>\n",
       "<table border=\"1\" class=\"dataframe\">\n",
       "  <thead>\n",
       "    <tr style=\"text-align: right;\">\n",
       "      <th></th>\n",
       "      <th>Timestamp</th>\n",
       "      <th>Date Searched</th>\n",
       "      <th>State</th>\n",
       "      <th>County</th>\n",
       "      <th>City</th>\n",
       "      <th>Agency Name</th>\n",
       "      <th>Victim Name</th>\n",
       "      <th>Victim's Age</th>\n",
       "      <th>Victim's Gender</th>\n",
       "      <th>Race</th>\n",
       "      <th>...</th>\n",
       "      <th>Name of Officer or Officers</th>\n",
       "      <th>Shootings</th>\n",
       "      <th>Was the Shooting Justified?</th>\n",
       "      <th>Receive Updates?</th>\n",
       "      <th>Name</th>\n",
       "      <th>Email Address</th>\n",
       "      <th>Twitter</th>\n",
       "      <th>Date of Incident</th>\n",
       "      <th>Results Page Number</th>\n",
       "      <th>Unnamed: 26</th>\n",
       "    </tr>\n",
       "  </thead>\n",
       "  <tbody>\n",
       "    <tr>\n",
       "      <th>0</th>\n",
       "      <td>8/20/2014 12:06:49</td>\n",
       "      <td>10/15/1986</td>\n",
       "      <td>AZ - Arizona</td>\n",
       "      <td>maricopa</td>\n",
       "      <td>Phoenix</td>\n",
       "      <td>phoenix police</td>\n",
       "      <td>David Valenzuela</td>\n",
       "      <td>24.0</td>\n",
       "      <td>Male</td>\n",
       "      <td>NaN</td>\n",
       "      <td>...</td>\n",
       "      <td>NaN</td>\n",
       "      <td>NaN</td>\n",
       "      <td>NaN</td>\n",
       "      <td>NaN</td>\n",
       "      <td>NaN</td>\n",
       "      <td>NaN</td>\n",
       "      <td>NaN</td>\n",
       "      <td>NaN</td>\n",
       "      <td>NaN</td>\n",
       "      <td>NaN</td>\n",
       "    </tr>\n",
       "    <tr>\n",
       "      <th>1</th>\n",
       "      <td>8/20/2014 12:09:29</td>\n",
       "      <td>10/15/1986</td>\n",
       "      <td>TX - Texas</td>\n",
       "      <td>Guadalupe</td>\n",
       "      <td>cibolo</td>\n",
       "      <td>cibolo police department</td>\n",
       "      <td>Kennen Marksbury</td>\n",
       "      <td>41.0</td>\n",
       "      <td>Male</td>\n",
       "      <td>White</td>\n",
       "      <td>...</td>\n",
       "      <td>NaN</td>\n",
       "      <td>NaN</td>\n",
       "      <td>NaN</td>\n",
       "      <td>NaN</td>\n",
       "      <td>NaN</td>\n",
       "      <td>NaN</td>\n",
       "      <td>NaN</td>\n",
       "      <td>NaN</td>\n",
       "      <td>NaN</td>\n",
       "      <td>NaN</td>\n",
       "    </tr>\n",
       "    <tr>\n",
       "      <th>2</th>\n",
       "      <td>8/20/2014 12:11:57</td>\n",
       "      <td>10/15/1986</td>\n",
       "      <td>NJ - New Jersey</td>\n",
       "      <td>morris</td>\n",
       "      <td>Mountain lakes</td>\n",
       "      <td>Mountain Lakes PD</td>\n",
       "      <td>Leonardo Parera</td>\n",
       "      <td>39.0</td>\n",
       "      <td>Male</td>\n",
       "      <td>White</td>\n",
       "      <td>...</td>\n",
       "      <td>NaN</td>\n",
       "      <td>NaN</td>\n",
       "      <td>NaN</td>\n",
       "      <td>NaN</td>\n",
       "      <td>NaN</td>\n",
       "      <td>NaN</td>\n",
       "      <td>NaN</td>\n",
       "      <td>NaN</td>\n",
       "      <td>NaN</td>\n",
       "      <td>NaN</td>\n",
       "    </tr>\n",
       "    <tr>\n",
       "      <th>3</th>\n",
       "      <td>8/20/2014 13:06:16</td>\n",
       "      <td>7/15/1995</td>\n",
       "      <td>TX - Texas</td>\n",
       "      <td>Harris</td>\n",
       "      <td>Houston</td>\n",
       "      <td>Bellaire Police Department</td>\n",
       "      <td>Travis O'Neill Allen</td>\n",
       "      <td>15.0</td>\n",
       "      <td>Male</td>\n",
       "      <td>White</td>\n",
       "      <td>...</td>\n",
       "      <td>Michael Leal</td>\n",
       "      <td>NaN</td>\n",
       "      <td>NaN</td>\n",
       "      <td>NaN</td>\n",
       "      <td>NaN</td>\n",
       "      <td>NaN</td>\n",
       "      <td>NaN</td>\n",
       "      <td>NaN</td>\n",
       "      <td>NaN</td>\n",
       "      <td>NaN</td>\n",
       "    </tr>\n",
       "    <tr>\n",
       "      <th>4</th>\n",
       "      <td>8/20/2014 13:30:17</td>\n",
       "      <td>9/27/2003</td>\n",
       "      <td>OH - Ohio</td>\n",
       "      <td>Preble</td>\n",
       "      <td>West Alexandria</td>\n",
       "      <td>Preble County Emergency Services Unit</td>\n",
       "      <td>Clayton Helriggle</td>\n",
       "      <td>23.0</td>\n",
       "      <td>Male</td>\n",
       "      <td>White</td>\n",
       "      <td>...</td>\n",
       "      <td>Unknown</td>\n",
       "      <td>NaN</td>\n",
       "      <td>NaN</td>\n",
       "      <td>NaN</td>\n",
       "      <td>NaN</td>\n",
       "      <td>NaN</td>\n",
       "      <td>NaN</td>\n",
       "      <td>NaN</td>\n",
       "      <td>NaN</td>\n",
       "      <td>NaN</td>\n",
       "    </tr>\n",
       "  </tbody>\n",
       "</table>\n",
       "<p>5 rows × 27 columns</p>\n",
       "</div>"
      ],
      "text/plain": [
       "            Timestamp Date Searched            State     County  \\\n",
       "0  8/20/2014 12:06:49    10/15/1986     AZ - Arizona   maricopa   \n",
       "1  8/20/2014 12:09:29    10/15/1986       TX - Texas  Guadalupe   \n",
       "2  8/20/2014 12:11:57    10/15/1986  NJ - New Jersey     morris   \n",
       "3  8/20/2014 13:06:16     7/15/1995       TX - Texas     Harris   \n",
       "4  8/20/2014 13:30:17     9/27/2003        OH - Ohio     Preble   \n",
       "\n",
       "              City                            Agency Name  \\\n",
       "0          Phoenix                         phoenix police   \n",
       "1           cibolo               cibolo police department   \n",
       "2   Mountain lakes                      Mountain Lakes PD   \n",
       "3          Houston             Bellaire Police Department   \n",
       "4  West Alexandria  Preble County Emergency Services Unit   \n",
       "\n",
       "            Victim Name  Victim's Age Victim's Gender   Race  ...  \\\n",
       "0      David Valenzuela          24.0            Male    NaN  ...   \n",
       "1      Kennen Marksbury          41.0            Male  White  ...   \n",
       "2       Leonardo Parera          39.0            Male  White  ...   \n",
       "3  Travis O'Neill Allen          15.0            Male  White  ...   \n",
       "4     Clayton Helriggle          23.0            Male  White  ...   \n",
       "\n",
       "  Name of Officer or Officers  Shootings Was the Shooting Justified?  \\\n",
       "0                         NaN        NaN                         NaN   \n",
       "1                         NaN        NaN                         NaN   \n",
       "2                         NaN        NaN                         NaN   \n",
       "3                Michael Leal        NaN                         NaN   \n",
       "4                     Unknown        NaN                         NaN   \n",
       "\n",
       "  Receive Updates? Name Email Address Twitter Date of Incident  \\\n",
       "0              NaN  NaN           NaN     NaN              NaN   \n",
       "1              NaN  NaN           NaN     NaN              NaN   \n",
       "2              NaN  NaN           NaN     NaN              NaN   \n",
       "3              NaN  NaN           NaN     NaN              NaN   \n",
       "4              NaN  NaN           NaN     NaN              NaN   \n",
       "\n",
       "  Results Page Number  Unnamed: 26  \n",
       "0                 NaN          NaN  \n",
       "1                 NaN          NaN  \n",
       "2                 NaN          NaN  \n",
       "3                 NaN          NaN  \n",
       "4                 NaN          NaN  \n",
       "\n",
       "[5 rows x 27 columns]"
      ]
     },
     "execution_count": 5,
     "metadata": {},
     "output_type": "execute_result"
    }
   ],
   "source": [
    "police_shootings.head()"
   ]
  },
  {
   "cell_type": "code",
   "execution_count": 4,
   "metadata": {},
   "outputs": [],
   "source": [
    "police_shootings['datetime'] = pd.to_datetime(police_shootings['Timestamp'])"
   ]
  },
  {
   "cell_type": "code",
   "execution_count": 5,
   "metadata": {},
   "outputs": [],
   "source": [
    "police_shootings['year'] = police_shootings['datetime'].apply(lambda x: x.year)"
   ]
  },
  {
   "cell_type": "code",
   "execution_count": 6,
   "metadata": {},
   "outputs": [],
   "source": [
    "police_shootings_2014 = police_shootings[police_shootings.year == 2014]"
   ]
  },
  {
   "cell_type": "code",
   "execution_count": 34,
   "metadata": {},
   "outputs": [
    {
     "data": {
      "text/html": [
       "<div>\n",
       "<style scoped>\n",
       "    .dataframe tbody tr th:only-of-type {\n",
       "        vertical-align: middle;\n",
       "    }\n",
       "\n",
       "    .dataframe tbody tr th {\n",
       "        vertical-align: top;\n",
       "    }\n",
       "\n",
       "    .dataframe thead th {\n",
       "        text-align: right;\n",
       "    }\n",
       "</style>\n",
       "<table border=\"1\" class=\"dataframe\">\n",
       "  <thead>\n",
       "    <tr style=\"text-align: right;\">\n",
       "      <th></th>\n",
       "      <th>Timestamp</th>\n",
       "      <th>Date Searched</th>\n",
       "      <th>State</th>\n",
       "      <th>County</th>\n",
       "      <th>City</th>\n",
       "      <th>Agency Name</th>\n",
       "      <th>Victim Name</th>\n",
       "      <th>Victim's Age</th>\n",
       "      <th>Victim's Gender</th>\n",
       "      <th>Race</th>\n",
       "      <th>...</th>\n",
       "      <th>Was the Shooting Justified?</th>\n",
       "      <th>Receive Updates?</th>\n",
       "      <th>Name</th>\n",
       "      <th>Email Address</th>\n",
       "      <th>Twitter</th>\n",
       "      <th>Date of Incident</th>\n",
       "      <th>Results Page Number</th>\n",
       "      <th>Unnamed: 26</th>\n",
       "      <th>datetime</th>\n",
       "      <th>year</th>\n",
       "    </tr>\n",
       "  </thead>\n",
       "  <tbody>\n",
       "    <tr>\n",
       "      <th>0</th>\n",
       "      <td>8/20/2014 12:06:49</td>\n",
       "      <td>10/15/1986</td>\n",
       "      <td>AZ - Arizona</td>\n",
       "      <td>maricopa</td>\n",
       "      <td>Phoenix</td>\n",
       "      <td>phoenix police</td>\n",
       "      <td>David Valenzuela</td>\n",
       "      <td>24.0</td>\n",
       "      <td>Male</td>\n",
       "      <td>NaN</td>\n",
       "      <td>...</td>\n",
       "      <td>NaN</td>\n",
       "      <td>NaN</td>\n",
       "      <td>NaN</td>\n",
       "      <td>NaN</td>\n",
       "      <td>NaN</td>\n",
       "      <td>NaN</td>\n",
       "      <td>NaN</td>\n",
       "      <td>NaN</td>\n",
       "      <td>2014-08-20 12:06:49</td>\n",
       "      <td>2014</td>\n",
       "    </tr>\n",
       "    <tr>\n",
       "      <th>1</th>\n",
       "      <td>8/20/2014 12:09:29</td>\n",
       "      <td>10/15/1986</td>\n",
       "      <td>TX - Texas</td>\n",
       "      <td>Guadalupe</td>\n",
       "      <td>cibolo</td>\n",
       "      <td>cibolo police department</td>\n",
       "      <td>Kennen Marksbury</td>\n",
       "      <td>41.0</td>\n",
       "      <td>Male</td>\n",
       "      <td>White</td>\n",
       "      <td>...</td>\n",
       "      <td>NaN</td>\n",
       "      <td>NaN</td>\n",
       "      <td>NaN</td>\n",
       "      <td>NaN</td>\n",
       "      <td>NaN</td>\n",
       "      <td>NaN</td>\n",
       "      <td>NaN</td>\n",
       "      <td>NaN</td>\n",
       "      <td>2014-08-20 12:09:29</td>\n",
       "      <td>2014</td>\n",
       "    </tr>\n",
       "    <tr>\n",
       "      <th>2</th>\n",
       "      <td>8/20/2014 12:11:57</td>\n",
       "      <td>10/15/1986</td>\n",
       "      <td>NJ - New Jersey</td>\n",
       "      <td>morris</td>\n",
       "      <td>Mountain lakes</td>\n",
       "      <td>Mountain Lakes PD</td>\n",
       "      <td>Leonardo Parera</td>\n",
       "      <td>39.0</td>\n",
       "      <td>Male</td>\n",
       "      <td>White</td>\n",
       "      <td>...</td>\n",
       "      <td>NaN</td>\n",
       "      <td>NaN</td>\n",
       "      <td>NaN</td>\n",
       "      <td>NaN</td>\n",
       "      <td>NaN</td>\n",
       "      <td>NaN</td>\n",
       "      <td>NaN</td>\n",
       "      <td>NaN</td>\n",
       "      <td>2014-08-20 12:11:57</td>\n",
       "      <td>2014</td>\n",
       "    </tr>\n",
       "    <tr>\n",
       "      <th>3</th>\n",
       "      <td>8/20/2014 13:06:16</td>\n",
       "      <td>7/15/1995</td>\n",
       "      <td>TX - Texas</td>\n",
       "      <td>Harris</td>\n",
       "      <td>Houston</td>\n",
       "      <td>Bellaire Police Department</td>\n",
       "      <td>Travis O'Neill Allen</td>\n",
       "      <td>15.0</td>\n",
       "      <td>Male</td>\n",
       "      <td>White</td>\n",
       "      <td>...</td>\n",
       "      <td>NaN</td>\n",
       "      <td>NaN</td>\n",
       "      <td>NaN</td>\n",
       "      <td>NaN</td>\n",
       "      <td>NaN</td>\n",
       "      <td>NaN</td>\n",
       "      <td>NaN</td>\n",
       "      <td>NaN</td>\n",
       "      <td>2014-08-20 13:06:16</td>\n",
       "      <td>2014</td>\n",
       "    </tr>\n",
       "    <tr>\n",
       "      <th>4</th>\n",
       "      <td>8/20/2014 13:30:17</td>\n",
       "      <td>9/27/2003</td>\n",
       "      <td>OH - Ohio</td>\n",
       "      <td>Preble</td>\n",
       "      <td>West Alexandria</td>\n",
       "      <td>Preble County Emergency Services Unit</td>\n",
       "      <td>Clayton Helriggle</td>\n",
       "      <td>23.0</td>\n",
       "      <td>Male</td>\n",
       "      <td>White</td>\n",
       "      <td>...</td>\n",
       "      <td>NaN</td>\n",
       "      <td>NaN</td>\n",
       "      <td>NaN</td>\n",
       "      <td>NaN</td>\n",
       "      <td>NaN</td>\n",
       "      <td>NaN</td>\n",
       "      <td>NaN</td>\n",
       "      <td>NaN</td>\n",
       "      <td>2014-08-20 13:30:17</td>\n",
       "      <td>2014</td>\n",
       "    </tr>\n",
       "  </tbody>\n",
       "</table>\n",
       "<p>5 rows × 29 columns</p>\n",
       "</div>"
      ],
      "text/plain": [
       "            Timestamp Date Searched            State     County  \\\n",
       "0  8/20/2014 12:06:49    10/15/1986     AZ - Arizona   maricopa   \n",
       "1  8/20/2014 12:09:29    10/15/1986       TX - Texas  Guadalupe   \n",
       "2  8/20/2014 12:11:57    10/15/1986  NJ - New Jersey     morris   \n",
       "3  8/20/2014 13:06:16     7/15/1995       TX - Texas     Harris   \n",
       "4  8/20/2014 13:30:17     9/27/2003        OH - Ohio     Preble   \n",
       "\n",
       "              City                            Agency Name  \\\n",
       "0          Phoenix                         phoenix police   \n",
       "1           cibolo               cibolo police department   \n",
       "2   Mountain lakes                      Mountain Lakes PD   \n",
       "3          Houston             Bellaire Police Department   \n",
       "4  West Alexandria  Preble County Emergency Services Unit   \n",
       "\n",
       "            Victim Name  Victim's Age Victim's Gender   Race  ...  \\\n",
       "0      David Valenzuela          24.0            Male    NaN  ...   \n",
       "1      Kennen Marksbury          41.0            Male  White  ...   \n",
       "2       Leonardo Parera          39.0            Male  White  ...   \n",
       "3  Travis O'Neill Allen          15.0            Male  White  ...   \n",
       "4     Clayton Helriggle          23.0            Male  White  ...   \n",
       "\n",
       "  Was the Shooting Justified?  Receive Updates? Name Email Address Twitter  \\\n",
       "0                         NaN               NaN  NaN           NaN     NaN   \n",
       "1                         NaN               NaN  NaN           NaN     NaN   \n",
       "2                         NaN               NaN  NaN           NaN     NaN   \n",
       "3                         NaN               NaN  NaN           NaN     NaN   \n",
       "4                         NaN               NaN  NaN           NaN     NaN   \n",
       "\n",
       "  Date of Incident Results Page Number Unnamed: 26            datetime  year  \n",
       "0              NaN                 NaN         NaN 2014-08-20 12:06:49  2014  \n",
       "1              NaN                 NaN         NaN 2014-08-20 12:09:29  2014  \n",
       "2              NaN                 NaN         NaN 2014-08-20 12:11:57  2014  \n",
       "3              NaN                 NaN         NaN 2014-08-20 13:06:16  2014  \n",
       "4              NaN                 NaN         NaN 2014-08-20 13:30:17  2014  \n",
       "\n",
       "[5 rows x 29 columns]"
      ]
     },
     "execution_count": 34,
     "metadata": {},
     "output_type": "execute_result"
    }
   ],
   "source": [
    "police_shootings_2014.head()"
   ]
  },
  {
   "cell_type": "code",
   "execution_count": 17,
   "metadata": {},
   "outputs": [
    {
     "data": {
      "text/plain": [
       "Index(['Timestamp', 'Date Searched', 'State', 'County', 'City', 'Agency Name',\n",
       "       'Victim Name', 'Victim's Age', 'Victim's Gender', 'Race',\n",
       "       'Hispanic or Latino Origin', 'Shots Fired', 'Hit or Killed?',\n",
       "       'Armed or Unarmed?', 'Weapon', 'Summary', 'Source Link',\n",
       "       'Name of Officer or Officers', 'Shootings',\n",
       "       'Was the Shooting Justified?', 'Receive Updates?', 'Name',\n",
       "       'Email Address', 'Twitter', 'Date of Incident', 'Results Page Number',\n",
       "       'Unnamed: 26'],\n",
       "      dtype='object')"
      ]
     },
     "execution_count": 17,
     "metadata": {},
     "output_type": "execute_result"
    }
   ],
   "source": [
    "police_shootings.columns"
   ]
  },
  {
   "cell_type": "code",
   "execution_count": 36,
   "metadata": {},
   "outputs": [
    {
     "data": {
      "text/plain": [
       "3.003021148036254"
      ]
     },
     "execution_count": 36,
     "metadata": {},
     "output_type": "execute_result"
    }
   ],
   "source": [
    "police_shootings_2014[police_shootings_2014.Race == 'White']['Was the Shooting Justified?'].mean()"
   ]
  },
  {
   "cell_type": "code",
   "execution_count": 12,
   "metadata": {},
   "outputs": [
    {
     "data": {
      "text/plain": [
       "array([nan, 'White', 'Unknown', 'Black or African American', 'Asian',\n",
       "       'American Indian or Alaska Native',\n",
       "       'Native Hawaiian or Other Pacific Islander'], dtype=object)"
      ]
     },
     "execution_count": 12,
     "metadata": {},
     "output_type": "execute_result"
    }
   ],
   "source": [
    "police_shootings.Race.unique()"
   ]
  },
  {
   "cell_type": "code",
   "execution_count": 18,
   "metadata": {},
   "outputs": [
    {
     "data": {
      "text/plain": [
       "array([nan, 'Not of Hispanic or Latino origin', 'Unknown',\n",
       "       'Hispanic or Latino origin'], dtype=object)"
      ]
     },
     "execution_count": 18,
     "metadata": {},
     "output_type": "execute_result"
    }
   ],
   "source": [
    "police_shootings['Hispanic or Latino Origin'].unique()"
   ]
  },
  {
   "cell_type": "code",
   "execution_count": 37,
   "metadata": {},
   "outputs": [
    {
     "data": {
      "text/plain": [
       "2.7169811320754715"
      ]
     },
     "execution_count": 37,
     "metadata": {},
     "output_type": "execute_result"
    }
   ],
   "source": [
    "police_shootings_2014[police_shootings_2014.Race == 'Black or African American']['Was the Shooting Justified?'].mean()"
   ]
  },
  {
   "cell_type": "code",
   "execution_count": 38,
   "metadata": {},
   "outputs": [
    {
     "data": {
      "text/plain": [
       "2.9342105263157894"
      ]
     },
     "execution_count": 38,
     "metadata": {},
     "output_type": "execute_result"
    }
   ],
   "source": [
    "police_shootings_2014[police_shootings_2014['Hispanic or Latino Origin'] == 'Hispanic or Latino origin']['Was the Shooting Justified?'].mean()"
   ]
  },
  {
   "cell_type": "code",
   "execution_count": 44,
   "metadata": {},
   "outputs": [],
   "source": [
    "df = police_shootings_2014"
   ]
  },
  {
   "cell_type": "code",
   "execution_count": 61,
   "metadata": {},
   "outputs": [],
   "source": [
    "def black_to_white_ratio(df):\n",
    "    white = df[df.Race == 'White']\n",
    "    black = df[df.Race == 'Black or African American']\n",
    "    white_unjustified_ratio = (white['Was the Shooting Justified?']<3).sum()/white['Was the Shooting Justified?'].count()\n",
    "    black_unjustified_ratio = (black['Was the Shooting Justified?']<3).sum()/black['Was the Shooting Justified?'].count()\n",
    "    return black_unjustified_ratio/white_unjustified_ratio-1"
   ]
  },
  {
   "cell_type": "code",
   "execution_count": 54,
   "metadata": {},
   "outputs": [
    {
     "data": {
      "text/plain": [
       "134"
      ]
     },
     "execution_count": 54,
     "metadata": {},
     "output_type": "execute_result"
    }
   ],
   "source": [
    "(white['Was the Shooting Justified?']<3).sum()"
   ]
  },
  {
   "cell_type": "code",
   "execution_count": 52,
   "metadata": {},
   "outputs": [
    {
     "data": {
      "text/plain": [
       "498"
      ]
     },
     "execution_count": 52,
     "metadata": {},
     "output_type": "execute_result"
    }
   ],
   "source": [
    "len(white)"
   ]
  },
  {
   "cell_type": "code",
   "execution_count": 53,
   "metadata": {},
   "outputs": [
    {
     "data": {
      "text/plain": [
       "95"
      ]
     },
     "execution_count": 53,
     "metadata": {},
     "output_type": "execute_result"
    }
   ],
   "source": [
    "(black['Was the Shooting Justified?']<3).sum()"
   ]
  },
  {
   "cell_type": "code",
   "execution_count": 51,
   "metadata": {},
   "outputs": [
    {
     "data": {
      "text/plain": [
       "341"
      ]
     },
     "execution_count": 51,
     "metadata": {},
     "output_type": "execute_result"
    }
   ],
   "source": [
    "len(black)"
   ]
  },
  {
   "cell_type": "code",
   "execution_count": 56,
   "metadata": {},
   "outputs": [
    {
     "data": {
      "text/plain": [
       "0.40483383685800606"
      ]
     },
     "execution_count": 56,
     "metadata": {},
     "output_type": "execute_result"
    }
   ],
   "source": [
    "white_unjustified_ratio"
   ]
  },
  {
   "cell_type": "code",
   "execution_count": 57,
   "metadata": {},
   "outputs": [
    {
     "data": {
      "text/plain": [
       "0.4481132075471698"
      ]
     },
     "execution_count": 57,
     "metadata": {},
     "output_type": "execute_result"
    }
   ],
   "source": [
    "black_unjustified_ratio"
   ]
  },
  {
   "cell_type": "code",
   "execution_count": 59,
   "metadata": {},
   "outputs": [
    {
     "data": {
      "text/plain": [
       "0.10690650520979994"
      ]
     },
     "execution_count": 59,
     "metadata": {},
     "output_type": "execute_result"
    }
   ],
   "source": [
    "black_unjustified_ratio/white_unjustified_ratio-1"
   ]
  },
  {
   "cell_type": "code",
   "execution_count": 63,
   "metadata": {},
   "outputs": [
    {
     "name": "stderr",
     "output_type": "stream",
     "text": [
      "/Users/jvalansi/.venv/notebooks/lib/python3.7/site-packages/ipykernel_launcher.py:4: RuntimeWarning: invalid value encountered in long_scalars\n",
      "  after removing the cwd from sys.path.\n",
      "/Users/jvalansi/.venv/notebooks/lib/python3.7/site-packages/ipykernel_launcher.py:5: RuntimeWarning: invalid value encountered in long_scalars\n",
      "  \"\"\"\n",
      "/Users/jvalansi/.venv/notebooks/lib/python3.7/site-packages/ipykernel_launcher.py:6: RuntimeWarning: invalid value encountered in double_scalars\n",
      "  \n",
      "/Users/jvalansi/.venv/notebooks/lib/python3.7/site-packages/ipykernel_launcher.py:6: RuntimeWarning: divide by zero encountered in double_scalars\n",
      "  \n"
     ]
    }
   ],
   "source": [
    "black_to_white_df = police_shootings_2014.groupby('County').apply(black_to_white_ratio)"
   ]
  },
  {
   "cell_type": "code",
   "execution_count": 64,
   "metadata": {},
   "outputs": [
    {
     "data": {
      "text/plain": [
       "County\n",
       "Alameda          0.000000\n",
       "Baltimore             inf\n",
       "Broward         -1.000000\n",
       "Clark           -1.000000\n",
       "Cobb            -1.000000\n",
       "Contra Costa          inf\n",
       "Cook                  inf\n",
       "Dade            -0.333333\n",
       "Franklin        -1.000000\n",
       "Gregg           -1.000000\n",
       "Hamilton              inf\n",
       "Harris          -0.428571\n",
       "Hennepin        -1.000000\n",
       "Henry                 inf\n",
       "Los Angeles      0.500000\n",
       "Maimi-Dade       0.000000\n",
       "Miami-Dade            inf\n",
       "Middlesex             inf\n",
       "Orange           0.333333\n",
       "Orange County   -1.000000\n",
       "Passaic         -1.000000\n",
       "Riverside        0.250000\n",
       "Solano                inf\n",
       "Spokane               inf\n",
       "St. Louis        0.000000\n",
       "Travis           0.000000\n",
       "Union                 inf\n",
       "Wayne           -0.500000\n",
       "York            -1.000000\n",
       "dtype: float64"
      ]
     },
     "execution_count": 64,
     "metadata": {},
     "output_type": "execute_result"
    }
   ],
   "source": [
    "black_to_white_df.dropna()"
   ]
  },
  {
   "cell_type": "code",
   "execution_count": 65,
   "metadata": {},
   "outputs": [
    {
     "data": {
      "text/plain": [
       "0.10690650520979994"
      ]
     },
     "execution_count": 65,
     "metadata": {},
     "output_type": "execute_result"
    }
   ],
   "source": [
    "black_to_white_ratio(df)"
   ]
  },
  {
   "cell_type": "code",
   "execution_count": 7,
   "metadata": {},
   "outputs": [],
   "source": [
    "income = pd.read_html('https://en.wikipedia.org/wiki/List_of_United_States_counties_by_per_capita_income')"
   ]
  },
  {
   "cell_type": "code",
   "execution_count": 11,
   "metadata": {},
   "outputs": [],
   "source": [
    "income_df = income[2]"
   ]
  },
  {
   "cell_type": "code",
   "execution_count": 12,
   "metadata": {},
   "outputs": [
    {
     "data": {
      "text/html": [
       "<div>\n",
       "<style scoped>\n",
       "    .dataframe tbody tr th:only-of-type {\n",
       "        vertical-align: middle;\n",
       "    }\n",
       "\n",
       "    .dataframe tbody tr th {\n",
       "        vertical-align: top;\n",
       "    }\n",
       "\n",
       "    .dataframe thead th {\n",
       "        text-align: right;\n",
       "    }\n",
       "</style>\n",
       "<table border=\"1\" class=\"dataframe\">\n",
       "  <thead>\n",
       "    <tr style=\"text-align: right;\">\n",
       "      <th></th>\n",
       "      <th>Rank</th>\n",
       "      <th>County or county-equivalent</th>\n",
       "      <th>State, federal district or territory</th>\n",
       "      <th>Per capitaincome</th>\n",
       "      <th>Medianhouseholdincome</th>\n",
       "      <th>Medianfamilyincome</th>\n",
       "      <th>Population</th>\n",
       "      <th>Number ofhouseholds</th>\n",
       "    </tr>\n",
       "  </thead>\n",
       "  <tbody>\n",
       "    <tr>\n",
       "      <th>0</th>\n",
       "      <td>1</td>\n",
       "      <td>New York County</td>\n",
       "      <td>New York</td>\n",
       "      <td>$62,498</td>\n",
       "      <td>$69,659</td>\n",
       "      <td>$84,627</td>\n",
       "      <td>1605272.0</td>\n",
       "      <td>736192.0</td>\n",
       "    </tr>\n",
       "    <tr>\n",
       "      <th>1</th>\n",
       "      <td>2</td>\n",
       "      <td>Arlington</td>\n",
       "      <td>Virginia</td>\n",
       "      <td>$62,018</td>\n",
       "      <td>$103,208</td>\n",
       "      <td>$139,244</td>\n",
       "      <td>214861.0</td>\n",
       "      <td>94454.0</td>\n",
       "    </tr>\n",
       "    <tr>\n",
       "      <th>2</th>\n",
       "      <td>3</td>\n",
       "      <td>Falls Church City</td>\n",
       "      <td>Virginia</td>\n",
       "      <td>$59,088</td>\n",
       "      <td>$120,000</td>\n",
       "      <td>$152,857</td>\n",
       "      <td>12731.0</td>\n",
       "      <td>5020.0</td>\n",
       "    </tr>\n",
       "    <tr>\n",
       "      <th>3</th>\n",
       "      <td>4</td>\n",
       "      <td>Marin</td>\n",
       "      <td>California</td>\n",
       "      <td>$56,791</td>\n",
       "      <td>$90,839</td>\n",
       "      <td>$117,357</td>\n",
       "      <td>254643.0</td>\n",
       "      <td>102912.0</td>\n",
       "    </tr>\n",
       "    <tr>\n",
       "      <th>4</th>\n",
       "      <td>5</td>\n",
       "      <td>Alexandria City</td>\n",
       "      <td>Virginia</td>\n",
       "      <td>$54,608</td>\n",
       "      <td>$85,706</td>\n",
       "      <td>$107,511</td>\n",
       "      <td>143684.0</td>\n",
       "      <td>65369.0</td>\n",
       "    </tr>\n",
       "  </tbody>\n",
       "</table>\n",
       "</div>"
      ],
      "text/plain": [
       "  Rank County or county-equivalent State, federal district or territory  \\\n",
       "0    1             New York County                             New York   \n",
       "1    2                   Arlington                             Virginia   \n",
       "2    3           Falls Church City                             Virginia   \n",
       "3    4                       Marin                           California   \n",
       "4    5             Alexandria City                             Virginia   \n",
       "\n",
       "  Per capitaincome Medianhouseholdincome Medianfamilyincome  Population  \\\n",
       "0          $62,498               $69,659            $84,627   1605272.0   \n",
       "1          $62,018              $103,208           $139,244    214861.0   \n",
       "2          $59,088              $120,000           $152,857     12731.0   \n",
       "3          $56,791               $90,839           $117,357    254643.0   \n",
       "4          $54,608               $85,706           $107,511    143684.0   \n",
       "\n",
       "   Number ofhouseholds  \n",
       "0             736192.0  \n",
       "1              94454.0  \n",
       "2               5020.0  \n",
       "3             102912.0  \n",
       "4              65369.0  "
      ]
     },
     "execution_count": 12,
     "metadata": {},
     "output_type": "execute_result"
    }
   ],
   "source": [
    "income_df.head()"
   ]
  },
  {
   "cell_type": "code",
   "execution_count": 14,
   "metadata": {},
   "outputs": [],
   "source": [
    "income_df = income_df.set_index('County or county-equivalent')"
   ]
  },
  {
   "cell_type": "code",
   "execution_count": 15,
   "metadata": {},
   "outputs": [],
   "source": [
    "median_income = income_df['Medianhouseholdincome']"
   ]
  },
  {
   "cell_type": "code",
   "execution_count": 17,
   "metadata": {},
   "outputs": [],
   "source": [
    "police_shootings_2014 = police_shootings_2014.merge(median_income, right_index=True, left_on='County')"
   ]
  },
  {
   "cell_type": "code",
   "execution_count": 31,
   "metadata": {},
   "outputs": [
    {
     "data": {
      "text/plain": [
       "-0.0028343421835552913"
      ]
     },
     "execution_count": 31,
     "metadata": {},
     "output_type": "execute_result"
    }
   ],
   "source": [
    "police_shootings_2014['Was the Shooting Justified?'].corr(police_shootings_2014['Medianhouseholdincomenumeric'])"
   ]
  },
  {
   "cell_type": "code",
   "execution_count": 30,
   "metadata": {},
   "outputs": [],
   "source": [
    "police_shootings_2014['Medianhouseholdincomenumeric'] = pd.to_numeric(police_shootings_2014['Medianhouseholdincome'].apply(lambda x: re.sub('[\\$,]','',x) if type(x)==str else 0))"
   ]
  },
  {
   "cell_type": "code",
   "execution_count": null,
   "metadata": {},
   "outputs": [],
   "source": []
  }
 ],
 "metadata": {
  "kernelspec": {
   "display_name": "Python 3",
   "language": "python",
   "name": "python3"
  }
 },
 "nbformat": 4,
 "nbformat_minor": 4
}
