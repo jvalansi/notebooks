{
 "cells": [
  {
   "cell_type": "code",
   "execution_count": 5,
   "metadata": {},
   "outputs": [],
   "source": [
    "from fastai.vision import Path"
   ]
  },
  {
   "cell_type": "code",
   "execution_count": 12,
   "metadata": {},
   "outputs": [],
   "source": [
    "from fastai.vision import load_learner"
   ]
  },
  {
   "cell_type": "code",
   "execution_count": 13,
   "metadata": {},
   "outputs": [
    {
     "ename": "ModuleNotFoundError",
     "evalue": "No module named 'starlette'",
     "output_type": "error",
     "traceback": [
      "\u001b[0;31m---------------------------------------------------------------------------\u001b[0m",
      "\u001b[0;31mModuleNotFoundError\u001b[0m                       Traceback (most recent call last)",
      "\u001b[0;32m<ipython-input-13-7072bb094792>\u001b[0m in \u001b[0;36m<module>\u001b[0;34m\u001b[0m\n\u001b[0;32m----> 1\u001b[0;31m \u001b[0;32mfrom\u001b[0m \u001b[0mstarlette\u001b[0m\u001b[0;34m.\u001b[0m\u001b[0mapplications\u001b[0m \u001b[0;32mimport\u001b[0m \u001b[0mStarlette\u001b[0m\u001b[0;34m\u001b[0m\u001b[0m\n\u001b[0m\u001b[1;32m      2\u001b[0m \u001b[0;32mfrom\u001b[0m \u001b[0mstarlette\u001b[0m\u001b[0;34m.\u001b[0m\u001b[0mresponses\u001b[0m \u001b[0;32mimport\u001b[0m \u001b[0mHTMLResponse\u001b[0m\u001b[0;34m,\u001b[0m \u001b[0mJSONResponse\u001b[0m\u001b[0;34m\u001b[0m\u001b[0m\n\u001b[1;32m      3\u001b[0m \u001b[0;32mfrom\u001b[0m \u001b[0mstarlette\u001b[0m\u001b[0;34m.\u001b[0m\u001b[0mstaticfiles\u001b[0m \u001b[0;32mimport\u001b[0m \u001b[0mStaticFiles\u001b[0m\u001b[0;34m\u001b[0m\u001b[0m\n\u001b[1;32m      4\u001b[0m \u001b[0;32mfrom\u001b[0m \u001b[0mstarlette\u001b[0m\u001b[0;34m.\u001b[0m\u001b[0mmiddleware\u001b[0m\u001b[0;34m.\u001b[0m\u001b[0mcors\u001b[0m \u001b[0;32mimport\u001b[0m \u001b[0mCORSMiddleware\u001b[0m\u001b[0;34m\u001b[0m\u001b[0m\n\u001b[1;32m      5\u001b[0m \u001b[0;32mimport\u001b[0m \u001b[0muvicorn\u001b[0m\u001b[0;34m,\u001b[0m \u001b[0maiohttp\u001b[0m\u001b[0;34m,\u001b[0m \u001b[0masyncio\u001b[0m\u001b[0;34m\u001b[0m\u001b[0m\n",
      "\u001b[0;31mModuleNotFoundError\u001b[0m: No module named 'starlette'"
     ]
    }
   ],
   "source": [
    "from starlette.applications import Starlette\n",
    "from starlette.responses import HTMLResponse, JSONResponse\n",
    "from starlette.staticfiles import StaticFiles\n",
    "from starlette.middleware.cors import CORSMiddleware\n",
    "import uvicorn, aiohttp, asyncio\n",
    "from io import BytesIO\n",
    "\n",
    "from fastai.vision import load_learner, Path\n",
    "\n",
    "export_file_url = 'https://www.dropbox.com/s/v6cuuvddq73d1e0/export.pkl?raw=1'\n",
    "export_file_name = 'export.pkl'\n",
    "\n",
    "classes = ['black', 'grizzly', 'teddys']\n",
    "path = Path(__file__).parent\n",
    "\n",
    "app = Starlette()\n",
    "app.add_middleware(CORSMiddleware, allow_origins=['*'], allow_headers=['X-Requested-With', 'Content-Type'])\n",
    "app.mount('/static', StaticFiles(directory='app/static'))\n",
    "\n",
    "async def download_file(url, dest):\n",
    "    if dest.exists(): return\n",
    "    async with aiohttp.ClientSession() as session:\n",
    "        async with session.get(url) as response:\n",
    "            data = await response.read()\n",
    "            with open(dest, 'wb') as f: f.write(data)\n",
    "\n",
    "async def setup_learner():\n",
    "    await download_file(export_file_url, path/export_file_name)\n",
    "    try:\n",
    "        learn = load_learner(path, export_file_name)\n",
    "        return learn\n",
    "    except RuntimeError as e:\n",
    "        if len(e.args) > 0 and 'CPU-only machine' in e.args[0]:\n",
    "            print(e)\n",
    "            message = \"\\n\\nThis model was trained with an old version of fastai and will not work in a CPU environment.\\n\\nPlease update the fastai library in your training environment and export your model again.\\n\\nSee instructions for 'Returning to work' at https://course.fast.ai.\"\n",
    "            raise RuntimeError(message)\n",
    "        else:\n",
    "            raise\n",
    "\n",
    "loop = asyncio.get_event_loop()\n",
    "tasks = [asyncio.ensure_future(setup_learner())]\n",
    "learn = loop.run_until_complete(asyncio.gather(*tasks))[0]\n",
    "loop.close()\n",
    "\n",
    "@app.route('/')\n",
    "def index(request):\n",
    "    html = path/'view'/'index.html'\n",
    "    return HTMLResponse(html.open().read())\n",
    "\n",
    "@app.route('/analyze', methods=['POST'])\n",
    "async def analyze(request):\n",
    "    data = await request.form()\n",
    "    img_bytes = await (data['file'].read())\n",
    "    img = open_image(BytesIO(img_bytes))\n",
    "    prediction = learn.predict(img)[0]\n",
    "    return JSONResponse({'result': str(prediction)})\n",
    "\n",
    "if __name__ == '__main__':\n",
    "    if 'serve' in sys.argv: uvicorn.run(app=app, host='0.0.0.0', port=5042)\n"
   ]
  },
  {
   "cell_type": "code",
   "execution_count": null,
   "metadata": {
    "collapsed": true
   },
   "outputs": [],
   "source": []
  }
 ],
 "metadata": {
  "kernelspec": {
   "display_name": "Python 3",
   "language": "python",
   "name": "python3"
  },
  "language_info": {
   "codemirror_mode": {
    "name": "ipython",
    "version": 3
   },
   "file_extension": ".py",
   "mimetype": "text/x-python",
   "name": "python",
   "nbconvert_exporter": "python",
   "pygments_lexer": "ipython3",
   "version": "3.7.3"
  }
 },
 "nbformat": 4,
 "nbformat_minor": 2
}
