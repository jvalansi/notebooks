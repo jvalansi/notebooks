{
 "cells": [
  {
   "cell_type": "code",
   "execution_count": 27,
   "metadata": {},
   "outputs": [],
   "source": [
    "import boto3\n",
    "import os\n",
    "from tqdm.auto import tqdm"
   ]
  },
  {
   "cell_type": "code",
   "execution_count": 7,
   "metadata": {},
   "outputs": [],
   "source": [
    "s3 = boto3.client('s3')"
   ]
  },
  {
   "cell_type": "code",
   "execution_count": 8,
   "metadata": {},
   "outputs": [],
   "source": [
    "response = s3.list_buckets()"
   ]
  },
  {
   "cell_type": "code",
   "execution_count": 15,
   "metadata": {},
   "outputs": [
    {
     "data": {
      "text/plain": [
       "{'ResponseMetadata': {'RequestId': 'CK3ADPY6B3YMMQTX',\n",
       "  'HostId': 'rEZzzgmReQReP9FvMHuFBGL60Ct4QkKk/2R+NNsUHgULhsejC0w7z+eqyN9K3S03FThNAO3eSDM=',\n",
       "  'HTTPStatusCode': 200,\n",
       "  'HTTPHeaders': {'x-amz-id-2': 'rEZzzgmReQReP9FvMHuFBGL60Ct4QkKk/2R+NNsUHgULhsejC0w7z+eqyN9K3S03FThNAO3eSDM=',\n",
       "   'x-amz-request-id': 'CK3ADPY6B3YMMQTX',\n",
       "   'date': 'Sun, 19 Jun 2022 20:46:42 GMT',\n",
       "   'location': 'http://jvalansi-notebooks-data.s3.amazonaws.com/',\n",
       "   'server': 'AmazonS3',\n",
       "   'content-length': '0'},\n",
       "  'RetryAttempts': 0},\n",
       " 'Location': 'http://jvalansi-notebooks-data.s3.amazonaws.com/'}"
      ]
     },
     "execution_count": 15,
     "metadata": {},
     "output_type": "execute_result"
    }
   ],
   "source": [
    "s3.create_bucket(Bucket='jvalansi-notebooks-data', CreateBucketConfiguration={'LocationConstraint': 'us-west-2'})"
   ]
  },
  {
   "cell_type": "code",
   "execution_count": 28,
   "metadata": {},
   "outputs": [],
   "source": [
    "local_directory = 'data'"
   ]
  },
  {
   "cell_type": "code",
   "execution_count": 17,
   "metadata": {},
   "outputs": [],
   "source": [
    "destination = ''\n",
    "bucket = 'jvalansi-notebooks-data'"
   ]
  },
  {
   "cell_type": "code",
   "execution_count": 31,
   "metadata": {},
   "outputs": [],
   "source": [
    "filescount = 0\n",
    "for _ in walkdir(local_directory):\n",
    "    filescount += 1"
   ]
  },
  {
   "cell_type": "code",
   "execution_count": 32,
   "metadata": {},
   "outputs": [
    {
     "data": {
      "text/plain": [
       "7047"
      ]
     },
     "execution_count": 32,
     "metadata": {},
     "output_type": "execute_result"
    }
   ],
   "source": [
    "filescount"
   ]
  },
  {
   "cell_type": "code",
   "execution_count": 30,
   "metadata": {},
   "outputs": [],
   "source": [
    "def walkdir(folder):\n",
    "    \"\"\"Walk through every files in a directory\"\"\"\n",
    "    for dirpath, dirs, files in os.walk(folder):\n",
    "        for filename in files:\n",
    "            # construct the full local path\n",
    "            yield os.path.join(root, filename)\n",
    "\n"
   ]
  },
  {
   "cell_type": "code",
   "execution_count": 33,
   "metadata": {},
   "outputs": [
    {
     "data": {
      "application/vnd.jupyter.widget-view+json": {
       "model_id": "39ab61f38dc64c1097345ce271d37942",
       "version_major": 2,
       "version_minor": 0
      },
      "text/plain": [
       "HBox(children=(FloatProgress(value=0.0, max=7047.0), HTML(value='')))"
      ]
     },
     "metadata": {},
     "output_type": "display_data"
    },
    {
     "name": "stdout",
     "output_type": "stream",
     "text": [
      "\n"
     ]
    }
   ],
   "source": [
    "# enumerate local files recursively\n",
    "for local_path in tqdm(walkdir(local_directory), total=filescount):\n",
    "\n",
    "    # construct the full Dropbox path\n",
    "    relative_path = os.path.relpath(local_path, local_directory)\n",
    "    s3_path = os.path.join(destination, relative_path)\n",
    "\n",
    "\n",
    "    # relative_path = os.path.relpath(os.path.join(root, filename))\n",
    "\n",
    "#     print('Searching \"%s\" in \"%s\"' % (s3_path, bucket))\n",
    "    try:\n",
    "        s3.head_object(Bucket=bucket, Key=s3_path)\n",
    "#         print(\"Path found on S3! Skipping %s...\" % s3_path)\n",
    "\n",
    "        # try:\n",
    "            # client.delete_object(Bucket=bucket, Key=s3_path)\n",
    "        # except:\n",
    "            # print \"Unable to delete %s...\" % s3_path\n",
    "    except:\n",
    "#         print(\"Uploading %s...\" % s3_path)\n",
    "        s3.upload_file(local_path, bucket, s3_path)"
   ]
  },
  {
   "cell_type": "code",
   "execution_count": null,
   "metadata": {},
   "outputs": [],
   "source": []
  }
 ],
 "metadata": {
  "instance_type": "ml.t3.medium",
  "kernelspec": {
   "display_name": "Python 3 (Data Science)",
   "language": "python",
   "name": "python3__SAGEMAKER_INTERNAL__arn:aws:sagemaker:us-west-2:236514542706:image/datascience-1.0"
  },
  "language_info": {
   "codemirror_mode": {
    "name": "ipython",
    "version": 3
   },
   "file_extension": ".py",
   "mimetype": "text/x-python",
   "name": "python",
   "nbconvert_exporter": "python",
   "pygments_lexer": "ipython3",
   "version": "3.7.10"
  }
 },
 "nbformat": 4,
 "nbformat_minor": 4
}
