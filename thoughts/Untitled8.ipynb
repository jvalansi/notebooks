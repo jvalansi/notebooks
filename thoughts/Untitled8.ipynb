{
 "cells": [
  {
   "cell_type": "markdown",
   "metadata": {},
   "source": [
    "היי\n",
    "מה הולך?\n",
    "לא משהו\n",
    "מה יש?\n",
    "אני מנסה לחשוב איך ילך הויכוח עם שירן על הסכם ממון\n",
    "וואלה\n",
    "ואיך הוא ילך\n",
    "אני פשוט לא חושב שזה פייר שאם אנחנו נפרדים והיא לא עובדת זה די דופק אותי\n",
    "בגדול זה יוצא חצי ממה שחסכתי + 40% מההכנסה לאיזה 5 שנים לפחות\n",
    "ואם יש ילד זה עוד"
   ]
  },
  {
   "cell_type": "code",
   "execution_count": null,
   "metadata": {},
   "outputs": [],
   "source": []
  }
 ],
 "metadata": {
  "kernelspec": {
   "display_name": "Python 3",
   "language": "python",
   "name": "python3"
  },
  "language_info": {
   "codemirror_mode": {
    "name": "ipython",
    "version": 3
   },
   "file_extension": ".py",
   "mimetype": "text/x-python",
   "name": "python",
   "nbconvert_exporter": "python",
   "pygments_lexer": "ipython3",
   "version": "3.7.7"
  }
 },
 "nbformat": 4,
 "nbformat_minor": 4
}
