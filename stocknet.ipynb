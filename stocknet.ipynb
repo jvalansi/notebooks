{
 "cells": [
  {
   "cell_type": "code",
   "execution_count": null,
   "id": "77deaa32-6b84-48d8-848d-88e35ff4807d",
   "metadata": {},
   "outputs": [],
   "source": []
  },
  {
   "cell_type": "code",
   "execution_count": null,
   "id": "ed0dd778-807e-45fd-913f-6d51facfdbac",
   "metadata": {},
   "outputs": [],
   "source": [
    "# get data from https://github.com/yumoxu/stocknet-dataset"
   ]
  },
  {
   "cell_type": "code",
   "execution_count": 113,
   "id": "3d75b42f-7b93-407d-9f9d-7a6e705721fa",
   "metadata": {
    "tags": []
   },
   "outputs": [],
   "source": [
    "# ! git clone https://github.com/yumoxu/stocknet-dataset.git data/stocknet"
   ]
  },
  {
   "cell_type": "code",
   "execution_count": 3,
   "id": "87d470a8-f354-413a-9d77-5639508c3449",
   "metadata": {
    "tags": []
   },
   "outputs": [],
   "source": [
    "# get tweets for a day\n",
    "# check the sentiment\n",
    "# compare to price change"
   ]
  },
  {
   "cell_type": "code",
   "execution_count": 118,
   "id": "860445d8-f428-49b4-ad1c-ae98603a14b5",
   "metadata": {
    "tags": []
   },
   "outputs": [],
   "source": [
    "# !pip install openai yfinance"
   ]
  },
  {
   "cell_type": "code",
   "execution_count": 254,
   "id": "3b8801c0-e275-4328-af78-61551cb74807",
   "metadata": {
    "tags": []
   },
   "outputs": [],
   "source": [
    "import os\n",
    "import json\n",
    "import random\n",
    "from tqdm.auto import tqdm\n",
    "import pandas as pd\n",
    "import numpy as np\n",
    "import yfinance as yf"
   ]
  },
  {
   "cell_type": "code",
   "execution_count": 12,
   "id": "ce34f9e1-ca62-4a4d-a727-d8e7a2e6b230",
   "metadata": {
    "tags": []
   },
   "outputs": [],
   "source": [
    "j = json.load(open(\"/root/.aws/secrets.json\"))tqdm\n",
    "\n",
    "os.environ[\"OPENAI_API_KEY\"] = j[\"OPENAI_KEY\"]"
   ]
  },
  {
   "cell_type": "code",
   "execution_count": 50,
   "id": "e412cd36-413f-40e2-981d-e583422eb092",
   "metadata": {
    "tags": []
   },
   "outputs": [],
   "source": [
    "stocks = os.listdir(\"data/stocknet/tweet/preprocessed/\")"
   ]
  },
  {
   "cell_type": "code",
   "execution_count": 228,
   "id": "e16ad7c7-8e22-494f-8302-2aaffaffd320",
   "metadata": {
    "tags": []
   },
   "outputs": [],
   "source": [
    "D = {\"positive\":1,\"negative\":-1,\"neutral\":0}"
   ]
  },
  {
   "cell_type": "code",
   "execution_count": 320,
   "id": "cbcea6ee-543e-4830-89e3-fe71d01a6e32",
   "metadata": {
    "tags": []
   },
   "outputs": [],
   "source": [
    "def get_response(tweet, stock):\n",
    "    response = client.chat.completions.create(\n",
    "      model=\"gpt-4-1106-preview\",\n",
    "      response_format={ \"type\": \"json_object\" },\n",
    "      messages=[\n",
    "        {\"role\": \"system\", \"content\": \"You are a financial advisor designed to output JSON containing a 'sentiment' field and 'reasoning' field.\"},\n",
    "        {\"role\": \"user\", \"content\": f\"Tweet: {tweet}. Is this tweet positive, negative or neutral for the stock {stock}?\"},\n",
    "      ]\n",
    "    )\n",
    "    return json.loads(response.choices[0].message.content)\n"
   ]
  },
  {
   "cell_type": "code",
   "execution_count": 321,
   "id": "f98676ed-07c5-4419-9ef8-ddd9cba24efe",
   "metadata": {
    "tags": []
   },
   "outputs": [],
   "source": [
    "def compare_pred():\n",
    "    stock = random.choice(stocks)\n",
    "\n",
    "    df = pd.read_csv(f\"data/stocknet/price/preprocessed/{stock}.txt\", sep='\\t', header=None, index_col=0)\n",
    "    stock_dates = df.index\n",
    "    tweet_dates = os.listdir(f\"data/stocknet/tweet/preprocessed/{stock}\")\n",
    "    dates = list(set(stock_dates) & set(tweet_dates))\n",
    "    date = random.choice(dates)\n",
    "    change = df.loc[date,1]\n",
    "\n",
    "    with open(f\"data/stocknet/tweet/raw/{stock}/{date}\") as f:\n",
    "        data = f.read()\n",
    "    lines = data.split('\\n')\n",
    "    j = json.loads(lines[0])\n",
    "    tweet = j['text']\n",
    "\n",
    "    try:\n",
    "        response = get_response(tweet, stock)\n",
    "        pred = D[response[\"sentiment\"].lower()]\n",
    "        snp_change = snp.loc[date,\"Diff\"]\n",
    "        return change, snp_change, change-snp_change, pred, tweet, stock\n",
    "    except:\n",
    "        print(response)"
   ]
  },
  {
   "cell_type": "code",
   "execution_count": 322,
   "id": "92690a54-d06c-4dff-8f8a-67bf2cb4e00c",
   "metadata": {
    "tags": []
   },
   "outputs": [],
   "source": [
    "res = []"
   ]
  },
  {
   "cell_type": "code",
   "execution_count": null,
   "id": "54e57e60-c07f-45b8-bea5-1d5b031d4620",
   "metadata": {
    "tags": []
   },
   "outputs": [
    {
     "data": {
      "application/vnd.jupyter.widget-view+json": {
       "model_id": "aad4eb7867c84915bcf21c5a80bf2181",
       "version_major": 2,
       "version_minor": 0
      },
      "text/plain": [
       "  0%|          | 0/1000 [00:00<?, ?it/s]"
      ]
     },
     "metadata": {},
     "output_type": "display_data"
    }
   ],
   "source": [
    "for i in tqdm(range(1000)):\n",
    "    res += [compare_pred()]"
   ]
  },
  {
   "cell_type": "code",
   "execution_count": 331,
   "id": "b0ad5689-797a-430a-be8e-30871e10ede8",
   "metadata": {
    "tags": []
   },
   "outputs": [
    {
     "data": {
      "text/plain": [
       "1000"
      ]
     },
     "execution_count": 331,
     "metadata": {},
     "output_type": "execute_result"
    }
   ],
   "source": [
    "len(res)"
   ]
  },
  {
   "cell_type": "code",
   "execution_count": 332,
   "id": "b0d545cd-1d9a-4812-bb7e-70e288d43b22",
   "metadata": {
    "tags": []
   },
   "outputs": [],
   "source": [
    "df = pd.DataFrame(res)"
   ]
  },
  {
   "cell_type": "code",
   "execution_count": 333,
   "id": "b7e6e6cd-04eb-4b1b-9824-830f4f495154",
   "metadata": {
    "tags": []
   },
   "outputs": [
    {
     "data": {
      "text/html": [
       "<div>\n",
       "<style scoped>\n",
       "    .dataframe tbody tr th:only-of-type {\n",
       "        vertical-align: middle;\n",
       "    }\n",
       "\n",
       "    .dataframe tbody tr th {\n",
       "        vertical-align: top;\n",
       "    }\n",
       "\n",
       "    .dataframe thead th {\n",
       "        text-align: right;\n",
       "    }\n",
       "</style>\n",
       "<table border=\"1\" class=\"dataframe\">\n",
       "  <thead>\n",
       "    <tr style=\"text-align: right;\">\n",
       "      <th></th>\n",
       "      <th>0</th>\n",
       "      <th>1</th>\n",
       "      <th>2</th>\n",
       "      <th>3</th>\n",
       "      <th>4</th>\n",
       "      <th>5</th>\n",
       "    </tr>\n",
       "  </thead>\n",
       "  <tbody>\n",
       "    <tr>\n",
       "      <th>0</th>\n",
       "      <td>0.011272</td>\n",
       "      <td>0.001163</td>\n",
       "      <td>0.010109</td>\n",
       "      <td>0</td>\n",
       "      <td>\"@ETFTrends What’s in Store for Oil Services E...</td>\n",
       "      <td>SLB</td>\n",
       "    </tr>\n",
       "    <tr>\n",
       "      <th>1</th>\n",
       "      <td>0.002753</td>\n",
       "      <td>-0.002867</td>\n",
       "      <td>0.005620</td>\n",
       "      <td>0</td>\n",
       "      <td>$BSAC Banco Santander Chile Announces Second Q...</td>\n",
       "      <td>BSAC</td>\n",
       "    </tr>\n",
       "    <tr>\n",
       "      <th>2</th>\n",
       "      <td>0.004076</td>\n",
       "      <td>-0.000348</td>\n",
       "      <td>0.004424</td>\n",
       "      <td>0</td>\n",
       "      <td>FXI iShares FTSE China 25 Index Fund Open\\nhtt...</td>\n",
       "      <td>MCD</td>\n",
       "    </tr>\n",
       "    <tr>\n",
       "      <th>3</th>\n",
       "      <td>-0.003346</td>\n",
       "      <td>-0.013680</td>\n",
       "      <td>0.010334</td>\n",
       "      <td>-1</td>\n",
       "      <td>Down With the Dow! 5 Blue-Chip Stocks to Ditch...</td>\n",
       "      <td>CSCO</td>\n",
       "    </tr>\n",
       "    <tr>\n",
       "      <th>4</th>\n",
       "      <td>0.002094</td>\n",
       "      <td>-0.004873</td>\n",
       "      <td>0.006967</td>\n",
       "      <td>1</td>\n",
       "      <td>Toyota Motor Corp (ADR) Gets Average Rating of...</td>\n",
       "      <td>TM</td>\n",
       "    </tr>\n",
       "    <tr>\n",
       "      <th>...</th>\n",
       "      <td>...</td>\n",
       "      <td>...</td>\n",
       "      <td>...</td>\n",
       "      <td>...</td>\n",
       "      <td>...</td>\n",
       "      <td>...</td>\n",
       "    </tr>\n",
       "    <tr>\n",
       "      <th>995</th>\n",
       "      <td>0.024147</td>\n",
       "      <td>-0.002218</td>\n",
       "      <td>0.026365</td>\n",
       "      <td>0</td>\n",
       "      <td>$BA Boeing earnings: Focus on order book, outl...</td>\n",
       "      <td>BA</td>\n",
       "    </tr>\n",
       "    <tr>\n",
       "      <th>996</th>\n",
       "      <td>-0.011871</td>\n",
       "      <td>0.000050</td>\n",
       "      <td>-0.011921</td>\n",
       "      <td>-1</td>\n",
       "      <td>“@apppro1: That horid $FB dg just gave the #HF...</td>\n",
       "      <td>GOOG</td>\n",
       "    </tr>\n",
       "    <tr>\n",
       "      <th>997</th>\n",
       "      <td>0.000000</td>\n",
       "      <td>0.007583</td>\n",
       "      <td>-0.007583</td>\n",
       "      <td>-1</td>\n",
       "      <td>Run For The Hills! $INTC $XRX $PFE $AMD $SIRI ...</td>\n",
       "      <td>BAC</td>\n",
       "    </tr>\n",
       "    <tr>\n",
       "      <th>998</th>\n",
       "      <td>-0.007172</td>\n",
       "      <td>-0.020407</td>\n",
       "      <td>0.013235</td>\n",
       "      <td>0</td>\n",
       "      <td>$PICO PICO Holdings, Inc. Annou  http://t.co/X...</td>\n",
       "      <td>PICO</td>\n",
       "    </tr>\n",
       "    <tr>\n",
       "      <th>999</th>\n",
       "      <td>0.011193</td>\n",
       "      <td>-0.002867</td>\n",
       "      <td>0.014060</td>\n",
       "      <td>0</td>\n",
       "      <td>RT @hefadabacem: #Stocks you might want to buy...</td>\n",
       "      <td>MA</td>\n",
       "    </tr>\n",
       "  </tbody>\n",
       "</table>\n",
       "<p>1000 rows × 6 columns</p>\n",
       "</div>"
      ],
      "text/plain": [
       "            0         1         2  3  \\\n",
       "0    0.011272  0.001163  0.010109  0   \n",
       "1    0.002753 -0.002867  0.005620  0   \n",
       "2    0.004076 -0.000348  0.004424  0   \n",
       "3   -0.003346 -0.013680  0.010334 -1   \n",
       "4    0.002094 -0.004873  0.006967  1   \n",
       "..        ...       ...       ... ..   \n",
       "995  0.024147 -0.002218  0.026365  0   \n",
       "996 -0.011871  0.000050 -0.011921 -1   \n",
       "997  0.000000  0.007583 -0.007583 -1   \n",
       "998 -0.007172 -0.020407  0.013235  0   \n",
       "999  0.011193 -0.002867  0.014060  0   \n",
       "\n",
       "                                                     4     5  \n",
       "0    \"@ETFTrends What’s in Store for Oil Services E...   SLB  \n",
       "1    $BSAC Banco Santander Chile Announces Second Q...  BSAC  \n",
       "2    FXI iShares FTSE China 25 Index Fund Open\\nhtt...   MCD  \n",
       "3    Down With the Dow! 5 Blue-Chip Stocks to Ditch...  CSCO  \n",
       "4    Toyota Motor Corp (ADR) Gets Average Rating of...    TM  \n",
       "..                                                 ...   ...  \n",
       "995  $BA Boeing earnings: Focus on order book, outl...    BA  \n",
       "996  “@apppro1: That horid $FB dg just gave the #HF...  GOOG  \n",
       "997  Run For The Hills! $INTC $XRX $PFE $AMD $SIRI ...   BAC  \n",
       "998  $PICO PICO Holdings, Inc. Annou  http://t.co/X...  PICO  \n",
       "999  RT @hefadabacem: #Stocks you might want to buy...    MA  \n",
       "\n",
       "[1000 rows x 6 columns]"
      ]
     },
     "execution_count": 333,
     "metadata": {},
     "output_type": "execute_result"
    }
   ],
   "source": [
    "df"
   ]
  },
  {
   "cell_type": "code",
   "execution_count": 334,
   "id": "fa9f2ae5-37ff-4a15-901b-d5b50a8179da",
   "metadata": {
    "tags": []
   },
   "outputs": [
    {
     "data": {
      "text/plain": [
       "0.00024397503303543472"
      ]
     },
     "execution_count": 334,
     "metadata": {},
     "output_type": "execute_result"
    }
   ],
   "source": [
    "df[2].sum()/len(df)"
   ]
  },
  {
   "cell_type": "code",
   "execution_count": 335,
   "id": "7515a5de-efc3-489c-b4a6-904250fe781d",
   "metadata": {
    "tags": []
   },
   "outputs": [
    {
     "data": {
      "text/plain": [
       "0.0022345528398788586"
      ]
     },
     "execution_count": 335,
     "metadata": {},
     "output_type": "execute_result"
    }
   ],
   "source": [
    "(df[2]*df[3]).sum()/df[3].abs().sum()"
   ]
  },
  {
   "cell_type": "code",
   "execution_count": 250,
   "id": "3df72e19-269a-449c-bb68-ca5ca0db7a6f",
   "metadata": {
    "tags": []
   },
   "outputs": [
    {
     "data": {
      "text/html": [
       "<div>\n",
       "<style scoped>\n",
       "    .dataframe tbody tr th:only-of-type {\n",
       "        vertical-align: middle;\n",
       "    }\n",
       "\n",
       "    .dataframe tbody tr th {\n",
       "        vertical-align: top;\n",
       "    }\n",
       "\n",
       "    .dataframe thead th {\n",
       "        text-align: right;\n",
       "    }\n",
       "</style>\n",
       "<table border=\"1\" class=\"dataframe\">\n",
       "  <thead>\n",
       "    <tr style=\"text-align: right;\">\n",
       "      <th></th>\n",
       "      <th>0</th>\n",
       "      <th>1</th>\n",
       "      <th>2</th>\n",
       "      <th>3</th>\n",
       "      <th>4</th>\n",
       "      <th>5</th>\n",
       "    </tr>\n",
       "  </thead>\n",
       "  <tbody>\n",
       "    <tr>\n",
       "      <th>4</th>\n",
       "      <td>0.005665</td>\n",
       "      <td>0.010563</td>\n",
       "      <td>-0.004898</td>\n",
       "      <td>-1.0</td>\n",
       "      <td>Your DOWN prediction for $MSFT on 2/10/2015 wa...</td>\n",
       "      <td>MSFT</td>\n",
       "    </tr>\n",
       "    <tr>\n",
       "      <th>13</th>\n",
       "      <td>-0.000234</td>\n",
       "      <td>-0.001133</td>\n",
       "      <td>0.000899</td>\n",
       "      <td>-1.0</td>\n",
       "      <td>RT @NYSEplays: $BABA was called short by us in...</td>\n",
       "      <td>BABA</td>\n",
       "    </tr>\n",
       "    <tr>\n",
       "      <th>24</th>\n",
       "      <td>0.001439</td>\n",
       "      <td>0.001888</td>\n",
       "      <td>-0.000449</td>\n",
       "      <td>-1.0</td>\n",
       "      <td>$JPM Morrisey announces $400000 settlement fro...</td>\n",
       "      <td>JPM</td>\n",
       "    </tr>\n",
       "    <tr>\n",
       "      <th>53</th>\n",
       "      <td>0.003041</td>\n",
       "      <td>0.002845</td>\n",
       "      <td>0.000196</td>\n",
       "      <td>-1.0</td>\n",
       "      <td>$PM - Philip Morris to close Australian plant ...</td>\n",
       "      <td>PM</td>\n",
       "    </tr>\n",
       "    <tr>\n",
       "      <th>57</th>\n",
       "      <td>-0.002907</td>\n",
       "      <td>0.003751</td>\n",
       "      <td>-0.006658</td>\n",
       "      <td>-1.0</td>\n",
       "      <td>Thomas Williams A., EVP &amp;amp; CFO of Harbinger...</td>\n",
       "      <td>HRG</td>\n",
       "    </tr>\n",
       "    <tr>\n",
       "      <th>63</th>\n",
       "      <td>-0.080983</td>\n",
       "      <td>-0.002632</td>\n",
       "      <td>-0.078351</td>\n",
       "      <td>-1.0</td>\n",
       "      <td>RT @AlertTrade: SHORT Seller Alert $AGFS - AGR...</td>\n",
       "      <td>AGFS</td>\n",
       "    </tr>\n",
       "    <tr>\n",
       "      <th>66</th>\n",
       "      <td>0.012418</td>\n",
       "      <td>0.012797</td>\n",
       "      <td>-0.000379</td>\n",
       "      <td>-1.0</td>\n",
       "      <td>@GuyAdami $S commercial 'apologizing'.  What t...</td>\n",
       "      <td>CMCSA</td>\n",
       "    </tr>\n",
       "    <tr>\n",
       "      <th>67</th>\n",
       "      <td>-0.020772</td>\n",
       "      <td>0.005668</td>\n",
       "      <td>-0.026440</td>\n",
       "      <td>-1.0</td>\n",
       "      <td>$AMZN a nice pop but stk goes to 300 after jan</td>\n",
       "      <td>AMZN</td>\n",
       "    </tr>\n",
       "    <tr>\n",
       "      <th>70</th>\n",
       "      <td>-0.003401</td>\n",
       "      <td>-0.011584</td>\n",
       "      <td>0.008183</td>\n",
       "      <td>-1.0</td>\n",
       "      <td>Dairy Queen Latest Retailer to Suffer Customer...</td>\n",
       "      <td>BRK-A</td>\n",
       "    </tr>\n",
       "    <tr>\n",
       "      <th>71</th>\n",
       "      <td>-0.024641</td>\n",
       "      <td>-0.008160</td>\n",
       "      <td>-0.016481</td>\n",
       "      <td>-1.0</td>\n",
       "      <td>$AAPL down over $3 from the open</td>\n",
       "      <td>AAPL</td>\n",
       "    </tr>\n",
       "    <tr>\n",
       "      <th>78</th>\n",
       "      <td>-0.020249</td>\n",
       "      <td>-0.016623</td>\n",
       "      <td>-0.003626</td>\n",
       "      <td>-1.0</td>\n",
       "      <td>$BP Volume Alert - BP Stock 37.83 BP P.L.C. $B...</td>\n",
       "      <td>BP</td>\n",
       "    </tr>\n",
       "    <tr>\n",
       "      <th>95</th>\n",
       "      <td>-0.005764</td>\n",
       "      <td>-0.013570</td>\n",
       "      <td>0.007806</td>\n",
       "      <td>-1.0</td>\n",
       "      <td>$TM:\\n\\nTM: China and Japan are Barriers for T...</td>\n",
       "      <td>TM</td>\n",
       "    </tr>\n",
       "    <tr>\n",
       "      <th>96</th>\n",
       "      <td>0.003676</td>\n",
       "      <td>0.004924</td>\n",
       "      <td>-0.001248</td>\n",
       "      <td>-1.0</td>\n",
       "      <td>$UPS Twinkies bankruptcy reveals trouble with ...</td>\n",
       "      <td>UPS</td>\n",
       "    </tr>\n",
       "  </tbody>\n",
       "</table>\n",
       "</div>"
      ],
      "text/plain": [
       "           0         1         2    3  \\\n",
       "4   0.005665  0.010563 -0.004898 -1.0   \n",
       "13 -0.000234 -0.001133  0.000899 -1.0   \n",
       "24  0.001439  0.001888 -0.000449 -1.0   \n",
       "53  0.003041  0.002845  0.000196 -1.0   \n",
       "57 -0.002907  0.003751 -0.006658 -1.0   \n",
       "63 -0.080983 -0.002632 -0.078351 -1.0   \n",
       "66  0.012418  0.012797 -0.000379 -1.0   \n",
       "67 -0.020772  0.005668 -0.026440 -1.0   \n",
       "70 -0.003401 -0.011584  0.008183 -1.0   \n",
       "71 -0.024641 -0.008160 -0.016481 -1.0   \n",
       "78 -0.020249 -0.016623 -0.003626 -1.0   \n",
       "95 -0.005764 -0.013570  0.007806 -1.0   \n",
       "96  0.003676  0.004924 -0.001248 -1.0   \n",
       "\n",
       "                                                    4      5  \n",
       "4   Your DOWN prediction for $MSFT on 2/10/2015 wa...   MSFT  \n",
       "13  RT @NYSEplays: $BABA was called short by us in...   BABA  \n",
       "24  $JPM Morrisey announces $400000 settlement fro...    JPM  \n",
       "53  $PM - Philip Morris to close Australian plant ...     PM  \n",
       "57  Thomas Williams A., EVP &amp; CFO of Harbinger...    HRG  \n",
       "63  RT @AlertTrade: SHORT Seller Alert $AGFS - AGR...   AGFS  \n",
       "66  @GuyAdami $S commercial 'apologizing'.  What t...  CMCSA  \n",
       "67     $AMZN a nice pop but stk goes to 300 after jan   AMZN  \n",
       "70  Dairy Queen Latest Retailer to Suffer Customer...  BRK-A  \n",
       "71                   $AAPL down over $3 from the open   AAPL  \n",
       "78  $BP Volume Alert - BP Stock 37.83 BP P.L.C. $B...     BP  \n",
       "95  $TM:\\n\\nTM: China and Japan are Barriers for T...     TM  \n",
       "96  $UPS Twinkies bankruptcy reveals trouble with ...    UPS  "
      ]
     },
     "execution_count": 250,
     "metadata": {},
     "output_type": "execute_result"
    }
   ],
   "source": [
    "df[df[3]==-1]"
   ]
  },
  {
   "cell_type": "markdown",
   "id": "27e6fd77-6bb7-4e36-b2ad-2942831e401d",
   "metadata": {
    "jp-MarkdownHeadingCollapsed": true,
    "tags": []
   },
   "source": [
    "# Error analysis"
   ]
  },
  {
   "cell_type": "code",
   "execution_count": 285,
   "id": "41d0b52d-8a1b-4c52-8007-266566ba3e94",
   "metadata": {
    "tags": []
   },
   "outputs": [],
   "source": [
    "errs = df[df[3]*df[2]<0]"
   ]
  },
  {
   "cell_type": "code",
   "execution_count": 286,
   "id": "d137121d-faa2-4da2-af7b-6867fec91c4b",
   "metadata": {
    "tags": []
   },
   "outputs": [],
   "source": [
    "errs = errs.sort_values(2)"
   ]
  },
  {
   "cell_type": "code",
   "execution_count": 297,
   "id": "f8a20325-d952-43d3-836e-ec2dc031b32c",
   "metadata": {
    "tags": []
   },
   "outputs": [],
   "source": [
    "err = errs.iloc[2]"
   ]
  },
  {
   "cell_type": "code",
   "execution_count": 303,
   "id": "8f485107-26d4-4ca4-878b-4615f7aba8aa",
   "metadata": {
    "tags": []
   },
   "outputs": [
    {
     "data": {
      "text/plain": [
       "0                                               -0.003829\n",
       "1                                                0.001888\n",
       "2                                               -0.005717\n",
       "3                                                     1.0\n",
       "4       .@Toyota's Future Is #Hybrid &amp; #Hydrogen, ...\n",
       "5                                                      TM\n",
       "sign                                                 -1.0\n",
       "Name: 46, dtype: object"
      ]
     },
     "execution_count": 303,
     "metadata": {},
     "output_type": "execute_result"
    }
   ],
   "source": [
    "err"
   ]
  },
  {
   "cell_type": "code",
   "execution_count": 298,
   "id": "7c5d97a7-2dbc-408c-bc7b-e180c647b186",
   "metadata": {
    "tags": []
   },
   "outputs": [],
   "source": [
    "tweet = err[4]"
   ]
  },
  {
   "cell_type": "code",
   "execution_count": 299,
   "id": "e3e063ae-ea16-4e2c-b1f1-570ed25c73e5",
   "metadata": {
    "tags": []
   },
   "outputs": [
    {
     "data": {
      "text/plain": [
       "\".@Toyota's Future Is #Hybrid &amp; #Hydrogen, Not #Electric http://t.co/IaXIddITT0 $TM\""
      ]
     },
     "execution_count": 299,
     "metadata": {},
     "output_type": "execute_result"
    }
   ],
   "source": [
    "tweet"
   ]
  },
  {
   "cell_type": "code",
   "execution_count": 300,
   "id": "c879e141-08b8-4027-b03f-6129fce6eb44",
   "metadata": {
    "tags": []
   },
   "outputs": [],
   "source": [
    "stock = err[5]"
   ]
  },
  {
   "cell_type": "code",
   "execution_count": 301,
   "id": "6d4c292a-9cc7-4fa9-9663-227b731468d2",
   "metadata": {
    "tags": []
   },
   "outputs": [
    {
     "data": {
      "text/plain": [
       "'TM'"
      ]
     },
     "execution_count": 301,
     "metadata": {},
     "output_type": "execute_result"
    }
   ],
   "source": [
    "stock"
   ]
  },
  {
   "cell_type": "code",
   "execution_count": 302,
   "id": "10150f33-0b5e-43aa-bb73-c10cd41026ed",
   "metadata": {
    "tags": []
   },
   "outputs": [
    {
     "data": {
      "text/plain": [
       "{'sentiment': 'positive',\n",
       " 'reasoning': 'The tweet implies that Toyota is focusing on hybrid and hydrogen technologies, which suggests innovation and adaptability. The mention of future strategies can be perceived positively by the market as it shows the company is actively working towards advanced and possibly more sustainable automotive solutions.'}"
      ]
     },
     "execution_count": 302,
     "metadata": {},
     "output_type": "execute_result"
    }
   ],
   "source": [
    "get_response(tweet, stock)"
   ]
  },
  {
   "cell_type": "code",
   "execution_count": 261,
   "id": "93321550-495e-46f5-bc2b-ed1191c3dcbf",
   "metadata": {
    "tags": []
   },
   "outputs": [],
   "source": [
    "df['sign'] = np.sign(df[2])"
   ]
  },
  {
   "cell_type": "code",
   "execution_count": 264,
   "id": "8c33e2d2-9342-4980-8422-7622d3b1bd37",
   "metadata": {
    "tags": []
   },
   "outputs": [
    {
     "data": {
      "text/plain": [
       " 1.0    11\n",
       "-1.0     9\n",
       "Name: sign, dtype: int64"
      ]
     },
     "execution_count": 264,
     "metadata": {},
     "output_type": "execute_result"
    }
   ],
   "source": [
    "df.loc[df[3]==1,'sign'].value_counts()"
   ]
  },
  {
   "cell_type": "code",
   "execution_count": 265,
   "id": "54892c66-72b3-4218-8167-8fc903fe4ef8",
   "metadata": {
    "tags": []
   },
   "outputs": [
    {
     "data": {
      "text/plain": [
       "-1.0    9\n",
       " 1.0    4\n",
       "Name: sign, dtype: int64"
      ]
     },
     "execution_count": 265,
     "metadata": {},
     "output_type": "execute_result"
    }
   ],
   "source": [
    "df.loc[df[3]==-1,'sign'].value_counts()"
   ]
  },
  {
   "cell_type": "code",
   "execution_count": 336,
   "id": "42a9aa8f-0a68-491f-8dd8-5ebc6a87b0a7",
   "metadata": {
    "tags": []
   },
   "outputs": [
    {
     "data": {
      "text/plain": [
       "<AxesSubplot:xlabel='2', ylabel='3'>"
      ]
     },
     "execution_count": 336,
     "metadata": {},
     "output_type": "execute_result"
    },
    {
     "data": {
      "image/png": "[encoded data removed]",
      "text/plain": [
       "<Figure size 640x480 with 1 Axes>"
      ]
     },
     "metadata": {},
     "output_type": "display_data"
    }
   ],
   "source": [
    "df[df[3]!=0.0].plot.scatter(x=2,y=3)"
   ]
  },
  {
   "cell_type": "markdown",
   "id": "e0b65554-ae05-4988-9211-2c5d1a8d98a1",
   "metadata": {},
   "source": [
    "# Accuracy"
   ]
  },
  {
   "cell_type": "code",
   "execution_count": 304,
   "id": "5c22ec24-bdf5-4301-ad7e-4aefe3b4f882",
   "metadata": {
    "tags": []
   },
   "outputs": [
    {
     "data": {
      "text/html": [
       "<div>\n",
       "<style scoped>\n",
       "    .dataframe tbody tr th:only-of-type {\n",
       "        vertical-align: middle;\n",
       "    }\n",
       "\n",
       "    .dataframe tbody tr th {\n",
       "        vertical-align: top;\n",
       "    }\n",
       "\n",
       "    .dataframe thead th {\n",
       "        text-align: right;\n",
       "    }\n",
       "</style>\n",
       "<table border=\"1\" class=\"dataframe\">\n",
       "  <thead>\n",
       "    <tr style=\"text-align: right;\">\n",
       "      <th></th>\n",
       "      <th>0</th>\n",
       "      <th>1</th>\n",
       "      <th>2</th>\n",
       "      <th>3</th>\n",
       "      <th>4</th>\n",
       "      <th>5</th>\n",
       "      <th>sign</th>\n",
       "    </tr>\n",
       "  </thead>\n",
       "  <tbody>\n",
       "    <tr>\n",
       "      <th>0</th>\n",
       "      <td>0.025276</td>\n",
       "      <td>0.005140</td>\n",
       "      <td>0.020136</td>\n",
       "      <td>0.0</td>\n",
       "      <td>$VZ News Alert:  http://t.co/c9msGPFgtc  Updat...</td>\n",
       "      <td>VZ</td>\n",
       "      <td>1.0</td>\n",
       "    </tr>\n",
       "    <tr>\n",
       "      <th>1</th>\n",
       "      <td>0.016484</td>\n",
       "      <td>-0.003239</td>\n",
       "      <td>0.019723</td>\n",
       "      <td>1.0</td>\n",
       "      <td>$AGFS steady accumulation</td>\n",
       "      <td>AGFS</td>\n",
       "      <td>1.0</td>\n",
       "    </tr>\n",
       "    <tr>\n",
       "      <th>2</th>\n",
       "      <td>0.009303</td>\n",
       "      <td>0.000348</td>\n",
       "      <td>0.008955</td>\n",
       "      <td>1.0</td>\n",
       "      <td>The Boeing Company (NYSE:BA) Strikes Deal With...</td>\n",
       "      <td>BA</td>\n",
       "      <td>1.0</td>\n",
       "    </tr>\n",
       "    <tr>\n",
       "      <th>3</th>\n",
       "      <td>0.008763</td>\n",
       "      <td>0.006888</td>\n",
       "      <td>0.001875</td>\n",
       "      <td>0.0</td>\n",
       "      <td>Active Stocks Under Review: http://t.co/yRZS57...</td>\n",
       "      <td>DHR</td>\n",
       "      <td>1.0</td>\n",
       "    </tr>\n",
       "    <tr>\n",
       "      <th>4</th>\n",
       "      <td>0.005665</td>\n",
       "      <td>0.010563</td>\n",
       "      <td>-0.004898</td>\n",
       "      <td>-1.0</td>\n",
       "      <td>Your DOWN prediction for $MSFT on 2/10/2015 wa...</td>\n",
       "      <td>MSFT</td>\n",
       "      <td>-1.0</td>\n",
       "    </tr>\n",
       "    <tr>\n",
       "      <th>...</th>\n",
       "      <td>...</td>\n",
       "      <td>...</td>\n",
       "      <td>...</td>\n",
       "      <td>...</td>\n",
       "      <td>...</td>\n",
       "      <td>...</td>\n",
       "      <td>...</td>\n",
       "    </tr>\n",
       "    <tr>\n",
       "      <th>95</th>\n",
       "      <td>-0.005764</td>\n",
       "      <td>-0.013570</td>\n",
       "      <td>0.007806</td>\n",
       "      <td>-1.0</td>\n",
       "      <td>$TM:\\n\\nTM: China and Japan are Barriers for T...</td>\n",
       "      <td>TM</td>\n",
       "      <td>1.0</td>\n",
       "    </tr>\n",
       "    <tr>\n",
       "      <th>96</th>\n",
       "      <td>0.003676</td>\n",
       "      <td>0.004924</td>\n",
       "      <td>-0.001248</td>\n",
       "      <td>-1.0</td>\n",
       "      <td>$UPS Twinkies bankruptcy reveals trouble with ...</td>\n",
       "      <td>UPS</td>\n",
       "      <td>-1.0</td>\n",
       "    </tr>\n",
       "    <tr>\n",
       "      <th>97</th>\n",
       "      <td>0.006285</td>\n",
       "      <td>-0.001922</td>\n",
       "      <td>0.008207</td>\n",
       "      <td>1.0</td>\n",
       "      <td>$EXC still powering along...</td>\n",
       "      <td>EXC</td>\n",
       "      <td>1.0</td>\n",
       "    </tr>\n",
       "    <tr>\n",
       "      <th>98</th>\n",
       "      <td>0.010168</td>\n",
       "      <td>0.007168</td>\n",
       "      <td>0.003000</td>\n",
       "      <td>0.0</td>\n",
       "      <td>$CVX Find more winners like $HRS $HCN $SLV #ne...</td>\n",
       "      <td>CVX</td>\n",
       "      <td>1.0</td>\n",
       "    </tr>\n",
       "    <tr>\n",
       "      <th>99</th>\n",
       "      <td>-0.003617</td>\n",
       "      <td>0.004606</td>\n",
       "      <td>-0.008223</td>\n",
       "      <td>1.0</td>\n",
       "      <td>RT @FiercePharma: Top-read on FP Thurs: AbbVie...</td>\n",
       "      <td>ABBV</td>\n",
       "      <td>-1.0</td>\n",
       "    </tr>\n",
       "  </tbody>\n",
       "</table>\n",
       "<p>100 rows × 7 columns</p>\n",
       "</div>"
      ],
      "text/plain": [
       "           0         1         2    3  \\\n",
       "0   0.025276  0.005140  0.020136  0.0   \n",
       "1   0.016484 -0.003239  0.019723  1.0   \n",
       "2   0.009303  0.000348  0.008955  1.0   \n",
       "3   0.008763  0.006888  0.001875  0.0   \n",
       "4   0.005665  0.010563 -0.004898 -1.0   \n",
       "..       ...       ...       ...  ...   \n",
       "95 -0.005764 -0.013570  0.007806 -1.0   \n",
       "96  0.003676  0.004924 -0.001248 -1.0   \n",
       "97  0.006285 -0.001922  0.008207  1.0   \n",
       "98  0.010168  0.007168  0.003000  0.0   \n",
       "99 -0.003617  0.004606 -0.008223  1.0   \n",
       "\n",
       "                                                    4     5  sign  \n",
       "0   $VZ News Alert:  http://t.co/c9msGPFgtc  Updat...    VZ   1.0  \n",
       "1                           $AGFS steady accumulation  AGFS   1.0  \n",
       "2   The Boeing Company (NYSE:BA) Strikes Deal With...    BA   1.0  \n",
       "3   Active Stocks Under Review: http://t.co/yRZS57...   DHR   1.0  \n",
       "4   Your DOWN prediction for $MSFT on 2/10/2015 wa...  MSFT  -1.0  \n",
       "..                                                ...   ...   ...  \n",
       "95  $TM:\\n\\nTM: China and Japan are Barriers for T...    TM   1.0  \n",
       "96  $UPS Twinkies bankruptcy reveals trouble with ...   UPS  -1.0  \n",
       "97                       $EXC still powering along...   EXC   1.0  \n",
       "98  $CVX Find more winners like $HRS $HCN $SLV #ne...   CVX   1.0  \n",
       "99  RT @FiercePharma: Top-read on FP Thurs: AbbVie...  ABBV  -1.0  \n",
       "\n",
       "[100 rows x 7 columns]"
      ]
     },
     "execution_count": 304,
     "metadata": {},
     "output_type": "execute_result"
    }
   ],
   "source": [
    "df"
   ]
  },
  {
   "cell_type": "code",
   "execution_count": 337,
   "id": "945066c7-b358-4f89-b695-2f31f35ffa61",
   "metadata": {
    "tags": []
   },
   "outputs": [],
   "source": [
    "tp = ((df[3]>0) & (df[2]>0)).sum()"
   ]
  },
  {
   "cell_type": "code",
   "execution_count": 338,
   "id": "76896077-abd9-4586-9b88-b62743d44053",
   "metadata": {
    "tags": []
   },
   "outputs": [],
   "source": [
    "tn = ((df[3]<0) & (df[2]<0)).sum()"
   ]
  },
  {
   "cell_type": "code",
   "execution_count": 339,
   "id": "7185ec6c-2c54-45a3-9dab-c58f5278a2de",
   "metadata": {
    "tags": []
   },
   "outputs": [],
   "source": [
    "fp = ((df[3]>0) & (df[2]<0)).sum()"
   ]
  },
  {
   "cell_type": "code",
   "execution_count": 340,
   "id": "83814199-149d-40d8-af81-3bc41dbbeb5f",
   "metadata": {
    "tags": []
   },
   "outputs": [],
   "source": [
    "fn = ((df[3]<0) & (df[2]>0)).sum()"
   ]
  },
  {
   "cell_type": "code",
   "execution_count": 341,
   "id": "0a8fd754-1651-4d3b-94bd-3202512fbb5c",
   "metadata": {
    "tags": []
   },
   "outputs": [
    {
     "data": {
      "text/plain": [
       "0.5752427184466019"
      ]
     },
     "execution_count": 341,
     "metadata": {},
     "output_type": "execute_result"
    }
   ],
   "source": [
    "(tp+tn)/(tp+tn+fp+fn)"
   ]
  },
  {
   "cell_type": "code",
   "execution_count": 342,
   "id": "ee4e8e76-7df0-4d24-a813-7759240180bb",
   "metadata": {
    "tags": []
   },
   "outputs": [
    {
     "data": {
      "text/plain": [
       "5504"
      ]
     },
     "execution_count": 342,
     "metadata": {},
     "output_type": "execute_result"
    }
   ],
   "source": [
    "(tp*tn-fp*fn)"
   ]
  },
  {
   "cell_type": "code",
   "execution_count": 343,
   "id": "aad8cde6-84e9-40a9-a3f4-deeb42e4446d",
   "metadata": {
    "tags": []
   },
   "outputs": [
    {
     "data": {
      "text/plain": [
       "40309.37955364731"
      ]
     },
     "execution_count": 343,
     "metadata": {},
     "output_type": "execute_result"
    }
   ],
   "source": [
    "((tp+fp)*(tp+fn)*(tn+fp)*(tn+fn))**0.5"
   ]
  },
  {
   "cell_type": "code",
   "execution_count": 344,
   "id": "9b5c968c-925b-4b0d-a16f-0f19aa7230ec",
   "metadata": {
    "tags": []
   },
   "outputs": [
    {
     "data": {
      "text/plain": [
       "0.1365439027081721"
      ]
     },
     "execution_count": 344,
     "metadata": {},
     "output_type": "execute_result"
    }
   ],
   "source": [
    "(tp*tn-fp*fn)/((tp+fp)*(tp+fn)*(tn+fp)*(tn+fn))**0.5"
   ]
  },
  {
   "cell_type": "markdown",
   "id": "0e354f8d-fcef-409a-a5aa-99f448b85508",
   "metadata": {},
   "source": [
    "# Get S&P data"
   ]
  },
  {
   "cell_type": "code",
   "execution_count": 132,
   "id": "5ab89527-f915-4bf3-9296-fc2942ca22ce",
   "metadata": {},
   "outputs": [],
   "source": [
    "AAPL = pd.read_csv('data/stocknet/price/raw/AAPL.csv')"
   ]
  },
  {
   "cell_type": "code",
   "execution_count": 198,
   "id": "debcf51f-f15c-45e8-bd97-dce75bf45d16",
   "metadata": {
    "tags": []
   },
   "outputs": [],
   "source": [
    "AAPL['Diff'] = (AAPL['Adj Close']-AAPL['Adj Close'].shift(1))/AAPL['Adj Close']"
   ]
  },
  {
   "cell_type": "code",
   "execution_count": 199,
   "id": "8a94f90a-22ac-4b09-9f6a-4770d079b8c9",
   "metadata": {
    "tags": []
   },
   "outputs": [
    {
     "data": {
      "text/html": [
       "<div>\n",
       "<style scoped>\n",
       "    .dataframe tbody tr th:only-of-type {\n",
       "        vertical-align: middle;\n",
       "    }\n",
       "\n",
       "    .dataframe tbody tr th {\n",
       "        vertical-align: top;\n",
       "    }\n",
       "\n",
       "    .dataframe thead th {\n",
       "        text-align: right;\n",
       "    }\n",
       "</style>\n",
       "<table border=\"1\" class=\"dataframe\">\n",
       "  <thead>\n",
       "    <tr style=\"text-align: right;\">\n",
       "      <th></th>\n",
       "      <th>Date</th>\n",
       "      <th>Open</th>\n",
       "      <th>High</th>\n",
       "      <th>Low</th>\n",
       "      <th>Close</th>\n",
       "      <th>Adj Close</th>\n",
       "      <th>Volume</th>\n",
       "      <th>Diff</th>\n",
       "    </tr>\n",
       "  </thead>\n",
       "  <tbody>\n",
       "    <tr>\n",
       "      <th>0</th>\n",
       "      <td>2012-09-04</td>\n",
       "      <td>95.108574</td>\n",
       "      <td>96.448570</td>\n",
       "      <td>94.928574</td>\n",
       "      <td>96.424286</td>\n",
       "      <td>87.121140</td>\n",
       "      <td>91973000</td>\n",
       "      <td>NaN</td>\n",
       "    </tr>\n",
       "    <tr>\n",
       "      <th>1</th>\n",
       "      <td>2012-09-05</td>\n",
       "      <td>96.510002</td>\n",
       "      <td>96.621429</td>\n",
       "      <td>95.657143</td>\n",
       "      <td>95.747147</td>\n",
       "      <td>86.509338</td>\n",
       "      <td>84093800</td>\n",
       "      <td>-0.007072</td>\n",
       "    </tr>\n",
       "    <tr>\n",
       "      <th>2</th>\n",
       "      <td>2012-09-06</td>\n",
       "      <td>96.167145</td>\n",
       "      <td>96.898575</td>\n",
       "      <td>95.828575</td>\n",
       "      <td>96.610001</td>\n",
       "      <td>87.288956</td>\n",
       "      <td>97799100</td>\n",
       "      <td>0.008931</td>\n",
       "    </tr>\n",
       "    <tr>\n",
       "      <th>3</th>\n",
       "      <td>2012-09-07</td>\n",
       "      <td>96.864288</td>\n",
       "      <td>97.497147</td>\n",
       "      <td>96.538574</td>\n",
       "      <td>97.205711</td>\n",
       "      <td>87.827171</td>\n",
       "      <td>82416600</td>\n",
       "      <td>0.006128</td>\n",
       "    </tr>\n",
       "    <tr>\n",
       "      <th>4</th>\n",
       "      <td>2012-09-10</td>\n",
       "      <td>97.207146</td>\n",
       "      <td>97.612854</td>\n",
       "      <td>94.585716</td>\n",
       "      <td>94.677139</td>\n",
       "      <td>85.542564</td>\n",
       "      <td>121999500</td>\n",
       "      <td>-0.026707</td>\n",
       "    </tr>\n",
       "    <tr>\n",
       "      <th>...</th>\n",
       "      <td>...</td>\n",
       "      <td>...</td>\n",
       "      <td>...</td>\n",
       "      <td>...</td>\n",
       "      <td>...</td>\n",
       "      <td>...</td>\n",
       "      <td>...</td>\n",
       "      <td>...</td>\n",
       "    </tr>\n",
       "    <tr>\n",
       "      <th>1253</th>\n",
       "      <td>2017-08-28</td>\n",
       "      <td>160.139999</td>\n",
       "      <td>162.000000</td>\n",
       "      <td>159.929993</td>\n",
       "      <td>161.470001</td>\n",
       "      <td>161.470001</td>\n",
       "      <td>25966000</td>\n",
       "      <td>0.009971</td>\n",
       "    </tr>\n",
       "    <tr>\n",
       "      <th>1254</th>\n",
       "      <td>2017-08-29</td>\n",
       "      <td>160.100006</td>\n",
       "      <td>163.119995</td>\n",
       "      <td>160.000000</td>\n",
       "      <td>162.910004</td>\n",
       "      <td>162.910004</td>\n",
       "      <td>29516900</td>\n",
       "      <td>0.008839</td>\n",
       "    </tr>\n",
       "    <tr>\n",
       "      <th>1255</th>\n",
       "      <td>2017-08-30</td>\n",
       "      <td>163.800003</td>\n",
       "      <td>163.889999</td>\n",
       "      <td>162.610001</td>\n",
       "      <td>163.350006</td>\n",
       "      <td>163.350006</td>\n",
       "      <td>27269600</td>\n",
       "      <td>0.002694</td>\n",
       "    </tr>\n",
       "    <tr>\n",
       "      <th>1256</th>\n",
       "      <td>2017-08-31</td>\n",
       "      <td>163.639999</td>\n",
       "      <td>164.520004</td>\n",
       "      <td>163.479996</td>\n",
       "      <td>164.000000</td>\n",
       "      <td>164.000000</td>\n",
       "      <td>26785100</td>\n",
       "      <td>0.003963</td>\n",
       "    </tr>\n",
       "    <tr>\n",
       "      <th>1257</th>\n",
       "      <td>2017-09-01</td>\n",
       "      <td>164.800003</td>\n",
       "      <td>164.940002</td>\n",
       "      <td>163.630005</td>\n",
       "      <td>164.050003</td>\n",
       "      <td>164.050003</td>\n",
       "      <td>16552800</td>\n",
       "      <td>0.000305</td>\n",
       "    </tr>\n",
       "  </tbody>\n",
       "</table>\n",
       "<p>1258 rows × 8 columns</p>\n",
       "</div>"
      ],
      "text/plain": [
       "            Date        Open        High         Low       Close   Adj Close  \\\n",
       "0     2012-09-04   95.108574   96.448570   94.928574   96.424286   87.121140   \n",
       "1     2012-09-05   96.510002   96.621429   95.657143   95.747147   86.509338   \n",
       "2     2012-09-06   96.167145   96.898575   95.828575   96.610001   87.288956   \n",
       "3     2012-09-07   96.864288   97.497147   96.538574   97.205711   87.827171   \n",
       "4     2012-09-10   97.207146   97.612854   94.585716   94.677139   85.542564   \n",
       "...          ...         ...         ...         ...         ...         ...   \n",
       "1253  2017-08-28  160.139999  162.000000  159.929993  161.470001  161.470001   \n",
       "1254  2017-08-29  160.100006  163.119995  160.000000  162.910004  162.910004   \n",
       "1255  2017-08-30  163.800003  163.889999  162.610001  163.350006  163.350006   \n",
       "1256  2017-08-31  163.639999  164.520004  163.479996  164.000000  164.000000   \n",
       "1257  2017-09-01  164.800003  164.940002  163.630005  164.050003  164.050003   \n",
       "\n",
       "         Volume      Diff  \n",
       "0      91973000       NaN  \n",
       "1      84093800 -0.007072  \n",
       "2      97799100  0.008931  \n",
       "3      82416600  0.006128  \n",
       "4     121999500 -0.026707  \n",
       "...         ...       ...  \n",
       "1253   25966000  0.009971  \n",
       "1254   29516900  0.008839  \n",
       "1255   27269600  0.002694  \n",
       "1256   26785100  0.003963  \n",
       "1257   16552800  0.000305  \n",
       "\n",
       "[1258 rows x 8 columns]"
      ]
     },
     "execution_count": 199,
     "metadata": {},
     "output_type": "execute_result"
    }
   ],
   "source": [
    "AAPL"
   ]
  },
  {
   "cell_type": "code",
   "execution_count": 139,
   "id": "9ada3a16-0384-4673-b25e-875c3aa64a82",
   "metadata": {},
   "outputs": [],
   "source": [
    "AAPL_ = pd.read_csv('data/stocknet/price/preprocessed/AAPL.txt', sep='\\t', header=None)"
   ]
  },
  {
   "cell_type": "code",
   "execution_count": 140,
   "id": "494368af-0311-46f4-b468-a297ca834f20",
   "metadata": {
    "tags": []
   },
   "outputs": [
    {
     "data": {
      "text/html": [
       "<div>\n",
       "<style scoped>\n",
       "    .dataframe tbody tr th:only-of-type {\n",
       "        vertical-align: middle;\n",
       "    }\n",
       "\n",
       "    .dataframe tbody tr th {\n",
       "        vertical-align: top;\n",
       "    }\n",
       "\n",
       "    .dataframe thead th {\n",
       "        text-align: right;\n",
       "    }\n",
       "</style>\n",
       "<table border=\"1\" class=\"dataframe\">\n",
       "  <thead>\n",
       "    <tr style=\"text-align: right;\">\n",
       "      <th></th>\n",
       "      <th>0</th>\n",
       "      <th>1</th>\n",
       "      <th>2</th>\n",
       "      <th>3</th>\n",
       "      <th>4</th>\n",
       "      <th>5</th>\n",
       "      <th>6</th>\n",
       "    </tr>\n",
       "  </thead>\n",
       "  <tbody>\n",
       "    <tr>\n",
       "      <th>0</th>\n",
       "      <td>2017-09-01</td>\n",
       "      <td>0.000305</td>\n",
       "      <td>0.004878</td>\n",
       "      <td>0.005732</td>\n",
       "      <td>-0.002256</td>\n",
       "      <td>0.050003</td>\n",
       "      <td>16552800.0</td>\n",
       "    </tr>\n",
       "    <tr>\n",
       "      <th>1</th>\n",
       "      <td>2017-08-31</td>\n",
       "      <td>0.003979</td>\n",
       "      <td>0.001775</td>\n",
       "      <td>0.007163</td>\n",
       "      <td>0.000796</td>\n",
       "      <td>0.649994</td>\n",
       "      <td>26785100.0</td>\n",
       "    </tr>\n",
       "    <tr>\n",
       "      <th>2</th>\n",
       "      <td>2017-08-30</td>\n",
       "      <td>0.002701</td>\n",
       "      <td>0.005463</td>\n",
       "      <td>0.006016</td>\n",
       "      <td>-0.001842</td>\n",
       "      <td>0.440002</td>\n",
       "      <td>27269600.0</td>\n",
       "    </tr>\n",
       "    <tr>\n",
       "      <th>3</th>\n",
       "      <td>2017-08-29</td>\n",
       "      <td>0.008918</td>\n",
       "      <td>-0.008485</td>\n",
       "      <td>0.010219</td>\n",
       "      <td>-0.009104</td>\n",
       "      <td>1.440003</td>\n",
       "      <td>29516900.0</td>\n",
       "    </tr>\n",
       "    <tr>\n",
       "      <th>4</th>\n",
       "      <td>2017-08-28</td>\n",
       "      <td>0.010071</td>\n",
       "      <td>0.001752</td>\n",
       "      <td>0.013387</td>\n",
       "      <td>0.000438</td>\n",
       "      <td>1.610000</td>\n",
       "      <td>25966000.0</td>\n",
       "    </tr>\n",
       "    <tr>\n",
       "      <th>...</th>\n",
       "      <td>...</td>\n",
       "      <td>...</td>\n",
       "      <td>...</td>\n",
       "      <td>...</td>\n",
       "      <td>...</td>\n",
       "      <td>...</td>\n",
       "      <td>...</td>\n",
       "    </tr>\n",
       "    <tr>\n",
       "      <th>1252</th>\n",
       "      <td>2012-09-11</td>\n",
       "      <td>-0.003244</td>\n",
       "      <td>0.110742</td>\n",
       "      <td>0.119075</td>\n",
       "      <td>0.096363</td>\n",
       "      <td>-0.277496</td>\n",
       "      <td>125995800.0</td>\n",
       "    </tr>\n",
       "    <tr>\n",
       "      <th>1253</th>\n",
       "      <td>2012-09-10</td>\n",
       "      <td>-0.026013</td>\n",
       "      <td>0.106800</td>\n",
       "      <td>0.111420</td>\n",
       "      <td>0.076953</td>\n",
       "      <td>-2.284607</td>\n",
       "      <td>121999500.0</td>\n",
       "    </tr>\n",
       "    <tr>\n",
       "      <th>1254</th>\n",
       "      <td>2012-09-07</td>\n",
       "      <td>0.006166</td>\n",
       "      <td>0.109697</td>\n",
       "      <td>0.116947</td>\n",
       "      <td>0.105966</td>\n",
       "      <td>0.538215</td>\n",
       "      <td>82416600.0</td>\n",
       "    </tr>\n",
       "    <tr>\n",
       "      <th>1255</th>\n",
       "      <td>2012-09-06</td>\n",
       "      <td>0.009012</td>\n",
       "      <td>0.111639</td>\n",
       "      <td>0.120094</td>\n",
       "      <td>0.107725</td>\n",
       "      <td>0.779618</td>\n",
       "      <td>97799100.0</td>\n",
       "    </tr>\n",
       "    <tr>\n",
       "      <th>1256</th>\n",
       "      <td>2012-09-05</td>\n",
       "      <td>-0.007022</td>\n",
       "      <td>0.107768</td>\n",
       "      <td>0.109047</td>\n",
       "      <td>0.097979</td>\n",
       "      <td>-0.611802</td>\n",
       "      <td>84093800.0</td>\n",
       "    </tr>\n",
       "  </tbody>\n",
       "</table>\n",
       "<p>1257 rows × 7 columns</p>\n",
       "</div>"
      ],
      "text/plain": [
       "               0         1         2         3         4         5  \\\n",
       "0     2017-09-01  0.000305  0.004878  0.005732 -0.002256  0.050003   \n",
       "1     2017-08-31  0.003979  0.001775  0.007163  0.000796  0.649994   \n",
       "2     2017-08-30  0.002701  0.005463  0.006016 -0.001842  0.440002   \n",
       "3     2017-08-29  0.008918 -0.008485  0.010219 -0.009104  1.440003   \n",
       "4     2017-08-28  0.010071  0.001752  0.013387  0.000438  1.610000   \n",
       "...          ...       ...       ...       ...       ...       ...   \n",
       "1252  2012-09-11 -0.003244  0.110742  0.119075  0.096363 -0.277496   \n",
       "1253  2012-09-10 -0.026013  0.106800  0.111420  0.076953 -2.284607   \n",
       "1254  2012-09-07  0.006166  0.109697  0.116947  0.105966  0.538215   \n",
       "1255  2012-09-06  0.009012  0.111639  0.120094  0.107725  0.779618   \n",
       "1256  2012-09-05 -0.007022  0.107768  0.109047  0.097979 -0.611802   \n",
       "\n",
       "                6  \n",
       "0      16552800.0  \n",
       "1      26785100.0  \n",
       "2      27269600.0  \n",
       "3      29516900.0  \n",
       "4      25966000.0  \n",
       "...           ...  \n",
       "1252  125995800.0  \n",
       "1253  121999500.0  \n",
       "1254   82416600.0  \n",
       "1255   97799100.0  \n",
       "1256   84093800.0  \n",
       "\n",
       "[1257 rows x 7 columns]"
      ]
     },
     "execution_count": 140,
     "metadata": {},
     "output_type": "execute_result"
    }
   ],
   "source": [
    "AAPL_"
   ]
  },
  {
   "cell_type": "code",
   "execution_count": 208,
   "id": "2aca165b-a496-4c22-9b18-c89bc73e5021",
   "metadata": {
    "tags": []
   },
   "outputs": [],
   "source": [
    "GSPC = yf.Ticker(\"^GSPC\")\n",
    "\n",
    "hist = GSPC.history(start=\"2012-01-01\", end=\"2018-01-01\")\n",
    "\n",
    "hist['Diff'] = (hist['Close']-hist['Close'].shift(1))/hist['Close']\n",
    "\n",
    "hist = hist.reset_index()\n",
    "\n",
    "hist['Date'] = hist['Date'].dt.strftime('%Y-%m-%d')\n",
    "\n",
    "hist = hist.set_index(\"Date\")\n",
    "\n",
    "hist.to_csv(\"data/stocknet/price/s&p.txt\", sep='\\t')\n",
    "\n",
    "snp = hist"
   ]
  },
  {
   "cell_type": "code",
   "execution_count": null,
   "id": "d874d683-8108-4102-bd74-f4d6fd74ce0d",
   "metadata": {},
   "outputs": [],
   "source": []
  }
 ],
 "metadata": {
  "availableInstances": [
   {
    "_defaultOrder": 0,
    "_isFastLaunch": true,
    "category": "General purpose",
    "gpuNum": 0,
    "hideHardwareSpecs": false,
    "memoryGiB": 4,
    "name": "ml.t3.medium",
    "vcpuNum": 2
   },
   {
    "_defaultOrder": 1,
    "_isFastLaunch": false,
    "category": "General purpose",
    "gpuNum": 0,
    "hideHardwareSpecs": false,
    "memoryGiB": 8,
    "name": "ml.t3.large",
    "vcpuNum": 2
   },
   {
    "_defaultOrder": 2,
    "_isFastLaunch": false,
    "category": "General purpose",
    "gpuNum": 0,
    "hideHardwareSpecs": false,
    "memoryGiB": 16,
    "name": "ml.t3.xlarge",
    "vcpuNum": 4
   },
   {
    "_defaultOrder": 3,
    "_isFastLaunch": false,
    "category": "General purpose",
    "gpuNum": 0,
    "hideHardwareSpecs": false,
    "memoryGiB": 32,
    "name": "ml.t3.2xlarge",
    "vcpuNum": 8
   },
   {
    "_defaultOrder": 4,
    "_isFastLaunch": true,
    "category": "General purpose",
    "gpuNum": 0,
    "hideHardwareSpecs": false,
    "memoryGiB": 8,
    "name": "ml.m5.large",
    "vcpuNum": 2
   },
   {
    "_defaultOrder": 5,
    "_isFastLaunch": false,
    "category": "General purpose",
    "gpuNum": 0,
    "hideHardwareSpecs": false,
    "memoryGiB": 16,
    "name": "ml.m5.xlarge",
    "vcpuNum": 4
   },
   {
    "_defaultOrder": 6,
    "_isFastLaunch": false,
    "category": "General purpose",
    "gpuNum": 0,
    "hideHardwareSpecs": false,
    "memoryGiB": 32,
    "name": "ml.m5.2xlarge",
    "vcpuNum": 8
   },
   {
    "_defaultOrder": 7,
    "_isFastLaunch": false,
    "category": "General purpose",
    "gpuNum": 0,
    "hideHardwareSpecs": false,
    "memoryGiB": 64,
    "name": "ml.m5.4xlarge",
    "vcpuNum": 16
   },
   {
    "_defaultOrder": 8,
    "_isFastLaunch": false,
    "category": "General purpose",
    "gpuNum": 0,
    "hideHardwareSpecs": false,
    "memoryGiB": 128,
    "name": "ml.m5.8xlarge",
    "vcpuNum": 32
   },
   {
    "_defaultOrder": 9,
    "_isFastLaunch": false,
    "category": "General purpose",
    "gpuNum": 0,
    "hideHardwareSpecs": false,
    "memoryGiB": 192,
    "name": "ml.m5.12xlarge",
    "vcpuNum": 48
   },
   {
    "_defaultOrder": 10,
    "_isFastLaunch": false,
    "category": "General purpose",
    "gpuNum": 0,
    "hideHardwareSpecs": false,
    "memoryGiB": 256,
    "name": "ml.m5.16xlarge",
    "vcpuNum": 64
   },
   {
    "_defaultOrder": 11,
    "_isFastLaunch": false,
    "category": "General purpose",
    "gpuNum": 0,
    "hideHardwareSpecs": false,
    "memoryGiB": 384,
    "name": "ml.m5.24xlarge",
    "vcpuNum": 96
   },
   {
    "_defaultOrder": 12,
    "_isFastLaunch": false,
    "category": "General purpose",
    "gpuNum": 0,
    "hideHardwareSpecs": false,
    "memoryGiB": 8,
    "name": "ml.m5d.large",
    "vcpuNum": 2
   },
   {
    "_defaultOrder": 13,
    "_isFastLaunch": false,
    "category": "General purpose",
    "gpuNum": 0,
    "hideHardwareSpecs": false,
    "memoryGiB": 16,
    "name": "ml.m5d.xlarge",
    "vcpuNum": 4
   },
   {
    "_defaultOrder": 14,
    "_isFastLaunch": false,
    "category": "General purpose",
    "gpuNum": 0,
    "hideHardwareSpecs": false,
    "memoryGiB": 32,
    "name": "ml.m5d.2xlarge",
    "vcpuNum": 8
   },
   {
    "_defaultOrder": 15,
    "_isFastLaunch": false,
    "category": "General purpose",
    "gpuNum": 0,
    "hideHardwareSpecs": false,
    "memoryGiB": 64,
    "name": "ml.m5d.4xlarge",
    "vcpuNum": 16
   },
   {
    "_defaultOrder": 16,
    "_isFastLaunch": false,
    "category": "General purpose",
    "gpuNum": 0,
    "hideHardwareSpecs": false,
    "memoryGiB": 128,
    "name": "ml.m5d.8xlarge",
    "vcpuNum": 32
   },
   {
    "_defaultOrder": 17,
    "_isFastLaunch": false,
    "category": "General purpose",
    "gpuNum": 0,
    "hideHardwareSpecs": false,
    "memoryGiB": 192,
    "name": "ml.m5d.12xlarge",
    "vcpuNum": 48
   },
   {
    "_defaultOrder": 18,
    "_isFastLaunch": false,
    "category": "General purpose",
    "gpuNum": 0,
    "hideHardwareSpecs": false,
    "memoryGiB": 256,
    "name": "ml.m5d.16xlarge",
    "vcpuNum": 64
   },
   {
    "_defaultOrder": 19,
    "_isFastLaunch": false,
    "category": "General purpose",
    "gpuNum": 0,
    "hideHardwareSpecs": false,
    "memoryGiB": 384,
    "name": "ml.m5d.24xlarge",
    "vcpuNum": 96
   },
   {
    "_defaultOrder": 20,
    "_isFastLaunch": false,
    "category": "General purpose",
    "gpuNum": 0,
    "hideHardwareSpecs": true,
    "memoryGiB": 0,
    "name": "ml.geospatial.interactive",
    "supportedImageNames": [
     "sagemaker-geospatial-v1-0"
    ],
    "vcpuNum": 0
   },
   {
    "_defaultOrder": 21,
    "_isFastLaunch": true,
    "category": "Compute optimized",
    "gpuNum": 0,
    "hideHardwareSpecs": false,
    "memoryGiB": 4,
    "name": "ml.c5.large",
    "vcpuNum": 2
   },
   {
    "_defaultOrder": 22,
    "_isFastLaunch": false,
    "category": "Compute optimized",
    "gpuNum": 0,
    "hideHardwareSpecs": false,
    "memoryGiB": 8,
    "name": "ml.c5.xlarge",
    "vcpuNum": 4
   },
   {
    "_defaultOrder": 23,
    "_isFastLaunch": false,
    "category": "Compute optimized",
    "gpuNum": 0,
    "hideHardwareSpecs": false,
    "memoryGiB": 16,
    "name": "ml.c5.2xlarge",
    "vcpuNum": 8
   },
   {
    "_defaultOrder": 24,
    "_isFastLaunch": false,
    "category": "Compute optimized",
    "gpuNum": 0,
    "hideHardwareSpecs": false,
    "memoryGiB": 32,
    "name": "ml.c5.4xlarge",
    "vcpuNum": 16
   },
   {
    "_defaultOrder": 25,
    "_isFastLaunch": false,
    "category": "Compute optimized",
    "gpuNum": 0,
    "hideHardwareSpecs": false,
    "memoryGiB": 72,
    "name": "ml.c5.9xlarge",
    "vcpuNum": 36
   },
   {
    "_defaultOrder": 26,
    "_isFastLaunch": false,
    "category": "Compute optimized",
    "gpuNum": 0,
    "hideHardwareSpecs": false,
    "memoryGiB": 96,
    "name": "ml.c5.12xlarge",
    "vcpuNum": 48
   },
   {
    "_defaultOrder": 27,
    "_isFastLaunch": false,
    "category": "Compute optimized",
    "gpuNum": 0,
    "hideHardwareSpecs": false,
    "memoryGiB": 144,
    "name": "ml.c5.18xlarge",
    "vcpuNum": 72
   },
   {
    "_defaultOrder": 28,
    "_isFastLaunch": false,
    "category": "Compute optimized",
    "gpuNum": 0,
    "hideHardwareSpecs": false,
    "memoryGiB": 192,
    "name": "ml.c5.24xlarge",
    "vcpuNum": 96
   },
   {
    "_defaultOrder": 29,
    "_isFastLaunch": true,
    "category": "Accelerated computing",
    "gpuNum": 1,
    "hideHardwareSpecs": false,
    "memoryGiB": 16,
    "name": "ml.g4dn.xlarge",
    "vcpuNum": 4
   },
   {
    "_defaultOrder": 30,
    "_isFastLaunch": false,
    "category": "Accelerated computing",
    "gpuNum": 1,
    "hideHardwareSpecs": false,
    "memoryGiB": 32,
    "name": "ml.g4dn.2xlarge",
    "vcpuNum": 8
   },
   {
    "_defaultOrder": 31,
    "_isFastLaunch": false,
    "category": "Accelerated computing",
    "gpuNum": 1,
    "hideHardwareSpecs": false,
    "memoryGiB": 64,
    "name": "ml.g4dn.4xlarge",
    "vcpuNum": 16
   },
   {
    "_defaultOrder": 32,
    "_isFastLaunch": false,
    "category": "Accelerated computing",
    "gpuNum": 1,
    "hideHardwareSpecs": false,
    "memoryGiB": 128,
    "name": "ml.g4dn.8xlarge",
    "vcpuNum": 32
   },
   {
    "_defaultOrder": 33,
    "_isFastLaunch": false,
    "category": "Accelerated computing",
    "gpuNum": 4,
    "hideHardwareSpecs": false,
    "memoryGiB": 192,
    "name": "ml.g4dn.12xlarge",
    "vcpuNum": 48
   },
   {
    "_defaultOrder": 34,
    "_isFastLaunch": false,
    "category": "Accelerated computing",
    "gpuNum": 1,
    "hideHardwareSpecs": false,
    "memoryGiB": 256,
    "name": "ml.g4dn.16xlarge",
    "vcpuNum": 64
   },
   {
    "_defaultOrder": 35,
    "_isFastLaunch": false,
    "category": "Accelerated computing",
    "gpuNum": 1,
    "hideHardwareSpecs": false,
    "memoryGiB": 61,
    "name": "ml.p3.2xlarge",
    "vcpuNum": 8
   },
   {
    "_defaultOrder": 36,
    "_isFastLaunch": false,
    "category": "Accelerated computing",
    "gpuNum": 4,
    "hideHardwareSpecs": false,
    "memoryGiB": 244,
    "name": "ml.p3.8xlarge",
    "vcpuNum": 32
   },
   {
    "_defaultOrder": 37,
    "_isFastLaunch": false,
    "category": "Accelerated computing",
    "gpuNum": 8,
    "hideHardwareSpecs": false,
    "memoryGiB": 488,
    "name": "ml.p3.16xlarge",
    "vcpuNum": 64
   },
   {
    "_defaultOrder": 38,
    "_isFastLaunch": false,
    "category": "Accelerated computing",
    "gpuNum": 8,
    "hideHardwareSpecs": false,
    "memoryGiB": 768,
    "name": "ml.p3dn.24xlarge",
    "vcpuNum": 96
   },
   {
    "_defaultOrder": 39,
    "_isFastLaunch": false,
    "category": "Memory Optimized",
    "gpuNum": 0,
    "hideHardwareSpecs": false,
    "memoryGiB": 16,
    "name": "ml.r5.large",
    "vcpuNum": 2
   },
   {
    "_defaultOrder": 40,
    "_isFastLaunch": false,
    "category": "Memory Optimized",
    "gpuNum": 0,
    "hideHardwareSpecs": false,
    "memoryGiB": 32,
    "name": "ml.r5.xlarge",
    "vcpuNum": 4
   },
   {
    "_defaultOrder": 41,
    "_isFastLaunch": false,
    "category": "Memory Optimized",
    "gpuNum": 0,
    "hideHardwareSpecs": false,
    "memoryGiB": 64,
    "name": "ml.r5.2xlarge",
    "vcpuNum": 8
   },
   {
    "_defaultOrder": 42,
    "_isFastLaunch": false,
    "category": "Memory Optimized",
    "gpuNum": 0,
    "hideHardwareSpecs": false,
    "memoryGiB": 128,
    "name": "ml.r5.4xlarge",
    "vcpuNum": 16
   },
   {
    "_defaultOrder": 43,
    "_isFastLaunch": false,
    "category": "Memory Optimized",
    "gpuNum": 0,
    "hideHardwareSpecs": false,
    "memoryGiB": 256,
    "name": "ml.r5.8xlarge",
    "vcpuNum": 32
   },
   {
    "_defaultOrder": 44,
    "_isFastLaunch": false,
    "category": "Memory Optimized",
    "gpuNum": 0,
    "hideHardwareSpecs": false,
    "memoryGiB": 384,
    "name": "ml.r5.12xlarge",
    "vcpuNum": 48
   },
   {
    "_defaultOrder": 45,
    "_isFastLaunch": false,
    "category": "Memory Optimized",
    "gpuNum": 0,
    "hideHardwareSpecs": false,
    "memoryGiB": 512,
    "name": "ml.r5.16xlarge",
    "vcpuNum": 64
   },
   {
    "_defaultOrder": 46,
    "_isFastLaunch": false,
    "category": "Memory Optimized",
    "gpuNum": 0,
    "hideHardwareSpecs": false,
    "memoryGiB": 768,
    "name": "ml.r5.24xlarge",
    "vcpuNum": 96
   },
   {
    "_defaultOrder": 47,
    "_isFastLaunch": false,
    "category": "Accelerated computing",
    "gpuNum": 1,
    "hideHardwareSpecs": false,
    "memoryGiB": 16,
    "name": "ml.g5.xlarge",
    "vcpuNum": 4
   },
   {
    "_defaultOrder": 48,
    "_isFastLaunch": false,
    "category": "Accelerated computing",
    "gpuNum": 1,
    "hideHardwareSpecs": false,
    "memoryGiB": 32,
    "name": "ml.g5.2xlarge",
    "vcpuNum": 8
   },
   {
    "_defaultOrder": 49,
    "_isFastLaunch": false,
    "category": "Accelerated computing",
    "gpuNum": 1,
    "hideHardwareSpecs": false,
    "memoryGiB": 64,
    "name": "ml.g5.4xlarge",
    "vcpuNum": 16
   },
   {
    "_defaultOrder": 50,
    "_isFastLaunch": false,
    "category": "Accelerated computing",
    "gpuNum": 1,
    "hideHardwareSpecs": false,
    "memoryGiB": 128,
    "name": "ml.g5.8xlarge",
    "vcpuNum": 32
   },
   {
    "_defaultOrder": 51,
    "_isFastLaunch": false,
    "category": "Accelerated computing",
    "gpuNum": 1,
    "hideHardwareSpecs": false,
    "memoryGiB": 256,
    "name": "ml.g5.16xlarge",
    "vcpuNum": 64
   },
   {
    "_defaultOrder": 52,
    "_isFastLaunch": false,
    "category": "Accelerated computing",
    "gpuNum": 4,
    "hideHardwareSpecs": false,
    "memoryGiB": 192,
    "name": "ml.g5.12xlarge",
    "vcpuNum": 48
   },
   {
    "_defaultOrder": 53,
    "_isFastLaunch": false,
    "category": "Accelerated computing",
    "gpuNum": 4,
    "hideHardwareSpecs": false,
    "memoryGiB": 384,
    "name": "ml.g5.24xlarge",
    "vcpuNum": 96
   },
   {
    "_defaultOrder": 54,
    "_isFastLaunch": false,
    "category": "Accelerated computing",
    "gpuNum": 8,
    "hideHardwareSpecs": false,
    "memoryGiB": 768,
    "name": "ml.g5.48xlarge",
    "vcpuNum": 192
   },
   {
    "_defaultOrder": 55,
    "_isFastLaunch": false,
    "category": "Accelerated computing",
    "gpuNum": 8,
    "hideHardwareSpecs": false,
    "memoryGiB": 1152,
    "name": "ml.p4d.24xlarge",
    "vcpuNum": 96
   },
   {
    "_defaultOrder": 56,
    "_isFastLaunch": false,
    "category": "Accelerated computing",
    "gpuNum": 8,
    "hideHardwareSpecs": false,
    "memoryGiB": 1152,
    "name": "ml.p4de.24xlarge",
    "vcpuNum": 96
   },
   {
    "_defaultOrder": 57,
    "_isFastLaunch": false,
    "category": "Accelerated computing",
    "gpuNum": 0,
    "hideHardwareSpecs": false,
    "memoryGiB": 32,
    "name": "ml.trn1.2xlarge",
    "vcpuNum": 8
   },
   {
    "_defaultOrder": 58,
    "_isFastLaunch": false,
    "category": "Accelerated computing",
    "gpuNum": 0,
    "hideHardwareSpecs": false,
    "memoryGiB": 512,
    "name": "ml.trn1.32xlarge",
    "vcpuNum": 128
   },
   {
    "_defaultOrder": 59,
    "_isFastLaunch": false,
    "category": "Accelerated computing",
    "gpuNum": 0,
    "hideHardwareSpecs": false,
    "memoryGiB": 512,
    "name": "ml.trn1n.32xlarge",
    "vcpuNum": 128
   }
  ],
  "kernelspec": {
   "display_name": "Python 3 (Data Science 3.0)",
   "language": "python",
   "name": "python3__SAGEMAKER_INTERNAL__arn:aws:sagemaker:us-west-2:236514542706:image/sagemaker-data-science-310-v1"
  },
  "language_info": {
   "codemirror_mode": {
    "name": "ipython",
    "version": 3
   },
   "file_extension": ".py",
   "mimetype": "text/x-python",
   "name": "python",
   "nbconvert_exporter": "python",
   "pygments_lexer": "ipython3",
   "version": "3.10.6"
  }
 },
 "nbformat": 4,
 "nbformat_minor": 5
}
