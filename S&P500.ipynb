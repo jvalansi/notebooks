{
 "cells": [
  {
   "cell_type": "code",
   "execution_count": 2,
   "metadata": {},
   "outputs": [],
   "source": [
    "import kaggle"
   ]
  },
  {
   "cell_type": "code",
   "execution_count": 10,
   "metadata": {},
   "outputs": [],
   "source": [
    "kaggle.api.authenticate()"
   ]
  },
  {
   "cell_type": "code",
   "execution_count": 17,
   "metadata": {},
   "outputs": [
    {
     "data": {
      "text/plain": [
       "[mlg-ulb/creditcardfraud,\n",
       " hugomathien/soccer,\n",
       " ronitf/heart-disease-uci,\n",
       " lava18/google-play-store-apps,\n",
       " tmdb/tmdb-movie-metadata,\n",
       " zynicide/wine-reviews,\n",
       " START-UMD/gtd,\n",
       " mczielinski/bitcoin-historical-data,\n",
       " mehdidag/black-friday,\n",
       " karangadiya/fifa19,\n",
       " datasnaek/youtube-new,\n",
       " abcsds/pokemon,\n",
       " russellyates88/suicide-rates-overview-1985-to-2016,\n",
       " borismarjanovic/price-volume-data-for-all-us-stocks-etfs,\n",
       " unsdsn/world-happiness,\n",
       " uciml/iris,\n",
       " rounakbanik/the-movies-dataset,\n",
       " worldbank/world-development-indicators,\n",
       " wendykan/lending-club-loan-data,\n",
       " mohansacharya/graduate-admissions]"
      ]
     },
     "execution_count": 17,
     "metadata": {},
     "output_type": "execute_result"
    }
   ],
   "source": [
    "kaggle.api.dataset_list('votes')"
   ]
  },
  {
   "cell_type": "code",
   "execution_count": 32,
   "metadata": {},
   "outputs": [],
   "source": [
    "import pandas as pd\n",
    "import numpy as np"
   ]
  },
  {
   "cell_type": "code",
   "execution_count": 33,
   "metadata": {},
   "outputs": [],
   "source": [
    "df = pd.read_csv('data/^GSPC.csv')"
   ]
  },
  {
   "cell_type": "code",
   "execution_count": 34,
   "metadata": {},
   "outputs": [
    {
     "data": {
      "text/html": [
       "<div>\n",
       "<style scoped>\n",
       "    .dataframe tbody tr th:only-of-type {\n",
       "        vertical-align: middle;\n",
       "    }\n",
       "\n",
       "    .dataframe tbody tr th {\n",
       "        vertical-align: top;\n",
       "    }\n",
       "\n",
       "    .dataframe thead th {\n",
       "        text-align: right;\n",
       "    }\n",
       "</style>\n",
       "<table border=\"1\" class=\"dataframe\">\n",
       "  <thead>\n",
       "    <tr style=\"text-align: right;\">\n",
       "      <th></th>\n",
       "      <th>Date</th>\n",
       "      <th>Open</th>\n",
       "      <th>High</th>\n",
       "      <th>Low</th>\n",
       "      <th>Close</th>\n",
       "      <th>Adj Close</th>\n",
       "      <th>Volume</th>\n",
       "    </tr>\n",
       "  </thead>\n",
       "  <tbody>\n",
       "    <tr>\n",
       "      <th>0</th>\n",
       "      <td>1950-01-01</td>\n",
       "      <td>16.660000</td>\n",
       "      <td>17.090000</td>\n",
       "      <td>16.650000</td>\n",
       "      <td>17.049999</td>\n",
       "      <td>17.049999</td>\n",
       "      <td>42570000</td>\n",
       "    </tr>\n",
       "    <tr>\n",
       "      <th>1</th>\n",
       "      <td>1950-02-01</td>\n",
       "      <td>17.049999</td>\n",
       "      <td>17.350000</td>\n",
       "      <td>16.990000</td>\n",
       "      <td>17.219999</td>\n",
       "      <td>17.219999</td>\n",
       "      <td>33430000</td>\n",
       "    </tr>\n",
       "    <tr>\n",
       "      <th>2</th>\n",
       "      <td>1950-03-01</td>\n",
       "      <td>17.240000</td>\n",
       "      <td>17.610001</td>\n",
       "      <td>17.070000</td>\n",
       "      <td>17.290001</td>\n",
       "      <td>17.290001</td>\n",
       "      <td>40410000</td>\n",
       "    </tr>\n",
       "    <tr>\n",
       "      <th>3</th>\n",
       "      <td>1950-04-01</td>\n",
       "      <td>17.340000</td>\n",
       "      <td>18.070000</td>\n",
       "      <td>17.340000</td>\n",
       "      <td>18.070000</td>\n",
       "      <td>18.070000</td>\n",
       "      <td>48250000</td>\n",
       "    </tr>\n",
       "    <tr>\n",
       "      <th>4</th>\n",
       "      <td>1950-05-01</td>\n",
       "      <td>18.219999</td>\n",
       "      <td>18.780001</td>\n",
       "      <td>18.110001</td>\n",
       "      <td>18.780001</td>\n",
       "      <td>18.780001</td>\n",
       "      <td>45080000</td>\n",
       "    </tr>\n",
       "  </tbody>\n",
       "</table>\n",
       "</div>"
      ],
      "text/plain": [
       "         Date       Open       High        Low      Close  Adj Close    Volume\n",
       "0  1950-01-01  16.660000  17.090000  16.650000  17.049999  17.049999  42570000\n",
       "1  1950-02-01  17.049999  17.350000  16.990000  17.219999  17.219999  33430000\n",
       "2  1950-03-01  17.240000  17.610001  17.070000  17.290001  17.290001  40410000\n",
       "3  1950-04-01  17.340000  18.070000  17.340000  18.070000  18.070000  48250000\n",
       "4  1950-05-01  18.219999  18.780001  18.110001  18.780001  18.780001  45080000"
      ]
     },
     "execution_count": 34,
     "metadata": {},
     "output_type": "execute_result"
    }
   ],
   "source": [
    "df.head()"
   ]
  },
  {
   "cell_type": "code",
   "execution_count": 35,
   "metadata": {},
   "outputs": [],
   "source": [
    "df['Adj Close Diff'] = df['Adj Close']/df['Adj Close'].shift()"
   ]
  },
  {
   "cell_type": "code",
   "execution_count": 36,
   "metadata": {},
   "outputs": [],
   "source": [
    "df['Log Adj Close Diff'] = np.log(df['Adj Close Diff'])"
   ]
  },
  {
   "cell_type": "code",
   "execution_count": 37,
   "metadata": {},
   "outputs": [
    {
     "data": {
      "text/plain": [
       "1.0766989707555843"
      ]
     },
     "execution_count": 37,
     "metadata": {},
     "output_type": "execute_result"
    }
   ],
   "source": [
    "np.exp(df['Log Adj Close Diff'].mean())**12"
   ]
  },
  {
   "cell_type": "code",
   "execution_count": 38,
   "metadata": {},
   "outputs": [
    {
     "data": {
      "text/plain": [
       "1.0024662697723037"
      ]
     },
     "execution_count": 38,
     "metadata": {},
     "output_type": "execute_result"
    }
   ],
   "source": [
    "1.03**(1/12)"
   ]
  },
  {
   "cell_type": "markdown",
   "metadata": {},
   "source": [
    "# What happens if every period I either:\n",
    "* put the excess revenue (over average revenue) and put in safe investment (3%) or \n",
    "* put funds from the safe investment to reach average revenuem"
   ]
  },
  {
   "cell_type": "code",
   "execution_count": 39,
   "metadata": {},
   "outputs": [
    {
     "name": "stdout",
     "output_type": "stream",
     "text": [
      "1.0061773224372066\n"
     ]
    }
   ],
   "source": [
    "class State():\n",
    "    def __init__(self, price):\n",
    "        self.invest = price\n",
    "        self.invest_history = [self.invest]\n",
    "        self.safe = 0\n",
    "        self.safe_history = [self.safe]\n",
    "\n",
    "    def sell(self, revenue, expected_revenue):\n",
    "        # put excess revenue in safe\n",
    "        excess_revenue = expected_revenue - revenue\n",
    "        self.invest -= excess_revenue\n",
    "        self.safe += excess_revenue\n",
    "\n",
    "    def buy(self, revenue, expected_revenue):\n",
    "        # put funds in investment\n",
    "        funds = expected_revenue - revenue\n",
    "        self.invest += funds\n",
    "        self.safe -= funds\n",
    "        \n",
    "\n",
    "\n",
    "def smoothify(prices):\n",
    "    diffs = prices/prices.shift()\n",
    "    av = np.exp(np.mean(np.log(diffs)))\n",
    "    print(av)\n",
    "    state = State(prices[0])\n",
    "    for diff,price in zip(diffs[1:],prices[1:]):\n",
    "#         print('----------')\n",
    "#         print(price)\n",
    "        expected_revenue = state.invest*av - state.invest\n",
    "#         print(expected_revenue)\n",
    "        revenue = state.invest*diff - state.invest\n",
    "#         print(revenue)\n",
    "        state.invest *= av\n",
    "#         print(state.invest)\n",
    "        state.invest_history.append(state.invest)\n",
    "        state.safe *= 1.0024\n",
    "#         print(state.safe)\n",
    "        state.safe_history.append(state.safe)\n",
    "        excess_revenue = expected_revenue - revenue\n",
    "        state.safe += excess_revenue\n",
    "\n",
    "    return state\n",
    "            \n",
    "state = smoothify(df['Adj Close'])\n",
    "        \n",
    "            "
   ]
  },
  {
   "cell_type": "code",
   "execution_count": 40,
   "metadata": {},
   "outputs": [],
   "source": [
    "s = pd.Series(state.invest_history)"
   ]
  },
  {
   "cell_type": "code",
   "execution_count": 41,
   "metadata": {},
   "outputs": [
    {
     "data": {
      "text/plain": [
       "1.0061773224372066"
      ]
     },
     "execution_count": 41,
     "metadata": {},
     "output_type": "execute_result"
    }
   ],
   "source": [
    "(s/s.shift()).mean()"
   ]
  },
  {
   "cell_type": "code",
   "execution_count": 42,
   "metadata": {},
   "outputs": [],
   "source": [
    "s_safe = pd.Series(state.safe_history)"
   ]
  },
  {
   "cell_type": "code",
   "execution_count": 43,
   "metadata": {},
   "outputs": [],
   "source": [
    "import matplotlib.pyplot as plt"
   ]
  },
  {
   "cell_type": "code",
   "execution_count": 44,
   "metadata": {},
   "outputs": [
    {
     "data": {
      "text/plain": [
       "[<matplotlib.lines.Line2D at 0x112993150>]"
      ]
     },
     "execution_count": 44,
     "metadata": {},
     "output_type": "execute_result"
    },
    {
     "data": {
      "image/png": "[encoded data removed]",
      "text/plain": [
       "<Figure size 432x288 with 1 Axes>"
      ]
     },
     "metadata": {
      "needs_background": "light"
     },
     "output_type": "display_data"
    }
   ],
   "source": [
    "plt.plot(state.safe_history)"
   ]
  },
  {
   "cell_type": "code",
   "execution_count": 45,
   "metadata": {},
   "outputs": [
    {
     "data": {
      "text/plain": [
       "0.006666666666666667"
      ]
     },
     "execution_count": 45,
     "metadata": {},
     "output_type": "execute_result"
    }
   ],
   "source": [
    "0.08/12"
   ]
  },
  {
   "cell_type": "code",
   "execution_count": 46,
   "metadata": {},
   "outputs": [],
   "source": [
    "df = df.dropna()"
   ]
  },
  {
   "cell_type": "code",
   "execution_count": 47,
   "metadata": {},
   "outputs": [],
   "source": [
    "def min_take(sample_size=12*40, x=1000000, t=0.07):\n",
    "    sample = df.sample(sample_size)\n",
    "    takes = []\n",
    "    for diff in sample['Adj Close Diff']:\n",
    "        x*=diff\n",
    "        take = x*t/12\n",
    "        x-=take\n",
    "        takes.append(take)\n",
    "    return min(takes)"
   ]
  },
  {
   "cell_type": "code",
   "execution_count": 48,
   "metadata": {},
   "outputs": [],
   "source": [
    "min_takes = [min_take() for _ in range(1000)]"
   ]
  },
  {
   "cell_type": "code",
   "execution_count": 49,
   "metadata": {},
   "outputs": [
    {
     "data": {
      "text/plain": [
       "3582.6058429752134"
      ]
     },
     "execution_count": 49,
     "metadata": {},
     "output_type": "execute_result"
    }
   ],
   "source": [
    "sum(min_takes)/len(min_takes)"
   ]
  },
  {
   "cell_type": "code",
   "execution_count": 50,
   "metadata": {},
   "outputs": [
    {
     "data": {
      "text/plain": [
       "(array([ 15.,  57., 110., 157., 176., 146., 121., 113.,  78.,  27.]),\n",
       " array([ 676.15117296, 1251.11093476, 1826.07069657, 2401.03045837,\n",
       "        2975.99022017, 3550.94998197, 4125.90974378, 4700.86950558,\n",
       "        5275.82926738, 5850.78902919, 6425.74879099]),\n",
       " <BarContainer object of 10 artists>)"
      ]
     },
     "execution_count": 50,
     "metadata": {},
     "output_type": "execute_result"
    },
    {
     "data": {
      "image/png": "[encoded data removed]",
      "text/plain": [
       "<Figure size 432x288 with 1 Axes>"
      ]
     },
     "metadata": {
      "needs_background": "light"
     },
     "output_type": "display_data"
    }
   ],
   "source": [
    "plt.hist(min_takes)"
   ]
  },
  {
   "cell_type": "code",
   "execution_count": null,
   "metadata": {},
   "outputs": [],
   "source": []
  },
  {
   "cell_type": "code",
   "execution_count": 51,
   "metadata": {},
   "outputs": [],
   "source": [
    "def is_bankrupt(t=0.05, sample_size=12*40, x=1000000):\n",
    "    sample = df.sample(sample_size)\n",
    "    take = x*t/12\n",
    "    for diff in sample['Adj Close Diff']:\n",
    "        x*=diff\n",
    "        x-=take\n",
    "        if x<0:\n",
    "            return True\n",
    "    return False"
   ]
  },
  {
   "cell_type": "code",
   "execution_count": 52,
   "metadata": {},
   "outputs": [],
   "source": [
    "bankrupcies = [is_bankrupt() for _ in range(100)]"
   ]
  },
  {
   "cell_type": "code",
   "execution_count": 53,
   "metadata": {},
   "outputs": [
    {
     "data": {
      "text/plain": [
       "0.11"
      ]
     },
     "execution_count": 53,
     "metadata": {},
     "output_type": "execute_result"
    }
   ],
   "source": [
    "sum(bankrupcies)/len(bankrupcies)"
   ]
  },
  {
   "cell_type": "code",
   "execution_count": 70,
   "metadata": {},
   "outputs": [],
   "source": [
    "def get_bankrupcy_prob(t, s=12*40, N=100):\n",
    "    bankrupcies = [is_bankrupt(t, s) for _ in range(N)]\n",
    "    return sum(bankrupcies)/len(bankrupcies)"
   ]
  },
  {
   "cell_type": "code",
   "execution_count": 55,
   "metadata": {},
   "outputs": [],
   "source": [
    "bankrupcy_probs = [get_bankrupcy_prob(t) for t in [.01,.02,.03,.04,.05,.06,.07,.08,.09,.1]]"
   ]
  },
  {
   "cell_type": "code",
   "execution_count": 56,
   "metadata": {},
   "outputs": [
    {
     "data": {
      "text/plain": [
       "[0.0, 0.0, 0.0, 0.03, 0.08, 0.16, 0.37, 0.7, 0.78, 0.83]"
      ]
     },
     "execution_count": 56,
     "metadata": {},
     "output_type": "execute_result"
    }
   ],
   "source": [
    "bankrupcy_probs"
   ]
  },
  {
   "cell_type": "code",
   "execution_count": 57,
   "metadata": {},
   "outputs": [],
   "source": [
    "def is_bankrupt2(t=0.07, min_take_ratio=.3, sample_size=12*40, x=1000000):\n",
    "    sample = df.sample(sample_size)\n",
    "    min_take = min_take_ratio*x*t/12\n",
    "    for diff in sample['Adj Close Diff']:\n",
    "        x*=diff\n",
    "        take = x*t/12\n",
    "        x-=take\n",
    "        if take<min_take:\n",
    "            return True\n",
    "    return False"
   ]
  },
  {
   "cell_type": "code",
   "execution_count": 69,
   "metadata": {},
   "outputs": [],
   "source": [
    "def get_bankrupcy_prob2(t, m=.5, s=12*40, N=100):\n",
    "    bankrupcies = [is_bankrupt2(t, m, s) for _ in range(N)]\n",
    "    return sum(bankrupcies)/len(bankrupcies)"
   ]
  },
  {
   "cell_type": "code",
   "execution_count": 59,
   "metadata": {},
   "outputs": [],
   "source": [
    "bankrupcy_probs = [get_bankrupcy_prob2(t) for t in [.01,.02,.03,.04,.05,.06,.07,.08,.09,.1]]"
   ]
  },
  {
   "cell_type": "code",
   "execution_count": 60,
   "metadata": {},
   "outputs": [
    {
     "data": {
      "text/plain": [
       "[0.01, 0.03, 0.02, 0.05, 0.08, 0.19, 0.42, 0.51, 0.73, 0.84]"
      ]
     },
     "execution_count": 60,
     "metadata": {},
     "output_type": "execute_result"
    }
   ],
   "source": [
    "bankrupcy_probs"
   ]
  },
  {
   "cell_type": "code",
   "execution_count": 67,
   "metadata": {},
   "outputs": [],
   "source": [
    "def is_bankrupt3(t=0.06, min_take_ratio=.3, sample_size=12*40, x=1000000):\n",
    "    sample = df.sample(sample_size)\n",
    "    min_take = min_take_ratio*x*t/12\n",
    "    for diff in sample['Adj Close Diff']:\n",
    "        x*=diff\n",
    "        take = max(x*t/12, min_take)\n",
    "        x-=take\n",
    "        if x<0:\n",
    "            return True\n",
    "    return False"
   ]
  },
  {
   "cell_type": "code",
   "execution_count": 68,
   "metadata": {},
   "outputs": [],
   "source": [
    "def get_bankrupcy_prob3(t, m=.5, s=12*40, N=100):\n",
    "    bankrupcies = [is_bankrupt3(t, m, s) for _ in range(N)]\n",
    "    return sum(bankrupcies)/len(bankrupcies)"
   ]
  },
  {
   "cell_type": "code",
   "execution_count": 80,
   "metadata": {},
   "outputs": [],
   "source": [
    "bankrupcy_probs = [get_bankrupcy_prob3(t) for t in [.01,.02,.03,.04,.05,.06,.07,.08,.09,.1]]"
   ]
  },
  {
   "cell_type": "code",
   "execution_count": 81,
   "metadata": {},
   "outputs": [
    {
     "data": {
      "text/plain": [
       "[0.0, 0.0, 0.0, 0.0, 0.0, 0.01, 0.02, 0.12, 0.32, 0.48]"
      ]
     },
     "execution_count": 81,
     "metadata": {},
     "output_type": "execute_result"
    }
   ],
   "source": [
    "bankrupcy_probs"
   ]
  },
  {
   "cell_type": "code",
   "execution_count": 82,
   "metadata": {},
   "outputs": [],
   "source": [
    "def is_bankrupt4(t=0.06, min_take_ratio=.3, sample_size=12*40, x=1000000):\n",
    "    sample = df.sample(sample_size)\n",
    "    min_take = min_take_ratio*x*t/12\n",
    "    max_take = x*t/12\n",
    "    for diff in sample['Adj Close Diff']:\n",
    "        x*=diff\n",
    "        take = min(max(x*t/12, min_take),max_take)\n",
    "        x-=take\n",
    "        if x<0:\n",
    "            return True\n",
    "    return False"
   ]
  },
  {
   "cell_type": "code",
   "execution_count": 86,
   "metadata": {},
   "outputs": [],
   "source": [
    "def get_bankrupcy_prob4(t, m=.6, s=12*40, N=100):\n",
    "    bankrupcies = [is_bankrupt4(t, m, s) for _ in range(N)]\n",
    "    return sum(bankrupcies)/len(bankrupcies)"
   ]
  },
  {
   "cell_type": "code",
   "execution_count": 87,
   "metadata": {},
   "outputs": [],
   "source": [
    "bankrupcy_probs = [get_bankrupcy_prob4(t) for t in [.01,.02,.03,.04,.05,.06,.07,.08,.09,.1]]"
   ]
  },
  {
   "cell_type": "code",
   "execution_count": 88,
   "metadata": {},
   "outputs": [
    {
     "data": {
      "text/plain": [
       "[0.0, 0.0, 0.0, 0.0, 0.0, 0.02, 0.1, 0.19, 0.36, 0.51]"
      ]
     },
     "execution_count": 88,
     "metadata": {},
     "output_type": "execute_result"
    }
   ],
   "source": [
    "bankrupcy_probs"
   ]
  },
  {
   "cell_type": "code",
   "execution_count": null,
   "metadata": {},
   "outputs": [],
   "source": []
  }
 ],
 "metadata": {
  "kernelspec": {
   "display_name": "Python 3",
   "language": "python",
   "name": "python3"
  },
  "language_info": {
   "codemirror_mode": {
    "name": "ipython",
    "version": 3
   },
   "file_extension": ".py",
   "mimetype": "text/x-python",
   "name": "python",
   "nbconvert_exporter": "python",
   "pygments_lexer": "ipython3",
   "version": "3.7.7"
  }
 },
 "nbformat": 4,
 "nbformat_minor": 2
}
