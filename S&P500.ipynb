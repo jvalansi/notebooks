{
 "cells": [
  {
   "cell_type": "code",
   "execution_count": 53,
   "metadata": {},
   "outputs": [],
   "source": [
    "import pandas as pd\n",
    "import numpy as np"
   ]
  },
  {
   "cell_type": "code",
   "execution_count": 54,
   "metadata": {},
   "outputs": [],
   "source": [
    "import matplotlib.pyplot as plt"
   ]
  },
  {
   "cell_type": "code",
   "execution_count": 55,
   "metadata": {},
   "outputs": [],
   "source": [
    "from sklearn.linear_model import LinearRegression"
   ]
  },
  {
   "cell_type": "code",
   "execution_count": 85,
   "metadata": {},
   "outputs": [],
   "source": [
    "import requests"
   ]
  },
  {
   "cell_type": "markdown",
   "metadata": {},
   "source": [
    "# GSPC"
   ]
  },
  {
   "cell_type": "code",
   "execution_count": 69,
   "metadata": {},
   "outputs": [],
   "source": [
    "df = pd.read_csv('data/^GSPC.csv')"
   ]
  },
  {
   "cell_type": "code",
   "execution_count": 70,
   "metadata": {},
   "outputs": [
    {
     "data": {
      "text/html": [
       "<div>\n",
       "<style scoped>\n",
       "    .dataframe tbody tr th:only-of-type {\n",
       "        vertical-align: middle;\n",
       "    }\n",
       "\n",
       "    .dataframe tbody tr th {\n",
       "        vertical-align: top;\n",
       "    }\n",
       "\n",
       "    .dataframe thead th {\n",
       "        text-align: right;\n",
       "    }\n",
       "</style>\n",
       "<table border=\"1\" class=\"dataframe\">\n",
       "  <thead>\n",
       "    <tr style=\"text-align: right;\">\n",
       "      <th></th>\n",
       "      <th>Date</th>\n",
       "      <th>Open</th>\n",
       "      <th>High</th>\n",
       "      <th>Low</th>\n",
       "      <th>Close</th>\n",
       "      <th>Adj Close</th>\n",
       "      <th>Volume</th>\n",
       "    </tr>\n",
       "  </thead>\n",
       "  <tbody>\n",
       "    <tr>\n",
       "      <th>0</th>\n",
       "      <td>1950-01-01</td>\n",
       "      <td>16.660000</td>\n",
       "      <td>17.090000</td>\n",
       "      <td>16.650000</td>\n",
       "      <td>17.049999</td>\n",
       "      <td>17.049999</td>\n",
       "      <td>42570000</td>\n",
       "    </tr>\n",
       "    <tr>\n",
       "      <th>1</th>\n",
       "      <td>1950-02-01</td>\n",
       "      <td>17.049999</td>\n",
       "      <td>17.350000</td>\n",
       "      <td>16.990000</td>\n",
       "      <td>17.219999</td>\n",
       "      <td>17.219999</td>\n",
       "      <td>33430000</td>\n",
       "    </tr>\n",
       "    <tr>\n",
       "      <th>2</th>\n",
       "      <td>1950-03-01</td>\n",
       "      <td>17.240000</td>\n",
       "      <td>17.610001</td>\n",
       "      <td>17.070000</td>\n",
       "      <td>17.290001</td>\n",
       "      <td>17.290001</td>\n",
       "      <td>40410000</td>\n",
       "    </tr>\n",
       "    <tr>\n",
       "      <th>3</th>\n",
       "      <td>1950-04-01</td>\n",
       "      <td>17.340000</td>\n",
       "      <td>18.070000</td>\n",
       "      <td>17.340000</td>\n",
       "      <td>18.070000</td>\n",
       "      <td>18.070000</td>\n",
       "      <td>48250000</td>\n",
       "    </tr>\n",
       "    <tr>\n",
       "      <th>4</th>\n",
       "      <td>1950-05-01</td>\n",
       "      <td>18.219999</td>\n",
       "      <td>18.780001</td>\n",
       "      <td>18.110001</td>\n",
       "      <td>18.780001</td>\n",
       "      <td>18.780001</td>\n",
       "      <td>45080000</td>\n",
       "    </tr>\n",
       "  </tbody>\n",
       "</table>\n",
       "</div>"
      ],
      "text/plain": [
       "         Date       Open       High        Low      Close  Adj Close    Volume\n",
       "0  1950-01-01  16.660000  17.090000  16.650000  17.049999  17.049999  42570000\n",
       "1  1950-02-01  17.049999  17.350000  16.990000  17.219999  17.219999  33430000\n",
       "2  1950-03-01  17.240000  17.610001  17.070000  17.290001  17.290001  40410000\n",
       "3  1950-04-01  17.340000  18.070000  17.340000  18.070000  18.070000  48250000\n",
       "4  1950-05-01  18.219999  18.780001  18.110001  18.780001  18.780001  45080000"
      ]
     },
     "execution_count": 70,
     "metadata": {},
     "output_type": "execute_result"
    }
   ],
   "source": [
    "df.head()"
   ]
  },
  {
   "cell_type": "code",
   "execution_count": 71,
   "metadata": {},
   "outputs": [],
   "source": [
    "df['Adj Close Diff'] = df['Adj Close']/df['Adj Close'].shift()"
   ]
  },
  {
   "cell_type": "code",
   "execution_count": 5,
   "metadata": {},
   "outputs": [],
   "source": [
    "df['Log Adj Close Diff'] = np.log(df['Adj Close Diff'])"
   ]
  },
  {
   "cell_type": "code",
   "execution_count": 6,
   "metadata": {},
   "outputs": [
    {
     "data": {
      "text/plain": [
       "1.0766989707555843"
      ]
     },
     "execution_count": 6,
     "metadata": {},
     "output_type": "execute_result"
    }
   ],
   "source": [
    "np.exp(df['Log Adj Close Diff'].mean())**12"
   ]
  },
  {
   "cell_type": "code",
   "execution_count": 7,
   "metadata": {},
   "outputs": [
    {
     "data": {
      "text/plain": [
       "1.0024662697723037"
      ]
     },
     "execution_count": 7,
     "metadata": {},
     "output_type": "execute_result"
    }
   ],
   "source": [
    "1.03**(1/12)"
   ]
  },
  {
   "cell_type": "markdown",
   "metadata": {},
   "source": [
    "# What happens if every period I either:\n",
    "* put the excess revenue (over average revenue) and put in safe investment (3%) or \n",
    "* put funds from the safe investment to reach average revenuem"
   ]
  },
  {
   "cell_type": "code",
   "execution_count": 8,
   "metadata": {},
   "outputs": [
    {
     "name": "stdout",
     "output_type": "stream",
     "text": [
      "1.0061773224372066\n"
     ]
    }
   ],
   "source": [
    "class State():\n",
    "    def __init__(self, price):\n",
    "        self.invest = price\n",
    "        self.invest_history = [self.invest]\n",
    "        self.safe = 0\n",
    "        self.safe_history = [self.safe]\n",
    "\n",
    "    def sell(self, revenue, expected_revenue):\n",
    "        # put excess revenue in safe\n",
    "        excess_revenue = expected_revenue - revenue\n",
    "        self.invest -= excess_revenue\n",
    "        self.safe += excess_revenue\n",
    "\n",
    "    def buy(self, revenue, expected_revenue):\n",
    "        # put funds in investment\n",
    "        funds = expected_revenue - revenue\n",
    "        self.invest += funds\n",
    "        self.safe -= funds\n",
    "        \n",
    "\n",
    "\n",
    "def smoothify(prices):\n",
    "    diffs = prices/prices.shift()\n",
    "    av = np.exp(np.mean(np.log(diffs)))\n",
    "    print(av)\n",
    "    state = State(prices[0])\n",
    "    for diff,price in zip(diffs[1:],prices[1:]):\n",
    "#         print('----------')\n",
    "#         print(price)\n",
    "        expected_revenue = state.invest*av - state.invest\n",
    "#         print(expected_revenue)\n",
    "        revenue = state.invest*diff - state.invest\n",
    "#         print(revenue)\n",
    "        state.invest *= av\n",
    "#         print(state.invest)\n",
    "        state.invest_history.append(state.invest)\n",
    "        state.safe *= 1.0024\n",
    "#         print(state.safe)\n",
    "        state.safe_history.append(state.safe)\n",
    "        excess_revenue = expected_revenue - revenue\n",
    "        state.safe += excess_revenue\n",
    "\n",
    "    return state\n",
    "            \n",
    "state = smoothify(df['Adj Close'])\n",
    "        \n",
    "            "
   ]
  },
  {
   "cell_type": "code",
   "execution_count": 9,
   "metadata": {},
   "outputs": [],
   "source": [
    "s = pd.Series(state.invest_history)"
   ]
  },
  {
   "cell_type": "code",
   "execution_count": 10,
   "metadata": {},
   "outputs": [
    {
     "data": {
      "text/plain": [
       "1.0061773224372177"
      ]
     },
     "execution_count": 10,
     "metadata": {},
     "output_type": "execute_result"
    }
   ],
   "source": [
    "(s/s.shift()).mean()"
   ]
  },
  {
   "cell_type": "code",
   "execution_count": 11,
   "metadata": {},
   "outputs": [],
   "source": [
    "s_safe = pd.Series(state.safe_history)"
   ]
  },
  {
   "cell_type": "code",
   "execution_count": 13,
   "metadata": {},
   "outputs": [
    {
     "data": {
      "text/plain": [
       "[<matplotlib.lines.Line2D at 0x7fad4c83c160>]"
      ]
     },
     "execution_count": 13,
     "metadata": {},
     "output_type": "execute_result"
    },
    {
     "data": {
      "image/png": "[encoded data removed]",
      "text/plain": [
       "<Figure size 432x288 with 1 Axes>"
      ]
     },
     "metadata": {
      "needs_background": "light"
     },
     "output_type": "display_data"
    }
   ],
   "source": [
    "plt.plot(state.safe_history)"
   ]
  },
  {
   "cell_type": "code",
   "execution_count": 14,
   "metadata": {},
   "outputs": [
    {
     "data": {
      "text/plain": [
       "0.006666666666666667"
      ]
     },
     "execution_count": 14,
     "metadata": {},
     "output_type": "execute_result"
    }
   ],
   "source": [
    "0.08/12"
   ]
  },
  {
   "cell_type": "code",
   "execution_count": 15,
   "metadata": {},
   "outputs": [],
   "source": [
    "df = df.dropna()"
   ]
  },
  {
   "cell_type": "code",
   "execution_count": 16,
   "metadata": {},
   "outputs": [],
   "source": [
    "def min_take(sample_size=12*40, x=1000000, t=0.07):\n",
    "    sample = df.sample(sample_size)\n",
    "    takes = []\n",
    "    for diff in sample['Adj Close Diff']:\n",
    "        x*=diff\n",
    "        take = x*t/12\n",
    "        x-=take\n",
    "        takes.append(take)\n",
    "    return min(takes)"
   ]
  },
  {
   "cell_type": "code",
   "execution_count": 17,
   "metadata": {},
   "outputs": [],
   "source": [
    "min_takes = [min_take() for _ in range(1000)]"
   ]
  },
  {
   "cell_type": "code",
   "execution_count": 18,
   "metadata": {},
   "outputs": [
    {
     "data": {
      "text/plain": [
       "3617.6754068050036"
      ]
     },
     "execution_count": 18,
     "metadata": {},
     "output_type": "execute_result"
    }
   ],
   "source": [
    "sum(min_takes)/len(min_takes)"
   ]
  },
  {
   "cell_type": "code",
   "execution_count": 19,
   "metadata": {},
   "outputs": [
    {
     "data": {
      "text/plain": [
       "(array([ 10.,  65., 117., 173., 154., 150., 133., 110.,  84.,   4.]),\n",
       " array([ 602.08549502, 1211.09958806, 1820.11368109, 2429.12777412,\n",
       "        3038.14186715, 3647.15596018, 4256.17005321, 4865.18414625,\n",
       "        5474.19823928, 6083.21233231, 6692.22642534]),\n",
       " <a list of 10 Patch objects>)"
      ]
     },
     "execution_count": 19,
     "metadata": {},
     "output_type": "execute_result"
    },
    {
     "data": {
      "image/png": "[encoded data removed]",
      "text/plain": [
       "<Figure size 432x288 with 1 Axes>"
      ]
     },
     "metadata": {
      "needs_background": "light"
     },
     "output_type": "display_data"
    }
   ],
   "source": [
    "plt.hist(min_takes)"
   ]
  },
  {
   "cell_type": "markdown",
   "metadata": {},
   "source": [
    "# Bankrupcy experiments"
   ]
  },
  {
   "cell_type": "markdown",
   "metadata": {},
   "source": [
    "## Constant withdrawal"
   ]
  },
  {
   "cell_type": "code",
   "execution_count": 20,
   "metadata": {},
   "outputs": [],
   "source": [
    "def is_bankrupt(t=0.05, sample_size=12*40, x=1000000):\n",
    "    sample = df.sample(sample_size)\n",
    "    take = x*t/12\n",
    "    for diff in sample['Adj Close Diff']:\n",
    "        x*=diff\n",
    "        x-=take\n",
    "        if x<0:\n",
    "            return True\n",
    "    return False"
   ]
  },
  {
   "cell_type": "code",
   "execution_count": 21,
   "metadata": {},
   "outputs": [],
   "source": [
    "bankrupcies = [is_bankrupt() for _ in range(100)]"
   ]
  },
  {
   "cell_type": "code",
   "execution_count": 22,
   "metadata": {},
   "outputs": [
    {
     "data": {
      "text/plain": [
       "0.12"
      ]
     },
     "execution_count": 22,
     "metadata": {},
     "output_type": "execute_result"
    }
   ],
   "source": [
    "sum(bankrupcies)/len(bankrupcies)"
   ]
  },
  {
   "cell_type": "code",
   "execution_count": 23,
   "metadata": {},
   "outputs": [],
   "source": [
    "def get_bankrupcy_prob(t, s=12*40, N=100):\n",
    "    bankrupcies = [is_bankrupt(t, s) for _ in range(N)]\n",
    "    return sum(bankrupcies)/len(bankrupcies)"
   ]
  },
  {
   "cell_type": "code",
   "execution_count": 24,
   "metadata": {},
   "outputs": [],
   "source": [
    "bankrupcy_probs = [get_bankrupcy_prob(t) for t in [.01,.02,.03,.04,.05,.06,.07,.08,.09,.1]]"
   ]
  },
  {
   "cell_type": "code",
   "execution_count": 25,
   "metadata": {},
   "outputs": [
    {
     "data": {
      "text/plain": [
       "[0.0, 0.0, 0.01, 0.02, 0.05, 0.21, 0.38, 0.7, 0.68, 0.85]"
      ]
     },
     "execution_count": 25,
     "metadata": {},
     "output_type": "execute_result"
    }
   ],
   "source": [
    "bankrupcy_probs"
   ]
  },
  {
   "cell_type": "markdown",
   "metadata": {},
   "source": [
    "## Constant percent of savings withdrawal"
   ]
  },
  {
   "cell_type": "code",
   "execution_count": 26,
   "metadata": {},
   "outputs": [],
   "source": [
    "def is_bankrupt2(t=0.07, min_take_ratio=.3, sample_size=12*40, x=1000000):\n",
    "    sample = df.sample(sample_size)\n",
    "    min_take = min_take_ratio*x*t/12\n",
    "    for diff in sample['Adj Close Diff']:\n",
    "        x*=diff\n",
    "        take = x*t/12\n",
    "        x-=take\n",
    "        if take<min_take:\n",
    "            return True\n",
    "    return False"
   ]
  },
  {
   "cell_type": "code",
   "execution_count": 27,
   "metadata": {},
   "outputs": [],
   "source": [
    "def get_bankrupcy_prob2(t, m=.5, s=12*40, N=100):\n",
    "    bankrupcies = [is_bankrupt2(t, m, s) for _ in range(N)]\n",
    "    return sum(bankrupcies)/len(bankrupcies)"
   ]
  },
  {
   "cell_type": "code",
   "execution_count": 28,
   "metadata": {},
   "outputs": [],
   "source": [
    "bankrupcy_probs = [get_bankrupcy_prob2(t) for t in [.01,.02,.03,.04,.05,.06,.07,.08,.09,.1]]"
   ]
  },
  {
   "cell_type": "code",
   "execution_count": 29,
   "metadata": {},
   "outputs": [
    {
     "data": {
      "text/plain": [
       "[0.0, 0.01, 0.01, 0.01, 0.1, 0.16, 0.28, 0.53, 0.75, 0.87]"
      ]
     },
     "execution_count": 29,
     "metadata": {},
     "output_type": "execute_result"
    }
   ],
   "source": [
    "bankrupcy_probs"
   ]
  },
  {
   "cell_type": "markdown",
   "metadata": {},
   "source": [
    "## Flexible withdrawal"
   ]
  },
  {
   "cell_type": "markdown",
   "metadata": {},
   "source": [
    "Withdraw a fixed percent down to a minimal withdrawal ratio"
   ]
  },
  {
   "cell_type": "code",
   "execution_count": 30,
   "metadata": {},
   "outputs": [],
   "source": [
    "def is_bankrupt3(t=0.06, min_take_ratio=.3, sample_size=12*40, x=1000000):\n",
    "    sample = df.sample(sample_size)\n",
    "    min_take = min_take_ratio*x*t/12\n",
    "    for diff in sample['Adj Close Diff']:\n",
    "        x*=diff\n",
    "        take = max(x*t/12, min_take)\n",
    "        x-=take\n",
    "        if x<0:\n",
    "            return True\n",
    "    return False"
   ]
  },
  {
   "cell_type": "code",
   "execution_count": 31,
   "metadata": {},
   "outputs": [],
   "source": [
    "def get_bankrupcy_prob3(t, m=.5, s=12*40, N=100):\n",
    "    bankrupcies = [is_bankrupt3(t, m, s) for _ in range(N)]\n",
    "    return sum(bankrupcies)/len(bankrupcies)"
   ]
  },
  {
   "cell_type": "code",
   "execution_count": 32,
   "metadata": {},
   "outputs": [],
   "source": [
    "bankrupcy_probs = [get_bankrupcy_prob3(t) for t in [.01,.02,.03,.04,.05,.06,.07,.08,.09,.1]]"
   ]
  },
  {
   "cell_type": "code",
   "execution_count": 33,
   "metadata": {},
   "outputs": [
    {
     "data": {
      "text/plain": [
       "[0.0, 0.0, 0.0, 0.0, 0.01, 0.0, 0.02, 0.17, 0.33, 0.52]"
      ]
     },
     "execution_count": 33,
     "metadata": {},
     "output_type": "execute_result"
    }
   ],
   "source": [
    "bankrupcy_probs"
   ]
  },
  {
   "cell_type": "markdown",
   "metadata": {},
   "source": [
    "## Flexible withdrawal with bottom and top limits"
   ]
  },
  {
   "cell_type": "markdown",
   "metadata": {},
   "source": [
    "Withdraw a fixed percent between a minimal and a maximal withdrawal limit"
   ]
  },
  {
   "cell_type": "code",
   "execution_count": 18,
   "metadata": {},
   "outputs": [],
   "source": [
    "def is_bankrupt4(t=0.06, min_take_ratio=.3, sample_size=12*40, x=1000000):\n",
    "    sample = df.sample(sample_size)\n",
    "    min_take = min_take_ratio*x*t/12\n",
    "    max_take = x*t/12\n",
    "#     print(max_take)\n",
    "    takes = []\n",
    "    for diff in sample['Adj Close Diff']:\n",
    "        x*=diff\n",
    "        take = min(max(x*t/12, min_take),max_take)\n",
    "        takes.append(take/max_take)\n",
    "        x-=take\n",
    "        if x<0:\n",
    "#             print(sum(takes)/len(takes))\n",
    "            return True\n",
    "#     print(sum(takes)/len(takes))\n",
    "    return False"
   ]
  },
  {
   "cell_type": "code",
   "execution_count": 19,
   "metadata": {},
   "outputs": [],
   "source": [
    "def get_bankrupcy_prob4(t, m=.6, s=12*40, N=100):\n",
    "    bankrupcies = [is_bankrupt4(t, m, s) for _ in range(N)]\n",
    "    return sum(bankrupcies)/len(bankrupcies)"
   ]
  },
  {
   "cell_type": "code",
   "execution_count": 20,
   "metadata": {},
   "outputs": [],
   "source": [
    "bankrupcy_probs = {t: get_bankrupcy_prob4(t) for t in [.01,.02,.03,.04,.05,.06,.07,.08,.09,.1]}"
   ]
  },
  {
   "cell_type": "code",
   "execution_count": 73,
   "metadata": {},
   "outputs": [
    {
     "data": {
      "text/plain": [
       "{0.01: 0.0,\n",
       " 0.02: 0.0,\n",
       " 0.03: 0.0,\n",
       " 0.04: 0.0,\n",
       " 0.05: 0.0,\n",
       " 0.06: 0.01,\n",
       " 0.07: 0.06,\n",
       " 0.08: 0.12,\n",
       " 0.09: 0.18,\n",
       " 0.1: 0.35}"
      ]
     },
     "execution_count": 73,
     "metadata": {},
     "output_type": "execute_result"
    }
   ],
   "source": [
    "bankrupcy_probs"
   ]
  },
  {
   "cell_type": "markdown",
   "metadata": {},
   "source": [
    "# Using Robert Shiller's dataset"
   ]
  },
  {
   "cell_type": "markdown",
   "metadata": {},
   "source": [
    "http://www.econ.yale.edu/~shiller/data.htm"
   ]
  },
  {
   "cell_type": "code",
   "execution_count": 7,
   "metadata": {},
   "outputs": [],
   "source": [
    "df = pd.read_excel('data/ie_data.xls', sheet_name=\"Data\", header=7, nrows=1795)"
   ]
  },
  {
   "cell_type": "code",
   "execution_count": 56,
   "metadata": {},
   "outputs": [],
   "source": [
    "df = pd.read_excel('data/ie_data2.xls', sheet_name=\"Data\", header=7, nrows=1795)"
   ]
  },
  {
   "cell_type": "code",
   "execution_count": 57,
   "metadata": {},
   "outputs": [],
   "source": [
    "df['Adj Close Diff'] = df['Price.1']/df['Price.1'].shift()"
   ]
  },
  {
   "cell_type": "code",
   "execution_count": 48,
   "metadata": {},
   "outputs": [
    {
     "data": {
      "text/html": [
       "<div>\n",
       "<style scoped>\n",
       "    .dataframe tbody tr th:only-of-type {\n",
       "        vertical-align: middle;\n",
       "    }\n",
       "\n",
       "    .dataframe tbody tr th {\n",
       "        vertical-align: top;\n",
       "    }\n",
       "\n",
       "    .dataframe thead th {\n",
       "        text-align: right;\n",
       "    }\n",
       "</style>\n",
       "<table border=\"1\" class=\"dataframe\">\n",
       "  <thead>\n",
       "    <tr style=\"text-align: right;\">\n",
       "      <th></th>\n",
       "      <th>Date</th>\n",
       "      <th>P</th>\n",
       "      <th>D</th>\n",
       "      <th>E</th>\n",
       "      <th>CPI</th>\n",
       "      <th>Fraction</th>\n",
       "      <th>Rate GS10</th>\n",
       "      <th>Price</th>\n",
       "      <th>Dividend</th>\n",
       "      <th>Price.1</th>\n",
       "      <th>...</th>\n",
       "      <th>Unnamed: 13</th>\n",
       "      <th>TR CAPE</th>\n",
       "      <th>Unnamed: 15</th>\n",
       "      <th>Yield</th>\n",
       "      <th>Returns</th>\n",
       "      <th>Returns.1</th>\n",
       "      <th>Real Return</th>\n",
       "      <th>Real Return.1</th>\n",
       "      <th>Returns.2</th>\n",
       "      <th>Adj Close Diff</th>\n",
       "    </tr>\n",
       "  </thead>\n",
       "  <tbody>\n",
       "    <tr>\n",
       "      <th>0</th>\n",
       "      <td>1871.01</td>\n",
       "      <td>4.44</td>\n",
       "      <td>0.26</td>\n",
       "      <td>0.4</td>\n",
       "      <td>12.464061</td>\n",
       "      <td>1871.041667</td>\n",
       "      <td>5.320000</td>\n",
       "      <td>97.250271</td>\n",
       "      <td>5.694836</td>\n",
       "      <td>97.250271</td>\n",
       "      <td>...</td>\n",
       "      <td>NaN</td>\n",
       "      <td>NaN</td>\n",
       "      <td>NaN</td>\n",
       "      <td>NaN</td>\n",
       "      <td>1.004177</td>\n",
       "      <td>1.000000</td>\n",
       "      <td>0.130609</td>\n",
       "      <td>0.092504</td>\n",
       "      <td>0.038106</td>\n",
       "      <td>NaN</td>\n",
       "    </tr>\n",
       "    <tr>\n",
       "      <th>1</th>\n",
       "      <td>1871.02</td>\n",
       "      <td>4.50</td>\n",
       "      <td>0.26</td>\n",
       "      <td>0.4</td>\n",
       "      <td>12.844641</td>\n",
       "      <td>1871.125000</td>\n",
       "      <td>5.323333</td>\n",
       "      <td>95.644049</td>\n",
       "      <td>5.526101</td>\n",
       "      <td>96.104557</td>\n",
       "      <td>...</td>\n",
       "      <td>NaN</td>\n",
       "      <td>NaN</td>\n",
       "      <td>NaN</td>\n",
       "      <td>NaN</td>\n",
       "      <td>1.004180</td>\n",
       "      <td>0.974424</td>\n",
       "      <td>0.130858</td>\n",
       "      <td>0.094635</td>\n",
       "      <td>0.036224</td>\n",
       "      <td>0.988219</td>\n",
       "    </tr>\n",
       "    <tr>\n",
       "      <th>2</th>\n",
       "      <td>1871.03</td>\n",
       "      <td>4.61</td>\n",
       "      <td>0.26</td>\n",
       "      <td>0.4</td>\n",
       "      <td>13.034972</td>\n",
       "      <td>1871.208333</td>\n",
       "      <td>5.326667</td>\n",
       "      <td>96.551327</td>\n",
       "      <td>5.445411</td>\n",
       "      <td>97.472173</td>\n",
       "      <td>...</td>\n",
       "      <td>NaN</td>\n",
       "      <td>NaN</td>\n",
       "      <td>NaN</td>\n",
       "      <td>NaN</td>\n",
       "      <td>1.004183</td>\n",
       "      <td>0.964209</td>\n",
       "      <td>0.130951</td>\n",
       "      <td>0.096186</td>\n",
       "      <td>0.034765</td>\n",
       "      <td>1.014230</td>\n",
       "    </tr>\n",
       "    <tr>\n",
       "      <th>3</th>\n",
       "      <td>1871.04</td>\n",
       "      <td>4.74</td>\n",
       "      <td>0.26</td>\n",
       "      <td>0.4</td>\n",
       "      <td>12.559226</td>\n",
       "      <td>1871.291667</td>\n",
       "      <td>5.330000</td>\n",
       "      <td>103.034548</td>\n",
       "      <td>5.651684</td>\n",
       "      <td>104.492692</td>\n",
       "      <td>...</td>\n",
       "      <td>NaN</td>\n",
       "      <td>NaN</td>\n",
       "      <td>NaN</td>\n",
       "      <td>NaN</td>\n",
       "      <td>1.004185</td>\n",
       "      <td>1.004919</td>\n",
       "      <td>0.122056</td>\n",
       "      <td>0.090972</td>\n",
       "      <td>0.031084</td>\n",
       "      <td>1.072026</td>\n",
       "    </tr>\n",
       "    <tr>\n",
       "      <th>4</th>\n",
       "      <td>1871.05</td>\n",
       "      <td>4.86</td>\n",
       "      <td>0.26</td>\n",
       "      <td>0.4</td>\n",
       "      <td>12.273812</td>\n",
       "      <td>1871.375000</td>\n",
       "      <td>5.333333</td>\n",
       "      <td>108.099637</td>\n",
       "      <td>5.783108</td>\n",
       "      <td>110.118209</td>\n",
       "      <td>...</td>\n",
       "      <td>NaN</td>\n",
       "      <td>NaN</td>\n",
       "      <td>NaN</td>\n",
       "      <td>NaN</td>\n",
       "      <td>1.004188</td>\n",
       "      <td>1.032591</td>\n",
       "      <td>0.122638</td>\n",
       "      <td>0.089488</td>\n",
       "      <td>0.033150</td>\n",
       "      <td>1.053836</td>\n",
       "    </tr>\n",
       "  </tbody>\n",
       "</table>\n",
       "<p>5 rows × 23 columns</p>\n",
       "</div>"
      ],
      "text/plain": [
       "      Date     P     D    E        CPI     Fraction  Rate GS10       Price  \\\n",
       "0  1871.01  4.44  0.26  0.4  12.464061  1871.041667   5.320000   97.250271   \n",
       "1  1871.02  4.50  0.26  0.4  12.844641  1871.125000   5.323333   95.644049   \n",
       "2  1871.03  4.61  0.26  0.4  13.034972  1871.208333   5.326667   96.551327   \n",
       "3  1871.04  4.74  0.26  0.4  12.559226  1871.291667   5.330000  103.034548   \n",
       "4  1871.05  4.86  0.26  0.4  12.273812  1871.375000   5.333333  108.099637   \n",
       "\n",
       "   Dividend     Price.1  ...  Unnamed: 13  TR CAPE  Unnamed: 15  Yield  \\\n",
       "0  5.694836   97.250271  ...          NaN      NaN          NaN    NaN   \n",
       "1  5.526101   96.104557  ...          NaN      NaN          NaN    NaN   \n",
       "2  5.445411   97.472173  ...          NaN      NaN          NaN    NaN   \n",
       "3  5.651684  104.492692  ...          NaN      NaN          NaN    NaN   \n",
       "4  5.783108  110.118209  ...          NaN      NaN          NaN    NaN   \n",
       "\n",
       "    Returns  Returns.1  Real Return  Real Return.1  Returns.2  Adj Close Diff  \n",
       "0  1.004177   1.000000     0.130609       0.092504   0.038106             NaN  \n",
       "1  1.004180   0.974424     0.130858       0.094635   0.036224        0.988219  \n",
       "2  1.004183   0.964209     0.130951       0.096186   0.034765        1.014230  \n",
       "3  1.004185   1.004919     0.122056       0.090972   0.031084        1.072026  \n",
       "4  1.004188   1.032591     0.122638       0.089488   0.033150        1.053836  \n",
       "\n",
       "[5 rows x 23 columns]"
      ]
     },
     "execution_count": 48,
     "metadata": {},
     "output_type": "execute_result"
    }
   ],
   "source": [
    "df.head()"
   ]
  },
  {
   "cell_type": "code",
   "execution_count": 9,
   "metadata": {},
   "outputs": [],
   "source": [
    "price_change = df.loc[1794, 'P']/df.loc[0, 'P']"
   ]
  },
  {
   "cell_type": "code",
   "execution_count": 10,
   "metadata": {},
   "outputs": [
    {
     "data": {
      "text/plain": [
       "722.436732186732"
      ]
     },
     "execution_count": 10,
     "metadata": {},
     "output_type": "execute_result"
    }
   ],
   "source": [
    "price_change"
   ]
  },
  {
   "cell_type": "code",
   "execution_count": 11,
   "metadata": {},
   "outputs": [],
   "source": [
    "date_change = df.loc[1794, 'Date']-df.loc[0, 'Date']"
   ]
  },
  {
   "cell_type": "markdown",
   "metadata": {},
   "source": [
    "(1+x)^date_change=price_change  \n",
    "x~=ln(1+x)=ln(price_change)/date_change"
   ]
  },
  {
   "cell_type": "code",
   "execution_count": 12,
   "metadata": {},
   "outputs": [],
   "source": [
    "x = np.log(price_change)/date_change"
   ]
  },
  {
   "cell_type": "code",
   "execution_count": 13,
   "metadata": {},
   "outputs": [
    {
     "data": {
      "text/plain": [
       "0.0441609408845073"
      ]
     },
     "execution_count": 13,
     "metadata": {},
     "output_type": "execute_result"
    }
   ],
   "source": [
    "x"
   ]
  },
  {
   "cell_type": "code",
   "execution_count": 14,
   "metadata": {},
   "outputs": [
    {
     "data": {
      "text/plain": [
       "627.2997583115852"
      ]
     },
     "execution_count": 14,
     "metadata": {},
     "output_type": "execute_result"
    }
   ],
   "source": [
    "(1+x)**date_change"
   ]
  },
  {
   "cell_type": "code",
   "execution_count": 23,
   "metadata": {},
   "outputs": [
    {
     "data": {
      "text/plain": [
       "1.07978900589414"
      ]
     },
     "execution_count": 23,
     "metadata": {},
     "output_type": "execute_result"
    }
   ],
   "source": [
    "df['Adj Close Diff'].mean()**12"
   ]
  },
  {
   "cell_type": "code",
   "execution_count": 21,
   "metadata": {},
   "outputs": [],
   "source": [
    "bankrupcy_probs = {t: get_bankrupcy_prob4(t) for t in [.01,.02,.03,.04,.05,.06,.07,.08,.09,.1]}"
   ]
  },
  {
   "cell_type": "code",
   "execution_count": 22,
   "metadata": {},
   "outputs": [
    {
     "data": {
      "text/plain": [
       "{0.01: 0.0,\n",
       " 0.02: 0.0,\n",
       " 0.03: 0.0,\n",
       " 0.04: 0.0,\n",
       " 0.05: 0.02,\n",
       " 0.06: 0.09,\n",
       " 0.07: 0.14,\n",
       " 0.08: 0.3,\n",
       " 0.09: 0.38,\n",
       " 0.1: 0.53}"
      ]
     },
     "execution_count": 22,
     "metadata": {},
     "output_type": "execute_result"
    }
   ],
   "source": [
    "bankrupcy_probs"
   ]
  },
  {
   "cell_type": "code",
   "execution_count": 24,
   "metadata": {},
   "outputs": [
    {
     "data": {
      "text/plain": [
       "[<matplotlib.lines.Line2D at 0x7f2661616510>]"
      ]
     },
     "execution_count": 24,
     "metadata": {},
     "output_type": "execute_result"
    },
    {
     "data": {
      "image/png": "[encoded data removed]",
      "text/plain": [
       "<Figure size 432x288 with 1 Axes>"
      ]
     },
     "metadata": {
      "needs_background": "light"
     },
     "output_type": "display_data"
    }
   ],
   "source": [
    "plt.plot(np.log(df['P']))"
   ]
  },
  {
   "cell_type": "code",
   "execution_count": 25,
   "metadata": {},
   "outputs": [],
   "source": [
    "def calc_slope(df, col='P'):\n",
    "    X = df['Date'].values.reshape(-1,1)\n",
    "    y = np.log(df[col]).values\n",
    "    lr = LinearRegression().fit(X, y)\n",
    "    b = lr.intercept_\n",
    "    a =lr.coef_\n",
    "    y_ = X*a+b\n",
    "    return y_, y, X, a, b\n"
   ]
  },
  {
   "cell_type": "code",
   "execution_count": 26,
   "metadata": {},
   "outputs": [],
   "source": [
    "y_, y, X, a, b = calc_slope(df)"
   ]
  },
  {
   "cell_type": "code",
   "execution_count": 27,
   "metadata": {},
   "outputs": [
    {
     "data": {
      "text/plain": [
       "[<matplotlib.lines.Line2D at 0x7f2662e6ea90>]"
      ]
     },
     "execution_count": 27,
     "metadata": {},
     "output_type": "execute_result"
    },
    {
     "data": {
      "image/png": "[encoded data removed]",
      "text/plain": [
       "<Figure size 432x288 with 1 Axes>"
      ]
     },
     "metadata": {
      "needs_background": "light"
     },
     "output_type": "display_data"
    }
   ],
   "source": [
    "plt.plot(X, y_)\n",
    "plt.plot(X, y)"
   ]
  },
  {
   "cell_type": "markdown",
   "metadata": {},
   "source": [
    "log(P)=a\\*time+b  \n",
    "P = exp(a\\*time+b) = exp(b)\\*exp(a\\*time) = B\\*(q^time)  \n",
    "q = exp(a)  "
   ]
  },
  {
   "cell_type": "code",
   "execution_count": 28,
   "metadata": {},
   "outputs": [
    {
     "data": {
      "text/plain": [
       "array([1.0456331])"
      ]
     },
     "execution_count": 28,
     "metadata": {},
     "output_type": "execute_result"
    }
   ],
   "source": [
    "np.exp(a)"
   ]
  },
  {
   "cell_type": "markdown",
   "metadata": {},
   "source": [
    "So the market does 4.5% with inflation"
   ]
  },
  {
   "cell_type": "code",
   "execution_count": 29,
   "metadata": {},
   "outputs": [],
   "source": [
    "y_, y, X, a, b = calc_slope(df, 'Price')"
   ]
  },
  {
   "cell_type": "code",
   "execution_count": 30,
   "metadata": {},
   "outputs": [
    {
     "data": {
      "text/plain": [
       "[<matplotlib.lines.Line2D at 0x7f2662b96650>]"
      ]
     },
     "execution_count": 30,
     "metadata": {},
     "output_type": "execute_result"
    },
    {
     "data": {
      "image/png": "[encoded data removed]",
      "text/plain": [
       "<Figure size 432x288 with 1 Axes>"
      ]
     },
     "metadata": {
      "needs_background": "light"
     },
     "output_type": "display_data"
    }
   ],
   "source": [
    "plt.plot(X, y_)\n",
    "plt.plot(X, y)"
   ]
  },
  {
   "cell_type": "code",
   "execution_count": 31,
   "metadata": {},
   "outputs": [
    {
     "data": {
      "text/plain": [
       "array([1.01887881])"
      ]
     },
     "execution_count": 31,
     "metadata": {},
     "output_type": "execute_result"
    }
   ],
   "source": [
    "np.exp(a)"
   ]
  },
  {
   "cell_type": "markdown",
   "metadata": {},
   "source": [
    "So the market does ~2% without inflation"
   ]
  },
  {
   "cell_type": "markdown",
   "metadata": {},
   "source": [
    "What if we look at the last 100 years"
   ]
  },
  {
   "cell_type": "code",
   "execution_count": 32,
   "metadata": {},
   "outputs": [],
   "source": [
    "df_100 = df[df['Date']>1920]"
   ]
  },
  {
   "cell_type": "code",
   "execution_count": 33,
   "metadata": {},
   "outputs": [],
   "source": [
    "y_, y, X, a, b = calc_slope(df_100, 'P')"
   ]
  },
  {
   "cell_type": "code",
   "execution_count": 34,
   "metadata": {},
   "outputs": [
    {
     "data": {
      "text/plain": [
       "[<matplotlib.lines.Line2D at 0x7f2662b04e10>]"
      ]
     },
     "execution_count": 34,
     "metadata": {},
     "output_type": "execute_result"
    },
    {
     "data": {
      "image/png": "[encoded data removed]",
      "text/plain": [
       "<Figure size 432x288 with 1 Axes>"
      ]
     },
     "metadata": {
      "needs_background": "light"
     },
     "output_type": "display_data"
    }
   ],
   "source": [
    "plt.plot(X, y_)\n",
    "plt.plot(X, y)"
   ]
  },
  {
   "cell_type": "code",
   "execution_count": 35,
   "metadata": {},
   "outputs": [
    {
     "data": {
      "text/plain": [
       "array([1.06433833])"
      ]
     },
     "execution_count": 35,
     "metadata": {},
     "output_type": "execute_result"
    }
   ],
   "source": [
    "np.exp(a)"
   ]
  },
  {
   "cell_type": "code",
   "execution_count": 36,
   "metadata": {},
   "outputs": [],
   "source": [
    "y_, y, X, a, b = calc_slope(df_100, 'Price')"
   ]
  },
  {
   "cell_type": "code",
   "execution_count": 37,
   "metadata": {},
   "outputs": [
    {
     "data": {
      "text/plain": [
       "[<matplotlib.lines.Line2D at 0x7f265131c410>]"
      ]
     },
     "execution_count": 37,
     "metadata": {},
     "output_type": "execute_result"
    },
    {
     "data": {
      "image/png": "[encoded data removed]",
      "text/plain": [
       "<Figure size 432x288 with 1 Axes>"
      ]
     },
     "metadata": {
      "needs_background": "light"
     },
     "output_type": "display_data"
    }
   ],
   "source": [
    "plt.plot(X, y_)\n",
    "plt.plot(X, y)"
   ]
  },
  {
   "cell_type": "code",
   "execution_count": 38,
   "metadata": {},
   "outputs": [
    {
     "data": {
      "text/plain": [
       "array([1.0285191])"
      ]
     },
     "execution_count": 38,
     "metadata": {},
     "output_type": "execute_result"
    }
   ],
   "source": [
    "np.exp(a)"
   ]
  },
  {
   "cell_type": "code",
   "execution_count": 41,
   "metadata": {},
   "outputs": [
    {
     "data": {
      "text/plain": [
       "16.643168981473156"
      ]
     },
     "execution_count": 41,
     "metadata": {},
     "output_type": "execute_result"
    }
   ],
   "source": [
    "np.exp(a)[0]**100"
   ]
  },
  {
   "cell_type": "code",
   "execution_count": 47,
   "metadata": {},
   "outputs": [
    {
     "data": {
      "text/plain": [
       "array([16.67127304])"
      ]
     },
     "execution_count": 47,
     "metadata": {},
     "output_type": "execute_result"
    }
   ],
   "source": [
    "np.exp(y_[-1])/np.exp(y_[0])"
   ]
  },
  {
   "cell_type": "markdown",
   "metadata": {},
   "source": [
    "## Using CAPE"
   ]
  },
  {
   "cell_type": "code",
   "execution_count": 50,
   "metadata": {},
   "outputs": [
    {
     "data": {
      "text/plain": [
       "Index(['Date', 'P', 'D', 'E', 'CPI', 'Fraction', 'Rate GS10', 'Price',\n",
       "       'Dividend', 'Price.1', 'Earnings', 'Earnings.1', 'CAPE', 'Unnamed: 13',\n",
       "       'TR CAPE', 'Unnamed: 15', 'Yield', 'Returns', 'Returns.1',\n",
       "       'Real Return', 'Real Return.1', 'Returns.2', 'Adj Close Diff'],\n",
       "      dtype='object')"
      ]
     },
     "execution_count": 50,
     "metadata": {},
     "output_type": "execute_result"
    }
   ],
   "source": [
    "df.columns"
   ]
  },
  {
   "cell_type": "code",
   "execution_count": 69,
   "metadata": {},
   "outputs": [],
   "source": [
    "df = df.dropna(subset=['CAPE'])"
   ]
  },
  {
   "cell_type": "code",
   "execution_count": 79,
   "metadata": {},
   "outputs": [
    {
     "data": {
      "text/plain": [
       "[<matplotlib.lines.Line2D at 0x7f264e372ed0>]"
      ]
     },
     "execution_count": 79,
     "metadata": {},
     "output_type": "execute_result"
    },
    {
     "data": {
      "image/png": "[encoded data removed]",
      "text/plain": [
       "<Figure size 432x288 with 1 Axes>"
      ]
     },
     "metadata": {
      "needs_background": "light"
     },
     "output_type": "display_data"
    }
   ],
   "source": [
    "plt.plot(df['Date'], df['CAPE'])"
   ]
  },
  {
   "cell_type": "code",
   "execution_count": 231,
   "metadata": {},
   "outputs": [],
   "source": [
    "df['MA'] = df['Adj Close Diff'].rolling(window=36).mean()"
   ]
  },
  {
   "cell_type": "code",
   "execution_count": 232,
   "metadata": {},
   "outputs": [
    {
     "data": {
      "text/plain": [
       "[<matplotlib.lines.Line2D at 0x7f2646d5f050>]"
      ]
     },
     "execution_count": 232,
     "metadata": {},
     "output_type": "execute_result"
    },
    {
     "data": {
      "image/png": "[encoded data removed]",
      "text/plain": [
       "<Figure size 432x288 with 1 Axes>"
      ]
     },
     "metadata": {
      "needs_background": "light"
     },
     "output_type": "display_data"
    }
   ],
   "source": [
    "plt.plot(df['Date'], df['MA'])"
   ]
  },
  {
   "cell_type": "markdown",
   "metadata": {},
   "source": [
    "## Interest rates"
   ]
  },
  {
   "cell_type": "code",
   "execution_count": null,
   "metadata": {},
   "outputs": [],
   "source": [
    "requests.get()"
   ]
  },
  {
   "cell_type": "code",
   "execution_count": 139,
   "metadata": {},
   "outputs": [],
   "source": [
    "dimensions = \"IRLT\" # \"IRLT+IR3TIB+IRSTCI+CCUS\"\n",
    "flat = \"\" # \"&dimensionAtObservation=allDimensions\"\n",
    "url = f\"https://stats.oecd.org/SDMX-JSON/data/MEI_FIN/{dimensions}.USA.M/all?startTime=1950-01&endTime=2022-01{flat}\"\n",
    "# url = \"https://stats.oecd.org/SDMX-JSON/data/MEI_FIN/IRLT.USA.M/all?startTime=1950-01&endTime=2022-01\"\n"
   ]
  },
  {
   "cell_type": "code",
   "execution_count": 141,
   "metadata": {},
   "outputs": [],
   "source": [
    "r = requests.get(url)"
   ]
  },
  {
   "cell_type": "code",
   "execution_count": 143,
   "metadata": {},
   "outputs": [],
   "source": [
    "j = r.json()"
   ]
  },
  {
   "cell_type": "code",
   "execution_count": 144,
   "metadata": {},
   "outputs": [],
   "source": [
    "dataset = j['dataSets'][0]"
   ]
  },
  {
   "cell_type": "code",
   "execution_count": 146,
   "metadata": {},
   "outputs": [],
   "source": [
    "series = dataset['series']"
   ]
  },
  {
   "cell_type": "code",
   "execution_count": 210,
   "metadata": {},
   "outputs": [],
   "source": [
    "observations = series['observations']"
   ]
  },
  {
   "cell_type": "code",
   "execution_count": 211,
   "metadata": {},
   "outputs": [],
   "source": [
    "interest_df = pd.DataFrame(observations).T"
   ]
  },
  {
   "cell_type": "code",
   "execution_count": 163,
   "metadata": {},
   "outputs": [],
   "source": [
    "structure = j['structure']"
   ]
  },
  {
   "cell_type": "code",
   "execution_count": 167,
   "metadata": {},
   "outputs": [],
   "source": [
    "dimensions = structure['dimensions']"
   ]
  },
  {
   "cell_type": "code",
   "execution_count": 181,
   "metadata": {},
   "outputs": [],
   "source": [
    "observations = dimensions['observation'][0]"
   ]
  },
  {
   "cell_type": "code",
   "execution_count": 182,
   "metadata": {},
   "outputs": [],
   "source": [
    "date_df = pd.DataFrame(observations['values'])"
   ]
  },
  {
   "cell_type": "code",
   "execution_count": 212,
   "metadata": {},
   "outputs": [],
   "source": [
    "interest_df.index = interest_df.index.astype('int64')"
   ]
  },
  {
   "cell_type": "code",
   "execution_count": 213,
   "metadata": {},
   "outputs": [],
   "source": [
    "interest_df['date'] = date_df['id']"
   ]
  },
  {
   "cell_type": "code",
   "execution_count": 216,
   "metadata": {},
   "outputs": [
    {
     "data": {
      "text/plain": [
       "[<matplotlib.lines.Line2D at 0x7f2647c324d0>]"
      ]
     },
     "execution_count": 216,
     "metadata": {},
     "output_type": "execute_result"
    },
    {
     "data": {
      "image/png": "[encoded data removed]",
      "text/plain": [
       "<Figure size 432x288 with 1 Axes>"
      ]
     },
     "metadata": {
      "needs_background": "light"
     },
     "output_type": "display_data"
    }
   ],
   "source": [
    "plt.plot(interest_df['date'], interest_df[0])"
   ]
  },
  {
   "cell_type": "markdown",
   "metadata": {},
   "source": [
    "# Using MacroTrends"
   ]
  },
  {
   "cell_type": "markdown",
   "metadata": {},
   "source": [
    "https://www.macrotrends.net/2324/sp-500-historical-chart-data"
   ]
  },
  {
   "cell_type": "code",
   "execution_count": null,
   "metadata": {},
   "outputs": [],
   "source": []
  }
 ],
 "metadata": {
  "instance_type": "ml.t3.medium",
  "kernelspec": {
   "display_name": "Python 3 (Data Science)",
   "language": "python",
   "name": "python3__SAGEMAKER_INTERNAL__arn:aws:sagemaker:us-west-2:236514542706:image/datascience-1.0"
  },
  "language_info": {
   "codemirror_mode": {
    "name": "ipython",
    "version": 3
   },
   "file_extension": ".py",
   "mimetype": "text/x-python",
   "name": "python",
   "nbconvert_exporter": "python",
   "pygments_lexer": "ipython3",
   "version": "3.7.10"
  }
 },
 "nbformat": 4,
 "nbformat_minor": 4
}
