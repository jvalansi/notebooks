{
 "cells": [
  {
   "cell_type": "code",
   "execution_count": 47,
   "metadata": {},
   "outputs": [],
   "source": [
    "import pandas as pd\n",
    "import numpy as np"
   ]
  },
  {
   "cell_type": "code",
   "execution_count": 53,
   "metadata": {},
   "outputs": [],
   "source": [
    "import matplotlib.pyplot as plt"
   ]
  },
  {
   "cell_type": "code",
   "execution_count": 59,
   "metadata": {},
   "outputs": [],
   "source": [
    "from sklearn.linear_model import LinearRegression"
   ]
  },
  {
   "cell_type": "code",
   "execution_count": 69,
   "metadata": {},
   "outputs": [],
   "source": [
    "df = pd.read_csv('data/^GSPC.csv')"
   ]
  },
  {
   "cell_type": "code",
   "execution_count": 70,
   "metadata": {},
   "outputs": [
    {
     "data": {
      "text/html": [
       "<div>\n",
       "<style scoped>\n",
       "    .dataframe tbody tr th:only-of-type {\n",
       "        vertical-align: middle;\n",
       "    }\n",
       "\n",
       "    .dataframe tbody tr th {\n",
       "        vertical-align: top;\n",
       "    }\n",
       "\n",
       "    .dataframe thead th {\n",
       "        text-align: right;\n",
       "    }\n",
       "</style>\n",
       "<table border=\"1\" class=\"dataframe\">\n",
       "  <thead>\n",
       "    <tr style=\"text-align: right;\">\n",
       "      <th></th>\n",
       "      <th>Date</th>\n",
       "      <th>Open</th>\n",
       "      <th>High</th>\n",
       "      <th>Low</th>\n",
       "      <th>Close</th>\n",
       "      <th>Adj Close</th>\n",
       "      <th>Volume</th>\n",
       "    </tr>\n",
       "  </thead>\n",
       "  <tbody>\n",
       "    <tr>\n",
       "      <th>0</th>\n",
       "      <td>1950-01-01</td>\n",
       "      <td>16.660000</td>\n",
       "      <td>17.090000</td>\n",
       "      <td>16.650000</td>\n",
       "      <td>17.049999</td>\n",
       "      <td>17.049999</td>\n",
       "      <td>42570000</td>\n",
       "    </tr>\n",
       "    <tr>\n",
       "      <th>1</th>\n",
       "      <td>1950-02-01</td>\n",
       "      <td>17.049999</td>\n",
       "      <td>17.350000</td>\n",
       "      <td>16.990000</td>\n",
       "      <td>17.219999</td>\n",
       "      <td>17.219999</td>\n",
       "      <td>33430000</td>\n",
       "    </tr>\n",
       "    <tr>\n",
       "      <th>2</th>\n",
       "      <td>1950-03-01</td>\n",
       "      <td>17.240000</td>\n",
       "      <td>17.610001</td>\n",
       "      <td>17.070000</td>\n",
       "      <td>17.290001</td>\n",
       "      <td>17.290001</td>\n",
       "      <td>40410000</td>\n",
       "    </tr>\n",
       "    <tr>\n",
       "      <th>3</th>\n",
       "      <td>1950-04-01</td>\n",
       "      <td>17.340000</td>\n",
       "      <td>18.070000</td>\n",
       "      <td>17.340000</td>\n",
       "      <td>18.070000</td>\n",
       "      <td>18.070000</td>\n",
       "      <td>48250000</td>\n",
       "    </tr>\n",
       "    <tr>\n",
       "      <th>4</th>\n",
       "      <td>1950-05-01</td>\n",
       "      <td>18.219999</td>\n",
       "      <td>18.780001</td>\n",
       "      <td>18.110001</td>\n",
       "      <td>18.780001</td>\n",
       "      <td>18.780001</td>\n",
       "      <td>45080000</td>\n",
       "    </tr>\n",
       "  </tbody>\n",
       "</table>\n",
       "</div>"
      ],
      "text/plain": [
       "         Date       Open       High        Low      Close  Adj Close    Volume\n",
       "0  1950-01-01  16.660000  17.090000  16.650000  17.049999  17.049999  42570000\n",
       "1  1950-02-01  17.049999  17.350000  16.990000  17.219999  17.219999  33430000\n",
       "2  1950-03-01  17.240000  17.610001  17.070000  17.290001  17.290001  40410000\n",
       "3  1950-04-01  17.340000  18.070000  17.340000  18.070000  18.070000  48250000\n",
       "4  1950-05-01  18.219999  18.780001  18.110001  18.780001  18.780001  45080000"
      ]
     },
     "execution_count": 70,
     "metadata": {},
     "output_type": "execute_result"
    }
   ],
   "source": [
    "df.head()"
   ]
  },
  {
   "cell_type": "code",
   "execution_count": 71,
   "metadata": {},
   "outputs": [],
   "source": [
    "df['Adj Close Diff'] = df['Adj Close']/df['Adj Close'].shift()"
   ]
  },
  {
   "cell_type": "code",
   "execution_count": 5,
   "metadata": {},
   "outputs": [],
   "source": [
    "df['Log Adj Close Diff'] = np.log(df['Adj Close Diff'])"
   ]
  },
  {
   "cell_type": "code",
   "execution_count": 6,
   "metadata": {},
   "outputs": [
    {
     "data": {
      "text/plain": [
       "1.0766989707555843"
      ]
     },
     "execution_count": 6,
     "metadata": {},
     "output_type": "execute_result"
    }
   ],
   "source": [
    "np.exp(df['Log Adj Close Diff'].mean())**12"
   ]
  },
  {
   "cell_type": "code",
   "execution_count": 7,
   "metadata": {},
   "outputs": [
    {
     "data": {
      "text/plain": [
       "1.0024662697723037"
      ]
     },
     "execution_count": 7,
     "metadata": {},
     "output_type": "execute_result"
    }
   ],
   "source": [
    "1.03**(1/12)"
   ]
  },
  {
   "cell_type": "markdown",
   "metadata": {},
   "source": [
    "# What happens if every period I either:\n",
    "* put the excess revenue (over average revenue) and put in safe investment (3%) or \n",
    "* put funds from the safe investment to reach average revenuem"
   ]
  },
  {
   "cell_type": "code",
   "execution_count": 8,
   "metadata": {},
   "outputs": [
    {
     "name": "stdout",
     "output_type": "stream",
     "text": [
      "1.0061773224372066\n"
     ]
    }
   ],
   "source": [
    "class State():\n",
    "    def __init__(self, price):\n",
    "        self.invest = price\n",
    "        self.invest_history = [self.invest]\n",
    "        self.safe = 0\n",
    "        self.safe_history = [self.safe]\n",
    "\n",
    "    def sell(self, revenue, expected_revenue):\n",
    "        # put excess revenue in safe\n",
    "        excess_revenue = expected_revenue - revenue\n",
    "        self.invest -= excess_revenue\n",
    "        self.safe += excess_revenue\n",
    "\n",
    "    def buy(self, revenue, expected_revenue):\n",
    "        # put funds in investment\n",
    "        funds = expected_revenue - revenue\n",
    "        self.invest += funds\n",
    "        self.safe -= funds\n",
    "        \n",
    "\n",
    "\n",
    "def smoothify(prices):\n",
    "    diffs = prices/prices.shift()\n",
    "    av = np.exp(np.mean(np.log(diffs)))\n",
    "    print(av)\n",
    "    state = State(prices[0])\n",
    "    for diff,price in zip(diffs[1:],prices[1:]):\n",
    "#         print('----------')\n",
    "#         print(price)\n",
    "        expected_revenue = state.invest*av - state.invest\n",
    "#         print(expected_revenue)\n",
    "        revenue = state.invest*diff - state.invest\n",
    "#         print(revenue)\n",
    "        state.invest *= av\n",
    "#         print(state.invest)\n",
    "        state.invest_history.append(state.invest)\n",
    "        state.safe *= 1.0024\n",
    "#         print(state.safe)\n",
    "        state.safe_history.append(state.safe)\n",
    "        excess_revenue = expected_revenue - revenue\n",
    "        state.safe += excess_revenue\n",
    "\n",
    "    return state\n",
    "            \n",
    "state = smoothify(df['Adj Close'])\n",
    "        \n",
    "            "
   ]
  },
  {
   "cell_type": "code",
   "execution_count": 9,
   "metadata": {},
   "outputs": [],
   "source": [
    "s = pd.Series(state.invest_history)"
   ]
  },
  {
   "cell_type": "code",
   "execution_count": 10,
   "metadata": {},
   "outputs": [
    {
     "data": {
      "text/plain": [
       "1.0061773224372177"
      ]
     },
     "execution_count": 10,
     "metadata": {},
     "output_type": "execute_result"
    }
   ],
   "source": [
    "(s/s.shift()).mean()"
   ]
  },
  {
   "cell_type": "code",
   "execution_count": 11,
   "metadata": {},
   "outputs": [],
   "source": [
    "s_safe = pd.Series(state.safe_history)"
   ]
  },
  {
   "cell_type": "code",
   "execution_count": 13,
   "metadata": {},
   "outputs": [
    {
     "data": {
      "text/plain": [
       "[<matplotlib.lines.Line2D at 0x7fad4c83c160>]"
      ]
     },
     "execution_count": 13,
     "metadata": {},
     "output_type": "execute_result"
    },
    {
     "data": {
      "image/png": "[encoded data removed]",
      "text/plain": [
       "<Figure size 432x288 with 1 Axes>"
      ]
     },
     "metadata": {
      "needs_background": "light"
     },
     "output_type": "display_data"
    }
   ],
   "source": [
    "plt.plot(state.safe_history)"
   ]
  },
  {
   "cell_type": "code",
   "execution_count": 14,
   "metadata": {},
   "outputs": [
    {
     "data": {
      "text/plain": [
       "0.006666666666666667"
      ]
     },
     "execution_count": 14,
     "metadata": {},
     "output_type": "execute_result"
    }
   ],
   "source": [
    "0.08/12"
   ]
  },
  {
   "cell_type": "code",
   "execution_count": 15,
   "metadata": {},
   "outputs": [],
   "source": [
    "df = df.dropna()"
   ]
  },
  {
   "cell_type": "code",
   "execution_count": 16,
   "metadata": {},
   "outputs": [],
   "source": [
    "def min_take(sample_size=12*40, x=1000000, t=0.07):\n",
    "    sample = df.sample(sample_size)\n",
    "    takes = []\n",
    "    for diff in sample['Adj Close Diff']:\n",
    "        x*=diff\n",
    "        take = x*t/12\n",
    "        x-=take\n",
    "        takes.append(take)\n",
    "    return min(takes)"
   ]
  },
  {
   "cell_type": "code",
   "execution_count": 17,
   "metadata": {},
   "outputs": [],
   "source": [
    "min_takes = [min_take() for _ in range(1000)]"
   ]
  },
  {
   "cell_type": "code",
   "execution_count": 18,
   "metadata": {},
   "outputs": [
    {
     "data": {
      "text/plain": [
       "3617.6754068050036"
      ]
     },
     "execution_count": 18,
     "metadata": {},
     "output_type": "execute_result"
    }
   ],
   "source": [
    "sum(min_takes)/len(min_takes)"
   ]
  },
  {
   "cell_type": "code",
   "execution_count": 19,
   "metadata": {},
   "outputs": [
    {
     "data": {
      "text/plain": [
       "(array([ 10.,  65., 117., 173., 154., 150., 133., 110.,  84.,   4.]),\n",
       " array([ 602.08549502, 1211.09958806, 1820.11368109, 2429.12777412,\n",
       "        3038.14186715, 3647.15596018, 4256.17005321, 4865.18414625,\n",
       "        5474.19823928, 6083.21233231, 6692.22642534]),\n",
       " <a list of 10 Patch objects>)"
      ]
     },
     "execution_count": 19,
     "metadata": {},
     "output_type": "execute_result"
    },
    {
     "data": {
      "image/png": "[encoded data removed]",
      "text/plain": [
       "<Figure size 432x288 with 1 Axes>"
      ]
     },
     "metadata": {
      "needs_background": "light"
     },
     "output_type": "display_data"
    }
   ],
   "source": [
    "plt.hist(min_takes)"
   ]
  },
  {
   "cell_type": "markdown",
   "metadata": {},
   "source": [
    "# Bankrupcy experiments"
   ]
  },
  {
   "cell_type": "markdown",
   "metadata": {},
   "source": [
    "## Constant withdrawal"
   ]
  },
  {
   "cell_type": "code",
   "execution_count": 20,
   "metadata": {},
   "outputs": [],
   "source": [
    "def is_bankrupt(t=0.05, sample_size=12*40, x=1000000):\n",
    "    sample = df.sample(sample_size)\n",
    "    take = x*t/12\n",
    "    for diff in sample['Adj Close Diff']:\n",
    "        x*=diff\n",
    "        x-=take\n",
    "        if x<0:\n",
    "            return True\n",
    "    return False"
   ]
  },
  {
   "cell_type": "code",
   "execution_count": 21,
   "metadata": {},
   "outputs": [],
   "source": [
    "bankrupcies = [is_bankrupt() for _ in range(100)]"
   ]
  },
  {
   "cell_type": "code",
   "execution_count": 22,
   "metadata": {},
   "outputs": [
    {
     "data": {
      "text/plain": [
       "0.12"
      ]
     },
     "execution_count": 22,
     "metadata": {},
     "output_type": "execute_result"
    }
   ],
   "source": [
    "sum(bankrupcies)/len(bankrupcies)"
   ]
  },
  {
   "cell_type": "code",
   "execution_count": 23,
   "metadata": {},
   "outputs": [],
   "source": [
    "def get_bankrupcy_prob(t, s=12*40, N=100):\n",
    "    bankrupcies = [is_bankrupt(t, s) for _ in range(N)]\n",
    "    return sum(bankrupcies)/len(bankrupcies)"
   ]
  },
  {
   "cell_type": "code",
   "execution_count": 24,
   "metadata": {},
   "outputs": [],
   "source": [
    "bankrupcy_probs = [get_bankrupcy_prob(t) for t in [.01,.02,.03,.04,.05,.06,.07,.08,.09,.1]]"
   ]
  },
  {
   "cell_type": "code",
   "execution_count": 25,
   "metadata": {},
   "outputs": [
    {
     "data": {
      "text/plain": [
       "[0.0, 0.0, 0.01, 0.02, 0.05, 0.21, 0.38, 0.7, 0.68, 0.85]"
      ]
     },
     "execution_count": 25,
     "metadata": {},
     "output_type": "execute_result"
    }
   ],
   "source": [
    "bankrupcy_probs"
   ]
  },
  {
   "cell_type": "markdown",
   "metadata": {},
   "source": [
    "## Constant percent of savings withdrawal"
   ]
  },
  {
   "cell_type": "code",
   "execution_count": 26,
   "metadata": {},
   "outputs": [],
   "source": [
    "def is_bankrupt2(t=0.07, min_take_ratio=.3, sample_size=12*40, x=1000000):\n",
    "    sample = df.sample(sample_size)\n",
    "    min_take = min_take_ratio*x*t/12\n",
    "    for diff in sample['Adj Close Diff']:\n",
    "        x*=diff\n",
    "        take = x*t/12\n",
    "        x-=take\n",
    "        if take<min_take:\n",
    "            return True\n",
    "    return False"
   ]
  },
  {
   "cell_type": "code",
   "execution_count": 27,
   "metadata": {},
   "outputs": [],
   "source": [
    "def get_bankrupcy_prob2(t, m=.5, s=12*40, N=100):\n",
    "    bankrupcies = [is_bankrupt2(t, m, s) for _ in range(N)]\n",
    "    return sum(bankrupcies)/len(bankrupcies)"
   ]
  },
  {
   "cell_type": "code",
   "execution_count": 28,
   "metadata": {},
   "outputs": [],
   "source": [
    "bankrupcy_probs = [get_bankrupcy_prob2(t) for t in [.01,.02,.03,.04,.05,.06,.07,.08,.09,.1]]"
   ]
  },
  {
   "cell_type": "code",
   "execution_count": 29,
   "metadata": {},
   "outputs": [
    {
     "data": {
      "text/plain": [
       "[0.0, 0.01, 0.01, 0.01, 0.1, 0.16, 0.28, 0.53, 0.75, 0.87]"
      ]
     },
     "execution_count": 29,
     "metadata": {},
     "output_type": "execute_result"
    }
   ],
   "source": [
    "bankrupcy_probs"
   ]
  },
  {
   "cell_type": "markdown",
   "metadata": {},
   "source": [
    "## Flexible withdrawal"
   ]
  },
  {
   "cell_type": "markdown",
   "metadata": {},
   "source": [
    "Withdraw a fixed percent down to a minimal withdrawal ratio"
   ]
  },
  {
   "cell_type": "code",
   "execution_count": 30,
   "metadata": {},
   "outputs": [],
   "source": [
    "def is_bankrupt3(t=0.06, min_take_ratio=.3, sample_size=12*40, x=1000000):\n",
    "    sample = df.sample(sample_size)\n",
    "    min_take = min_take_ratio*x*t/12\n",
    "    for diff in sample['Adj Close Diff']:\n",
    "        x*=diff\n",
    "        take = max(x*t/12, min_take)\n",
    "        x-=take\n",
    "        if x<0:\n",
    "            return True\n",
    "    return False"
   ]
  },
  {
   "cell_type": "code",
   "execution_count": 31,
   "metadata": {},
   "outputs": [],
   "source": [
    "def get_bankrupcy_prob3(t, m=.5, s=12*40, N=100):\n",
    "    bankrupcies = [is_bankrupt3(t, m, s) for _ in range(N)]\n",
    "    return sum(bankrupcies)/len(bankrupcies)"
   ]
  },
  {
   "cell_type": "code",
   "execution_count": 32,
   "metadata": {},
   "outputs": [],
   "source": [
    "bankrupcy_probs = [get_bankrupcy_prob3(t) for t in [.01,.02,.03,.04,.05,.06,.07,.08,.09,.1]]"
   ]
  },
  {
   "cell_type": "code",
   "execution_count": 33,
   "metadata": {},
   "outputs": [
    {
     "data": {
      "text/plain": [
       "[0.0, 0.0, 0.0, 0.0, 0.01, 0.0, 0.02, 0.17, 0.33, 0.52]"
      ]
     },
     "execution_count": 33,
     "metadata": {},
     "output_type": "execute_result"
    }
   ],
   "source": [
    "bankrupcy_probs"
   ]
  },
  {
   "cell_type": "markdown",
   "metadata": {},
   "source": [
    "## Flexible withdrawal with bottom and top limits"
   ]
  },
  {
   "cell_type": "markdown",
   "metadata": {},
   "source": [
    "Withdraw a fixed percent between a minimal and a maximal withdrawal limit"
   ]
  },
  {
   "cell_type": "code",
   "execution_count": 57,
   "metadata": {},
   "outputs": [],
   "source": [
    "def is_bankrupt4(t=0.06, min_take_ratio=.3, sample_size=12*40, x=1000000):\n",
    "    sample = df.sample(sample_size)\n",
    "    min_take = min_take_ratio*x*t/12\n",
    "    max_take = x*t/12\n",
    "#     print(max_take)\n",
    "    takes = []\n",
    "    for diff in sample['Adj Close Diff']:\n",
    "        x*=diff\n",
    "        take = min(max(x*t/12, min_take),max_take)\n",
    "        takes.append(take/max_take)\n",
    "        x-=take\n",
    "        if x<0:\n",
    "#             print(sum(takes)/len(takes))\n",
    "            return True\n",
    "#     print(sum(takes)/len(takes))\n",
    "    return False"
   ]
  },
  {
   "cell_type": "code",
   "execution_count": 58,
   "metadata": {},
   "outputs": [],
   "source": [
    "def get_bankrupcy_prob4(t, m=.6, s=12*40, N=100):\n",
    "    bankrupcies = [is_bankrupt4(t, m, s) for _ in range(N)]\n",
    "    return sum(bankrupcies)/len(bankrupcies)"
   ]
  },
  {
   "cell_type": "code",
   "execution_count": 72,
   "metadata": {},
   "outputs": [],
   "source": [
    "bankrupcy_probs = {t: get_bankrupcy_prob4(t) for t in [.01,.02,.03,.04,.05,.06,.07,.08,.09,.1]}"
   ]
  },
  {
   "cell_type": "code",
   "execution_count": 73,
   "metadata": {},
   "outputs": [
    {
     "data": {
      "text/plain": [
       "{0.01: 0.0,\n",
       " 0.02: 0.0,\n",
       " 0.03: 0.0,\n",
       " 0.04: 0.0,\n",
       " 0.05: 0.0,\n",
       " 0.06: 0.01,\n",
       " 0.07: 0.06,\n",
       " 0.08: 0.12,\n",
       " 0.09: 0.18,\n",
       " 0.1: 0.35}"
      ]
     },
     "execution_count": 73,
     "metadata": {},
     "output_type": "execute_result"
    }
   ],
   "source": [
    "bankrupcy_probs"
   ]
  },
  {
   "cell_type": "markdown",
   "metadata": {},
   "source": [
    "# Using Robert Shiller's dataset"
   ]
  },
  {
   "cell_type": "markdown",
   "metadata": {},
   "source": [
    "http://www.econ.yale.edu/~shiller/data.htm"
   ]
  },
  {
   "cell_type": "code",
   "execution_count": 7,
   "metadata": {},
   "outputs": [],
   "source": [
    "df = pd.read_excel('data/ie_data.xls', sheet_name=\"Data\", header=7, nrows=1795)"
   ]
  },
  {
   "cell_type": "code",
   "execution_count": 14,
   "metadata": {},
   "outputs": [],
   "source": [
    "df = pd.read_excel('data/ie_data2.xls', sheet_name=\"Data\", header=7, nrows=1795)"
   ]
  },
  {
   "cell_type": "code",
   "execution_count": 8,
   "metadata": {},
   "outputs": [],
   "source": [
    "df['Adj Close Diff'] = df['Price.1']/df['Price.1'].shift()"
   ]
  },
  {
   "cell_type": "code",
   "execution_count": 26,
   "metadata": {},
   "outputs": [
    {
     "data": {
      "text/html": [
       "<div>\n",
       "<style scoped>\n",
       "    .dataframe tbody tr th:only-of-type {\n",
       "        vertical-align: middle;\n",
       "    }\n",
       "\n",
       "    .dataframe tbody tr th {\n",
       "        vertical-align: top;\n",
       "    }\n",
       "\n",
       "    .dataframe thead th {\n",
       "        text-align: right;\n",
       "    }\n",
       "</style>\n",
       "<table border=\"1\" class=\"dataframe\">\n",
       "  <thead>\n",
       "    <tr style=\"text-align: right;\">\n",
       "      <th></th>\n",
       "      <th>Date</th>\n",
       "      <th>P</th>\n",
       "      <th>D</th>\n",
       "      <th>E</th>\n",
       "      <th>CPI</th>\n",
       "      <th>Fraction</th>\n",
       "      <th>Rate GS10</th>\n",
       "      <th>Price</th>\n",
       "      <th>Dividend</th>\n",
       "      <th>Price.1</th>\n",
       "      <th>...</th>\n",
       "      <th>CAPE</th>\n",
       "      <th>Unnamed: 13</th>\n",
       "      <th>TR CAPE</th>\n",
       "      <th>Unnamed: 15</th>\n",
       "      <th>Yield</th>\n",
       "      <th>Returns</th>\n",
       "      <th>Returns.1</th>\n",
       "      <th>Real Return</th>\n",
       "      <th>Real Return.1</th>\n",
       "      <th>Returns.2</th>\n",
       "    </tr>\n",
       "  </thead>\n",
       "  <tbody>\n",
       "    <tr>\n",
       "      <th>0</th>\n",
       "      <td>1871.01</td>\n",
       "      <td>4.440000</td>\n",
       "      <td>0.260000</td>\n",
       "      <td>0.400000</td>\n",
       "      <td>12.464061</td>\n",
       "      <td>1871.041667</td>\n",
       "      <td>5.320000</td>\n",
       "      <td>97.250271</td>\n",
       "      <td>5.694836</td>\n",
       "      <td>9.725027e+01</td>\n",
       "      <td>...</td>\n",
       "      <td>NaN</td>\n",
       "      <td>NaN</td>\n",
       "      <td>NaN</td>\n",
       "      <td>NaN</td>\n",
       "      <td>NaN</td>\n",
       "      <td>1.004177</td>\n",
       "      <td>1.000000</td>\n",
       "      <td>0.130609</td>\n",
       "      <td>0.092504</td>\n",
       "      <td>0.038106</td>\n",
       "    </tr>\n",
       "    <tr>\n",
       "      <th>1</th>\n",
       "      <td>1871.02</td>\n",
       "      <td>4.500000</td>\n",
       "      <td>0.260000</td>\n",
       "      <td>0.400000</td>\n",
       "      <td>12.844641</td>\n",
       "      <td>1871.125000</td>\n",
       "      <td>5.323333</td>\n",
       "      <td>95.644049</td>\n",
       "      <td>5.526101</td>\n",
       "      <td>9.610456e+01</td>\n",
       "      <td>...</td>\n",
       "      <td>NaN</td>\n",
       "      <td>NaN</td>\n",
       "      <td>NaN</td>\n",
       "      <td>NaN</td>\n",
       "      <td>NaN</td>\n",
       "      <td>1.004180</td>\n",
       "      <td>0.974424</td>\n",
       "      <td>0.130858</td>\n",
       "      <td>0.094635</td>\n",
       "      <td>0.036224</td>\n",
       "    </tr>\n",
       "    <tr>\n",
       "      <th>2</th>\n",
       "      <td>1871.03</td>\n",
       "      <td>4.610000</td>\n",
       "      <td>0.260000</td>\n",
       "      <td>0.400000</td>\n",
       "      <td>13.034972</td>\n",
       "      <td>1871.208333</td>\n",
       "      <td>5.326667</td>\n",
       "      <td>96.551327</td>\n",
       "      <td>5.445411</td>\n",
       "      <td>9.747217e+01</td>\n",
       "      <td>...</td>\n",
       "      <td>NaN</td>\n",
       "      <td>NaN</td>\n",
       "      <td>NaN</td>\n",
       "      <td>NaN</td>\n",
       "      <td>NaN</td>\n",
       "      <td>1.004183</td>\n",
       "      <td>0.964209</td>\n",
       "      <td>0.130951</td>\n",
       "      <td>0.096186</td>\n",
       "      <td>0.034765</td>\n",
       "    </tr>\n",
       "    <tr>\n",
       "      <th>3</th>\n",
       "      <td>1871.04</td>\n",
       "      <td>4.740000</td>\n",
       "      <td>0.260000</td>\n",
       "      <td>0.400000</td>\n",
       "      <td>12.559226</td>\n",
       "      <td>1871.291667</td>\n",
       "      <td>5.330000</td>\n",
       "      <td>103.034548</td>\n",
       "      <td>5.651684</td>\n",
       "      <td>1.044927e+02</td>\n",
       "      <td>...</td>\n",
       "      <td>NaN</td>\n",
       "      <td>NaN</td>\n",
       "      <td>NaN</td>\n",
       "      <td>NaN</td>\n",
       "      <td>NaN</td>\n",
       "      <td>1.004185</td>\n",
       "      <td>1.004919</td>\n",
       "      <td>0.122056</td>\n",
       "      <td>0.090972</td>\n",
       "      <td>0.031084</td>\n",
       "    </tr>\n",
       "    <tr>\n",
       "      <th>4</th>\n",
       "      <td>1871.05</td>\n",
       "      <td>4.860000</td>\n",
       "      <td>0.260000</td>\n",
       "      <td>0.400000</td>\n",
       "      <td>12.273812</td>\n",
       "      <td>1871.375000</td>\n",
       "      <td>5.333333</td>\n",
       "      <td>108.099637</td>\n",
       "      <td>5.783108</td>\n",
       "      <td>1.101182e+02</td>\n",
       "      <td>...</td>\n",
       "      <td>NaN</td>\n",
       "      <td>NaN</td>\n",
       "      <td>NaN</td>\n",
       "      <td>NaN</td>\n",
       "      <td>NaN</td>\n",
       "      <td>1.004188</td>\n",
       "      <td>1.032591</td>\n",
       "      <td>0.122638</td>\n",
       "      <td>0.089488</td>\n",
       "      <td>0.033150</td>\n",
       "    </tr>\n",
       "    <tr>\n",
       "      <th>...</th>\n",
       "      <td>...</td>\n",
       "      <td>...</td>\n",
       "      <td>...</td>\n",
       "      <td>...</td>\n",
       "      <td>...</td>\n",
       "      <td>...</td>\n",
       "      <td>...</td>\n",
       "      <td>...</td>\n",
       "      <td>...</td>\n",
       "      <td>...</td>\n",
       "      <td>...</td>\n",
       "      <td>...</td>\n",
       "      <td>...</td>\n",
       "      <td>...</td>\n",
       "      <td>...</td>\n",
       "      <td>...</td>\n",
       "      <td>...</td>\n",
       "      <td>...</td>\n",
       "      <td>...</td>\n",
       "      <td>...</td>\n",
       "      <td>...</td>\n",
       "    </tr>\n",
       "    <tr>\n",
       "      <th>1790</th>\n",
       "      <td>2020.03</td>\n",
       "      <td>2652.393636</td>\n",
       "      <td>59.580604</td>\n",
       "      <td>116.330000</td>\n",
       "      <td>258.115000</td>\n",
       "      <td>2020.208333</td>\n",
       "      <td>0.870000</td>\n",
       "      <td>2805.382949</td>\n",
       "      <td>63.017196</td>\n",
       "      <td>1.747497e+06</td>\n",
       "      <td>...</td>\n",
       "      <td>24.817169</td>\n",
       "      <td>NaN</td>\n",
       "      <td>27.181634</td>\n",
       "      <td>NaN</td>\n",
       "      <td>0.048801</td>\n",
       "      <td>1.020878</td>\n",
       "      <td>57.842696</td>\n",
       "      <td>NaN</td>\n",
       "      <td>NaN</td>\n",
       "      <td>NaN</td>\n",
       "    </tr>\n",
       "    <tr>\n",
       "      <th>1791</th>\n",
       "      <td>2020.04</td>\n",
       "      <td>2761.975238</td>\n",
       "      <td>59.613736</td>\n",
       "      <td>110.630000</td>\n",
       "      <td>256.389000</td>\n",
       "      <td>2020.291667</td>\n",
       "      <td>0.660000</td>\n",
       "      <td>2940.951156</td>\n",
       "      <td>63.476704</td>\n",
       "      <td>1.835239e+06</td>\n",
       "      <td>...</td>\n",
       "      <td>25.927359</td>\n",
       "      <td>NaN</td>\n",
       "      <td>28.407963</td>\n",
       "      <td>NaN</td>\n",
       "      <td>0.048317</td>\n",
       "      <td>0.999591</td>\n",
       "      <td>59.447847</td>\n",
       "      <td>NaN</td>\n",
       "      <td>NaN</td>\n",
       "      <td>NaN</td>\n",
       "    </tr>\n",
       "    <tr>\n",
       "      <th>1792</th>\n",
       "      <td>2020.05</td>\n",
       "      <td>2919.615000</td>\n",
       "      <td>59.646868</td>\n",
       "      <td>104.930000</td>\n",
       "      <td>256.394000</td>\n",
       "      <td>2020.375000</td>\n",
       "      <td>0.670000</td>\n",
       "      <td>3108.745344</td>\n",
       "      <td>63.510745</td>\n",
       "      <td>1.943250e+06</td>\n",
       "      <td>...</td>\n",
       "      <td>27.328481</td>\n",
       "      <td>NaN</td>\n",
       "      <td>29.951773</td>\n",
       "      <td>NaN</td>\n",
       "      <td>0.046163</td>\n",
       "      <td>0.994820</td>\n",
       "      <td>59.422363</td>\n",
       "      <td>NaN</td>\n",
       "      <td>NaN</td>\n",
       "      <td>NaN</td>\n",
       "    </tr>\n",
       "    <tr>\n",
       "      <th>1793</th>\n",
       "      <td>2020.06</td>\n",
       "      <td>3104.660909</td>\n",
       "      <td>59.680000</td>\n",
       "      <td>99.230000</td>\n",
       "      <td>257.797000</td>\n",
       "      <td>2020.458333</td>\n",
       "      <td>0.730000</td>\n",
       "      <td>3287.787454</td>\n",
       "      <td>63.200189</td>\n",
       "      <td>2.058460e+06</td>\n",
       "      <td>...</td>\n",
       "      <td>28.838316</td>\n",
       "      <td>NaN</td>\n",
       "      <td>31.613285</td>\n",
       "      <td>NaN</td>\n",
       "      <td>0.044302</td>\n",
       "      <td>1.011185</td>\n",
       "      <td>58.792854</td>\n",
       "      <td>NaN</td>\n",
       "      <td>NaN</td>\n",
       "      <td>NaN</td>\n",
       "    </tr>\n",
       "    <tr>\n",
       "      <th>1794</th>\n",
       "      <td>2020.07</td>\n",
       "      <td>3207.619091</td>\n",
       "      <td>59.403333</td>\n",
       "      <td>98.893333</td>\n",
       "      <td>259.101000</td>\n",
       "      <td>2020.541667</td>\n",
       "      <td>0.620000</td>\n",
       "      <td>3379.723099</td>\n",
       "      <td>62.590604</td>\n",
       "      <td>2.119285e+06</td>\n",
       "      <td>...</td>\n",
       "      <td>29.599195</td>\n",
       "      <td>NaN</td>\n",
       "      <td>32.453341</td>\n",
       "      <td>NaN</td>\n",
       "      <td>0.045002</td>\n",
       "      <td>0.997636</td>\n",
       "      <td>59.151277</td>\n",
       "      <td>NaN</td>\n",
       "      <td>NaN</td>\n",
       "      <td>NaN</td>\n",
       "    </tr>\n",
       "  </tbody>\n",
       "</table>\n",
       "<p>1795 rows × 22 columns</p>\n",
       "</div>"
      ],
      "text/plain": [
       "         Date            P          D           E         CPI     Fraction  \\\n",
       "0     1871.01     4.440000   0.260000    0.400000   12.464061  1871.041667   \n",
       "1     1871.02     4.500000   0.260000    0.400000   12.844641  1871.125000   \n",
       "2     1871.03     4.610000   0.260000    0.400000   13.034972  1871.208333   \n",
       "3     1871.04     4.740000   0.260000    0.400000   12.559226  1871.291667   \n",
       "4     1871.05     4.860000   0.260000    0.400000   12.273812  1871.375000   \n",
       "...       ...          ...        ...         ...         ...          ...   \n",
       "1790  2020.03  2652.393636  59.580604  116.330000  258.115000  2020.208333   \n",
       "1791  2020.04  2761.975238  59.613736  110.630000  256.389000  2020.291667   \n",
       "1792  2020.05  2919.615000  59.646868  104.930000  256.394000  2020.375000   \n",
       "1793  2020.06  3104.660909  59.680000   99.230000  257.797000  2020.458333   \n",
       "1794  2020.07  3207.619091  59.403333   98.893333  259.101000  2020.541667   \n",
       "\n",
       "      Rate GS10        Price   Dividend       Price.1  ...       CAPE  \\\n",
       "0      5.320000    97.250271   5.694836  9.725027e+01  ...        NaN   \n",
       "1      5.323333    95.644049   5.526101  9.610456e+01  ...        NaN   \n",
       "2      5.326667    96.551327   5.445411  9.747217e+01  ...        NaN   \n",
       "3      5.330000   103.034548   5.651684  1.044927e+02  ...        NaN   \n",
       "4      5.333333   108.099637   5.783108  1.101182e+02  ...        NaN   \n",
       "...         ...          ...        ...           ...  ...        ...   \n",
       "1790   0.870000  2805.382949  63.017196  1.747497e+06  ...  24.817169   \n",
       "1791   0.660000  2940.951156  63.476704  1.835239e+06  ...  25.927359   \n",
       "1792   0.670000  3108.745344  63.510745  1.943250e+06  ...  27.328481   \n",
       "1793   0.730000  3287.787454  63.200189  2.058460e+06  ...  28.838316   \n",
       "1794   0.620000  3379.723099  62.590604  2.119285e+06  ...  29.599195   \n",
       "\n",
       "      Unnamed: 13    TR CAPE  Unnamed: 15     Yield   Returns  Returns.1  \\\n",
       "0             NaN        NaN          NaN       NaN  1.004177   1.000000   \n",
       "1             NaN        NaN          NaN       NaN  1.004180   0.974424   \n",
       "2             NaN        NaN          NaN       NaN  1.004183   0.964209   \n",
       "3             NaN        NaN          NaN       NaN  1.004185   1.004919   \n",
       "4             NaN        NaN          NaN       NaN  1.004188   1.032591   \n",
       "...           ...        ...          ...       ...       ...        ...   \n",
       "1790          NaN  27.181634          NaN  0.048801  1.020878  57.842696   \n",
       "1791          NaN  28.407963          NaN  0.048317  0.999591  59.447847   \n",
       "1792          NaN  29.951773          NaN  0.046163  0.994820  59.422363   \n",
       "1793          NaN  31.613285          NaN  0.044302  1.011185  58.792854   \n",
       "1794          NaN  32.453341          NaN  0.045002  0.997636  59.151277   \n",
       "\n",
       "      Real Return  Real Return.1  Returns.2  \n",
       "0        0.130609       0.092504   0.038106  \n",
       "1        0.130858       0.094635   0.036224  \n",
       "2        0.130951       0.096186   0.034765  \n",
       "3        0.122056       0.090972   0.031084  \n",
       "4        0.122638       0.089488   0.033150  \n",
       "...           ...            ...        ...  \n",
       "1790          NaN            NaN        NaN  \n",
       "1791          NaN            NaN        NaN  \n",
       "1792          NaN            NaN        NaN  \n",
       "1793          NaN            NaN        NaN  \n",
       "1794          NaN            NaN        NaN  \n",
       "\n",
       "[1795 rows x 22 columns]"
      ]
     },
     "execution_count": 26,
     "metadata": {},
     "output_type": "execute_result"
    }
   ],
   "source": [
    "df"
   ]
  },
  {
   "cell_type": "code",
   "execution_count": 39,
   "metadata": {},
   "outputs": [],
   "source": [
    "price_change = df.loc[1794, 'P']/df.loc[0, 'P']"
   ]
  },
  {
   "cell_type": "code",
   "execution_count": 40,
   "metadata": {},
   "outputs": [
    {
     "data": {
      "text/plain": [
       "722.436732186732"
      ]
     },
     "execution_count": 40,
     "metadata": {},
     "output_type": "execute_result"
    }
   ],
   "source": [
    "price_change"
   ]
  },
  {
   "cell_type": "code",
   "execution_count": 41,
   "metadata": {},
   "outputs": [],
   "source": [
    "date_change = df.loc[1794, 'Date']-df.loc[0, 'Date']"
   ]
  },
  {
   "cell_type": "markdown",
   "metadata": {},
   "source": [
    "(1+x)^date_change=price_change  \n",
    "x~=ln(1+x)=ln(price_change)/date_change"
   ]
  },
  {
   "cell_type": "code",
   "execution_count": 43,
   "metadata": {},
   "outputs": [],
   "source": [
    "x = np.log(price_change)/date_change"
   ]
  },
  {
   "cell_type": "code",
   "execution_count": 44,
   "metadata": {},
   "outputs": [
    {
     "data": {
      "text/plain": [
       "0.0441609408845073"
      ]
     },
     "execution_count": 44,
     "metadata": {},
     "output_type": "execute_result"
    }
   ],
   "source": [
    "x"
   ]
  },
  {
   "cell_type": "code",
   "execution_count": 45,
   "metadata": {},
   "outputs": [
    {
     "data": {
      "text/plain": [
       "627.2997583115852"
      ]
     },
     "execution_count": 45,
     "metadata": {},
     "output_type": "execute_result"
    }
   ],
   "source": [
    "(1+x)**date_change"
   ]
  },
  {
   "cell_type": "code",
   "execution_count": 10,
   "metadata": {},
   "outputs": [
    {
     "data": {
      "text/plain": [
       "1.0797776206713359"
      ]
     },
     "execution_count": 10,
     "metadata": {},
     "output_type": "execute_result"
    }
   ],
   "source": [
    "df['Adj Close Diff'].mean()**12"
   ]
  },
  {
   "cell_type": "code",
   "execution_count": 12,
   "metadata": {},
   "outputs": [
    {
     "data": {
      "text/plain": [
       "0         92.530300\n",
       "1         91.002035\n",
       "2         91.865279\n",
       "3         98.033842\n",
       "4        102.853101\n",
       "           ...     \n",
       "1790    2669.225749\n",
       "1791    2798.214253\n",
       "1792    2957.864673\n",
       "1793    3128.217105\n",
       "1794    3215.690722\n",
       "Name: Price, Length: 1795, dtype: float64"
      ]
     },
     "execution_count": 12,
     "metadata": {},
     "output_type": "execute_result"
    }
   ],
   "source": [
    "df['Price']"
   ]
  },
  {
   "cell_type": "code",
   "execution_count": 80,
   "metadata": {},
   "outputs": [],
   "source": [
    "bankrupcy_probs = {t: get_bankrupcy_prob4(t) for t in [.01,.02,.03,.04,.05,.06,.07,.08,.09,.1]}"
   ]
  },
  {
   "cell_type": "code",
   "execution_count": 81,
   "metadata": {},
   "outputs": [
    {
     "data": {
      "text/plain": [
       "{0.01: 0.0,\n",
       " 0.02: 0.0,\n",
       " 0.03: 0.01,\n",
       " 0.04: 0.0,\n",
       " 0.05: 0.02,\n",
       " 0.06: 0.02,\n",
       " 0.07: 0.15,\n",
       " 0.08: 0.23,\n",
       " 0.09: 0.42,\n",
       " 0.1: 0.52}"
      ]
     },
     "execution_count": 81,
     "metadata": {},
     "output_type": "execute_result"
    }
   ],
   "source": [
    "bankrupcy_probs"
   ]
  },
  {
   "cell_type": "code",
   "execution_count": 56,
   "metadata": {},
   "outputs": [
    {
     "data": {
      "text/plain": [
       "[<matplotlib.lines.Line2D at 0x7fc7beda4b50>]"
      ]
     },
     "execution_count": 56,
     "metadata": {},
     "output_type": "execute_result"
    },
    {
     "data": {
      "image/png": "[encoded data removed]",
      "text/plain": [
       "<Figure size 432x288 with 1 Axes>"
      ]
     },
     "metadata": {
      "needs_background": "light"
     },
     "output_type": "display_data"
    }
   ],
   "source": [
    "plt.plot(np.log(df['P']))"
   ]
  },
  {
   "cell_type": "code",
   "execution_count": 131,
   "metadata": {},
   "outputs": [],
   "source": [
    "def calc_slope(df, col='P'):\n",
    "    X = df['Date'].values.reshape(-1,1)\n",
    "    y = np.log(df[col]).values\n",
    "    lr = LinearRegression().fit(X, y)\n",
    "    b = lr.intercept_\n",
    "    a =lr.coef_\n",
    "    y_ = X*a+b\n",
    "    return y_, y, X, a, b\n"
   ]
  },
  {
   "cell_type": "code",
   "execution_count": 132,
   "metadata": {},
   "outputs": [],
   "source": [
    "y_, y, X, a, b = calc_slope(df)"
   ]
  },
  {
   "cell_type": "code",
   "execution_count": 136,
   "metadata": {},
   "outputs": [
    {
     "data": {
      "text/plain": [
       "[<matplotlib.lines.Line2D at 0x7fc7b6d43f50>]"
      ]
     },
     "execution_count": 136,
     "metadata": {},
     "output_type": "execute_result"
    },
    {
     "data": {
      "image/png": "[encoded data removed]",
      "text/plain": [
       "<Figure size 432x288 with 1 Axes>"
      ]
     },
     "metadata": {
      "needs_background": "light"
     },
     "output_type": "display_data"
    }
   ],
   "source": [
    "plt.plot(X, y_)\n",
    "plt.plot(X, y)"
   ]
  },
  {
   "cell_type": "markdown",
   "metadata": {},
   "source": [
    "log(P)=a\\*time+b  \n",
    "P = exp(a\\*time+b) = exp(b)\\*exp(a\\*time) = B\\*(q^time)  \n",
    "q = exp(a)  "
   ]
  },
  {
   "cell_type": "code",
   "execution_count": 137,
   "metadata": {},
   "outputs": [
    {
     "data": {
      "text/plain": [
       "array([1.0456331])"
      ]
     },
     "execution_count": 137,
     "metadata": {},
     "output_type": "execute_result"
    }
   ],
   "source": [
    "np.exp(a)"
   ]
  },
  {
   "cell_type": "markdown",
   "metadata": {},
   "source": [
    "So the market does 4.5% withe inflation"
   ]
  },
  {
   "cell_type": "code",
   "execution_count": 138,
   "metadata": {},
   "outputs": [],
   "source": [
    "y_, y, X, a, b = calc_slope(df, 'Price')"
   ]
  },
  {
   "cell_type": "code",
   "execution_count": 140,
   "metadata": {},
   "outputs": [
    {
     "data": {
      "text/plain": [
       "[<matplotlib.lines.Line2D at 0x7fc7b164b150>]"
      ]
     },
     "execution_count": 140,
     "metadata": {},
     "output_type": "execute_result"
    },
    {
     "data": {
      "image/png": "[encoded data removed]",
      "text/plain": [
       "<Figure size 432x288 with 1 Axes>"
      ]
     },
     "metadata": {
      "needs_background": "light"
     },
     "output_type": "display_data"
    }
   ],
   "source": [
    "plt.plot(X, y_)\n",
    "plt.plot(X, y)"
   ]
  },
  {
   "cell_type": "code",
   "execution_count": 141,
   "metadata": {},
   "outputs": [
    {
     "data": {
      "text/plain": [
       "array([1.01887881])"
      ]
     },
     "execution_count": 141,
     "metadata": {},
     "output_type": "execute_result"
    }
   ],
   "source": [
    "np.exp(a)"
   ]
  },
  {
   "cell_type": "markdown",
   "metadata": {},
   "source": [
    "So the market does ~2% without inflation"
   ]
  },
  {
   "cell_type": "markdown",
   "metadata": {},
   "source": [
    "What if we look at the last 100 years"
   ]
  },
  {
   "cell_type": "code",
   "execution_count": 142,
   "metadata": {},
   "outputs": [],
   "source": [
    "df_100 = df[df['Date']>1920]"
   ]
  },
  {
   "cell_type": "code",
   "execution_count": 146,
   "metadata": {},
   "outputs": [],
   "source": [
    "y_, y, X, a, b = calc_slope(df_100, 'P')"
   ]
  },
  {
   "cell_type": "code",
   "execution_count": 147,
   "metadata": {},
   "outputs": [
    {
     "data": {
      "text/plain": [
       "[<matplotlib.lines.Line2D at 0x7fc7b15cc290>]"
      ]
     },
     "execution_count": 147,
     "metadata": {},
     "output_type": "execute_result"
    },
    {
     "data": {
      "image/png": "[encoded data removed]",
      "text/plain": [
       "<Figure size 432x288 with 1 Axes>"
      ]
     },
     "metadata": {
      "needs_background": "light"
     },
     "output_type": "display_data"
    }
   ],
   "source": [
    "plt.plot(X, y_)\n",
    "plt.plot(X, y)"
   ]
  },
  {
   "cell_type": "code",
   "execution_count": 148,
   "metadata": {},
   "outputs": [
    {
     "data": {
      "text/plain": [
       "array([1.06433833])"
      ]
     },
     "execution_count": 148,
     "metadata": {},
     "output_type": "execute_result"
    }
   ],
   "source": [
    "np.exp(a)"
   ]
  },
  {
   "cell_type": "code",
   "execution_count": 149,
   "metadata": {},
   "outputs": [],
   "source": [
    "y_, y, X, a, b = calc_slope(df_100, 'Price')"
   ]
  },
  {
   "cell_type": "code",
   "execution_count": 150,
   "metadata": {},
   "outputs": [
    {
     "data": {
      "text/plain": [
       "[<matplotlib.lines.Line2D at 0x7fc7b1591e90>]"
      ]
     },
     "execution_count": 150,
     "metadata": {},
     "output_type": "execute_result"
    },
    {
     "data": {
      "image/png": "[encoded data removed]",
      "text/plain": [
       "<Figure size 432x288 with 1 Axes>"
      ]
     },
     "metadata": {
      "needs_background": "light"
     },
     "output_type": "display_data"
    }
   ],
   "source": [
    "plt.plot(X, y_)\n",
    "plt.plot(X, y)"
   ]
  },
  {
   "cell_type": "code",
   "execution_count": 151,
   "metadata": {},
   "outputs": [
    {
     "data": {
      "text/plain": [
       "array([1.0285191])"
      ]
     },
     "execution_count": 151,
     "metadata": {},
     "output_type": "execute_result"
    }
   ],
   "source": [
    "np.exp(a)"
   ]
  },
  {
   "cell_type": "code",
   "execution_count": null,
   "metadata": {},
   "outputs": [],
   "source": []
  },
  {
   "cell_type": "markdown",
   "metadata": {},
   "source": [
    "# Using MacroTrends"
   ]
  },
  {
   "cell_type": "markdown",
   "metadata": {},
   "source": [
    "https://www.macrotrends.net/2324/sp-500-historical-chart-data"
   ]
  },
  {
   "cell_type": "code",
   "execution_count": null,
   "metadata": {},
   "outputs": [],
   "source": []
  }
 ],
 "metadata": {
  "instance_type": "ml.t3.medium",
  "kernelspec": {
   "display_name": "Python 3 (Data Science)",
   "language": "python",
   "name": "python3__SAGEMAKER_INTERNAL__arn:aws:sagemaker:us-west-2:236514542706:image/datascience-1.0"
  },
  "language_info": {
   "codemirror_mode": {
    "name": "ipython",
    "version": 3
   },
   "file_extension": ".py",
   "mimetype": "text/x-python",
   "name": "python",
   "nbconvert_exporter": "python",
   "pygments_lexer": "ipython3",
   "version": "3.7.10"
  }
 },
 "nbformat": 4,
 "nbformat_minor": 4
}
