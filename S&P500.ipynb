{
 "cells": [
  {
   "cell_type": "code",
   "execution_count": 1,
   "metadata": {},
   "outputs": [],
   "source": [
    "import pandas as pd\n",
    "import numpy as np"
   ]
  },
  {
   "cell_type": "code",
   "execution_count": 69,
   "metadata": {},
   "outputs": [],
   "source": [
    "df = pd.read_csv('data/^GSPC.csv')"
   ]
  },
  {
   "cell_type": "code",
   "execution_count": 70,
   "metadata": {},
   "outputs": [
    {
     "data": {
      "text/html": [
       "<div>\n",
       "<style scoped>\n",
       "    .dataframe tbody tr th:only-of-type {\n",
       "        vertical-align: middle;\n",
       "    }\n",
       "\n",
       "    .dataframe tbody tr th {\n",
       "        vertical-align: top;\n",
       "    }\n",
       "\n",
       "    .dataframe thead th {\n",
       "        text-align: right;\n",
       "    }\n",
       "</style>\n",
       "<table border=\"1\" class=\"dataframe\">\n",
       "  <thead>\n",
       "    <tr style=\"text-align: right;\">\n",
       "      <th></th>\n",
       "      <th>Date</th>\n",
       "      <th>Open</th>\n",
       "      <th>High</th>\n",
       "      <th>Low</th>\n",
       "      <th>Close</th>\n",
       "      <th>Adj Close</th>\n",
       "      <th>Volume</th>\n",
       "    </tr>\n",
       "  </thead>\n",
       "  <tbody>\n",
       "    <tr>\n",
       "      <th>0</th>\n",
       "      <td>1950-01-01</td>\n",
       "      <td>16.660000</td>\n",
       "      <td>17.090000</td>\n",
       "      <td>16.650000</td>\n",
       "      <td>17.049999</td>\n",
       "      <td>17.049999</td>\n",
       "      <td>42570000</td>\n",
       "    </tr>\n",
       "    <tr>\n",
       "      <th>1</th>\n",
       "      <td>1950-02-01</td>\n",
       "      <td>17.049999</td>\n",
       "      <td>17.350000</td>\n",
       "      <td>16.990000</td>\n",
       "      <td>17.219999</td>\n",
       "      <td>17.219999</td>\n",
       "      <td>33430000</td>\n",
       "    </tr>\n",
       "    <tr>\n",
       "      <th>2</th>\n",
       "      <td>1950-03-01</td>\n",
       "      <td>17.240000</td>\n",
       "      <td>17.610001</td>\n",
       "      <td>17.070000</td>\n",
       "      <td>17.290001</td>\n",
       "      <td>17.290001</td>\n",
       "      <td>40410000</td>\n",
       "    </tr>\n",
       "    <tr>\n",
       "      <th>3</th>\n",
       "      <td>1950-04-01</td>\n",
       "      <td>17.340000</td>\n",
       "      <td>18.070000</td>\n",
       "      <td>17.340000</td>\n",
       "      <td>18.070000</td>\n",
       "      <td>18.070000</td>\n",
       "      <td>48250000</td>\n",
       "    </tr>\n",
       "    <tr>\n",
       "      <th>4</th>\n",
       "      <td>1950-05-01</td>\n",
       "      <td>18.219999</td>\n",
       "      <td>18.780001</td>\n",
       "      <td>18.110001</td>\n",
       "      <td>18.780001</td>\n",
       "      <td>18.780001</td>\n",
       "      <td>45080000</td>\n",
       "    </tr>\n",
       "  </tbody>\n",
       "</table>\n",
       "</div>"
      ],
      "text/plain": [
       "         Date       Open       High        Low      Close  Adj Close    Volume\n",
       "0  1950-01-01  16.660000  17.090000  16.650000  17.049999  17.049999  42570000\n",
       "1  1950-02-01  17.049999  17.350000  16.990000  17.219999  17.219999  33430000\n",
       "2  1950-03-01  17.240000  17.610001  17.070000  17.290001  17.290001  40410000\n",
       "3  1950-04-01  17.340000  18.070000  17.340000  18.070000  18.070000  48250000\n",
       "4  1950-05-01  18.219999  18.780001  18.110001  18.780001  18.780001  45080000"
      ]
     },
     "execution_count": 70,
     "metadata": {},
     "output_type": "execute_result"
    }
   ],
   "source": [
    "df.head()"
   ]
  },
  {
   "cell_type": "code",
   "execution_count": 71,
   "metadata": {},
   "outputs": [],
   "source": [
    "df['Adj Close Diff'] = df['Adj Close']/df['Adj Close'].shift()"
   ]
  },
  {
   "cell_type": "code",
   "execution_count": 5,
   "metadata": {},
   "outputs": [],
   "source": [
    "df['Log Adj Close Diff'] = np.log(df['Adj Close Diff'])"
   ]
  },
  {
   "cell_type": "code",
   "execution_count": 6,
   "metadata": {},
   "outputs": [
    {
     "data": {
      "text/plain": [
       "1.0766989707555843"
      ]
     },
     "execution_count": 6,
     "metadata": {},
     "output_type": "execute_result"
    }
   ],
   "source": [
    "np.exp(df['Log Adj Close Diff'].mean())**12"
   ]
  },
  {
   "cell_type": "code",
   "execution_count": 7,
   "metadata": {},
   "outputs": [
    {
     "data": {
      "text/plain": [
       "1.0024662697723037"
      ]
     },
     "execution_count": 7,
     "metadata": {},
     "output_type": "execute_result"
    }
   ],
   "source": [
    "1.03**(1/12)"
   ]
  },
  {
   "cell_type": "markdown",
   "metadata": {},
   "source": [
    "# What happens if every period I either:\n",
    "* put the excess revenue (over average revenue) and put in safe investment (3%) or \n",
    "* put funds from the safe investment to reach average revenuem"
   ]
  },
  {
   "cell_type": "code",
   "execution_count": 8,
   "metadata": {},
   "outputs": [
    {
     "name": "stdout",
     "output_type": "stream",
     "text": [
      "1.0061773224372066\n"
     ]
    }
   ],
   "source": [
    "class State():\n",
    "    def __init__(self, price):\n",
    "        self.invest = price\n",
    "        self.invest_history = [self.invest]\n",
    "        self.safe = 0\n",
    "        self.safe_history = [self.safe]\n",
    "\n",
    "    def sell(self, revenue, expected_revenue):\n",
    "        # put excess revenue in safe\n",
    "        excess_revenue = expected_revenue - revenue\n",
    "        self.invest -= excess_revenue\n",
    "        self.safe += excess_revenue\n",
    "\n",
    "    def buy(self, revenue, expected_revenue):\n",
    "        # put funds in investment\n",
    "        funds = expected_revenue - revenue\n",
    "        self.invest += funds\n",
    "        self.safe -= funds\n",
    "        \n",
    "\n",
    "\n",
    "def smoothify(prices):\n",
    "    diffs = prices/prices.shift()\n",
    "    av = np.exp(np.mean(np.log(diffs)))\n",
    "    print(av)\n",
    "    state = State(prices[0])\n",
    "    for diff,price in zip(diffs[1:],prices[1:]):\n",
    "#         print('----------')\n",
    "#         print(price)\n",
    "        expected_revenue = state.invest*av - state.invest\n",
    "#         print(expected_revenue)\n",
    "        revenue = state.invest*diff - state.invest\n",
    "#         print(revenue)\n",
    "        state.invest *= av\n",
    "#         print(state.invest)\n",
    "        state.invest_history.append(state.invest)\n",
    "        state.safe *= 1.0024\n",
    "#         print(state.safe)\n",
    "        state.safe_history.append(state.safe)\n",
    "        excess_revenue = expected_revenue - revenue\n",
    "        state.safe += excess_revenue\n",
    "\n",
    "    return state\n",
    "            \n",
    "state = smoothify(df['Adj Close'])\n",
    "        \n",
    "            "
   ]
  },
  {
   "cell_type": "code",
   "execution_count": 9,
   "metadata": {},
   "outputs": [],
   "source": [
    "s = pd.Series(state.invest_history)"
   ]
  },
  {
   "cell_type": "code",
   "execution_count": 10,
   "metadata": {},
   "outputs": [
    {
     "data": {
      "text/plain": [
       "1.0061773224372177"
      ]
     },
     "execution_count": 10,
     "metadata": {},
     "output_type": "execute_result"
    }
   ],
   "source": [
    "(s/s.shift()).mean()"
   ]
  },
  {
   "cell_type": "code",
   "execution_count": 11,
   "metadata": {},
   "outputs": [],
   "source": [
    "s_safe = pd.Series(state.safe_history)"
   ]
  },
  {
   "cell_type": "code",
   "execution_count": 12,
   "metadata": {},
   "outputs": [],
   "source": [
    "import matplotlib.pyplot as plt"
   ]
  },
  {
   "cell_type": "code",
   "execution_count": 13,
   "metadata": {},
   "outputs": [
    {
     "data": {
      "text/plain": [
       "[<matplotlib.lines.Line2D at 0x7fad4c83c160>]"
      ]
     },
     "execution_count": 13,
     "metadata": {},
     "output_type": "execute_result"
    },
    {
     "data": {
      "image/png": "[encoded data removed]",
      "text/plain": [
       "<Figure size 432x288 with 1 Axes>"
      ]
     },
     "metadata": {
      "needs_background": "light"
     },
     "output_type": "display_data"
    }
   ],
   "source": [
    "plt.plot(state.safe_history)"
   ]
  },
  {
   "cell_type": "code",
   "execution_count": 14,
   "metadata": {},
   "outputs": [
    {
     "data": {
      "text/plain": [
       "0.006666666666666667"
      ]
     },
     "execution_count": 14,
     "metadata": {},
     "output_type": "execute_result"
    }
   ],
   "source": [
    "0.08/12"
   ]
  },
  {
   "cell_type": "code",
   "execution_count": 15,
   "metadata": {},
   "outputs": [],
   "source": [
    "df = df.dropna()"
   ]
  },
  {
   "cell_type": "code",
   "execution_count": 16,
   "metadata": {},
   "outputs": [],
   "source": [
    "def min_take(sample_size=12*40, x=1000000, t=0.07):\n",
    "    sample = df.sample(sample_size)\n",
    "    takes = []\n",
    "    for diff in sample['Adj Close Diff']:\n",
    "        x*=diff\n",
    "        take = x*t/12\n",
    "        x-=take\n",
    "        takes.append(take)\n",
    "    return min(takes)"
   ]
  },
  {
   "cell_type": "code",
   "execution_count": 17,
   "metadata": {},
   "outputs": [],
   "source": [
    "min_takes = [min_take() for _ in range(1000)]"
   ]
  },
  {
   "cell_type": "code",
   "execution_count": 18,
   "metadata": {},
   "outputs": [
    {
     "data": {
      "text/plain": [
       "3617.6754068050036"
      ]
     },
     "execution_count": 18,
     "metadata": {},
     "output_type": "execute_result"
    }
   ],
   "source": [
    "sum(min_takes)/len(min_takes)"
   ]
  },
  {
   "cell_type": "code",
   "execution_count": 19,
   "metadata": {},
   "outputs": [
    {
     "data": {
      "text/plain": [
       "(array([ 10.,  65., 117., 173., 154., 150., 133., 110.,  84.,   4.]),\n",
       " array([ 602.08549502, 1211.09958806, 1820.11368109, 2429.12777412,\n",
       "        3038.14186715, 3647.15596018, 4256.17005321, 4865.18414625,\n",
       "        5474.19823928, 6083.21233231, 6692.22642534]),\n",
       " <a list of 10 Patch objects>)"
      ]
     },
     "execution_count": 19,
     "metadata": {},
     "output_type": "execute_result"
    },
    {
     "data": {
      "image/png": "[encoded data removed]",
      "text/plain": [
       "<Figure size 432x288 with 1 Axes>"
      ]
     },
     "metadata": {
      "needs_background": "light"
     },
     "output_type": "display_data"
    }
   ],
   "source": [
    "plt.hist(min_takes)"
   ]
  },
  {
   "cell_type": "markdown",
   "metadata": {},
   "source": [
    "# Bankrupcy experiments"
   ]
  },
  {
   "cell_type": "markdown",
   "metadata": {},
   "source": [
    "## Constant withdrawal"
   ]
  },
  {
   "cell_type": "code",
   "execution_count": 20,
   "metadata": {},
   "outputs": [],
   "source": [
    "def is_bankrupt(t=0.05, sample_size=12*40, x=1000000):\n",
    "    sample = df.sample(sample_size)\n",
    "    take = x*t/12\n",
    "    for diff in sample['Adj Close Diff']:\n",
    "        x*=diff\n",
    "        x-=take\n",
    "        if x<0:\n",
    "            return True\n",
    "    return False"
   ]
  },
  {
   "cell_type": "code",
   "execution_count": 21,
   "metadata": {},
   "outputs": [],
   "source": [
    "bankrupcies = [is_bankrupt() for _ in range(100)]"
   ]
  },
  {
   "cell_type": "code",
   "execution_count": 22,
   "metadata": {},
   "outputs": [
    {
     "data": {
      "text/plain": [
       "0.12"
      ]
     },
     "execution_count": 22,
     "metadata": {},
     "output_type": "execute_result"
    }
   ],
   "source": [
    "sum(bankrupcies)/len(bankrupcies)"
   ]
  },
  {
   "cell_type": "code",
   "execution_count": 23,
   "metadata": {},
   "outputs": [],
   "source": [
    "def get_bankrupcy_prob(t, s=12*40, N=100):\n",
    "    bankrupcies = [is_bankrupt(t, s) for _ in range(N)]\n",
    "    return sum(bankrupcies)/len(bankrupcies)"
   ]
  },
  {
   "cell_type": "code",
   "execution_count": 24,
   "metadata": {},
   "outputs": [],
   "source": [
    "bankrupcy_probs = [get_bankrupcy_prob(t) for t in [.01,.02,.03,.04,.05,.06,.07,.08,.09,.1]]"
   ]
  },
  {
   "cell_type": "code",
   "execution_count": 25,
   "metadata": {},
   "outputs": [
    {
     "data": {
      "text/plain": [
       "[0.0, 0.0, 0.01, 0.02, 0.05, 0.21, 0.38, 0.7, 0.68, 0.85]"
      ]
     },
     "execution_count": 25,
     "metadata": {},
     "output_type": "execute_result"
    }
   ],
   "source": [
    "bankrupcy_probs"
   ]
  },
  {
   "cell_type": "markdown",
   "metadata": {},
   "source": [
    "## Constant percent of savings withdrawal"
   ]
  },
  {
   "cell_type": "code",
   "execution_count": 26,
   "metadata": {},
   "outputs": [],
   "source": [
    "def is_bankrupt2(t=0.07, min_take_ratio=.3, sample_size=12*40, x=1000000):\n",
    "    sample = df.sample(sample_size)\n",
    "    min_take = min_take_ratio*x*t/12\n",
    "    for diff in sample['Adj Close Diff']:\n",
    "        x*=diff\n",
    "        take = x*t/12\n",
    "        x-=take\n",
    "        if take<min_take:\n",
    "            return True\n",
    "    return False"
   ]
  },
  {
   "cell_type": "code",
   "execution_count": 27,
   "metadata": {},
   "outputs": [],
   "source": [
    "def get_bankrupcy_prob2(t, m=.5, s=12*40, N=100):\n",
    "    bankrupcies = [is_bankrupt2(t, m, s) for _ in range(N)]\n",
    "    return sum(bankrupcies)/len(bankrupcies)"
   ]
  },
  {
   "cell_type": "code",
   "execution_count": 28,
   "metadata": {},
   "outputs": [],
   "source": [
    "bankrupcy_probs = [get_bankrupcy_prob2(t) for t in [.01,.02,.03,.04,.05,.06,.07,.08,.09,.1]]"
   ]
  },
  {
   "cell_type": "code",
   "execution_count": 29,
   "metadata": {},
   "outputs": [
    {
     "data": {
      "text/plain": [
       "[0.0, 0.01, 0.01, 0.01, 0.1, 0.16, 0.28, 0.53, 0.75, 0.87]"
      ]
     },
     "execution_count": 29,
     "metadata": {},
     "output_type": "execute_result"
    }
   ],
   "source": [
    "bankrupcy_probs"
   ]
  },
  {
   "cell_type": "markdown",
   "metadata": {},
   "source": [
    "## Flexible withdrawal"
   ]
  },
  {
   "cell_type": "markdown",
   "metadata": {},
   "source": [
    "Withdraw a fixed percent down to a minimal withdrawal ratio"
   ]
  },
  {
   "cell_type": "code",
   "execution_count": 30,
   "metadata": {},
   "outputs": [],
   "source": [
    "def is_bankrupt3(t=0.06, min_take_ratio=.3, sample_size=12*40, x=1000000):\n",
    "    sample = df.sample(sample_size)\n",
    "    min_take = min_take_ratio*x*t/12\n",
    "    for diff in sample['Adj Close Diff']:\n",
    "        x*=diff\n",
    "        take = max(x*t/12, min_take)\n",
    "        x-=take\n",
    "        if x<0:\n",
    "            return True\n",
    "    return False"
   ]
  },
  {
   "cell_type": "code",
   "execution_count": 31,
   "metadata": {},
   "outputs": [],
   "source": [
    "def get_bankrupcy_prob3(t, m=.5, s=12*40, N=100):\n",
    "    bankrupcies = [is_bankrupt3(t, m, s) for _ in range(N)]\n",
    "    return sum(bankrupcies)/len(bankrupcies)"
   ]
  },
  {
   "cell_type": "code",
   "execution_count": 32,
   "metadata": {},
   "outputs": [],
   "source": [
    "bankrupcy_probs = [get_bankrupcy_prob3(t) for t in [.01,.02,.03,.04,.05,.06,.07,.08,.09,.1]]"
   ]
  },
  {
   "cell_type": "code",
   "execution_count": 33,
   "metadata": {},
   "outputs": [
    {
     "data": {
      "text/plain": [
       "[0.0, 0.0, 0.0, 0.0, 0.01, 0.0, 0.02, 0.17, 0.33, 0.52]"
      ]
     },
     "execution_count": 33,
     "metadata": {},
     "output_type": "execute_result"
    }
   ],
   "source": [
    "bankrupcy_probs"
   ]
  },
  {
   "cell_type": "markdown",
   "metadata": {},
   "source": [
    "## Flexible withdrawal with bottom and top limits"
   ]
  },
  {
   "cell_type": "markdown",
   "metadata": {},
   "source": [
    "Withdraw a fixed percent between a minimal and a maximal withdrawal limit"
   ]
  },
  {
   "cell_type": "code",
   "execution_count": 57,
   "metadata": {},
   "outputs": [],
   "source": [
    "def is_bankrupt4(t=0.06, min_take_ratio=.3, sample_size=12*40, x=1000000):\n",
    "    sample = df.sample(sample_size)\n",
    "    min_take = min_take_ratio*x*t/12\n",
    "    max_take = x*t/12\n",
    "#     print(max_take)\n",
    "    takes = []\n",
    "    for diff in sample['Adj Close Diff']:\n",
    "        x*=diff\n",
    "        take = min(max(x*t/12, min_take),max_take)\n",
    "        takes.append(take/max_take)\n",
    "        x-=take\n",
    "        if x<0:\n",
    "#             print(sum(takes)/len(takes))\n",
    "            return True\n",
    "#     print(sum(takes)/len(takes))\n",
    "    return False"
   ]
  },
  {
   "cell_type": "code",
   "execution_count": 58,
   "metadata": {},
   "outputs": [],
   "source": [
    "def get_bankrupcy_prob4(t, m=.6, s=12*40, N=100):\n",
    "    bankrupcies = [is_bankrupt4(t, m, s) for _ in range(N)]\n",
    "    return sum(bankrupcies)/len(bankrupcies)"
   ]
  },
  {
   "cell_type": "code",
   "execution_count": 72,
   "metadata": {},
   "outputs": [],
   "source": [
    "bankrupcy_probs = {t: get_bankrupcy_prob4(t) for t in [.01,.02,.03,.04,.05,.06,.07,.08,.09,.1]}"
   ]
  },
  {
   "cell_type": "code",
   "execution_count": 73,
   "metadata": {},
   "outputs": [
    {
     "data": {
      "text/plain": [
       "{0.01: 0.0,\n",
       " 0.02: 0.0,\n",
       " 0.03: 0.0,\n",
       " 0.04: 0.0,\n",
       " 0.05: 0.0,\n",
       " 0.06: 0.01,\n",
       " 0.07: 0.06,\n",
       " 0.08: 0.12,\n",
       " 0.09: 0.18,\n",
       " 0.1: 0.35}"
      ]
     },
     "execution_count": 73,
     "metadata": {},
     "output_type": "execute_result"
    }
   ],
   "source": [
    "bankrupcy_probs"
   ]
  },
  {
   "cell_type": "markdown",
   "metadata": {},
   "source": [
    "# Using Robert Shiller's dataset"
   ]
  },
  {
   "cell_type": "code",
   "execution_count": 75,
   "metadata": {},
   "outputs": [],
   "source": [
    "df = pd.read_excel('data/ie_data.xls', sheet_name=\"Data\", header=7, nrows=1795)"
   ]
  },
  {
   "cell_type": "code",
   "execution_count": 77,
   "metadata": {},
   "outputs": [],
   "source": [
    "df['Adj Close Diff'] = df['Price.1']/df['Price.1'].shift()"
   ]
  },
  {
   "cell_type": "code",
   "execution_count": 78,
   "metadata": {},
   "outputs": [
    {
     "data": {
      "text/html": [
       "<div>\n",
       "<style scoped>\n",
       "    .dataframe tbody tr th:only-of-type {\n",
       "        vertical-align: middle;\n",
       "    }\n",
       "\n",
       "    .dataframe tbody tr th {\n",
       "        vertical-align: top;\n",
       "    }\n",
       "\n",
       "    .dataframe thead th {\n",
       "        text-align: right;\n",
       "    }\n",
       "</style>\n",
       "<table border=\"1\" class=\"dataframe\">\n",
       "  <thead>\n",
       "    <tr style=\"text-align: right;\">\n",
       "      <th></th>\n",
       "      <th>Date</th>\n",
       "      <th>P</th>\n",
       "      <th>D</th>\n",
       "      <th>E</th>\n",
       "      <th>CPI</th>\n",
       "      <th>Fraction</th>\n",
       "      <th>Rate GS10</th>\n",
       "      <th>Price</th>\n",
       "      <th>Dividend</th>\n",
       "      <th>Price.1</th>\n",
       "      <th>Earnings</th>\n",
       "      <th>Earnings.1</th>\n",
       "      <th>CAPE</th>\n",
       "      <th>Unnamed: 13</th>\n",
       "      <th>TR CAPE</th>\n",
       "      <th>Unnamed: 15</th>\n",
       "      <th>Adj Close Diff</th>\n",
       "    </tr>\n",
       "  </thead>\n",
       "  <tbody>\n",
       "    <tr>\n",
       "      <th>1790</th>\n",
       "      <td>2020.03</td>\n",
       "      <td>2652.393636</td>\n",
       "      <td>59.580604</td>\n",
       "      <td>116.330000</td>\n",
       "      <td>258.115</td>\n",
       "      <td>2020.208333</td>\n",
       "      <td>0.87</td>\n",
       "      <td>2669.225749</td>\n",
       "      <td>59.958703</td>\n",
       "      <td>1.662683e+06</td>\n",
       "      <td>117.068231</td>\n",
       "      <td>72922.800031</td>\n",
       "      <td>24.817169</td>\n",
       "      <td>NaN</td>\n",
       "      <td>27.181634</td>\n",
       "      <td>NaN</td>\n",
       "      <td>0.812603</td>\n",
       "    </tr>\n",
       "    <tr>\n",
       "      <th>1791</th>\n",
       "      <td>2020.04</td>\n",
       "      <td>2761.975238</td>\n",
       "      <td>59.613736</td>\n",
       "      <td>110.083333</td>\n",
       "      <td>256.389</td>\n",
       "      <td>2020.291667</td>\n",
       "      <td>0.66</td>\n",
       "      <td>2798.214253</td>\n",
       "      <td>60.395909</td>\n",
       "      <td>1.746167e+06</td>\n",
       "      <td>111.527702</td>\n",
       "      <td>69596.511995</td>\n",
       "      <td>25.927359</td>\n",
       "      <td>NaN</td>\n",
       "      <td>28.407963</td>\n",
       "      <td>NaN</td>\n",
       "      <td>1.050210</td>\n",
       "    </tr>\n",
       "    <tr>\n",
       "      <th>1792</th>\n",
       "      <td>2020.05</td>\n",
       "      <td>2919.615000</td>\n",
       "      <td>59.646868</td>\n",
       "      <td>103.103333</td>\n",
       "      <td>256.394</td>\n",
       "      <td>2020.375000</td>\n",
       "      <td>0.67</td>\n",
       "      <td>2957.864673</td>\n",
       "      <td>60.428297</td>\n",
       "      <td>1.848936e+06</td>\n",
       "      <td>104.454083</td>\n",
       "      <td>65293.340255</td>\n",
       "      <td>27.329646</td>\n",
       "      <td>NaN</td>\n",
       "      <td>29.953171</td>\n",
       "      <td>NaN</td>\n",
       "      <td>1.058854</td>\n",
       "    </tr>\n",
       "    <tr>\n",
       "      <th>1793</th>\n",
       "      <td>2020.06</td>\n",
       "      <td>3104.660909</td>\n",
       "      <td>59.680000</td>\n",
       "      <td>96.490000</td>\n",
       "      <td>257.797</td>\n",
       "      <td>2020.458333</td>\n",
       "      <td>0.73</td>\n",
       "      <td>3128.217105</td>\n",
       "      <td>60.132814</td>\n",
       "      <td>1.958554e+06</td>\n",
       "      <td>97.222105</td>\n",
       "      <td>60870.044885</td>\n",
       "      <td>28.843644</td>\n",
       "      <td>NaN</td>\n",
       "      <td>31.619674</td>\n",
       "      <td>NaN</td>\n",
       "      <td>1.059287</td>\n",
       "    </tr>\n",
       "    <tr>\n",
       "      <th>1794</th>\n",
       "      <td>2020.07</td>\n",
       "      <td>3207.619091</td>\n",
       "      <td>NaN</td>\n",
       "      <td>NaN</td>\n",
       "      <td>259.101</td>\n",
       "      <td>2020.541667</td>\n",
       "      <td>0.62</td>\n",
       "      <td>3215.690722</td>\n",
       "      <td>NaN</td>\n",
       "      <td>2.013320e+06</td>\n",
       "      <td>NaN</td>\n",
       "      <td>NaN</td>\n",
       "      <td>29.610927</td>\n",
       "      <td>NaN</td>\n",
       "      <td>32.417381</td>\n",
       "      <td>NaN</td>\n",
       "      <td>1.027963</td>\n",
       "    </tr>\n",
       "  </tbody>\n",
       "</table>\n",
       "</div>"
      ],
      "text/plain": [
       "         Date            P          D           E      CPI     Fraction  \\\n",
       "1790  2020.03  2652.393636  59.580604  116.330000  258.115  2020.208333   \n",
       "1791  2020.04  2761.975238  59.613736  110.083333  256.389  2020.291667   \n",
       "1792  2020.05  2919.615000  59.646868  103.103333  256.394  2020.375000   \n",
       "1793  2020.06  3104.660909  59.680000   96.490000  257.797  2020.458333   \n",
       "1794  2020.07  3207.619091        NaN         NaN  259.101  2020.541667   \n",
       "\n",
       "      Rate GS10        Price   Dividend       Price.1    Earnings  \\\n",
       "1790       0.87  2669.225749  59.958703  1.662683e+06  117.068231   \n",
       "1791       0.66  2798.214253  60.395909  1.746167e+06  111.527702   \n",
       "1792       0.67  2957.864673  60.428297  1.848936e+06  104.454083   \n",
       "1793       0.73  3128.217105  60.132814  1.958554e+06   97.222105   \n",
       "1794       0.62  3215.690722        NaN  2.013320e+06         NaN   \n",
       "\n",
       "        Earnings.1       CAPE  Unnamed: 13    TR CAPE  Unnamed: 15  \\\n",
       "1790  72922.800031  24.817169          NaN  27.181634          NaN   \n",
       "1791  69596.511995  25.927359          NaN  28.407963          NaN   \n",
       "1792  65293.340255  27.329646          NaN  29.953171          NaN   \n",
       "1793  60870.044885  28.843644          NaN  31.619674          NaN   \n",
       "1794           NaN  29.610927          NaN  32.417381          NaN   \n",
       "\n",
       "      Adj Close Diff  \n",
       "1790        0.812603  \n",
       "1791        1.050210  \n",
       "1792        1.058854  \n",
       "1793        1.059287  \n",
       "1794        1.027963  "
      ]
     },
     "execution_count": 78,
     "metadata": {},
     "output_type": "execute_result"
    }
   ],
   "source": [
    "df.tail()"
   ]
  },
  {
   "cell_type": "code",
   "execution_count": 79,
   "metadata": {},
   "outputs": [
    {
     "data": {
      "text/plain": [
       "1.0797776206713359"
      ]
     },
     "execution_count": 79,
     "metadata": {},
     "output_type": "execute_result"
    }
   ],
   "source": [
    "df['Adj Close Diff'].mean()**12"
   ]
  },
  {
   "cell_type": "code",
   "execution_count": 80,
   "metadata": {},
   "outputs": [],
   "source": [
    "bankrupcy_probs = {t: get_bankrupcy_prob4(t) for t in [.01,.02,.03,.04,.05,.06,.07,.08,.09,.1]}"
   ]
  },
  {
   "cell_type": "code",
   "execution_count": 81,
   "metadata": {},
   "outputs": [
    {
     "data": {
      "text/plain": [
       "{0.01: 0.0,\n",
       " 0.02: 0.0,\n",
       " 0.03: 0.01,\n",
       " 0.04: 0.0,\n",
       " 0.05: 0.02,\n",
       " 0.06: 0.02,\n",
       " 0.07: 0.15,\n",
       " 0.08: 0.23,\n",
       " 0.09: 0.42,\n",
       " 0.1: 0.52}"
      ]
     },
     "execution_count": 81,
     "metadata": {},
     "output_type": "execute_result"
    }
   ],
   "source": [
    "bankrupcy_probs"
   ]
  },
  {
   "cell_type": "code",
   "execution_count": null,
   "metadata": {},
   "outputs": [],
   "source": []
  }
 ],
 "metadata": {
  "kernelspec": {
   "display_name": "conda_pytorch_p36",
   "language": "python",
   "name": "conda_pytorch_p36"
  },
  "language_info": {
   "codemirror_mode": {
    "name": "ipython",
    "version": 3
   },
   "file_extension": ".py",
   "mimetype": "text/x-python",
   "name": "python",
   "nbconvert_exporter": "python",
   "pygments_lexer": "ipython3",
   "version": "3.6.10"
  }
 },
 "nbformat": 4,
 "nbformat_minor": 2
}
