{
 "cells": [
  {
   "cell_type": "code",
   "execution_count": 4,
   "metadata": {},
   "outputs": [
    {
     "name": "stdout",
     "output_type": "stream",
     "text": [
      "Requirement already satisfied: pywebarchive in /home/ec2-user/anaconda3/envs/pytorch_p36/lib/python3.6/site-packages (0.2.4)\r\n"
     ]
    }
   ],
   "source": [
    "! pip install pywebarchive"
   ]
  },
  {
   "cell_type": "code",
   "execution_count": 5,
   "metadata": {},
   "outputs": [],
   "source": [
    "import webarchive\n",
    "import pandas as pd\n",
    "import shutil\n",
    "import os\n",
    "from tqdm.auto import tqdm"
   ]
  },
  {
   "cell_type": "code",
   "execution_count": 4,
   "metadata": {},
   "outputs": [],
   "source": [
    "archive = webarchive.open(\"data/Xh/Tokens History | xHamsterLive 0.webarchive\")"
   ]
  },
  {
   "cell_type": "code",
   "execution_count": 5,
   "metadata": {},
   "outputs": [],
   "source": [
    "archive.extract('Tokens History | xHamsterLive.html')"
   ]
  },
  {
   "cell_type": "code",
   "execution_count": 7,
   "metadata": {},
   "outputs": [
    {
     "data": {
      "text/plain": [
       "'data/Xh/Tokens History | xHamsterLive 0.html'"
      ]
     },
     "execution_count": 7,
     "metadata": {},
     "output_type": "execute_result"
    }
   ],
   "source": [
    "shutil.move('Tokens History | xHamsterLive.html', 'data/Xh/Tokens History | xHamsterLive 0.html')"
   ]
  },
  {
   "cell_type": "code",
   "execution_count": 9,
   "metadata": {},
   "outputs": [],
   "source": [
    "df = pd.read_html('data/Xh/Tokens History | xHamsterLive 0.html')"
   ]
  },
  {
   "cell_type": "code",
   "execution_count": 12,
   "metadata": {},
   "outputs": [
    {
     "data": {
      "text/html": [
       "<div>\n",
       "<style scoped>\n",
       "    .dataframe tbody tr th:only-of-type {\n",
       "        vertical-align: middle;\n",
       "    }\n",
       "\n",
       "    .dataframe tbody tr th {\n",
       "        vertical-align: top;\n",
       "    }\n",
       "\n",
       "    .dataframe thead th {\n",
       "        text-align: right;\n",
       "    }\n",
       "</style>\n",
       "<table border=\"1\" class=\"dataframe\">\n",
       "  <thead>\n",
       "    <tr style=\"text-align: right;\">\n",
       "      <th></th>\n",
       "      <th>Date</th>\n",
       "      <th>Model</th>\n",
       "      <th>Type</th>\n",
       "      <th>Tokens</th>\n",
       "    </tr>\n",
       "  </thead>\n",
       "  <tbody>\n",
       "    <tr>\n",
       "      <th>0</th>\n",
       "      <td>July 23rd, 2020 7:07 AM</td>\n",
       "      <td>klidi_01</td>\n",
       "      <td>Public tip</td>\n",
       "      <td>15</td>\n",
       "    </tr>\n",
       "    <tr>\n",
       "      <th>1</th>\n",
       "      <td>July 23rd, 2020 4:17 AM</td>\n",
       "      <td>AvisFlowers</td>\n",
       "      <td>Cam2Cam show (minimum duration charge)</td>\n",
       "      <td>16</td>\n",
       "    </tr>\n",
       "    <tr>\n",
       "      <th>2</th>\n",
       "      <td>July 23rd, 2020 4:17 AM</td>\n",
       "      <td>AvisFlowers</td>\n",
       "      <td>Cam2Cam show</td>\n",
       "      <td>16</td>\n",
       "    </tr>\n",
       "    <tr>\n",
       "      <th>3</th>\n",
       "      <td>July 23rd, 2020 4:16 AM</td>\n",
       "      <td>AvisFlowers</td>\n",
       "      <td>Cam2Cam show</td>\n",
       "      <td>16</td>\n",
       "    </tr>\n",
       "    <tr>\n",
       "      <th>4</th>\n",
       "      <td>July 23rd, 2020 4:15 AM</td>\n",
       "      <td>AvisFlowers</td>\n",
       "      <td>Cam2Cam show</td>\n",
       "      <td>16</td>\n",
       "    </tr>\n",
       "  </tbody>\n",
       "</table>\n",
       "</div>"
      ],
      "text/plain": [
       "                      Date        Model  \\\n",
       "0  July 23rd, 2020 7:07 AM     klidi_01   \n",
       "1  July 23rd, 2020 4:17 AM  AvisFlowers   \n",
       "2  July 23rd, 2020 4:17 AM  AvisFlowers   \n",
       "3  July 23rd, 2020 4:16 AM  AvisFlowers   \n",
       "4  July 23rd, 2020 4:15 AM  AvisFlowers   \n",
       "\n",
       "                                     Type  Tokens  \n",
       "0                              Public tip      15  \n",
       "1  Cam2Cam show (minimum duration charge)      16  \n",
       "2                            Cam2Cam show      16  \n",
       "3                            Cam2Cam show      16  \n",
       "4                            Cam2Cam show      16  "
      ]
     },
     "execution_count": 12,
     "metadata": {},
     "output_type": "execute_result"
    }
   ],
   "source": [
    "df[0].head()"
   ]
  },
  {
   "cell_type": "code",
   "execution_count": 17,
   "metadata": {},
   "outputs": [
    {
     "data": {
      "text/plain": [
       "'data/Xh/Tokens History | xHamsterLive 1.webarchive'"
      ]
     },
     "execution_count": 17,
     "metadata": {},
     "output_type": "execute_result"
    }
   ],
   "source": [
    "shutil.move(\"data/Xh/Tokens History | xHamsterLive 2_.webarchive\",\"data/Xh/Tokens History | xHamsterLive 1.webarchive\")"
   ]
  },
  {
   "cell_type": "code",
   "execution_count": 6,
   "metadata": {},
   "outputs": [
    {
     "data": {
      "application/vnd.jupyter.widget-view+json": {
       "model_id": "2fdb8e2cb35f4a11a060073ef87a9966",
       "version_major": 2,
       "version_minor": 0
      },
      "text/plain": [
       "  0%|          | 0/4 [00:00<?, ?it/s]"
      ]
     },
     "metadata": {},
     "output_type": "display_data"
    }
   ],
   "source": [
    "dfs = []\n",
    "for i in tqdm(range(20,24)):\n",
    "    archive = webarchive.open(f\"data/Xh/Tokens History | xHamsterLive {i}.webarchive\")\n",
    "    archive.extract('Tokens History | xHamsterLive.html')\n",
    "    shutil.move(f\"Tokens History | xHamsterLive.html\", f\"data/Xh/Tokens History | xHamsterLive {i}.html\")\n",
    "    df = pd.read_html(f\"data/Xh/Tokens History | xHamsterLive {i}.html\")\n",
    "    dfs.append(df[0])"
   ]
  },
  {
   "cell_type": "code",
   "execution_count": 18,
   "metadata": {},
   "outputs": [],
   "source": [
    "df = pd.concat(dfs)"
   ]
  },
  {
   "cell_type": "code",
   "execution_count": 20,
   "metadata": {},
   "outputs": [
    {
     "data": {
      "text/html": [
       "<div>\n",
       "<style scoped>\n",
       "    .dataframe tbody tr th:only-of-type {\n",
       "        vertical-align: middle;\n",
       "    }\n",
       "\n",
       "    .dataframe tbody tr th {\n",
       "        vertical-align: top;\n",
       "    }\n",
       "\n",
       "    .dataframe thead th {\n",
       "        text-align: right;\n",
       "    }\n",
       "</style>\n",
       "<table border=\"1\" class=\"dataframe\">\n",
       "  <thead>\n",
       "    <tr style=\"text-align: right;\">\n",
       "      <th></th>\n",
       "      <th>Date</th>\n",
       "      <th>Model</th>\n",
       "      <th>Type</th>\n",
       "      <th>Tokens</th>\n",
       "    </tr>\n",
       "  </thead>\n",
       "  <tbody>\n",
       "    <tr>\n",
       "      <th>0</th>\n",
       "      <td>March 25th, 2021 10:53 AM</td>\n",
       "      <td>MelanieNuls</td>\n",
       "      <td>Exclusive Private</td>\n",
       "      <td>24</td>\n",
       "    </tr>\n",
       "    <tr>\n",
       "      <th>1</th>\n",
       "      <td>March 25th, 2021 10:52 AM</td>\n",
       "      <td>MelanieNuls</td>\n",
       "      <td>Exclusive Private</td>\n",
       "      <td>24</td>\n",
       "    </tr>\n",
       "    <tr>\n",
       "      <th>2</th>\n",
       "      <td>March 25th, 2021 10:51 AM</td>\n",
       "      <td>MelanieNuls</td>\n",
       "      <td>Exclusive Private</td>\n",
       "      <td>24</td>\n",
       "    </tr>\n",
       "    <tr>\n",
       "      <th>3</th>\n",
       "      <td>March 25th, 2021 10:50 AM</td>\n",
       "      <td>MelanieNuls</td>\n",
       "      <td>Exclusive Private</td>\n",
       "      <td>24</td>\n",
       "    </tr>\n",
       "    <tr>\n",
       "      <th>4</th>\n",
       "      <td>March 25th, 2021 10:49 AM</td>\n",
       "      <td>MelanieNuls</td>\n",
       "      <td>Exclusive Private</td>\n",
       "      <td>24</td>\n",
       "    </tr>\n",
       "  </tbody>\n",
       "</table>\n",
       "</div>"
      ],
      "text/plain": [
       "                        Date        Model               Type  Tokens\n",
       "0  March 25th, 2021 10:53 AM  MelanieNuls  Exclusive Private      24\n",
       "1  March 25th, 2021 10:52 AM  MelanieNuls  Exclusive Private      24\n",
       "2  March 25th, 2021 10:51 AM  MelanieNuls  Exclusive Private      24\n",
       "3  March 25th, 2021 10:50 AM  MelanieNuls  Exclusive Private      24\n",
       "4  March 25th, 2021 10:49 AM  MelanieNuls  Exclusive Private      24"
      ]
     },
     "execution_count": 20,
     "metadata": {},
     "output_type": "execute_result"
    }
   ],
   "source": [
    "df.head()"
   ]
  },
  {
   "cell_type": "code",
   "execution_count": 21,
   "metadata": {},
   "outputs": [],
   "source": [
    "df['Date'] = pd.to_datetime(df['Date'])"
   ]
  },
  {
   "cell_type": "code",
   "execution_count": 22,
   "metadata": {},
   "outputs": [],
   "source": [
    "df = df.sort_values('Date')"
   ]
  },
  {
   "cell_type": "code",
   "execution_count": 24,
   "metadata": {},
   "outputs": [
    {
     "data": {
      "text/html": [
       "<div>\n",
       "<style scoped>\n",
       "    .dataframe tbody tr th:only-of-type {\n",
       "        vertical-align: middle;\n",
       "    }\n",
       "\n",
       "    .dataframe tbody tr th {\n",
       "        vertical-align: top;\n",
       "    }\n",
       "\n",
       "    .dataframe thead th {\n",
       "        text-align: right;\n",
       "    }\n",
       "</style>\n",
       "<table border=\"1\" class=\"dataframe\">\n",
       "  <thead>\n",
       "    <tr style=\"text-align: right;\">\n",
       "      <th></th>\n",
       "      <th>Date</th>\n",
       "      <th>Model</th>\n",
       "      <th>Type</th>\n",
       "      <th>Tokens</th>\n",
       "    </tr>\n",
       "  </thead>\n",
       "  <tbody>\n",
       "    <tr>\n",
       "      <th>89</th>\n",
       "      <td>2021-02-01 21:36:00</td>\n",
       "      <td>KellyWalter</td>\n",
       "      <td>Exclusive Private</td>\n",
       "      <td>8</td>\n",
       "    </tr>\n",
       "    <tr>\n",
       "      <th>87</th>\n",
       "      <td>2021-02-01 21:38:00</td>\n",
       "      <td>KellyWalter</td>\n",
       "      <td>Exclusive Private</td>\n",
       "      <td>8</td>\n",
       "    </tr>\n",
       "    <tr>\n",
       "      <th>88</th>\n",
       "      <td>2021-02-01 21:38:00</td>\n",
       "      <td>KellyWalter</td>\n",
       "      <td>Exclusive Private</td>\n",
       "      <td>8</td>\n",
       "    </tr>\n",
       "    <tr>\n",
       "      <th>86</th>\n",
       "      <td>2021-02-01 21:39:00</td>\n",
       "      <td>KellyWalter</td>\n",
       "      <td>Exclusive Private</td>\n",
       "      <td>8</td>\n",
       "    </tr>\n",
       "    <tr>\n",
       "      <th>85</th>\n",
       "      <td>2021-02-01 21:40:00</td>\n",
       "      <td>KellyWalter</td>\n",
       "      <td>Exclusive Private</td>\n",
       "      <td>8</td>\n",
       "    </tr>\n",
       "    <tr>\n",
       "      <th>...</th>\n",
       "      <td>...</td>\n",
       "      <td>...</td>\n",
       "      <td>...</td>\n",
       "      <td>...</td>\n",
       "    </tr>\n",
       "    <tr>\n",
       "      <th>4</th>\n",
       "      <td>2021-03-25 10:49:00</td>\n",
       "      <td>MelanieNuls</td>\n",
       "      <td>Exclusive Private</td>\n",
       "      <td>24</td>\n",
       "    </tr>\n",
       "    <tr>\n",
       "      <th>3</th>\n",
       "      <td>2021-03-25 10:50:00</td>\n",
       "      <td>MelanieNuls</td>\n",
       "      <td>Exclusive Private</td>\n",
       "      <td>24</td>\n",
       "    </tr>\n",
       "    <tr>\n",
       "      <th>2</th>\n",
       "      <td>2021-03-25 10:51:00</td>\n",
       "      <td>MelanieNuls</td>\n",
       "      <td>Exclusive Private</td>\n",
       "      <td>24</td>\n",
       "    </tr>\n",
       "    <tr>\n",
       "      <th>1</th>\n",
       "      <td>2021-03-25 10:52:00</td>\n",
       "      <td>MelanieNuls</td>\n",
       "      <td>Exclusive Private</td>\n",
       "      <td>24</td>\n",
       "    </tr>\n",
       "    <tr>\n",
       "      <th>0</th>\n",
       "      <td>2021-03-25 10:53:00</td>\n",
       "      <td>MelanieNuls</td>\n",
       "      <td>Exclusive Private</td>\n",
       "      <td>24</td>\n",
       "    </tr>\n",
       "  </tbody>\n",
       "</table>\n",
       "<p>312 rows × 4 columns</p>\n",
       "</div>"
      ],
      "text/plain": [
       "                  Date        Model               Type  Tokens\n",
       "89 2021-02-01 21:36:00  KellyWalter  Exclusive Private       8\n",
       "87 2021-02-01 21:38:00  KellyWalter  Exclusive Private       8\n",
       "88 2021-02-01 21:38:00  KellyWalter  Exclusive Private       8\n",
       "86 2021-02-01 21:39:00  KellyWalter  Exclusive Private       8\n",
       "85 2021-02-01 21:40:00  KellyWalter  Exclusive Private       8\n",
       "..                 ...          ...                ...     ...\n",
       "4  2021-03-25 10:49:00  MelanieNuls  Exclusive Private      24\n",
       "3  2021-03-25 10:50:00  MelanieNuls  Exclusive Private      24\n",
       "2  2021-03-25 10:51:00  MelanieNuls  Exclusive Private      24\n",
       "1  2021-03-25 10:52:00  MelanieNuls  Exclusive Private      24\n",
       "0  2021-03-25 10:53:00  MelanieNuls  Exclusive Private      24\n",
       "\n",
       "[312 rows x 4 columns]"
      ]
     },
     "execution_count": 24,
     "metadata": {},
     "output_type": "execute_result"
    }
   ],
   "source": [
    "# df = df[df['Type']==\"Cam2Cam show\"]\n",
    "df = df[df['Type']==\"Exclusive Private\"]\n",
    "df"
   ]
  },
  {
   "cell_type": "code",
   "execution_count": 25,
   "metadata": {},
   "outputs": [],
   "source": [
    "df = df.drop_duplicates(subset='Model', keep='first')"
   ]
  },
  {
   "cell_type": "code",
   "execution_count": 26,
   "metadata": {},
   "outputs": [],
   "source": [
    "df.to_csv('data/Xh/models2.csv')"
   ]
  },
  {
   "cell_type": "code",
   "execution_count": null,
   "metadata": {},
   "outputs": [],
   "source": []
  }
 ],
 "metadata": {
  "kernelspec": {
   "display_name": "conda_pytorch_p36",
   "language": "python",
   "name": "conda_pytorch_p36"
  },
  "language_info": {
   "codemirror_mode": {
    "name": "ipython",
    "version": 3
   },
   "file_extension": ".py",
   "mimetype": "text/x-python",
   "name": "python",
   "nbconvert_exporter": "python",
   "pygments_lexer": "ipython3",
   "version": "3.6.13"
  }
 },
 "nbformat": 4,
 "nbformat_minor": 4
}
