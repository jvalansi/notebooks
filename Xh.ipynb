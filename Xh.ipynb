{
 "cells": [
  {
   "cell_type": "code",
   "execution_count": 2,
   "metadata": {},
   "outputs": [
    {
     "name": "stdout",
     "output_type": "stream",
     "text": [
      "Collecting pywebarchive\n",
      "  Downloading pywebarchive-0.2.4-py3-none-any.whl (12 kB)\n",
      "Installing collected packages: pywebarchive\n",
      "Successfully installed pywebarchive-0.2.4\n"
     ]
    }
   ],
   "source": [
    "! pip install pywebarchive"
   ]
  },
  {
   "cell_type": "code",
   "execution_count": 3,
   "metadata": {},
   "outputs": [],
   "source": [
    "import webarchive\n",
    "import pandas as pd\n",
    "import shutil\n",
    "import os\n",
    "from tqdm.auto import tqdm"
   ]
  },
  {
   "cell_type": "code",
   "execution_count": 4,
   "metadata": {},
   "outputs": [],
   "source": [
    "archive = webarchive.open(\"data/Xh/Tokens History | xHamsterLive 0.webarchive\")"
   ]
  },
  {
   "cell_type": "code",
   "execution_count": 5,
   "metadata": {},
   "outputs": [],
   "source": [
    "archive.extract('Tokens History | xHamsterLive.html')"
   ]
  },
  {
   "cell_type": "code",
   "execution_count": 7,
   "metadata": {},
   "outputs": [
    {
     "data": {
      "text/plain": [
       "'data/Xh/Tokens History | xHamsterLive 0.html'"
      ]
     },
     "execution_count": 7,
     "metadata": {},
     "output_type": "execute_result"
    }
   ],
   "source": [
    "shutil.move('Tokens History | xHamsterLive.html', 'data/Xh/Tokens History | xHamsterLive 0.html')"
   ]
  },
  {
   "cell_type": "code",
   "execution_count": 9,
   "metadata": {},
   "outputs": [],
   "source": [
    "df = pd.read_html('data/Xh/Tokens History | xHamsterLive 0.html')"
   ]
  },
  {
   "cell_type": "code",
   "execution_count": 12,
   "metadata": {},
   "outputs": [
    {
     "data": {
      "text/html": [
       "<div>\n",
       "<style scoped>\n",
       "    .dataframe tbody tr th:only-of-type {\n",
       "        vertical-align: middle;\n",
       "    }\n",
       "\n",
       "    .dataframe tbody tr th {\n",
       "        vertical-align: top;\n",
       "    }\n",
       "\n",
       "    .dataframe thead th {\n",
       "        text-align: right;\n",
       "    }\n",
       "</style>\n",
       "<table border=\"1\" class=\"dataframe\">\n",
       "  <thead>\n",
       "    <tr style=\"text-align: right;\">\n",
       "      <th></th>\n",
       "      <th>Date</th>\n",
       "      <th>Model</th>\n",
       "      <th>Type</th>\n",
       "      <th>Tokens</th>\n",
       "    </tr>\n",
       "  </thead>\n",
       "  <tbody>\n",
       "    <tr>\n",
       "      <th>0</th>\n",
       "      <td>July 23rd, 2020 7:07 AM</td>\n",
       "      <td>klidi_01</td>\n",
       "      <td>Public tip</td>\n",
       "      <td>15</td>\n",
       "    </tr>\n",
       "    <tr>\n",
       "      <th>1</th>\n",
       "      <td>July 23rd, 2020 4:17 AM</td>\n",
       "      <td>AvisFlowers</td>\n",
       "      <td>Cam2Cam show (minimum duration charge)</td>\n",
       "      <td>16</td>\n",
       "    </tr>\n",
       "    <tr>\n",
       "      <th>2</th>\n",
       "      <td>July 23rd, 2020 4:17 AM</td>\n",
       "      <td>AvisFlowers</td>\n",
       "      <td>Cam2Cam show</td>\n",
       "      <td>16</td>\n",
       "    </tr>\n",
       "    <tr>\n",
       "      <th>3</th>\n",
       "      <td>July 23rd, 2020 4:16 AM</td>\n",
       "      <td>AvisFlowers</td>\n",
       "      <td>Cam2Cam show</td>\n",
       "      <td>16</td>\n",
       "    </tr>\n",
       "    <tr>\n",
       "      <th>4</th>\n",
       "      <td>July 23rd, 2020 4:15 AM</td>\n",
       "      <td>AvisFlowers</td>\n",
       "      <td>Cam2Cam show</td>\n",
       "      <td>16</td>\n",
       "    </tr>\n",
       "  </tbody>\n",
       "</table>\n",
       "</div>"
      ],
      "text/plain": [
       "                      Date        Model  \\\n",
       "0  July 23rd, 2020 7:07 AM     klidi_01   \n",
       "1  July 23rd, 2020 4:17 AM  AvisFlowers   \n",
       "2  July 23rd, 2020 4:17 AM  AvisFlowers   \n",
       "3  July 23rd, 2020 4:16 AM  AvisFlowers   \n",
       "4  July 23rd, 2020 4:15 AM  AvisFlowers   \n",
       "\n",
       "                                     Type  Tokens  \n",
       "0                              Public tip      15  \n",
       "1  Cam2Cam show (minimum duration charge)      16  \n",
       "2                            Cam2Cam show      16  \n",
       "3                            Cam2Cam show      16  \n",
       "4                            Cam2Cam show      16  "
      ]
     },
     "execution_count": 12,
     "metadata": {},
     "output_type": "execute_result"
    }
   ],
   "source": [
    "df[0].head()"
   ]
  },
  {
   "cell_type": "code",
   "execution_count": 17,
   "metadata": {},
   "outputs": [
    {
     "data": {
      "text/plain": [
       "'data/Xh/Tokens History | xHamsterLive 1.webarchive'"
      ]
     },
     "execution_count": 17,
     "metadata": {},
     "output_type": "execute_result"
    }
   ],
   "source": [
    "shutil.move(\"data/Xh/Tokens History | xHamsterLive 2_.webarchive\",\"data/Xh/Tokens History | xHamsterLive 1.webarchive\")"
   ]
  },
  {
   "cell_type": "code",
   "execution_count": 4,
   "metadata": {},
   "outputs": [
    {
     "data": {
      "application/vnd.jupyter.widget-view+json": {
       "model_id": "657ffaa7539141dba2d8edb875dd9107",
       "version_major": 2,
       "version_minor": 0
      },
      "text/plain": [
       "  0%|          | 0/7 [00:00<?, ?it/s]"
      ]
     },
     "metadata": {},
     "output_type": "display_data"
    }
   ],
   "source": [
    "dfs = []\n",
    "for i in tqdm(range(24,31)):\n",
    "    archive = webarchive.open(f\"data/Xh/Tokens History | xHamsterLive {i}.webarchive\")\n",
    "    archive.extract('Tokens History | xHamsterLive.html')\n",
    "    shutil.move(f\"Tokens History | xHamsterLive.html\", f\"data/Xh/Tokens History | xHamsterLive {i}.html\")\n",
    "    df = pd.read_html(f\"data/Xh/Tokens History | xHamsterLive {i}.html\")\n",
    "    dfs.append(df[0])"
   ]
  },
  {
   "cell_type": "code",
   "execution_count": 5,
   "metadata": {},
   "outputs": [],
   "source": [
    "df = pd.concat(dfs)"
   ]
  },
  {
   "cell_type": "code",
   "execution_count": 6,
   "metadata": {},
   "outputs": [
    {
     "data": {
      "text/html": [
       "<div>\n",
       "<style scoped>\n",
       "    .dataframe tbody tr th:only-of-type {\n",
       "        vertical-align: middle;\n",
       "    }\n",
       "\n",
       "    .dataframe tbody tr th {\n",
       "        vertical-align: top;\n",
       "    }\n",
       "\n",
       "    .dataframe thead th {\n",
       "        text-align: right;\n",
       "    }\n",
       "</style>\n",
       "<table border=\"1\" class=\"dataframe\">\n",
       "  <thead>\n",
       "    <tr style=\"text-align: right;\">\n",
       "      <th></th>\n",
       "      <th>Date</th>\n",
       "      <th>Model</th>\n",
       "      <th>Type</th>\n",
       "      <th>Tokens</th>\n",
       "    </tr>\n",
       "  </thead>\n",
       "  <tbody>\n",
       "    <tr>\n",
       "      <th>0</th>\n",
       "      <td>June 18th, 2021 10:56 AM</td>\n",
       "      <td>Hull1</td>\n",
       "      <td>Exclusive Private</td>\n",
       "      <td>16</td>\n",
       "    </tr>\n",
       "    <tr>\n",
       "      <th>1</th>\n",
       "      <td>June 18th, 2021 10:55 AM</td>\n",
       "      <td>Hull1</td>\n",
       "      <td>Exclusive Private</td>\n",
       "      <td>16</td>\n",
       "    </tr>\n",
       "    <tr>\n",
       "      <th>2</th>\n",
       "      <td>June 18th, 2021 10:54 AM</td>\n",
       "      <td>Hull1</td>\n",
       "      <td>Exclusive Private</td>\n",
       "      <td>16</td>\n",
       "    </tr>\n",
       "    <tr>\n",
       "      <th>3</th>\n",
       "      <td>June 18th, 2021 10:53 AM</td>\n",
       "      <td>Hull1</td>\n",
       "      <td>Exclusive Private</td>\n",
       "      <td>16</td>\n",
       "    </tr>\n",
       "    <tr>\n",
       "      <th>4</th>\n",
       "      <td>June 18th, 2021 10:52 AM</td>\n",
       "      <td>Hull1</td>\n",
       "      <td>Exclusive Private</td>\n",
       "      <td>16</td>\n",
       "    </tr>\n",
       "  </tbody>\n",
       "</table>\n",
       "</div>"
      ],
      "text/plain": [
       "                       Date  Model               Type  Tokens\n",
       "0  June 18th, 2021 10:56 AM  Hull1  Exclusive Private      16\n",
       "1  June 18th, 2021 10:55 AM  Hull1  Exclusive Private      16\n",
       "2  June 18th, 2021 10:54 AM  Hull1  Exclusive Private      16\n",
       "3  June 18th, 2021 10:53 AM  Hull1  Exclusive Private      16\n",
       "4  June 18th, 2021 10:52 AM  Hull1  Exclusive Private      16"
      ]
     },
     "execution_count": 6,
     "metadata": {},
     "output_type": "execute_result"
    }
   ],
   "source": [
    "df.head()"
   ]
  },
  {
   "cell_type": "code",
   "execution_count": 7,
   "metadata": {},
   "outputs": [],
   "source": [
    "df['Date'] = pd.to_datetime(df['Date'])"
   ]
  },
  {
   "cell_type": "code",
   "execution_count": 8,
   "metadata": {},
   "outputs": [],
   "source": [
    "df = df.sort_values('Date')"
   ]
  },
  {
   "cell_type": "code",
   "execution_count": 9,
   "metadata": {},
   "outputs": [
    {
     "data": {
      "text/html": [
       "<div>\n",
       "<style scoped>\n",
       "    .dataframe tbody tr th:only-of-type {\n",
       "        vertical-align: middle;\n",
       "    }\n",
       "\n",
       "    .dataframe tbody tr th {\n",
       "        vertical-align: top;\n",
       "    }\n",
       "\n",
       "    .dataframe thead th {\n",
       "        text-align: right;\n",
       "    }\n",
       "</style>\n",
       "<table border=\"1\" class=\"dataframe\">\n",
       "  <thead>\n",
       "    <tr style=\"text-align: right;\">\n",
       "      <th></th>\n",
       "      <th>Date</th>\n",
       "      <th>Model</th>\n",
       "      <th>Type</th>\n",
       "      <th>Tokens</th>\n",
       "    </tr>\n",
       "  </thead>\n",
       "  <tbody>\n",
       "    <tr>\n",
       "      <th>45</th>\n",
       "      <td>2021-03-28 10:24:00</td>\n",
       "      <td>cyprusBeauty</td>\n",
       "      <td>Exclusive Private</td>\n",
       "      <td>24</td>\n",
       "    </tr>\n",
       "    <tr>\n",
       "      <th>43</th>\n",
       "      <td>2021-03-28 10:26:00</td>\n",
       "      <td>cyprusBeauty</td>\n",
       "      <td>Exclusive Private</td>\n",
       "      <td>24</td>\n",
       "    </tr>\n",
       "    <tr>\n",
       "      <th>44</th>\n",
       "      <td>2021-03-28 10:26:00</td>\n",
       "      <td>cyprusBeauty</td>\n",
       "      <td>Exclusive Private</td>\n",
       "      <td>24</td>\n",
       "    </tr>\n",
       "    <tr>\n",
       "      <th>42</th>\n",
       "      <td>2021-03-28 10:27:00</td>\n",
       "      <td>cyprusBeauty</td>\n",
       "      <td>Exclusive Private</td>\n",
       "      <td>24</td>\n",
       "    </tr>\n",
       "    <tr>\n",
       "      <th>41</th>\n",
       "      <td>2021-03-28 10:28:00</td>\n",
       "      <td>cyprusBeauty</td>\n",
       "      <td>Exclusive Private</td>\n",
       "      <td>24</td>\n",
       "    </tr>\n",
       "    <tr>\n",
       "      <th>...</th>\n",
       "      <td>...</td>\n",
       "      <td>...</td>\n",
       "      <td>...</td>\n",
       "      <td>...</td>\n",
       "    </tr>\n",
       "    <tr>\n",
       "      <th>4</th>\n",
       "      <td>2021-06-18 10:52:00</td>\n",
       "      <td>Hull1</td>\n",
       "      <td>Exclusive Private</td>\n",
       "      <td>16</td>\n",
       "    </tr>\n",
       "    <tr>\n",
       "      <th>3</th>\n",
       "      <td>2021-06-18 10:53:00</td>\n",
       "      <td>Hull1</td>\n",
       "      <td>Exclusive Private</td>\n",
       "      <td>16</td>\n",
       "    </tr>\n",
       "    <tr>\n",
       "      <th>2</th>\n",
       "      <td>2021-06-18 10:54:00</td>\n",
       "      <td>Hull1</td>\n",
       "      <td>Exclusive Private</td>\n",
       "      <td>16</td>\n",
       "    </tr>\n",
       "    <tr>\n",
       "      <th>1</th>\n",
       "      <td>2021-06-18 10:55:00</td>\n",
       "      <td>Hull1</td>\n",
       "      <td>Exclusive Private</td>\n",
       "      <td>16</td>\n",
       "    </tr>\n",
       "    <tr>\n",
       "      <th>0</th>\n",
       "      <td>2021-06-18 10:56:00</td>\n",
       "      <td>Hull1</td>\n",
       "      <td>Exclusive Private</td>\n",
       "      <td>16</td>\n",
       "    </tr>\n",
       "  </tbody>\n",
       "</table>\n",
       "<p>603 rows × 4 columns</p>\n",
       "</div>"
      ],
      "text/plain": [
       "                  Date         Model               Type  Tokens\n",
       "45 2021-03-28 10:24:00  cyprusBeauty  Exclusive Private      24\n",
       "43 2021-03-28 10:26:00  cyprusBeauty  Exclusive Private      24\n",
       "44 2021-03-28 10:26:00  cyprusBeauty  Exclusive Private      24\n",
       "42 2021-03-28 10:27:00  cyprusBeauty  Exclusive Private      24\n",
       "41 2021-03-28 10:28:00  cyprusBeauty  Exclusive Private      24\n",
       "..                 ...           ...                ...     ...\n",
       "4  2021-06-18 10:52:00         Hull1  Exclusive Private      16\n",
       "3  2021-06-18 10:53:00         Hull1  Exclusive Private      16\n",
       "2  2021-06-18 10:54:00         Hull1  Exclusive Private      16\n",
       "1  2021-06-18 10:55:00         Hull1  Exclusive Private      16\n",
       "0  2021-06-18 10:56:00         Hull1  Exclusive Private      16\n",
       "\n",
       "[603 rows x 4 columns]"
      ]
     },
     "execution_count": 9,
     "metadata": {},
     "output_type": "execute_result"
    }
   ],
   "source": [
    "# df = df[df['Type']==\"Cam2Cam show\"]\n",
    "df = df[df['Type']==\"Exclusive Private\"]\n",
    "df"
   ]
  },
  {
   "cell_type": "code",
   "execution_count": 10,
   "metadata": {},
   "outputs": [],
   "source": [
    "df = df.drop_duplicates(subset='Model', keep='first')"
   ]
  },
  {
   "cell_type": "code",
   "execution_count": 11,
   "metadata": {},
   "outputs": [],
   "source": [
    "df.to_csv('data/Xh/models3.csv')"
   ]
  },
  {
   "cell_type": "code",
   "execution_count": null,
   "metadata": {},
   "outputs": [],
   "source": []
  }
 ],
 "metadata": {
  "kernelspec": {
   "display_name": "conda_pytorch_p36",
   "language": "python",
   "name": "conda_pytorch_p36"
  },
  "language_info": {
   "codemirror_mode": {
    "name": "ipython",
    "version": 3
   },
   "file_extension": ".py",
   "mimetype": "text/x-python",
   "name": "python",
   "nbconvert_exporter": "python",
   "pygments_lexer": "ipython3",
   "version": "3.6.13"
  }
 },
 "nbformat": 4,
 "nbformat_minor": 4
}
