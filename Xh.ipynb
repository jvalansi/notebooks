{
 "cells": [
  {
   "cell_type": "code",
   "execution_count": 2,
   "metadata": {},
   "outputs": [
    {
     "name": "stdout",
     "output_type": "stream",
     "text": [
      "Collecting pywebarchive\n",
      "  Downloading pywebarchive-0.2.4-py3-none-any.whl (12 kB)\n",
      "Installing collected packages: pywebarchive\n",
      "Successfully installed pywebarchive-0.2.4\n",
      "\u001b[33mWARNING: You are using pip version 20.3.3; however, version 21.0.1 is available.\n",
      "You should consider upgrading via the '/home/ec2-user/anaconda3/envs/pytorch_p36/bin/python -m pip install --upgrade pip' command.\u001b[0m\n"
     ]
    }
   ],
   "source": [
    "! pip install pywebarchive"
   ]
  },
  {
   "cell_type": "code",
   "execution_count": 38,
   "metadata": {},
   "outputs": [],
   "source": [
    "import webarchive\n",
    "import pandas as pd\n",
    "import shutil\n",
    "import os\n",
    "from tqdm.auto import tqdm"
   ]
  },
  {
   "cell_type": "code",
   "execution_count": 4,
   "metadata": {},
   "outputs": [],
   "source": [
    "archive = webarchive.open(\"data/Xh/Tokens History | xHamsterLive 0.webarchive\")"
   ]
  },
  {
   "cell_type": "code",
   "execution_count": 5,
   "metadata": {},
   "outputs": [],
   "source": [
    "archive.extract('Tokens History | xHamsterLive.html')"
   ]
  },
  {
   "cell_type": "code",
   "execution_count": 7,
   "metadata": {},
   "outputs": [
    {
     "data": {
      "text/plain": [
       "'data/Xh/Tokens History | xHamsterLive 0.html'"
      ]
     },
     "execution_count": 7,
     "metadata": {},
     "output_type": "execute_result"
    }
   ],
   "source": [
    "shutil.move('Tokens History | xHamsterLive.html', 'data/Xh/Tokens History | xHamsterLive 0.html')"
   ]
  },
  {
   "cell_type": "code",
   "execution_count": 9,
   "metadata": {},
   "outputs": [],
   "source": [
    "df = pd.read_html('data/Xh/Tokens History | xHamsterLive 0.html')"
   ]
  },
  {
   "cell_type": "code",
   "execution_count": 12,
   "metadata": {},
   "outputs": [
    {
     "data": {
      "text/html": [
       "<div>\n",
       "<style scoped>\n",
       "    .dataframe tbody tr th:only-of-type {\n",
       "        vertical-align: middle;\n",
       "    }\n",
       "\n",
       "    .dataframe tbody tr th {\n",
       "        vertical-align: top;\n",
       "    }\n",
       "\n",
       "    .dataframe thead th {\n",
       "        text-align: right;\n",
       "    }\n",
       "</style>\n",
       "<table border=\"1\" class=\"dataframe\">\n",
       "  <thead>\n",
       "    <tr style=\"text-align: right;\">\n",
       "      <th></th>\n",
       "      <th>Date</th>\n",
       "      <th>Model</th>\n",
       "      <th>Type</th>\n",
       "      <th>Tokens</th>\n",
       "    </tr>\n",
       "  </thead>\n",
       "  <tbody>\n",
       "    <tr>\n",
       "      <th>0</th>\n",
       "      <td>July 23rd, 2020 7:07 AM</td>\n",
       "      <td>klidi_01</td>\n",
       "      <td>Public tip</td>\n",
       "      <td>15</td>\n",
       "    </tr>\n",
       "    <tr>\n",
       "      <th>1</th>\n",
       "      <td>July 23rd, 2020 4:17 AM</td>\n",
       "      <td>AvisFlowers</td>\n",
       "      <td>Cam2Cam show (minimum duration charge)</td>\n",
       "      <td>16</td>\n",
       "    </tr>\n",
       "    <tr>\n",
       "      <th>2</th>\n",
       "      <td>July 23rd, 2020 4:17 AM</td>\n",
       "      <td>AvisFlowers</td>\n",
       "      <td>Cam2Cam show</td>\n",
       "      <td>16</td>\n",
       "    </tr>\n",
       "    <tr>\n",
       "      <th>3</th>\n",
       "      <td>July 23rd, 2020 4:16 AM</td>\n",
       "      <td>AvisFlowers</td>\n",
       "      <td>Cam2Cam show</td>\n",
       "      <td>16</td>\n",
       "    </tr>\n",
       "    <tr>\n",
       "      <th>4</th>\n",
       "      <td>July 23rd, 2020 4:15 AM</td>\n",
       "      <td>AvisFlowers</td>\n",
       "      <td>Cam2Cam show</td>\n",
       "      <td>16</td>\n",
       "    </tr>\n",
       "  </tbody>\n",
       "</table>\n",
       "</div>"
      ],
      "text/plain": [
       "                      Date        Model  \\\n",
       "0  July 23rd, 2020 7:07 AM     klidi_01   \n",
       "1  July 23rd, 2020 4:17 AM  AvisFlowers   \n",
       "2  July 23rd, 2020 4:17 AM  AvisFlowers   \n",
       "3  July 23rd, 2020 4:16 AM  AvisFlowers   \n",
       "4  July 23rd, 2020 4:15 AM  AvisFlowers   \n",
       "\n",
       "                                     Type  Tokens  \n",
       "0                              Public tip      15  \n",
       "1  Cam2Cam show (minimum duration charge)      16  \n",
       "2                            Cam2Cam show      16  \n",
       "3                            Cam2Cam show      16  \n",
       "4                            Cam2Cam show      16  "
      ]
     },
     "execution_count": 12,
     "metadata": {},
     "output_type": "execute_result"
    }
   ],
   "source": [
    "df[0].head()"
   ]
  },
  {
   "cell_type": "code",
   "execution_count": 17,
   "metadata": {},
   "outputs": [
    {
     "data": {
      "text/plain": [
       "'data/Xh/Tokens History | xHamsterLive 1.webarchive'"
      ]
     },
     "execution_count": 17,
     "metadata": {},
     "output_type": "execute_result"
    }
   ],
   "source": [
    "shutil.move(\"data/Xh/Tokens History | xHamsterLive 2_.webarchive\",\"data/Xh/Tokens History | xHamsterLive 1.webarchive\")"
   ]
  },
  {
   "cell_type": "code",
   "execution_count": 55,
   "metadata": {},
   "outputs": [
    {
     "data": {
      "application/vnd.jupyter.widget-view+json": {
       "model_id": "830088bf6f3e4b1d8ea1f61e6d72aaae",
       "version_major": 2,
       "version_minor": 0
      },
      "text/plain": [
       "HBox(children=(FloatProgress(value=0.0, max=20.0), HTML(value='')))"
      ]
     },
     "metadata": {},
     "output_type": "display_data"
    },
    {
     "name": "stdout",
     "output_type": "stream",
     "text": [
      "\n"
     ]
    }
   ],
   "source": [
    "dfs = []\n",
    "for i in tqdm(range(20)):\n",
    "    archive = webarchive.open(f\"data/Xh/Tokens History | xHamsterLive {i}.webarchive\")\n",
    "    archive.extract('Tokens History | xHamsterLive.html')\n",
    "    shutil.move(f\"Tokens History | xHamsterLive.html\", f\"data/Xh/Tokens History | xHamsterLive {i}.html\")\n",
    "    df = pd.read_html(f\"data/Xh/Tokens History | xHamsterLive {i}.html\")\n",
    "    dfs.append(df[0])"
   ]
  },
  {
   "cell_type": "code",
   "execution_count": 56,
   "metadata": {},
   "outputs": [],
   "source": [
    "df = pd.concat(dfs)"
   ]
  },
  {
   "cell_type": "code",
   "execution_count": 57,
   "metadata": {},
   "outputs": [
    {
     "data": {
      "text/html": [
       "<div>\n",
       "<style scoped>\n",
       "    .dataframe tbody tr th:only-of-type {\n",
       "        vertical-align: middle;\n",
       "    }\n",
       "\n",
       "    .dataframe tbody tr th {\n",
       "        vertical-align: top;\n",
       "    }\n",
       "\n",
       "    .dataframe thead th {\n",
       "        text-align: right;\n",
       "    }\n",
       "</style>\n",
       "<table border=\"1\" class=\"dataframe\">\n",
       "  <thead>\n",
       "    <tr style=\"text-align: right;\">\n",
       "      <th></th>\n",
       "      <th>Date</th>\n",
       "      <th>Model</th>\n",
       "      <th>Type</th>\n",
       "      <th>Tokens</th>\n",
       "    </tr>\n",
       "  </thead>\n",
       "  <tbody>\n",
       "    <tr>\n",
       "      <th>0</th>\n",
       "      <td>July 23rd, 2020 7:07 AM</td>\n",
       "      <td>klidi_01</td>\n",
       "      <td>Public tip</td>\n",
       "      <td>15</td>\n",
       "    </tr>\n",
       "    <tr>\n",
       "      <th>1</th>\n",
       "      <td>July 23rd, 2020 4:17 AM</td>\n",
       "      <td>AvisFlowers</td>\n",
       "      <td>Cam2Cam show (minimum duration charge)</td>\n",
       "      <td>16</td>\n",
       "    </tr>\n",
       "    <tr>\n",
       "      <th>2</th>\n",
       "      <td>July 23rd, 2020 4:17 AM</td>\n",
       "      <td>AvisFlowers</td>\n",
       "      <td>Cam2Cam show</td>\n",
       "      <td>16</td>\n",
       "    </tr>\n",
       "    <tr>\n",
       "      <th>3</th>\n",
       "      <td>July 23rd, 2020 4:16 AM</td>\n",
       "      <td>AvisFlowers</td>\n",
       "      <td>Cam2Cam show</td>\n",
       "      <td>16</td>\n",
       "    </tr>\n",
       "    <tr>\n",
       "      <th>4</th>\n",
       "      <td>July 23rd, 2020 4:15 AM</td>\n",
       "      <td>AvisFlowers</td>\n",
       "      <td>Cam2Cam show</td>\n",
       "      <td>16</td>\n",
       "    </tr>\n",
       "  </tbody>\n",
       "</table>\n",
       "</div>"
      ],
      "text/plain": [
       "                      Date        Model  \\\n",
       "0  July 23rd, 2020 7:07 AM     klidi_01   \n",
       "1  July 23rd, 2020 4:17 AM  AvisFlowers   \n",
       "2  July 23rd, 2020 4:17 AM  AvisFlowers   \n",
       "3  July 23rd, 2020 4:16 AM  AvisFlowers   \n",
       "4  July 23rd, 2020 4:15 AM  AvisFlowers   \n",
       "\n",
       "                                     Type  Tokens  \n",
       "0                              Public tip      15  \n",
       "1  Cam2Cam show (minimum duration charge)      16  \n",
       "2                            Cam2Cam show      16  \n",
       "3                            Cam2Cam show      16  \n",
       "4                            Cam2Cam show      16  "
      ]
     },
     "execution_count": 57,
     "metadata": {},
     "output_type": "execute_result"
    }
   ],
   "source": [
    "df.head()"
   ]
  },
  {
   "cell_type": "code",
   "execution_count": 58,
   "metadata": {},
   "outputs": [],
   "source": [
    "df['Date'] = pd.to_datetime(df['Date'])"
   ]
  },
  {
   "cell_type": "code",
   "execution_count": 59,
   "metadata": {},
   "outputs": [],
   "source": [
    "df = df.sort_values('Date')"
   ]
  },
  {
   "cell_type": "code",
   "execution_count": 63,
   "metadata": {},
   "outputs": [],
   "source": [
    "df = df[df['Type']==\"Cam2Cam show\"]"
   ]
  },
  {
   "cell_type": "code",
   "execution_count": 64,
   "metadata": {},
   "outputs": [
    {
     "data": {
      "text/html": [
       "<div>\n",
       "<style scoped>\n",
       "    .dataframe tbody tr th:only-of-type {\n",
       "        vertical-align: middle;\n",
       "    }\n",
       "\n",
       "    .dataframe tbody tr th {\n",
       "        vertical-align: top;\n",
       "    }\n",
       "\n",
       "    .dataframe thead th {\n",
       "        text-align: right;\n",
       "    }\n",
       "</style>\n",
       "<table border=\"1\" class=\"dataframe\">\n",
       "  <thead>\n",
       "    <tr style=\"text-align: right;\">\n",
       "      <th></th>\n",
       "      <th>Date</th>\n",
       "      <th>Model</th>\n",
       "      <th>Type</th>\n",
       "      <th>Tokens</th>\n",
       "    </tr>\n",
       "  </thead>\n",
       "  <tbody>\n",
       "    <tr>\n",
       "      <th>29</th>\n",
       "      <td>2020-06-26 21:17:00</td>\n",
       "      <td>Yeralin</td>\n",
       "      <td>Cam2Cam show</td>\n",
       "      <td>8</td>\n",
       "    </tr>\n",
       "    <tr>\n",
       "      <th>28</th>\n",
       "      <td>2020-06-26 21:19:00</td>\n",
       "      <td>Yeralin</td>\n",
       "      <td>Cam2Cam show</td>\n",
       "      <td>8</td>\n",
       "    </tr>\n",
       "    <tr>\n",
       "      <th>26</th>\n",
       "      <td>2020-06-26 21:39:00</td>\n",
       "      <td>sisitay</td>\n",
       "      <td>Cam2Cam show</td>\n",
       "      <td>8</td>\n",
       "    </tr>\n",
       "    <tr>\n",
       "      <th>24</th>\n",
       "      <td>2020-06-26 21:49:00</td>\n",
       "      <td>sisitay</td>\n",
       "      <td>Cam2Cam show</td>\n",
       "      <td>8</td>\n",
       "    </tr>\n",
       "    <tr>\n",
       "      <th>23</th>\n",
       "      <td>2020-06-26 21:50:00</td>\n",
       "      <td>sisitay</td>\n",
       "      <td>Cam2Cam show</td>\n",
       "      <td>8</td>\n",
       "    </tr>\n",
       "    <tr>\n",
       "      <th>...</th>\n",
       "      <td>...</td>\n",
       "      <td>...</td>\n",
       "      <td>...</td>\n",
       "      <td>...</td>\n",
       "    </tr>\n",
       "    <tr>\n",
       "      <th>4</th>\n",
       "      <td>2021-02-10 12:14:00</td>\n",
       "      <td>KellyWalter</td>\n",
       "      <td>Cam2Cam show</td>\n",
       "      <td>8</td>\n",
       "    </tr>\n",
       "    <tr>\n",
       "      <th>3</th>\n",
       "      <td>2021-02-10 12:15:00</td>\n",
       "      <td>KellyWalter</td>\n",
       "      <td>Cam2Cam show</td>\n",
       "      <td>8</td>\n",
       "    </tr>\n",
       "    <tr>\n",
       "      <th>2</th>\n",
       "      <td>2021-02-10 12:16:00</td>\n",
       "      <td>KellyWalter</td>\n",
       "      <td>Cam2Cam show</td>\n",
       "      <td>8</td>\n",
       "    </tr>\n",
       "    <tr>\n",
       "      <th>1</th>\n",
       "      <td>2021-02-10 12:17:00</td>\n",
       "      <td>KellyWalter</td>\n",
       "      <td>Cam2Cam show</td>\n",
       "      <td>8</td>\n",
       "    </tr>\n",
       "    <tr>\n",
       "      <th>0</th>\n",
       "      <td>2021-02-10 12:18:00</td>\n",
       "      <td>KellyWalter</td>\n",
       "      <td>Cam2Cam show</td>\n",
       "      <td>8</td>\n",
       "    </tr>\n",
       "  </tbody>\n",
       "</table>\n",
       "<p>1712 rows × 4 columns</p>\n",
       "</div>"
      ],
      "text/plain": [
       "                  Date        Model          Type  Tokens\n",
       "29 2020-06-26 21:17:00      Yeralin  Cam2Cam show       8\n",
       "28 2020-06-26 21:19:00      Yeralin  Cam2Cam show       8\n",
       "26 2020-06-26 21:39:00      sisitay  Cam2Cam show       8\n",
       "24 2020-06-26 21:49:00      sisitay  Cam2Cam show       8\n",
       "23 2020-06-26 21:50:00      sisitay  Cam2Cam show       8\n",
       "..                 ...          ...           ...     ...\n",
       "4  2021-02-10 12:14:00  KellyWalter  Cam2Cam show       8\n",
       "3  2021-02-10 12:15:00  KellyWalter  Cam2Cam show       8\n",
       "2  2021-02-10 12:16:00  KellyWalter  Cam2Cam show       8\n",
       "1  2021-02-10 12:17:00  KellyWalter  Cam2Cam show       8\n",
       "0  2021-02-10 12:18:00  KellyWalter  Cam2Cam show       8\n",
       "\n",
       "[1712 rows x 4 columns]"
      ]
     },
     "execution_count": 64,
     "metadata": {},
     "output_type": "execute_result"
    }
   ],
   "source": [
    "df"
   ]
  },
  {
   "cell_type": "code",
   "execution_count": 65,
   "metadata": {},
   "outputs": [],
   "source": [
    "df = df.drop_duplicates(subset='Model', keep='first')"
   ]
  },
  {
   "cell_type": "code",
   "execution_count": 66,
   "metadata": {},
   "outputs": [],
   "source": [
    "df.to_csv('data/Xh/models.csv')"
   ]
  },
  {
   "cell_type": "code",
   "execution_count": null,
   "metadata": {},
   "outputs": [],
   "source": []
  }
 ],
 "metadata": {
  "kernelspec": {
   "display_name": "conda_pytorch_p36",
   "language": "python",
   "name": "conda_pytorch_p36"
  },
  "language_info": {
   "codemirror_mode": {
    "name": "ipython",
    "version": 3
   },
   "file_extension": ".py",
   "mimetype": "text/x-python",
   "name": "python",
   "nbconvert_exporter": "python",
   "pygments_lexer": "ipython3",
   "version": "3.6.10"
  }
 },
 "nbformat": 4,
 "nbformat_minor": 4
}
