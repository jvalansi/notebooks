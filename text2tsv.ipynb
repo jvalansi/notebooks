{
 "cells": [
  {
   "cell_type": "code",
   "execution_count": 1,
   "metadata": {},
   "outputs": [],
   "source": [
    "import re\n",
    "import pandas as pd\n",
    "from collections import defaultdict\n",
    "import datetime"
   ]
  },
  {
   "cell_type": "code",
   "execution_count": 2,
   "metadata": {},
   "outputs": [],
   "source": [
    "with open('data/ashley.txt') as f:\n",
    "    data = f.read()"
   ]
  },
  {
   "cell_type": "code",
   "execution_count": 3,
   "metadata": {},
   "outputs": [],
   "source": [
    "lines = data.split('\\n')"
   ]
  },
  {
   "cell_type": "code",
   "execution_count": 4,
   "metadata": {},
   "outputs": [
    {
     "data": {
      "text/plain": [
       "['mahoonie',\n",
       " 'Hi, AshleyReyes1! I would like to add you to friends!',\n",
       " '10:25:22 PM',\n",
       " 'AshleyReyes1',\n",
       " 'Hi, mahoonie! I accepted your friendship request!',\n",
       " '10:27:52 PM',\n",
       " 'mahoonie',\n",
       " 'Hey beautiful, hru?',\n",
       " '10:37:18 PM',\n",
       " 'July 14th']"
      ]
     },
     "execution_count": 4,
     "metadata": {},
     "output_type": "execute_result"
    }
   ],
   "source": [
    "lines[:10]"
   ]
  },
  {
   "cell_type": "code",
   "execution_count": 5,
   "metadata": {},
   "outputs": [
    {
     "data": {
      "text/plain": [
       "['KellyWalter',\n",
       " 'hahahah',\n",
       " '10:02:05 AM',\n",
       " 'KellyWalter',\n",
       " 'yes, I already drank and drank well ...',\n",
       " '10:02:19 AM',\n",
       " 'KellyWalter',\n",
       " \"I'll be back soon\",\n",
       " '10:03:07 AM',\n",
       " '']"
      ]
     },
     "execution_count": 5,
     "metadata": {},
     "output_type": "execute_result"
    }
   ],
   "source": [
    "lines[-10:]"
   ]
  },
  {
   "cell_type": "code",
   "execution_count": null,
   "metadata": {},
   "outputs": [],
   "source": []
  },
  {
   "cell_type": "code",
   "execution_count": 6,
   "metadata": {},
   "outputs": [],
   "source": [
    "ordinal = lambda n: \"%d%s\" % (n,\"tsnrhtdd\"[(n//10%10!=1)*(n%10<4)*n%10::4])"
   ]
  },
  {
   "cell_type": "code",
   "execution_count": 10,
   "metadata": {},
   "outputs": [],
   "source": [
    "d = {}\n",
    "ds = []\n",
    "for line in lines:\n",
    "    if line in {'mahoonie', 'AshleyReyes1', 'KellyWalter'}:\n",
    "        ds.append(d)\n",
    "        d = dict(d)\n",
    "        d['text'] = ''\n",
    "        d['speaker'] = line + ' '*(len('AshleyReyes1')-len(line))\n",
    "        continue\n",
    "    if re.match('\\d+:\\d+:\\d+ [PA]M', line):\n",
    "        d['time'] = line\n",
    "        continue\n",
    "    if re.match('\\d+:\\d+(:\\d+)? [PA]M', line):\n",
    "        d['time'] = line\n",
    "        continue\n",
    "    if re.match('\\w+ \\d+(st|nd|rd|th)', line):\n",
    "        d['date'] = line\n",
    "    m = re.match('(\\d+) days? ago', line) \n",
    "#     if re.match('Today', line):\n",
    "#         date = datetime.datetime.today()\n",
    "#         d['date'] = date.strftime(f'%B {ordinal(date.day)}')\n",
    "#         continue\n",
    "    if m:\n",
    "        x = int(m[1])\n",
    "        date = datetime.datetime.today() - datetime.timedelta(days=x)\n",
    "        d['date'] = date.strftime(f'%B {ordinal(date.day)}')\n",
    "        continue\n",
    "    d['text'] += line\n",
    "ds.append(d)\n",
    "\n",
    "        "
   ]
  },
  {
   "cell_type": "code",
   "execution_count": 11,
   "metadata": {},
   "outputs": [
    {
     "data": {
      "text/plain": [
       "[{},\n",
       " {'text': 'Hi, AshleyReyes1! I would like to add you to friends!',\n",
       "  'speaker': 'mahoonie    ',\n",
       "  'time': '10:25:22 PM'},\n",
       " {'text': 'Hi, mahoonie! I accepted your friendship request!',\n",
       "  'speaker': 'AshleyReyes1',\n",
       "  'time': '10:27:52 PM'},\n",
       " {'text': 'Hey beautiful, hru?July 14th',\n",
       "  'speaker': 'mahoonie    ',\n",
       "  'time': '10:37:18 PM',\n",
       "  'date': 'July 14th'},\n",
       " {'text': 'Will you play with yourself with clothes on?',\n",
       "  'speaker': 'mahoonie    ',\n",
       "  'time': '1:48:39 AM',\n",
       "  'date': 'July 14th'}]"
      ]
     },
     "execution_count": 11,
     "metadata": {},
     "output_type": "execute_result"
    }
   ],
   "source": [
    "ds[:5]"
   ]
  },
  {
   "cell_type": "code",
   "execution_count": 12,
   "metadata": {},
   "outputs": [
    {
     "data": {
      "text/plain": [
       "[{'text': 'No we talked about new year',\n",
       "  'speaker': 'mahoonie    ',\n",
       "  'time': '10:00:49 AM',\n",
       "  'date': 'January 20th'},\n",
       " {'text': \"You said you weren't going to drink any more, I bet you did\",\n",
       "  'speaker': 'mahoonie    ',\n",
       "  'time': '10:01:21 AM',\n",
       "  'date': 'January 20th'},\n",
       " {'text': 'hahahah',\n",
       "  'speaker': 'KellyWalter ',\n",
       "  'time': '10:02:05 AM',\n",
       "  'date': 'January 20th'},\n",
       " {'text': 'yes, I already drank and drank well ...',\n",
       "  'speaker': 'KellyWalter ',\n",
       "  'time': '10:02:19 AM',\n",
       "  'date': 'January 20th'},\n",
       " {'text': \"I'll be back soon\",\n",
       "  'speaker': 'KellyWalter ',\n",
       "  'time': '10:03:07 AM',\n",
       "  'date': 'January 20th'}]"
      ]
     },
     "execution_count": 12,
     "metadata": {},
     "output_type": "execute_result"
    }
   ],
   "source": [
    "ds[-5:]"
   ]
  },
  {
   "cell_type": "code",
   "execution_count": 13,
   "metadata": {},
   "outputs": [],
   "source": [
    "df = pd.DataFrame(ds)"
   ]
  },
  {
   "cell_type": "code",
   "execution_count": 14,
   "metadata": {},
   "outputs": [],
   "source": [
    "df = df[['date', 'time', 'speaker', 'text']]"
   ]
  },
  {
   "cell_type": "code",
   "execution_count": 15,
   "metadata": {},
   "outputs": [],
   "source": [
    "df.to_csv('data/ashley.tsv', sep='\\t')"
   ]
  },
  {
   "cell_type": "code",
   "execution_count": null,
   "metadata": {},
   "outputs": [],
   "source": []
  }
 ],
 "metadata": {
  "kernelspec": {
   "display_name": "Python 3",
   "language": "python",
   "name": "python3"
  },
  "language_info": {
   "codemirror_mode": {
    "name": "ipython",
    "version": 3
   },
   "file_extension": ".py",
   "mimetype": "text/x-python",
   "name": "python",
   "nbconvert_exporter": "python",
   "pygments_lexer": "ipython3",
   "version": "3.7.7"
  }
 },
 "nbformat": 4,
 "nbformat_minor": 4
}
