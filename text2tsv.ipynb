{
 "cells": [
  {
   "cell_type": "code",
   "execution_count": 5,
   "metadata": {},
   "outputs": [],
   "source": [
    "import re\n",
    "import pandas as pd\n",
    "from collections import defaultdict\n",
    "import datetime"
   ]
  },
  {
   "cell_type": "code",
   "execution_count": 30,
   "metadata": {},
   "outputs": [],
   "source": [
    "with open('data/ashley.txt') as f:\n",
    "    data = f.read()"
   ]
  },
  {
   "cell_type": "code",
   "execution_count": 31,
   "metadata": {},
   "outputs": [],
   "source": [
    "lines = data.split('\\n')"
   ]
  },
  {
   "cell_type": "code",
   "execution_count": 32,
   "metadata": {},
   "outputs": [
    {
     "data": {
      "text/plain": [
       "['mahoonie',\n",
       " 'Hi, AshleyReyes1! I would like to add you to friends!',\n",
       " '10:25:22 PM',\n",
       " 'AshleyReyes1',\n",
       " 'Hi, mahoonie! I accepted your friendship request!',\n",
       " '10:27:52 PM',\n",
       " 'mahoonie',\n",
       " 'Hey beautiful, hru?',\n",
       " '10:37:18 PM',\n",
       " 'July 14th']"
      ]
     },
     "execution_count": 32,
     "metadata": {},
     "output_type": "execute_result"
    }
   ],
   "source": [
    "lines[:10]"
   ]
  },
  {
   "cell_type": "code",
   "execution_count": 33,
   "metadata": {},
   "outputs": [
    {
     "data": {
      "text/plain": [
       "['see you tomorrow',\n",
       " '12:52 PM',\n",
       " 'mahoonie',\n",
       " 'I have a good ass',\n",
       " '12:52 PM',\n",
       " 'mahoonie',\n",
       " 'You should see sometime',\n",
       " '12:53 PM',\n",
       " 'mahoonie',\n",
       " 'So in like 10 hours?']"
      ]
     },
     "execution_count": 33,
     "metadata": {},
     "output_type": "execute_result"
    }
   ],
   "source": [
    "lines[-10:]"
   ]
  },
  {
   "cell_type": "code",
   "execution_count": 8,
   "metadata": {},
   "outputs": [
    {
     "data": {
      "text/plain": [
       "<re.Match object; span=(0, 11), match='10:25:22 PM'>"
      ]
     },
     "execution_count": 8,
     "metadata": {},
     "output_type": "execute_result"
    }
   ],
   "source": [
    "re.match('\\d+:\\d+:\\d+ [PA]M', lines[2])"
   ]
  },
  {
   "cell_type": "code",
   "execution_count": 20,
   "metadata": {},
   "outputs": [
    {
     "ename": "SyntaxError",
     "evalue": "invalid syntax (<ipython-input-20-89d0642baa4d>, line 2)",
     "output_type": "error",
     "traceback": [
      "\u001b[0;36m  File \u001b[0;32m\"<ipython-input-20-89d0642baa4d>\"\u001b[0;36m, line \u001b[0;32m2\u001b[0m\n\u001b[0;31m    if x := int(re.match('(\\d+) days? ago', s)[1]):\u001b[0m\n\u001b[0m          ^\u001b[0m\n\u001b[0;31mSyntaxError\u001b[0m\u001b[0;31m:\u001b[0m invalid syntax\n"
     ]
    }
   ],
   "source": [
    "s = \"7 days ago\"\n",
    "if x = int(re.match('(\\d+) days? ago', s)[1]):\n",
    "    print('yes')"
   ]
  },
  {
   "cell_type": "code",
   "execution_count": 11,
   "metadata": {},
   "outputs": [],
   "source": [
    "d = datetime.datetime.today() - datetime.timedelta(days=x)"
   ]
  },
  {
   "cell_type": "code",
   "execution_count": 17,
   "metadata": {},
   "outputs": [
    {
     "data": {
      "text/plain": [
       "'September 3rd'"
      ]
     },
     "execution_count": 17,
     "metadata": {},
     "output_type": "execute_result"
    }
   ],
   "source": [
    "d.strftime(f'%B {ordinal(d.day)}')"
   ]
  },
  {
   "cell_type": "code",
   "execution_count": null,
   "metadata": {},
   "outputs": [],
   "source": []
  },
  {
   "cell_type": "code",
   "execution_count": 16,
   "metadata": {},
   "outputs": [],
   "source": [
    "ordinal = lambda n: \"%d%s\" % (n,\"tsnrhtdd\"[(n//10%10!=1)*(n%10<4)*n%10::4])"
   ]
  },
  {
   "cell_type": "code",
   "execution_count": 46,
   "metadata": {},
   "outputs": [],
   "source": [
    "d = {}\n",
    "ds = []\n",
    "for line in lines:\n",
    "    if line == 'mahoonie' or line == 'AshleyReyes1':\n",
    "        ds.append(d)\n",
    "        d = dict(d)\n",
    "        d['text'] = ''\n",
    "        d['speaker'] = line + ' '*(len('AshleyReyes1')-len(line))\n",
    "        continue\n",
    "    if re.match('\\d+:\\d+:\\d+ [PA]M', line):\n",
    "        d['time'] = line\n",
    "        continue\n",
    "    if re.match('\\d+:\\d+(:\\d+)? [PA]M', line):\n",
    "        d['time'] = line\n",
    "        continue\n",
    "    if re.match('\\w+ \\d+(st|nd|rd|th)', line):\n",
    "        d['date'] = line\n",
    "    m = re.match('(\\d+) days? ago', line) \n",
    "    if re.match('Today', line):\n",
    "        date = datetime.datetime.today()\n",
    "        d['date'] = date.strftime(f'%B {ordinal(date.day)}')\n",
    "        continue\n",
    "    if m:\n",
    "        x = int(m[1])\n",
    "        date = datetime.datetime.today() - datetime.timedelta(days=x)\n",
    "        d['date'] = date.strftime(f'%B {ordinal(date.day)}')\n",
    "        continue\n",
    "    d['text'] += line\n",
    "ds.append(d)\n",
    "\n",
    "        "
   ]
  },
  {
   "cell_type": "code",
   "execution_count": 47,
   "metadata": {},
   "outputs": [
    {
     "data": {
      "text/plain": [
       "[{},\n",
       " {'text': 'Hi, AshleyReyes1! I would like to add you to friends!',\n",
       "  'speaker': 'mahoonie    ',\n",
       "  'time': '10:25:22 PM'},\n",
       " {'text': 'Hi, mahoonie! I accepted your friendship request!',\n",
       "  'speaker': 'AshleyReyes1',\n",
       "  'time': '10:27:52 PM'},\n",
       " {'text': 'Hey beautiful, hru?July 14th',\n",
       "  'speaker': 'mahoonie    ',\n",
       "  'time': '10:37:18 PM',\n",
       "  'date': 'July 14th'},\n",
       " {'text': 'Will you play with yourself with clothes on?',\n",
       "  'speaker': 'mahoonie    ',\n",
       "  'time': '1:48:39 AM',\n",
       "  'date': 'July 14th'}]"
      ]
     },
     "execution_count": 47,
     "metadata": {},
     "output_type": "execute_result"
    }
   ],
   "source": [
    "ds[:5]"
   ]
  },
  {
   "cell_type": "code",
   "execution_count": 48,
   "metadata": {},
   "outputs": [
    {
     "data": {
      "text/plain": [
       "[{'text': 'Maybe we have... my memory is not the best',\n",
       "  'speaker': 'mahoonie    ',\n",
       "  'time': '12:52 PM',\n",
       "  'date': 'September 10th'},\n",
       " {'text': 'see you tomorrow',\n",
       "  'speaker': 'AshleyReyes1',\n",
       "  'time': '12:52 PM',\n",
       "  'date': 'September 10th'},\n",
       " {'text': 'I have a good ass',\n",
       "  'speaker': 'mahoonie    ',\n",
       "  'time': '12:52 PM',\n",
       "  'date': 'September 10th'},\n",
       " {'text': 'You should see sometime',\n",
       "  'speaker': 'mahoonie    ',\n",
       "  'time': '12:53 PM',\n",
       "  'date': 'September 10th'},\n",
       " {'text': 'So in like 10 hours?',\n",
       "  'speaker': 'mahoonie    ',\n",
       "  'time': '12:53 PM',\n",
       "  'date': 'September 10th'}]"
      ]
     },
     "execution_count": 48,
     "metadata": {},
     "output_type": "execute_result"
    }
   ],
   "source": [
    "ds[-5:]"
   ]
  },
  {
   "cell_type": "code",
   "execution_count": 43,
   "metadata": {},
   "outputs": [],
   "source": [
    "df = pd.DataFrame(ds)"
   ]
  },
  {
   "cell_type": "code",
   "execution_count": 44,
   "metadata": {},
   "outputs": [],
   "source": [
    "df = df[['date', 'time', 'speaker', 'text']]"
   ]
  },
  {
   "cell_type": "code",
   "execution_count": 45,
   "metadata": {},
   "outputs": [],
   "source": [
    "df.to_csv('data/ashley.tsv', sep='\\t')"
   ]
  },
  {
   "cell_type": "code",
   "execution_count": null,
   "metadata": {},
   "outputs": [],
   "source": []
  }
 ],
 "metadata": {
  "kernelspec": {
   "display_name": "Python 3",
   "language": "python",
   "name": "python3"
  },
  "language_info": {
   "codemirror_mode": {
    "name": "ipython",
    "version": 3
   },
   "file_extension": ".py",
   "mimetype": "text/x-python",
   "name": "python",
   "nbconvert_exporter": "python",
   "pygments_lexer": "ipython3",
   "version": "3.7.7"
  }
 },
 "nbformat": 4,
 "nbformat_minor": 4
}
