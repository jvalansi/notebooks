{
 "cells": [
  {
   "cell_type": "code",
   "execution_count": 6,
   "metadata": {},
   "outputs": [],
   "source": [
    "import re\n",
    "import pandas as pd\n",
    "from collections import defaultdict\n",
    "import datetime"
   ]
  },
  {
   "cell_type": "code",
   "execution_count": 20,
   "metadata": {},
   "outputs": [],
   "source": [
    "with open('data/ashley.txt') as f:\n",
    "    data = f.read()"
   ]
  },
  {
   "cell_type": "code",
   "execution_count": 21,
   "metadata": {},
   "outputs": [],
   "source": [
    "lines = data.split('\\n')"
   ]
  },
  {
   "cell_type": "code",
   "execution_count": 22,
   "metadata": {},
   "outputs": [
    {
     "data": {
      "text/plain": [
       "['mahoonie',\n",
       " 'Hi, AshleyReyes1! I would like to add you to friends!',\n",
       " '10:25:22 PM',\n",
       " 'AshleyReyes1',\n",
       " 'Hi, mahoonie! I accepted your friendship request!',\n",
       " '10:27:52 PM',\n",
       " 'mahoonie',\n",
       " 'Hey beautiful, hru?',\n",
       " '10:37:18 PM',\n",
       " 'July 14th']"
      ]
     },
     "execution_count": 22,
     "metadata": {},
     "output_type": "execute_result"
    }
   ],
   "source": [
    "lines[:10]"
   ]
  },
  {
   "cell_type": "code",
   "execution_count": 23,
   "metadata": {},
   "outputs": [
    {
     "data": {
      "text/plain": [
       "['12:49:09 PM',\n",
       " 'AshleyReyes1',\n",
       " 'bye',\n",
       " '12:49:29 PM',\n",
       " 'AshleyReyes1',\n",
       " ':*',\n",
       " '12:49:31 PM',\n",
       " 'mahoonie',\n",
       " ':*',\n",
       " '12:49:35 PM']"
      ]
     },
     "execution_count": 23,
     "metadata": {},
     "output_type": "execute_result"
    }
   ],
   "source": [
    "lines[-10:]"
   ]
  },
  {
   "cell_type": "code",
   "execution_count": null,
   "metadata": {},
   "outputs": [],
   "source": []
  },
  {
   "cell_type": "code",
   "execution_count": 24,
   "metadata": {},
   "outputs": [],
   "source": [
    "ordinal = lambda n: \"%d%s\" % (n,\"tsnrhtdd\"[(n//10%10!=1)*(n%10<4)*n%10::4])"
   ]
  },
  {
   "cell_type": "code",
   "execution_count": 31,
   "metadata": {},
   "outputs": [],
   "source": [
    "d = {}\n",
    "ds = []\n",
    "for line in lines:\n",
    "    if line == 'mahoonie' or line == 'AshleyReyes1':\n",
    "        ds.append(d)\n",
    "        d = dict(d)\n",
    "        d['text'] = ''\n",
    "        d['speaker'] = line + ' '*(len('AshleyReyes1')-len(line))\n",
    "        continue\n",
    "    if re.match('\\d+:\\d+:\\d+ [PA]M', line):\n",
    "        d['time'] = line\n",
    "        continue\n",
    "    if re.match('\\d+:\\d+(:\\d+)? [PA]M', line):\n",
    "        d['time'] = line\n",
    "        continue\n",
    "    if re.match('\\w+ \\d+(st|nd|rd|th)', line):\n",
    "        d['date'] = line\n",
    "    m = re.match('(\\d+) days? ago', line) \n",
    "#     if re.match('Today', line):\n",
    "#         date = datetime.datetime.today()\n",
    "#         d['date'] = date.strftime(f'%B {ordinal(date.day)}')\n",
    "#         continue\n",
    "    if m:\n",
    "        x = int(m[1])\n",
    "        date = datetime.datetime.today() - datetime.timedelta(days=x)\n",
    "        d['date'] = date.strftime(f'%B {ordinal(date.day)}')\n",
    "        continue\n",
    "    d['text'] += line\n",
    "ds.append(d)\n",
    "\n",
    "        "
   ]
  },
  {
   "cell_type": "code",
   "execution_count": 32,
   "metadata": {},
   "outputs": [
    {
     "data": {
      "text/plain": [
       "[{},\n",
       " {'text': 'Hi, AshleyReyes1! I would like to add you to friends!',\n",
       "  'speaker': 'mahoonie    ',\n",
       "  'time': '10:25:22 PM'},\n",
       " {'text': 'Hi, mahoonie! I accepted your friendship request!',\n",
       "  'speaker': 'AshleyReyes1',\n",
       "  'time': '10:27:52 PM'},\n",
       " {'text': 'Hey beautiful, hru?July 14th',\n",
       "  'speaker': 'mahoonie    ',\n",
       "  'time': '10:37:18 PM',\n",
       "  'date': 'July 14th'},\n",
       " {'text': 'Will you play with yourself with clothes on?',\n",
       "  'speaker': 'mahoonie    ',\n",
       "  'time': '1:48:39 AM',\n",
       "  'date': 'July 14th'}]"
      ]
     },
     "execution_count": 32,
     "metadata": {},
     "output_type": "execute_result"
    }
   ],
   "source": [
    "ds[:5]"
   ]
  },
  {
   "cell_type": "code",
   "execution_count": 33,
   "metadata": {},
   "outputs": [
    {
     "data": {
      "text/plain": [
       "[{'text': 'you play so well',\n",
       "  'speaker': 'AshleyReyes1',\n",
       "  'time': '12:49:00 PM',\n",
       "  'date': 'September 18th'},\n",
       " {'text': 'thank you and you too',\n",
       "  'speaker': 'AshleyReyes1',\n",
       "  'time': '12:49:09 PM',\n",
       "  'date': 'September 18th'},\n",
       " {'text': 'bye',\n",
       "  'speaker': 'AshleyReyes1',\n",
       "  'time': '12:49:29 PM',\n",
       "  'date': 'September 18th'},\n",
       " {'text': ':*',\n",
       "  'speaker': 'AshleyReyes1',\n",
       "  'time': '12:49:31 PM',\n",
       "  'date': 'September 18th'},\n",
       " {'text': ':*',\n",
       "  'speaker': 'mahoonie    ',\n",
       "  'time': '12:49:35 PM',\n",
       "  'date': 'September 18th'}]"
      ]
     },
     "execution_count": 33,
     "metadata": {},
     "output_type": "execute_result"
    }
   ],
   "source": [
    "ds[-5:]"
   ]
  },
  {
   "cell_type": "code",
   "execution_count": 34,
   "metadata": {},
   "outputs": [],
   "source": [
    "df = pd.DataFrame(ds)"
   ]
  },
  {
   "cell_type": "code",
   "execution_count": 35,
   "metadata": {},
   "outputs": [],
   "source": [
    "df = df[['date', 'time', 'speaker', 'text']]"
   ]
  },
  {
   "cell_type": "code",
   "execution_count": 36,
   "metadata": {},
   "outputs": [],
   "source": [
    "df.to_csv('data/ashley.tsv', sep='\\t')"
   ]
  },
  {
   "cell_type": "code",
   "execution_count": null,
   "metadata": {},
   "outputs": [],
   "source": []
  }
 ],
 "metadata": {
  "kernelspec": {
   "display_name": "conda_pytorch_p36",
   "language": "python",
   "name": "conda_pytorch_p36"
  },
  "language_info": {
   "codemirror_mode": {
    "name": "ipython",
    "version": 3
   },
   "file_extension": ".py",
   "mimetype": "text/x-python",
   "name": "python",
   "nbconvert_exporter": "python",
   "pygments_lexer": "ipython3",
   "version": "3.6.10"
  }
 },
 "nbformat": 4,
 "nbformat_minor": 4
}
