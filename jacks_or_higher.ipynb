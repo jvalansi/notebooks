{
 "cells": [
  {
   "cell_type": "code",
   "execution_count": 318,
   "metadata": {},
   "outputs": [],
   "source": [
    "import numpy as np\n",
    "import doctest\n",
    "from tqdm import tqdm_notebook as tqdm\n",
    "from copy import copy\n",
    "from random import choice\n",
    "import itertools\n",
    "from collections import defaultdict"
   ]
  },
  {
   "cell_type": "code",
   "execution_count": 282,
   "metadata": {},
   "outputs": [],
   "source": [
    "# 0 -> 2\n",
    "# 1 -> 3\n",
    "# ...\n",
    "# 8 -> 10\n",
    "# 9 -> J\n",
    "# 10 -> Q\n",
    "# 11 -> K\n",
    "# 12 -> A\n",
    "J, Q, K, A = 'J', 'Q', 'K', 'A'\n",
    "faces = dict(zip(list(range(2,11))+[J,Q,K,A],range(13)))"
   ]
  },
  {
   "cell_type": "code",
   "execution_count": 89,
   "metadata": {},
   "outputs": [],
   "source": [
    "cards = list(itertools.product(range(13), range(4)))\n",
    "combinations = list(itertools.combinations(cards, 5))"
   ]
  },
  {
   "cell_type": "code",
   "execution_count": 287,
   "metadata": {},
   "outputs": [
    {
     "data": {
      "application/vnd.jupyter.widget-view+json": {
       "model_id": "78f1aa83bd894a10a135fe8c95bf6b9e",
       "version_major": 2,
       "version_minor": 0
      },
      "text/plain": [
       "HBox(children=(IntProgress(value=0, max=2598960), HTML(value='')))"
      ]
     },
     "metadata": {},
     "output_type": "display_data"
    }
   ],
   "source": [
    "prize_dict = {}\n",
    "for combination in tqdm(combinations):\n",
    "    prize_dict[combination] = calc_prize(combination)\n",
    "average_all = sum(prize_dict.values())/len(prize_dict)\n"
   ]
  },
  {
   "cell_type": "code",
   "execution_count": null,
   "metadata": {},
   "outputs": [],
   "source": [
    "# Ways to win:\n",
    "# 2 & >=11 -> 1\n",
    "# 2 & 2 -> 2\n",
    "# 3 -> 3\n",
    "# All adjacent -> 4\n",
    "# Same shape -> 6\n",
    "# 3 & 2 -> 9\n",
    "# 4 -> 25\n",
    "# All adjacent & same shape -> 50\n",
    "# Same shape & >=10 -> 800\n",
    "\n",
    "# 4 shapes\n",
    "# 13 numbers\n",
    "\n",
    "for combination in combinations:\n",
    "#     calculate best move + odds for each win for each selection for holding (4!+3!+2!+1!+0!)\n",
    "    move, odds = best_move(combination)\n",
    "\n",
    "\n",
    "\n",
    "    "
   ]
  },
  {
   "cell_type": "code",
   "execution_count": 334,
   "metadata": {},
   "outputs": [],
   "source": [
    "def get_moves(n):\n",
    "    moves = []\n",
    "    for i in range(n+2):\n",
    "        moves.extend(itertools.combinations(range(n), i))\n",
    "    return moves"
   ]
  },
  {
   "cell_type": "code",
   "execution_count": 326,
   "metadata": {},
   "outputs": [],
   "source": [
    "def best_move(combination):\n",
    "#     for each selection for holding\n",
    "    moves = get_moves(len(combination))\n",
    "    odds = []\n",
    "    for move in moves:\n",
    "        odd = calc_odds(tuple(sorted(combination[m] for m in move)))\n",
    "        odds.append(odd)\n",
    "    max_ind = np.argmax(odds)\n",
    "    return moves[max_ind], odds[max_ind]"
   ]
  },
  {
   "cell_type": "code",
   "execution_count": 109,
   "metadata": {},
   "outputs": [],
   "source": [
    "def get_other_cards(combination):\n",
    "    other_cards = copy(cards)\n",
    "    for card in combination:\n",
    "        other_cards.remove(card)\n",
    "    return other_cards\n"
   ]
  },
  {
   "cell_type": "code",
   "execution_count": 298,
   "metadata": {},
   "outputs": [],
   "source": [
    "all_odds = copy(prize_dict)\n",
    "def calc_odds(combination):\n",
    "    if combination in all_odds:\n",
    "        return all_odds[combination]\n",
    "    other_cards = get_other_cards(combination)\n",
    "    # get all other combinations\n",
    "    other_combinations = list(itertools.combinations(other_cards, 5-len(combination)))\n",
    "    # calculate average prize without combination\n",
    "    prizes = []\n",
    "    for other_combination in other_combinations:\n",
    "        other_combination = tuple(sorted(list(other_combination) + list(combination)))\n",
    "        prizes.append(prize_dict[other_combination])\n",
    "    odds = sum(prizes)/len(prizes)\n",
    "    all_odds[combination] = odds\n",
    "    return odds\n"
   ]
  },
  {
   "cell_type": "code",
   "execution_count": 68,
   "metadata": {},
   "outputs": [],
   "source": [
    "def calc_prize(combination):\n",
    "    nums, shapes = zip(*combination)\n",
    "    all_same_shape = all_same(shapes)\n",
    "    if all_same_shape and all(n>=8 for n in nums): return 800\n",
    "    adjacent = is_adjacent(nums)\n",
    "    if adjacent and all_same_shape: return 50\n",
    "    sames, same_nums = are_same(nums)\n",
    "    if 4 in sames: return 25\n",
    "    if 3 in sames and 2 in sames: return 9\n",
    "    if all_same_shape: return 6\n",
    "    if adjacent: return 4\n",
    "    if 3 in sames: return 3\n",
    "    if sames.count(2) == 2: return 2\n",
    "    if 2 in sames and same_nums[sames.index(2)] >= 9: return 1\n",
    "    return 0\n",
    "    "
   ]
  },
  {
   "cell_type": "code",
   "execution_count": 373,
   "metadata": {},
   "outputs": [],
   "source": [
    "def all_same(lst):\n",
    "    return lst.count(lst[0]) == len(lst) if lst else False\n",
    "\n",
    "def is_adjacent(lst):\n",
    "    '''\n",
    "    Assuming the combination is sorted, we check the distance between element is 1\n",
    "    '''\n",
    "    return all((lst[i+1]-lst[i])%8==1 for i in range(len(lst)-1))\n",
    "\n",
    "def are_same(lst):\n",
    "    return zip(*[(lst.count(si),si) for si in set(lst)])"
   ]
  },
  {
   "cell_type": "code",
   "execution_count": 382,
   "metadata": {},
   "outputs": [
    {
     "data": {
      "application/vnd.jupyter.widget-view+json": {
       "model_id": "ccda7895db59484c8edc5513e6f2a236",
       "version_major": 2,
       "version_minor": 0
      },
      "text/plain": [
       "HBox(children=(IntProgress(value=0, max=100000), HTML(value='')))"
      ]
     },
     "metadata": {},
     "output_type": "display_data"
    },
    {
     "name": "stdout",
     "output_type": "stream",
     "text": [
      "0.9859281856280974\n",
      "2.7060802099511863\n"
     ]
    }
   ],
   "source": [
    "credits = 100\n",
    "rewards = []\n",
    "for i in tqdm(range(100000)):\n",
    "    credits -= 1\n",
    "    hand = choice(combinations)\n",
    "    _, reward = best_move(hand)\n",
    "    rewards.append(reward)\n",
    "    credits += reward\n",
    "print(np.mean(rewards))\n",
    "print(np.std(rewards))"
   ]
  },
  {
   "cell_type": "code",
   "execution_count": 301,
   "metadata": {},
   "outputs": [
    {
     "data": {
      "text/plain": [
       "-2275.64604433919"
      ]
     },
     "execution_count": 301,
     "metadata": {},
     "output_type": "execute_result"
    }
   ],
   "source": [
    "credits"
   ]
  },
  {
   "cell_type": "code",
   "execution_count": 386,
   "metadata": {},
   "outputs": [
    {
     "data": {
      "text/plain": [
       "((), 0.3417797888386124)"
      ]
     },
     "execution_count": 386,
     "metadata": {},
     "output_type": "execute_result"
    }
   ],
   "source": [
    "nums = map(lambda x: faces[x], (2,3,5,6,8))\n",
    "shapes = (0,1,2,0,3)\n",
    "hand = tuple(zip(nums,shapes))\n",
    "best_move(hand)"
   ]
  },
  {
   "cell_type": "code",
   "execution_count": 374,
   "metadata": {},
   "outputs": [
    {
     "data": {
      "application/vnd.jupyter.widget-view+json": {
       "model_id": "2cb9cb2880a1439f9cf1725c645d888e",
       "version_major": 2,
       "version_minor": 0
      },
      "text/plain": [
       "HBox(children=(IntProgress(value=0, max=2893223), HTML(value='')))"
      ]
     },
     "metadata": {},
     "output_type": "display_data"
    }
   ],
   "source": [
    "odds_dict = defaultdict(set)\n",
    "current_odds = copy(all_odds)\n",
    "for combination, odd in tqdm(current_odds.items()):\n",
    "    move,_ = best_move(combination)\n",
    "    if len(move) != len(combination):\n",
    "        continue\n",
    "    nums, shapes = zip(*combination) if combination else ((),())\n",
    "    odds_dict[odd].add((tuple(nums), all_same(shapes)))"
   ]
  },
  {
   "cell_type": "code",
   "execution_count": 381,
   "metadata": {},
   "outputs": [
    {
     "name": "stdout",
     "output_type": "stream",
     "text": [
      "(800, ((8, 9, 10, 11, 12), True))\n",
      "(50, ((0, 1, 10, 11, 12), True))\n",
      "(25.0, ((12, 12, 12, 12), False))\n",
      "(19.333333333333332, ((9, 10, 11, 12), True))\n",
      "(19.270833333333332, ((8, 9, 10, 11), True))\n",
      "(18.104166666666668, ((8, 9, 10, 12), True))\n",
      "(9, ((8, 8, 11, 11, 11), False))\n",
      "(6, ((3, 5, 8, 9, 10), True))\n",
      "(4.26530612244898, ((8, 8, 8), False))\n",
      "(4, ((4, 5, 6, 7, 8), False))\n",
      "(3.6458333333333335, ((0, 10, 11, 12), True))\n",
      "(3.5833333333333335, ((7, 8, 9, 10), True))\n",
      "(3.5208333333333335, ((0, 1, 2, 12), True))\n",
      "(3.4583333333333335, ((2, 3, 4, 5), True))\n",
      "(2.5833333333333335, ((2, 2, 11, 11), False))\n",
      "(2.4791666666666665, ((0, 9, 10, 12), True))\n",
      "(2.4166666666666665, ((0, 1, 10, 12), True))\n",
      "(2.3541666666666665, ((5, 6, 7, 9), True))\n",
      "(2.2916666666666665, ((2, 3, 4, 6), True))\n",
      "(1.5142857142857142, ((12, 12), False))\n",
      "(1.5127551020408163, ((10, 11, 12), True))\n",
      "(1.4243197278911566, ((9, 10, 12), True))\n",
      "(1.4158163265306123, ((8, 9, 10), True))\n",
      "(1.3273809523809523, ((8, 10, 11), True))\n",
      "(1.25, ((3, 6, 10, 11), True))\n",
      "(1.2389455782312926, ((8, 10, 12), True))\n",
      "(1.1875, ((0, 1, 4, 12), True))\n",
      "(1.125, ((0, 3, 6, 7), True))\n",
      "(0.9166666666666666, ((9, 10, 11, 12), False))\n",
      "(0.8541666666666666, ((0, 10, 11, 12), False))\n",
      "(0.7959183673469388, ((6, 6), False))\n",
      "(0.7916666666666666, ((0, 1, 11, 12), False))\n",
      "(0.7780612244897959, ((0, 11, 12), True))\n",
      "(0.7291666666666666, ((6, 7, 8, 9), False))\n",
      "(0.689625850340136, ((0, 10, 11), True))\n",
      "(0.6811224489795918, ((7, 8, 9), True))\n",
      "(0.6666666666666666, ((2, 3, 4, 5), False))\n",
      "(0.6011904761904762, ((7, 10, 11), True))\n",
      "(0.592687074829932, ((1, 2, 12), True))\n",
      "(0.5841836734693877, ((2, 3, 4), True))\n",
      "(0.5818367346938775, ((9, 10), True))\n",
      "(0.566734693877551, ((10, 12), True))\n",
      "(0.5516326530612244, ((9, 12), True))\n",
      "(0.5433673469387755, ((10, 11, 12), False))\n",
      "(0.5208333333333334, ((8, 9, 10, 12), False))\n",
      "(0.5042517006802721, ((7, 8, 11), True))\n",
      "(0.4957482993197279, ((3, 4, 6), True))\n",
      "(0.48894557823129253, ((9, 11, 12), False))\n",
      "(0.48489795918367345, ((11, 12), False))\n",
      "(0.47183673469387755, ((9, 11), False))\n",
      "(0.45938775510204083, ((8, 9), True))\n",
      "(0.45877551020408164, ((9, 12), False))\n",
      "(0.4460184073629452, ((9,), True))\n",
      "(0.407312925170068, ((3, 4, 7), True))\n",
      "(0.3417797888386124, ((), False))\n"
     ]
    }
   ],
   "source": [
    "\n",
    "for k,v in sorted(odds_dict.items(), reverse=True):\n",
    "    print((k, list(v)[0]))\n",
    "    "
   ]
  },
  {
   "cell_type": "code",
   "execution_count": 383,
   "metadata": {},
   "outputs": [
    {
     "data": {
      "text/plain": [
       "55"
      ]
     },
     "execution_count": 383,
     "metadata": {},
     "output_type": "execute_result"
    }
   ],
   "source": [
    "len(odds_dict)"
   ]
  },
  {
   "cell_type": "code",
   "execution_count": 312,
   "metadata": {},
   "outputs": [
    {
     "data": {
      "text/plain": [
       "0.3417797888386124"
      ]
     },
     "execution_count": 312,
     "metadata": {},
     "output_type": "execute_result"
    }
   ],
   "source": [
    "average_all"
   ]
  },
  {
   "cell_type": "code",
   "execution_count": null,
   "metadata": {},
   "outputs": [],
   "source": [
    "# (800,  Royal Flush\n",
    "# (50,   Straight Flush\n",
    "# (25.0, 4\n",
    "# (19.3, 4 to Royal Flush\n",
    "# (19.2, 4 to Royal Flush\n",
    "# (18.1, 4 to Royal Flush\n",
    "# (9,    Full House\n",
    "# (6,    Flush\n",
    "# (4.26, 3\n",
    "# (4,    Straight\n",
    "# (3.64, 4 to Straight Flush\n",
    "# (3.58, 4 to Straight Flush\n",
    "# (3.52, 4 to Straight Flush\n",
    "# (3.45, 4 to Straight Flush\n",
    "# (2.58, 2 pair\n",
    "# (2.47, 4 to Straight Flush 1 gap\n",
    "# (2.41, 4 to Straight Flush 1 gap\n",
    "# (2.35, 4 to Straight Flush 1 gap\n",
    "# (2.29, 4 to Straight Flush 1 gap\n",
    "# (1.51, high pair\n",
    "# (1.51, 3 to Royal Flush\n",
    "# (1.42, 3 to Royal Flush\n",
    "# (1.41, 3 to Royal Flush\n",
    "# (1.32, 3 to Royal Flush\n",
    "# (1.25, 4 to Flush\n",
    "# (1.23, 3 to Royal Flush with gaps\n",
    "# (1.18, 4 to Flush 1 high\n",
    "# (1.12, 4 to Flush no high\n",
    "# (0.91, 4 to Straight\n",
    "# (0.85, 4 to Straight\n",
    "# (0.79, low pair\n",
    "# (0.79, 4 to Straight 2 highs\n",
    "# (0.77, 3 to Straight Flush \n",
    "# (0.72, 4 to Straight 1 high\n",
    "# (0.68, 3 to Straight Flush 1 gap\n",
    "# (0.68, 3 to Straight Flush 1 high\n",
    "# (0.66, 4 to Straight no high\n",
    "# (0.60, 3 to Straight Flush 2 gaps\n",
    "# (0.59, 3 to Straight Flush 1 high\n",
    "# (0.58, 3 to Straight Flush no highs\n",
    "# (0.58, 2 to Royal Flush\n",
    "# (0.56, 2 to Royal Flush\n",
    "# (0.55, 2 to Royal Flush\n",
    "# (0.54, 3 to Straight\n",
    "# (0.52, 4 to Straight 1 gap\n",
    "# (0.50, 3 to Flush\n",
    "# (0.49, 3 to Straight Flush no highs with gaps\n",
    "# (0.48, 3 to Straight with gaps\n",
    "# (0.48, 2 to Straight\n",
    "# (0.47, 2 to Straight with gaps\n",
    "# (0.45, 2 to Royal Flush 1 high\n",
    "# (0.45, 2 to Straight with 3 gaps\n",
    "# (0.44, 1 high\n",
    "# (0.40, 3 to Flush no high\n",
    "# (0.34, ((), False))"
   ]
  }
 ],
 "metadata": {
  "kernelspec": {
   "display_name": "Python 3",
   "language": "python",
   "name": "python3"
  },
  "language_info": {
   "codemirror_mode": {
    "name": "ipython",
    "version": 3
   },
   "file_extension": ".py",
   "mimetype": "text/x-python",
   "name": "python",
   "nbconvert_exporter": "python",
   "pygments_lexer": "ipython3",
   "version": "3.5.6"
  }
 },
 "nbformat": 4,
 "nbformat_minor": 2
}
