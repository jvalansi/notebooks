{
 "cells": [
  {
   "cell_type": "code",
   "execution_count": 39,
   "metadata": {},
   "outputs": [],
   "source": [
    "# following https://stackoverflow.com/questions/45492703/google-drive-api-oauth-and-service-account"
   ]
  },
  {
   "cell_type": "code",
   "execution_count": 5,
   "metadata": {},
   "outputs": [],
   "source": [
    "#  ! pip install --upgrade google-api-python-client google-auth-httplib2 google-auth-oauthlib google-cloud-translate"
   ]
  },
  {
   "cell_type": "code",
   "execution_count": 6,
   "metadata": {},
   "outputs": [],
   "source": [
    "# ! pip install transformers==3.1\n",
    "# ! pip3 install --upgrade tensorflow-gpu"
   ]
  },
  {
   "cell_type": "code",
   "execution_count": 2,
   "metadata": {},
   "outputs": [],
   "source": [
    "from google.cloud import translate\n",
    "\n",
    "import json\n",
    "from tqdm.auto import tqdm\n",
    "\n",
    "from transformers import pipeline\n",
    "import time\n",
    "import re\n",
    "from nltk.tokenize import sent_tokenize\n",
    "import pandas as pd\n",
    "import numpy as np"
   ]
  },
  {
   "cell_type": "code",
   "execution_count": 3,
   "metadata": {},
   "outputs": [
    {
     "name": "stderr",
     "output_type": "stream",
     "text": [
      "/opt/conda/lib/python3.7/site-packages/tqdm/std.py:658: FutureWarning: The Panel class is removed from pandas. Accessing it from the top-level namespace will also be removed in the next version\n",
      "  from pandas import Panel\n"
     ]
    }
   ],
   "source": [
    "tqdm.pandas()"
   ]
  },
  {
   "cell_type": "code",
   "execution_count": 4,
   "metadata": {},
   "outputs": [],
   "source": [
    "import os\n",
    "os.environ['GOOGLE_APPLICATION_CREDENTIALS'] = 'data/service.json'"
   ]
  },
  {
   "cell_type": "code",
   "execution_count": 5,
   "metadata": {},
   "outputs": [],
   "source": [
    "from google.oauth2 import service_account\n",
    "from googleapiclient.discovery import build\n",
    "\n",
    "SCOPES = ['https://www.googleapis.com/auth/documents.readonly']\n",
    "SCOPES += ['https://www.googleapis.com/auth/drive.metadata.readonly']\n",
    "SERVICE_ACCOUNT_FILE = 'data/service.json'\n",
    "\n",
    "creds = service_account.Credentials.from_service_account_file(\n",
    "        SERVICE_ACCOUNT_FILE, scopes=SCOPES)"
   ]
  },
  {
   "cell_type": "code",
   "execution_count": 6,
   "metadata": {},
   "outputs": [],
   "source": [
    "def get_doc_content(doc_id):\n",
    "    service = build('docs', 'v1', credentials=creds)\n",
    "\n",
    "    # Retrieve the documents contents from the Docs service.\n",
    "    document = service.documents().get(documentId=doc_id).execute()\n",
    "\n",
    "    paragraphs = [paragraph['paragraph'] for paragraph in document['body']['content'] if 'paragraph' in paragraph]\n",
    "    elements = [element['textRun']['content'] for p in paragraphs for element in p['elements'] if 'textRun' in element]\n",
    "    \n",
    "    return ''.join(elements)\n",
    "\n"
   ]
  },
  {
   "cell_type": "code",
   "execution_count": 7,
   "metadata": {},
   "outputs": [],
   "source": [
    "# get file\n",
    "# get date per file\n",
    "# translate file\n",
    "# get file sentiment"
   ]
  },
  {
   "cell_type": "code",
   "execution_count": 8,
   "metadata": {},
   "outputs": [],
   "source": [
    "def translate_text(text=\"Hello, world!\", project_id=\"swift-clarity-183805\"):\n",
    "\n",
    "    client = translate.TranslationServiceClient()\n",
    "    location = \"global\"\n",
    "    parent = f\"projects/{project_id}/locations/{location}\"\n",
    "    \n",
    "    response = client.translate_text(\n",
    "        request={\n",
    "            \"parent\": parent,\n",
    "            \"contents\": [text],\n",
    "            \"mime_type\": \"text/plain\",\n",
    "            \"source_language_code\": \"he\",\n",
    "            \"target_language_code\": \"en-US\",\n",
    "        }\n",
    "    )\n",
    "\n",
    "    for translation in response.translations:\n",
    "        yield(\"Translated text: {}\".format(translation.translated_text))\n",
    "\n"
   ]
  },
  {
   "cell_type": "code",
   "execution_count": 9,
   "metadata": {},
   "outputs": [],
   "source": [
    "def split_to_sentences(data):\n",
    "    if type(data)==str:\n",
    "        data = [data]\n",
    "    sentences = [s for d in data for s in d.split('\\n')]\n",
    "    sentences = [s.strip() for s in sentences]\n",
    "    sentences = [re.sub('&#39;', '\\'', s) for s in sentences]\n",
    "    sentences = [re.sub('…', '...', s) for s in sentences]\n",
    "    sentences = [s for line in sentences for s in sent_tokenize(line) if s]\n",
    "    new_sentences = []\n",
    "    for s in sentences:\n",
    "        if len(s)>=512:\n",
    "            new_sentences += s.split(',')\n",
    "        else:\n",
    "            new_sentences.append(s)\n",
    "    return new_sentences"
   ]
  },
  {
   "cell_type": "code",
   "execution_count": 22,
   "metadata": {},
   "outputs": [],
   "source": [
    "service = build('drive', 'v3', credentials=creds)\n",
    "file_list = service.files().list(pageSize=1000).execute()\n",
    "files = file_list['files']\n",
    "for f in tqdm(files):\n",
    "    f.update(service.files().get(fileId=f['id'], fields=\"createdTime\").execute())\n",
    "files_df = pd.DataFrame(files)\n",
    "files_df.to_csv('data/thoughts/files_metadata.csv')"
   ]
  },
  {
   "cell_type": "code",
   "execution_count": 30,
   "metadata": {},
   "outputs": [],
   "source": [
    "files_df = pd.read_csv('data/thoughts/files_metadata.csv', index_col=0)"
   ]
  },
  {
   "cell_type": "code",
   "execution_count": 36,
   "metadata": {},
   "outputs": [
    {
     "data": {
      "application/vnd.jupyter.widget-view+json": {
       "model_id": "",
       "version_major": 2,
       "version_minor": 0
      },
      "text/plain": [
       "HBox(children=(FloatProgress(value=0.0, max=809.0), HTML(value='')))"
      ]
     },
     "metadata": {},
     "output_type": "display_data"
    },
    {
     "name": "stdout",
     "output_type": "stream",
     "text": [
      "\n"
     ]
    }
   ],
   "source": [
    "for file in tqdm(files):\n",
    "    try:\n",
    "        if file['mimeType']!='application/vnd.google-apps.document':\n",
    "            continue\n",
    "        if os.path.exists(f\"data/thoughts/ids/{file['id']}.txt\"):\n",
    "            continue\n",
    "        content = get_doc_content(file['id'])\n",
    "        translation = translate_text(content)\n",
    "        with open(f'data/thoughts/ids/{file[\"id\"]}.txt', 'w') as f:\n",
    "            f.write('\\n'.join(translation))\n",
    "    except KeyError:\n",
    "        print(file)"
   ]
  },
  {
   "cell_type": "code",
   "execution_count": 10,
   "metadata": {},
   "outputs": [
    {
     "name": "stderr",
     "output_type": "stream",
     "text": [
      "All model checkpoint weights were used when initializing TFDistilBertForSequenceClassification.\n",
      "\n",
      "All the weights of TFDistilBertForSequenceClassification were initialized from the model checkpoint at distilbert-base-uncased-finetuned-sst-2-english.\n",
      "If your task is similar to the task the model of the checkpoint was trained on, you can already use TFDistilBertForSequenceClassification for predictions without further training.\n"
     ]
    }
   ],
   "source": [
    "sentiment_pipeline = pipeline(\"sentiment-analysis\")"
   ]
  },
  {
   "cell_type": "code",
   "execution_count": 11,
   "metadata": {},
   "outputs": [],
   "source": [
    "def get_sentiment(data):\n",
    "    data = split_to_sentences(data)\n",
    "    sentiments = sentiment_pipeline(data)\n",
    "    score = sum(s['score'] if s['label']=='POSITIVE' else -s['score'] for s in sentiments)/len(sentiments)\n",
    "    return score"
   ]
  },
  {
   "cell_type": "code",
   "execution_count": 63,
   "metadata": {},
   "outputs": [],
   "source": [
    "# ! mkdir data/thoughts/ids"
   ]
  },
  {
   "cell_type": "code",
   "execution_count": 11,
   "metadata": {},
   "outputs": [],
   "source": [
    "# pd.DataFrame([[None,None]], columns=['id','score']).to_csv('data/thoughts/id_sentiment.csv')"
   ]
  },
  {
   "cell_type": "code",
   "execution_count": 31,
   "metadata": {},
   "outputs": [],
   "source": [
    "sentiment_df = pd.read_csv('data/thoughts/id_sentiment.csv', index_col=0)"
   ]
  },
  {
   "cell_type": "code",
   "execution_count": 14,
   "metadata": {},
   "outputs": [],
   "source": [
    "dirname = 'data/thoughts/ids'"
   ]
  },
  {
   "cell_type": "code",
   "execution_count": 23,
   "metadata": {},
   "outputs": [],
   "source": [
    "d = {}\n",
    "done = set(sentiment_df['id'])\n",
    "# done = {}\n",
    "for fname in tqdm(os.listdir(dirname)):\n",
    "    if not fname.endswith('.txt'):\n",
    "        continue\n",
    "    id = re.sub('.txt', '', fname)\n",
    "    print(id)\n",
    "    if id in done:\n",
    "        continue\n",
    "    with open(os.path.join(dirname,fname)) as f:\n",
    "        data = f.read()\n",
    "    score = get_sentiment(data[:512]) #TODO: maybe batch\n",
    "    df = pd.DataFrame([[id,score]], columns=['id','score'])\n",
    "    sentiment_df = pd.concat([sentiment_df,df])\n",
    "    sentiment_df.to_csv('data/thoughts/id_sentiment.csv')    "
   ]
  },
  {
   "cell_type": "code",
   "execution_count": null,
   "metadata": {},
   "outputs": [],
   "source": []
  },
  {
   "cell_type": "code",
   "execution_count": 15,
   "metadata": {},
   "outputs": [],
   "source": [
    "with open(os.path.join(dirname,fname)) as f:\n",
    "    data = f.read()\n",
    "\n"
   ]
  },
  {
   "cell_type": "code",
   "execution_count": 17,
   "metadata": {},
   "outputs": [
    {
     "data": {
      "text/plain": [
       "825"
      ]
     },
     "execution_count": 17,
     "metadata": {},
     "output_type": "execute_result"
    }
   ],
   "source": [
    "len(split_to_sentences(data))"
   ]
  },
  {
   "cell_type": "code",
   "execution_count": 34,
   "metadata": {},
   "outputs": [],
   "source": [
    "files_df = files_df.merge(sentiment_df, on='id')"
   ]
  },
  {
   "cell_type": "code",
   "execution_count": 53,
   "metadata": {},
   "outputs": [],
   "source": [
    "files_df = files_df[~files_df.index.duplicated(keep='first')]"
   ]
  },
  {
   "cell_type": "code",
   "execution_count": 56,
   "metadata": {},
   "outputs": [],
   "source": [
    "files_df_bfill = files_df.resample('D').bfill()"
   ]
  },
  {
   "cell_type": "code",
   "execution_count": 110,
   "metadata": {},
   "outputs": [],
   "source": [
    "files_df_bfill['MA'] = files_df_bfill['score'].rolling(window=30).mean()"
   ]
  },
  {
   "cell_type": "code",
   "execution_count": 111,
   "metadata": {},
   "outputs": [
    {
     "data": {
      "text/plain": [
       "[<matplotlib.lines.Line2D at 0x7f67b2ac1610>]"
      ]
     },
     "execution_count": 111,
     "metadata": {},
     "output_type": "execute_result"
    },
    {
     "data": {
      "image/png": "[encoded data removed]",
      "text/plain": [
       "<Figure size 432x288 with 1 Axes>"
      ]
     },
     "metadata": {
      "needs_background": "light"
     },
     "output_type": "display_data"
    }
   ],
   "source": [
    "plt.plot(files_df_bfill.index.to_pydatetime(), files_df_bfill['MA'])"
   ]
  },
  {
   "cell_type": "code",
   "execution_count": null,
   "metadata": {},
   "outputs": [],
   "source": []
  }
 ],
 "metadata": {
  "kernelspec": {
   "display_name": "Python 3 (Data Science)",
   "language": "python",
   "name": "python3__SAGEMAKER_INTERNAL__arn:aws:sagemaker:us-west-2:236514542706:image/datascience-1.0"
  },
  "language_info": {
   "codemirror_mode": {
    "name": "ipython",
    "version": 3
   },
   "file_extension": ".py",
   "mimetype": "text/x-python",
   "name": "python",
   "nbconvert_exporter": "python",
   "pygments_lexer": "ipython3",
   "version": "3.7.10"
  }
 },
 "nbformat": 4,
 "nbformat_minor": 4
}
