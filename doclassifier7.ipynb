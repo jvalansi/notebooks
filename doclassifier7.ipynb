{
 "cells": [
  {
   "cell_type": "code",
   "execution_count": 39,
   "metadata": {},
   "outputs": [],
   "source": [
    "# following https://stackoverflow.com/questions/45492703/google-drive-api-oauth-and-service-account"
   ]
  },
  {
   "cell_type": "code",
   "execution_count": 7,
   "metadata": {},
   "outputs": [],
   "source": [
    "#  ! pip install --upgrade google-api-python-client google-auth-httplib2 google-auth-oauthlib google-cloud-translate"
   ]
  },
  {
   "cell_type": "code",
   "execution_count": 93,
   "metadata": {},
   "outputs": [],
   "source": [
    "# ! pip install transformers==3.1\n",
    "# ! pip3 install --upgrade tensorflow-gpu"
   ]
  },
  {
   "cell_type": "code",
   "execution_count": 6,
   "metadata": {},
   "outputs": [],
   "source": [
    "from google.cloud import translate"
   ]
  },
  {
   "cell_type": "code",
   "execution_count": 16,
   "metadata": {},
   "outputs": [],
   "source": [
    "import json\n",
    "from tqdm.auto import tqdm"
   ]
  },
  {
   "cell_type": "code",
   "execution_count": 54,
   "metadata": {},
   "outputs": [],
   "source": [
    "from transformers import pipeline\n",
    "import time\n",
    "import re\n",
    "from nltk.tokenize import sent_tokenize\n",
    "import pandas as pd\n",
    "import numpy as np"
   ]
  },
  {
   "cell_type": "code",
   "execution_count": 17,
   "metadata": {},
   "outputs": [
    {
     "name": "stderr",
     "output_type": "stream",
     "text": [
      "/opt/conda/lib/python3.7/site-packages/tqdm/std.py:658: FutureWarning: The Panel class is removed from pandas. Accessing it from the top-level namespace will also be removed in the next version\n",
      "  from pandas import Panel\n"
     ]
    }
   ],
   "source": [
    "tqdm.pandas()"
   ]
  },
  {
   "cell_type": "code",
   "execution_count": 10,
   "metadata": {},
   "outputs": [],
   "source": [
    "import os\n",
    "os.environ['GOOGLE_APPLICATION_CREDENTIALS'] = 'data/service.json'"
   ]
  },
  {
   "cell_type": "code",
   "execution_count": 3,
   "metadata": {},
   "outputs": [],
   "source": [
    "from google.oauth2 import service_account\n",
    "from googleapiclient.discovery import build\n",
    "\n",
    "SCOPES = ['https://www.googleapis.com/auth/documents.readonly']\n",
    "SCOPES += ['https://www.googleapis.com/auth/drive.metadata.readonly']\n",
    "SERVICE_ACCOUNT_FILE = 'data/service.json'\n",
    "\n",
    "creds = service_account.Credentials.from_service_account_file(\n",
    "        SERVICE_ACCOUNT_FILE, scopes=SCOPES)"
   ]
  },
  {
   "cell_type": "code",
   "execution_count": 7,
   "metadata": {},
   "outputs": [],
   "source": [
    "def get_doc_content(doc_id):\n",
    "    service = build('docs', 'v1', credentials=creds)\n",
    "\n",
    "    # Retrieve the documents contents from the Docs service.\n",
    "    document = service.documents().get(documentId=doc_id).execute()\n",
    "\n",
    "    paragraphs = [paragraph['paragraph'] for paragraph in document['body']['content'] if 'paragraph' in paragraph]\n",
    "    elements = [element['textRun']['content'] for p in paragraphs for element in p['elements']]\n",
    "    \n",
    "    return ''.join(elements)\n",
    "\n"
   ]
  },
  {
   "cell_type": "code",
   "execution_count": null,
   "metadata": {},
   "outputs": [],
   "source": [
    "# get file\n",
    "# get date per file\n",
    "# translate file\n",
    "# get file sentiment"
   ]
  },
  {
   "cell_type": "code",
   "execution_count": 51,
   "metadata": {},
   "outputs": [],
   "source": [
    "def translate_text(text=\"Hello, world!\", project_id=\"swift-clarity-183805\"):\n",
    "\n",
    "    client = translate.TranslationServiceClient()\n",
    "    location = \"global\"\n",
    "    parent = f\"projects/{project_id}/locations/{location}\"\n",
    "    \n",
    "    response = client.translate_text(\n",
    "        request={\n",
    "            \"parent\": parent,\n",
    "            \"contents\": [text],\n",
    "            \"mime_type\": \"text/plain\",\n",
    "            \"source_language_code\": \"he\",\n",
    "            \"target_language_code\": \"en-US\",\n",
    "        }\n",
    "    )\n",
    "\n",
    "    for translation in response.translations:\n",
    "        yield(\"Translated text: {}\".format(translation.translated_text))\n",
    "\n"
   ]
  },
  {
   "cell_type": "code",
   "execution_count": 31,
   "metadata": {},
   "outputs": [],
   "source": [
    "def split_to_sentences(data):\n",
    "    sentences = [s for d in data for s in d.split('\\n')]\n",
    "    sentences = [s.strip() for s in sentences]\n",
    "    sentences = [re.sub('&#39;', '\\'', s) for s in sentences]\n",
    "    sentences = [re.sub('…', '...', s) for s in sentences]\n",
    "    sentences = [s for line in sentences for s in sent_tokenize(line) if s]\n",
    "    new_sentences = []\n",
    "    for s in sentences:\n",
    "        if len(s)>=512:\n",
    "            new_sentences += s.split(',')\n",
    "        else:\n",
    "            new_sentences.append(s)\n",
    "    return new_sentences"
   ]
  },
  {
   "cell_type": "code",
   "execution_count": 12,
   "metadata": {},
   "outputs": [],
   "source": [
    "service = build('drive', 'v3', credentials=creds)"
   ]
  },
  {
   "cell_type": "code",
   "execution_count": 73,
   "metadata": {},
   "outputs": [],
   "source": [
    "file_list = service.files().list(pageSize=1000).execute()"
   ]
  },
  {
   "cell_type": "code",
   "execution_count": 74,
   "metadata": {},
   "outputs": [],
   "source": [
    "files = file_list['files']"
   ]
  },
  {
   "cell_type": "code",
   "execution_count": 75,
   "metadata": {},
   "outputs": [
    {
     "data": {
      "text/plain": [
       "{'kind': 'drive#file',\n",
       " 'id': '1MYr8DigaeVwMBVripFXGWF6Gvi7N0-QDXTp4vGV_A50',\n",
       " 'name': 'Untitled document',\n",
       " 'mimeType': 'application/vnd.google-apps.document'}"
      ]
     },
     "execution_count": 75,
     "metadata": {},
     "output_type": "execute_result"
    }
   ],
   "source": [
    "files[0]"
   ]
  },
  {
   "cell_type": "code",
   "execution_count": 76,
   "metadata": {},
   "outputs": [
    {
     "data": {
      "application/vnd.jupyter.widget-view+json": {
       "model_id": "71dfc2e025aa4861a4d8b50743db3644",
       "version_major": 2,
       "version_minor": 0
      },
      "text/plain": [
       "HBox(children=(FloatProgress(value=0.0, max=809.0), HTML(value='')))"
      ]
     },
     "metadata": {},
     "output_type": "display_data"
    },
    {
     "name": "stdout",
     "output_type": "stream",
     "text": [
      "\n"
     ]
    }
   ],
   "source": [
    "for f in tqdm(files):\n",
    "    f.update(service.files().get(fileId=f['id'], fields=\"createdTime\").execute())"
   ]
  },
  {
   "cell_type": "code",
   "execution_count": null,
   "metadata": {},
   "outputs": [],
   "source": [
    "sentiment_pipeline = pipeline(\"sentiment-analysis\")"
   ]
  },
  {
   "cell_type": "code",
   "execution_count": 52,
   "metadata": {},
   "outputs": [],
   "source": [
    "def get_sentiment(data):\n",
    "    data = [s for p in data for s in split_to_sentences(p)]\n",
    "    sentiments = sentiment_pipeline(data)\n",
    "    score = sum(s['score'] if s['label']=='POSITIVE' else -s['score'] for s in sentiments)/len(sentiments)\n",
    "    return score"
   ]
  },
  {
   "cell_type": "code",
   "execution_count": 78,
   "metadata": {},
   "outputs": [],
   "source": [
    "files_df = pd.DataFrame(files)"
   ]
  },
  {
   "cell_type": "code",
   "execution_count": 80,
   "metadata": {},
   "outputs": [],
   "source": [
    "files_df.to_csv('data/thoughts/files_metadata.csv')"
   ]
  },
  {
   "cell_type": "code",
   "execution_count": 63,
   "metadata": {},
   "outputs": [],
   "source": [
    "# ! mkdir data/thoughts/ids"
   ]
  },
  {
   "cell_type": "code",
   "execution_count": null,
   "metadata": {},
   "outputs": [
    {
     "data": {
      "application/vnd.jupyter.widget-view+json": {
       "model_id": "84027d6ba9134a75b205676ea7578321",
       "version_major": 2,
       "version_minor": 0
      },
      "text/plain": [
       "HBox(children=(FloatProgress(value=0.0), HTML(value='')))"
      ]
     },
     "metadata": {},
     "output_type": "display_data"
    }
   ],
   "source": [
    "for file in tqdm(files):\n",
    "    if file['mimeType']!='application/vnd.google-apps.document':\n",
    "        continue\n",
    "    if os.path.exists(f\"data/thoughts/ids/{file['id']}.txt\"):\n",
    "        continue\n",
    "    content = get_doc_content(file['id'])\n",
    "    translation = translate_text(content)\n",
    "    with open(f'data/thoughts/ids/{file[\"id\"]}.txt', 'w') as f:\n",
    "        f.write('\\n'.join(translation))"
   ]
  },
  {
   "cell_type": "code",
   "execution_count": null,
   "metadata": {},
   "outputs": [],
   "source": []
  }
 ],
 "metadata": {
  "instance_type": "ml.t3.medium",
  "kernelspec": {
   "display_name": "Python 3 (Data Science)",
   "language": "python",
   "name": "python3__SAGEMAKER_INTERNAL__arn:aws:sagemaker:us-west-2:236514542706:image/datascience-1.0"
  },
  "language_info": {
   "codemirror_mode": {
    "name": "ipython",
    "version": 3
   },
   "file_extension": ".py",
   "mimetype": "text/x-python",
   "name": "python",
   "nbconvert_exporter": "python",
   "pygments_lexer": "ipython3",
   "version": "3.7.10"
  }
 },
 "nbformat": 4,
 "nbformat_minor": 4
}
