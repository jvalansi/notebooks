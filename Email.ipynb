{
 "cells": [
  {
   "cell_type": "code",
   "execution_count": 3,
   "metadata": {},
   "outputs": [],
   "source": [
    "import email\n",
    "import re\n",
    "import xml.etree.ElementTree as ET\n"
   ]
  },
  {
   "cell_type": "code",
   "execution_count": 4,
   "metadata": {},
   "outputs": [],
   "source": [
    "from bs4 import BeautifulSoup"
   ]
  },
  {
   "cell_type": "code",
   "execution_count": null,
   "metadata": {},
   "outputs": [],
   "source": [
    "with open('data/Bobe.mbox') as f:\n",
    "    data = f.read()\n"
   ]
  },
  {
   "cell_type": "code",
   "execution_count": 12,
   "metadata": {},
   "outputs": [],
   "source": [
    "quotes = re.findall(\"[\\\"\\'].+[\\\"\\']\", data)"
   ]
  },
  {
   "cell_type": "code",
   "execution_count": 4,
   "metadata": {},
   "outputs": [],
   "source": [
    "messages = re.split('X-GM-THRID', data)"
   ]
  },
  {
   "cell_type": "code",
   "execution_count": 5,
   "metadata": {},
   "outputs": [],
   "source": [
    "message = messages[7]"
   ]
  },
  {
   "cell_type": "code",
   "execution_count": 6,
   "metadata": {},
   "outputs": [],
   "source": [
    "submessages = re.split('Content-Type: ', message)"
   ]
  },
  {
   "cell_type": "code",
   "execution_count": 7,
   "metadata": {},
   "outputs": [],
   "source": [
    "text_messages = [submessage for submessage in submessages if submessage.startswith('text/html;') or submessage.startswith('text/plain;')]"
   ]
  },
  {
   "cell_type": "code",
   "execution_count": 8,
   "metadata": {},
   "outputs": [
    {
     "data": {
      "text/plain": [
       "'text/plain; charset=UTF-8\\nContent-Transfer-Encoding: quoted-printable\\n\\nQue tal Bobe!\\ne parece un lindisimo proyecto.\\nBusque algunos fotos de la historia del parque Chacabuco, y eso es lo que\\nencontre:\\n\\n\\n\\n\\n\\n=E2=80=8Bespero que son deveras de ahi, pero no puedo saver.\\npodes fijar en este link:\\nhttps://www.google.fr/search?q=3Dchacabuco+park+old+photos&client=3Dubuntu&=\\nhs=3D8l3&channel=3Dfs&biw=3D1301&bih=3D671&tbm=3Disch&tbo=3Du&source=3Duniv=\\n&sa=3DX&ved=3D0ahUKEwi4hPqavP_MAhWBhRoKHXjIAsMQsAQIGw#channel=3Dfs&tbm=3Dis=\\nch&q=3Dparque+chacabuco+historia\\n\\nNosotros estamos bien.\\nShiran todavia esta en Israel porque tiene que terminar los estudios. En ~7\\nmese vamos a pasar a estados unis, y mas o menos, empesar la vida, ojala.\\n\\nTe extrano mucho! Abrazo!\\n- Then\\n\\n\\n2016-05-29 16:04 GMT+02:00 juana ceitlin <jceitlin@yahoo.com.ar>:\\n\\n>     hoy es un dia nostalgico ...lluvioso , frio ,propiamente un dia de\\n> invierno , propio para remember \" y asi surgen los recuerdos que se mezcl=\\nan\\n> con las realidades y asi , de la mano rondan mi cabeza y palpitan en mi\\n> coraz=C3=B3n...Then querido estoy en un proyecto ambicioso de escribir so=\\nbre el\\n> barrio en que me crie parque Chacabuco donde pas=C3=A9 mi infancia hasta =\\nque me\\n> cas=C3=A9 con el abuelo , ari que imaginate , . Se formo un centro cultur=\\nal y\\n> quieren conocer su historia ....asi que estoy buscando fotos antiguas ,\\n> asimismo publicaciones .....imaginate 1930 a 2016.....no se que puede sal=\\nir\\n> de todo esto , veremos ....Y volviendo a la realidad , como est=C3=A1 mi\\n> princesa ?, cuando me traer=C3=A1n al principito ? ser=C3=A1 hermoso ,...=\\n.sigo\\n> so=C3=B1ando ....Bobe.\\n>\\n\\n--94eb2c04efa891947e0533fbe596\\n'"
      ]
     },
     "execution_count": 8,
     "metadata": {},
     "output_type": "execute_result"
    }
   ],
   "source": [
    "text_messages[0]"
   ]
  },
  {
   "cell_type": "code",
   "execution_count": 9,
   "metadata": {},
   "outputs": [],
   "source": [
    "html_messages = []\n",
    "plain_messages = []\n",
    "for message in messages:\n",
    "    submessages = re.split('Content-Type: ', message)\n",
    "    html_messages += [submessage for submessage in submessages if submessage.startswith('text/html;')]\n",
    "    plain_messages += [submessage for submessage in submessages if submessage.startswith('text/plain;')]"
   ]
  },
  {
   "cell_type": "code",
   "execution_count": 10,
   "metadata": {},
   "outputs": [
    {
     "data": {
      "text/plain": [
       "295"
      ]
     },
     "execution_count": 10,
     "metadata": {},
     "output_type": "execute_result"
    }
   ],
   "source": [
    "len(html_messages)"
   ]
  },
  {
   "cell_type": "code",
   "execution_count": 11,
   "metadata": {},
   "outputs": [
    {
     "data": {
      "text/plain": [
       "300"
      ]
     },
     "execution_count": 11,
     "metadata": {},
     "output_type": "execute_result"
    }
   ],
   "source": [
    "len(plain_messages)"
   ]
  },
  {
   "cell_type": "code",
   "execution_count": 12,
   "metadata": {},
   "outputs": [
    {
     "data": {
      "text/plain": [
       "302"
      ]
     },
     "execution_count": 12,
     "metadata": {},
     "output_type": "execute_result"
    }
   ],
   "source": [
    "len(messages)"
   ]
  },
  {
   "cell_type": "code",
   "execution_count": 14,
   "metadata": {},
   "outputs": [],
   "source": [
    "all_plain = '\\n\\n'.join(plain_messages)"
   ]
  },
  {
   "cell_type": "code",
   "execution_count": 111,
   "metadata": {},
   "outputs": [],
   "source": [
    "quotes = re.findall(f'[{quotation_marks}].+?[{quotation_marks}]', all_plain)"
   ]
  },
  {
   "cell_type": "code",
   "execution_count": 112,
   "metadata": {},
   "outputs": [
    {
     "data": {
      "text/plain": [
       "{'\" el eterno \"',\n",
       " '\" hola bobesita , vengo a pasar las navidades \"',\n",
       " '\"Burning Man\"',\n",
       " '\"C\"',\n",
       " '\"Coachella\"',\n",
       " '\"Conchella\"',\n",
       " '\"Daniel martinez\"',\n",
       " '\"Delicia Tejo\"',\n",
       " '\"Google\"',\n",
       " '\"Hegel\"',\n",
       " '\"Julio Ceitlin\"',\n",
       " '\"NUNCA OCURRI=C3=93\"',\n",
       " '\"NUNCA OCURRI=D3\"',\n",
       " '\"Origen (Inception)\"',\n",
       " '\"Tanaj\"',\n",
       " '\"Thanksgiving\"',\n",
       " '\"Tora\"',\n",
       " '\"UTF-8\"',\n",
       " '\"Vipassana\"',\n",
       " '\"enderezar el volante cuando el coche se ladea\"',\n",
       " '\"filosoficas \"',\n",
       " '\"for ever \"',\n",
       " '\"google\"',\n",
       " '\"horizon\"',\n",
       " '\"juana ceitlin\"',\n",
       " '\"mil milenios de paz \"',\n",
       " '\"mishlei\"',\n",
       " '\"no es nada \"',\n",
       " '\"ofende\"',\n",
       " '\"pamela dimarco\"',\n",
       " '\"precioso\"',\n",
       " '\"sabiduria\"',\n",
       " '\"somewhere over the rainbow \"',\n",
       " '\"un canal\"',\n",
       " '\"un mito,\"',\n",
       " '\"vacasiones\"'}"
      ]
     },
     "execution_count": 112,
     "metadata": {},
     "output_type": "execute_result"
    }
   ],
   "source": [
    "set(quotes)"
   ]
  },
  {
   "cell_type": "code",
   "execution_count": 44,
   "metadata": {},
   "outputs": [],
   "source": [
    "all_html = '\\n\\n'.join(html_messages)"
   ]
  },
  {
   "cell_type": "code",
   "execution_count": 42,
   "metadata": {},
   "outputs": [],
   "source": [
    "quotes = re.findall(f'[{quotation_marks}].+[{quotation_marks}]', all_plain)"
   ]
  },
  {
   "cell_type": "code",
   "execution_count": 104,
   "metadata": {},
   "outputs": [],
   "source": [
    "def get_text(html_message):\n",
    "    message = re.sub(\"^text/html; .+?(?=<)\", \"\", html_message, flags=re.DOTALL)\n",
    "    message = re.sub(\"[^>]*?$\", \"\", message, flags=re.DOTALL)\n",
    "    soup = BeautifulSoup(message, 'html.parser')\n",
    "    return soup.get_text()\n"
   ]
  },
  {
   "cell_type": "code",
   "execution_count": 105,
   "metadata": {},
   "outputs": [],
   "source": [
    "text_messages = []\n",
    "for message in html_messages:\n",
    "    text_messages.append(get_text(message))"
   ]
  },
  {
   "cell_type": "code",
   "execution_count": 106,
   "metadata": {},
   "outputs": [],
   "source": [
    "all_text = '\\n\\n'.join(text_messages)"
   ]
  },
  {
   "cell_type": "code",
   "execution_count": 107,
   "metadata": {},
   "outputs": [],
   "source": [
    "quotes = re.findall(f'[{quotation_marks}].+[{quotation_marks}]', all_text)"
   ]
  },
  {
   "cell_type": "code",
   "execution_count": 108,
   "metadata": {},
   "outputs": [
    {
     "data": {
      "text/plain": [
       "{'\" <deliciatejo07@yahoo.com.ar>, \"Daniel martinez\"',\n",
       " '\" class=3D\"',\n",
       " '\" el eterno \"ser o no ser \"',\n",
       " '\" href=3D\"',\n",
       " '\" o el \"Tanaj\"',\n",
       " '\" style=3D\"',\n",
       " '\" target=3D\"_blank\"',\n",
       " '\" target=3D\"_blank\" href=3D\"mailto:jceitlin@yahoo.com.ar\"',\n",
       " '\" ymailto=3D\"',\n",
       " '\"\" id=3D\"\" style=3D\"',\n",
       " '\"#f7f7f7\" cellspacing=3D\"35\" width=3D\"100%\"',\n",
       " '\"160\" alt=3D\"\" border=3D\"0\"',\n",
       " '\"2\" face=3D\"Arial\"',\n",
       " '\"434\" height=3D\"578\"',\n",
       " '\"Burning Man\"',\n",
       " '\"C\"',\n",
       " '\"Conchella\" pero los americanos le llaman \"',\n",
       " '\"FONT-WEIGHT: bold\"',\n",
       " '\"Google\"',\n",
       " '\"Hegel\"',\n",
       " '\"Hola bobe , vengo a pasar las navidades \"',\n",
       " '\"Julio Ceitlin\"',\n",
       " '\"NUNCA OCURRI=C3=93\"',\n",
       " '\"NUNCA OCURRI=D3\"',\n",
       " '\"Origen (Inception)\"',\n",
       " '\"RIGHT: auto\"',\n",
       " '\"Thanksgiving\"',\n",
       " '\"Times New Roman\"',\n",
       " '\"Verdana\" size=3D\"-2\"',\n",
       " '\"Vipassana\"',\n",
       " '\"Wj3C7c\"',\n",
       " '\"_blank\"',\n",
       " '\"cid:1286380155766@dclient.mail.yahoo.com\" width=3D\"160\"',\n",
       " '\"cid:1286393476252@dclient.mail.yahoo.com\" width=3D\"160\"',\n",
       " '\"cid:1286397010454@dclient.mail.yahoo.com\" width=3D\"160\"',\n",
       " '\"cid:ii_j3rhlqcw8_15c92ce75888dcc8\" width=3D\"434\" height=3D\"578\"',\n",
       " '\"cid:ii_j8ffvec92_15ef01da9eb60857\" style=3D\"margin-right: 0px;\"',\n",
       " '\"cid:ii_jdb5lpeu5_161696734d3bf56d\" height=3D\"411\" width=3D\"547\"',\n",
       " '\"cid:ii_jlq6h6871\" alt=3D\"IMG_1882.jpg\" width=3D\"422\" height=3D\"',\n",
       " '\"enderezar el volante cuando el coche se ladea\"',\n",
       " '\"filosoficas \"',\n",
       " '\"font-weight:bold\"',\n",
       " '\"for ever \"',\n",
       " '\"gmail_extra m_4586569547121121717m_67099567930722571gmail_msg\"',\n",
       " '\"gmail_msg\"',\n",
       " '\"google\"',\n",
       " '\"http://www.correomagico.com/pickupcard.asp\" rel=3D\"nofollow\"',\n",
       " '\"juana ceitlin\"',\n",
       " '\"ltr\"',\n",
       " '\"m_67099567930722571gmail_msg\"',\n",
       " '\"mailto:jceitlin@yahoo.com.ar\"',\n",
       " '\"mailto:jceitlin@yahoo.com.ar\" rel=3D\"nofollow\" class=3D\"',\n",
       " '\"mailto:jceitlin@yahoo.com.ar\" rel=3D\"nofollow\" target=3D\"_blank\"',\n",
       " '\"mailto:jceitlin@yahoo.com.ar\" target=3D\"_blank\"',\n",
       " '\"mailto:jceitlin@yahoo.com.ar\" target=3D\"_blank\" rel=3D\"nofollow\"',\n",
       " '\"mailto:jvalansi@gmail.com\" target=3D\"_blank\"',\n",
       " '\"mailto:sgongorra@gmail.com\"',\n",
       " '\"mishlei\") talbes te gustaria estudiar un poco la \"',\n",
       " '\"no es nada \"',\n",
       " '\"nofollow\" shape=3D\"rect\" class=3D\"',\n",
       " '\"none\"',\n",
       " '\"none\" class=3D\"',\n",
       " '\"ofende\"',\n",
       " '\"pamela dimarco\" <.pameladimarco@gmail.com>, \"',\n",
       " '\"precioso\"',\n",
       " '\"sabiduria\"',\n",
       " '\"un canal\"',\n",
       " '\"vacasiones\"',\n",
       " '\"yiv3316020892\"',\n",
       " '\"yiv3739086156gmail_quote\" style=3D\"',\n",
       " '\"yiv9181238649\"'}"
      ]
     },
     "execution_count": 108,
     "metadata": {},
     "output_type": "execute_result"
    }
   ],
   "source": [
    "set(quotes)"
   ]
  },
  {
   "cell_type": "code",
   "execution_count": 40,
   "metadata": {},
   "outputs": [],
   "source": [
    "# Quotation Marks\n",
    "quotation_marks = \"\"\"«‹»›„“‟”’\"❝❞❮❯⹂〝〞〟＂‚‘‛❛❜❟\"\"\"\n"
   ]
  },
  {
   "cell_type": "code",
   "execution_count": 35,
   "metadata": {},
   "outputs": [],
   "source": [
    "quotation_marks = re.escape(quotation_marks)"
   ]
  },
  {
   "cell_type": "code",
   "execution_count": 41,
   "metadata": {},
   "outputs": [
    {
     "data": {
      "text/plain": [
       "True"
      ]
     },
     "execution_count": 41,
     "metadata": {},
     "output_type": "execute_result"
    }
   ],
   "source": [
    "\"\\\"\" in quotation_marks"
   ]
  },
  {
   "cell_type": "code",
   "execution_count": null,
   "metadata": {},
   "outputs": [],
   "source": []
  }
 ],
 "metadata": {
  "instance_type": "ml.t3.medium",
  "kernelspec": {
   "display_name": "Python 3 (Data Science)",
   "language": "python",
   "name": "python3__SAGEMAKER_INTERNAL__arn:aws:sagemaker:us-west-2:236514542706:image/datascience-1.0"
  },
  "language_info": {
   "codemirror_mode": {
    "name": "ipython",
    "version": 3
   },
   "file_extension": ".py",
   "mimetype": "text/x-python",
   "name": "python",
   "nbconvert_exporter": "python",
   "pygments_lexer": "ipython3",
   "version": "3.7.10"
  }
 },
 "nbformat": 4,
 "nbformat_minor": 4
}
