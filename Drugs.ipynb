{
 "cells": [
  {
   "cell_type": "code",
   "execution_count": 14,
   "id": "4d55e93e",
   "metadata": {},
   "outputs": [],
   "source": [
    "import pandas as pd\n",
    "import numpy as np\n",
    "import wikipedia\n",
    "from tqdm.auto import tqdm"
   ]
  },
  {
   "cell_type": "code",
   "execution_count": 15,
   "id": "143fe0a2",
   "metadata": {},
   "outputs": [],
   "source": [
    "tqdm.pandas()"
   ]
  },
  {
   "cell_type": "code",
   "execution_count": 4,
   "id": "b21c65ad",
   "metadata": {},
   "outputs": [],
   "source": [
    "html = pd.read_html('https://clincalc.com/DrugStats/Top300Drugs.aspx')"
   ]
  },
  {
   "cell_type": "code",
   "execution_count": 6,
   "id": "a6a02784",
   "metadata": {},
   "outputs": [],
   "source": [
    "df = html[0]"
   ]
  },
  {
   "cell_type": "code",
   "execution_count": 7,
   "id": "bdc8c4f7",
   "metadata": {},
   "outputs": [
    {
     "data": {
      "text/html": [
       "<div>\n",
       "<style scoped>\n",
       "    .dataframe tbody tr th:only-of-type {\n",
       "        vertical-align: middle;\n",
       "    }\n",
       "\n",
       "    .dataframe tbody tr th {\n",
       "        vertical-align: top;\n",
       "    }\n",
       "\n",
       "    .dataframe thead th {\n",
       "        text-align: right;\n",
       "    }\n",
       "</style>\n",
       "<table border=\"1\" class=\"dataframe\">\n",
       "  <thead>\n",
       "    <tr style=\"text-align: right;\">\n",
       "      <th></th>\n",
       "      <th>Rank</th>\n",
       "      <th>Drug Name</th>\n",
       "      <th>Total Prescriptions (2018)</th>\n",
       "      <th>Total Patients (2018)</th>\n",
       "      <th>Annual Change</th>\n",
       "    </tr>\n",
       "  </thead>\n",
       "  <tbody>\n",
       "    <tr>\n",
       "      <th>0</th>\n",
       "      <td>1</td>\n",
       "      <td>Atorvastatin</td>\n",
       "      <td>112474023</td>\n",
       "      <td>23393083</td>\n",
       "      <td>1</td>\n",
       "    </tr>\n",
       "    <tr>\n",
       "      <th>1</th>\n",
       "      <td>2</td>\n",
       "      <td>Levothyroxine</td>\n",
       "      <td>105773990</td>\n",
       "      <td>19448097</td>\n",
       "      <td>1</td>\n",
       "    </tr>\n",
       "    <tr>\n",
       "      <th>2</th>\n",
       "      <td>3</td>\n",
       "      <td>Lisinopril</td>\n",
       "      <td>97608879</td>\n",
       "      <td>19941170</td>\n",
       "      <td>2</td>\n",
       "    </tr>\n",
       "    <tr>\n",
       "      <th>3</th>\n",
       "      <td>4</td>\n",
       "      <td>Metformin Hydrochloride</td>\n",
       "      <td>83762981</td>\n",
       "      <td>16865776</td>\n",
       "      <td>0</td>\n",
       "    </tr>\n",
       "    <tr>\n",
       "      <th>4</th>\n",
       "      <td>5</td>\n",
       "      <td>Amlodipine</td>\n",
       "      <td>75811947</td>\n",
       "      <td>15851641</td>\n",
       "      <td>0</td>\n",
       "    </tr>\n",
       "  </tbody>\n",
       "</table>\n",
       "</div>"
      ],
      "text/plain": [
       "   Rank                Drug Name  Total Prescriptions (2018)  \\\n",
       "0     1             Atorvastatin                   112474023   \n",
       "1     2            Levothyroxine                   105773990   \n",
       "2     3               Lisinopril                    97608879   \n",
       "3     4  Metformin Hydrochloride                    83762981   \n",
       "4     5               Amlodipine                    75811947   \n",
       "\n",
       "   Total Patients (2018)  Annual Change  \n",
       "0               23393083              1  \n",
       "1               19448097              1  \n",
       "2               19941170              2  \n",
       "3               16865776              0  \n",
       "4               15851641              0  "
      ]
     },
     "execution_count": 7,
     "metadata": {},
     "output_type": "execute_result"
    }
   ],
   "source": [
    "df.head()"
   ]
  },
  {
   "cell_type": "code",
   "execution_count": 8,
   "id": "c4c04e2a",
   "metadata": {},
   "outputs": [
    {
     "data": {
      "text/plain": [
       "'Atorvastatin'"
      ]
     },
     "execution_count": 8,
     "metadata": {},
     "output_type": "execute_result"
    }
   ],
   "source": [
    "df.loc[0, 'Drug Name']"
   ]
  },
  {
   "cell_type": "code",
   "execution_count": 13,
   "id": "2809fdf0",
   "metadata": {},
   "outputs": [
    {
     "data": {
      "text/plain": [
       "'Atorvastatin, sold under the brand name Lipitor among others, is a statin medication used to prevent cardiovascular disease in those at high risk and to treat abnormal lipid levels. For the prevention of cardiovascular disease, statins are a first-line treatment. It is taken by mouth.Common side effects include joint pain, diarrhea, heartburn, nausea, and muscle pains. Serious side effects may include rhabdomyolysis, liver problems, and diabetes. Use during pregnancy may harm the fetus. Like all statins, atorvastatin works by inhibiting HMG-CoA reductase, an enzyme found in the liver that plays a role in producing cholesterol.Atorvastatin was patented in 1986, and approved for medical use in the United States in 1996. It is available as a generic medication. In 2018, it was the most commonly prescribed medication in the United States, with more than 112 million prescriptions.\\n\\n'"
      ]
     },
     "execution_count": 13,
     "metadata": {},
     "output_type": "execute_result"
    }
   ],
   "source": [
    "wikipedia.summary(df.loc[0, 'Drug Name'])"
   ]
  },
  {
   "cell_type": "code",
   "execution_count": 28,
   "id": "c6c2ab0a",
   "metadata": {},
   "outputs": [],
   "source": [
    "def get_summary(x):\n",
    "        try:\n",
    "            return wikipedia.summary(x)\n",
    "        except (wikipedia.DisambiguationError, wikipedia.PageError):\n",
    "#             x = wikipedia.search(x)[0]\n",
    "#             return wikipedia.summary(x)\n",
    "            return \"\""
   ]
  },
  {
   "cell_type": "code",
   "execution_count": 29,
   "id": "5ad534d0",
   "metadata": {},
   "outputs": [
    {
     "data": {
      "application/vnd.jupyter.widget-view+json": {
       "model_id": "e73fedaf501a439db9c91556bd779cde",
       "version_major": 2,
       "version_minor": 0
      },
      "text/plain": [
       "  0%|          | 0/300 [00:00<?, ?it/s]"
      ]
     },
     "metadata": {},
     "output_type": "display_data"
    },
    {
     "name": "stderr",
     "output_type": "stream",
     "text": [
      "/home/ec2-user/anaconda3/envs/pytorch_p36/lib/python3.6/site-packages/wikipedia/wikipedia.py:389: GuessedAtParserWarning: No parser was explicitly specified, so I'm using the best available HTML parser for this system (\"lxml\"). This usually isn't a problem, but if you run this code on another system, or in a different virtual environment, it may use a different parser and behave differently.\n",
      "\n",
      "The code that caused this warning is on line 389 of the file /home/ec2-user/anaconda3/envs/pytorch_p36/lib/python3.6/site-packages/wikipedia/wikipedia.py. To get rid of this warning, pass the additional argument 'features=\"lxml\"' to the BeautifulSoup constructor.\n",
      "\n",
      "  lis = BeautifulSoup(html).find_all('li')\n"
     ]
    }
   ],
   "source": [
    "df['Summary'] = df['Drug Name'].progress_apply(get_summary)"
   ]
  },
  {
   "cell_type": "code",
   "execution_count": 30,
   "id": "7c038160",
   "metadata": {},
   "outputs": [
    {
     "data": {
      "text/html": [
       "<div>\n",
       "<style scoped>\n",
       "    .dataframe tbody tr th:only-of-type {\n",
       "        vertical-align: middle;\n",
       "    }\n",
       "\n",
       "    .dataframe tbody tr th {\n",
       "        vertical-align: top;\n",
       "    }\n",
       "\n",
       "    .dataframe thead th {\n",
       "        text-align: right;\n",
       "    }\n",
       "</style>\n",
       "<table border=\"1\" class=\"dataframe\">\n",
       "  <thead>\n",
       "    <tr style=\"text-align: right;\">\n",
       "      <th></th>\n",
       "      <th>Rank</th>\n",
       "      <th>Drug Name</th>\n",
       "      <th>Total Prescriptions (2018)</th>\n",
       "      <th>Total Patients (2018)</th>\n",
       "      <th>Annual Change</th>\n",
       "      <th>Summary</th>\n",
       "    </tr>\n",
       "  </thead>\n",
       "  <tbody>\n",
       "    <tr>\n",
       "      <th>0</th>\n",
       "      <td>1</td>\n",
       "      <td>Atorvastatin</td>\n",
       "      <td>112474023</td>\n",
       "      <td>23393083</td>\n",
       "      <td>1</td>\n",
       "      <td>Atorvastatin, sold under the brand name Lipito...</td>\n",
       "    </tr>\n",
       "    <tr>\n",
       "      <th>1</th>\n",
       "      <td>2</td>\n",
       "      <td>Levothyroxine</td>\n",
       "      <td>105773990</td>\n",
       "      <td>19448097</td>\n",
       "      <td>1</td>\n",
       "      <td>Levothyroxine, also known as L-thyroxine, is a...</td>\n",
       "    </tr>\n",
       "    <tr>\n",
       "      <th>2</th>\n",
       "      <td>3</td>\n",
       "      <td>Lisinopril</td>\n",
       "      <td>97608879</td>\n",
       "      <td>19941170</td>\n",
       "      <td>2</td>\n",
       "      <td>Lisinopril is a medication of the angiotensin-...</td>\n",
       "    </tr>\n",
       "    <tr>\n",
       "      <th>3</th>\n",
       "      <td>4</td>\n",
       "      <td>Metformin Hydrochloride</td>\n",
       "      <td>83762981</td>\n",
       "      <td>16865776</td>\n",
       "      <td>0</td>\n",
       "      <td>Metformin, sold under the brand name Glucophag...</td>\n",
       "    </tr>\n",
       "    <tr>\n",
       "      <th>4</th>\n",
       "      <td>5</td>\n",
       "      <td>Amlodipine</td>\n",
       "      <td>75811947</td>\n",
       "      <td>15851641</td>\n",
       "      <td>0</td>\n",
       "      <td>Amlodipine is a calcium channel blocker medica...</td>\n",
       "    </tr>\n",
       "  </tbody>\n",
       "</table>\n",
       "</div>"
      ],
      "text/plain": [
       "   Rank                Drug Name  Total Prescriptions (2018)  \\\n",
       "0     1             Atorvastatin                   112474023   \n",
       "1     2            Levothyroxine                   105773990   \n",
       "2     3               Lisinopril                    97608879   \n",
       "3     4  Metformin Hydrochloride                    83762981   \n",
       "4     5               Amlodipine                    75811947   \n",
       "\n",
       "   Total Patients (2018)  Annual Change  \\\n",
       "0               23393083              1   \n",
       "1               19448097              1   \n",
       "2               19941170              2   \n",
       "3               16865776              0   \n",
       "4               15851641              0   \n",
       "\n",
       "                                             Summary  \n",
       "0  Atorvastatin, sold under the brand name Lipito...  \n",
       "1  Levothyroxine, also known as L-thyroxine, is a...  \n",
       "2  Lisinopril is a medication of the angiotensin-...  \n",
       "3  Metformin, sold under the brand name Glucophag...  \n",
       "4  Amlodipine is a calcium channel blocker medica...  "
      ]
     },
     "execution_count": 30,
     "metadata": {},
     "output_type": "execute_result"
    }
   ],
   "source": [
    "df.head()"
   ]
  },
  {
   "cell_type": "code",
   "execution_count": 31,
   "id": "7514d90b",
   "metadata": {},
   "outputs": [
    {
     "data": {
      "application/vnd.jupyter.widget-view+json": {
       "model_id": "15c7dd3c5f0e433fb071b03c4b8cddcc",
       "version_major": 2,
       "version_minor": 0
      },
      "text/plain": [
       "  0%|          | 0/300 [00:00<?, ?it/s]"
      ]
     },
     "metadata": {},
     "output_type": "display_data"
    }
   ],
   "source": [
    "df['Is antidepressant'] = df['Summary'].progress_apply(lambda x: 'antidepressant' in x)"
   ]
  },
  {
   "cell_type": "code",
   "execution_count": 32,
   "id": "5b9dba16",
   "metadata": {},
   "outputs": [
    {
     "data": {
      "text/html": [
       "<div>\n",
       "<style scoped>\n",
       "    .dataframe tbody tr th:only-of-type {\n",
       "        vertical-align: middle;\n",
       "    }\n",
       "\n",
       "    .dataframe tbody tr th {\n",
       "        vertical-align: top;\n",
       "    }\n",
       "\n",
       "    .dataframe thead th {\n",
       "        text-align: right;\n",
       "    }\n",
       "</style>\n",
       "<table border=\"1\" class=\"dataframe\">\n",
       "  <thead>\n",
       "    <tr style=\"text-align: right;\">\n",
       "      <th></th>\n",
       "      <th>Rank</th>\n",
       "      <th>Drug Name</th>\n",
       "      <th>Total Prescriptions (2018)</th>\n",
       "      <th>Total Patients (2018)</th>\n",
       "      <th>Annual Change</th>\n",
       "      <th>Summary</th>\n",
       "      <th>Is antidepressant</th>\n",
       "    </tr>\n",
       "  </thead>\n",
       "  <tbody>\n",
       "    <tr>\n",
       "      <th>13</th>\n",
       "      <td>14</td>\n",
       "      <td>Sertraline Hydrochloride</td>\n",
       "      <td>38383042</td>\n",
       "      <td>7529389</td>\n",
       "      <td>0</td>\n",
       "      <td>Sertraline, sold under the brand name Zoloft a...</td>\n",
       "      <td>True</td>\n",
       "    </tr>\n",
       "    <tr>\n",
       "      <th>21</th>\n",
       "      <td>22</td>\n",
       "      <td>Escitalopram Oxalate</td>\n",
       "      <td>25978773</td>\n",
       "      <td>5544406</td>\n",
       "      <td>2</td>\n",
       "      <td>Escitalopram, sold under the brand names Cipra...</td>\n",
       "      <td>True</td>\n",
       "    </tr>\n",
       "    <tr>\n",
       "      <th>22</th>\n",
       "      <td>23</td>\n",
       "      <td>Fluoxetine Hydrochloride</td>\n",
       "      <td>25619277</td>\n",
       "      <td>4752127</td>\n",
       "      <td>8</td>\n",
       "      <td>Fluoxetine, sold under the brand names Prozac ...</td>\n",
       "      <td>True</td>\n",
       "    </tr>\n",
       "    <tr>\n",
       "      <th>26</th>\n",
       "      <td>27</td>\n",
       "      <td>Bupropion</td>\n",
       "      <td>24488843</td>\n",
       "      <td>5046780</td>\n",
       "      <td>4</td>\n",
       "      <td>Bupropion, sold under the brand names Wellbutr...</td>\n",
       "      <td>True</td>\n",
       "    </tr>\n",
       "    <tr>\n",
       "      <th>30</th>\n",
       "      <td>31</td>\n",
       "      <td>Trazodone Hydrochloride</td>\n",
       "      <td>23889624</td>\n",
       "      <td>4677140</td>\n",
       "      <td>1</td>\n",
       "      <td>Trazodone, sold under many brand names, is an ...</td>\n",
       "      <td>True</td>\n",
       "    </tr>\n",
       "    <tr>\n",
       "      <th>34</th>\n",
       "      <td>35</td>\n",
       "      <td>Citalopram</td>\n",
       "      <td>22224263</td>\n",
       "      <td>4267101</td>\n",
       "      <td>9</td>\n",
       "      <td>Citalopram, sold under the brand name Celexa a...</td>\n",
       "      <td>True</td>\n",
       "    </tr>\n",
       "    <tr>\n",
       "      <th>49</th>\n",
       "      <td>50</td>\n",
       "      <td>Venlafaxine</td>\n",
       "      <td>16121149</td>\n",
       "      <td>2870792</td>\n",
       "      <td>1</td>\n",
       "      <td>Venlafaxine, sold under the brand name Effexor...</td>\n",
       "      <td>True</td>\n",
       "    </tr>\n",
       "    <tr>\n",
       "      <th>73</th>\n",
       "      <td>74</td>\n",
       "      <td>Paroxetine</td>\n",
       "      <td>11228908</td>\n",
       "      <td>2062982</td>\n",
       "      <td>6</td>\n",
       "      <td>Paroxetine, sold under the brand names Paxil a...</td>\n",
       "      <td>True</td>\n",
       "    </tr>\n",
       "    <tr>\n",
       "      <th>78</th>\n",
       "      <td>79</td>\n",
       "      <td>Amitriptyline</td>\n",
       "      <td>10282767</td>\n",
       "      <td>1980001</td>\n",
       "      <td>8</td>\n",
       "      <td>Amitriptyline, sold under the brand name Elavi...</td>\n",
       "      <td>True</td>\n",
       "    </tr>\n",
       "    <tr>\n",
       "      <th>98</th>\n",
       "      <td>99</td>\n",
       "      <td>Mirtazapine</td>\n",
       "      <td>7504257</td>\n",
       "      <td>1405315</td>\n",
       "      <td>20</td>\n",
       "      <td>Mirtazapine, sold under the brand name Remeron...</td>\n",
       "      <td>True</td>\n",
       "    </tr>\n",
       "    <tr>\n",
       "      <th>146</th>\n",
       "      <td>147</td>\n",
       "      <td>Nortriptyline Hydrochloride</td>\n",
       "      <td>4346899</td>\n",
       "      <td>1014388</td>\n",
       "      <td>36</td>\n",
       "      <td>Nortriptyline, sold under the brand name Pamel...</td>\n",
       "      <td>True</td>\n",
       "    </tr>\n",
       "    <tr>\n",
       "      <th>193</th>\n",
       "      <td>194</td>\n",
       "      <td>Lithium</td>\n",
       "      <td>3077611</td>\n",
       "      <td>452154</td>\n",
       "      <td>14</td>\n",
       "      <td>Lithium (from Greek: λίθος, romanized: lithos,...</td>\n",
       "      <td>True</td>\n",
       "    </tr>\n",
       "    <tr>\n",
       "      <th>210</th>\n",
       "      <td>211</td>\n",
       "      <td>Desvenlafaxine</td>\n",
       "      <td>2690813</td>\n",
       "      <td>562137</td>\n",
       "      <td>24</td>\n",
       "      <td>Desvenlafaxine, sold under the brand name Pris...</td>\n",
       "      <td>True</td>\n",
       "    </tr>\n",
       "    <tr>\n",
       "      <th>280</th>\n",
       "      <td>281</td>\n",
       "      <td>Doxepin Hydrochloride</td>\n",
       "      <td>1519876</td>\n",
       "      <td>402501</td>\n",
       "      <td>41</td>\n",
       "      <td>Doxepin is a medication used to treat major de...</td>\n",
       "      <td>True</td>\n",
       "    </tr>\n",
       "  </tbody>\n",
       "</table>\n",
       "</div>"
      ],
      "text/plain": [
       "     Rank                    Drug Name  Total Prescriptions (2018)  \\\n",
       "13     14     Sertraline Hydrochloride                    38383042   \n",
       "21     22         Escitalopram Oxalate                    25978773   \n",
       "22     23     Fluoxetine Hydrochloride                    25619277   \n",
       "26     27                    Bupropion                    24488843   \n",
       "30     31      Trazodone Hydrochloride                    23889624   \n",
       "34     35                   Citalopram                    22224263   \n",
       "49     50                  Venlafaxine                    16121149   \n",
       "73     74                   Paroxetine                    11228908   \n",
       "78     79                Amitriptyline                    10282767   \n",
       "98     99                  Mirtazapine                     7504257   \n",
       "146   147  Nortriptyline Hydrochloride                     4346899   \n",
       "193   194                      Lithium                     3077611   \n",
       "210   211               Desvenlafaxine                     2690813   \n",
       "280   281        Doxepin Hydrochloride                     1519876   \n",
       "\n",
       "     Total Patients (2018)  Annual Change  \\\n",
       "13                 7529389              0   \n",
       "21                 5544406              2   \n",
       "22                 4752127              8   \n",
       "26                 5046780              4   \n",
       "30                 4677140              1   \n",
       "34                 4267101              9   \n",
       "49                 2870792              1   \n",
       "73                 2062982              6   \n",
       "78                 1980001              8   \n",
       "98                 1405315             20   \n",
       "146                1014388             36   \n",
       "193                 452154             14   \n",
       "210                 562137             24   \n",
       "280                 402501             41   \n",
       "\n",
       "                                               Summary  Is antidepressant  \n",
       "13   Sertraline, sold under the brand name Zoloft a...               True  \n",
       "21   Escitalopram, sold under the brand names Cipra...               True  \n",
       "22   Fluoxetine, sold under the brand names Prozac ...               True  \n",
       "26   Bupropion, sold under the brand names Wellbutr...               True  \n",
       "30   Trazodone, sold under many brand names, is an ...               True  \n",
       "34   Citalopram, sold under the brand name Celexa a...               True  \n",
       "49   Venlafaxine, sold under the brand name Effexor...               True  \n",
       "73   Paroxetine, sold under the brand names Paxil a...               True  \n",
       "78   Amitriptyline, sold under the brand name Elavi...               True  \n",
       "98   Mirtazapine, sold under the brand name Remeron...               True  \n",
       "146  Nortriptyline, sold under the brand name Pamel...               True  \n",
       "193  Lithium (from Greek: λίθος, romanized: lithos,...               True  \n",
       "210  Desvenlafaxine, sold under the brand name Pris...               True  \n",
       "280  Doxepin is a medication used to treat major de...               True  "
      ]
     },
     "execution_count": 32,
     "metadata": {},
     "output_type": "execute_result"
    }
   ],
   "source": [
    "df[df['Is antidepressant']]"
   ]
  },
  {
   "cell_type": "code",
   "execution_count": 33,
   "id": "b66fb9ee",
   "metadata": {},
   "outputs": [
    {
     "data": {
      "text/plain": [
       "False"
      ]
     },
     "execution_count": 33,
     "metadata": {},
     "output_type": "execute_result"
    }
   ],
   "source": [
    "'Nefazodone' in df['Drug Name']"
   ]
  },
  {
   "cell_type": "code",
   "execution_count": null,
   "id": "1a09a6b8",
   "metadata": {},
   "outputs": [],
   "source": []
  }
 ],
 "metadata": {
  "kernelspec": {
   "display_name": "conda_pytorch_p36",
   "language": "python",
   "name": "conda_pytorch_p36"
  },
  "language_info": {
   "codemirror_mode": {
    "name": "ipython",
    "version": 3
   },
   "file_extension": ".py",
   "mimetype": "text/x-python",
   "name": "python",
   "nbconvert_exporter": "python",
   "pygments_lexer": "ipython3",
   "version": "3.6.13"
  }
 },
 "nbformat": 4,
 "nbformat_minor": 5
}
