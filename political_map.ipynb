{
 "cells": [
  {
   "cell_type": "code",
   "execution_count": 1,
   "id": "fd26d009",
   "metadata": {},
   "outputs": [],
   "source": [
    "import pandas as pd"
   ]
  },
  {
   "cell_type": "code",
   "execution_count": 3,
   "id": "41214648",
   "metadata": {},
   "outputs": [],
   "source": [
    "df = pd.read_csv(\"political_data.csv\", sep='\\t')"
   ]
  },
  {
   "cell_type": "code",
   "execution_count": 5,
   "id": "b1576035",
   "metadata": {},
   "outputs": [
    {
     "data": {
      "text/plain": [
       "ideology\n",
       "social democracy         252\n",
       "Unknown                  240\n",
       "Christian democracy      191\n",
       "conservatism             187\n",
       "pro-Europeanism          138\n",
       "                        ... \n",
       "Spanish unionism           1\n",
       "Spanish nationalism        1\n",
       "Slovenian nationalism      1\n",
       "Serbian nationalism        1\n",
       "wing half                  1\n",
       "Name: count, Length: 277, dtype: int64"
      ]
     },
     "execution_count": 5,
     "metadata": {},
     "output_type": "execute_result"
    }
   ],
   "source": [
    "df.value_counts(\"ideology\")"
   ]
  },
  {
   "cell_type": "code",
   "execution_count": null,
   "id": "686c1f43",
   "metadata": {},
   "outputs": [],
   "source": []
  }
 ],
 "metadata": {
  "kernelspec": {
   "display_name": "notebooks",
   "language": "python",
   "name": "python3"
  },
  "language_info": {
   "codemirror_mode": {
    "name": "ipython",
    "version": 3
   },
   "file_extension": ".py",
   "mimetype": "text/x-python",
   "name": "python",
   "nbconvert_exporter": "python",
   "pygments_lexer": "ipython3",
   "version": "3.13.4"
  }
 },
 "nbformat": 4,
 "nbformat_minor": 5
}
