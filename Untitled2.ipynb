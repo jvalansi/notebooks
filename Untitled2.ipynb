{
 "cells": [
  {
   "cell_type": "code",
   "execution_count": null,
   "metadata": {},
   "outputs": [],
   "source": [
    "# can I change the world with this notebook?\n",
    "# I can if I find a way to make a lot of money for example\n",
    "# If I create a chat bot\n",
    "# If I can penetrate the pentagon?\n",
    "# "
   ]
  },
  {
   "cell_type": "code",
   "execution_count": 2,
   "metadata": {},
   "outputs": [
    {
     "name": "stdout",
     "output_type": "stream",
     "text": [
      "Collecting pygame\n",
      "\u001b[?25l  Downloading https://files.pythonhosted.org/packages/dc/cd/dd9225d2eaef6f0d0131ae228d033a1fabcc6537d9ecfa78786394277993/pygame-1.9.6-cp36-cp36m-macosx_10_11_intel.whl (4.9MB)\n",
      "\u001b[K    100% |████████████████████████████████| 4.9MB 7.1MB/s eta 0:00:01\n",
      "\u001b[?25hInstalling collected packages: pygame\n",
      "Successfully installed pygame-1.9.6\n",
      "\u001b[33mYou are using pip version 19.0.3, however version 19.1.1 is available.\n",
      "You should consider upgrading via the 'pip install --upgrade pip' command.\u001b[0m\n"
     ]
    }
   ],
   "source": [
    "!pip install pygame"
   ]
  },
  {
   "cell_type": "code",
   "execution_count": null,
   "metadata": {},
   "outputs": [],
   "source": [
    "from tkinter import *\n",
    "from tkinter.colorchooser import askcolor"
   ]
  },
  {
   "cell_type": "code",
   "execution_count": 3,
   "metadata": {},
   "outputs": [
    {
     "name": "stdout",
     "output_type": "stream",
     "text": [
      "pygame 1.9.6\n",
      "Hello from the pygame community. https://www.pygame.org/contribute.html\n"
     ]
    }
   ],
   "source": [
    "import pygame, random\n"
   ]
  },
  {
   "cell_type": "code",
   "execution_count": 4,
   "metadata": {},
   "outputs": [],
   "source": [
    "screen = pygame.display.set_mode((800,600))\n",
    "\n",
    "draw_on = False\n",
    "last_pos = (0, 0)\n",
    "color = (255, 128, 0)\n",
    "radius = 10\n",
    "\n",
    "def roundline(srf, color, start, end, radius=1):\n",
    "    dx = end[0]-start[0]\n",
    "    dy = end[1]-start[1]\n",
    "    distance = max(abs(dx), abs(dy))\n",
    "    for i in range(distance):\n",
    "        x = int( start[0]+float(i)/distance*dx)\n",
    "        y = int( start[1]+float(i)/distance*dy)\n",
    "        pygame.draw.circle(srf, color, (x, y), radius)\n",
    "\n",
    "try:\n",
    "    while True:\n",
    "        e = pygame.event.wait()\n",
    "        if e.type == pygame.QUIT:\n",
    "            raise StopIteration\n",
    "        if e.type == pygame.MOUSEBUTTONDOWN:\n",
    "            color = (random.randrange(256), random.randrange(256), random.randrange(256))\n",
    "            pygame.draw.circle(screen, color, e.pos, radius)\n",
    "            draw_on = True\n",
    "        if e.type == pygame.MOUSEBUTTONUP:\n",
    "            draw_on = False\n",
    "        if e.type == pygame.MOUSEMOTION:\n",
    "            if draw_on:\n",
    "                pygame.draw.circle(screen, color, e.pos, radius)\n",
    "                roundline(screen, color, e.pos, last_pos,  radius)\n",
    "            last_pos = e.pos\n",
    "        pygame.display.flip()\n",
    "\n",
    "except StopIteration:\n",
    "    pass\n",
    "\n",
    "pygame.quit()\n"
   ]
  },
  {
   "cell_type": "code",
   "execution_count": 1,
   "metadata": {},
   "outputs": [
    {
     "name": "stdout",
     "output_type": "stream",
     "text": [
      "Collecting google-api-python-client\n",
      "  Using cached https://files.pythonhosted.org/packages/55/e9/e8fb2e3a031cb69b9524b80a92b126665d9a17421700a219555e3233ab6a/google_api_python_client-1.7.8-py3-none-any.whl\n",
      "Collecting google-auth-httplib2\n",
      "  Using cached https://files.pythonhosted.org/packages/33/49/c814d6d438b823441552198f096fcd0377fd6c88714dbed34f1d3c8c4389/google_auth_httplib2-0.0.3-py2.py3-none-any.whl\n",
      "Collecting google-auth-oauthlib\n",
      "  Downloading https://files.pythonhosted.org/packages/47/02/95e7c5b0965cf5b6b182b5ab81bdecb2157ce2f34a507a3de07b5244decd/google_auth_oauthlib-0.3.0-py2.py3-none-any.whl\n",
      "Requirement already satisfied, skipping upgrade: six<2dev,>=1.6.1 in /Users/jordanvalansi/.virtualenv/notebooks/lib/python3.6/site-packages (from google-api-python-client) (1.12.0)\n",
      "Collecting uritemplate<4dev,>=3.0.0 (from google-api-python-client)\n",
      "  Using cached https://files.pythonhosted.org/packages/e5/7d/9d5a640c4f8bf2c8b1afc015e9a9d8de32e13c9016dcc4b0ec03481fb396/uritemplate-3.0.0-py2.py3-none-any.whl\n",
      "Collecting google-auth>=1.4.1 (from google-api-python-client)\n",
      "  Using cached https://files.pythonhosted.org/packages/c5/9b/ed0516cc1f7609fb0217e3057ff4f0f9f3e3ce79a369c6af4a6c5ca25664/google_auth-1.6.3-py2.py3-none-any.whl\n",
      "Collecting httplib2<1dev,>=0.9.2 (from google-api-python-client)\n",
      "\u001b[?25l  Downloading https://files.pythonhosted.org/packages/e8/b3/b34037575d6d75ff8dcfcf75315f56befbe409952be9f95c9b8cc9ee0499/httplib2-0.12.3-py3-none-any.whl (94kB)\n",
      "\u001b[K    100% |████████████████████████████████| 102kB 9.0MB/s a 0:00:011\n",
      "\u001b[?25hCollecting requests-oauthlib>=0.7.0 (from google-auth-oauthlib)\n",
      "  Using cached https://files.pythonhosted.org/packages/c2/e2/9fd03d55ffb70fe51f587f20bcf407a6927eb121de86928b34d162f0b1ac/requests_oauthlib-1.2.0-py2.py3-none-any.whl\n",
      "Collecting cachetools>=2.0.0 (from google-auth>=1.4.1->google-api-python-client)\n",
      "  Using cached https://files.pythonhosted.org/packages/39/2b/d87fc2369242bd743883232c463f28205902b8579cb68dcf5b11eee1652f/cachetools-3.1.0-py2.py3-none-any.whl\n",
      "Collecting rsa>=3.1.4 (from google-auth>=1.4.1->google-api-python-client)\n",
      "  Using cached https://files.pythonhosted.org/packages/02/e5/38518af393f7c214357079ce67a317307936896e961e35450b70fad2a9cf/rsa-4.0-py2.py3-none-any.whl\n",
      "Collecting pyasn1-modules>=0.2.1 (from google-auth>=1.4.1->google-api-python-client)\n",
      "\u001b[?25l  Downloading https://files.pythonhosted.org/packages/91/f0/b03e00ce9fddf4827c42df1c3ce10c74eadebfb706231e8d6d1c356a4062/pyasn1_modules-0.2.5-py2.py3-none-any.whl (74kB)\n",
      "\u001b[K    100% |████████████████████████████████| 81kB 11.1MB/s ta 0:00:01\n",
      "\u001b[?25hCollecting oauthlib>=3.0.0 (from requests-oauthlib>=0.7.0->google-auth-oauthlib)\n",
      "  Using cached https://files.pythonhosted.org/packages/16/95/699466b05b72b94a41f662dc9edf87fda4289e3602ecd42d27fcaddf7b56/oauthlib-3.0.1-py2.py3-none-any.whl\n",
      "Requirement already satisfied, skipping upgrade: requests>=2.0.0 in /Users/jordanvalansi/.virtualenv/notebooks/lib/python3.6/site-packages (from requests-oauthlib>=0.7.0->google-auth-oauthlib) (2.21.0)\n",
      "Collecting pyasn1>=0.1.3 (from rsa>=3.1.4->google-auth>=1.4.1->google-api-python-client)\n",
      "  Using cached https://files.pythonhosted.org/packages/7b/7c/c9386b82a25115cccf1903441bba3cbadcfae7b678a20167347fa8ded34c/pyasn1-0.4.5-py2.py3-none-any.whl\n",
      "Requirement already satisfied, skipping upgrade: certifi>=2017.4.17 in /Users/jordanvalansi/.virtualenv/notebooks/lib/python3.6/site-packages (from requests>=2.0.0->requests-oauthlib>=0.7.0->google-auth-oauthlib) (2019.3.9)\n",
      "Requirement already satisfied, skipping upgrade: idna<2.9,>=2.5 in /Users/jordanvalansi/.virtualenv/notebooks/lib/python3.6/site-packages (from requests>=2.0.0->requests-oauthlib>=0.7.0->google-auth-oauthlib) (2.8)\n",
      "Requirement already satisfied, skipping upgrade: urllib3<1.25,>=1.21.1 in /Users/jordanvalansi/.virtualenv/notebooks/lib/python3.6/site-packages (from requests>=2.0.0->requests-oauthlib>=0.7.0->google-auth-oauthlib) (1.24.1)\n",
      "Requirement already satisfied, skipping upgrade: chardet<3.1.0,>=3.0.2 in /Users/jordanvalansi/.virtualenv/notebooks/lib/python3.6/site-packages (from requests>=2.0.0->requests-oauthlib>=0.7.0->google-auth-oauthlib) (3.0.4)\n",
      "Installing collected packages: uritemplate, cachetools, pyasn1, rsa, pyasn1-modules, google-auth, httplib2, google-auth-httplib2, google-api-python-client, oauthlib, requests-oauthlib, google-auth-oauthlib\n",
      "Successfully installed cachetools-3.1.0 google-api-python-client-1.7.8 google-auth-1.6.3 google-auth-httplib2-0.0.3 google-auth-oauthlib-0.3.0 httplib2-0.12.3 oauthlib-3.0.1 pyasn1-0.4.5 pyasn1-modules-0.2.5 requests-oauthlib-1.2.0 rsa-4.0 uritemplate-3.0.0\n",
      "\u001b[33mYou are using pip version 19.0.3, however version 19.1.1 is available.\n",
      "You should consider upgrading via the 'pip install --upgrade pip' command.\u001b[0m\n"
     ]
    }
   ],
   "source": [
    "!pip install --upgrade google-api-python-client google-auth-httplib2 google-auth-oauthlib"
   ]
  },
  {
   "cell_type": "code",
   "execution_count": 6,
   "metadata": {},
   "outputs": [
    {
     "name": "stdout",
     "output_type": "stream",
     "text": [
      "Name, Major:\n",
      "Alexandra, English\n",
      "Andrew, Math\n",
      "Anna, English\n",
      "Becky, Art\n",
      "Benjamin, English\n",
      "Carl, Art\n",
      "Carrie, English\n",
      "Dorothy, Math\n",
      "Dylan, Math\n",
      "Edward, English\n",
      "Ellen, Physics\n",
      "Fiona, Art\n",
      "John, Physics\n",
      "Jonathan, Math\n",
      "Joseph, English\n",
      "Josephine, Math\n",
      "Karen, English\n",
      "Kevin, Physics\n",
      "Lisa, Art\n",
      "Mary, Physics\n",
      "Maureen, Physics\n",
      "Nick, Art\n",
      "Olivia, Physics\n",
      "Pamela, Math\n",
      "Patrick, Art\n",
      "Robert, English\n",
      "Sean, Physics\n",
      "Stacy, Math\n",
      "Thomas, Art\n",
      "Will, Math\n"
     ]
    }
   ],
   "source": [
    "from __future__ import print_function\n",
    "import pickle\n",
    "import os.path\n",
    "from googleapiclient.discovery import build\n",
    "from google_auth_oauthlib.flow import InstalledAppFlow\n",
    "from google.auth.transport.requests import Request\n",
    "\n",
    "# If modifying these scopes, delete the file token.pickle.\n",
    "SCOPES = ['https://www.googleapis.com/auth/spreadsheets.readonly']\n",
    "\n",
    "# The ID and range of a sample spreadsheet.\n",
    "SAMPLE_SPREADSHEET_ID = '1BxiMVs0XRA5nFMdKvBdBZjgmUUqptlbs74OgvE2upms'\n",
    "SAMPLE_RANGE_NAME = 'Class Data!A2:E'\n",
    "\n",
    "\"\"\"Shows basic usage of the Sheets API.\n",
    "Prints values from a sample spreadsheet.\n",
    "\"\"\"\n",
    "creds = None\n",
    "# The file token.pickle stores the user's access and refresh tokens, and is\n",
    "# created automatically when the authorization flow completes for the first\n",
    "# time.\n",
    "if os.path.exists('token.pickle'):\n",
    "    with open('token.pickle', 'rb') as token:\n",
    "        creds = pickle.load(token)\n",
    "# If there are no (valid) credentials available, let the user log in.\n",
    "if not creds or not creds.valid:\n",
    "    if creds and creds.expired and creds.refresh_token:\n",
    "        creds.refresh(Request())\n",
    "    else:\n",
    "        flow = InstalledAppFlow.from_client_secrets_file(\n",
    "            'credentials.json', SCOPES)\n",
    "#             '/Users/jordanvalansi/.credentials/sheets.googleapis.com-python-quickstart.json', SCOPES)\n",
    "        creds = flow.run_local_server()\n",
    "    # Save the credentials for the next run\n",
    "    with open('token.pickle', 'wb') as token:\n",
    "        pickle.dump(creds, token)\n",
    "\n",
    "service = build('sheets', 'v4', credentials=creds)\n",
    "\n",
    "# Call the Sheets API\n",
    "sheet = service.spreadsheets()\n",
    "result = sheet.values().get(spreadsheetId=SAMPLE_SPREADSHEET_ID,\n",
    "                            range=SAMPLE_RANGE_NAME).execute()\n",
    "values = result.get('values', [])\n",
    "\n",
    "if not values:\n",
    "    print('No data found.')\n",
    "else:\n",
    "    print('Name, Major:')\n",
    "    for row in values:\n",
    "        # Print columns A and E, which correspond to indices 0 and 4.\n",
    "        print('%s, %s' % (row[0], row[4]))\n",
    "\n"
   ]
  },
  {
   "cell_type": "code",
   "execution_count": 2,
   "metadata": {},
   "outputs": [
    {
     "name": "stdout",
     "output_type": "stream",
     "text": [
      "Uninstalling ChatterBot-0.8.7:\n",
      "  Successfully uninstalled ChatterBot-0.8.7\n",
      "Uninstalling chatterbot-corpus-1.1.4:\n",
      "  Successfully uninstalled chatterbot-corpus-1.1.4\n"
     ]
    }
   ],
   "source": [
    "!pip uninstall chatterbot  chatterbot_corpus -y"
   ]
  },
  {
   "cell_type": "code",
   "execution_count": 3,
   "metadata": {},
   "outputs": [
    {
     "name": "stdout",
     "output_type": "stream",
     "text": [
      "Collecting chatterbot==0.7.4\n",
      "\u001b[?25l  Downloading https://files.pythonhosted.org/packages/2f/9c/7bb4735a0b17696a34d3aac5378e80aec19ffd99bdcc0bfa1b187d1b50e6/ChatterBot-0.7.4-py2.py3-none-any.whl (71kB)\n",
      "\u001b[K    100% |████████████████████████████████| 71kB 5.8MB/s ta 0:00:011\n",
      "\u001b[?25hCollecting sqlalchemy<1.2,>=1.1 (from chatterbot==0.7.4)\n",
      "\u001b[?25l  Downloading https://files.pythonhosted.org/packages/cc/4d/96d93ff77cd67aca7618e402191eee3490d8f5f245d6ab7622d35fe504f4/SQLAlchemy-1.1.18.tar.gz (5.3MB)\n",
      "\u001b[K    100% |████████████████████████████████| 5.3MB 30.8MB/s ta 0:00:01\n",
      "\u001b[?25hRequirement already satisfied, skipping upgrade: jsondatabase<1.0.0,>=0.1.7 in /Users/jordanvalansi/.virtualenv/notebooks/lib/python3.6/site-packages (from chatterbot==0.7.4) (0.1.7)\n",
      "Collecting chatterbot-corpus<1.1,>=1.0 (from chatterbot==0.7.4)\n",
      "\u001b[?25l  Downloading https://files.pythonhosted.org/packages/28/96/a2413f8dd64feb6c8b9d7ef37c3c054fad4d0dfd6915577d939b67269210/chatterbot_corpus-1.0.1-py2.py3-none-any.whl (180kB)\n",
      "\u001b[K    100% |████████████████████████████████| 184kB 46.7MB/s ta 0:00:01\n",
      "\u001b[?25hRequirement already satisfied, skipping upgrade: python-dateutil>=2.6<2.7 in /Users/jordanvalansi/.virtualenv/notebooks/lib/python3.6/site-packages (from chatterbot==0.7.4) (2.6.1)\n",
      "Requirement already satisfied, skipping upgrade: pymongo<4.0,>=3.3 in /Users/jordanvalansi/.virtualenv/notebooks/lib/python3.6/site-packages (from chatterbot==0.7.4) (3.8.0)\n",
      "Requirement already satisfied, skipping upgrade: nltk<4.0,>=3.2 in /Users/jordanvalansi/.virtualenv/notebooks/lib/python3.6/site-packages (from chatterbot==0.7.4) (3.4)\n",
      "Requirement already satisfied, skipping upgrade: python-twitter<4.0,>=3.0 in /Users/jordanvalansi/.virtualenv/notebooks/lib/python3.6/site-packages (from chatterbot==0.7.4) (3.5)\n",
      "Requirement already satisfied, skipping upgrade: ruamel.yaml<=0.15 in /Users/jordanvalansi/.virtualenv/notebooks/lib/python3.6/site-packages (from chatterbot-corpus<1.1,>=1.0->chatterbot==0.7.4) (0.15.0)\n",
      "Requirement already satisfied, skipping upgrade: six>=1.5 in /Users/jordanvalansi/.virtualenv/notebooks/lib/python3.6/site-packages (from python-dateutil>=2.6<2.7->chatterbot==0.7.4) (1.12.0)\n",
      "Requirement already satisfied, skipping upgrade: singledispatch in /Users/jordanvalansi/.virtualenv/notebooks/lib/python3.6/site-packages (from nltk<4.0,>=3.2->chatterbot==0.7.4) (3.4.0.3)\n",
      "Requirement already satisfied, skipping upgrade: requests-oauthlib in /Users/jordanvalansi/.virtualenv/notebooks/lib/python3.6/site-packages (from python-twitter<4.0,>=3.0->chatterbot==0.7.4) (1.2.0)\n",
      "Requirement already satisfied, skipping upgrade: future in /Users/jordanvalansi/.virtualenv/notebooks/lib/python3.6/site-packages (from python-twitter<4.0,>=3.0->chatterbot==0.7.4) (0.17.1)\n",
      "Requirement already satisfied, skipping upgrade: requests in /Users/jordanvalansi/.virtualenv/notebooks/lib/python3.6/site-packages (from python-twitter<4.0,>=3.0->chatterbot==0.7.4) (2.21.0)\n",
      "Requirement already satisfied, skipping upgrade: oauthlib>=3.0.0 in /Users/jordanvalansi/.virtualenv/notebooks/lib/python3.6/site-packages (from requests-oauthlib->python-twitter<4.0,>=3.0->chatterbot==0.7.4) (3.0.1)\n",
      "Requirement already satisfied, skipping upgrade: certifi>=2017.4.17 in /Users/jordanvalansi/.virtualenv/notebooks/lib/python3.6/site-packages (from requests->python-twitter<4.0,>=3.0->chatterbot==0.7.4) (2019.3.9)\n",
      "Requirement already satisfied, skipping upgrade: idna<2.9,>=2.5 in /Users/jordanvalansi/.virtualenv/notebooks/lib/python3.6/site-packages (from requests->python-twitter<4.0,>=3.0->chatterbot==0.7.4) (2.8)\n",
      "Requirement already satisfied, skipping upgrade: urllib3<1.25,>=1.21.1 in /Users/jordanvalansi/.virtualenv/notebooks/lib/python3.6/site-packages (from requests->python-twitter<4.0,>=3.0->chatterbot==0.7.4) (1.24.1)\n",
      "Requirement already satisfied, skipping upgrade: chardet<3.1.0,>=3.0.2 in /Users/jordanvalansi/.virtualenv/notebooks/lib/python3.6/site-packages (from requests->python-twitter<4.0,>=3.0->chatterbot==0.7.4) (3.0.4)\n",
      "Installing collected packages: sqlalchemy, chatterbot-corpus, chatterbot\n",
      "  Found existing installation: SQLAlchemy 1.2.19\n",
      "    Uninstalling SQLAlchemy-1.2.19:\n",
      "      Successfully uninstalled SQLAlchemy-1.2.19\n",
      "  Running setup.py install for sqlalchemy ... \u001b[?25ldone\n",
      "\u001b[?25hSuccessfully installed chatterbot-0.7.4 chatterbot-corpus-1.0.1 sqlalchemy-1.1.18\n",
      "\u001b[33mYou are using pip version 19.0.3, however version 19.1.1 is available.\n",
      "You should consider upgrading via the 'pip install --upgrade pip' command.\u001b[0m\n"
     ]
    }
   ],
   "source": [
    "!pip install --upgrade chatterbot==0.7.4 --no-cache-dir"
   ]
  },
  {
   "cell_type": "code",
   "execution_count": 2,
   "metadata": {},
   "outputs": [
    {
     "data": {
      "text/plain": [
       "<Statement text:Hello, how are you today?>"
      ]
     },
     "execution_count": 2,
     "metadata": {},
     "output_type": "execute_result"
    }
   ],
   "source": [
    "from chatterbot import ChatBot\n",
    "\n",
    "chatbot = ChatBot('Ron Obvious')\n",
    "\n",
    "# Create a new trainer for the chatbot\n",
    "# \n",
    "\n",
    "# Train the chatbot based on the english corpus\n",
    "# \n",
    "\n",
    "# Get a response to an input statement\n",
    "chatbot.get_response(\"Hello, how are you today?\")\n"
   ]
  },
  {
   "cell_type": "code",
   "execution_count": 7,
   "metadata": {},
   "outputs": [
    {
     "ename": "AttributeError",
     "evalue": "'ChatBot' object has no attribute 'find'",
     "output_type": "error",
     "traceback": [
      "\u001b[0;31m---------------------------------------------------------------------------\u001b[0m",
      "\u001b[0;31mAttributeError\u001b[0m                            Traceback (most recent call last)",
      "\u001b[0;32m<ipython-input-7-9b28822e2ac6>\u001b[0m in \u001b[0;36m<module>\u001b[0;34m\u001b[0m\n\u001b[1;32m      1\u001b[0m \u001b[0;32mfrom\u001b[0m \u001b[0mchatterbot\u001b[0m\u001b[0;34m.\u001b[0m\u001b[0mtrainers\u001b[0m \u001b[0;32mimport\u001b[0m \u001b[0mChatterBotCorpusTrainer\u001b[0m\u001b[0;34m\u001b[0m\u001b[0m\n\u001b[1;32m      2\u001b[0m \u001b[0mtrainer\u001b[0m \u001b[0;34m=\u001b[0m \u001b[0mChatterBotCorpusTrainer\u001b[0m\u001b[0;34m(\u001b[0m\u001b[0mchatbot\u001b[0m\u001b[0;34m)\u001b[0m\u001b[0;34m\u001b[0m\u001b[0m\n\u001b[0;32m----> 3\u001b[0;31m \u001b[0mtrainer\u001b[0m\u001b[0;34m.\u001b[0m\u001b[0mtrain\u001b[0m\u001b[0;34m(\u001b[0m\u001b[0;34m\"chatterbot.corpus.english\"\u001b[0m\u001b[0;34m)\u001b[0m\u001b[0;34m\u001b[0m\u001b[0m\n\u001b[0m",
      "\u001b[0;32m~/.virtualenv/notebooks/lib/python3.6/site-packages/chatterbot/trainers.py\u001b[0m in \u001b[0;36mtrain\u001b[0;34m(self, *corpus_paths)\u001b[0m\n\u001b[1;32m    121\u001b[0m \u001b[0;34m\u001b[0m\u001b[0m\n\u001b[1;32m    122\u001b[0m                     \u001b[0;32mfor\u001b[0m \u001b[0mtext\u001b[0m \u001b[0;32min\u001b[0m \u001b[0mconversation\u001b[0m\u001b[0;34m:\u001b[0m\u001b[0;34m\u001b[0m\u001b[0m\n\u001b[0;32m--> 123\u001b[0;31m                         \u001b[0mstatement\u001b[0m \u001b[0;34m=\u001b[0m \u001b[0mself\u001b[0m\u001b[0;34m.\u001b[0m\u001b[0mget_or_create\u001b[0m\u001b[0;34m(\u001b[0m\u001b[0mtext\u001b[0m\u001b[0;34m)\u001b[0m\u001b[0;34m\u001b[0m\u001b[0m\n\u001b[0m\u001b[1;32m    124\u001b[0m \u001b[0;34m\u001b[0m\u001b[0m\n\u001b[1;32m    125\u001b[0m                         \u001b[0;32mif\u001b[0m \u001b[0mprevious_statement_text\u001b[0m\u001b[0;34m:\u001b[0m\u001b[0;34m\u001b[0m\u001b[0m\n",
      "\u001b[0;32m~/.virtualenv/notebooks/lib/python3.6/site-packages/chatterbot/trainers.py\u001b[0m in \u001b[0;36mget_or_create\u001b[0;34m(self, statement_text)\u001b[0m\n\u001b[1;32m     25\u001b[0m         \u001b[0mCreate\u001b[0m \u001b[0;32mand\u001b[0m \u001b[0;32mreturn\u001b[0m \u001b[0mthe\u001b[0m \u001b[0mstatement\u001b[0m \u001b[0;32mif\u001b[0m \u001b[0mit\u001b[0m \u001b[0mdoes\u001b[0m \u001b[0;32mnot\u001b[0m \u001b[0mexist\u001b[0m\u001b[0;34m.\u001b[0m\u001b[0;34m\u001b[0m\u001b[0m\n\u001b[1;32m     26\u001b[0m         \"\"\"\n\u001b[0;32m---> 27\u001b[0;31m         \u001b[0mstatement\u001b[0m \u001b[0;34m=\u001b[0m \u001b[0mself\u001b[0m\u001b[0;34m.\u001b[0m\u001b[0mstorage\u001b[0m\u001b[0;34m.\u001b[0m\u001b[0mfind\u001b[0m\u001b[0;34m(\u001b[0m\u001b[0mstatement_text\u001b[0m\u001b[0;34m)\u001b[0m\u001b[0;34m\u001b[0m\u001b[0m\n\u001b[0m\u001b[1;32m     28\u001b[0m \u001b[0;34m\u001b[0m\u001b[0m\n\u001b[1;32m     29\u001b[0m         \u001b[0;32mif\u001b[0m \u001b[0;32mnot\u001b[0m \u001b[0mstatement\u001b[0m\u001b[0;34m:\u001b[0m\u001b[0;34m\u001b[0m\u001b[0m\n",
      "\u001b[0;31mAttributeError\u001b[0m: 'ChatBot' object has no attribute 'find'"
     ]
    }
   ],
   "source": [
    "from chatterbot.trainers import ChatterBotCorpusTrainer\n",
    "trainer = ChatterBotCorpusTrainer(chatbot)\n",
    "trainer.train(\"chatterbot.corpus.english\")\n"
   ]
  },
  {
   "cell_type": "code",
   "execution_count": 10,
   "metadata": {},
   "outputs": [],
   "source": [
    "from chatterbot.trainers import ListTrainer"
   ]
  },
  {
   "cell_type": "code",
   "execution_count": 11,
   "metadata": {},
   "outputs": [],
   "source": [
    "trainer = ListTrainer(chatbot)"
   ]
  },
  {
   "cell_type": "code",
   "execution_count": 13,
   "metadata": {},
   "outputs": [],
   "source": [
    "conversation = [\n",
    "    \"Hello\",\n",
    "    \"Hi there!\",\n",
    "    \"How are you doing?\",\n",
    "    \"I'm doing great.\",\n",
    "    \"That is good to hear\",\n",
    "    \"Thank you.\",\n",
    "    \"You're welcome.\"\n",
    "]\n"
   ]
  },
  {
   "cell_type": "code",
   "execution_count": 14,
   "metadata": {},
   "outputs": [
    {
     "ename": "AttributeError",
     "evalue": "'ChatBot' object has no attribute 'find'",
     "output_type": "error",
     "traceback": [
      "\u001b[0;31m---------------------------------------------------------------------------\u001b[0m",
      "\u001b[0;31mAttributeError\u001b[0m                            Traceback (most recent call last)",
      "\u001b[0;32m<ipython-input-14-9fc728907311>\u001b[0m in \u001b[0;36m<module>\u001b[0;34m\u001b[0m\n\u001b[0;32m----> 1\u001b[0;31m \u001b[0mtrainer\u001b[0m\u001b[0;34m.\u001b[0m\u001b[0mtrain\u001b[0m\u001b[0;34m(\u001b[0m\u001b[0mconversation\u001b[0m\u001b[0;34m)\u001b[0m\u001b[0;34m\u001b[0m\u001b[0m\n\u001b[0m",
      "\u001b[0;32m~/.virtualenv/notebooks/lib/python3.6/site-packages/chatterbot/trainers.py\u001b[0m in \u001b[0;36mtrain\u001b[0;34m(self, conversation)\u001b[0m\n\u001b[1;32m     81\u001b[0m \u001b[0;34m\u001b[0m\u001b[0m\n\u001b[1;32m     82\u001b[0m         \u001b[0;32mfor\u001b[0m \u001b[0mtext\u001b[0m \u001b[0;32min\u001b[0m \u001b[0mconversation\u001b[0m\u001b[0;34m:\u001b[0m\u001b[0;34m\u001b[0m\u001b[0m\n\u001b[0;32m---> 83\u001b[0;31m             \u001b[0mstatement\u001b[0m \u001b[0;34m=\u001b[0m \u001b[0mself\u001b[0m\u001b[0;34m.\u001b[0m\u001b[0mget_or_create\u001b[0m\u001b[0;34m(\u001b[0m\u001b[0mtext\u001b[0m\u001b[0;34m)\u001b[0m\u001b[0;34m\u001b[0m\u001b[0m\n\u001b[0m\u001b[1;32m     84\u001b[0m \u001b[0;34m\u001b[0m\u001b[0m\n\u001b[1;32m     85\u001b[0m             \u001b[0;32mif\u001b[0m \u001b[0mprevious_statement_text\u001b[0m\u001b[0;34m:\u001b[0m\u001b[0;34m\u001b[0m\u001b[0m\n",
      "\u001b[0;32m~/.virtualenv/notebooks/lib/python3.6/site-packages/chatterbot/trainers.py\u001b[0m in \u001b[0;36mget_or_create\u001b[0;34m(self, statement_text)\u001b[0m\n\u001b[1;32m     25\u001b[0m         \u001b[0mCreate\u001b[0m \u001b[0;32mand\u001b[0m \u001b[0;32mreturn\u001b[0m \u001b[0mthe\u001b[0m \u001b[0mstatement\u001b[0m \u001b[0;32mif\u001b[0m \u001b[0mit\u001b[0m \u001b[0mdoes\u001b[0m \u001b[0;32mnot\u001b[0m \u001b[0mexist\u001b[0m\u001b[0;34m.\u001b[0m\u001b[0;34m\u001b[0m\u001b[0m\n\u001b[1;32m     26\u001b[0m         \"\"\"\n\u001b[0;32m---> 27\u001b[0;31m         \u001b[0mstatement\u001b[0m \u001b[0;34m=\u001b[0m \u001b[0mself\u001b[0m\u001b[0;34m.\u001b[0m\u001b[0mstorage\u001b[0m\u001b[0;34m.\u001b[0m\u001b[0mfind\u001b[0m\u001b[0;34m(\u001b[0m\u001b[0mstatement_text\u001b[0m\u001b[0;34m)\u001b[0m\u001b[0;34m\u001b[0m\u001b[0m\n\u001b[0m\u001b[1;32m     28\u001b[0m \u001b[0;34m\u001b[0m\u001b[0m\n\u001b[1;32m     29\u001b[0m         \u001b[0;32mif\u001b[0m \u001b[0;32mnot\u001b[0m \u001b[0mstatement\u001b[0m\u001b[0;34m:\u001b[0m\u001b[0;34m\u001b[0m\u001b[0m\n",
      "\u001b[0;31mAttributeError\u001b[0m: 'ChatBot' object has no attribute 'find'"
     ]
    }
   ],
   "source": [
    "trainer.train(conversation)"
   ]
  },
  {
   "cell_type": "code",
   "execution_count": null,
   "metadata": {},
   "outputs": [],
   "source": []
  }
 ],
 "metadata": {
  "kernelspec": {
   "display_name": "Python 3",
   "language": "python",
   "name": "python3"
  }
 },
 "nbformat": 4,
 "nbformat_minor": 2
}
