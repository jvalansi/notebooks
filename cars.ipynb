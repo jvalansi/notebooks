{
 "cells": [
  {
   "cell_type": "code",
   "execution_count": 2,
   "id": "80607bd2-eaf9-455e-b7c0-eb7fb50261db",
   "metadata": {
    "tags": []
   },
   "outputs": [
    {
     "name": "stdout",
     "output_type": "stream",
     "text": [
      "Requirement already satisfied: BeautifulSoup4 in /opt/conda/lib/python3.10/site-packages (4.11.1)\n",
      "Collecting xmltodict\n",
      "  Downloading xmltodict-0.13.0-py2.py3-none-any.whl.metadata (7.7 kB)\n",
      "Requirement already satisfied: soupsieve>1.2 in /opt/conda/lib/python3.10/site-packages (from BeautifulSoup4) (2.3.1)\n",
      "Downloading xmltodict-0.13.0-py2.py3-none-any.whl (10.0 kB)\n",
      "Installing collected packages: xmltodict\n",
      "Successfully installed xmltodict-0.13.0\n",
      "\u001b[33mWARNING: Running pip as the 'root' user can result in broken permissions and conflicting behaviour with the system package manager. It is recommended to use a virtual environment instead: https://pip.pypa.io/warnings/venv\u001b[0m\u001b[33m\n",
      "\u001b[0m\n",
      "\u001b[1m[\u001b[0m\u001b[34;49mnotice\u001b[0m\u001b[1;39;49m]\u001b[0m\u001b[39;49m A new release of pip is available: \u001b[0m\u001b[31;49m23.3.1\u001b[0m\u001b[39;49m -> \u001b[0m\u001b[32;49m24.0\u001b[0m\n",
      "\u001b[1m[\u001b[0m\u001b[34;49mnotice\u001b[0m\u001b[1;39;49m]\u001b[0m\u001b[39;49m To update, run: \u001b[0m\u001b[32;49mpip install --upgrade pip\u001b[0m\n",
      "Note: you may need to restart the kernel to use updated packages.\n"
     ]
    }
   ],
   "source": [
    "%pip install BeautifulSoup4 xmltodict"
   ]
  },
  {
   "cell_type": "code",
   "execution_count": 4,
   "id": "290642ba-424c-4cd9-95d1-6b3ec023c5a8",
   "metadata": {
    "tags": []
   },
   "outputs": [],
   "source": [
    "import pandas as pd\n",
    "from tqdm.auto import tqdm"
   ]
  },
  {
   "cell_type": "code",
   "execution_count": 5,
   "id": "7bfe95d3-dd45-49db-b019-78ca407dff77",
   "metadata": {
    "tags": []
   },
   "outputs": [],
   "source": [
    "import urllib.request\n",
    "from bs4 import BeautifulSoup"
   ]
  },
  {
   "cell_type": "code",
   "execution_count": 14,
   "id": "3282d8c9-6c0b-48be-bb99-bb0ddc154e29",
   "metadata": {
    "tags": []
   },
   "outputs": [],
   "source": [
    "import xmltodict\n",
    "import io"
   ]
  },
  {
   "cell_type": "code",
   "execution_count": 11,
   "id": "f1c1e099-309e-4e77-a2ac-c835dccbbab4",
   "metadata": {
    "tags": []
   },
   "outputs": [],
   "source": [
    "dfs = []"
   ]
  },
  {
   "cell_type": "code",
   "execution_count": 12,
   "id": "09b6f924-7e72-4e02-a540-2b2aa66ab0ce",
   "metadata": {
    "tags": []
   },
   "outputs": [
    {
     "data": {
      "application/vnd.jupyter.widget-view+json": {
       "model_id": "2aeb8766f3b84c2b8741da54369f31fe",
       "version_major": 2,
       "version_minor": 0
      },
      "text/plain": [
       "  0%|          | 0/7 [00:00<?, ?it/s]"
      ]
     },
     "metadata": {},
     "output_type": "display_data"
    }
   ],
   "source": [
    "for i in tqdm(range(7)):\n",
    "    carsheet = pd.read_html(f\"https://carsheet.io/all-cars/max-$20000-price/min-0.09-bhp-lb/{i}00-{i+1}00/\")\n",
    "    dfs += [carsheet[0]]"
   ]
  },
  {
   "cell_type": "code",
   "execution_count": 13,
   "id": "f4657f2e-70b5-41e1-b394-02dd1cfe9e21",
   "metadata": {
    "tags": []
   },
   "outputs": [],
   "source": [
    "df = pd.concat(dfs)\n"
   ]
  },
  {
   "cell_type": "code",
   "execution_count": 21,
   "id": "53b24196-5c9f-48f6-a7a3-6e18d7e3edaa",
   "metadata": {
    "tags": []
   },
   "outputs": [
    {
     "data": {
      "text/plain": [
       "<AxesSubplot:>"
      ]
     },
     "execution_count": 21,
     "metadata": {},
     "output_type": "execute_result"
    },
    {
     "data": {
      "image/png": "[encoded data removed]",
      "text/plain": [
       "<Figure size 640x480 with 1 Axes>"
      ]
     },
     "metadata": {},
     "output_type": "display_data"
    }
   ],
   "source": [
    "df['Used/New Price'].replace('[\\$\\,\\.]', '', regex=True).astype(int).hist()"
   ]
  },
  {
   "cell_type": "code",
   "execution_count": 26,
   "id": "43c47d5a-2efe-4826-8691-24b41c5ec4ac",
   "metadata": {
    "tags": []
   },
   "outputs": [
    {
     "data": {
      "text/plain": [
       "0     24 mpg\n",
       "1     25 mpg\n",
       "2     28 mpg\n",
       "3     23 mpg\n",
       "4     25 mpg\n",
       "       ...  \n",
       "47    23 mpg\n",
       "48    22 mpg\n",
       "49    23 mpg\n",
       "50    22 mpg\n",
       "51    23 mpg\n",
       "Name: Highway Fuel Economy, Length: 1252, dtype: object"
      ]
     },
     "execution_count": 26,
     "metadata": {},
     "output_type": "execute_result"
    }
   ],
   "source": [
    "df['Highway Fuel Economy']"
   ]
  },
  {
   "cell_type": "code",
   "execution_count": 28,
   "id": "d0f2f370-783b-480b-b36e-3fca3c493690",
   "metadata": {
    "tags": []
   },
   "outputs": [
    {
     "data": {
      "text/plain": [
       "<AxesSubplot:>"
      ]
     },
     "execution_count": 28,
     "metadata": {},
     "output_type": "execute_result"
    },
    {
     "data": {
      "image/png": "[encoded data removed]",
      "text/plain": [
       "<Figure size 640x480 with 1 Axes>"
      ]
     },
     "metadata": {},
     "output_type": "display_data"
    }
   ],
   "source": [
    "df['Highway Fuel Economy'].dropna().replace(' mpg', '', regex=True).astype(int).hist()"
   ]
  },
  {
   "cell_type": "code",
   "execution_count": 32,
   "id": "4a869abb-e21d-4f0a-9af4-43fbee1e61f7",
   "metadata": {
    "tags": []
   },
   "outputs": [
    {
     "data": {
      "text/plain": [
       "array(['Hyundai', 'Cadillac', 'INFINITI', 'Kia', 'BMW', 'Chevrolet',\n",
       "       'Dodge', 'Ford', 'Mercedes-Benz', 'Nissan', 'Audi', 'Jaguar',\n",
       "       'Chrysler', 'Subaru', 'Lexus', 'Porsche', 'Pontiac', 'Maserati',\n",
       "       'Jeep', 'Mazda'], dtype=object)"
      ]
     },
     "execution_count": 32,
     "metadata": {},
     "output_type": "execute_result"
    }
   ],
   "source": [
    "df['Make'].unique()"
   ]
  },
  {
   "cell_type": "markdown",
   "id": "1ae1dcc5-bb99-45a5-95b9-5758ed95cde9",
   "metadata": {
    "tags": []
   },
   "source": [
    "# Parse car search"
   ]
  },
  {
   "cell_type": "code",
   "execution_count": 7,
   "id": "42970b87-1fd6-4783-86b6-bf2abc7a0049",
   "metadata": {
    "tags": []
   },
   "outputs": [],
   "source": [
    "fp = urllib.request.urlopen(\"https://www.carfax.com/search?zip=94118&radius=50&priceMin=1&priceMax=20000&mileageMax=100000&vehicleCondition=USED\")\n",
    "mybytes = fp.read()\n",
    "\n",
    "mystr = mybytes.decode(\"utf8\")\n",
    "fp.close()\n"
   ]
  },
  {
   "cell_type": "code",
   "execution_count": 8,
   "id": "ef28f240-f28c-4eaa-8b98-f15210ce100f",
   "metadata": {
    "tags": []
   },
   "outputs": [],
   "source": [
    "parsed_html = BeautifulSoup(mystr)"
   ]
  },
  {
   "cell_type": "code",
   "execution_count": 9,
   "id": "8101ec55-bdda-434e-b4fe-b74f86b62e69",
   "metadata": {
    "tags": []
   },
   "outputs": [],
   "source": [
    "\n",
    "items = parsed_html.find_all(\"article\", \"srp-list-item\")"
   ]
  },
  {
   "cell_type": "code",
   "execution_count": 37,
   "id": "003ca343-6a78-4514-a7fa-48d1047d32b9",
   "metadata": {
    "tags": []
   },
   "outputs": [
    {
     "data": {
      "text/plain": [
       "25"
      ]
     },
     "execution_count": 37,
     "metadata": {},
     "output_type": "execute_result"
    }
   ],
   "source": [
    "len(items)"
   ]
  },
  {
   "cell_type": "code",
   "execution_count": 20,
   "id": "d399bbd7-45ad-4da5-bb7b-e6d98f429250",
   "metadata": {
    "tags": []
   },
   "outputs": [],
   "source": [
    "import yaml"
   ]
  },
  {
   "cell_type": "code",
   "execution_count": 24,
   "id": "8b4e851b-2317-4a89-8338-0f179a3520df",
   "metadata": {
    "tags": []
   },
   "outputs": [],
   "source": [
    "item = xmltodict.parse(str(items[0]))"
   ]
  },
  {
   "cell_type": "code",
   "execution_count": 29,
   "id": "7f80b53b-b0c2-47a6-b897-5db951f78417",
   "metadata": {
    "tags": []
   },
   "outputs": [
    {
     "data": {
      "text/plain": [
       "dict_keys(['@class', '@data-vin', '@id', 'div'])"
      ]
     },
     "execution_count": 29,
     "metadata": {},
     "output_type": "execute_result"
    }
   ],
   "source": [
    "item['article'].keys()"
   ]
  },
  {
   "cell_type": "code",
   "execution_count": 32,
   "id": "5627d1ee-362a-4597-b47f-aa72830439a7",
   "metadata": {
    "tags": []
   },
   "outputs": [
    {
     "data": {
      "text/plain": [
       "dict_keys(['@class', 'a', 'div'])"
      ]
     },
     "execution_count": 32,
     "metadata": {},
     "output_type": "execute_result"
    }
   ],
   "source": [
    "item['article']['div'].keys()"
   ]
  },
  {
   "cell_type": "code",
   "execution_count": 36,
   "id": "9791da5f-729e-4980-9dc3-9d9302f8f80a",
   "metadata": {
    "tags": []
   },
   "outputs": [
    {
     "data": {
      "text/plain": [
       "2"
      ]
     },
     "execution_count": 36,
     "metadata": {},
     "output_type": "execute_result"
    }
   ],
   "source": [
    "len(item['article']['div']['div'])"
   ]
  },
  {
   "cell_type": "code",
   "execution_count": 35,
   "id": "626f11e8-d18d-4adb-be47-8cfe672f4c73",
   "metadata": {
    "tags": []
   },
   "outputs": [
    {
     "data": {
      "text/plain": [
       "{'@class': 'srp-list-item__body',\n",
       " 'div': [{'@aria-label': 'Used 2017 Hyundai Elantra SE',\n",
       "   '@title': 'Used 2017 Hyundai Elantra SE',\n",
       "   'div': [{'@class': 'srp-list-item__top',\n",
       "     'div': [{'@class': 'srp-list-item__top-image-container',\n",
       "       'div': {'@class': 'srp-list-item__image',\n",
       "        'figure': {'@class': 'srp-list-item__image-anchor',\n",
       "         '@id': 'img-5NPD84LF1HH085432',\n",
       "         '@title': '2017 Hyundai Elantra SE with 35,824 miles',\n",
       "         'picture': {'source': [{'@srcset': 'https://carfax-img.vast.com/carfax/v2/3823902036334024045/1/344x258?format=webp',\n",
       "            '@type': 'image/webp'},\n",
       "           {'@srcset': 'https://carfax-img.vast.com/carfax/v2/3823902036334024045/1/344x258',\n",
       "            '@type': 'image/jpeg'}],\n",
       "          'img': {'@alt': 'Silver 2017 Hyundai Elantra Sedan',\n",
       "           '@class': 'listing-image',\n",
       "           '@fetchpriority': 'high',\n",
       "           '@height': '258',\n",
       "           '@src': 'https://carfax-img.vast.com/carfax/v2/3823902036334024045/1/344x258',\n",
       "           '@width': '344'}}},\n",
       "        'div': [{'@class': 'srp-list-item__image-photo-count',\n",
       "          'span': {'@class': 'photoCount-listings', '#text': '16 Photos'}},\n",
       "         {'@class': 'flag-div'}]}},\n",
       "      {'@class': 'srp-list-item__top-info-container',\n",
       "       'div': [{'@class': 'srp-list-item__price-badge great-value',\n",
       "         'div': [{'@class': 'srp-list-item__price-badge__price-container',\n",
       "           'div': {'@class': 'srp-list-item__price srp-list-item__section',\n",
       "            'span': {'@class': 'srp-list-item__price-prefix',\n",
       "             '#text': 'Price:'},\n",
       "            '#text': '$11,995'},\n",
       "           'span': {'@class': 'price-per-month srp-list-item--finance list-item-estimate',\n",
       "            '#text': '$199/mo est.'}},\n",
       "          {'@class': 'srp-list-item__value-container badge-details',\n",
       "           'span': {'div': {'@class': 'badge',\n",
       "             '@data-has-caret': 'true',\n",
       "             'strong': {'@class': 'badge_text',\n",
       "              '@data-theme': 'great-value',\n",
       "              '#text': 'great value'},\n",
       "             'svg': {'@aria-hidden': 'true',\n",
       "              '@class': 'badge_caret',\n",
       "              'g': {'path': {'@d': 'M-.001 0H12l12 12-12 12H-.001V0Z'}}}}},\n",
       "           'div': {'@class': 'value-details',\n",
       "            'div': {'@class': 'value-difference great-value',\n",
       "             'strong': '$1,385 below'},\n",
       "            '#text': '$13,380 CARFAX Value'}}]},\n",
       "        {'@class': 'srp-list-item--pillars',\n",
       "         'div': {'@class': 'pillars',\n",
       "          'ul': {'@class': 'srp-list-item--pillars-list',\n",
       "           '@style': 'list-style:none',\n",
       "           'li': [{'@class': 'srp-list-item--pillars-list-item search-result-list-item__no-accidents pillar-item__header',\n",
       "             'div': {'@class': 'pillar-item__icon-container',\n",
       "              'svg': {'@aria-labelledby': '',\n",
       "               '@class': 'cfx-icon cfx-icon__alertTriangleDownColor',\n",
       "               '@fill': 'currentColor',\n",
       "               '@height': '32',\n",
       "               '@preserveaspectratio': 'xMidYMid meet',\n",
       "               '@role': 'img',\n",
       "               '@viewbox': '0 0 24 24',\n",
       "               '@width': '32',\n",
       "               'g': {'path': [{'@d': 'M11 14h2v-2h-2zm0-4h2V6h-2z',\n",
       "                  '@fill': '#FFFFFF'},\n",
       "                 {'@d': 'M12 21 23 3H1zm-1-7h2v-2h-2zm0-4h2V6h-2z',\n",
       "                  '@fill': '#D32F2F',\n",
       "                  '@fill-rule': 'evenodd'}]}}},\n",
       "             'span': {'@class': 'title title--noAccident',\n",
       "              '#text': 'Major Damage'}},\n",
       "            {'@class': 'srp-list-item--pillars-list-item pillar-item__header',\n",
       "             'div': {'@class': 'pillar-item__icon-container',\n",
       "              'svg': {'@aria-labelledby': '',\n",
       "               '@class': 'cfx-icon cfx-icon__threePeopleColor',\n",
       "               '@fill': 'currentColor',\n",
       "               '@height': '32',\n",
       "               '@preserveaspectratio': 'xMidYMid meet',\n",
       "               '@role': 'img',\n",
       "               '@viewbox': '0 0 24 24',\n",
       "               '@width': '32',\n",
       "               'g': {'path': [{'@d': 'M4 13c1.1 0 2-.9 2-2s-.9-2-2-2-2 .9-2 2 .9 2 2 2',\n",
       "                  '@fill': '#BA8E12'},\n",
       "                 {'@d': 'M12 6c1.66 0 3 1.34 3 3s-1.34 3-3 3-3-1.34-3-3 1.34-3 3-3',\n",
       "                  '@fill': '#BA8E12'},\n",
       "                 {'@d': 'M20 13c1.1 0 2-.9 2-2s-.9-2-2-2-2 .9-2 2 .9 2 2 2',\n",
       "                  '@fill': '#BA8E12'},\n",
       "                 {'@d': 'M4 14c.39 0 .76.04 1.13.1-.4.68-.63 1.46-.63 2.29V18H0v-1.57c0-.81.48-1.53 1.22-1.85A6.95 6.95 0 0 1 4 14m.077-1.001L4 13h.026zm.076-.005-.025.002-.025.001zm-.382-.007.076.007-.026-.002-.025-.002zm.557-.014-.074.011-.025.003zm.098-.019.024-.005zm-.924-.017-.012-.003.036.009zm-1.424.066-.015-.005zm1.49-.097-.022.01zm-1.752-.011.022.011zl-.013-.007zm1.901-.069-.042.024-.021.012zm.07-.043-.07.043zm-2.18-.008-.02-.014.029.02zm2.31-.084-.058.043-.02.014zm.038-.03-.029.023zm-2.602-.085q.046.042.094.082-.048-.04-.094-.082m-3.079-.186-.014-.019zm.033-.053-.019.032.031-.053zm-3.463-.034-.017-.029.012.021zm3.543-.115.01-.022zm.028-.059.012-.029-.009.022zm-3.689-.071.009.023zm-.058-.165.007.023zm3.8.102.003-.009.008-.023zm-3.852-.322.006.033zm3.947-.057.003-.014.003-.025zm-3.977-.222.004.064zm0-.148L2 10.99v-.016l.001-.025zm3.991-.098.004.047.001.025zm-3.982-.029-.004.043.002-.018zm3.949-.198.004.02zm.078-.232-.018.045-.008.023zm3.706.007-.002-.007-.01-.023zm-3.656-.118-.04.088q.024-.056.051-.11zm3.559-.087-.011-.02-.012-.021zm-3.495-.034.004-.007.012-.021zm3.184-.392-.017-.017zm2.613-.063.035.029-.053-.044zm-2.45-.07-.067.051zm2.392.024.007.006zM2.127 9.9l.021-.014zm2.215-.038.037.025.02.013zm1.922.058-.004-.003zm-.106-.058-.021-.011-.022-.011zm1.486.042.017.008zm-.226-.083-.024-.007zm.148-.023-.025.003zm.089-.008-.039.003zm.213-.004.073.004zM3.974 9l-.051.001L4 9zm1.943 2.57-.015.046.008-.023.014-.047zm-3.852-.064.011.04-.006-.024zm3.925-.302.005-.069-.008.094zm-3.974-.458-.003.025zm3.914-.268-.018-.063.025.087zm-.242-.548.009.014.012.021zm-3.372-.006.027-.04-.014.02-.026.04z',\n",
       "                  '@fill': '#2E7D32'},\n",
       "                 {'@d': 'M12 12.75c1.63 0 3.07.39 4.24.9 1.08.48 1.76 1.56 1.76 2.73V18H6v-1.61c0-1.18.68-2.26 1.76-2.73 1.17-.52 2.61-.91 4.24-.91',\n",
       "                  '@fill': '#D32F2F'},\n",
       "                 {'@d': 'M20 14c.99 0 1.93.21 2.78.58A2.01 2.01 0 0 1 24 16.43V18h-4.5v-1.61c0-.83-.23-1.61-.63-2.29.37-.06.74-.1 1.13-.1m.153-1.006Q20.078 13 20 13h.026q.064-.001.127-.006m-.306 0-.026-.002-.025-.002zm.579-.04a3 3 0 0 1-.172.03l-.025.003q.113-.014.221-.038zm-.932-.019.012.003zm-1.265-.005.015.005zm1.483-.082a2 2 0 0 1-.18.074l-.023.008q.116-.04.225-.092zm-1.708-.01-.022-.011-.021-.011zm1.931-.112-.094.056-.021.012q.059-.033.115-.068m-2.62-.07q.035.033.072.064zm2.79-.087-.045.044-.017.017zm3.135-.143a2 2 0 0 1-.082.106l-.016.019a2 2 0 0 0 .098-.125m.098-.15-.025.042-.013.02zm-3.468-.042.018.032-.006-.011zm3.548-.107-.022.043-.011.022zm-3.635-.066-.009-.022-.01-.023zm-.148-.52.003.014zm3.98-.202-.004.071.001-.02.001-.025zm-3.998-.006v-.02L18 11.026zm.009-.275-.007.088zm-3.957-.158.003-.015.005-.025zm.144-.459-.003.007zm.139-.255-.013.02-.011.019.037-.059zm3.314-.08.009.014zl-.011-.015zm-.184-.222.017.017.016.018-.05-.052zm-2.789-.101-.064.061.046-.045zm2.704.016.017.017zm-2.556-.138q-.044.033-.086.068.052-.043.106-.083zm2.271-.083.033.022-.053-.035zm-2.048-.062-.059.034.08-.046zm1.87-.04-.011-.005-.022-.011zm1.321-.031-.023-.008zm-.87-.082.025-.003zm.382-.012.025.002.026.002-.076-.005zM19.974 9l-.051.001L20 9zm-1.516 3.27-.03-.037.046.056zm-.059-.075-.015-.02zl.014.019zm-.056-.079-.027-.04.04.06zm-.112-.186.011.021zm3.602-.131-.01.022-.011.022zm.019-.045-.01.023zm-3.73-.068a2 2 0 0 1-.065-.212l.006.024q.028.108.067.211zm-.083-.292.002.008.005.024zm-.029-.19-.005-.056.008.081zm3.99-.178-.001.025zm-4-.061V11zm4 .009V11zm-.019-.253-.004-.025.007.05zm-.012-.074-.01-.049.014.074zm-.039-.169.007.024zm-.013-.048-.039-.116.008.023q.021.058.038.117zm-.065-.184.009.023zm-3.591-.231-.007.013-.012.021zm.138-.21-.029.039.014-.019zm.059-.075-.045.056.015-.019zm2.823-.263.008.007.018.015zm-2.39-.129-.007.005-.02.013z',\n",
       "                  '@fill': '#1976D2'}]}}},\n",
       "             'span': {'@class': 'title', '#text': '3+ Owners'}},\n",
       "            {'@class': 'srp-list-item--pillars-list-item pillar-item__header',\n",
       "             'div': {'@class': 'pillar-item__icon-container',\n",
       "              'svg': {'@aria-labelledby': '',\n",
       "               '@class': 'cfx-icon cfx-icon__houseColor',\n",
       "               '@fill': 'currentColor',\n",
       "               '@height': '32',\n",
       "               '@preserveaspectratio': 'xMidYMid meet',\n",
       "               '@role': 'img',\n",
       "               '@viewbox': '0 0 24 24',\n",
       "               '@width': '32',\n",
       "               'g': {'path': [{'@d': 'M11 13H7v6h4zm6 0h-4v4h4zm-5-3H5l3.5-4.9z',\n",
       "                  '@fill': '#FFFFFF'},\n",
       "                 {'@d': 'M12 10H5l3.5-4.9z', '@fill': '#919191'},\n",
       "                 {'@d': 'M21 21H3V10h18zm-10-8H7v6h4zm6 0h-4v4h4z',\n",
       "                  '@fill': '#919191'},\n",
       "                 {'@d': 'M7 3h10l5 7H12L8.5 5.1 5 10H2z',\n",
       "                  '@fill': '#D32F2F'}]}}},\n",
       "             'span': {'@class': 'title', '#text': 'Personal Use'}},\n",
       "            {'@class': 'srp-list-item--pillars-list-item pillar-item__header',\n",
       "             'div': {'@class': 'service-history-pillar__custom',\n",
       "              'div': {'@class': 'pillar-item__icon-container',\n",
       "               'svg': {'@aria-labelledby': '',\n",
       "                '@class': 'cfx-icon cfx-icon__toolsColor',\n",
       "                '@fill': 'currentColor',\n",
       "                '@height': '32',\n",
       "                '@preserveaspectratio': 'xMidYMid meet',\n",
       "                '@role': 'img',\n",
       "                '@viewbox': '0 0 24 24',\n",
       "                '@width': '32',\n",
       "                'g': {'path': [{'@d': 'M10.207 11.667 2.84 19.04l2.12 2.12L16.34 9.79c.36.13.75.21 1.16.21 1.93 0 3.5-1.57 3.5-3.5 0-.58-.16-1.12-.41-1.6l-2.7 2.7-1.49-1.49 2.7-2.7c-.48-.25-1.02-.41-1.6-.41C15.57 3 14 4.57 14 6.5c0 .41.08.8.21 1.16l-2.589 2.591L7.85 6.48V5.06L4.83 2.04 2 4.87 5.03 7.9h1.41z',\n",
       "                   '@fill': '#919191'},\n",
       "                  {'@d': 'm21.67 18.17-5.3-5.3h-.99l-2.54 2.54v.99l5.3 5.3c.39.39 1.02.39 1.41 0l2.12-2.12a.996.996 0 0 0 0-1.41',\n",
       "                   '@fill': '#2E7D32'}]}},\n",
       "               'span': {'@class': 'count', '@data-count': '7'}},\n",
       "              'span': {'@class': 'title',\n",
       "               '#text': 'Service History'}}}]}}}]}]},\n",
       "    {'@class': 'srp-list-item__main-info',\n",
       "     'div': [{'@class': 'dealer-info-section srp-list-item__section',\n",
       "       'div': [{'strong': 'Dealer:', '#text': 'Los Primos Motors'},\n",
       "        {'@class': 'dealer-info-section__location',\n",
       "         'strong': 'Location:',\n",
       "         'span': ['San Jose, CA', '(45 miles from San Francisco, CA)']}]},\n",
       "      {'@class': 'srp-list-item__basic-info',\n",
       "       'span': [{'@class': 'srp-list-item__basic-info-value',\n",
       "         'strong': 'Mileage:',\n",
       "         '#text': '35,824 miles'},\n",
       "        {'@class': 'srp-list-item__basic-info-value',\n",
       "         'strong': {'abbr': {'@title': 'miles per gallon', '#text': 'MPG'},\n",
       "          '#text': ':'},\n",
       "         'abbr': {'@title': 'highway', '#text': 'hwy'},\n",
       "         '#text': '29 city / 38'},\n",
       "        {'@class': 'srp-list-item__basic-info-value',\n",
       "         'strong': 'Color:',\n",
       "         '#text': 'Silver'},\n",
       "        {'@class': 'srp-list-item__basic-info-value',\n",
       "         'strong': 'Body Style:',\n",
       "         '#text': 'Sedan'},\n",
       "        {'@class': 'srp-list-item__basic-info-value',\n",
       "         'strong': 'Engine:',\n",
       "         '#text': '4 Cyl 2.0 L'},\n",
       "        {'@class': 'srp-list-item__basic-info-value',\n",
       "         'strong': 'Transmission:',\n",
       "         '#text': 'Automatic'}]}]},\n",
       "    {'@class': 'srp-list-item__description-container srp-list-item__section',\n",
       "     'span': [{'@class': 'srp-list-item-options-title',\n",
       "       '#text': 'Description:'},\n",
       "      {'@class': 'srp-list-item-options-descriptions',\n",
       "       '#text': 'Used 2017 Hyundai Elantra SE with  Front-Wheel Drive, Folding Mirrors, Dual Exhaust, Tinted Windows, Keyless Entry, Independent Suspension, Compact Spare Tire, Front Stabilizer Bar, Rear Bench Seat, USB Audio Interface, and Black Grille'}]},\n",
       "    {'@class': 'srp-list-item__collapsible-section',\n",
       "     '@id': 'list-item__show-more',\n",
       "     'div': {'@class': 'srp-list-item__vehicle-history',\n",
       "      'strong': 'Vehicle History:',\n",
       "      'ul': {'li': ['Accident reported: severe damage',\n",
       "        '1st owner purchased on 08/22/16 and owned in CA until 09/24/19',\n",
       "        'Last serviced at 35,512 miles in Fresno, CA on 09/08/23',\n",
       "        '1st owner drove an estimated 8,103 miles/year']},\n",
       "      'div': {'@class': 'srp-list-item__vehicle-history__vin',\n",
       "       'strong': 'VIN:',\n",
       "       'span': '5NPD84LF1HH085432'}}}]},\n",
       "  {'@class': 'srp-list-item__follow-wrapper',\n",
       "   'button': {'@aria-label': 'Click to sign up and follow Used 2017 Hyundai Elantra SE.',\n",
       "    '@class': 'follow-button srp-list-item__follow-button',\n",
       "    '@type': 'button',\n",
       "    'svg': {'@aria-hidden': 'true',\n",
       "     '@aria-labelledby': '',\n",
       "     '@class': 'cfx-icon cfx-icon__heartOutline',\n",
       "     '@fill': 'currentColor',\n",
       "     '@height': '22',\n",
       "     '@preserveaspectratio': 'xMidYMid meet',\n",
       "     '@role': 'img',\n",
       "     '@viewbox': '0 0 24 24',\n",
       "     '@width': '22',\n",
       "     'g': {'path': {'@d': 'm12.1 18.55-.1.1-.11-.1C7.14 14.24 4 11.39 4 8.5 4 6.5 5.5 5 7.5 5c1.54 0 3.04 1 3.57 2.36h1.86C13.46 6 14.96 5 16.5 5c2 0 3.5 1.5 3.5 3.5 0 2.89-3.14 5.74-7.9 10.05M16.5 3c-1.74 0-3.41.81-4.5 2.08C10.91 3.81 9.24 3 7.5 3 4.42 3 2 5.41 2 8.5c0 3.77 3.4 6.86 8.55 11.53L12 21.35l1.45-1.32C18.6 15.36 22 12.27 22 8.5 22 5.41 19.58 3 16.5 3'}}}}}]}"
      ]
     },
     "execution_count": 35,
     "metadata": {},
     "output_type": "execute_result"
    }
   ],
   "source": [
    "item['article']['div']['div'][0]"
   ]
  },
  {
   "cell_type": "code",
   "execution_count": null,
   "id": "781c2b10-1cf5-4611-90d9-8cca4351f5ca",
   "metadata": {},
   "outputs": [],
   "source": []
  }
 ],
 "metadata": {
  "availableInstances": [
   {
    "_defaultOrder": 0,
    "_isFastLaunch": true,
    "category": "General purpose",
    "gpuNum": 0,
    "hideHardwareSpecs": false,
    "memoryGiB": 4,
    "name": "ml.t3.medium",
    "vcpuNum": 2
   },
   {
    "_defaultOrder": 1,
    "_isFastLaunch": false,
    "category": "General purpose",
    "gpuNum": 0,
    "hideHardwareSpecs": false,
    "memoryGiB": 8,
    "name": "ml.t3.large",
    "vcpuNum": 2
   },
   {
    "_defaultOrder": 2,
    "_isFastLaunch": false,
    "category": "General purpose",
    "gpuNum": 0,
    "hideHardwareSpecs": false,
    "memoryGiB": 16,
    "name": "ml.t3.xlarge",
    "vcpuNum": 4
   },
   {
    "_defaultOrder": 3,
    "_isFastLaunch": false,
    "category": "General purpose",
    "gpuNum": 0,
    "hideHardwareSpecs": false,
    "memoryGiB": 32,
    "name": "ml.t3.2xlarge",
    "vcpuNum": 8
   },
   {
    "_defaultOrder": 4,
    "_isFastLaunch": true,
    "category": "General purpose",
    "gpuNum": 0,
    "hideHardwareSpecs": false,
    "memoryGiB": 8,
    "name": "ml.m5.large",
    "vcpuNum": 2
   },
   {
    "_defaultOrder": 5,
    "_isFastLaunch": false,
    "category": "General purpose",
    "gpuNum": 0,
    "hideHardwareSpecs": false,
    "memoryGiB": 16,
    "name": "ml.m5.xlarge",
    "vcpuNum": 4
   },
   {
    "_defaultOrder": 6,
    "_isFastLaunch": false,
    "category": "General purpose",
    "gpuNum": 0,
    "hideHardwareSpecs": false,
    "memoryGiB": 32,
    "name": "ml.m5.2xlarge",
    "vcpuNum": 8
   },
   {
    "_defaultOrder": 7,
    "_isFastLaunch": false,
    "category": "General purpose",
    "gpuNum": 0,
    "hideHardwareSpecs": false,
    "memoryGiB": 64,
    "name": "ml.m5.4xlarge",
    "vcpuNum": 16
   },
   {
    "_defaultOrder": 8,
    "_isFastLaunch": false,
    "category": "General purpose",
    "gpuNum": 0,
    "hideHardwareSpecs": false,
    "memoryGiB": 128,
    "name": "ml.m5.8xlarge",
    "vcpuNum": 32
   },
   {
    "_defaultOrder": 9,
    "_isFastLaunch": false,
    "category": "General purpose",
    "gpuNum": 0,
    "hideHardwareSpecs": false,
    "memoryGiB": 192,
    "name": "ml.m5.12xlarge",
    "vcpuNum": 48
   },
   {
    "_defaultOrder": 10,
    "_isFastLaunch": false,
    "category": "General purpose",
    "gpuNum": 0,
    "hideHardwareSpecs": false,
    "memoryGiB": 256,
    "name": "ml.m5.16xlarge",
    "vcpuNum": 64
   },
   {
    "_defaultOrder": 11,
    "_isFastLaunch": false,
    "category": "General purpose",
    "gpuNum": 0,
    "hideHardwareSpecs": false,
    "memoryGiB": 384,
    "name": "ml.m5.24xlarge",
    "vcpuNum": 96
   },
   {
    "_defaultOrder": 12,
    "_isFastLaunch": false,
    "category": "General purpose",
    "gpuNum": 0,
    "hideHardwareSpecs": false,
    "memoryGiB": 8,
    "name": "ml.m5d.large",
    "vcpuNum": 2
   },
   {
    "_defaultOrder": 13,
    "_isFastLaunch": false,
    "category": "General purpose",
    "gpuNum": 0,
    "hideHardwareSpecs": false,
    "memoryGiB": 16,
    "name": "ml.m5d.xlarge",
    "vcpuNum": 4
   },
   {
    "_defaultOrder": 14,
    "_isFastLaunch": false,
    "category": "General purpose",
    "gpuNum": 0,
    "hideHardwareSpecs": false,
    "memoryGiB": 32,
    "name": "ml.m5d.2xlarge",
    "vcpuNum": 8
   },
   {
    "_defaultOrder": 15,
    "_isFastLaunch": false,
    "category": "General purpose",
    "gpuNum": 0,
    "hideHardwareSpecs": false,
    "memoryGiB": 64,
    "name": "ml.m5d.4xlarge",
    "vcpuNum": 16
   },
   {
    "_defaultOrder": 16,
    "_isFastLaunch": false,
    "category": "General purpose",
    "gpuNum": 0,
    "hideHardwareSpecs": false,
    "memoryGiB": 128,
    "name": "ml.m5d.8xlarge",
    "vcpuNum": 32
   },
   {
    "_defaultOrder": 17,
    "_isFastLaunch": false,
    "category": "General purpose",
    "gpuNum": 0,
    "hideHardwareSpecs": false,
    "memoryGiB": 192,
    "name": "ml.m5d.12xlarge",
    "vcpuNum": 48
   },
   {
    "_defaultOrder": 18,
    "_isFastLaunch": false,
    "category": "General purpose",
    "gpuNum": 0,
    "hideHardwareSpecs": false,
    "memoryGiB": 256,
    "name": "ml.m5d.16xlarge",
    "vcpuNum": 64
   },
   {
    "_defaultOrder": 19,
    "_isFastLaunch": false,
    "category": "General purpose",
    "gpuNum": 0,
    "hideHardwareSpecs": false,
    "memoryGiB": 384,
    "name": "ml.m5d.24xlarge",
    "vcpuNum": 96
   },
   {
    "_defaultOrder": 20,
    "_isFastLaunch": false,
    "category": "General purpose",
    "gpuNum": 0,
    "hideHardwareSpecs": true,
    "memoryGiB": 0,
    "name": "ml.geospatial.interactive",
    "supportedImageNames": [
     "sagemaker-geospatial-v1-0"
    ],
    "vcpuNum": 0
   },
   {
    "_defaultOrder": 21,
    "_isFastLaunch": true,
    "category": "Compute optimized",
    "gpuNum": 0,
    "hideHardwareSpecs": false,
    "memoryGiB": 4,
    "name": "ml.c5.large",
    "vcpuNum": 2
   },
   {
    "_defaultOrder": 22,
    "_isFastLaunch": false,
    "category": "Compute optimized",
    "gpuNum": 0,
    "hideHardwareSpecs": false,
    "memoryGiB": 8,
    "name": "ml.c5.xlarge",
    "vcpuNum": 4
   },
   {
    "_defaultOrder": 23,
    "_isFastLaunch": false,
    "category": "Compute optimized",
    "gpuNum": 0,
    "hideHardwareSpecs": false,
    "memoryGiB": 16,
    "name": "ml.c5.2xlarge",
    "vcpuNum": 8
   },
   {
    "_defaultOrder": 24,
    "_isFastLaunch": false,
    "category": "Compute optimized",
    "gpuNum": 0,
    "hideHardwareSpecs": false,
    "memoryGiB": 32,
    "name": "ml.c5.4xlarge",
    "vcpuNum": 16
   },
   {
    "_defaultOrder": 25,
    "_isFastLaunch": false,
    "category": "Compute optimized",
    "gpuNum": 0,
    "hideHardwareSpecs": false,
    "memoryGiB": 72,
    "name": "ml.c5.9xlarge",
    "vcpuNum": 36
   },
   {
    "_defaultOrder": 26,
    "_isFastLaunch": false,
    "category": "Compute optimized",
    "gpuNum": 0,
    "hideHardwareSpecs": false,
    "memoryGiB": 96,
    "name": "ml.c5.12xlarge",
    "vcpuNum": 48
   },
   {
    "_defaultOrder": 27,
    "_isFastLaunch": false,
    "category": "Compute optimized",
    "gpuNum": 0,
    "hideHardwareSpecs": false,
    "memoryGiB": 144,
    "name": "ml.c5.18xlarge",
    "vcpuNum": 72
   },
   {
    "_defaultOrder": 28,
    "_isFastLaunch": false,
    "category": "Compute optimized",
    "gpuNum": 0,
    "hideHardwareSpecs": false,
    "memoryGiB": 192,
    "name": "ml.c5.24xlarge",
    "vcpuNum": 96
   },
   {
    "_defaultOrder": 29,
    "_isFastLaunch": true,
    "category": "Accelerated computing",
    "gpuNum": 1,
    "hideHardwareSpecs": false,
    "memoryGiB": 16,
    "name": "ml.g4dn.xlarge",
    "vcpuNum": 4
   },
   {
    "_defaultOrder": 30,
    "_isFastLaunch": false,
    "category": "Accelerated computing",
    "gpuNum": 1,
    "hideHardwareSpecs": false,
    "memoryGiB": 32,
    "name": "ml.g4dn.2xlarge",
    "vcpuNum": 8
   },
   {
    "_defaultOrder": 31,
    "_isFastLaunch": false,
    "category": "Accelerated computing",
    "gpuNum": 1,
    "hideHardwareSpecs": false,
    "memoryGiB": 64,
    "name": "ml.g4dn.4xlarge",
    "vcpuNum": 16
   },
   {
    "_defaultOrder": 32,
    "_isFastLaunch": false,
    "category": "Accelerated computing",
    "gpuNum": 1,
    "hideHardwareSpecs": false,
    "memoryGiB": 128,
    "name": "ml.g4dn.8xlarge",
    "vcpuNum": 32
   },
   {
    "_defaultOrder": 33,
    "_isFastLaunch": false,
    "category": "Accelerated computing",
    "gpuNum": 4,
    "hideHardwareSpecs": false,
    "memoryGiB": 192,
    "name": "ml.g4dn.12xlarge",
    "vcpuNum": 48
   },
   {
    "_defaultOrder": 34,
    "_isFastLaunch": false,
    "category": "Accelerated computing",
    "gpuNum": 1,
    "hideHardwareSpecs": false,
    "memoryGiB": 256,
    "name": "ml.g4dn.16xlarge",
    "vcpuNum": 64
   },
   {
    "_defaultOrder": 35,
    "_isFastLaunch": false,
    "category": "Accelerated computing",
    "gpuNum": 1,
    "hideHardwareSpecs": false,
    "memoryGiB": 61,
    "name": "ml.p3.2xlarge",
    "vcpuNum": 8
   },
   {
    "_defaultOrder": 36,
    "_isFastLaunch": false,
    "category": "Accelerated computing",
    "gpuNum": 4,
    "hideHardwareSpecs": false,
    "memoryGiB": 244,
    "name": "ml.p3.8xlarge",
    "vcpuNum": 32
   },
   {
    "_defaultOrder": 37,
    "_isFastLaunch": false,
    "category": "Accelerated computing",
    "gpuNum": 8,
    "hideHardwareSpecs": false,
    "memoryGiB": 488,
    "name": "ml.p3.16xlarge",
    "vcpuNum": 64
   },
   {
    "_defaultOrder": 38,
    "_isFastLaunch": false,
    "category": "Accelerated computing",
    "gpuNum": 8,
    "hideHardwareSpecs": false,
    "memoryGiB": 768,
    "name": "ml.p3dn.24xlarge",
    "vcpuNum": 96
   },
   {
    "_defaultOrder": 39,
    "_isFastLaunch": false,
    "category": "Memory Optimized",
    "gpuNum": 0,
    "hideHardwareSpecs": false,
    "memoryGiB": 16,
    "name": "ml.r5.large",
    "vcpuNum": 2
   },
   {
    "_defaultOrder": 40,
    "_isFastLaunch": false,
    "category": "Memory Optimized",
    "gpuNum": 0,
    "hideHardwareSpecs": false,
    "memoryGiB": 32,
    "name": "ml.r5.xlarge",
    "vcpuNum": 4
   },
   {
    "_defaultOrder": 41,
    "_isFastLaunch": false,
    "category": "Memory Optimized",
    "gpuNum": 0,
    "hideHardwareSpecs": false,
    "memoryGiB": 64,
    "name": "ml.r5.2xlarge",
    "vcpuNum": 8
   },
   {
    "_defaultOrder": 42,
    "_isFastLaunch": false,
    "category": "Memory Optimized",
    "gpuNum": 0,
    "hideHardwareSpecs": false,
    "memoryGiB": 128,
    "name": "ml.r5.4xlarge",
    "vcpuNum": 16
   },
   {
    "_defaultOrder": 43,
    "_isFastLaunch": false,
    "category": "Memory Optimized",
    "gpuNum": 0,
    "hideHardwareSpecs": false,
    "memoryGiB": 256,
    "name": "ml.r5.8xlarge",
    "vcpuNum": 32
   },
   {
    "_defaultOrder": 44,
    "_isFastLaunch": false,
    "category": "Memory Optimized",
    "gpuNum": 0,
    "hideHardwareSpecs": false,
    "memoryGiB": 384,
    "name": "ml.r5.12xlarge",
    "vcpuNum": 48
   },
   {
    "_defaultOrder": 45,
    "_isFastLaunch": false,
    "category": "Memory Optimized",
    "gpuNum": 0,
    "hideHardwareSpecs": false,
    "memoryGiB": 512,
    "name": "ml.r5.16xlarge",
    "vcpuNum": 64
   },
   {
    "_defaultOrder": 46,
    "_isFastLaunch": false,
    "category": "Memory Optimized",
    "gpuNum": 0,
    "hideHardwareSpecs": false,
    "memoryGiB": 768,
    "name": "ml.r5.24xlarge",
    "vcpuNum": 96
   },
   {
    "_defaultOrder": 47,
    "_isFastLaunch": false,
    "category": "Accelerated computing",
    "gpuNum": 1,
    "hideHardwareSpecs": false,
    "memoryGiB": 16,
    "name": "ml.g5.xlarge",
    "vcpuNum": 4
   },
   {
    "_defaultOrder": 48,
    "_isFastLaunch": false,
    "category": "Accelerated computing",
    "gpuNum": 1,
    "hideHardwareSpecs": false,
    "memoryGiB": 32,
    "name": "ml.g5.2xlarge",
    "vcpuNum": 8
   },
   {
    "_defaultOrder": 49,
    "_isFastLaunch": false,
    "category": "Accelerated computing",
    "gpuNum": 1,
    "hideHardwareSpecs": false,
    "memoryGiB": 64,
    "name": "ml.g5.4xlarge",
    "vcpuNum": 16
   },
   {
    "_defaultOrder": 50,
    "_isFastLaunch": false,
    "category": "Accelerated computing",
    "gpuNum": 1,
    "hideHardwareSpecs": false,
    "memoryGiB": 128,
    "name": "ml.g5.8xlarge",
    "vcpuNum": 32
   },
   {
    "_defaultOrder": 51,
    "_isFastLaunch": false,
    "category": "Accelerated computing",
    "gpuNum": 1,
    "hideHardwareSpecs": false,
    "memoryGiB": 256,
    "name": "ml.g5.16xlarge",
    "vcpuNum": 64
   },
   {
    "_defaultOrder": 52,
    "_isFastLaunch": false,
    "category": "Accelerated computing",
    "gpuNum": 4,
    "hideHardwareSpecs": false,
    "memoryGiB": 192,
    "name": "ml.g5.12xlarge",
    "vcpuNum": 48
   },
   {
    "_defaultOrder": 53,
    "_isFastLaunch": false,
    "category": "Accelerated computing",
    "gpuNum": 4,
    "hideHardwareSpecs": false,
    "memoryGiB": 384,
    "name": "ml.g5.24xlarge",
    "vcpuNum": 96
   },
   {
    "_defaultOrder": 54,
    "_isFastLaunch": false,
    "category": "Accelerated computing",
    "gpuNum": 8,
    "hideHardwareSpecs": false,
    "memoryGiB": 768,
    "name": "ml.g5.48xlarge",
    "vcpuNum": 192
   },
   {
    "_defaultOrder": 55,
    "_isFastLaunch": false,
    "category": "Accelerated computing",
    "gpuNum": 8,
    "hideHardwareSpecs": false,
    "memoryGiB": 1152,
    "name": "ml.p4d.24xlarge",
    "vcpuNum": 96
   },
   {
    "_defaultOrder": 56,
    "_isFastLaunch": false,
    "category": "Accelerated computing",
    "gpuNum": 8,
    "hideHardwareSpecs": false,
    "memoryGiB": 1152,
    "name": "ml.p4de.24xlarge",
    "vcpuNum": 96
   },
   {
    "_defaultOrder": 57,
    "_isFastLaunch": false,
    "category": "Accelerated computing",
    "gpuNum": 0,
    "hideHardwareSpecs": false,
    "memoryGiB": 32,
    "name": "ml.trn1.2xlarge",
    "vcpuNum": 8
   },
   {
    "_defaultOrder": 58,
    "_isFastLaunch": false,
    "category": "Accelerated computing",
    "gpuNum": 0,
    "hideHardwareSpecs": false,
    "memoryGiB": 512,
    "name": "ml.trn1.32xlarge",
    "vcpuNum": 128
   },
   {
    "_defaultOrder": 59,
    "_isFastLaunch": false,
    "category": "Accelerated computing",
    "gpuNum": 0,
    "hideHardwareSpecs": false,
    "memoryGiB": 512,
    "name": "ml.trn1n.32xlarge",
    "vcpuNum": 128
   }
  ],
  "instance_type": "ml.t3.medium",
  "kernelspec": {
   "display_name": "Python 3 (Data Science 3.0)",
   "language": "python",
   "name": "python3__SAGEMAKER_INTERNAL__arn:aws:sagemaker:us-west-2:236514542706:image/sagemaker-data-science-310-v1"
  },
  "language_info": {
   "codemirror_mode": {
    "name": "ipython",
    "version": 3
   },
   "file_extension": ".py",
   "mimetype": "text/x-python",
   "name": "python",
   "nbconvert_exporter": "python",
   "pygments_lexer": "ipython3",
   "version": "3.10.6"
  }
 },
 "nbformat": 4,
 "nbformat_minor": 5
}
