{
 "cells": [
  {
   "cell_type": "code",
   "execution_count": 4,
   "metadata": {},
   "outputs": [],
   "source": [
    "import pandas as pd\n",
    "import matplotlib.pyplot as plt"
   ]
  },
  {
   "cell_type": "code",
   "execution_count": 51,
   "metadata": {},
   "outputs": [],
   "source": [
    "df = pd.read_html('https://en.wikipedia.org/wiki/World_Happiness_Report#2018_World_Happiness_Report')"
   ]
  },
  {
   "cell_type": "code",
   "execution_count": 52,
   "metadata": {},
   "outputs": [],
   "source": [
    "happiness = df[4]"
   ]
  },
  {
   "cell_type": "code",
   "execution_count": 53,
   "metadata": {},
   "outputs": [],
   "source": [
    "happiness = happiness.rename(columns={'Country/Region': 'Country'})"
   ]
  },
  {
   "cell_type": "code",
   "execution_count": 54,
   "metadata": {},
   "outputs": [
    {
     "data": {
      "text/html": [
       "<div>\n",
       "<style scoped>\n",
       "    .dataframe tbody tr th:only-of-type {\n",
       "        vertical-align: middle;\n",
       "    }\n",
       "\n",
       "    .dataframe tbody tr th {\n",
       "        vertical-align: top;\n",
       "    }\n",
       "\n",
       "    .dataframe thead th {\n",
       "        text-align: right;\n",
       "    }\n",
       "</style>\n",
       "<table border=\"1\" class=\"dataframe\">\n",
       "  <thead>\n",
       "    <tr style=\"text-align: right;\">\n",
       "      <th></th>\n",
       "      <th>Overall Rank</th>\n",
       "      <th>Country</th>\n",
       "      <th>Score</th>\n",
       "      <th>GDP per capita</th>\n",
       "      <th>Social support</th>\n",
       "      <th>Healthy life expectancy</th>\n",
       "      <th>Freedom to make life choices</th>\n",
       "      <th>Generosity</th>\n",
       "      <th>Perceptions of corruption</th>\n",
       "    </tr>\n",
       "  </thead>\n",
       "  <tbody>\n",
       "    <tr>\n",
       "      <th>0</th>\n",
       "      <td>1</td>\n",
       "      <td>Finland</td>\n",
       "      <td>7.632</td>\n",
       "      <td>1.305</td>\n",
       "      <td>1.592</td>\n",
       "      <td>0.874</td>\n",
       "      <td>0.681</td>\n",
       "      <td>0.192</td>\n",
       "      <td>0.393</td>\n",
       "    </tr>\n",
       "    <tr>\n",
       "      <th>1</th>\n",
       "      <td>2</td>\n",
       "      <td>Norway</td>\n",
       "      <td>7.594</td>\n",
       "      <td>1.456</td>\n",
       "      <td>1.582</td>\n",
       "      <td>0.861</td>\n",
       "      <td>0.686</td>\n",
       "      <td>0.286</td>\n",
       "      <td>0.340</td>\n",
       "    </tr>\n",
       "    <tr>\n",
       "      <th>2</th>\n",
       "      <td>3</td>\n",
       "      <td>Denmark</td>\n",
       "      <td>7.555</td>\n",
       "      <td>1.351</td>\n",
       "      <td>1.590</td>\n",
       "      <td>0.868</td>\n",
       "      <td>0.683</td>\n",
       "      <td>0.284</td>\n",
       "      <td>0.408</td>\n",
       "    </tr>\n",
       "    <tr>\n",
       "      <th>3</th>\n",
       "      <td>4</td>\n",
       "      <td>Iceland</td>\n",
       "      <td>7.495</td>\n",
       "      <td>1.343</td>\n",
       "      <td>1.644</td>\n",
       "      <td>0.914</td>\n",
       "      <td>0.677</td>\n",
       "      <td>0.353</td>\n",
       "      <td>0.138</td>\n",
       "    </tr>\n",
       "    <tr>\n",
       "      <th>4</th>\n",
       "      <td>5</td>\n",
       "      <td>Switzerland</td>\n",
       "      <td>7.487</td>\n",
       "      <td>1.420</td>\n",
       "      <td>1.549</td>\n",
       "      <td>0.927</td>\n",
       "      <td>0.660</td>\n",
       "      <td>0.256</td>\n",
       "      <td>0.357</td>\n",
       "    </tr>\n",
       "  </tbody>\n",
       "</table>\n",
       "</div>"
      ],
      "text/plain": [
       "   Overall Rank      Country  Score  GDP per capita  Social support  \\\n",
       "0             1      Finland  7.632           1.305           1.592   \n",
       "1             2       Norway  7.594           1.456           1.582   \n",
       "2             3      Denmark  7.555           1.351           1.590   \n",
       "3             4      Iceland  7.495           1.343           1.644   \n",
       "4             5  Switzerland  7.487           1.420           1.549   \n",
       "\n",
       "   Healthy life expectancy  Freedom to make life choices  Generosity  \\\n",
       "0                    0.874                         0.681       0.192   \n",
       "1                    0.861                         0.686       0.286   \n",
       "2                    0.868                         0.683       0.284   \n",
       "3                    0.914                         0.677       0.353   \n",
       "4                    0.927                         0.660       0.256   \n",
       "\n",
       "   Perceptions of corruption  \n",
       "0                      0.393  \n",
       "1                      0.340  \n",
       "2                      0.408  \n",
       "3                      0.138  \n",
       "4                      0.357  "
      ]
     },
     "execution_count": 54,
     "metadata": {},
     "output_type": "execute_result"
    }
   ],
   "source": [
    "happiness.head()"
   ]
  },
  {
   "cell_type": "code",
   "execution_count": 19,
   "metadata": {},
   "outputs": [],
   "source": [
    "from  pandas_datareader import wb"
   ]
  },
  {
   "cell_type": "code",
   "execution_count": 24,
   "metadata": {},
   "outputs": [],
   "source": [
    "wbr = wb.WorldBankReader('SI.POV.GINI', 'all', 2015, 2019)"
   ]
  },
  {
   "cell_type": "code",
   "execution_count": 31,
   "metadata": {},
   "outputs": [],
   "source": [
    "gini = wbr.read().dropna()"
   ]
  },
  {
   "cell_type": "code",
   "execution_count": 34,
   "metadata": {},
   "outputs": [],
   "source": [
    "gini = gini.groupby('country').apply(lambda x: x.iloc[0])"
   ]
  },
  {
   "cell_type": "code",
   "execution_count": 41,
   "metadata": {},
   "outputs": [],
   "source": [
    "gini = gini.reset_index()"
   ]
  },
  {
   "cell_type": "code",
   "execution_count": 43,
   "metadata": {},
   "outputs": [],
   "source": [
    "gini = gini.rename(columns={'country': 'Country'})"
   ]
  },
  {
   "cell_type": "code",
   "execution_count": 35,
   "metadata": {},
   "outputs": [],
   "source": [
    "# pd.read_html('https://en.wikipedia.org/wiki/List_of_countries_by_income_equality')"
   ]
  },
  {
   "cell_type": "code",
   "execution_count": 36,
   "metadata": {},
   "outputs": [],
   "source": [
    "# gini = gini_wiki[3]"
   ]
  },
  {
   "cell_type": "code",
   "execution_count": null,
   "metadata": {},
   "outputs": [],
   "source": [
    "# gini.columns = gini.iloc[0]"
   ]
  },
  {
   "cell_type": "code",
   "execution_count": null,
   "metadata": {},
   "outputs": [],
   "source": [
    "# gini = gini.drop(0)"
   ]
  },
  {
   "cell_type": "code",
   "execution_count": 38,
   "metadata": {},
   "outputs": [
    {
     "data": {
      "text/html": [
       "<div>\n",
       "<style scoped>\n",
       "    .dataframe tbody tr th:only-of-type {\n",
       "        vertical-align: middle;\n",
       "    }\n",
       "\n",
       "    .dataframe tbody tr th {\n",
       "        vertical-align: top;\n",
       "    }\n",
       "\n",
       "    .dataframe thead th {\n",
       "        text-align: right;\n",
       "    }\n",
       "</style>\n",
       "<table border=\"1\" class=\"dataframe\">\n",
       "  <thead>\n",
       "    <tr style=\"text-align: right;\">\n",
       "      <th></th>\n",
       "      <th>SI.POV.GINI</th>\n",
       "    </tr>\n",
       "    <tr>\n",
       "      <th>country</th>\n",
       "      <th></th>\n",
       "    </tr>\n",
       "  </thead>\n",
       "  <tbody>\n",
       "    <tr>\n",
       "      <th>Argentina</th>\n",
       "      <td>40.6</td>\n",
       "    </tr>\n",
       "    <tr>\n",
       "      <th>Armenia</th>\n",
       "      <td>33.6</td>\n",
       "    </tr>\n",
       "    <tr>\n",
       "      <th>Austria</th>\n",
       "      <td>30.5</td>\n",
       "    </tr>\n",
       "    <tr>\n",
       "      <th>Bangladesh</th>\n",
       "      <td>32.4</td>\n",
       "    </tr>\n",
       "    <tr>\n",
       "      <th>Belarus</th>\n",
       "      <td>25.4</td>\n",
       "    </tr>\n",
       "  </tbody>\n",
       "</table>\n",
       "</div>"
      ],
      "text/plain": [
       "            SI.POV.GINI\n",
       "country                \n",
       "Argentina          40.6\n",
       "Armenia            33.6\n",
       "Austria            30.5\n",
       "Bangladesh         32.4\n",
       "Belarus            25.4"
      ]
     },
     "execution_count": 38,
     "metadata": {},
     "output_type": "execute_result"
    }
   ],
   "source": [
    "gini.head()"
   ]
  },
  {
   "cell_type": "code",
   "execution_count": 55,
   "metadata": {},
   "outputs": [],
   "source": [
    "df = gini.merge(happiness, left_on='Country', right_on='Country')"
   ]
  },
  {
   "cell_type": "code",
   "execution_count": 56,
   "metadata": {},
   "outputs": [],
   "source": [
    "df = df.set_index('Country')"
   ]
  },
  {
   "cell_type": "code",
   "execution_count": 57,
   "metadata": {},
   "outputs": [],
   "source": [
    "df = df.apply(lambda x: pd.to_numeric(x, errors='coerse'))"
   ]
  },
  {
   "cell_type": "code",
   "execution_count": 71,
   "metadata": {},
   "outputs": [],
   "source": [
    "GINI_FIELD = 'SI.POV.GINI'"
   ]
  },
  {
   "cell_type": "code",
   "execution_count": 72,
   "metadata": {},
   "outputs": [
    {
     "data": {
      "text/plain": [
       "-0.33153835476935206"
      ]
     },
     "execution_count": 72,
     "metadata": {},
     "output_type": "execute_result"
    }
   ],
   "source": [
    "df[GINI_FIELD].corr(df['Score'])"
   ]
  },
  {
   "cell_type": "code",
   "execution_count": 60,
   "metadata": {},
   "outputs": [
    {
     "data": {
      "text/html": [
       "<div>\n",
       "<style scoped>\n",
       "    .dataframe tbody tr th:only-of-type {\n",
       "        vertical-align: middle;\n",
       "    }\n",
       "\n",
       "    .dataframe tbody tr th {\n",
       "        vertical-align: top;\n",
       "    }\n",
       "\n",
       "    .dataframe thead th {\n",
       "        text-align: right;\n",
       "    }\n",
       "</style>\n",
       "<table border=\"1\" class=\"dataframe\">\n",
       "  <thead>\n",
       "    <tr style=\"text-align: right;\">\n",
       "      <th></th>\n",
       "      <th>SI.POV.GINI</th>\n",
       "      <th>Overall Rank</th>\n",
       "      <th>Score</th>\n",
       "      <th>GDP per capita</th>\n",
       "      <th>Social support</th>\n",
       "      <th>Healthy life expectancy</th>\n",
       "      <th>Freedom to make life choices</th>\n",
       "      <th>Generosity</th>\n",
       "      <th>Perceptions of corruption</th>\n",
       "    </tr>\n",
       "    <tr>\n",
       "      <th>Country</th>\n",
       "      <th></th>\n",
       "      <th></th>\n",
       "      <th></th>\n",
       "      <th></th>\n",
       "      <th></th>\n",
       "      <th></th>\n",
       "      <th></th>\n",
       "      <th></th>\n",
       "      <th></th>\n",
       "    </tr>\n",
       "  </thead>\n",
       "  <tbody>\n",
       "    <tr>\n",
       "      <th>Argentina</th>\n",
       "      <td>40.6</td>\n",
       "      <td>29</td>\n",
       "      <td>6.388</td>\n",
       "      <td>1.073</td>\n",
       "      <td>1.468</td>\n",
       "      <td>0.744</td>\n",
       "      <td>0.570</td>\n",
       "      <td>0.062</td>\n",
       "      <td>0.054</td>\n",
       "    </tr>\n",
       "    <tr>\n",
       "      <th>Armenia</th>\n",
       "      <td>33.6</td>\n",
       "      <td>129</td>\n",
       "      <td>4.321</td>\n",
       "      <td>0.816</td>\n",
       "      <td>0.990</td>\n",
       "      <td>0.666</td>\n",
       "      <td>0.260</td>\n",
       "      <td>0.077</td>\n",
       "      <td>0.028</td>\n",
       "    </tr>\n",
       "    <tr>\n",
       "      <th>Austria</th>\n",
       "      <td>30.5</td>\n",
       "      <td>12</td>\n",
       "      <td>7.139</td>\n",
       "      <td>1.341</td>\n",
       "      <td>1.504</td>\n",
       "      <td>0.891</td>\n",
       "      <td>0.617</td>\n",
       "      <td>0.242</td>\n",
       "      <td>0.224</td>\n",
       "    </tr>\n",
       "    <tr>\n",
       "      <th>Bangladesh</th>\n",
       "      <td>32.4</td>\n",
       "      <td>115</td>\n",
       "      <td>4.500</td>\n",
       "      <td>0.532</td>\n",
       "      <td>0.850</td>\n",
       "      <td>0.579</td>\n",
       "      <td>0.580</td>\n",
       "      <td>0.153</td>\n",
       "      <td>0.144</td>\n",
       "    </tr>\n",
       "    <tr>\n",
       "      <th>Belarus</th>\n",
       "      <td>25.4</td>\n",
       "      <td>73</td>\n",
       "      <td>5.483</td>\n",
       "      <td>1.039</td>\n",
       "      <td>1.498</td>\n",
       "      <td>0.700</td>\n",
       "      <td>0.307</td>\n",
       "      <td>0.101</td>\n",
       "      <td>0.154</td>\n",
       "    </tr>\n",
       "  </tbody>\n",
       "</table>\n",
       "</div>"
      ],
      "text/plain": [
       "            SI.POV.GINI  Overall Rank  Score  GDP per capita  Social support  \\\n",
       "Country                                                                        \n",
       "Argentina          40.6            29  6.388           1.073           1.468   \n",
       "Armenia            33.6           129  4.321           0.816           0.990   \n",
       "Austria            30.5            12  7.139           1.341           1.504   \n",
       "Bangladesh         32.4           115  4.500           0.532           0.850   \n",
       "Belarus            25.4            73  5.483           1.039           1.498   \n",
       "\n",
       "            Healthy life expectancy  Freedom to make life choices  Generosity  \\\n",
       "Country                                                                         \n",
       "Argentina                     0.744                         0.570       0.062   \n",
       "Armenia                       0.666                         0.260       0.077   \n",
       "Austria                       0.891                         0.617       0.242   \n",
       "Bangladesh                    0.579                         0.580       0.153   \n",
       "Belarus                       0.700                         0.307       0.101   \n",
       "\n",
       "            Perceptions of corruption  \n",
       "Country                                \n",
       "Argentina                       0.054  \n",
       "Armenia                         0.028  \n",
       "Austria                         0.224  \n",
       "Bangladesh                      0.144  \n",
       "Belarus                         0.154  "
      ]
     },
     "execution_count": 60,
     "metadata": {},
     "output_type": "execute_result"
    }
   ],
   "source": [
    "df.head()"
   ]
  },
  {
   "cell_type": "code",
   "execution_count": 67,
   "metadata": {},
   "outputs": [],
   "source": [
    "oecd_wiki = pd.read_html('https://en.wikipedia.org/wiki/OECD')"
   ]
  },
  {
   "cell_type": "code",
   "execution_count": 68,
   "metadata": {},
   "outputs": [],
   "source": [
    "oecd = oecd_wiki[5]"
   ]
  },
  {
   "cell_type": "code",
   "execution_count": 63,
   "metadata": {},
   "outputs": [],
   "source": [
    "# oecd.columns = oecd.iloc[0]"
   ]
  },
  {
   "cell_type": "code",
   "execution_count": 64,
   "metadata": {},
   "outputs": [],
   "source": [
    "# oecd = oecd.drop(0)"
   ]
  },
  {
   "cell_type": "code",
   "execution_count": 70,
   "metadata": {},
   "outputs": [
    {
     "name": "stderr",
     "output_type": "stream",
     "text": [
      "/Users/jordanvalansi/.virtualenv/notebooks/lib/python3.6/site-packages/ipykernel_launcher.py:1: FutureWarning: \n",
      "Passing list-likes to .loc or [] with any missing label will raise\n",
      "KeyError in the future, you can use .reindex() as an alternative.\n",
      "\n",
      "See the documentation here:\n",
      "https://pandas.pydata.org/pandas-docs/stable/indexing.html#deprecate-loc-reindex-listlike\n",
      "  \"\"\"Entry point for launching an IPython kernel.\n"
     ]
    }
   ],
   "source": [
    "oecd_df = df.loc[oecd['Country']]"
   ]
  },
  {
   "cell_type": "code",
   "execution_count": 73,
   "metadata": {},
   "outputs": [
    {
     "data": {
      "text/plain": [
       "-0.3603043063733193"
      ]
     },
     "execution_count": 73,
     "metadata": {},
     "output_type": "execute_result"
    }
   ],
   "source": [
    "oecd_df[GINI_FIELD].corr(oecd_df['Score'])"
   ]
  },
  {
   "cell_type": "code",
   "execution_count": 74,
   "metadata": {},
   "outputs": [
    {
     "data": {
      "text/html": [
       "<div>\n",
       "<style scoped>\n",
       "    .dataframe tbody tr th:only-of-type {\n",
       "        vertical-align: middle;\n",
       "    }\n",
       "\n",
       "    .dataframe tbody tr th {\n",
       "        vertical-align: top;\n",
       "    }\n",
       "\n",
       "    .dataframe thead th {\n",
       "        text-align: right;\n",
       "    }\n",
       "</style>\n",
       "<table border=\"1\" class=\"dataframe\">\n",
       "  <thead>\n",
       "    <tr style=\"text-align: right;\">\n",
       "      <th></th>\n",
       "      <th>SI.POV.GINI</th>\n",
       "      <th>Score</th>\n",
       "    </tr>\n",
       "    <tr>\n",
       "      <th>Country</th>\n",
       "      <th></th>\n",
       "      <th></th>\n",
       "    </tr>\n",
       "  </thead>\n",
       "  <tbody>\n",
       "    <tr>\n",
       "      <th>Slovenia</th>\n",
       "      <td>25.4</td>\n",
       "      <td>5.948</td>\n",
       "    </tr>\n",
       "    <tr>\n",
       "      <th>Czech Republic</th>\n",
       "      <td>25.9</td>\n",
       "      <td>6.711</td>\n",
       "    </tr>\n",
       "    <tr>\n",
       "      <th>Finland</th>\n",
       "      <td>27.1</td>\n",
       "      <td>7.632</td>\n",
       "    </tr>\n",
       "    <tr>\n",
       "      <th>Norway</th>\n",
       "      <td>27.5</td>\n",
       "      <td>7.594</td>\n",
       "    </tr>\n",
       "    <tr>\n",
       "      <th>Belgium</th>\n",
       "      <td>27.7</td>\n",
       "      <td>6.927</td>\n",
       "    </tr>\n",
       "    <tr>\n",
       "      <th>Netherlands</th>\n",
       "      <td>28.2</td>\n",
       "      <td>7.441</td>\n",
       "    </tr>\n",
       "    <tr>\n",
       "      <th>Denmark</th>\n",
       "      <td>28.2</td>\n",
       "      <td>7.555</td>\n",
       "    </tr>\n",
       "    <tr>\n",
       "      <th>Sweden</th>\n",
       "      <td>29.2</td>\n",
       "      <td>7.314</td>\n",
       "    </tr>\n",
       "    <tr>\n",
       "      <th>Hungary</th>\n",
       "      <td>30.4</td>\n",
       "      <td>5.620</td>\n",
       "    </tr>\n",
       "    <tr>\n",
       "      <th>Austria</th>\n",
       "      <td>30.5</td>\n",
       "      <td>7.139</td>\n",
       "    </tr>\n",
       "    <tr>\n",
       "      <th>Poland</th>\n",
       "      <td>30.8</td>\n",
       "      <td>6.123</td>\n",
       "    </tr>\n",
       "    <tr>\n",
       "      <th>Germany</th>\n",
       "      <td>31.7</td>\n",
       "      <td>6.965</td>\n",
       "    </tr>\n",
       "    <tr>\n",
       "      <th>Ireland</th>\n",
       "      <td>31.8</td>\n",
       "      <td>6.977</td>\n",
       "    </tr>\n",
       "    <tr>\n",
       "      <th>Switzerland</th>\n",
       "      <td>32.3</td>\n",
       "      <td>7.487</td>\n",
       "    </tr>\n",
       "    <tr>\n",
       "      <th>France</th>\n",
       "      <td>32.7</td>\n",
       "      <td>6.489</td>\n",
       "    </tr>\n",
       "    <tr>\n",
       "      <th>Estonia</th>\n",
       "      <td>32.7</td>\n",
       "      <td>5.739</td>\n",
       "    </tr>\n",
       "    <tr>\n",
       "      <th>United Kingdom</th>\n",
       "      <td>33.2</td>\n",
       "      <td>6.814</td>\n",
       "    </tr>\n",
       "    <tr>\n",
       "      <th>Luxembourg</th>\n",
       "      <td>33.8</td>\n",
       "      <td>6.910</td>\n",
       "    </tr>\n",
       "    <tr>\n",
       "      <th>Latvia</th>\n",
       "      <td>34.2</td>\n",
       "      <td>5.933</td>\n",
       "    </tr>\n",
       "    <tr>\n",
       "      <th>Italy</th>\n",
       "      <td>35.4</td>\n",
       "      <td>6.000</td>\n",
       "    </tr>\n",
       "    <tr>\n",
       "      <th>Portugal</th>\n",
       "      <td>35.5</td>\n",
       "      <td>5.410</td>\n",
       "    </tr>\n",
       "    <tr>\n",
       "      <th>Greece</th>\n",
       "      <td>36.0</td>\n",
       "      <td>5.358</td>\n",
       "    </tr>\n",
       "    <tr>\n",
       "      <th>Spain</th>\n",
       "      <td>36.2</td>\n",
       "      <td>6.310</td>\n",
       "    </tr>\n",
       "    <tr>\n",
       "      <th>Lithuania</th>\n",
       "      <td>37.4</td>\n",
       "      <td>5.952</td>\n",
       "    </tr>\n",
       "    <tr>\n",
       "      <th>Israel</th>\n",
       "      <td>38.9</td>\n",
       "      <td>7.190</td>\n",
       "    </tr>\n",
       "    <tr>\n",
       "      <th>United States</th>\n",
       "      <td>41.5</td>\n",
       "      <td>6.886</td>\n",
       "    </tr>\n",
       "    <tr>\n",
       "      <th>Turkey</th>\n",
       "      <td>41.9</td>\n",
       "      <td>5.483</td>\n",
       "    </tr>\n",
       "    <tr>\n",
       "      <th>Mexico</th>\n",
       "      <td>43.4</td>\n",
       "      <td>6.488</td>\n",
       "    </tr>\n",
       "    <tr>\n",
       "      <th>Chile</th>\n",
       "      <td>46.6</td>\n",
       "      <td>6.476</td>\n",
       "    </tr>\n",
       "    <tr>\n",
       "      <th>Australia</th>\n",
       "      <td>NaN</td>\n",
       "      <td>NaN</td>\n",
       "    </tr>\n",
       "    <tr>\n",
       "      <th>Canada</th>\n",
       "      <td>NaN</td>\n",
       "      <td>NaN</td>\n",
       "    </tr>\n",
       "    <tr>\n",
       "      <th>Iceland</th>\n",
       "      <td>NaN</td>\n",
       "      <td>NaN</td>\n",
       "    </tr>\n",
       "    <tr>\n",
       "      <th>Japan</th>\n",
       "      <td>NaN</td>\n",
       "      <td>NaN</td>\n",
       "    </tr>\n",
       "    <tr>\n",
       "      <th>South Korea</th>\n",
       "      <td>NaN</td>\n",
       "      <td>NaN</td>\n",
       "    </tr>\n",
       "    <tr>\n",
       "      <th>New Zealand</th>\n",
       "      <td>NaN</td>\n",
       "      <td>NaN</td>\n",
       "    </tr>\n",
       "    <tr>\n",
       "      <th>Slovakia</th>\n",
       "      <td>NaN</td>\n",
       "      <td>NaN</td>\n",
       "    </tr>\n",
       "  </tbody>\n",
       "</table>\n",
       "</div>"
      ],
      "text/plain": [
       "                SI.POV.GINI  Score\n",
       "Country                           \n",
       "Slovenia               25.4  5.948\n",
       "Czech Republic         25.9  6.711\n",
       "Finland                27.1  7.632\n",
       "Norway                 27.5  7.594\n",
       "Belgium                27.7  6.927\n",
       "Netherlands            28.2  7.441\n",
       "Denmark                28.2  7.555\n",
       "Sweden                 29.2  7.314\n",
       "Hungary                30.4  5.620\n",
       "Austria                30.5  7.139\n",
       "Poland                 30.8  6.123\n",
       "Germany                31.7  6.965\n",
       "Ireland                31.8  6.977\n",
       "Switzerland            32.3  7.487\n",
       "France                 32.7  6.489\n",
       "Estonia                32.7  5.739\n",
       "United Kingdom         33.2  6.814\n",
       "Luxembourg             33.8  6.910\n",
       "Latvia                 34.2  5.933\n",
       "Italy                  35.4  6.000\n",
       "Portugal               35.5  5.410\n",
       "Greece                 36.0  5.358\n",
       "Spain                  36.2  6.310\n",
       "Lithuania              37.4  5.952\n",
       "Israel                 38.9  7.190\n",
       "United States          41.5  6.886\n",
       "Turkey                 41.9  5.483\n",
       "Mexico                 43.4  6.488\n",
       "Chile                  46.6  6.476\n",
       "Australia               NaN    NaN\n",
       "Canada                  NaN    NaN\n",
       "Iceland                 NaN    NaN\n",
       "Japan                   NaN    NaN\n",
       "South Korea             NaN    NaN\n",
       "New Zealand             NaN    NaN\n",
       "Slovakia                NaN    NaN"
      ]
     },
     "execution_count": 74,
     "metadata": {},
     "output_type": "execute_result"
    }
   ],
   "source": [
    "oecd_df[[GINI_FIELD, 'Score']].sort_values(GINI_FIELD)"
   ]
  },
  {
   "cell_type": "code",
   "execution_count": 75,
   "metadata": {},
   "outputs": [],
   "source": [
    "oecd_df = oecd_df.dropna(subset=[GINI_FIELD])"
   ]
  },
  {
   "cell_type": "code",
   "execution_count": 76,
   "metadata": {},
   "outputs": [
    {
     "data": {
      "image/png": "[encoded data removed]",
      "text/plain": [
       "<Figure size 432x288 with 1 Axes>"
      ]
     },
     "metadata": {
      "needs_background": "light"
     },
     "output_type": "display_data"
    }
   ],
   "source": [
    "plt.scatter(oecd_df[GINI_FIELD], oecd_df['Score'])\n",
    "for index, row in oecd_df.iterrows():\n",
    "    plt.annotate(index, (row[GINI_FIELD], row['Score']))\n",
    "\n"
   ]
  },
  {
   "cell_type": "markdown",
   "metadata": {},
   "source": [
    "# nobel loreates"
   ]
  },
  {
   "cell_type": "code",
   "execution_count": 83,
   "metadata": {},
   "outputs": [],
   "source": [
    "nobel_wiki = pd.read_html('https://en.wikipedia.org/wiki/List_of_countries_by_Nobel_laureates_per_capita')"
   ]
  },
  {
   "cell_type": "code",
   "execution_count": 85,
   "metadata": {},
   "outputs": [],
   "source": [
    "def html2df(wiki, place=0, header=False, index='Country'):\n",
    "    df = wiki[place]\n",
    "    if not header:\n",
    "        df.columns = df.iloc[0]\n",
    "        df = df.drop(0)\n",
    "    df = df.set_index(index)\n",
    "    return df"
   ]
  },
  {
   "cell_type": "code",
   "execution_count": 86,
   "metadata": {},
   "outputs": [],
   "source": [
    "nobel = html2df(nobel_wiki, header=True, index='Entity')"
   ]
  },
  {
   "cell_type": "code",
   "execution_count": 87,
   "metadata": {},
   "outputs": [
    {
     "data": {
      "text/html": [
       "<div>\n",
       "<style scoped>\n",
       "    .dataframe tbody tr th:only-of-type {\n",
       "        vertical-align: middle;\n",
       "    }\n",
       "\n",
       "    .dataframe tbody tr th {\n",
       "        vertical-align: top;\n",
       "    }\n",
       "\n",
       "    .dataframe thead th {\n",
       "        text-align: right;\n",
       "    }\n",
       "</style>\n",
       "<table border=\"1\" class=\"dataframe\">\n",
       "  <thead>\n",
       "    <tr style=\"text-align: right;\">\n",
       "      <th></th>\n",
       "      <th>Rank</th>\n",
       "      <th>Nobellaureates[1]</th>\n",
       "      <th>Population(2018)[2]</th>\n",
       "      <th>Laureates/10 million</th>\n",
       "    </tr>\n",
       "    <tr>\n",
       "      <th>Entity</th>\n",
       "      <th></th>\n",
       "      <th></th>\n",
       "      <th></th>\n",
       "      <th></th>\n",
       "    </tr>\n",
       "  </thead>\n",
       "  <tbody>\n",
       "    <tr>\n",
       "      <th>Faroe Islands</th>\n",
       "      <td>—</td>\n",
       "      <td>1</td>\n",
       "      <td>49489</td>\n",
       "      <td>202.065</td>\n",
       "    </tr>\n",
       "    <tr>\n",
       "      <th>Saint Lucia</th>\n",
       "      <td>1</td>\n",
       "      <td>2</td>\n",
       "      <td>179667</td>\n",
       "      <td>111.317</td>\n",
       "    </tr>\n",
       "    <tr>\n",
       "      <th>Luxembourg</th>\n",
       "      <td>2</td>\n",
       "      <td>2</td>\n",
       "      <td>590321</td>\n",
       "      <td>33.880</td>\n",
       "    </tr>\n",
       "    <tr>\n",
       "      <th>Switzerland</th>\n",
       "      <td>3</td>\n",
       "      <td>26</td>\n",
       "      <td>8544034</td>\n",
       "      <td>30.431</td>\n",
       "    </tr>\n",
       "    <tr>\n",
       "      <th>Sweden</th>\n",
       "      <td>4</td>\n",
       "      <td>30</td>\n",
       "      <td>9982709</td>\n",
       "      <td>30.052</td>\n",
       "    </tr>\n",
       "  </tbody>\n",
       "</table>\n",
       "</div>"
      ],
      "text/plain": [
       "              Rank  Nobellaureates[1]  Population(2018)[2]  \\\n",
       "Entity                                                       \n",
       "Faroe Islands    —                  1                49489   \n",
       "Saint Lucia      1                  2               179667   \n",
       "Luxembourg       2                  2               590321   \n",
       "Switzerland      3                 26              8544034   \n",
       "Sweden           4                 30              9982709   \n",
       "\n",
       "               Laureates/10 million  \n",
       "Entity                               \n",
       "Faroe Islands               202.065  \n",
       "Saint Lucia                 111.317  \n",
       "Luxembourg                   33.880  \n",
       "Switzerland                  30.431  \n",
       "Sweden                       30.052  "
      ]
     },
     "execution_count": 87,
     "metadata": {},
     "output_type": "execute_result"
    }
   ],
   "source": [
    "nobel.head()"
   ]
  },
  {
   "cell_type": "code",
   "execution_count": 88,
   "metadata": {},
   "outputs": [
    {
     "data": {
      "text/html": [
       "<div>\n",
       "<style scoped>\n",
       "    .dataframe tbody tr th:only-of-type {\n",
       "        vertical-align: middle;\n",
       "    }\n",
       "\n",
       "    .dataframe tbody tr th {\n",
       "        vertical-align: top;\n",
       "    }\n",
       "\n",
       "    .dataframe thead th {\n",
       "        text-align: right;\n",
       "    }\n",
       "</style>\n",
       "<table border=\"1\" class=\"dataframe\">\n",
       "  <thead>\n",
       "    <tr style=\"text-align: right;\">\n",
       "      <th></th>\n",
       "      <th>SI.POV.GINI</th>\n",
       "      <th>Overall Rank</th>\n",
       "      <th>Score</th>\n",
       "      <th>GDP per capita</th>\n",
       "      <th>Social support</th>\n",
       "      <th>Healthy life expectancy</th>\n",
       "      <th>Freedom to make life choices</th>\n",
       "      <th>Generosity</th>\n",
       "      <th>Perceptions of corruption</th>\n",
       "    </tr>\n",
       "    <tr>\n",
       "      <th>Country</th>\n",
       "      <th></th>\n",
       "      <th></th>\n",
       "      <th></th>\n",
       "      <th></th>\n",
       "      <th></th>\n",
       "      <th></th>\n",
       "      <th></th>\n",
       "      <th></th>\n",
       "      <th></th>\n",
       "    </tr>\n",
       "  </thead>\n",
       "  <tbody>\n",
       "    <tr>\n",
       "      <th>Argentina</th>\n",
       "      <td>40.6</td>\n",
       "      <td>29</td>\n",
       "      <td>6.388</td>\n",
       "      <td>1.073</td>\n",
       "      <td>1.468</td>\n",
       "      <td>0.744</td>\n",
       "      <td>0.570</td>\n",
       "      <td>0.062</td>\n",
       "      <td>0.054</td>\n",
       "    </tr>\n",
       "    <tr>\n",
       "      <th>Armenia</th>\n",
       "      <td>33.6</td>\n",
       "      <td>129</td>\n",
       "      <td>4.321</td>\n",
       "      <td>0.816</td>\n",
       "      <td>0.990</td>\n",
       "      <td>0.666</td>\n",
       "      <td>0.260</td>\n",
       "      <td>0.077</td>\n",
       "      <td>0.028</td>\n",
       "    </tr>\n",
       "    <tr>\n",
       "      <th>Austria</th>\n",
       "      <td>30.5</td>\n",
       "      <td>12</td>\n",
       "      <td>7.139</td>\n",
       "      <td>1.341</td>\n",
       "      <td>1.504</td>\n",
       "      <td>0.891</td>\n",
       "      <td>0.617</td>\n",
       "      <td>0.242</td>\n",
       "      <td>0.224</td>\n",
       "    </tr>\n",
       "    <tr>\n",
       "      <th>Bangladesh</th>\n",
       "      <td>32.4</td>\n",
       "      <td>115</td>\n",
       "      <td>4.500</td>\n",
       "      <td>0.532</td>\n",
       "      <td>0.850</td>\n",
       "      <td>0.579</td>\n",
       "      <td>0.580</td>\n",
       "      <td>0.153</td>\n",
       "      <td>0.144</td>\n",
       "    </tr>\n",
       "    <tr>\n",
       "      <th>Belarus</th>\n",
       "      <td>25.4</td>\n",
       "      <td>73</td>\n",
       "      <td>5.483</td>\n",
       "      <td>1.039</td>\n",
       "      <td>1.498</td>\n",
       "      <td>0.700</td>\n",
       "      <td>0.307</td>\n",
       "      <td>0.101</td>\n",
       "      <td>0.154</td>\n",
       "    </tr>\n",
       "  </tbody>\n",
       "</table>\n",
       "</div>"
      ],
      "text/plain": [
       "            SI.POV.GINI  Overall Rank  Score  GDP per capita  Social support  \\\n",
       "Country                                                                        \n",
       "Argentina          40.6            29  6.388           1.073           1.468   \n",
       "Armenia            33.6           129  4.321           0.816           0.990   \n",
       "Austria            30.5            12  7.139           1.341           1.504   \n",
       "Bangladesh         32.4           115  4.500           0.532           0.850   \n",
       "Belarus            25.4            73  5.483           1.039           1.498   \n",
       "\n",
       "            Healthy life expectancy  Freedom to make life choices  Generosity  \\\n",
       "Country                                                                         \n",
       "Argentina                     0.744                         0.570       0.062   \n",
       "Armenia                       0.666                         0.260       0.077   \n",
       "Austria                       0.891                         0.617       0.242   \n",
       "Bangladesh                    0.579                         0.580       0.153   \n",
       "Belarus                       0.700                         0.307       0.101   \n",
       "\n",
       "            Perceptions of corruption  \n",
       "Country                                \n",
       "Argentina                       0.054  \n",
       "Armenia                         0.028  \n",
       "Austria                         0.224  \n",
       "Bangladesh                      0.144  \n",
       "Belarus                         0.154  "
      ]
     },
     "execution_count": 88,
     "metadata": {},
     "output_type": "execute_result"
    }
   ],
   "source": [
    "df.head()"
   ]
  },
  {
   "cell_type": "code",
   "execution_count": 89,
   "metadata": {},
   "outputs": [],
   "source": [
    "df = df.merge(nobel, right_index=True, left_index=True)"
   ]
  },
  {
   "cell_type": "code",
   "execution_count": 90,
   "metadata": {},
   "outputs": [
    {
     "data": {
      "text/html": [
       "<div>\n",
       "<style scoped>\n",
       "    .dataframe tbody tr th:only-of-type {\n",
       "        vertical-align: middle;\n",
       "    }\n",
       "\n",
       "    .dataframe tbody tr th {\n",
       "        vertical-align: top;\n",
       "    }\n",
       "\n",
       "    .dataframe thead th {\n",
       "        text-align: right;\n",
       "    }\n",
       "</style>\n",
       "<table border=\"1\" class=\"dataframe\">\n",
       "  <thead>\n",
       "    <tr style=\"text-align: right;\">\n",
       "      <th></th>\n",
       "      <th>SI.POV.GINI</th>\n",
       "      <th>Overall Rank</th>\n",
       "      <th>Score</th>\n",
       "      <th>GDP per capita</th>\n",
       "      <th>Social support</th>\n",
       "      <th>Healthy life expectancy</th>\n",
       "      <th>Freedom to make life choices</th>\n",
       "      <th>Generosity</th>\n",
       "      <th>Perceptions of corruption</th>\n",
       "      <th>Rank</th>\n",
       "      <th>Nobellaureates[1]</th>\n",
       "      <th>Population(2018)[2]</th>\n",
       "      <th>Laureates/10 million</th>\n",
       "    </tr>\n",
       "  </thead>\n",
       "  <tbody>\n",
       "    <tr>\n",
       "      <th>Argentina</th>\n",
       "      <td>40.6</td>\n",
       "      <td>29</td>\n",
       "      <td>6.388</td>\n",
       "      <td>1.073</td>\n",
       "      <td>1.468</td>\n",
       "      <td>0.744</td>\n",
       "      <td>0.570</td>\n",
       "      <td>0.062</td>\n",
       "      <td>0.054</td>\n",
       "      <td>47</td>\n",
       "      <td>5</td>\n",
       "      <td>44688864</td>\n",
       "      <td>1.119</td>\n",
       "    </tr>\n",
       "    <tr>\n",
       "      <th>Austria</th>\n",
       "      <td>30.5</td>\n",
       "      <td>12</td>\n",
       "      <td>7.139</td>\n",
       "      <td>1.341</td>\n",
       "      <td>1.504</td>\n",
       "      <td>0.891</td>\n",
       "      <td>0.617</td>\n",
       "      <td>0.242</td>\n",
       "      <td>0.224</td>\n",
       "      <td>8</td>\n",
       "      <td>21</td>\n",
       "      <td>8751820</td>\n",
       "      <td>23.995</td>\n",
       "    </tr>\n",
       "    <tr>\n",
       "      <th>Bangladesh</th>\n",
       "      <td>32.4</td>\n",
       "      <td>115</td>\n",
       "      <td>4.500</td>\n",
       "      <td>0.532</td>\n",
       "      <td>0.850</td>\n",
       "      <td>0.579</td>\n",
       "      <td>0.580</td>\n",
       "      <td>0.153</td>\n",
       "      <td>0.144</td>\n",
       "      <td>72</td>\n",
       "      <td>1</td>\n",
       "      <td>166368149</td>\n",
       "      <td>0.060</td>\n",
       "    </tr>\n",
       "    <tr>\n",
       "      <th>Belarus</th>\n",
       "      <td>25.4</td>\n",
       "      <td>73</td>\n",
       "      <td>5.483</td>\n",
       "      <td>1.039</td>\n",
       "      <td>1.498</td>\n",
       "      <td>0.700</td>\n",
       "      <td>0.307</td>\n",
       "      <td>0.101</td>\n",
       "      <td>0.154</td>\n",
       "      <td>36</td>\n",
       "      <td>2</td>\n",
       "      <td>9452113</td>\n",
       "      <td>2.116</td>\n",
       "    </tr>\n",
       "    <tr>\n",
       "      <th>Belgium</th>\n",
       "      <td>27.7</td>\n",
       "      <td>16</td>\n",
       "      <td>6.927</td>\n",
       "      <td>1.324</td>\n",
       "      <td>1.483</td>\n",
       "      <td>0.894</td>\n",
       "      <td>0.583</td>\n",
       "      <td>0.188</td>\n",
       "      <td>0.240</td>\n",
       "      <td>19</td>\n",
       "      <td>10</td>\n",
       "      <td>11498519</td>\n",
       "      <td>8.697</td>\n",
       "    </tr>\n",
       "  </tbody>\n",
       "</table>\n",
       "</div>"
      ],
      "text/plain": [
       "            SI.POV.GINI  Overall Rank  Score  GDP per capita  Social support  \\\n",
       "Argentina          40.6            29  6.388           1.073           1.468   \n",
       "Austria            30.5            12  7.139           1.341           1.504   \n",
       "Bangladesh         32.4           115  4.500           0.532           0.850   \n",
       "Belarus            25.4            73  5.483           1.039           1.498   \n",
       "Belgium            27.7            16  6.927           1.324           1.483   \n",
       "\n",
       "            Healthy life expectancy  Freedom to make life choices  Generosity  \\\n",
       "Argentina                     0.744                         0.570       0.062   \n",
       "Austria                       0.891                         0.617       0.242   \n",
       "Bangladesh                    0.579                         0.580       0.153   \n",
       "Belarus                       0.700                         0.307       0.101   \n",
       "Belgium                       0.894                         0.583       0.188   \n",
       "\n",
       "            Perceptions of corruption Rank  Nobellaureates[1]  \\\n",
       "Argentina                       0.054   47                  5   \n",
       "Austria                         0.224    8                 21   \n",
       "Bangladesh                      0.144   72                  1   \n",
       "Belarus                         0.154   36                  2   \n",
       "Belgium                         0.240   19                 10   \n",
       "\n",
       "            Population(2018)[2]  Laureates/10 million  \n",
       "Argentina              44688864                 1.119  \n",
       "Austria                 8751820                23.995  \n",
       "Bangladesh            166368149                 0.060  \n",
       "Belarus                 9452113                 2.116  \n",
       "Belgium                11498519                 8.697  "
      ]
     },
     "execution_count": 90,
     "metadata": {},
     "output_type": "execute_result"
    }
   ],
   "source": [
    "df.head()"
   ]
  },
  {
   "cell_type": "code",
   "execution_count": 91,
   "metadata": {},
   "outputs": [],
   "source": [
    "df['Laureates/10 million'] = pd.to_numeric(df['Laureates/10 million'])"
   ]
  },
  {
   "cell_type": "code",
   "execution_count": 93,
   "metadata": {},
   "outputs": [
    {
     "data": {
      "text/plain": [
       "-0.4163055921960925"
      ]
     },
     "execution_count": 93,
     "metadata": {},
     "output_type": "execute_result"
    }
   ],
   "source": [
    "df['Laureates/10 million'].corr(df[GINI_FIELD])"
   ]
  },
  {
   "cell_type": "code",
   "execution_count": 94,
   "metadata": {},
   "outputs": [
    {
     "name": "stderr",
     "output_type": "stream",
     "text": [
      "/Users/jordanvalansi/.virtualenv/notebooks/lib/python3.6/site-packages/ipykernel_launcher.py:1: FutureWarning: \n",
      "Passing list-likes to .loc or [] with any missing label will raise\n",
      "KeyError in the future, you can use .reindex() as an alternative.\n",
      "\n",
      "See the documentation here:\n",
      "https://pandas.pydata.org/pandas-docs/stable/indexing.html#deprecate-loc-reindex-listlike\n",
      "  \"\"\"Entry point for launching an IPython kernel.\n"
     ]
    }
   ],
   "source": [
    "oecd_df = df.loc[oecd['Country']]"
   ]
  },
  {
   "cell_type": "code",
   "execution_count": 95,
   "metadata": {},
   "outputs": [
    {
     "data": {
      "text/plain": [
       "-0.38785770158891925"
      ]
     },
     "execution_count": 95,
     "metadata": {},
     "output_type": "execute_result"
    }
   ],
   "source": [
    "oecd_df['Laureates/10 million'].corr(oecd_df[GINI_FIELD])"
   ]
  },
  {
   "cell_type": "code",
   "execution_count": 96,
   "metadata": {},
   "outputs": [],
   "source": [
    "oecd_df = oecd_df.dropna(subset=[GINI_FIELD])"
   ]
  },
  {
   "cell_type": "code",
   "execution_count": 97,
   "metadata": {},
   "outputs": [],
   "source": [
    "def plot_df(df, y, x=GINI_FIELD):\n",
    "    df = df.dropna(subset=[GINI_FIELD])\n",
    "    plt.scatter(df[x], df[y])\n",
    "    for index, row in oecd_df.iterrows():\n",
    "        plt.annotate(index, (row[x], row[y]))\n",
    "\n"
   ]
  },
  {
   "cell_type": "code",
   "execution_count": 98,
   "metadata": {},
   "outputs": [
    {
     "data": {
      "image/png": "[encoded data removed]",
      "text/plain": [
       "<Figure size 432x288 with 1 Axes>"
      ]
     },
     "metadata": {
      "needs_background": "light"
     },
     "output_type": "display_data"
    }
   ],
   "source": [
    "plot_df(oecd_df, 'Laureates/10 million')"
   ]
  },
  {
   "cell_type": "markdown",
   "metadata": {},
   "source": [
    "# IQ"
   ]
  },
  {
   "cell_type": "code",
   "execution_count": 99,
   "metadata": {},
   "outputs": [],
   "source": [
    "iq = html2df(pd.read_html('https://brainstats.com/average-iq-by-country.html'), header=True)"
   ]
  },
  {
   "cell_type": "code",
   "execution_count": 100,
   "metadata": {},
   "outputs": [],
   "source": [
    "df = df.merge(iq, right_index=True, left_index=True)"
   ]
  },
  {
   "cell_type": "code",
   "execution_count": 101,
   "metadata": {},
   "outputs": [
    {
     "data": {
      "text/plain": [
       "-0.4864785439930811"
      ]
     },
     "execution_count": 101,
     "metadata": {},
     "output_type": "execute_result"
    }
   ],
   "source": [
    "df['IQ'].corr(df[GINI_FIELD])"
   ]
  },
  {
   "cell_type": "code",
   "execution_count": 102,
   "metadata": {},
   "outputs": [
    {
     "name": "stderr",
     "output_type": "stream",
     "text": [
      "/Users/jordanvalansi/.virtualenv/notebooks/lib/python3.6/site-packages/ipykernel_launcher.py:1: FutureWarning: \n",
      "Passing list-likes to .loc or [] with any missing label will raise\n",
      "KeyError in the future, you can use .reindex() as an alternative.\n",
      "\n",
      "See the documentation here:\n",
      "https://pandas.pydata.org/pandas-docs/stable/indexing.html#deprecate-loc-reindex-listlike\n",
      "  \"\"\"Entry point for launching an IPython kernel.\n"
     ]
    }
   ],
   "source": [
    "oecd_df = df.loc[oecd['Country']].dropna(subset=[GINI_FIELD])"
   ]
  },
  {
   "cell_type": "code",
   "execution_count": 103,
   "metadata": {},
   "outputs": [
    {
     "data": {
      "text/plain": [
       "-0.6419512863118263"
      ]
     },
     "execution_count": 103,
     "metadata": {},
     "output_type": "execute_result"
    }
   ],
   "source": [
    "oecd_df['IQ'].corr(oecd_df[GINI_FIELD])"
   ]
  },
  {
   "cell_type": "code",
   "execution_count": null,
   "metadata": {},
   "outputs": [],
   "source": [
    "plot_df(oecd_df, 'IQ')"
   ]
  },
  {
   "cell_type": "code",
   "execution_count": null,
   "metadata": {},
   "outputs": [],
   "source": [
    "# I guess I need to also remove the impact of the gdp per capita..."
   ]
  },
  {
   "cell_type": "markdown",
   "metadata": {},
   "source": [
    "# GDP"
   ]
  },
  {
   "cell_type": "code",
   "execution_count": 128,
   "metadata": {},
   "outputs": [],
   "source": [
    "GDP_COL = 'NY.GDP.PCAP.PP.CD'"
   ]
  },
  {
   "cell_type": "code",
   "execution_count": 129,
   "metadata": {},
   "outputs": [],
   "source": [
    "gdp = wb.WorldBankReader(GDP_COL, countries='all').read()"
   ]
  },
  {
   "cell_type": "code",
   "execution_count": 130,
   "metadata": {},
   "outputs": [],
   "source": [
    "gdp = gdp.dropna()"
   ]
  },
  {
   "cell_type": "code",
   "execution_count": 131,
   "metadata": {},
   "outputs": [
    {
     "data": {
      "text/html": [
       "<div>\n",
       "<style scoped>\n",
       "    .dataframe tbody tr th:only-of-type {\n",
       "        vertical-align: middle;\n",
       "    }\n",
       "\n",
       "    .dataframe tbody tr th {\n",
       "        vertical-align: top;\n",
       "    }\n",
       "\n",
       "    .dataframe thead th {\n",
       "        text-align: right;\n",
       "    }\n",
       "</style>\n",
       "<table border=\"1\" class=\"dataframe\">\n",
       "  <thead>\n",
       "    <tr style=\"text-align: right;\">\n",
       "      <th></th>\n",
       "      <th></th>\n",
       "      <th>NY.GDP.PCAP.PP.CD</th>\n",
       "    </tr>\n",
       "    <tr>\n",
       "      <th>country</th>\n",
       "      <th>year</th>\n",
       "      <th></th>\n",
       "    </tr>\n",
       "  </thead>\n",
       "  <tbody>\n",
       "    <tr>\n",
       "      <th rowspan=\"5\" valign=\"top\">Arab World</th>\n",
       "      <th>2017</th>\n",
       "      <td>16955.436018</td>\n",
       "    </tr>\n",
       "    <tr>\n",
       "      <th>2016</th>\n",
       "      <td>16792.454918</td>\n",
       "    </tr>\n",
       "    <tr>\n",
       "      <th>2015</th>\n",
       "      <td>16362.531210</td>\n",
       "    </tr>\n",
       "    <tr>\n",
       "      <th>2014</th>\n",
       "      <td>16013.775954</td>\n",
       "    </tr>\n",
       "    <tr>\n",
       "      <th>2013</th>\n",
       "      <td>15705.741553</td>\n",
       "    </tr>\n",
       "  </tbody>\n",
       "</table>\n",
       "</div>"
      ],
      "text/plain": [
       "                 NY.GDP.PCAP.PP.CD\n",
       "country    year                   \n",
       "Arab World 2017       16955.436018\n",
       "           2016       16792.454918\n",
       "           2015       16362.531210\n",
       "           2014       16013.775954\n",
       "           2013       15705.741553"
      ]
     },
     "execution_count": 131,
     "metadata": {},
     "output_type": "execute_result"
    }
   ],
   "source": [
    "gdp.head()"
   ]
  },
  {
   "cell_type": "code",
   "execution_count": 132,
   "metadata": {},
   "outputs": [],
   "source": [
    "gdp = gdp.groupby('country').apply(lambda x: x.iloc[0])"
   ]
  },
  {
   "cell_type": "code",
   "execution_count": 140,
   "metadata": {},
   "outputs": [],
   "source": [
    "df = df.merge(gdp, left_index=True, right_index=True)"
   ]
  },
  {
   "cell_type": "code",
   "execution_count": 139,
   "metadata": {},
   "outputs": [],
   "source": [
    "df = df.drop(columns='NY.GDP.PCAP.PP.CD_y')"
   ]
  },
  {
   "cell_type": "code",
   "execution_count": 141,
   "metadata": {},
   "outputs": [
    {
     "data": {
      "text/plain": [
       "-0.35969989903347804"
      ]
     },
     "execution_count": 141,
     "metadata": {},
     "output_type": "execute_result"
    }
   ],
   "source": [
    "df[GDP_COL].corr(df[GINI_FIELD])"
   ]
  },
  {
   "cell_type": "code",
   "execution_count": 142,
   "metadata": {},
   "outputs": [
    {
     "name": "stderr",
     "output_type": "stream",
     "text": [
      "/Users/jordanvalansi/.virtualenv/notebooks/lib/python3.6/site-packages/ipykernel_launcher.py:1: FutureWarning: \n",
      "Passing list-likes to .loc or [] with any missing label will raise\n",
      "KeyError in the future, you can use .reindex() as an alternative.\n",
      "\n",
      "See the documentation here:\n",
      "https://pandas.pydata.org/pandas-docs/stable/indexing.html#deprecate-loc-reindex-listlike\n",
      "  \"\"\"Entry point for launching an IPython kernel.\n"
     ]
    }
   ],
   "source": [
    "oecd_df = df.loc[oecd['Country']]"
   ]
  },
  {
   "cell_type": "code",
   "execution_count": 143,
   "metadata": {},
   "outputs": [
    {
     "data": {
      "text/plain": [
       "-0.3103160159236183"
      ]
     },
     "execution_count": 143,
     "metadata": {},
     "output_type": "execute_result"
    }
   ],
   "source": [
    "oecd_df[GDP_COL].corr(oecd_df[GINI_FIELD])"
   ]
  },
  {
   "cell_type": "code",
   "execution_count": 145,
   "metadata": {},
   "outputs": [
    {
     "data": {
      "image/png": "[encoded data removed]",
      "text/plain": [
       "<Figure size 432x288 with 1 Axes>"
      ]
     },
     "metadata": {
      "needs_background": "light"
     },
     "output_type": "display_data"
    }
   ],
   "source": [
    "plot_df(oecd_df, GDP_COL, 'IQ')"
   ]
  },
  {
   "cell_type": "code",
   "execution_count": null,
   "metadata": {},
   "outputs": [],
   "source": []
  }
 ],
 "metadata": {
  "kernelspec": {
   "display_name": "Python 3",
   "language": "python",
   "name": "python3"
  },
  "language_info": {
   "codemirror_mode": {
    "name": "ipython",
    "version": 3
   },
   "file_extension": ".py",
   "mimetype": "text/x-python",
   "name": "python",
   "nbconvert_exporter": "python",
   "pygments_lexer": "ipython3",
   "version": "3.6.0"
  }
 },
 "nbformat": 4,
 "nbformat_minor": 2
}
