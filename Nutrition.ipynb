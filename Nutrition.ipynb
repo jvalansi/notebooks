{
 "cells": [
  {
   "cell_type": "code",
   "execution_count": 2,
   "metadata": {},
   "outputs": [
    {
     "name": "stdout",
     "output_type": "stream",
     "text": [
      "\u001b[31mERROR: pip's dependency resolver does not currently take into account all the packages that are installed. This behaviour is the source of the following dependency conflicts.\n",
      "aiobotocore 2.3.4 requires botocore<1.24.22,>=1.24.21, but you have botocore 1.27.27 which is incompatible.\u001b[0m\u001b[31m\n",
      "\u001b[0m\u001b[33mWARNING: Running pip as the 'root' user can result in broken permissions and conflicting behaviour with the system package manager. It is recommended to use a virtual environment instead: https://pip.pypa.io/warnings/venv\u001b[0m\u001b[33m\n",
      "\u001b[0m"
     ]
    }
   ],
   "source": [
    "! pip install --upgrade tqdm spacy kaggle -q"
   ]
  },
  {
   "cell_type": "code",
   "execution_count": 9,
   "metadata": {},
   "outputs": [],
   "source": [
    "# ! python -m spacy download en_core_web_sm"
   ]
  },
  {
   "cell_type": "code",
   "execution_count": 3,
   "metadata": {},
   "outputs": [],
   "source": [
    "%matplotlib inline"
   ]
  },
  {
   "cell_type": "code",
   "execution_count": 46,
   "metadata": {},
   "outputs": [],
   "source": [
    "import pandas as pd\n",
    "import numpy as np\n",
    "from difflib import SequenceMatcher\n",
    "from tqdm.auto import tqdm\n",
    "import kaggle\n",
    "from nltk.tokenize import word_tokenize\n",
    "import spacy\n",
    "import re\n",
    "from itertools import combinations\n",
    "import scipy"
   ]
  },
  {
   "cell_type": "code",
   "execution_count": 5,
   "metadata": {},
   "outputs": [],
   "source": [
    "tqdm.pandas()"
   ]
  },
  {
   "cell_type": "code",
   "execution_count": 10,
   "metadata": {},
   "outputs": [],
   "source": [
    "nlp = spacy.load(\"en_core_web_sm\")"
   ]
  },
  {
   "cell_type": "markdown",
   "metadata": {},
   "source": [
    "# Nutrition"
   ]
  },
  {
   "cell_type": "code",
   "execution_count": 2,
   "metadata": {},
   "outputs": [],
   "source": [
    "# get nutrition data\n",
    "# get recommended food\n",
    "# (get body composition)\n",
    "# find closest food to recommended (/ to body composition)\n",
    "# find minimal foods (pair, 3, 4... 10) closest to recommended (/ to body composition)\n",
    "\n"
   ]
  },
  {
   "cell_type": "code",
   "execution_count": 3,
   "metadata": {},
   "outputs": [],
   "source": [
    "# ! curl https://www.myfooddata.com/spreadsheets/MyFoodData-Nutrition-Facts-SpreadSheet-Release-1-4.xlsx -o data/nutrition.xlsx"
   ]
  },
  {
   "cell_type": "code",
   "execution_count": 16,
   "metadata": {},
   "outputs": [],
   "source": [
    "df = pd.read_excel('data/nutrition.xlsx', skiprows=3, index_col=0)"
   ]
  },
  {
   "cell_type": "code",
   "execution_count": 10,
   "metadata": {},
   "outputs": [],
   "source": [
    "dfs = pd.read_html('https://en.wikipedia.org/wiki/Dietary_Reference_Intake')"
   ]
  },
  {
   "cell_type": "code",
   "execution_count": 11,
   "metadata": {},
   "outputs": [],
   "source": [
    "vitamins = dfs[0]\n",
    "minerals = dfs[1]\n",
    "macro = dfs[3]\n",
    "vitamins.columns = vitamins.columns.droplevel()\n",
    "vitamins = vitamins[['Nutrient', 'Males', 'Unit']]\n",
    "minerals.columns = minerals.columns.droplevel()\n",
    "minerals = minerals[['Nutrient', 'Males', 'Unit']]\n",
    "macro = macro[macro['Amount (males)'].apply(lambda x: 'g/day' in x)]\n",
    "macro = pd.concat([macro,macro['Amount (males)'].str.split(expand=True)], axis=1)\n",
    "macro = macro[['Substance', 0,1]]\n",
    "macro = macro.rename({'Substance':'Nutrient', 0: 'Males', 1: 'Unit'}, axis=1)\n",
    "macro['Unit'] = 'g'\n"
   ]
  },
  {
   "cell_type": "code",
   "execution_count": 12,
   "metadata": {},
   "outputs": [],
   "source": [
    "intake = pd.concat([macro, vitamins, minerals])\n",
    "intake['Nutrient (unit)'] = intake.apply(lambda x: f\"{x['Nutrient']} ({x['Unit']})\", axis=1)"
   ]
  },
  {
   "cell_type": "code",
   "execution_count": 7,
   "metadata": {},
   "outputs": [],
   "source": [
    "# combine tables"
   ]
  },
  {
   "cell_type": "code",
   "execution_count": 8,
   "metadata": {},
   "outputs": [],
   "source": [
    "# for each entry in intake, find cloasest in df columns"
   ]
  },
  {
   "cell_type": "code",
   "execution_count": 17,
   "metadata": {},
   "outputs": [],
   "source": [
    "def find_closest_name(x):\n",
    "    r = 0 #.75\n",
    "    closest = None\n",
    "    for col in df.columns:\n",
    "        r_ = SequenceMatcher(None, x, col).ratio()\n",
    "        if r_>r:\n",
    "            closest =  col\n",
    "            r = r_\n",
    "    return closest"
   ]
  },
  {
   "cell_type": "code",
   "execution_count": 23,
   "metadata": {},
   "outputs": [],
   "source": [
    "intake['closest'] = intake['Nutrient (unit)'].apply(find_closest_name)\n",
    "intake['dist'] = intake.apply(lambda x: SequenceMatcher(None, x['Nutrient (unit)'], x['closest']).ratio() if x['closest'] else None, axis=1)\n",
    "intake = intake[intake['dist']>0.75]\n",
    "intake = intake.sort_values('dist').drop_duplicates(subset='closest',  keep='last')\n",
    "# normalize (by size / by calories)\n",
    "intake = intake.set_index('closest')[['Males']].T\n",
    "intake = intake.apply(pd.to_numeric)"
   ]
  },
  {
   "cell_type": "code",
   "execution_count": 24,
   "metadata": {},
   "outputs": [],
   "source": [
    "def get_size(x):\n",
    "#     print(x)\n",
    "    return x.pow(2).sum()**0.5"
   ]
  },
  {
   "cell_type": "code",
   "execution_count": 25,
   "metadata": {},
   "outputs": [],
   "source": [
    "norm_intake = intake/get_size(intake.iloc[0])"
   ]
  },
  {
   "cell_type": "code",
   "execution_count": 26,
   "metadata": {},
   "outputs": [],
   "source": [
    "combined = pd.concat([intake, df.set_index('name')[intake.columns]])"
   ]
  },
  {
   "cell_type": "code",
   "execution_count": 27,
   "metadata": {},
   "outputs": [],
   "source": [
    "# normalize by size - root sum squares"
   ]
  },
  {
   "cell_type": "code",
   "execution_count": 28,
   "metadata": {},
   "outputs": [],
   "source": [
    "combined = combined.apply(pd.to_numeric)"
   ]
  },
  {
   "cell_type": "code",
   "execution_count": 29,
   "metadata": {},
   "outputs": [],
   "source": [
    "combined.to_csv('data/nutrition.csv')"
   ]
  },
  {
   "cell_type": "code",
   "execution_count": 11,
   "metadata": {},
   "outputs": [],
   "source": [
    "combined = pd.read_csv('data/nutrition.csv', index_col=0)"
   ]
  },
  {
   "cell_type": "markdown",
   "metadata": {},
   "source": [
    "# filter unpopular foods"
   ]
  },
  {
   "cell_type": "code",
   "execution_count": 49,
   "metadata": {},
   "outputs": [],
   "source": [
    "# ! echo '{\"username\":\"jvalansi\",\"key\":\"6e067d49e0261887197d3b6d71e37d66\"}' > /root/.kaggle/kaggle.json"
   ]
  },
  {
   "cell_type": "code",
   "execution_count": 51,
   "metadata": {},
   "outputs": [],
   "source": [
    "# ! chmod 600 /root/.kaggle/kaggle.json"
   ]
  },
  {
   "cell_type": "code",
   "execution_count": 124,
   "metadata": {},
   "outputs": [],
   "source": [
    "kaggle.api.dataset_download_files('rtatman/english-word-frequency', path='data/english-word-frequency', unzip=True)"
   ]
  },
  {
   "cell_type": "code",
   "execution_count": 125,
   "metadata": {},
   "outputs": [],
   "source": [
    "unigrams = pd.read_csv('data/english-word-frequency/unigram_freq.csv', index_col=0)"
   ]
  },
  {
   "cell_type": "code",
   "execution_count": 126,
   "metadata": {},
   "outputs": [],
   "source": [
    "unigrams_dict = unigrams['count'].to_dict()"
   ]
  },
  {
   "cell_type": "code",
   "execution_count": 127,
   "metadata": {},
   "outputs": [],
   "source": [
    "total = sum(unigrams['count'])"
   ]
  },
  {
   "cell_type": "code",
   "execution_count": 130,
   "metadata": {},
   "outputs": [],
   "source": [
    "def get_ngram_prob(x):\n",
    "    probs = []\n",
    "    tokens = nlp(x.lower())\n",
    "    for token in tokens:\n",
    "#         print(token)\n",
    "        if re.match('\\w+', token.text) is None:\n",
    "            continue\n",
    "        if token.text in unigrams_dict:\n",
    "            probs+=[np.log(unigrams_dict[token.text]/total)]\n",
    "#             print(np.log(unigrams_dict[token.text]/total))\n",
    "        else:\n",
    "            probs+=[np.log(1/total)]\n",
    "    return min(probs) # sum(probs)/len(probs)"
   ]
  },
  {
   "cell_type": "code",
   "execution_count": 131,
   "metadata": {},
   "outputs": [
    {
     "data": {
      "application/vnd.jupyter.widget-view+json": {
       "model_id": "8d72aa698da54f66b388885d56c48e43",
       "version_major": 2,
       "version_minor": 0
      },
      "text/plain": [
       "  0%|          | 0/14165 [00:00<?, ?it/s]"
      ]
     },
     "metadata": {},
     "output_type": "display_data"
    }
   ],
   "source": [
    "s = combined.progress_apply(lambda x: get_ngram_prob(x.name), axis=1)"
   ]
  },
  {
   "cell_type": "code",
   "execution_count": 132,
   "metadata": {},
   "outputs": [],
   "source": [
    "s = s.sort_values(ascending=False)"
   ]
  },
  {
   "cell_type": "code",
   "execution_count": 133,
   "metadata": {},
   "outputs": [
    {
     "data": {
      "text/plain": [
       "<matplotlib.axes._subplots.AxesSubplot at 0x7f8dc6d02f10>"
      ]
     },
     "execution_count": 133,
     "metadata": {},
     "output_type": "execute_result"
    },
    {
     "data": {
      "image/png": "[encoded data removed]",
      "text/plain": [
       "<Figure size 432x288 with 1 Axes>"
      ]
     },
     "metadata": {
      "needs_background": "light"
     },
     "output_type": "display_data"
    }
   ],
   "source": [
    "s.hist()"
   ]
  },
  {
   "cell_type": "code",
   "execution_count": 272,
   "metadata": {},
   "outputs": [
    {
     "data": {
      "text/plain": [
       "1267"
      ]
     },
     "execution_count": 272,
     "metadata": {},
     "output_type": "execute_result"
    }
   ],
   "source": [
    "list(s.sort_values(ascending=False).index).index(intake_closest.index[6])"
   ]
  },
  {
   "cell_type": "code",
   "execution_count": 136,
   "metadata": {},
   "outputs": [
    {
     "data": {
      "text/plain": [
       "Index(['Well Water', 'White Wine', 'Table Wine', 'Red Wine', 'Fish Stock',\n",
       "       'White Russian', 'Black Russian', 'Seven And Seven', 'High Ball',\n",
       "       'Palm Oil',\n",
       "       ...\n",
       "       'Shark Cooked Ns As To Cooking Method',\n",
       "       'Sea Bass Cooked Ns As To Cooking Method', 'Cooked Small White Beans',\n",
       "       'Beans String Cooked Ns As To Form Ns As To Color Made With Oil',\n",
       "       'White Beans Dry Cooked Fat Added In Cooking Ns As To Type Of Fat',\n",
       "       'Beans String Yellow Cooked Ns As To Form Ns As To Fat Added In Cooking',\n",
       "       'Beans String Yellow Cooked From Frozen Fat Not Added In Cooking',\n",
       "       'Beans String Yellow Cooked From Fresh Fat Not Added In Cooking',\n",
       "       'Green Or Yellow Split Peas Dry Cooked Fat Not Added In Cooking',\n",
       "       'White Beans Dry Cooked Made With Oil'],\n",
       "      dtype='object', length=1000)"
      ]
     },
     "execution_count": 136,
     "metadata": {},
     "output_type": "execute_result"
    }
   ],
   "source": [
    "s[:1000].index"
   ]
  },
  {
   "cell_type": "code",
   "execution_count": 137,
   "metadata": {},
   "outputs": [],
   "source": [
    "# intake_dist.loc[s[:1000].index].sort_values(ascending=False)[1:10]"
   ]
  },
  {
   "cell_type": "markdown",
   "metadata": {},
   "source": [
    "# normalize"
   ]
  },
  {
   "cell_type": "code",
   "execution_count": null,
   "metadata": {},
   "outputs": [],
   "source": [
    "# look at percent of daily intake"
   ]
  },
  {
   "cell_type": "code",
   "execution_count": 157,
   "metadata": {},
   "outputs": [],
   "source": [
    "# combined = combined.loc[['Males']+list(s[:1000].index)]"
   ]
  },
  {
   "cell_type": "code",
   "execution_count": 12,
   "metadata": {},
   "outputs": [],
   "source": [
    "combined = combined[~combined.duplicated()]"
   ]
  },
  {
   "cell_type": "code",
   "execution_count": 13,
   "metadata": {},
   "outputs": [],
   "source": [
    "percentage = combined/combined.iloc[0]"
   ]
  },
  {
   "cell_type": "code",
   "execution_count": 14,
   "metadata": {},
   "outputs": [],
   "source": [
    "percentage = percentage.fillna(0)"
   ]
  },
  {
   "cell_type": "code",
   "execution_count": null,
   "metadata": {},
   "outputs": [],
   "source": [
    "# look for the most evenly distributed \n",
    "# - normalize by size\n",
    "# - look for the minimum distance"
   ]
  },
  {
   "cell_type": "code",
   "execution_count": 16,
   "metadata": {},
   "outputs": [],
   "source": [
    "sizes = np.linalg.norm(percentage,axis=1)"
   ]
  },
  {
   "cell_type": "code",
   "execution_count": 17,
   "metadata": {},
   "outputs": [],
   "source": [
    "percentage = percentage[sizes>0]\n",
    "sizes = sizes[sizes>0]"
   ]
  },
  {
   "cell_type": "code",
   "execution_count": 95,
   "metadata": {},
   "outputs": [],
   "source": [
    "inflated = ((percentage*sizes[0]).T/sizes).T"
   ]
  },
  {
   "cell_type": "code",
   "execution_count": 19,
   "metadata": {},
   "outputs": [],
   "source": [
    "normalized = (percentage.T/sizes).T"
   ]
  },
  {
   "cell_type": "code",
   "execution_count": 112,
   "metadata": {},
   "outputs": [],
   "source": [
    "# dist_from_mean = (((inflated.T-inflated.mean(axis=1)).T)**2).sum(axis=1)"
   ]
  },
  {
   "cell_type": "code",
   "execution_count": 35,
   "metadata": {},
   "outputs": [],
   "source": [
    "dist_from_intake = pd.Series(np.linalg.norm(normalized-normalized.loc['Males'],axis=1), index=normalized.index)"
   ]
  },
  {
   "cell_type": "code",
   "execution_count": 36,
   "metadata": {},
   "outputs": [],
   "source": [
    "i=0"
   ]
  },
  {
   "cell_type": "code",
   "execution_count": 37,
   "metadata": {},
   "outputs": [
    {
     "data": {
      "text/plain": [
       "Males                                                                                             0.000000\n",
       "Nestle Boost Plus Nutritional Drink Ready-To-Drink                                                0.594011\n",
       "Nutritional Drink Or Shake Ready-To-Drink (Carnation Instant Breakfast)                           0.613065\n",
       "Abbott Ensure Plus Ready-To-Drink                                                                 0.613897\n",
       "Peas From Fresh Creamed                                                                           0.616352\n",
       "Babyfood Dinner Vegetables Chicken Strained                                                       0.623661\n",
       "Nutritional Supplement For People With Diabetes Liquid                                            0.624231\n",
       "Abbott Ensure Nutritional Shake Ready-To-Drink                                                    0.627972\n",
       "Babyfood Carrots And Beef Strained                                                                0.628442\n",
       "Babyfood Dinner Vegetables And Turkey Strained                                                    0.636412\n",
       "Peas And Carrots From Fresh Creamed                                                               0.637887\n",
       "Cooked Green Peas (Salted)                                                                        0.639022\n",
       "Artichokes (Globe Or French)                                                                      0.641790\n",
       "Squash Summer Casserole With Cheese Sauce                                                         0.641844\n",
       "Beans Lima Immature From Fresh Creamed Or With Cheese Sauce                                       0.641887\n",
       "Babyfood Dinner Vegetables And Chicken Junior                                                     0.643415\n",
       "Refried Beans Canned Traditional Reduced Sodium                                                   0.648549\n",
       "Vegetable Combination Excluding Carrots Broccoli And Dark-Green Leafy; Cooked With Cream Sauce    0.654040\n",
       "Babyfood Dinner Chicken Noodle Strained                                                           0.655761\n",
       "Beans Lima Immature From Frozen Creamed Or With Cheese Sauce                                      0.657439\n",
       "dtype: float64"
      ]
     },
     "execution_count": 37,
     "metadata": {},
     "output_type": "execute_result"
    }
   ],
   "source": [
    "dist_from_intake.sort_values()[20*i:20*(i+1)]"
   ]
  },
  {
   "cell_type": "code",
   "execution_count": 38,
   "metadata": {},
   "outputs": [
    {
     "data": {
      "text/plain": [
       "Copper, Cu (mg)               0.000366\n",
       "Selenium, Se (mcg)            0.209207\n",
       "Zinc, Zn (mg)                 0.270096\n",
       "Iron, Fe (mg)                 0.270096\n",
       "Fluoride, F (mcg)             0.000000\n",
       "Vitamin D (mcg)               0.197498\n",
       "Vitamin K (mcg)               0.176031\n",
       "Potassium, K (mg)             0.069705\n",
       "Molybdenum (mcg)              0.000000\n",
       "Biotin (B7) (mcg)             0.000000\n",
       "Folate (B9) (mcg)             0.163151\n",
       "Phosphorus, P (mg)            0.157998\n",
       "Chlorine (mg)                 0.000000\n",
       "Carbohydrate (g)              0.228411\n",
       "Protein (g)                   0.164991\n",
       "Manganese (mg)                0.200858\n",
       "Magnesium (mg)                0.155382\n",
       "Fiber (g)                     0.054233\n",
       "Vitamin B6 (mg)               0.271749\n",
       "Pantothenic acid (B5) (mg)    0.330079\n",
       "Calcium (mg)                  0.178343\n",
       "Choline (mg)                  0.065885\n",
       "Sodium (mg)                   0.088159\n",
       "Niacin (B3) (mg)              0.164975\n",
       "Vitamin C (mg)                0.440793\n",
       "Thiamin (B1) (mg)             0.206085\n",
       "Riboflavin (B2) (mg)          0.215332\n",
       "Name: Nestle Boost Plus Nutritional Drink Ready-To-Drink, dtype: float64"
      ]
     },
     "execution_count": 38,
     "metadata": {},
     "output_type": "execute_result"
    }
   ],
   "source": [
    "normalized.loc['Nestle Boost Plus Nutritional Drink Ready-To-Drink']"
   ]
  },
  {
   "cell_type": "markdown",
   "metadata": {},
   "source": [
    "# find combinations that work"
   ]
  },
  {
   "cell_type": "code",
   "execution_count": null,
   "metadata": {},
   "outputs": [],
   "source": [
    "# for each pair find 'a' such that a*v0 + (1-a)*v1 is closest to uniform"
   ]
  },
  {
   "cell_type": "code",
   "execution_count": 195,
   "metadata": {},
   "outputs": [],
   "source": [
    "v1 = inflated.iloc[1]"
   ]
  },
  {
   "cell_type": "code",
   "execution_count": 196,
   "metadata": {},
   "outputs": [],
   "source": [
    "v2 = inflated.iloc[2]"
   ]
  },
  {
   "cell_type": "code",
   "execution_count": 199,
   "metadata": {},
   "outputs": [],
   "source": [
    "a = 0.1"
   ]
  },
  {
   "cell_type": "code",
   "execution_count": 200,
   "metadata": {},
   "outputs": [],
   "source": [
    "v = a*v1+(1-a)*v2"
   ]
  },
  {
   "cell_type": "code",
   "execution_count": 201,
   "metadata": {},
   "outputs": [
    {
     "data": {
      "text/plain": [
       "0.16040499883361917"
      ]
     },
     "execution_count": 201,
     "metadata": {},
     "output_type": "execute_result"
    }
   ],
   "source": [
    "v.mean()"
   ]
  },
  {
   "cell_type": "code",
   "execution_count": 202,
   "metadata": {},
   "outputs": [],
   "source": [
    "intake = inflated.loc['Males']"
   ]
  },
  {
   "cell_type": "code",
   "execution_count": 203,
   "metadata": {},
   "outputs": [],
   "source": [
    "def get_dist_from_intake(v):\n",
    "    return ((v-intake)**2).sum()"
   ]
  },
  {
   "cell_type": "code",
   "execution_count": 204,
   "metadata": {},
   "outputs": [],
   "source": [
    "def get_min_dist(v1,v2):\n",
    "    return min([get_dist_from_intake(a*v1+(1-a)*v2) for a in np.arange(0,1.1,0.1)])"
   ]
  },
  {
   "cell_type": "code",
   "execution_count": 205,
   "metadata": {},
   "outputs": [
    {
     "data": {
      "text/plain": [
       "27.583002488130358"
      ]
     },
     "execution_count": 205,
     "metadata": {},
     "output_type": "execute_result"
    }
   ],
   "source": [
    "get_min_dist(v1,v2)"
   ]
  },
  {
   "cell_type": "code",
   "execution_count": 4,
   "metadata": {},
   "outputs": [],
   "source": []
  },
  {
   "cell_type": "code",
   "execution_count": 210,
   "metadata": {},
   "outputs": [
    {
     "data": {
      "text/plain": [
       "903"
      ]
     },
     "execution_count": 210,
     "metadata": {},
     "output_type": "execute_result"
    }
   ],
   "source": [
    "len(inflated)"
   ]
  },
  {
   "cell_type": "code",
   "execution_count": 23,
   "metadata": {},
   "outputs": [],
   "source": [
    "# combs = []\n",
    "# for i,j in tqdm(combinations(range(len(inflated)),2),total=len(inflated)**2):\n",
    "#     pass\n",
    "#     v1 = inflated.iloc[i]\n",
    "#     v2 = inflated.iloc[j]\n",
    "#     combs.append((get_min_dist(v1,v2),i,j))"
   ]
  },
  {
   "cell_type": "code",
   "execution_count": 105,
   "metadata": {},
   "outputs": [],
   "source": [
    "N = len(v)"
   ]
  },
  {
   "cell_type": "code",
   "execution_count": 211,
   "metadata": {},
   "outputs": [],
   "source": [
    "# F\n",
    "# (a*v1[0]+(1-a)*v2[0]-sum(a*v1+(1-a)*v2)/N)**2 + ... + (a*v1[N-1]+(1-a)*v2[N-1]-sum(a*v1+(1-a)*v2)/N)**2\n",
    "# dF / da\n",
    "# 2*(a*v1[0]+(1-a)*v2[0]-sum(a*v1+(1-a)*v2)/N)*(v1[0]-v2[0]-sum(v1-v2)/N)+ ... + 2*(a*v1[N-1]+(1-a)*v2[N-1]-sum(a*v1+(1-a)*v2)/N)*(v1[N-1]-v2[N-1]-sum(v1-v2)/N)=0\n",
    "# sum[ 2*(a*v1[i]**2+(1-a)*v2[i]*v1[i]+m*v1[0]-a*v1[i]*v2[i]-(1-a)*v2[i]**2-m*v2[i]-a*v1[i]*m_+(1-a)*v2[i]*m_"
   ]
  },
  {
   "cell_type": "code",
   "execution_count": 23,
   "metadata": {},
   "outputs": [],
   "source": [
    "# split space to 2 from the target point\n",
    "# for each of the points on one side, find the best point on the other size\n",
    "# I can split it up on each of the axis\n",
    "# "
   ]
  },
  {
   "cell_type": "code",
   "execution_count": null,
   "metadata": {},
   "outputs": [],
   "source": [
    "# I can reduce the target point from the option point and look for the closest point in the rest of the points"
   ]
  },
  {
   "cell_type": "code",
   "execution_count": 124,
   "metadata": {},
   "outputs": [],
   "source": [
    "reverted = normalized.loc['Males'] - normalized"
   ]
  },
  {
   "cell_type": "code",
   "execution_count": 125,
   "metadata": {},
   "outputs": [],
   "source": [
    "sizes = np.linalg.norm(reverted,axis=1)"
   ]
  },
  {
   "cell_type": "code",
   "execution_count": 126,
   "metadata": {},
   "outputs": [],
   "source": [
    "reverted = (reverted.T/sizes).T"
   ]
  },
  {
   "cell_type": "code",
   "execution_count": 127,
   "metadata": {},
   "outputs": [],
   "source": [
    "def get_closest_vec(vec):\n",
    "    closest = reverted.dot(vec).sort_values(ascending=False)\n",
    "    return closest.iloc[0], closest.index[0]\n",
    "    "
   ]
  },
  {
   "cell_type": "code",
   "execution_count": 128,
   "metadata": {},
   "outputs": [
    {
     "data": {
      "application/vnd.jupyter.widget-view+json": {
       "model_id": "190d6d2a0ce94c19b0e7d800b5ea466b",
       "version_major": 2,
       "version_minor": 0
      },
      "text/plain": [
       "  0%|          | 0/12786 [00:00<?, ?it/s]"
      ]
     },
     "metadata": {},
     "output_type": "display_data"
    }
   ],
   "source": [
    "dists = normalized.progress_apply(get_closest_vec, axis=1)"
   ]
  },
  {
   "cell_type": "code",
   "execution_count": 129,
   "metadata": {},
   "outputs": [],
   "source": [
    "dists = dists.sort_values(ascending=False)"
   ]
  },
  {
   "cell_type": "code",
   "execution_count": 130,
   "metadata": {},
   "outputs": [],
   "source": [
    "i = 0"
   ]
  },
  {
   "cell_type": "code",
   "execution_count": 131,
   "metadata": {},
   "outputs": [
    {
     "data": {
      "text/plain": [
       "(0.6525982510654801, 'Oil Spotted Seal (Alaska Native)')"
      ]
     },
     "execution_count": 131,
     "metadata": {},
     "output_type": "execute_result"
    }
   ],
   "source": [
    "dists.iloc[i]"
   ]
  },
  {
   "cell_type": "code",
   "execution_count": 132,
   "metadata": {},
   "outputs": [
    {
     "data": {
      "text/plain": [
       "'Artichokes (Globe Or French)'"
      ]
     },
     "execution_count": 132,
     "metadata": {},
     "output_type": "execute_result"
    }
   ],
   "source": [
    "dists.index[i]"
   ]
  },
  {
   "cell_type": "code",
   "execution_count": null,
   "metadata": {},
   "outputs": [],
   "source": []
  },
  {
   "cell_type": "code",
   "execution_count": 122,
   "metadata": {},
   "outputs": [
    {
     "data": {
      "text/plain": [
       "Copper, Cu (mg)               0.19245\n",
       "Selenium, Se (mcg)            0.19245\n",
       "Zinc, Zn (mg)                 0.19245\n",
       "Iron, Fe (mg)                 0.19245\n",
       "Fluoride, F (mcg)             0.19245\n",
       "Vitamin D (mcg)               0.19245\n",
       "Vitamin K (mcg)               0.19245\n",
       "Potassium, K (mg)             0.19245\n",
       "Molybdenum (mcg)              0.19245\n",
       "Biotin (B7) (mcg)             0.19245\n",
       "Folate (B9) (mcg)             0.19245\n",
       "Phosphorus, P (mg)            0.19245\n",
       "Chlorine (mg)                 0.19245\n",
       "Carbohydrate (g)              0.19245\n",
       "Protein (g)                   0.19245\n",
       "Manganese (mg)                0.19245\n",
       "Magnesium (mg)                0.19245\n",
       "Fiber (g)                     0.19245\n",
       "Vitamin B6 (mg)               0.19245\n",
       "Pantothenic acid (B5) (mg)    0.19245\n",
       "Calcium (mg)                  0.19245\n",
       "Choline (mg)                  0.19245\n",
       "Sodium (mg)                   0.19245\n",
       "Niacin (B3) (mg)              0.19245\n",
       "Vitamin C (mg)                0.19245\n",
       "Thiamin (B1) (mg)             0.19245\n",
       "Riboflavin (B2) (mg)          0.19245\n",
       "Name: Males, dtype: float64"
      ]
     },
     "execution_count": 122,
     "metadata": {},
     "output_type": "execute_result"
    }
   ],
   "source": [
    "normalized.loc['Males']"
   ]
  },
  {
   "cell_type": "code",
   "execution_count": 134,
   "metadata": {},
   "outputs": [
    {
     "data": {
      "text/plain": [
       "Copper, Cu (mg)               0.000000\n",
       "Selenium, Se (mcg)            0.752577\n",
       "Zinc, Zn (mg)                 0.000000\n",
       "Iron, Fe (mg)                 0.000000\n",
       "Fluoride, F (mcg)             0.000000\n",
       "Vitamin D (mcg)               0.658505\n",
       "Vitamin K (mcg)               0.000000\n",
       "Potassium, K (mg)             0.000000\n",
       "Molybdenum (mcg)              0.000000\n",
       "Biotin (B7) (mcg)             0.000000\n",
       "Folate (B9) (mcg)             0.000000\n",
       "Phosphorus, P (mg)            0.000000\n",
       "Chlorine (mg)                 0.000000\n",
       "Carbohydrate (g)              0.000000\n",
       "Protein (g)                   0.000000\n",
       "Manganese (mg)                0.000000\n",
       "Magnesium (mg)                0.000000\n",
       "Fiber (g)                     0.000000\n",
       "Vitamin B6 (mg)               0.000000\n",
       "Pantothenic acid (B5) (mg)    0.000000\n",
       "Calcium (mg)                  0.000000\n",
       "Choline (mg)                  0.000000\n",
       "Sodium (mg)                   0.000000\n",
       "Niacin (B3) (mg)              0.000000\n",
       "Vitamin C (mg)                0.000000\n",
       "Thiamin (B1) (mg)             0.000000\n",
       "Riboflavin (B2) (mg)          0.000000\n",
       "Name: Oil Spotted Seal (Alaska Native), dtype: float64"
      ]
     },
     "execution_count": 134,
     "metadata": {},
     "output_type": "execute_result"
    }
   ],
   "source": [
    "normalized.loc['Oil Spotted Seal (Alaska Native)']"
   ]
  },
  {
   "cell_type": "code",
   "execution_count": 135,
   "metadata": {},
   "outputs": [
    {
     "data": {
      "text/plain": [
       "Copper, Cu (mg)               0.000596\n",
       "Selenium, Se (mcg)            0.008450\n",
       "Zinc, Zn (mg)                 0.103517\n",
       "Iron, Fe (mg)                 0.270413\n",
       "Fluoride, F (mcg)             0.000000\n",
       "Vitamin D (mcg)               0.000000\n",
       "Vitamin K (mcg)               0.286609\n",
       "Potassium, K (mg)             0.252891\n",
       "Molybdenum (mcg)              0.000000\n",
       "Biotin (B7) (mcg)             0.000000\n",
       "Folate (B9) (mcg)             0.395056\n",
       "Phosphorus, P (mg)            0.167318\n",
       "Chlorine (mg)                 0.000000\n",
       "Carbohydrate (g)              0.187875\n",
       "Protein (g)                   0.135697\n",
       "Manganese (mg)                0.258656\n",
       "Magnesium (mg)                0.331980\n",
       "Fiber (g)                     0.330233\n",
       "Vitamin B6 (mg)               0.158569\n",
       "Pantothenic acid (B5) (mg)    0.157093\n",
       "Calcium (mg)                  0.078654\n",
       "Choline (mg)                  0.145347\n",
       "Sodium (mg)                   0.145629\n",
       "Niacin (B3) (mg)              0.151922\n",
       "Vitamin C (mg)                0.302102\n",
       "Thiamin (B1) (mg)             0.139432\n",
       "Riboflavin (B2) (mg)          0.117981\n",
       "Name: Artichokes (Globe Or French), dtype: float64"
      ]
     },
     "execution_count": 135,
     "metadata": {},
     "output_type": "execute_result"
    }
   ],
   "source": [
    "normalized.loc['Artichokes (Globe Or French)']"
   ]
  },
  {
   "cell_type": "markdown",
   "metadata": {},
   "source": [
    "### Linear Programming"
   ]
  },
  {
   "cell_type": "code",
   "execution_count": 41,
   "metadata": {},
   "outputs": [],
   "source": [
    "# minimize:\n",
    "\n",
    "# c @ x\n",
    "# such that:\n",
    "\n",
    "# A_ub @ x <= b_ub\n",
    "# A_eq @ x == b_eq\n",
    "# lb <= x <= ub"
   ]
  },
  {
   "cell_type": "code",
   "execution_count": null,
   "metadata": {},
   "outputs": [],
   "source": [
    "# c = cost\n",
    "# A_ub - nutrients"
   ]
  },
  {
   "cell_type": "code",
   "execution_count": 57,
   "metadata": {},
   "outputs": [],
   "source": [
    "A = normalized.iloc[1:].values.T"
   ]
  },
  {
   "cell_type": "code",
   "execution_count": 66,
   "metadata": {},
   "outputs": [
    {
     "data": {
      "text/plain": [
       "array([[0.00000000e+00, 0.00000000e+00, 0.00000000e+00, ...,\n",
       "        2.17097133e-04, 9.62498596e-05, 0.00000000e+00],\n",
       "       [0.00000000e+00, 0.00000000e+00, 0.00000000e+00, ...,\n",
       "        5.13345340e-01, 1.10742026e-01, 0.00000000e+00],\n",
       "       [0.00000000e+00, 0.00000000e+00, 0.00000000e+00, ...,\n",
       "        1.26476388e-01, 2.58398061e-02, 7.00195444e-04],\n",
       "       ...,\n",
       "       [0.00000000e+00, 1.60731961e-03, 0.00000000e+00, ...,\n",
       "        1.13663421e-03, 3.75976014e-02, 0.00000000e+00],\n",
       "       [0.00000000e+00, 0.00000000e+00, 0.00000000e+00, ...,\n",
       "        3.39285311e-01, 3.04540571e-02, 0.00000000e+00],\n",
       "       [0.00000000e+00, 0.00000000e+00, 0.00000000e+00, ...,\n",
       "        1.68396729e-01, 1.16610407e-01, 0.00000000e+00]])"
      ]
     },
     "execution_count": 66,
     "metadata": {},
     "output_type": "execute_result"
    }
   ],
   "source": [
    "A"
   ]
  },
  {
   "cell_type": "code",
   "execution_count": 58,
   "metadata": {},
   "outputs": [],
   "source": [
    "c = np.ones(A.shape[1])\n",
    "b = np.ones(A.shape[0])"
   ]
  },
  {
   "cell_type": "code",
   "execution_count": 59,
   "metadata": {},
   "outputs": [
    {
     "name": "stderr",
     "output_type": "stream",
     "text": [
      "/opt/conda/lib/python3.7/site-packages/numpy/core/fromnumeric.py:86: VisibleDeprecationWarning: Creating an ndarray from ragged nested sequences (which is a list-or-tuple of lists-or-tuples-or ndarrays with different lengths or shapes) is deprecated. If you meant to do this, you must specify 'dtype=object' when creating the ndarray.\n",
      "  return ufunc.reduce(obj, axis, dtype, out, **passkwargs)\n"
     ]
    }
   ],
   "source": [
    "res = scipy.optimize.linprog(c, A, b)"
   ]
  },
  {
   "cell_type": "code",
   "execution_count": 61,
   "metadata": {},
   "outputs": [],
   "source": [
    "res_df = pd.Series(res.x, index=normalized.index[1:])"
   ]
  },
  {
   "cell_type": "code",
   "execution_count": 62,
   "metadata": {},
   "outputs": [
    {
     "data": {
      "text/plain": [
       "Pillsbury Golden Layer Buttermilk Biscuits Artificial Flavor Refrigerated Dough             1.250000e-13\n",
       "Swordfish Coated Baked Or Broiled Fat Not Added In Cooking                                  1.250000e-13\n",
       "Swordfish Steamed Or Poached                                                                1.250000e-13\n",
       "Trout Cooked Ns As To Cooking Method                                                        1.250000e-13\n",
       "Trout Baked Or Broiled Made With Butter                                                     1.250000e-13\n",
       "                                                                                                ...     \n",
       "Beef Brisket Flat Half Separable Lean Only Trimmed To 1/8 Inch Fat Choice Cooked Braised    1.250000e-13\n",
       "Beef Round Eye Of Round Roast Separable Lean Only Trimmed To 1/8 Inch Fat Choice Raw        1.250000e-13\n",
       "Beef Round Top Round Steak Separable Lean Only Trimmed To 1/8 Inch Fat Choice Raw           1.250000e-13\n",
       "Soup Wonton Chinese Restaurant                                                              1.250000e-13\n",
       "Industrial Oil As Ingredient In Food                                                        1.250000e-13\n",
       "Length: 12785, dtype: float64"
      ]
     },
     "execution_count": 62,
     "metadata": {},
     "output_type": "execute_result"
    }
   ],
   "source": [
    "res_df.sort_values(ascending=False)"
   ]
  },
  {
   "cell_type": "code",
   "execution_count": null,
   "metadata": {},
   "outputs": [],
   "source": []
  }
 ],
 "metadata": {
  "kernelspec": {
   "display_name": "Python 3 (Data Science)",
   "language": "python",
   "name": "python3__SAGEMAKER_INTERNAL__arn:aws:sagemaker:us-west-2:236514542706:image/datascience-1.0"
  },
  "language_info": {
   "codemirror_mode": {
    "name": "ipython",
    "version": 3
   },
   "file_extension": ".py",
   "mimetype": "text/x-python",
   "name": "python",
   "nbconvert_exporter": "python",
   "pygments_lexer": "ipython3",
   "version": "3.7.10"
  }
 },
 "nbformat": 4,
 "nbformat_minor": 4
}
