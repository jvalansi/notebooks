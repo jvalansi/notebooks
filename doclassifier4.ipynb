{
 "cells": [
  {
   "cell_type": "markdown",
   "id": "overhead-alfred",
   "metadata": {},
   "source": [
    "# TF IDF"
   ]
  },
  {
   "cell_type": "code",
   "execution_count": 1,
   "id": "broadband-pathology",
   "metadata": {},
   "outputs": [],
   "source": [
    "# get generic word freqs\n",
    "# for each doc get word freqs\n",
    "# calculate top doc word freq / generic word freq"
   ]
  },
  {
   "cell_type": "code",
   "execution_count": 1,
   "id": "radical-combining",
   "metadata": {},
   "outputs": [
    {
     "name": "stderr",
     "output_type": "stream",
     "text": [
      "[nltk_data] Downloading package punkt to /home/ec2-user/nltk_data...\n",
      "[nltk_data]   Package punkt is already up-to-date!\n"
     ]
    }
   ],
   "source": [
    "import pandas as pd\n",
    "import numpy as np\n",
    "import nltk\n",
    "nltk.download('punkt')\n",
    "from collections import Counter\n",
    "import fasttext.util\n",
    "# fasttext.util.download_model('en', if_exists='ignore')"
   ]
  },
  {
   "cell_type": "code",
   "execution_count": 2,
   "id": "entitled-knife",
   "metadata": {},
   "outputs": [],
   "source": [
    "df = pd.read_excel('data/SUBTLEXusfrequencyabove1.xls')"
   ]
  },
  {
   "cell_type": "code",
   "execution_count": 6,
   "id": "otherwise-exclusion",
   "metadata": {},
   "outputs": [
    {
     "data": {
      "text/html": [
       "<div>\n",
       "<style scoped>\n",
       "    .dataframe tbody tr th:only-of-type {\n",
       "        vertical-align: middle;\n",
       "    }\n",
       "\n",
       "    .dataframe tbody tr th {\n",
       "        vertical-align: top;\n",
       "    }\n",
       "\n",
       "    .dataframe thead th {\n",
       "        text-align: right;\n",
       "    }\n",
       "</style>\n",
       "<table border=\"1\" class=\"dataframe\">\n",
       "  <thead>\n",
       "    <tr style=\"text-align: right;\">\n",
       "      <th></th>\n",
       "      <th>Word</th>\n",
       "      <th>FREQcount</th>\n",
       "      <th>CDcount</th>\n",
       "      <th>FREQlow</th>\n",
       "      <th>Cdlow</th>\n",
       "      <th>SUBTLWF</th>\n",
       "      <th>Lg10WF</th>\n",
       "      <th>SUBTLCD</th>\n",
       "      <th>Lg10CD</th>\n",
       "    </tr>\n",
       "  </thead>\n",
       "  <tbody>\n",
       "    <tr>\n",
       "      <th>0</th>\n",
       "      <td>the</td>\n",
       "      <td>1501908</td>\n",
       "      <td>8388</td>\n",
       "      <td>1339811</td>\n",
       "      <td>8388</td>\n",
       "      <td>29449.176471</td>\n",
       "      <td>6.176644</td>\n",
       "      <td>100.000000</td>\n",
       "      <td>3.923710</td>\n",
       "    </tr>\n",
       "    <tr>\n",
       "      <th>1</th>\n",
       "      <td>to</td>\n",
       "      <td>1156570</td>\n",
       "      <td>8383</td>\n",
       "      <td>1138435</td>\n",
       "      <td>8380</td>\n",
       "      <td>22677.843137</td>\n",
       "      <td>6.063172</td>\n",
       "      <td>99.940391</td>\n",
       "      <td>3.923451</td>\n",
       "    </tr>\n",
       "    <tr>\n",
       "      <th>2</th>\n",
       "      <td>a</td>\n",
       "      <td>1041179</td>\n",
       "      <td>8382</td>\n",
       "      <td>976941</td>\n",
       "      <td>8380</td>\n",
       "      <td>20415.274510</td>\n",
       "      <td>6.017526</td>\n",
       "      <td>99.928469</td>\n",
       "      <td>3.923399</td>\n",
       "    </tr>\n",
       "    <tr>\n",
       "      <th>3</th>\n",
       "      <td>you</td>\n",
       "      <td>2134713</td>\n",
       "      <td>8381</td>\n",
       "      <td>1595028</td>\n",
       "      <td>8376</td>\n",
       "      <td>41857.117647</td>\n",
       "      <td>6.329340</td>\n",
       "      <td>99.916547</td>\n",
       "      <td>3.923348</td>\n",
       "    </tr>\n",
       "    <tr>\n",
       "      <th>4</th>\n",
       "      <td>and</td>\n",
       "      <td>682780</td>\n",
       "      <td>8379</td>\n",
       "      <td>515365</td>\n",
       "      <td>8374</td>\n",
       "      <td>13387.843137</td>\n",
       "      <td>5.834281</td>\n",
       "      <td>99.892704</td>\n",
       "      <td>3.923244</td>\n",
       "    </tr>\n",
       "  </tbody>\n",
       "</table>\n",
       "</div>"
      ],
      "text/plain": [
       "  Word  FREQcount  CDcount  FREQlow  Cdlow       SUBTLWF    Lg10WF  \\\n",
       "0  the    1501908     8388  1339811   8388  29449.176471  6.176644   \n",
       "1   to    1156570     8383  1138435   8380  22677.843137  6.063172   \n",
       "2    a    1041179     8382   976941   8380  20415.274510  6.017526   \n",
       "3  you    2134713     8381  1595028   8376  41857.117647  6.329340   \n",
       "4  and     682780     8379   515365   8374  13387.843137  5.834281   \n",
       "\n",
       "      SUBTLCD    Lg10CD  \n",
       "0  100.000000  3.923710  \n",
       "1   99.940391  3.923451  \n",
       "2   99.928469  3.923399  \n",
       "3   99.916547  3.923348  \n",
       "4   99.892704  3.923244  "
      ]
     },
     "execution_count": 6,
     "metadata": {},
     "output_type": "execute_result"
    }
   ],
   "source": [
    "df.head()"
   ]
  },
  {
   "cell_type": "code",
   "execution_count": 7,
   "id": "naked-adams",
   "metadata": {},
   "outputs": [],
   "source": [
    "df = df.set_index('Word')"
   ]
  },
  {
   "cell_type": "code",
   "execution_count": 9,
   "id": "serious-packet",
   "metadata": {},
   "outputs": [],
   "source": [
    "freqs = df['FREQcount']"
   ]
  },
  {
   "cell_type": "code",
   "execution_count": 10,
   "id": "regulation-marsh",
   "metadata": {},
   "outputs": [
    {
     "data": {
      "text/plain": [
       "1501908"
      ]
     },
     "execution_count": 10,
     "metadata": {},
     "output_type": "execute_result"
    }
   ],
   "source": [
    "freqs['the']"
   ]
  },
  {
   "cell_type": "code",
   "execution_count": 11,
   "id": "corporate-suggestion",
   "metadata": {},
   "outputs": [],
   "source": [
    "with open('data/Thoughts_en/2nd law.9ef1ed84168a5c49d78452e206e7ba04dd473cd314d975cadab164258650b384.docx') as f:\n",
    "    data = f.read()\n"
   ]
  },
  {
   "cell_type": "code",
   "execution_count": 19,
   "id": "ready-dallas",
   "metadata": {},
   "outputs": [],
   "source": [
    "words = nltk.word_tokenize(data.lower())"
   ]
  },
  {
   "cell_type": "code",
   "execution_count": 23,
   "id": "closing-people",
   "metadata": {},
   "outputs": [],
   "source": [
    "cnt = Counter(words)"
   ]
  },
  {
   "cell_type": "code",
   "execution_count": 21,
   "id": "widespread-notice",
   "metadata": {},
   "outputs": [
    {
     "data": {
      "text/plain": [
       "72"
      ]
     },
     "execution_count": 21,
     "metadata": {},
     "output_type": "execute_result"
    }
   ],
   "source": [
    "freqs[words[0]]"
   ]
  },
  {
   "cell_type": "code",
   "execution_count": 24,
   "id": "physical-swimming",
   "metadata": {},
   "outputs": [],
   "source": [
    "tf_idf = {c: n/(freqs[c] if c in freqs else 1) for c,n in cnt.items()}"
   ]
  },
  {
   "cell_type": "code",
   "execution_count": 28,
   "id": "brilliant-communist",
   "metadata": {},
   "outputs": [],
   "source": [
    "l = sorted([(c,w) for w,c in tf_idf.items()], reverse=True)"
   ]
  },
  {
   "cell_type": "code",
   "execution_count": 32,
   "id": "unknown-string",
   "metadata": {},
   "outputs": [
    {
     "data": {
      "text/plain": [
       "72"
      ]
     },
     "execution_count": 32,
     "metadata": {},
     "output_type": "execute_result"
    }
   ],
   "source": [
    "len(l)"
   ]
  },
  {
   "cell_type": "code",
   "execution_count": 31,
   "id": "champion-confusion",
   "metadata": {},
   "outputs": [
    {
     "data": {
      "text/plain": [
       "36.26542819941986"
      ]
     },
     "execution_count": 31,
     "metadata": {},
     "output_type": "execute_result"
    }
   ],
   "source": [
    "sum([f for f,w in l])"
   ]
  },
  {
   "cell_type": "code",
   "execution_count": 45,
   "id": "polar-filling",
   "metadata": {},
   "outputs": [],
   "source": [
    "# fasttext.util.download_model('en', if_exists='ignore', dimension=100)"
   ]
  },
  {
   "cell_type": "code",
   "execution_count": 1,
   "id": "legendary-intent",
   "metadata": {},
   "outputs": [],
   "source": [
    "import io\n",
    "\n",
    "def load_vectors(fname):\n",
    "    fin = io.open(fname, 'r', encoding='utf-8', newline='\\n', errors='ignore')\n",
    "    n, d = map(int, fin.readline().split())\n",
    "    data = {}\n",
    "    for line in fin:\n",
    "        tokens = line.rstrip().split(' ')\n",
    "        data[tokens[0]] = map(float, tokens[1:])\n",
    "    return data"
   ]
  },
  {
   "cell_type": "code",
   "execution_count": null,
   "id": "informed-brooks",
   "metadata": {},
   "outputs": [],
   "source": [
    "ft = load_vectors('../../wiki-news-300d-1M.vec')"
   ]
  },
  {
   "cell_type": "code",
   "execution_count": null,
   "id": "fantastic-coordinate",
   "metadata": {},
   "outputs": [],
   "source": []
  }
 ],
 "metadata": {
  "kernelspec": {
   "display_name": "conda_pytorch_p36",
   "language": "python",
   "name": "conda_pytorch_p36"
  },
  "language_info": {
   "codemirror_mode": {
    "name": "ipython",
    "version": 3
   },
   "file_extension": ".py",
   "mimetype": "text/x-python",
   "name": "python",
   "nbconvert_exporter": "python",
   "pygments_lexer": "ipython3",
   "version": "3.6.13"
  }
 },
 "nbformat": 4,
 "nbformat_minor": 5
}
