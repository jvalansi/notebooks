{
 "cells": [
  {
   "cell_type": "code",
   "execution_count": 26,
   "id": "a4bd792d-a962-417f-807d-36a90eba969a",
   "metadata": {
    "tags": []
   },
   "outputs": [],
   "source": [
    "# Todo\n",
    "# Try to use more of the article\n",
    "# Compare to country's stock exchange\n",
    "# Only American stocks\n",
    "# Sentiment from 1 to 10\n",
    "# Compare to close price diff according to the article time\n",
    "#\n",
    "# Trade\n",
    "# Trading API\n"
   ]
  },
  {
   "cell_type": "code",
   "execution_count": 25,
   "id": "aa73063c-b703-4e44-840d-424809f0c791",
   "metadata": {
    "tags": []
   },
   "outputs": [],
   "source": [
    "# %pip install openai yfinance --upgrade"
   ]
  },
  {
   "cell_type": "code",
   "execution_count": 1,
   "id": "8c83da52-5c73-4bd7-a10c-3104ed9d205c",
   "metadata": {
    "tags": []
   },
   "outputs": [],
   "source": [
    "import os\n",
    "import json\n",
    "import random\n",
    "import datetime\n",
    "from dateutil.relativedelta import relativedelta\n",
    "from dateutil import parser\n",
    "import requests\n",
    "from tqdm.auto import tqdm\n",
    "import pandas as pd\n",
    "import numpy as np\n",
    "\n",
    "from openai import OpenAI\n",
    "import yfinance as yf"
   ]
  },
  {
   "cell_type": "code",
   "execution_count": 3,
   "id": "90f781df-ae87-4eb7-a121-c813b64db281",
   "metadata": {
    "tags": []
   },
   "outputs": [],
   "source": [
    "j = json.load(open(\"/root/.aws/secrets.json\"))\n",
    "os.environ[\"OPENAI_API_KEY\"] = j[\"OPENAI_KEY\"]"
   ]
  },
  {
   "cell_type": "code",
   "execution_count": 4,
   "id": "14be5f8c-e01c-48a6-ae0e-63683d80b9dc",
   "metadata": {},
   "outputs": [],
   "source": [
    "client = OpenAI()\n"
   ]
  },
  {
   "cell_type": "code",
   "execution_count": 5,
   "id": "82c330ec-3471-4ab0-8b9a-2bfd972a0c28",
   "metadata": {
    "tags": []
   },
   "outputs": [],
   "source": [
    "def get_news(date):\n",
    "    url = f\"https://reuters-business-and-financial-news.p.rapidapi.com/article-date/{date}\"\n",
    "\n",
    "    headers = {\n",
    "        \"X-RapidAPI-Key\": \"4169c88d67msh97cc35168a11094p1b7c3fjsn872bf1cc2c07\",\n",
    "        \"X-RapidAPI-Host\": \"reuters-business-and-financial-news.p.rapidapi.com\"\n",
    "    }\n",
    "\n",
    "    response = requests.get(url, headers=headers)\n",
    "    return response.json()\n"
   ]
  },
  {
   "cell_type": "code",
   "execution_count": 136,
   "id": "0d6dd48f-8d2c-4768-af20-be060775ca58",
   "metadata": {
    "tags": []
   },
   "outputs": [],
   "source": [
    "# company_name = \"coca-cola\""
   ]
  },
  {
   "cell_type": "code",
   "execution_count": 132,
   "id": "80bbf4dc-03b8-4e35-80ed-19ea400e0b89",
   "metadata": {
    "tags": []
   },
   "outputs": [],
   "source": [
    "# yfinance = \"https://query2.finance.yahoo.com/v1/finance/search\"\n",
    "# user_agent = 'Mozilla/5.0 (Windows NT 10.0; Win64; x64) AppleWebKit/537.36 (KHTML, like Gecko) Chrome/108.0.0.0 Safari/537.36'\n",
    "# params = {\"q\": company_name, \"quotes_count\": 1, \"country\": \"United States\"}\n",
    "\n",
    "# res = requests.get(url=yfinance, params=params, headers={'User-Agent': user_agent})\n",
    "# data = res.json()\n",
    "\n",
    "# company_code = data['quotes'][0]['symbol']\n"
   ]
  },
  {
   "cell_type": "code",
   "execution_count": 137,
   "id": "e0e643c6-5f0b-497d-845a-6626e7a2e3fd",
   "metadata": {
    "tags": []
   },
   "outputs": [],
   "source": [
    "# company_code"
   ]
  },
  {
   "cell_type": "code",
   "execution_count": 6,
   "id": "eaa05a80-67e0-44d3-b845-d933991606f8",
   "metadata": {
    "tags": []
   },
   "outputs": [],
   "source": [
    "GSPC = yf.Ticker(\"^GSPC\")\n",
    "hist = GSPC.history(start=\"2014-01-01\")\n",
    "hist['Diff'] = (hist['Close']-hist['Close'].shift(1))/hist['Close']\n",
    "hist = hist.reset_index()\n",
    "hist['Date'] = hist['Date'].dt.strftime('%Y-%m-%d')\n",
    "snp = hist.set_index(\"Date\")\n",
    "snp.to_csv(\"data/s&p.txt\", sep='\\t')\n"
   ]
  },
  {
   "cell_type": "code",
   "execution_count": 6,
   "id": "ee714e4b-466a-43b0-a96c-c7749ef5ee44",
   "metadata": {
    "tags": []
   },
   "outputs": [],
   "source": [
    "snp = pd.read_csv(\"data/s&p.txt\", sep='\\t', index_col=0)"
   ]
  },
  {
   "cell_type": "code",
   "execution_count": 19,
   "id": "926cec02-9e2e-4fc5-a01a-94a419500ad6",
   "metadata": {
    "tags": []
   },
   "outputs": [],
   "source": [
    "system_prompt = \"\"\"\n",
    "You are a financial advisor designed to output JSON. \n",
    "The JSON should contain the following fields: a 'stock' field, a 'ticker' field, a 'country' field, a 'sentiment' field and 'reasoning' field.\n",
    "The 'stock' field is a united states traded stock related to the given news article.\n",
    "The 'ticker' field is the ticker for that stock.\n",
    "The 'sentiment' field is the sentiment of the article regarding the stock, it should be on a scale from 1 to 10, 1 being very negative and 10 being very positive.\n",
    "The 'reasoning' field is an expanation for the given sentiment.\n",
    "\"\"\""
   ]
  },
  {
   "cell_type": "code",
   "execution_count": 8,
   "id": "5a30932e-a68c-4b2e-a2a8-732abb11a04e",
   "metadata": {
    "tags": []
   },
   "outputs": [],
   "source": [
    "def get_sentiment(data):\n",
    "    response = client.chat.completions.create(\n",
    "      model=\"gpt-4-1106-preview\",\n",
    "      response_format={ \"type\": \"json_object\" },\n",
    "      messages=[\n",
    "        {\"role\": \"system\", \"content\": system_prompt},\n",
    "        {\"role\": \"user\", \"content\": f\"News article: {data}\"},\n",
    "      ]\n",
    "    )\n",
    "\n",
    "    return json.loads(response.choices[0].message.content)\n",
    "    "
   ]
  },
  {
   "cell_type": "code",
   "execution_count": 78,
   "id": "6a48d4f4-775b-4976-866b-a1f9b5392cba",
   "metadata": {},
   "outputs": [],
   "source": [
    "NO_TICKER = {\"N/A\",\"NONE\",\"VARIES\",\"VARIES\",\"NOT LISTED\",\"VARIOUS\",\"NOT PUBLICLY TRADED\",\"NOT PROVIDED\",\"MULTIPLE\",\"UNKNOWN\",\"PRIVATE COMPANY\",\"PRIVATE\",\"NOT APPLICABLE\",\"PRIVATE\",\"UNAVAILABLE\",\",\"}"
   ]
  },
  {
   "cell_type": "code",
   "execution_count": 38,
   "id": "ff8cc017-4824-4749-8261-1bba79908709",
   "metadata": {},
   "outputs": [],
   "source": [
    "def is_after_hours(article):\n",
    "    article_date = article['publishedAt']['date']\n",
    "    d = parser.parse(article_date)\n",
    "    return d.hour>=21"
   ]
  },
  {
   "cell_type": "code",
   "execution_count": 130,
   "id": "2ae003c6-dc1b-4081-a9fe-748034d9af6c",
   "metadata": {
    "tags": []
   },
   "outputs": [],
   "source": [
    "news = get_news(\"2019-11-13\")"
   ]
  },
  {
   "cell_type": "code",
   "execution_count": 129,
   "id": "595ec79a-6684-4cb3-8cd7-2d20bfa0a9df",
   "metadata": {},
   "outputs": [
    {
     "name": "stdout",
     "output_type": "stream",
     "text": [
      "hi\n"
     ]
    }
   ],
   "source": [
    "print('hi')"
   ]
  },
  {
   "cell_type": "code",
   "execution_count": 131,
   "id": "c0ee4f7a-ccee-4960-9f9f-7ba07fd56e06",
   "metadata": {
    "tags": []
   },
   "outputs": [],
   "source": [
    "news = [n for n in news if \"Friends\" in n['articlesName']]"
   ]
  },
  {
   "cell_type": "code",
   "execution_count": 132,
   "id": "cb90bb92-dc4e-4300-9907-1b16e9654648",
   "metadata": {
    "tags": []
   },
   "outputs": [],
   "source": [
    "article = news[0]"
   ]
  },
  {
   "cell_type": "code",
   "execution_count": 133,
   "id": "3f2e054b-3566-4b6e-a32f-79768e7d0fc0",
   "metadata": {
    "tags": []
   },
   "outputs": [
    {
     "data": {
      "text/plain": [
       "{'articlesName': \"'Friends' reunion special could be headed for HBO Max - Hollywood media\",\n",
       " 'articlesShortDescription': 'Could \"Friends\" be getting back together, if only for a one night stand?',\n",
       " 'articlesDescription': '[{\"type\":\"paragraph\",\"content\":\"Could &ldquo;Friends&rdquo; be getting back together, if only for a one night stand?\"},{\"type\":\"paragraph\",\"content\":\"The Hollywood Reporter and Variety on Tuesday reported that preliminary talks were underway for an unscripted reunion special that would feature all six &ldquo;Friends&rdquo; actors and air on upcoming streaming service HBO Max, a unit of AT\\\\u0026amp;T&rsquo;s WarnerMedia.\"},{\"type\":\"paragraph\",\"content\":\"HBO Max had no comment on the reports, which follow hints by Jennifer Aniston that something might be underway.\"},{\"type\":\"paragraph\",\"content\":\"The talks are still in the very early stages and would not involve reviving the hit comedy series that ended in 2004, the two entertainment industry publications said, citing unidentified sources.\"},{\"type\":\"paragraph\",\"content\":\"HBO Max secured the rights to all 10 seasons of &ldquo;Friends&rdquo; for its streaming service that is scheduled to launch in April 2020. The series has found a new lease of life on Netflix where it was the second most-watched show in 2018, according to Nielsen data.\"},{\"type\":\"paragraph\",\"content\":\"Aniston joined Instagram in October by posting a recent selfie with &ldquo;Friends&rdquo; actors Matt LeBlanc (Joey), Courtney Cox (Monica), Matthew Perry (Chandler), Lisa Kudrow (Phoebe) and David Schwimmer (Ross).\"},{\"type\":\"paragraph\",\"content\":\"Asked about a possible new &ldquo;Friends&rdquo; project, Aniston told talk show host Ellen DeGeneres last month:\"},{\"type\":\"paragraph\",\"content\":\"&ldquo;We would love for there to be something, but we don&rsquo;t know what that something is. So we&rsquo;re just trying. We&rsquo;re working on something.&rdquo;\"},{\"type\":\"paragraph\",\"content\":\"Aniston said she posted the selfie because &ldquo;because we miss each other and we all happened to be in the same part of the world.&rdquo;\"}]',\n",
       " 'minutesToRead': 2,\n",
       " 'primaryAssetType': 3,\n",
       " 'wordCount': None,\n",
       " 'urlSupplier': 'https://www.reuters.com/article/us-television-friends/friends-reunion-special-could-be-headed-for-hbo-max-hollywood-media-idUSKBN1XN05O',\n",
       " 'canonicalSupplier': 'https://www.reuters.com/article/us-television-friends-idUSKBN1XN05O',\n",
       " 'publishedAt': {'date': '2019-11-13 02:23:05.000000',\n",
       "  'timezone_type': 3,\n",
       "  'timezone': 'UTC'},\n",
       " 'dateModified': {'date': '2019-11-13 02:21:42.000000',\n",
       "  'timezone_type': 3,\n",
       "  'timezone': 'UTC'},\n",
       " 'files': [{'filesName': None,\n",
       "   'filesTitle': None,\n",
       "   'filesDescription': 'The cast of the popular comedy television series \"Friends,\" which will end its ten year run on May 6, 2004, are pictured on a giant billboard promoting the series finale, at the NBC television network office in Burbank, California, May 3, 2004. Cast members (L-R) are Courteney Cox Arquette as Monica, Matt Le Blanc as Joey, Lisa Kudrow as Pheobe, Matthew Perry as Chandler, Jennifer Aniston as Rachel and David Schwimmer as Ross. PHOTOGRAPH TAKEN MAY 3 Fred Prouser',\n",
       "   'contentType': 'image/jpeg',\n",
       "   'urlCdn': 'https://static.reuters.com/resources/r/?m=02&d=20191113&t=2&i=1451589107&r=LYNXMPEFAC067'},\n",
       "  {'filesName': None,\n",
       "   'filesTitle': None,\n",
       "   'filesDescription': 'The cast of the television show \"Friends\" appears at the 54th annual Emmy Awards in Los Angeles September 22, 2002. From left are Matthew Perry, David Schwimmer, Matt LeBlanc, Lisa Kudrow, Jennifer Aniston and Courteney Cox Arquette. The show is nominated for Outstanding Comedy Series.',\n",
       "   'contentType': 'image/jpeg',\n",
       "   'urlCdn': 'https://static.reuters.com/resources/r/?m=02&d=20191113&t=2&i=1451589108&r=LYNXMPEFAC069'}],\n",
       " 'videos': [],\n",
       " 'tags': [{'name': 'United States', 'slug': 'united-states'},\n",
       "  {'name': 'Company News', 'slug': 'company-news'},\n",
       "  {'name': 'Europe', 'slug': 'europe'},\n",
       "  {'name': 'Arts / Culture / Entertainment',\n",
       "   'slug': 'arts-culture-entertainment'},\n",
       "  {'name': 'Media & Publishing (TRBC level 3)',\n",
       "   'slug': 'media-publishing-trbc-level-3'},\n",
       "  {'name': 'Media / Publishing (Legacy)', 'slug': 'media-publishing-legacy'},\n",
       "  {'name': 'Wireless Telecommunications Services (TRBC level 4)',\n",
       "   'slug': 'wireless-telecommunications-services-trbc-level-4'},\n",
       "  {'name': 'Living / Lifestyle', 'slug': 'living-lifestyle'},\n",
       "  {'name': 'Television', 'slug': 'television'},\n",
       "  {'name': 'Wireless Telecommunications Services (NEC) (TRBC level 5)',\n",
       "   'slug': 'wireless-telecommunications-services-nec-trbc-level-5'},\n",
       "  {'name': 'Celebrities', 'slug': 'celebrities'}],\n",
       " 'keywords': [{'keywordName': 'United States', 'keywordSlug': 'united-states'},\n",
       "  {'keywordName': 'US', 'keywordSlug': 'us'},\n",
       "  {'keywordName': 'Company News', 'keywordSlug': 'company-news'},\n",
       "  {'keywordName': 'Europe', 'keywordSlug': 'europe'},\n",
       "  {'keywordName': 'Arts / Culture / Entertainment',\n",
       "   'keywordSlug': 'arts-culture-entertainment'},\n",
       "  {'keywordName': 'Media & Publishing (TRBC level 3)',\n",
       "   'keywordSlug': 'media-publishing-trbc-level-3'},\n",
       "  {'keywordName': 'Media / Publishing (Legacy)',\n",
       "   'keywordSlug': 'media-publishing-legacy'},\n",
       "  {'keywordName': 'Wireless Telecommunications Services (TRBC level 4)',\n",
       "   'keywordSlug': 'wireless-telecommunications-services-trbc-level-4'},\n",
       "  {'keywordName': 'Living / Lifestyle', 'keywordSlug': 'living-lifestyle'},\n",
       "  {'keywordName': 'Television', 'keywordSlug': 'television'},\n",
       "  {'keywordName': 'Wireless Telecommunications Services (NEC) (TRBC level 5)',\n",
       "   'keywordSlug': 'wireless-telecommunications-services-nec-trbc-level-5'},\n",
       "  {'keywordName': 'Celebrities', 'keywordSlug': 'celebrities'},\n",
       "  {'keywordName': 'FRIENDS', 'keywordSlug': 'friends'}],\n",
       " 'n2': [],\n",
       " 'authors': [{'authorName': 'Reuters Staff'}]}"
      ]
     },
     "execution_count": 133,
     "metadata": {},
     "output_type": "execute_result"
    }
   ],
   "source": [
    "article"
   ]
  },
  {
   "cell_type": "code",
   "execution_count": 120,
   "id": "7bde0d6f-34d8-439e-a3dc-b2001c5d6dcc",
   "metadata": {
    "tags": []
   },
   "outputs": [],
   "source": [
    "desc = json.loads(article['articlesDescription'])"
   ]
  },
  {
   "cell_type": "code",
   "execution_count": 122,
   "id": "27601ada-2f87-4e59-ab24-ca69fe153025",
   "metadata": {
    "tags": []
   },
   "outputs": [],
   "source": [
    "content = '\\n'.join([x['content'] for x in desc if x['type']=='paragraph'])"
   ]
  },
  {
   "cell_type": "code",
   "execution_count": 123,
   "id": "d8fc2072-4521-418d-b42f-64c98e210ec9",
   "metadata": {
    "tags": []
   },
   "outputs": [],
   "source": [
    "data = f\"{article['articlesName']} - {article['articlesShortDescription']} - {content}\""
   ]
  },
  {
   "cell_type": "code",
   "execution_count": 124,
   "id": "0e39d3ca-a06c-40ff-9ef0-d9bd143b518f",
   "metadata": {
    "tags": []
   },
   "outputs": [],
   "source": [
    "j = get_sentiment(data)"
   ]
  },
  {
   "cell_type": "code",
   "execution_count": 125,
   "id": "a5b8a473-35a9-4e70-bf02-093bb23dbae5",
   "metadata": {
    "tags": []
   },
   "outputs": [
    {
     "data": {
      "text/plain": [
       "{'stock': 'Liberty Media Corporation',\n",
       " 'ticker': 'FWONA',\n",
       " 'country': 'United States',\n",
       " 'sentiment': 8,\n",
       " 'reasoning': \"The article presents a positive sentiment towards Formula One's growing presence in the American market, highlighting the success of the Miami Grand Prix and the anticipation around the Las Vegas race. This optimistic outlook is likely to reflect well on Liberty Media—the company that owns Formula One—due to increased fan and sponsor interest, and the potential expansion with the Andretti Global team which indicates growth and diversity within the sport.\"}"
      ]
     },
     "execution_count": 125,
     "metadata": {},
     "output_type": "execute_result"
    }
   ],
   "source": [
    "j"
   ]
  },
  {
   "cell_type": "code",
   "execution_count": 77,
   "id": "0b41f9f8-7318-49eb-a3e1-a0fca55502b2",
   "metadata": {
    "tags": []
   },
   "outputs": [],
   "source": [
    "def analyse_article(article, date):\n",
    "    data = f\"{article['articlesName']} - {article['articlesShortDescription']}\"\n",
    "    if 'United States' not in [k['keywordName'] for k in article['keywords']]:\n",
    "        # print('not in US')\n",
    "        return\n",
    "    j = get_sentiment(data)\n",
    "    if j['ticker'] in NO_TICKER or any([x in j['ticker'] for x in NO_TICKER]):\n",
    "        # print('no ticker')\n",
    "        return\n",
    "    ticker = yf.Ticker(j['ticker'])\n",
    "\n",
    "    # before = datetime.date(date.year,date.month,1)\n",
    "    if is_after_hours(article):\n",
    "        i = list(snp.index).index(date)\n",
    "        start = date\n",
    "        end = snp.iloc[list(snp.index).index(date)+2].name\n",
    "    else:\n",
    "        start = snp.iloc[list(snp.index).index(date)-1].name\n",
    "        end = snp.iloc[list(snp.index).index(date)+1].name\n",
    "    hist = ticker.history(start=start, end=end)\n",
    "    if len(hist)==0:\n",
    "        # print('no hist')\n",
    "        return \n",
    "\n",
    "    ticker_start = hist.iloc[0]\n",
    "    ticker_end = hist.iloc[-1]\n",
    "    ticker_diff = (ticker_end['Close']-ticker_start['Close'])/ticker_start['Close']\n",
    "\n",
    "    snp_start = snp.iloc[list(snp.index).index(start)]\n",
    "    snp_end = snp.iloc[list(snp.index).index(end)]\n",
    "    snp_diff = (snp_end['Close']-snp_start['Close'])/snp_start['Close']\n",
    "\n",
    "    diff = ticker_diff-snp_diff\n",
    "    return date, data, j['ticker'], j['sentiment'], j['reasoning'], ticker_diff, snp_diff, diff\n",
    "    "
   ]
  },
  {
   "cell_type": "code",
   "execution_count": 74,
   "id": "2552967a-0849-420d-83a1-47eee1da88a1",
   "metadata": {},
   "outputs": [],
   "source": [
    "res = []"
   ]
  },
  {
   "cell_type": "code",
   "execution_count": null,
   "id": "ed3512bf-cca9-43bb-8972-fab877c87112",
   "metadata": {
    "tags": []
   },
   "outputs": [
    {
     "data": {
      "application/vnd.jupyter.widget-view+json": {
       "model_id": "1453635c5e864f3f8157a81602344288",
       "version_major": 2,
       "version_minor": 0
      },
      "text/plain": [
       "  0%|          | 0/100 [00:00<?, ?it/s]"
      ]
     },
     "metadata": {},
     "output_type": "display_data"
    },
    {
     "name": "stderr",
     "output_type": "stream",
     "text": [
      "SHLDQ: No timezone found, symbol may be delisted\n",
      "CTVA: Data doesn't exist for startDate = 1549429200, endDate = 1549602000\n"
     ]
    },
    {
     "name": "stdout",
     "output_type": "stream",
     "text": [
      "'ticker'\n"
     ]
    },
    {
     "name": "stderr",
     "output_type": "stream",
     "text": [
      "SPX: No price data found, symbol may be delisted (1d 2021-02-09 -> 2021-02-11)\n",
      "DKNG: Data doesn't exist for startDate = 1478232000, endDate = 1478581200\n",
      "WMG: Data doesn't exist for startDate = 1478232000, endDate = 1478581200\n",
      "MYL: No timezone found, symbol may be delisted\n"
     ]
    },
    {
     "name": "stdout",
     "output_type": "stream",
     "text": [
      "argument of type 'NoneType' is not iterable\n"
     ]
    },
    {
     "name": "stderr",
     "output_type": "stream",
     "text": [
      "ELY: No timezone found, symbol may be delisted\n",
      "PKI: No timezone found, symbol may be delisted\n",
      "Failed to get ticker 'N/A' reason: Expecting value: line 1 column 1 (char 0)\n",
      "N/A: No timezone found, symbol may be delisted\n"
     ]
    }
   ],
   "source": [
    "for i in tqdm(range(100)):\n",
    "    date = random.choice(snp.index)\n",
    "    news = get_news(date)\n",
    "    for _ in range(10):\n",
    "        try:\n",
    "            article = random.choice(news)\n",
    "            analysis = analyse_article(article,date)\n",
    "            if analysis is None:\n",
    "                continue\n",
    "\n",
    "            res += [analysis]\n",
    "            break\n",
    "        except Exception as e:\n",
    "            print(e)\n",
    "            continue"
   ]
  },
  {
   "cell_type": "code",
   "execution_count": 100,
   "id": "92d7d53b-18a3-4d28-a4ec-9b1fca685dc0",
   "metadata": {
    "tags": []
   },
   "outputs": [
    {
     "name": "stdout",
     "output_type": "stream",
     "text": [
      "hi\n"
     ]
    }
   ],
   "source": [
    "print('hi')"
   ]
  },
  {
   "cell_type": "code",
   "execution_count": 101,
   "id": "b1c70b4d-5566-4122-8658-de092921f095",
   "metadata": {
    "tags": []
   },
   "outputs": [],
   "source": [
    "df = pd.DataFrame(res) # "
   ]
  },
  {
   "cell_type": "code",
   "execution_count": 104,
   "id": "f61f2da5-b78f-4839-9671-ea16ea79ad10",
   "metadata": {
    "tags": []
   },
   "outputs": [],
   "source": [
    "df['sentiment'] = df[3]-5.5"
   ]
  },
  {
   "cell_type": "code",
   "execution_count": null,
   "id": "7430eb73-f0bb-42d9-9f07-270eb6c88f75",
   "metadata": {
    "tags": []
   },
   "outputs": [],
   "source": [
    "# df[3].apply(lambda x: x['sentiment'])"
   ]
  },
  {
   "cell_type": "code",
   "execution_count": 22,
   "id": "bc825996-432b-4ae2-bfd1-af2e9fcb883e",
   "metadata": {
    "tags": []
   },
   "outputs": [],
   "source": [
    "D = {\"positive\":1, 'neutral':0, 'negative':-1}"
   ]
  },
  {
   "cell_type": "code",
   "execution_count": 23,
   "id": "88d9d0bf-3d51-47dd-83f8-52afe39f33a5",
   "metadata": {
    "tags": []
   },
   "outputs": [],
   "source": [
    "df['sentiment'] = df[3].apply(lambda x: D[x['sentiment'].lower()])\n"
   ]
  },
  {
   "cell_type": "code",
   "execution_count": 105,
   "id": "3f858006-6919-4a59-bf25-8f954f5bf2b7",
   "metadata": {
    "tags": []
   },
   "outputs": [
    {
     "data": {
      "text/html": [
       "<div>\n",
       "<style scoped>\n",
       "    .dataframe tbody tr th:only-of-type {\n",
       "        vertical-align: middle;\n",
       "    }\n",
       "\n",
       "    .dataframe tbody tr th {\n",
       "        vertical-align: top;\n",
       "    }\n",
       "\n",
       "    .dataframe thead th {\n",
       "        text-align: right;\n",
       "    }\n",
       "</style>\n",
       "<table border=\"1\" class=\"dataframe\">\n",
       "  <thead>\n",
       "    <tr style=\"text-align: right;\">\n",
       "      <th></th>\n",
       "      <th>0</th>\n",
       "      <th>1</th>\n",
       "      <th>2</th>\n",
       "      <th>3</th>\n",
       "      <th>4</th>\n",
       "      <th>5</th>\n",
       "      <th>6</th>\n",
       "      <th>7</th>\n",
       "      <th>sentiment</th>\n",
       "    </tr>\n",
       "  </thead>\n",
       "  <tbody>\n",
       "    <tr>\n",
       "      <th>0</th>\n",
       "      <td>2016-01-15</td>\n",
       "      <td>Private equity deals hit as banks curb lending...</td>\n",
       "      <td>KKR</td>\n",
       "      <td>4</td>\n",
       "      <td>The article suggests that banks are cutting ba...</td>\n",
       "      <td>-0.036559</td>\n",
       "      <td>-0.021079</td>\n",
       "      <td>-0.015481</td>\n",
       "      <td>-1.5</td>\n",
       "    </tr>\n",
       "    <tr>\n",
       "      <th>1</th>\n",
       "      <td>2019-06-04</td>\n",
       "      <td>Developers sue Apple over App Store practices ...</td>\n",
       "      <td>AAPL</td>\n",
       "      <td>3</td>\n",
       "      <td>The lawsuit over App Store practices suggests ...</td>\n",
       "      <td>0.036584</td>\n",
       "      <td>0.029769</td>\n",
       "      <td>0.006815</td>\n",
       "      <td>-2.5</td>\n",
       "    </tr>\n",
       "    <tr>\n",
       "      <th>2</th>\n",
       "      <td>2021-07-13</td>\n",
       "      <td>UPDATE 1-Pound extends fall after U.S. inflati...</td>\n",
       "      <td>FXB</td>\n",
       "      <td>3</td>\n",
       "      <td>The pound extending its fall typically indicat...</td>\n",
       "      <td>-0.005155</td>\n",
       "      <td>-0.002356</td>\n",
       "      <td>-0.002799</td>\n",
       "      <td>-2.5</td>\n",
       "    </tr>\n",
       "    <tr>\n",
       "      <th>3</th>\n",
       "      <td>2016-10-25</td>\n",
       "      <td>Caterpillar sees little change into 2017, cuts...</td>\n",
       "      <td>CAT</td>\n",
       "      <td>3</td>\n",
       "      <td>The news article indicates Caterpillar Inc has...</td>\n",
       "      <td>-0.017560</td>\n",
       "      <td>-0.005532</td>\n",
       "      <td>-0.012029</td>\n",
       "      <td>-2.5</td>\n",
       "    </tr>\n",
       "    <tr>\n",
       "      <th>4</th>\n",
       "      <td>2018-08-15</td>\n",
       "      <td>Google provides data on U.S. political adverti...</td>\n",
       "      <td>GOOGL</td>\n",
       "      <td>7</td>\n",
       "      <td>The addition of a section on political adverti...</td>\n",
       "      <td>-0.020602</td>\n",
       "      <td>0.000257</td>\n",
       "      <td>-0.020859</td>\n",
       "      <td>1.5</td>\n",
       "    </tr>\n",
       "    <tr>\n",
       "      <th>...</th>\n",
       "      <td>...</td>\n",
       "      <td>...</td>\n",
       "      <td>...</td>\n",
       "      <td>...</td>\n",
       "      <td>...</td>\n",
       "      <td>...</td>\n",
       "      <td>...</td>\n",
       "      <td>...</td>\n",
       "      <td>...</td>\n",
       "    </tr>\n",
       "    <tr>\n",
       "      <th>111</th>\n",
       "      <td>2020-12-04</td>\n",
       "      <td>Breakingviews - Corona Capital: Movie releases...</td>\n",
       "      <td>WBD</td>\n",
       "      <td>5</td>\n",
       "      <td>The news article discusses impacts of the pand...</td>\n",
       "      <td>0.008499</td>\n",
       "      <td>0.006884</td>\n",
       "      <td>0.001615</td>\n",
       "      <td>-0.5</td>\n",
       "    </tr>\n",
       "    <tr>\n",
       "      <th>112</th>\n",
       "      <td>2020-10-16</td>\n",
       "      <td>Shares of gun makers gain as Biden's lead grow...</td>\n",
       "      <td>RGR</td>\n",
       "      <td>8</td>\n",
       "      <td>The sentiments are positive towards gun makers...</td>\n",
       "      <td>-0.006867</td>\n",
       "      <td>-0.016197</td>\n",
       "      <td>0.009330</td>\n",
       "      <td>2.5</td>\n",
       "    </tr>\n",
       "    <tr>\n",
       "      <th>113</th>\n",
       "      <td>2019-12-03</td>\n",
       "      <td>PRESS DIGEST-British Business - Dec 3 - The fo...</td>\n",
       "      <td>TRI</td>\n",
       "      <td>5</td>\n",
       "      <td>The content relevant to the stock is not direc...</td>\n",
       "      <td>-0.007563</td>\n",
       "      <td>-0.000357</td>\n",
       "      <td>-0.007206</td>\n",
       "      <td>-0.5</td>\n",
       "    </tr>\n",
       "    <tr>\n",
       "      <th>114</th>\n",
       "      <td>2015-12-11</td>\n",
       "      <td>U.S. oil export ban 'very likely' to be lifted...</td>\n",
       "      <td>XOM</td>\n",
       "      <td>8</td>\n",
       "      <td>The lifting of the U.S. oil export ban is expe...</td>\n",
       "      <td>0.022733</td>\n",
       "      <td>0.015425</td>\n",
       "      <td>0.007309</td>\n",
       "      <td>2.5</td>\n",
       "    </tr>\n",
       "    <tr>\n",
       "      <th>115</th>\n",
       "      <td>2019-11-13</td>\n",
       "      <td>Apple supplier Foxconn's Q3 profit up 23%, bea...</td>\n",
       "      <td>AAPL</td>\n",
       "      <td>8</td>\n",
       "      <td>The news is positive for Apple Inc as its supp...</td>\n",
       "      <td>0.009582</td>\n",
       "      <td>0.001549</td>\n",
       "      <td>0.008032</td>\n",
       "      <td>2.5</td>\n",
       "    </tr>\n",
       "  </tbody>\n",
       "</table>\n",
       "<p>116 rows × 9 columns</p>\n",
       "</div>"
      ],
      "text/plain": [
       "              0                                                  1      2  3  \\\n",
       "0    2016-01-15  Private equity deals hit as banks curb lending...    KKR  4   \n",
       "1    2019-06-04  Developers sue Apple over App Store practices ...   AAPL  3   \n",
       "2    2021-07-13  UPDATE 1-Pound extends fall after U.S. inflati...    FXB  3   \n",
       "3    2016-10-25  Caterpillar sees little change into 2017, cuts...    CAT  3   \n",
       "4    2018-08-15  Google provides data on U.S. political adverti...  GOOGL  7   \n",
       "..          ...                                                ...    ... ..   \n",
       "111  2020-12-04  Breakingviews - Corona Capital: Movie releases...    WBD  5   \n",
       "112  2020-10-16  Shares of gun makers gain as Biden's lead grow...    RGR  8   \n",
       "113  2019-12-03  PRESS DIGEST-British Business - Dec 3 - The fo...    TRI  5   \n",
       "114  2015-12-11  U.S. oil export ban 'very likely' to be lifted...    XOM  8   \n",
       "115  2019-11-13  Apple supplier Foxconn's Q3 profit up 23%, bea...   AAPL  8   \n",
       "\n",
       "                                                     4         5         6  \\\n",
       "0    The article suggests that banks are cutting ba... -0.036559 -0.021079   \n",
       "1    The lawsuit over App Store practices suggests ...  0.036584  0.029769   \n",
       "2    The pound extending its fall typically indicat... -0.005155 -0.002356   \n",
       "3    The news article indicates Caterpillar Inc has... -0.017560 -0.005532   \n",
       "4    The addition of a section on political adverti... -0.020602  0.000257   \n",
       "..                                                 ...       ...       ...   \n",
       "111  The news article discusses impacts of the pand...  0.008499  0.006884   \n",
       "112  The sentiments are positive towards gun makers... -0.006867 -0.016197   \n",
       "113  The content relevant to the stock is not direc... -0.007563 -0.000357   \n",
       "114  The lifting of the U.S. oil export ban is expe...  0.022733  0.015425   \n",
       "115  The news is positive for Apple Inc as its supp...  0.009582  0.001549   \n",
       "\n",
       "            7  sentiment  \n",
       "0   -0.015481       -1.5  \n",
       "1    0.006815       -2.5  \n",
       "2   -0.002799       -2.5  \n",
       "3   -0.012029       -2.5  \n",
       "4   -0.020859        1.5  \n",
       "..        ...        ...  \n",
       "111  0.001615       -0.5  \n",
       "112  0.009330        2.5  \n",
       "113 -0.007206       -0.5  \n",
       "114  0.007309        2.5  \n",
       "115  0.008032        2.5  \n",
       "\n",
       "[116 rows x 9 columns]"
      ]
     },
     "execution_count": 105,
     "metadata": {},
     "output_type": "execute_result"
    }
   ],
   "source": [
    "df"
   ]
  },
  {
   "cell_type": "code",
   "execution_count": 106,
   "id": "62c5d8c4-a0a8-49e9-99e6-390e9d70314e",
   "metadata": {
    "tags": []
   },
   "outputs": [
    {
     "data": {
      "text/plain": [
       "0.00741776328919238"
      ]
     },
     "execution_count": 106,
     "metadata": {},
     "output_type": "execute_result"
    }
   ],
   "source": [
    "(df[7]*df['sentiment']).sum()/np.abs(df['sentiment']).sum()"
   ]
  },
  {
   "cell_type": "code",
   "execution_count": 32,
   "id": "10d5f1ff-e037-450d-b24e-c1da126a7900",
   "metadata": {
    "tags": []
   },
   "outputs": [],
   "source": [
    "df['sign'] = df[2].apply(lambda x: np.sign(x))"
   ]
  },
  {
   "cell_type": "code",
   "execution_count": 107,
   "id": "d294303e-038f-4e7a-bf9d-e86772ce7334",
   "metadata": {
    "tags": []
   },
   "outputs": [
    {
     "data": {
      "text/plain": [
       "0.003832742440477173"
      ]
     },
     "execution_count": 107,
     "metadata": {},
     "output_type": "execute_result"
    }
   ],
   "source": [
    "df[7].sum()/len(df)"
   ]
  },
  {
   "cell_type": "code",
   "execution_count": 108,
   "id": "2e5035b0-9c71-44da-bddf-c4ec73df661f",
   "metadata": {
    "tags": []
   },
   "outputs": [],
   "source": [
    "df.to_csv('data/news2roi.tsv', sep='\\t', index=0)"
   ]
  },
  {
   "cell_type": "code",
   "execution_count": 67,
   "id": "ce455046-7709-4611-b08a-836e55ee649d",
   "metadata": {
    "tags": []
   },
   "outputs": [
    {
     "name": "stdout",
     "output_type": "stream",
     "text": [
      "hi\n"
     ]
    }
   ],
   "source": [
    "print('hi')"
   ]
  },
  {
   "cell_type": "code",
   "execution_count": 36,
   "id": "8ebff1e2-97ce-4dbb-9215-448757ee061d",
   "metadata": {
    "tags": []
   },
   "outputs": [],
   "source": [
    "tp = ((df[2]>0) & (df['sentiment']>0)).sum()"
   ]
  },
  {
   "cell_type": "code",
   "execution_count": 37,
   "id": "89511506-0d87-434a-b8dd-bfdeb55b5bea",
   "metadata": {
    "tags": []
   },
   "outputs": [],
   "source": [
    "tn = ((df[2]<0) & (df['sentiment']<0)).sum()"
   ]
  },
  {
   "cell_type": "code",
   "execution_count": 38,
   "id": "922595dc-e876-4426-b47a-b10d9cc1f9b8",
   "metadata": {
    "tags": []
   },
   "outputs": [],
   "source": [
    "fp = ((df[2]<0) & (df['sentiment']>0)).sum()"
   ]
  },
  {
   "cell_type": "code",
   "execution_count": 39,
   "id": "cfc6e8d1-ca05-46e5-9cbf-29217133db81",
   "metadata": {
    "tags": []
   },
   "outputs": [],
   "source": [
    "fn = ((df[2]>0) & (df['sentiment']<0)).sum()"
   ]
  },
  {
   "cell_type": "code",
   "execution_count": 40,
   "id": "f326276f-7cb4-488d-a85d-1568429deb48",
   "metadata": {
    "tags": []
   },
   "outputs": [],
   "source": [
    "acc = (tp+tn)/(tp+tn+fp+fn)"
   ]
  },
  {
   "cell_type": "code",
   "execution_count": 41,
   "id": "9a30b0d7-5ca7-4095-a71a-66f8d5a24b56",
   "metadata": {
    "tags": []
   },
   "outputs": [
    {
     "data": {
      "text/plain": [
       "0.6"
      ]
     },
     "execution_count": 41,
     "metadata": {},
     "output_type": "execute_result"
    }
   ],
   "source": [
    "acc"
   ]
  },
  {
   "cell_type": "code",
   "execution_count": null,
   "id": "4b1e7d1c-c6b7-4c26-a655-162a7be9a336",
   "metadata": {},
   "outputs": [],
   "source": []
  },
  {
   "cell_type": "code",
   "execution_count": 42,
   "id": "5d656651-f2e0-4c4c-946d-1adda9eef323",
   "metadata": {
    "tags": []
   },
   "outputs": [
    {
     "data": {
      "text/plain": [
       "23"
      ]
     },
     "execution_count": 42,
     "metadata": {},
     "output_type": "execute_result"
    }
   ],
   "source": [
    "tp"
   ]
  },
  {
   "cell_type": "code",
   "execution_count": 43,
   "id": "ad92eba2-ec3b-465d-87e3-2ff2244d33e2",
   "metadata": {
    "tags": []
   },
   "outputs": [
    {
     "data": {
      "text/plain": [
       "25"
      ]
     },
     "execution_count": 43,
     "metadata": {},
     "output_type": "execute_result"
    }
   ],
   "source": [
    "tn"
   ]
  },
  {
   "cell_type": "code",
   "execution_count": 44,
   "id": "772ab697-d414-48b8-94c2-261717b46c84",
   "metadata": {
    "tags": []
   },
   "outputs": [
    {
     "data": {
      "text/plain": [
       "23"
      ]
     },
     "execution_count": 44,
     "metadata": {},
     "output_type": "execute_result"
    }
   ],
   "source": [
    "fp"
   ]
  },
  {
   "cell_type": "code",
   "execution_count": 45,
   "id": "cc92f4b5-7e5c-41e9-8657-5ec240104991",
   "metadata": {
    "tags": []
   },
   "outputs": [
    {
     "data": {
      "text/plain": [
       "9"
      ]
     },
     "execution_count": 45,
     "metadata": {},
     "output_type": "execute_result"
    }
   ],
   "source": [
    "fn"
   ]
  }
 ],
 "metadata": {
  "availableInstances": [
   {
    "_defaultOrder": 0,
    "_isFastLaunch": true,
    "category": "General purpose",
    "gpuNum": 0,
    "hideHardwareSpecs": false,
    "memoryGiB": 4,
    "name": "ml.t3.medium",
    "vcpuNum": 2
   },
   {
    "_defaultOrder": 1,
    "_isFastLaunch": false,
    "category": "General purpose",
    "gpuNum": 0,
    "hideHardwareSpecs": false,
    "memoryGiB": 8,
    "name": "ml.t3.large",
    "vcpuNum": 2
   },
   {
    "_defaultOrder": 2,
    "_isFastLaunch": false,
    "category": "General purpose",
    "gpuNum": 0,
    "hideHardwareSpecs": false,
    "memoryGiB": 16,
    "name": "ml.t3.xlarge",
    "vcpuNum": 4
   },
   {
    "_defaultOrder": 3,
    "_isFastLaunch": false,
    "category": "General purpose",
    "gpuNum": 0,
    "hideHardwareSpecs": false,
    "memoryGiB": 32,
    "name": "ml.t3.2xlarge",
    "vcpuNum": 8
   },
   {
    "_defaultOrder": 4,
    "_isFastLaunch": true,
    "category": "General purpose",
    "gpuNum": 0,
    "hideHardwareSpecs": false,
    "memoryGiB": 8,
    "name": "ml.m5.large",
    "vcpuNum": 2
   },
   {
    "_defaultOrder": 5,
    "_isFastLaunch": false,
    "category": "General purpose",
    "gpuNum": 0,
    "hideHardwareSpecs": false,
    "memoryGiB": 16,
    "name": "ml.m5.xlarge",
    "vcpuNum": 4
   },
   {
    "_defaultOrder": 6,
    "_isFastLaunch": false,
    "category": "General purpose",
    "gpuNum": 0,
    "hideHardwareSpecs": false,
    "memoryGiB": 32,
    "name": "ml.m5.2xlarge",
    "vcpuNum": 8
   },
   {
    "_defaultOrder": 7,
    "_isFastLaunch": false,
    "category": "General purpose",
    "gpuNum": 0,
    "hideHardwareSpecs": false,
    "memoryGiB": 64,
    "name": "ml.m5.4xlarge",
    "vcpuNum": 16
   },
   {
    "_defaultOrder": 8,
    "_isFastLaunch": false,
    "category": "General purpose",
    "gpuNum": 0,
    "hideHardwareSpecs": false,
    "memoryGiB": 128,
    "name": "ml.m5.8xlarge",
    "vcpuNum": 32
   },
   {
    "_defaultOrder": 9,
    "_isFastLaunch": false,
    "category": "General purpose",
    "gpuNum": 0,
    "hideHardwareSpecs": false,
    "memoryGiB": 192,
    "name": "ml.m5.12xlarge",
    "vcpuNum": 48
   },
   {
    "_defaultOrder": 10,
    "_isFastLaunch": false,
    "category": "General purpose",
    "gpuNum": 0,
    "hideHardwareSpecs": false,
    "memoryGiB": 256,
    "name": "ml.m5.16xlarge",
    "vcpuNum": 64
   },
   {
    "_defaultOrder": 11,
    "_isFastLaunch": false,
    "category": "General purpose",
    "gpuNum": 0,
    "hideHardwareSpecs": false,
    "memoryGiB": 384,
    "name": "ml.m5.24xlarge",
    "vcpuNum": 96
   },
   {
    "_defaultOrder": 12,
    "_isFastLaunch": false,
    "category": "General purpose",
    "gpuNum": 0,
    "hideHardwareSpecs": false,
    "memoryGiB": 8,
    "name": "ml.m5d.large",
    "vcpuNum": 2
   },
   {
    "_defaultOrder": 13,
    "_isFastLaunch": false,
    "category": "General purpose",
    "gpuNum": 0,
    "hideHardwareSpecs": false,
    "memoryGiB": 16,
    "name": "ml.m5d.xlarge",
    "vcpuNum": 4
   },
   {
    "_defaultOrder": 14,
    "_isFastLaunch": false,
    "category": "General purpose",
    "gpuNum": 0,
    "hideHardwareSpecs": false,
    "memoryGiB": 32,
    "name": "ml.m5d.2xlarge",
    "vcpuNum": 8
   },
   {
    "_defaultOrder": 15,
    "_isFastLaunch": false,
    "category": "General purpose",
    "gpuNum": 0,
    "hideHardwareSpecs": false,
    "memoryGiB": 64,
    "name": "ml.m5d.4xlarge",
    "vcpuNum": 16
   },
   {
    "_defaultOrder": 16,
    "_isFastLaunch": false,
    "category": "General purpose",
    "gpuNum": 0,
    "hideHardwareSpecs": false,
    "memoryGiB": 128,
    "name": "ml.m5d.8xlarge",
    "vcpuNum": 32
   },
   {
    "_defaultOrder": 17,
    "_isFastLaunch": false,
    "category": "General purpose",
    "gpuNum": 0,
    "hideHardwareSpecs": false,
    "memoryGiB": 192,
    "name": "ml.m5d.12xlarge",
    "vcpuNum": 48
   },
   {
    "_defaultOrder": 18,
    "_isFastLaunch": false,
    "category": "General purpose",
    "gpuNum": 0,
    "hideHardwareSpecs": false,
    "memoryGiB": 256,
    "name": "ml.m5d.16xlarge",
    "vcpuNum": 64
   },
   {
    "_defaultOrder": 19,
    "_isFastLaunch": false,
    "category": "General purpose",
    "gpuNum": 0,
    "hideHardwareSpecs": false,
    "memoryGiB": 384,
    "name": "ml.m5d.24xlarge",
    "vcpuNum": 96
   },
   {
    "_defaultOrder": 20,
    "_isFastLaunch": false,
    "category": "General purpose",
    "gpuNum": 0,
    "hideHardwareSpecs": true,
    "memoryGiB": 0,
    "name": "ml.geospatial.interactive",
    "supportedImageNames": [
     "sagemaker-geospatial-v1-0"
    ],
    "vcpuNum": 0
   },
   {
    "_defaultOrder": 21,
    "_isFastLaunch": true,
    "category": "Compute optimized",
    "gpuNum": 0,
    "hideHardwareSpecs": false,
    "memoryGiB": 4,
    "name": "ml.c5.large",
    "vcpuNum": 2
   },
   {
    "_defaultOrder": 22,
    "_isFastLaunch": false,
    "category": "Compute optimized",
    "gpuNum": 0,
    "hideHardwareSpecs": false,
    "memoryGiB": 8,
    "name": "ml.c5.xlarge",
    "vcpuNum": 4
   },
   {
    "_defaultOrder": 23,
    "_isFastLaunch": false,
    "category": "Compute optimized",
    "gpuNum": 0,
    "hideHardwareSpecs": false,
    "memoryGiB": 16,
    "name": "ml.c5.2xlarge",
    "vcpuNum": 8
   },
   {
    "_defaultOrder": 24,
    "_isFastLaunch": false,
    "category": "Compute optimized",
    "gpuNum": 0,
    "hideHardwareSpecs": false,
    "memoryGiB": 32,
    "name": "ml.c5.4xlarge",
    "vcpuNum": 16
   },
   {
    "_defaultOrder": 25,
    "_isFastLaunch": false,
    "category": "Compute optimized",
    "gpuNum": 0,
    "hideHardwareSpecs": false,
    "memoryGiB": 72,
    "name": "ml.c5.9xlarge",
    "vcpuNum": 36
   },
   {
    "_defaultOrder": 26,
    "_isFastLaunch": false,
    "category": "Compute optimized",
    "gpuNum": 0,
    "hideHardwareSpecs": false,
    "memoryGiB": 96,
    "name": "ml.c5.12xlarge",
    "vcpuNum": 48
   },
   {
    "_defaultOrder": 27,
    "_isFastLaunch": false,
    "category": "Compute optimized",
    "gpuNum": 0,
    "hideHardwareSpecs": false,
    "memoryGiB": 144,
    "name": "ml.c5.18xlarge",
    "vcpuNum": 72
   },
   {
    "_defaultOrder": 28,
    "_isFastLaunch": false,
    "category": "Compute optimized",
    "gpuNum": 0,
    "hideHardwareSpecs": false,
    "memoryGiB": 192,
    "name": "ml.c5.24xlarge",
    "vcpuNum": 96
   },
   {
    "_defaultOrder": 29,
    "_isFastLaunch": true,
    "category": "Accelerated computing",
    "gpuNum": 1,
    "hideHardwareSpecs": false,
    "memoryGiB": 16,
    "name": "ml.g4dn.xlarge",
    "vcpuNum": 4
   },
   {
    "_defaultOrder": 30,
    "_isFastLaunch": false,
    "category": "Accelerated computing",
    "gpuNum": 1,
    "hideHardwareSpecs": false,
    "memoryGiB": 32,
    "name": "ml.g4dn.2xlarge",
    "vcpuNum": 8
   },
   {
    "_defaultOrder": 31,
    "_isFastLaunch": false,
    "category": "Accelerated computing",
    "gpuNum": 1,
    "hideHardwareSpecs": false,
    "memoryGiB": 64,
    "name": "ml.g4dn.4xlarge",
    "vcpuNum": 16
   },
   {
    "_defaultOrder": 32,
    "_isFastLaunch": false,
    "category": "Accelerated computing",
    "gpuNum": 1,
    "hideHardwareSpecs": false,
    "memoryGiB": 128,
    "name": "ml.g4dn.8xlarge",
    "vcpuNum": 32
   },
   {
    "_defaultOrder": 33,
    "_isFastLaunch": false,
    "category": "Accelerated computing",
    "gpuNum": 4,
    "hideHardwareSpecs": false,
    "memoryGiB": 192,
    "name": "ml.g4dn.12xlarge",
    "vcpuNum": 48
   },
   {
    "_defaultOrder": 34,
    "_isFastLaunch": false,
    "category": "Accelerated computing",
    "gpuNum": 1,
    "hideHardwareSpecs": false,
    "memoryGiB": 256,
    "name": "ml.g4dn.16xlarge",
    "vcpuNum": 64
   },
   {
    "_defaultOrder": 35,
    "_isFastLaunch": false,
    "category": "Accelerated computing",
    "gpuNum": 1,
    "hideHardwareSpecs": false,
    "memoryGiB": 61,
    "name": "ml.p3.2xlarge",
    "vcpuNum": 8
   },
   {
    "_defaultOrder": 36,
    "_isFastLaunch": false,
    "category": "Accelerated computing",
    "gpuNum": 4,
    "hideHardwareSpecs": false,
    "memoryGiB": 244,
    "name": "ml.p3.8xlarge",
    "vcpuNum": 32
   },
   {
    "_defaultOrder": 37,
    "_isFastLaunch": false,
    "category": "Accelerated computing",
    "gpuNum": 8,
    "hideHardwareSpecs": false,
    "memoryGiB": 488,
    "name": "ml.p3.16xlarge",
    "vcpuNum": 64
   },
   {
    "_defaultOrder": 38,
    "_isFastLaunch": false,
    "category": "Accelerated computing",
    "gpuNum": 8,
    "hideHardwareSpecs": false,
    "memoryGiB": 768,
    "name": "ml.p3dn.24xlarge",
    "vcpuNum": 96
   },
   {
    "_defaultOrder": 39,
    "_isFastLaunch": false,
    "category": "Memory Optimized",
    "gpuNum": 0,
    "hideHardwareSpecs": false,
    "memoryGiB": 16,
    "name": "ml.r5.large",
    "vcpuNum": 2
   },
   {
    "_defaultOrder": 40,
    "_isFastLaunch": false,
    "category": "Memory Optimized",
    "gpuNum": 0,
    "hideHardwareSpecs": false,
    "memoryGiB": 32,
    "name": "ml.r5.xlarge",
    "vcpuNum": 4
   },
   {
    "_defaultOrder": 41,
    "_isFastLaunch": false,
    "category": "Memory Optimized",
    "gpuNum": 0,
    "hideHardwareSpecs": false,
    "memoryGiB": 64,
    "name": "ml.r5.2xlarge",
    "vcpuNum": 8
   },
   {
    "_defaultOrder": 42,
    "_isFastLaunch": false,
    "category": "Memory Optimized",
    "gpuNum": 0,
    "hideHardwareSpecs": false,
    "memoryGiB": 128,
    "name": "ml.r5.4xlarge",
    "vcpuNum": 16
   },
   {
    "_defaultOrder": 43,
    "_isFastLaunch": false,
    "category": "Memory Optimized",
    "gpuNum": 0,
    "hideHardwareSpecs": false,
    "memoryGiB": 256,
    "name": "ml.r5.8xlarge",
    "vcpuNum": 32
   },
   {
    "_defaultOrder": 44,
    "_isFastLaunch": false,
    "category": "Memory Optimized",
    "gpuNum": 0,
    "hideHardwareSpecs": false,
    "memoryGiB": 384,
    "name": "ml.r5.12xlarge",
    "vcpuNum": 48
   },
   {
    "_defaultOrder": 45,
    "_isFastLaunch": false,
    "category": "Memory Optimized",
    "gpuNum": 0,
    "hideHardwareSpecs": false,
    "memoryGiB": 512,
    "name": "ml.r5.16xlarge",
    "vcpuNum": 64
   },
   {
    "_defaultOrder": 46,
    "_isFastLaunch": false,
    "category": "Memory Optimized",
    "gpuNum": 0,
    "hideHardwareSpecs": false,
    "memoryGiB": 768,
    "name": "ml.r5.24xlarge",
    "vcpuNum": 96
   },
   {
    "_defaultOrder": 47,
    "_isFastLaunch": false,
    "category": "Accelerated computing",
    "gpuNum": 1,
    "hideHardwareSpecs": false,
    "memoryGiB": 16,
    "name": "ml.g5.xlarge",
    "vcpuNum": 4
   },
   {
    "_defaultOrder": 48,
    "_isFastLaunch": false,
    "category": "Accelerated computing",
    "gpuNum": 1,
    "hideHardwareSpecs": false,
    "memoryGiB": 32,
    "name": "ml.g5.2xlarge",
    "vcpuNum": 8
   },
   {
    "_defaultOrder": 49,
    "_isFastLaunch": false,
    "category": "Accelerated computing",
    "gpuNum": 1,
    "hideHardwareSpecs": false,
    "memoryGiB": 64,
    "name": "ml.g5.4xlarge",
    "vcpuNum": 16
   },
   {
    "_defaultOrder": 50,
    "_isFastLaunch": false,
    "category": "Accelerated computing",
    "gpuNum": 1,
    "hideHardwareSpecs": false,
    "memoryGiB": 128,
    "name": "ml.g5.8xlarge",
    "vcpuNum": 32
   },
   {
    "_defaultOrder": 51,
    "_isFastLaunch": false,
    "category": "Accelerated computing",
    "gpuNum": 1,
    "hideHardwareSpecs": false,
    "memoryGiB": 256,
    "name": "ml.g5.16xlarge",
    "vcpuNum": 64
   },
   {
    "_defaultOrder": 52,
    "_isFastLaunch": false,
    "category": "Accelerated computing",
    "gpuNum": 4,
    "hideHardwareSpecs": false,
    "memoryGiB": 192,
    "name": "ml.g5.12xlarge",
    "vcpuNum": 48
   },
   {
    "_defaultOrder": 53,
    "_isFastLaunch": false,
    "category": "Accelerated computing",
    "gpuNum": 4,
    "hideHardwareSpecs": false,
    "memoryGiB": 384,
    "name": "ml.g5.24xlarge",
    "vcpuNum": 96
   },
   {
    "_defaultOrder": 54,
    "_isFastLaunch": false,
    "category": "Accelerated computing",
    "gpuNum": 8,
    "hideHardwareSpecs": false,
    "memoryGiB": 768,
    "name": "ml.g5.48xlarge",
    "vcpuNum": 192
   },
   {
    "_defaultOrder": 55,
    "_isFastLaunch": false,
    "category": "Accelerated computing",
    "gpuNum": 8,
    "hideHardwareSpecs": false,
    "memoryGiB": 1152,
    "name": "ml.p4d.24xlarge",
    "vcpuNum": 96
   },
   {
    "_defaultOrder": 56,
    "_isFastLaunch": false,
    "category": "Accelerated computing",
    "gpuNum": 8,
    "hideHardwareSpecs": false,
    "memoryGiB": 1152,
    "name": "ml.p4de.24xlarge",
    "vcpuNum": 96
   },
   {
    "_defaultOrder": 57,
    "_isFastLaunch": false,
    "category": "Accelerated computing",
    "gpuNum": 0,
    "hideHardwareSpecs": false,
    "memoryGiB": 32,
    "name": "ml.trn1.2xlarge",
    "vcpuNum": 8
   },
   {
    "_defaultOrder": 58,
    "_isFastLaunch": false,
    "category": "Accelerated computing",
    "gpuNum": 0,
    "hideHardwareSpecs": false,
    "memoryGiB": 512,
    "name": "ml.trn1.32xlarge",
    "vcpuNum": 128
   },
   {
    "_defaultOrder": 59,
    "_isFastLaunch": false,
    "category": "Accelerated computing",
    "gpuNum": 0,
    "hideHardwareSpecs": false,
    "memoryGiB": 512,
    "name": "ml.trn1n.32xlarge",
    "vcpuNum": 128
   }
  ],
  "instance_type": "ml.t3.medium",
  "kernelspec": {
   "display_name": "Python 3 (Data Science 3.0)",
   "language": "python",
   "name": "python3__SAGEMAKER_INTERNAL__arn:aws:sagemaker:us-west-2:236514542706:image/sagemaker-data-science-310-v1"
  },
  "language_info": {
   "codemirror_mode": {
    "name": "ipython",
    "version": 3
   },
   "file_extension": ".py",
   "mimetype": "text/x-python",
   "name": "python",
   "nbconvert_exporter": "python",
   "pygments_lexer": "ipython3",
   "version": "3.10.6"
  }
 },
 "nbformat": 4,
 "nbformat_minor": 5
}
