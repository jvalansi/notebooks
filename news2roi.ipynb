{
 "cells": [
  {
   "cell_type": "code",
   "execution_count": 26,
   "id": "a4bd792d-a962-417f-807d-36a90eba969a",
   "metadata": {
    "tags": []
   },
   "outputs": [],
   "source": [
    "# Todo\n",
    "# Try to use more of the article\n",
    "# Compare to country's stock exchange\n",
    "# Only American stocks\n",
    "# Sentiment from 1 to 10\n",
    "# Compare to close price diff according to the article time\n",
    "#\n",
    "# Trade\n",
    "# Trading API\n"
   ]
  },
  {
   "cell_type": "code",
   "execution_count": 25,
   "id": "aa73063c-b703-4e44-840d-424809f0c791",
   "metadata": {
    "tags": []
   },
   "outputs": [],
   "source": [
    "# %pip install openai yfinance --upgrade"
   ]
  },
  {
   "cell_type": "code",
   "execution_count": 1,
   "id": "8c83da52-5c73-4bd7-a10c-3104ed9d205c",
   "metadata": {
    "tags": []
   },
   "outputs": [],
   "source": [
    "import os\n",
    "import json\n",
    "import random\n",
    "import datetime\n",
    "from dateutil.relativedelta import relativedelta\n",
    "from dateutil import parser\n",
    "import requests\n",
    "from tqdm.auto import tqdm\n",
    "import pandas as pd\n",
    "import numpy as np\n",
    "\n",
    "from openai import OpenAI\n",
    "import yfinance as yf"
   ]
  },
  {
   "cell_type": "code",
   "execution_count": 3,
   "id": "90f781df-ae87-4eb7-a121-c813b64db281",
   "metadata": {
    "tags": []
   },
   "outputs": [],
   "source": [
    "j = json.load(open(\"/root/.aws/secrets.json\"))\n",
    "os.environ[\"OPENAI_API_KEY\"] = j[\"OPENAI_KEY\"]"
   ]
  },
  {
   "cell_type": "code",
   "execution_count": 4,
   "id": "14be5f8c-e01c-48a6-ae0e-63683d80b9dc",
   "metadata": {},
   "outputs": [],
   "source": [
    "client = OpenAI()\n"
   ]
  },
  {
   "cell_type": "code",
   "execution_count": 5,
   "id": "82c330ec-3471-4ab0-8b9a-2bfd972a0c28",
   "metadata": {
    "tags": []
   },
   "outputs": [],
   "source": [
    "def get_news(date):\n",
    "    url = f\"https://reuters-business-and-financial-news.p.rapidapi.com/article-date/{date}\"\n",
    "\n",
    "    headers = {\n",
    "        \"X-RapidAPI-Key\": \"4169c88d67msh97cc35168a11094p1b7c3fjsn872bf1cc2c07\",\n",
    "        \"X-RapidAPI-Host\": \"reuters-business-and-financial-news.p.rapidapi.com\"\n",
    "    }\n",
    "\n",
    "    response = requests.get(url, headers=headers)\n",
    "    return response.json()\n"
   ]
  },
  {
   "cell_type": "code",
   "execution_count": 136,
   "id": "0d6dd48f-8d2c-4768-af20-be060775ca58",
   "metadata": {
    "tags": []
   },
   "outputs": [],
   "source": [
    "# company_name = \"coca-cola\""
   ]
  },
  {
   "cell_type": "code",
   "execution_count": 132,
   "id": "80bbf4dc-03b8-4e35-80ed-19ea400e0b89",
   "metadata": {
    "tags": []
   },
   "outputs": [],
   "source": [
    "# yfinance = \"https://query2.finance.yahoo.com/v1/finance/search\"\n",
    "# user_agent = 'Mozilla/5.0 (Windows NT 10.0; Win64; x64) AppleWebKit/537.36 (KHTML, like Gecko) Chrome/108.0.0.0 Safari/537.36'\n",
    "# params = {\"q\": company_name, \"quotes_count\": 1, \"country\": \"United States\"}\n",
    "\n",
    "# res = requests.get(url=yfinance, params=params, headers={'User-Agent': user_agent})\n",
    "# data = res.json()\n",
    "\n",
    "# company_code = data['quotes'][0]['symbol']\n"
   ]
  },
  {
   "cell_type": "code",
   "execution_count": 137,
   "id": "e0e643c6-5f0b-497d-845a-6626e7a2e3fd",
   "metadata": {
    "tags": []
   },
   "outputs": [],
   "source": [
    "# company_code"
   ]
  },
  {
   "cell_type": "code",
   "execution_count": 6,
   "id": "eaa05a80-67e0-44d3-b845-d933991606f8",
   "metadata": {
    "tags": []
   },
   "outputs": [],
   "source": [
    "GSPC = yf.Ticker(\"^GSPC\")\n",
    "hist = GSPC.history(start=\"2014-01-01\")\n",
    "hist['Diff'] = (hist['Close']-hist['Close'].shift(1))/hist['Close']\n",
    "hist = hist.reset_index()\n",
    "hist['Date'] = hist['Date'].dt.strftime('%Y-%m-%d')\n",
    "snp = hist.set_index(\"Date\")\n",
    "snp.to_csv(\"data/s&p.txt\", sep='\\t')\n"
   ]
  },
  {
   "cell_type": "code",
   "execution_count": 6,
   "id": "ee714e4b-466a-43b0-a96c-c7749ef5ee44",
   "metadata": {
    "tags": []
   },
   "outputs": [],
   "source": [
    "snp = pd.read_csv(\"data/s&p.txt\", sep='\\t', index_col=0)"
   ]
  },
  {
   "cell_type": "code",
   "execution_count": 183,
   "id": "926cec02-9e2e-4fc5-a01a-94a419500ad6",
   "metadata": {
    "tags": []
   },
   "outputs": [],
   "source": [
    "system_prompt = \"\"\"\n",
    "You are a financial advisor designed to output JSON. \n",
    "The JSON should contain the following fields: a 'stock' field, a 'ticker' field, a 'country' field, a 'action' field, a 'duration' field and 'reasoning' field.\n",
    "The 'stock' field is a united states traded stock related to the given news article.\n",
    "The 'ticker' field is the ticker for that stock.\n",
    "The 'action' field is the action that should be taken based on the article regarding the stock, it should be on a scale from 1 to 10, 1 being strong sell and 10 being strong buy.\n",
    "The 'reasoning' field is an expanation for the given action.\n",
    "\"\"\""
   ]
  },
  {
   "cell_type": "code",
   "execution_count": 184,
   "id": "5a30932e-a68c-4b2e-a2a8-732abb11a04e",
   "metadata": {
    "tags": []
   },
   "outputs": [],
   "source": [
    "def get_sentiment(data):\n",
    "    response = client.chat.completions.create(\n",
    "      model=\"gpt-4-1106-preview\",\n",
    "      response_format={ \"type\": \"json_object\" },\n",
    "      messages=[\n",
    "        {\"role\": \"system\", \"content\": system_prompt},\n",
    "        {\"role\": \"user\", \"content\": f\"News article: {data}\"},\n",
    "      ]\n",
    "    )\n",
    "\n",
    "    return json.loads(response.choices[0].message.content)\n",
    "    "
   ]
  },
  {
   "cell_type": "code",
   "execution_count": 185,
   "id": "6a48d4f4-775b-4976-866b-a1f9b5392cba",
   "metadata": {},
   "outputs": [],
   "source": [
    "NO_TICKER = {\"N/A\",\"NONE\",\"VARIES\",\"VARIES\",\"NOT LISTED\",\"VARIOUS\",\"NOT PUBLICLY TRADED\",\"NOT PROVIDED\",\"MULTIPLE\",\"UNKNOWN\",\"PRIVATE COMPANY\",\"PRIVATE\",\"NOT APPLICABLE\",\"PRIVATE\",\"UNAVAILABLE\",\",\"}"
   ]
  },
  {
   "cell_type": "code",
   "execution_count": 186,
   "id": "ff8cc017-4824-4749-8261-1bba79908709",
   "metadata": {},
   "outputs": [],
   "source": [
    "def is_after_hours(article):\n",
    "    article_date = article['publishedAt']['date']\n",
    "    d = parser.parse(article_date)\n",
    "    return d.hour>=21"
   ]
  },
  {
   "cell_type": "code",
   "execution_count": 187,
   "id": "0b41f9f8-7318-49eb-a3e1-a0fca55502b2",
   "metadata": {
    "tags": []
   },
   "outputs": [],
   "source": [
    "def analyse_article(article, date):\n",
    "    data = f\"{article['articlesName']} - {article['articlesShortDescription']}\"\n",
    "    if 'United States' not in [k['keywordName'] for k in article['keywords']]:\n",
    "        # print('not in US')\n",
    "        return\n",
    "    j = get_sentiment(data)\n",
    "    if j['ticker'] in NO_TICKER or any([x in j['ticker'] for x in NO_TICKER]):\n",
    "        # print('no ticker')\n",
    "        return\n",
    "    ticker = yf.Ticker(j['ticker'])\n",
    "    # duration = int(j['duration'])\n",
    "\n",
    "    # before = datetime.date(date.year,date.month,1)\n",
    "    i = list(snp.index).index(date)\n",
    "    if is_after_hours(article):\n",
    "        start = date\n",
    "        end = snp.iloc[i+2].name\n",
    "    else:\n",
    "        start = snp.iloc[i-1].name\n",
    "        end = snp.iloc[i+1].name\n",
    "    hist = ticker.history(start=start, end=end)\n",
    "    if len(hist)==0:\n",
    "        # print('no hist')\n",
    "        return \n",
    "\n",
    "    ticker_start = hist.iloc[0]\n",
    "    ticker_end = hist.iloc[-1]\n",
    "    ticker_diff = (ticker_end['Close']-ticker_start['Close'])/ticker_start['Close']\n",
    "\n",
    "    snp_start = snp.iloc[list(snp.index).index(start)]\n",
    "    snp_end = snp.iloc[list(snp.index).index(end)]\n",
    "    snp_diff = (snp_end['Close']-snp_start['Close'])/snp_start['Close']\n",
    "\n",
    "    diff = ticker_diff-snp_diff\n",
    "    return date, data, j['ticker'], j['action'], j['reasoning'], ticker_diff, snp_diff, diff\n",
    "    "
   ]
  },
  {
   "cell_type": "code",
   "execution_count": 188,
   "id": "2552967a-0849-420d-83a1-47eee1da88a1",
   "metadata": {},
   "outputs": [],
   "source": [
    "res = []"
   ]
  },
  {
   "cell_type": "code",
   "execution_count": 189,
   "id": "ed3512bf-cca9-43bb-8972-fab877c87112",
   "metadata": {
    "tags": []
   },
   "outputs": [
    {
     "data": {
      "application/vnd.jupyter.widget-view+json": {
       "model_id": "fe638cadb7a041fea83c7c43059d09d5",
       "version_major": 2,
       "version_minor": 0
      },
      "text/plain": [
       "  0%|          | 0/100 [00:00<?, ?it/s]"
      ]
     },
     "metadata": {},
     "output_type": "display_data"
    },
    {
     "name": "stderr",
     "output_type": "stream",
     "text": [
      "SMRT: Data doesn't exist for startDate = 1618977600, endDate = 1619150400\n",
      "TWTR: No timezone found, symbol may be delisted\n",
      "WMG: Data doesn't exist for startDate = 1459483200, endDate = 1459828800\n",
      "Could not get exchangeTimezoneName for ticker '' reason: list index out of range\n",
      ": No timezone found, symbol may be delisted\n",
      "LSI: No timezone found, symbol may be delisted\n",
      "NA: Data doesn't exist for startDate = 1514869200, endDate = 1515042000\n",
      "NOT PUBLICLY TRADED: No timezone found, symbol may be delisted\n",
      "SNHJ.J: No timezone found, symbol may be delisted\n",
      "BID: No timezone found, symbol may be delisted\n",
      "TWTR: No timezone found, symbol may be delisted\n",
      "PDVSAC: No timezone found, symbol may be delisted\n",
      "Could not get exchangeTimezoneName for ticker '' reason: list index out of range\n",
      ": No timezone found, symbol may be delisted\n",
      "TWTR: No timezone found, symbol may be delisted\n",
      "OZON: No timezone found, symbol may be delisted\n",
      "OZON: No timezone found, symbol may be delisted\n",
      "OZON: No timezone found, symbol may be delisted\n",
      "OZON: No timezone found, symbol may be delisted\n",
      "Failed to get ticker 'N/A' reason: Expecting value: line 1 column 1 (char 0)\n",
      "N/A: No timezone found, symbol may be delisted\n",
      "SPLS: No price data found, symbol may be delisted (1d 2015-04-10 -> 2015-04-14)\n",
      "TWTR: No timezone found, symbol may be delisted\n",
      "ABNB: Data doesn't exist for startDate = 1541998800, endDate = 1542171600\n"
     ]
    },
    {
     "name": "stdout",
     "output_type": "stream",
     "text": [
      "argument of type 'NoneType' is not iterable\n"
     ]
    },
    {
     "name": "stderr",
     "output_type": "stream",
     "text": [
      "TWTR: No timezone found, symbol may be delisted\n"
     ]
    },
    {
     "name": "stdout",
     "output_type": "stream",
     "text": [
      "argument of type 'NoneType' is not iterable\n"
     ]
    },
    {
     "name": "stderr",
     "output_type": "stream",
     "text": [
      "Failed to get ticker 'N/A' reason: Expecting value: line 1 column 1 (char 0)\n",
      "N/A: No timezone found, symbol may be delisted\n"
     ]
    }
   ],
   "source": [
    "for i in tqdm(range(100)):\n",
    "    date = random.choice(snp.index)\n",
    "    news = get_news(date)\n",
    "    for _ in range(10):\n",
    "        try:\n",
    "            article = random.choice(news)\n",
    "            analysis = analyse_article(article,date)\n",
    "            if analysis is None:\n",
    "                continue\n",
    "\n",
    "            res += [analysis]\n",
    "            break\n",
    "        except Exception as e:\n",
    "            print(e)\n",
    "            continue"
   ]
  },
  {
   "cell_type": "code",
   "execution_count": 190,
   "id": "b1c70b4d-5566-4122-8658-de092921f095",
   "metadata": {
    "tags": []
   },
   "outputs": [],
   "source": [
    "df = pd.DataFrame(res) # "
   ]
  },
  {
   "cell_type": "code",
   "execution_count": 191,
   "id": "f61f2da5-b78f-4839-9671-ea16ea79ad10",
   "metadata": {
    "tags": []
   },
   "outputs": [],
   "source": [
    "df['action'] = df[3].apply(lambda x: -1 if int(x)<=3 else 1 if int(x)>=8 else 0)"
   ]
  },
  {
   "cell_type": "code",
   "execution_count": null,
   "id": "7430eb73-f0bb-42d9-9f07-270eb6c88f75",
   "metadata": {
    "tags": []
   },
   "outputs": [],
   "source": [
    "# df[3].apply(lambda x: x['sentiment'])"
   ]
  },
  {
   "cell_type": "code",
   "execution_count": 22,
   "id": "bc825996-432b-4ae2-bfd1-af2e9fcb883e",
   "metadata": {
    "tags": []
   },
   "outputs": [],
   "source": [
    "D = {\"positive\":1, 'neutral':0, 'negative':-1}"
   ]
  },
  {
   "cell_type": "code",
   "execution_count": 23,
   "id": "88d9d0bf-3d51-47dd-83f8-52afe39f33a5",
   "metadata": {
    "tags": []
   },
   "outputs": [],
   "source": [
    "df['sentiment'] = df[3].apply(lambda x: D[x['sentiment'].lower()])\n"
   ]
  },
  {
   "cell_type": "code",
   "execution_count": 193,
   "id": "62c5d8c4-a0a8-49e9-99e6-390e9d70314e",
   "metadata": {
    "tags": []
   },
   "outputs": [
    {
     "data": {
      "text/plain": [
       "0.028791811540261045"
      ]
     },
     "execution_count": 193,
     "metadata": {},
     "output_type": "execute_result"
    }
   ],
   "source": [
    "(df[7]*df['action']).sum()/np.abs(df['action']).sum()"
   ]
  },
  {
   "cell_type": "code",
   "execution_count": 32,
   "id": "10d5f1ff-e037-450d-b24e-c1da126a7900",
   "metadata": {
    "tags": []
   },
   "outputs": [],
   "source": [
    "df['sign'] = df[2].apply(lambda x: np.sign(x))"
   ]
  },
  {
   "cell_type": "code",
   "execution_count": 194,
   "id": "d294303e-038f-4e7a-bf9d-e86772ce7334",
   "metadata": {
    "tags": []
   },
   "outputs": [
    {
     "data": {
      "text/plain": [
       "-0.010821957124515228"
      ]
     },
     "execution_count": 194,
     "metadata": {},
     "output_type": "execute_result"
    }
   ],
   "source": [
    "df[7].sum()/len(df)"
   ]
  },
  {
   "cell_type": "code",
   "execution_count": 195,
   "id": "2e5035b0-9c71-44da-bddf-c4ec73df661f",
   "metadata": {
    "tags": []
   },
   "outputs": [],
   "source": [
    "df.to_csv('data/news2roi.action.1.tsv', sep='\\t', index=0)"
   ]
  },
  {
   "cell_type": "code",
   "execution_count": 197,
   "id": "e49d583e-dfa6-4ade-bd62-5124b02af665",
   "metadata": {
    "tags": []
   },
   "outputs": [
    {
     "data": {
      "text/plain": [
       "<AxesSubplot:xlabel='7', ylabel='action'>"
      ]
     },
     "execution_count": 197,
     "metadata": {},
     "output_type": "execute_result"
    },
    {
     "data": {
      "image/png": "[encoded data removed]",
      "text/plain": [
       "<Figure size 640x480 with 1 Axes>"
      ]
     },
     "metadata": {},
     "output_type": "display_data"
    }
   ],
   "source": [
    "df.plot.scatter(x=7,y='action')"
   ]
  },
  {
   "cell_type": "code",
   "execution_count": 166,
   "id": "ce455046-7709-4611-b08a-836e55ee649d",
   "metadata": {
    "tags": []
   },
   "outputs": [
    {
     "name": "stdout",
     "output_type": "stream",
     "text": [
      "hi\n"
     ]
    }
   ],
   "source": [
    "print('hi')"
   ]
  },
  {
   "cell_type": "code",
   "execution_count": 200,
   "id": "8ebff1e2-97ce-4dbb-9215-448757ee061d",
   "metadata": {
    "tags": []
   },
   "outputs": [],
   "source": [
    "tp = ((df[7]>0) & (df['action']>0)).sum()"
   ]
  },
  {
   "cell_type": "code",
   "execution_count": 201,
   "id": "89511506-0d87-434a-b8dd-bfdeb55b5bea",
   "metadata": {
    "tags": []
   },
   "outputs": [],
   "source": [
    "tn = ((df[7]<0) & (df['action']<0)).sum()"
   ]
  },
  {
   "cell_type": "code",
   "execution_count": 202,
   "id": "922595dc-e876-4426-b47a-b10d9cc1f9b8",
   "metadata": {
    "tags": []
   },
   "outputs": [],
   "source": [
    "fp = ((df[7]<0) & (df['action']>0)).sum()"
   ]
  },
  {
   "cell_type": "code",
   "execution_count": 203,
   "id": "cfc6e8d1-ca05-46e5-9cbf-29217133db81",
   "metadata": {
    "tags": []
   },
   "outputs": [],
   "source": [
    "fn = ((df[7]>0) & (df['action']<0)).sum()"
   ]
  },
  {
   "cell_type": "code",
   "execution_count": 204,
   "id": "f326276f-7cb4-488d-a85d-1568429deb48",
   "metadata": {
    "tags": []
   },
   "outputs": [],
   "source": [
    "acc = (tp+tn)/(tp+tn+fp+fn)"
   ]
  },
  {
   "cell_type": "code",
   "execution_count": 205,
   "id": "9a30b0d7-5ca7-4095-a71a-66f8d5a24b56",
   "metadata": {
    "tags": []
   },
   "outputs": [
    {
     "data": {
      "text/plain": [
       "(7, 14, 6, 4, 0.6774193548387096)"
      ]
     },
     "execution_count": 205,
     "metadata": {},
     "output_type": "execute_result"
    }
   ],
   "source": [
    "tp,tn,fp,fn,acc"
   ]
  },
  {
   "cell_type": "code",
   "execution_count": null,
   "id": "4b1e7d1c-c6b7-4c26-a655-162a7be9a336",
   "metadata": {},
   "outputs": [],
   "source": []
  }
 ],
 "metadata": {
  "availableInstances": [
   {
    "_defaultOrder": 0,
    "_isFastLaunch": true,
    "category": "General purpose",
    "gpuNum": 0,
    "hideHardwareSpecs": false,
    "memoryGiB": 4,
    "name": "ml.t3.medium",
    "vcpuNum": 2
   },
   {
    "_defaultOrder": 1,
    "_isFastLaunch": false,
    "category": "General purpose",
    "gpuNum": 0,
    "hideHardwareSpecs": false,
    "memoryGiB": 8,
    "name": "ml.t3.large",
    "vcpuNum": 2
   },
   {
    "_defaultOrder": 2,
    "_isFastLaunch": false,
    "category": "General purpose",
    "gpuNum": 0,
    "hideHardwareSpecs": false,
    "memoryGiB": 16,
    "name": "ml.t3.xlarge",
    "vcpuNum": 4
   },
   {
    "_defaultOrder": 3,
    "_isFastLaunch": false,
    "category": "General purpose",
    "gpuNum": 0,
    "hideHardwareSpecs": false,
    "memoryGiB": 32,
    "name": "ml.t3.2xlarge",
    "vcpuNum": 8
   },
   {
    "_defaultOrder": 4,
    "_isFastLaunch": true,
    "category": "General purpose",
    "gpuNum": 0,
    "hideHardwareSpecs": false,
    "memoryGiB": 8,
    "name": "ml.m5.large",
    "vcpuNum": 2
   },
   {
    "_defaultOrder": 5,
    "_isFastLaunch": false,
    "category": "General purpose",
    "gpuNum": 0,
    "hideHardwareSpecs": false,
    "memoryGiB": 16,
    "name": "ml.m5.xlarge",
    "vcpuNum": 4
   },
   {
    "_defaultOrder": 6,
    "_isFastLaunch": false,
    "category": "General purpose",
    "gpuNum": 0,
    "hideHardwareSpecs": false,
    "memoryGiB": 32,
    "name": "ml.m5.2xlarge",
    "vcpuNum": 8
   },
   {
    "_defaultOrder": 7,
    "_isFastLaunch": false,
    "category": "General purpose",
    "gpuNum": 0,
    "hideHardwareSpecs": false,
    "memoryGiB": 64,
    "name": "ml.m5.4xlarge",
    "vcpuNum": 16
   },
   {
    "_defaultOrder": 8,
    "_isFastLaunch": false,
    "category": "General purpose",
    "gpuNum": 0,
    "hideHardwareSpecs": false,
    "memoryGiB": 128,
    "name": "ml.m5.8xlarge",
    "vcpuNum": 32
   },
   {
    "_defaultOrder": 9,
    "_isFastLaunch": false,
    "category": "General purpose",
    "gpuNum": 0,
    "hideHardwareSpecs": false,
    "memoryGiB": 192,
    "name": "ml.m5.12xlarge",
    "vcpuNum": 48
   },
   {
    "_defaultOrder": 10,
    "_isFastLaunch": false,
    "category": "General purpose",
    "gpuNum": 0,
    "hideHardwareSpecs": false,
    "memoryGiB": 256,
    "name": "ml.m5.16xlarge",
    "vcpuNum": 64
   },
   {
    "_defaultOrder": 11,
    "_isFastLaunch": false,
    "category": "General purpose",
    "gpuNum": 0,
    "hideHardwareSpecs": false,
    "memoryGiB": 384,
    "name": "ml.m5.24xlarge",
    "vcpuNum": 96
   },
   {
    "_defaultOrder": 12,
    "_isFastLaunch": false,
    "category": "General purpose",
    "gpuNum": 0,
    "hideHardwareSpecs": false,
    "memoryGiB": 8,
    "name": "ml.m5d.large",
    "vcpuNum": 2
   },
   {
    "_defaultOrder": 13,
    "_isFastLaunch": false,
    "category": "General purpose",
    "gpuNum": 0,
    "hideHardwareSpecs": false,
    "memoryGiB": 16,
    "name": "ml.m5d.xlarge",
    "vcpuNum": 4
   },
   {
    "_defaultOrder": 14,
    "_isFastLaunch": false,
    "category": "General purpose",
    "gpuNum": 0,
    "hideHardwareSpecs": false,
    "memoryGiB": 32,
    "name": "ml.m5d.2xlarge",
    "vcpuNum": 8
   },
   {
    "_defaultOrder": 15,
    "_isFastLaunch": false,
    "category": "General purpose",
    "gpuNum": 0,
    "hideHardwareSpecs": false,
    "memoryGiB": 64,
    "name": "ml.m5d.4xlarge",
    "vcpuNum": 16
   },
   {
    "_defaultOrder": 16,
    "_isFastLaunch": false,
    "category": "General purpose",
    "gpuNum": 0,
    "hideHardwareSpecs": false,
    "memoryGiB": 128,
    "name": "ml.m5d.8xlarge",
    "vcpuNum": 32
   },
   {
    "_defaultOrder": 17,
    "_isFastLaunch": false,
    "category": "General purpose",
    "gpuNum": 0,
    "hideHardwareSpecs": false,
    "memoryGiB": 192,
    "name": "ml.m5d.12xlarge",
    "vcpuNum": 48
   },
   {
    "_defaultOrder": 18,
    "_isFastLaunch": false,
    "category": "General purpose",
    "gpuNum": 0,
    "hideHardwareSpecs": false,
    "memoryGiB": 256,
    "name": "ml.m5d.16xlarge",
    "vcpuNum": 64
   },
   {
    "_defaultOrder": 19,
    "_isFastLaunch": false,
    "category": "General purpose",
    "gpuNum": 0,
    "hideHardwareSpecs": false,
    "memoryGiB": 384,
    "name": "ml.m5d.24xlarge",
    "vcpuNum": 96
   },
   {
    "_defaultOrder": 20,
    "_isFastLaunch": false,
    "category": "General purpose",
    "gpuNum": 0,
    "hideHardwareSpecs": true,
    "memoryGiB": 0,
    "name": "ml.geospatial.interactive",
    "supportedImageNames": [
     "sagemaker-geospatial-v1-0"
    ],
    "vcpuNum": 0
   },
   {
    "_defaultOrder": 21,
    "_isFastLaunch": true,
    "category": "Compute optimized",
    "gpuNum": 0,
    "hideHardwareSpecs": false,
    "memoryGiB": 4,
    "name": "ml.c5.large",
    "vcpuNum": 2
   },
   {
    "_defaultOrder": 22,
    "_isFastLaunch": false,
    "category": "Compute optimized",
    "gpuNum": 0,
    "hideHardwareSpecs": false,
    "memoryGiB": 8,
    "name": "ml.c5.xlarge",
    "vcpuNum": 4
   },
   {
    "_defaultOrder": 23,
    "_isFastLaunch": false,
    "category": "Compute optimized",
    "gpuNum": 0,
    "hideHardwareSpecs": false,
    "memoryGiB": 16,
    "name": "ml.c5.2xlarge",
    "vcpuNum": 8
   },
   {
    "_defaultOrder": 24,
    "_isFastLaunch": false,
    "category": "Compute optimized",
    "gpuNum": 0,
    "hideHardwareSpecs": false,
    "memoryGiB": 32,
    "name": "ml.c5.4xlarge",
    "vcpuNum": 16
   },
   {
    "_defaultOrder": 25,
    "_isFastLaunch": false,
    "category": "Compute optimized",
    "gpuNum": 0,
    "hideHardwareSpecs": false,
    "memoryGiB": 72,
    "name": "ml.c5.9xlarge",
    "vcpuNum": 36
   },
   {
    "_defaultOrder": 26,
    "_isFastLaunch": false,
    "category": "Compute optimized",
    "gpuNum": 0,
    "hideHardwareSpecs": false,
    "memoryGiB": 96,
    "name": "ml.c5.12xlarge",
    "vcpuNum": 48
   },
   {
    "_defaultOrder": 27,
    "_isFastLaunch": false,
    "category": "Compute optimized",
    "gpuNum": 0,
    "hideHardwareSpecs": false,
    "memoryGiB": 144,
    "name": "ml.c5.18xlarge",
    "vcpuNum": 72
   },
   {
    "_defaultOrder": 28,
    "_isFastLaunch": false,
    "category": "Compute optimized",
    "gpuNum": 0,
    "hideHardwareSpecs": false,
    "memoryGiB": 192,
    "name": "ml.c5.24xlarge",
    "vcpuNum": 96
   },
   {
    "_defaultOrder": 29,
    "_isFastLaunch": true,
    "category": "Accelerated computing",
    "gpuNum": 1,
    "hideHardwareSpecs": false,
    "memoryGiB": 16,
    "name": "ml.g4dn.xlarge",
    "vcpuNum": 4
   },
   {
    "_defaultOrder": 30,
    "_isFastLaunch": false,
    "category": "Accelerated computing",
    "gpuNum": 1,
    "hideHardwareSpecs": false,
    "memoryGiB": 32,
    "name": "ml.g4dn.2xlarge",
    "vcpuNum": 8
   },
   {
    "_defaultOrder": 31,
    "_isFastLaunch": false,
    "category": "Accelerated computing",
    "gpuNum": 1,
    "hideHardwareSpecs": false,
    "memoryGiB": 64,
    "name": "ml.g4dn.4xlarge",
    "vcpuNum": 16
   },
   {
    "_defaultOrder": 32,
    "_isFastLaunch": false,
    "category": "Accelerated computing",
    "gpuNum": 1,
    "hideHardwareSpecs": false,
    "memoryGiB": 128,
    "name": "ml.g4dn.8xlarge",
    "vcpuNum": 32
   },
   {
    "_defaultOrder": 33,
    "_isFastLaunch": false,
    "category": "Accelerated computing",
    "gpuNum": 4,
    "hideHardwareSpecs": false,
    "memoryGiB": 192,
    "name": "ml.g4dn.12xlarge",
    "vcpuNum": 48
   },
   {
    "_defaultOrder": 34,
    "_isFastLaunch": false,
    "category": "Accelerated computing",
    "gpuNum": 1,
    "hideHardwareSpecs": false,
    "memoryGiB": 256,
    "name": "ml.g4dn.16xlarge",
    "vcpuNum": 64
   },
   {
    "_defaultOrder": 35,
    "_isFastLaunch": false,
    "category": "Accelerated computing",
    "gpuNum": 1,
    "hideHardwareSpecs": false,
    "memoryGiB": 61,
    "name": "ml.p3.2xlarge",
    "vcpuNum": 8
   },
   {
    "_defaultOrder": 36,
    "_isFastLaunch": false,
    "category": "Accelerated computing",
    "gpuNum": 4,
    "hideHardwareSpecs": false,
    "memoryGiB": 244,
    "name": "ml.p3.8xlarge",
    "vcpuNum": 32
   },
   {
    "_defaultOrder": 37,
    "_isFastLaunch": false,
    "category": "Accelerated computing",
    "gpuNum": 8,
    "hideHardwareSpecs": false,
    "memoryGiB": 488,
    "name": "ml.p3.16xlarge",
    "vcpuNum": 64
   },
   {
    "_defaultOrder": 38,
    "_isFastLaunch": false,
    "category": "Accelerated computing",
    "gpuNum": 8,
    "hideHardwareSpecs": false,
    "memoryGiB": 768,
    "name": "ml.p3dn.24xlarge",
    "vcpuNum": 96
   },
   {
    "_defaultOrder": 39,
    "_isFastLaunch": false,
    "category": "Memory Optimized",
    "gpuNum": 0,
    "hideHardwareSpecs": false,
    "memoryGiB": 16,
    "name": "ml.r5.large",
    "vcpuNum": 2
   },
   {
    "_defaultOrder": 40,
    "_isFastLaunch": false,
    "category": "Memory Optimized",
    "gpuNum": 0,
    "hideHardwareSpecs": false,
    "memoryGiB": 32,
    "name": "ml.r5.xlarge",
    "vcpuNum": 4
   },
   {
    "_defaultOrder": 41,
    "_isFastLaunch": false,
    "category": "Memory Optimized",
    "gpuNum": 0,
    "hideHardwareSpecs": false,
    "memoryGiB": 64,
    "name": "ml.r5.2xlarge",
    "vcpuNum": 8
   },
   {
    "_defaultOrder": 42,
    "_isFastLaunch": false,
    "category": "Memory Optimized",
    "gpuNum": 0,
    "hideHardwareSpecs": false,
    "memoryGiB": 128,
    "name": "ml.r5.4xlarge",
    "vcpuNum": 16
   },
   {
    "_defaultOrder": 43,
    "_isFastLaunch": false,
    "category": "Memory Optimized",
    "gpuNum": 0,
    "hideHardwareSpecs": false,
    "memoryGiB": 256,
    "name": "ml.r5.8xlarge",
    "vcpuNum": 32
   },
   {
    "_defaultOrder": 44,
    "_isFastLaunch": false,
    "category": "Memory Optimized",
    "gpuNum": 0,
    "hideHardwareSpecs": false,
    "memoryGiB": 384,
    "name": "ml.r5.12xlarge",
    "vcpuNum": 48
   },
   {
    "_defaultOrder": 45,
    "_isFastLaunch": false,
    "category": "Memory Optimized",
    "gpuNum": 0,
    "hideHardwareSpecs": false,
    "memoryGiB": 512,
    "name": "ml.r5.16xlarge",
    "vcpuNum": 64
   },
   {
    "_defaultOrder": 46,
    "_isFastLaunch": false,
    "category": "Memory Optimized",
    "gpuNum": 0,
    "hideHardwareSpecs": false,
    "memoryGiB": 768,
    "name": "ml.r5.24xlarge",
    "vcpuNum": 96
   },
   {
    "_defaultOrder": 47,
    "_isFastLaunch": false,
    "category": "Accelerated computing",
    "gpuNum": 1,
    "hideHardwareSpecs": false,
    "memoryGiB": 16,
    "name": "ml.g5.xlarge",
    "vcpuNum": 4
   },
   {
    "_defaultOrder": 48,
    "_isFastLaunch": false,
    "category": "Accelerated computing",
    "gpuNum": 1,
    "hideHardwareSpecs": false,
    "memoryGiB": 32,
    "name": "ml.g5.2xlarge",
    "vcpuNum": 8
   },
   {
    "_defaultOrder": 49,
    "_isFastLaunch": false,
    "category": "Accelerated computing",
    "gpuNum": 1,
    "hideHardwareSpecs": false,
    "memoryGiB": 64,
    "name": "ml.g5.4xlarge",
    "vcpuNum": 16
   },
   {
    "_defaultOrder": 50,
    "_isFastLaunch": false,
    "category": "Accelerated computing",
    "gpuNum": 1,
    "hideHardwareSpecs": false,
    "memoryGiB": 128,
    "name": "ml.g5.8xlarge",
    "vcpuNum": 32
   },
   {
    "_defaultOrder": 51,
    "_isFastLaunch": false,
    "category": "Accelerated computing",
    "gpuNum": 1,
    "hideHardwareSpecs": false,
    "memoryGiB": 256,
    "name": "ml.g5.16xlarge",
    "vcpuNum": 64
   },
   {
    "_defaultOrder": 52,
    "_isFastLaunch": false,
    "category": "Accelerated computing",
    "gpuNum": 4,
    "hideHardwareSpecs": false,
    "memoryGiB": 192,
    "name": "ml.g5.12xlarge",
    "vcpuNum": 48
   },
   {
    "_defaultOrder": 53,
    "_isFastLaunch": false,
    "category": "Accelerated computing",
    "gpuNum": 4,
    "hideHardwareSpecs": false,
    "memoryGiB": 384,
    "name": "ml.g5.24xlarge",
    "vcpuNum": 96
   },
   {
    "_defaultOrder": 54,
    "_isFastLaunch": false,
    "category": "Accelerated computing",
    "gpuNum": 8,
    "hideHardwareSpecs": false,
    "memoryGiB": 768,
    "name": "ml.g5.48xlarge",
    "vcpuNum": 192
   },
   {
    "_defaultOrder": 55,
    "_isFastLaunch": false,
    "category": "Accelerated computing",
    "gpuNum": 8,
    "hideHardwareSpecs": false,
    "memoryGiB": 1152,
    "name": "ml.p4d.24xlarge",
    "vcpuNum": 96
   },
   {
    "_defaultOrder": 56,
    "_isFastLaunch": false,
    "category": "Accelerated computing",
    "gpuNum": 8,
    "hideHardwareSpecs": false,
    "memoryGiB": 1152,
    "name": "ml.p4de.24xlarge",
    "vcpuNum": 96
   },
   {
    "_defaultOrder": 57,
    "_isFastLaunch": false,
    "category": "Accelerated computing",
    "gpuNum": 0,
    "hideHardwareSpecs": false,
    "memoryGiB": 32,
    "name": "ml.trn1.2xlarge",
    "vcpuNum": 8
   },
   {
    "_defaultOrder": 58,
    "_isFastLaunch": false,
    "category": "Accelerated computing",
    "gpuNum": 0,
    "hideHardwareSpecs": false,
    "memoryGiB": 512,
    "name": "ml.trn1.32xlarge",
    "vcpuNum": 128
   },
   {
    "_defaultOrder": 59,
    "_isFastLaunch": false,
    "category": "Accelerated computing",
    "gpuNum": 0,
    "hideHardwareSpecs": false,
    "memoryGiB": 512,
    "name": "ml.trn1n.32xlarge",
    "vcpuNum": 128
   }
  ],
  "instance_type": "ml.t3.medium",
  "kernelspec": {
   "display_name": "Python 3 (Data Science 3.0)",
   "language": "python",
   "name": "python3__SAGEMAKER_INTERNAL__arn:aws:sagemaker:us-west-2:236514542706:image/sagemaker-data-science-310-v1"
  },
  "language_info": {
   "codemirror_mode": {
    "name": "ipython",
    "version": 3
   },
   "file_extension": ".py",
   "mimetype": "text/x-python",
   "name": "python",
   "nbconvert_exporter": "python",
   "pygments_lexer": "ipython3",
   "version": "3.10.6"
  }
 },
 "nbformat": 4,
 "nbformat_minor": 5
}
