{
 "cells": [
  {
   "cell_type": "code",
   "execution_count": 15,
   "metadata": {},
   "outputs": [],
   "source": [
    "# ! pip install tqdm tensorflow_hub xlrd nltk matplotlib tensorflow"
   ]
  },
  {
   "cell_type": "code",
   "execution_count": 51,
   "metadata": {},
   "outputs": [],
   "source": [
    "%matplotlib inline"
   ]
  },
  {
   "cell_type": "code",
   "execution_count": 48,
   "metadata": {},
   "outputs": [],
   "source": [
    "import pandas as pd\n",
    "import numpy as np\n",
    "from scipy.spatial.distance import cdist\n",
    "from sklearn.cluster import SpectralClustering\n",
    "from sklearn.cluster import KMeans\n",
    "from scipy import spatial\n",
    "from tqdm import tqdm\n",
    "import nltk\n",
    "import os\n",
    "import re\n",
    "from collections import Counter\n",
    "import matplotlib.pyplot as plt\n",
    "import tensorflow_hub as hub\n",
    "import tensorflow as tf\n",
    "from nltk.tokenize import sent_tokenize"
   ]
  },
  {
   "cell_type": "code",
   "execution_count": 14,
   "metadata": {},
   "outputs": [
    {
     "name": "stderr",
     "output_type": "stream",
     "text": [
      "/opt/conda/lib/python3.7/site-packages/tqdm/std.py:658: FutureWarning: The Panel class is removed from pandas. Accessing it from the top-level namespace will also be removed in the next version\n",
      "  from pandas import Panel\n"
     ]
    }
   ],
   "source": [
    "tqdm.pandas()"
   ]
  },
  {
   "cell_type": "code",
   "execution_count": 16,
   "metadata": {},
   "outputs": [],
   "source": [
    "def split_to_sentences(data):\n",
    "    sentences = [s for d in data for s in d.split('\\n')]\n",
    "    sentences = [s.strip() for s in sentences]\n",
    "    sentences = [re.sub('&#39;', '\\'', s) for s in sentences]\n",
    "    sentences = [re.sub('…', '...', s) for s in sentences]\n",
    "    sentences = [s for line in sentences for s in sent_tokenize(line) if s]\n",
    "    new_sentences = []\n",
    "    for s in sentences:\n",
    "        if len(s)>=512:\n",
    "            new_sentences += s.split(',')\n",
    "        else:\n",
    "            new_sentences.append(s)\n",
    "    return new_sentences"
   ]
  },
  {
   "cell_type": "code",
   "execution_count": 17,
   "metadata": {},
   "outputs": [
    {
     "name": "stderr",
     "output_type": "stream",
     "text": [
      "100%|██████████| 438/438 [00:02<00:00, 211.65it/s]\n"
     ]
    }
   ],
   "source": [
    "data = []\n",
    "dirname = 'data/thoughts/Thoughts_en/'\n",
    "for fname in tqdm(os.listdir(dirname)):\n",
    "    if not fname.endswith('.docx'):\n",
    "        continue\n",
    "    with open(f\"{dirname}/{fname}\") as f:\n",
    "        data +=  [f.read()]"
   ]
  },
  {
   "cell_type": "code",
   "execution_count": 69,
   "metadata": {},
   "outputs": [
    {
     "name": "stderr",
     "output_type": "stream",
     "text": [
      "100%|██████████| 783/783 [00:04<00:00, 179.64it/s]\n"
     ]
    }
   ],
   "source": [
    "data = []\n",
    "dirname = 'data/thoughts/ids/'\n",
    "for fname in tqdm(os.listdir(dirname)):\n",
    "    if not fname.endswith('.txt'):\n",
    "        continue\n",
    "    with open(f\"{dirname}/{fname}\") as f:\n",
    "        data +=  [f.read()]"
   ]
  },
  {
   "cell_type": "code",
   "execution_count": 70,
   "metadata": {},
   "outputs": [
    {
     "data": {
      "text/plain": [
       "783"
      ]
     },
     "execution_count": 70,
     "metadata": {},
     "output_type": "execute_result"
    }
   ],
   "source": [
    "len(data)"
   ]
  },
  {
   "cell_type": "code",
   "execution_count": 71,
   "metadata": {},
   "outputs": [],
   "source": [
    "sentences = split_to_sentences(data)"
   ]
  },
  {
   "cell_type": "code",
   "execution_count": 72,
   "metadata": {},
   "outputs": [
    {
     "data": {
      "text/plain": [
       "38429"
      ]
     },
     "execution_count": 72,
     "metadata": {},
     "output_type": "execute_result"
    }
   ],
   "source": [
    "len(sentences)"
   ]
  },
  {
   "cell_type": "code",
   "execution_count": 73,
   "metadata": {},
   "outputs": [],
   "source": [
    "df = pd.read_excel('data/SUBTLEXusfrequencyabove1.xls')\n",
    "df['word'] = df['Word'].str.lower()\n",
    "df = df.set_index('word')\n",
    "freqs = df['FREQcount']"
   ]
  },
  {
   "cell_type": "code",
   "execution_count": 74,
   "metadata": {},
   "outputs": [],
   "source": [
    "words = [w for s in sentences for w in nltk.word_tokenize(s.lower())]"
   ]
  },
  {
   "cell_type": "code",
   "execution_count": 75,
   "metadata": {},
   "outputs": [
    {
     "data": {
      "text/plain": [
       "268607"
      ]
     },
     "execution_count": 75,
     "metadata": {},
     "output_type": "execute_result"
    }
   ],
   "source": [
    "len(words)"
   ]
  },
  {
   "cell_type": "markdown",
   "metadata": {},
   "source": [
    "# Deal with OOV"
   ]
  },
  {
   "cell_type": "code",
   "execution_count": 24,
   "metadata": {},
   "outputs": [],
   "source": [
    "oov = [word for word in words if re.match('[a-z]+', word) and word not in freqs]"
   ]
  },
  {
   "cell_type": "code",
   "execution_count": 25,
   "metadata": {},
   "outputs": [],
   "source": [
    "oov_cnt = Counter(oov)"
   ]
  },
  {
   "cell_type": "code",
   "execution_count": 26,
   "metadata": {},
   "outputs": [],
   "source": [
    "pd.DataFrame(oov_cnt.most_common(), columns=['word','freq']).to_csv('data/oov.csv', index=False)"
   ]
  },
  {
   "cell_type": "code",
   "execution_count": 27,
   "metadata": {},
   "outputs": [],
   "source": [
    "oov_df = pd.read_csv('data/oov 3.csv')"
   ]
  },
  {
   "cell_type": "code",
   "execution_count": 28,
   "metadata": {},
   "outputs": [],
   "source": [
    "oov_df = oov_df.dropna()"
   ]
  },
  {
   "cell_type": "code",
   "execution_count": 29,
   "metadata": {},
   "outputs": [],
   "source": [
    "oov_df = oov_df.set_index('word')"
   ]
  },
  {
   "cell_type": "code",
   "execution_count": 30,
   "metadata": {},
   "outputs": [],
   "source": [
    "all_data = \"||\".join(data)"
   ]
  },
  {
   "cell_type": "code",
   "execution_count": 31,
   "metadata": {},
   "outputs": [],
   "source": [
    "# \"||\" in all_data -> false"
   ]
  },
  {
   "cell_type": "code",
   "execution_count": 32,
   "metadata": {},
   "outputs": [],
   "source": [
    "oov_df['found'] = oov_df.apply(lambda x: len(re.findall(f\"\\\\b{x.name}\\\\b\", all_data, re.IGNORECASE)), axis=1)"
   ]
  },
  {
   "cell_type": "code",
   "execution_count": 33,
   "metadata": {},
   "outputs": [],
   "source": [
    "for word,alt in dict(oov_df['Alternative']).items():\n",
    "    all_data = re.sub(f\"\\\\b{word}\\\\b\", alt, all_data, flags = re.IGNORECASE)\n"
   ]
  },
  {
   "cell_type": "code",
   "execution_count": 34,
   "metadata": {},
   "outputs": [],
   "source": [
    "oov_df['new found'] = oov_df.apply(lambda x: len(re.findall(f\"\\\\b{x.name}\\\\b\", all_data, re.IGNORECASE)), axis=1)"
   ]
  },
  {
   "cell_type": "code",
   "execution_count": 35,
   "metadata": {},
   "outputs": [],
   "source": [
    "data = all_data.split('||')"
   ]
  },
  {
   "cell_type": "markdown",
   "metadata": {},
   "source": [
    "# Sentence embeddings"
   ]
  },
  {
   "cell_type": "code",
   "execution_count": 34,
   "metadata": {},
   "outputs": [],
   "source": [
    "embed = hub.load(\"https://tfhub.dev/google/universal-sentence-encoder/4\")"
   ]
  },
  {
   "cell_type": "code",
   "execution_count": 35,
   "metadata": {},
   "outputs": [],
   "source": [
    "sentences = split_to_sentences(data)"
   ]
  },
  {
   "cell_type": "code",
   "execution_count": 36,
   "metadata": {},
   "outputs": [
    {
     "data": {
      "text/plain": [
       "12227"
      ]
     },
     "execution_count": 36,
     "metadata": {},
     "output_type": "execute_result"
    }
   ],
   "source": [
    "len(sentences)"
   ]
  },
  {
   "cell_type": "code",
   "execution_count": 37,
   "metadata": {},
   "outputs": [],
   "source": [
    "sent_cnt = Counter(sentences)"
   ]
  },
  {
   "cell_type": "code",
   "execution_count": 38,
   "metadata": {},
   "outputs": [
    {
     "data": {
      "text/plain": [
       "10312"
      ]
     },
     "execution_count": 38,
     "metadata": {},
     "output_type": "execute_result"
    }
   ],
   "source": [
    "len(sent_cnt)"
   ]
  },
  {
   "cell_type": "code",
   "execution_count": 39,
   "metadata": {},
   "outputs": [
    {
     "data": {
      "text/plain": [
       "[('Good', 264),\n",
       " ('What else?', 179),\n",
       " ('Do not know', 178),\n",
       " ('What more?', 71),\n",
       " ('cool', 69),\n",
       " ('Maybe', 49),\n",
       " (\"what's going on?\", 41),\n",
       " ('Okay', 39),\n",
       " ('What about you?', 37),\n",
       " ('Not too much', 36)]"
      ]
     },
     "execution_count": 39,
     "metadata": {},
     "output_type": "execute_result"
    }
   ],
   "source": [
    "sent_cnt.most_common(10)"
   ]
  },
  {
   "cell_type": "code",
   "execution_count": 56,
   "metadata": {},
   "outputs": [],
   "source": [
    "# !pip install tensorflow-hub"
   ]
  },
  {
   "cell_type": "code",
   "execution_count": 40,
   "metadata": {},
   "outputs": [],
   "source": [
    "uniq = list(sent_cnt.keys())"
   ]
  },
  {
   "cell_type": "code",
   "execution_count": 41,
   "metadata": {},
   "outputs": [
    {
     "name": "stderr",
     "output_type": "stream",
     "text": [
      "100%|██████████| 103/103 [00:02<00:00, 37.53it/s]\n"
     ]
    }
   ],
   "source": [
    "batch_size = 100\n",
    "batches = []\n",
    "for i in tqdm(range(len(uniq)//batch_size)):\n",
    "    embeddings = embed(uniq[i*batch_size:(i+1)*batch_size])\n",
    "    batches += [embeddings]\n",
    "embeddings = embed(uniq[(i+1)*batch_size:])\n",
    "batches += [embeddings]    "
   ]
  },
  {
   "cell_type": "code",
   "execution_count": 42,
   "metadata": {},
   "outputs": [],
   "source": [
    "embeddings = tf.concat(batches, axis=0)"
   ]
  },
  {
   "cell_type": "code",
   "execution_count": 43,
   "metadata": {},
   "outputs": [],
   "source": [
    "embeddings = embeddings.numpy()"
   ]
  },
  {
   "cell_type": "code",
   "execution_count": 44,
   "metadata": {},
   "outputs": [],
   "source": [
    "np.savetxt('data/thoughts/embeddings.csv', embeddings, delimiter='\\t')"
   ]
  },
  {
   "cell_type": "code",
   "execution_count": 14,
   "metadata": {},
   "outputs": [],
   "source": [
    "embeddings = np.genfromtxt('data/thoughts/embeddings.csv', delimiter='\\t')"
   ]
  },
  {
   "cell_type": "code",
   "execution_count": 15,
   "metadata": {},
   "outputs": [
    {
     "data": {
      "text/plain": [
       "(10312, 512)"
      ]
     },
     "execution_count": 15,
     "metadata": {},
     "output_type": "execute_result"
    }
   ],
   "source": [
    "embeddings.shape"
   ]
  },
  {
   "cell_type": "code",
   "execution_count": 47,
   "metadata": {},
   "outputs": [],
   "source": [
    "data = '\\n'.join(uniq) + '\\n'"
   ]
  },
  {
   "cell_type": "code",
   "execution_count": 48,
   "metadata": {},
   "outputs": [],
   "source": [
    "data = re.sub('\\t', '    ', data)"
   ]
  },
  {
   "cell_type": "code",
   "execution_count": 49,
   "metadata": {},
   "outputs": [],
   "source": [
    "with open('data/thoughts/sentences.txt', 'w') as f:\n",
    "    f.write(data)"
   ]
  },
  {
   "cell_type": "code",
   "execution_count": 50,
   "metadata": {},
   "outputs": [],
   "source": [
    "with open('data/thoughts/sentences.txt') as f:\n",
    "    data = f.read()"
   ]
  },
  {
   "cell_type": "code",
   "execution_count": 68,
   "metadata": {},
   "outputs": [],
   "source": [
    "#TODO: sentence embeddings\n",
    "#TODO: sentence clustering\n",
    "#TODO: topic analysis (over time)\n",
    "#TODO: sentiment analysis (over time)"
   ]
  },
  {
   "cell_type": "code",
   "execution_count": 51,
   "metadata": {},
   "outputs": [],
   "source": [
    "embeddings_df = pd.DataFrame(embeddings)"
   ]
  },
  {
   "cell_type": "code",
   "execution_count": 52,
   "metadata": {},
   "outputs": [],
   "source": [
    "embeddings_df.index = data.strip('\\n').split('\\n')"
   ]
  },
  {
   "cell_type": "code",
   "execution_count": 53,
   "metadata": {},
   "outputs": [],
   "source": [
    "embeddings_df.to_csv('data/thoughts/embeddings.df.csv')"
   ]
  },
  {
   "cell_type": "code",
   "execution_count": 54,
   "metadata": {},
   "outputs": [],
   "source": [
    "embeddings_df_sm = embeddings_df.sample(1000)"
   ]
  },
  {
   "cell_type": "code",
   "execution_count": 55,
   "metadata": {},
   "outputs": [],
   "source": [
    "embeddings_sm = embeddings_df_sm.values"
   ]
  },
  {
   "cell_type": "code",
   "execution_count": 13,
   "metadata": {},
   "outputs": [],
   "source": [
    "embeddings_df = pd.read_csv('data/thoughts/embeddings.df.csv', index_col=0)"
   ]
  },
  {
   "cell_type": "markdown",
   "metadata": {},
   "source": [
    "# Cluster"
   ]
  },
  {
   "cell_type": "code",
   "execution_count": 128,
   "metadata": {},
   "outputs": [],
   "source": [
    "sc = SpectralClustering(10, affinity='precomputed', n_init=100,\n",
    "                         assign_labels='discretize')\n",
    "# sc.fit_predict(adj_mat)  "
   ]
  },
  {
   "cell_type": "code",
   "execution_count": 48,
   "metadata": {},
   "outputs": [],
   "source": [
    "adj_mat = cdist(embeddings_sm, embeddings_sm)"
   ]
  },
  {
   "cell_type": "code",
   "execution_count": 59,
   "metadata": {},
   "outputs": [
    {
     "name": "stderr",
     "output_type": "stream",
     "text": [
      "100%|██████████| 10/10 [00:45<00:00,  4.58s/it]\n"
     ]
    }
   ],
   "source": [
    "def calculate_WSS(points,k=2):\n",
    "    kmeans = KMeans(n_clusters = k).fit(points)\n",
    "    centers = np.array([kmeans.cluster_centers_[l] for l in kmeans.labels_])\n",
    "    sse = ((points-centers)**2).sum()\n",
    "    return sse\n",
    "\n",
    "sse = []\n",
    "for k in tqdm(range(10)):\n",
    "    sse.append(calculate_WSS(embeddings))\n",
    "# for k in tqdm(range(11, 20)):\n",
    "#     sse.append(calculate_WSS(embeddings,k))\n",
    "# for k in tqdm(range(20,30)):\n",
    "#     sse.append(calculate_WSS(embeddings,k))\n",
    "\n",
    "\n",
    "\n"
   ]
  },
  {
   "cell_type": "code",
   "execution_count": 52,
   "metadata": {},
   "outputs": [],
   "source": [
    "# sse10 = calculate_WSS(embeddings,10)"
   ]
  },
  {
   "cell_type": "code",
   "execution_count": 53,
   "metadata": {},
   "outputs": [],
   "source": [
    "# sse = sse[:8]+[sse10]+sse[8:]"
   ]
  },
  {
   "cell_type": "code",
   "execution_count": 60,
   "metadata": {},
   "outputs": [
    {
     "data": {
      "text/plain": [
       "[<matplotlib.lines.Line2D at 0x7f9d0f1505f8>]"
      ]
     },
     "execution_count": 60,
     "metadata": {},
     "output_type": "execute_result"
    },
    {
     "data": {
      "image/png": "[encoded data removed]",
      "text/plain": [
       "<Figure size 432x288 with 1 Axes>"
      ]
     },
     "metadata": {
      "needs_background": "light"
     },
     "output_type": "display_data"
    }
   ],
   "source": [
    "plt.plot(sse)"
   ]
  },
  {
   "cell_type": "code",
   "execution_count": 61,
   "metadata": {},
   "outputs": [
    {
     "data": {
      "text/plain": [
       "[<matplotlib.lines.Line2D at 0x7f9d0ec57550>]"
      ]
     },
     "execution_count": 61,
     "metadata": {},
     "output_type": "execute_result"
    },
    {
     "data": {
      "image/png": "[encoded data removed]",
      "text/plain": [
       "<Figure size 432x288 with 1 Axes>"
      ]
     },
     "metadata": {
      "needs_background": "light"
     },
     "output_type": "display_data"
    }
   ],
   "source": [
    "plt.plot([sse[i]-sse[i-1] for i in range(1,len(sse))])"
   ]
  },
  {
   "cell_type": "code",
   "execution_count": 87,
   "metadata": {},
   "outputs": [
    {
     "name": "stderr",
     "output_type": "stream",
     "text": [
      "100%|██████████| 18/18 [04:59<00:00, 16.63s/it]\n"
     ]
    }
   ],
   "source": [
    "from sklearn.metrics import silhouette_score\n",
    "\n",
    "sil = []\n",
    "kmax = 20\n",
    "\n",
    "# dissimilarity would not be defined for a single cluster, thus, minimum number of clusters should be 2\n",
    "for k in tqdm(range(2, kmax)):\n",
    "    kmeans = KMeans(n_clusters = k).fit(embeddings_df.values)\n",
    "    labels = kmeans.labels_\n",
    "    sil.append(silhouette_score(embeddings, labels, metric = 'euclidean'))"
   ]
  },
  {
   "cell_type": "code",
   "execution_count": 20,
   "metadata": {},
   "outputs": [
    {
     "name": "stderr",
     "output_type": "stream",
     "text": [
      "100%|██████████| 9/9 [03:05<00:00, 20.59s/it]\n"
     ]
    }
   ],
   "source": [
    "for k in tqdm(range(kmax+1, 2*kmax)):\n",
    "    kmeans = KMeans(n_clusters = k).fit(embeddings)\n",
    "    labels = kmeans.labels_\n",
    "    sil.append(silhouette_score(embeddings, labels, metric = 'euclidean'))"
   ]
  },
  {
   "cell_type": "code",
   "execution_count": 21,
   "metadata": {},
   "outputs": [
    {
     "name": "stderr",
     "output_type": "stream",
     "text": [
      "100%|██████████| 10/10 [04:37<00:00, 27.78s/it]\n"
     ]
    }
   ],
   "source": [
    "for k in tqdm(range(2*kmax, 3*kmax)):\n",
    "    kmeans = KMeans(n_clusters = k).fit(embeddings)\n",
    "    labels = kmeans.labels_\n",
    "    sil.append(silhouette_score(embeddings, labels, metric = 'euclidean'))"
   ]
  },
  {
   "cell_type": "code",
   "execution_count": 88,
   "metadata": {},
   "outputs": [
    {
     "data": {
      "text/plain": [
       "[<matplotlib.lines.Line2D at 0x7fbfa816be10>]"
      ]
     },
     "execution_count": 88,
     "metadata": {},
     "output_type": "execute_result"
    },
    {
     "data": {
      "image/png": "[encoded data removed]",
      "text/plain": [
       "<Figure size 432x288 with 1 Axes>"
      ]
     },
     "metadata": {
      "needs_background": "light"
     },
     "output_type": "display_data"
    }
   ],
   "source": [
    "plt.plot(sil)"
   ]
  },
  {
   "cell_type": "code",
   "execution_count": 92,
   "metadata": {},
   "outputs": [],
   "source": [
    "n_clusters = 12"
   ]
  },
  {
   "cell_type": "code",
   "execution_count": 93,
   "metadata": {},
   "outputs": [
    {
     "data": {
      "text/plain": [
       "0.01858339544209467"
      ]
     },
     "execution_count": 93,
     "metadata": {},
     "output_type": "execute_result"
    }
   ],
   "source": [
    "kmeans = KMeans(n_clusters = n_clusters).fit(embeddings_df.values)\n",
    "labels = kmeans.labels_\n",
    "silhouette_score(embeddings_df.values, labels, metric = 'euclidean')\n"
   ]
  },
  {
   "cell_type": "code",
   "execution_count": 131,
   "metadata": {},
   "outputs": [
    {
     "name": "stderr",
     "output_type": "stream",
     "text": [
      "100%|██████████| 12/12 [00:21<00:00,  1.82s/it]\n"
     ]
    }
   ],
   "source": [
    "# dists = [[np.linalg.norm(embeddings_df.iloc[i]-kmeans.cluster_centers_[j]) for i in range(len(embeddings_df))] for j in tqdm(list(range(n_clusters)))]\n",
    "\n",
    "dists = [[spatial.distance.cosine(embeddings_df.iloc[i],kmeans.cluster_centers_[j]) for i in range(len(embeddings_df))] for j in tqdm(list(range(n_clusters)))]\n",
    "\n"
   ]
  },
  {
   "cell_type": "code",
   "execution_count": 132,
   "metadata": {},
   "outputs": [],
   "source": [
    "dists_df = pd.DataFrame(dists, columns=embeddings_df.index).T"
   ]
  },
  {
   "cell_type": "code",
   "execution_count": 162,
   "metadata": {},
   "outputs": [
    {
     "data": {
      "text/plain": [
       "But that's not the point right now                  0.304092\n",
       "But how would I rather spend the day                0.322648\n",
       "But I'm more important to me                        0.323245\n",
       "But it's more than that                             0.333360\n",
       "But I don’t feel like doing anything...             0.335002\n",
       "But it makes sense                                  0.350657\n",
       "But I have to decide when enough                    0.360649\n",
       "But what if staying hurts me                        0.360667\n",
       "But I think not doing that might be worse for me    0.360990\n",
       "But it's not for now                                0.361966\n",
       "But that means nothing                              0.362220\n",
       "But then I have to pay for ages 45-60               0.362945\n",
       "But what about hurting me                           0.364702\n",
       "But maybe sometimes.                                0.365919\n",
       "But I have to push back                             0.367024\n",
       "But it's up to me in my opinion                     0.368060\n",
       "But that's nonsense                                 0.374979\n",
       "But that's a good thing                             0.378801\n",
       "But what do I feel like doing?                      0.379244\n",
       "But it's a mess                                     0.383751\n",
       "Name: 11, dtype: float64"
      ]
     },
     "execution_count": 162,
     "metadata": {},
     "output_type": "execute_result"
    }
   ],
   "source": [
    "dists_df[11].sort_values().iloc[:20]"
   ]
  },
  {
   "cell_type": "code",
   "execution_count": 107,
   "metadata": {},
   "outputs": [],
   "source": [
    "# 0 - short expression\n",
    "# 1 - questions\n",
    "# 2 - values - it's good or bad \n",
    "# 3 - to do\n",
    "# 4 - random thoughts?\n",
    "# 5 - and do\n",
    "# 6 - maybe\n",
    "# 7 - maybe I / I want\n",
    "# 8 - numbers\n",
    "# 9 - money\n",
    "# 10 - sex\n",
    "# 11 - but"
   ]
  },
  {
   "cell_type": "code",
   "execution_count": 76,
   "metadata": {},
   "outputs": [],
   "source": [
    "# ! pip install umap-learn"
   ]
  },
  {
   "cell_type": "markdown",
   "metadata": {},
   "source": [
    "# Word Embeddings"
   ]
  },
  {
   "cell_type": "code",
   "execution_count": 3,
   "metadata": {},
   "outputs": [
    {
     "name": "stdout",
     "output_type": "stream",
     "text": [
      "--2022-06-21 01:42:10--  http://nlp.stanford.edu/data/glove.6B.zip\n",
      "Resolving nlp.stanford.edu (nlp.stanford.edu)... 171.64.67.140\n",
      "Connecting to nlp.stanford.edu (nlp.stanford.edu)|171.64.67.140|:80... connected.\n",
      "HTTP request sent, awaiting response... 302 Found\n",
      "Location: https://nlp.stanford.edu/data/glove.6B.zip [following]\n",
      "--2022-06-21 01:42:10--  https://nlp.stanford.edu/data/glove.6B.zip\n",
      "Connecting to nlp.stanford.edu (nlp.stanford.edu)|171.64.67.140|:443... connected.\n",
      "HTTP request sent, awaiting response... 301 Moved Permanently\n",
      "Location: http://downloads.cs.stanford.edu/nlp/data/glove.6B.zip [following]\n",
      "--2022-06-21 01:42:11--  http://downloads.cs.stanford.edu/nlp/data/glove.6B.zip\n",
      "Resolving downloads.cs.stanford.edu (downloads.cs.stanford.edu)... 171.64.64.22\n",
      "Connecting to downloads.cs.stanford.edu (downloads.cs.stanford.edu)|171.64.64.22|:80... connected.\n",
      "HTTP request sent, awaiting response... 200 OK\n",
      "Length: 862182613 (822M) [application/zip]\n",
      "Saving to: ‘/tmp/glove.6B.zip’\n",
      "\n",
      "/tmp/glove.6B.zip   100%[===================>] 822.24M  4.74MB/s    in 2m 40s  \n",
      "\n",
      "2022-06-21 01:44:51 (5.14 MB/s) - ‘/tmp/glove.6B.zip’ saved [862182613/862182613]\n",
      "\n"
     ]
    }
   ],
   "source": [
    "!wget --no-check-certificate \\\n",
    "     http://nlp.stanford.edu/data/glove.6B.zip \\\n",
    "     -O /tmp/glove.6B.zip"
   ]
  },
  {
   "cell_type": "code",
   "execution_count": 47,
   "metadata": {},
   "outputs": [],
   "source": [
    "from sklearn.metrics import silhouette_score"
   ]
  },
  {
   "cell_type": "code",
   "execution_count": 4,
   "metadata": {},
   "outputs": [],
   "source": [
    "import os\n",
    "import zipfile\n",
    "with zipfile.ZipFile('/tmp/glove.6B.zip', 'r') as zip_ref:\n",
    "    zip_ref.extractall('/tmp/glove')"
   ]
  },
  {
   "cell_type": "code",
   "execution_count": 5,
   "metadata": {},
   "outputs": [
    {
     "name": "stdout",
     "output_type": "stream",
     "text": [
      "Found 400000 word vectors.\n"
     ]
    }
   ],
   "source": [
    "\n",
    "import numpy as np\n",
    "embeddings_index = {}\n",
    "with open('/tmp/glove/glove.6B.100d.txt') as f:\n",
    "    for line in f:\n",
    "        values = line.split()\n",
    "        word = values[0]\n",
    "        coefs = np.asarray(values[1:], dtype='float32')\n",
    "        embeddings_index[word] = coefs\n",
    "\n",
    "print('Found %s word vectors.' % len(embeddings_index))"
   ]
  },
  {
   "cell_type": "code",
   "execution_count": 76,
   "metadata": {},
   "outputs": [],
   "source": [
    "my_embeddings = {word: embeddings_index[word] for word in words if word in embeddings_index}"
   ]
  },
  {
   "cell_type": "code",
   "execution_count": 77,
   "metadata": {},
   "outputs": [],
   "source": [
    "word_embeddings_df = pd.DataFrame(my_embeddings).T"
   ]
  },
  {
   "cell_type": "code",
   "execution_count": 78,
   "metadata": {},
   "outputs": [
    {
     "data": {
      "text/html": [
       "<div>\n",
       "<style scoped>\n",
       "    .dataframe tbody tr th:only-of-type {\n",
       "        vertical-align: middle;\n",
       "    }\n",
       "\n",
       "    .dataframe tbody tr th {\n",
       "        vertical-align: top;\n",
       "    }\n",
       "\n",
       "    .dataframe thead th {\n",
       "        text-align: right;\n",
       "    }\n",
       "</style>\n",
       "<table border=\"1\" class=\"dataframe\">\n",
       "  <thead>\n",
       "    <tr style=\"text-align: right;\">\n",
       "      <th></th>\n",
       "      <th>0</th>\n",
       "      <th>1</th>\n",
       "      <th>2</th>\n",
       "      <th>3</th>\n",
       "      <th>4</th>\n",
       "      <th>5</th>\n",
       "      <th>6</th>\n",
       "      <th>7</th>\n",
       "      <th>8</th>\n",
       "      <th>9</th>\n",
       "      <th>...</th>\n",
       "      <th>90</th>\n",
       "      <th>91</th>\n",
       "      <th>92</th>\n",
       "      <th>93</th>\n",
       "      <th>94</th>\n",
       "      <th>95</th>\n",
       "      <th>96</th>\n",
       "      <th>97</th>\n",
       "      <th>98</th>\n",
       "      <th>99</th>\n",
       "    </tr>\n",
       "  </thead>\n",
       "  <tbody>\n",
       "    <tr>\n",
       "      <th>translated</th>\n",
       "      <td>-0.483420</td>\n",
       "      <td>0.54375</td>\n",
       "      <td>-0.114550</td>\n",
       "      <td>0.587490</td>\n",
       "      <td>1.149900</td>\n",
       "      <td>0.733010</td>\n",
       "      <td>0.153090</td>\n",
       "      <td>-0.906680</td>\n",
       "      <td>0.18289</td>\n",
       "      <td>-0.240530</td>\n",
       "      <td>...</td>\n",
       "      <td>-0.103140</td>\n",
       "      <td>-0.068432</td>\n",
       "      <td>-0.124670</td>\n",
       "      <td>0.026833</td>\n",
       "      <td>-0.083475</td>\n",
       "      <td>-0.361080</td>\n",
       "      <td>-0.032084</td>\n",
       "      <td>-0.719910</td>\n",
       "      <td>-0.527130</td>\n",
       "      <td>0.323690</td>\n",
       "    </tr>\n",
       "    <tr>\n",
       "      <th>text</th>\n",
       "      <td>-0.497050</td>\n",
       "      <td>0.71642</td>\n",
       "      <td>0.401190</td>\n",
       "      <td>-0.057610</td>\n",
       "      <td>0.836140</td>\n",
       "      <td>0.825600</td>\n",
       "      <td>0.089630</td>\n",
       "      <td>-0.534920</td>\n",
       "      <td>0.34335</td>\n",
       "      <td>-0.270790</td>\n",
       "      <td>...</td>\n",
       "      <td>0.040066</td>\n",
       "      <td>0.608030</td>\n",
       "      <td>-0.027058</td>\n",
       "      <td>0.152730</td>\n",
       "      <td>-0.168870</td>\n",
       "      <td>-0.476640</td>\n",
       "      <td>-0.617750</td>\n",
       "      <td>-0.987350</td>\n",
       "      <td>0.237760</td>\n",
       "      <td>0.399520</td>\n",
       "    </tr>\n",
       "    <tr>\n",
       "      <th>:</th>\n",
       "      <td>-0.545580</td>\n",
       "      <td>1.09650</td>\n",
       "      <td>1.510600</td>\n",
       "      <td>-0.472700</td>\n",
       "      <td>-0.155470</td>\n",
       "      <td>0.217480</td>\n",
       "      <td>-0.361250</td>\n",
       "      <td>0.127270</td>\n",
       "      <td>-0.51148</td>\n",
       "      <td>-0.355280</td>\n",
       "      <td>...</td>\n",
       "      <td>0.016801</td>\n",
       "      <td>0.381540</td>\n",
       "      <td>0.394060</td>\n",
       "      <td>0.380440</td>\n",
       "      <td>-0.589430</td>\n",
       "      <td>-0.021365</td>\n",
       "      <td>0.173640</td>\n",
       "      <td>-0.903740</td>\n",
       "      <td>0.481360</td>\n",
       "      <td>0.030378</td>\n",
       "    </tr>\n",
       "    <tr>\n",
       "      <th>hey</th>\n",
       "      <td>0.377660</td>\n",
       "      <td>0.42608</td>\n",
       "      <td>1.158000</td>\n",
       "      <td>-0.660770</td>\n",
       "      <td>-0.562810</td>\n",
       "      <td>0.409020</td>\n",
       "      <td>0.024335</td>\n",
       "      <td>0.678350</td>\n",
       "      <td>0.20989</td>\n",
       "      <td>-0.585930</td>\n",
       "      <td>...</td>\n",
       "      <td>0.380030</td>\n",
       "      <td>0.129340</td>\n",
       "      <td>-0.017723</td>\n",
       "      <td>0.262210</td>\n",
       "      <td>-0.004755</td>\n",
       "      <td>-0.553120</td>\n",
       "      <td>-0.126100</td>\n",
       "      <td>-0.109850</td>\n",
       "      <td>-0.354420</td>\n",
       "      <td>0.380780</td>\n",
       "    </tr>\n",
       "    <tr>\n",
       "      <th>what</th>\n",
       "      <td>-0.151800</td>\n",
       "      <td>0.38409</td>\n",
       "      <td>0.893400</td>\n",
       "      <td>-0.424210</td>\n",
       "      <td>-0.921610</td>\n",
       "      <td>0.037988</td>\n",
       "      <td>-0.320260</td>\n",
       "      <td>0.003412</td>\n",
       "      <td>0.22101</td>\n",
       "      <td>-0.220450</td>\n",
       "      <td>...</td>\n",
       "      <td>0.274270</td>\n",
       "      <td>-0.218980</td>\n",
       "      <td>-0.267140</td>\n",
       "      <td>0.002256</td>\n",
       "      <td>-0.501780</td>\n",
       "      <td>-0.327750</td>\n",
       "      <td>-0.456700</td>\n",
       "      <td>-0.271230</td>\n",
       "      <td>0.221570</td>\n",
       "      <td>0.921120</td>\n",
       "    </tr>\n",
       "    <tr>\n",
       "      <th>...</th>\n",
       "      <td>...</td>\n",
       "      <td>...</td>\n",
       "      <td>...</td>\n",
       "      <td>...</td>\n",
       "      <td>...</td>\n",
       "      <td>...</td>\n",
       "      <td>...</td>\n",
       "      <td>...</td>\n",
       "      <td>...</td>\n",
       "      <td>...</td>\n",
       "      <td>...</td>\n",
       "      <td>...</td>\n",
       "      <td>...</td>\n",
       "      <td>...</td>\n",
       "      <td>...</td>\n",
       "      <td>...</td>\n",
       "      <td>...</td>\n",
       "      <td>...</td>\n",
       "      <td>...</td>\n",
       "      <td>...</td>\n",
       "      <td>...</td>\n",
       "    </tr>\n",
       "    <tr>\n",
       "      <th>fatter</th>\n",
       "      <td>-0.097295</td>\n",
       "      <td>0.61302</td>\n",
       "      <td>0.313910</td>\n",
       "      <td>-0.995940</td>\n",
       "      <td>0.002187</td>\n",
       "      <td>-0.661460</td>\n",
       "      <td>-1.151400</td>\n",
       "      <td>-0.705540</td>\n",
       "      <td>0.41621</td>\n",
       "      <td>-0.124950</td>\n",
       "      <td>...</td>\n",
       "      <td>0.895530</td>\n",
       "      <td>-0.075962</td>\n",
       "      <td>0.312830</td>\n",
       "      <td>-0.832450</td>\n",
       "      <td>0.032565</td>\n",
       "      <td>-0.669580</td>\n",
       "      <td>0.575760</td>\n",
       "      <td>0.662020</td>\n",
       "      <td>0.064074</td>\n",
       "      <td>0.334360</td>\n",
       "    </tr>\n",
       "    <tr>\n",
       "      <th>workouts</th>\n",
       "      <td>0.132590</td>\n",
       "      <td>-0.18258</td>\n",
       "      <td>-0.661800</td>\n",
       "      <td>-0.649600</td>\n",
       "      <td>-1.312300</td>\n",
       "      <td>0.401320</td>\n",
       "      <td>0.873480</td>\n",
       "      <td>0.884060</td>\n",
       "      <td>-1.32970</td>\n",
       "      <td>0.093087</td>\n",
       "      <td>...</td>\n",
       "      <td>-0.413940</td>\n",
       "      <td>0.166920</td>\n",
       "      <td>0.096516</td>\n",
       "      <td>0.519290</td>\n",
       "      <td>-0.005935</td>\n",
       "      <td>-0.309480</td>\n",
       "      <td>0.043702</td>\n",
       "      <td>-0.057437</td>\n",
       "      <td>1.047700</td>\n",
       "      <td>0.787170</td>\n",
       "    </tr>\n",
       "    <tr>\n",
       "      <th>clockwork</th>\n",
       "      <td>0.109430</td>\n",
       "      <td>-0.56458</td>\n",
       "      <td>-0.057436</td>\n",
       "      <td>-0.095496</td>\n",
       "      <td>0.454380</td>\n",
       "      <td>-0.001946</td>\n",
       "      <td>0.157890</td>\n",
       "      <td>0.167770</td>\n",
       "      <td>-0.53731</td>\n",
       "      <td>-0.284030</td>\n",
       "      <td>...</td>\n",
       "      <td>-0.014225</td>\n",
       "      <td>0.030894</td>\n",
       "      <td>-0.639740</td>\n",
       "      <td>0.110620</td>\n",
       "      <td>0.076050</td>\n",
       "      <td>-0.581340</td>\n",
       "      <td>-0.088268</td>\n",
       "      <td>-0.095719</td>\n",
       "      <td>-0.621890</td>\n",
       "      <td>0.158870</td>\n",
       "    </tr>\n",
       "    <tr>\n",
       "      <th>perseverance</th>\n",
       "      <td>0.224170</td>\n",
       "      <td>0.13555</td>\n",
       "      <td>0.230120</td>\n",
       "      <td>0.386420</td>\n",
       "      <td>-0.353250</td>\n",
       "      <td>0.160110</td>\n",
       "      <td>-0.781510</td>\n",
       "      <td>0.104160</td>\n",
       "      <td>-0.95742</td>\n",
       "      <td>-0.008918</td>\n",
       "      <td>...</td>\n",
       "      <td>-0.653140</td>\n",
       "      <td>-0.382630</td>\n",
       "      <td>-0.121460</td>\n",
       "      <td>0.976760</td>\n",
       "      <td>-0.026994</td>\n",
       "      <td>-0.400050</td>\n",
       "      <td>0.227110</td>\n",
       "      <td>-0.710070</td>\n",
       "      <td>0.128990</td>\n",
       "      <td>0.961650</td>\n",
       "    </tr>\n",
       "    <tr>\n",
       "      <th>extracts</th>\n",
       "      <td>-0.696890</td>\n",
       "      <td>0.40013</td>\n",
       "      <td>-0.423630</td>\n",
       "      <td>-0.126350</td>\n",
       "      <td>0.597350</td>\n",
       "      <td>0.099540</td>\n",
       "      <td>0.480870</td>\n",
       "      <td>0.328980</td>\n",
       "      <td>-0.11453</td>\n",
       "      <td>-0.251620</td>\n",
       "      <td>...</td>\n",
       "      <td>0.059809</td>\n",
       "      <td>-0.268250</td>\n",
       "      <td>-0.089483</td>\n",
       "      <td>-0.042894</td>\n",
       "      <td>-0.115050</td>\n",
       "      <td>-0.337410</td>\n",
       "      <td>-0.375360</td>\n",
       "      <td>-0.991530</td>\n",
       "      <td>0.101490</td>\n",
       "      <td>0.634110</td>\n",
       "    </tr>\n",
       "  </tbody>\n",
       "</table>\n",
       "<p>9044 rows × 100 columns</p>\n",
       "</div>"
      ],
      "text/plain": [
       "                    0        1         2         3         4         5   \\\n",
       "translated   -0.483420  0.54375 -0.114550  0.587490  1.149900  0.733010   \n",
       "text         -0.497050  0.71642  0.401190 -0.057610  0.836140  0.825600   \n",
       ":            -0.545580  1.09650  1.510600 -0.472700 -0.155470  0.217480   \n",
       "hey           0.377660  0.42608  1.158000 -0.660770 -0.562810  0.409020   \n",
       "what         -0.151800  0.38409  0.893400 -0.424210 -0.921610  0.037988   \n",
       "...                ...      ...       ...       ...       ...       ...   \n",
       "fatter       -0.097295  0.61302  0.313910 -0.995940  0.002187 -0.661460   \n",
       "workouts      0.132590 -0.18258 -0.661800 -0.649600 -1.312300  0.401320   \n",
       "clockwork     0.109430 -0.56458 -0.057436 -0.095496  0.454380 -0.001946   \n",
       "perseverance  0.224170  0.13555  0.230120  0.386420 -0.353250  0.160110   \n",
       "extracts     -0.696890  0.40013 -0.423630 -0.126350  0.597350  0.099540   \n",
       "\n",
       "                    6         7        8         9   ...        90        91  \\\n",
       "translated    0.153090 -0.906680  0.18289 -0.240530  ... -0.103140 -0.068432   \n",
       "text          0.089630 -0.534920  0.34335 -0.270790  ...  0.040066  0.608030   \n",
       ":            -0.361250  0.127270 -0.51148 -0.355280  ...  0.016801  0.381540   \n",
       "hey           0.024335  0.678350  0.20989 -0.585930  ...  0.380030  0.129340   \n",
       "what         -0.320260  0.003412  0.22101 -0.220450  ...  0.274270 -0.218980   \n",
       "...                ...       ...      ...       ...  ...       ...       ...   \n",
       "fatter       -1.151400 -0.705540  0.41621 -0.124950  ...  0.895530 -0.075962   \n",
       "workouts      0.873480  0.884060 -1.32970  0.093087  ... -0.413940  0.166920   \n",
       "clockwork     0.157890  0.167770 -0.53731 -0.284030  ... -0.014225  0.030894   \n",
       "perseverance -0.781510  0.104160 -0.95742 -0.008918  ... -0.653140 -0.382630   \n",
       "extracts      0.480870  0.328980 -0.11453 -0.251620  ...  0.059809 -0.268250   \n",
       "\n",
       "                    92        93        94        95        96        97  \\\n",
       "translated   -0.124670  0.026833 -0.083475 -0.361080 -0.032084 -0.719910   \n",
       "text         -0.027058  0.152730 -0.168870 -0.476640 -0.617750 -0.987350   \n",
       ":             0.394060  0.380440 -0.589430 -0.021365  0.173640 -0.903740   \n",
       "hey          -0.017723  0.262210 -0.004755 -0.553120 -0.126100 -0.109850   \n",
       "what         -0.267140  0.002256 -0.501780 -0.327750 -0.456700 -0.271230   \n",
       "...                ...       ...       ...       ...       ...       ...   \n",
       "fatter        0.312830 -0.832450  0.032565 -0.669580  0.575760  0.662020   \n",
       "workouts      0.096516  0.519290 -0.005935 -0.309480  0.043702 -0.057437   \n",
       "clockwork    -0.639740  0.110620  0.076050 -0.581340 -0.088268 -0.095719   \n",
       "perseverance -0.121460  0.976760 -0.026994 -0.400050  0.227110 -0.710070   \n",
       "extracts     -0.089483 -0.042894 -0.115050 -0.337410 -0.375360 -0.991530   \n",
       "\n",
       "                    98        99  \n",
       "translated   -0.527130  0.323690  \n",
       "text          0.237760  0.399520  \n",
       ":             0.481360  0.030378  \n",
       "hey          -0.354420  0.380780  \n",
       "what          0.221570  0.921120  \n",
       "...                ...       ...  \n",
       "fatter        0.064074  0.334360  \n",
       "workouts      1.047700  0.787170  \n",
       "clockwork    -0.621890  0.158870  \n",
       "perseverance  0.128990  0.961650  \n",
       "extracts      0.101490  0.634110  \n",
       "\n",
       "[9044 rows x 100 columns]"
      ]
     },
     "execution_count": 78,
     "metadata": {},
     "output_type": "execute_result"
    }
   ],
   "source": [
    "word_embeddings_df"
   ]
  },
  {
   "cell_type": "code",
   "execution_count": 49,
   "metadata": {},
   "outputs": [
    {
     "name": "stderr",
     "output_type": "stream",
     "text": [
      "100%|██████████| 18/18 [00:50<00:00,  2.78s/it]\n"
     ]
    }
   ],
   "source": [
    "sil = []\n",
    "kmax = 20\n",
    "\n",
    "# dissimilarity would not be defined for a single cluster, thus, minimum number of clusters should be 2\n",
    "for k in tqdm(range(2, kmax)):\n",
    "    kmeans = KMeans(n_clusters = k).fit(word_embeddings_df.values)\n",
    "    labels = kmeans.labels_\n",
    "    sil.append(silhouette_score(word_embeddings_df.values, labels, metric = 'euclidean'))"
   ]
  },
  {
   "cell_type": "code",
   "execution_count": 52,
   "metadata": {},
   "outputs": [
    {
     "data": {
      "text/plain": [
       "[<matplotlib.lines.Line2D at 0x7f168ad64c50>]"
      ]
     },
     "execution_count": 52,
     "metadata": {},
     "output_type": "execute_result"
    },
    {
     "data": {
      "image/png": "[encoded data removed]",
      "text/plain": [
       "<Figure size 432x288 with 1 Axes>"
      ]
     },
     "metadata": {
      "needs_background": "light"
     },
     "output_type": "display_data"
    }
   ],
   "source": [
    "plt.plot(sil)"
   ]
  },
  {
   "cell_type": "code",
   "execution_count": 79,
   "metadata": {},
   "outputs": [
    {
     "data": {
      "text/plain": [
       "0.020211367"
      ]
     },
     "execution_count": 79,
     "metadata": {},
     "output_type": "execute_result"
    }
   ],
   "source": [
    "n_clusters = 10\n",
    "kmeans = KMeans(n_clusters = n_clusters).fit(word_embeddings_df.values)\n",
    "labels = kmeans.labels_\n",
    "silhouette_score(word_embeddings_df.values, labels, metric = 'euclidean')\n"
   ]
  },
  {
   "cell_type": "code",
   "execution_count": 80,
   "metadata": {},
   "outputs": [
    {
     "name": "stderr",
     "output_type": "stream",
     "text": [
      "100%|██████████| 10/10 [00:16<00:00,  1.64s/it]\n"
     ]
    }
   ],
   "source": [
    "# dists = [[np.linalg.norm(embeddings_df.iloc[i]-kmeans.cluster_centers_[j]) for i in range(len(embeddings_df))] for j in tqdm(list(range(n_clusters)))]\n",
    "\n",
    "dists = [[spatial.distance.cosine(word_embeddings_df.iloc[i],kmeans.cluster_centers_[j]) for i in range(len(word_embeddings_df))] for j in tqdm(list(range(n_clusters)))]\n",
    "\n"
   ]
  },
  {
   "cell_type": "code",
   "execution_count": 81,
   "metadata": {},
   "outputs": [],
   "source": [
    "dists_df = pd.DataFrame(dists, columns=word_embeddings_df.index).T"
   ]
  },
  {
   "cell_type": "code",
   "execution_count": 97,
   "metadata": {},
   "outputs": [],
   "source": [
    "# 0 - nonesense\n",
    "# 1 - stop words\n",
    "# 0 - money \n",
    "# 3 - temporal\n",
    "# 4 - spacial\n",
    "# 5 - ?\n",
    "# 6 - number\n",
    "# 7 - math\n",
    "# 8 - emotion\n",
    "# 9 - rational\n",
    "\n",
    "# 0 - money\n",
    "# 1 - probable\n",
    "# 2 - relationships\n",
    "# 3 - numbers / nonsense\n",
    "# 4 - stop words\n",
    "# 5 - rational\n",
    "# 6 - numbers\n",
    "# 7 - daily nouns\n",
    "# 8 - philosophy - long words\n",
    "# 9 - temporal"
   ]
  },
  {
   "cell_type": "code",
   "execution_count": 99,
   "metadata": {},
   "outputs": [
    {
     "data": {
      "text/plain": [
       "one        0.118486\n",
       "last       0.118993\n",
       "the        0.120544\n",
       "came       0.121020\n",
       "only       0.122320\n",
       "time       0.129756\n",
       ".          0.138114\n",
       "well       0.139797\n",
       "while      0.141275\n",
       "after      0.141343\n",
       "another    0.142269\n",
       "over       0.142639\n",
       "but        0.142931\n",
       "same       0.143375\n",
       "before     0.145285\n",
       "days       0.146549\n",
       "first      0.146562\n",
       "two        0.146680\n",
       "next       0.146969\n",
       "when       0.148549\n",
       "Name: 9, dtype: float64"
      ]
     },
     "execution_count": 99,
     "metadata": {},
     "output_type": "execute_result"
    }
   ],
   "source": [
    "dists_df[9].sort_values().iloc[:20]"
   ]
  },
  {
   "cell_type": "code",
   "execution_count": null,
   "metadata": {},
   "outputs": [],
   "source": []
  },
  {
   "cell_type": "markdown",
   "metadata": {},
   "source": [
    "# Dimentionality Reduction"
   ]
  },
  {
   "cell_type": "code",
   "execution_count": 95,
   "metadata": {},
   "outputs": [],
   "source": [
    "import umap\n",
    "from sklearn.preprocessing import StandardScaler\n",
    "from sklearn.decomposition import PCA\n",
    "from sklearn.manifold import TSNE"
   ]
  },
  {
   "cell_type": "code",
   "execution_count": 84,
   "metadata": {},
   "outputs": [],
   "source": [
    "reducer = umap.UMAP()"
   ]
  },
  {
   "cell_type": "code",
   "execution_count": 80,
   "metadata": {},
   "outputs": [],
   "source": [
    "scaled_embeddinbgs = StandardScaler().fit_transform(embeddings)"
   ]
  },
  {
   "cell_type": "code",
   "execution_count": 85,
   "metadata": {},
   "outputs": [],
   "source": [
    "umap_embedding = reducer.fit_transform(scaled_embeddinbgs)"
   ]
  },
  {
   "cell_type": "code",
   "execution_count": 86,
   "metadata": {},
   "outputs": [
    {
     "data": {
      "text/plain": [
       "Text(0.5, 1.0, 'UMAP projection of the Penguin dataset')"
      ]
     },
     "execution_count": 86,
     "metadata": {},
     "output_type": "execute_result"
    },
    {
     "data": {
      "image/png": "[encoded data removed]",
      "text/plain": [
       "<Figure size 432x288 with 1 Axes>"
      ]
     },
     "metadata": {
      "needs_background": "light"
     },
     "output_type": "display_data"
    }
   ],
   "source": [
    "plt.scatter(\n",
    "    umap_embedding[:, 0],\n",
    "    umap_embedding[:, 1])\n",
    "#     c=[sns.color_palette()[x] for x in penguins.species_short.map({\"Adelie\":0, \"Chinstrap\":1, \"Gentoo\":2})])\n",
    "plt.gca().set_aspect('equal', 'datalim')\n",
    "plt.title('UMAP projection of the Penguin dataset', fontsize=24)"
   ]
  },
  {
   "cell_type": "code",
   "execution_count": 89,
   "metadata": {},
   "outputs": [],
   "source": [
    "pca = PCA(n_components=2)"
   ]
  },
  {
   "cell_type": "code",
   "execution_count": 90,
   "metadata": {},
   "outputs": [
    {
     "data": {
      "text/plain": [
       "PCA(copy=True, iterated_power='auto', n_components=2, random_state=None,\n",
       "    svd_solver='auto', tol=0.0, whiten=False)"
      ]
     },
     "execution_count": 90,
     "metadata": {},
     "output_type": "execute_result"
    }
   ],
   "source": [
    "pca.fit(embeddings)"
   ]
  },
  {
   "cell_type": "code",
   "execution_count": 91,
   "metadata": {},
   "outputs": [
    {
     "data": {
      "text/plain": [
       "array([0.03307248, 0.02561601])"
      ]
     },
     "execution_count": 91,
     "metadata": {},
     "output_type": "execute_result"
    }
   ],
   "source": [
    "pca.explained_variance_ratio_"
   ]
  },
  {
   "cell_type": "code",
   "execution_count": 92,
   "metadata": {},
   "outputs": [],
   "source": [
    "pca_embeddings = pca.fit_transform(embeddings, None)"
   ]
  },
  {
   "cell_type": "code",
   "execution_count": 94,
   "metadata": {},
   "outputs": [
    {
     "data": {
      "text/plain": [
       "Text(0.5, 1.0, 'PCA projection')"
      ]
     },
     "execution_count": 94,
     "metadata": {},
     "output_type": "execute_result"
    },
    {
     "data": {
      "image/png": "[encoded data removed]",
      "text/plain": [
       "<Figure size 432x288 with 1 Axes>"
      ]
     },
     "metadata": {
      "needs_background": "light"
     },
     "output_type": "display_data"
    }
   ],
   "source": [
    "plt.scatter(\n",
    "    pca_embeddings[:, 0],\n",
    "    pca_embeddings[:, 1])\n",
    "#     c=[sns.color_palette()[x] for x in penguins.species_short.map({\"Adelie\":0, \"Chinstrap\":1, \"Gentoo\":2})])\n",
    "plt.gca().set_aspect('equal', 'datalim')\n",
    "plt.title('PCA projection', fontsize=24)"
   ]
  },
  {
   "cell_type": "code",
   "execution_count": 97,
   "metadata": {},
   "outputs": [],
   "source": [
    "tsne_embedded = TSNE(n_components=2,init='random').fit_transform(embeddings)"
   ]
  },
  {
   "cell_type": "code",
   "execution_count": 99,
   "metadata": {},
   "outputs": [
    {
     "data": {
      "text/plain": [
       "Text(0.5, 1.0, 'TSNE projection')"
      ]
     },
     "execution_count": 99,
     "metadata": {},
     "output_type": "execute_result"
    },
    {
     "data": {
      "image/png": "[encoded data removed]",
      "text/plain": [
       "<Figure size 432x288 with 1 Axes>"
      ]
     },
     "metadata": {
      "needs_background": "light"
     },
     "output_type": "display_data"
    }
   ],
   "source": [
    "plt.scatter(\n",
    "    tsne_embedded[:, 0],\n",
    "    tsne_embedded[:, 1])\n",
    "#     c=[sns.color_palette()[x] for x in penguins.species_short.map({\"Adelie\":0, \"Chinstrap\":1, \"Gentoo\":2})])\n",
    "plt.gca().set_aspect('equal', 'datalim')\n",
    "plt.title('TSNE projection', fontsize=24)"
   ]
  },
  {
   "cell_type": "markdown",
   "metadata": {},
   "source": [
    "# Sentiment Analysis"
   ]
  },
  {
   "cell_type": "code",
   "execution_count": 12,
   "metadata": {},
   "outputs": [],
   "source": [
    "# ! pip install transformers==3.1\n",
    "# ! pip3 install --upgrade tensorflow-gpu"
   ]
  },
  {
   "cell_type": "code",
   "execution_count": 6,
   "metadata": {},
   "outputs": [
    {
     "name": "stderr",
     "output_type": "stream",
     "text": [
      "/usr/local/lib/python3.6/site-packages/tqdm/auto.py:22: TqdmWarning: IProgress not found. Please update jupyter and ipywidgets. See https://ipywidgets.readthedocs.io/en/stable/user_install.html\n",
      "  from .autonotebook import tqdm as notebook_tqdm\n"
     ]
    }
   ],
   "source": [
    "from transformers import pipeline\n",
    "import time"
   ]
  },
  {
   "cell_type": "code",
   "execution_count": 7,
   "metadata": {},
   "outputs": [
    {
     "name": "stderr",
     "output_type": "stream",
     "text": [
      "All model checkpoint weights were used when initializing TFDistilBertForSequenceClassification.\n",
      "\n",
      "All the weights of TFDistilBertForSequenceClassification were initialized from the model checkpoint at distilbert-base-uncased-finetuned-sst-2-english.\n",
      "If your task is similar to the task the model of the checkpoint was trained on, you can already use TFDistilBertForSequenceClassification for predictions without further training.\n"
     ]
    }
   ],
   "source": [
    "sentiment_pipeline = pipeline(\"sentiment-analysis\")"
   ]
  },
  {
   "cell_type": "code",
   "execution_count": 77,
   "metadata": {},
   "outputs": [
    {
     "data": {
      "text/plain": [
       "10312"
      ]
     },
     "execution_count": 77,
     "metadata": {},
     "output_type": "execute_result"
    }
   ],
   "source": [
    "len(embeddings_df)"
   ]
  },
  {
   "cell_type": "code",
   "execution_count": 15,
   "metadata": {},
   "outputs": [],
   "source": [
    "sub_df = embeddings_df.index[2800-1:2800+100]"
   ]
  },
  {
   "cell_type": "code",
   "execution_count": 16,
   "metadata": {},
   "outputs": [
    {
     "data": {
      "text/plain": [
       "'Now'"
      ]
     },
     "execution_count": 16,
     "metadata": {},
     "output_type": "execute_result"
    }
   ],
   "source": [
    "min(sub_df, key=len)"
   ]
  },
  {
   "cell_type": "code",
   "execution_count": 17,
   "metadata": {},
   "outputs": [],
   "source": [
    "data = list(sub_df)\n",
    "sentiments = sentiment_pipeline(data)\n"
   ]
  },
  {
   "cell_type": "code",
   "execution_count": 27,
   "metadata": {},
   "outputs": [],
   "source": [
    "embeddings_sentiments = []"
   ]
  },
  {
   "cell_type": "code",
   "execution_count": 28,
   "metadata": {},
   "outputs": [],
   "source": [
    "sentiment_df = pd.DataFrame([], columns=['label','score'])"
   ]
  },
  {
   "cell_type": "code",
   "execution_count": null,
   "metadata": {},
   "outputs": [
    {
     "name": "stderr",
     "output_type": "stream",
     "text": [
      "100%|██████████| 104/104 [08:57<00:00,  5.17s/it]\n"
     ]
    }
   ],
   "source": [
    "for i in tqdm(range(len(embeddings_sentiments),len(embeddings_df),100)):\n",
    "    data = list(embeddings_df.iloc[i:i+100].index)\n",
    "    embeddings_sentiments = sentiment_pipeline(data)\n",
    "    df = pd.DataFrame(embeddings_sentiments)\n",
    "    sentiment_df = pd.concat([sentiment_df,df])\n",
    "    sentiment_df.to_csv('data/thoughts/sentiment.csv')\n"
   ]
  },
  {
   "cell_type": "code",
   "execution_count": 39,
   "metadata": {},
   "outputs": [],
   "source": [
    "# sentiment_df = sentiment_df.iloc[-len(embeddings_df):]"
   ]
  },
  {
   "cell_type": "code",
   "execution_count": 43,
   "metadata": {},
   "outputs": [],
   "source": [
    "sentiment_df.to_csv('data/thoughts/sentiment.csv')"
   ]
  },
  {
   "cell_type": "code",
   "execution_count": 44,
   "metadata": {},
   "outputs": [],
   "source": [
    "sentiment_df = pd.read_csv('data/thoughts/sentiment.csv', index_col=0)"
   ]
  },
  {
   "cell_type": "code",
   "execution_count": null,
   "metadata": {},
   "outputs": [],
   "source": []
  }
 ],
 "metadata": {
  "instance_type": "ml.t3.medium",
  "kernelspec": {
   "display_name": "Python 3 (Data Science)",
   "language": "python",
   "name": "python3__SAGEMAKER_INTERNAL__arn:aws:sagemaker:us-west-2:236514542706:image/datascience-1.0"
  },
  "language_info": {
   "codemirror_mode": {
    "name": "ipython",
    "version": 3
   },
   "file_extension": ".py",
   "mimetype": "text/x-python",
   "name": "python",
   "nbconvert_exporter": "python",
   "pygments_lexer": "ipython3",
   "version": "3.7.10"
  }
 },
 "nbformat": 4,
 "nbformat_minor": 4
}
