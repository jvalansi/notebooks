{
 "cells": [
  {
   "cell_type": "code",
   "execution_count": 1,
   "id": "0ce7edfd-c154-4e82-888e-ac5dc32d084d",
   "metadata": {},
   "outputs": [],
   "source": [
    "import pandas as pd"
   ]
  },
  {
   "cell_type": "code",
   "execution_count": 2,
   "id": "626e94a0-a798-46a2-99e3-b6f8102bc80c",
   "metadata": {},
   "outputs": [],
   "source": [
    "# %pip install lxml matplotlib"
   ]
  },
  {
   "cell_type": "markdown",
   "id": "809fe9c0-4e89-4fee-956a-d2e1eab0360c",
   "metadata": {
    "jp-MarkdownHeadingCollapsed": true
   },
   "source": [
    "# Religion"
   ]
  },
  {
   "cell_type": "code",
   "execution_count": 3,
   "id": "ee930677-5564-4365-a18a-607a3409339e",
   "metadata": {},
   "outputs": [],
   "source": [
    "religion_dfs = pd.read_html(\"https://en.wikipedia.org/wiki/Religions_by_country\")"
   ]
  },
  {
   "cell_type": "code",
   "execution_count": 4,
   "id": "7a4067e8-160e-40bc-b706-4f1ecb290e67",
   "metadata": {},
   "outputs": [],
   "source": [
    "relevant_dfs = []"
   ]
  },
  {
   "cell_type": "code",
   "execution_count": 5,
   "id": "53aa9516-7a77-4aa8-91c2-df6b8cd86b8b",
   "metadata": {},
   "outputs": [],
   "source": [
    "for df in religion_dfs:\n",
    "    try:\n",
    "        if df.columns[0]==('Country', 'Country'):\n",
    "            relevant_dfs += [df]\n",
    "    except ValueError:\n",
    "        continue"
   ]
  },
  {
   "cell_type": "code",
   "execution_count": 6,
   "id": "f12958ab-06ca-43bc-9690-0458cc64b822",
   "metadata": {},
   "outputs": [],
   "source": [
    "religion_df = pd.concat(relevant_dfs)"
   ]
  },
  {
   "cell_type": "code",
   "execution_count": 7,
   "id": "ec363e3c-32cc-4caa-9983-454da283235a",
   "metadata": {},
   "outputs": [],
   "source": [
    "index_col = (\"Country\",\"Country\")"
   ]
  },
  {
   "cell_type": "code",
   "execution_count": 8,
   "id": "26315dab-2d1b-4cba-85fc-427d7c32fcdd",
   "metadata": {},
   "outputs": [],
   "source": [
    "religion_df = religion_df.sort_values(index_col)"
   ]
  },
  {
   "cell_type": "code",
   "execution_count": 9,
   "id": "eb15a5c1-3373-45f2-bee9-54079b09f26f",
   "metadata": {},
   "outputs": [],
   "source": [
    "religion_df = religion_df.set_index(index_col)"
   ]
  },
  {
   "cell_type": "code",
   "execution_count": 10,
   "id": "9776617a-32fb-44e5-873b-e9ee22941dfd",
   "metadata": {},
   "outputs": [],
   "source": [
    "religion_df[(\"Muslim\",\"%\")] = pd.to_numeric(religion_df[(\"Muslim\",\"%\")], errors=\"coerce\")\n",
    "religion_df[(\"Christian\",\"%\")] = pd.to_numeric(religion_df[(\"Christian\",\"%\")], errors=\"coerce\")\n",
    "religion_df[(\"Irreligion\",\"%\")] = pd.to_numeric(religion_df[(\"Irreligion\",\"%\")], errors=\"coerce\")\n",
    "religion_df[(\"Hindu\",\"%\")] = pd.to_numeric(religion_df[(\"Hindu\",\"%\")], errors=\"coerce\")\n",
    "religion_df[(\"Pagan\",\"%\")] = pd.to_numeric(religion_df[(\"Pagan\",\"%\")], errors=\"coerce\")\n",
    "religion_df[(\"Paganism/Neo-Paganism\",\"%\")] = pd.to_numeric(religion_df[(\"Paganism/Neo-Paganism\",\"%\")], errors=\"coerce\")"
   ]
  },
  {
   "cell_type": "code",
   "execution_count": 85,
   "id": "99c5bd6d-3fdd-4e37-9e40-f547c4430bce",
   "metadata": {},
   "outputs": [],
   "source": [
    "religion_df.to_csv(\"/Users/jvalansi/Downloads/religion.tsv\", sep='\\t')"
   ]
  },
  {
   "cell_type": "markdown",
   "id": "2043a4d6-b894-474b-9787-5c1f0774bf1b",
   "metadata": {
    "jp-MarkdownHeadingCollapsed": true
   },
   "source": [
    "# GDP"
   ]
  },
  {
   "cell_type": "code",
   "execution_count": 13,
   "id": "4e962f76-f979-4c61-b622-10a4ecd7bd57",
   "metadata": {},
   "outputs": [],
   "source": [
    "gdp_dfs = pd.read_html(\"https://en.wikipedia.org/wiki/List_of_countries_by_GDP_(PPP)_per_capita\")"
   ]
  },
  {
   "cell_type": "code",
   "execution_count": 14,
   "id": "1a078508-5ec4-4509-9326-9acb9b092950",
   "metadata": {},
   "outputs": [],
   "source": [
    "gdp_df = gdp_dfs[1]"
   ]
  },
  {
   "cell_type": "code",
   "execution_count": 15,
   "id": "986119e9-684e-42a4-9564-63a8e2bf860b",
   "metadata": {},
   "outputs": [],
   "source": [
    "index_col = (\"Country/Territory\",\"Country/Territory\")"
   ]
  },
  {
   "cell_type": "code",
   "execution_count": 16,
   "id": "7ba6545c-dd23-470d-8787-22a3732b5617",
   "metadata": {},
   "outputs": [],
   "source": [
    "gdp_df[index_col] = gdp_df[index_col].str.strip(' *')"
   ]
  },
  {
   "cell_type": "code",
   "execution_count": 17,
   "id": "4bac8e59-c291-4efb-8db7-9609dffffa56",
   "metadata": {},
   "outputs": [],
   "source": [
    "gdp_df = gdp_df.sort_values(index_col)"
   ]
  },
  {
   "cell_type": "code",
   "execution_count": 18,
   "id": "f8ae77b8-39a2-4d69-b58e-e608e6aa8281",
   "metadata": {},
   "outputs": [],
   "source": [
    "gdp_df = gdp_df.set_index(index_col)"
   ]
  },
  {
   "cell_type": "code",
   "execution_count": 19,
   "id": "f3f7ab45-0e37-483e-81bf-a252625e2e6c",
   "metadata": {},
   "outputs": [],
   "source": [
    "gdp_df[(\"World Bank[7]\",\"Estimate\")] = pd.to_numeric(gdp_df[(\"World Bank[7]\",\"Estimate\")], errors=\"coerce\")"
   ]
  },
  {
   "cell_type": "markdown",
   "id": "537fe49d-3228-4cf0-9928-8a36eb0568c6",
   "metadata": {
    "jp-MarkdownHeadingCollapsed": true
   },
   "source": [
    "# Homicide"
   ]
  },
  {
   "cell_type": "code",
   "execution_count": 20,
   "id": "df99786a-158b-4e23-9ae2-0a258377bde6",
   "metadata": {},
   "outputs": [],
   "source": [
    "homicide_dfs = pd.read_html(\"https://en.wikipedia.org/wiki/List_of_countries_by_intentional_homicide_rate\")"
   ]
  },
  {
   "cell_type": "code",
   "execution_count": 21,
   "id": "13acfeb0-4375-4857-ae16-e1296bcd6479",
   "metadata": {},
   "outputs": [],
   "source": [
    "homicide_df = homicide_dfs[2]"
   ]
  },
  {
   "cell_type": "code",
   "execution_count": 22,
   "id": "cada8825-56f0-4f8e-b5b6-3d17dad982f7",
   "metadata": {},
   "outputs": [],
   "source": [
    "index_col = \"Location\""
   ]
  },
  {
   "cell_type": "code",
   "execution_count": 23,
   "id": "4ba8fd90-5e5e-45aa-ac3e-328dcd635ded",
   "metadata": {},
   "outputs": [],
   "source": [
    "homicide_df[index_col] = homicide_df[index_col].str.strip(' *')"
   ]
  },
  {
   "cell_type": "code",
   "execution_count": 24,
   "id": "f3a81745-7256-4454-80b3-7a9eb27cd3db",
   "metadata": {},
   "outputs": [],
   "source": [
    "homicide_df = homicide_df.set_index(index_col)"
   ]
  },
  {
   "cell_type": "code",
   "execution_count": null,
   "id": "b6d81686-0fed-4aaa-86a4-a92af3a88465",
   "metadata": {},
   "outputs": [],
   "source": []
  },
  {
   "cell_type": "markdown",
   "id": "92c320dc-9dc4-4bde-a9c0-542d36aebeec",
   "metadata": {
    "jp-MarkdownHeadingCollapsed": true
   },
   "source": [
    "# Corruption"
   ]
  },
  {
   "cell_type": "code",
   "execution_count": 26,
   "id": "402986c1-46a9-4a6f-839b-245ff41fa2b5",
   "metadata": {},
   "outputs": [],
   "source": [
    "corruption_dfs = pd.read_html(\"https://en.wikipedia.org/wiki/Corruption_Perceptions_Index\")"
   ]
  },
  {
   "cell_type": "code",
   "execution_count": 27,
   "id": "39138c19-dc0a-457b-8b2b-f379e4eb7a6d",
   "metadata": {},
   "outputs": [],
   "source": [
    "corruption_df = corruption_dfs[4]"
   ]
  },
  {
   "cell_type": "code",
   "execution_count": 30,
   "id": "baf1cca7-7c2f-44ff-ab4c-55bea075835f",
   "metadata": {},
   "outputs": [],
   "source": [
    "index_col = corruption_df.columns[1]"
   ]
  },
  {
   "cell_type": "code",
   "execution_count": 32,
   "id": "a9eb5348-4712-4016-a1dd-2fd1e98cac48",
   "metadata": {},
   "outputs": [],
   "source": [
    "corruption_df = corruption_df.sort_values(index_col)"
   ]
  },
  {
   "cell_type": "code",
   "execution_count": 33,
   "id": "7f02ed90-f593-42f7-8c29-df4bacceae8b",
   "metadata": {},
   "outputs": [],
   "source": [
    "corruption_df = corruption_df.set_index(index_col)"
   ]
  },
  {
   "cell_type": "code",
   "execution_count": 57,
   "id": "7fb6e0a2-f0c4-484f-84b9-1d1996d663c2",
   "metadata": {},
   "outputs": [],
   "source": [
    "corruption_df[( '2023[5]', 'Score')] = pd.to_numeric(corruption_df[('2023[5]','Score')], errors=\"coerce\")"
   ]
  },
  {
   "cell_type": "markdown",
   "id": "60e272da-f39a-4598-99a8-7b2997bc7461",
   "metadata": {},
   "source": [
    "# Combine"
   ]
  },
  {
   "cell_type": "code",
   "execution_count": 35,
   "id": "138dba63-37c4-47a1-8f33-7a735eca1960",
   "metadata": {},
   "outputs": [],
   "source": [
    "df = religion_df"
   ]
  },
  {
   "cell_type": "code",
   "execution_count": 36,
   "id": "5ad227f2-caf0-418f-bac6-5298bd9ddcf0",
   "metadata": {},
   "outputs": [],
   "source": [
    "df['gdp'] = gdp_df[(\"World Bank[7]\",\"Estimate\")]"
   ]
  },
  {
   "cell_type": "code",
   "execution_count": 37,
   "id": "f61511e2-fd67-4691-985d-b223881c9350",
   "metadata": {},
   "outputs": [],
   "source": [
    "df['homicide'] = homicide_df[\"Rate\"]"
   ]
  },
  {
   "cell_type": "code",
   "execution_count": 58,
   "id": "b8928242-dd89-40bc-b580-1d70bfe9fbca",
   "metadata": {},
   "outputs": [
    {
     "name": "stderr",
     "output_type": "stream",
     "text": [
      "/var/folders/9p/k_4f02t961360ccdlst6p_fc0000gn/T/ipykernel_42233/3175976103.py:1: SettingWithCopyWarning: \n",
      "A value is trying to be set on a copy of a slice from a DataFrame.\n",
      "Try using .loc[row_indexer,col_indexer] = value instead\n",
      "\n",
      "See the caveats in the documentation: https://pandas.pydata.org/pandas-docs/stable/user_guide/indexing.html#returning-a-view-versus-a-copy\n",
      "  df['corruption'] = corruption_df[('2023[5]','Score')]\n"
     ]
    }
   ],
   "source": [
    "df['corruption'] = corruption_df[('2023[5]','Score')]"
   ]
  },
  {
   "cell_type": "code",
   "execution_count": 225,
   "id": "79d70f66-811c-4233-b458-fe51b3d7b7f2",
   "metadata": {},
   "outputs": [],
   "source": [
    "# df.dropna(subset=[('gdp','')])"
   ]
  },
  {
   "cell_type": "code",
   "execution_count": 226,
   "id": "31a1892d-ca4b-4849-8922-f92aa8993ba5",
   "metadata": {},
   "outputs": [],
   "source": [
    "# df.dropna(subset=[('homicide','')])"
   ]
  },
  {
   "cell_type": "code",
   "execution_count": 39,
   "id": "78a98a24-c118-478c-804d-c5f197796ea0",
   "metadata": {},
   "outputs": [],
   "source": [
    "df = df.iloc[1:]"
   ]
  },
  {
   "cell_type": "code",
   "execution_count": 40,
   "id": "cfda158a-92dd-4f1c-a541-19abeedc6212",
   "metadata": {},
   "outputs": [
    {
     "data": {
      "text/html": [
       "<div>\n",
       "<style scoped>\n",
       "    .dataframe tbody tr th:only-of-type {\n",
       "        vertical-align: middle;\n",
       "    }\n",
       "\n",
       "    .dataframe tbody tr th {\n",
       "        vertical-align: top;\n",
       "    }\n",
       "\n",
       "    .dataframe thead tr th {\n",
       "        text-align: left;\n",
       "    }\n",
       "</style>\n",
       "<table border=\"1\" class=\"dataframe\">\n",
       "  <thead>\n",
       "    <tr>\n",
       "      <th></th>\n",
       "      <th></th>\n",
       "      <th>Muslim</th>\n",
       "      <th>homicide</th>\n",
       "    </tr>\n",
       "    <tr>\n",
       "      <th></th>\n",
       "      <th></th>\n",
       "      <th>%</th>\n",
       "      <th></th>\n",
       "    </tr>\n",
       "  </thead>\n",
       "  <tbody>\n",
       "    <tr>\n",
       "      <th>Muslim</th>\n",
       "      <th>%</th>\n",
       "      <td>1.0000</td>\n",
       "      <td>-0.2613</td>\n",
       "    </tr>\n",
       "    <tr>\n",
       "      <th>homicide</th>\n",
       "      <th></th>\n",
       "      <td>-0.2613</td>\n",
       "      <td>1.0000</td>\n",
       "    </tr>\n",
       "  </tbody>\n",
       "</table>\n",
       "</div>"
      ],
      "text/plain": [
       "            Muslim homicide\n",
       "                 %         \n",
       "Muslim   %  1.0000  -0.2613\n",
       "homicide   -0.2613   1.0000"
      ]
     },
     "execution_count": 40,
     "metadata": {},
     "output_type": "execute_result"
    }
   ],
   "source": [
    "df[[(\"Muslim\",\"%\"),(\"homicide\",\"\")]].corr()"
   ]
  },
  {
   "cell_type": "code",
   "execution_count": 41,
   "id": "da1ea7b0-dca5-4bc1-9033-c473e96bc3c6",
   "metadata": {},
   "outputs": [
    {
     "data": {
      "text/plain": [
       "<Axes: xlabel='(Muslim, %)', ylabel='(homicide, )'>"
      ]
     },
     "execution_count": 41,
     "metadata": {},
     "output_type": "execute_result"
    },
    {
     "data": {
      "image/png": "[encoded data removed]",
      "text/plain": [
       "<Figure size 640x480 with 1 Axes>"
      ]
     },
     "metadata": {},
     "output_type": "display_data"
    }
   ],
   "source": [
    "df[[(\"Muslim\",\"%\"),(\"homicide\",\"\")]].plot.scatter(x=(\"Muslim\",\"%\"),y=(\"homicide\",\"\"))"
   ]
  },
  {
   "cell_type": "code",
   "execution_count": 42,
   "id": "46892e61-f9ce-4077-8597-536e793f0561",
   "metadata": {},
   "outputs": [
    {
     "data": {
      "text/html": [
       "<div>\n",
       "<style scoped>\n",
       "    .dataframe tbody tr th:only-of-type {\n",
       "        vertical-align: middle;\n",
       "    }\n",
       "\n",
       "    .dataframe tbody tr th {\n",
       "        vertical-align: top;\n",
       "    }\n",
       "\n",
       "    .dataframe thead tr th {\n",
       "        text-align: left;\n",
       "    }\n",
       "</style>\n",
       "<table border=\"1\" class=\"dataframe\">\n",
       "  <thead>\n",
       "    <tr>\n",
       "      <th></th>\n",
       "      <th></th>\n",
       "      <th>gdp</th>\n",
       "      <th>homicide</th>\n",
       "    </tr>\n",
       "    <tr>\n",
       "      <th></th>\n",
       "      <th></th>\n",
       "      <th></th>\n",
       "      <th></th>\n",
       "    </tr>\n",
       "  </thead>\n",
       "  <tbody>\n",
       "    <tr>\n",
       "      <th>gdp</th>\n",
       "      <th></th>\n",
       "      <td>1.000000</td>\n",
       "      <td>-0.236042</td>\n",
       "    </tr>\n",
       "    <tr>\n",
       "      <th>homicide</th>\n",
       "      <th></th>\n",
       "      <td>-0.236042</td>\n",
       "      <td>1.000000</td>\n",
       "    </tr>\n",
       "  </tbody>\n",
       "</table>\n",
       "</div>"
      ],
      "text/plain": [
       "                gdp  homicide\n",
       "                             \n",
       "gdp        1.000000 -0.236042\n",
       "homicide  -0.236042  1.000000"
      ]
     },
     "execution_count": 42,
     "metadata": {},
     "output_type": "execute_result"
    }
   ],
   "source": [
    "df[[(\"gdp\",\"\"),(\"homicide\",\"\")]].corr()"
   ]
  },
  {
   "cell_type": "code",
   "execution_count": 43,
   "id": "a0368297-851f-47f7-8bfd-f97650fbee20",
   "metadata": {},
   "outputs": [
    {
     "data": {
      "text/html": [
       "<div>\n",
       "<style scoped>\n",
       "    .dataframe tbody tr th:only-of-type {\n",
       "        vertical-align: middle;\n",
       "    }\n",
       "\n",
       "    .dataframe tbody tr th {\n",
       "        vertical-align: top;\n",
       "    }\n",
       "\n",
       "    .dataframe thead tr th {\n",
       "        text-align: left;\n",
       "    }\n",
       "</style>\n",
       "<table border=\"1\" class=\"dataframe\">\n",
       "  <thead>\n",
       "    <tr>\n",
       "      <th></th>\n",
       "      <th></th>\n",
       "      <th>Christian</th>\n",
       "      <th>homicide</th>\n",
       "    </tr>\n",
       "    <tr>\n",
       "      <th></th>\n",
       "      <th></th>\n",
       "      <th>%</th>\n",
       "      <th></th>\n",
       "    </tr>\n",
       "  </thead>\n",
       "  <tbody>\n",
       "    <tr>\n",
       "      <th>Christian</th>\n",
       "      <th>%</th>\n",
       "      <td>1.000000</td>\n",
       "      <td>0.341271</td>\n",
       "    </tr>\n",
       "    <tr>\n",
       "      <th>homicide</th>\n",
       "      <th></th>\n",
       "      <td>0.341271</td>\n",
       "      <td>1.000000</td>\n",
       "    </tr>\n",
       "  </tbody>\n",
       "</table>\n",
       "</div>"
      ],
      "text/plain": [
       "            Christian  homicide\n",
       "                    %          \n",
       "Christian %  1.000000  0.341271\n",
       "homicide     0.341271  1.000000"
      ]
     },
     "execution_count": 43,
     "metadata": {},
     "output_type": "execute_result"
    }
   ],
   "source": [
    "df[[(\"Christian\",\"%\"),(\"homicide\",\"\")]].corr()"
   ]
  },
  {
   "cell_type": "code",
   "execution_count": 44,
   "id": "2f52ed40-a1c7-4b21-a088-4597f685c844",
   "metadata": {},
   "outputs": [
    {
     "data": {
      "text/plain": [
       "<Axes: xlabel='(Christian, %)', ylabel='(homicide, )'>"
      ]
     },
     "execution_count": 44,
     "metadata": {},
     "output_type": "execute_result"
    },
    {
     "data": {
      "image/png": "[encoded data removed]",
      "text/plain": [
       "<Figure size 640x480 with 1 Axes>"
      ]
     },
     "metadata": {},
     "output_type": "display_data"
    }
   ],
   "source": [
    "df[[(\"Christian\",\"%\"),(\"homicide\",\"\")]].plot.scatter(x=(\"Christian\",\"%\"),y=(\"homicide\",\"\"))"
   ]
  },
  {
   "cell_type": "code",
   "execution_count": 45,
   "id": "a3ba227e-0f30-42a7-8076-92064283bd05",
   "metadata": {},
   "outputs": [
    {
     "data": {
      "text/html": [
       "<div>\n",
       "<style scoped>\n",
       "    .dataframe tbody tr th:only-of-type {\n",
       "        vertical-align: middle;\n",
       "    }\n",
       "\n",
       "    .dataframe tbody tr th {\n",
       "        vertical-align: top;\n",
       "    }\n",
       "\n",
       "    .dataframe thead tr th {\n",
       "        text-align: left;\n",
       "    }\n",
       "</style>\n",
       "<table border=\"1\" class=\"dataframe\">\n",
       "  <thead>\n",
       "    <tr>\n",
       "      <th></th>\n",
       "      <th></th>\n",
       "      <th>Hindu</th>\n",
       "      <th>homicide</th>\n",
       "    </tr>\n",
       "    <tr>\n",
       "      <th></th>\n",
       "      <th></th>\n",
       "      <th>%</th>\n",
       "      <th></th>\n",
       "    </tr>\n",
       "  </thead>\n",
       "  <tbody>\n",
       "    <tr>\n",
       "      <th>Hindu</th>\n",
       "      <th>%</th>\n",
       "      <td>1.000000</td>\n",
       "      <td>-0.024014</td>\n",
       "    </tr>\n",
       "    <tr>\n",
       "      <th>homicide</th>\n",
       "      <th></th>\n",
       "      <td>-0.024014</td>\n",
       "      <td>1.000000</td>\n",
       "    </tr>\n",
       "  </tbody>\n",
       "</table>\n",
       "</div>"
      ],
      "text/plain": [
       "               Hindu  homicide\n",
       "                   %          \n",
       "Hindu    %  1.000000 -0.024014\n",
       "homicide   -0.024014  1.000000"
      ]
     },
     "execution_count": 45,
     "metadata": {},
     "output_type": "execute_result"
    }
   ],
   "source": [
    "df[[(\"Hindu\",\"%\"),(\"homicide\",\"\")]].corr()"
   ]
  },
  {
   "cell_type": "code",
   "execution_count": 46,
   "id": "d7ed7bd5-e037-4fc4-afc1-a4d9a4324786",
   "metadata": {},
   "outputs": [
    {
     "data": {
      "text/plain": [
       "<Axes: xlabel='(Hindu, %)', ylabel='(homicide, )'>"
      ]
     },
     "execution_count": 46,
     "metadata": {},
     "output_type": "execute_result"
    },
    {
     "data": {
      "image/png": "[encoded data removed]",
      "text/plain": [
       "<Figure size 640x480 with 1 Axes>"
      ]
     },
     "metadata": {},
     "output_type": "display_data"
    }
   ],
   "source": [
    "df[[(\"Hindu\",\"%\"),(\"homicide\",\"\")]].plot.scatter(x=(\"Hindu\",\"%\"),y=(\"homicide\",\"\"))"
   ]
  },
  {
   "cell_type": "code",
   "execution_count": 47,
   "id": "72a5bf40-999b-4114-bad4-edcc9e5a8fd9",
   "metadata": {},
   "outputs": [
    {
     "data": {
      "text/html": [
       "<div>\n",
       "<style scoped>\n",
       "    .dataframe tbody tr th:only-of-type {\n",
       "        vertical-align: middle;\n",
       "    }\n",
       "\n",
       "    .dataframe tbody tr th {\n",
       "        vertical-align: top;\n",
       "    }\n",
       "\n",
       "    .dataframe thead tr th {\n",
       "        text-align: left;\n",
       "    }\n",
       "</style>\n",
       "<table border=\"1\" class=\"dataframe\">\n",
       "  <thead>\n",
       "    <tr>\n",
       "      <th></th>\n",
       "      <th></th>\n",
       "      <th>Irreligion</th>\n",
       "      <th>homicide</th>\n",
       "    </tr>\n",
       "    <tr>\n",
       "      <th></th>\n",
       "      <th></th>\n",
       "      <th>%</th>\n",
       "      <th></th>\n",
       "    </tr>\n",
       "  </thead>\n",
       "  <tbody>\n",
       "    <tr>\n",
       "      <th>Irreligion</th>\n",
       "      <th>%</th>\n",
       "      <td>1.000000</td>\n",
       "      <td>-0.096189</td>\n",
       "    </tr>\n",
       "    <tr>\n",
       "      <th>homicide</th>\n",
       "      <th></th>\n",
       "      <td>-0.096189</td>\n",
       "      <td>1.000000</td>\n",
       "    </tr>\n",
       "  </tbody>\n",
       "</table>\n",
       "</div>"
      ],
      "text/plain": [
       "             Irreligion  homicide\n",
       "                      %          \n",
       "Irreligion %   1.000000 -0.096189\n",
       "homicide      -0.096189  1.000000"
      ]
     },
     "execution_count": 47,
     "metadata": {},
     "output_type": "execute_result"
    }
   ],
   "source": [
    "df[[(\"Irreligion\",\"%\"),(\"homicide\",\"\")]].corr()"
   ]
  },
  {
   "cell_type": "code",
   "execution_count": 48,
   "id": "396302a0-21b8-422a-a8af-42e3a80c4996",
   "metadata": {},
   "outputs": [
    {
     "data": {
      "text/plain": [
       "<Axes: xlabel='(Irreligion, %)', ylabel='(homicide, )'>"
      ]
     },
     "execution_count": 48,
     "metadata": {},
     "output_type": "execute_result"
    },
    {
     "data": {
      "image/png": "[encoded data removed]",
      "text/plain": [
       "<Figure size 640x480 with 1 Axes>"
      ]
     },
     "metadata": {},
     "output_type": "display_data"
    }
   ],
   "source": [
    "df[[(\"Irreligion\",\"%\"),(\"homicide\",\"\")]].plot.scatter(x=(\"Irreligion\",\"%\"),y=(\"homicide\",\"\"))"
   ]
  },
  {
   "cell_type": "code",
   "execution_count": 49,
   "id": "e09ac90d-ae3f-41a4-a70b-a81eb644ce54",
   "metadata": {},
   "outputs": [
    {
     "data": {
      "text/plain": [
       "<Axes: xlabel='(gdp, )', ylabel='(homicide, )'>"
      ]
     },
     "execution_count": 49,
     "metadata": {},
     "output_type": "execute_result"
    },
    {
     "data": {
      "image/png": "[encoded data removed]",
      "text/plain": [
       "<Figure size 640x480 with 1 Axes>"
      ]
     },
     "metadata": {},
     "output_type": "display_data"
    }
   ],
   "source": [
    "df[[(\"gdp\",\"\"),(\"homicide\",\"\")]].plot.scatter(x=(\"gdp\",\"\"),y=(\"homicide\",\"\"))"
   ]
  },
  {
   "cell_type": "code",
   "execution_count": 60,
   "id": "4e22d175-cd01-4807-9332-6428c16fdf06",
   "metadata": {},
   "outputs": [
    {
     "data": {
      "text/html": [
       "<div>\n",
       "<style scoped>\n",
       "    .dataframe tbody tr th:only-of-type {\n",
       "        vertical-align: middle;\n",
       "    }\n",
       "\n",
       "    .dataframe tbody tr th {\n",
       "        vertical-align: top;\n",
       "    }\n",
       "\n",
       "    .dataframe thead tr th {\n",
       "        text-align: left;\n",
       "    }\n",
       "</style>\n",
       "<table border=\"1\" class=\"dataframe\">\n",
       "  <thead>\n",
       "    <tr>\n",
       "      <th></th>\n",
       "      <th></th>\n",
       "      <th>Muslim</th>\n",
       "      <th>corruption</th>\n",
       "    </tr>\n",
       "    <tr>\n",
       "      <th></th>\n",
       "      <th></th>\n",
       "      <th>%</th>\n",
       "      <th></th>\n",
       "    </tr>\n",
       "  </thead>\n",
       "  <tbody>\n",
       "    <tr>\n",
       "      <th>Muslim</th>\n",
       "      <th>%</th>\n",
       "      <td>1.000000</td>\n",
       "      <td>-0.396806</td>\n",
       "    </tr>\n",
       "    <tr>\n",
       "      <th>corruption</th>\n",
       "      <th></th>\n",
       "      <td>-0.396806</td>\n",
       "      <td>1.000000</td>\n",
       "    </tr>\n",
       "  </tbody>\n",
       "</table>\n",
       "</div>"
      ],
      "text/plain": [
       "                Muslim corruption\n",
       "                     %           \n",
       "Muslim     %  1.000000  -0.396806\n",
       "corruption   -0.396806   1.000000"
      ]
     },
     "execution_count": 60,
     "metadata": {},
     "output_type": "execute_result"
    }
   ],
   "source": [
    "df[[(\"Muslim\",\"%\"),(\"corruption\",\"\")]].corr()"
   ]
  },
  {
   "cell_type": "code",
   "execution_count": 62,
   "id": "59d99679-c6d7-45ae-9e45-907cb8609d8e",
   "metadata": {},
   "outputs": [
    {
     "data": {
      "text/plain": [
       "<Axes: xlabel='(Muslim, %)', ylabel='(corruption, )'>"
      ]
     },
     "execution_count": 62,
     "metadata": {},
     "output_type": "execute_result"
    },
    {
     "data": {
      "image/png": "[encoded data removed]",
      "text/plain": [
       "<Figure size 640x480 with 1 Axes>"
      ]
     },
     "metadata": {},
     "output_type": "display_data"
    }
   ],
   "source": [
    "df[[(\"Muslim\",\"%\"),(\"corruption\",\"\")]].plot.scatter(x=(\"Muslim\",\"%\"),y=(\"corruption\",\"\"))"
   ]
  },
  {
   "cell_type": "code",
   "execution_count": 63,
   "id": "2946845a-d0cc-4e7b-ae2e-f675a622534f",
   "metadata": {},
   "outputs": [
    {
     "data": {
      "text/html": [
       "<div>\n",
       "<style scoped>\n",
       "    .dataframe tbody tr th:only-of-type {\n",
       "        vertical-align: middle;\n",
       "    }\n",
       "\n",
       "    .dataframe tbody tr th {\n",
       "        vertical-align: top;\n",
       "    }\n",
       "\n",
       "    .dataframe thead tr th {\n",
       "        text-align: left;\n",
       "    }\n",
       "</style>\n",
       "<table border=\"1\" class=\"dataframe\">\n",
       "  <thead>\n",
       "    <tr>\n",
       "      <th></th>\n",
       "      <th></th>\n",
       "      <th>Christian</th>\n",
       "      <th>corruption</th>\n",
       "    </tr>\n",
       "    <tr>\n",
       "      <th></th>\n",
       "      <th></th>\n",
       "      <th>%</th>\n",
       "      <th></th>\n",
       "    </tr>\n",
       "  </thead>\n",
       "  <tbody>\n",
       "    <tr>\n",
       "      <th>Christian</th>\n",
       "      <th>%</th>\n",
       "      <td>1.000000</td>\n",
       "      <td>0.174124</td>\n",
       "    </tr>\n",
       "    <tr>\n",
       "      <th>corruption</th>\n",
       "      <th></th>\n",
       "      <td>0.174124</td>\n",
       "      <td>1.000000</td>\n",
       "    </tr>\n",
       "  </tbody>\n",
       "</table>\n",
       "</div>"
      ],
      "text/plain": [
       "             Christian corruption\n",
       "                     %           \n",
       "Christian  %  1.000000   0.174124\n",
       "corruption    0.174124   1.000000"
      ]
     },
     "execution_count": 63,
     "metadata": {},
     "output_type": "execute_result"
    }
   ],
   "source": [
    "df[[(\"Christian\",\"%\"),(\"corruption\",\"\")]].corr()"
   ]
  },
  {
   "cell_type": "code",
   "execution_count": 77,
   "id": "a8b355f6-34b3-4bb6-81e1-5e0011e74a9a",
   "metadata": {},
   "outputs": [
    {
     "data": {
      "text/plain": [
       "<Axes: xlabel='(Christian, %)', ylabel='(corruption, )'>"
      ]
     },
     "execution_count": 77,
     "metadata": {},
     "output_type": "execute_result"
    },
    {
     "data": {
      "image/png": "[encoded data removed]",
      "text/plain": [
       "<Figure size 640x480 with 1 Axes>"
      ]
     },
     "metadata": {},
     "output_type": "display_data"
    }
   ],
   "source": [
    "df[[(\"Christian\",\"%\"),(\"corruption\",\"\")]].plot.scatter(x=(\"Christian\",\"%\"),y=(\"corruption\",\"\"))"
   ]
  },
  {
   "cell_type": "code",
   "execution_count": 78,
   "id": "a4fd6277-5cac-48ad-b49e-5f667e4ce866",
   "metadata": {},
   "outputs": [
    {
     "data": {
      "text/html": [
       "<div>\n",
       "<style scoped>\n",
       "    .dataframe tbody tr th:only-of-type {\n",
       "        vertical-align: middle;\n",
       "    }\n",
       "\n",
       "    .dataframe tbody tr th {\n",
       "        vertical-align: top;\n",
       "    }\n",
       "\n",
       "    .dataframe thead tr th {\n",
       "        text-align: left;\n",
       "    }\n",
       "</style>\n",
       "<table border=\"1\" class=\"dataframe\">\n",
       "  <thead>\n",
       "    <tr>\n",
       "      <th></th>\n",
       "      <th></th>\n",
       "      <th>gdp</th>\n",
       "      <th>corruption</th>\n",
       "    </tr>\n",
       "    <tr>\n",
       "      <th></th>\n",
       "      <th></th>\n",
       "      <th></th>\n",
       "      <th></th>\n",
       "    </tr>\n",
       "  </thead>\n",
       "  <tbody>\n",
       "    <tr>\n",
       "      <th>gdp</th>\n",
       "      <th></th>\n",
       "      <td>1.000000</td>\n",
       "      <td>0.723425</td>\n",
       "    </tr>\n",
       "    <tr>\n",
       "      <th>corruption</th>\n",
       "      <th></th>\n",
       "      <td>0.723425</td>\n",
       "      <td>1.000000</td>\n",
       "    </tr>\n",
       "  </tbody>\n",
       "</table>\n",
       "</div>"
      ],
      "text/plain": [
       "                  gdp corruption\n",
       "                                \n",
       "gdp          1.000000   0.723425\n",
       "corruption   0.723425   1.000000"
      ]
     },
     "execution_count": 78,
     "metadata": {},
     "output_type": "execute_result"
    }
   ],
   "source": [
    "df[[(\"gdp\",\"\"),(\"corruption\",\"\")]].corr()"
   ]
  },
  {
   "cell_type": "code",
   "execution_count": 79,
   "id": "6c8e40d1-e194-46cb-9daf-ed5ec2628733",
   "metadata": {},
   "outputs": [
    {
     "data": {
      "text/plain": [
       "<Axes: xlabel='(gdp, )', ylabel='(corruption, )'>"
      ]
     },
     "execution_count": 79,
     "metadata": {},
     "output_type": "execute_result"
    },
    {
     "data": {
      "image/png": "[encoded data removed]",
      "text/plain": [
       "<Figure size 640x480 with 1 Axes>"
      ]
     },
     "metadata": {},
     "output_type": "display_data"
    }
   ],
   "source": [
    "df[[(\"gdp\",\"\"),(\"corruption\",\"\")]].plot.scatter(x=(\"gdp\",\"\"),y=(\"corruption\",\"\"))"
   ]
  },
  {
   "cell_type": "code",
   "execution_count": 71,
   "id": "91db0f3e-2d81-477d-90cc-f0da87a533fe",
   "metadata": {},
   "outputs": [
    {
     "name": "stderr",
     "output_type": "stream",
     "text": [
      "/var/folders/9p/k_4f02t961360ccdlst6p_fc0000gn/T/ipykernel_42233/3246505252.py:1: SettingWithCopyWarning: \n",
      "A value is trying to be set on a copy of a slice from a DataFrame.\n",
      "Try using .loc[row_indexer,col_indexer] = value instead\n",
      "\n",
      "See the caveats in the documentation: https://pandas.pydata.org/pandas-docs/stable/user_guide/indexing.html#returning-a-view-versus-a-copy\n",
      "  df[(\"trust_factor\",\"\")] = 100/df[(\"corruption\",\"\")]\n"
     ]
    }
   ],
   "source": [
    "df[(\"trust_factor\",\"\")] = 100/df[(\"corruption\",\"\")]"
   ]
  },
  {
   "cell_type": "code",
   "execution_count": 73,
   "id": "1b2bab10-bae0-4719-b361-1a450d4090d3",
   "metadata": {},
   "outputs": [
    {
     "name": "stderr",
     "output_type": "stream",
     "text": [
      "/var/folders/9p/k_4f02t961360ccdlst6p_fc0000gn/T/ipykernel_42233/3273474851.py:1: SettingWithCopyWarning: \n",
      "A value is trying to be set on a copy of a slice from a DataFrame.\n",
      "Try using .loc[row_indexer,col_indexer] = value instead\n",
      "\n",
      "See the caveats in the documentation: https://pandas.pydata.org/pandas-docs/stable/user_guide/indexing.html#returning-a-view-versus-a-copy\n",
      "  df[(\"normalized_homicide\",\"\")] = df[(\"homicide\",\"\")]*df[(\"trust_factor\",\"\")]\n"
     ]
    }
   ],
   "source": [
    "df[(\"normalized_homicide\",\"\")] = df[(\"homicide\",\"\")]*df[(\"trust_factor\",\"\")]"
   ]
  },
  {
   "cell_type": "code",
   "execution_count": 74,
   "id": "889f0034-0b91-42e8-9ddc-c83ddf328821",
   "metadata": {},
   "outputs": [
    {
     "data": {
      "text/html": [
       "<div>\n",
       "<style scoped>\n",
       "    .dataframe tbody tr th:only-of-type {\n",
       "        vertical-align: middle;\n",
       "    }\n",
       "\n",
       "    .dataframe tbody tr th {\n",
       "        vertical-align: top;\n",
       "    }\n",
       "\n",
       "    .dataframe thead tr th {\n",
       "        text-align: left;\n",
       "    }\n",
       "</style>\n",
       "<table border=\"1\" class=\"dataframe\">\n",
       "  <thead>\n",
       "    <tr>\n",
       "      <th></th>\n",
       "      <th></th>\n",
       "      <th>Muslim</th>\n",
       "      <th>normalized_homicide</th>\n",
       "    </tr>\n",
       "    <tr>\n",
       "      <th></th>\n",
       "      <th></th>\n",
       "      <th>%</th>\n",
       "      <th></th>\n",
       "    </tr>\n",
       "  </thead>\n",
       "  <tbody>\n",
       "    <tr>\n",
       "      <th>Muslim</th>\n",
       "      <th>%</th>\n",
       "      <td>1.000000</td>\n",
       "      <td>-0.223702</td>\n",
       "    </tr>\n",
       "    <tr>\n",
       "      <th>normalized_homicide</th>\n",
       "      <th></th>\n",
       "      <td>-0.223702</td>\n",
       "      <td>1.000000</td>\n",
       "    </tr>\n",
       "  </tbody>\n",
       "</table>\n",
       "</div>"
      ],
      "text/plain": [
       "                         Muslim normalized_homicide\n",
       "                              %                    \n",
       "Muslim              %  1.000000           -0.223702\n",
       "normalized_homicide   -0.223702            1.000000"
      ]
     },
     "execution_count": 74,
     "metadata": {},
     "output_type": "execute_result"
    }
   ],
   "source": [
    "df[[(\"Muslim\",\"%\"),(\"normalized_homicide\",\"\")]].corr()"
   ]
  },
  {
   "cell_type": "code",
   "execution_count": 76,
   "id": "318f84c3-95f3-4b52-8087-b1c8169df22e",
   "metadata": {},
   "outputs": [
    {
     "data": {
      "text/plain": [
       "<Axes: xlabel='(Muslim, %)', ylabel='(normalized_homicide, )'>"
      ]
     },
     "execution_count": 76,
     "metadata": {},
     "output_type": "execute_result"
    },
    {
     "data": {
      "image/png": "[encoded data removed]",
      "text/plain": [
       "<Figure size 640x480 with 1 Axes>"
      ]
     },
     "metadata": {},
     "output_type": "display_data"
    }
   ],
   "source": [
    "df[[(\"Muslim\",\"%\"),(\"normalized_homicide\",\"\")]].plot.scatter(x=(\"Muslim\",\"%\"),y=(\"normalized_homicide\",\"\"))"
   ]
  },
  {
   "cell_type": "code",
   "execution_count": null,
   "id": "95c01d7f-2d1a-4d13-8e3e-588da4c85361",
   "metadata": {},
   "outputs": [],
   "source": []
  }
 ],
 "metadata": {
  "kernelspec": {
   "display_name": "Python 3 (ipykernel)",
   "language": "python",
   "name": "python3"
  },
  "language_info": {
   "codemirror_mode": {
    "name": "ipython",
    "version": 3
   },
   "file_extension": ".py",
   "mimetype": "text/x-python",
   "name": "python",
   "nbconvert_exporter": "python",
   "pygments_lexer": "ipython3",
   "version": "3.10.13"
  }
 },
 "nbformat": 4,
 "nbformat_minor": 5
}
