{
 "cells": [
  {
   "cell_type": "code",
   "execution_count": 1,
   "id": "0ce7edfd-c154-4e82-888e-ac5dc32d084d",
   "metadata": {},
   "outputs": [],
   "source": [
    "import pandas as pd"
   ]
  },
  {
   "cell_type": "code",
   "execution_count": 2,
   "id": "ee930677-5564-4365-a18a-607a3409339e",
   "metadata": {},
   "outputs": [],
   "source": [
    "religion_dfs = pd.read_html(\"https://en.wikipedia.org/wiki/Religions_by_country\")"
   ]
  },
  {
   "cell_type": "code",
   "execution_count": 125,
   "id": "7a4067e8-160e-40bc-b706-4f1ecb290e67",
   "metadata": {},
   "outputs": [],
   "source": [
    "relevant_dfs = []"
   ]
  },
  {
   "cell_type": "code",
   "execution_count": 126,
   "id": "53aa9516-7a77-4aa8-91c2-df6b8cd86b8b",
   "metadata": {},
   "outputs": [],
   "source": [
    "for df in religion_dfs:\n",
    "    try:\n",
    "        if df.columns[0]==('Country', 'Country'):\n",
    "            relevant_dfs += [df]\n",
    "    except ValueError:\n",
    "        continue"
   ]
  },
  {
   "cell_type": "code",
   "execution_count": 127,
   "id": "f12958ab-06ca-43bc-9690-0458cc64b822",
   "metadata": {},
   "outputs": [],
   "source": [
    "religion_df = pd.concat(relevant_dfs)"
   ]
  },
  {
   "cell_type": "code",
   "execution_count": 128,
   "id": "ec363e3c-32cc-4caa-9983-454da283235a",
   "metadata": {},
   "outputs": [],
   "source": [
    "index_col = (\"Country\",\"Country\")"
   ]
  },
  {
   "cell_type": "code",
   "execution_count": 129,
   "id": "26315dab-2d1b-4cba-85fc-427d7c32fcdd",
   "metadata": {},
   "outputs": [],
   "source": [
    "religion_df = religion_df.sort_values(index_col)"
   ]
  },
  {
   "cell_type": "code",
   "execution_count": 130,
   "id": "eb15a5c1-3373-45f2-bee9-54079b09f26f",
   "metadata": {},
   "outputs": [],
   "source": [
    "religion_df = religion_df.set_index(index_col)"
   ]
  },
  {
   "cell_type": "code",
   "execution_count": 131,
   "id": "9817cf20-31a6-443d-8d0b-e86163c96ab2",
   "metadata": {},
   "outputs": [
    {
     "data": {
      "text/html": [
       "<div>\n",
       "<style scoped>\n",
       "    .dataframe tbody tr th:only-of-type {\n",
       "        vertical-align: middle;\n",
       "    }\n",
       "\n",
       "    .dataframe tbody tr th {\n",
       "        vertical-align: top;\n",
       "    }\n",
       "\n",
       "    .dataframe thead tr th {\n",
       "        text-align: left;\n",
       "    }\n",
       "\n",
       "    .dataframe thead tr:last-of-type th {\n",
       "        text-align: right;\n",
       "    }\n",
       "</style>\n",
       "<table border=\"1\" class=\"dataframe\">\n",
       "  <thead>\n",
       "    <tr>\n",
       "      <th></th>\n",
       "      <th>Population</th>\n",
       "      <th colspan=\"2\" halign=\"left\">Christian</th>\n",
       "      <th colspan=\"2\" halign=\"left\">Muslim</th>\n",
       "      <th colspan=\"2\" halign=\"left\">Irreligion</th>\n",
       "      <th colspan=\"2\" halign=\"left\">Hindu</th>\n",
       "      <th>Buddhist</th>\n",
       "      <th>...</th>\n",
       "      <th colspan=\"2\" halign=\"left\">Sikh</th>\n",
       "      <th colspan=\"2\" halign=\"left\">Not stated/Undeclared</th>\n",
       "      <th colspan=\"2\" halign=\"left\">Pagan</th>\n",
       "      <th colspan=\"2\" halign=\"left\">/Undecided/Not Stated</th>\n",
       "      <th colspan=\"2\" halign=\"left\">Paganism/Neo-Paganism</th>\n",
       "    </tr>\n",
       "    <tr>\n",
       "      <th></th>\n",
       "      <th>Population</th>\n",
       "      <th>Pop.</th>\n",
       "      <th>%</th>\n",
       "      <th>Pop.</th>\n",
       "      <th>%</th>\n",
       "      <th>Pop.</th>\n",
       "      <th>%</th>\n",
       "      <th>Pop.</th>\n",
       "      <th>%</th>\n",
       "      <th>Pop.</th>\n",
       "      <th>...</th>\n",
       "      <th>Pop.</th>\n",
       "      <th>%</th>\n",
       "      <th>Pop.</th>\n",
       "      <th>%</th>\n",
       "      <th>Pop.</th>\n",
       "      <th>%</th>\n",
       "      <th>Pop.</th>\n",
       "      <th>%</th>\n",
       "      <th>Pop.</th>\n",
       "      <th>%</th>\n",
       "    </tr>\n",
       "    <tr>\n",
       "      <th>(Country, Country)</th>\n",
       "      <th></th>\n",
       "      <th></th>\n",
       "      <th></th>\n",
       "      <th></th>\n",
       "      <th></th>\n",
       "      <th></th>\n",
       "      <th></th>\n",
       "      <th></th>\n",
       "      <th></th>\n",
       "      <th></th>\n",
       "      <th></th>\n",
       "      <th></th>\n",
       "      <th></th>\n",
       "      <th></th>\n",
       "      <th></th>\n",
       "      <th></th>\n",
       "      <th></th>\n",
       "      <th></th>\n",
       "      <th></th>\n",
       "      <th></th>\n",
       "      <th></th>\n",
       "    </tr>\n",
       "  </thead>\n",
       "  <tbody>\n",
       "    <tr>\n",
       "      <th>* Only includes the population of religious affiliation for 15 years old or above.</th>\n",
       "      <td>* Only includes the population of religious af...</td>\n",
       "      <td>* Only includes the population of religious af...</td>\n",
       "      <td>* Only includes the population of religious af...</td>\n",
       "      <td>* Only includes the population of religious af...</td>\n",
       "      <td>* Only includes the population of religious af...</td>\n",
       "      <td>* Only includes the population of religious af...</td>\n",
       "      <td>* Only includes the population of religious af...</td>\n",
       "      <td>NaN</td>\n",
       "      <td>NaN</td>\n",
       "      <td>NaN</td>\n",
       "      <td>...</td>\n",
       "      <td>NaN</td>\n",
       "      <td>NaN</td>\n",
       "      <td>NaN</td>\n",
       "      <td>NaN</td>\n",
       "      <td>NaN</td>\n",
       "      <td>NaN</td>\n",
       "      <td>NaN</td>\n",
       "      <td>NaN</td>\n",
       "      <td>NaN</td>\n",
       "      <td>NaN</td>\n",
       "    </tr>\n",
       "    <tr>\n",
       "      <th>Afghanistan</th>\n",
       "      <td>31415280</td>\n",
       "      <td>30000</td>\n",
       "      <td>0.01</td>\n",
       "      <td>31315770</td>\n",
       "      <td>99.7</td>\n",
       "      <td>0</td>\n",
       "      <td>0.0</td>\n",
       "      <td>0</td>\n",
       "      <td>0.0</td>\n",
       "      <td>0.0</td>\n",
       "      <td>...</td>\n",
       "      <td>0.0</td>\n",
       "      <td>0.0</td>\n",
       "      <td>NaN</td>\n",
       "      <td>NaN</td>\n",
       "      <td>NaN</td>\n",
       "      <td>NaN</td>\n",
       "      <td>NaN</td>\n",
       "      <td>NaN</td>\n",
       "      <td>NaN</td>\n",
       "      <td>NaN</td>\n",
       "    </tr>\n",
       "    <tr>\n",
       "      <th>Albania</th>\n",
       "      <td>2800138</td>\n",
       "      <td>475529</td>\n",
       "      <td>16.95</td>\n",
       "      <td>1646236</td>\n",
       "      <td>58.79</td>\n",
       "      <td>223625</td>\n",
       "      <td>8.0</td>\n",
       "      <td>NaN</td>\n",
       "      <td>NaN</td>\n",
       "      <td>NaN</td>\n",
       "      <td>...</td>\n",
       "      <td>NaN</td>\n",
       "      <td>NaN</td>\n",
       "      <td>454046.0</td>\n",
       "      <td>16.2</td>\n",
       "      <td>NaN</td>\n",
       "      <td>NaN</td>\n",
       "      <td>NaN</td>\n",
       "      <td>NaN</td>\n",
       "      <td>NaN</td>\n",
       "      <td>NaN</td>\n",
       "    </tr>\n",
       "    <tr>\n",
       "      <th>Algeria</th>\n",
       "      <td>43851044</td>\n",
       "      <td>419570</td>\n",
       "      <td>1.0</td>\n",
       "      <td>43734560</td>\n",
       "      <td>98.0</td>\n",
       "      <td>354700</td>\n",
       "      <td>1.8</td>\n",
       "      <td>0</td>\n",
       "      <td>0.0</td>\n",
       "      <td>0.0</td>\n",
       "      <td>...</td>\n",
       "      <td>NaN</td>\n",
       "      <td>NaN</td>\n",
       "      <td>NaN</td>\n",
       "      <td>NaN</td>\n",
       "      <td>NaN</td>\n",
       "      <td>NaN</td>\n",
       "      <td>NaN</td>\n",
       "      <td>NaN</td>\n",
       "      <td>NaN</td>\n",
       "      <td>NaN</td>\n",
       "    </tr>\n",
       "    <tr>\n",
       "      <th>American Samoa</th>\n",
       "      <td>70920</td>\n",
       "      <td>68860</td>\n",
       "      <td>98.30</td>\n",
       "      <td>50</td>\n",
       "      <td>0.10</td>\n",
       "      <td>490</td>\n",
       "      <td>0.70</td>\n",
       "      <td>0</td>\n",
       "      <td>0.00</td>\n",
       "      <td>210.0</td>\n",
       "      <td>...</td>\n",
       "      <td>NaN</td>\n",
       "      <td>NaN</td>\n",
       "      <td>NaN</td>\n",
       "      <td>NaN</td>\n",
       "      <td>NaN</td>\n",
       "      <td>NaN</td>\n",
       "      <td>NaN</td>\n",
       "      <td>NaN</td>\n",
       "      <td>NaN</td>\n",
       "      <td>NaN</td>\n",
       "    </tr>\n",
       "    <tr>\n",
       "      <th>...</th>\n",
       "      <td>...</td>\n",
       "      <td>...</td>\n",
       "      <td>...</td>\n",
       "      <td>...</td>\n",
       "      <td>...</td>\n",
       "      <td>...</td>\n",
       "      <td>...</td>\n",
       "      <td>...</td>\n",
       "      <td>...</td>\n",
       "      <td>...</td>\n",
       "      <td>...</td>\n",
       "      <td>...</td>\n",
       "      <td>...</td>\n",
       "      <td>...</td>\n",
       "      <td>...</td>\n",
       "      <td>...</td>\n",
       "      <td>...</td>\n",
       "      <td>...</td>\n",
       "      <td>...</td>\n",
       "      <td>...</td>\n",
       "      <td>...</td>\n",
       "    </tr>\n",
       "    <tr>\n",
       "      <th>Wallis and Futuna</th>\n",
       "      <td>13000</td>\n",
       "      <td>12662</td>\n",
       "      <td>97.40</td>\n",
       "      <td>0</td>\n",
       "      <td>0.00</td>\n",
       "      <td>78</td>\n",
       "      <td>0.60</td>\n",
       "      <td>0</td>\n",
       "      <td>0.00</td>\n",
       "      <td>0.0</td>\n",
       "      <td>...</td>\n",
       "      <td>NaN</td>\n",
       "      <td>NaN</td>\n",
       "      <td>NaN</td>\n",
       "      <td>NaN</td>\n",
       "      <td>NaN</td>\n",
       "      <td>NaN</td>\n",
       "      <td>NaN</td>\n",
       "      <td>NaN</td>\n",
       "      <td>NaN</td>\n",
       "      <td>NaN</td>\n",
       "    </tr>\n",
       "    <tr>\n",
       "      <th>Western Africa</th>\n",
       "      <td>304264000</td>\n",
       "      <td>123748360</td>\n",
       "      <td>40.67</td>\n",
       "      <td>162347970</td>\n",
       "      <td>53.36</td>\n",
       "      <td>5034372.0</td>\n",
       "      <td>1.64</td>\n",
       "      <td>0.0</td>\n",
       "      <td>0.0</td>\n",
       "      <td>10000.0</td>\n",
       "      <td>...</td>\n",
       "      <td>NaN</td>\n",
       "      <td>NaN</td>\n",
       "      <td>NaN</td>\n",
       "      <td>NaN</td>\n",
       "      <td>NaN</td>\n",
       "      <td>NaN</td>\n",
       "      <td>NaN</td>\n",
       "      <td>NaN</td>\n",
       "      <td>NaN</td>\n",
       "      <td>NaN</td>\n",
       "    </tr>\n",
       "    <tr>\n",
       "      <th>Yemen</th>\n",
       "      <td>24050000</td>\n",
       "      <td>48100</td>\n",
       "      <td>0.2</td>\n",
       "      <td>23833550</td>\n",
       "      <td>99.1</td>\n",
       "      <td>24050</td>\n",
       "      <td>0.1</td>\n",
       "      <td>144300</td>\n",
       "      <td>0.6</td>\n",
       "      <td>0.0</td>\n",
       "      <td>...</td>\n",
       "      <td>NaN</td>\n",
       "      <td>NaN</td>\n",
       "      <td>NaN</td>\n",
       "      <td>NaN</td>\n",
       "      <td>NaN</td>\n",
       "      <td>NaN</td>\n",
       "      <td>NaN</td>\n",
       "      <td>NaN</td>\n",
       "      <td>NaN</td>\n",
       "      <td>NaN</td>\n",
       "    </tr>\n",
       "    <tr>\n",
       "      <th>Zambia</th>\n",
       "      <td>20216029</td>\n",
       "      <td>19730844</td>\n",
       "      <td>97.6</td>\n",
       "      <td>202160</td>\n",
       "      <td>1.0</td>\n",
       "      <td>65450</td>\n",
       "      <td>0.5</td>\n",
       "      <td>13090</td>\n",
       "      <td>0.1</td>\n",
       "      <td>0.0</td>\n",
       "      <td>...</td>\n",
       "      <td>NaN</td>\n",
       "      <td>NaN</td>\n",
       "      <td>NaN</td>\n",
       "      <td>NaN</td>\n",
       "      <td>NaN</td>\n",
       "      <td>NaN</td>\n",
       "      <td>NaN</td>\n",
       "      <td>NaN</td>\n",
       "      <td>NaN</td>\n",
       "      <td>NaN</td>\n",
       "    </tr>\n",
       "    <tr>\n",
       "      <th>Zimbabwe</th>\n",
       "      <td>16775307</td>\n",
       "      <td>14678393</td>\n",
       "      <td>87.5</td>\n",
       "      <td>167753</td>\n",
       "      <td>1.0</td>\n",
       "      <td>993030</td>\n",
       "      <td>7.9</td>\n",
       "      <td>0</td>\n",
       "      <td>0.0</td>\n",
       "      <td>0.0</td>\n",
       "      <td>...</td>\n",
       "      <td>NaN</td>\n",
       "      <td>NaN</td>\n",
       "      <td>NaN</td>\n",
       "      <td>NaN</td>\n",
       "      <td>NaN</td>\n",
       "      <td>NaN</td>\n",
       "      <td>NaN</td>\n",
       "      <td>NaN</td>\n",
       "      <td>NaN</td>\n",
       "      <td>NaN</td>\n",
       "    </tr>\n",
       "  </tbody>\n",
       "</table>\n",
       "<p>259 rows × 29 columns</p>\n",
       "</div>"
      ],
      "text/plain": [
       "                                                                                           Population  \\\n",
       "                                                                                           Population   \n",
       "(Country, Country)                                                                                      \n",
       "* Only includes the population of religious aff...  * Only includes the population of religious af...   \n",
       "Afghanistan                                                                                  31415280   \n",
       "Albania                                                                                       2800138   \n",
       "Algeria                                                                                      43851044   \n",
       "American Samoa                                                                                  70920   \n",
       "...                                                                                               ...   \n",
       "Wallis and Futuna                                                                               13000   \n",
       "Western Africa                                                                              304264000   \n",
       "Yemen                                                                                        24050000   \n",
       "Zambia                                                                                       20216029   \n",
       "Zimbabwe                                                                                     16775307   \n",
       "\n",
       "                                                                                            Christian  \\\n",
       "                                                                                                 Pop.   \n",
       "(Country, Country)                                                                                      \n",
       "* Only includes the population of religious aff...  * Only includes the population of religious af...   \n",
       "Afghanistan                                                                                     30000   \n",
       "Albania                                                                                        475529   \n",
       "Algeria                                                                                        419570   \n",
       "American Samoa                                                                                  68860   \n",
       "...                                                                                               ...   \n",
       "Wallis and Futuna                                                                               12662   \n",
       "Western Africa                                                                              123748360   \n",
       "Yemen                                                                                           48100   \n",
       "Zambia                                                                                       19730844   \n",
       "Zimbabwe                                                                                     14678393   \n",
       "\n",
       "                                                                                                       \\\n",
       "                                                                                                    %   \n",
       "(Country, Country)                                                                                      \n",
       "* Only includes the population of religious aff...  * Only includes the population of religious af...   \n",
       "Afghanistan                                                                                      0.01   \n",
       "Albania                                                                                         16.95   \n",
       "Algeria                                                                                           1.0   \n",
       "American Samoa                                                                                  98.30   \n",
       "...                                                                                               ...   \n",
       "Wallis and Futuna                                                                               97.40   \n",
       "Western Africa                                                                                  40.67   \n",
       "Yemen                                                                                             0.2   \n",
       "Zambia                                                                                           97.6   \n",
       "Zimbabwe                                                                                         87.5   \n",
       "\n",
       "                                                                                               Muslim  \\\n",
       "                                                                                                 Pop.   \n",
       "(Country, Country)                                                                                      \n",
       "* Only includes the population of religious aff...  * Only includes the population of religious af...   \n",
       "Afghanistan                                                                                  31315770   \n",
       "Albania                                                                                       1646236   \n",
       "Algeria                                                                                      43734560   \n",
       "American Samoa                                                                                     50   \n",
       "...                                                                                               ...   \n",
       "Wallis and Futuna                                                                                   0   \n",
       "Western Africa                                                                              162347970   \n",
       "Yemen                                                                                        23833550   \n",
       "Zambia                                                                                         202160   \n",
       "Zimbabwe                                                                                       167753   \n",
       "\n",
       "                                                                                                       \\\n",
       "                                                                                                    %   \n",
       "(Country, Country)                                                                                      \n",
       "* Only includes the population of religious aff...  * Only includes the population of religious af...   \n",
       "Afghanistan                                                                                      99.7   \n",
       "Albania                                                                                         58.79   \n",
       "Algeria                                                                                          98.0   \n",
       "American Samoa                                                                                   0.10   \n",
       "...                                                                                               ...   \n",
       "Wallis and Futuna                                                                                0.00   \n",
       "Western Africa                                                                                  53.36   \n",
       "Yemen                                                                                            99.1   \n",
       "Zambia                                                                                            1.0   \n",
       "Zimbabwe                                                                                          1.0   \n",
       "\n",
       "                                                                                           Irreligion  \\\n",
       "                                                                                                 Pop.   \n",
       "(Country, Country)                                                                                      \n",
       "* Only includes the population of religious aff...  * Only includes the population of religious af...   \n",
       "Afghanistan                                                                                         0   \n",
       "Albania                                                                                        223625   \n",
       "Algeria                                                                                        354700   \n",
       "American Samoa                                                                                    490   \n",
       "...                                                                                               ...   \n",
       "Wallis and Futuna                                                                                  78   \n",
       "Western Africa                                                                              5034372.0   \n",
       "Yemen                                                                                           24050   \n",
       "Zambia                                                                                          65450   \n",
       "Zimbabwe                                                                                       993030   \n",
       "\n",
       "                                                                                                       \\\n",
       "                                                                                                    %   \n",
       "(Country, Country)                                                                                      \n",
       "* Only includes the population of religious aff...  * Only includes the population of religious af...   \n",
       "Afghanistan                                                                                       0.0   \n",
       "Albania                                                                                           8.0   \n",
       "Algeria                                                                                           1.8   \n",
       "American Samoa                                                                                   0.70   \n",
       "...                                                                                               ...   \n",
       "Wallis and Futuna                                                                                0.60   \n",
       "Western Africa                                                                                   1.64   \n",
       "Yemen                                                                                             0.1   \n",
       "Zambia                                                                                            0.5   \n",
       "Zimbabwe                                                                                          7.9   \n",
       "\n",
       "                                                     Hindu       Buddhist  \\\n",
       "                                                      Pop.     %     Pop.   \n",
       "(Country, Country)                                                          \n",
       "* Only includes the population of religious aff...     NaN   NaN      NaN   \n",
       "Afghanistan                                              0   0.0      0.0   \n",
       "Albania                                                NaN   NaN      NaN   \n",
       "Algeria                                                  0   0.0      0.0   \n",
       "American Samoa                                           0  0.00    210.0   \n",
       "...                                                    ...   ...      ...   \n",
       "Wallis and Futuna                                        0  0.00      0.0   \n",
       "Western Africa                                         0.0   0.0  10000.0   \n",
       "Yemen                                               144300   0.6      0.0   \n",
       "Zambia                                               13090   0.1      0.0   \n",
       "Zimbabwe                                                 0   0.0      0.0   \n",
       "\n",
       "                                                    ... Sikh       \\\n",
       "                                                    ... Pop.    %   \n",
       "(Country, Country)                                  ...             \n",
       "* Only includes the population of religious aff...  ...  NaN  NaN   \n",
       "Afghanistan                                         ...  0.0  0.0   \n",
       "Albania                                             ...  NaN  NaN   \n",
       "Algeria                                             ...  NaN  NaN   \n",
       "American Samoa                                      ...  NaN  NaN   \n",
       "...                                                 ...  ...  ...   \n",
       "Wallis and Futuna                                   ...  NaN  NaN   \n",
       "Western Africa                                      ...  NaN  NaN   \n",
       "Yemen                                               ...  NaN  NaN   \n",
       "Zambia                                              ...  NaN  NaN   \n",
       "Zimbabwe                                            ...  NaN  NaN   \n",
       "\n",
       "                                                   Not stated/Undeclared  \\\n",
       "                                                                    Pop.   \n",
       "(Country, Country)                                                         \n",
       "* Only includes the population of religious aff...                   NaN   \n",
       "Afghanistan                                                          NaN   \n",
       "Albania                                                         454046.0   \n",
       "Algeria                                                              NaN   \n",
       "American Samoa                                                       NaN   \n",
       "...                                                                  ...   \n",
       "Wallis and Futuna                                                    NaN   \n",
       "Western Africa                                                       NaN   \n",
       "Yemen                                                                NaN   \n",
       "Zambia                                                               NaN   \n",
       "Zimbabwe                                                             NaN   \n",
       "\n",
       "                                                         Pagan       \\\n",
       "                                                       %  Pop.    %   \n",
       "(Country, Country)                                                    \n",
       "* Only includes the population of religious aff...   NaN   NaN  NaN   \n",
       "Afghanistan                                          NaN   NaN  NaN   \n",
       "Albania                                             16.2   NaN  NaN   \n",
       "Algeria                                              NaN   NaN  NaN   \n",
       "American Samoa                                       NaN   NaN  NaN   \n",
       "...                                                  ...   ...  ...   \n",
       "Wallis and Futuna                                    NaN   NaN  NaN   \n",
       "Western Africa                                       NaN   NaN  NaN   \n",
       "Yemen                                                NaN   NaN  NaN   \n",
       "Zambia                                               NaN   NaN  NaN   \n",
       "Zimbabwe                                             NaN   NaN  NaN   \n",
       "\n",
       "                                                   /Undecided/Not Stated       \\\n",
       "                                                                    Pop.    %   \n",
       "(Country, Country)                                                              \n",
       "* Only includes the population of religious aff...                   NaN  NaN   \n",
       "Afghanistan                                                          NaN  NaN   \n",
       "Albania                                                              NaN  NaN   \n",
       "Algeria                                                              NaN  NaN   \n",
       "American Samoa                                                       NaN  NaN   \n",
       "...                                                                  ...  ...   \n",
       "Wallis and Futuna                                                    NaN  NaN   \n",
       "Western Africa                                                       NaN  NaN   \n",
       "Yemen                                                                NaN  NaN   \n",
       "Zambia                                                               NaN  NaN   \n",
       "Zimbabwe                                                             NaN  NaN   \n",
       "\n",
       "                                                   Paganism/Neo-Paganism      \n",
       "                                                                    Pop.   %  \n",
       "(Country, Country)                                                            \n",
       "* Only includes the population of religious aff...                   NaN NaN  \n",
       "Afghanistan                                                          NaN NaN  \n",
       "Albania                                                              NaN NaN  \n",
       "Algeria                                                              NaN NaN  \n",
       "American Samoa                                                       NaN NaN  \n",
       "...                                                                  ...  ..  \n",
       "Wallis and Futuna                                                    NaN NaN  \n",
       "Western Africa                                                       NaN NaN  \n",
       "Yemen                                                                NaN NaN  \n",
       "Zambia                                                               NaN NaN  \n",
       "Zimbabwe                                                             NaN NaN  \n",
       "\n",
       "[259 rows x 29 columns]"
      ]
     },
     "execution_count": 131,
     "metadata": {},
     "output_type": "execute_result"
    }
   ],
   "source": [
    "religion_df"
   ]
  },
  {
   "cell_type": "code",
   "execution_count": 16,
   "id": "4e962f76-f979-4c61-b622-10a4ecd7bd57",
   "metadata": {},
   "outputs": [],
   "source": [
    "gdp_dfs = pd.read_html(\"https://en.wikipedia.org/wiki/List_of_countries_by_GDP_(PPP)_per_capita\")"
   ]
  },
  {
   "cell_type": "code",
   "execution_count": 175,
   "id": "1a078508-5ec4-4509-9326-9acb9b092950",
   "metadata": {},
   "outputs": [],
   "source": [
    "gdp_df = gdp_dfs[1]"
   ]
  },
  {
   "cell_type": "code",
   "execution_count": 176,
   "id": "986119e9-684e-42a4-9564-63a8e2bf860b",
   "metadata": {},
   "outputs": [],
   "source": [
    "index_col = (\"Country/Territory\",\"Country/Territory\")"
   ]
  },
  {
   "cell_type": "code",
   "execution_count": 177,
   "id": "7ba6545c-dd23-470d-8787-22a3732b5617",
   "metadata": {},
   "outputs": [],
   "source": [
    "gdp_df[index_col] = gdp_df[index_col].str.strip(' *')"
   ]
  },
  {
   "cell_type": "code",
   "execution_count": 178,
   "id": "4bac8e59-c291-4efb-8db7-9609dffffa56",
   "metadata": {},
   "outputs": [],
   "source": [
    "gdp_df = gdp_df.sort_values(index_col)"
   ]
  },
  {
   "cell_type": "code",
   "execution_count": 179,
   "id": "f8ae77b8-39a2-4d69-b58e-e608e6aa8281",
   "metadata": {},
   "outputs": [],
   "source": [
    "gdp_df = gdp_df.set_index(index_col)"
   ]
  },
  {
   "cell_type": "code",
   "execution_count": 180,
   "id": "6fc92121-5d87-499a-98d1-a8099817dae8",
   "metadata": {},
   "outputs": [
    {
     "data": {
      "text/plain": [
       "Index(['Afghanistan', 'Albania', 'Algeria', 'American Samoa', 'Andorra',\n",
       "       'Angola', 'Anguilla', 'Antigua and Barbuda', 'Argentina', 'Armenia',\n",
       "       ...\n",
       "       'Uruguay', 'Uzbekistan', 'Vanuatu', 'Venezuela', 'Vietnam',\n",
       "       'Wallis and Futuna', 'World', 'Yemen', 'Zambia', 'Zimbabwe'],\n",
       "      dtype='object', name=('Country/Territory', 'Country/Territory'), length=230)"
      ]
     },
     "execution_count": 180,
     "metadata": {},
     "output_type": "execute_result"
    }
   ],
   "source": [
    "gdp_df.index"
   ]
  },
  {
   "cell_type": "code",
   "execution_count": 17,
   "id": "df99786a-158b-4e23-9ae2-0a258377bde6",
   "metadata": {},
   "outputs": [],
   "source": [
    "homicide_dfs = pd.read_html(\"https://en.wikipedia.org/wiki/List_of_countries_by_intentional_homicide_rate\")"
   ]
  },
  {
   "cell_type": "code",
   "execution_count": 67,
   "id": "13acfeb0-4375-4857-ae16-e1296bcd6479",
   "metadata": {},
   "outputs": [],
   "source": [
    "homicide_df = homicide_dfs[1]"
   ]
  },
  {
   "cell_type": "code",
   "execution_count": 185,
   "id": "cada8825-56f0-4f8e-b5b6-3d17dad982f7",
   "metadata": {},
   "outputs": [],
   "source": [
    "index_col = \"Location\""
   ]
  },
  {
   "cell_type": "code",
   "execution_count": 186,
   "id": "4ba8fd90-5e5e-45aa-ac3e-328dcd635ded",
   "metadata": {},
   "outputs": [],
   "source": [
    "homicide_df[index_col] = homicide_df[index_col].str.strip(' *')"
   ]
  },
  {
   "cell_type": "code",
   "execution_count": 189,
   "id": "f3a81745-7256-4454-80b3-7a9eb27cd3db",
   "metadata": {},
   "outputs": [],
   "source": [
    "homicide_df = homicide_df.set_index(index_col)"
   ]
  },
  {
   "cell_type": "code",
   "execution_count": 191,
   "id": "b2b33d2f-506f-4cbc-a3c7-ad0aa6b191d6",
   "metadata": {},
   "outputs": [
    {
     "data": {
      "text/html": [
       "<div>\n",
       "<style scoped>\n",
       "    .dataframe tbody tr th:only-of-type {\n",
       "        vertical-align: middle;\n",
       "    }\n",
       "\n",
       "    .dataframe tbody tr th {\n",
       "        vertical-align: top;\n",
       "    }\n",
       "\n",
       "    .dataframe thead th {\n",
       "        text-align: right;\n",
       "    }\n",
       "</style>\n",
       "<table border=\"1\" class=\"dataframe\">\n",
       "  <thead>\n",
       "    <tr style=\"text-align: right;\">\n",
       "      <th></th>\n",
       "      <th>Rate</th>\n",
       "      <th>Count</th>\n",
       "      <th>Year</th>\n",
       "      <th>Region</th>\n",
       "      <th>Subregion</th>\n",
       "    </tr>\n",
       "    <tr>\n",
       "      <th>Location</th>\n",
       "      <th></th>\n",
       "      <th></th>\n",
       "      <th></th>\n",
       "      <th></th>\n",
       "      <th></th>\n",
       "    </tr>\n",
       "  </thead>\n",
       "  <tbody>\n",
       "    <tr>\n",
       "      <th>Afghanistan</th>\n",
       "      <td>4.0</td>\n",
       "      <td>1613</td>\n",
       "      <td>2021</td>\n",
       "      <td>Asia</td>\n",
       "      <td>Southern Asia</td>\n",
       "    </tr>\n",
       "    <tr>\n",
       "      <th>Albania</th>\n",
       "      <td>1.7</td>\n",
       "      <td>47</td>\n",
       "      <td>2022</td>\n",
       "      <td>Europe</td>\n",
       "      <td>Southern Europe</td>\n",
       "    </tr>\n",
       "    <tr>\n",
       "      <th>Algeria</th>\n",
       "      <td>1.8</td>\n",
       "      <td>795</td>\n",
       "      <td>2022</td>\n",
       "      <td>Africa</td>\n",
       "      <td>Northern Africa</td>\n",
       "    </tr>\n",
       "    <tr>\n",
       "      <th>American Samoa</th>\n",
       "      <td>0.0</td>\n",
       "      <td>0</td>\n",
       "      <td>2019</td>\n",
       "      <td>Oceania</td>\n",
       "      <td>Polynesia</td>\n",
       "    </tr>\n",
       "    <tr>\n",
       "      <th>Andorra</th>\n",
       "      <td>2.6</td>\n",
       "      <td>2</td>\n",
       "      <td>2020</td>\n",
       "      <td>Europe</td>\n",
       "      <td>Southern Europe</td>\n",
       "    </tr>\n",
       "    <tr>\n",
       "      <th>...</th>\n",
       "      <td>...</td>\n",
       "      <td>...</td>\n",
       "      <td>...</td>\n",
       "      <td>...</td>\n",
       "      <td>...</td>\n",
       "    </tr>\n",
       "    <tr>\n",
       "      <th>Venezuela</th>\n",
       "      <td>19.3</td>\n",
       "      <td>5444</td>\n",
       "      <td>2021</td>\n",
       "      <td>Americas</td>\n",
       "      <td>Latin America and the Caribbean</td>\n",
       "    </tr>\n",
       "    <tr>\n",
       "      <th>Vietnam</th>\n",
       "      <td>1.5</td>\n",
       "      <td>1358</td>\n",
       "      <td>2011</td>\n",
       "      <td>Asia</td>\n",
       "      <td>South-eastern Asia</td>\n",
       "    </tr>\n",
       "    <tr>\n",
       "      <th>Yemen</th>\n",
       "      <td>6.3</td>\n",
       "      <td>1703</td>\n",
       "      <td>2013</td>\n",
       "      <td>Asia</td>\n",
       "      <td>Western Asia</td>\n",
       "    </tr>\n",
       "    <tr>\n",
       "      <th>Zambia</th>\n",
       "      <td>5.2</td>\n",
       "      <td>853</td>\n",
       "      <td>2015</td>\n",
       "      <td>Africa</td>\n",
       "      <td>Sub-Saharan Africa</td>\n",
       "    </tr>\n",
       "    <tr>\n",
       "      <th>Zimbabwe</th>\n",
       "      <td>6.7</td>\n",
       "      <td>1086</td>\n",
       "      <td>2022</td>\n",
       "      <td>Africa</td>\n",
       "      <td>Sub-Saharan Africa</td>\n",
       "    </tr>\n",
       "  </tbody>\n",
       "</table>\n",
       "<p>207 rows × 5 columns</p>\n",
       "</div>"
      ],
      "text/plain": [
       "                Rate  Count  Year    Region                        Subregion\n",
       "Location                                                                    \n",
       "Afghanistan      4.0   1613  2021      Asia                    Southern Asia\n",
       "Albania          1.7     47  2022    Europe                  Southern Europe\n",
       "Algeria          1.8    795  2022    Africa                  Northern Africa\n",
       "American Samoa   0.0      0  2019   Oceania                        Polynesia\n",
       "Andorra          2.6      2  2020    Europe                  Southern Europe\n",
       "...              ...    ...   ...       ...                              ...\n",
       "Venezuela       19.3   5444  2021  Americas  Latin America and the Caribbean\n",
       "Vietnam          1.5   1358  2011      Asia               South-eastern Asia\n",
       "Yemen            6.3   1703  2013      Asia                     Western Asia\n",
       "Zambia           5.2    853  2015    Africa               Sub-Saharan Africa\n",
       "Zimbabwe         6.7   1086  2022    Africa               Sub-Saharan Africa\n",
       "\n",
       "[207 rows x 5 columns]"
      ]
     },
     "execution_count": 191,
     "metadata": {},
     "output_type": "execute_result"
    }
   ],
   "source": [
    "homicide_df"
   ]
  },
  {
   "cell_type": "code",
   "execution_count": 221,
   "id": "138dba63-37c4-47a1-8f33-7a735eca1960",
   "metadata": {},
   "outputs": [],
   "source": [
    "df = religion_df"
   ]
  },
  {
   "cell_type": "code",
   "execution_count": 223,
   "id": "5ad227f2-caf0-418f-bac6-5298bd9ddcf0",
   "metadata": {},
   "outputs": [],
   "source": [
    "df['gdp'] = gdp_df[(\"World Bank[7]\",\"Estimate\")]"
   ]
  },
  {
   "cell_type": "code",
   "execution_count": 224,
   "id": "f61511e2-fd67-4691-985d-b223881c9350",
   "metadata": {},
   "outputs": [],
   "source": [
    "df['homicide'] = homicide_df[\"Rate\"]"
   ]
  },
  {
   "cell_type": "code",
   "execution_count": 225,
   "id": "79d70f66-811c-4233-b458-fe51b3d7b7f2",
   "metadata": {},
   "outputs": [],
   "source": [
    "# df.dropna(subset=[('gdp','')])"
   ]
  },
  {
   "cell_type": "code",
   "execution_count": 226,
   "id": "31a1892d-ca4b-4849-8922-f92aa8993ba5",
   "metadata": {},
   "outputs": [],
   "source": [
    "# df.dropna(subset=[('homicide','')])"
   ]
  },
  {
   "cell_type": "code",
   "execution_count": 227,
   "id": "78a98a24-c118-478c-804d-c5f197796ea0",
   "metadata": {},
   "outputs": [],
   "source": [
    "df = df.iloc[1:]"
   ]
  },
  {
   "cell_type": "code",
   "execution_count": 254,
   "id": "0ebb8771-b26f-45a8-a966-8018bf6f9c7f",
   "metadata": {},
   "outputs": [
    {
     "data": {
      "text/plain": [
       "MultiIndex([(           'Population', 'Population'),\n",
       "            (            'Christian',       'Pop.'),\n",
       "            (            'Christian',          '%'),\n",
       "            (               'Muslim',       'Pop.'),\n",
       "            (               'Muslim',          '%'),\n",
       "            (           'Irreligion',       'Pop.'),\n",
       "            (           'Irreligion',          '%'),\n",
       "            (                'Hindu',       'Pop.'),\n",
       "            (                'Hindu',          '%'),\n",
       "            (             'Buddhist',       'Pop.'),\n",
       "            (             'Buddhist',          '%'),\n",
       "            (        'Folk religion',       'Pop.'),\n",
       "            (        'Folk religion',          '%'),\n",
       "            (       'Other religion',       'Pop.'),\n",
       "            (       'Other religion',          '%'),\n",
       "            (               'Jewish',       'Pop.'),\n",
       "            (               'Jewish',          '%'),\n",
       "            ('Not Stated/Undeclared',       'Pop.'),\n",
       "            ('Not Stated/Undeclared',          '%'),\n",
       "            (                 'Sikh',       'Pop.'),\n",
       "            (                 'Sikh',          '%'),\n",
       "            ('Not stated/Undeclared',       'Pop.'),\n",
       "            ('Not stated/Undeclared',          '%'),\n",
       "            (                'Pagan',       'Pop.'),\n",
       "            (                'Pagan',          '%'),\n",
       "            ('/Undecided/Not Stated',       'Pop.'),\n",
       "            ('/Undecided/Not Stated',          '%'),\n",
       "            ('Paganism/Neo-Paganism',       'Pop.'),\n",
       "            ('Paganism/Neo-Paganism',          '%'),\n",
       "            (                  'gdp',           ''),\n",
       "            (             'homicide',           '')],\n",
       "           )"
      ]
     },
     "execution_count": 254,
     "metadata": {},
     "output_type": "execute_result"
    }
   ],
   "source": [
    "df.columns"
   ]
  },
  {
   "cell_type": "code",
   "execution_count": 201,
   "id": "4f94a2c4-58db-425a-bf8e-44b7c04008a0",
   "metadata": {},
   "outputs": [
    {
     "name": "stderr",
     "output_type": "stream",
     "text": [
      "/var/folders/9p/k_4f02t961360ccdlst6p_fc0000gn/T/ipykernel_897/2635638964.py:1: SettingWithCopyWarning: \n",
      "A value is trying to be set on a copy of a slice from a DataFrame.\n",
      "Try using .loc[row_indexer,col_indexer] = value instead\n",
      "\n",
      "See the caveats in the documentation: https://pandas.pydata.org/pandas-docs/stable/user_guide/indexing.html#returning-a-view-versus-a-copy\n",
      "  df[(\"Muslim\",\"%\")] = df[(\"Muslim\",\"%\")].str.strip('%')\n"
     ]
    }
   ],
   "source": [
    "df[(\"Muslim\",\"%\")] = df[(\"Muslim\",\"%\")].str.strip('%')"
   ]
  },
  {
   "cell_type": "code",
   "execution_count": 231,
   "id": "4bae05f7-139e-4a73-9de5-4516ae0724ac",
   "metadata": {},
   "outputs": [
    {
     "name": "stderr",
     "output_type": "stream",
     "text": [
      "/var/folders/9p/k_4f02t961360ccdlst6p_fc0000gn/T/ipykernel_897/2754048608.py:1: SettingWithCopyWarning: \n",
      "A value is trying to be set on a copy of a slice from a DataFrame.\n",
      "Try using .loc[row_indexer,col_indexer] = value instead\n",
      "\n",
      "See the caveats in the documentation: https://pandas.pydata.org/pandas-docs/stable/user_guide/indexing.html#returning-a-view-versus-a-copy\n",
      "  df[(\"Muslim\",\"%\")] = pd.to_numeric(df[(\"Muslim\",\"%\")], errors=\"coerce\")\n"
     ]
    }
   ],
   "source": [
    "df[(\"Muslim\",\"%\")] = pd.to_numeric(df[(\"Muslim\",\"%\")], errors=\"coerce\")"
   ]
  },
  {
   "cell_type": "code",
   "execution_count": 243,
   "id": "180153e9-02c6-4a01-8724-7c289fc70364",
   "metadata": {},
   "outputs": [
    {
     "name": "stderr",
     "output_type": "stream",
     "text": [
      "/var/folders/9p/k_4f02t961360ccdlst6p_fc0000gn/T/ipykernel_897/272398104.py:1: SettingWithCopyWarning: \n",
      "A value is trying to be set on a copy of a slice from a DataFrame.\n",
      "Try using .loc[row_indexer,col_indexer] = value instead\n",
      "\n",
      "See the caveats in the documentation: https://pandas.pydata.org/pandas-docs/stable/user_guide/indexing.html#returning-a-view-versus-a-copy\n",
      "  df[(\"Christian\",\"%\")] = pd.to_numeric(df[(\"Christian\",\"%\")], errors=\"coerce\")\n"
     ]
    }
   ],
   "source": [
    "df[(\"Christian\",\"%\")] = pd.to_numeric(df[(\"Christian\",\"%\")], errors=\"coerce\")"
   ]
  },
  {
   "cell_type": "code",
   "execution_count": 247,
   "id": "8f6ff1ab-2c35-45b0-825c-d001f5dee2c4",
   "metadata": {},
   "outputs": [
    {
     "name": "stderr",
     "output_type": "stream",
     "text": [
      "/var/folders/9p/k_4f02t961360ccdlst6p_fc0000gn/T/ipykernel_897/2720879457.py:1: SettingWithCopyWarning: \n",
      "A value is trying to be set on a copy of a slice from a DataFrame.\n",
      "Try using .loc[row_indexer,col_indexer] = value instead\n",
      "\n",
      "See the caveats in the documentation: https://pandas.pydata.org/pandas-docs/stable/user_guide/indexing.html#returning-a-view-versus-a-copy\n",
      "  df[(\"Irreligion\",\"%\")] = pd.to_numeric(df[(\"Irreligion\",\"%\")], errors=\"coerce\")\n"
     ]
    }
   ],
   "source": [
    "df[(\"Irreligion\",\"%\")] = pd.to_numeric(df[(\"Irreligion\",\"%\")], errors=\"coerce\")"
   ]
  },
  {
   "cell_type": "code",
   "execution_count": 251,
   "id": "a6fd6775-e031-45a5-8a64-f0a73aa2ab26",
   "metadata": {},
   "outputs": [
    {
     "name": "stderr",
     "output_type": "stream",
     "text": [
      "/var/folders/9p/k_4f02t961360ccdlst6p_fc0000gn/T/ipykernel_897/485808070.py:1: SettingWithCopyWarning: \n",
      "A value is trying to be set on a copy of a slice from a DataFrame.\n",
      "Try using .loc[row_indexer,col_indexer] = value instead\n",
      "\n",
      "See the caveats in the documentation: https://pandas.pydata.org/pandas-docs/stable/user_guide/indexing.html#returning-a-view-versus-a-copy\n",
      "  df[(\"Hindu\",\"%\")] = pd.to_numeric(df[(\"Hindu\",\"%\")], errors=\"coerce\")\n"
     ]
    }
   ],
   "source": [
    "df[(\"Hindu\",\"%\")] = pd.to_numeric(df[(\"Hindu\",\"%\")], errors=\"coerce\")"
   ]
  },
  {
   "cell_type": "code",
   "execution_count": 255,
   "id": "d6c1e5f7-f0a4-402f-b8ff-fd852e29a0a5",
   "metadata": {},
   "outputs": [
    {
     "name": "stderr",
     "output_type": "stream",
     "text": [
      "/var/folders/9p/k_4f02t961360ccdlst6p_fc0000gn/T/ipykernel_897/3840775118.py:1: SettingWithCopyWarning: \n",
      "A value is trying to be set on a copy of a slice from a DataFrame.\n",
      "Try using .loc[row_indexer,col_indexer] = value instead\n",
      "\n",
      "See the caveats in the documentation: https://pandas.pydata.org/pandas-docs/stable/user_guide/indexing.html#returning-a-view-versus-a-copy\n",
      "  df[(\"Pagan\",\"%\")] = pd.to_numeric(df[(\"Pagan\",\"%\")], errors=\"coerce\")\n"
     ]
    }
   ],
   "source": [
    "df[(\"Pagan\",\"%\")] = pd.to_numeric(df[(\"Pagan\",\"%\")], errors=\"coerce\")"
   ]
  },
  {
   "cell_type": "code",
   "execution_count": 258,
   "id": "a9dc5e0e-792a-4a3c-9f39-dc8ad1813a1b",
   "metadata": {},
   "outputs": [
    {
     "name": "stderr",
     "output_type": "stream",
     "text": [
      "/var/folders/9p/k_4f02t961360ccdlst6p_fc0000gn/T/ipykernel_897/2710062769.py:1: SettingWithCopyWarning: \n",
      "A value is trying to be set on a copy of a slice from a DataFrame.\n",
      "Try using .loc[row_indexer,col_indexer] = value instead\n",
      "\n",
      "See the caveats in the documentation: https://pandas.pydata.org/pandas-docs/stable/user_guide/indexing.html#returning-a-view-versus-a-copy\n",
      "  df[(\"Paganism/Neo-Paganism\",\"%\")] = pd.to_numeric(df[(\"Paganism/Neo-Paganism\",\"%\")], errors=\"coerce\")\n"
     ]
    }
   ],
   "source": [
    "df[(\"Paganism/Neo-Paganism\",\"%\")] = pd.to_numeric(df[(\"Paganism/Neo-Paganism\",\"%\")], errors=\"coerce\")"
   ]
  },
  {
   "cell_type": "code",
   "execution_count": 234,
   "id": "6a39375d-673b-4dec-87c6-d6ad16d0b7fd",
   "metadata": {},
   "outputs": [
    {
     "name": "stderr",
     "output_type": "stream",
     "text": [
      "/var/folders/9p/k_4f02t961360ccdlst6p_fc0000gn/T/ipykernel_897/2549049318.py:1: SettingWithCopyWarning: \n",
      "A value is trying to be set on a copy of a slice from a DataFrame.\n",
      "Try using .loc[row_indexer,col_indexer] = value instead\n",
      "\n",
      "See the caveats in the documentation: https://pandas.pydata.org/pandas-docs/stable/user_guide/indexing.html#returning-a-view-versus-a-copy\n",
      "  df[(\"gdp\",\"\")] = pd.to_numeric(df[(\"gdp\",\"\")], errors=\"coerce\")\n"
     ]
    }
   ],
   "source": [
    "df[(\"gdp\",\"\")] = pd.to_numeric(df[(\"gdp\",\"\")], errors=\"coerce\")"
   ]
  },
  {
   "cell_type": "code",
   "execution_count": 260,
   "id": "9bd7cfa2-8ea9-48ac-aca2-e7a4984b71f4",
   "metadata": {},
   "outputs": [
    {
     "data": {
      "text/html": [
       "<div>\n",
       "<style scoped>\n",
       "    .dataframe tbody tr th:only-of-type {\n",
       "        vertical-align: middle;\n",
       "    }\n",
       "\n",
       "    .dataframe tbody tr th {\n",
       "        vertical-align: top;\n",
       "    }\n",
       "\n",
       "    .dataframe thead tr th {\n",
       "        text-align: left;\n",
       "    }\n",
       "</style>\n",
       "<table border=\"1\" class=\"dataframe\">\n",
       "  <thead>\n",
       "    <tr>\n",
       "      <th></th>\n",
       "      <th></th>\n",
       "      <th>Paganism/Neo-Paganism</th>\n",
       "      <th>homicide</th>\n",
       "    </tr>\n",
       "    <tr>\n",
       "      <th></th>\n",
       "      <th></th>\n",
       "      <th>%</th>\n",
       "      <th></th>\n",
       "    </tr>\n",
       "  </thead>\n",
       "  <tbody>\n",
       "    <tr>\n",
       "      <th>Paganism/Neo-Paganism</th>\n",
       "      <th>%</th>\n",
       "      <td>1.000000</td>\n",
       "      <td>0.260153</td>\n",
       "    </tr>\n",
       "    <tr>\n",
       "      <th>homicide</th>\n",
       "      <th></th>\n",
       "      <td>0.260153</td>\n",
       "      <td>1.000000</td>\n",
       "    </tr>\n",
       "  </tbody>\n",
       "</table>\n",
       "</div>"
      ],
      "text/plain": [
       "                        Paganism/Neo-Paganism  homicide\n",
       "                                            %          \n",
       "Paganism/Neo-Paganism %              1.000000  0.260153\n",
       "homicide                             0.260153  1.000000"
      ]
     },
     "execution_count": 260,
     "metadata": {},
     "output_type": "execute_result"
    }
   ],
   "source": [
    "df[[(\"Paganism/Neo-Paganism\",\"%\"),(\"homicide\",\"\")]].corr()"
   ]
  },
  {
   "cell_type": "code",
   "execution_count": 259,
   "id": "b0b08c46-d2a6-4a68-9f10-8d057c26e644",
   "metadata": {},
   "outputs": [
    {
     "data": {
      "text/plain": [
       "<Axes: xlabel='(Paganism/Neo-Paganism, %)', ylabel='(homicide, )'>"
      ]
     },
     "execution_count": 259,
     "metadata": {},
     "output_type": "execute_result"
    },
    {
     "data": {
      "image/png": "[encoded data removed]",
      "text/plain": [
       "<Figure size 640x480 with 1 Axes>"
      ]
     },
     "metadata": {},
     "output_type": "display_data"
    }
   ],
   "source": [
    "df[[(\"Paganism/Neo-Paganism\",\"%\"),(\"homicide\",\"\")]].plot.scatter(x=(\"Paganism/Neo-Paganism\",\"%\"),y=(\"homicide\",\"\"))"
   ]
  },
  {
   "cell_type": "code",
   "execution_count": 232,
   "id": "cfda158a-92dd-4f1c-a541-19abeedc6212",
   "metadata": {},
   "outputs": [
    {
     "data": {
      "text/html": [
       "<div>\n",
       "<style scoped>\n",
       "    .dataframe tbody tr th:only-of-type {\n",
       "        vertical-align: middle;\n",
       "    }\n",
       "\n",
       "    .dataframe tbody tr th {\n",
       "        vertical-align: top;\n",
       "    }\n",
       "\n",
       "    .dataframe thead tr th {\n",
       "        text-align: left;\n",
       "    }\n",
       "</style>\n",
       "<table border=\"1\" class=\"dataframe\">\n",
       "  <thead>\n",
       "    <tr>\n",
       "      <th></th>\n",
       "      <th></th>\n",
       "      <th>Muslim</th>\n",
       "      <th>homicide</th>\n",
       "    </tr>\n",
       "    <tr>\n",
       "      <th></th>\n",
       "      <th></th>\n",
       "      <th>%</th>\n",
       "      <th></th>\n",
       "    </tr>\n",
       "  </thead>\n",
       "  <tbody>\n",
       "    <tr>\n",
       "      <th>Muslim</th>\n",
       "      <th>%</th>\n",
       "      <td>1.000000</td>\n",
       "      <td>-0.263938</td>\n",
       "    </tr>\n",
       "    <tr>\n",
       "      <th>homicide</th>\n",
       "      <th></th>\n",
       "      <td>-0.263938</td>\n",
       "      <td>1.000000</td>\n",
       "    </tr>\n",
       "  </tbody>\n",
       "</table>\n",
       "</div>"
      ],
      "text/plain": [
       "              Muslim  homicide\n",
       "                   %          \n",
       "Muslim   %  1.000000 -0.263938\n",
       "homicide   -0.263938  1.000000"
      ]
     },
     "execution_count": 232,
     "metadata": {},
     "output_type": "execute_result"
    }
   ],
   "source": [
    "df[[(\"Muslim\",\"%\"),(\"homicide\",\"\")]].corr()"
   ]
  },
  {
   "cell_type": "code",
   "execution_count": 239,
   "id": "da1ea7b0-dca5-4bc1-9033-c473e96bc3c6",
   "metadata": {},
   "outputs": [
    {
     "data": {
      "text/plain": [
       "<Axes: xlabel='(Muslim, %)', ylabel='(homicide, )'>"
      ]
     },
     "execution_count": 239,
     "metadata": {},
     "output_type": "execute_result"
    },
    {
     "data": {
      "image/png": "[encoded data removed]",
      "text/plain": [
       "<Figure size 640x480 with 1 Axes>"
      ]
     },
     "metadata": {},
     "output_type": "display_data"
    }
   ],
   "source": [
    "df[[(\"Muslim\",\"%\"),(\"homicide\",\"\")]].plot.scatter(x=(\"Muslim\",\"%\"),y=(\"homicide\",\"\"))"
   ]
  },
  {
   "cell_type": "code",
   "execution_count": 235,
   "id": "46892e61-f9ce-4077-8597-536e793f0561",
   "metadata": {},
   "outputs": [
    {
     "data": {
      "text/html": [
       "<div>\n",
       "<style scoped>\n",
       "    .dataframe tbody tr th:only-of-type {\n",
       "        vertical-align: middle;\n",
       "    }\n",
       "\n",
       "    .dataframe tbody tr th {\n",
       "        vertical-align: top;\n",
       "    }\n",
       "\n",
       "    .dataframe thead tr th {\n",
       "        text-align: left;\n",
       "    }\n",
       "</style>\n",
       "<table border=\"1\" class=\"dataframe\">\n",
       "  <thead>\n",
       "    <tr>\n",
       "      <th></th>\n",
       "      <th></th>\n",
       "      <th>gdp</th>\n",
       "      <th>homicide</th>\n",
       "    </tr>\n",
       "    <tr>\n",
       "      <th></th>\n",
       "      <th></th>\n",
       "      <th></th>\n",
       "      <th></th>\n",
       "    </tr>\n",
       "  </thead>\n",
       "  <tbody>\n",
       "    <tr>\n",
       "      <th>gdp</th>\n",
       "      <th></th>\n",
       "      <td>1.000000</td>\n",
       "      <td>-0.218611</td>\n",
       "    </tr>\n",
       "    <tr>\n",
       "      <th>homicide</th>\n",
       "      <th></th>\n",
       "      <td>-0.218611</td>\n",
       "      <td>1.000000</td>\n",
       "    </tr>\n",
       "  </tbody>\n",
       "</table>\n",
       "</div>"
      ],
      "text/plain": [
       "                gdp  homicide\n",
       "                             \n",
       "gdp        1.000000 -0.218611\n",
       "homicide  -0.218611  1.000000"
      ]
     },
     "execution_count": 235,
     "metadata": {},
     "output_type": "execute_result"
    }
   ],
   "source": [
    "df[[(\"gdp\",\"\"),(\"homicide\",\"\")]].corr()"
   ]
  },
  {
   "cell_type": "code",
   "execution_count": 245,
   "id": "a0368297-851f-47f7-8bfd-f97650fbee20",
   "metadata": {},
   "outputs": [
    {
     "data": {
      "text/html": [
       "<div>\n",
       "<style scoped>\n",
       "    .dataframe tbody tr th:only-of-type {\n",
       "        vertical-align: middle;\n",
       "    }\n",
       "\n",
       "    .dataframe tbody tr th {\n",
       "        vertical-align: top;\n",
       "    }\n",
       "\n",
       "    .dataframe thead tr th {\n",
       "        text-align: left;\n",
       "    }\n",
       "</style>\n",
       "<table border=\"1\" class=\"dataframe\">\n",
       "  <thead>\n",
       "    <tr>\n",
       "      <th></th>\n",
       "      <th></th>\n",
       "      <th>Christian</th>\n",
       "      <th>homicide</th>\n",
       "    </tr>\n",
       "    <tr>\n",
       "      <th></th>\n",
       "      <th></th>\n",
       "      <th>%</th>\n",
       "      <th></th>\n",
       "    </tr>\n",
       "  </thead>\n",
       "  <tbody>\n",
       "    <tr>\n",
       "      <th>Christian</th>\n",
       "      <th>%</th>\n",
       "      <td>1.000000</td>\n",
       "      <td>0.339596</td>\n",
       "    </tr>\n",
       "    <tr>\n",
       "      <th>homicide</th>\n",
       "      <th></th>\n",
       "      <td>0.339596</td>\n",
       "      <td>1.000000</td>\n",
       "    </tr>\n",
       "  </tbody>\n",
       "</table>\n",
       "</div>"
      ],
      "text/plain": [
       "            Christian  homicide\n",
       "                    %          \n",
       "Christian %  1.000000  0.339596\n",
       "homicide     0.339596  1.000000"
      ]
     },
     "execution_count": 245,
     "metadata": {},
     "output_type": "execute_result"
    }
   ],
   "source": [
    "df[[(\"Christian\",\"%\"),(\"homicide\",\"\")]].corr()"
   ]
  },
  {
   "cell_type": "code",
   "execution_count": 244,
   "id": "2f52ed40-a1c7-4b21-a088-4597f685c844",
   "metadata": {},
   "outputs": [
    {
     "data": {
      "text/plain": [
       "<Axes: xlabel='(Christian, %)', ylabel='(homicide, )'>"
      ]
     },
     "execution_count": 244,
     "metadata": {},
     "output_type": "execute_result"
    },
    {
     "data": {
      "image/png": "[encoded data removed]",
      "text/plain": [
       "<Figure size 640x480 with 1 Axes>"
      ]
     },
     "metadata": {},
     "output_type": "display_data"
    }
   ],
   "source": [
    "df[[(\"Christian\",\"%\"),(\"homicide\",\"\")]].plot.scatter(x=(\"Christian\",\"%\"),y=(\"homicide\",\"\"))"
   ]
  },
  {
   "cell_type": "code",
   "execution_count": 245,
   "id": "a3ba227e-0f30-42a7-8076-92064283bd05",
   "metadata": {},
   "outputs": [
    {
     "data": {
      "text/html": [
       "<div>\n",
       "<style scoped>\n",
       "    .dataframe tbody tr th:only-of-type {\n",
       "        vertical-align: middle;\n",
       "    }\n",
       "\n",
       "    .dataframe tbody tr th {\n",
       "        vertical-align: top;\n",
       "    }\n",
       "\n",
       "    .dataframe thead tr th {\n",
       "        text-align: left;\n",
       "    }\n",
       "</style>\n",
       "<table border=\"1\" class=\"dataframe\">\n",
       "  <thead>\n",
       "    <tr>\n",
       "      <th></th>\n",
       "      <th></th>\n",
       "      <th>Christian</th>\n",
       "      <th>homicide</th>\n",
       "    </tr>\n",
       "    <tr>\n",
       "      <th></th>\n",
       "      <th></th>\n",
       "      <th>%</th>\n",
       "      <th></th>\n",
       "    </tr>\n",
       "  </thead>\n",
       "  <tbody>\n",
       "    <tr>\n",
       "      <th>Christian</th>\n",
       "      <th>%</th>\n",
       "      <td>1.000000</td>\n",
       "      <td>0.339596</td>\n",
       "    </tr>\n",
       "    <tr>\n",
       "      <th>homicide</th>\n",
       "      <th></th>\n",
       "      <td>0.339596</td>\n",
       "      <td>1.000000</td>\n",
       "    </tr>\n",
       "  </tbody>\n",
       "</table>\n",
       "</div>"
      ],
      "text/plain": [
       "            Christian  homicide\n",
       "                    %          \n",
       "Christian %  1.000000  0.339596\n",
       "homicide     0.339596  1.000000"
      ]
     },
     "execution_count": 245,
     "metadata": {},
     "output_type": "execute_result"
    }
   ],
   "source": [
    "df[[(\"Hindu\",\"%\"),(\"homicide\",\"\")]].corr()"
   ]
  },
  {
   "cell_type": "code",
   "execution_count": 252,
   "id": "d7ed7bd5-e037-4fc4-afc1-a4d9a4324786",
   "metadata": {},
   "outputs": [
    {
     "data": {
      "text/plain": [
       "<Axes: xlabel='(Hindu, %)', ylabel='(homicide, )'>"
      ]
     },
     "execution_count": 252,
     "metadata": {},
     "output_type": "execute_result"
    },
    {
     "data": {
      "image/png": "[encoded data removed]",
      "text/plain": [
       "<Figure size 640x480 with 1 Axes>"
      ]
     },
     "metadata": {},
     "output_type": "display_data"
    }
   ],
   "source": [
    "df[[(\"Hindu\",\"%\"),(\"homicide\",\"\")]].plot.scatter(x=(\"Hindu\",\"%\"),y=(\"homicide\",\"\"))"
   ]
  },
  {
   "cell_type": "code",
   "execution_count": 250,
   "id": "72a5bf40-999b-4114-bad4-edcc9e5a8fd9",
   "metadata": {},
   "outputs": [
    {
     "data": {
      "text/html": [
       "<div>\n",
       "<style scoped>\n",
       "    .dataframe tbody tr th:only-of-type {\n",
       "        vertical-align: middle;\n",
       "    }\n",
       "\n",
       "    .dataframe tbody tr th {\n",
       "        vertical-align: top;\n",
       "    }\n",
       "\n",
       "    .dataframe thead tr th {\n",
       "        text-align: left;\n",
       "    }\n",
       "</style>\n",
       "<table border=\"1\" class=\"dataframe\">\n",
       "  <thead>\n",
       "    <tr>\n",
       "      <th></th>\n",
       "      <th></th>\n",
       "      <th>Irreligion</th>\n",
       "      <th>homicide</th>\n",
       "    </tr>\n",
       "    <tr>\n",
       "      <th></th>\n",
       "      <th></th>\n",
       "      <th>%</th>\n",
       "      <th></th>\n",
       "    </tr>\n",
       "  </thead>\n",
       "  <tbody>\n",
       "    <tr>\n",
       "      <th>Irreligion</th>\n",
       "      <th>%</th>\n",
       "      <td>1.000000</td>\n",
       "      <td>-0.086801</td>\n",
       "    </tr>\n",
       "    <tr>\n",
       "      <th>homicide</th>\n",
       "      <th></th>\n",
       "      <td>-0.086801</td>\n",
       "      <td>1.000000</td>\n",
       "    </tr>\n",
       "  </tbody>\n",
       "</table>\n",
       "</div>"
      ],
      "text/plain": [
       "             Irreligion  homicide\n",
       "                      %          \n",
       "Irreligion %   1.000000 -0.086801\n",
       "homicide      -0.086801  1.000000"
      ]
     },
     "execution_count": 250,
     "metadata": {},
     "output_type": "execute_result"
    }
   ],
   "source": [
    "df[[(\"Irreligion\",\"%\"),(\"homicide\",\"\")]].corr()"
   ]
  },
  {
   "cell_type": "code",
   "execution_count": 248,
   "id": "396302a0-21b8-422a-a8af-42e3a80c4996",
   "metadata": {},
   "outputs": [
    {
     "data": {
      "text/plain": [
       "<Axes: xlabel='(Irreligion, %)', ylabel='(homicide, )'>"
      ]
     },
     "execution_count": 248,
     "metadata": {},
     "output_type": "execute_result"
    },
    {
     "data": {
      "image/png": "[encoded data removed]",
      "text/plain": [
       "<Figure size 640x480 with 1 Axes>"
      ]
     },
     "metadata": {},
     "output_type": "display_data"
    }
   ],
   "source": [
    "df[[(\"Irreligion\",\"%\"),(\"homicide\",\"\")]].plot.scatter(x=(\"Irreligion\",\"%\"),y=(\"homicide\",\"\"))"
   ]
  },
  {
   "cell_type": "code",
   "execution_count": 240,
   "id": "e09ac90d-ae3f-41a4-a70b-a81eb644ce54",
   "metadata": {},
   "outputs": [
    {
     "data": {
      "text/plain": [
       "<Axes: xlabel='(gdp, )', ylabel='(homicide, )'>"
      ]
     },
     "execution_count": 240,
     "metadata": {},
     "output_type": "execute_result"
    },
    {
     "data": {
      "image/png": "[encoded data removed]",
      "text/plain": [
       "<Figure size 640x480 with 1 Axes>"
      ]
     },
     "metadata": {},
     "output_type": "display_data"
    }
   ],
   "source": [
    "df[[(\"gdp\",\"\"),(\"homicide\",\"\")]].plot.scatter(x=(\"gdp\",\"\"),y=(\"homicide\",\"\"))"
   ]
  },
  {
   "cell_type": "code",
   "execution_count": null,
   "id": "fde56951-6685-4fc1-89e0-412fab39d5c0",
   "metadata": {},
   "outputs": [],
   "source": []
  }
 ],
 "metadata": {
  "kernelspec": {
   "display_name": "Python 3 (ipykernel)",
   "language": "python",
   "name": "python3"
  },
  "language_info": {
   "codemirror_mode": {
    "name": "ipython",
    "version": 3
   },
   "file_extension": ".py",
   "mimetype": "text/x-python",
   "name": "python",
   "nbconvert_exporter": "python",
   "pygments_lexer": "ipython3",
   "version": "3.11.8"
  }
 },
 "nbformat": 4,
 "nbformat_minor": 5
}
