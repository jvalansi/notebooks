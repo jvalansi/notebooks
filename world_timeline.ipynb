{
 "cells": [
  {
   "cell_type": "code",
   "execution_count": 108,
   "metadata": {},
   "outputs": [
    {
     "name": "stdout",
     "output_type": "stream",
     "text": [
      "Collecting en_core_web_md==2.2.5 from https://github.com/explosion/spacy-models/releases/download/en_core_web_md-2.2.5/en_core_web_md-2.2.5.tar.gz#egg=en_core_web_md==2.2.5\n",
      "\u001b[?25l  Downloading https://github.com/explosion/spacy-models/releases/download/en_core_web_md-2.2.5/en_core_web_md-2.2.5.tar.gz (96.4MB)\n",
      "\u001b[K     |████████████████████████████████| 96.4MB 13.9MB/s eta 0:00:01   |█                               | 3.2MB 1.8MB/s eta 0:00:51     |███                             | 9.2MB 8.4MB/s eta 0:00:11     |██████████▎                     | 31.0MB 10.0MB/s eta 0:00:07     |████████████▏                   | 36.6MB 5.3MB/s eta 0:00:12     |████████████▉                   | 38.7MB 5.3MB/s eta 0:00:11     |███████████████▎                | 46.0MB 599kB/s eta 0:01:25     |█████████████████▌              | 52.6MB 2.5MB/s eta 0:00:18     |███████████████████             | 57.4MB 3.4MB/s eta 0:00:12     |████████████████████████        | 72.2MB 4.3MB/s eta 0:00:06     |█████████████████████████       | 75.4MB 4.3MB/s eta 0:00:05     |███████████████████████████▌    | 82.8MB 11.5MB/s eta 0:00:02     |████████████████████████████▍   | 85.4MB 4.5MB/s eta 0:00:03     |█████████████████████████████▍  | 88.4MB 4.5MB/s eta 0:00:02\n",
      "\u001b[?25hRequirement already satisfied: spacy>=2.2.2 in /Users/jordanvalansi/.venv/notebooks/lib/python3.7/site-packages (from en_core_web_md==2.2.5) (2.2.4)\n",
      "Requirement already satisfied: murmurhash<1.1.0,>=0.28.0 in /Users/jordanvalansi/.venv/notebooks/lib/python3.7/site-packages (from spacy>=2.2.2->en_core_web_md==2.2.5) (1.0.2)\n",
      "Requirement already satisfied: cymem<2.1.0,>=2.0.2 in /Users/jordanvalansi/.venv/notebooks/lib/python3.7/site-packages (from spacy>=2.2.2->en_core_web_md==2.2.5) (2.0.3)\n",
      "Requirement already satisfied: blis<0.5.0,>=0.4.0 in /Users/jordanvalansi/.venv/notebooks/lib/python3.7/site-packages (from spacy>=2.2.2->en_core_web_md==2.2.5) (0.4.1)\n",
      "Requirement already satisfied: wasabi<1.1.0,>=0.4.0 in /Users/jordanvalansi/.venv/notebooks/lib/python3.7/site-packages (from spacy>=2.2.2->en_core_web_md==2.2.5) (0.6.0)\n",
      "Requirement already satisfied: tqdm<5.0.0,>=4.38.0 in /Users/jordanvalansi/.venv/notebooks/lib/python3.7/site-packages (from spacy>=2.2.2->en_core_web_md==2.2.5) (4.45.0)\n",
      "Requirement already satisfied: requests<3.0.0,>=2.13.0 in /Users/jordanvalansi/.venv/notebooks/lib/python3.7/site-packages (from spacy>=2.2.2->en_core_web_md==2.2.5) (2.23.0)\n",
      "Requirement already satisfied: plac<1.2.0,>=0.9.6 in /Users/jordanvalansi/.venv/notebooks/lib/python3.7/site-packages (from spacy>=2.2.2->en_core_web_md==2.2.5) (1.1.3)\n",
      "Requirement already satisfied: thinc==7.4.0 in /Users/jordanvalansi/.venv/notebooks/lib/python3.7/site-packages (from spacy>=2.2.2->en_core_web_md==2.2.5) (7.4.0)\n",
      "Requirement already satisfied: setuptools in /Users/jordanvalansi/.venv/notebooks/lib/python3.7/site-packages (from spacy>=2.2.2->en_core_web_md==2.2.5) (41.2.0)\n",
      "Requirement already satisfied: preshed<3.1.0,>=3.0.2 in /Users/jordanvalansi/.venv/notebooks/lib/python3.7/site-packages (from spacy>=2.2.2->en_core_web_md==2.2.5) (3.0.2)\n",
      "Requirement already satisfied: numpy>=1.15.0 in /Users/jordanvalansi/.venv/notebooks/lib/python3.7/site-packages (from spacy>=2.2.2->en_core_web_md==2.2.5) (1.18.2)\n",
      "Requirement already satisfied: srsly<1.1.0,>=1.0.2 in /Users/jordanvalansi/.venv/notebooks/lib/python3.7/site-packages (from spacy>=2.2.2->en_core_web_md==2.2.5) (1.0.2)\n",
      "Requirement already satisfied: catalogue<1.1.0,>=0.0.7 in /Users/jordanvalansi/.venv/notebooks/lib/python3.7/site-packages (from spacy>=2.2.2->en_core_web_md==2.2.5) (1.0.0)\n",
      "Requirement already satisfied: idna<3,>=2.5 in /Users/jordanvalansi/.venv/notebooks/lib/python3.7/site-packages (from requests<3.0.0,>=2.13.0->spacy>=2.2.2->en_core_web_md==2.2.5) (2.9)\n",
      "Requirement already satisfied: urllib3!=1.25.0,!=1.25.1,<1.26,>=1.21.1 in /Users/jordanvalansi/.venv/notebooks/lib/python3.7/site-packages (from requests<3.0.0,>=2.13.0->spacy>=2.2.2->en_core_web_md==2.2.5) (1.25.8)\n",
      "Requirement already satisfied: chardet<4,>=3.0.2 in /Users/jordanvalansi/.venv/notebooks/lib/python3.7/site-packages (from requests<3.0.0,>=2.13.0->spacy>=2.2.2->en_core_web_md==2.2.5) (3.0.4)\n",
      "Requirement already satisfied: certifi>=2017.4.17 in /Users/jordanvalansi/.venv/notebooks/lib/python3.7/site-packages (from requests<3.0.0,>=2.13.0->spacy>=2.2.2->en_core_web_md==2.2.5) (2020.4.5.1)\n",
      "Requirement already satisfied: importlib-metadata>=0.20; python_version < \"3.8\" in /Users/jordanvalansi/.venv/notebooks/lib/python3.7/site-packages (from catalogue<1.1.0,>=0.0.7->spacy>=2.2.2->en_core_web_md==2.2.5) (1.6.0)\n",
      "Requirement already satisfied: zipp>=0.5 in /Users/jordanvalansi/.venv/notebooks/lib/python3.7/site-packages (from importlib-metadata>=0.20; python_version < \"3.8\"->catalogue<1.1.0,>=0.0.7->spacy>=2.2.2->en_core_web_md==2.2.5) (3.1.0)\n",
      "Installing collected packages: en-core-web-md\n",
      "  Running setup.py install for en-core-web-md ... \u001b[?25ldone\n",
      "\u001b[?25hSuccessfully installed en-core-web-md-2.2.5\n",
      "\u001b[33mWARNING: You are using pip version 19.2.3, however version 20.0.2 is available.\n",
      "You should consider upgrading via the 'pip install --upgrade pip' command.\u001b[0m\n",
      "\u001b[38;5;2m✔ Download and installation successful\u001b[0m\n",
      "You can now load the model via spacy.load('en_core_web_md')\n"
     ]
    }
   ],
   "source": [
    "!python -m spacy download en_core_web_md"
   ]
  },
  {
   "cell_type": "code",
   "execution_count": 2,
   "metadata": {},
   "outputs": [],
   "source": [
    "import logging\n",
    "from collections import Counter, defaultdict\n",
    "import wikipediaapi\n",
    "from tqdm.notebook import tqdm\n",
    "import spacy\n",
    "import pandas as pd\n",
    "import numpy as np\n",
    "from sklearn.cluster import KMeans\n",
    "\n",
    "# nlp = spacy.load(\"en_core_web_sm\")\n"
   ]
  },
  {
   "cell_type": "code",
   "execution_count": 3,
   "metadata": {},
   "outputs": [],
   "source": [
    "nlp = spacy.load(\"en_core_web_md\")"
   ]
  },
  {
   "cell_type": "code",
   "execution_count": 4,
   "metadata": {},
   "outputs": [],
   "source": [
    "enwiki = wikipediaapi.Wikipedia('en')"
   ]
  },
  {
   "cell_type": "code",
   "execution_count": 5,
   "metadata": {},
   "outputs": [],
   "source": [
    "def get_verbs(section):\n",
    "    c = Counter()\n",
    "    for line in section.splitlines():\n",
    "        doc = nlp(line)\n",
    "        c += Counter([t for t in doc if t.pos_=='VERB'])\n",
    "    return c"
   ]
  },
  {
   "cell_type": "code",
   "execution_count": 6,
   "metadata": {},
   "outputs": [],
   "source": [
    "def get_entities(section):\n",
    "    c = Counter()\n",
    "    for line in section.splitlines():\n",
    "        doc = nlp(line)\n",
    "        c += Counter([(t.label_, t.text) for t in doc.ents])\n",
    "    return c    "
   ]
  },
  {
   "cell_type": "code",
   "execution_count": 7,
   "metadata": {},
   "outputs": [],
   "source": [
    "def get_from_timeline(timeline, f):\n",
    "    verbs = Counter()\n",
    "    for section in timeline.section_by_title('Events').sections:\n",
    "        verbs += f(section.text)\n",
    "    return verbs"
   ]
  },
  {
   "cell_type": "code",
   "execution_count": 8,
   "metadata": {},
   "outputs": [],
   "source": [
    "ordinal = lambda n: \"%d%s\"%(n,{1:\"st\",2:\"nd\",3:\"rd\"}.get(n if n<20 else n%10,\"th\"))"
   ]
  },
  {
   "cell_type": "code",
   "execution_count": 9,
   "metadata": {},
   "outputs": [],
   "source": [
    "def get_from_pages(titles):\n",
    "    verbs = Counter()\n",
    "    entities = Counter()\n",
    "    for title in tqdm(titles):\n",
    "        logging.info(title)\n",
    "        timeline = enwiki.page(title)\n",
    "        try:\n",
    "            verbs += get_from_timeline(timeline, get_verbs)\n",
    "            entities += get_from_timeline(timeline, get_entities)\n",
    "        except AttributeError as e:\n",
    "            logging.warning(e)\n",
    "    return verbs, entities"
   ]
  },
  {
   "cell_type": "code",
   "execution_count": 10,
   "metadata": {},
   "outputs": [],
   "source": [
    "titles = [f\"{ordinal(i)}_century\" for i in range(20)]"
   ]
  },
  {
   "cell_type": "code",
   "execution_count": 12,
   "metadata": {},
   "outputs": [
    {
     "data": {
      "application/vnd.jupyter.widget-view+json": {
       "model_id": "ac06e45d892d46ee8b296775a7b9615f",
       "version_major": 2,
       "version_minor": 0
      },
      "text/plain": [
       "HBox(children=(FloatProgress(value=0.0, max=1000.0), HTML(value='')))"
      ]
     },
     "metadata": {},
     "output_type": "display_data"
    },
    {
     "name": "stdout",
     "output_type": "stream",
     "text": [
      "\n"
     ]
    },
    {
     "data": {
      "application/vnd.jupyter.widget-view+json": {
       "model_id": "fc4dcbe2df254b5aa63b39c67ed77357",
       "version_major": 2,
       "version_minor": 0
      },
      "text/plain": [
       "HBox(children=(FloatProgress(value=0.0, max=1000.0), HTML(value='')))"
      ]
     },
     "metadata": {},
     "output_type": "display_data"
    },
    {
     "name": "stderr",
     "output_type": "stream",
     "text": [
      "/Users/jordanvalansi/.venv/notebooks/lib/python3.7/site-packages/ipykernel_launcher.py:11: DeprecationWarning: The 'warn' function is deprecated, use 'warning' instead\n",
      "  # This is added back by InteractiveShellApp.init_path()\n",
      "WARNING:root:'NoneType' object has no attribute 'sections'\n",
      "WARNING:root:'NoneType' object has no attribute 'sections'\n",
      "WARNING:root:'NoneType' object has no attribute 'sections'\n",
      "WARNING:root:'NoneType' object has no attribute 'sections'\n",
      "WARNING:root:'NoneType' object has no attribute 'sections'\n",
      "WARNING:root:'NoneType' object has no attribute 'sections'\n",
      "WARNING:root:'NoneType' object has no attribute 'sections'\n",
      "WARNING:root:'NoneType' object has no attribute 'sections'\n",
      "WARNING:root:'NoneType' object has no attribute 'sections'\n",
      "WARNING:root:'NoneType' object has no attribute 'sections'\n",
      "WARNING:root:'NoneType' object has no attribute 'sections'\n",
      "WARNING:root:'NoneType' object has no attribute 'sections'\n",
      "WARNING:root:'NoneType' object has no attribute 'sections'\n",
      "WARNING:root:'NoneType' object has no attribute 'sections'\n",
      "WARNING:root:'NoneType' object has no attribute 'sections'\n",
      "WARNING:root:'NoneType' object has no attribute 'sections'\n",
      "WARNING:root:'NoneType' object has no attribute 'sections'\n",
      "WARNING:root:'NoneType' object has no attribute 'sections'\n",
      "WARNING:root:'NoneType' object has no attribute 'sections'\n",
      "WARNING:root:'NoneType' object has no attribute 'sections'\n",
      "WARNING:root:'NoneType' object has no attribute 'sections'\n",
      "WARNING:root:'NoneType' object has no attribute 'sections'\n",
      "WARNING:root:'NoneType' object has no attribute 'sections'\n",
      "WARNING:root:'NoneType' object has no attribute 'sections'\n",
      "WARNING:root:'NoneType' object has no attribute 'sections'\n",
      "WARNING:root:'NoneType' object has no attribute 'sections'\n",
      "WARNING:root:'NoneType' object has no attribute 'sections'\n",
      "WARNING:root:'NoneType' object has no attribute 'sections'\n",
      "WARNING:root:'NoneType' object has no attribute 'sections'\n",
      "WARNING:root:'NoneType' object has no attribute 'sections'\n",
      "WARNING:root:'NoneType' object has no attribute 'sections'\n",
      "WARNING:root:'NoneType' object has no attribute 'sections'\n",
      "WARNING:root:'NoneType' object has no attribute 'sections'\n",
      "WARNING:root:'NoneType' object has no attribute 'sections'\n",
      "WARNING:root:'NoneType' object has no attribute 'sections'\n",
      "WARNING:root:'NoneType' object has no attribute 'sections'\n",
      "WARNING:root:'NoneType' object has no attribute 'sections'\n",
      "WARNING:root:'NoneType' object has no attribute 'sections'\n",
      "WARNING:root:'NoneType' object has no attribute 'sections'\n",
      "WARNING:root:'NoneType' object has no attribute 'sections'\n",
      "WARNING:root:'NoneType' object has no attribute 'sections'\n",
      "WARNING:root:'NoneType' object has no attribute 'sections'\n",
      "WARNING:root:'NoneType' object has no attribute 'sections'\n",
      "WARNING:root:'NoneType' object has no attribute 'sections'\n",
      "WARNING:root:'NoneType' object has no attribute 'sections'\n",
      "WARNING:root:'NoneType' object has no attribute 'sections'\n",
      "WARNING:root:'NoneType' object has no attribute 'sections'\n",
      "WARNING:root:'NoneType' object has no attribute 'sections'\n",
      "WARNING:root:'NoneType' object has no attribute 'sections'\n",
      "WARNING:root:'NoneType' object has no attribute 'sections'\n",
      "WARNING:root:'NoneType' object has no attribute 'sections'\n",
      "WARNING:root:'NoneType' object has no attribute 'sections'\n",
      "WARNING:root:'NoneType' object has no attribute 'sections'\n",
      "WARNING:root:'NoneType' object has no attribute 'sections'\n",
      "WARNING:root:'NoneType' object has no attribute 'sections'\n",
      "WARNING:root:'NoneType' object has no attribute 'sections'\n",
      "WARNING:root:'NoneType' object has no attribute 'sections'\n",
      "WARNING:root:'NoneType' object has no attribute 'sections'\n",
      "WARNING:root:'NoneType' object has no attribute 'sections'\n",
      "WARNING:root:'NoneType' object has no attribute 'sections'\n",
      "WARNING:root:'NoneType' object has no attribute 'sections'\n",
      "WARNING:root:'NoneType' object has no attribute 'sections'\n",
      "WARNING:root:'NoneType' object has no attribute 'sections'\n",
      "WARNING:root:'NoneType' object has no attribute 'sections'\n",
      "WARNING:root:'NoneType' object has no attribute 'sections'\n",
      "WARNING:root:'NoneType' object has no attribute 'sections'\n",
      "WARNING:root:'NoneType' object has no attribute 'sections'\n",
      "WARNING:root:'NoneType' object has no attribute 'sections'\n",
      "WARNING:root:'NoneType' object has no attribute 'sections'\n",
      "WARNING:root:'NoneType' object has no attribute 'sections'\n",
      "WARNING:root:'NoneType' object has no attribute 'sections'\n",
      "WARNING:root:'NoneType' object has no attribute 'sections'\n",
      "WARNING:root:'NoneType' object has no attribute 'sections'\n",
      "WARNING:root:'NoneType' object has no attribute 'sections'\n",
      "WARNING:root:'NoneType' object has no attribute 'sections'\n",
      "WARNING:root:'NoneType' object has no attribute 'sections'\n",
      "WARNING:root:'NoneType' object has no attribute 'sections'\n",
      "WARNING:root:'NoneType' object has no attribute 'sections'\n",
      "WARNING:root:'NoneType' object has no attribute 'sections'\n",
      "WARNING:root:'NoneType' object has no attribute 'sections'\n",
      "WARNING:root:'NoneType' object has no attribute 'sections'\n",
      "WARNING:root:'NoneType' object has no attribute 'sections'\n",
      "WARNING:root:'NoneType' object has no attribute 'sections'\n",
      "WARNING:root:'NoneType' object has no attribute 'sections'\n",
      "WARNING:root:'NoneType' object has no attribute 'sections'\n",
      "WARNING:root:'NoneType' object has no attribute 'sections'\n",
      "WARNING:root:'NoneType' object has no attribute 'sections'\n",
      "WARNING:root:'NoneType' object has no attribute 'sections'\n",
      "WARNING:root:'NoneType' object has no attribute 'sections'\n",
      "WARNING:root:'NoneType' object has no attribute 'sections'\n",
      "WARNING:root:'NoneType' object has no attribute 'sections'\n",
      "WARNING:root:'NoneType' object has no attribute 'sections'\n",
      "WARNING:root:'NoneType' object has no attribute 'sections'\n",
      "WARNING:root:'NoneType' object has no attribute 'sections'\n",
      "WARNING:root:'NoneType' object has no attribute 'sections'\n",
      "WARNING:root:'NoneType' object has no attribute 'sections'\n",
      "WARNING:root:'NoneType' object has no attribute 'sections'\n",
      "WARNING:root:'NoneType' object has no attribute 'sections'\n",
      "WARNING:root:'NoneType' object has no attribute 'sections'\n",
      "WARNING:root:'NoneType' object has no attribute 'sections'\n",
      "WARNING:root:'NoneType' object has no attribute 'sections'\n",
      "WARNING:root:'NoneType' object has no attribute 'sections'\n",
      "WARNING:root:'NoneType' object has no attribute 'sections'\n",
      "WARNING:root:'NoneType' object has no attribute 'sections'\n",
      "WARNING:root:'NoneType' object has no attribute 'sections'\n",
      "WARNING:root:'NoneType' object has no attribute 'sections'\n",
      "WARNING:root:'NoneType' object has no attribute 'sections'\n",
      "WARNING:root:'NoneType' object has no attribute 'sections'\n",
      "WARNING:root:'NoneType' object has no attribute 'sections'\n",
      "WARNING:root:'NoneType' object has no attribute 'sections'\n",
      "WARNING:root:'NoneType' object has no attribute 'sections'\n",
      "WARNING:root:'NoneType' object has no attribute 'sections'\n",
      "WARNING:root:'NoneType' object has no attribute 'sections'\n",
      "WARNING:root:'NoneType' object has no attribute 'sections'\n",
      "WARNING:root:'NoneType' object has no attribute 'sections'\n",
      "WARNING:root:'NoneType' object has no attribute 'sections'\n",
      "WARNING:root:'NoneType' object has no attribute 'sections'\n",
      "WARNING:root:'NoneType' object has no attribute 'sections'\n",
      "WARNING:root:'NoneType' object has no attribute 'sections'\n",
      "WARNING:root:'NoneType' object has no attribute 'sections'\n",
      "WARNING:root:'NoneType' object has no attribute 'sections'\n",
      "WARNING:root:'NoneType' object has no attribute 'sections'\n",
      "WARNING:root:'NoneType' object has no attribute 'sections'\n",
      "WARNING:root:'NoneType' object has no attribute 'sections'\n",
      "WARNING:root:'NoneType' object has no attribute 'sections'\n",
      "WARNING:root:'NoneType' object has no attribute 'sections'\n",
      "WARNING:root:'NoneType' object has no attribute 'sections'\n",
      "WARNING:root:'NoneType' object has no attribute 'sections'\n",
      "WARNING:root:'NoneType' object has no attribute 'sections'\n",
      "WARNING:root:'NoneType' object has no attribute 'sections'\n",
      "WARNING:root:'NoneType' object has no attribute 'sections'\n",
      "WARNING:root:'NoneType' object has no attribute 'sections'\n",
      "WARNING:root:'NoneType' object has no attribute 'sections'\n",
      "WARNING:root:'NoneType' object has no attribute 'sections'\n",
      "WARNING:root:'NoneType' object has no attribute 'sections'\n",
      "WARNING:root:'NoneType' object has no attribute 'sections'\n"
     ]
    },
    {
     "name": "stderr",
     "output_type": "stream",
     "text": [
      "WARNING:root:'NoneType' object has no attribute 'sections'\n",
      "WARNING:root:'NoneType' object has no attribute 'sections'\n",
      "WARNING:root:'NoneType' object has no attribute 'sections'\n",
      "WARNING:root:'NoneType' object has no attribute 'sections'\n",
      "WARNING:root:'NoneType' object has no attribute 'sections'\n",
      "WARNING:root:'NoneType' object has no attribute 'sections'\n",
      "WARNING:root:'NoneType' object has no attribute 'sections'\n",
      "WARNING:root:'NoneType' object has no attribute 'sections'\n",
      "WARNING:root:'NoneType' object has no attribute 'sections'\n",
      "WARNING:root:'NoneType' object has no attribute 'sections'\n",
      "WARNING:root:'NoneType' object has no attribute 'sections'\n",
      "WARNING:root:'NoneType' object has no attribute 'sections'\n",
      "WARNING:root:'NoneType' object has no attribute 'sections'\n",
      "WARNING:root:'NoneType' object has no attribute 'sections'\n",
      "WARNING:root:'NoneType' object has no attribute 'sections'\n",
      "WARNING:root:'NoneType' object has no attribute 'sections'\n",
      "WARNING:root:'NoneType' object has no attribute 'sections'\n",
      "WARNING:root:'NoneType' object has no attribute 'sections'\n",
      "WARNING:root:'NoneType' object has no attribute 'sections'\n",
      "WARNING:root:'NoneType' object has no attribute 'sections'\n",
      "WARNING:root:'NoneType' object has no attribute 'sections'\n",
      "WARNING:root:'NoneType' object has no attribute 'sections'\n",
      "WARNING:root:'NoneType' object has no attribute 'sections'\n",
      "WARNING:root:'NoneType' object has no attribute 'sections'\n",
      "WARNING:root:'NoneType' object has no attribute 'sections'\n",
      "WARNING:root:'NoneType' object has no attribute 'sections'\n",
      "WARNING:root:'NoneType' object has no attribute 'sections'\n",
      "WARNING:root:'NoneType' object has no attribute 'sections'\n",
      "WARNING:root:'NoneType' object has no attribute 'sections'\n",
      "WARNING:root:'NoneType' object has no attribute 'sections'\n",
      "WARNING:root:'NoneType' object has no attribute 'sections'\n",
      "WARNING:root:'NoneType' object has no attribute 'sections'\n",
      "WARNING:root:'NoneType' object has no attribute 'sections'\n"
     ]
    },
    {
     "name": "stdout",
     "output_type": "stream",
     "text": [
      "\n"
     ]
    }
   ],
   "source": [
    "verbs, entities = get_from_pages([str(i) for i in tqdm(range(1000))])"
   ]
  },
  {
   "cell_type": "code",
   "execution_count": 23,
   "metadata": {},
   "outputs": [
    {
     "data": {
      "text/plain": [
       "198"
      ]
     },
     "execution_count": 23,
     "metadata": {},
     "output_type": "execute_result"
    }
   ],
   "source": [
    "len(entities)"
   ]
  },
  {
   "cell_type": "code",
   "execution_count": 14,
   "metadata": {},
   "outputs": [],
   "source": [
    "df = pd.DataFrame([v.vector for v in verbs], index=[v.text for v in verbs])"
   ]
  },
  {
   "cell_type": "code",
   "execution_count": 17,
   "metadata": {},
   "outputs": [
    {
     "data": {
      "text/plain": [
       "(126, 300)"
      ]
     },
     "execution_count": 17,
     "metadata": {},
     "output_type": "execute_result"
    }
   ],
   "source": [
    "df.shape"
   ]
  },
  {
   "cell_type": "markdown",
   "metadata": {},
   "source": [
    "# Cluster"
   ]
  },
  {
   "cell_type": "code",
   "execution_count": 37,
   "metadata": {},
   "outputs": [],
   "source": [
    "kmeans = KMeans(n_clusters=10, random_state=0).fit(df.values)"
   ]
  },
  {
   "cell_type": "code",
   "execution_count": 47,
   "metadata": {},
   "outputs": [],
   "source": [
    "clusters = [(l, v.lemma_) ]"
   ]
  },
  {
   "cell_type": "code",
   "execution_count": 53,
   "metadata": {},
   "outputs": [],
   "source": [
    "d = defaultdict(dict)\n",
    "for l,v,c in zip(kmeans.labels_, verbs.keys(), verbs.values()):\n",
    "    d[l][v] = c"
   ]
  },
  {
   "cell_type": "code",
   "execution_count": 55,
   "metadata": {},
   "outputs": [],
   "source": [
    "for k,v in d.items():\n",
    "    d[k] = Counter(v)"
   ]
  },
  {
   "cell_type": "code",
   "execution_count": 57,
   "metadata": {},
   "outputs": [
    {
     "name": "stdout",
     "output_type": "stream",
     "text": [
      "6 [(arises, 1)]\n",
      "2 [(starts, 1)]\n",
      "4 [(established, 1)]\n",
      "8 [(unified, 1)]\n",
      "7 [(attacked, 1)]\n",
      "1 [(defeated, 1)]\n",
      "5 [(led, 1)]\n",
      "0 [(writes, 1)]\n",
      "9 [(invades, 1)]\n",
      "3 [(dies, 1)]\n"
     ]
    }
   ],
   "source": [
    "for k in d:\n",
    "    print(k, d[k].most_common(1))"
   ]
  },
  {
   "cell_type": "markdown",
   "metadata": {},
   "source": [
    "# Tensorboard"
   ]
  },
  {
   "cell_type": "code",
   "execution_count": 28,
   "metadata": {},
   "outputs": [],
   "source": [
    "df.to_csv('data/verbs.vecs', index=None, header=None, sep='\\t')"
   ]
  },
  {
   "cell_type": "code",
   "execution_count": 33,
   "metadata": {},
   "outputs": [],
   "source": [
    "with open('data/verbs.names', 'w') as f:\n",
    "    f.write('\\n'.join([v.lemma_ for v in verbs]))"
   ]
  },
  {
   "cell_type": "code",
   "execution_count": 95,
   "metadata": {},
   "outputs": [],
   "source": [
    "# "
   ]
  },
  {
   "cell_type": "code",
   "execution_count": 97,
   "metadata": {},
   "outputs": [],
   "source": [
    "d = defaultdict(dict)\n",
    "for (label, text), count in c.items():\n",
    "    d[label][text] = count"
   ]
  },
  {
   "cell_type": "code",
   "execution_count": 99,
   "metadata": {},
   "outputs": [],
   "source": [
    "for k,v  in d.items():\n",
    "    d[k] = Counter(v)"
   ]
  },
  {
   "cell_type": "code",
   "execution_count": 101,
   "metadata": {},
   "outputs": [
    {
     "name": "stdout",
     "output_type": "stream",
     "text": [
      "CARDINAL\n",
      "[('1500', 7), ('1521', 6), ('1600', 6), ('1565', 5), ('three', 4), ('two', 4), ('1093', 4), ('1099', 4), ('1536', 4), ('1541', 4)]\n",
      "GPE\n",
      "[('England', 34), ('France', 30), ('China', 29), ('Spain', 28), ('Portugal', 21), ('Russia', 16), ('Hungary', 15), ('Indonesia', 14), ('India', 14), ('the Ottoman Empire', 13)]\n",
      "LOC\n",
      "[('North America', 10), ('Europe', 10), ('the Holy Roman Empire', 4), ('Americas', 4), ('Asia', 4), ('the East Indies', 4), ('Africa', 3), ('Earth', 3), ('Mexica', 2), ('Western Europe', 2)]\n",
      "PERSON\n",
      "[('Malacca', 7), ('Mongols', 6), ('Java', 6), ('Majapahit', 5), ('Joan', 5), ('Ming Dynasty', 5), ('Ambon', 5), ('Famine', 5), ('Kievan Rus', 4), ('Edward', 4)]\n",
      "ORG\n",
      "[('VOC', 6), ('Mataram', 5), ('Java', 4), ('Islam', 4), ('the Roman Catholic Church', 3), ('Church', 3), ('Singhasari', 3), ('Sumatra', 3), ('King of England', 3), ('Russo-Turkish War', 3)]\n",
      "DATE\n",
      "[('present-day', 16), ('1556', 8), ('1598', 7), ('1513', 6), ('1547', 6), ('1572', 6), ('1506', 5), ('1560', 5), ('1571', 5), ('1579', 4)]\n",
      "NORP\n",
      "[('Spanish', 35), ('Portuguese', 33), ('French', 29), ('Dutch', 18), ('Chinese', 15), ('Ottomans', 11), ('British', 11), ('Polish', 10), ('European', 9), ('Muslim', 8)]\n",
      "WORK_OF_ART\n",
      "[('Classic Maya', 1), ('The Tale of Genji', 1), ('the Khitan Liao dynasty', 1), ('Book of Optics', 1), ('The Book of Healing', 1), ('The Canon of Medicine', 1), ('Vsevolod I of Kiev', 1), ('Queen of Castille', 1), ('Dream Pool Essays', 1), ('Alexios I Komnenos', 1)]\n",
      "ORDINAL\n",
      "[('first', 59), ('First', 12), ('second', 5), ('Second', 5), ('Third', 3), ('fourth', 2), ('Ninth', 1), ('207th', 1), ('5th', 1), ('Fifth', 1)]\n",
      "EVENT\n",
      "[('the Chinese Song dynasty', 3), ('the Great Horde', 2), ('English Civil War', 2), ('The Great Turkish War', 2), ('the Battle of Kleidion', 1), ('Goryeo-Khitan War', 1), ('the Battle of Civitate', 1), ('the Battle of Hastings', 1), (\"the 'New Policies'\", 1), ('the First Battle of Langensalza', 1)]\n",
      "FAC\n",
      "[('the Golden Bull', 2), ('the Astrakhan Khanate', 2), ('the Crimean Khanate', 2), ('Medang kingdom', 1), ('the Battle of Cannae', 1), ('the Battle of Kwiju', 1), ('Rex perpetuum Norvegiae', 1), ('the Qingli Reforms', 1), ('the Battle of Manzikert', 1), ('Malik Shah', 1)]\n",
      "LAW\n",
      "[('the Anterior Lê Dynasty', 1), ('the Battle of Nesjar', 1), ('the Battle of Atapuerca', 1), ('Švitrigaila sign the Treaty of Christmemel', 1), ('the Treaty of Tordesillas', 1), ('Spice', 1), ('the Battle of Preveza', 1), ('The Stamp Act', 1), ('the Great Reform Act', 1), ('the First Geneva Convention', 1)]\n",
      "PRODUCT\n",
      "[('Crusaders', 5), ('Galileo', 2), ('Melus of Bari', 1), ('Someshvara II', 1), ('Tanguts', 1), ('Khazars', 1), ('Constantinople', 1), ('Rhodes', 1), ('the Battle of az-Zallaqah', 1), ('the Holy Lands', 1)]\n",
      "LANGUAGE\n",
      "[('English', 15), ('Portuguese', 2), ('Chinese', 1), ('Bantenese', 1), ('Polish', 1), ('Russian', 1)]\n",
      "PERCENT\n",
      "[('about 40%', 1), ('20 percent', 1), ('roughly 10%', 1)]\n",
      "MONEY\n",
      "[('400 per cent', 1), ('1709 marks', 1)]\n",
      "TIME\n",
      "[('Later in the year', 1)]\n"
     ]
    }
   ],
   "source": [
    "for k,v in d.items():\n",
    "    print(k)\n",
    "    print(v.most_common(10))"
   ]
  },
  {
   "cell_type": "code",
   "execution_count": 88,
   "metadata": {},
   "outputs": [],
   "source": [
    "d1 = {'c': 2, \"d\": 3}\n",
    "d2 = {'c': 4, \"d\": 35}"
   ]
  },
  {
   "cell_type": "code",
   "execution_count": 91,
   "metadata": {},
   "outputs": [
    {
     "ename": "TypeError",
     "evalue": "unsupported operand type(s) for |=: 'dict' and 'dict'",
     "output_type": "error",
     "traceback": [
      "\u001b[0;31m---------------------------------------------------------------------------\u001b[0m",
      "\u001b[0;31mTypeError\u001b[0m                                 Traceback (most recent call last)",
      "\u001b[0;32m<ipython-input-91-4349113f82d4>\u001b[0m in \u001b[0;36m<module>\u001b[0;34m\u001b[0m\n\u001b[0;32m----> 1\u001b[0;31m \u001b[0md1\u001b[0m \u001b[0;34m|=\u001b[0m \u001b[0md2\u001b[0m\u001b[0;34m\u001b[0m\u001b[0;34m\u001b[0m\u001b[0m\n\u001b[0m",
      "\u001b[0;31mTypeError\u001b[0m: unsupported operand type(s) for |=: 'dict' and 'dict'"
     ]
    }
   ],
   "source": []
  },
  {
   "cell_type": "code",
   "execution_count": null,
   "metadata": {},
   "outputs": [],
   "source": []
  }
 ],
 "metadata": {
  "kernelspec": {
   "display_name": "Python 3",
   "language": "python",
   "name": "python3"
  },
  "language_info": {
   "codemirror_mode": {
    "name": "ipython",
    "version": 3
   },
   "file_extension": ".py",
   "mimetype": "text/x-python",
   "name": "python",
   "nbconvert_exporter": "python",
   "pygments_lexer": "ipython3",
   "version": "3.7.7"
  }
 },
 "nbformat": 4,
 "nbformat_minor": 4
}
