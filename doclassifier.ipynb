{
 "cells": [
  {
   "cell_type": "code",
   "execution_count": 1140,
   "metadata": {},
   "outputs": [
    {
     "name": "stdout",
     "output_type": "stream",
     "text": [
      "The autoreload extension is already loaded. To reload it, use:\n",
      "  %reload_ext autoreload\n"
     ]
    }
   ],
   "source": [
    "%load_ext autoreload\n",
    "%autoreload 2\n",
    "from doclassifier import *"
   ]
  },
  {
   "cell_type": "code",
   "execution_count": 2,
   "metadata": {},
   "outputs": [],
   "source": [
    "freqs = get_freqs()"
   ]
  },
  {
   "cell_type": "code",
   "execution_count": 952,
   "metadata": {},
   "outputs": [
    {
     "name": "stdout",
     "output_type": "stream",
     "text": [
      "/Users/jordanvalansi/Downloads/Thoughts/.DS_Store Not added\n",
      "/Users/jordanvalansi/Downloads/Thoughts/logical fallacies.xlsx Not added\n",
      "/Users/jordanvalansi/Downloads/Thoughts/Untitled drawing(2).jpg Not added\n",
      "/Users/jordanvalansi/Downloads/Thoughts/Untitled drawing(1).jpg Not added\n",
      "/Users/jordanvalansi/Downloads/Thoughts/Untitled spreadsheet.xlsx Not added\n",
      "/Users/jordanvalansi/Downloads/Thoughts/Untitled drawing.jpg Not added\n",
      "/Users/jordanvalansi/Downloads/Thoughts/Letter Origin.jpg Not added\n"
     ]
    }
   ],
   "source": [
    "path_name = '/Users/jordanvalansi/Downloads/Thoughts' \n",
    "text_dict = get_texts(path_name, split_level='sentence')\n",
    "texts = [text for name, texts in text_dict.items() for text in texts]\n",
    "texts_words = [ re.split('[\\s'+string.punctuation+']+', text) for text in texts]\n",
    "words = [w for text in texts_words for w in text]\n",
    "c = collections.Counter(words)\n",
    "# c2 = {w: sum([w in text_words for text_words in texts_words]) for w in c}\n",
    "# c2 = {k: v for k, v in c2.items() if v>3}\n",
    "# #bigrams = [b for l in texts for b in zip(l.split(\" \")[:-1], l.split(\" \")[1:])]\n",
    "# freqs = get_freqs()\n",
    "# c3 = df_idf(c2, freqs)\n",
    "# for k,v in c3.most_common(100):\n",
    "#     print(\"{} {}\".format(k,v))\n",
    "\n"
   ]
  },
  {
   "cell_type": "code",
   "execution_count": 938,
   "metadata": {},
   "outputs": [
    {
     "name": "stdout",
     "output_type": "stream",
     "text": [
      "/Users/jordanvalansi/Downloads/Thoughts/.DS_Store Not added\n",
      "/Users/jordanvalansi/Downloads/Thoughts/logical fallacies.xlsx Not added\n",
      "/Users/jordanvalansi/Downloads/Thoughts/Untitled drawing(2).jpg Not added\n",
      "/Users/jordanvalansi/Downloads/Thoughts/Untitled drawing(1).jpg Not added\n",
      "/Users/jordanvalansi/Downloads/Thoughts/Untitled spreadsheet.xlsx Not added\n",
      "/Users/jordanvalansi/Downloads/Thoughts/Untitled drawing.jpg Not added\n",
      "/Users/jordanvalansi/Downloads/Thoughts/Letter Origin.jpg Not added\n"
     ]
    }
   ],
   "source": [
    "para_dict = get_texts(path_name, split_level='paragraph')"
   ]
  },
  {
   "cell_type": "code",
   "execution_count": 941,
   "metadata": {},
   "outputs": [],
   "source": [
    "paragraphs = [text for name, texts in para_dict.items() for text in texts]"
   ]
  },
  {
   "cell_type": "code",
   "execution_count": 940,
   "metadata": {},
   "outputs": [
    {
     "data": {
      "text/plain": [
       "840"
      ]
     },
     "execution_count": 940,
     "metadata": {},
     "output_type": "execute_result"
    }
   ],
   "source": [
    "sum([len(v) for v in para_dict.values()])"
   ]
  },
  {
   "cell_type": "code",
   "execution_count": 160,
   "metadata": {},
   "outputs": [
    {
     "data": {
      "text/plain": [
       "5066"
      ]
     },
     "execution_count": 160,
     "metadata": {},
     "output_type": "execute_result"
    }
   ],
   "source": [
    "len(texts_words)"
   ]
  },
  {
   "cell_type": "code",
   "execution_count": 178,
   "metadata": {},
   "outputs": [],
   "source": [
    "from yandex_translate import YandexTranslate, YandexTranslateException"
   ]
  },
  {
   "cell_type": "code",
   "execution_count": 163,
   "metadata": {},
   "outputs": [],
   "source": [
    "translate = YandexTranslate('trnsl.1.1.20181224T230635Z.693eab4c8554b089.84d0171c058028fc88a5905d980a60d305fdfad1')"
   ]
  },
  {
   "cell_type": "code",
   "execution_count": 175,
   "metadata": {},
   "outputs": [
    {
     "ename": "YandexTranslateException",
     "evalue": "ERR_TEXT_TOO_LONG",
     "output_type": "error",
     "traceback": [
      "\u001b[0;31m---------------------------------------------------------------------------\u001b[0m",
      "\u001b[0;31mYandexTranslateException\u001b[0m                  Traceback (most recent call last)",
      "\u001b[0;32m<ipython-input-175-26411dfdb344>\u001b[0m in \u001b[0;36m<module>\u001b[0;34m()\u001b[0m\n\u001b[0;32m----> 1\u001b[0;31m \u001b[0men_sents\u001b[0m \u001b[0;34m=\u001b[0m \u001b[0mtranslate\u001b[0m\u001b[0;34m.\u001b[0m\u001b[0mtranslate\u001b[0m\u001b[0;34m(\u001b[0m\u001b[0mtexts\u001b[0m\u001b[0;34m,\u001b[0m \u001b[0;34m'en'\u001b[0m\u001b[0;34m)\u001b[0m\u001b[0;34m[\u001b[0m\u001b[0;34m'text'\u001b[0m\u001b[0;34m]\u001b[0m\u001b[0;34m\u001b[0m\u001b[0m\n\u001b[0m",
      "\u001b[0;32m/Library/Frameworks/Python.framework/Versions/3.6/lib/python3.6/site-packages/yandex_translate/__init__.py\u001b[0m in \u001b[0;36mtranslate\u001b[0;34m(self, text, lang, format)\u001b[0m\n\u001b[1;32m    148\u001b[0m     \u001b[0mstatus_code\u001b[0m \u001b[0;34m=\u001b[0m \u001b[0mresponse\u001b[0m\u001b[0;34m.\u001b[0m\u001b[0mget\u001b[0m\u001b[0;34m(\u001b[0m\u001b[0;34m\"code\"\u001b[0m\u001b[0;34m,\u001b[0m \u001b[0;36m200\u001b[0m\u001b[0;34m)\u001b[0m\u001b[0;34m\u001b[0m\u001b[0m\n\u001b[1;32m    149\u001b[0m     \u001b[0;32mif\u001b[0m \u001b[0;32mnot\u001b[0m \u001b[0mstatus_code\u001b[0m \u001b[0;32mis\u001b[0m \u001b[0;36m200\u001b[0m\u001b[0;34m:\u001b[0m\u001b[0;34m\u001b[0m\u001b[0m\n\u001b[0;32m--> 150\u001b[0;31m       \u001b[0;32mraise\u001b[0m \u001b[0mYandexTranslateException\u001b[0m\u001b[0;34m(\u001b[0m\u001b[0mstatus_code\u001b[0m\u001b[0;34m)\u001b[0m\u001b[0;34m\u001b[0m\u001b[0m\n\u001b[0m\u001b[1;32m    151\u001b[0m     \u001b[0;32mreturn\u001b[0m \u001b[0mresponse\u001b[0m\u001b[0;34m\u001b[0m\u001b[0m\n\u001b[1;32m    152\u001b[0m \u001b[0;34m\u001b[0m\u001b[0m\n",
      "\u001b[0;31mYandexTranslateException\u001b[0m: ERR_TEXT_TOO_LONG"
     ]
    }
   ],
   "source": [
    "en_sents = translate.translate(texts, 'en')['text']"
   ]
  },
  {
   "cell_type": "code",
   "execution_count": 255,
   "metadata": {},
   "outputs": [
    {
     "data": {
      "application/vnd.jupyter.widget-view+json": {
       "model_id": "c646a08dde074477af888c6e21f2d0b8",
       "version_major": 2,
       "version_minor": 0
      },
      "text/html": [
       "<p>Failed to display Jupyter Widget of type <code>HBox</code>.</p>\n",
       "<p>\n",
       "  If you're reading this message in the Jupyter Notebook or JupyterLab Notebook, it may mean\n",
       "  that the widgets JavaScript is still loading. If this message persists, it\n",
       "  likely means that the widgets JavaScript library is either not installed or\n",
       "  not enabled. See the <a href=\"https://ipywidgets.readthedocs.io/en/stable/user_install.html\">Jupyter\n",
       "  Widgets Documentation</a> for setup instructions.\n",
       "</p>\n",
       "<p>\n",
       "  If you're reading this message in another frontend (for example, a static\n",
       "  rendering on GitHub or <a href=\"https://nbviewer.jupyter.org/\">NBViewer</a>),\n",
       "  it may mean that your frontend doesn't currently support widgets.\n",
       "</p>\n"
      ],
      "text/plain": [
       "HBox(children=(IntProgress(value=0, max=507), HTML(value='')))"
      ]
     },
     "metadata": {},
     "output_type": "display_data"
    },
    {
     "name": "stdout",
     "output_type": "stream",
     "text": [
      "\n"
     ]
    }
   ],
   "source": [
    "en_sents = []\n",
    "N = 10\n",
    "for i in tqdm(range(len(texts)//N+1)):\n",
    "    try:\n",
    "        en_sents.append(translate.translate(texts[i*N:(i+1)*N], 'en')['text'])\n",
    "    except YandexTranslateException as e:\n",
    "        print(i)\n",
    "        print(e)"
   ]
  },
  {
   "cell_type": "code",
   "execution_count": 257,
   "metadata": {},
   "outputs": [
    {
     "data": {
      "text/plain": [
       "5066"
      ]
     },
     "execution_count": 257,
     "metadata": {},
     "output_type": "execute_result"
    }
   ],
   "source": [
    "len(en_sents)"
   ]
  },
  {
   "cell_type": "code",
   "execution_count": 256,
   "metadata": {},
   "outputs": [],
   "source": [
    "en_sents = [en_sent for sent in en_sents for en_sent in sent]\n"
   ]
  },
  {
   "cell_type": "code",
   "execution_count": 317,
   "metadata": {},
   "outputs": [],
   "source": [
    "with open('data/sents_orig.txt', 'w') as f:\n",
    "    f.write('\\n'.join(texts))"
   ]
  },
  {
   "cell_type": "code",
   "execution_count": 260,
   "metadata": {},
   "outputs": [],
   "source": [
    "with open('data/sents.txt', 'w') as f:\n",
    "    f.write('\\n'.join(en_sents))"
   ]
  },
  {
   "cell_type": "code",
   "execution_count": 248,
   "metadata": {},
   "outputs": [
    {
     "data": {
      "text/plain": [
       "1"
      ]
     },
     "execution_count": 248,
     "metadata": {},
     "output_type": "execute_result"
    }
   ],
   "source": [
    "texts.index('קשרים בין מושגים')"
   ]
  },
  {
   "cell_type": "code",
   "execution_count": 254,
   "metadata": {},
   "outputs": [
    {
     "data": {
      "text/plain": [
       "'Or you can think about it like Buffett'"
      ]
     },
     "execution_count": 254,
     "metadata": {},
     "output_type": "execute_result"
    }
   ],
   "source": [
    "en_sents[12]"
   ]
  },
  {
   "cell_type": "code",
   "execution_count": 133,
   "metadata": {},
   "outputs": [],
   "source": [
    "import textblob"
   ]
  },
  {
   "cell_type": "code",
   "execution_count": 1103,
   "metadata": {},
   "outputs": [],
   "source": [
    "tb = textblob.TextBlob('שלום')"
   ]
  },
  {
   "cell_type": "code",
   "execution_count": 1104,
   "metadata": {},
   "outputs": [
    {
     "name": "stdout",
     "output_type": "stream",
     "text": [
      "http://translate.google.com/translate_a/t?client=webapp&dt=bd&dt=ex&dt=ld&dt=md&dt=qca&dt=rw&dt=rm&dt=ss&dt=t&dt=at&ie=UTF-8&oe=UTF-8&otf=2&ssel=0&tsel=0&kc=1&sl=auto&tl=en&hl=en&tk=167841.310495\n"
     ]
    },
    {
     "ename": "HTTPError",
     "evalue": "HTTP Error 503: Service Unavailable",
     "output_type": "error",
     "traceback": [
      "\u001b[0;31m---------------------------------------------------------------------------\u001b[0m",
      "\u001b[0;31mHTTPError\u001b[0m                                 Traceback (most recent call last)",
      "\u001b[0;32m<ipython-input-1104-df49e7bc248e>\u001b[0m in \u001b[0;36m<module>\u001b[0;34m()\u001b[0m\n\u001b[0;32m----> 1\u001b[0;31m \u001b[0mtb\u001b[0m\u001b[0;34m.\u001b[0m\u001b[0mtranslate\u001b[0m\u001b[0;34m(\u001b[0m\u001b[0mto\u001b[0m\u001b[0;34m=\u001b[0m\u001b[0;34m'en'\u001b[0m\u001b[0;34m)\u001b[0m\u001b[0;34m\u001b[0m\u001b[0m\n\u001b[0m",
      "\u001b[0;32m/Library/Frameworks/Python.framework/Versions/3.6/lib/python3.6/site-packages/textblob/blob.py\u001b[0m in \u001b[0;36mtranslate\u001b[0;34m(self, from_lang, to)\u001b[0m\n\u001b[1;32m    539\u001b[0m         \"\"\"\n\u001b[1;32m    540\u001b[0m         return self.__class__(self.translator.translate(self.raw,\n\u001b[0;32m--> 541\u001b[0;31m                               from_lang=from_lang, to_lang=to))\n\u001b[0m\u001b[1;32m    542\u001b[0m \u001b[0;34m\u001b[0m\u001b[0m\n\u001b[1;32m    543\u001b[0m     \u001b[0;32mdef\u001b[0m \u001b[0mdetect_language\u001b[0m\u001b[0;34m(\u001b[0m\u001b[0mself\u001b[0m\u001b[0;34m)\u001b[0m\u001b[0;34m:\u001b[0m\u001b[0;34m\u001b[0m\u001b[0m\n",
      "\u001b[0;32m/Library/Frameworks/Python.framework/Versions/3.6/lib/python3.6/site-packages/textblob/translate.py\u001b[0m in \u001b[0;36mtranslate\u001b[0;34m(self, source, from_lang, to_lang, host, type_)\u001b[0m\n\u001b[1;32m     53\u001b[0m         )\n\u001b[1;32m     54\u001b[0m         \u001b[0mprint\u001b[0m\u001b[0;34m(\u001b[0m\u001b[0murl\u001b[0m\u001b[0;34m)\u001b[0m\u001b[0;34m\u001b[0m\u001b[0m\n\u001b[0;32m---> 55\u001b[0;31m         \u001b[0mresponse\u001b[0m \u001b[0;34m=\u001b[0m \u001b[0mself\u001b[0m\u001b[0;34m.\u001b[0m\u001b[0m_request\u001b[0m\u001b[0;34m(\u001b[0m\u001b[0murl\u001b[0m\u001b[0;34m,\u001b[0m \u001b[0mhost\u001b[0m\u001b[0;34m=\u001b[0m\u001b[0mhost\u001b[0m\u001b[0;34m,\u001b[0m \u001b[0mtype_\u001b[0m\u001b[0;34m=\u001b[0m\u001b[0mtype_\u001b[0m\u001b[0;34m,\u001b[0m \u001b[0mdata\u001b[0m\u001b[0;34m=\u001b[0m\u001b[0mdata\u001b[0m\u001b[0;34m)\u001b[0m\u001b[0;34m\u001b[0m\u001b[0m\n\u001b[0m\u001b[1;32m     56\u001b[0m         \u001b[0mresult\u001b[0m \u001b[0;34m=\u001b[0m \u001b[0mjson\u001b[0m\u001b[0;34m.\u001b[0m\u001b[0mloads\u001b[0m\u001b[0;34m(\u001b[0m\u001b[0mresponse\u001b[0m\u001b[0;34m)\u001b[0m\u001b[0;34m\u001b[0m\u001b[0m\n\u001b[1;32m     57\u001b[0m         \u001b[0;32mif\u001b[0m \u001b[0misinstance\u001b[0m\u001b[0;34m(\u001b[0m\u001b[0mresult\u001b[0m\u001b[0;34m,\u001b[0m \u001b[0mlist\u001b[0m\u001b[0;34m)\u001b[0m\u001b[0;34m:\u001b[0m\u001b[0;34m\u001b[0m\u001b[0m\n",
      "\u001b[0;32m/Library/Frameworks/Python.framework/Versions/3.6/lib/python3.6/site-packages/textblob/translate.py\u001b[0m in \u001b[0;36m_request\u001b[0;34m(self, url, host, type_, data)\u001b[0m\n\u001b[1;32m     91\u001b[0m         \u001b[0;32mif\u001b[0m \u001b[0mhost\u001b[0m \u001b[0;32mor\u001b[0m \u001b[0mtype_\u001b[0m\u001b[0;34m:\u001b[0m\u001b[0;34m\u001b[0m\u001b[0m\n\u001b[1;32m     92\u001b[0m             \u001b[0mreq\u001b[0m\u001b[0;34m.\u001b[0m\u001b[0mset_proxy\u001b[0m\u001b[0;34m(\u001b[0m\u001b[0mhost\u001b[0m\u001b[0;34m=\u001b[0m\u001b[0mhost\u001b[0m\u001b[0;34m,\u001b[0m \u001b[0mtype\u001b[0m\u001b[0;34m=\u001b[0m\u001b[0mtype_\u001b[0m\u001b[0;34m)\u001b[0m\u001b[0;34m\u001b[0m\u001b[0m\n\u001b[0;32m---> 93\u001b[0;31m         \u001b[0mresp\u001b[0m \u001b[0;34m=\u001b[0m \u001b[0mrequest\u001b[0m\u001b[0;34m.\u001b[0m\u001b[0murlopen\u001b[0m\u001b[0;34m(\u001b[0m\u001b[0mreq\u001b[0m\u001b[0;34m)\u001b[0m\u001b[0;34m\u001b[0m\u001b[0m\n\u001b[0m\u001b[1;32m     94\u001b[0m         \u001b[0mcontent\u001b[0m \u001b[0;34m=\u001b[0m \u001b[0mresp\u001b[0m\u001b[0;34m.\u001b[0m\u001b[0mread\u001b[0m\u001b[0;34m(\u001b[0m\u001b[0;34m)\u001b[0m\u001b[0;34m\u001b[0m\u001b[0m\n\u001b[1;32m     95\u001b[0m         \u001b[0;32mreturn\u001b[0m \u001b[0mcontent\u001b[0m\u001b[0;34m.\u001b[0m\u001b[0mdecode\u001b[0m\u001b[0;34m(\u001b[0m\u001b[0;34m'utf-8'\u001b[0m\u001b[0;34m)\u001b[0m\u001b[0;34m\u001b[0m\u001b[0m\n",
      "\u001b[0;32m/Library/Frameworks/Python.framework/Versions/3.6/lib/python3.6/urllib/request.py\u001b[0m in \u001b[0;36murlopen\u001b[0;34m(url, data, timeout, cafile, capath, cadefault, context)\u001b[0m\n\u001b[1;32m    221\u001b[0m     \u001b[0;32melse\u001b[0m\u001b[0;34m:\u001b[0m\u001b[0;34m\u001b[0m\u001b[0m\n\u001b[1;32m    222\u001b[0m         \u001b[0mopener\u001b[0m \u001b[0;34m=\u001b[0m \u001b[0m_opener\u001b[0m\u001b[0;34m\u001b[0m\u001b[0m\n\u001b[0;32m--> 223\u001b[0;31m     \u001b[0;32mreturn\u001b[0m \u001b[0mopener\u001b[0m\u001b[0;34m.\u001b[0m\u001b[0mopen\u001b[0m\u001b[0;34m(\u001b[0m\u001b[0murl\u001b[0m\u001b[0;34m,\u001b[0m \u001b[0mdata\u001b[0m\u001b[0;34m,\u001b[0m \u001b[0mtimeout\u001b[0m\u001b[0;34m)\u001b[0m\u001b[0;34m\u001b[0m\u001b[0m\n\u001b[0m\u001b[1;32m    224\u001b[0m \u001b[0;34m\u001b[0m\u001b[0m\n\u001b[1;32m    225\u001b[0m \u001b[0;32mdef\u001b[0m \u001b[0minstall_opener\u001b[0m\u001b[0;34m(\u001b[0m\u001b[0mopener\u001b[0m\u001b[0;34m)\u001b[0m\u001b[0;34m:\u001b[0m\u001b[0;34m\u001b[0m\u001b[0m\n",
      "\u001b[0;32m/Library/Frameworks/Python.framework/Versions/3.6/lib/python3.6/urllib/request.py\u001b[0m in \u001b[0;36mopen\u001b[0;34m(self, fullurl, data, timeout)\u001b[0m\n\u001b[1;32m    530\u001b[0m         \u001b[0;32mfor\u001b[0m \u001b[0mprocessor\u001b[0m \u001b[0;32min\u001b[0m \u001b[0mself\u001b[0m\u001b[0;34m.\u001b[0m\u001b[0mprocess_response\u001b[0m\u001b[0;34m.\u001b[0m\u001b[0mget\u001b[0m\u001b[0;34m(\u001b[0m\u001b[0mprotocol\u001b[0m\u001b[0;34m,\u001b[0m \u001b[0;34m[\u001b[0m\u001b[0;34m]\u001b[0m\u001b[0;34m)\u001b[0m\u001b[0;34m:\u001b[0m\u001b[0;34m\u001b[0m\u001b[0m\n\u001b[1;32m    531\u001b[0m             \u001b[0mmeth\u001b[0m \u001b[0;34m=\u001b[0m \u001b[0mgetattr\u001b[0m\u001b[0;34m(\u001b[0m\u001b[0mprocessor\u001b[0m\u001b[0;34m,\u001b[0m \u001b[0mmeth_name\u001b[0m\u001b[0;34m)\u001b[0m\u001b[0;34m\u001b[0m\u001b[0m\n\u001b[0;32m--> 532\u001b[0;31m             \u001b[0mresponse\u001b[0m \u001b[0;34m=\u001b[0m \u001b[0mmeth\u001b[0m\u001b[0;34m(\u001b[0m\u001b[0mreq\u001b[0m\u001b[0;34m,\u001b[0m \u001b[0mresponse\u001b[0m\u001b[0;34m)\u001b[0m\u001b[0;34m\u001b[0m\u001b[0m\n\u001b[0m\u001b[1;32m    533\u001b[0m \u001b[0;34m\u001b[0m\u001b[0m\n\u001b[1;32m    534\u001b[0m         \u001b[0;32mreturn\u001b[0m \u001b[0mresponse\u001b[0m\u001b[0;34m\u001b[0m\u001b[0m\n",
      "\u001b[0;32m/Library/Frameworks/Python.framework/Versions/3.6/lib/python3.6/urllib/request.py\u001b[0m in \u001b[0;36mhttp_response\u001b[0;34m(self, request, response)\u001b[0m\n\u001b[1;32m    640\u001b[0m         \u001b[0;32mif\u001b[0m \u001b[0;32mnot\u001b[0m \u001b[0;34m(\u001b[0m\u001b[0;36m200\u001b[0m \u001b[0;34m<=\u001b[0m \u001b[0mcode\u001b[0m \u001b[0;34m<\u001b[0m \u001b[0;36m300\u001b[0m\u001b[0;34m)\u001b[0m\u001b[0;34m:\u001b[0m\u001b[0;34m\u001b[0m\u001b[0m\n\u001b[1;32m    641\u001b[0m             response = self.parent.error(\n\u001b[0;32m--> 642\u001b[0;31m                 'http', request, response, code, msg, hdrs)\n\u001b[0m\u001b[1;32m    643\u001b[0m \u001b[0;34m\u001b[0m\u001b[0m\n\u001b[1;32m    644\u001b[0m         \u001b[0;32mreturn\u001b[0m \u001b[0mresponse\u001b[0m\u001b[0;34m\u001b[0m\u001b[0m\n",
      "\u001b[0;32m/Library/Frameworks/Python.framework/Versions/3.6/lib/python3.6/urllib/request.py\u001b[0m in \u001b[0;36merror\u001b[0;34m(self, proto, *args)\u001b[0m\n\u001b[1;32m    562\u001b[0m             \u001b[0mhttp_err\u001b[0m \u001b[0;34m=\u001b[0m \u001b[0;36m0\u001b[0m\u001b[0;34m\u001b[0m\u001b[0m\n\u001b[1;32m    563\u001b[0m         \u001b[0margs\u001b[0m \u001b[0;34m=\u001b[0m \u001b[0;34m(\u001b[0m\u001b[0mdict\u001b[0m\u001b[0;34m,\u001b[0m \u001b[0mproto\u001b[0m\u001b[0;34m,\u001b[0m \u001b[0mmeth_name\u001b[0m\u001b[0;34m)\u001b[0m \u001b[0;34m+\u001b[0m \u001b[0margs\u001b[0m\u001b[0;34m\u001b[0m\u001b[0m\n\u001b[0;32m--> 564\u001b[0;31m         \u001b[0mresult\u001b[0m \u001b[0;34m=\u001b[0m \u001b[0mself\u001b[0m\u001b[0;34m.\u001b[0m\u001b[0m_call_chain\u001b[0m\u001b[0;34m(\u001b[0m\u001b[0;34m*\u001b[0m\u001b[0margs\u001b[0m\u001b[0;34m)\u001b[0m\u001b[0;34m\u001b[0m\u001b[0m\n\u001b[0m\u001b[1;32m    565\u001b[0m         \u001b[0;32mif\u001b[0m \u001b[0mresult\u001b[0m\u001b[0;34m:\u001b[0m\u001b[0;34m\u001b[0m\u001b[0m\n\u001b[1;32m    566\u001b[0m             \u001b[0;32mreturn\u001b[0m \u001b[0mresult\u001b[0m\u001b[0;34m\u001b[0m\u001b[0m\n",
      "\u001b[0;32m/Library/Frameworks/Python.framework/Versions/3.6/lib/python3.6/urllib/request.py\u001b[0m in \u001b[0;36m_call_chain\u001b[0;34m(self, chain, kind, meth_name, *args)\u001b[0m\n\u001b[1;32m    502\u001b[0m         \u001b[0;32mfor\u001b[0m \u001b[0mhandler\u001b[0m \u001b[0;32min\u001b[0m \u001b[0mhandlers\u001b[0m\u001b[0;34m:\u001b[0m\u001b[0;34m\u001b[0m\u001b[0m\n\u001b[1;32m    503\u001b[0m             \u001b[0mfunc\u001b[0m \u001b[0;34m=\u001b[0m \u001b[0mgetattr\u001b[0m\u001b[0;34m(\u001b[0m\u001b[0mhandler\u001b[0m\u001b[0;34m,\u001b[0m \u001b[0mmeth_name\u001b[0m\u001b[0;34m)\u001b[0m\u001b[0;34m\u001b[0m\u001b[0m\n\u001b[0;32m--> 504\u001b[0;31m             \u001b[0mresult\u001b[0m \u001b[0;34m=\u001b[0m \u001b[0mfunc\u001b[0m\u001b[0;34m(\u001b[0m\u001b[0;34m*\u001b[0m\u001b[0margs\u001b[0m\u001b[0;34m)\u001b[0m\u001b[0;34m\u001b[0m\u001b[0m\n\u001b[0m\u001b[1;32m    505\u001b[0m             \u001b[0;32mif\u001b[0m \u001b[0mresult\u001b[0m \u001b[0;32mis\u001b[0m \u001b[0;32mnot\u001b[0m \u001b[0;32mNone\u001b[0m\u001b[0;34m:\u001b[0m\u001b[0;34m\u001b[0m\u001b[0m\n\u001b[1;32m    506\u001b[0m                 \u001b[0;32mreturn\u001b[0m \u001b[0mresult\u001b[0m\u001b[0;34m\u001b[0m\u001b[0m\n",
      "\u001b[0;32m/Library/Frameworks/Python.framework/Versions/3.6/lib/python3.6/urllib/request.py\u001b[0m in \u001b[0;36mhttp_error_302\u001b[0;34m(self, req, fp, code, msg, headers)\u001b[0m\n\u001b[1;32m    754\u001b[0m         \u001b[0mfp\u001b[0m\u001b[0;34m.\u001b[0m\u001b[0mclose\u001b[0m\u001b[0;34m(\u001b[0m\u001b[0;34m)\u001b[0m\u001b[0;34m\u001b[0m\u001b[0m\n\u001b[1;32m    755\u001b[0m \u001b[0;34m\u001b[0m\u001b[0m\n\u001b[0;32m--> 756\u001b[0;31m         \u001b[0;32mreturn\u001b[0m \u001b[0mself\u001b[0m\u001b[0;34m.\u001b[0m\u001b[0mparent\u001b[0m\u001b[0;34m.\u001b[0m\u001b[0mopen\u001b[0m\u001b[0;34m(\u001b[0m\u001b[0mnew\u001b[0m\u001b[0;34m,\u001b[0m \u001b[0mtimeout\u001b[0m\u001b[0;34m=\u001b[0m\u001b[0mreq\u001b[0m\u001b[0;34m.\u001b[0m\u001b[0mtimeout\u001b[0m\u001b[0;34m)\u001b[0m\u001b[0;34m\u001b[0m\u001b[0m\n\u001b[0m\u001b[1;32m    757\u001b[0m \u001b[0;34m\u001b[0m\u001b[0m\n\u001b[1;32m    758\u001b[0m     \u001b[0mhttp_error_301\u001b[0m \u001b[0;34m=\u001b[0m \u001b[0mhttp_error_303\u001b[0m \u001b[0;34m=\u001b[0m \u001b[0mhttp_error_307\u001b[0m \u001b[0;34m=\u001b[0m \u001b[0mhttp_error_302\u001b[0m\u001b[0;34m\u001b[0m\u001b[0m\n",
      "\u001b[0;32m/Library/Frameworks/Python.framework/Versions/3.6/lib/python3.6/urllib/request.py\u001b[0m in \u001b[0;36mopen\u001b[0;34m(self, fullurl, data, timeout)\u001b[0m\n\u001b[1;32m    530\u001b[0m         \u001b[0;32mfor\u001b[0m \u001b[0mprocessor\u001b[0m \u001b[0;32min\u001b[0m \u001b[0mself\u001b[0m\u001b[0;34m.\u001b[0m\u001b[0mprocess_response\u001b[0m\u001b[0;34m.\u001b[0m\u001b[0mget\u001b[0m\u001b[0;34m(\u001b[0m\u001b[0mprotocol\u001b[0m\u001b[0;34m,\u001b[0m \u001b[0;34m[\u001b[0m\u001b[0;34m]\u001b[0m\u001b[0;34m)\u001b[0m\u001b[0;34m:\u001b[0m\u001b[0;34m\u001b[0m\u001b[0m\n\u001b[1;32m    531\u001b[0m             \u001b[0mmeth\u001b[0m \u001b[0;34m=\u001b[0m \u001b[0mgetattr\u001b[0m\u001b[0;34m(\u001b[0m\u001b[0mprocessor\u001b[0m\u001b[0;34m,\u001b[0m \u001b[0mmeth_name\u001b[0m\u001b[0;34m)\u001b[0m\u001b[0;34m\u001b[0m\u001b[0m\n\u001b[0;32m--> 532\u001b[0;31m             \u001b[0mresponse\u001b[0m \u001b[0;34m=\u001b[0m \u001b[0mmeth\u001b[0m\u001b[0;34m(\u001b[0m\u001b[0mreq\u001b[0m\u001b[0;34m,\u001b[0m \u001b[0mresponse\u001b[0m\u001b[0;34m)\u001b[0m\u001b[0;34m\u001b[0m\u001b[0m\n\u001b[0m\u001b[1;32m    533\u001b[0m \u001b[0;34m\u001b[0m\u001b[0m\n\u001b[1;32m    534\u001b[0m         \u001b[0;32mreturn\u001b[0m \u001b[0mresponse\u001b[0m\u001b[0;34m\u001b[0m\u001b[0m\n",
      "\u001b[0;32m/Library/Frameworks/Python.framework/Versions/3.6/lib/python3.6/urllib/request.py\u001b[0m in \u001b[0;36mhttp_response\u001b[0;34m(self, request, response)\u001b[0m\n\u001b[1;32m    640\u001b[0m         \u001b[0;32mif\u001b[0m \u001b[0;32mnot\u001b[0m \u001b[0;34m(\u001b[0m\u001b[0;36m200\u001b[0m \u001b[0;34m<=\u001b[0m \u001b[0mcode\u001b[0m \u001b[0;34m<\u001b[0m \u001b[0;36m300\u001b[0m\u001b[0;34m)\u001b[0m\u001b[0;34m:\u001b[0m\u001b[0;34m\u001b[0m\u001b[0m\n\u001b[1;32m    641\u001b[0m             response = self.parent.error(\n\u001b[0;32m--> 642\u001b[0;31m                 'http', request, response, code, msg, hdrs)\n\u001b[0m\u001b[1;32m    643\u001b[0m \u001b[0;34m\u001b[0m\u001b[0m\n\u001b[1;32m    644\u001b[0m         \u001b[0;32mreturn\u001b[0m \u001b[0mresponse\u001b[0m\u001b[0;34m\u001b[0m\u001b[0m\n",
      "\u001b[0;32m/Library/Frameworks/Python.framework/Versions/3.6/lib/python3.6/urllib/request.py\u001b[0m in \u001b[0;36merror\u001b[0;34m(self, proto, *args)\u001b[0m\n\u001b[1;32m    568\u001b[0m         \u001b[0;32mif\u001b[0m \u001b[0mhttp_err\u001b[0m\u001b[0;34m:\u001b[0m\u001b[0;34m\u001b[0m\u001b[0m\n\u001b[1;32m    569\u001b[0m             \u001b[0margs\u001b[0m \u001b[0;34m=\u001b[0m \u001b[0;34m(\u001b[0m\u001b[0mdict\u001b[0m\u001b[0;34m,\u001b[0m \u001b[0;34m'default'\u001b[0m\u001b[0;34m,\u001b[0m \u001b[0;34m'http_error_default'\u001b[0m\u001b[0;34m)\u001b[0m \u001b[0;34m+\u001b[0m \u001b[0morig_args\u001b[0m\u001b[0;34m\u001b[0m\u001b[0m\n\u001b[0;32m--> 570\u001b[0;31m             \u001b[0;32mreturn\u001b[0m \u001b[0mself\u001b[0m\u001b[0;34m.\u001b[0m\u001b[0m_call_chain\u001b[0m\u001b[0;34m(\u001b[0m\u001b[0;34m*\u001b[0m\u001b[0margs\u001b[0m\u001b[0;34m)\u001b[0m\u001b[0;34m\u001b[0m\u001b[0m\n\u001b[0m\u001b[1;32m    571\u001b[0m \u001b[0;34m\u001b[0m\u001b[0m\n\u001b[1;32m    572\u001b[0m \u001b[0;31m# XXX probably also want an abstract factory that knows when it makes\u001b[0m\u001b[0;34m\u001b[0m\u001b[0;34m\u001b[0m\u001b[0m\n",
      "\u001b[0;32m/Library/Frameworks/Python.framework/Versions/3.6/lib/python3.6/urllib/request.py\u001b[0m in \u001b[0;36m_call_chain\u001b[0;34m(self, chain, kind, meth_name, *args)\u001b[0m\n\u001b[1;32m    502\u001b[0m         \u001b[0;32mfor\u001b[0m \u001b[0mhandler\u001b[0m \u001b[0;32min\u001b[0m \u001b[0mhandlers\u001b[0m\u001b[0;34m:\u001b[0m\u001b[0;34m\u001b[0m\u001b[0m\n\u001b[1;32m    503\u001b[0m             \u001b[0mfunc\u001b[0m \u001b[0;34m=\u001b[0m \u001b[0mgetattr\u001b[0m\u001b[0;34m(\u001b[0m\u001b[0mhandler\u001b[0m\u001b[0;34m,\u001b[0m \u001b[0mmeth_name\u001b[0m\u001b[0;34m)\u001b[0m\u001b[0;34m\u001b[0m\u001b[0m\n\u001b[0;32m--> 504\u001b[0;31m             \u001b[0mresult\u001b[0m \u001b[0;34m=\u001b[0m \u001b[0mfunc\u001b[0m\u001b[0;34m(\u001b[0m\u001b[0;34m*\u001b[0m\u001b[0margs\u001b[0m\u001b[0;34m)\u001b[0m\u001b[0;34m\u001b[0m\u001b[0m\n\u001b[0m\u001b[1;32m    505\u001b[0m             \u001b[0;32mif\u001b[0m \u001b[0mresult\u001b[0m \u001b[0;32mis\u001b[0m \u001b[0;32mnot\u001b[0m \u001b[0;32mNone\u001b[0m\u001b[0;34m:\u001b[0m\u001b[0;34m\u001b[0m\u001b[0m\n\u001b[1;32m    506\u001b[0m                 \u001b[0;32mreturn\u001b[0m \u001b[0mresult\u001b[0m\u001b[0;34m\u001b[0m\u001b[0m\n",
      "\u001b[0;32m/Library/Frameworks/Python.framework/Versions/3.6/lib/python3.6/urllib/request.py\u001b[0m in \u001b[0;36mhttp_error_default\u001b[0;34m(self, req, fp, code, msg, hdrs)\u001b[0m\n\u001b[1;32m    648\u001b[0m \u001b[0;32mclass\u001b[0m \u001b[0mHTTPDefaultErrorHandler\u001b[0m\u001b[0;34m(\u001b[0m\u001b[0mBaseHandler\u001b[0m\u001b[0;34m)\u001b[0m\u001b[0;34m:\u001b[0m\u001b[0;34m\u001b[0m\u001b[0m\n\u001b[1;32m    649\u001b[0m     \u001b[0;32mdef\u001b[0m \u001b[0mhttp_error_default\u001b[0m\u001b[0;34m(\u001b[0m\u001b[0mself\u001b[0m\u001b[0;34m,\u001b[0m \u001b[0mreq\u001b[0m\u001b[0;34m,\u001b[0m \u001b[0mfp\u001b[0m\u001b[0;34m,\u001b[0m \u001b[0mcode\u001b[0m\u001b[0;34m,\u001b[0m \u001b[0mmsg\u001b[0m\u001b[0;34m,\u001b[0m \u001b[0mhdrs\u001b[0m\u001b[0;34m)\u001b[0m\u001b[0;34m:\u001b[0m\u001b[0;34m\u001b[0m\u001b[0m\n\u001b[0;32m--> 650\u001b[0;31m         \u001b[0;32mraise\u001b[0m \u001b[0mHTTPError\u001b[0m\u001b[0;34m(\u001b[0m\u001b[0mreq\u001b[0m\u001b[0;34m.\u001b[0m\u001b[0mfull_url\u001b[0m\u001b[0;34m,\u001b[0m \u001b[0mcode\u001b[0m\u001b[0;34m,\u001b[0m \u001b[0mmsg\u001b[0m\u001b[0;34m,\u001b[0m \u001b[0mhdrs\u001b[0m\u001b[0;34m,\u001b[0m \u001b[0mfp\u001b[0m\u001b[0;34m)\u001b[0m\u001b[0;34m\u001b[0m\u001b[0m\n\u001b[0m\u001b[1;32m    651\u001b[0m \u001b[0;34m\u001b[0m\u001b[0m\n\u001b[1;32m    652\u001b[0m \u001b[0;32mclass\u001b[0m \u001b[0mHTTPRedirectHandler\u001b[0m\u001b[0;34m(\u001b[0m\u001b[0mBaseHandler\u001b[0m\u001b[0;34m)\u001b[0m\u001b[0;34m:\u001b[0m\u001b[0;34m\u001b[0m\u001b[0m\n",
      "\u001b[0;31mHTTPError\u001b[0m: HTTP Error 503: Service Unavailable"
     ]
    }
   ],
   "source": [
    "tb.translate(to='en')"
   ]
  },
  {
   "cell_type": "code",
   "execution_count": 1100,
   "metadata": {},
   "outputs": [
    {
     "data": {
      "application/vnd.jupyter.widget-view+json": {
       "model_id": "b21f07b5e2f34238b2e8f1fcac50dd45",
       "version_major": 2,
       "version_minor": 0
      },
      "text/html": [
       "<p>Failed to display Jupyter Widget of type <code>HBox</code>.</p>\n",
       "<p>\n",
       "  If you're reading this message in the Jupyter Notebook or JupyterLab Notebook, it may mean\n",
       "  that the widgets JavaScript is still loading. If this message persists, it\n",
       "  likely means that the widgets JavaScript library is either not installed or\n",
       "  not enabled. See the <a href=\"https://ipywidgets.readthedocs.io/en/stable/user_install.html\">Jupyter\n",
       "  Widgets Documentation</a> for setup instructions.\n",
       "</p>\n",
       "<p>\n",
       "  If you're reading this message in another frontend (for example, a static\n",
       "  rendering on GitHub or <a href=\"https://nbviewer.jupyter.org/\">NBViewer</a>),\n",
       "  it may mean that your frontend doesn't currently support widgets.\n",
       "</p>\n"
      ],
      "text/plain": [
       "HBox(children=(IntProgress(value=0, max=5084), HTML(value='')))"
      ]
     },
     "metadata": {},
     "output_type": "display_data"
    },
    {
     "name": "stdout",
     "output_type": "stream",
     "text": [
      "http://translate.google.com/translate_a/t?client=webapp&dt=bd&dt=ex&dt=ld&dt=md&dt=qca&dt=rw&dt=rm&dt=ss&dt=t&dt=at&ie=UTF-8&oe=UTF-8&otf=2&ssel=0&tsel=0&kc=1&sl=auto&tl=en&hl=en&tk=25365.413803\n",
      "http://translate.google.com/translate_a/t?client=webapp&dt=bd&dt=ex&dt=ld&dt=md&dt=qca&dt=rw&dt=rm&dt=ss&dt=t&dt=at&ie=UTF-8&oe=UTF-8&otf=2&ssel=0&tsel=0&kc=1&sl=auto&tl=en&hl=en&tk=408205.2547\n",
      "http://translate.google.com/translate_a/t?client=webapp&dt=bd&dt=ex&dt=ld&dt=md&dt=qca&dt=rw&dt=rm&dt=ss&dt=t&dt=at&ie=UTF-8&oe=UTF-8&otf=2&ssel=0&tsel=0&kc=1&sl=auto&tl=en&hl=en&tk=313876.194922\n",
      "http://translate.google.com/translate_a/t?client=webapp&dt=bd&dt=ex&dt=ld&dt=md&dt=qca&dt=rw&dt=rm&dt=ss&dt=t&dt=at&ie=UTF-8&oe=UTF-8&otf=2&ssel=0&tsel=0&kc=1&sl=auto&tl=en&hl=en&tk=108542.496768\n",
      "http://translate.google.com/translate_a/t?client=webapp&dt=bd&dt=ex&dt=ld&dt=md&dt=qca&dt=rw&dt=rm&dt=ss&dt=t&dt=at&ie=UTF-8&oe=UTF-8&otf=2&ssel=0&tsel=0&kc=1&sl=auto&tl=en&hl=en&tk=456522.50228\n",
      "http://translate.google.com/translate_a/t?client=webapp&dt=bd&dt=ex&dt=ld&dt=md&dt=qca&dt=rw&dt=rm&dt=ss&dt=t&dt=at&ie=UTF-8&oe=UTF-8&otf=2&ssel=0&tsel=0&kc=1&sl=auto&tl=en&hl=en&tk=321573.187227\n",
      "http://translate.google.com/translate_a/t?client=webapp&dt=bd&dt=ex&dt=ld&dt=md&dt=qca&dt=rw&dt=rm&dt=ss&dt=t&dt=at&ie=UTF-8&oe=UTF-8&otf=2&ssel=0&tsel=0&kc=1&sl=auto&tl=en&hl=en&tk=240683.368469\n",
      "http://translate.google.com/translate_a/t?client=webapp&dt=bd&dt=ex&dt=ld&dt=md&dt=qca&dt=rw&dt=rm&dt=ss&dt=t&dt=at&ie=UTF-8&oe=UTF-8&otf=2&ssel=0&tsel=0&kc=1&sl=auto&tl=en&hl=en&tk=853800.734294\n",
      "http://translate.google.com/translate_a/t?client=webapp&dt=bd&dt=ex&dt=ld&dt=md&dt=qca&dt=rw&dt=rm&dt=ss&dt=t&dt=at&ie=UTF-8&oe=UTF-8&otf=2&ssel=0&tsel=0&kc=1&sl=auto&tl=en&hl=en&tk=282053.163515\n",
      "http://translate.google.com/translate_a/t?client=webapp&dt=bd&dt=ex&dt=ld&dt=md&dt=qca&dt=rw&dt=rm&dt=ss&dt=t&dt=at&ie=UTF-8&oe=UTF-8&otf=2&ssel=0&tsel=0&kc=1&sl=auto&tl=en&hl=en&tk=462863.74609\n",
      "http://translate.google.com/translate_a/t?client=webapp&dt=bd&dt=ex&dt=ld&dt=md&dt=qca&dt=rw&dt=rm&dt=ss&dt=t&dt=at&ie=UTF-8&oe=UTF-8&otf=2&ssel=0&tsel=0&kc=1&sl=auto&tl=en&hl=en&tk=223514.350820\n",
      "http://translate.google.com/translate_a/t?client=webapp&dt=bd&dt=ex&dt=ld&dt=md&dt=qca&dt=rw&dt=rm&dt=ss&dt=t&dt=at&ie=UTF-8&oe=UTF-8&otf=2&ssel=0&tsel=0&kc=1&sl=auto&tl=en&hl=en&tk=175711.302369\n",
      "http://translate.google.com/translate_a/t?client=webapp&dt=bd&dt=ex&dt=ld&dt=md&dt=qca&dt=rw&dt=rm&dt=ss&dt=t&dt=at&ie=UTF-8&oe=UTF-8&otf=2&ssel=0&tsel=0&kc=1&sl=auto&tl=en&hl=en&tk=733885.852419\n",
      "http://translate.google.com/translate_a/t?client=webapp&dt=bd&dt=ex&dt=ld&dt=md&dt=qca&dt=rw&dt=rm&dt=ss&dt=t&dt=at&ie=UTF-8&oe=UTF-8&otf=2&ssel=0&tsel=0&kc=1&sl=auto&tl=en&hl=en&tk=658917.802459\n",
      "http://translate.google.com/translate_a/t?client=webapp&dt=bd&dt=ex&dt=ld&dt=md&dt=qca&dt=rw&dt=rm&dt=ss&dt=t&dt=at&ie=UTF-8&oe=UTF-8&otf=2&ssel=0&tsel=0&kc=1&sl=auto&tl=en&hl=en&tk=257011.383117\n",
      "http://translate.google.com/translate_a/t?client=webapp&dt=bd&dt=ex&dt=ld&dt=md&dt=qca&dt=rw&dt=rm&dt=ss&dt=t&dt=at&ie=UTF-8&oe=UTF-8&otf=2&ssel=0&tsel=0&kc=1&sl=auto&tl=en&hl=en&tk=935564.554482\n",
      "http://translate.google.com/translate_a/t?client=webapp&dt=bd&dt=ex&dt=ld&dt=md&dt=qca&dt=rw&dt=rm&dt=ss&dt=t&dt=at&ie=UTF-8&oe=UTF-8&otf=2&ssel=0&tsel=0&kc=1&sl=auto&tl=en&hl=en&tk=23860.421450\n",
      "http://translate.google.com/translate_a/t?client=webapp&dt=bd&dt=ex&dt=ld&dt=md&dt=qca&dt=rw&dt=rm&dt=ss&dt=t&dt=at&ie=UTF-8&oe=UTF-8&otf=2&ssel=0&tsel=0&kc=1&sl=auto&tl=en&hl=en&tk=677152.812638\n",
      "http://translate.google.com/translate_a/t?client=webapp&dt=bd&dt=ex&dt=ld&dt=md&dt=qca&dt=rw&dt=rm&dt=ss&dt=t&dt=at&ie=UTF-8&oe=UTF-8&otf=2&ssel=0&tsel=0&kc=1&sl=auto&tl=en&hl=en&tk=305563.170725\n",
      "http://translate.google.com/translate_a/t?client=webapp&dt=bd&dt=ex&dt=ld&dt=md&dt=qca&dt=rw&dt=rm&dt=ss&dt=t&dt=at&ie=UTF-8&oe=UTF-8&otf=2&ssel=0&tsel=0&kc=1&sl=auto&tl=en&hl=en&tk=803920.685870\n",
      "http://translate.google.com/translate_a/t?client=webapp&dt=bd&dt=ex&dt=ld&dt=md&dt=qca&dt=rw&dt=rm&dt=ss&dt=t&dt=at&ie=UTF-8&oe=UTF-8&otf=2&ssel=0&tsel=0&kc=1&sl=auto&tl=en&hl=en&tk=625295.1030641\n",
      "http://translate.google.com/translate_a/t?client=webapp&dt=bd&dt=ex&dt=ld&dt=md&dt=qca&dt=rw&dt=rm&dt=ss&dt=t&dt=at&ie=UTF-8&oe=UTF-8&otf=2&ssel=0&tsel=0&kc=1&sl=auto&tl=en&hl=en&tk=127190.508840\n",
      "http://translate.google.com/translate_a/t?client=webapp&dt=bd&dt=ex&dt=ld&dt=md&dt=qca&dt=rw&dt=rm&dt=ss&dt=t&dt=at&ie=UTF-8&oe=UTF-8&otf=2&ssel=0&tsel=0&kc=1&sl=auto&tl=en&hl=en&tk=561775.958737\n",
      "http://translate.google.com/translate_a/t?client=webapp&dt=bd&dt=ex&dt=ld&dt=md&dt=qca&dt=rw&dt=rm&dt=ss&dt=t&dt=at&ie=UTF-8&oe=UTF-8&otf=2&ssel=0&tsel=0&kc=1&sl=auto&tl=en&hl=en&tk=67783.474041\n",
      "http://translate.google.com/translate_a/t?client=webapp&dt=bd&dt=ex&dt=ld&dt=md&dt=qca&dt=rw&dt=rm&dt=ss&dt=t&dt=at&ie=UTF-8&oe=UTF-8&otf=2&ssel=0&tsel=0&kc=1&sl=auto&tl=en&hl=en&tk=450320.60526\n",
      "http://translate.google.com/translate_a/t?client=webapp&dt=bd&dt=ex&dt=ld&dt=md&dt=qca&dt=rw&dt=rm&dt=ss&dt=t&dt=at&ie=UTF-8&oe=UTF-8&otf=2&ssel=0&tsel=0&kc=1&sl=auto&tl=en&hl=en&tk=744644.880570\n",
      "http://translate.google.com/translate_a/t?client=webapp&dt=bd&dt=ex&dt=ld&dt=md&dt=qca&dt=rw&dt=rm&dt=ss&dt=t&dt=at&ie=UTF-8&oe=UTF-8&otf=2&ssel=0&tsel=0&kc=1&sl=auto&tl=en&hl=en&tk=714489.841095\n",
      "http://translate.google.com/translate_a/t?client=webapp&dt=bd&dt=ex&dt=ld&dt=md&dt=qca&dt=rw&dt=rm&dt=ss&dt=t&dt=at&ie=UTF-8&oe=UTF-8&otf=2&ssel=0&tsel=0&kc=1&sl=auto&tl=en&hl=en&tk=557037.937107\n",
      "http://translate.google.com/translate_a/t?client=webapp&dt=bd&dt=ex&dt=ld&dt=md&dt=qca&dt=rw&dt=rm&dt=ss&dt=t&dt=at&ie=UTF-8&oe=UTF-8&otf=2&ssel=0&tsel=0&kc=1&sl=auto&tl=en&hl=en&tk=900011.755925\n",
      "http://translate.google.com/translate_a/t?client=webapp&dt=bd&dt=ex&dt=ld&dt=md&dt=qca&dt=rw&dt=rm&dt=ss&dt=t&dt=at&ie=UTF-8&oe=UTF-8&otf=2&ssel=0&tsel=0&kc=1&sl=auto&tl=en&hl=en&tk=70959.468561\n",
      "http://translate.google.com/translate_a/t?client=webapp&dt=bd&dt=ex&dt=ld&dt=md&dt=qca&dt=rw&dt=rm&dt=ss&dt=t&dt=at&ie=UTF-8&oe=UTF-8&otf=2&ssel=0&tsel=0&kc=1&sl=auto&tl=en&hl=en&tk=719933.839491\n",
      "http://translate.google.com/translate_a/t?client=webapp&dt=bd&dt=ex&dt=ld&dt=md&dt=qca&dt=rw&dt=rm&dt=ss&dt=t&dt=at&ie=UTF-8&oe=UTF-8&otf=2&ssel=0&tsel=0&kc=1&sl=auto&tl=en&hl=en&tk=301807.174481\n",
      "http://translate.google.com/translate_a/t?client=webapp&dt=bd&dt=ex&dt=ld&dt=md&dt=qca&dt=rw&dt=rm&dt=ss&dt=t&dt=at&ie=UTF-8&oe=UTF-8&otf=2&ssel=0&tsel=0&kc=1&sl=auto&tl=en&hl=en&tk=987297.599007\n",
      "http://translate.google.com/translate_a/t?client=webapp&dt=bd&dt=ex&dt=ld&dt=md&dt=qca&dt=rw&dt=rm&dt=ss&dt=t&dt=at&ie=UTF-8&oe=UTF-8&otf=2&ssel=0&tsel=0&kc=1&sl=auto&tl=en&hl=en&tk=252171.387701\n",
      "http://translate.google.com/translate_a/t?client=webapp&dt=bd&dt=ex&dt=ld&dt=md&dt=qca&dt=rw&dt=rm&dt=ss&dt=t&dt=at&ie=UTF-8&oe=UTF-8&otf=2&ssel=0&tsel=0&kc=1&sl=auto&tl=en&hl=en&tk=325876.183178\n",
      "http://translate.google.com/translate_a/t?client=webapp&dt=bd&dt=ex&dt=ld&dt=md&dt=qca&dt=rw&dt=rm&dt=ss&dt=t&dt=at&ie=UTF-8&oe=UTF-8&otf=2&ssel=0&tsel=0&kc=1&sl=auto&tl=en&hl=en&tk=154823.290745\n",
      "http://translate.google.com/translate_a/t?client=webapp&dt=bd&dt=ex&dt=ld&dt=md&dt=qca&dt=rw&dt=rm&dt=ss&dt=t&dt=at&ie=UTF-8&oe=UTF-8&otf=2&ssel=0&tsel=0&kc=1&sl=auto&tl=en&hl=en&tk=336346.201380\n",
      "http://translate.google.com/translate_a/t?client=webapp&dt=bd&dt=ex&dt=ld&dt=md&dt=qca&dt=rw&dt=rm&dt=ss&dt=t&dt=at&ie=UTF-8&oe=UTF-8&otf=2&ssel=0&tsel=0&kc=1&sl=auto&tl=en&hl=en&tk=415778.27484\n",
      "http://translate.google.com/translate_a/t?client=webapp&dt=bd&dt=ex&dt=ld&dt=md&dt=qca&dt=rw&dt=rm&dt=ss&dt=t&dt=at&ie=UTF-8&oe=UTF-8&otf=2&ssel=0&tsel=0&kc=1&sl=auto&tl=en&hl=en&tk=914774.771624\n",
      "http://translate.google.com/translate_a/t?client=webapp&dt=bd&dt=ex&dt=ld&dt=md&dt=qca&dt=rw&dt=rm&dt=ss&dt=t&dt=at&ie=UTF-8&oe=UTF-8&otf=2&ssel=0&tsel=0&kc=1&sl=auto&tl=en&hl=en&tk=961528.563334\n",
      "http://translate.google.com/translate_a/t?client=webapp&dt=bd&dt=ex&dt=ld&dt=md&dt=qca&dt=rw&dt=rm&dt=ss&dt=t&dt=at&ie=UTF-8&oe=UTF-8&otf=2&ssel=0&tsel=0&kc=1&sl=auto&tl=en&hl=en&tk=925918.529312\n",
      "http://translate.google.com/translate_a/t?client=webapp&dt=bd&dt=ex&dt=ld&dt=md&dt=qca&dt=rw&dt=rm&dt=ss&dt=t&dt=at&ie=UTF-8&oe=UTF-8&otf=2&ssel=0&tsel=0&kc=1&sl=auto&tl=en&hl=en&tk=425021.20291\n"
     ]
    },
    {
     "name": "stdout",
     "output_type": "stream",
     "text": [
      "http://translate.google.com/translate_a/t?client=webapp&dt=bd&dt=ex&dt=ld&dt=md&dt=qca&dt=rw&dt=rm&dt=ss&dt=t&dt=at&ie=UTF-8&oe=UTF-8&otf=2&ssel=0&tsel=0&kc=1&sl=auto&tl=en&hl=en&tk=459626.77844\n",
      "http://translate.google.com/translate_a/t?client=webapp&dt=bd&dt=ex&dt=ld&dt=md&dt=qca&dt=rw&dt=rm&dt=ss&dt=t&dt=at&ie=UTF-8&oe=UTF-8&otf=2&ssel=0&tsel=0&kc=1&sl=auto&tl=en&hl=en&tk=173511.300729\n",
      "http://translate.google.com/translate_a/t?client=webapp&dt=bd&dt=ex&dt=ld&dt=md&dt=qca&dt=rw&dt=rm&dt=ss&dt=t&dt=at&ie=UTF-8&oe=UTF-8&otf=2&ssel=0&tsel=0&kc=1&sl=auto&tl=en&hl=en&tk=147835.291333\n",
      "http://translate.google.com/translate_a/t?client=webapp&dt=bd&dt=ex&dt=ld&dt=md&dt=qca&dt=rw&dt=rm&dt=ss&dt=t&dt=at&ie=UTF-8&oe=UTF-8&otf=2&ssel=0&tsel=0&kc=1&sl=auto&tl=en&hl=en&tk=240694.368456\n",
      "http://translate.google.com/translate_a/t?client=webapp&dt=bd&dt=ex&dt=ld&dt=md&dt=qca&dt=rw&dt=rm&dt=ss&dt=t&dt=at&ie=UTF-8&oe=UTF-8&otf=2&ssel=0&tsel=0&kc=1&sl=auto&tl=en&hl=en&tk=412114.31404\n",
      "http://translate.google.com/translate_a/t?client=webapp&dt=bd&dt=ex&dt=ld&dt=md&dt=qca&dt=rw&dt=rm&dt=ss&dt=t&dt=at&ie=UTF-8&oe=UTF-8&otf=2&ssel=0&tsel=0&kc=1&sl=auto&tl=en&hl=en&tk=918482.536748\n",
      "http://translate.google.com/translate_a/t?client=webapp&dt=bd&dt=ex&dt=ld&dt=md&dt=qca&dt=rw&dt=rm&dt=ss&dt=t&dt=at&ie=UTF-8&oe=UTF-8&otf=2&ssel=0&tsel=0&kc=1&sl=auto&tl=en&hl=en&tk=590921.997175\n",
      "http://translate.google.com/translate_a/t?client=webapp&dt=bd&dt=ex&dt=ld&dt=md&dt=qca&dt=rw&dt=rm&dt=ss&dt=t&dt=at&ie=UTF-8&oe=UTF-8&otf=2&ssel=0&tsel=0&kc=1&sl=auto&tl=en&hl=en&tk=360742.242264\n",
      "http://translate.google.com/translate_a/t?client=webapp&dt=bd&dt=ex&dt=ld&dt=md&dt=qca&dt=rw&dt=rm&dt=ss&dt=t&dt=at&ie=UTF-8&oe=UTF-8&otf=2&ssel=0&tsel=0&kc=1&sl=auto&tl=en&hl=en&tk=454524.56322\n",
      "http://translate.google.com/translate_a/t?client=webapp&dt=bd&dt=ex&dt=ld&dt=md&dt=qca&dt=rw&dt=rm&dt=ss&dt=t&dt=at&ie=UTF-8&oe=UTF-8&otf=2&ssel=0&tsel=0&kc=1&sl=auto&tl=en&hl=en&tk=180952.324006\n",
      "http://translate.google.com/translate_a/t?client=webapp&dt=bd&dt=ex&dt=ld&dt=md&dt=qca&dt=rw&dt=rm&dt=ss&dt=t&dt=at&ie=UTF-8&oe=UTF-8&otf=2&ssel=0&tsel=0&kc=1&sl=auto&tl=en&hl=en&tk=187271.321785\n",
      "http://translate.google.com/translate_a/t?client=webapp&dt=bd&dt=ex&dt=ld&dt=md&dt=qca&dt=rw&dt=rm&dt=ss&dt=t&dt=at&ie=UTF-8&oe=UTF-8&otf=2&ssel=0&tsel=0&kc=1&sl=auto&tl=en&hl=en&tk=972632.582694\n",
      "http://translate.google.com/translate_a/t?client=webapp&dt=bd&dt=ex&dt=ld&dt=md&dt=qca&dt=rw&dt=rm&dt=ss&dt=t&dt=at&ie=UTF-8&oe=UTF-8&otf=2&ssel=0&tsel=0&kc=1&sl=auto&tl=en&hl=en&tk=862196.726154\n",
      "http://translate.google.com/translate_a/t?client=webapp&dt=bd&dt=ex&dt=ld&dt=md&dt=qca&dt=rw&dt=rm&dt=ss&dt=t&dt=at&ie=UTF-8&oe=UTF-8&otf=2&ssel=0&tsel=0&kc=1&sl=auto&tl=en&hl=en&tk=975474.577804\n",
      "http://translate.google.com/translate_a/t?client=webapp&dt=bd&dt=ex&dt=ld&dt=md&dt=qca&dt=rw&dt=rm&dt=ss&dt=t&dt=at&ie=UTF-8&oe=UTF-8&otf=2&ssel=0&tsel=0&kc=1&sl=auto&tl=en&hl=en&tk=938581.549163\n",
      "http://translate.google.com/translate_a/t?client=webapp&dt=bd&dt=ex&dt=ld&dt=md&dt=qca&dt=rw&dt=rm&dt=ss&dt=t&dt=at&ie=UTF-8&oe=UTF-8&otf=2&ssel=0&tsel=0&kc=1&sl=auto&tl=en&hl=en&tk=440444.35586\n",
      "http://translate.google.com/translate_a/t?client=webapp&dt=bd&dt=ex&dt=ld&dt=md&dt=qca&dt=rw&dt=rm&dt=ss&dt=t&dt=at&ie=UTF-8&oe=UTF-8&otf=2&ssel=0&tsel=0&kc=1&sl=auto&tl=en&hl=en&tk=235586.371516\n",
      "http://translate.google.com/translate_a/t?client=webapp&dt=bd&dt=ex&dt=ld&dt=md&dt=qca&dt=rw&dt=rm&dt=ss&dt=t&dt=at&ie=UTF-8&oe=UTF-8&otf=2&ssel=0&tsel=0&kc=1&sl=auto&tl=en&hl=en&tk=319423.191681\n",
      "http://translate.google.com/translate_a/t?client=webapp&dt=bd&dt=ex&dt=ld&dt=md&dt=qca&dt=rw&dt=rm&dt=ss&dt=t&dt=at&ie=UTF-8&oe=UTF-8&otf=2&ssel=0&tsel=0&kc=1&sl=auto&tl=en&hl=en&tk=481345.92991\n",
      "http://translate.google.com/translate_a/t?client=webapp&dt=bd&dt=ex&dt=ld&dt=md&dt=qca&dt=rw&dt=rm&dt=ss&dt=t&dt=at&ie=UTF-8&oe=UTF-8&otf=2&ssel=0&tsel=0&kc=1&sl=auto&tl=en&hl=en&tk=894320.759310\n",
      "http://translate.google.com/translate_a/t?client=webapp&dt=bd&dt=ex&dt=ld&dt=md&dt=qca&dt=rw&dt=rm&dt=ss&dt=t&dt=at&ie=UTF-8&oe=UTF-8&otf=2&ssel=0&tsel=0&kc=1&sl=auto&tl=en&hl=en&tk=858197.731947\n",
      "http://translate.google.com/translate_a/t?client=webapp&dt=bd&dt=ex&dt=ld&dt=md&dt=qca&dt=rw&dt=rm&dt=ss&dt=t&dt=at&ie=UTF-8&oe=UTF-8&otf=2&ssel=0&tsel=0&kc=1&sl=auto&tl=en&hl=en&tk=277870.134672\n",
      "http://translate.google.com/translate_a/t?client=webapp&dt=bd&dt=ex&dt=ld&dt=md&dt=qca&dt=rw&dt=rm&dt=ss&dt=t&dt=at&ie=UTF-8&oe=UTF-8&otf=2&ssel=0&tsel=0&kc=1&sl=auto&tl=en&hl=en&tk=4654.401744\n",
      "http://translate.google.com/translate_a/t?client=webapp&dt=bd&dt=ex&dt=ld&dt=md&dt=qca&dt=rw&dt=rm&dt=ss&dt=t&dt=at&ie=UTF-8&oe=UTF-8&otf=2&ssel=0&tsel=0&kc=1&sl=auto&tl=en&hl=en&tk=868557.750515\n",
      "http://translate.google.com/translate_a/t?client=webapp&dt=bd&dt=ex&dt=ld&dt=md&dt=qca&dt=rw&dt=rm&dt=ss&dt=t&dt=at&ie=UTF-8&oe=UTF-8&otf=2&ssel=0&tsel=0&kc=1&sl=auto&tl=en&hl=en&tk=877017.742055\n",
      "http://translate.google.com/translate_a/t?client=webapp&dt=bd&dt=ex&dt=ld&dt=md&dt=qca&dt=rw&dt=rm&dt=ss&dt=t&dt=at&ie=UTF-8&oe=UTF-8&otf=2&ssel=0&tsel=0&kc=1&sl=auto&tl=en&hl=en&tk=684097.803647\n",
      "http://translate.google.com/translate_a/t?client=webapp&dt=bd&dt=ex&dt=ld&dt=md&dt=qca&dt=rw&dt=rm&dt=ss&dt=t&dt=at&ie=UTF-8&oe=UTF-8&otf=2&ssel=0&tsel=0&kc=1&sl=auto&tl=en&hl=en&tk=76580.464986\n",
      "http://translate.google.com/translate_a/t?client=webapp&dt=bd&dt=ex&dt=ld&dt=md&dt=qca&dt=rw&dt=rm&dt=ss&dt=t&dt=at&ie=UTF-8&oe=UTF-8&otf=2&ssel=0&tsel=0&kc=1&sl=auto&tl=en&hl=en&tk=28355.417213\n",
      "http://translate.google.com/translate_a/t?client=webapp&dt=bd&dt=ex&dt=ld&dt=md&dt=qca&dt=rw&dt=rm&dt=ss&dt=t&dt=at&ie=UTF-8&oe=UTF-8&otf=2&ssel=0&tsel=0&kc=1&sl=auto&tl=en&hl=en&tk=994418.597772\n",
      "http://translate.google.com/translate_a/t?client=webapp&dt=bd&dt=ex&dt=ld&dt=md&dt=qca&dt=rw&dt=rm&dt=ss&dt=t&dt=at&ie=UTF-8&oe=UTF-8&otf=2&ssel=0&tsel=0&kc=1&sl=auto&tl=en&hl=en&tk=723278.866864\n",
      "http://translate.google.com/translate_a/t?client=webapp&dt=bd&dt=ex&dt=ld&dt=md&dt=qca&dt=rw&dt=rm&dt=ss&dt=t&dt=at&ie=UTF-8&oe=UTF-8&otf=2&ssel=0&tsel=0&kc=1&sl=auto&tl=en&hl=en&tk=931395.525629\n",
      "http://translate.google.com/translate_a/t?client=webapp&dt=bd&dt=ex&dt=ld&dt=md&dt=qca&dt=rw&dt=rm&dt=ss&dt=t&dt=at&ie=UTF-8&oe=UTF-8&otf=2&ssel=0&tsel=0&kc=1&sl=auto&tl=en&hl=en&tk=866980.723418\n",
      "http://translate.google.com/translate_a/t?client=webapp&dt=bd&dt=ex&dt=ld&dt=md&dt=qca&dt=rw&dt=rm&dt=ss&dt=t&dt=at&ie=UTF-8&oe=UTF-8&otf=2&ssel=0&tsel=0&kc=1&sl=auto&tl=en&hl=en&tk=938983.549017\n",
      "http://translate.google.com/translate_a/t?client=webapp&dt=bd&dt=ex&dt=ld&dt=md&dt=qca&dt=rw&dt=rm&dt=ss&dt=t&dt=at&ie=UTF-8&oe=UTF-8&otf=2&ssel=0&tsel=0&kc=1&sl=auto&tl=en&hl=en&tk=247132.390690\n",
      "http://translate.google.com/translate_a/t?client=webapp&dt=bd&dt=ex&dt=ld&dt=md&dt=qca&dt=rw&dt=rm&dt=ss&dt=t&dt=at&ie=UTF-8&oe=UTF-8&otf=2&ssel=0&tsel=0&kc=1&sl=auto&tl=en&hl=en&tk=366843.240517\n",
      "http://translate.google.com/translate_a/t?client=webapp&dt=bd&dt=ex&dt=ld&dt=md&dt=qca&dt=rw&dt=rm&dt=ss&dt=t&dt=at&ie=UTF-8&oe=UTF-8&otf=2&ssel=0&tsel=0&kc=1&sl=auto&tl=en&hl=en&tk=332533.205195\n",
      "http://translate.google.com/translate_a/t?client=webapp&dt=bd&dt=ex&dt=ld&dt=md&dt=qca&dt=rw&dt=rm&dt=ss&dt=t&dt=at&ie=UTF-8&oe=UTF-8&otf=2&ssel=0&tsel=0&kc=1&sl=auto&tl=en&hl=en&tk=462940.74530\n",
      "http://translate.google.com/translate_a/t?client=webapp&dt=bd&dt=ex&dt=ld&dt=md&dt=qca&dt=rw&dt=rm&dt=ss&dt=t&dt=at&ie=UTF-8&oe=UTF-8&otf=2&ssel=0&tsel=0&kc=1&sl=auto&tl=en&hl=en&tk=537931.919093\n",
      "http://translate.google.com/translate_a/t?client=webapp&dt=bd&dt=ex&dt=ld&dt=md&dt=qca&dt=rw&dt=rm&dt=ss&dt=t&dt=at&ie=UTF-8&oe=UTF-8&otf=2&ssel=0&tsel=0&kc=1&sl=auto&tl=en&hl=en&tk=993219.595133\n",
      "http://translate.google.com/translate_a/t?client=webapp&dt=bd&dt=ex&dt=ld&dt=md&dt=qca&dt=rw&dt=rm&dt=ss&dt=t&dt=at&ie=UTF-8&oe=UTF-8&otf=2&ssel=0&tsel=0&kc=1&sl=auto&tl=en&hl=en&tk=996386.591708\n",
      "http://translate.google.com/translate_a/t?client=webapp&dt=bd&dt=ex&dt=ld&dt=md&dt=qca&dt=rw&dt=rm&dt=ss&dt=t&dt=at&ie=UTF-8&oe=UTF-8&otf=2&ssel=0&tsel=0&kc=1&sl=auto&tl=en&hl=en&tk=12873.393527\n",
      "http://translate.google.com/translate_a/t?client=webapp&dt=bd&dt=ex&dt=ld&dt=md&dt=qca&dt=rw&dt=rm&dt=ss&dt=t&dt=at&ie=UTF-8&oe=UTF-8&otf=2&ssel=0&tsel=0&kc=1&sl=auto&tl=en&hl=en&tk=409043.3757\n"
     ]
    },
    {
     "name": "stdout",
     "output_type": "stream",
     "text": [
      "http://translate.google.com/translate_a/t?client=webapp&dt=bd&dt=ex&dt=ld&dt=md&dt=qca&dt=rw&dt=rm&dt=ss&dt=t&dt=at&ie=UTF-8&oe=UTF-8&otf=2&ssel=0&tsel=0&kc=1&sl=auto&tl=en&hl=en&tk=472681.66839\n",
      "http://translate.google.com/translate_a/t?client=webapp&dt=bd&dt=ex&dt=ld&dt=md&dt=qca&dt=rw&dt=rm&dt=ss&dt=t&dt=at&ie=UTF-8&oe=UTF-8&otf=2&ssel=0&tsel=0&kc=1&sl=auto&tl=en&hl=en&tk=746213.872859\n",
      "http://translate.google.com/translate_a/t?client=webapp&dt=bd&dt=ex&dt=ld&dt=md&dt=qca&dt=rw&dt=rm&dt=ss&dt=t&dt=at&ie=UTF-8&oe=UTF-8&otf=2&ssel=0&tsel=0&kc=1&sl=auto&tl=en&hl=en&tk=810236.683906\n",
      "http://translate.google.com/translate_a/t?client=webapp&dt=bd&dt=ex&dt=ld&dt=md&dt=qca&dt=rw&dt=rm&dt=ss&dt=t&dt=at&ie=UTF-8&oe=UTF-8&otf=2&ssel=0&tsel=0&kc=1&sl=auto&tl=en&hl=en&tk=750893.869971\n",
      "http://translate.google.com/translate_a/t?client=webapp&dt=bd&dt=ex&dt=ld&dt=md&dt=qca&dt=rw&dt=rm&dt=ss&dt=t&dt=at&ie=UTF-8&oe=UTF-8&otf=2&ssel=0&tsel=0&kc=1&sl=auto&tl=en&hl=en&tk=88097.486239\n",
      "http://translate.google.com/translate_a/t?client=webapp&dt=bd&dt=ex&dt=ld&dt=md&dt=qca&dt=rw&dt=rm&dt=ss&dt=t&dt=at&ie=UTF-8&oe=UTF-8&otf=2&ssel=0&tsel=0&kc=1&sl=auto&tl=en&hl=en&tk=266682.139972\n",
      "http://translate.google.com/translate_a/t?client=webapp&dt=bd&dt=ex&dt=ld&dt=md&dt=qca&dt=rw&dt=rm&dt=ss&dt=t&dt=at&ie=UTF-8&oe=UTF-8&otf=2&ssel=0&tsel=0&kc=1&sl=auto&tl=en&hl=en&tk=763091.890797\n",
      "http://translate.google.com/translate_a/t?client=webapp&dt=bd&dt=ex&dt=ld&dt=md&dt=qca&dt=rw&dt=rm&dt=ss&dt=t&dt=at&ie=UTF-8&oe=UTF-8&otf=2&ssel=0&tsel=0&kc=1&sl=auto&tl=en&hl=en&tk=13988.394714\n",
      "http://translate.google.com/translate_a/t?client=webapp&dt=bd&dt=ex&dt=ld&dt=md&dt=qca&dt=rw&dt=rm&dt=ss&dt=t&dt=at&ie=UTF-8&oe=UTF-8&otf=2&ssel=0&tsel=0&kc=1&sl=auto&tl=en&hl=en&tk=338946.204668\n",
      "http://translate.google.com/translate_a/t?client=webapp&dt=bd&dt=ex&dt=ld&dt=md&dt=qca&dt=rw&dt=rm&dt=ss&dt=t&dt=at&ie=UTF-8&oe=UTF-8&otf=2&ssel=0&tsel=0&kc=1&sl=auto&tl=en&hl=en&tk=861642.726708\n",
      "http://translate.google.com/translate_a/t?client=webapp&dt=bd&dt=ex&dt=ld&dt=md&dt=qca&dt=rw&dt=rm&dt=ss&dt=t&dt=at&ie=UTF-8&oe=UTF-8&otf=2&ssel=0&tsel=0&kc=1&sl=auto&tl=en&hl=en&tk=509545.128279\n",
      "http://translate.google.com/translate_a/t?client=webapp&dt=bd&dt=ex&dt=ld&dt=md&dt=qca&dt=rw&dt=rm&dt=ss&dt=t&dt=at&ie=UTF-8&oe=UTF-8&otf=2&ssel=0&tsel=0&kc=1&sl=auto&tl=en&hl=en&tk=407920.2574\n",
      "http://translate.google.com/translate_a/t?client=webapp&dt=bd&dt=ex&dt=ld&dt=md&dt=qca&dt=rw&dt=rm&dt=ss&dt=t&dt=at&ie=UTF-8&oe=UTF-8&otf=2&ssel=0&tsel=0&kc=1&sl=auto&tl=en&hl=en&tk=899463.756473\n",
      "http://translate.google.com/translate_a/t?client=webapp&dt=bd&dt=ex&dt=ld&dt=md&dt=qca&dt=rw&dt=rm&dt=ss&dt=t&dt=at&ie=UTF-8&oe=UTF-8&otf=2&ssel=0&tsel=0&kc=1&sl=auto&tl=en&hl=en&tk=388149.253771\n",
      "http://translate.google.com/translate_a/t?client=webapp&dt=bd&dt=ex&dt=ld&dt=md&dt=qca&dt=rw&dt=rm&dt=ss&dt=t&dt=at&ie=UTF-8&oe=UTF-8&otf=2&ssel=0&tsel=0&kc=1&sl=auto&tl=en&hl=en&tk=252549.387579\n",
      "http://translate.google.com/translate_a/t?client=webapp&dt=bd&dt=ex&dt=ld&dt=md&dt=qca&dt=rw&dt=rm&dt=ss&dt=t&dt=at&ie=UTF-8&oe=UTF-8&otf=2&ssel=0&tsel=0&kc=1&sl=auto&tl=en&hl=en&tk=778935.905673\n",
      "http://translate.google.com/translate_a/t?client=webapp&dt=bd&dt=ex&dt=ld&dt=md&dt=qca&dt=rw&dt=rm&dt=ss&dt=t&dt=at&ie=UTF-8&oe=UTF-8&otf=2&ssel=0&tsel=0&kc=1&sl=auto&tl=en&hl=en&tk=64616.446230\n",
      "http://translate.google.com/translate_a/t?client=webapp&dt=bd&dt=ex&dt=ld&dt=md&dt=qca&dt=rw&dt=rm&dt=ss&dt=t&dt=at&ie=UTF-8&oe=UTF-8&otf=2&ssel=0&tsel=0&kc=1&sl=auto&tl=en&hl=en&tk=798816.656158\n",
      "http://translate.google.com/translate_a/t?client=webapp&dt=bd&dt=ex&dt=ld&dt=md&dt=qca&dt=rw&dt=rm&dt=ss&dt=t&dt=at&ie=UTF-8&oe=UTF-8&otf=2&ssel=0&tsel=0&kc=1&sl=auto&tl=en&hl=en&tk=805750.686088\n",
      "http://translate.google.com/translate_a/t?client=webapp&dt=bd&dt=ex&dt=ld&dt=md&dt=qca&dt=rw&dt=rm&dt=ss&dt=t&dt=at&ie=UTF-8&oe=UTF-8&otf=2&ssel=0&tsel=0&kc=1&sl=auto&tl=en&hl=en&tk=850603.707029\n",
      "http://translate.google.com/translate_a/t?client=webapp&dt=bd&dt=ex&dt=ld&dt=md&dt=qca&dt=rw&dt=rm&dt=ss&dt=t&dt=at&ie=UTF-8&oe=UTF-8&otf=2&ssel=0&tsel=0&kc=1&sl=auto&tl=en&hl=en&tk=627539.1024045\n",
      "http://translate.google.com/translate_a/t?client=webapp&dt=bd&dt=ex&dt=ld&dt=md&dt=qca&dt=rw&dt=rm&dt=ss&dt=t&dt=at&ie=UTF-8&oe=UTF-8&otf=2&ssel=0&tsel=0&kc=1&sl=auto&tl=en&hl=en&tk=807243.680501\n",
      "http://translate.google.com/translate_a/t?client=webapp&dt=bd&dt=ex&dt=ld&dt=md&dt=qca&dt=rw&dt=rm&dt=ss&dt=t&dt=at&ie=UTF-8&oe=UTF-8&otf=2&ssel=0&tsel=0&kc=1&sl=auto&tl=en&hl=en&tk=965248.559614\n",
      "http://translate.google.com/translate_a/t?client=webapp&dt=bd&dt=ex&dt=ld&dt=md&dt=qca&dt=rw&dt=rm&dt=ss&dt=t&dt=at&ie=UTF-8&oe=UTF-8&otf=2&ssel=0&tsel=0&kc=1&sl=auto&tl=en&hl=en&tk=429153.48927\n",
      "http://translate.google.com/translate_a/t?client=webapp&dt=bd&dt=ex&dt=ld&dt=md&dt=qca&dt=rw&dt=rm&dt=ss&dt=t&dt=at&ie=UTF-8&oe=UTF-8&otf=2&ssel=0&tsel=0&kc=1&sl=auto&tl=en&hl=en&tk=184849.319855\n",
      "http://translate.google.com/translate_a/t?client=webapp&dt=bd&dt=ex&dt=ld&dt=md&dt=qca&dt=rw&dt=rm&dt=ss&dt=t&dt=at&ie=UTF-8&oe=UTF-8&otf=2&ssel=0&tsel=0&kc=1&sl=auto&tl=en&hl=en&tk=841371.714213\n",
      "http://translate.google.com/translate_a/t?client=webapp&dt=bd&dt=ex&dt=ld&dt=md&dt=qca&dt=rw&dt=rm&dt=ss&dt=t&dt=at&ie=UTF-8&oe=UTF-8&otf=2&ssel=0&tsel=0&kc=1&sl=auto&tl=en&hl=en&tk=349639.222905\n",
      "http://translate.google.com/translate_a/t?client=webapp&dt=bd&dt=ex&dt=ld&dt=md&dt=qca&dt=rw&dt=rm&dt=ss&dt=t&dt=at&ie=UTF-8&oe=UTF-8&otf=2&ssel=0&tsel=0&kc=1&sl=auto&tl=en&hl=en&tk=762179.889405\n",
      "http://translate.google.com/translate_a/t?client=webapp&dt=bd&dt=ex&dt=ld&dt=md&dt=qca&dt=rw&dt=rm&dt=ss&dt=t&dt=at&ie=UTF-8&oe=UTF-8&otf=2&ssel=0&tsel=0&kc=1&sl=auto&tl=en&hl=en&tk=289249.154271\n",
      "http://translate.google.com/translate_a/t?client=webapp&dt=bd&dt=ex&dt=ld&dt=md&dt=qca&dt=rw&dt=rm&dt=ss&dt=t&dt=at&ie=UTF-8&oe=UTF-8&otf=2&ssel=0&tsel=0&kc=1&sl=auto&tl=en&hl=en&tk=828317.692451\n",
      "http://translate.google.com/translate_a/t?client=webapp&dt=bd&dt=ex&dt=ld&dt=md&dt=qca&dt=rw&dt=rm&dt=ss&dt=t&dt=at&ie=UTF-8&oe=UTF-8&otf=2&ssel=0&tsel=0&kc=1&sl=auto&tl=en&hl=en&tk=196084.315018\n",
      "http://translate.google.com/translate_a/t?client=webapp&dt=bd&dt=ex&dt=ld&dt=md&dt=qca&dt=rw&dt=rm&dt=ss&dt=t&dt=at&ie=UTF-8&oe=UTF-8&otf=2&ssel=0&tsel=0&kc=1&sl=auto&tl=en&hl=en&tk=571438.953168\n",
      "http://translate.google.com/translate_a/t?client=webapp&dt=bd&dt=ex&dt=ld&dt=md&dt=qca&dt=rw&dt=rm&dt=ss&dt=t&dt=at&ie=UTF-8&oe=UTF-8&otf=2&ssel=0&tsel=0&kc=1&sl=auto&tl=en&hl=en&tk=577123.982301\n",
      "http://translate.google.com/translate_a/t?client=webapp&dt=bd&dt=ex&dt=ld&dt=md&dt=qca&dt=rw&dt=rm&dt=ss&dt=t&dt=at&ie=UTF-8&oe=UTF-8&otf=2&ssel=0&tsel=0&kc=1&sl=auto&tl=en&hl=en&tk=599020.987282\n",
      "http://translate.google.com/translate_a/t?client=webapp&dt=bd&dt=ex&dt=ld&dt=md&dt=qca&dt=rw&dt=rm&dt=ss&dt=t&dt=at&ie=UTF-8&oe=UTF-8&otf=2&ssel=0&tsel=0&kc=1&sl=auto&tl=en&hl=en&tk=923907.535165\n",
      "http://translate.google.com/translate_a/t?client=webapp&dt=bd&dt=ex&dt=ld&dt=md&dt=qca&dt=rw&dt=rm&dt=ss&dt=t&dt=at&ie=UTF-8&oe=UTF-8&otf=2&ssel=0&tsel=0&kc=1&sl=auto&tl=en&hl=en&tk=370261.234795\n",
      "http://translate.google.com/translate_a/t?client=webapp&dt=bd&dt=ex&dt=ld&dt=md&dt=qca&dt=rw&dt=rm&dt=ss&dt=t&dt=at&ie=UTF-8&oe=UTF-8&otf=2&ssel=0&tsel=0&kc=1&sl=auto&tl=en&hl=en&tk=462200.81414\n",
      "http://translate.google.com/translate_a/t?client=webapp&dt=bd&dt=ex&dt=ld&dt=md&dt=qca&dt=rw&dt=rm&dt=ss&dt=t&dt=at&ie=UTF-8&oe=UTF-8&otf=2&ssel=0&tsel=0&kc=1&sl=auto&tl=en&hl=en&tk=991364.594938\n",
      "http://translate.google.com/translate_a/t?client=webapp&dt=bd&dt=ex&dt=ld&dt=md&dt=qca&dt=rw&dt=rm&dt=ss&dt=t&dt=at&ie=UTF-8&oe=UTF-8&otf=2&ssel=0&tsel=0&kc=1&sl=auto&tl=en&hl=en&tk=381345.254687\n",
      "http://translate.google.com/translate_a/t?client=webapp&dt=bd&dt=ex&dt=ld&dt=md&dt=qca&dt=rw&dt=rm&dt=ss&dt=t&dt=at&ie=UTF-8&oe=UTF-8&otf=2&ssel=0&tsel=0&kc=1&sl=auto&tl=en&hl=en&tk=403583.6913\n",
      "http://translate.google.com/translate_a/t?client=webapp&dt=bd&dt=ex&dt=ld&dt=md&dt=qca&dt=rw&dt=rm&dt=ss&dt=t&dt=at&ie=UTF-8&oe=UTF-8&otf=2&ssel=0&tsel=0&kc=1&sl=auto&tl=en&hl=en&tk=176389.295547\n",
      "http://translate.google.com/translate_a/t?client=webapp&dt=bd&dt=ex&dt=ld&dt=md&dt=qca&dt=rw&dt=rm&dt=ss&dt=t&dt=at&ie=UTF-8&oe=UTF-8&otf=2&ssel=0&tsel=0&kc=1&sl=auto&tl=en&hl=en&tk=323599.181105\n"
     ]
    },
    {
     "name": "stdout",
     "output_type": "stream",
     "text": [
      "http://translate.google.com/translate_a/t?client=webapp&dt=bd&dt=ex&dt=ld&dt=md&dt=qca&dt=rw&dt=rm&dt=ss&dt=t&dt=at&ie=UTF-8&oe=UTF-8&otf=2&ssel=0&tsel=0&kc=1&sl=auto&tl=en&hl=en&tk=461290.80532\n",
      "http://translate.google.com/translate_a/t?client=webapp&dt=bd&dt=ex&dt=ld&dt=md&dt=qca&dt=rw&dt=rm&dt=ss&dt=t&dt=at&ie=UTF-8&oe=UTF-8&otf=2&ssel=0&tsel=0&kc=1&sl=auto&tl=en&hl=en&tk=45502.426688\n",
      "http://translate.google.com/translate_a/t?client=webapp&dt=bd&dt=ex&dt=ld&dt=md&dt=qca&dt=rw&dt=rm&dt=ss&dt=t&dt=at&ie=UTF-8&oe=UTF-8&otf=2&ssel=0&tsel=0&kc=1&sl=auto&tl=en&hl=en&tk=3946.408596\n",
      "http://translate.google.com/translate_a/t?client=webapp&dt=bd&dt=ex&dt=ld&dt=md&dt=qca&dt=rw&dt=rm&dt=ss&dt=t&dt=at&ie=UTF-8&oe=UTF-8&otf=2&ssel=0&tsel=0&kc=1&sl=auto&tl=en&hl=en&tk=236886.372264\n",
      "http://translate.google.com/translate_a/t?client=webapp&dt=bd&dt=ex&dt=ld&dt=md&dt=qca&dt=rw&dt=rm&dt=ss&dt=t&dt=at&ie=UTF-8&oe=UTF-8&otf=2&ssel=0&tsel=0&kc=1&sl=auto&tl=en&hl=en&tk=36065.442271\n",
      "http://translate.google.com/translate_a/t?client=webapp&dt=bd&dt=ex&dt=ld&dt=md&dt=qca&dt=rw&dt=rm&dt=ss&dt=t&dt=at&ie=UTF-8&oe=UTF-8&otf=2&ssel=0&tsel=0&kc=1&sl=auto&tl=en&hl=en&tk=39686.436344\n",
      "http://translate.google.com/translate_a/t?client=webapp&dt=bd&dt=ex&dt=ld&dt=md&dt=qca&dt=rw&dt=rm&dt=ss&dt=t&dt=at&ie=UTF-8&oe=UTF-8&otf=2&ssel=0&tsel=0&kc=1&sl=auto&tl=en&hl=en&tk=639173.1045435\n",
      "http://translate.google.com/translate_a/t?client=webapp&dt=bd&dt=ex&dt=ld&dt=md&dt=qca&dt=rw&dt=rm&dt=ss&dt=t&dt=at&ie=UTF-8&oe=UTF-8&otf=2&ssel=0&tsel=0&kc=1&sl=auto&tl=en&hl=en&tk=986747.605445\n",
      "http://translate.google.com/translate_a/t?client=webapp&dt=bd&dt=ex&dt=ld&dt=md&dt=qca&dt=rw&dt=rm&dt=ss&dt=t&dt=at&ie=UTF-8&oe=UTF-8&otf=2&ssel=0&tsel=0&kc=1&sl=auto&tl=en&hl=en&tk=422441.16727\n",
      "http://translate.google.com/translate_a/t?client=webapp&dt=bd&dt=ex&dt=ld&dt=md&dt=qca&dt=rw&dt=rm&dt=ss&dt=t&dt=at&ie=UTF-8&oe=UTF-8&otf=2&ssel=0&tsel=0&kc=1&sl=auto&tl=en&hl=en&tk=117941.524235\n",
      "http://translate.google.com/translate_a/t?client=webapp&dt=bd&dt=ex&dt=ld&dt=md&dt=qca&dt=rw&dt=rm&dt=ss&dt=t&dt=at&ie=UTF-8&oe=UTF-8&otf=2&ssel=0&tsel=0&kc=1&sl=auto&tl=en&hl=en&tk=139552.266846\n",
      "http://translate.google.com/translate_a/t?client=webapp&dt=bd&dt=ex&dt=ld&dt=md&dt=qca&dt=rw&dt=rm&dt=ss&dt=t&dt=at&ie=UTF-8&oe=UTF-8&otf=2&ssel=0&tsel=0&kc=1&sl=auto&tl=en&hl=en&tk=592846.997552\n",
      "http://translate.google.com/translate_a/t?client=webapp&dt=bd&dt=ex&dt=ld&dt=md&dt=qca&dt=rw&dt=rm&dt=ss&dt=t&dt=at&ie=UTF-8&oe=UTF-8&otf=2&ssel=0&tsel=0&kc=1&sl=auto&tl=en&hl=en&tk=899148.756530\n",
      "http://translate.google.com/translate_a/t?client=webapp&dt=bd&dt=ex&dt=ld&dt=md&dt=qca&dt=rw&dt=rm&dt=ss&dt=t&dt=at&ie=UTF-8&oe=UTF-8&otf=2&ssel=0&tsel=0&kc=1&sl=auto&tl=en&hl=en&tk=469104.72462\n",
      "http://translate.google.com/translate_a/t?client=webapp&dt=bd&dt=ex&dt=ld&dt=md&dt=qca&dt=rw&dt=rm&dt=ss&dt=t&dt=at&ie=UTF-8&oe=UTF-8&otf=2&ssel=0&tsel=0&kc=1&sl=auto&tl=en&hl=en&tk=586673.966863\n",
      "http://translate.google.com/translate_a/t?client=webapp&dt=bd&dt=ex&dt=ld&dt=md&dt=qca&dt=rw&dt=rm&dt=ss&dt=t&dt=at&ie=UTF-8&oe=UTF-8&otf=2&ssel=0&tsel=0&kc=1&sl=auto&tl=en&hl=en&tk=986093.604307\n",
      "http://translate.google.com/translate_a/t?client=webapp&dt=bd&dt=ex&dt=ld&dt=md&dt=qca&dt=rw&dt=rm&dt=ss&dt=t&dt=at&ie=UTF-8&oe=UTF-8&otf=2&ssel=0&tsel=0&kc=1&sl=auto&tl=en&hl=en&tk=27998.417312\n",
      "http://translate.google.com/translate_a/t?client=webapp&dt=bd&dt=ex&dt=ld&dt=md&dt=qca&dt=rw&dt=rm&dt=ss&dt=t&dt=at&ie=UTF-8&oe=UTF-8&otf=2&ssel=0&tsel=0&kc=1&sl=auto&tl=en&hl=en&tk=850768.706606\n",
      "http://translate.google.com/translate_a/t?client=webapp&dt=bd&dt=ex&dt=ld&dt=md&dt=qca&dt=rw&dt=rm&dt=ss&dt=t&dt=at&ie=UTF-8&oe=UTF-8&otf=2&ssel=0&tsel=0&kc=1&sl=auto&tl=en&hl=en&tk=260771.379357\n",
      "http://translate.google.com/translate_a/t?client=webapp&dt=bd&dt=ex&dt=ld&dt=md&dt=qca&dt=rw&dt=rm&dt=ss&dt=t&dt=at&ie=UTF-8&oe=UTF-8&otf=2&ssel=0&tsel=0&kc=1&sl=auto&tl=en&hl=en&tk=81993.488247\n",
      "http://translate.google.com/translate_a/t?client=webapp&dt=bd&dt=ex&dt=ld&dt=md&dt=qca&dt=rw&dt=rm&dt=ss&dt=t&dt=at&ie=UTF-8&oe=UTF-8&otf=2&ssel=0&tsel=0&kc=1&sl=auto&tl=en&hl=en&tk=867894.724296\n",
      "http://translate.google.com/translate_a/t?client=webapp&dt=bd&dt=ex&dt=ld&dt=md&dt=qca&dt=rw&dt=rm&dt=ss&dt=t&dt=at&ie=UTF-8&oe=UTF-8&otf=2&ssel=0&tsel=0&kc=1&sl=auto&tl=en&hl=en&tk=76646.464920\n",
      "http://translate.google.com/translate_a/t?client=webapp&dt=bd&dt=ex&dt=ld&dt=md&dt=qca&dt=rw&dt=rm&dt=ss&dt=t&dt=at&ie=UTF-8&oe=UTF-8&otf=2&ssel=0&tsel=0&kc=1&sl=auto&tl=en&hl=en&tk=464070.75704\n",
      "http://translate.google.com/translate_a/t?client=webapp&dt=bd&dt=ex&dt=ld&dt=md&dt=qca&dt=rw&dt=rm&dt=ss&dt=t&dt=at&ie=UTF-8&oe=UTF-8&otf=2&ssel=0&tsel=0&kc=1&sl=auto&tl=en&hl=en&tk=122429.519491\n",
      "http://translate.google.com/translate_a/t?client=webapp&dt=bd&dt=ex&dt=ld&dt=md&dt=qca&dt=rw&dt=rm&dt=ss&dt=t&dt=at&ie=UTF-8&oe=UTF-8&otf=2&ssel=0&tsel=0&kc=1&sl=auto&tl=en&hl=en&tk=84656.489934\n",
      "http://translate.google.com/translate_a/t?client=webapp&dt=bd&dt=ex&dt=ld&dt=md&dt=qca&dt=rw&dt=rm&dt=ss&dt=t&dt=at&ie=UTF-8&oe=UTF-8&otf=2&ssel=0&tsel=0&kc=1&sl=auto&tl=en&hl=en&tk=87904.484382\n",
      "http://translate.google.com/translate_a/t?client=webapp&dt=bd&dt=ex&dt=ld&dt=md&dt=qca&dt=rw&dt=rm&dt=ss&dt=t&dt=at&ie=UTF-8&oe=UTF-8&otf=2&ssel=0&tsel=0&kc=1&sl=auto&tl=en&hl=en&tk=746052.872762\n",
      "http://translate.google.com/translate_a/t?client=webapp&dt=bd&dt=ex&dt=ld&dt=md&dt=qca&dt=rw&dt=rm&dt=ss&dt=t&dt=at&ie=UTF-8&oe=UTF-8&otf=2&ssel=0&tsel=0&kc=1&sl=auto&tl=en&hl=en&tk=983170.603132\n",
      "http://translate.google.com/translate_a/t?client=webapp&dt=bd&dt=ex&dt=ld&dt=md&dt=qca&dt=rw&dt=rm&dt=ss&dt=t&dt=at&ie=UTF-8&oe=UTF-8&otf=2&ssel=0&tsel=0&kc=1&sl=auto&tl=en&hl=en&tk=692396.828370\n",
      "http://translate.google.com/translate_a/t?client=webapp&dt=bd&dt=ex&dt=ld&dt=md&dt=qca&dt=rw&dt=rm&dt=ss&dt=t&dt=at&ie=UTF-8&oe=UTF-8&otf=2&ssel=0&tsel=0&kc=1&sl=auto&tl=en&hl=en&tk=339710.204160\n",
      "http://translate.google.com/translate_a/t?client=webapp&dt=bd&dt=ex&dt=ld&dt=md&dt=qca&dt=rw&dt=rm&dt=ss&dt=t&dt=at&ie=UTF-8&oe=UTF-8&otf=2&ssel=0&tsel=0&kc=1&sl=auto&tl=en&hl=en&tk=686585.805511\n",
      "http://translate.google.com/translate_a/t?client=webapp&dt=bd&dt=ex&dt=ld&dt=md&dt=qca&dt=rw&dt=rm&dt=ss&dt=t&dt=at&ie=UTF-8&oe=UTF-8&otf=2&ssel=0&tsel=0&kc=1&sl=auto&tl=en&hl=en&tk=622745.1029095\n",
      "http://translate.google.com/translate_a/t?client=webapp&dt=bd&dt=ex&dt=ld&dt=md&dt=qca&dt=rw&dt=rm&dt=ss&dt=t&dt=at&ie=UTF-8&oe=UTF-8&otf=2&ssel=0&tsel=0&kc=1&sl=auto&tl=en&hl=en&tk=627072.1024766\n",
      "http://translate.google.com/translate_a/t?client=webapp&dt=bd&dt=ex&dt=ld&dt=md&dt=qca&dt=rw&dt=rm&dt=ss&dt=t&dt=at&ie=UTF-8&oe=UTF-8&otf=2&ssel=0&tsel=0&kc=1&sl=auto&tl=en&hl=en&tk=652426.1034228\n",
      "http://translate.google.com/translate_a/t?client=webapp&dt=bd&dt=ex&dt=ld&dt=md&dt=qca&dt=rw&dt=rm&dt=ss&dt=t&dt=at&ie=UTF-8&oe=UTF-8&otf=2&ssel=0&tsel=0&kc=1&sl=auto&tl=en&hl=en&tk=769518.888464\n",
      "http://translate.google.com/translate_a/t?client=webapp&dt=bd&dt=ex&dt=ld&dt=md&dt=qca&dt=rw&dt=rm&dt=ss&dt=t&dt=at&ie=UTF-8&oe=UTF-8&otf=2&ssel=0&tsel=0&kc=1&sl=auto&tl=en&hl=en&tk=99238.504024\n",
      "http://translate.google.com/translate_a/t?client=webapp&dt=bd&dt=ex&dt=ld&dt=md&dt=qca&dt=rw&dt=rm&dt=ss&dt=t&dt=at&ie=UTF-8&oe=UTF-8&otf=2&ssel=0&tsel=0&kc=1&sl=auto&tl=en&hl=en&tk=875300.747610\n",
      "http://translate.google.com/translate_a/t?client=webapp&dt=bd&dt=ex&dt=ld&dt=md&dt=qca&dt=rw&dt=rm&dt=ss&dt=t&dt=at&ie=UTF-8&oe=UTF-8&otf=2&ssel=0&tsel=0&kc=1&sl=auto&tl=en&hl=en&tk=793479.665849\n",
      "http://translate.google.com/translate_a/t?client=webapp&dt=bd&dt=ex&dt=ld&dt=md&dt=qca&dt=rw&dt=rm&dt=ss&dt=t&dt=at&ie=UTF-8&oe=UTF-8&otf=2&ssel=0&tsel=0&kc=1&sl=auto&tl=en&hl=en&tk=276645.134107\n",
      "http://translate.google.com/translate_a/t?client=webapp&dt=bd&dt=ex&dt=ld&dt=md&dt=qca&dt=rw&dt=rm&dt=ss&dt=t&dt=at&ie=UTF-8&oe=UTF-8&otf=2&ssel=0&tsel=0&kc=1&sl=auto&tl=en&hl=en&tk=823835.696677\n",
      "http://translate.google.com/translate_a/t?client=webapp&dt=bd&dt=ex&dt=ld&dt=md&dt=qca&dt=rw&dt=rm&dt=ss&dt=t&dt=at&ie=UTF-8&oe=UTF-8&otf=2&ssel=0&tsel=0&kc=1&sl=auto&tl=en&hl=en&tk=182914.326140\n",
      "http://translate.google.com/translate_a/t?client=webapp&dt=bd&dt=ex&dt=ld&dt=md&dt=qca&dt=rw&dt=rm&dt=ss&dt=t&dt=at&ie=UTF-8&oe=UTF-8&otf=2&ssel=0&tsel=0&kc=1&sl=auto&tl=en&hl=en&tk=99373.505683\n",
      "http://translate.google.com/translate_a/t?client=webapp&dt=bd&dt=ex&dt=ld&dt=md&dt=qca&dt=rw&dt=rm&dt=ss&dt=t&dt=at&ie=UTF-8&oe=UTF-8&otf=2&ssel=0&tsel=0&kc=1&sl=auto&tl=en&hl=en&tk=701630.821184\n",
      "http://translate.google.com/translate_a/t?client=webapp&dt=bd&dt=ex&dt=ld&dt=md&dt=qca&dt=rw&dt=rm&dt=ss&dt=t&dt=at&ie=UTF-8&oe=UTF-8&otf=2&ssel=0&tsel=0&kc=1&sl=auto&tl=en&hl=en&tk=846692.710682\n",
      "http://translate.google.com/translate_a/t?client=webapp&dt=bd&dt=ex&dt=ld&dt=md&dt=qca&dt=rw&dt=rm&dt=ss&dt=t&dt=at&ie=UTF-8&oe=UTF-8&otf=2&ssel=0&tsel=0&kc=1&sl=auto&tl=en&hl=en&tk=241205.367947\n"
     ]
    },
    {
     "name": "stdout",
     "output_type": "stream",
     "text": [
      "http://translate.google.com/translate_a/t?client=webapp&dt=bd&dt=ex&dt=ld&dt=md&dt=qca&dt=rw&dt=rm&dt=ss&dt=t&dt=at&ie=UTF-8&oe=UTF-8&otf=2&ssel=0&tsel=0&kc=1&sl=auto&tl=en&hl=en&tk=189165.315795\n",
      "http://translate.google.com/translate_a/t?client=webapp&dt=bd&dt=ex&dt=ld&dt=md&dt=qca&dt=rw&dt=rm&dt=ss&dt=t&dt=at&ie=UTF-8&oe=UTF-8&otf=2&ssel=0&tsel=0&kc=1&sl=auto&tl=en&hl=en&tk=242117.361147\n",
      "http://translate.google.com/translate_a/t?client=webapp&dt=bd&dt=ex&dt=ld&dt=md&dt=qca&dt=rw&dt=rm&dt=ss&dt=t&dt=at&ie=UTF-8&oe=UTF-8&otf=2&ssel=0&tsel=0&kc=1&sl=auto&tl=en&hl=en&tk=528458.926516\n",
      "http://translate.google.com/translate_a/t?client=webapp&dt=bd&dt=ex&dt=ld&dt=md&dt=qca&dt=rw&dt=rm&dt=ss&dt=t&dt=at&ie=UTF-8&oe=UTF-8&otf=2&ssel=0&tsel=0&kc=1&sl=auto&tl=en&hl=en&tk=180529.324175\n",
      "http://translate.google.com/translate_a/t?client=webapp&dt=bd&dt=ex&dt=ld&dt=md&dt=qca&dt=rw&dt=rm&dt=ss&dt=t&dt=at&ie=UTF-8&oe=UTF-8&otf=2&ssel=0&tsel=0&kc=1&sl=auto&tl=en&hl=en&tk=212787.330829\n",
      "http://translate.google.com/translate_a/t?client=webapp&dt=bd&dt=ex&dt=ld&dt=md&dt=qca&dt=rw&dt=rm&dt=ss&dt=t&dt=at&ie=UTF-8&oe=UTF-8&otf=2&ssel=0&tsel=0&kc=1&sl=auto&tl=en&hl=en&tk=285333.158187\n",
      "http://translate.google.com/translate_a/t?client=webapp&dt=bd&dt=ex&dt=ld&dt=md&dt=qca&dt=rw&dt=rm&dt=ss&dt=t&dt=at&ie=UTF-8&oe=UTF-8&otf=2&ssel=0&tsel=0&kc=1&sl=auto&tl=en&hl=en&tk=869142.749672\n",
      "http://translate.google.com/translate_a/t?client=webapp&dt=bd&dt=ex&dt=ld&dt=md&dt=qca&dt=rw&dt=rm&dt=ss&dt=t&dt=at&ie=UTF-8&oe=UTF-8&otf=2&ssel=0&tsel=0&kc=1&sl=auto&tl=en&hl=en&tk=106914.496348\n",
      "http://translate.google.com/translate_a/t?client=webapp&dt=bd&dt=ex&dt=ld&dt=md&dt=qca&dt=rw&dt=rm&dt=ss&dt=t&dt=at&ie=UTF-8&oe=UTF-8&otf=2&ssel=0&tsel=0&kc=1&sl=auto&tl=en&hl=en&tk=824509.698307\n",
      "http://translate.google.com/translate_a/t?client=webapp&dt=bd&dt=ex&dt=ld&dt=md&dt=qca&dt=rw&dt=rm&dt=ss&dt=t&dt=at&ie=UTF-8&oe=UTF-8&otf=2&ssel=0&tsel=0&kc=1&sl=auto&tl=en&hl=en&tk=693117.827395\n",
      "http://translate.google.com/translate_a/t?client=webapp&dt=bd&dt=ex&dt=ld&dt=md&dt=qca&dt=rw&dt=rm&dt=ss&dt=t&dt=at&ie=UTF-8&oe=UTF-8&otf=2&ssel=0&tsel=0&kc=1&sl=auto&tl=en&hl=en&tk=8038.404504\n",
      "http://translate.google.com/translate_a/t?client=webapp&dt=bd&dt=ex&dt=ld&dt=md&dt=qca&dt=rw&dt=rm&dt=ss&dt=t&dt=at&ie=UTF-8&oe=UTF-8&otf=2&ssel=0&tsel=0&kc=1&sl=auto&tl=en&hl=en&tk=581035.978645\n",
      "http://translate.google.com/translate_a/t?client=webapp&dt=bd&dt=ex&dt=ld&dt=md&dt=qca&dt=rw&dt=rm&dt=ss&dt=t&dt=at&ie=UTF-8&oe=UTF-8&otf=2&ssel=0&tsel=0&kc=1&sl=auto&tl=en&hl=en&tk=499698.109708\n",
      "http://translate.google.com/translate_a/t?client=webapp&dt=bd&dt=ex&dt=ld&dt=md&dt=qca&dt=rw&dt=rm&dt=ss&dt=t&dt=at&ie=UTF-8&oe=UTF-8&otf=2&ssel=0&tsel=0&kc=1&sl=auto&tl=en&hl=en&tk=765918.892064\n",
      "http://translate.google.com/translate_a/t?client=webapp&dt=bd&dt=ex&dt=ld&dt=md&dt=qca&dt=rw&dt=rm&dt=ss&dt=t&dt=at&ie=UTF-8&oe=UTF-8&otf=2&ssel=0&tsel=0&kc=1&sl=auto&tl=en&hl=en&tk=989621.600779\n",
      "http://translate.google.com/translate_a/t?client=webapp&dt=bd&dt=ex&dt=ld&dt=md&dt=qca&dt=rw&dt=rm&dt=ss&dt=t&dt=at&ie=UTF-8&oe=UTF-8&otf=2&ssel=0&tsel=0&kc=1&sl=auto&tl=en&hl=en&tk=130483.511693\n",
      "http://translate.google.com/translate_a/t?client=webapp&dt=bd&dt=ex&dt=ld&dt=md&dt=qca&dt=rw&dt=rm&dt=ss&dt=t&dt=at&ie=UTF-8&oe=UTF-8&otf=2&ssel=0&tsel=0&kc=1&sl=auto&tl=en&hl=en&tk=795675.661349\n",
      "http://translate.google.com/translate_a/t?client=webapp&dt=bd&dt=ex&dt=ld&dt=md&dt=qca&dt=rw&dt=rm&dt=ss&dt=t&dt=at&ie=UTF-8&oe=UTF-8&otf=2&ssel=0&tsel=0&kc=1&sl=auto&tl=en&hl=en&tk=860943.725105\n",
      "http://translate.google.com/translate_a/t?client=webapp&dt=bd&dt=ex&dt=ld&dt=md&dt=qca&dt=rw&dt=rm&dt=ss&dt=t&dt=at&ie=UTF-8&oe=UTF-8&otf=2&ssel=0&tsel=0&kc=1&sl=auto&tl=en&hl=en&tk=89053.485539\n",
      "http://translate.google.com/translate_a/t?client=webapp&dt=bd&dt=ex&dt=ld&dt=md&dt=qca&dt=rw&dt=rm&dt=ss&dt=t&dt=at&ie=UTF-8&oe=UTF-8&otf=2&ssel=0&tsel=0&kc=1&sl=auto&tl=en&hl=en&tk=317309.189443\n",
      "http://translate.google.com/translate_a/t?client=webapp&dt=bd&dt=ex&dt=ld&dt=md&dt=qca&dt=rw&dt=rm&dt=ss&dt=t&dt=at&ie=UTF-8&oe=UTF-8&otf=2&ssel=0&tsel=0&kc=1&sl=auto&tl=en&hl=en&tk=672920.817126\n",
      "http://translate.google.com/translate_a/t?client=webapp&dt=bd&dt=ex&dt=ld&dt=md&dt=qca&dt=rw&dt=rm&dt=ss&dt=t&dt=at&ie=UTF-8&oe=UTF-8&otf=2&ssel=0&tsel=0&kc=1&sl=auto&tl=en&hl=en&tk=82639.487857\n",
      "http://translate.google.com/translate_a/t?client=webapp&dt=bd&dt=ex&dt=ld&dt=md&dt=qca&dt=rw&dt=rm&dt=ss&dt=t&dt=at&ie=UTF-8&oe=UTF-8&otf=2&ssel=0&tsel=0&kc=1&sl=auto&tl=en&hl=en&tk=537530.917700\n",
      "http://translate.google.com/translate_a/t?client=webapp&dt=bd&dt=ex&dt=ld&dt=md&dt=qca&dt=rw&dt=rm&dt=ss&dt=t&dt=at&ie=UTF-8&oe=UTF-8&otf=2&ssel=0&tsel=0&kc=1&sl=auto&tl=en&hl=en&tk=548248.945894\n",
      "http://translate.google.com/translate_a/t?client=webapp&dt=bd&dt=ex&dt=ld&dt=md&dt=qca&dt=rw&dt=rm&dt=ss&dt=t&dt=at&ie=UTF-8&oe=UTF-8&otf=2&ssel=0&tsel=0&kc=1&sl=auto&tl=en&hl=en&tk=355326.219264\n",
      "http://translate.google.com/translate_a/t?client=webapp&dt=bd&dt=ex&dt=ld&dt=md&dt=qca&dt=rw&dt=rm&dt=ss&dt=t&dt=at&ie=UTF-8&oe=UTF-8&otf=2&ssel=0&tsel=0&kc=1&sl=auto&tl=en&hl=en&tk=130327.511593\n",
      "http://translate.google.com/translate_a/t?client=webapp&dt=bd&dt=ex&dt=ld&dt=md&dt=qca&dt=rw&dt=rm&dt=ss&dt=t&dt=at&ie=UTF-8&oe=UTF-8&otf=2&ssel=0&tsel=0&kc=1&sl=auto&tl=en&hl=en&tk=895139.760797\n",
      "http://translate.google.com/translate_a/t?client=webapp&dt=bd&dt=ex&dt=ld&dt=md&dt=qca&dt=rw&dt=rm&dt=ss&dt=t&dt=at&ie=UTF-8&oe=UTF-8&otf=2&ssel=0&tsel=0&kc=1&sl=auto&tl=en&hl=en&tk=745434.879780\n",
      "http://translate.google.com/translate_a/t?client=webapp&dt=bd&dt=ex&dt=ld&dt=md&dt=qca&dt=rw&dt=rm&dt=ss&dt=t&dt=at&ie=UTF-8&oe=UTF-8&otf=2&ssel=0&tsel=0&kc=1&sl=auto&tl=en&hl=en&tk=575904.981726\n",
      "http://translate.google.com/translate_a/t?client=webapp&dt=bd&dt=ex&dt=ld&dt=md&dt=qca&dt=rw&dt=rm&dt=ss&dt=t&dt=at&ie=UTF-8&oe=UTF-8&otf=2&ssel=0&tsel=0&kc=1&sl=auto&tl=en&hl=en&tk=643131.1041221\n",
      "http://translate.google.com/translate_a/t?client=webapp&dt=bd&dt=ex&dt=ld&dt=md&dt=qca&dt=rw&dt=rm&dt=ss&dt=t&dt=at&ie=UTF-8&oe=UTF-8&otf=2&ssel=0&tsel=0&kc=1&sl=auto&tl=en&hl=en&tk=952072.570486\n",
      "http://translate.google.com/translate_a/t?client=webapp&dt=bd&dt=ex&dt=ld&dt=md&dt=qca&dt=rw&dt=rm&dt=ss&dt=t&dt=at&ie=UTF-8&oe=UTF-8&otf=2&ssel=0&tsel=0&kc=1&sl=auto&tl=en&hl=en&tk=676272.811726\n",
      "http://translate.google.com/translate_a/t?client=webapp&dt=bd&dt=ex&dt=ld&dt=md&dt=qca&dt=rw&dt=rm&dt=ss&dt=t&dt=at&ie=UTF-8&oe=UTF-8&otf=2&ssel=0&tsel=0&kc=1&sl=auto&tl=en&hl=en&tk=977209.580167\n",
      "http://translate.google.com/translate_a/t?client=webapp&dt=bd&dt=ex&dt=ld&dt=md&dt=qca&dt=rw&dt=rm&dt=ss&dt=t&dt=at&ie=UTF-8&oe=UTF-8&otf=2&ssel=0&tsel=0&kc=1&sl=auto&tl=en&hl=en&tk=704357.822299\n",
      "http://translate.google.com/translate_a/t?client=webapp&dt=bd&dt=ex&dt=ld&dt=md&dt=qca&dt=rw&dt=rm&dt=ss&dt=t&dt=at&ie=UTF-8&oe=UTF-8&otf=2&ssel=0&tsel=0&kc=1&sl=auto&tl=en&hl=en&tk=682175.809921\n",
      "http://translate.google.com/translate_a/t?client=webapp&dt=bd&dt=ex&dt=ld&dt=md&dt=qca&dt=rw&dt=rm&dt=ss&dt=t&dt=at&ie=UTF-8&oe=UTF-8&otf=2&ssel=0&tsel=0&kc=1&sl=auto&tl=en&hl=en&tk=822227.702637\n",
      "http://translate.google.com/translate_a/t?client=webapp&dt=bd&dt=ex&dt=ld&dt=md&dt=qca&dt=rw&dt=rm&dt=ss&dt=t&dt=at&ie=UTF-8&oe=UTF-8&otf=2&ssel=0&tsel=0&kc=1&sl=auto&tl=en&hl=en&tk=854205.736195\n",
      "http://translate.google.com/translate_a/t?client=webapp&dt=bd&dt=ex&dt=ld&dt=md&dt=qca&dt=rw&dt=rm&dt=ss&dt=t&dt=at&ie=UTF-8&oe=UTF-8&otf=2&ssel=0&tsel=0&kc=1&sl=auto&tl=en&hl=en&tk=50013.454691\n",
      "http://translate.google.com/translate_a/t?client=webapp&dt=bd&dt=ex&dt=ld&dt=md&dt=qca&dt=rw&dt=rm&dt=ss&dt=t&dt=at&ie=UTF-8&oe=UTF-8&otf=2&ssel=0&tsel=0&kc=1&sl=auto&tl=en&hl=en&tk=703008.821598\n",
      "http://translate.google.com/translate_a/t?client=webapp&dt=bd&dt=ex&dt=ld&dt=md&dt=qca&dt=rw&dt=rm&dt=ss&dt=t&dt=at&ie=UTF-8&oe=UTF-8&otf=2&ssel=0&tsel=0&kc=1&sl=auto&tl=en&hl=en&tk=510577.129295\n",
      "http://translate.google.com/translate_a/t?client=webapp&dt=bd&dt=ex&dt=ld&dt=md&dt=qca&dt=rw&dt=rm&dt=ss&dt=t&dt=at&ie=UTF-8&oe=UTF-8&otf=2&ssel=0&tsel=0&kc=1&sl=auto&tl=en&hl=en&tk=625079.1030857\n",
      "http://translate.google.com/translate_a/t?client=webapp&dt=bd&dt=ex&dt=ld&dt=md&dt=qca&dt=rw&dt=rm&dt=ss&dt=t&dt=at&ie=UTF-8&oe=UTF-8&otf=2&ssel=0&tsel=0&kc=1&sl=auto&tl=en&hl=en&tk=106827.496181\n",
      "http://translate.google.com/translate_a/t?client=webapp&dt=bd&dt=ex&dt=ld&dt=md&dt=qca&dt=rw&dt=rm&dt=ss&dt=t&dt=at&ie=UTF-8&oe=UTF-8&otf=2&ssel=0&tsel=0&kc=1&sl=auto&tl=en&hl=en&tk=407855.2641\n",
      "http://translate.google.com/translate_a/t?client=webapp&dt=bd&dt=ex&dt=ld&dt=md&dt=qca&dt=rw&dt=rm&dt=ss&dt=t&dt=at&ie=UTF-8&oe=UTF-8&otf=2&ssel=0&tsel=0&kc=1&sl=auto&tl=en&hl=en&tk=171980.306354\n",
      "http://translate.google.com/translate_a/t?client=webapp&dt=bd&dt=ex&dt=ld&dt=md&dt=qca&dt=rw&dt=rm&dt=ss&dt=t&dt=at&ie=UTF-8&oe=UTF-8&otf=2&ssel=0&tsel=0&kc=1&sl=auto&tl=en&hl=en&tk=236579.372573\n",
      "http://translate.google.com/translate_a/t?client=webapp&dt=bd&dt=ex&dt=ld&dt=md&dt=qca&dt=rw&dt=rm&dt=ss&dt=t&dt=at&ie=UTF-8&oe=UTF-8&otf=2&ssel=0&tsel=0&kc=1&sl=auto&tl=en&hl=en&tk=212236.331378\n",
      "http://translate.google.com/translate_a/t?client=webapp&dt=bd&dt=ex&dt=ld&dt=md&dt=qca&dt=rw&dt=rm&dt=ss&dt=t&dt=at&ie=UTF-8&oe=UTF-8&otf=2&ssel=0&tsel=0&kc=1&sl=auto&tl=en&hl=en&tk=347064.227526\n"
     ]
    },
    {
     "name": "stdout",
     "output_type": "stream",
     "text": [
      "http://translate.google.com/translate_a/t?client=webapp&dt=bd&dt=ex&dt=ld&dt=md&dt=qca&dt=rw&dt=rm&dt=ss&dt=t&dt=at&ie=UTF-8&oe=UTF-8&otf=2&ssel=0&tsel=0&kc=1&sl=auto&tl=en&hl=en&tk=314237.194563\n",
      "http://translate.google.com/translate_a/t?client=webapp&dt=bd&dt=ex&dt=ld&dt=md&dt=qca&dt=rw&dt=rm&dt=ss&dt=t&dt=at&ie=UTF-8&oe=UTF-8&otf=2&ssel=0&tsel=0&kc=1&sl=auto&tl=en&hl=en&tk=100760.506598\n",
      "http://translate.google.com/translate_a/t?client=webapp&dt=bd&dt=ex&dt=ld&dt=md&dt=qca&dt=rw&dt=rm&dt=ss&dt=t&dt=at&ie=UTF-8&oe=UTF-8&otf=2&ssel=0&tsel=0&kc=1&sl=auto&tl=en&hl=en&tk=308474.165764\n",
      "http://translate.google.com/translate_a/t?client=webapp&dt=bd&dt=ex&dt=ld&dt=md&dt=qca&dt=rw&dt=rm&dt=ss&dt=t&dt=at&ie=UTF-8&oe=UTF-8&otf=2&ssel=0&tsel=0&kc=1&sl=auto&tl=en&hl=en&tk=204716.339154\n",
      "http://translate.google.com/translate_a/t?client=webapp&dt=bd&dt=ex&dt=ld&dt=md&dt=qca&dt=rw&dt=rm&dt=ss&dt=t&dt=at&ie=UTF-8&oe=UTF-8&otf=2&ssel=0&tsel=0&kc=1&sl=auto&tl=en&hl=en&tk=624607.1029281\n",
      "http://translate.google.com/translate_a/t?client=webapp&dt=bd&dt=ex&dt=ld&dt=md&dt=qca&dt=rw&dt=rm&dt=ss&dt=t&dt=at&ie=UTF-8&oe=UTF-8&otf=2&ssel=0&tsel=0&kc=1&sl=auto&tl=en&hl=en&tk=585132.974546\n",
      "http://translate.google.com/translate_a/t?client=webapp&dt=bd&dt=ex&dt=ld&dt=md&dt=qca&dt=rw&dt=rm&dt=ss&dt=t&dt=at&ie=UTF-8&oe=UTF-8&otf=2&ssel=0&tsel=0&kc=1&sl=auto&tl=en&hl=en&tk=963945.558615\n",
      "http://translate.google.com/translate_a/t?client=webapp&dt=bd&dt=ex&dt=ld&dt=md&dt=qca&dt=rw&dt=rm&dt=ss&dt=t&dt=at&ie=UTF-8&oe=UTF-8&otf=2&ssel=0&tsel=0&kc=1&sl=auto&tl=en&hl=en&tk=872272.752686\n",
      "http://translate.google.com/translate_a/t?client=webapp&dt=bd&dt=ex&dt=ld&dt=md&dt=qca&dt=rw&dt=rm&dt=ss&dt=t&dt=at&ie=UTF-8&oe=UTF-8&otf=2&ssel=0&tsel=0&kc=1&sl=auto&tl=en&hl=en&tk=234868.370186\n",
      "http://translate.google.com/translate_a/t?client=webapp&dt=bd&dt=ex&dt=ld&dt=md&dt=qca&dt=rw&dt=rm&dt=ss&dt=t&dt=at&ie=UTF-8&oe=UTF-8&otf=2&ssel=0&tsel=0&kc=1&sl=auto&tl=en&hl=en&tk=923853.535475\n",
      "http://translate.google.com/translate_a/t?client=webapp&dt=bd&dt=ex&dt=ld&dt=md&dt=qca&dt=rw&dt=rm&dt=ss&dt=t&dt=at&ie=UTF-8&oe=UTF-8&otf=2&ssel=0&tsel=0&kc=1&sl=auto&tl=en&hl=en&tk=47621.428411\n",
      "http://translate.google.com/translate_a/t?client=webapp&dt=bd&dt=ex&dt=ld&dt=md&dt=qca&dt=rw&dt=rm&dt=ss&dt=t&dt=at&ie=UTF-8&oe=UTF-8&otf=2&ssel=0&tsel=0&kc=1&sl=auto&tl=en&hl=en&tk=447548.59202\n",
      "http://translate.google.com/translate_a/t?client=webapp&dt=bd&dt=ex&dt=ld&dt=md&dt=qca&dt=rw&dt=rm&dt=ss&dt=t&dt=at&ie=UTF-8&oe=UTF-8&otf=2&ssel=0&tsel=0&kc=1&sl=auto&tl=en&hl=en&tk=920208.539118\n",
      "http://translate.google.com/translate_a/t?client=webapp&dt=bd&dt=ex&dt=ld&dt=md&dt=qca&dt=rw&dt=rm&dt=ss&dt=t&dt=at&ie=UTF-8&oe=UTF-8&otf=2&ssel=0&tsel=0&kc=1&sl=auto&tl=en&hl=en&tk=636690.1016940\n",
      "http://translate.google.com/translate_a/t?client=webapp&dt=bd&dt=ex&dt=ld&dt=md&dt=qca&dt=rw&dt=rm&dt=ss&dt=t&dt=at&ie=UTF-8&oe=UTF-8&otf=2&ssel=0&tsel=0&kc=1&sl=auto&tl=en&hl=en&tk=260364.379506\n",
      "http://translate.google.com/translate_a/t?client=webapp&dt=bd&dt=ex&dt=ld&dt=md&dt=qca&dt=rw&dt=rm&dt=ss&dt=t&dt=at&ie=UTF-8&oe=UTF-8&otf=2&ssel=0&tsel=0&kc=1&sl=auto&tl=en&hl=en&tk=597299.994893\n",
      "http://translate.google.com/translate_a/t?client=webapp&dt=bd&dt=ex&dt=ld&dt=md&dt=qca&dt=rw&dt=rm&dt=ss&dt=t&dt=at&ie=UTF-8&oe=UTF-8&otf=2&ssel=0&tsel=0&kc=1&sl=auto&tl=en&hl=en&tk=257651.384269\n",
      "http://translate.google.com/translate_a/t?client=webapp&dt=bd&dt=ex&dt=ld&dt=md&dt=qca&dt=rw&dt=rm&dt=ss&dt=t&dt=at&ie=UTF-8&oe=UTF-8&otf=2&ssel=0&tsel=0&kc=1&sl=auto&tl=en&hl=en&tk=84321.490015\n",
      "http://translate.google.com/translate_a/t?client=webapp&dt=bd&dt=ex&dt=ld&dt=md&dt=qca&dt=rw&dt=rm&dt=ss&dt=t&dt=at&ie=UTF-8&oe=UTF-8&otf=2&ssel=0&tsel=0&kc=1&sl=auto&tl=en&hl=en&tk=340512.196958\n",
      "http://translate.google.com/translate_a/t?client=webapp&dt=bd&dt=ex&dt=ld&dt=md&dt=qca&dt=rw&dt=rm&dt=ss&dt=t&dt=at&ie=UTF-8&oe=UTF-8&otf=2&ssel=0&tsel=0&kc=1&sl=auto&tl=en&hl=en&tk=433624.44710\n",
      "http://translate.google.com/translate_a/t?client=webapp&dt=bd&dt=ex&dt=ld&dt=md&dt=qca&dt=rw&dt=rm&dt=ss&dt=t&dt=at&ie=UTF-8&oe=UTF-8&otf=2&ssel=0&tsel=0&kc=1&sl=auto&tl=en&hl=en&tk=235153.370159\n",
      "http://translate.google.com/translate_a/t?client=webapp&dt=bd&dt=ex&dt=ld&dt=md&dt=qca&dt=rw&dt=rm&dt=ss&dt=t&dt=at&ie=UTF-8&oe=UTF-8&otf=2&ssel=0&tsel=0&kc=1&sl=auto&tl=en&hl=en&tk=770922.913428\n",
      "http://translate.google.com/translate_a/t?client=webapp&dt=bd&dt=ex&dt=ld&dt=md&dt=qca&dt=rw&dt=rm&dt=ss&dt=t&dt=at&ie=UTF-8&oe=UTF-8&otf=2&ssel=0&tsel=0&kc=1&sl=auto&tl=en&hl=en&tk=532092.929026\n",
      "http://translate.google.com/translate_a/t?client=webapp&dt=bd&dt=ex&dt=ld&dt=md&dt=qca&dt=rw&dt=rm&dt=ss&dt=t&dt=at&ie=UTF-8&oe=UTF-8&otf=2&ssel=0&tsel=0&kc=1&sl=auto&tl=en&hl=en&tk=210799.328721\n",
      "http://translate.google.com/translate_a/t?client=webapp&dt=bd&dt=ex&dt=ld&dt=md&dt=qca&dt=rw&dt=rm&dt=ss&dt=t&dt=at&ie=UTF-8&oe=UTF-8&otf=2&ssel=0&tsel=0&kc=1&sl=auto&tl=en&hl=en&tk=317818.190980\n",
      "http://translate.google.com/translate_a/t?client=webapp&dt=bd&dt=ex&dt=ld&dt=md&dt=qca&dt=rw&dt=rm&dt=ss&dt=t&dt=at&ie=UTF-8&oe=UTF-8&otf=2&ssel=0&tsel=0&kc=1&sl=auto&tl=en&hl=en&tk=792444.664578\n",
      "http://translate.google.com/translate_a/t?client=webapp&dt=bd&dt=ex&dt=ld&dt=md&dt=qca&dt=rw&dt=rm&dt=ss&dt=t&dt=at&ie=UTF-8&oe=UTF-8&otf=2&ssel=0&tsel=0&kc=1&sl=auto&tl=en&hl=en&tk=257118.384800\n",
      "http://translate.google.com/translate_a/t?client=webapp&dt=bd&dt=ex&dt=ld&dt=md&dt=qca&dt=rw&dt=rm&dt=ss&dt=t&dt=at&ie=UTF-8&oe=UTF-8&otf=2&ssel=0&tsel=0&kc=1&sl=auto&tl=en&hl=en&tk=946384.541614\n",
      "http://translate.google.com/translate_a/t?client=webapp&dt=bd&dt=ex&dt=ld&dt=md&dt=qca&dt=rw&dt=rm&dt=ss&dt=t&dt=at&ie=UTF-8&oe=UTF-8&otf=2&ssel=0&tsel=0&kc=1&sl=auto&tl=en&hl=en&tk=43482.432804\n",
      "http://translate.google.com/translate_a/t?client=webapp&dt=bd&dt=ex&dt=ld&dt=md&dt=qca&dt=rw&dt=rm&dt=ss&dt=t&dt=at&ie=UTF-8&oe=UTF-8&otf=2&ssel=0&tsel=0&kc=1&sl=auto&tl=en&hl=en&tk=678646.813448\n",
      "http://translate.google.com/translate_a/t?client=webapp&dt=bd&dt=ex&dt=ld&dt=md&dt=qca&dt=rw&dt=rm&dt=ss&dt=t&dt=at&ie=UTF-8&oe=UTF-8&otf=2&ssel=0&tsel=0&kc=1&sl=auto&tl=en&hl=en&tk=558990.963824\n",
      "http://translate.google.com/translate_a/t?client=webapp&dt=bd&dt=ex&dt=ld&dt=md&dt=qca&dt=rw&dt=rm&dt=ss&dt=t&dt=at&ie=UTF-8&oe=UTF-8&otf=2&ssel=0&tsel=0&kc=1&sl=auto&tl=en&hl=en&tk=224909.351731\n",
      "http://translate.google.com/translate_a/t?client=webapp&dt=bd&dt=ex&dt=ld&dt=md&dt=qca&dt=rw&dt=rm&dt=ss&dt=t&dt=at&ie=UTF-8&oe=UTF-8&otf=2&ssel=0&tsel=0&kc=1&sl=auto&tl=en&hl=en&tk=175928.302150\n",
      "http://translate.google.com/translate_a/t?client=webapp&dt=bd&dt=ex&dt=ld&dt=md&dt=qca&dt=rw&dt=rm&dt=ss&dt=t&dt=at&ie=UTF-8&oe=UTF-8&otf=2&ssel=0&tsel=0&kc=1&sl=auto&tl=en&hl=en&tk=362374.242936\n",
      "http://translate.google.com/translate_a/t?client=webapp&dt=bd&dt=ex&dt=ld&dt=md&dt=qca&dt=rw&dt=rm&dt=ss&dt=t&dt=at&ie=UTF-8&oe=UTF-8&otf=2&ssel=0&tsel=0&kc=1&sl=auto&tl=en&hl=en&tk=465350.76472\n",
      "http://translate.google.com/translate_a/t?client=webapp&dt=bd&dt=ex&dt=ld&dt=md&dt=qca&dt=rw&dt=rm&dt=ss&dt=t&dt=at&ie=UTF-8&oe=UTF-8&otf=2&ssel=0&tsel=0&kc=1&sl=auto&tl=en&hl=en&tk=877063.741753\n",
      "http://translate.google.com/translate_a/t?client=webapp&dt=bd&dt=ex&dt=ld&dt=md&dt=qca&dt=rw&dt=rm&dt=ss&dt=t&dt=at&ie=UTF-8&oe=UTF-8&otf=2&ssel=0&tsel=0&kc=1&sl=auto&tl=en&hl=en&tk=551840.940254\n",
      "http://translate.google.com/translate_a/t?client=webapp&dt=bd&dt=ex&dt=ld&dt=md&dt=qca&dt=rw&dt=rm&dt=ss&dt=t&dt=at&ie=UTF-8&oe=UTF-8&otf=2&ssel=0&tsel=0&kc=1&sl=auto&tl=en&hl=en&tk=426634.45556\n",
      "http://translate.google.com/translate_a/t?client=webapp&dt=bd&dt=ex&dt=ld&dt=md&dt=qca&dt=rw&dt=rm&dt=ss&dt=t&dt=at&ie=UTF-8&oe=UTF-8&otf=2&ssel=0&tsel=0&kc=1&sl=auto&tl=en&hl=en&tk=493870.113232\n",
      "http://translate.google.com/translate_a/t?client=webapp&dt=bd&dt=ex&dt=ld&dt=md&dt=qca&dt=rw&dt=rm&dt=ss&dt=t&dt=at&ie=UTF-8&oe=UTF-8&otf=2&ssel=0&tsel=0&kc=1&sl=auto&tl=en&hl=en&tk=985883.604261\n",
      "http://translate.google.com/translate_a/t?client=webapp&dt=bd&dt=ex&dt=ld&dt=md&dt=qca&dt=rw&dt=rm&dt=ss&dt=t&dt=at&ie=UTF-8&oe=UTF-8&otf=2&ssel=0&tsel=0&kc=1&sl=auto&tl=en&hl=en&tk=412562.30956\n",
      "http://translate.google.com/translate_a/t?client=webapp&dt=bd&dt=ex&dt=ld&dt=md&dt=qca&dt=rw&dt=rm&dt=ss&dt=t&dt=at&ie=UTF-8&oe=UTF-8&otf=2&ssel=0&tsel=0&kc=1&sl=auto&tl=en&hl=en&tk=568228.956634\n"
     ]
    },
    {
     "name": "stdout",
     "output_type": "stream",
     "text": [
      "http://translate.google.com/translate_a/t?client=webapp&dt=bd&dt=ex&dt=ld&dt=md&dt=qca&dt=rw&dt=rm&dt=ss&dt=t&dt=at&ie=UTF-8&oe=UTF-8&otf=2&ssel=0&tsel=0&kc=1&sl=auto&tl=en&hl=en&tk=906912.779742\n",
      "http://translate.google.com/translate_a/t?client=webapp&dt=bd&dt=ex&dt=ld&dt=md&dt=qca&dt=rw&dt=rm&dt=ss&dt=t&dt=at&ie=UTF-8&oe=UTF-8&otf=2&ssel=0&tsel=0&kc=1&sl=auto&tl=en&hl=en&tk=571127.951689\n",
      "http://translate.google.com/translate_a/t?client=webapp&dt=bd&dt=ex&dt=ld&dt=md&dt=qca&dt=rw&dt=rm&dt=ss&dt=t&dt=at&ie=UTF-8&oe=UTF-8&otf=2&ssel=0&tsel=0&kc=1&sl=auto&tl=en&hl=en&tk=140861.267587\n",
      "http://translate.google.com/translate_a/t?client=webapp&dt=bd&dt=ex&dt=ld&dt=md&dt=qca&dt=rw&dt=rm&dt=ss&dt=t&dt=at&ie=UTF-8&oe=UTF-8&otf=2&ssel=0&tsel=0&kc=1&sl=auto&tl=en&hl=en&tk=774026.916724\n",
      "http://translate.google.com/translate_a/t?client=webapp&dt=bd&dt=ex&dt=ld&dt=md&dt=qca&dt=rw&dt=rm&dt=ss&dt=t&dt=at&ie=UTF-8&oe=UTF-8&otf=2&ssel=0&tsel=0&kc=1&sl=auto&tl=en&hl=en&tk=717415.835865\n",
      "http://translate.google.com/translate_a/t?client=webapp&dt=bd&dt=ex&dt=ld&dt=md&dt=qca&dt=rw&dt=rm&dt=ss&dt=t&dt=at&ie=UTF-8&oe=UTF-8&otf=2&ssel=0&tsel=0&kc=1&sl=auto&tl=en&hl=en&tk=844876.710450\n",
      "http://translate.google.com/translate_a/t?client=webapp&dt=bd&dt=ex&dt=ld&dt=md&dt=qca&dt=rw&dt=rm&dt=ss&dt=t&dt=at&ie=UTF-8&oe=UTF-8&otf=2&ssel=0&tsel=0&kc=1&sl=auto&tl=en&hl=en&tk=332393.205079\n",
      "http://translate.google.com/translate_a/t?client=webapp&dt=bd&dt=ex&dt=ld&dt=md&dt=qca&dt=rw&dt=rm&dt=ss&dt=t&dt=at&ie=UTF-8&oe=UTF-8&otf=2&ssel=0&tsel=0&kc=1&sl=auto&tl=en&hl=en&tk=314313.194743\n",
      "http://translate.google.com/translate_a/t?client=webapp&dt=bd&dt=ex&dt=ld&dt=md&dt=qca&dt=rw&dt=rm&dt=ss&dt=t&dt=at&ie=UTF-8&oe=UTF-8&otf=2&ssel=0&tsel=0&kc=1&sl=auto&tl=en&hl=en&tk=139827.266573\n",
      "http://translate.google.com/translate_a/t?client=webapp&dt=bd&dt=ex&dt=ld&dt=md&dt=qca&dt=rw&dt=rm&dt=ss&dt=t&dt=at&ie=UTF-8&oe=UTF-8&otf=2&ssel=0&tsel=0&kc=1&sl=auto&tl=en&hl=en&tk=345638.226648\n",
      "http://translate.google.com/translate_a/t?client=webapp&dt=bd&dt=ex&dt=ld&dt=md&dt=qca&dt=rw&dt=rm&dt=ss&dt=t&dt=at&ie=UTF-8&oe=UTF-8&otf=2&ssel=0&tsel=0&kc=1&sl=auto&tl=en&hl=en&tk=389864.246166\n",
      "http://translate.google.com/translate_a/t?client=webapp&dt=bd&dt=ex&dt=ld&dt=md&dt=qca&dt=rw&dt=rm&dt=ss&dt=t&dt=at&ie=UTF-8&oe=UTF-8&otf=2&ssel=0&tsel=0&kc=1&sl=auto&tl=en&hl=en&tk=40095.438241\n",
      "http://translate.google.com/translate_a/t?client=webapp&dt=bd&dt=ex&dt=ld&dt=md&dt=qca&dt=rw&dt=rm&dt=ss&dt=t&dt=at&ie=UTF-8&oe=UTF-8&otf=2&ssel=0&tsel=0&kc=1&sl=auto&tl=en&hl=en&tk=31434.412084\n",
      "http://translate.google.com/translate_a/t?client=webapp&dt=bd&dt=ex&dt=ld&dt=md&dt=qca&dt=rw&dt=rm&dt=ss&dt=t&dt=at&ie=UTF-8&oe=UTF-8&otf=2&ssel=0&tsel=0&kc=1&sl=auto&tl=en&hl=en&tk=858393.731751\n",
      "http://translate.google.com/translate_a/t?client=webapp&dt=bd&dt=ex&dt=ld&dt=md&dt=qca&dt=rw&dt=rm&dt=ss&dt=t&dt=at&ie=UTF-8&oe=UTF-8&otf=2&ssel=0&tsel=0&kc=1&sl=auto&tl=en&hl=en&tk=454043.57061\n",
      "http://translate.google.com/translate_a/t?client=webapp&dt=bd&dt=ex&dt=ld&dt=md&dt=qca&dt=rw&dt=rm&dt=ss&dt=t&dt=at&ie=UTF-8&oe=UTF-8&otf=2&ssel=0&tsel=0&kc=1&sl=auto&tl=en&hl=en&tk=489025.83263\n",
      "http://translate.google.com/translate_a/t?client=webapp&dt=bd&dt=ex&dt=ld&dt=md&dt=qca&dt=rw&dt=rm&dt=ss&dt=t&dt=at&ie=UTF-8&oe=UTF-8&otf=2&ssel=0&tsel=0&kc=1&sl=auto&tl=en&hl=en&tk=129444.510682\n",
      "http://translate.google.com/translate_a/t?client=webapp&dt=bd&dt=ex&dt=ld&dt=md&dt=qca&dt=rw&dt=rm&dt=ss&dt=t&dt=at&ie=UTF-8&oe=UTF-8&otf=2&ssel=0&tsel=0&kc=1&sl=auto&tl=en&hl=en&tk=279010.160412\n",
      "http://translate.google.com/translate_a/t?client=webapp&dt=bd&dt=ex&dt=ld&dt=md&dt=qca&dt=rw&dt=rm&dt=ss&dt=t&dt=at&ie=UTF-8&oe=UTF-8&otf=2&ssel=0&tsel=0&kc=1&sl=auto&tl=en&hl=en&tk=364862.238144\n",
      "http://translate.google.com/translate_a/t?client=webapp&dt=bd&dt=ex&dt=ld&dt=md&dt=qca&dt=rw&dt=rm&dt=ss&dt=t&dt=at&ie=UTF-8&oe=UTF-8&otf=2&ssel=0&tsel=0&kc=1&sl=auto&tl=en&hl=en&tk=526254.931024\n",
      "http://translate.google.com/translate_a/t?client=webapp&dt=bd&dt=ex&dt=ld&dt=md&dt=qca&dt=rw&dt=rm&dt=ss&dt=t&dt=at&ie=UTF-8&oe=UTF-8&otf=2&ssel=0&tsel=0&kc=1&sl=auto&tl=en&hl=en&tk=911655.776793\n",
      "http://translate.google.com/translate_a/t?client=webapp&dt=bd&dt=ex&dt=ld&dt=md&dt=qca&dt=rw&dt=rm&dt=ss&dt=t&dt=at&ie=UTF-8&oe=UTF-8&otf=2&ssel=0&tsel=0&kc=1&sl=auto&tl=en&hl=en&tk=826547.700365\n",
      "http://translate.google.com/translate_a/t?client=webapp&dt=bd&dt=ex&dt=ld&dt=md&dt=qca&dt=rw&dt=rm&dt=ss&dt=t&dt=at&ie=UTF-8&oe=UTF-8&otf=2&ssel=0&tsel=0&kc=1&sl=auto&tl=en&hl=en&tk=418589.20579\n"
     ]
    },
    {
     "ename": "HTTPError",
     "evalue": "HTTP Error 503: Service Unavailable",
     "output_type": "error",
     "traceback": [
      "\u001b[0;31m---------------------------------------------------------------------------\u001b[0m",
      "\u001b[0;31mHTTPError\u001b[0m                                 Traceback (most recent call last)",
      "\u001b[0;32m<ipython-input-1100-944276ffad6e>\u001b[0m in \u001b[0;36m<module>\u001b[0;34m()\u001b[0m\n\u001b[1;32m      3\u001b[0m     \u001b[0mtb\u001b[0m \u001b[0;34m=\u001b[0m \u001b[0mtextblob\u001b[0m\u001b[0;34m.\u001b[0m\u001b[0mTextBlob\u001b[0m\u001b[0;34m(\u001b[0m\u001b[0mtext\u001b[0m\u001b[0;34m)\u001b[0m\u001b[0;34m\u001b[0m\u001b[0m\n\u001b[1;32m      4\u001b[0m     \u001b[0;32mtry\u001b[0m\u001b[0;34m:\u001b[0m\u001b[0;34m\u001b[0m\u001b[0m\n\u001b[0;32m----> 5\u001b[0;31m         \u001b[0men_blobs\u001b[0m\u001b[0;34m.\u001b[0m\u001b[0mappend\u001b[0m\u001b[0;34m(\u001b[0m\u001b[0mtb\u001b[0m\u001b[0;34m.\u001b[0m\u001b[0mtranslate\u001b[0m\u001b[0;34m(\u001b[0m\u001b[0mto\u001b[0m\u001b[0;34m=\u001b[0m\u001b[0;34m'en'\u001b[0m\u001b[0;34m)\u001b[0m\u001b[0;34m)\u001b[0m\u001b[0;34m\u001b[0m\u001b[0m\n\u001b[0m\u001b[1;32m      6\u001b[0m     \u001b[0;32mexcept\u001b[0m \u001b[0mtextblob\u001b[0m\u001b[0;34m.\u001b[0m\u001b[0mexceptions\u001b[0m\u001b[0;34m.\u001b[0m\u001b[0mNotTranslated\u001b[0m\u001b[0;34m:\u001b[0m\u001b[0;34m\u001b[0m\u001b[0m\n\u001b[1;32m      7\u001b[0m         \u001b[0men_blobs\u001b[0m\u001b[0;34m.\u001b[0m\u001b[0mappend\u001b[0m\u001b[0;34m(\u001b[0m\u001b[0mtext\u001b[0m\u001b[0;34m)\u001b[0m\u001b[0;34m\u001b[0m\u001b[0m\n",
      "\u001b[0;32m/Library/Frameworks/Python.framework/Versions/3.6/lib/python3.6/site-packages/textblob/blob.py\u001b[0m in \u001b[0;36mtranslate\u001b[0;34m(self, from_lang, to)\u001b[0m\n\u001b[1;32m    539\u001b[0m         \"\"\"\n\u001b[1;32m    540\u001b[0m         return self.__class__(self.translator.translate(self.raw,\n\u001b[0;32m--> 541\u001b[0;31m                               from_lang=from_lang, to_lang=to))\n\u001b[0m\u001b[1;32m    542\u001b[0m \u001b[0;34m\u001b[0m\u001b[0m\n\u001b[1;32m    543\u001b[0m     \u001b[0;32mdef\u001b[0m \u001b[0mdetect_language\u001b[0m\u001b[0;34m(\u001b[0m\u001b[0mself\u001b[0m\u001b[0;34m)\u001b[0m\u001b[0;34m:\u001b[0m\u001b[0;34m\u001b[0m\u001b[0m\n",
      "\u001b[0;32m/Library/Frameworks/Python.framework/Versions/3.6/lib/python3.6/site-packages/textblob/translate.py\u001b[0m in \u001b[0;36mtranslate\u001b[0;34m(self, source, from_lang, to_lang, host, type_)\u001b[0m\n\u001b[1;32m     53\u001b[0m         )\n\u001b[1;32m     54\u001b[0m         \u001b[0mprint\u001b[0m\u001b[0;34m(\u001b[0m\u001b[0murl\u001b[0m\u001b[0;34m)\u001b[0m\u001b[0;34m\u001b[0m\u001b[0m\n\u001b[0;32m---> 55\u001b[0;31m         \u001b[0mresponse\u001b[0m \u001b[0;34m=\u001b[0m \u001b[0mself\u001b[0m\u001b[0;34m.\u001b[0m\u001b[0m_request\u001b[0m\u001b[0;34m(\u001b[0m\u001b[0murl\u001b[0m\u001b[0;34m,\u001b[0m \u001b[0mhost\u001b[0m\u001b[0;34m=\u001b[0m\u001b[0mhost\u001b[0m\u001b[0;34m,\u001b[0m \u001b[0mtype_\u001b[0m\u001b[0;34m=\u001b[0m\u001b[0mtype_\u001b[0m\u001b[0;34m,\u001b[0m \u001b[0mdata\u001b[0m\u001b[0;34m=\u001b[0m\u001b[0mdata\u001b[0m\u001b[0;34m)\u001b[0m\u001b[0;34m\u001b[0m\u001b[0m\n\u001b[0m\u001b[1;32m     56\u001b[0m         \u001b[0mresult\u001b[0m \u001b[0;34m=\u001b[0m \u001b[0mjson\u001b[0m\u001b[0;34m.\u001b[0m\u001b[0mloads\u001b[0m\u001b[0;34m(\u001b[0m\u001b[0mresponse\u001b[0m\u001b[0;34m)\u001b[0m\u001b[0;34m\u001b[0m\u001b[0m\n\u001b[1;32m     57\u001b[0m         \u001b[0;32mif\u001b[0m \u001b[0misinstance\u001b[0m\u001b[0;34m(\u001b[0m\u001b[0mresult\u001b[0m\u001b[0;34m,\u001b[0m \u001b[0mlist\u001b[0m\u001b[0;34m)\u001b[0m\u001b[0;34m:\u001b[0m\u001b[0;34m\u001b[0m\u001b[0m\n",
      "\u001b[0;32m/Library/Frameworks/Python.framework/Versions/3.6/lib/python3.6/site-packages/textblob/translate.py\u001b[0m in \u001b[0;36m_request\u001b[0;34m(self, url, host, type_, data)\u001b[0m\n\u001b[1;32m     91\u001b[0m         \u001b[0;32mif\u001b[0m \u001b[0mhost\u001b[0m \u001b[0;32mor\u001b[0m \u001b[0mtype_\u001b[0m\u001b[0;34m:\u001b[0m\u001b[0;34m\u001b[0m\u001b[0m\n\u001b[1;32m     92\u001b[0m             \u001b[0mreq\u001b[0m\u001b[0;34m.\u001b[0m\u001b[0mset_proxy\u001b[0m\u001b[0;34m(\u001b[0m\u001b[0mhost\u001b[0m\u001b[0;34m=\u001b[0m\u001b[0mhost\u001b[0m\u001b[0;34m,\u001b[0m \u001b[0mtype\u001b[0m\u001b[0;34m=\u001b[0m\u001b[0mtype_\u001b[0m\u001b[0;34m)\u001b[0m\u001b[0;34m\u001b[0m\u001b[0m\n\u001b[0;32m---> 93\u001b[0;31m         \u001b[0mresp\u001b[0m \u001b[0;34m=\u001b[0m \u001b[0mrequest\u001b[0m\u001b[0;34m.\u001b[0m\u001b[0murlopen\u001b[0m\u001b[0;34m(\u001b[0m\u001b[0mreq\u001b[0m\u001b[0;34m)\u001b[0m\u001b[0;34m\u001b[0m\u001b[0m\n\u001b[0m\u001b[1;32m     94\u001b[0m         \u001b[0mcontent\u001b[0m \u001b[0;34m=\u001b[0m \u001b[0mresp\u001b[0m\u001b[0;34m.\u001b[0m\u001b[0mread\u001b[0m\u001b[0;34m(\u001b[0m\u001b[0;34m)\u001b[0m\u001b[0;34m\u001b[0m\u001b[0m\n\u001b[1;32m     95\u001b[0m         \u001b[0;32mreturn\u001b[0m \u001b[0mcontent\u001b[0m\u001b[0;34m.\u001b[0m\u001b[0mdecode\u001b[0m\u001b[0;34m(\u001b[0m\u001b[0;34m'utf-8'\u001b[0m\u001b[0;34m)\u001b[0m\u001b[0;34m\u001b[0m\u001b[0m\n",
      "\u001b[0;32m/Library/Frameworks/Python.framework/Versions/3.6/lib/python3.6/urllib/request.py\u001b[0m in \u001b[0;36murlopen\u001b[0;34m(url, data, timeout, cafile, capath, cadefault, context)\u001b[0m\n\u001b[1;32m    221\u001b[0m     \u001b[0;32melse\u001b[0m\u001b[0;34m:\u001b[0m\u001b[0;34m\u001b[0m\u001b[0m\n\u001b[1;32m    222\u001b[0m         \u001b[0mopener\u001b[0m \u001b[0;34m=\u001b[0m \u001b[0m_opener\u001b[0m\u001b[0;34m\u001b[0m\u001b[0m\n\u001b[0;32m--> 223\u001b[0;31m     \u001b[0;32mreturn\u001b[0m \u001b[0mopener\u001b[0m\u001b[0;34m.\u001b[0m\u001b[0mopen\u001b[0m\u001b[0;34m(\u001b[0m\u001b[0murl\u001b[0m\u001b[0;34m,\u001b[0m \u001b[0mdata\u001b[0m\u001b[0;34m,\u001b[0m \u001b[0mtimeout\u001b[0m\u001b[0;34m)\u001b[0m\u001b[0;34m\u001b[0m\u001b[0m\n\u001b[0m\u001b[1;32m    224\u001b[0m \u001b[0;34m\u001b[0m\u001b[0m\n\u001b[1;32m    225\u001b[0m \u001b[0;32mdef\u001b[0m \u001b[0minstall_opener\u001b[0m\u001b[0;34m(\u001b[0m\u001b[0mopener\u001b[0m\u001b[0;34m)\u001b[0m\u001b[0;34m:\u001b[0m\u001b[0;34m\u001b[0m\u001b[0m\n",
      "\u001b[0;32m/Library/Frameworks/Python.framework/Versions/3.6/lib/python3.6/urllib/request.py\u001b[0m in \u001b[0;36mopen\u001b[0;34m(self, fullurl, data, timeout)\u001b[0m\n\u001b[1;32m    530\u001b[0m         \u001b[0;32mfor\u001b[0m \u001b[0mprocessor\u001b[0m \u001b[0;32min\u001b[0m \u001b[0mself\u001b[0m\u001b[0;34m.\u001b[0m\u001b[0mprocess_response\u001b[0m\u001b[0;34m.\u001b[0m\u001b[0mget\u001b[0m\u001b[0;34m(\u001b[0m\u001b[0mprotocol\u001b[0m\u001b[0;34m,\u001b[0m \u001b[0;34m[\u001b[0m\u001b[0;34m]\u001b[0m\u001b[0;34m)\u001b[0m\u001b[0;34m:\u001b[0m\u001b[0;34m\u001b[0m\u001b[0m\n\u001b[1;32m    531\u001b[0m             \u001b[0mmeth\u001b[0m \u001b[0;34m=\u001b[0m \u001b[0mgetattr\u001b[0m\u001b[0;34m(\u001b[0m\u001b[0mprocessor\u001b[0m\u001b[0;34m,\u001b[0m \u001b[0mmeth_name\u001b[0m\u001b[0;34m)\u001b[0m\u001b[0;34m\u001b[0m\u001b[0m\n\u001b[0;32m--> 532\u001b[0;31m             \u001b[0mresponse\u001b[0m \u001b[0;34m=\u001b[0m \u001b[0mmeth\u001b[0m\u001b[0;34m(\u001b[0m\u001b[0mreq\u001b[0m\u001b[0;34m,\u001b[0m \u001b[0mresponse\u001b[0m\u001b[0;34m)\u001b[0m\u001b[0;34m\u001b[0m\u001b[0m\n\u001b[0m\u001b[1;32m    533\u001b[0m \u001b[0;34m\u001b[0m\u001b[0m\n\u001b[1;32m    534\u001b[0m         \u001b[0;32mreturn\u001b[0m \u001b[0mresponse\u001b[0m\u001b[0;34m\u001b[0m\u001b[0m\n",
      "\u001b[0;32m/Library/Frameworks/Python.framework/Versions/3.6/lib/python3.6/urllib/request.py\u001b[0m in \u001b[0;36mhttp_response\u001b[0;34m(self, request, response)\u001b[0m\n\u001b[1;32m    640\u001b[0m         \u001b[0;32mif\u001b[0m \u001b[0;32mnot\u001b[0m \u001b[0;34m(\u001b[0m\u001b[0;36m200\u001b[0m \u001b[0;34m<=\u001b[0m \u001b[0mcode\u001b[0m \u001b[0;34m<\u001b[0m \u001b[0;36m300\u001b[0m\u001b[0;34m)\u001b[0m\u001b[0;34m:\u001b[0m\u001b[0;34m\u001b[0m\u001b[0m\n\u001b[1;32m    641\u001b[0m             response = self.parent.error(\n\u001b[0;32m--> 642\u001b[0;31m                 'http', request, response, code, msg, hdrs)\n\u001b[0m\u001b[1;32m    643\u001b[0m \u001b[0;34m\u001b[0m\u001b[0m\n\u001b[1;32m    644\u001b[0m         \u001b[0;32mreturn\u001b[0m \u001b[0mresponse\u001b[0m\u001b[0;34m\u001b[0m\u001b[0m\n",
      "\u001b[0;32m/Library/Frameworks/Python.framework/Versions/3.6/lib/python3.6/urllib/request.py\u001b[0m in \u001b[0;36merror\u001b[0;34m(self, proto, *args)\u001b[0m\n\u001b[1;32m    562\u001b[0m             \u001b[0mhttp_err\u001b[0m \u001b[0;34m=\u001b[0m \u001b[0;36m0\u001b[0m\u001b[0;34m\u001b[0m\u001b[0m\n\u001b[1;32m    563\u001b[0m         \u001b[0margs\u001b[0m \u001b[0;34m=\u001b[0m \u001b[0;34m(\u001b[0m\u001b[0mdict\u001b[0m\u001b[0;34m,\u001b[0m \u001b[0mproto\u001b[0m\u001b[0;34m,\u001b[0m \u001b[0mmeth_name\u001b[0m\u001b[0;34m)\u001b[0m \u001b[0;34m+\u001b[0m \u001b[0margs\u001b[0m\u001b[0;34m\u001b[0m\u001b[0m\n\u001b[0;32m--> 564\u001b[0;31m         \u001b[0mresult\u001b[0m \u001b[0;34m=\u001b[0m \u001b[0mself\u001b[0m\u001b[0;34m.\u001b[0m\u001b[0m_call_chain\u001b[0m\u001b[0;34m(\u001b[0m\u001b[0;34m*\u001b[0m\u001b[0margs\u001b[0m\u001b[0;34m)\u001b[0m\u001b[0;34m\u001b[0m\u001b[0m\n\u001b[0m\u001b[1;32m    565\u001b[0m         \u001b[0;32mif\u001b[0m \u001b[0mresult\u001b[0m\u001b[0;34m:\u001b[0m\u001b[0;34m\u001b[0m\u001b[0m\n\u001b[1;32m    566\u001b[0m             \u001b[0;32mreturn\u001b[0m \u001b[0mresult\u001b[0m\u001b[0;34m\u001b[0m\u001b[0m\n",
      "\u001b[0;32m/Library/Frameworks/Python.framework/Versions/3.6/lib/python3.6/urllib/request.py\u001b[0m in \u001b[0;36m_call_chain\u001b[0;34m(self, chain, kind, meth_name, *args)\u001b[0m\n\u001b[1;32m    502\u001b[0m         \u001b[0;32mfor\u001b[0m \u001b[0mhandler\u001b[0m \u001b[0;32min\u001b[0m \u001b[0mhandlers\u001b[0m\u001b[0;34m:\u001b[0m\u001b[0;34m\u001b[0m\u001b[0m\n\u001b[1;32m    503\u001b[0m             \u001b[0mfunc\u001b[0m \u001b[0;34m=\u001b[0m \u001b[0mgetattr\u001b[0m\u001b[0;34m(\u001b[0m\u001b[0mhandler\u001b[0m\u001b[0;34m,\u001b[0m \u001b[0mmeth_name\u001b[0m\u001b[0;34m)\u001b[0m\u001b[0;34m\u001b[0m\u001b[0m\n\u001b[0;32m--> 504\u001b[0;31m             \u001b[0mresult\u001b[0m \u001b[0;34m=\u001b[0m \u001b[0mfunc\u001b[0m\u001b[0;34m(\u001b[0m\u001b[0;34m*\u001b[0m\u001b[0margs\u001b[0m\u001b[0;34m)\u001b[0m\u001b[0;34m\u001b[0m\u001b[0m\n\u001b[0m\u001b[1;32m    505\u001b[0m             \u001b[0;32mif\u001b[0m \u001b[0mresult\u001b[0m \u001b[0;32mis\u001b[0m \u001b[0;32mnot\u001b[0m \u001b[0;32mNone\u001b[0m\u001b[0;34m:\u001b[0m\u001b[0;34m\u001b[0m\u001b[0m\n\u001b[1;32m    506\u001b[0m                 \u001b[0;32mreturn\u001b[0m \u001b[0mresult\u001b[0m\u001b[0;34m\u001b[0m\u001b[0m\n",
      "\u001b[0;32m/Library/Frameworks/Python.framework/Versions/3.6/lib/python3.6/urllib/request.py\u001b[0m in \u001b[0;36mhttp_error_302\u001b[0;34m(self, req, fp, code, msg, headers)\u001b[0m\n\u001b[1;32m    754\u001b[0m         \u001b[0mfp\u001b[0m\u001b[0;34m.\u001b[0m\u001b[0mclose\u001b[0m\u001b[0;34m(\u001b[0m\u001b[0;34m)\u001b[0m\u001b[0;34m\u001b[0m\u001b[0m\n\u001b[1;32m    755\u001b[0m \u001b[0;34m\u001b[0m\u001b[0m\n\u001b[0;32m--> 756\u001b[0;31m         \u001b[0;32mreturn\u001b[0m \u001b[0mself\u001b[0m\u001b[0;34m.\u001b[0m\u001b[0mparent\u001b[0m\u001b[0;34m.\u001b[0m\u001b[0mopen\u001b[0m\u001b[0;34m(\u001b[0m\u001b[0mnew\u001b[0m\u001b[0;34m,\u001b[0m \u001b[0mtimeout\u001b[0m\u001b[0;34m=\u001b[0m\u001b[0mreq\u001b[0m\u001b[0;34m.\u001b[0m\u001b[0mtimeout\u001b[0m\u001b[0;34m)\u001b[0m\u001b[0;34m\u001b[0m\u001b[0m\n\u001b[0m\u001b[1;32m    757\u001b[0m \u001b[0;34m\u001b[0m\u001b[0m\n\u001b[1;32m    758\u001b[0m     \u001b[0mhttp_error_301\u001b[0m \u001b[0;34m=\u001b[0m \u001b[0mhttp_error_303\u001b[0m \u001b[0;34m=\u001b[0m \u001b[0mhttp_error_307\u001b[0m \u001b[0;34m=\u001b[0m \u001b[0mhttp_error_302\u001b[0m\u001b[0;34m\u001b[0m\u001b[0m\n",
      "\u001b[0;32m/Library/Frameworks/Python.framework/Versions/3.6/lib/python3.6/urllib/request.py\u001b[0m in \u001b[0;36mopen\u001b[0;34m(self, fullurl, data, timeout)\u001b[0m\n\u001b[1;32m    530\u001b[0m         \u001b[0;32mfor\u001b[0m \u001b[0mprocessor\u001b[0m \u001b[0;32min\u001b[0m \u001b[0mself\u001b[0m\u001b[0;34m.\u001b[0m\u001b[0mprocess_response\u001b[0m\u001b[0;34m.\u001b[0m\u001b[0mget\u001b[0m\u001b[0;34m(\u001b[0m\u001b[0mprotocol\u001b[0m\u001b[0;34m,\u001b[0m \u001b[0;34m[\u001b[0m\u001b[0;34m]\u001b[0m\u001b[0;34m)\u001b[0m\u001b[0;34m:\u001b[0m\u001b[0;34m\u001b[0m\u001b[0m\n\u001b[1;32m    531\u001b[0m             \u001b[0mmeth\u001b[0m \u001b[0;34m=\u001b[0m \u001b[0mgetattr\u001b[0m\u001b[0;34m(\u001b[0m\u001b[0mprocessor\u001b[0m\u001b[0;34m,\u001b[0m \u001b[0mmeth_name\u001b[0m\u001b[0;34m)\u001b[0m\u001b[0;34m\u001b[0m\u001b[0m\n\u001b[0;32m--> 532\u001b[0;31m             \u001b[0mresponse\u001b[0m \u001b[0;34m=\u001b[0m \u001b[0mmeth\u001b[0m\u001b[0;34m(\u001b[0m\u001b[0mreq\u001b[0m\u001b[0;34m,\u001b[0m \u001b[0mresponse\u001b[0m\u001b[0;34m)\u001b[0m\u001b[0;34m\u001b[0m\u001b[0m\n\u001b[0m\u001b[1;32m    533\u001b[0m \u001b[0;34m\u001b[0m\u001b[0m\n\u001b[1;32m    534\u001b[0m         \u001b[0;32mreturn\u001b[0m \u001b[0mresponse\u001b[0m\u001b[0;34m\u001b[0m\u001b[0m\n",
      "\u001b[0;32m/Library/Frameworks/Python.framework/Versions/3.6/lib/python3.6/urllib/request.py\u001b[0m in \u001b[0;36mhttp_response\u001b[0;34m(self, request, response)\u001b[0m\n\u001b[1;32m    640\u001b[0m         \u001b[0;32mif\u001b[0m \u001b[0;32mnot\u001b[0m \u001b[0;34m(\u001b[0m\u001b[0;36m200\u001b[0m \u001b[0;34m<=\u001b[0m \u001b[0mcode\u001b[0m \u001b[0;34m<\u001b[0m \u001b[0;36m300\u001b[0m\u001b[0;34m)\u001b[0m\u001b[0;34m:\u001b[0m\u001b[0;34m\u001b[0m\u001b[0m\n\u001b[1;32m    641\u001b[0m             response = self.parent.error(\n\u001b[0;32m--> 642\u001b[0;31m                 'http', request, response, code, msg, hdrs)\n\u001b[0m\u001b[1;32m    643\u001b[0m \u001b[0;34m\u001b[0m\u001b[0m\n\u001b[1;32m    644\u001b[0m         \u001b[0;32mreturn\u001b[0m \u001b[0mresponse\u001b[0m\u001b[0;34m\u001b[0m\u001b[0m\n",
      "\u001b[0;32m/Library/Frameworks/Python.framework/Versions/3.6/lib/python3.6/urllib/request.py\u001b[0m in \u001b[0;36merror\u001b[0;34m(self, proto, *args)\u001b[0m\n\u001b[1;32m    568\u001b[0m         \u001b[0;32mif\u001b[0m \u001b[0mhttp_err\u001b[0m\u001b[0;34m:\u001b[0m\u001b[0;34m\u001b[0m\u001b[0m\n\u001b[1;32m    569\u001b[0m             \u001b[0margs\u001b[0m \u001b[0;34m=\u001b[0m \u001b[0;34m(\u001b[0m\u001b[0mdict\u001b[0m\u001b[0;34m,\u001b[0m \u001b[0;34m'default'\u001b[0m\u001b[0;34m,\u001b[0m \u001b[0;34m'http_error_default'\u001b[0m\u001b[0;34m)\u001b[0m \u001b[0;34m+\u001b[0m \u001b[0morig_args\u001b[0m\u001b[0;34m\u001b[0m\u001b[0m\n\u001b[0;32m--> 570\u001b[0;31m             \u001b[0;32mreturn\u001b[0m \u001b[0mself\u001b[0m\u001b[0;34m.\u001b[0m\u001b[0m_call_chain\u001b[0m\u001b[0;34m(\u001b[0m\u001b[0;34m*\u001b[0m\u001b[0margs\u001b[0m\u001b[0;34m)\u001b[0m\u001b[0;34m\u001b[0m\u001b[0m\n\u001b[0m\u001b[1;32m    571\u001b[0m \u001b[0;34m\u001b[0m\u001b[0m\n\u001b[1;32m    572\u001b[0m \u001b[0;31m# XXX probably also want an abstract factory that knows when it makes\u001b[0m\u001b[0;34m\u001b[0m\u001b[0;34m\u001b[0m\u001b[0m\n",
      "\u001b[0;32m/Library/Frameworks/Python.framework/Versions/3.6/lib/python3.6/urllib/request.py\u001b[0m in \u001b[0;36m_call_chain\u001b[0;34m(self, chain, kind, meth_name, *args)\u001b[0m\n\u001b[1;32m    502\u001b[0m         \u001b[0;32mfor\u001b[0m \u001b[0mhandler\u001b[0m \u001b[0;32min\u001b[0m \u001b[0mhandlers\u001b[0m\u001b[0;34m:\u001b[0m\u001b[0;34m\u001b[0m\u001b[0m\n\u001b[1;32m    503\u001b[0m             \u001b[0mfunc\u001b[0m \u001b[0;34m=\u001b[0m \u001b[0mgetattr\u001b[0m\u001b[0;34m(\u001b[0m\u001b[0mhandler\u001b[0m\u001b[0;34m,\u001b[0m \u001b[0mmeth_name\u001b[0m\u001b[0;34m)\u001b[0m\u001b[0;34m\u001b[0m\u001b[0m\n\u001b[0;32m--> 504\u001b[0;31m             \u001b[0mresult\u001b[0m \u001b[0;34m=\u001b[0m \u001b[0mfunc\u001b[0m\u001b[0;34m(\u001b[0m\u001b[0;34m*\u001b[0m\u001b[0margs\u001b[0m\u001b[0;34m)\u001b[0m\u001b[0;34m\u001b[0m\u001b[0m\n\u001b[0m\u001b[1;32m    505\u001b[0m             \u001b[0;32mif\u001b[0m \u001b[0mresult\u001b[0m \u001b[0;32mis\u001b[0m \u001b[0;32mnot\u001b[0m \u001b[0;32mNone\u001b[0m\u001b[0;34m:\u001b[0m\u001b[0;34m\u001b[0m\u001b[0m\n\u001b[1;32m    506\u001b[0m                 \u001b[0;32mreturn\u001b[0m \u001b[0mresult\u001b[0m\u001b[0;34m\u001b[0m\u001b[0m\n",
      "\u001b[0;32m/Library/Frameworks/Python.framework/Versions/3.6/lib/python3.6/urllib/request.py\u001b[0m in \u001b[0;36mhttp_error_default\u001b[0;34m(self, req, fp, code, msg, hdrs)\u001b[0m\n\u001b[1;32m    648\u001b[0m \u001b[0;32mclass\u001b[0m \u001b[0mHTTPDefaultErrorHandler\u001b[0m\u001b[0;34m(\u001b[0m\u001b[0mBaseHandler\u001b[0m\u001b[0;34m)\u001b[0m\u001b[0;34m:\u001b[0m\u001b[0;34m\u001b[0m\u001b[0m\n\u001b[1;32m    649\u001b[0m     \u001b[0;32mdef\u001b[0m \u001b[0mhttp_error_default\u001b[0m\u001b[0;34m(\u001b[0m\u001b[0mself\u001b[0m\u001b[0;34m,\u001b[0m \u001b[0mreq\u001b[0m\u001b[0;34m,\u001b[0m \u001b[0mfp\u001b[0m\u001b[0;34m,\u001b[0m \u001b[0mcode\u001b[0m\u001b[0;34m,\u001b[0m \u001b[0mmsg\u001b[0m\u001b[0;34m,\u001b[0m \u001b[0mhdrs\u001b[0m\u001b[0;34m)\u001b[0m\u001b[0;34m:\u001b[0m\u001b[0;34m\u001b[0m\u001b[0m\n\u001b[0;32m--> 650\u001b[0;31m         \u001b[0;32mraise\u001b[0m \u001b[0mHTTPError\u001b[0m\u001b[0;34m(\u001b[0m\u001b[0mreq\u001b[0m\u001b[0;34m.\u001b[0m\u001b[0mfull_url\u001b[0m\u001b[0;34m,\u001b[0m \u001b[0mcode\u001b[0m\u001b[0;34m,\u001b[0m \u001b[0mmsg\u001b[0m\u001b[0;34m,\u001b[0m \u001b[0mhdrs\u001b[0m\u001b[0;34m,\u001b[0m \u001b[0mfp\u001b[0m\u001b[0;34m)\u001b[0m\u001b[0;34m\u001b[0m\u001b[0m\n\u001b[0m\u001b[1;32m    651\u001b[0m \u001b[0;34m\u001b[0m\u001b[0m\n\u001b[1;32m    652\u001b[0m \u001b[0;32mclass\u001b[0m \u001b[0mHTTPRedirectHandler\u001b[0m\u001b[0;34m(\u001b[0m\u001b[0mBaseHandler\u001b[0m\u001b[0;34m)\u001b[0m\u001b[0;34m:\u001b[0m\u001b[0;34m\u001b[0m\u001b[0m\n",
      "\u001b[0;31mHTTPError\u001b[0m: HTTP Error 503: Service Unavailable"
     ]
    }
   ],
   "source": [
    "en_blobs = []\n",
    "for text in tqdm(texts):\n",
    "    tb = textblob.TextBlob(text)\n",
    "    try:\n",
    "        en_blobs.append(tb.translate(to='en'))\n",
    "    except textblob.exceptions.NotTranslated:\n",
    "        en_blobs.append(text)"
   ]
  },
  {
   "cell_type": "code",
   "execution_count": 7,
   "metadata": {},
   "outputs": [],
   "source": [
    "en_texts = [en_blob if type(en_blob) is str else en_blob.raw for en_blob in en_blobs]"
   ]
  },
  {
   "cell_type": "code",
   "execution_count": 1106,
   "metadata": {},
   "outputs": [
    {
     "data": {
      "text/plain": [
       "218"
      ]
     },
     "execution_count": 1106,
     "metadata": {},
     "output_type": "execute_result"
    }
   ],
   "source": [
    "len(text_dict)"
   ]
  },
  {
   "cell_type": "code",
   "execution_count": 1107,
   "metadata": {},
   "outputs": [],
   "source": [
    "en_texts_df = pd.DataFrame(en_texts, index=text_dict)"
   ]
  },
  {
   "cell_type": "code",
   "execution_count": 1108,
   "metadata": {},
   "outputs": [
    {
     "data": {
      "text/html": [
       "<div>\n",
       "<table border=\"1\" class=\"dataframe\">\n",
       "  <thead>\n",
       "    <tr style=\"text-align: right;\">\n",
       "      <th></th>\n",
       "      <th>0</th>\n",
       "    </tr>\n",
       "  </thead>\n",
       "  <tbody>\n",
       "    <tr>\n",
       "      <th>איך ללמוד.docx</th>\n",
       "      <td>Concepts\\nConnections between concepts</td>\n",
       "    </tr>\n",
       "    <tr>\n",
       "      <th>טענה_.docx</th>\n",
       "      <td>claim:\\nOr you could think of it like Buffett\\...</td>\n",
       "    </tr>\n",
       "    <tr>\n",
       "      <th>מה אני עושה עם החיים האלה.docx</th>\n",
       "      <td>What am I doing with this life?\\nDo not know</td>\n",
       "    </tr>\n",
       "    <tr>\n",
       "      <th>cloud ide.docx</th>\n",
       "      <td>I would like it to be a wonderful year\\nWhat t...</td>\n",
       "    </tr>\n",
       "    <tr>\n",
       "      <th>אני לא יודע.docx</th>\n",
       "      <td>I do not know\\nI think it's slower to write li...</td>\n",
       "    </tr>\n",
       "  </tbody>\n",
       "</table>\n",
       "</div>"
      ],
      "text/plain": [
       "                                                                                0\n",
       "איך ללמוד.docx                             Concepts\\nConnections between concepts\n",
       "טענה_.docx                      claim:\\nOr you could think of it like Buffett\\...\n",
       "מה אני עושה עם החיים האלה.docx       What am I doing with this life?\\nDo not know\n",
       "cloud ide.docx                  I would like it to be a wonderful year\\nWhat t...\n",
       "אני לא יודע.docx                I do not know\\nI think it's slower to write li..."
      ]
     },
     "execution_count": 1108,
     "metadata": {},
     "output_type": "execute_result"
    }
   ],
   "source": [
    "en_texts_df.head()"
   ]
  },
  {
   "cell_type": "code",
   "execution_count": 1109,
   "metadata": {},
   "outputs": [],
   "source": [
    "en_texts_df.to_csv('data/en_sents_textblob.csv')"
   ]
  },
  {
   "cell_type": "code",
   "execution_count": 1135,
   "metadata": {},
   "outputs": [],
   "source": [
    "en_texts = list(en_texts_df[0])"
   ]
  },
  {
   "cell_type": "code",
   "execution_count": 1120,
   "metadata": {},
   "outputs": [
    {
     "data": {
      "text/plain": [
       "5128"
      ]
     },
     "execution_count": 1120,
     "metadata": {},
     "output_type": "execute_result"
    }
   ],
   "source": [
    "len([t for text in texts for t in text.split('\\n') if t])"
   ]
  },
  {
   "cell_type": "code",
   "execution_count": 1121,
   "metadata": {},
   "outputs": [
    {
     "data": {
      "text/plain": [
       "5112"
      ]
     },
     "execution_count": 1121,
     "metadata": {},
     "output_type": "execute_result"
    }
   ],
   "source": [
    "en_sents_textblob = [t for text in en_texts for t in text.split('\\n') if t]\n",
    "fnames = [fname for fname,text in zip(text_dict,en_texts) for t in text.split('\\n') if t]\n",
    "len(pd.DataFrame(en_sents_textblob, index=fnames))"
   ]
  },
  {
   "cell_type": "code",
   "execution_count": 1138,
   "metadata": {},
   "outputs": [
    {
     "name": "stderr",
     "output_type": "stream",
     "text": [
      "IOPub data rate exceeded.\n",
      "The notebook server will temporarily stop sending output\n",
      "to the client in order to avoid crashing it.\n",
      "To change this limit, set the config variable\n",
      "`--NotebookApp.iopub_data_rate_limit`.\n",
      "\n",
      "Current values:\n",
      "NotebookApp.iopub_data_rate_limit=1000000.0 (bytes/sec)\n",
      "NotebookApp.rate_limit_window=3.0 (secs)\n",
      "\n"
     ]
    }
   ],
   "source": [
    "for en_text, (fname,text) in zip(en_texts, text_dict.items()):\n",
    "    print(fname)\n",
    "    en_text = list(filter(None, en_text.split('\\n')))\n",
    "    if len(en_texts) != len(text):\n",
    "        print(en_texts)\n",
    "        print(text)\n",
    "    "
   ]
  },
  {
   "cell_type": "code",
   "execution_count": 105,
   "metadata": {},
   "outputs": [],
   "source": [
    "from nltk.tokenize import word_tokenize"
   ]
  },
  {
   "cell_type": "code",
   "execution_count": 369,
   "metadata": {},
   "outputs": [],
   "source": [
    "from wordfreq import tokenize"
   ]
  },
  {
   "cell_type": "code",
   "execution_count": 8,
   "metadata": {},
   "outputs": [],
   "source": [
    "en_texts_words = [tokenize(en_text, 'en') for en_text in en_texts]"
   ]
  },
  {
   "cell_type": "code",
   "execution_count": 178,
   "metadata": {},
   "outputs": [
    {
     "data": {
      "text/plain": [
       "3"
      ]
     },
     "execution_count": 178,
     "metadata": {},
     "output_type": "execute_result"
    }
   ],
   "source": [
    "texts_words[5].count('הייתי')"
   ]
  },
  {
   "cell_type": "code",
   "execution_count": 213,
   "metadata": {},
   "outputs": [
    {
     "data": {
      "text/plain": [
       "17"
      ]
     },
     "execution_count": 213,
     "metadata": {},
     "output_type": "execute_result"
    }
   ],
   "source": [
    "freqs['נגישה']"
   ]
  },
  {
   "cell_type": "code",
   "execution_count": 10,
   "metadata": {},
   "outputs": [
    {
     "data": {
      "text/plain": [
       "['פונקציה', 'דיפ', 'השלבים', 'הוספת', 'דאטה']"
      ]
     },
     "execution_count": 10,
     "metadata": {},
     "output_type": "execute_result"
    }
   ],
   "source": [
    "get_top_words(texts_words[5], freqs, 5)"
   ]
  },
  {
   "cell_type": "code",
   "execution_count": 149,
   "metadata": {},
   "outputs": [
    {
     "data": {
      "text/plain": [
       "1e-08"
      ]
     },
     "execution_count": 149,
     "metadata": {},
     "output_type": "execute_result"
    }
   ],
   "source": [
    "word_frequency('OOO0OOOOOOOOOo', 'en', minimum=1e-08)\n"
   ]
  },
  {
   "cell_type": "code",
   "execution_count": 9,
   "metadata": {},
   "outputs": [],
   "source": [
    "from collections import defaultdict\n",
    "text_dict = defaultdict(list)\n",
    "for text_words, text in zip(en_texts_words, texts):\n",
    "    names = get_top_words(text_words)\n",
    "    text_dict[' '.join(names)].append(text)\n",
    "\n"
   ]
  },
  {
   "cell_type": "code",
   "execution_count": 10,
   "metadata": {},
   "outputs": [
    {
     "data": {
      "application/vnd.jupyter.widget-view+json": {
       "model_id": "e1d14e0d0ba94cb4a1273d9af1247eca",
       "version_major": 2,
       "version_minor": 0
      },
      "text/html": [
       "<p>Failed to display Jupyter Widget of type <code>HBox</code>.</p>\n",
       "<p>\n",
       "  If you're reading this message in the Jupyter Notebook or JupyterLab Notebook, it may mean\n",
       "  that the widgets JavaScript is still loading. If this message persists, it\n",
       "  likely means that the widgets JavaScript library is either not installed or\n",
       "  not enabled. See the <a href=\"https://ipywidgets.readthedocs.io/en/stable/user_install.html\">Jupyter\n",
       "  Widgets Documentation</a> for setup instructions.\n",
       "</p>\n",
       "<p>\n",
       "  If you're reading this message in another frontend (for example, a static\n",
       "  rendering on GitHub or <a href=\"https://nbviewer.jupyter.org/\">NBViewer</a>),\n",
       "  it may mean that your frontend doesn't currently support widgets.\n",
       "</p>\n"
      ],
      "text/plain": [
       "HBox(children=(IntProgress(value=0, max=213), HTML(value='')))"
      ]
     },
     "metadata": {},
     "output_type": "display_data"
    },
    {
     "name": "stdout",
     "output_type": "stream",
     "text": [
      "\n"
     ]
    }
   ],
   "source": [
    "setTexts('/Users/jordanvalansi/Downloads/Thoughts7/', text_dict)"
   ]
  },
  {
   "cell_type": "code",
   "execution_count": 66,
   "metadata": {},
   "outputs": [],
   "source": [
    "lemmas = map(remove_prefix, words) \n",
    "c1 = collections.Counter(lemmas)"
   ]
  },
  {
   "cell_type": "code",
   "execution_count": 481,
   "metadata": {},
   "outputs": [],
   "source": [
    "\n",
    "texts_array = np.array([np.array(text_words) for text_words in texts_words])"
   ]
  },
  {
   "cell_type": "code",
   "execution_count": 484,
   "metadata": {},
   "outputs": [],
   "source": [
    "all_words = list(set([word for text_words in texts_words for word in text_words]))"
   ]
  },
  {
   "cell_type": "code",
   "execution_count": 732,
   "metadata": {},
   "outputs": [
    {
     "data": {
      "text/plain": [
       "['מושגים', 'קשרים', 'בין', 'מושגים', '']"
      ]
     },
     "execution_count": 732,
     "metadata": {},
     "output_type": "execute_result"
    }
   ],
   "source": [
    "texts_words[0]"
   ]
  },
  {
   "cell_type": "code",
   "execution_count": 733,
   "metadata": {},
   "outputs": [
    {
     "data": {
      "text/plain": [
       "17"
      ]
     },
     "execution_count": 733,
     "metadata": {},
     "output_type": "execute_result"
    }
   ],
   "source": [
    "freqs['מושגים']"
   ]
  },
  {
   "cell_type": "code",
   "execution_count": 13,
   "metadata": {},
   "outputs": [],
   "source": [
    "one_hot = words2one_hot(texts_words[0], freqs)"
   ]
  },
  {
   "cell_type": "code",
   "execution_count": 14,
   "metadata": {},
   "outputs": [
    {
     "data": {
      "text/plain": [
       "0.11764705882352941"
      ]
     },
     "execution_count": 14,
     "metadata": {},
     "output_type": "execute_result"
    }
   ],
   "source": [
    "one_hot[list(freqs.keys()).index('מושגים')]"
   ]
  },
  {
   "cell_type": "code",
   "execution_count": 15,
   "metadata": {},
   "outputs": [
    {
     "data": {
      "application/vnd.jupyter.widget-view+json": {
       "model_id": "f6348311932a4918963835a0c07346b6",
       "version_major": 2,
       "version_minor": 0
      },
      "text/html": [
       "<p>Failed to display Jupyter Widget of type <code>HBox</code>.</p>\n",
       "<p>\n",
       "  If you're reading this message in the Jupyter Notebook or JupyterLab Notebook, it may mean\n",
       "  that the widgets JavaScript is still loading. If this message persists, it\n",
       "  likely means that the widgets JavaScript library is either not installed or\n",
       "  not enabled. See the <a href=\"https://ipywidgets.readthedocs.io/en/stable/user_install.html\">Jupyter\n",
       "  Widgets Documentation</a> for setup instructions.\n",
       "</p>\n",
       "<p>\n",
       "  If you're reading this message in another frontend (for example, a static\n",
       "  rendering on GitHub or <a href=\"https://nbviewer.jupyter.org/\">NBViewer</a>),\n",
       "  it may mean that your frontend doesn't currently support widgets.\n",
       "</p>\n"
      ],
      "text/plain": [
       "HBox(children=(IntProgress(value=0, max=218), HTML(value='')))"
      ]
     },
     "metadata": {},
     "output_type": "display_data"
    },
    {
     "name": "stdout",
     "output_type": "stream",
     "text": [
      "\n"
     ]
    }
   ],
   "source": [
    "texts_one_hot = np.array([words2one_hot(words, freqs) for words in tqdm(texts_words)])"
   ]
  },
  {
   "cell_type": "code",
   "execution_count": 16,
   "metadata": {},
   "outputs": [],
   "source": [
    "from sklearn.metrics import pairwise_distances\n",
    "distmat = pairwise_distances(texts_one_hot, metric='cosine')"
   ]
  },
  {
   "cell_type": "code",
   "execution_count": 19,
   "metadata": {},
   "outputs": [
    {
     "name": "stderr",
     "output_type": "stream",
     "text": [
      "/Library/Frameworks/Python.framework/Versions/3.6/lib/python3.6/site-packages/ipykernel_launcher.py:2: RuntimeWarning: divide by zero encountered in log\n",
      "  \n"
     ]
    },
    {
     "data": {
      "image/png": "[encoded data removed]",
      "text/plain": [
       "<matplotlib.figure.Figure at 0x1148c0c18>"
      ]
     },
     "metadata": {},
     "output_type": "display_data"
    }
   ],
   "source": [
    "y, x = np.histogram(distmat,bins=100)\n",
    "plt.scatter(x[:100], np.log(y))\n",
    "plt.show()"
   ]
  },
  {
   "cell_type": "code",
   "execution_count": 24,
   "metadata": {},
   "outputs": [],
   "source": [
    "clusters = set([tuple(np.where(dists<.99)[0]) for dists in distmat])"
   ]
  },
  {
   "cell_type": "code",
   "execution_count": 25,
   "metadata": {},
   "outputs": [],
   "source": [
    "min_clusters = defaultdict(set)\n",
    "included = set()\n",
    "for cluster in clusters:\n",
    "    name = list(cluster)[0]\n",
    "    if name in included:\n",
    "        continue\n",
    "    included.update(cluster)\n",
    "    min_clusters[name].update(cluster)\n"
   ]
  },
  {
   "cell_type": "code",
   "execution_count": 26,
   "metadata": {},
   "outputs": [],
   "source": [
    "min_clusters = {name: cluster for name,cluster in min_clusters.items() if len(cluster)>1}"
   ]
  },
  {
   "cell_type": "code",
   "execution_count": 41,
   "metadata": {},
   "outputs": [
    {
     "data": {
      "text/plain": [
       "42"
      ]
     },
     "execution_count": 41,
     "metadata": {},
     "output_type": "execute_result"
    }
   ],
   "source": [
    "len(min_clusters)"
   ]
  },
  {
   "cell_type": "code",
   "execution_count": 40,
   "metadata": {},
   "outputs": [
    {
     "name": "stderr",
     "output_type": "stream",
     "text": [
      "/Users/jordanvalansi/projects/notebooks/doclassifier.py:176: RuntimeWarning: divide by zero encountered in double_scalars\n",
      "  tfs = [words.count(word)/np.log(freqs[word]) for word in uniqs]\n"
     ]
    },
    {
     "data": {
      "application/vnd.jupyter.widget-view+json": {
       "model_id": "d2428da6af604b40864ab891a0fd9080",
       "version_major": 2,
       "version_minor": 0
      },
      "text/html": [
       "<p>Failed to display Jupyter Widget of type <code>HBox</code>.</p>\n",
       "<p>\n",
       "  If you're reading this message in the Jupyter Notebook or JupyterLab Notebook, it may mean\n",
       "  that the widgets JavaScript is still loading. If this message persists, it\n",
       "  likely means that the widgets JavaScript library is either not installed or\n",
       "  not enabled. See the <a href=\"https://ipywidgets.readthedocs.io/en/stable/user_install.html\">Jupyter\n",
       "  Widgets Documentation</a> for setup instructions.\n",
       "</p>\n",
       "<p>\n",
       "  If you're reading this message in another frontend (for example, a static\n",
       "  rendering on GitHub or <a href=\"https://nbviewer.jupyter.org/\">NBViewer</a>),\n",
       "  it may mean that your frontend doesn't currently support widgets.\n",
       "</p>\n"
      ],
      "text/plain": [
       "HBox(children=(IntProgress(value=0, max=31), HTML(value='')))"
      ]
     },
     "metadata": {},
     "output_type": "display_data"
    },
    {
     "name": "stdout",
     "output_type": "stream",
     "text": [
      "\n"
     ]
    }
   ],
   "source": [
    "\n",
    "setTexts(path_name='/Users/jordanvalansi/Downloads/Thoughts4/', text_dict=gen_text_dict(min_clusters, texts_words, texts, freqs))"
   ]
  },
  {
   "cell_type": "code",
   "execution_count": 722,
   "metadata": {},
   "outputs": [
    {
     "data": {
      "text/plain": [
       "0.9932099254823237"
      ]
     },
     "execution_count": 722,
     "metadata": {},
     "output_type": "execute_result"
    }
   ],
   "source": [
    "distmat[i,j]"
   ]
  },
  {
   "cell_type": "code",
   "execution_count": 46,
   "metadata": {},
   "outputs": [
    {
     "data": {
      "text/plain": [
       "['מה', 'אני', 'עושה', 'עם', 'החיים', 'האלה', 'לא', 'יודע', '']"
      ]
     },
     "execution_count": 46,
     "metadata": {},
     "output_type": "execute_result"
    }
   ],
   "source": [
    "i = 2\n",
    "texts_words[i]"
   ]
  },
  {
   "cell_type": "code",
   "execution_count": 47,
   "metadata": {},
   "outputs": [],
   "source": [
    "j = get_nearest_neighbour(distmat, i)"
   ]
  },
  {
   "cell_type": "code",
   "execution_count": 48,
   "metadata": {},
   "outputs": [
    {
     "data": {
      "text/plain": [
       "['אז', 'מה', 'אני', 'עושה', 'עם', 'חיי', '']"
      ]
     },
     "execution_count": 48,
     "metadata": {},
     "output_type": "execute_result"
    }
   ],
   "source": [
    "texts_words[j]"
   ]
  },
  {
   "cell_type": "code",
   "execution_count": 79,
   "metadata": {},
   "outputs": [],
   "source": [
    "# distance is word match\n",
    "from sklearn.feature_extraction.text import TfidfVectorizer\n",
    "\n",
    "tfidf = TfidfVectorizer().fit_transform(en_texts)\n",
    "# no need to normalize, since Vectorizer will return normalized tf-idf\n",
    "pairwise_similarity = tfidf * tfidf.T\n"
   ]
  },
  {
   "cell_type": "code",
   "execution_count": 81,
   "metadata": {},
   "outputs": [
    {
     "data": {
      "text/plain": [
       "'הייתי רוצה שתהיה זו שנה נפלאה\\nמה קשור?\\nהייתי רוצה לכתוב בפלטפורמה שגם מאפשרת לי לכתוב קוד, אבל מצד שני נגישה מכל מקום\\nהייתי רוצה ide בענן\\nהאמת שהworkplace בענן אז בתכלס אני יכול לערוך את המסמכים מכל מקום\\nאיך אני עורך מסמכים מהdropbox?\\nאז מסתבר שאפשר\\n\\nטוב בינתיים שאני מריץ קוד, יותר בעייתי לכתוב\\n'"
      ]
     },
     "execution_count": 81,
     "metadata": {},
     "output_type": "execute_result"
    }
   ],
   "source": [
    "i = 3\n",
    "texts[i]"
   ]
  },
  {
   "cell_type": "code",
   "execution_count": 83,
   "metadata": {},
   "outputs": [],
   "source": [
    "ps = pairwise_similarity[i].toarray()[0]\n",
    "other = ps.argsort()[-2:][0]"
   ]
  },
  {
   "cell_type": "code",
   "execution_count": 84,
   "metadata": {},
   "outputs": [
    {
     "data": {
      "text/plain": [
       "\"הלוואי שהייתי יכול לכתוב קוד, שיהווה לי מקום לכתיבת מסמכים וקוד, ולהרצת קוד\\nאני יכול לעשות דבר כזה\\nבאמצעות ג'אווה סקריפט, אני יכול לעשות אתר שמאפשר כתיבת מסמכים ושמירתם\\nהאתר יכול לשבת בענן\\nאני יכול לאפשר לאתר הזה גם לכתוב אתרים, כי הרי בסוף זה פשוט הוספת מסמכי ג'אוה סקריפט\\nאבל אני צריך ךהבין איך יוצרים אפשליקציה בנוד ג'.ס\\nאני יכול לככה בקלות להוסיף עוד קוד לאפליקציה מתוך האפליקציה\\nאני יכול להוסיף כתובת שלמשל משתמשת בגוגל אימג' כדי למצוא בן אדם לפי תמונה או לינק (למשל לפייסבוק) ואז נניח ליישם את זה בכיוון של פורנו\\nאבל זה קשה ללמוד את הג'.ס הזה\\nאני רוצה ליצור מזה משחק, שבמקום לעשות את הכלום שאני עושה כשאני משחק, אני אעשה את הכלום הזה במשחק שלי\\nבמקום לרשום אני אעשה את זה במשחק\\nמה העקרונות של משחק?\\nתחושה של התקדמות\\nשלבים קטנים (כל שלב כמה דקות קצרות)\\nנניח בקנדי קראש\\nהיו מלא שלבים שכל אחד משחקים חמש דק'\\nותוך בממוצע חמש התורות שאפשר לשחק, עוברים שלב או שניים\\nסכהכ צריך היה לשחק\\n5*700/2 = 1750\\nמשחקים כלומר 8750 דק' או 146 שעות\\nהמשימה צריכה להיות פשוטה כדי לבצע אותה תוך חמש דקות, למשל לנסות להקפיץ ציפור ככה שלא תגע בקוצים\\n\\n\""
      ]
     },
     "execution_count": 84,
     "metadata": {},
     "output_type": "execute_result"
    }
   ],
   "source": [
    "texts[other]"
   ]
  },
  {
   "cell_type": "code",
   "execution_count": 424,
   "metadata": {},
   "outputs": [],
   "source": [
    "tfid_df = pd.DataFrame(pairwise_similarity.toarray())"
   ]
  },
  {
   "cell_type": "code",
   "execution_count": 438,
   "metadata": {},
   "outputs": [],
   "source": [
    "tfid_mat = tfid_df.values"
   ]
  },
  {
   "cell_type": "code",
   "execution_count": 442,
   "metadata": {},
   "outputs": [
    {
     "data": {
      "text/plain": [
       "'אם נניח אני מכפיל את המכירות כל שנה\\nאני צריך בשנה חמש 80000\\nבשנה ארבע 40000\\nבשנה שלוש 20000\\nבשנה שניה 10000\\nבשנה ראשונה 5000'"
      ]
     },
     "execution_count": 442,
     "metadata": {},
     "output_type": "execute_result"
    }
   ],
   "source": [
    "texts[tfid_mat[i].argsort()[-2:][0]]"
   ]
  },
  {
   "cell_type": "code",
   "execution_count": 773,
   "metadata": {},
   "outputs": [],
   "source": [
    "d = get_nn_dict(distmat)"
   ]
  },
  {
   "cell_type": "code",
   "execution_count": 774,
   "metadata": {},
   "outputs": [],
   "source": [
    "clusters = []\n",
    "while d:\n",
    "    clusters.append(get_cluster(d))\n"
   ]
  },
  {
   "cell_type": "code",
   "execution_count": 775,
   "metadata": {},
   "outputs": [
    {
     "data": {
      "text/plain": [
       "605"
      ]
     },
     "execution_count": 775,
     "metadata": {},
     "output_type": "execute_result"
    }
   ],
   "source": [
    "len(clusters)"
   ]
  },
  {
   "cell_type": "code",
   "execution_count": 471,
   "metadata": {},
   "outputs": [
    {
     "data": {
      "text/plain": [
       "\"ניצחתי את שירן בויכוח:\\nאני אמרתי שמוניקה ורוס הם המרכז בחברים והיא אמרה שרייצ'ל בגלל הכסף, ואז אמרתי שכולם חברים רק בזכותם הם האמצע של החברות, והיא הסכימה איתי\""
      ]
     },
     "execution_count": 471,
     "metadata": {},
     "output_type": "execute_result"
    }
   ],
   "source": [
    "texts[585]"
   ]
  },
  {
   "cell_type": "code",
   "execution_count": 472,
   "metadata": {},
   "outputs": [
    {
     "data": {
      "text/plain": [
       "'But what do I do on that week?'"
      ]
     },
     "execution_count": 472,
     "metadata": {},
     "output_type": "execute_result"
    }
   ],
   "source": [
    "texts[402]"
   ]
  },
  {
   "cell_type": "code",
   "execution_count": 89,
   "metadata": {},
   "outputs": [
    {
     "name": "stderr",
     "output_type": "stream",
     "text": [
      "/Library/Frameworks/Python.framework/Versions/3.6/lib/python3.6/site-packages/ipykernel_launcher.py:2: RuntimeWarning: divide by zero encountered in log\n",
      "  \n"
     ]
    },
    {
     "data": {
      "image/png": "[encoded data removed]",
      "text/plain": [
       "<matplotlib.figure.Figure at 0x117694e48>"
      ]
     },
     "metadata": {},
     "output_type": "display_data"
    }
   ],
   "source": [
    "y, x = np.histogram(pairwise_similarity.todense(), bins=100)\n",
    "plt.scatter(x[:100], np.log(y))\n",
    "plt.show()"
   ]
  },
  {
   "cell_type": "code",
   "execution_count": 49,
   "metadata": {},
   "outputs": [],
   "source": [
    "from scipy.cluster.hierarchy import linkage, dendrogram\n",
    "from scipy.spatial.distance import squareform\n"
   ]
  },
  {
   "cell_type": "code",
   "execution_count": null,
   "metadata": {},
   "outputs": [],
   "source": [
    "tfid_df = np.round(tfid_df-1, decimals=3)"
   ]
  },
  {
   "cell_type": "code",
   "execution_count": 428,
   "metadata": {},
   "outputs": [],
   "source": [
    "np.fill_diagonal(tfid_df.values, 0)"
   ]
  },
  {
   "cell_type": "code",
   "execution_count": 450,
   "metadata": {},
   "outputs": [],
   "source": [
    "tfid_df.values[:] = np.abs(tfid_df.values)"
   ]
  },
  {
   "cell_type": "code",
   "execution_count": 50,
   "metadata": {},
   "outputs": [],
   "source": [
    "dist_flat = squareform(distmat)\n",
    "links = linkage(dist_flat, method='ward')"
   ]
  },
  {
   "cell_type": "code",
   "execution_count": 52,
   "metadata": {},
   "outputs": [],
   "source": [
    "import fastcluster\n",
    "Z = fastcluster.linkage(dist_flat, method=\"ward\")\n",
    "# some computation here, returning n (usually between 5-30)\n",
    "# clusters = fastcluster.fcluster(Z, t=n, criterion='maxclust')\n"
   ]
  },
  {
   "cell_type": "code",
   "execution_count": 53,
   "metadata": {},
   "outputs": [
    {
     "data": {
      "image/png": "[encoded data removed]",
      "text/plain": [
       "<matplotlib.figure.Figure at 0x11487e7b8>"
      ]
     },
     "metadata": {},
     "output_type": "display_data"
    }
   ],
   "source": [
    "dend = dendrogram(Z)"
   ]
  },
  {
   "cell_type": "code",
   "execution_count": 795,
   "metadata": {},
   "outputs": [
    {
     "data": {
      "text/plain": [
       "dict_keys(['icoord', 'dcoord', 'ivl', 'leaves', 'color_list'])"
      ]
     },
     "execution_count": 795,
     "metadata": {},
     "output_type": "execute_result"
    }
   ],
   "source": [
    "dend.keys()"
   ]
  },
  {
   "cell_type": "code",
   "execution_count": 54,
   "metadata": {},
   "outputs": [],
   "source": [
    "clusters = defaultdict(list)\n",
    "for c,i in zip(dend['color_list'], dend['leaves']):\n",
    "    clusters[c].append(i)"
   ]
  },
  {
   "cell_type": "code",
   "execution_count": 56,
   "metadata": {},
   "outputs": [
    {
     "name": "stderr",
     "output_type": "stream",
     "text": [
      "/Users/jordanvalansi/projects/notebooks/doclassifier.py:176: RuntimeWarning: divide by zero encountered in double_scalars\n",
      "  tfs = [words.count(word)/np.log(freqs[word]) for word in uniqs]\n"
     ]
    },
    {
     "data": {
      "application/vnd.jupyter.widget-view+json": {
       "model_id": "97d3deeaa5084bb682697f5eda125df9",
       "version_major": 2,
       "version_minor": 0
      },
      "text/html": [
       "<p>Failed to display Jupyter Widget of type <code>HBox</code>.</p>\n",
       "<p>\n",
       "  If you're reading this message in the Jupyter Notebook or JupyterLab Notebook, it may mean\n",
       "  that the widgets JavaScript is still loading. If this message persists, it\n",
       "  likely means that the widgets JavaScript library is either not installed or\n",
       "  not enabled. See the <a href=\"https://ipywidgets.readthedocs.io/en/stable/user_install.html\">Jupyter\n",
       "  Widgets Documentation</a> for setup instructions.\n",
       "</p>\n",
       "<p>\n",
       "  If you're reading this message in another frontend (for example, a static\n",
       "  rendering on GitHub or <a href=\"https://nbviewer.jupyter.org/\">NBViewer</a>),\n",
       "  it may mean that your frontend doesn't currently support widgets.\n",
       "</p>\n"
      ],
      "text/plain": [
       "HBox(children=(IntProgress(value=0, max=5), HTML(value='')))"
      ]
     },
     "metadata": {},
     "output_type": "display_data"
    },
    {
     "name": "stdout",
     "output_type": "stream",
     "text": [
      "\n"
     ]
    }
   ],
   "source": [
    "setTexts('/Users/jordanvalansi/Downloads/Thoughts5/', gen_text_dict(clusters, freqs=freqs, texts=texts, texts_words=texts_words))"
   ]
  },
  {
   "cell_type": "code",
   "execution_count": 66,
   "metadata": {},
   "outputs": [],
   "source": [
    "chunksize = 2 ** 10\n",
    "fpath = '/Users/jordanvalansi/Downloads/cc.he.300.vec'\n",
    "chunks = pd.read_csv(fpath, chunksize=chunksize, sep=' ', index_col=0, )\n",
    "# df = pd.DataFrame()\n",
    "# for chunk in tqdm(chunks):\n",
    "#     df = pd.concat([df, chunk])\n",
    "    \n",
    "    "
   ]
  },
  {
   "cell_type": "code",
   "execution_count": 12,
   "metadata": {},
   "outputs": [],
   "source": [
    "from gensim.models import KeyedVectors\n",
    "from gensim.test.utils import datapath"
   ]
  },
  {
   "cell_type": "code",
   "execution_count": 15,
   "metadata": {},
   "outputs": [],
   "source": [
    "# wv_from_text = KeyedVectors.load_word2vec_format(datapath('/Users/jordanvalansi/Downloads/wiki.en.vec'), binary=False)"
   ]
  },
  {
   "cell_type": "code",
   "execution_count": 14,
   "metadata": {},
   "outputs": [
    {
     "data": {
      "application/vnd.jupyter.widget-view+json": {
       "model_id": "fb149daecf6f4276b1c567236138094b",
       "version_major": 2,
       "version_minor": 0
      },
      "text/html": [
       "<p>Failed to display Jupyter Widget of type <code>HBox</code>.</p>\n",
       "<p>\n",
       "  If you're reading this message in the Jupyter Notebook or JupyterLab Notebook, it may mean\n",
       "  that the widgets JavaScript is still loading. If this message persists, it\n",
       "  likely means that the widgets JavaScript library is either not installed or\n",
       "  not enabled. See the <a href=\"https://ipywidgets.readthedocs.io/en/stable/user_install.html\">Jupyter\n",
       "  Widgets Documentation</a> for setup instructions.\n",
       "</p>\n",
       "<p>\n",
       "  If you're reading this message in another frontend (for example, a static\n",
       "  rendering on GitHub or <a href=\"https://nbviewer.jupyter.org/\">NBViewer</a>),\n",
       "  it may mean that your frontend doesn't currently support widgets.\n",
       "</p>\n"
      ],
      "text/plain": [
       "HBox(children=(IntProgress(value=0, max=2519371), HTML(value='')))"
      ]
     },
     "metadata": {},
     "output_type": "display_data"
    },
    {
     "name": "stdout",
     "output_type": "stream",
     "text": [
      "\n"
     ]
    }
   ],
   "source": [
    "fpath = 'data/w2v.csv'\n",
    "fpath = '/Users/jordanvalansi/Downloads/wiki.en.vec'\n",
    "# fpath = '/Users/jordanvalansi/Downloads/cc.he.300.vec'\n",
    "w2v = get_vecs(fpath, ' ')"
   ]
  },
  {
   "cell_type": "code",
   "execution_count": 16,
   "metadata": {},
   "outputs": [
    {
     "ename": "KeyboardInterrupt",
     "evalue": "",
     "output_type": "error",
     "traceback": [
      "\u001b[0;31m---------------------------------------------------------------------------\u001b[0m",
      "\u001b[0;31mKeyboardInterrupt\u001b[0m                         Traceback (most recent call last)",
      "\u001b[0;32m<ipython-input-16-a63696aec57d>\u001b[0m in \u001b[0;36m<module>\u001b[0;34m()\u001b[0m\n\u001b[0;32m----> 1\u001b[0;31m \u001b[0;32mimport\u001b[0m \u001b[0mgensim\u001b[0m\u001b[0;34m.\u001b[0m\u001b[0mdownloader\u001b[0m \u001b[0;32mas\u001b[0m \u001b[0mapi\u001b[0m\u001b[0;34m\u001b[0m\u001b[0m\n\u001b[0m\u001b[1;32m      2\u001b[0m \u001b[0mword_vectors\u001b[0m \u001b[0;34m=\u001b[0m \u001b[0mapi\u001b[0m\u001b[0;34m.\u001b[0m\u001b[0mload\u001b[0m\u001b[0;34m(\u001b[0m\u001b[0;34m\"glove-wiki-gigaword-100\"\u001b[0m\u001b[0;34m)\u001b[0m\u001b[0;34m\u001b[0m\u001b[0m\n",
      "\u001b[0;32m/Library/Frameworks/Python.framework/Versions/3.6/lib/python3.6/site-packages/gensim/downloader.py\u001b[0m in \u001b[0;36m<module>\u001b[0;34m()\u001b[0m\n\u001b[1;32m    106\u001b[0m \u001b[0;34m\u001b[0m\u001b[0m\n\u001b[1;32m    107\u001b[0m \u001b[0;34m\u001b[0m\u001b[0m\n\u001b[0;32m--> 108\u001b[0;31m \u001b[0;32mdef\u001b[0m \u001b[0m_create_base_dir\u001b[0m\u001b[0;34m(\u001b[0m\u001b[0;34m)\u001b[0m\u001b[0;34m:\u001b[0m\u001b[0;34m\u001b[0m\u001b[0m\n\u001b[0m\u001b[1;32m    109\u001b[0m     \"\"\"Create the gensim-data directory in home directory, if it has not been already created.\n\u001b[1;32m    110\u001b[0m \u001b[0;34m\u001b[0m\u001b[0m\n",
      "\u001b[0;31mKeyboardInterrupt\u001b[0m: "
     ]
    }
   ],
   "source": [
    "import gensim.downloader as api\n",
    "word_vectors = api.load(\"glove-wiki-gigaword-100\")"
   ]
  },
  {
   "cell_type": "code",
   "execution_count": 17,
   "metadata": {},
   "outputs": [
    {
     "data": {
      "text/plain": [
       "2519106"
      ]
     },
     "execution_count": 17,
     "metadata": {},
     "output_type": "execute_result"
    }
   ],
   "source": [
    "len(w2v)"
   ]
  },
  {
   "cell_type": "code",
   "execution_count": 18,
   "metadata": {},
   "outputs": [],
   "source": [
    "w2v_iter = iter(w2v)"
   ]
  },
  {
   "cell_type": "code",
   "execution_count": 21,
   "metadata": {},
   "outputs": [
    {
     "data": {
      "text/plain": [
       "'.'"
      ]
     },
     "execution_count": 21,
     "metadata": {},
     "output_type": "execute_result"
    }
   ],
   "source": [
    "next(w2v_iter)"
   ]
  },
  {
   "cell_type": "code",
   "execution_count": 24,
   "metadata": {},
   "outputs": [
    {
     "data": {
      "text/plain": [
       "0.8489722599941599"
      ]
     },
     "execution_count": 24,
     "metadata": {},
     "output_type": "execute_result"
    }
   ],
   "source": [
    "from scipy.spatial import distance\n",
    "w1 = 'silvester'\n",
    "w2 = 'terror'\n",
    "distance.cosine(w2v[w1], w2v[w2])"
   ]
  },
  {
   "cell_type": "code",
   "execution_count": 123,
   "metadata": {},
   "outputs": [
    {
     "data": {
      "application/vnd.jupyter.widget-view+json": {
       "model_id": "8f6a9e2bfc244bfba78fdf64db193b86",
       "version_major": 2,
       "version_minor": 0
      },
      "text/html": [
       "<p>Failed to display Jupyter Widget of type <code>HBox</code>.</p>\n",
       "<p>\n",
       "  If you're reading this message in the Jupyter Notebook or JupyterLab Notebook, it may mean\n",
       "  that the widgets JavaScript is still loading. If this message persists, it\n",
       "  likely means that the widgets JavaScript library is either not installed or\n",
       "  not enabled. See the <a href=\"https://ipywidgets.readthedocs.io/en/stable/user_install.html\">Jupyter\n",
       "  Widgets Documentation</a> for setup instructions.\n",
       "</p>\n",
       "<p>\n",
       "  If you're reading this message in another frontend (for example, a static\n",
       "  rendering on GitHub or <a href=\"https://nbviewer.jupyter.org/\">NBViewer</a>),\n",
       "  it may mean that your frontend doesn't currently support widgets.\n",
       "</p>\n"
      ],
      "text/plain": [
       "HBox(children=(IntProgress(value=0, max=218), HTML(value='')))"
      ]
     },
     "metadata": {},
     "output_type": "display_data"
    },
    {
     "name": "stdout",
     "output_type": "stream",
     "text": [
      "\n"
     ]
    }
   ],
   "source": [
    "vecs = []\n",
    "for text in tqdm(en_texts_words):\n",
    "    words = get_top_words(text, top=1)\n",
    "    vec = text2vec(text, w2v)\n",
    "    vecs.append(vec)\n",
    "\n",
    "vecs_array = np.array(vecs)"
   ]
  },
  {
   "cell_type": "code",
   "execution_count": 124,
   "metadata": {},
   "outputs": [
    {
     "data": {
      "text/plain": [
       "(218, 300)"
      ]
     },
     "execution_count": 124,
     "metadata": {},
     "output_type": "execute_result"
    }
   ],
   "source": [
    "vecs_array.shape"
   ]
  },
  {
   "cell_type": "code",
   "execution_count": 157,
   "metadata": {},
   "outputs": [],
   "source": [
    "vecs_df = pd.DataFrame(vecs)"
   ]
  },
  {
   "cell_type": "code",
   "execution_count": 161,
   "metadata": {},
   "outputs": [
    {
     "data": {
      "text/plain": [
       "1.6182148103503835e-05"
      ]
     },
     "execution_count": 161,
     "metadata": {},
     "output_type": "execute_result"
    }
   ],
   "source": [
    "np.dot(vecs_df.loc[5], vecs_df.loc[6])"
   ]
  },
  {
   "cell_type": "code",
   "execution_count": 111,
   "metadata": {},
   "outputs": [
    {
     "data": {
      "text/plain": [
       "'טוב בינתיים שאני מריץ קוד, יותר בעייתי לכתוב\\n'"
      ]
     },
     "execution_count": 111,
     "metadata": {},
     "output_type": "execute_result"
    }
   ],
   "source": [
    "texts[6]"
   ]
  },
  {
   "cell_type": "code",
   "execution_count": 110,
   "metadata": {},
   "outputs": [
    {
     "data": {
      "text/plain": [
       "'הייתי רוצה שתהיה זו שנה נפלאה\\nמה קשור?\\nהייתי רוצה לכתוב בפלטפורמה שגם מאפשרת לי לכתוב קוד, אבל מצד שני נגישה מכל מקום\\nהייתי רוצה ide בענן\\nהאמת שהworkplace בענן אז בתכלס אני יכול לערוך את המסמכים מכל מקום\\nאיך אני עורך מסמכים מהdropbox?\\nאז מסתבר שאפשר'"
      ]
     },
     "execution_count": 110,
     "metadata": {},
     "output_type": "execute_result"
    }
   ],
   "source": [
    "texts[5]"
   ]
  },
  {
   "cell_type": "code",
   "execution_count": 72,
   "metadata": {},
   "outputs": [],
   "source": [
    "vecs_df = vecs_df.fillna(vecs_df.mean())"
   ]
  },
  {
   "cell_type": "code",
   "execution_count": 308,
   "metadata": {},
   "outputs": [],
   "source": [
    "dem_reduce = TSNE(n_components=2)"
   ]
  },
  {
   "cell_type": "code",
   "execution_count": 781,
   "metadata": {},
   "outputs": [],
   "source": [
    "vecs_reduce = dem_reduce.fit_transform(word_vecs)"
   ]
  },
  {
   "cell_type": "code",
   "execution_count": 782,
   "metadata": {},
   "outputs": [],
   "source": [
    "orig_cluster = pd.DataFrame(vecs_reduce)\n",
    "orig_labels = pd.Series([0]*len(vecs_reduce))"
   ]
  },
  {
   "cell_type": "code",
   "execution_count": 115,
   "metadata": {},
   "outputs": [],
   "source": [
    "orig_labels = split_largest(orig_labels, orig_cluster)"
   ]
  },
  {
   "cell_type": "code",
   "execution_count": 785,
   "metadata": {},
   "outputs": [],
   "source": [
    "kmeans = KMeans(n_clusters=5).fit(word_vecs)\n",
    "labels_ = pd.Series(kmeans.labels_)"
   ]
  },
  {
   "cell_type": "code",
   "execution_count": 786,
   "metadata": {},
   "outputs": [
    {
     "data": {
      "image/png": "[encoded data removed]",
      "text/plain": [
       "<matplotlib.figure.Figure at 0x1302405c0>"
      ]
     },
     "metadata": {},
     "output_type": "display_data"
    }
   ],
   "source": [
    "plt.scatter(orig_cluster.iloc[:, 0], orig_cluster.iloc[:, 1], c=labels_)\n",
    "# plt.xlim(-50, 50)\n",
    "# plt.ylim(-30, 30)\n",
    "plt.show()"
   ]
  },
  {
   "cell_type": "code",
   "execution_count": 389,
   "metadata": {},
   "outputs": [
    {
     "data": {
      "text/plain": [
       "262"
      ]
     },
     "execution_count": 389,
     "metadata": {},
     "output_type": "execute_result"
    }
   ],
   "source": [
    "sum(orig_labels==orig_labels.max())"
   ]
  },
  {
   "cell_type": "code",
   "execution_count": 334,
   "metadata": {},
   "outputs": [
    {
     "data": {
      "text/plain": [
       "5066"
      ]
     },
     "execution_count": 334,
     "metadata": {},
     "output_type": "execute_result"
    }
   ],
   "source": [
    "len(texts)"
   ]
  },
  {
   "cell_type": "code",
   "execution_count": 345,
   "metadata": {},
   "outputs": [
    {
     "data": {
      "text/plain": [
       "1331"
      ]
     },
     "execution_count": 345,
     "metadata": {},
     "output_type": "execute_result"
    }
   ],
   "source": [
    "len(labels_)"
   ]
  },
  {
   "cell_type": "code",
   "execution_count": 392,
   "metadata": {},
   "outputs": [
    {
     "data": {
      "text/plain": [
       "10"
      ]
     },
     "execution_count": 392,
     "metadata": {},
     "output_type": "execute_result"
    }
   ],
   "source": [
    "orig_labels.max()"
   ]
  },
  {
   "cell_type": "code",
   "execution_count": 350,
   "metadata": {},
   "outputs": [
    {
     "data": {
      "text/plain": [
       "(1331, 1024)"
      ]
     },
     "execution_count": 350,
     "metadata": {},
     "output_type": "execute_result"
    }
   ],
   "source": [
    "sent_df.shape"
   ]
  },
  {
   "cell_type": "code",
   "execution_count": 346,
   "metadata": {},
   "outputs": [],
   "source": [
    "texts_df = pd.DataFrame(texts)"
   ]
  },
  {
   "cell_type": "code",
   "execution_count": 356,
   "metadata": {},
   "outputs": [
    {
     "data": {
      "text/plain": [
       "Index(['s-10000-a-month-thats-120-grand-a-year-thats-about-3-percent-a-year-its-not-that-much-only-inflation-is-3-but-it-is-tied-to-inflation-so-basically-its-3-above-inflation.npy',\n",
       "       's-2-million-so-that-shauna-wont-have-to-work.npy', 's-a-dream.npy',\n",
       "       's-action-is-the-cortex.npy',\n",
       "       's-all-i-need-is-to-download-all-the-information-daily-and-to-run-on-her-predictions.npy',\n",
       "       's-also-dont-know-which-project-to-invest-in.npy',\n",
       "       's-also-its-not-very-accessible-especially-when-theres-no-internet.npy',\n",
       "       's-also-real-estate-the-estate.npy',\n",
       "       's-and-around-the-average-chance-is-low-so-sure-hes-lower-on-the-edges.npy',\n",
       "       's-and-then-i-started-to-look-at-things-that-make-scripts-for-apps.npy',\n",
       "       ...\n",
       "       's-we-need-protection-a-home-clothing-health.npy',\n",
       "       's-were-basically-like-a-computer.npy',\n",
       "       's-what-about-trading-software.npy',\n",
       "       's-what-if-instead-of-objects-we-would-have-tables.npy',\n",
       "       's-what-if-we-can-find-same-equations-for-culture-or-information.npy',\n",
       "       's-what-matters-in-the-patterns-obtained-is-not-input-exact-but-the-relationship-between-the-celts-when-we-recognize-a-person-we-dont-recognize-just-who-has-eyes-and-a-nose-we-also-recognize-the-distance-between-the-eyes-and-him-from-a-different-direc.npy',\n",
       "       's-work-on-machine-learning.npy', 's-work-on-project.npy',\n",
       "       's-you-can-also-divide-the-tags-into-groups-to-see-the-topics-areas-and-disciplines.npy',\n",
       "       's-youre-giving-hope.npy'],\n",
       "      dtype='object', length=230)"
      ]
     },
     "execution_count": 356,
     "metadata": {},
     "output_type": "execute_result"
    }
   ],
   "source": [
    "sent_df.index[labels_==4]"
   ]
  },
  {
   "cell_type": "code",
   "execution_count": 130,
   "metadata": {},
   "outputs": [],
   "source": [
    "for i, (text, en_words, label) in enumerate(zip(texts, en_texts_words, labels_)):\n",
    "    fpath = os.path.join('/Users/jordanvalansi/Downloads/Thoughts6', str(label))\n",
    "    if not os.path.exists(fpath):\n",
    "        os.makedirs(fpath)\n",
    "    name = '_'.join(get_top_words(en_words))\n",
    "    setText(fname=os.path.join(fpath, name+'.docx'), texts=[text])"
   ]
  },
  {
   "cell_type": "code",
   "execution_count": 357,
   "metadata": {},
   "outputs": [],
   "source": [
    "sent_vecs = {}\n",
    "fpath = '/Users/jordanvalansi/projects/tensorflow/models/research/lm_1b/output/'\n",
    "for fname in os.listdir(fpath):\n",
    "    sent_vecs[fname] = np.load(os.path.join(fpath,fname))[0]\n"
   ]
  },
  {
   "cell_type": "code",
   "execution_count": 358,
   "metadata": {},
   "outputs": [],
   "source": [
    "sent_df = pd.DataFrame(sent_vecs).T"
   ]
  },
  {
   "cell_type": "code",
   "execution_count": 359,
   "metadata": {},
   "outputs": [
    {
     "data": {
      "text/plain": [
       "(2872, 1024)"
      ]
     },
     "execution_count": 359,
     "metadata": {},
     "output_type": "execute_result"
    }
   ],
   "source": [
    "sent_df.shape"
   ]
  },
  {
   "cell_type": "code",
   "execution_count": 360,
   "metadata": {},
   "outputs": [],
   "source": [
    "distmat = distance_matrix(sent_df, sent_df)"
   ]
  },
  {
   "cell_type": "code",
   "execution_count": 298,
   "metadata": {},
   "outputs": [],
   "source": [
    "d = get_nn_dict(distmat)"
   ]
  },
  {
   "cell_type": "code",
   "execution_count": 299,
   "metadata": {},
   "outputs": [
    {
     "data": {
      "text/plain": [
       "{0: 18,\n",
       " 1: 10,\n",
       " 2: 10,\n",
       " 3: 10,\n",
       " 4: 29,\n",
       " 5: 128,\n",
       " 6: 18,\n",
       " 7: 25,\n",
       " 8: 148,\n",
       " 9: 348,\n",
       " 10: 12,\n",
       " 11: 10,\n",
       " 12: 10,\n",
       " 13: 328,\n",
       " 14: 26,\n",
       " 15: 93,\n",
       " 16: 18,\n",
       " 17: 39,\n",
       " 18: 6,\n",
       " 19: 15,\n",
       " 20: 6,\n",
       " 21: 6,\n",
       " 22: 9,\n",
       " 23: 24,\n",
       " 24: 32,\n",
       " 25: 34,\n",
       " 26: 14,\n",
       " 27: 93,\n",
       " 28: 93,\n",
       " 29: 15,\n",
       " 30: 18,\n",
       " 31: 288,\n",
       " 32: 24,\n",
       " 33: 38,\n",
       " 34: 25,\n",
       " 35: 41,\n",
       " 36: 42,\n",
       " 37: 340,\n",
       " 38: 33,\n",
       " 39: 17,\n",
       " 40: 36,\n",
       " 41: 35,\n",
       " 42: 36,\n",
       " 43: 40,\n",
       " 44: 69,\n",
       " 45: 44,\n",
       " 46: 361,\n",
       " 47: 348,\n",
       " 48: 348,\n",
       " 49: 348,\n",
       " 50: 219,\n",
       " 51: 145,\n",
       " 52: 348,\n",
       " 53: 24,\n",
       " 54: 262,\n",
       " 55: 304,\n",
       " 56: 315,\n",
       " 57: 162,\n",
       " 58: 137,\n",
       " 59: 348,\n",
       " 60: 368,\n",
       " 61: 317,\n",
       " 62: 356,\n",
       " 63: 78,\n",
       " 64: 86,\n",
       " 65: 189,\n",
       " 66: 298,\n",
       " 67: 259,\n",
       " 68: 93,\n",
       " 69: 379,\n",
       " 70: 292,\n",
       " 71: 348,\n",
       " 72: 168,\n",
       " 73: 151,\n",
       " 74: 278,\n",
       " 75: 181,\n",
       " 76: 321,\n",
       " 77: 348,\n",
       " 78: 348,\n",
       " 79: 348,\n",
       " 80: 378,\n",
       " 81: 348,\n",
       " 82: 348,\n",
       " 83: 86,\n",
       " 84: 44,\n",
       " 85: 48,\n",
       " 86: 101,\n",
       " 87: 326,\n",
       " 88: 328,\n",
       " 89: 304,\n",
       " 90: 174,\n",
       " 91: 350,\n",
       " 92: 26,\n",
       " 93: 15,\n",
       " 94: 348,\n",
       " 95: 106,\n",
       " 96: 326,\n",
       " 97: 356,\n",
       " 98: 142,\n",
       " 99: 122,\n",
       " 100: 304,\n",
       " 101: 86,\n",
       " 102: 346,\n",
       " 103: 337,\n",
       " 104: 348,\n",
       " 105: 338,\n",
       " 106: 95,\n",
       " 107: 103,\n",
       " 108: 290,\n",
       " 109: 348,\n",
       " 110: 348,\n",
       " 111: 115,\n",
       " 112: 348,\n",
       " 113: 327,\n",
       " 114: 329,\n",
       " 115: 170,\n",
       " 116: 184,\n",
       " 117: 118,\n",
       " 118: 117,\n",
       " 119: 242,\n",
       " 120: 101,\n",
       " 121: 351,\n",
       " 122: 217,\n",
       " 123: 128,\n",
       " 124: 359,\n",
       " 125: 348,\n",
       " 126: 348,\n",
       " 127: 117,\n",
       " 128: 348,\n",
       " 129: 348,\n",
       " 130: 72,\n",
       " 131: 348,\n",
       " 132: 339,\n",
       " 133: 181,\n",
       " 134: 168,\n",
       " 135: 170,\n",
       " 136: 348,\n",
       " 137: 353,\n",
       " 138: 168,\n",
       " 139: 348,\n",
       " 140: 141,\n",
       " 141: 140,\n",
       " 142: 378,\n",
       " 143: 375,\n",
       " 144: 165,\n",
       " 145: 283,\n",
       " 146: 132,\n",
       " 147: 106,\n",
       " 148: 160,\n",
       " 149: 168,\n",
       " 150: 308,\n",
       " 151: 73,\n",
       " 152: 181,\n",
       " 153: 375,\n",
       " 154: 139,\n",
       " 155: 348,\n",
       " 156: 168,\n",
       " 157: 340,\n",
       " 158: 134,\n",
       " 159: 307,\n",
       " 160: 165,\n",
       " 161: 29,\n",
       " 162: 141,\n",
       " 163: 168,\n",
       " 164: 181,\n",
       " 165: 138,\n",
       " 166: 168,\n",
       " 167: 170,\n",
       " 168: 138,\n",
       " 169: 348,\n",
       " 170: 348,\n",
       " 171: 283,\n",
       " 172: 348,\n",
       " 173: 174,\n",
       " 174: 339,\n",
       " 175: 276,\n",
       " 176: 273,\n",
       " 177: 273,\n",
       " 178: 353,\n",
       " 179: 283,\n",
       " 180: 292,\n",
       " 181: 348,\n",
       " 182: 278,\n",
       " 183: 276,\n",
       " 184: 321,\n",
       " 185: 159,\n",
       " 186: 340,\n",
       " 187: 282,\n",
       " 188: 181,\n",
       " 189: 65,\n",
       " 190: 304,\n",
       " 191: 128,\n",
       " 192: 348,\n",
       " 193: 348,\n",
       " 194: 334,\n",
       " 195: 85,\n",
       " 196: 66,\n",
       " 197: 101,\n",
       " 198: 348,\n",
       " 199: 378,\n",
       " 200: 271,\n",
       " 201: 348,\n",
       " 202: 321,\n",
       " 203: 214,\n",
       " 204: 201,\n",
       " 205: 86,\n",
       " 206: 282,\n",
       " 207: 176,\n",
       " 208: 348,\n",
       " 209: 337,\n",
       " 210: 186,\n",
       " 211: 79,\n",
       " 212: 50,\n",
       " 213: 68,\n",
       " 214: 348,\n",
       " 215: 170,\n",
       " 216: 259,\n",
       " 217: 122,\n",
       " 218: 205,\n",
       " 219: 232,\n",
       " 220: 321,\n",
       " 221: 74,\n",
       " 222: 170,\n",
       " 223: 181,\n",
       " 224: 234,\n",
       " 225: 268,\n",
       " 226: 234,\n",
       " 227: 187,\n",
       " 228: 218,\n",
       " 229: 276,\n",
       " 230: 69,\n",
       " 231: 9,\n",
       " 232: 219,\n",
       " 233: 262,\n",
       " 234: 348,\n",
       " 235: 348,\n",
       " 236: 201,\n",
       " 237: 86,\n",
       " 238: 165,\n",
       " 239: 379,\n",
       " 240: 170,\n",
       " 241: 353,\n",
       " 242: 321,\n",
       " 243: 348,\n",
       " 244: 348,\n",
       " 245: 348,\n",
       " 246: 348,\n",
       " 247: 348,\n",
       " 248: 348,\n",
       " 249: 348,\n",
       " 250: 340,\n",
       " 251: 83,\n",
       " 252: 348,\n",
       " 253: 289,\n",
       " 254: 86,\n",
       " 255: 256,\n",
       " 256: 186,\n",
       " 257: 333,\n",
       " 258: 69,\n",
       " 259: 276,\n",
       " 260: 259,\n",
       " 261: 35,\n",
       " 262: 54,\n",
       " 263: 53,\n",
       " 264: 265,\n",
       " 265: 264,\n",
       " 266: 156,\n",
       " 267: 100,\n",
       " 268: 225,\n",
       " 269: 380,\n",
       " 270: 348,\n",
       " 271: 276,\n",
       " 272: 348,\n",
       " 273: 278,\n",
       " 274: 80,\n",
       " 275: 8,\n",
       " 276: 321,\n",
       " 277: 348,\n",
       " 278: 283,\n",
       " 279: 348,\n",
       " 280: 281,\n",
       " 281: 60,\n",
       " 282: 206,\n",
       " 283: 145,\n",
       " 284: 348,\n",
       " 285: 348,\n",
       " 286: 348,\n",
       " 287: 124,\n",
       " 288: 31,\n",
       " 289: 288,\n",
       " 290: 36,\n",
       " 291: 218,\n",
       " 292: 186,\n",
       " 293: 214,\n",
       " 294: 165,\n",
       " 295: 199,\n",
       " 296: 239,\n",
       " 297: 283,\n",
       " 298: 264,\n",
       " 299: 348,\n",
       " 300: 79,\n",
       " 301: 379,\n",
       " 302: 317,\n",
       " 303: 328,\n",
       " 304: 306,\n",
       " 305: 15,\n",
       " 306: 304,\n",
       " 307: 264,\n",
       " 308: 309,\n",
       " 309: 308,\n",
       " 310: 328,\n",
       " 311: 141,\n",
       " 312: 84,\n",
       " 313: 72,\n",
       " 314: 292,\n",
       " 315: 56,\n",
       " 316: 44,\n",
       " 317: 186,\n",
       " 318: 159,\n",
       " 319: 170,\n",
       " 320: 170,\n",
       " 321: 276,\n",
       " 322: 321,\n",
       " 323: 276,\n",
       " 324: 264,\n",
       " 325: 348,\n",
       " 326: 189,\n",
       " 327: 113,\n",
       " 328: 282,\n",
       " 329: 68,\n",
       " 330: 141,\n",
       " 331: 140,\n",
       " 332: 334,\n",
       " 333: 257,\n",
       " 334: 332,\n",
       " 335: 186,\n",
       " 336: 176,\n",
       " 337: 103,\n",
       " 338: 105,\n",
       " 339: 174,\n",
       " 340: 186,\n",
       " 341: 181,\n",
       " 342: 69,\n",
       " 343: 219,\n",
       " 344: 231,\n",
       " 345: 165,\n",
       " 346: 174,\n",
       " 347: 348,\n",
       " 348: 378,\n",
       " 349: 348,\n",
       " 350: 276,\n",
       " 351: 350,\n",
       " 352: 351,\n",
       " 353: 348,\n",
       " 354: 348,\n",
       " 355: 348,\n",
       " 356: 348,\n",
       " 357: 348,\n",
       " 358: 348,\n",
       " 359: 348,\n",
       " 360: 367,\n",
       " 361: 282,\n",
       " 362: 79,\n",
       " 363: 378,\n",
       " 364: 349,\n",
       " 365: 348,\n",
       " 366: 298,\n",
       " 367: 360,\n",
       " 368: 276,\n",
       " 369: 358,\n",
       " 370: 360,\n",
       " 371: 348,\n",
       " 372: 378,\n",
       " 373: 253,\n",
       " 374: 281,\n",
       " 375: 348,\n",
       " 376: 300,\n",
       " 377: 348,\n",
       " 378: 348,\n",
       " 379: 276,\n",
       " 380: 269,\n",
       " 381: 86,\n",
       " 382: 205}"
      ]
     },
     "execution_count": 299,
     "metadata": {},
     "output_type": "execute_result"
    }
   ],
   "source": [
    "d"
   ]
  },
  {
   "cell_type": "code",
   "execution_count": 306,
   "metadata": {},
   "outputs": [
    {
     "data": {
      "text/plain": [
       "'s-question-every-day-will-amount-to-4-weeks-5-days-20-questions.npy'"
      ]
     },
     "execution_count": 306,
     "metadata": {},
     "output_type": "execute_result"
    }
   ],
   "source": [
    "i = 256\n",
    "sent_df.index[i]"
   ]
  },
  {
   "cell_type": "code",
   "execution_count": 307,
   "metadata": {},
   "outputs": [
    {
     "data": {
      "text/plain": [
       "'s-im-working-on-this-project-trying-to-find-a-way-to-predict-stock.npy'"
      ]
     },
     "execution_count": 307,
     "metadata": {},
     "output_type": "execute_result"
    }
   ],
   "source": [
    "sent_df.index[d[i]]"
   ]
  },
  {
   "cell_type": "code",
   "execution_count": 372,
   "metadata": {},
   "outputs": [
    {
     "data": {
      "text/plain": [
       "[['concepts'],\n",
       " ['concepts'],\n",
       " ['claim'],\n",
       " ['buffett'],\n",
       " ['start'],\n",
       " ['proof'],\n",
       " ['buffett'],\n",
       " ['invest'],\n",
       " ['recognition'],\n",
       " ['priority'],\n",
       " ['whereby'],\n",
       " ['doing'],\n",
       " ['know'],\n",
       " ['great'],\n",
       " ['what'],\n",
       " ['accessible'],\n",
       " ['ide'],\n",
       " ['edit'],\n",
       " ['edit'],\n",
       " ['apparently'],\n",
       " ['problematic'],\n",
       " ['know'],\n",
       " ['slower'],\n",
       " ['dictate'],\n",
       " ['dictate'],\n",
       " ['productive'],\n",
       " ['know'],\n",
       " ['facebook'],\n",
       " ['facebook'],\n",
       " ['lingo'],\n",
       " ['productive'],\n",
       " ['garageband'],\n",
       " ['politics'],\n",
       " ['automatically'],\n",
       " [\"shouldn't\"],\n",
       " ['phrases'],\n",
       " ['vector'],\n",
       " ['connection'],\n",
       " ['memorandum'],\n",
       " ['operator'],\n",
       " ['manny'],\n",
       " ['steps'],\n",
       " ['options'],\n",
       " ['predict'],\n",
       " ['kaggle'],\n",
       " ['insert'],\n",
       " ['predict'],\n",
       " ['assumptions'],\n",
       " ['epsilon'],\n",
       " ['epsilon'],\n",
       " ['opens'],\n",
       " ['negligible'],\n",
       " ['probability'],\n",
       " ['epsilon'],\n",
       " ['probability'],\n",
       " ['epsilon'],\n",
       " ['epsilon'],\n",
       " [],\n",
       " [],\n",
       " [],\n",
       " ['repeated'],\n",
       " ['processing'],\n",
       " ['questions'],\n",
       " ['weeks'],\n",
       " ['christmas'],\n",
       " ['christmas'],\n",
       " ['april'],\n",
       " ['amount'],\n",
       " ['questions'],\n",
       " ['question'],\n",
       " ['questions'],\n",
       " ['should'],\n",
       " ['hours'],\n",
       " ['processing'],\n",
       " ['preparation'],\n",
       " ['pressed'],\n",
       " ['project'],\n",
       " ['important'],\n",
       " ['continue'],\n",
       " ['much'],\n",
       " ['giving'],\n",
       " ['looks'],\n",
       " ['obvious'],\n",
       " [\"there's\"],\n",
       " ['question'],\n",
       " ['identify'],\n",
       " ['option'],\n",
       " ['decide'],\n",
       " ['andrew'],\n",
       " ['hours'],\n",
       " ['finish'],\n",
       " ['project'],\n",
       " ['postpone'],\n",
       " ['decide'],\n",
       " ['invested'],\n",
       " ['emails'],\n",
       " ['bookmarks'],\n",
       " ['missions'],\n",
       " ['benefit'],\n",
       " ['wasting'],\n",
       " ['hand'],\n",
       " ['planning'],\n",
       " ['stuff'],\n",
       " ['free'],\n",
       " ['change'],\n",
       " ['emails'],\n",
       " ['tasks'],\n",
       " ['clean'],\n",
       " ['bookmarks'],\n",
       " ['bookmarks'],\n",
       " ['fact'],\n",
       " ['asana'],\n",
       " ['radar'],\n",
       " ['tool'],\n",
       " ['bookmarks'],\n",
       " ['miles'],\n",
       " ['tasks'],\n",
       " ['taskbar'],\n",
       " ['game'],\n",
       " ['simulation'],\n",
       " ['hand'],\n",
       " ['important'],\n",
       " ['oecd'],\n",
       " ['defense'],\n",
       " ['policing'],\n",
       " ['diplomacy'],\n",
       " ['culture'],\n",
       " ['education'],\n",
       " ['health'],\n",
       " ['treasure'],\n",
       " ['anyone'],\n",
       " ['bottom'],\n",
       " ['daily'],\n",
       " ['sims'],\n",
       " ['real'],\n",
       " ['invested'],\n",
       " ['waste'],\n",
       " ['wasting'],\n",
       " ['nothing'],\n",
       " ['meditation'],\n",
       " ['meditation'],\n",
       " ['meditation'],\n",
       " ['harder'],\n",
       " ['wasting'],\n",
       " ['misusing'],\n",
       " ['useful'],\n",
       " ['useful'],\n",
       " ['joy'],\n",
       " ['useful'],\n",
       " ['tv'],\n",
       " ['satisfying'],\n",
       " ['satisfaction'],\n",
       " ['threshold'],\n",
       " ['expectation'],\n",
       " ['satisfying'],\n",
       " ['expect'],\n",
       " ['expect'],\n",
       " ['question'],\n",
       " ['biggest'],\n",
       " ['everyday'],\n",
       " ['satisfy'],\n",
       " ['sustain'],\n",
       " ['women'],\n",
       " ['divorce'],\n",
       " ['strip'],\n",
       " ['freedom'],\n",
       " ['freedom'],\n",
       " ['bridge'],\n",
       " ['wasting'],\n",
       " ['freedom'],\n",
       " ['dividing'],\n",
       " ['strippers'],\n",
       " ['expensive'],\n",
       " ['tied'],\n",
       " ['else'],\n",
       " ['projects'],\n",
       " ['care'],\n",
       " ['worked'],\n",
       " ['correlation'],\n",
       " ['book'],\n",
       " ['documents'],\n",
       " ['documents'],\n",
       " ['good'],\n",
       " ['book'],\n",
       " ['about'],\n",
       " ['thoughts'],\n",
       " ['thoughts'],\n",
       " ['cares'],\n",
       " ['leave'],\n",
       " ['thoughts'],\n",
       " ['analyze'],\n",
       " ['analyze'],\n",
       " ['objective'],\n",
       " ['tree'],\n",
       " ['sentence'],\n",
       " ['representation'],\n",
       " ['queen'],\n",
       " ['setting'],\n",
       " ['dictionary'],\n",
       " ['sentences'],\n",
       " ['management'],\n",
       " ['sleep'],\n",
       " ['breakfast'],\n",
       " ['learning'],\n",
       " ['meditation'],\n",
       " ['reading'],\n",
       " ['transport'],\n",
       " ['work'],\n",
       " ['transport'],\n",
       " ['errands'],\n",
       " ['supper'],\n",
       " ['facebook'],\n",
       " ['shower'],\n",
       " ['8h'],\n",
       " ['8h'],\n",
       " ['3h'],\n",
       " ['2h'],\n",
       " ['1h'],\n",
       " ['1h'],\n",
       " ['0.5h'],\n",
       " ['0.5h'],\n",
       " ['work'],\n",
       " ['radars'],\n",
       " ['lunch'],\n",
       " ['burning'],\n",
       " ['fixing'],\n",
       " ['project'],\n",
       " ['reading'],\n",
       " ['ways'],\n",
       " ['2'],\n",
       " ['2'],\n",
       " ['3'],\n",
       " ['adjacent'],\n",
       " ['shape'],\n",
       " ['9'],\n",
       " ['4'],\n",
       " ['adjacent'],\n",
       " ['shape'],\n",
       " ['shapes'],\n",
       " ['numbers'],\n",
       " ['combination'],\n",
       " ['calculate'],\n",
       " ['flush'],\n",
       " ['flush'],\n",
       " ['four'],\n",
       " ['flush'],\n",
       " ['full'],\n",
       " ['flush'],\n",
       " ['three'],\n",
       " ['straight'],\n",
       " ['flush'],\n",
       " ['pair'],\n",
       " ['pair'],\n",
       " ['flush'],\n",
       " ['flush'],\n",
       " ['pair'],\n",
       " ['straight'],\n",
       " ['high'],\n",
       " ['high'],\n",
       " ['high'],\n",
       " ['flush'],\n",
       " ['nothing'],\n",
       " ['reporter'],\n",
       " ['write'],\n",
       " ['fix'],\n",
       " ['write'],\n",
       " ['know'],\n",
       " ['interface'],\n",
       " ['what'],\n",
       " ['eat'],\n",
       " ['lunch'],\n",
       " [],\n",
       " ['intelligence'],\n",
       " ['caress'],\n",
       " ['templates'],\n",
       " ['detail'],\n",
       " ['completes'],\n",
       " ['celts'],\n",
       " ['consummate'],\n",
       " ['cortex'],\n",
       " ['insipid'],\n",
       " ['cortex'],\n",
       " ['cortex'],\n",
       " ['conceptualizing'],\n",
       " ['instinctual'],\n",
       " ['gestalt'],\n",
       " ['syllables'],\n",
       " ['hippocampus'],\n",
       " ['thalamus'],\n",
       " ['reciprocal'],\n",
       " ['payload'],\n",
       " ['concepts'],\n",
       " ['templates'],\n",
       " ['erase'],\n",
       " ['tune'],\n",
       " ['templates'],\n",
       " ['files'],\n",
       " ['paragraphs'],\n",
       " ['categorize'],\n",
       " ['subjects'],\n",
       " ['paragraph'],\n",
       " ['topics'],\n",
       " ['vectors'],\n",
       " ['hello'],\n",
       " ['what'],\n",
       " ['ask'],\n",
       " ['english'],\n",
       " ['way'],\n",
       " ['frustrated'],\n",
       " ['free'],\n",
       " ['belly'],\n",
       " ['else'],\n",
       " ['predict'],\n",
       " ['costs'],\n",
       " ['simulate'],\n",
       " ['fuckload'],\n",
       " ['euros'],\n",
       " ['knowledge'],\n",
       " ['realization'],\n",
       " ['realization'],\n",
       " ['derived'],\n",
       " ['flips'],\n",
       " ['yeah'],\n",
       " ['rational'],\n",
       " ['digits'],\n",
       " ['1111111111'],\n",
       " ['digit'],\n",
       " ['1111100000'],\n",
       " ['digit'],\n",
       " ['options'],\n",
       " ['0000'],\n",
       " ['1111'],\n",
       " ['0011'],\n",
       " ['1100'],\n",
       " ['0101'],\n",
       " ['1010'],\n",
       " ['arrangement'],\n",
       " ['irrational'],\n",
       " ['digits'],\n",
       " ['geometric'],\n",
       " ['n'],\n",
       " ['amounts'],\n",
       " ['roughly'],\n",
       " ['magnitude'],\n",
       " ['alone'],\n",
       " ['continents'],\n",
       " ['latin'],\n",
       " ['africa'],\n",
       " ['indian'],\n",
       " ['asian'],\n",
       " ['arabs'],\n",
       " ['geometric'],\n",
       " ['deviation'],\n",
       " ['presumed'],\n",
       " ['deviation'],\n",
       " ['std'],\n",
       " ['mult'],\n",
       " [\"what's\"],\n",
       " ['strong'],\n",
       " ['product'],\n",
       " ['multiply'],\n",
       " ['multiply'],\n",
       " ['raise'],\n",
       " ['multiply'],\n",
       " ['fraction'],\n",
       " ['log'],\n",
       " ['surveys'],\n",
       " ['polls'],\n",
       " ['survey'],\n",
       " ['survey'],\n",
       " ['survey'],\n",
       " ['civilian'],\n",
       " ['begin'],\n",
       " ['read'],\n",
       " ['orderly'],\n",
       " ['money'],\n",
       " ['contribute'],\n",
       " ['splitting'],\n",
       " ['consume'],\n",
       " ['normalize'],\n",
       " ['requires'],\n",
       " ['corruption'],\n",
       " ['bitcoin'],\n",
       " ['distribution'],\n",
       " ['distribution'],\n",
       " ['deviation'],\n",
       " ['genie'],\n",
       " ['decays'],\n",
       " ['incline'],\n",
       " ['directly'],\n",
       " ['predict'],\n",
       " ['earns'],\n",
       " ['raw'],\n",
       " ['rare'],\n",
       " [\"let's\"],\n",
       " ['produces'],\n",
       " ['clothes'],\n",
       " ['equivalent'],\n",
       " ['dominate'],\n",
       " ['transportation'],\n",
       " ['almost'],\n",
       " ['aviv'],\n",
       " ['contest'],\n",
       " ['banks'],\n",
       " ['food'],\n",
       " ['transportation'],\n",
       " ['herd'],\n",
       " ['fermi'],\n",
       " ['magnitude'],\n",
       " ['sprung'],\n",
       " ['nuclei'],\n",
       " ['explode'],\n",
       " ['tenths'],\n",
       " ['explosions'],\n",
       " ['exploding'],\n",
       " ['millimeter'],\n",
       " ['elevations'],\n",
       " ['edges'],\n",
       " ['height'],\n",
       " ['individually'],\n",
       " ['height'],\n",
       " ['prospect'],\n",
       " ['hessian'],\n",
       " ['aliens'],\n",
       " ['voila'],\n",
       " ['puzzle'],\n",
       " ['sum'],\n",
       " ['registered'],\n",
       " ['y'],\n",
       " ['y'],\n",
       " ['x'],\n",
       " ['suppose'],\n",
       " ['y'],\n",
       " ['y'],\n",
       " ['y'],\n",
       " ['situation'],\n",
       " ['y'],\n",
       " ['i.e'],\n",
       " ['happen'],\n",
       " ['suppose'],\n",
       " ['y'],\n",
       " ['situation'],\n",
       " ['y'],\n",
       " ['exist'],\n",
       " ['happen'],\n",
       " ['extracting'],\n",
       " ['tags'],\n",
       " ['mostly'],\n",
       " ['disciplines'],\n",
       " ['hierarchy'],\n",
       " ['why'],\n",
       " ['static'],\n",
       " ['array'],\n",
       " ['filter'],\n",
       " ['edit'],\n",
       " ['quantity'],\n",
       " ['quantity'],\n",
       " ['sucker'],\n",
       " ['sucker'],\n",
       " ['sucker'],\n",
       " ['touch'],\n",
       " ['girlfriend'],\n",
       " ['way'],\n",
       " [\"let's\"],\n",
       " ['situation'],\n",
       " ['bother'],\n",
       " ['disturbing'],\n",
       " ['keeps'],\n",
       " ['girlfriends'],\n",
       " ['facing'],\n",
       " [],\n",
       " ['annoying'],\n",
       " ['go'],\n",
       " ['off'],\n",
       " ['bothers'],\n",
       " [\"she'd\"],\n",
       " ['section'],\n",
       " ['too'],\n",
       " ['decision'],\n",
       " ['decide'],\n",
       " ['expecting'],\n",
       " ['girlfriends'],\n",
       " ['no'],\n",
       " ['showing'],\n",
       " ['monogamy'],\n",
       " ['boyfriends'],\n",
       " ['goodbye'],\n",
       " ['win'],\n",
       " ['look'],\n",
       " ['see'],\n",
       " ['always'],\n",
       " ['monogamy'],\n",
       " ['simple'],\n",
       " ['perhaps'],\n",
       " ['well'],\n",
       " ['think'],\n",
       " ['cattle'],\n",
       " ['shrink'],\n",
       " ['takes'],\n",
       " ['energy'],\n",
       " ['explode'],\n",
       " ['limit'],\n",
       " ['routing'],\n",
       " ['creating'],\n",
       " ['order'],\n",
       " ['distributed'],\n",
       " ['money'],\n",
       " ['medicine'],\n",
       " ['food'],\n",
       " ['transportation'],\n",
       " ['residential'],\n",
       " ['apparel'],\n",
       " ['entertainment'],\n",
       " ['information'],\n",
       " ['subconscious'],\n",
       " ['aware'],\n",
       " ['aware'],\n",
       " ['information'],\n",
       " ['who'],\n",
       " ['place'],\n",
       " ['cause'],\n",
       " ['what'],\n",
       " ['information'],\n",
       " ['bothering'],\n",
       " ['passive'],\n",
       " [\"what's\"],\n",
       " ['good'],\n",
       " ['telling'],\n",
       " ['know'],\n",
       " ['myself'],\n",
       " ['strippers'],\n",
       " ['guides'],\n",
       " ['probably'],\n",
       " ['measure'],\n",
       " ['deliver'],\n",
       " ['stripper'],\n",
       " ['bringing'],\n",
       " ['escorts'],\n",
       " ['check'],\n",
       " ['sex'],\n",
       " ['appetite'],\n",
       " ['matters'],\n",
       " ['change'],\n",
       " ['know'],\n",
       " ['leave'],\n",
       " ['else'],\n",
       " ['projects'],\n",
       " ['manage'],\n",
       " ['moment'],\n",
       " ['scheduler'],\n",
       " ['app'],\n",
       " ['scripts'],\n",
       " ['uncomfortable'],\n",
       " ['sheets'],\n",
       " ['export'],\n",
       " ['missing'],\n",
       " ['graphic'],\n",
       " ['no'],\n",
       " ['graphic'],\n",
       " ['management'],\n",
       " ['have'],\n",
       " ['apps'],\n",
       " ['try'],\n",
       " ['ipython'],\n",
       " ['phone'],\n",
       " ['else'],\n",
       " ['more'],\n",
       " ['know'],\n",
       " ['wasting'],\n",
       " ['purpose'],\n",
       " ['freedom'],\n",
       " ['limit'],\n",
       " ['credits'],\n",
       " ['divide'],\n",
       " ['reverse'],\n",
       " ['priority'],\n",
       " ['credit'],\n",
       " ['inverse'],\n",
       " ['x'],\n",
       " ['priority'],\n",
       " ['priority'],\n",
       " ['0.333'],\n",
       " ['0.25'],\n",
       " ['credits'],\n",
       " ['maybe'],\n",
       " ['thirds'],\n",
       " ['eighth'],\n",
       " ['good'],\n",
       " [\"what's\"],\n",
       " ['independence'],\n",
       " ['accountant'],\n",
       " ['math'],\n",
       " ['supposed'],\n",
       " ['625k'],\n",
       " ['50k'],\n",
       " ['meantime'],\n",
       " ['meantime'],\n",
       " ['blues'],\n",
       " ['tax'],\n",
       " ['third'],\n",
       " ['maximize'],\n",
       " ['reality'],\n",
       " ['returns'],\n",
       " ['bottom'],\n",
       " ['buena'],\n",
       " ['else'],\n",
       " ['manage'],\n",
       " ['ingredients'],\n",
       " ['put'],\n",
       " ['spend'],\n",
       " ['tax'],\n",
       " ['savings'],\n",
       " ['reduces'],\n",
       " ['third'],\n",
       " ['ro'],\n",
       " ['yield'],\n",
       " ['bendall'],\n",
       " ['200k'],\n",
       " ['double'],\n",
       " ['3,4'],\n",
       " ['amazing'],\n",
       " ['does'],\n",
       " ['160k'],\n",
       " ['month'],\n",
       " ['duplexes'],\n",
       " ['duplexes'],\n",
       " ['earns'],\n",
       " ['free'],\n",
       " ['fun'],\n",
       " ['estate'],\n",
       " ['employment'],\n",
       " ['june'],\n",
       " ['nothing'],\n",
       " ['throw'],\n",
       " ['duplexes'],\n",
       " ['dream'],\n",
       " ['stock'],\n",
       " ['bug'],\n",
       " ['bug'],\n",
       " ['0.75'],\n",
       " ['9'],\n",
       " ['well'],\n",
       " ['invest'],\n",
       " ['worst'],\n",
       " ['estate'],\n",
       " ['great'],\n",
       " ['worth'],\n",
       " ['meantime'],\n",
       " ['interests'],\n",
       " ['want'],\n",
       " ['bot'],\n",
       " ['do'],\n",
       " ['annex'],\n",
       " ['reports'],\n",
       " ['wikipedia'],\n",
       " ['economic'],\n",
       " ['lawyer'],\n",
       " ['reports'],\n",
       " ['task'],\n",
       " ['comprehension'],\n",
       " ['text'],\n",
       " ['okay'],\n",
       " ['okay'],\n",
       " ['now'],\n",
       " ['round'],\n",
       " ['della'],\n",
       " ['need'],\n",
       " ['dinner'],\n",
       " ['critical'],\n",
       " ['right'],\n",
       " ['now'],\n",
       " ['idea'],\n",
       " ['drink'],\n",
       " ['drink'],\n",
       " ['club'],\n",
       " ['calling'],\n",
       " ['how'],\n",
       " ['why'],\n",
       " ['alone'],\n",
       " ['well'],\n",
       " ['now'],\n",
       " ['yield'],\n",
       " ['550k'],\n",
       " ['lot'],\n",
       " ['200k'],\n",
       " ['half'],\n",
       " ['doing'],\n",
       " ['know'],\n",
       " ['want'],\n",
       " ['anything'],\n",
       " ['doing'],\n",
       " ['sex'],\n",
       " ['thing'],\n",
       " ['temporary'],\n",
       " [\"isn't\"],\n",
       " ['artificial'],\n",
       " ['something'],\n",
       " ['yes'],\n",
       " ['now'],\n",
       " ['not'],\n",
       " ['soon'],\n",
       " ['sure'],\n",
       " ['how'],\n",
       " ['turing'],\n",
       " ['sure'],\n",
       " ['opposite'],\n",
       " ['turing'],\n",
       " [\"he's\"],\n",
       " ['intelligence'],\n",
       " ['can'],\n",
       " ['how'],\n",
       " ['build'],\n",
       " ['ambition'],\n",
       " ['chat'],\n",
       " ['irc'],\n",
       " ['must'],\n",
       " ['api'],\n",
       " ['signal'],\n",
       " ['reinforcement'],\n",
       " ['cut'],\n",
       " ['robot'],\n",
       " ['bush'],\n",
       " ['answer'],\n",
       " ['questions'],\n",
       " ['inside'],\n",
       " ['other'],\n",
       " ['wallach'],\n",
       " ['tango'],\n",
       " ['cancer'],\n",
       " ['stomach'],\n",
       " ['stomach'],\n",
       " ['grandparents'],\n",
       " ['kill'],\n",
       " ['spend'],\n",
       " ['agendas'],\n",
       " ['agendas'],\n",
       " ['spare'],\n",
       " ['projects'],\n",
       " ['emails'],\n",
       " ['everything'],\n",
       " ['radar'],\n",
       " ['radar'],\n",
       " ['arrangement'],\n",
       " ['clustering'],\n",
       " ['hierarchical'],\n",
       " ['cutting'],\n",
       " ['leave'],\n",
       " ['leave'],\n",
       " ['x'],\n",
       " ['x'],\n",
       " ['x'],\n",
       " ['x'],\n",
       " ['b'],\n",
       " ['b'],\n",
       " [],\n",
       " [],\n",
       " ['investments'],\n",
       " ['analyze'],\n",
       " ['do'],\n",
       " ['tasks'],\n",
       " ['recursively'],\n",
       " ['workable'],\n",
       " ['basically'],\n",
       " ['missions'],\n",
       " ['task'],\n",
       " ['example'],\n",
       " ['cleaning'],\n",
       " ['arrangement'],\n",
       " ['services'],\n",
       " ['kitchen'],\n",
       " ['bedroom'],\n",
       " ['living'],\n",
       " ['arrangement'],\n",
       " ['services'],\n",
       " ['kitchen'],\n",
       " ['bedroom'],\n",
       " ['living'],\n",
       " ['so'],\n",
       " ['dollars'],\n",
       " ['start'],\n",
       " ['work'],\n",
       " ['start'],\n",
       " [],\n",
       " ['job'],\n",
       " ['shekels'],\n",
       " ['earn'],\n",
       " ['investment'],\n",
       " ['api'],\n",
       " ['apartment'],\n",
       " ['communicate'],\n",
       " ['realtor.com'],\n",
       " ['calculation'],\n",
       " ['zillow'],\n",
       " ['zillow'],\n",
       " ['factfinder'],\n",
       " ['factfinder'],\n",
       " ['tax'],\n",
       " ['repairs'],\n",
       " ['insurance'],\n",
       " ['zillow'],\n",
       " ['agents'],\n",
       " ['bank'],\n",
       " ['cell'],\n",
       " ['specs'],\n",
       " ['looking'],\n",
       " ['monitor'],\n",
       " ['cpu'],\n",
       " ['internal'],\n",
       " ['4g'],\n",
       " ['battery'],\n",
       " ['chipset'],\n",
       " ['operating'],\n",
       " ['without'],\n",
       " ['price'],\n",
       " ['criteria'],\n",
       " ['joe'],\n",
       " ['loves'],\n",
       " ['hates'],\n",
       " ['hi'],\n",
       " ['qr'],\n",
       " ['menu'],\n",
       " ['works'],\n",
       " ['qr'],\n",
       " ['qr'],\n",
       " ['menu'],\n",
       " ['it'],\n",
       " ['customers'],\n",
       " ['waiters'],\n",
       " ['happy'],\n",
       " ['joe'],\n",
       " ['doing'],\n",
       " ['simulation'],\n",
       " ['behavior'],\n",
       " ['predictable'],\n",
       " ['simulation'],\n",
       " ['convenient'],\n",
       " ['listening'],\n",
       " ['annoying'],\n",
       " ['check'],\n",
       " ['worth'],\n",
       " ['violation'],\n",
       " ['anyway'],\n",
       " ['writing'],\n",
       " ['simulation'],\n",
       " ['compose'],\n",
       " ['ingredient'],\n",
       " ['worth'],\n",
       " ['read'],\n",
       " ['represents'],\n",
       " ['product'],\n",
       " ['imports'],\n",
       " ['50k'],\n",
       " ['100k'],\n",
       " ['rent'],\n",
       " ['insurance'],\n",
       " ['tax'],\n",
       " ['doing'],\n",
       " ['prepare'],\n",
       " ['project'],\n",
       " ['options'],\n",
       " ['khan'],\n",
       " ['nlp'],\n",
       " ['project'],\n",
       " ['failures'],\n",
       " ['else'],\n",
       " ['wait'],\n",
       " ['damn'],\n",
       " ['frickin'],\n",
       " ['advantage'],\n",
       " ['how'],\n",
       " ['want'],\n",
       " ['drugs'],\n",
       " ['else'],\n",
       " ['enjoy'],\n",
       " ['idea'],\n",
       " ['fly'],\n",
       " ['tell'],\n",
       " ['6'],\n",
       " ['goes'],\n",
       " ['5'],\n",
       " ['transcription'],\n",
       " ['doing'],\n",
       " [\"i'd\"],\n",
       " ['stolen'],\n",
       " ['else'],\n",
       " ['want'],\n",
       " ['happen'],\n",
       " ['stick'],\n",
       " ['bank'],\n",
       " ['work'],\n",
       " ['comes'],\n",
       " ['suppose'],\n",
       " ['do'],\n",
       " ['travel'],\n",
       " ['electronic'],\n",
       " ['politics'],\n",
       " [],\n",
       " ['amazing'],\n",
       " ['learning'],\n",
       " ['else'],\n",
       " ['play'],\n",
       " ['nonsense'],\n",
       " ['replace'],\n",
       " ['gitlab'],\n",
       " ['gitlab'],\n",
       " ['else'],\n",
       " ['doing'],\n",
       " ['dinner'],\n",
       " ['drank'],\n",
       " ['waste'],\n",
       " ['gravity'],\n",
       " ['quantity'],\n",
       " ['players'],\n",
       " ['giving'],\n",
       " ['goal'],\n",
       " ['yourself'],\n",
       " ['give'],\n",
       " ['everyone'],\n",
       " ['investing'],\n",
       " ['weak'],\n",
       " ['supporting'],\n",
       " ['vector'],\n",
       " ['rank'],\n",
       " ['everyone'],\n",
       " ['players'],\n",
       " ['matrix'],\n",
       " ['maximize'],\n",
       " ['rank'],\n",
       " ['vector'],\n",
       " ['two'],\n",
       " ['av'],\n",
       " ['v1'],\n",
       " ['v1'],\n",
       " ['v1'],\n",
       " ['v1'],\n",
       " ['v1'],\n",
       " ['a12'],\n",
       " ['a12'],\n",
       " ['a12'],\n",
       " ['invest'],\n",
       " ['assurance'],\n",
       " ['gift'],\n",
       " ['giving'],\n",
       " ['a'],\n",
       " ['power'],\n",
       " ['why'],\n",
       " ['promise'],\n",
       " ['working'],\n",
       " ['maybe'],\n",
       " ['bothers'],\n",
       " ['socially'],\n",
       " ['love'],\n",
       " ['crow'],\n",
       " ['itzik'],\n",
       " ['handle'],\n",
       " ['meantime'],\n",
       " ['shauna'],\n",
       " [\"she's\"],\n",
       " ['strength'],\n",
       " ['specific'],\n",
       " ['created'],\n",
       " ['attracted'],\n",
       " ['raised'],\n",
       " ['replace'],\n",
       " ['sivan'],\n",
       " ['devastating'],\n",
       " ['pregnancy'],\n",
       " ['else'],\n",
       " ['isaac'],\n",
       " ['stolen'],\n",
       " ['monogamy'],\n",
       " ['do'],\n",
       " ['strippers'],\n",
       " ['know'],\n",
       " ['helps'],\n",
       " ['mvp'],\n",
       " ['predictions'],\n",
       " ['improvements'],\n",
       " ['else'],\n",
       " [\"how's\"],\n",
       " [],\n",
       " ['die'],\n",
       " ['why'],\n",
       " ['bastards'],\n",
       " ['stinky'],\n",
       " ['feels'],\n",
       " ['shit'],\n",
       " ['suffering'],\n",
       " ['depression'],\n",
       " ['do'],\n",
       " ['meditation'],\n",
       " ['shauna'],\n",
       " ['get'],\n",
       " ['inflation'],\n",
       " ['inflation'],\n",
       " ['8'],\n",
       " ['lowering'],\n",
       " ['inflation'],\n",
       " ['inflation'],\n",
       " ['17'],\n",
       " ...]"
      ]
     },
     "execution_count": 372,
     "metadata": {},
     "output_type": "execute_result"
    }
   ],
   "source": [
    "list(map(lambda x: get_top_words(tokenize(x, lang='en'), top=1), en_sents))"
   ]
  },
  {
   "cell_type": "code",
   "execution_count": 374,
   "metadata": {},
   "outputs": [],
   "source": [
    "sents_df = pd.DataFrame(en_sents)"
   ]
  },
  {
   "cell_type": "code",
   "execution_count": 382,
   "metadata": {},
   "outputs": [
    {
     "data": {
      "text/plain": [
       "'Connections between concepts'"
      ]
     },
     "execution_count": 382,
     "metadata": {},
     "output_type": "execute_result"
    }
   ],
   "source": [
    "sents_df.iloc[1][0]"
   ]
  },
  {
   "cell_type": "code",
   "execution_count": 388,
   "metadata": {},
   "outputs": [],
   "source": [
    "sents_df['tfidf'] = sents_df.apply(lambda x: get_top_words(tokenize(x[0], lang='en'), top=1)[0] if x[0] else None, axis=1)"
   ]
  },
  {
   "cell_type": "code",
   "execution_count": 608,
   "metadata": {},
   "outputs": [
    {
     "data": {
      "text/html": [
       "<div>\n",
       "<table border=\"1\" class=\"dataframe\">\n",
       "  <thead>\n",
       "    <tr style=\"text-align: right;\">\n",
       "      <th></th>\n",
       "      <th>0</th>\n",
       "      <th>tfidf</th>\n",
       "    </tr>\n",
       "  </thead>\n",
       "  <tbody>\n",
       "    <tr>\n",
       "      <th>3567</th>\n",
       "      <td>I went out for a walk.</td>\n",
       "      <td>walk</td>\n",
       "    </tr>\n",
       "    <tr>\n",
       "      <th>3176</th>\n",
       "      <td>Don't know</td>\n",
       "      <td>know</td>\n",
       "    </tr>\n",
       "    <tr>\n",
       "      <th>2858</th>\n",
       "      <td>Girlfriend - various 5G = 1%</td>\n",
       "      <td>5g</td>\n",
       "    </tr>\n",
       "    <tr>\n",
       "      <th>2089</th>\n",
       "      <td>I guess there isn’t but stuff can be voted, ac...</td>\n",
       "      <td>morals</td>\n",
       "    </tr>\n",
       "    <tr>\n",
       "      <th>3026</th>\n",
       "      <td>And he didn't realize that this is not glasses...</td>\n",
       "      <td>curves</td>\n",
       "    </tr>\n",
       "    <tr>\n",
       "      <th>2125</th>\n",
       "      <td>All these things exist. the desire to know.</td>\n",
       "      <td>desire</td>\n",
       "    </tr>\n",
       "    <tr>\n",
       "      <th>2638</th>\n",
       "      <td>But I can't do anything there, because if it w...</td>\n",
       "      <td>iphone</td>\n",
       "    </tr>\n",
       "    <tr>\n",
       "      <th>4907</th>\n",
       "      <td>What can I do</td>\n",
       "      <td>do</td>\n",
       "    </tr>\n",
       "    <tr>\n",
       "      <th>2826</th>\n",
       "      <td>Construction and housing 2G</td>\n",
       "      <td>2g</td>\n",
       "    </tr>\n",
       "    <tr>\n",
       "      <th>3301</th>\n",
       "      <td>I still don't know exactly how to manage tasks.</td>\n",
       "      <td>tasks</td>\n",
       "    </tr>\n",
       "  </tbody>\n",
       "</table>\n",
       "</div>"
      ],
      "text/plain": [
       "                                                      0   tfidf\n",
       "3567                             I went out for a walk.    walk\n",
       "3176                                         Don't know    know\n",
       "2858                       Girlfriend - various 5G = 1%      5g\n",
       "2089  I guess there isn’t but stuff can be voted, ac...  morals\n",
       "3026  And he didn't realize that this is not glasses...  curves\n",
       "2125        All these things exist. the desire to know.  desire\n",
       "2638  But I can't do anything there, because if it w...  iphone\n",
       "4907                                      What can I do      do\n",
       "2826                        Construction and housing 2G      2g\n",
       "3301    I still don't know exactly how to manage tasks.   tasks"
      ]
     },
     "execution_count": 608,
     "metadata": {},
     "output_type": "execute_result"
    }
   ],
   "source": [
    "sents_df.sample(10)"
   ]
  },
  {
   "cell_type": "code",
   "execution_count": 617,
   "metadata": {},
   "outputs": [],
   "source": [
    "sents_df = sents_df.rename_axis({0:'sent'}, axis=1)"
   ]
  },
  {
   "cell_type": "code",
   "execution_count": 610,
   "metadata": {},
   "outputs": [],
   "source": [
    "sent_vec_df = sent_df"
   ]
  },
  {
   "cell_type": "code",
   "execution_count": 392,
   "metadata": {},
   "outputs": [],
   "source": [
    "import gensim.downloader as api"
   ]
  },
  {
   "cell_type": "code",
   "execution_count": 409,
   "metadata": {},
   "outputs": [
    {
     "name": "stdout",
     "output_type": "stream",
     "text": [
      "[=================================================-] 100.0% 958.4/958.4MB downloaded\n"
     ]
    }
   ],
   "source": [
    "model = api.load(\"fasttext-wiki-news-subwords-300\")"
   ]
  },
  {
   "cell_type": "code",
   "execution_count": 415,
   "metadata": {},
   "outputs": [
    {
     "name": "stderr",
     "output_type": "stream",
     "text": [
      "/Library/Frameworks/Python.framework/Versions/3.6/lib/python3.6/site-packages/gensim/matutils.py:737: FutureWarning: Conversion of the second argument of issubdtype from `int` to `np.signedinteger` is deprecated. In future, it will be treated as `np.int64 == np.dtype(int).type`.\n",
      "  if np.issubdtype(vec.dtype, np.int):\n"
     ]
    },
    {
     "data": {
      "text/plain": [
       "0.49516016244888306"
      ]
     },
     "execution_count": 415,
     "metadata": {},
     "output_type": "execute_result"
    }
   ],
   "source": [
    "model.distance(w1='quantum', w2='algorithmic')"
   ]
  },
  {
   "cell_type": "code",
   "execution_count": 398,
   "metadata": {},
   "outputs": [],
   "source": [
    "\n",
    "info = api.info()"
   ]
  },
  {
   "cell_type": "code",
   "execution_count": 1139,
   "metadata": {},
   "outputs": [
    {
     "data": {
      "text/plain": [
       "{'base_dataset': 'Wikipedia 2014 + Gigaword 5 (6B tokens, uncased)',\n",
       " 'checksum': '40ec481866001177b8cd4cb0df92924f',\n",
       " 'description': 'Pre-trained vectors based on Wikipedia 2014 + Gigaword 5.6B tokens, 400K vocab, uncased (https://nlp.stanford.edu/projects/glove/).',\n",
       " 'file_name': 'glove-wiki-gigaword-100.gz',\n",
       " 'file_size': 134300434,\n",
       " 'license': 'http://opendatacommons.org/licenses/pddl/',\n",
       " 'num_records': 400000,\n",
       " 'parameters': {'dimension': 100},\n",
       " 'parts': 1,\n",
       " 'preprocessing': 'Converted to w2v format with `python -m gensim.scripts.glove2word2vec -i <fname> -o glove-wiki-gigaword-100.txt`.',\n",
       " 'read_more': ['https://nlp.stanford.edu/projects/glove/',\n",
       "  'https://nlp.stanford.edu/pubs/glove.pdf'],\n",
       " 'reader_code': 'https://github.com/RaRe-Technologies/gensim-data/releases/download/glove-wiki-gigaword-100/__init__.py'}"
      ]
     },
     "execution_count": 1139,
     "metadata": {},
     "output_type": "execute_result"
    }
   ],
   "source": [
    "info['models']['glove-wiki-gigaword-100']"
   ]
  },
  {
   "cell_type": "code",
   "execution_count": 408,
   "metadata": {},
   "outputs": [
    {
     "data": {
      "text/plain": [
       "{'base_dataset': 'Wikipedia 2017, UMBC webbase corpus and statmt.org news dataset (16B tokens)',\n",
       " 'checksum': 'de2bb3a20c46ce65c9c131e1ad9a77af',\n",
       " 'description': '1 million word vectors trained on Wikipedia 2017, UMBC webbase corpus and statmt.org news dataset (16B tokens).',\n",
       " 'file_name': 'fasttext-wiki-news-subwords-300.gz',\n",
       " 'file_size': 1005007116,\n",
       " 'license': 'https://creativecommons.org/licenses/by-sa/3.0/',\n",
       " 'num_records': 999999,\n",
       " 'parameters': {'dimension': 300},\n",
       " 'parts': 1,\n",
       " 'read_more': ['https://fasttext.cc/docs/en/english-vectors.html',\n",
       "  'https://arxiv.org/abs/1712.09405',\n",
       "  'https://arxiv.org/abs/1607.01759'],\n",
       " 'reader_code': 'https://github.com/RaRe-Technologies/gensim-data/releases/download/fasttext-wiki-news-subwords-300/__init__.py'}"
      ]
     },
     "execution_count": 408,
     "metadata": {},
     "output_type": "execute_result"
    }
   ],
   "source": [
    "info['models']['fasttext-wiki-news-subwords-300']"
   ]
  },
  {
   "cell_type": "code",
   "execution_count": 450,
   "metadata": {},
   "outputs": [
    {
     "name": "stderr",
     "output_type": "stream",
     "text": [
      "/Library/Frameworks/Python.framework/Versions/3.6/lib/python3.6/site-packages/ipykernel_launcher.py:1: DeprecationWarning: Call to deprecated `wv` (Attribute will be removed in 4.0.0, use self instead).\n",
      "  \"\"\"Entry point for launching an IPython kernel.\n"
     ]
    }
   ],
   "source": [
    "w2v_df = sents_df['tfidf'].apply(lambda x: pd.Series(model.wv[x]) if x in model.wv else pd.Series(model.wv['.']))"
   ]
  },
  {
   "cell_type": "code",
   "execution_count": 448,
   "metadata": {},
   "outputs": [
    {
     "data": {
      "text/plain": [
       "numpy.float32"
      ]
     },
     "execution_count": 448,
     "metadata": {},
     "output_type": "execute_result"
    }
   ],
   "source": [
    "type(word_vecs[0][0])"
   ]
  },
  {
   "cell_type": "code",
   "execution_count": null,
   "metadata": {},
   "outputs": [],
   "source": [
    "words = [word for text in en_sents for word in tokenize(text, 'en')]"
   ]
  },
  {
   "cell_type": "code",
   "execution_count": null,
   "metadata": {},
   "outputs": [],
   "source": [
    "count_df = get_tfidf(en_sents)"
   ]
  },
  {
   "cell_type": "code",
   "execution_count": 602,
   "metadata": {},
   "outputs": [
    {
     "name": "stderr",
     "output_type": "stream",
     "text": [
      "/Library/Frameworks/Python.framework/Versions/3.6/lib/python3.6/site-packages/ipykernel_launcher.py:1: FutureWarning: sort(columns=....) is deprecated, use sort_values(by=.....)\n",
      "  \"\"\"Entry point for launching an IPython kernel.\n",
      "/Library/Frameworks/Python.framework/Versions/3.6/lib/python3.6/site-packages/ipykernel_launcher.py:1: UserWarning: Boolean Series key will be reindexed to match DataFrame index.\n",
      "  \"\"\"Entry point for launching an IPython kernel.\n"
     ]
    }
   ],
   "source": [
    "count_df.sort('tfiedf', ascending=False)[count_df['count']>1].to_csv('data/tfidf.csv')"
   ]
  },
  {
   "cell_type": "code",
   "execution_count": null,
   "metadata": {},
   "outputs": [],
   "source": []
  },
  {
   "cell_type": "code",
   "execution_count": 585,
   "metadata": {},
   "outputs": [
    {
     "name": "stdout",
     "output_type": "stream",
     "text": [
      "What's most bothering me. I guess this is Shauna...\n",
      "I would go back home to take a shit, but Shauna might be there.\n",
      "2 million so that Shauna won't have to work\n",
      "Shauna: how much toast do you want?\n",
      "Shauna: how much toast do you want?\n",
      "Shauna: how many pieces of toast you רוצההההההההההההה?\n",
      "Shauna: yes it is.\n",
      "Shauna: *shakes her head*\n",
      "Shauna: *points at Jordan*\n",
      "Shauna: *licking a knife in sensuality and you look looking buying.*\n",
      "Shauna: *starts to deep throat with the knife.*\n",
      "What do I do now when I'm with Shauna\n",
      "I beat Shauna argument:\n",
      "Until ~ten I ate dinner and saw a show with Shauna\n",
      "Can I use it with Shauna?\n",
      "I'm afraid of having kids, and Shauna nervous about it.\n"
     ]
    }
   ],
   "source": [
    "for text in en_sents:\n",
    "    if 'shauna' in tokenize(text, 'en'):\n",
    "        print(text)"
   ]
  },
  {
   "cell_type": "code",
   "execution_count": 922,
   "metadata": {},
   "outputs": [
    {
     "ename": "ValueError",
     "evalue": "columns overlap but no suffix specified: Index(['he_sent', 'fname'], dtype='object')",
     "output_type": "error",
     "traceback": [
      "\u001b[0;31m---------------------------------------------------------------------------\u001b[0m",
      "\u001b[0;31mValueError\u001b[0m                                Traceback (most recent call last)",
      "\u001b[0;32m<ipython-input-922-cd3035849103>\u001b[0m in \u001b[0;36m<module>\u001b[0;34m()\u001b[0m\n\u001b[0;32m----> 1\u001b[0;31m \u001b[0msents_df\u001b[0m \u001b[0;34m=\u001b[0m \u001b[0msents_df\u001b[0m\u001b[0;34m.\u001b[0m\u001b[0mjoin\u001b[0m\u001b[0;34m(\u001b[0m\u001b[0mpd\u001b[0m\u001b[0;34m.\u001b[0m\u001b[0mDataFrame\u001b[0m\u001b[0;34m(\u001b[0m\u001b[0;34m[\u001b[0m\u001b[0;34m[\u001b[0m\u001b[0mvi\u001b[0m\u001b[0;34m,\u001b[0m \u001b[0mk\u001b[0m\u001b[0;34m]\u001b[0m \u001b[0;32mfor\u001b[0m \u001b[0mk\u001b[0m\u001b[0;34m,\u001b[0m\u001b[0mv\u001b[0m \u001b[0;32min\u001b[0m \u001b[0mtext_dict\u001b[0m\u001b[0;34m.\u001b[0m\u001b[0mitems\u001b[0m\u001b[0;34m(\u001b[0m\u001b[0;34m)\u001b[0m \u001b[0;32mfor\u001b[0m \u001b[0mvi\u001b[0m \u001b[0;32min\u001b[0m \u001b[0mv\u001b[0m\u001b[0;34m]\u001b[0m\u001b[0;34m,\u001b[0m \u001b[0mcolumns\u001b[0m\u001b[0;34m=\u001b[0m\u001b[0;34m[\u001b[0m\u001b[0;34m'he_sent'\u001b[0m\u001b[0;34m,\u001b[0m \u001b[0;34m'fname'\u001b[0m\u001b[0;34m]\u001b[0m\u001b[0;34m)\u001b[0m\u001b[0;34m)\u001b[0m\u001b[0;34m\u001b[0m\u001b[0m\n\u001b[0m",
      "\u001b[0;32m/Library/Frameworks/Python.framework/Versions/3.6/lib/python3.6/site-packages/pandas/core/frame.py\u001b[0m in \u001b[0;36mjoin\u001b[0;34m(self, other, on, how, lsuffix, rsuffix, sort)\u001b[0m\n\u001b[1;32m   4553\u001b[0m         \u001b[0;31m# For SparseDataFrame's benefit\u001b[0m\u001b[0;34m\u001b[0m\u001b[0;34m\u001b[0m\u001b[0m\n\u001b[1;32m   4554\u001b[0m         return self._join_compat(other, on=on, how=how, lsuffix=lsuffix,\n\u001b[0;32m-> 4555\u001b[0;31m                                  rsuffix=rsuffix, sort=sort)\n\u001b[0m\u001b[1;32m   4556\u001b[0m \u001b[0;34m\u001b[0m\u001b[0m\n\u001b[1;32m   4557\u001b[0m     def _join_compat(self, other, on=None, how='left', lsuffix='', rsuffix='',\n",
      "\u001b[0;32m/Library/Frameworks/Python.framework/Versions/3.6/lib/python3.6/site-packages/pandas/core/frame.py\u001b[0m in \u001b[0;36m_join_compat\u001b[0;34m(self, other, on, how, lsuffix, rsuffix, sort)\u001b[0m\n\u001b[1;32m   4567\u001b[0m             return merge(self, other, left_on=on, how=how,\n\u001b[1;32m   4568\u001b[0m                          \u001b[0mleft_index\u001b[0m\u001b[0;34m=\u001b[0m\u001b[0mon\u001b[0m \u001b[0;32mis\u001b[0m \u001b[0;32mNone\u001b[0m\u001b[0;34m,\u001b[0m \u001b[0mright_index\u001b[0m\u001b[0;34m=\u001b[0m\u001b[0;32mTrue\u001b[0m\u001b[0;34m,\u001b[0m\u001b[0;34m\u001b[0m\u001b[0m\n\u001b[0;32m-> 4569\u001b[0;31m                          suffixes=(lsuffix, rsuffix), sort=sort)\n\u001b[0m\u001b[1;32m   4570\u001b[0m         \u001b[0;32melse\u001b[0m\u001b[0;34m:\u001b[0m\u001b[0;34m\u001b[0m\u001b[0m\n\u001b[1;32m   4571\u001b[0m             \u001b[0;32mif\u001b[0m \u001b[0mon\u001b[0m \u001b[0;32mis\u001b[0m \u001b[0;32mnot\u001b[0m \u001b[0;32mNone\u001b[0m\u001b[0;34m:\u001b[0m\u001b[0;34m\u001b[0m\u001b[0m\n",
      "\u001b[0;32m/Library/Frameworks/Python.framework/Versions/3.6/lib/python3.6/site-packages/pandas/tools/merge.py\u001b[0m in \u001b[0;36mmerge\u001b[0;34m(left, right, how, on, left_on, right_on, left_index, right_index, sort, suffixes, copy, indicator)\u001b[0m\n\u001b[1;32m     60\u001b[0m                          \u001b[0mright_index\u001b[0m\u001b[0;34m=\u001b[0m\u001b[0mright_index\u001b[0m\u001b[0;34m,\u001b[0m \u001b[0msort\u001b[0m\u001b[0;34m=\u001b[0m\u001b[0msort\u001b[0m\u001b[0;34m,\u001b[0m \u001b[0msuffixes\u001b[0m\u001b[0;34m=\u001b[0m\u001b[0msuffixes\u001b[0m\u001b[0;34m,\u001b[0m\u001b[0;34m\u001b[0m\u001b[0m\n\u001b[1;32m     61\u001b[0m                          copy=copy, indicator=indicator)\n\u001b[0;32m---> 62\u001b[0;31m     \u001b[0;32mreturn\u001b[0m \u001b[0mop\u001b[0m\u001b[0;34m.\u001b[0m\u001b[0mget_result\u001b[0m\u001b[0;34m(\u001b[0m\u001b[0;34m)\u001b[0m\u001b[0;34m\u001b[0m\u001b[0m\n\u001b[0m\u001b[1;32m     63\u001b[0m \u001b[0;32mif\u001b[0m \u001b[0m__debug__\u001b[0m\u001b[0;34m:\u001b[0m\u001b[0;34m\u001b[0m\u001b[0m\n\u001b[1;32m     64\u001b[0m     \u001b[0mmerge\u001b[0m\u001b[0;34m.\u001b[0m\u001b[0m__doc__\u001b[0m \u001b[0;34m=\u001b[0m \u001b[0m_merge_doc\u001b[0m \u001b[0;34m%\u001b[0m \u001b[0;34m'\\nleft : DataFrame'\u001b[0m\u001b[0;34m\u001b[0m\u001b[0m\n",
      "\u001b[0;32m/Library/Frameworks/Python.framework/Versions/3.6/lib/python3.6/site-packages/pandas/tools/merge.py\u001b[0m in \u001b[0;36mget_result\u001b[0;34m(self)\u001b[0m\n\u001b[1;32m    554\u001b[0m \u001b[0;34m\u001b[0m\u001b[0m\n\u001b[1;32m    555\u001b[0m         llabels, rlabels = items_overlap_with_suffix(ldata.items, lsuf,\n\u001b[0;32m--> 556\u001b[0;31m                                                      rdata.items, rsuf)\n\u001b[0m\u001b[1;32m    557\u001b[0m \u001b[0;34m\u001b[0m\u001b[0m\n\u001b[1;32m    558\u001b[0m         \u001b[0mlindexers\u001b[0m \u001b[0;34m=\u001b[0m \u001b[0;34m{\u001b[0m\u001b[0;36m1\u001b[0m\u001b[0;34m:\u001b[0m \u001b[0mleft_indexer\u001b[0m\u001b[0;34m}\u001b[0m \u001b[0;32mif\u001b[0m \u001b[0mleft_indexer\u001b[0m \u001b[0;32mis\u001b[0m \u001b[0;32mnot\u001b[0m \u001b[0;32mNone\u001b[0m \u001b[0;32melse\u001b[0m \u001b[0;34m{\u001b[0m\u001b[0;34m}\u001b[0m\u001b[0;34m\u001b[0m\u001b[0m\n",
      "\u001b[0;32m/Library/Frameworks/Python.framework/Versions/3.6/lib/python3.6/site-packages/pandas/core/internals.py\u001b[0m in \u001b[0;36mitems_overlap_with_suffix\u001b[0;34m(left, lsuffix, right, rsuffix)\u001b[0m\n\u001b[1;32m   4697\u001b[0m         \u001b[0;32mif\u001b[0m \u001b[0;32mnot\u001b[0m \u001b[0mlsuffix\u001b[0m \u001b[0;32mand\u001b[0m \u001b[0;32mnot\u001b[0m \u001b[0mrsuffix\u001b[0m\u001b[0;34m:\u001b[0m\u001b[0;34m\u001b[0m\u001b[0m\n\u001b[1;32m   4698\u001b[0m             raise ValueError('columns overlap but no suffix specified: %s' %\n\u001b[0;32m-> 4699\u001b[0;31m                              to_rename)\n\u001b[0m\u001b[1;32m   4700\u001b[0m \u001b[0;34m\u001b[0m\u001b[0m\n\u001b[1;32m   4701\u001b[0m         \u001b[0;32mdef\u001b[0m \u001b[0mlrenamer\u001b[0m\u001b[0;34m(\u001b[0m\u001b[0mx\u001b[0m\u001b[0;34m)\u001b[0m\u001b[0;34m:\u001b[0m\u001b[0;34m\u001b[0m\u001b[0m\n",
      "\u001b[0;31mValueError\u001b[0m: columns overlap but no suffix specified: Index(['he_sent', 'fname'], dtype='object')"
     ]
    }
   ],
   "source": [
    "sents_df = sents_df.join(pd.DataFrame([[vi, k] for k,v in text_dict.items() for vi in v], columns=['he_sent', 'fname']))"
   ]
  },
  {
   "cell_type": "code",
   "execution_count": 914,
   "metadata": {},
   "outputs": [],
   "source": [
    "word_dict = pd.read_csv('data/thoughts words - tfidf.csv', index_col=0, usecols=['word','Topic']).dropna().to_dict()['Topic']"
   ]
  },
  {
   "cell_type": "code",
   "execution_count": 913,
   "metadata": {},
   "outputs": [
    {
     "data": {
      "text/plain": [
       "{'0.5h': 'project management',\n",
       " '1000w': 'physics',\n",
       " '100k': 'money',\n",
       " '10k': 'money',\n",
       " '10kwh': 'physics',\n",
       " '160k': 'money',\n",
       " '200k': 'money',\n",
       " '20k': 'money',\n",
       " '300k': 'money',\n",
       " '30k': 'money',\n",
       " '36k': 'money',\n",
       " '401k': 'money',\n",
       " '48k': 'money',\n",
       " '50k': 'money',\n",
       " '7k': 'money',\n",
       " '9k': 'money',\n",
       " 'adrenaline': 'biology',\n",
       " 'apartment': 'real estate',\n",
       " 'apartments': 'real estate',\n",
       " 'api': 'code',\n",
       " 'apps': 'code',\n",
       " 'arabs': 'politics',\n",
       " 'artificial': 'ml',\n",
       " 'asana': 'project management',\n",
       " 'bananas': 'food',\n",
       " 'bedroom': 'real estate',\n",
       " 'bitches': 'hobby',\n",
       " 'blender': 'art',\n",
       " 'bonobo': 'biology',\n",
       " 'bookmarks': 'project management',\n",
       " 'bot': 'ml',\n",
       " 'bots': 'ml',\n",
       " 'brain': 'biology',\n",
       " 'bucks': 'money',\n",
       " 'buffett': 'money',\n",
       " 'bug': 'code',\n",
       " 'calorie': 'food',\n",
       " 'calories': 'food',\n",
       " 'capitalism': 'sociology',\n",
       " 'carbon': 'biology',\n",
       " 'chimp': 'biology',\n",
       " 'civilization': 'sociology',\n",
       " 'cocain': 'hobby',\n",
       " 'code': 'code',\n",
       " 'collision': 'physics',\n",
       " 'communism': 'sociology',\n",
       " 'computation': 'code',\n",
       " 'consciousness': 'biology',\n",
       " 'consumption': 'sociology',\n",
       " 'correlation': 'statistics',\n",
       " 'cortex': 'biology',\n",
       " 'culture': 'sociology',\n",
       " 'democracy': 'sociology',\n",
       " 'democrat': 'sociology',\n",
       " 'dependency': 'nlp',\n",
       " 'derivative': 'math',\n",
       " 'deviation': 'statistics',\n",
       " 'distribution': 'statistics',\n",
       " 'divide': 'math',\n",
       " 'dividing': 'math',\n",
       " 'dollars': 'money',\n",
       " 'dopamine': 'biology',\n",
       " 'duplexes': 'real estate',\n",
       " 'earn': 'money',\n",
       " 'earns': 'money',\n",
       " 'eat': 'food',\n",
       " 'economics': 'sociology',\n",
       " 'emails': 'project management',\n",
       " 'energy': 'physics',\n",
       " 'entertainment': 'hobby',\n",
       " 'entropy': 'physics',\n",
       " 'equations': 'math',\n",
       " 'escort': 'hobby',\n",
       " 'estate': 'real estate',\n",
       " 'evolutionary': 'biology',\n",
       " 'facebook': 'hobby',\n",
       " 'financial': 'money',\n",
       " 'fractal': 'math',\n",
       " 'freelance': 'code',\n",
       " 'gaussian': 'statistics',\n",
       " 'gdp': 'money',\n",
       " 'genes': 'biology',\n",
       " 'gestalt': 'sociology',\n",
       " 'gitlab': 'code',\n",
       " 'groceries': 'food',\n",
       " 'hamas': 'politics',\n",
       " 'hebrew': 'nlp',\n",
       " 'hippocampus': 'biology',\n",
       " 'hobby': 'hobby',\n",
       " 'horny': 'hobby',\n",
       " 'housing': 'real estate',\n",
       " 'hydrogen': 'biology',\n",
       " 'hydrophobic': 'biology',\n",
       " 'ide': 'code',\n",
       " 'income': 'money',\n",
       " 'induction': 'math',\n",
       " 'inertia': 'physics',\n",
       " 'infinity': 'math',\n",
       " 'inflation': 'money',\n",
       " 'invest': 'money',\n",
       " 'invested': 'money',\n",
       " 'investing': 'money',\n",
       " 'investment': 'money',\n",
       " 'investments': 'money',\n",
       " 'israel': 'politics',\n",
       " 'israeli': 'politics',\n",
       " 'javascript': 'code',\n",
       " 'jerusalem': 'politics',\n",
       " 'jira': 'project management',\n",
       " 'joule': 'physics',\n",
       " 'joules': 'physics',\n",
       " 'kaggle': 'ml',\n",
       " 'kph': 'physics',\n",
       " 'kwh': 'physics',\n",
       " 'language': 'nlp',\n",
       " 'laser': 'physics',\n",
       " 'lasers': 'physics',\n",
       " 'loan': 'money',\n",
       " 'machine': 'ml',\n",
       " 'machines': 'ml',\n",
       " 'mails': 'project management',\n",
       " 'management': 'project management',\n",
       " 'maslow': 'sociology',\n",
       " 'math': 'math',\n",
       " 'meditation': 'hobby',\n",
       " 'metabolism': 'biology',\n",
       " 'meters': 'physics',\n",
       " 'millionaire': 'money',\n",
       " 'mint': 'money',\n",
       " 'money': 'money',\n",
       " 'monkey': 'biology',\n",
       " 'monkeys': 'biology',\n",
       " 'monogamy': 'sociology',\n",
       " 'multiply': 'math',\n",
       " 'mutation': 'biology',\n",
       " 'neuron': 'biology',\n",
       " 'nitrogen': 'biology',\n",
       " 'noun': 'nlp',\n",
       " 'oecd': 'sociology',\n",
       " 'organs': 'biology',\n",
       " 'overflow': 'code',\n",
       " 'palestinian': 'politics',\n",
       " 'palestinians': 'politics',\n",
       " 'paradox': 'logic',\n",
       " 'paragraphs': 'nlp',\n",
       " 'particles': 'physics',\n",
       " 'pays': 'money',\n",
       " 'pension': 'money',\n",
       " 'photoshop': 'art',\n",
       " 'physics': 'physics',\n",
       " 'politics': 'politics',\n",
       " 'priority': 'project management',\n",
       " 'probability': 'statistics',\n",
       " 'programmable': 'code',\n",
       " 'programming': 'code',\n",
       " 'project': 'project management',\n",
       " 'projects': 'project management',\n",
       " 'properties': 'real estate',\n",
       " 'python': 'code',\n",
       " 'qr': 'startup',\n",
       " 'quantum': 'physics',\n",
       " 'radar': 'project management',\n",
       " 'random': 'statistics',\n",
       " 'randomness': 'statistics',\n",
       " 'realtor.com': 'real estate',\n",
       " 'realty': 'real estate',\n",
       " 'receipts': 'food',\n",
       " 'rent': 'real estate',\n",
       " 'reproduction': 'biology',\n",
       " 'retire': 'money',\n",
       " 'retiring': 'money',\n",
       " 'robot': 'ml',\n",
       " 'rsu': 'money',\n",
       " 'salary': 'money',\n",
       " 'sausage': 'food',\n",
       " 'scheduler': 'project management',\n",
       " 'selfish': 'sociology',\n",
       " 'senses': 'biology',\n",
       " 'sentences': 'nlp',\n",
       " 'shauna': 'Shiran',\n",
       " 'shekels': 'money',\n",
       " 'singularity': 'sociology',\n",
       " 'skeleton': 'biology',\n",
       " 'startup': 'startup',\n",
       " 'std': 'math',\n",
       " 'stock': 'money',\n",
       " 'stocks': 'money',\n",
       " 'stripper': 'hobby',\n",
       " 'strippers': 'hobby',\n",
       " 'syllables': 'nlp',\n",
       " 'tasks': 'project management',\n",
       " 'tax': 'money',\n",
       " 'taxes': 'money',\n",
       " 'toast': 'food',\n",
       " 'todo': 'project management',\n",
       " 'trac': 'project management',\n",
       " 'transcription': 'nlp',\n",
       " 'transportation': 'sociology',\n",
       " 'turing': 'nlp',\n",
       " 'vacancy': 'real estate',\n",
       " 'verbs': 'nlp',\n",
       " 'volumetric': 'physics',\n",
       " 'words': 'nlp',\n",
       " 'yield': 'money',\n",
       " 'zillow': 'real estate',\n",
       " 'zipline': 'money'}"
      ]
     },
     "execution_count": 913,
     "metadata": {},
     "output_type": "execute_result"
    }
   ],
   "source": [
    "word_dict"
   ]
  },
  {
   "cell_type": "code",
   "execution_count": 927,
   "metadata": {},
   "outputs": [],
   "source": [
    "word_dict = word_df['nn'][word_df['nn']!='7k'].to_dict()"
   ]
  },
  {
   "cell_type": "code",
   "execution_count": 928,
   "metadata": {},
   "outputs": [],
   "source": [
    "sents_df['words'] = sents_df.apply(lambda x: [word_dict[word] for word in set(tokenize(x['sent'], 'en')).intersection(word_dict.keys())], axis=1)"
   ]
  },
  {
   "cell_type": "code",
   "execution_count": 929,
   "metadata": {},
   "outputs": [
    {
     "data": {
      "text/html": [
       "<div>\n",
       "<table border=\"1\" class=\"dataframe\">\n",
       "  <thead>\n",
       "    <tr style=\"text-align: right;\">\n",
       "      <th></th>\n",
       "      <th>sent</th>\n",
       "      <th>tfidf</th>\n",
       "      <th>words</th>\n",
       "      <th>he_sent</th>\n",
       "      <th>fname</th>\n",
       "    </tr>\n",
       "  </thead>\n",
       "  <tbody>\n",
       "    <tr>\n",
       "      <th>0</th>\n",
       "      <td>Concepts</td>\n",
       "      <td>concepts</td>\n",
       "      <td>[]</td>\n",
       "      <td>מושגים</td>\n",
       "      <td>איך ללמוד.docx</td>\n",
       "    </tr>\n",
       "    <tr>\n",
       "      <th>1</th>\n",
       "      <td>Connections between concepts</td>\n",
       "      <td>concepts</td>\n",
       "      <td>[]</td>\n",
       "      <td>קשרים בין מושגים</td>\n",
       "      <td>איך ללמוד.docx</td>\n",
       "    </tr>\n",
       "    <tr>\n",
       "      <th>2</th>\n",
       "      <td>Claim:</td>\n",
       "      <td>claim</td>\n",
       "      <td>[]</td>\n",
       "      <td>טענה:</td>\n",
       "      <td>טענה_.docx</td>\n",
       "    </tr>\n",
       "    <tr>\n",
       "      <th>3</th>\n",
       "      <td>Or you can think about it like Buffett</td>\n",
       "      <td>buffett</td>\n",
       "      <td>[investment]</td>\n",
       "      <td>או שאפשר לחשוב על זה כמו באפט</td>\n",
       "      <td>טענה_.docx</td>\n",
       "    </tr>\n",
       "    <tr>\n",
       "      <th>4</th>\n",
       "      <td>Or you can do any start-up</td>\n",
       "      <td>start</td>\n",
       "      <td>[]</td>\n",
       "      <td>או שאפשר לעשות כל סטארט אפ</td>\n",
       "      <td>טענה_.docx</td>\n",
       "    </tr>\n",
       "  </tbody>\n",
       "</table>\n",
       "</div>"
      ],
      "text/plain": [
       "                                     sent     tfidf         words  \\\n",
       "0                                Concepts  concepts            []   \n",
       "1            Connections between concepts  concepts            []   \n",
       "2                                  Claim:     claim            []   \n",
       "3  Or you can think about it like Buffett   buffett  [investment]   \n",
       "4              Or you can do any start-up     start            []   \n",
       "\n",
       "                         he_sent           fname  \n",
       "0                         מושגים  איך ללמוד.docx  \n",
       "1               קשרים בין מושגים  איך ללמוד.docx  \n",
       "2                          טענה:      טענה_.docx  \n",
       "3  או שאפשר לחשוב על זה כמו באפט      טענה_.docx  \n",
       "4     או שאפשר לעשות כל סטארט אפ      טענה_.docx  "
      ]
     },
     "execution_count": 929,
     "metadata": {},
     "output_type": "execute_result"
    }
   ],
   "source": [
    "sents_df.head()"
   ]
  },
  {
   "cell_type": "code",
   "execution_count": 930,
   "metadata": {},
   "outputs": [],
   "source": [
    "fname_dict = sents_df.groupby('fname')['words'].sum().to_dict()"
   ]
  },
  {
   "cell_type": "code",
   "execution_count": 931,
   "metadata": {},
   "outputs": [],
   "source": [
    "fname_dict = {k: set(v) for k,v in fname_dict.items()}"
   ]
  },
  {
   "cell_type": "code",
   "execution_count": 932,
   "metadata": {},
   "outputs": [
    {
     "data": {
      "text/plain": [
       "{'2nd law.docx': {'gaussian'},\n",
       " 'API למשחק.docx': {'monkey'},\n",
       " 'Civ.docx': {'joules', 'machine', 'stock', 'taxes'},\n",
       " 'Data driven program.docx': set(),\n",
       " 'Direct democracy_.docx': {'management'},\n",
       " 'Dont-know.docx': {'investment', 'reproduction'},\n",
       " 'Elastic collision.docx': {'consciousness'},\n",
       " 'Employment types_.docx': {'investment', 'randomness'},\n",
       " 'Entertainment - interesting, good information.docx': {'apartment',\n",
       "  'investment',\n",
       "  'joules',\n",
       "  'management',\n",
       "  'randomness',\n",
       "  'reproduction',\n",
       "  'taxes'},\n",
       " 'Food.docx': {'stock'},\n",
       " 'I don_t know.docx': {'culture', 'investment'},\n",
       " 'I have so much on my mind.docx': set(),\n",
       " 'Investments.docx': {'stock', 'taxes'},\n",
       " 'Jacks or higher.docx': set(),\n",
       " 'Ok שלום so what I wanted to say was they believe that justice is not being done_.docx': set(),\n",
       " 'Omnipotence paradox.docx': set(),\n",
       " 'Physics.docx': set(),\n",
       " 'Politics.docx': {'20k',\n",
       "  'consciousness',\n",
       "  'investment',\n",
       "  'management',\n",
       "  'stock'},\n",
       " 'QuoRdr_.docx': {'culture', 'kaggle', 'monkey'},\n",
       " 'Reward system.docx': {'machine', 'randomness', 'taxes'},\n",
       " 'Society.docx': {'investment', 'management', 'reproduction', 'stock'},\n",
       " 'Thoughts.docx': set(),\n",
       " 'Three dimensional Image display, usin.._.docx': {'gaussian',\n",
       "  'joules',\n",
       "  'reproduction'},\n",
       " 'Time Management.docx': {'apartments',\n",
       "  'culture',\n",
       "  'investment',\n",
       "  'management',\n",
       "  'stock'},\n",
       " 'Untitled document(1).docx': set(),\n",
       " 'Untitled document(10).docx': {'culture',\n",
       "  'gaussian',\n",
       "  'joules',\n",
       "  'management',\n",
       "  'monkey'},\n",
       " 'Untitled document(11).docx': {'apartment',\n",
       "  'consciousness',\n",
       "  'investment',\n",
       "  'machine',\n",
       "  'management',\n",
       "  'taxes'},\n",
       " 'Untitled document(12).docx': {'20k'},\n",
       " 'Untitled document(13).docx': {'consciousness', 'machine', 'stock', 'taxes'},\n",
       " 'Untitled document(14).docx': {'joules', 'machine', 'management'},\n",
       " 'Untitled document(15).docx': {'20k', 'apartments', 'culture'},\n",
       " 'Untitled document(16).docx': {'apartments',\n",
       "  'consciousness',\n",
       "  'culture',\n",
       "  'emails',\n",
       "  'investment',\n",
       "  'machine',\n",
       "  'stock',\n",
       "  'taxes'},\n",
       " 'Untitled document(17).docx': {'consciousness',\n",
       "  'management',\n",
       "  'monkey',\n",
       "  'taxes'},\n",
       " 'Untitled document(18).docx': {'culture'},\n",
       " 'Untitled document(19).docx': {'apartment',\n",
       "  'consciousness',\n",
       "  'investment',\n",
       "  'machine',\n",
       "  'reproduction',\n",
       "  'stock',\n",
       "  'taxes'},\n",
       " 'Untitled document(2).docx': {'management', 'taxes'},\n",
       " 'Untitled document(20).docx': set(),\n",
       " 'Untitled document(21).docx': {'20k',\n",
       "  'apartment',\n",
       "  'apartments',\n",
       "  'investment',\n",
       "  'machine',\n",
       "  'management',\n",
       "  'monkey',\n",
       "  'randomness',\n",
       "  'reproduction',\n",
       "  'stock',\n",
       "  'taxes'},\n",
       " 'Untitled document(22).docx': {'investment', 'machine', 'management'},\n",
       " 'Untitled document(23).docx': set(),\n",
       " 'Untitled document(24).docx': {'investment', 'stock'},\n",
       " 'Untitled document(25).docx': set(),\n",
       " 'Untitled document(26).docx': {'consciousness', 'machine', 'taxes'},\n",
       " 'Untitled document(27).docx': set(),\n",
       " 'Untitled document(28).docx': {'apartment',\n",
       "  'consciousness',\n",
       "  'machine',\n",
       "  'reproduction'},\n",
       " 'Untitled document(29).docx': {'apartment',\n",
       "  'investment',\n",
       "  'machine',\n",
       "  'management',\n",
       "  'stock',\n",
       "  'taxes'},\n",
       " 'Untitled document(3).docx': {'apartments',\n",
       "  'culture',\n",
       "  'emails',\n",
       "  'machine',\n",
       "  'taxes'},\n",
       " 'Untitled document(30).docx': {'apartment', 'stock', 'taxes'},\n",
       " 'Untitled document(31).docx': {'20k',\n",
       "  'apartment',\n",
       "  'apartments',\n",
       "  'consciousness',\n",
       "  'culture',\n",
       "  'investment',\n",
       "  'machine',\n",
       "  'management',\n",
       "  'monkey',\n",
       "  'stock',\n",
       "  'taxes'},\n",
       " 'Untitled document(32).docx': {'apartments', 'management'},\n",
       " 'Untitled document(33).docx': {'apartment',\n",
       "  'apartments',\n",
       "  'investment',\n",
       "  'stock'},\n",
       " 'Untitled document(34).docx': {'apartment', 'apartments', 'machine'},\n",
       " 'Untitled document(35).docx': {'apartment', 'investment', 'monkey'},\n",
       " 'Untitled document(36).docx': {'culture', 'gaussian', 'taxes'},\n",
       " 'Untitled document(37).docx': {'apartment',\n",
       "  'gaussian',\n",
       "  'investment',\n",
       "  'machine',\n",
       "  'monkey',\n",
       "  'stock'},\n",
       " 'Untitled document(38).docx': {'apartment',\n",
       "  'apartments',\n",
       "  'investment',\n",
       "  'management',\n",
       "  'monkey',\n",
       "  'stock'},\n",
       " 'Untitled document(39).docx': {'stock'},\n",
       " 'Untitled document(4).docx': {'investment'},\n",
       " 'Untitled document(40).docx': {'culture', 'kaggle'},\n",
       " 'Untitled document(41).docx': {'culture', 'kaggle', 'stock', 'taxes'},\n",
       " 'Untitled document(42).docx': {'gaussian', 'investment', 'management'},\n",
       " 'Untitled document(43).docx': set(),\n",
       " 'Untitled document(44).docx': {'gaussian', 'randomness', 'reproduction'},\n",
       " 'Untitled document(45).docx': {'investment', 'taxes'},\n",
       " 'Untitled document(46).docx': {'joules', 'machine', 'taxes'},\n",
       " 'Untitled document(47).docx': {'20k', 'consciousness'},\n",
       " 'Untitled document(48).docx': {'20k',\n",
       "  'culture',\n",
       "  'investment',\n",
       "  'management',\n",
       "  'stock',\n",
       "  'taxes'},\n",
       " 'Untitled document(49).docx': {'gaussian'},\n",
       " 'Untitled document(5).docx': {'investment', 'stock'},\n",
       " 'Untitled document(50).docx': {'apartments',\n",
       "  'investment',\n",
       "  'machine',\n",
       "  'taxes'},\n",
       " 'Untitled document(6).docx': {'culture',\n",
       "  'gaussian',\n",
       "  'investment',\n",
       "  'joules',\n",
       "  'management',\n",
       "  'taxes'},\n",
       " 'Untitled document(7).docx': set(),\n",
       " 'Untitled document(8).docx': {'culture', 'machine'},\n",
       " 'Untitled document(9).docx': {'joules'},\n",
       " 'Untitled document.docx': set(),\n",
       " 'Wheat energy.docx': set(),\n",
       " 'X^2+Y^2+Z^2=V^2.docx': set(),\n",
       " 'animals.docx': {'consciousness', 'management', 'reproduction'},\n",
       " 'black swan.docx': {'consciousness', 'gaussian', 'joules', 'management'},\n",
       " 'chimp.docx': {'consciousness',\n",
       "  'culture',\n",
       "  'investment',\n",
       "  'machine',\n",
       "  'reproduction'},\n",
       " 'cloud ide.docx': {'culture', 'machine'},\n",
       " 'enter - tainment.docx': {'investment'},\n",
       " 'information management.docx': set(),\n",
       " 'map filter reduce.docx': set(),\n",
       " 'personal management.docx': {'gaussian', 'investment', 'machine'},\n",
       " 'project management.docx': set(),\n",
       " 'what if the energy or mass are constant.docx': {'joules'},\n",
       " 'אז באיזה issue tracker להשתמש.docx': {'investment', 'machine'},\n",
       " 'אז מה עובר לי בראש.docx': {'apartments', 'taxes'},\n",
       " 'איך אני יודע ממה אני נהנה_.docx': {'apartments',\n",
       "  'consciousness',\n",
       "  'management',\n",
       "  'randomness',\n",
       "  'taxes'},\n",
       " 'איך אפשר לכתוב קוד בפלאפון.docx': {'culture', 'gaussian'},\n",
       " 'איך ללמוד.docx': set(),\n",
       " 'איך לקנות סלולרי_.docx': set(),\n",
       " 'אין לי כוח לחיים האלה.docx': set(),\n",
       " 'אינטליגנציה.docx': {'consciousness',\n",
       "  'culture',\n",
       "  'joules',\n",
       "  'machine',\n",
       "  'reproduction',\n",
       "  'taxes'},\n",
       " 'אינפלציה.docx': {'investment', 'taxes'},\n",
       " 'אלוהים יקר רציתי שתדע שאני יודע איפה אתה.docx': set(),\n",
       " 'אם אני חוזר לנשימות, כנראה שבסוף אגיע למחשבה על כסף.docx': {'consciousness',\n",
       "  'management',\n",
       "  'monkey',\n",
       "  'stock',\n",
       "  'taxes'},\n",
       " 'אנחנו מיוחדים כי אנחנו מסוגלים לתכנות.docx': {'culture',\n",
       "  'gaussian',\n",
       "  'machine'},\n",
       " 'אני כותב המון.docx': set(),\n",
       " 'אני לא יודע.docx': {'culture', 'joules', 'management'},\n",
       " 'אני לא יכול פשוט לעשות מדיטציה בין אנשים.docx': {'investment'},\n",
       " 'אני לא מרגיש את הרצון ללמוד.docx': {'consciousness',\n",
       "  'culture',\n",
       "  'machine',\n",
       "  'palestinians',\n",
       "  'randomness'},\n",
       " 'אני צריך סדר.docx': {'investment', 'management', 'taxes'},\n",
       " 'אני רוצה להמנע מהפייסבוק והרדיט.docx': {'culture',\n",
       "  'joules',\n",
       "  'machine',\n",
       "  'management'},\n",
       " 'אני רוצה לסדר את המחשבות שלי.docx': {'apartments',\n",
       "  'consciousness',\n",
       "  'culture',\n",
       "  'investment',\n",
       "  'machine'},\n",
       " 'אני רושם רק בגלל הסימן מהוורד.docx': {'consciousness', 'palestinians'},\n",
       " 'אתה לא יכול לשמוע את עצמך מהצד.docx': set(),\n",
       " 'בדיקה בדיקה 1 2 אינטר אינטר.docx': set(),\n",
       " 'גדכלחמ.docx': {'culture', 'joules', 'palestinians'},\n",
       " 'גיימיפיקציה.docx': {'apartments', 'machine', 'taxes'},\n",
       " 'ה=x_ש=t.docx': set(),\n",
       " 'הדרך הכי קרובה להתגבר על המוות זה באמצעות צ׳יפ שיתחבר למוח.docx': {'machine',\n",
       "  'reproduction'},\n",
       " 'ההבדל היחיד בין גבר לאישה.docx': {'management'},\n",
       " 'הוא כל הזמן קולט שהמשקפיים שלו עקומות,.docx': {'joules', 'taxes'},\n",
       " 'החלטות לשנה הקרובה.docx': {'apartment',\n",
       "  'consciousness',\n",
       "  'investment',\n",
       "  'machine',\n",
       "  'stock'},\n",
       " 'הייתי רוצה לכתוב כאן, ולבנות בזה משהו.docx': {'gaussian'},\n",
       " 'הייתי_רוצה.docx': {'culture'},\n",
       " 'הכוח של האדם.docx': {'joules'},\n",
       " 'הכללה ואינדוקציה במוח.docx': {'machine', 'randomness', 'reproduction'},\n",
       " 'התרבות מתחילה במושג, בלתת שמות לדברים.._.docx': {'consciousness',\n",
       "  'culture',\n",
       "  'joules',\n",
       "  'machine',\n",
       "  'randomness'},\n",
       " 'זה מיותר מה שאני עושה עכשיו.docx': {'management'},\n",
       " 'זה נכון שלכל אחד יש רצון למקסם את התשואה ולמזער את הסיכון,.docx': set(),\n",
       " 'חופש בחירה.docx': {'gaussian', 'investment'},\n",
       " 'חוק 2.docx': {'consciousness', 'gaussian', 'joules', 'stock'},\n",
       " 'חשבתי לשנות מ״תמיד תהיה נחמד״.docx': set(),\n",
       " 'טוב,.docx': {'apartments', 'joules', 'machine', 'stock'},\n",
       " 'טענה_.docx': {'investment', 'stock'},\n",
       " 'ידע זה כוח כי אינפורמציה היא אנרגיה.docx': {'apartments',\n",
       "  'consciousness',\n",
       "  'joules'},\n",
       " 'יכול להיות שמנגנון הפעולה לתכנות אנשים הוא לקבוע אם הרגשה היא לחיוב או לשלילה_.docx': {'consciousness',\n",
       "  'gaussian',\n",
       "  'randomness'},\n",
       " 'כלים.docx': {'investment', 'machine'},\n",
       " 'כסף.docx': {'investment', 'machine', 'management', 'stock', 'taxes'},\n",
       " 'כרגע זה נראה שגם אם הייתי קונה את כל המניות מ-2003, הייתי מרוויח בממוצע 8 אחוז ברבעון.docx': {'investment',\n",
       "  'randomness'},\n",
       " 'כשיהיה 100K בייט (1000 ^ 2 בתים) אז בעצם זה יהיה פעמיים 300 ^ 2 ולא פעם אחת.docx': set(),\n",
       " 'לא יודע.docx': {'culture'},\n",
       " 'לאידע.docx': {'taxes'},\n",
       " 'להפוך טקסט לגראף.docx': {'stock'},\n",
       " 'לוגיקה במחשבה_.docx': set(),\n",
       " 'לחלק ב-3.docx': {'reproduction'},\n",
       " 'למה אני כל כך עצבני.docx': {'machine', 'taxes'},\n",
       " 'למה חיתוך זה וגם (and) ואיחוד זה או (or).docx': set(),\n",
       " 'לשים את המחשבות בקופסא.docx': {'culture'},\n",
       " 'מדיטציה בכתיבה(1).docx': {'apartments',\n",
       "  'consciousness',\n",
       "  'culture',\n",
       "  'investment',\n",
       "  'management',\n",
       "  'stock',\n",
       "  'taxes'},\n",
       " 'מדיטציה בכתיבה.docx': {'culture', 'joules', 'management'},\n",
       " 'מה אכפת לי מה נכון ומה לא נכון, הרי א.._.docx': {'consciousness',\n",
       "  'randomness'},\n",
       " 'מה אני עושה בשביל אנוויינד_.docx': set(),\n",
       " 'מה אני עושה עם הזמן החופשי שלי.docx': set(),\n",
       " 'מה אני עושה עם החיים האלה.docx': set(),\n",
       " 'מה אני עושה עם החיים האלו.docx': {'investment', 'management', 'taxes'},\n",
       " 'מה אני עושה עם החיים שלי(1).docx': {'randomness'},\n",
       " 'מה אני עושה עם החיים שלי.docx': {'20k', 'management', 'reproduction'},\n",
       " 'מה אני עושה עם חיי.docx': {'apartments', 'culture', 'machine'},\n",
       " 'מה יש לי בראש_.docx': {'apartment',\n",
       "  'apartments',\n",
       "  'culture',\n",
       "  'investment',\n",
       "  'machine',\n",
       "  'management',\n",
       "  'taxes'},\n",
       " 'מה עושים.docx': set(),\n",
       " 'מה_.docx': {'gaussian'},\n",
       " 'מחשבות על אלוהים.docx': {'consciousness'},\n",
       " 'מסמך ללא שם(1).docx': set(),\n",
       " 'מסמך ללא שם(10).docx': {'investment', 'machine', 'taxes'},\n",
       " 'מסמך ללא שם(11).docx': set(),\n",
       " 'מסמך ללא שם(12).docx': {'apartments', 'investment', 'management', 'stock'},\n",
       " 'מסמך ללא שם(13).docx': {'investment'},\n",
       " 'מסמך ללא שם(15).docx': {'consciousness', 'machine'},\n",
       " 'מסמך ללא שם(16).docx': {'apartments'},\n",
       " 'מסמך ללא שם(17).docx': {'apartment'},\n",
       " 'מסמך ללא שם(18).docx': set(),\n",
       " 'מסמך ללא שם(19).docx': {'management'},\n",
       " 'מסמך ללא שם(2).docx': {'investment', 'machine'},\n",
       " 'מסמך ללא שם(21).docx': {'apartment', 'investment', 'management'},\n",
       " 'מסמך ללא שם(22).docx': {'apartments'},\n",
       " 'מסמך ללא שם(23).docx': {'apartments', 'investment'},\n",
       " 'מסמך ללא שם(24).docx': {'apartments', 'investment'},\n",
       " 'מסמך ללא שם(25).docx': {'gaussian'},\n",
       " 'מסמך ללא שם(26).docx': set(),\n",
       " 'מסמך ללא שם(27).docx': {'apartments'},\n",
       " 'מסמך ללא שם(28).docx': {'consciousness',\n",
       "  'investment',\n",
       "  'joules',\n",
       "  'machine',\n",
       "  'reproduction'},\n",
       " 'מסמך ללא שם(29).docx': set(),\n",
       " 'מסמך ללא שם(3).docx': set(),\n",
       " 'מסמך ללא שם(30).docx': {'machine'},\n",
       " 'מסמך ללא שם(31).docx': {'gaussian', 'joules', 'stock'},\n",
       " 'מסמך ללא שם(32).docx': set(),\n",
       " 'מסמך ללא שם(33).docx': {'stock', 'taxes'},\n",
       " 'מסמך ללא שם(34).docx': {'culture', 'gaussian', 'machine'},\n",
       " 'מסמך ללא שם(35).docx': {'monkey'},\n",
       " 'מסמך ללא שם(36).docx': {'culture'},\n",
       " 'מסמך ללא שם(37).docx': {'culture', 'machine'},\n",
       " 'מסמך ללא שם(38).docx': set(),\n",
       " 'מסמך ללא שם(39).docx': set(),\n",
       " 'מסמך ללא שם(4).docx': set(),\n",
       " 'מסמך ללא שם(40).docx': {'joules'},\n",
       " 'מסמך ללא שם(41).docx': {'randomness'},\n",
       " 'מסמך ללא שם(42).docx': {'apartments', 'machine'},\n",
       " 'מסמך ללא שם(5).docx': set(),\n",
       " 'מסמך ללא שם(6).docx': {'20k',\n",
       "  'apartment',\n",
       "  'apartments',\n",
       "  'consciousness',\n",
       "  'culture',\n",
       "  'investment',\n",
       "  'joules',\n",
       "  'machine',\n",
       "  'management',\n",
       "  'monkey',\n",
       "  'randomness',\n",
       "  'reproduction',\n",
       "  'stock',\n",
       "  'taxes'},\n",
       " 'מסמך ללא שם(7).docx': {'culture', 'monkey', 'randomness'},\n",
       " 'מסמך ללא שם(9).docx': {'consciousness',\n",
       "  'culture',\n",
       "  'investment',\n",
       "  'machine',\n",
       "  'management',\n",
       "  'stock',\n",
       "  'taxes'},\n",
       " 'מסמך ללא שם.docx': {'apartments',\n",
       "  'consciousness',\n",
       "  'investment',\n",
       "  'machine',\n",
       "  'stock',\n",
       "  'taxes'},\n",
       " 'מצאתי מטרה.docx': {'machine', 'taxes'},\n",
       " 'מקום לכתיבת מסמכים וקוד.docx': {'culture', 'randomness'},\n",
       " 'מקרר.docx': set(),\n",
       " 'נתחיל מזה שאני לא יודע למה אני רושם.docx': {'apartment',\n",
       "  'apartments',\n",
       "  'consciousness',\n",
       "  'gaussian',\n",
       "  'investment',\n",
       "  'joules',\n",
       "  'machine',\n",
       "  'management',\n",
       "  'randomness',\n",
       "  'taxes'},\n",
       " 'סיבתיות היא לא מתאם.docx': {'20k'},\n",
       " 'על מה זה סכה_כ.docx': {'apartment',\n",
       "  'apartments',\n",
       "  'consciousness',\n",
       "  'culture',\n",
       "  'emails',\n",
       "  'gaussian',\n",
       "  'investment',\n",
       "  'joules',\n",
       "  'kaggle',\n",
       "  'machine',\n",
       "  'management',\n",
       "  'palestinians',\n",
       "  'randomness',\n",
       "  'reproduction',\n",
       "  'stock',\n",
       "  'taxes'},\n",
       " 'פוליטיקה(1).docx': {'20k',\n",
       "  'apartment',\n",
       "  'consciousness',\n",
       "  'culture',\n",
       "  'gaussian',\n",
       "  'investment',\n",
       "  'joules',\n",
       "  'machine',\n",
       "  'management',\n",
       "  'palestinians',\n",
       "  'taxes'},\n",
       " 'פוליטיקה.docx': {'management', 'stock'},\n",
       " 'פוסטאג.docx': {'culture', 'joules', 'taxes'},\n",
       " 'קונבקס.docx': {'consciousness', 'gaussian', 'stock'},\n",
       " 'קטעים עם שירן.docx': {'consciousness'},\n",
       " 'רילוקיישן.docx': {'apartments', 'investment'},\n",
       " 'שירן כועסת כי היא חושבת שאני מנסה להוציא אותה טועה כי אני מתווכח רק כי אני רוצה להיות צודק.docx': set(),\n",
       " 'שלום מה נשמע.docx': {'investment'},\n",
       " 'שלום.docx': {'machine', 'randomness', 'reproduction'},\n",
       " 'תובנות על העולם.docx': {'culture',\n",
       "  'gaussian',\n",
       "  'joules',\n",
       "  'machine',\n",
       "  'randomness',\n",
       "  'stock',\n",
       "  'taxes'},\n",
       " 'תיאוריית גידול אוכלוסין.docx': {'joules'},\n",
       " 'תמלול.docx': {'machine'}}"
      ]
     },
     "execution_count": 932,
     "metadata": {},
     "output_type": "execute_result"
    }
   ],
   "source": [
    "fname_dict"
   ]
  },
  {
   "cell_type": "code",
   "execution_count": 670,
   "metadata": {},
   "outputs": [
    {
     "data": {
      "text/plain": [
       "[('money', 358),\n",
       " ('project management', 141),\n",
       " ('sociology', 107),\n",
       " ('physics', 106),\n",
       " ('nlp', 103),\n",
       " ('real estate', 103),\n",
       " ('biology', 97),\n",
       " ('hobby', 72),\n",
       " ('code', 59),\n",
       " ('statistics', 48),\n",
       " ('politics', 43),\n",
       " ('ml', 35),\n",
       " ('math', 35),\n",
       " ('food', 34),\n",
       " ('Shiran', 16),\n",
       " ('startup', 10),\n",
       " ('art', 4),\n",
       " ('logic', 3)]"
      ]
     },
     "execution_count": 670,
     "metadata": {},
     "output_type": "execute_result"
    }
   ],
   "source": [
    "collections.Counter([word for words in sents_df['words'] for word in words]).most_common()"
   ]
  },
  {
   "cell_type": "code",
   "execution_count": 671,
   "metadata": {},
   "outputs": [
    {
     "data": {
      "text/html": [
       "<div>\n",
       "<table border=\"1\" class=\"dataframe\">\n",
       "  <thead>\n",
       "    <tr style=\"text-align: right;\">\n",
       "      <th></th>\n",
       "      <th>count</th>\n",
       "      <th>freq</th>\n",
       "      <th>log_freq</th>\n",
       "      <th>tfidf</th>\n",
       "      <th>tfiedf</th>\n",
       "    </tr>\n",
       "    <tr>\n",
       "      <th>word</th>\n",
       "      <th></th>\n",
       "      <th></th>\n",
       "      <th></th>\n",
       "      <th></th>\n",
       "      <th></th>\n",
       "    </tr>\n",
       "  </thead>\n",
       "  <tbody>\n",
       "    <tr>\n",
       "      <th>concepts</th>\n",
       "      <td>16</td>\n",
       "      <td>1.780000e-05</td>\n",
       "      <td>-10.936312</td>\n",
       "      <td>-1.463016</td>\n",
       "      <td>8.988764e+05</td>\n",
       "    </tr>\n",
       "    <tr>\n",
       "      <th>connections</th>\n",
       "      <td>4</td>\n",
       "      <td>2.190000e-05</td>\n",
       "      <td>-10.729024</td>\n",
       "      <td>-0.372820</td>\n",
       "      <td>1.826484e+05</td>\n",
       "    </tr>\n",
       "    <tr>\n",
       "      <th>between</th>\n",
       "      <td>65</td>\n",
       "      <td>6.610000e-04</td>\n",
       "      <td>-7.321757</td>\n",
       "      <td>-8.877651</td>\n",
       "      <td>9.833585e+04</td>\n",
       "    </tr>\n",
       "    <tr>\n",
       "      <th>claim</th>\n",
       "      <td>2</td>\n",
       "      <td>8.710000e-05</td>\n",
       "      <td>-9.348454</td>\n",
       "      <td>-0.213939</td>\n",
       "      <td>2.296211e+04</td>\n",
       "    </tr>\n",
       "    <tr>\n",
       "      <th>or</th>\n",
       "      <td>207</td>\n",
       "      <td>3.470000e-03</td>\n",
       "      <td>-5.663601</td>\n",
       "      <td>-36.549187</td>\n",
       "      <td>5.965418e+04</td>\n",
       "    </tr>\n",
       "    <tr>\n",
       "      <th>you</th>\n",
       "      <td>269</td>\n",
       "      <td>9.770000e-03</td>\n",
       "      <td>-4.628439</td>\n",
       "      <td>-58.118949</td>\n",
       "      <td>2.753327e+04</td>\n",
       "    </tr>\n",
       "    <tr>\n",
       "      <th>can</th>\n",
       "      <td>375</td>\n",
       "      <td>2.820000e-03</td>\n",
       "      <td>-5.871018</td>\n",
       "      <td>-63.873075</td>\n",
       "      <td>1.329787e+05</td>\n",
       "    </tr>\n",
       "    <tr>\n",
       "      <th>think</th>\n",
       "      <td>70</td>\n",
       "      <td>1.150000e-03</td>\n",
       "      <td>-6.767993</td>\n",
       "      <td>-10.342800</td>\n",
       "      <td>6.086957e+04</td>\n",
       "    </tr>\n",
       "    <tr>\n",
       "      <th>about</th>\n",
       "      <td>162</td>\n",
       "      <td>2.400000e-03</td>\n",
       "      <td>-6.032287</td>\n",
       "      <td>-26.855488</td>\n",
       "      <td>6.750000e+04</td>\n",
       "    </tr>\n",
       "    <tr>\n",
       "      <th>it</th>\n",
       "      <td>504</td>\n",
       "      <td>9.120000e-03</td>\n",
       "      <td>-4.697285</td>\n",
       "      <td>-107.296012</td>\n",
       "      <td>5.526316e+04</td>\n",
       "    </tr>\n",
       "    <tr>\n",
       "      <th>like</th>\n",
       "      <td>205</td>\n",
       "      <td>2.450000e-03</td>\n",
       "      <td>-6.011667</td>\n",
       "      <td>-34.100357</td>\n",
       "      <td>8.367347e+04</td>\n",
       "    </tr>\n",
       "    <tr>\n",
       "      <th>buffett</th>\n",
       "      <td>3</td>\n",
       "      <td>9.770000e-07</td>\n",
       "      <td>-13.838779</td>\n",
       "      <td>-0.216782</td>\n",
       "      <td>3.070624e+06</td>\n",
       "    </tr>\n",
       "    <tr>\n",
       "      <th>do</th>\n",
       "      <td>365</td>\n",
       "      <td>2.340000e-03</td>\n",
       "      <td>-6.057604</td>\n",
       "      <td>-60.254843</td>\n",
       "      <td>1.559829e+05</td>\n",
       "    </tr>\n",
       "    <tr>\n",
       "      <th>any</th>\n",
       "      <td>36</td>\n",
       "      <td>1.100000e-03</td>\n",
       "      <td>-6.812445</td>\n",
       "      <td>-5.284446</td>\n",
       "      <td>3.272727e+04</td>\n",
       "    </tr>\n",
       "    <tr>\n",
       "      <th>start</th>\n",
       "      <td>31</td>\n",
       "      <td>3.310000e-04</td>\n",
       "      <td>-8.013392</td>\n",
       "      <td>-3.868524</td>\n",
       "      <td>9.365559e+04</td>\n",
       "    </tr>\n",
       "    <tr>\n",
       "      <th>up</th>\n",
       "      <td>64</td>\n",
       "      <td>2.400000e-03</td>\n",
       "      <td>-6.032287</td>\n",
       "      <td>-10.609576</td>\n",
       "      <td>2.666667e+04</td>\n",
       "    </tr>\n",
       "    <tr>\n",
       "      <th>proof</th>\n",
       "      <td>2</td>\n",
       "      <td>4.470000e-05</td>\n",
       "      <td>-10.015537</td>\n",
       "      <td>-0.199690</td>\n",
       "      <td>4.474273e+04</td>\n",
       "    </tr>\n",
       "    <tr>\n",
       "      <th>claims</th>\n",
       "      <td>3</td>\n",
       "      <td>6.610000e-05</td>\n",
       "      <td>-9.624342</td>\n",
       "      <td>-0.311710</td>\n",
       "      <td>4.538578e+04</td>\n",
       "    </tr>\n",
       "    <tr>\n",
       "      <th>they</th>\n",
       "      <td>73</td>\n",
       "      <td>3.240000e-03</td>\n",
       "      <td>-5.732182</td>\n",
       "      <td>-12.735116</td>\n",
       "      <td>2.253086e+04</td>\n",
       "    </tr>\n",
       "    <tr>\n",
       "      <th>figure</th>\n",
       "      <td>5</td>\n",
       "      <td>1.260000e-04</td>\n",
       "      <td>-8.979229</td>\n",
       "      <td>-0.556841</td>\n",
       "      <td>3.968254e+04</td>\n",
       "    </tr>\n",
       "    <tr>\n",
       "      <th>out</th>\n",
       "      <td>75</td>\n",
       "      <td>2.290000e-03</td>\n",
       "      <td>-6.079203</td>\n",
       "      <td>-12.337143</td>\n",
       "      <td>3.275109e+04</td>\n",
       "    </tr>\n",
       "    <tr>\n",
       "      <th>enough</th>\n",
       "      <td>41</td>\n",
       "      <td>3.310000e-04</td>\n",
       "      <td>-8.013392</td>\n",
       "      <td>-5.116435</td>\n",
       "      <td>1.238671e+05</td>\n",
       "    </tr>\n",
       "    <tr>\n",
       "      <th>in</th>\n",
       "      <td>532</td>\n",
       "      <td>1.950000e-02</td>\n",
       "      <td>-3.937341</td>\n",
       "      <td>-135.116574</td>\n",
       "      <td>2.728205e+04</td>\n",
       "    </tr>\n",
       "    <tr>\n",
       "      <th>a</th>\n",
       "      <td>1079</td>\n",
       "      <td>2.290000e-02</td>\n",
       "      <td>-3.776618</td>\n",
       "      <td>-285.705331</td>\n",
       "      <td>4.711790e+04</td>\n",
       "    </tr>\n",
       "    <tr>\n",
       "      <th>subject</th>\n",
       "      <td>8</td>\n",
       "      <td>1.200000e-04</td>\n",
       "      <td>-9.028019</td>\n",
       "      <td>-0.886130</td>\n",
       "      <td>6.666667e+04</td>\n",
       "    </tr>\n",
       "    <tr>\n",
       "      <th>to</th>\n",
       "      <td>1432</td>\n",
       "      <td>2.750000e-02</td>\n",
       "      <td>-3.593569</td>\n",
       "      <td>-398.489605</td>\n",
       "      <td>5.207273e+04</td>\n",
       "    </tr>\n",
       "    <tr>\n",
       "      <th>know</th>\n",
       "      <td>177</td>\n",
       "      <td>1.290000e-03</td>\n",
       "      <td>-6.653113</td>\n",
       "      <td>-26.604087</td>\n",
       "      <td>1.372093e+05</td>\n",
       "    </tr>\n",
       "    <tr>\n",
       "      <th>invest</th>\n",
       "      <td>17</td>\n",
       "      <td>1.860000e-05</td>\n",
       "      <td>-10.892349</td>\n",
       "      <td>-1.560729</td>\n",
       "      <td>9.139785e+05</td>\n",
       "    </tr>\n",
       "    <tr>\n",
       "      <th>if</th>\n",
       "      <td>261</td>\n",
       "      <td>2.950000e-03</td>\n",
       "      <td>-5.825950</td>\n",
       "      <td>-44.799560</td>\n",
       "      <td>8.847458e+04</td>\n",
       "    </tr>\n",
       "    <tr>\n",
       "      <th>that's</th>\n",
       "      <td>83</td>\n",
       "      <td>6.310000e-04</td>\n",
       "      <td>-7.368205</td>\n",
       "      <td>-11.264616</td>\n",
       "      <td>1.315372e+05</td>\n",
       "    </tr>\n",
       "    <tr>\n",
       "      <th>...</th>\n",
       "      <td>...</td>\n",
       "      <td>...</td>\n",
       "      <td>...</td>\n",
       "      <td>...</td>\n",
       "      <td>...</td>\n",
       "    </tr>\n",
       "    <tr>\n",
       "      <th>2024</th>\n",
       "      <td>1</td>\n",
       "      <td>4.070000e-03</td>\n",
       "      <td>-5.504112</td>\n",
       "      <td>-0.181682</td>\n",
       "      <td>2.457002e+02</td>\n",
       "    </tr>\n",
       "    <tr>\n",
       "      <th>quit</th>\n",
       "      <td>1</td>\n",
       "      <td>3.550000e-05</td>\n",
       "      <td>-10.245978</td>\n",
       "      <td>-0.097599</td>\n",
       "      <td>2.816901e+04</td>\n",
       "    </tr>\n",
       "    <tr>\n",
       "      <th>bots</th>\n",
       "      <td>2</td>\n",
       "      <td>1.230000e-06</td>\n",
       "      <td>-13.608496</td>\n",
       "      <td>-0.146967</td>\n",
       "      <td>1.626016e+06</td>\n",
       "    </tr>\n",
       "    <tr>\n",
       "      <th>exhaust</th>\n",
       "      <td>1</td>\n",
       "      <td>6.460000e-06</td>\n",
       "      <td>-11.949881</td>\n",
       "      <td>-0.083683</td>\n",
       "      <td>1.547988e+05</td>\n",
       "    </tr>\n",
       "    <tr>\n",
       "      <th>ben</th>\n",
       "      <td>1</td>\n",
       "      <td>4.570000e-05</td>\n",
       "      <td>-9.993412</td>\n",
       "      <td>-0.100066</td>\n",
       "      <td>2.188184e+04</td>\n",
       "    </tr>\n",
       "    <tr>\n",
       "      <th>graham</th>\n",
       "      <td>1</td>\n",
       "      <td>1.740000e-05</td>\n",
       "      <td>-10.959040</td>\n",
       "      <td>-0.091249</td>\n",
       "      <td>5.747126e+04</td>\n",
       "    </tr>\n",
       "    <tr>\n",
       "      <th>strategy</th>\n",
       "      <td>1</td>\n",
       "      <td>5.370000e-05</td>\n",
       "      <td>-9.832098</td>\n",
       "      <td>-0.101708</td>\n",
       "      <td>1.862197e+04</td>\n",
       "    </tr>\n",
       "    <tr>\n",
       "      <th>mission</th>\n",
       "      <td>1</td>\n",
       "      <td>7.940000e-05</td>\n",
       "      <td>-9.441012</td>\n",
       "      <td>-0.105921</td>\n",
       "      <td>1.259446e+04</td>\n",
       "    </tr>\n",
       "    <tr>\n",
       "      <th>ruby</th>\n",
       "      <td>1</td>\n",
       "      <td>8.710000e-06</td>\n",
       "      <td>-11.651039</td>\n",
       "      <td>-0.085829</td>\n",
       "      <td>1.148106e+05</td>\n",
       "    </tr>\n",
       "    <tr>\n",
       "      <th>operations</th>\n",
       "      <td>1</td>\n",
       "      <td>7.940000e-05</td>\n",
       "      <td>-9.441012</td>\n",
       "      <td>-0.105921</td>\n",
       "      <td>1.259446e+04</td>\n",
       "    </tr>\n",
       "    <tr>\n",
       "      <th>swift</th>\n",
       "      <td>1</td>\n",
       "      <td>1.480000e-05</td>\n",
       "      <td>-11.120883</td>\n",
       "      <td>-0.089921</td>\n",
       "      <td>6.756757e+04</td>\n",
       "    </tr>\n",
       "    <tr>\n",
       "      <th>screw</th>\n",
       "      <td>1</td>\n",
       "      <td>1.740000e-05</td>\n",
       "      <td>-10.959040</td>\n",
       "      <td>-0.091249</td>\n",
       "      <td>5.747126e+04</td>\n",
       "    </tr>\n",
       "    <tr>\n",
       "      <th>forces</th>\n",
       "      <td>1</td>\n",
       "      <td>1.200000e-04</td>\n",
       "      <td>-9.028019</td>\n",
       "      <td>-0.110766</td>\n",
       "      <td>8.333333e+03</td>\n",
       "    </tr>\n",
       "    <tr>\n",
       "      <th>zombie</th>\n",
       "      <td>1</td>\n",
       "      <td>8.130000e-06</td>\n",
       "      <td>-11.719950</td>\n",
       "      <td>-0.085325</td>\n",
       "      <td>1.230012e+05</td>\n",
       "    </tr>\n",
       "    <tr>\n",
       "      <th>gene</th>\n",
       "      <td>1</td>\n",
       "      <td>2.040000e-05</td>\n",
       "      <td>-10.799976</td>\n",
       "      <td>-0.092593</td>\n",
       "      <td>4.901961e+04</td>\n",
       "    </tr>\n",
       "    <tr>\n",
       "      <th>explained</th>\n",
       "      <td>1</td>\n",
       "      <td>4.370000e-05</td>\n",
       "      <td>-10.038162</td>\n",
       "      <td>-0.099620</td>\n",
       "      <td>2.288330e+04</td>\n",
       "    </tr>\n",
       "    <tr>\n",
       "      <th>memes</th>\n",
       "      <td>1</td>\n",
       "      <td>2.090000e-06</td>\n",
       "      <td>-13.078346</td>\n",
       "      <td>-0.076462</td>\n",
       "      <td>4.784689e+05</td>\n",
       "    </tr>\n",
       "    <tr>\n",
       "      <th>distinguishes</th>\n",
       "      <td>1</td>\n",
       "      <td>1.910000e-06</td>\n",
       "      <td>-13.168407</td>\n",
       "      <td>-0.075939</td>\n",
       "      <td>5.235602e+05</td>\n",
       "    </tr>\n",
       "    <tr>\n",
       "      <th>unattainable</th>\n",
       "      <td>1</td>\n",
       "      <td>6.460000e-07</td>\n",
       "      <td>-14.252466</td>\n",
       "      <td>-0.070163</td>\n",
       "      <td>1.547988e+06</td>\n",
       "    </tr>\n",
       "    <tr>\n",
       "      <th>onto</th>\n",
       "      <td>1</td>\n",
       "      <td>5.370000e-05</td>\n",
       "      <td>-9.832098</td>\n",
       "      <td>-0.101708</td>\n",
       "      <td>1.862197e+04</td>\n",
       "    </tr>\n",
       "    <tr>\n",
       "      <th>sheep</th>\n",
       "      <td>2</td>\n",
       "      <td>1.660000e-05</td>\n",
       "      <td>-11.006108</td>\n",
       "      <td>-0.181717</td>\n",
       "      <td>1.204819e+05</td>\n",
       "    </tr>\n",
       "    <tr>\n",
       "      <th>overpower</th>\n",
       "      <td>1</td>\n",
       "      <td>7.080000e-07</td>\n",
       "      <td>-14.160822</td>\n",
       "      <td>-0.070617</td>\n",
       "      <td>1.412429e+06</td>\n",
       "    </tr>\n",
       "    <tr>\n",
       "      <th>grain</th>\n",
       "      <td>2</td>\n",
       "      <td>1.910000e-05</td>\n",
       "      <td>-10.865822</td>\n",
       "      <td>-0.184063</td>\n",
       "      <td>1.047120e+05</td>\n",
       "    </tr>\n",
       "    <tr>\n",
       "      <th>heart</th>\n",
       "      <td>1</td>\n",
       "      <td>2.140000e-04</td>\n",
       "      <td>-8.449535</td>\n",
       "      <td>-0.118350</td>\n",
       "      <td>4.672897e+03</td>\n",
       "    </tr>\n",
       "    <tr>\n",
       "      <th>truths</th>\n",
       "      <td>1</td>\n",
       "      <td>4.570000e-06</td>\n",
       "      <td>-12.295997</td>\n",
       "      <td>-0.081327</td>\n",
       "      <td>2.188184e+05</td>\n",
       "    </tr>\n",
       "    <tr>\n",
       "      <th>notifications</th>\n",
       "      <td>1</td>\n",
       "      <td>3.470000e-06</td>\n",
       "      <td>-12.571356</td>\n",
       "      <td>-0.079546</td>\n",
       "      <td>2.881844e+05</td>\n",
       "    </tr>\n",
       "    <tr>\n",
       "      <th>discounts</th>\n",
       "      <td>1</td>\n",
       "      <td>6.310000e-06</td>\n",
       "      <td>-11.973375</td>\n",
       "      <td>-0.083519</td>\n",
       "      <td>1.584786e+05</td>\n",
       "    </tr>\n",
       "    <tr>\n",
       "      <th>establishment</th>\n",
       "      <td>1</td>\n",
       "      <td>3.090000e-05</td>\n",
       "      <td>-10.384754</td>\n",
       "      <td>-0.096295</td>\n",
       "      <td>3.236246e+04</td>\n",
       "    </tr>\n",
       "    <tr>\n",
       "      <th>established</th>\n",
       "      <td>1</td>\n",
       "      <td>1.020000e-04</td>\n",
       "      <td>-9.190538</td>\n",
       "      <td>-0.108808</td>\n",
       "      <td>9.803922e+03</td>\n",
       "    </tr>\n",
       "    <tr>\n",
       "      <th>record</th>\n",
       "      <td>1</td>\n",
       "      <td>1.510000e-04</td>\n",
       "      <td>-8.798231</td>\n",
       "      <td>-0.113659</td>\n",
       "      <td>6.622517e+03</td>\n",
       "    </tr>\n",
       "  </tbody>\n",
       "</table>\n",
       "<p>4274 rows × 5 columns</p>\n",
       "</div>"
      ],
      "text/plain": [
       "               count          freq   log_freq       tfidf        tfiedf\n",
       "word                                                                   \n",
       "concepts          16  1.780000e-05 -10.936312   -1.463016  8.988764e+05\n",
       "connections        4  2.190000e-05 -10.729024   -0.372820  1.826484e+05\n",
       "between           65  6.610000e-04  -7.321757   -8.877651  9.833585e+04\n",
       "claim              2  8.710000e-05  -9.348454   -0.213939  2.296211e+04\n",
       "or               207  3.470000e-03  -5.663601  -36.549187  5.965418e+04\n",
       "you              269  9.770000e-03  -4.628439  -58.118949  2.753327e+04\n",
       "can              375  2.820000e-03  -5.871018  -63.873075  1.329787e+05\n",
       "think             70  1.150000e-03  -6.767993  -10.342800  6.086957e+04\n",
       "about            162  2.400000e-03  -6.032287  -26.855488  6.750000e+04\n",
       "it               504  9.120000e-03  -4.697285 -107.296012  5.526316e+04\n",
       "like             205  2.450000e-03  -6.011667  -34.100357  8.367347e+04\n",
       "buffett            3  9.770000e-07 -13.838779   -0.216782  3.070624e+06\n",
       "do               365  2.340000e-03  -6.057604  -60.254843  1.559829e+05\n",
       "any               36  1.100000e-03  -6.812445   -5.284446  3.272727e+04\n",
       "start             31  3.310000e-04  -8.013392   -3.868524  9.365559e+04\n",
       "up                64  2.400000e-03  -6.032287  -10.609576  2.666667e+04\n",
       "proof              2  4.470000e-05 -10.015537   -0.199690  4.474273e+04\n",
       "claims             3  6.610000e-05  -9.624342   -0.311710  4.538578e+04\n",
       "they              73  3.240000e-03  -5.732182  -12.735116  2.253086e+04\n",
       "figure             5  1.260000e-04  -8.979229   -0.556841  3.968254e+04\n",
       "out               75  2.290000e-03  -6.079203  -12.337143  3.275109e+04\n",
       "enough            41  3.310000e-04  -8.013392   -5.116435  1.238671e+05\n",
       "in               532  1.950000e-02  -3.937341 -135.116574  2.728205e+04\n",
       "a               1079  2.290000e-02  -3.776618 -285.705331  4.711790e+04\n",
       "subject            8  1.200000e-04  -9.028019   -0.886130  6.666667e+04\n",
       "to              1432  2.750000e-02  -3.593569 -398.489605  5.207273e+04\n",
       "know             177  1.290000e-03  -6.653113  -26.604087  1.372093e+05\n",
       "invest            17  1.860000e-05 -10.892349   -1.560729  9.139785e+05\n",
       "if               261  2.950000e-03  -5.825950  -44.799560  8.847458e+04\n",
       "that's            83  6.310000e-04  -7.368205  -11.264616  1.315372e+05\n",
       "...              ...           ...        ...         ...           ...\n",
       "2024               1  4.070000e-03  -5.504112   -0.181682  2.457002e+02\n",
       "quit               1  3.550000e-05 -10.245978   -0.097599  2.816901e+04\n",
       "bots               2  1.230000e-06 -13.608496   -0.146967  1.626016e+06\n",
       "exhaust            1  6.460000e-06 -11.949881   -0.083683  1.547988e+05\n",
       "ben                1  4.570000e-05  -9.993412   -0.100066  2.188184e+04\n",
       "graham             1  1.740000e-05 -10.959040   -0.091249  5.747126e+04\n",
       "strategy           1  5.370000e-05  -9.832098   -0.101708  1.862197e+04\n",
       "mission            1  7.940000e-05  -9.441012   -0.105921  1.259446e+04\n",
       "ruby               1  8.710000e-06 -11.651039   -0.085829  1.148106e+05\n",
       "operations         1  7.940000e-05  -9.441012   -0.105921  1.259446e+04\n",
       "swift              1  1.480000e-05 -11.120883   -0.089921  6.756757e+04\n",
       "screw              1  1.740000e-05 -10.959040   -0.091249  5.747126e+04\n",
       "forces             1  1.200000e-04  -9.028019   -0.110766  8.333333e+03\n",
       "zombie             1  8.130000e-06 -11.719950   -0.085325  1.230012e+05\n",
       "gene               1  2.040000e-05 -10.799976   -0.092593  4.901961e+04\n",
       "explained          1  4.370000e-05 -10.038162   -0.099620  2.288330e+04\n",
       "memes              1  2.090000e-06 -13.078346   -0.076462  4.784689e+05\n",
       "distinguishes      1  1.910000e-06 -13.168407   -0.075939  5.235602e+05\n",
       "unattainable       1  6.460000e-07 -14.252466   -0.070163  1.547988e+06\n",
       "onto               1  5.370000e-05  -9.832098   -0.101708  1.862197e+04\n",
       "sheep              2  1.660000e-05 -11.006108   -0.181717  1.204819e+05\n",
       "overpower          1  7.080000e-07 -14.160822   -0.070617  1.412429e+06\n",
       "grain              2  1.910000e-05 -10.865822   -0.184063  1.047120e+05\n",
       "heart              1  2.140000e-04  -8.449535   -0.118350  4.672897e+03\n",
       "truths             1  4.570000e-06 -12.295997   -0.081327  2.188184e+05\n",
       "notifications      1  3.470000e-06 -12.571356   -0.079546  2.881844e+05\n",
       "discounts          1  6.310000e-06 -11.973375   -0.083519  1.584786e+05\n",
       "establishment      1  3.090000e-05 -10.384754   -0.096295  3.236246e+04\n",
       "established        1  1.020000e-04  -9.190538   -0.108808  9.803922e+03\n",
       "record             1  1.510000e-04  -8.798231   -0.113659  6.622517e+03\n",
       "\n",
       "[4274 rows x 5 columns]"
      ]
     },
     "execution_count": 671,
     "metadata": {},
     "output_type": "execute_result"
    }
   ],
   "source": [
    "count_df"
   ]
  },
  {
   "cell_type": "code",
   "execution_count": 677,
   "metadata": {},
   "outputs": [],
   "source": [
    "word_df = pd.DataFrame(list(word_dict.values()), index=word_dict.keys(), columns=['topic'])"
   ]
  },
  {
   "cell_type": "code",
   "execution_count": 681,
   "metadata": {},
   "outputs": [],
   "source": [
    "word_df = word_df.replace({'real estate': 'property', 'project management':'project'})"
   ]
  },
  {
   "cell_type": "code",
   "execution_count": 689,
   "metadata": {},
   "outputs": [
    {
     "name": "stdout",
     "output_type": "stream",
     "text": [
      "\"word 'gitlab' not in vocabulary\"\n",
      "\"word 'kaggle' not in vocabulary\"\n",
      "\"word 'rsu' not in vocabulary\"\n",
      "\"word '0.5h' not in vocabulary\"\n",
      "\"word '10kwh' not in vocabulary\"\n",
      "\"word 'shauna' not in vocabulary\"\n",
      "\"word 'zillow' not in vocabulary\"\n",
      "\"word '1000w' not in vocabulary\"\n",
      "\"word 'maslow' not in vocabulary\"\n"
     ]
    },
    {
     "name": "stderr",
     "output_type": "stream",
     "text": [
      "/Library/Frameworks/Python.framework/Versions/3.6/lib/python3.6/site-packages/gensim/matutils.py:737: FutureWarning: Conversion of the second argument of issubdtype from `int` to `np.signedinteger` is deprecated. In future, it will be treated as `np.int64 == np.dtype(int).type`.\n",
      "  if np.issubdtype(vec.dtype, np.int):\n"
     ]
    },
    {
     "data": {
      "text/plain": [
       "realtor.com      5.646266e-01\n",
       "gitlab                    NaN\n",
       "kaggle                    NaN\n",
       "rsu                       NaN\n",
       "0.5h                      NaN\n",
       "jira             8.963671e-01\n",
       "10kwh                     NaN\n",
       "cocain           7.467410e-01\n",
       "shauna                    NaN\n",
       "duplexes         6.003538e-01\n",
       "zillow                    NaN\n",
       "asana            9.095724e-01\n",
       "shekels          5.249944e-01\n",
       "zipline          7.463988e-01\n",
       "joules           6.763077e-01\n",
       "bonobo           6.335116e-01\n",
       "bookmarks        7.401744e-01\n",
       "gaussian         6.469696e-01\n",
       "monogamy         6.488928e-01\n",
       "1000w                     NaN\n",
       "trac             6.165112e-01\n",
       "9k               9.084195e-01\n",
       "joule            6.696668e-01\n",
       "maslow                    NaN\n",
       "qr               1.014464e+00\n",
       "gestalt          6.340638e-01\n",
       "neuron           5.806776e-01\n",
       "scheduler        6.297883e-01\n",
       "turing           9.295797e-01\n",
       "7k               9.006802e-01\n",
       "                     ...     \n",
       "money            0.000000e+00\n",
       "income           4.353552e-01\n",
       "hydrogen         6.296125e-01\n",
       "democrat         6.452938e-01\n",
       "robot            9.983343e-01\n",
       "properties       2.302114e-01\n",
       "taxes            4.444928e-01\n",
       "housing          4.433886e-01\n",
       "words            9.719643e-01\n",
       "israel           6.841514e-01\n",
       "100k             6.713442e-01\n",
       "300k             6.673141e-01\n",
       "160k             7.375824e-01\n",
       "democracy        5.543564e-01\n",
       "jerusalem        7.178730e-01\n",
       "consciousness    5.330930e-01\n",
       "management       4.783240e-01\n",
       "48k              9.843009e-01\n",
       "10k              7.468157e-01\n",
       "pays             5.159993e-01\n",
       "36k              9.138006e-01\n",
       "30k              7.844271e-01\n",
       "eat              3.919759e-01\n",
       "politics         5.960464e-08\n",
       "financial        4.594233e-01\n",
       "machines         9.441743e-01\n",
       "israeli          6.890508e-01\n",
       "stock            5.303000e-01\n",
       "programming      4.744389e-01\n",
       "loan             5.254856e-01\n",
       "dtype: float64"
      ]
     },
     "execution_count": 689,
     "metadata": {},
     "output_type": "execute_result"
    }
   ],
   "source": [
    "def get_distance(w1, w2):\n",
    "    try:\n",
    "        return model.distance(w1, w2)\n",
    "    except KeyError as e:\n",
    "        print(e)\n",
    "        return None\n",
    "        \n",
    "word_df.apply(lambda x: get_distance(x.name, x.topic) , axis=1)"
   ]
  },
  {
   "cell_type": "code",
   "execution_count": 710,
   "metadata": {},
   "outputs": [],
   "source": [
    "word_df.index.name='word'\n",
    "word_df = word_df.reset_index()"
   ]
  },
  {
   "cell_type": "code",
   "execution_count": 712,
   "metadata": {},
   "outputs": [
    {
     "name": "stderr",
     "output_type": "stream",
     "text": [
      "/Library/Frameworks/Python.framework/Versions/3.6/lib/python3.6/site-packages/ipykernel_launcher.py:1: DeprecationWarning: Call to deprecated `wv` (Attribute will be removed in 4.0.0, use self instead).\n",
      "  \"\"\"Entry point for launching an IPython kernel.\n"
     ]
    }
   ],
   "source": [
    "word_vecs = word_df['word'].apply(lambda x: pd.Series(model.wv[x]) if x in model.wv else pd.Series(model.wv['.']))"
   ]
  },
  {
   "cell_type": "code",
   "execution_count": 713,
   "metadata": {},
   "outputs": [],
   "source": [
    "word_vecs.index = word_df['word']"
   ]
  },
  {
   "cell_type": "code",
   "execution_count": 902,
   "metadata": {},
   "outputs": [
    {
     "name": "stderr",
     "output_type": "stream",
     "text": [
      "/Library/Frameworks/Python.framework/Versions/3.6/lib/python3.6/site-packages/ipykernel_launcher.py:1: DeprecationWarning: Call to deprecated `wv` (Attribute will be removed in 4.0.0, use self instead).\n",
      "  \"\"\"Entry point for launching an IPython kernel.\n"
     ]
    }
   ],
   "source": [
    "topic_vecs = pd.Series(topics).apply(lambda x: pd.Series(model.wv[x]) if x in model.wv else pd.Series(model.wv['.']))"
   ]
  },
  {
   "cell_type": "code",
   "execution_count": 908,
   "metadata": {},
   "outputs": [],
   "source": [
    "word_df['nn'] = get_nns(word_vecs, topic_vecs)"
   ]
  },
  {
   "cell_type": "code",
   "execution_count": 891,
   "metadata": {},
   "outputs": [
    {
     "data": {
      "text/plain": [
       "'realtor.com'"
      ]
     },
     "execution_count": 891,
     "metadata": {},
     "output_type": "execute_result"
    }
   ],
   "source": [
    "topic_vecs.index[0]"
   ]
  },
  {
   "cell_type": "code",
   "execution_count": 892,
   "metadata": {},
   "outputs": [
    {
     "data": {
      "text/plain": [
       "'realtor.com'"
      ]
     },
     "execution_count": 892,
     "metadata": {},
     "output_type": "execute_result"
    }
   ],
   "source": [
    "topic_vecs.index.values[0]"
   ]
  },
  {
   "cell_type": "code",
   "execution_count": 787,
   "metadata": {},
   "outputs": [],
   "source": [
    "word_df = word_df[(word_df['topic']!=word_df['nn']) & ((word_df['nn'] != 'nlp') & (word_df['nn'] != 'ml'))]"
   ]
  },
  {
   "cell_type": "code",
   "execution_count": 900,
   "metadata": {},
   "outputs": [],
   "source": [
    "topics = [k for k,v in collections.Counter(word_df['nn']).items() if v>=3]"
   ]
  },
  {
   "cell_type": "code",
   "execution_count": 910,
   "metadata": {},
   "outputs": [
    {
     "data": {
      "text/plain": [
       "['kaggle',\n",
       " 'apartments',\n",
       " 'palestinians',\n",
       " 'emails',\n",
       " 'reproduction',\n",
       " '7k',\n",
       " 'joules',\n",
       " 'consciousness',\n",
       " 'management',\n",
       " 'machine',\n",
       " 'gaussian',\n",
       " 'monkey',\n",
       " 'stock',\n",
       " 'randomness',\n",
       " 'investment',\n",
       " 'taxes',\n",
       " 'apartment',\n",
       " 'culture',\n",
       " '20k']"
      ]
     },
     "execution_count": 910,
     "metadata": {},
     "output_type": "execute_result"
    }
   ],
   "source": [
    "topics"
   ]
  },
  {
   "cell_type": "code",
   "execution_count": 695,
   "metadata": {},
   "outputs": [],
   "source": [
    "\n",
    "from scipy.spatial.distance import pdist"
   ]
  },
  {
   "cell_type": "code",
   "execution_count": 696,
   "metadata": {},
   "outputs": [
    {
     "ename": "ValueError",
     "evalue": "A 2-dimensional array must be passed.",
     "output_type": "error",
     "traceback": [
      "\u001b[0;31m---------------------------------------------------------------------------\u001b[0m",
      "\u001b[0;31mValueError\u001b[0m                                Traceback (most recent call last)",
      "\u001b[0;32m<ipython-input-696-50e55ac059d4>\u001b[0m in \u001b[0;36m<module>\u001b[0;34m()\u001b[0m\n\u001b[0;32m----> 1\u001b[0;31m \u001b[0mpdist\u001b[0m\u001b[0;34m(\u001b[0m\u001b[0mmetric\u001b[0m\u001b[0;34m=\u001b[0m\u001b[0mget_distance\u001b[0m\u001b[0;34m,\u001b[0m \u001b[0mX\u001b[0m\u001b[0;34m=\u001b[0m\u001b[0mword_df\u001b[0m\u001b[0;34m.\u001b[0m\u001b[0mindex\u001b[0m\u001b[0;34m)\u001b[0m\u001b[0;34m\u001b[0m\u001b[0m\n\u001b[0m",
      "\u001b[0;32m/Library/Frameworks/Python.framework/Versions/3.6/lib/python3.6/site-packages/scipy/spatial/distance.py\u001b[0m in \u001b[0;36mpdist\u001b[0;34m(X, metric, p, w, V, VI)\u001b[0m\n\u001b[1;32m   1215\u001b[0m     \u001b[0ms\u001b[0m \u001b[0;34m=\u001b[0m \u001b[0mX\u001b[0m\u001b[0;34m.\u001b[0m\u001b[0mshape\u001b[0m\u001b[0;34m\u001b[0m\u001b[0m\n\u001b[1;32m   1216\u001b[0m     \u001b[0;32mif\u001b[0m \u001b[0mlen\u001b[0m\u001b[0;34m(\u001b[0m\u001b[0ms\u001b[0m\u001b[0;34m)\u001b[0m \u001b[0;34m!=\u001b[0m \u001b[0;36m2\u001b[0m\u001b[0;34m:\u001b[0m\u001b[0;34m\u001b[0m\u001b[0m\n\u001b[0;32m-> 1217\u001b[0;31m         \u001b[0;32mraise\u001b[0m \u001b[0mValueError\u001b[0m\u001b[0;34m(\u001b[0m\u001b[0;34m'A 2-dimensional array must be passed.'\u001b[0m\u001b[0;34m)\u001b[0m\u001b[0;34m\u001b[0m\u001b[0m\n\u001b[0m\u001b[1;32m   1218\u001b[0m \u001b[0;34m\u001b[0m\u001b[0m\n\u001b[1;32m   1219\u001b[0m     \u001b[0mm\u001b[0m\u001b[0;34m,\u001b[0m \u001b[0mn\u001b[0m \u001b[0;34m=\u001b[0m \u001b[0ms\u001b[0m\u001b[0;34m\u001b[0m\u001b[0m\n",
      "\u001b[0;31mValueError\u001b[0m: A 2-dimensional array must be passed."
     ]
    }
   ],
   "source": [
    "pdist(metric=get_distance, X=word_df.index)"
   ]
  },
  {
   "cell_type": "code",
   "execution_count": null,
   "metadata": {},
   "outputs": [],
   "source": [
    "# split to paragraphs\n",
    "# find tfidf word for paragraph\n",
    "# find nearest neighbours for tfidfs\n",
    "# get top nearest neighbours as labels\n",
    "# label paragraphs\n",
    "# name according to tfidf\n",
    "# place paragraphs in dirs according to labels\n"
   ]
  },
  {
   "cell_type": "code",
   "execution_count": 949,
   "metadata": {},
   "outputs": [
    {
     "data": {
      "text/html": [
       "<div>\n",
       "<table border=\"1\" class=\"dataframe\">\n",
       "  <thead>\n",
       "    <tr style=\"text-align: right;\">\n",
       "      <th></th>\n",
       "      <th>sent</th>\n",
       "      <th>tfidf</th>\n",
       "      <th>words</th>\n",
       "      <th>he_sent</th>\n",
       "      <th>fname</th>\n",
       "    </tr>\n",
       "  </thead>\n",
       "  <tbody>\n",
       "    <tr>\n",
       "      <th>2305</th>\n",
       "      <td>Baby Talk: The 15 Most Common First Words\\n1. ...</td>\n",
       "      <td>buba</td>\n",
       "      <td>[joules]</td>\n",
       "      <td>Baby Talk: The 15 Most Common First Words\\n1. ...</td>\n",
       "      <td>מסמך ללא שם(28).docx</td>\n",
       "    </tr>\n",
       "    <tr>\n",
       "      <th>3657</th>\n",
       "      <td>nmod:poss(dog-2, My-1)\\nnsubj(likes-4, dog-2)\\...</td>\n",
       "      <td>sausage</td>\n",
       "      <td>[stock]</td>\n",
       "      <td>nmod:poss(dog-2, My-1)\\nnsubj(likes-4, dog-2)\\...</td>\n",
       "      <td>להפוך טקסט לגראף.docx</td>\n",
       "    </tr>\n",
       "    <tr>\n",
       "      <th>3664</th>\n",
       "      <td>advmod(received-3, Generally-1)\\nadvmod(receiv...</td>\n",
       "      <td>amod</td>\n",
       "      <td>[]</td>\n",
       "      <td>advmod(received-3, Generally-1)\\nadvmod(receiv...</td>\n",
       "      <td>להפוך טקסט לגראף.docx</td>\n",
       "    </tr>\n",
       "  </tbody>\n",
       "</table>\n",
       "</div>"
      ],
      "text/plain": [
       "                                                   sent    tfidf     words  \\\n",
       "2305  Baby Talk: The 15 Most Common First Words\\n1. ...     buba  [joules]   \n",
       "3657  nmod:poss(dog-2, My-1)\\nnsubj(likes-4, dog-2)\\...  sausage   [stock]   \n",
       "3664  advmod(received-3, Generally-1)\\nadvmod(receiv...     amod        []   \n",
       "\n",
       "                                                he_sent                  fname  \n",
       "2305  Baby Talk: The 15 Most Common First Words\\n1. ...   מסמך ללא שם(28).docx  \n",
       "3657  nmod:poss(dog-2, My-1)\\nnsubj(likes-4, dog-2)\\...  להפוך טקסט לגראף.docx  \n",
       "3664  advmod(received-3, Generally-1)\\nadvmod(receiv...  להפוך טקסט לגראף.docx  "
      ]
     },
     "execution_count": 949,
     "metadata": {},
     "output_type": "execute_result"
    }
   ],
   "source": [
    "sents_df[sents_df['he_sent'].apply(lambda x: '\\n' in  x)]"
   ]
  },
  {
   "cell_type": "code",
   "execution_count": 956,
   "metadata": {},
   "outputs": [
    {
     "data": {
      "text/plain": [
       "['\\n',\n",
       " 'Baby Talk: The 15 Most Common First Words\\n1. Dad (or Dada, Daddy, Papa, etc.)\\n2. Mom (or Mama, Mommy, Mum, etc.)\\n3. Hi (or Hiya, Hey, Heya, Hello)\\n4. Buba (or Bub or Baba)\\n5. Dog (or Doggy, Puppy)\\n6. Ball\\n7. No\\n8. Cat (or Kitty)\\n9. Nana\\n10. Bye\\n11. Duck\\n12. Ta (or Tata)\\n13. Baby\\n14. Uh oh\\n15. Car',\n",
       " 'nmod:poss(dog-2, My-1)\\nnsubj(likes-4, dog-2)\\nadvmod(likes-4, also-3)\\nroot(ROOT-0, likes-4)\\nxcomp(likes-4, eating-5)\\ndobj(eating-5, sausage-6)',\n",
       " \"advmod(received-3, Generally-1)\\nadvmod(received-3, well-2)\\nadvcl(considered-9, received-3)\\ncase(critics-5, by-4)\\nnmod(received-3, critics-5)\\nnsubjpass(considered-9, Outliers-7)\\nauxpass(considered-9, was-8)\\nroot(ROOT-0, considered-9)\\nadvmod(personal-11, more-10)\\nxcomp(considered-9, personal-11)\\ncase(works-16, than-12)\\nnmod:poss(works-16, Gladwell-13)\\ncase(Gladwell-13, 's-14)\\namod(works-16, other-15)\\nnmod(personal-11, works-16)\\ncc(considered-9, and-18)\\ndet(reviews-20, some-19)\\nnsubj(commented-21, reviews-20)\\nconj(considered-9, commented-21)\\nmark(felt-26, on-22)\\nadvmod(much-24, how-23)\\ndep(felt-26, much-24)\\nnsubj(felt-26, Outliers-25)\\nadvcl(commented-21, felt-26)\\ncase(autobiography-29, like-27)\\ndet(autobiography-29, an-28)\\nnmod(felt-26, autobiography-29)\",\n",
       " '\\n']"
      ]
     },
     "execution_count": 956,
     "metadata": {},
     "output_type": "execute_result"
    }
   ],
   "source": [
    "[text for text in texts if '\\n' in text]"
   ]
  },
  {
   "cell_type": "code",
   "execution_count": 1009,
   "metadata": {},
   "outputs": [],
   "source": [
    "vocab_df = pd.DataFrame(list(model.vocab.values()),index=list(model.vocab.keys()))"
   ]
  },
  {
   "cell_type": "code",
   "execution_count": 1011,
   "metadata": {},
   "outputs": [],
   "source": [
    "vocab_df = vocab_df.reset_index()"
   ]
  },
  {
   "cell_type": "code",
   "execution_count": 1020,
   "metadata": {},
   "outputs": [],
   "source": [
    "vocab_df = vocab_df.rename_axis({'index': 'word'}, axis=1)"
   ]
  },
  {
   "cell_type": "code",
   "execution_count": 1033,
   "metadata": {},
   "outputs": [
    {
     "data": {
      "application/vnd.jupyter.widget-view+json": {
       "model_id": "38e3fa217d484cb4ad3c8ea680b9f5a9",
       "version_major": 2,
       "version_minor": 0
      },
      "text/html": [
       "<p>Failed to display Jupyter Widget of type <code>HBox</code>.</p>\n",
       "<p>\n",
       "  If you're reading this message in the Jupyter Notebook or JupyterLab Notebook, it may mean\n",
       "  that the widgets JavaScript is still loading. If this message persists, it\n",
       "  likely means that the widgets JavaScript library is either not installed or\n",
       "  not enabled. See the <a href=\"https://ipywidgets.readthedocs.io/en/stable/user_install.html\">Jupyter\n",
       "  Widgets Documentation</a> for setup instructions.\n",
       "</p>\n",
       "<p>\n",
       "  If you're reading this message in another frontend (for example, a static\n",
       "  rendering on GitHub or <a href=\"https://nbviewer.jupyter.org/\">NBViewer</a>),\n",
       "  it may mean that your frontend doesn't currently support widgets.\n",
       "</p>\n"
      ],
      "text/plain": [
       "HBox(children=(IntProgress(value=1, bar_style='info', max=1), HTML(value='')))"
      ]
     },
     "metadata": {},
     "output_type": "display_data"
    },
    {
     "name": "stdout",
     "output_type": "stream",
     "text": [
      "\n"
     ]
    }
   ],
   "source": [
    "from tqdm import tqdm_notebook as tqdm\n",
    "tqdm().pandas()"
   ]
  },
  {
   "cell_type": "code",
   "execution_count": 1035,
   "metadata": {},
   "outputs": [],
   "source": [
    "# vocab_df.progress_apply(lambda x: model.most_similar(x['word'])[0], axis=1)"
   ]
  },
  {
   "cell_type": "code",
   "execution_count": 1043,
   "metadata": {},
   "outputs": [],
   "source": [
    "topics_df = pd.DataFrame(topics)"
   ]
  },
  {
   "cell_type": "code",
   "execution_count": 1052,
   "metadata": {},
   "outputs": [
    {
     "data": {
      "application/vnd.jupyter.widget-view+json": {
       "model_id": "e22a2473391549fc9faa1c437e4bdc5c",
       "version_major": 2,
       "version_minor": 0
      },
      "text/html": [
       "<p>Failed to display Jupyter Widget of type <code>HBox</code>.</p>\n",
       "<p>\n",
       "  If you're reading this message in the Jupyter Notebook or JupyterLab Notebook, it may mean\n",
       "  that the widgets JavaScript is still loading. If this message persists, it\n",
       "  likely means that the widgets JavaScript library is either not installed or\n",
       "  not enabled. See the <a href=\"https://ipywidgets.readthedocs.io/en/stable/user_install.html\">Jupyter\n",
       "  Widgets Documentation</a> for setup instructions.\n",
       "</p>\n",
       "<p>\n",
       "  If you're reading this message in another frontend (for example, a static\n",
       "  rendering on GitHub or <a href=\"https://nbviewer.jupyter.org/\">NBViewer</a>),\n",
       "  it may mean that your frontend doesn't currently support widgets.\n",
       "</p>\n"
      ],
      "text/plain": [
       "HBox(children=(IntProgress(value=0, max=19), HTML(value='')))"
      ]
     },
     "metadata": {},
     "output_type": "display_data"
    },
    {
     "name": "stderr",
     "output_type": "stream",
     "text": [
      "/Library/Frameworks/Python.framework/Versions/3.6/lib/python3.6/site-packages/gensim/matutils.py:737: FutureWarning: Conversion of the second argument of issubdtype from `int` to `np.signedinteger` is deprecated. In future, it will be treated as `np.int64 == np.dtype(int).type`.\n",
      "  if np.issubdtype(vec.dtype, np.int):\n"
     ]
    }
   ],
   "source": [
    "topics_df['similar'] = topics_df.progress_apply(lambda x: model.most_similar(x[0])[0][0] if x[0] in model.vocab else None, axis=1)"
   ]
  },
  {
   "cell_type": "code",
   "execution_count": 1053,
   "metadata": {},
   "outputs": [
    {
     "data": {
      "text/html": [
       "<div>\n",
       "<table border=\"1\" class=\"dataframe\">\n",
       "  <thead>\n",
       "    <tr style=\"text-align: right;\">\n",
       "      <th></th>\n",
       "      <th>0</th>\n",
       "      <th>similar</th>\n",
       "    </tr>\n",
       "  </thead>\n",
       "  <tbody>\n",
       "    <tr>\n",
       "      <th>0</th>\n",
       "      <td>kaggle</td>\n",
       "      <td>None</td>\n",
       "    </tr>\n",
       "    <tr>\n",
       "      <th>1</th>\n",
       "      <td>apartments</td>\n",
       "      <td>apartment</td>\n",
       "    </tr>\n",
       "    <tr>\n",
       "      <th>2</th>\n",
       "      <td>palestinians</td>\n",
       "      <td>palestinian</td>\n",
       "    </tr>\n",
       "    <tr>\n",
       "      <th>3</th>\n",
       "      <td>emails</td>\n",
       "      <td>e-mails</td>\n",
       "    </tr>\n",
       "    <tr>\n",
       "      <th>4</th>\n",
       "      <td>reproduction</td>\n",
       "      <td>reproductivity</td>\n",
       "    </tr>\n",
       "    <tr>\n",
       "      <th>5</th>\n",
       "      <td>7k</td>\n",
       "      <td>6k</td>\n",
       "    </tr>\n",
       "    <tr>\n",
       "      <th>6</th>\n",
       "      <td>joules</td>\n",
       "      <td>joule</td>\n",
       "    </tr>\n",
       "    <tr>\n",
       "      <th>7</th>\n",
       "      <td>consciousness</td>\n",
       "      <td>subconsciousness</td>\n",
       "    </tr>\n",
       "    <tr>\n",
       "      <th>8</th>\n",
       "      <td>management</td>\n",
       "      <td>managment</td>\n",
       "    </tr>\n",
       "    <tr>\n",
       "      <th>9</th>\n",
       "      <td>machine</td>\n",
       "      <td>machines</td>\n",
       "    </tr>\n",
       "    <tr>\n",
       "      <th>10</th>\n",
       "      <td>gaussian</td>\n",
       "      <td>non-Gaussian</td>\n",
       "    </tr>\n",
       "    <tr>\n",
       "      <th>11</th>\n",
       "      <td>monkey</td>\n",
       "      <td>monkeys</td>\n",
       "    </tr>\n",
       "    <tr>\n",
       "      <th>12</th>\n",
       "      <td>stock</td>\n",
       "      <td>stocks</td>\n",
       "    </tr>\n",
       "    <tr>\n",
       "      <th>13</th>\n",
       "      <td>randomness</td>\n",
       "      <td>non-randomness</td>\n",
       "    </tr>\n",
       "    <tr>\n",
       "      <th>14</th>\n",
       "      <td>investment</td>\n",
       "      <td>investments</td>\n",
       "    </tr>\n",
       "    <tr>\n",
       "      <th>15</th>\n",
       "      <td>taxes</td>\n",
       "      <td>taxation</td>\n",
       "    </tr>\n",
       "    <tr>\n",
       "      <th>16</th>\n",
       "      <td>apartment</td>\n",
       "      <td>apartments</td>\n",
       "    </tr>\n",
       "    <tr>\n",
       "      <th>17</th>\n",
       "      <td>culture</td>\n",
       "      <td>cultures</td>\n",
       "    </tr>\n",
       "    <tr>\n",
       "      <th>18</th>\n",
       "      <td>20k</td>\n",
       "      <td>30k</td>\n",
       "    </tr>\n",
       "  </tbody>\n",
       "</table>\n",
       "</div>"
      ],
      "text/plain": [
       "                0           similar\n",
       "0          kaggle              None\n",
       "1      apartments         apartment\n",
       "2    palestinians       palestinian\n",
       "3          emails           e-mails\n",
       "4    reproduction    reproductivity\n",
       "5              7k                6k\n",
       "6          joules             joule\n",
       "7   consciousness  subconsciousness\n",
       "8      management         managment\n",
       "9         machine          machines\n",
       "10       gaussian      non-Gaussian\n",
       "11         monkey           monkeys\n",
       "12          stock            stocks\n",
       "13     randomness    non-randomness\n",
       "14     investment       investments\n",
       "15          taxes          taxation\n",
       "16      apartment        apartments\n",
       "17        culture          cultures\n",
       "18            20k               30k"
      ]
     },
     "execution_count": 1053,
     "metadata": {},
     "output_type": "execute_result"
    }
   ],
   "source": [
    "topics_df"
   ]
  },
  {
   "cell_type": "code",
   "execution_count": 1054,
   "metadata": {},
   "outputs": [
    {
     "data": {
      "application/vnd.jupyter.widget-view+json": {
       "model_id": "4b3e3cef82b143d3b616fd54b7bf09c1",
       "version_major": 2,
       "version_minor": 0
      },
      "text/html": [
       "<p>Failed to display Jupyter Widget of type <code>HBox</code>.</p>\n",
       "<p>\n",
       "  If you're reading this message in the Jupyter Notebook or JupyterLab Notebook, it may mean\n",
       "  that the widgets JavaScript is still loading. If this message persists, it\n",
       "  likely means that the widgets JavaScript library is either not installed or\n",
       "  not enabled. See the <a href=\"https://ipywidgets.readthedocs.io/en/stable/user_install.html\">Jupyter\n",
       "  Widgets Documentation</a> for setup instructions.\n",
       "</p>\n",
       "<p>\n",
       "  If you're reading this message in another frontend (for example, a static\n",
       "  rendering on GitHub or <a href=\"https://nbviewer.jupyter.org/\">NBViewer</a>),\n",
       "  it may mean that your frontend doesn't currently support widgets.\n",
       "</p>\n"
      ],
      "text/plain": [
       "HBox(children=(IntProgress(value=0, max=19), HTML(value='')))"
      ]
     },
     "metadata": {},
     "output_type": "display_data"
    },
    {
     "name": "stderr",
     "output_type": "stream",
     "text": [
      "/Library/Frameworks/Python.framework/Versions/3.6/lib/python3.6/site-packages/gensim/matutils.py:737: FutureWarning: Conversion of the second argument of issubdtype from `int` to `np.signedinteger` is deprecated. In future, it will be treated as `np.int64 == np.dtype(int).type`.\n",
      "  if np.issubdtype(vec.dtype, np.int):\n"
     ]
    }
   ],
   "source": [
    "topics_df['similar1'] = topics_df.progress_apply(lambda x: model.most_similar(x['similar'])[0][0] if x[0] in model.vocab else None, axis=1)"
   ]
  },
  {
   "cell_type": "code",
   "execution_count": 1056,
   "metadata": {},
   "outputs": [
    {
     "data": {
      "application/vnd.jupyter.widget-view+json": {
       "model_id": "1d26398ed262495a80311483633058f7",
       "version_major": 2,
       "version_minor": 0
      },
      "text/html": [
       "<p>Failed to display Jupyter Widget of type <code>HBox</code>.</p>\n",
       "<p>\n",
       "  If you're reading this message in the Jupyter Notebook or JupyterLab Notebook, it may mean\n",
       "  that the widgets JavaScript is still loading. If this message persists, it\n",
       "  likely means that the widgets JavaScript library is either not installed or\n",
       "  not enabled. See the <a href=\"https://ipywidgets.readthedocs.io/en/stable/user_install.html\">Jupyter\n",
       "  Widgets Documentation</a> for setup instructions.\n",
       "</p>\n",
       "<p>\n",
       "  If you're reading this message in another frontend (for example, a static\n",
       "  rendering on GitHub or <a href=\"https://nbviewer.jupyter.org/\">NBViewer</a>),\n",
       "  it may mean that your frontend doesn't currently support widgets.\n",
       "</p>\n"
      ],
      "text/plain": [
       "HBox(children=(IntProgress(value=0, max=19), HTML(value='')))"
      ]
     },
     "metadata": {},
     "output_type": "display_data"
    },
    {
     "name": "stderr",
     "output_type": "stream",
     "text": [
      "/Library/Frameworks/Python.framework/Versions/3.6/lib/python3.6/site-packages/gensim/matutils.py:737: FutureWarning: Conversion of the second argument of issubdtype from `int` to `np.signedinteger` is deprecated. In future, it will be treated as `np.int64 == np.dtype(int).type`.\n",
      "  if np.issubdtype(vec.dtype, np.int):\n"
     ]
    }
   ],
   "source": [
    "topics_df['similar2'] = topics_df.progress_apply(lambda x: model.most_similar(x['similar1'])[0][0] if x[0] in model.vocab else None, axis=1)"
   ]
  },
  {
   "cell_type": "code",
   "execution_count": 1058,
   "metadata": {},
   "outputs": [
    {
     "data": {
      "application/vnd.jupyter.widget-view+json": {
       "model_id": "0f402804dfb74d789bb5f857c80e31f4",
       "version_major": 2,
       "version_minor": 0
      },
      "text/html": [
       "<p>Failed to display Jupyter Widget of type <code>HBox</code>.</p>\n",
       "<p>\n",
       "  If you're reading this message in the Jupyter Notebook or JupyterLab Notebook, it may mean\n",
       "  that the widgets JavaScript is still loading. If this message persists, it\n",
       "  likely means that the widgets JavaScript library is either not installed or\n",
       "  not enabled. See the <a href=\"https://ipywidgets.readthedocs.io/en/stable/user_install.html\">Jupyter\n",
       "  Widgets Documentation</a> for setup instructions.\n",
       "</p>\n",
       "<p>\n",
       "  If you're reading this message in another frontend (for example, a static\n",
       "  rendering on GitHub or <a href=\"https://nbviewer.jupyter.org/\">NBViewer</a>),\n",
       "  it may mean that your frontend doesn't currently support widgets.\n",
       "</p>\n"
      ],
      "text/plain": [
       "HBox(children=(IntProgress(value=0, max=19), HTML(value='')))"
      ]
     },
     "metadata": {},
     "output_type": "display_data"
    },
    {
     "name": "stderr",
     "output_type": "stream",
     "text": [
      "/Library/Frameworks/Python.framework/Versions/3.6/lib/python3.6/site-packages/gensim/matutils.py:737: FutureWarning: Conversion of the second argument of issubdtype from `int` to `np.signedinteger` is deprecated. In future, it will be treated as `np.int64 == np.dtype(int).type`.\n",
      "  if np.issubdtype(vec.dtype, np.int):\n"
     ]
    }
   ],
   "source": [
    "topics_df['similar3'] = topics_df.progress_apply(lambda x: model.most_similar(x['similar2'])[0][0] if x[0] in model.vocab else None, axis=1)"
   ]
  },
  {
   "cell_type": "code",
   "execution_count": 1059,
   "metadata": {},
   "outputs": [
    {
     "data": {
      "text/html": [
       "<div>\n",
       "<table border=\"1\" class=\"dataframe\">\n",
       "  <thead>\n",
       "    <tr style=\"text-align: right;\">\n",
       "      <th></th>\n",
       "      <th>0</th>\n",
       "      <th>similar</th>\n",
       "      <th>similar1</th>\n",
       "      <th>similar2</th>\n",
       "      <th>similar3</th>\n",
       "    </tr>\n",
       "  </thead>\n",
       "  <tbody>\n",
       "    <tr>\n",
       "      <th>0</th>\n",
       "      <td>kaggle</td>\n",
       "      <td>None</td>\n",
       "      <td>None</td>\n",
       "      <td>None</td>\n",
       "      <td>None</td>\n",
       "    </tr>\n",
       "    <tr>\n",
       "      <th>1</th>\n",
       "      <td>apartments</td>\n",
       "      <td>apartment</td>\n",
       "      <td>apartments</td>\n",
       "      <td>apartment</td>\n",
       "      <td>apartments</td>\n",
       "    </tr>\n",
       "    <tr>\n",
       "      <th>2</th>\n",
       "      <td>palestinians</td>\n",
       "      <td>palestinian</td>\n",
       "      <td>palestinians</td>\n",
       "      <td>palestinian</td>\n",
       "      <td>palestinians</td>\n",
       "    </tr>\n",
       "    <tr>\n",
       "      <th>3</th>\n",
       "      <td>emails</td>\n",
       "      <td>e-mails</td>\n",
       "      <td>emails</td>\n",
       "      <td>e-mails</td>\n",
       "      <td>emails</td>\n",
       "    </tr>\n",
       "    <tr>\n",
       "      <th>4</th>\n",
       "      <td>reproduction</td>\n",
       "      <td>reproductivity</td>\n",
       "      <td>self-reproduction</td>\n",
       "      <td>reproductivity</td>\n",
       "      <td>self-reproduction</td>\n",
       "    </tr>\n",
       "    <tr>\n",
       "      <th>5</th>\n",
       "      <td>7k</td>\n",
       "      <td>6k</td>\n",
       "      <td>7k</td>\n",
       "      <td>6k</td>\n",
       "      <td>7k</td>\n",
       "    </tr>\n",
       "    <tr>\n",
       "      <th>6</th>\n",
       "      <td>joules</td>\n",
       "      <td>joule</td>\n",
       "      <td>joules</td>\n",
       "      <td>joule</td>\n",
       "      <td>joules</td>\n",
       "    </tr>\n",
       "    <tr>\n",
       "      <th>7</th>\n",
       "      <td>consciousness</td>\n",
       "      <td>subconsciousness</td>\n",
       "      <td>consciousness</td>\n",
       "      <td>subconsciousness</td>\n",
       "      <td>consciousness</td>\n",
       "    </tr>\n",
       "    <tr>\n",
       "      <th>8</th>\n",
       "      <td>management</td>\n",
       "      <td>managment</td>\n",
       "      <td>management</td>\n",
       "      <td>managment</td>\n",
       "      <td>management</td>\n",
       "    </tr>\n",
       "    <tr>\n",
       "      <th>9</th>\n",
       "      <td>machine</td>\n",
       "      <td>machines</td>\n",
       "      <td>machine</td>\n",
       "      <td>machines</td>\n",
       "      <td>machine</td>\n",
       "    </tr>\n",
       "    <tr>\n",
       "      <th>10</th>\n",
       "      <td>gaussian</td>\n",
       "      <td>non-Gaussian</td>\n",
       "      <td>gaussian</td>\n",
       "      <td>non-Gaussian</td>\n",
       "      <td>gaussian</td>\n",
       "    </tr>\n",
       "    <tr>\n",
       "      <th>11</th>\n",
       "      <td>monkey</td>\n",
       "      <td>monkeys</td>\n",
       "      <td>monkey</td>\n",
       "      <td>monkeys</td>\n",
       "      <td>monkey</td>\n",
       "    </tr>\n",
       "    <tr>\n",
       "      <th>12</th>\n",
       "      <td>stock</td>\n",
       "      <td>stocks</td>\n",
       "      <td>stock</td>\n",
       "      <td>stocks</td>\n",
       "      <td>stock</td>\n",
       "    </tr>\n",
       "    <tr>\n",
       "      <th>13</th>\n",
       "      <td>randomness</td>\n",
       "      <td>non-randomness</td>\n",
       "      <td>pseudorandomness</td>\n",
       "      <td>non-randomness</td>\n",
       "      <td>pseudorandomness</td>\n",
       "    </tr>\n",
       "    <tr>\n",
       "      <th>14</th>\n",
       "      <td>investment</td>\n",
       "      <td>investments</td>\n",
       "      <td>investment</td>\n",
       "      <td>investments</td>\n",
       "      <td>investment</td>\n",
       "    </tr>\n",
       "    <tr>\n",
       "      <th>15</th>\n",
       "      <td>taxes</td>\n",
       "      <td>taxation</td>\n",
       "      <td>taxes</td>\n",
       "      <td>taxation</td>\n",
       "      <td>taxes</td>\n",
       "    </tr>\n",
       "    <tr>\n",
       "      <th>16</th>\n",
       "      <td>apartment</td>\n",
       "      <td>apartments</td>\n",
       "      <td>apartment</td>\n",
       "      <td>apartments</td>\n",
       "      <td>apartment</td>\n",
       "    </tr>\n",
       "    <tr>\n",
       "      <th>17</th>\n",
       "      <td>culture</td>\n",
       "      <td>cultures</td>\n",
       "      <td>sub-cultures</td>\n",
       "      <td>subcultures</td>\n",
       "      <td>sub-cultures</td>\n",
       "    </tr>\n",
       "    <tr>\n",
       "      <th>18</th>\n",
       "      <td>20k</td>\n",
       "      <td>30k</td>\n",
       "      <td>20k</td>\n",
       "      <td>30k</td>\n",
       "      <td>20k</td>\n",
       "    </tr>\n",
       "  </tbody>\n",
       "</table>\n",
       "</div>"
      ],
      "text/plain": [
       "                0           similar           similar1          similar2  \\\n",
       "0          kaggle              None               None              None   \n",
       "1      apartments         apartment         apartments         apartment   \n",
       "2    palestinians       palestinian       palestinians       palestinian   \n",
       "3          emails           e-mails             emails           e-mails   \n",
       "4    reproduction    reproductivity  self-reproduction    reproductivity   \n",
       "5              7k                6k                 7k                6k   \n",
       "6          joules             joule             joules             joule   \n",
       "7   consciousness  subconsciousness      consciousness  subconsciousness   \n",
       "8      management         managment         management         managment   \n",
       "9         machine          machines            machine          machines   \n",
       "10       gaussian      non-Gaussian           gaussian      non-Gaussian   \n",
       "11         monkey           monkeys             monkey           monkeys   \n",
       "12          stock            stocks              stock            stocks   \n",
       "13     randomness    non-randomness   pseudorandomness    non-randomness   \n",
       "14     investment       investments         investment       investments   \n",
       "15          taxes          taxation              taxes          taxation   \n",
       "16      apartment        apartments          apartment        apartments   \n",
       "17        culture          cultures       sub-cultures       subcultures   \n",
       "18            20k               30k                20k               30k   \n",
       "\n",
       "             similar3  \n",
       "0                None  \n",
       "1          apartments  \n",
       "2        palestinians  \n",
       "3              emails  \n",
       "4   self-reproduction  \n",
       "5                  7k  \n",
       "6              joules  \n",
       "7       consciousness  \n",
       "8          management  \n",
       "9             machine  \n",
       "10           gaussian  \n",
       "11             monkey  \n",
       "12              stock  \n",
       "13   pseudorandomness  \n",
       "14         investment  \n",
       "15              taxes  \n",
       "16          apartment  \n",
       "17       sub-cultures  \n",
       "18                20k  "
      ]
     },
     "execution_count": 1059,
     "metadata": {},
     "output_type": "execute_result"
    }
   ],
   "source": [
    "topics_df"
   ]
  },
  {
   "cell_type": "code",
   "execution_count": 1075,
   "metadata": {},
   "outputs": [
    {
     "name": "stderr",
     "output_type": "stream",
     "text": [
      "/Library/Frameworks/Python.framework/Versions/3.6/lib/python3.6/site-packages/ipykernel_launcher.py:1: DeprecationWarning: Call to deprecated `wv` (Attribute will be removed in 4.0.0, use self instead).\n",
      "  \"\"\"Entry point for launching an IPython kernel.\n",
      "/Library/Frameworks/Python.framework/Versions/3.6/lib/python3.6/site-packages/gensim/matutils.py:737: FutureWarning: Conversion of the second argument of issubdtype from `int` to `np.signedinteger` is deprecated. In future, it will be treated as `np.int64 == np.dtype(int).type`.\n",
      "  if np.issubdtype(vec.dtype, np.int):\n"
     ]
    },
    {
     "data": {
      "text/plain": [
       "[('king', 0.8185327053070068),\n",
       " ('queen', 0.75703364610672),\n",
       " ('queen-mother', 0.6896808743476868),\n",
       " ('king-', 0.6787334680557251),\n",
       " ('queen-consort', 0.6555202007293701),\n",
       " ('monarch', 0.6455856561660767),\n",
       " ('kings', 0.6409086585044861),\n",
       " ('child-king', 0.6346831321716309),\n",
       " ('king-elect', 0.6344363689422607),\n",
       " ('boy-king', 0.630662739276886)]"
      ]
     },
     "execution_count": 1075,
     "metadata": {},
     "output_type": "execute_result"
    }
   ],
   "source": [
    "model.similar_by_vector(model.wv['king'] - model.wv['man'] + model.wv['woman'])"
   ]
  },
  {
   "cell_type": "code",
   "execution_count": 1087,
   "metadata": {},
   "outputs": [
    {
     "name": "stderr",
     "output_type": "stream",
     "text": [
      "/Library/Frameworks/Python.framework/Versions/3.6/lib/python3.6/site-packages/gensim/matutils.py:737: FutureWarning: Conversion of the second argument of issubdtype from `int` to `np.signedinteger` is deprecated. In future, it will be treated as `np.int64 == np.dtype(int).type`.\n",
      "  if np.issubdtype(vec.dtype, np.int):\n"
     ]
    },
    {
     "data": {
      "text/plain": [
       "[('animal-', 0.8048739433288574),\n",
       " ('animals', 0.7860171794891357),\n",
       " ('wild-animal', 0.775835394859314),\n",
       " ('non-animal', 0.7738642692565918),\n",
       " ('food-animal', 0.7734631896018982),\n",
       " ('animal-human', 0.7691841721534729),\n",
       " ('man-animal', 0.7625933289527893),\n",
       " ('animal-care', 0.7621268033981323),\n",
       " ('animal-related', 0.7604922652244568),\n",
       " ('animal.', 0.748680055141449)]"
      ]
     },
     "execution_count": 1087,
     "metadata": {},
     "output_type": "execute_result"
    }
   ],
   "source": [
    "model.most_similar('animal')"
   ]
  },
  {
   "cell_type": "code",
   "execution_count": 1089,
   "metadata": {},
   "outputs": [],
   "source": [
    "sents_df.to_csv('data/sents.csv')"
   ]
  },
  {
   "cell_type": "code",
   "execution_count": 1093,
   "metadata": {},
   "outputs": [
    {
     "data": {
      "text/plain": [
       "[('investment', 181),\n",
       " ('taxes', 155),\n",
       " ('machine', 141),\n",
       " ('management', 118),\n",
       " ('culture', 105),\n",
       " ('consciousness', 93),\n",
       " ('joules', 82),\n",
       " ('stock', 70),\n",
       " ('gaussian', 67),\n",
       " ('apartments', 65),\n",
       " ('apartment', 49),\n",
       " ('reproduction', 38),\n",
       " ('randomness', 33),\n",
       " ('monkey', 21),\n",
       " ('20k', 17),\n",
       " ('kaggle', 9),\n",
       " ('emails', 7),\n",
       " ('palestinians', 6)]"
      ]
     },
     "execution_count": 1093,
     "metadata": {},
     "output_type": "execute_result"
    }
   ],
   "source": [
    "collections.Counter([w for words in list(sents_df['words']) for w in words]).most_common()"
   ]
  },
  {
   "cell_type": "code",
   "execution_count": null,
   "metadata": {},
   "outputs": [],
   "source": []
  }
 ],
 "metadata": {
  "kernelspec": {
   "display_name": "conda_pytorch_p36",
   "language": "python",
   "name": "conda_pytorch_p36"
  },
  "language_info": {
   "codemirror_mode": {
    "name": "ipython",
    "version": 3
   },
   "file_extension": ".py",
   "mimetype": "text/x-python",
   "name": "python",
   "nbconvert_exporter": "python",
   "pygments_lexer": "ipython3",
   "version": "3.6.13"
  }
 },
 "nbformat": 4,
 "nbformat_minor": 2
}
