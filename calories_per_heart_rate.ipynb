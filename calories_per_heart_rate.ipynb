{
 "cells": [
  {
   "cell_type": "code",
   "execution_count": 64,
   "id": "5bfc4e74-3ae7-4bf2-83dd-cd5310b1d99c",
   "metadata": {},
   "outputs": [],
   "source": [
    "Age = 39\n",
    "Weight = 78\n",
    "VO2max = 47\n",
    "Heart_Rate = 60"
   ]
  },
  {
   "cell_type": "code",
   "execution_count": 44,
   "id": "e9733b37-d6e3-4e76-9414-b8e4155ee6b9",
   "metadata": {},
   "outputs": [],
   "source": [
    "cpm = (-95.7735 + (0.271 * Age) + (0.394 * Weight) + (0.404 * VO2max) + (0.634 * Heart_Rate))/4.184"
   ]
  },
  {
   "cell_type": "code",
   "execution_count": null,
   "id": "6de51be4-d4da-49b1-9bef-833649d6e242",
   "metadata": {},
   "outputs": [],
   "source": []
  },
  {
   "cell_type": "code",
   "execution_count": 65,
   "id": "f1546582-0748-47f0-b301-787775f19573",
   "metadata": {},
   "outputs": [],
   "source": [
    "cpm = (-22.89 + (0.065 * Age) + (0.094 * Weight) + (0.096 * VO2max) + (0.151 * Heart_Rate))"
   ]
  },
  {
   "cell_type": "code",
   "execution_count": 66,
   "id": "30f09afa-d51e-454a-8dc7-a334d08a1b05",
   "metadata": {},
   "outputs": [
    {
     "data": {
      "text/plain": [
       "0.5490000000000013"
      ]
     },
     "execution_count": 66,
     "metadata": {},
     "output_type": "execute_result"
    }
   ],
   "source": [
    "cpm"
   ]
  },
  {
   "cell_type": "code",
   "execution_count": 60,
   "id": "24ac4d5b-677e-45f8-a290-44813d3d3ba5",
   "metadata": {},
   "outputs": [
    {
     "data": {
      "text/plain": [
       "-56.36423841059602"
      ]
     },
     "execution_count": 60,
     "metadata": {},
     "output_type": "execute_result"
    }
   ],
   "source": [
    "cpm/0.151"
   ]
  },
  {
   "cell_type": "code",
   "execution_count": 67,
   "id": "4f8e41d5-5091-4f6d-9211-081948dd3aa0",
   "metadata": {},
   "outputs": [
    {
     "data": {
      "text/plain": [
       "32.940000000000076"
      ]
     },
     "execution_count": 67,
     "metadata": {},
     "output_type": "execute_result"
    }
   ],
   "source": [
    "cpm*60"
   ]
  },
  {
   "cell_type": "code",
   "execution_count": 68,
   "id": "500fb68e-680f-4f79-a433-70dcb862a933",
   "metadata": {},
   "outputs": [
    {
     "data": {
      "text/plain": [
       "790.5600000000018"
      ]
     },
     "execution_count": 68,
     "metadata": {},
     "output_type": "execute_result"
    }
   ],
   "source": [
    "cpm*60*24"
   ]
  },
  {
   "cell_type": "code",
   "execution_count": null,
   "id": "3308d457-e45d-4b23-b800-5585a8edaa63",
   "metadata": {},
   "outputs": [],
   "source": []
  }
 ],
 "metadata": {
  "kernelspec": {
   "display_name": "Python 3 (ipykernel)",
   "language": "python",
   "name": "python3"
  },
  "language_info": {
   "codemirror_mode": {
    "name": "ipython",
    "version": 3
   },
   "file_extension": ".py",
   "mimetype": "text/x-python",
   "name": "python",
   "nbconvert_exporter": "python",
   "pygments_lexer": "ipython3",
   "version": "3.10.13"
  }
 },
 "nbformat": 4,
 "nbformat_minor": 5
}
